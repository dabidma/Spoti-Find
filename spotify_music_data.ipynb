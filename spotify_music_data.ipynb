{
 "cells": [
  {
   "cell_type": "code",
   "execution_count": 1,
   "id": "fcc5d053-5597-4982-9ad1-eed54ba7e9bd",
   "metadata": {},
   "outputs": [
    {
     "data": {
      "text/plain": [
       "True"
      ]
     },
     "execution_count": 1,
     "metadata": {},
     "output_type": "execute_result"
    }
   ],
   "source": [
    "import spotipy\n",
    "import spotipy.util as util\n",
    "import pandas as pd\n",
    "import os\n",
    "from spotipy.oauth2 import SpotifyClientCredentials\n",
    "from dotenv import load_dotenv\n",
    "\n",
    "load_dotenv()"
   ]
  },
  {
   "cell_type": "code",
   "execution_count": 2,
   "id": "4455c3a7-7d01-4a58-bcfd-492f15d8f702",
   "metadata": {},
   "outputs": [],
   "source": [
    "CLIENT_ID = os.getenv('CLIENT_ID')\n",
    "CLIENT_SECRET = os.getenv('CLIENT_SECRET')"
   ]
  },
  {
   "cell_type": "code",
   "execution_count": 3,
   "id": "98aef664",
   "metadata": {},
   "outputs": [],
   "source": [
    "client_credentials_manager = SpotifyClientCredentials(client_id=CLIENT_ID, client_secret=CLIENT_SECRET)\n",
    "sp = spotipy.Spotify(client_credentials_manager=client_credentials_manager)"
   ]
  },
  {
   "cell_type": "code",
   "execution_count": 4,
   "id": "23eddb46",
   "metadata": {},
   "outputs": [
    {
     "name": "stdout",
     "output_type": "stream",
     "text": [
      "<spotipy.client.Spotify object at 0x000001EB0BEE5A10>\n"
     ]
    }
   ],
   "source": [
    "print(sp)"
   ]
  },
  {
   "cell_type": "code",
   "execution_count": 5,
   "id": "2e7f74f2",
   "metadata": {},
   "outputs": [],
   "source": [
    "playlists_uris = []"
   ]
  },
  {
   "cell_type": "code",
   "execution_count": 6,
   "id": "c64abd6a",
   "metadata": {},
   "outputs": [],
   "source": [
    "def playlists(link):\n",
    "    playlist_URI = link.split(\"/\")[-1]\n",
    "    return playlist_URI"
   ]
  },
  {
   "cell_type": "code",
   "execution_count": 7,
   "id": "9276f0a0",
   "metadata": {},
   "outputs": [],
   "source": [
    "playlists_uris.append(playlists('https://open.spotify.com/playlist/1G8IpkZKobrIlXcVPoSIuf'))"
   ]
  },
  {
   "cell_type": "code",
   "execution_count": 8,
   "id": "d0d0dc17",
   "metadata": {},
   "outputs": [],
   "source": [
    "song_info = []"
   ]
  },
  {
   "cell_type": "code",
   "execution_count": 9,
   "id": "63959959",
   "metadata": {},
   "outputs": [
    {
     "name": "stdout",
     "output_type": "stream",
     "text": [
      "Young Heart\n",
      "Beautiful Lies\n",
      "Beautiful Lies\n",
      "Beautiful Lies (Deluxe)\n",
      "Beautiful Lies (Deluxe)\n",
      "Fire Within\n",
      "Fire Within\n",
      "Fire Within (Deluxe)\n",
      "Fire Within (Deluxe)\n",
      "Fire Within (Deluxe)\n",
      "Live in London\n",
      "Birdy\n",
      "Birdy\n",
      "Birdy\n",
      "Birdy\n",
      "Birdy (Deluxe Version)\n"
     ]
    }
   ],
   "source": [
    "birdy_uri = 'spotify:artist:2WX2uTcsvV5OnS0inACecP'\n",
    "\n",
    "\n",
    "results = sp.artist_albums(birdy_uri, album_type='album')\n",
    "albums = results['items']\n",
    "while results['next']:\n",
    "    results = sp.next(results)\n",
    "    albums.extend(results['items'])\n",
    "\n",
    "for album in albums:\n",
    "    print(album['name'])"
   ]
  },
  {
   "cell_type": "code",
   "execution_count": 8,
   "id": "4f7bb5cf",
   "metadata": {},
   "outputs": [],
   "source": [
    "for track in sp.playlist_tracks('1G8IpkZKobrIlXcVPoSIuf')[\"items\"]:\n",
    "    #URI\n",
    "    track_uri = track[\"track\"][\"uri\"]\n",
    "    \n",
    "    #Track name\n",
    "    track_name = track[\"track\"][\"name\"]\n",
    "    \n",
    "    #Main Artist\n",
    "    artist_uri = track[\"track\"][\"artists\"][0][\"uri\"]\n",
    "    artist_info = sp.artist(artist_uri)\n",
    "    \n",
    "    #Name, popularity, genre\n",
    "    artist_name = track[\"track\"][\"artists\"][0][\"name\"]\n",
    "    artist_pop = artist_info[\"popularity\"]\n",
    "    artist_genres = artist_info[\"genres\"]\n",
    "    \n",
    "    #Album\n",
    "    album = track[\"track\"][\"album\"][\"name\"]\n",
    "    \n",
    "    #Popularity of the track\n",
    "    track_pop = track[\"track\"][\"popularity\"]\n",
    "\n",
    "    track_features = sp.audio_features(track_uri)[0]\n",
    "\n",
    "    track_features['song_name'] = track_name\n",
    "    track_features['artist_name'] = artist_name\n",
    "    track_features['artist_genres'] = artist_info[\"genres\"]\n",
    "    track_features['artist_pop'] = artist_info[\"popularity\"]\n",
    "    track_features['song_popularity'] = track_pop\n",
    "    \n",
    "    song_info.append(track_features)\n",
    "    break\n",
    "    "
   ]
  },
  {
   "cell_type": "code",
   "execution_count": 22,
   "id": "7932cb6b",
   "metadata": {},
   "outputs": [
    {
     "data": {
      "text/plain": [
       "{'danceability': 0.413,\n",
       " 'energy': 0.85,\n",
       " 'key': 2,\n",
       " 'loudness': -5.593,\n",
       " 'mode': 1,\n",
       " 'speechiness': 0.0362,\n",
       " 'acousticness': 0.00228,\n",
       " 'instrumentalness': 0,\n",
       " 'liveness': 0.124,\n",
       " 'valence': 0.481,\n",
       " 'tempo': 174.423,\n",
       " 'type': 'audio_features',\n",
       " 'id': '5bj4hb0QYTs44PDiwbI5CS',\n",
       " 'uri': 'spotify:track:5bj4hb0QYTs44PDiwbI5CS',\n",
       " 'track_href': 'https://api.spotify.com/v1/tracks/5bj4hb0QYTs44PDiwbI5CS',\n",
       " 'analysis_url': 'https://api.spotify.com/v1/audio-analysis/5bj4hb0QYTs44PDiwbI5CS',\n",
       " 'duration_ms': 258907,\n",
       " 'time_signature': 4}"
      ]
     },
     "execution_count": 22,
     "metadata": {},
     "output_type": "execute_result"
    }
   ],
   "source": [
    "sp.audio_features(track_uri)[0]"
   ]
  },
  {
   "cell_type": "code",
   "execution_count": 36,
   "id": "03f73fb3",
   "metadata": {},
   "outputs": [
    {
     "data": {
      "text/plain": [
       "100"
      ]
     },
     "execution_count": 36,
     "metadata": {},
     "output_type": "execute_result"
    }
   ],
   "source": [
    "len(sp.playlist_tracks('1G8IpkZKobrIlXcVPoSIuf',offset= 100)['items'])"
   ]
  },
  {
   "cell_type": "code",
   "execution_count": 38,
   "id": "66608ba7",
   "metadata": {},
   "outputs": [
    {
     "name": "stdout",
     "output_type": "stream",
     "text": [
      "Like a Rolling Stone\n"
     ]
    }
   ],
   "source": [
    "print(song_info[0]['song_name'])"
   ]
  },
  {
   "cell_type": "code",
   "execution_count": 10,
   "id": "e31bf32f",
   "metadata": {},
   "outputs": [],
   "source": [
    "test_song_info = []"
   ]
  },
  {
   "cell_type": "code",
   "execution_count": 11,
   "id": "c10eaad9",
   "metadata": {},
   "outputs": [],
   "source": [
    "import time"
   ]
  },
  {
   "cell_type": "code",
   "execution_count": 12,
   "id": "4aa80ed2",
   "metadata": {},
   "outputs": [
    {
     "name": "stdout",
     "output_type": "stream",
     "text": [
      "100\n",
      "200\n",
      "300\n",
      "400\n",
      "499\n",
      "599\n",
      "699\n",
      "799\n",
      "899\n",
      "999\n",
      "1099\n"
     ]
    }
   ],
   "source": [
    "\n",
    "x = 0\n",
    "test = 200\n",
    "a = True\n",
    "while a == True:\n",
    "    \n",
    "    if len(test_song_info) < 1000:\n",
    "        \n",
    "        for track in sp.playlist_tracks('1G8IpkZKobrIlXcVPoSIuf', offset= x)[\"items\"]:\n",
    "            try:\n",
    "            #URI\n",
    "                track_uri = track[\"track\"][\"uri\"]\n",
    "                \n",
    "                #Track name\n",
    "                track_name = track[\"track\"][\"name\"]\n",
    "                \n",
    "                #Main Artist\n",
    "                artist_uri = track[\"track\"][\"artists\"][0][\"uri\"]\n",
    "                artist_info = sp.artist(artist_uri)\n",
    "                \n",
    "                #Name, popularity, genre\n",
    "                artist_name = track[\"track\"][\"artists\"][0][\"name\"]\n",
    "                artist_pop = artist_info[\"popularity\"]\n",
    "                artist_genres = artist_info[\"genres\"]\n",
    "                \n",
    "                #Album\n",
    "                album = track[\"track\"][\"album\"][\"name\"]\n",
    "                \n",
    "                #Popularity of the track\n",
    "                track_pop = track[\"track\"][\"popularity\"]\n",
    "\n",
    "                track_features = sp.audio_features(track_uri)[0]\n",
    "\n",
    "                track_features['song_name'] = track_name\n",
    "                track_features['artist_name'] = artist_name\n",
    "                track_features['artist_genres'] = artist_info[\"genres\"]\n",
    "                track_features['artist_pop'] = artist_info[\"popularity\"]\n",
    "                track_features['song_popularity'] = track_pop\n",
    "                \n",
    "                test_song_info.append(track_features)\n",
    "                \n",
    "            \n",
    "        \n",
    "            except:\n",
    "                next\n",
    "        print(len(test_song_info))\n",
    "        x += 100\n",
    "        time.sleep(30)\n",
    "    else:\n",
    "        a = False\n",
    "    "
   ]
  },
  {
   "cell_type": "code",
   "execution_count": 14,
   "id": "f8637b4a",
   "metadata": {},
   "outputs": [],
   "source": [
    "sample_df = pd.DataFrame(test_song_info)\n",
    "sample_df.to_csv('./data/sample_music')"
   ]
  },
  {
   "cell_type": "code",
   "execution_count": null,
   "id": "7896c310",
   "metadata": {},
   "outputs": [],
   "source": []
  }
 ],
 "metadata": {
  "kernelspec": {
   "display_name": "Python 3.11.0 64-bit",
   "language": "python",
   "name": "python3"
  },
  "language_info": {
   "codemirror_mode": {
    "name": "ipython",
    "version": 3
   },
   "file_extension": ".py",
   "mimetype": "text/x-python",
   "name": "python",
   "nbconvert_exporter": "python",
   "pygments_lexer": "ipython3",
   "version": "3.11.0"
  },
  "vscode": {
   "interpreter": {
    "hash": "c261aea317cc0286b3b3261fbba9abdec21eaa57589985bb7a274bf54d6cc0a7"
   }
  }
 },
 "nbformat": 4,
 "nbformat_minor": 5
}
