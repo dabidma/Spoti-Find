{
 "cells": [
  {
   "cell_type": "code",
   "execution_count": 1,
   "id": "fcc5d053-5597-4982-9ad1-eed54ba7e9bd",
   "metadata": {},
   "outputs": [
    {
     "data": {
      "text/plain": [
       "True"
      ]
     },
     "execution_count": 1,
     "metadata": {},
     "output_type": "execute_result"
    }
   ],
   "source": [
    "import spotipy\n",
    "import spotipy.util as util\n",
    "import pandas as pd\n",
    "import os\n",
    "from spotipy.oauth2 import SpotifyClientCredentials\n",
    "from dotenv import load_dotenv\n",
    "\n",
    "load_dotenv()"
   ]
  },
  {
   "cell_type": "code",
   "execution_count": 2,
   "id": "4455c3a7-7d01-4a58-bcfd-492f15d8f702",
   "metadata": {},
   "outputs": [],
   "source": [
    "CLIENT_ID = os.getenv('CLIENT_ID')\n",
    "CLIENT_SECRET = os.getenv('CLIENT_SECRET')"
   ]
  },
  {
   "cell_type": "code",
   "execution_count": 3,
   "id": "98aef664",
   "metadata": {},
   "outputs": [],
   "source": [
    "client_credentials_manager = SpotifyClientCredentials(client_id=CLIENT_ID, client_secret=CLIENT_SECRET)\n",
    "sp = spotipy.Spotify(client_credentials_manager=client_credentials_manager)"
   ]
  },
  {
   "cell_type": "code",
   "execution_count": 4,
   "id": "2e7f74f2",
   "metadata": {},
   "outputs": [],
   "source": [
    "playlists_uris = []"
   ]
  },
  {
   "cell_type": "code",
   "execution_count": 5,
   "id": "c64abd6a",
   "metadata": {},
   "outputs": [],
   "source": [
    "def playlists(link):\n",
    "    playlist_URI = link.split(\"/\")[-1]\n",
    "    try:\n",
    "        playlist_URI = playlist_URI.split(\"?\")[0].strip()\n",
    "        return playlist_URI\n",
    "    except:\n",
    "        return playlist_URI"
   ]
  },
  {
   "cell_type": "code",
   "execution_count": 6,
   "id": "9276f0a0",
   "metadata": {},
   "outputs": [
    {
     "name": "stdout",
     "output_type": "stream",
     "text": [
      "['1G8IpkZKobrIlXcVPoSIuf', '3ONtdDxw2cKFg0hfEdwSCa', '37i9dQZF1DXcBWIGoYBM5M', '31ymdYCITDnZRtkKzP3Itp', '37i9dQZF1DX5hHfOi73rY3', '37i9dQZF1DXa71eg5j9dKZ', '37i9dQZF1DWSvKsRPPnv5o', '37i9dQZF1DXcDoDDetPsEg']\n"
     ]
    }
   ],
   "source": [
    "with open('./data/spotify_playlists/playlist_links.txt') as links:\n",
    "    for line in links:\n",
    "        playlists_uris.append(playlists(line))\n",
    "\n",
    "print(playlists_uris)"
   ]
  },
  {
   "cell_type": "code",
   "execution_count": 7,
   "id": "d0d0dc17",
   "metadata": {},
   "outputs": [],
   "source": [
    "song_info = []"
   ]
  },
  {
   "cell_type": "code",
   "execution_count": 8,
   "id": "c10eaad9",
   "metadata": {},
   "outputs": [],
   "source": [
    "import time"
   ]
  },
  {
   "cell_type": "code",
   "execution_count": 13,
   "id": "4aa80ed2",
   "metadata": {},
   "outputs": [
    {
     "name": "stdout",
     "output_type": "stream",
     "text": [
      "1G8IpkZKobrIlXcVPoSIuf\n",
      "705\n",
      "3ONtdDxw2cKFg0hfEdwSCa\n",
      "805\n",
      "37i9dQZF1DXcBWIGoYBM5M\n",
      "855\n",
      "31ymdYCITDnZRtkKzP3Itp\n",
      "955\n",
      "37i9dQZF1DX5hHfOi73rY3\n",
      "1005\n",
      "37i9dQZF1DXa71eg5j9dKZ\n",
      "1105\n",
      "37i9dQZF1DWSvKsRPPnv5o\n",
      "1155\n",
      "37i9dQZF1DXcDoDDetPsEg\n",
      "1210\n",
      "done\n"
     ]
    }
   ],
   "source": [
    "x = 0    \n",
    "for uri in playlists_uris:\n",
    "    print(uri)\n",
    "    for track in sp.playlist_tracks(uri, offset= x)[\"items\"]:\n",
    "        try:\n",
    "        #URI\n",
    "            track_uri = track[\"track\"][\"uri\"]\n",
    "            \n",
    "            #Track name\n",
    "            track_name = track[\"track\"][\"name\"]\n",
    "            \n",
    "            #Main Artist\n",
    "            artist_uri = track[\"track\"][\"artists\"][0][\"uri\"]\n",
    "            artist_info = sp.artist(artist_uri)\n",
    "            \n",
    "            #Name, popularity, genre\n",
    "            artist_name = track[\"track\"][\"artists\"][0][\"name\"]\n",
    "            artist_pop = artist_info[\"popularity\"]\n",
    "            artist_genres = artist_info[\"genres\"]\n",
    "            \n",
    "            #Album\n",
    "            album = track[\"track\"][\"album\"][\"name\"]\n",
    "            \n",
    "            #Popularity of the track\n",
    "            track_pop = track[\"track\"][\"popularity\"]\n",
    "\n",
    "            track_features = sp.audio_features(track_uri)[0]\n",
    "\n",
    "            track_features['song_name'] = track_name\n",
    "            track_features['artist_name'] = artist_name\n",
    "            track_features['artist_genres'] = artist_info[\"genres\"]\n",
    "            track_features['artist_pop'] = artist_info[\"popularity\"]\n",
    "            # track_features['song_popularity'] = track_pop\n",
    "            \n",
    "            song_info.append(track_features)\n",
    "            \n",
    "        \n",
    "\n",
    "        except:\n",
    "            next\n",
    "    print(len(song_info))\n",
    "    x += 100\n",
    "    time.sleep(30)\n",
    "\n",
    "print('done')"
   ]
  },
  {
   "cell_type": "code",
   "execution_count": 10,
   "id": "710e7cf7",
   "metadata": {},
   "outputs": [
    {
     "name": "stdout",
     "output_type": "stream",
     "text": [
      "605\n"
     ]
    }
   ],
   "source": [
    "print(len(song_info))"
   ]
  },
  {
   "cell_type": "code",
   "execution_count": 11,
   "id": "f8637b4a",
   "metadata": {},
   "outputs": [],
   "source": [
    "data = pd.DataFrame(song_info)\n",
    "data.to_csv('./data/music_data')"
   ]
  },
  {
   "cell_type": "code",
   "execution_count": 12,
   "id": "7896c310",
   "metadata": {},
   "outputs": [
    {
     "data": {
      "text/html": [
       "<div>\n",
       "<style scoped>\n",
       "    .dataframe tbody tr th:only-of-type {\n",
       "        vertical-align: middle;\n",
       "    }\n",
       "\n",
       "    .dataframe tbody tr th {\n",
       "        vertical-align: top;\n",
       "    }\n",
       "\n",
       "    .dataframe thead th {\n",
       "        text-align: right;\n",
       "    }\n",
       "</style>\n",
       "<table border=\"1\" class=\"dataframe\">\n",
       "  <thead>\n",
       "    <tr style=\"text-align: right;\">\n",
       "      <th></th>\n",
       "      <th>danceability</th>\n",
       "      <th>energy</th>\n",
       "      <th>key</th>\n",
       "      <th>loudness</th>\n",
       "      <th>mode</th>\n",
       "      <th>speechiness</th>\n",
       "      <th>acousticness</th>\n",
       "      <th>instrumentalness</th>\n",
       "      <th>liveness</th>\n",
       "      <th>valence</th>\n",
       "      <th>...</th>\n",
       "      <th>id</th>\n",
       "      <th>uri</th>\n",
       "      <th>track_href</th>\n",
       "      <th>analysis_url</th>\n",
       "      <th>duration_ms</th>\n",
       "      <th>time_signature</th>\n",
       "      <th>song_name</th>\n",
       "      <th>artist_name</th>\n",
       "      <th>artist_genres</th>\n",
       "      <th>artist_pop</th>\n",
       "    </tr>\n",
       "  </thead>\n",
       "  <tbody>\n",
       "    <tr>\n",
       "      <th>0</th>\n",
       "      <td>0.482</td>\n",
       "      <td>0.721</td>\n",
       "      <td>0</td>\n",
       "      <td>-6.839</td>\n",
       "      <td>1</td>\n",
       "      <td>0.0321</td>\n",
       "      <td>0.731000</td>\n",
       "      <td>0.000000</td>\n",
       "      <td>0.1890</td>\n",
       "      <td>0.557</td>\n",
       "      <td>...</td>\n",
       "      <td>3AhXZa8sUQht0UEdBJgpGc</td>\n",
       "      <td>spotify:track:3AhXZa8sUQht0UEdBJgpGc</td>\n",
       "      <td>https://api.spotify.com/v1/tracks/3AhXZa8sUQht...</td>\n",
       "      <td>https://api.spotify.com/v1/audio-analysis/3AhX...</td>\n",
       "      <td>369600</td>\n",
       "      <td>4</td>\n",
       "      <td>Like a Rolling Stone</td>\n",
       "      <td>Bob Dylan</td>\n",
       "      <td>[classic rock, country rock, folk, folk rock, ...</td>\n",
       "      <td>72</td>\n",
       "    </tr>\n",
       "    <tr>\n",
       "      <th>1</th>\n",
       "      <td>0.485</td>\n",
       "      <td>0.863</td>\n",
       "      <td>1</td>\n",
       "      <td>-9.027</td>\n",
       "      <td>1</td>\n",
       "      <td>0.0495</td>\n",
       "      <td>0.000012</td>\n",
       "      <td>0.016200</td>\n",
       "      <td>0.1380</td>\n",
       "      <td>0.767</td>\n",
       "      <td>...</td>\n",
       "      <td>3oTlkzk1OtrhH8wBAduVEi</td>\n",
       "      <td>spotify:track:3oTlkzk1OtrhH8wBAduVEi</td>\n",
       "      <td>https://api.spotify.com/v1/tracks/3oTlkzk1Otrh...</td>\n",
       "      <td>https://api.spotify.com/v1/audio-analysis/3oTl...</td>\n",
       "      <td>300977</td>\n",
       "      <td>4</td>\n",
       "      <td>Smells Like Teen Spirit</td>\n",
       "      <td>Nirvana</td>\n",
       "      <td>[grunge, permanent wave, rock]</td>\n",
       "      <td>82</td>\n",
       "    </tr>\n",
       "    <tr>\n",
       "      <th>2</th>\n",
       "      <td>0.364</td>\n",
       "      <td>0.457</td>\n",
       "      <td>4</td>\n",
       "      <td>-14.162</td>\n",
       "      <td>0</td>\n",
       "      <td>0.0675</td>\n",
       "      <td>0.290000</td>\n",
       "      <td>0.000106</td>\n",
       "      <td>0.9220</td>\n",
       "      <td>0.175</td>\n",
       "      <td>...</td>\n",
       "      <td>3ZFBeIyP41HhnALjxWy1pR</td>\n",
       "      <td>spotify:track:3ZFBeIyP41HhnALjxWy1pR</td>\n",
       "      <td>https://api.spotify.com/v1/tracks/3ZFBeIyP41Hh...</td>\n",
       "      <td>https://api.spotify.com/v1/audio-analysis/3ZFB...</td>\n",
       "      <td>337413</td>\n",
       "      <td>4</td>\n",
       "      <td>A Day In The Life - Remastered</td>\n",
       "      <td>The Beatles</td>\n",
       "      <td>[beatlesque, british invasion, classic rock, m...</td>\n",
       "      <td>84</td>\n",
       "    </tr>\n",
       "    <tr>\n",
       "      <th>3</th>\n",
       "      <td>0.398</td>\n",
       "      <td>0.413</td>\n",
       "      <td>1</td>\n",
       "      <td>-10.934</td>\n",
       "      <td>1</td>\n",
       "      <td>0.0388</td>\n",
       "      <td>0.082200</td>\n",
       "      <td>0.000025</td>\n",
       "      <td>0.0891</td>\n",
       "      <td>0.331</td>\n",
       "      <td>...</td>\n",
       "      <td>5Qt4Cc66g24QWwGP3YYV9y</td>\n",
       "      <td>spotify:track:5Qt4Cc66g24QWwGP3YYV9y</td>\n",
       "      <td>https://api.spotify.com/v1/tracks/5Qt4Cc66g24Q...</td>\n",
       "      <td>https://api.spotify.com/v1/audio-analysis/5Qt4...</td>\n",
       "      <td>219147</td>\n",
       "      <td>4</td>\n",
       "      <td>Good Vibrations (Mono)</td>\n",
       "      <td>The Beach Boys</td>\n",
       "      <td>[adult standards, baroque pop, classic rock, p...</td>\n",
       "      <td>77</td>\n",
       "    </tr>\n",
       "    <tr>\n",
       "      <th>4</th>\n",
       "      <td>0.518</td>\n",
       "      <td>0.756</td>\n",
       "      <td>10</td>\n",
       "      <td>-10.851</td>\n",
       "      <td>1</td>\n",
       "      <td>0.0915</td>\n",
       "      <td>0.735000</td>\n",
       "      <td>0.000062</td>\n",
       "      <td>0.3170</td>\n",
       "      <td>0.968</td>\n",
       "      <td>...</td>\n",
       "      <td>7MH2ZclofPlTrZOkPzZKhK</td>\n",
       "      <td>spotify:track:7MH2ZclofPlTrZOkPzZKhK</td>\n",
       "      <td>https://api.spotify.com/v1/tracks/7MH2ZclofPlT...</td>\n",
       "      <td>https://api.spotify.com/v1/audio-analysis/7MH2...</td>\n",
       "      <td>160893</td>\n",
       "      <td>4</td>\n",
       "      <td>Johnny B Goode</td>\n",
       "      <td>Chuck Berry</td>\n",
       "      <td>[classic rock, rock, rock-and-roll, rockabilly]</td>\n",
       "      <td>74</td>\n",
       "    </tr>\n",
       "  </tbody>\n",
       "</table>\n",
       "<p>5 rows × 22 columns</p>\n",
       "</div>"
      ],
      "text/plain": [
       "   danceability  energy  key  loudness  mode  speechiness  acousticness  \\\n",
       "0         0.482   0.721    0    -6.839     1       0.0321      0.731000   \n",
       "1         0.485   0.863    1    -9.027     1       0.0495      0.000012   \n",
       "2         0.364   0.457    4   -14.162     0       0.0675      0.290000   \n",
       "3         0.398   0.413    1   -10.934     1       0.0388      0.082200   \n",
       "4         0.518   0.756   10   -10.851     1       0.0915      0.735000   \n",
       "\n",
       "   instrumentalness  liveness  valence  ...                      id  \\\n",
       "0          0.000000    0.1890    0.557  ...  3AhXZa8sUQht0UEdBJgpGc   \n",
       "1          0.016200    0.1380    0.767  ...  3oTlkzk1OtrhH8wBAduVEi   \n",
       "2          0.000106    0.9220    0.175  ...  3ZFBeIyP41HhnALjxWy1pR   \n",
       "3          0.000025    0.0891    0.331  ...  5Qt4Cc66g24QWwGP3YYV9y   \n",
       "4          0.000062    0.3170    0.968  ...  7MH2ZclofPlTrZOkPzZKhK   \n",
       "\n",
       "                                    uri  \\\n",
       "0  spotify:track:3AhXZa8sUQht0UEdBJgpGc   \n",
       "1  spotify:track:3oTlkzk1OtrhH8wBAduVEi   \n",
       "2  spotify:track:3ZFBeIyP41HhnALjxWy1pR   \n",
       "3  spotify:track:5Qt4Cc66g24QWwGP3YYV9y   \n",
       "4  spotify:track:7MH2ZclofPlTrZOkPzZKhK   \n",
       "\n",
       "                                          track_href  \\\n",
       "0  https://api.spotify.com/v1/tracks/3AhXZa8sUQht...   \n",
       "1  https://api.spotify.com/v1/tracks/3oTlkzk1Otrh...   \n",
       "2  https://api.spotify.com/v1/tracks/3ZFBeIyP41Hh...   \n",
       "3  https://api.spotify.com/v1/tracks/5Qt4Cc66g24Q...   \n",
       "4  https://api.spotify.com/v1/tracks/7MH2ZclofPlT...   \n",
       "\n",
       "                                        analysis_url duration_ms  \\\n",
       "0  https://api.spotify.com/v1/audio-analysis/3AhX...      369600   \n",
       "1  https://api.spotify.com/v1/audio-analysis/3oTl...      300977   \n",
       "2  https://api.spotify.com/v1/audio-analysis/3ZFB...      337413   \n",
       "3  https://api.spotify.com/v1/audio-analysis/5Qt4...      219147   \n",
       "4  https://api.spotify.com/v1/audio-analysis/7MH2...      160893   \n",
       "\n",
       "  time_signature                       song_name     artist_name  \\\n",
       "0              4            Like a Rolling Stone       Bob Dylan   \n",
       "1              4         Smells Like Teen Spirit         Nirvana   \n",
       "2              4  A Day In The Life - Remastered     The Beatles   \n",
       "3              4          Good Vibrations (Mono)  The Beach Boys   \n",
       "4              4                  Johnny B Goode     Chuck Berry   \n",
       "\n",
       "                                       artist_genres artist_pop  \n",
       "0  [classic rock, country rock, folk, folk rock, ...         72  \n",
       "1                     [grunge, permanent wave, rock]         82  \n",
       "2  [beatlesque, british invasion, classic rock, m...         84  \n",
       "3  [adult standards, baroque pop, classic rock, p...         77  \n",
       "4    [classic rock, rock, rock-and-roll, rockabilly]         74  \n",
       "\n",
       "[5 rows x 22 columns]"
      ]
     },
     "execution_count": 12,
     "metadata": {},
     "output_type": "execute_result"
    }
   ],
   "source": [
    "data.head()"
   ]
  },
  {
   "cell_type": "code",
   "execution_count": null,
   "id": "37ce1286",
   "metadata": {},
   "outputs": [],
   "source": []
  },
  {
   "cell_type": "code",
   "execution_count": null,
   "id": "825a39fc",
   "metadata": {},
   "outputs": [],
   "source": []
  }
 ],
 "metadata": {
  "kernelspec": {
   "display_name": "Python 3.11.0 64-bit",
   "language": "python",
   "name": "python3"
  },
  "language_info": {
   "codemirror_mode": {
    "name": "ipython",
    "version": 3
   },
   "file_extension": ".py",
   "mimetype": "text/x-python",
   "name": "python",
   "nbconvert_exporter": "python",
   "pygments_lexer": "ipython3",
   "version": "3.11.0"
  },
  "vscode": {
   "interpreter": {
    "hash": "c261aea317cc0286b3b3261fbba9abdec21eaa57589985bb7a274bf54d6cc0a7"
   }
  }
 },
 "nbformat": 4,
 "nbformat_minor": 5
}
