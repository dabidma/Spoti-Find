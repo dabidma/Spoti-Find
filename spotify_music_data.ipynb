{
 "cells": [
  {
   "cell_type": "code",
   "execution_count": 1,
   "id": "fcc5d053-5597-4982-9ad1-eed54ba7e9bd",
   "metadata": {},
   "outputs": [
    {
     "data": {
      "text/plain": [
       "True"
      ]
     },
     "execution_count": 1,
     "metadata": {},
     "output_type": "execute_result"
    }
   ],
   "source": [
    "import spotipy\n",
    "import spotipy.util as util\n",
    "import pandas as pd\n",
    "import os\n",
    "from spotipy.oauth2 import SpotifyClientCredentials\n",
    "from dotenv import load_dotenv\n",
    "\n",
    "load_dotenv()"
   ]
  },
  {
   "cell_type": "code",
   "execution_count": 2,
   "id": "4455c3a7-7d01-4a58-bcfd-492f15d8f702",
   "metadata": {},
   "outputs": [],
   "source": [
    "CLIENT_ID = os.getenv('CLIENT_ID')\n",
    "CLIENT_SECRET = os.getenv('CLIENT_SECRET')"
   ]
  },
  {
   "cell_type": "code",
   "execution_count": 3,
   "id": "88168d3c",
   "metadata": {},
   "outputs": [
    {
     "name": "stdout",
     "output_type": "stream",
     "text": [
      "Young Heart\n",
      "Beautiful Lies\n",
      "Beautiful Lies\n",
      "Beautiful Lies (Deluxe)\n",
      "Beautiful Lies (Deluxe)\n",
      "Fire Within\n",
      "Fire Within\n",
      "Fire Within (Deluxe)\n",
      "Fire Within (Deluxe)\n",
      "Fire Within (Deluxe)\n",
      "Live in London\n",
      "Birdy\n",
      "Birdy\n",
      "Birdy\n",
      "Birdy\n",
      "Birdy (Deluxe Version)\n"
     ]
    }
   ],
   "source": [
    "birdy_uri = 'spotify:artist:2WX2uTcsvV5OnS0inACecP'\n",
    "spotify = spotipy.Spotify(client_credentials_manager=SpotifyClientCredentials(client_id=CLIENT_ID, client_secret=CLIENT_SECRET))\n",
    "\n",
    "results = spotify.artist_albums(birdy_uri, album_type='album')\n",
    "albums = results['items']\n",
    "while results['next']:\n",
    "    results = spotify.next(results)\n",
    "    albums.extend(results['items'])\n",
    "\n",
    "for album in albums:\n",
    "    print(album['name'])"
   ]
  },
  {
   "cell_type": "code",
   "execution_count": 5,
   "id": "98aef664",
   "metadata": {},
   "outputs": [],
   "source": [
    "client_credentials_manager = SpotifyClientCredentials(client_id=CLIENT_ID, client_secret=CLIENT_SECRET)\n",
    "sp = spotipy.Spotify(client_credentials_manager=client_credentials_manager)\n",
    "\n",
    "playlist_link = \"https://open.spotify.com/playlist/37i9dQZEVXbNG2KDcFcKOF?si=1333723a6eff4b7f\"\n",
    "playlist_URI = playlist_link.split(\"/\")[-1].split(\"?\")[0]\n",
    "track_uris = [x[\"track\"][\"uri\"] for x in sp.playlist_tracks(playlist_URI)[\"items\"]]"
   ]
  },
  {
   "cell_type": "code",
   "execution_count": 47,
   "id": "2e7f74f2",
   "metadata": {},
   "outputs": [],
   "source": [
    "playlists_uris = []"
   ]
  },
  {
   "cell_type": "code",
   "execution_count": 45,
   "id": "c64abd6a",
   "metadata": {},
   "outputs": [],
   "source": [
    "def playlists(link):\n",
    "    playlist_URI = link.split(\"/\")[-1]\n",
    "    return playlist_URI"
   ]
  },
  {
   "cell_type": "code",
   "execution_count": 48,
   "id": "9276f0a0",
   "metadata": {},
   "outputs": [],
   "source": [
    "playlists_uris.append(playlists('https://open.spotify.com/playlist/1G8IpkZKobrIlXcVPoSIuf'))"
   ]
  },
  {
   "cell_type": "code",
   "execution_count": 52,
   "id": "d0d0dc17",
   "metadata": {},
   "outputs": [
    {
     "name": "stdout",
     "output_type": "stream",
     "text": [
      "['1G8IpkZKobrIlXcVPoSIuf']\n"
     ]
    }
   ],
   "source": [
    "print(playlists_uris)"
   ]
  },
  {
   "cell_type": "code",
   "execution_count": 56,
   "id": "4f7bb5cf",
   "metadata": {},
   "outputs": [
    {
     "name": "stdout",
     "output_type": "stream",
     "text": [
      "track_uri: spotify:track:3AhXZa8sUQht0UEdBJgpGc\n",
      "    track_name: Like a Rolling Stone\n",
      "    artist_uri: spotify:artist:74ASZWbe4lXaubB36ztrGX\n",
      "    artist_info: {'external_urls': {'spotify': 'https://open.spotify.com/artist/74ASZWbe4lXaubB36ztrGX'}, 'followers': {'href': None, 'total': 5904019}, 'genres': ['classic rock', 'country rock', 'folk', 'folk rock', 'rock', 'roots rock', 'singer-songwriter'], 'href': 'https://api.spotify.com/v1/artists/74ASZWbe4lXaubB36ztrGX', 'id': '74ASZWbe4lXaubB36ztrGX', 'images': [{'height': 1000, 'url': 'https://i.scdn.co/image/ab6772690000c46cf79ca05dcc1581c712bf3658', 'width': 1000}, {'height': 640, 'url': 'https://i.scdn.co/image/ab6772690000dd22f79ca05dcc1581c712bf3658', 'width': 640}, {'height': 200, 'url': 'https://i.scdn.co/image/ab6772690000bac3f79ca05dcc1581c712bf3658', 'width': 200}, {'height': 64, 'url': 'https://i.scdn.co/image/ab67726900008f74f79ca05dcc1581c712bf3658', 'width': 64}], 'name': 'Bob Dylan', 'popularity': 72, 'type': 'artist', 'uri': 'spotify:artist:74ASZWbe4lXaubB36ztrGX'}\n",
      "    artist_name: Bob Dylan\n",
      "    artist_pop: 72\n",
      "    artist_genres: ['classic rock', 'country rock', 'folk', 'folk rock', 'rock', 'roots rock', 'singer-songwriter']\n",
      "    album: Highway 61 Revisited\n",
      "    track_pop: 69 \n"
     ]
    }
   ],
   "source": [
    "for track in sp.playlist_tracks('1G8IpkZKobrIlXcVPoSIuf')[\"items\"]:\n",
    "    #URI\n",
    "    track_uri = track[\"track\"][\"uri\"]\n",
    "    \n",
    "    #Track name\n",
    "    track_name = track[\"track\"][\"name\"]\n",
    "    \n",
    "    #Main Artist\n",
    "    artist_uri = track[\"track\"][\"artists\"][0][\"uri\"]\n",
    "    artist_info = sp.artist(artist_uri)\n",
    "    \n",
    "    #Name, popularity, genre\n",
    "    artist_name = track[\"track\"][\"artists\"][0][\"name\"]\n",
    "    artist_pop = artist_info[\"popularity\"]\n",
    "    artist_genres = artist_info[\"genres\"]\n",
    "    \n",
    "    #Album\n",
    "    album = track[\"track\"][\"album\"][\"name\"]\n",
    "    \n",
    "    #Popularity of the track\n",
    "    track_pop = track[\"track\"][\"popularity\"]\n",
    "    print(f'''track_uri: {track_uri}\n",
    "    track_name: {track_name}\n",
    "    artist_uri: {artist_uri}\n",
    "    artist_info: {artist_info}\n",
    "    artist_name: {artist_name}\n",
    "    artist_pop: {artist_pop}\n",
    "    artist_genres: {artist_genres}\n",
    "    album: {album}\n",
    "    track_pop: {track_pop} ''')\n",
    "    break"
   ]
  },
  {
   "cell_type": "code",
   "execution_count": 51,
   "id": "7932cb6b",
   "metadata": {},
   "outputs": [
    {
     "data": {
      "text/plain": [
       "{'danceability': 0.686,\n",
       " 'energy': 0.494,\n",
       " 'key': 1,\n",
       " 'loudness': -7.093,\n",
       " 'mode': 1,\n",
       " 'speechiness': 0.0355,\n",
       " 'acousticness': 0.613,\n",
       " 'instrumentalness': 5.8e-05,\n",
       " 'liveness': 0.402,\n",
       " 'valence': 0.7,\n",
       " 'tempo': 168.946,\n",
       " 'type': 'audio_features',\n",
       " 'id': '4k6Uh1HXdhtusDW5y8Gbvy',\n",
       " 'uri': 'spotify:track:4k6Uh1HXdhtusDW5y8Gbvy',\n",
       " 'track_href': 'https://api.spotify.com/v1/tracks/4k6Uh1HXdhtusDW5y8Gbvy',\n",
       " 'analysis_url': 'https://api.spotify.com/v1/audio-analysis/4k6Uh1HXdhtusDW5y8Gbvy',\n",
       " 'duration_ms': 232067,\n",
       " 'time_signature': 4}"
      ]
     },
     "execution_count": 51,
     "metadata": {},
     "output_type": "execute_result"
    }
   ],
   "source": [
    "sp.audio_features(track_uri)[0]"
   ]
  },
  {
   "cell_type": "code",
   "execution_count": null,
   "id": "03f73fb3",
   "metadata": {},
   "outputs": [],
   "source": []
  },
  {
   "cell_type": "code",
   "execution_count": null,
   "id": "66608ba7",
   "metadata": {},
   "outputs": [],
   "source": []
  }
 ],
 "metadata": {
  "kernelspec": {
   "display_name": "Python 3.11.0 64-bit",
   "language": "python",
   "name": "python3"
  },
  "language_info": {
   "codemirror_mode": {
    "name": "ipython",
    "version": 3
   },
   "file_extension": ".py",
   "mimetype": "text/x-python",
   "name": "python",
   "nbconvert_exporter": "python",
   "pygments_lexer": "ipython3",
   "version": "3.11.0"
  },
  "vscode": {
   "interpreter": {
    "hash": "c261aea317cc0286b3b3261fbba9abdec21eaa57589985bb7a274bf54d6cc0a7"
   }
  }
 },
 "nbformat": 4,
 "nbformat_minor": 5
}
