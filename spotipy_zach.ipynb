{
 "cells": [
  {
   "cell_type": "code",
   "execution_count": 1,
   "id": "44db7b68",
   "metadata": {},
   "outputs": [],
   "source": [
    "import os\n",
    "import numpy as np\n",
    "import pandas as pd\n",
    "\n",
    "import seaborn as sns\n",
    "import plotly.express as px \n",
    "import matplotlib.pyplot as plt\n",
    "\n",
    "from sklearn.cluster import KMeans\n",
    "from sklearn.preprocessing import StandardScaler\n",
    "from sklearn.pipeline import Pipeline\n",
    "from sklearn.manifold import TSNE\n",
    "from sklearn.decomposition import PCA\n",
    "from sklearn.metrics import euclidean_distances\n",
    "from scipy.spatial.distance import cdist\n",
    "\n",
    "import warnings\n",
    "warnings.filterwarnings(\"ignore\")"
   ]
  },
  {
   "cell_type": "code",
   "execution_count": 2,
   "id": "a51cc190",
   "metadata": {},
   "outputs": [
    {
     "data": {
      "text/html": [
       "<div>\n",
       "<style scoped>\n",
       "    .dataframe tbody tr th:only-of-type {\n",
       "        vertical-align: middle;\n",
       "    }\n",
       "\n",
       "    .dataframe tbody tr th {\n",
       "        vertical-align: top;\n",
       "    }\n",
       "\n",
       "    .dataframe thead th {\n",
       "        text-align: right;\n",
       "    }\n",
       "</style>\n",
       "<table border=\"1\" class=\"dataframe\">\n",
       "  <thead>\n",
       "    <tr style=\"text-align: right;\">\n",
       "      <th></th>\n",
       "      <th>Unnamed: 0</th>\n",
       "      <th>danceability</th>\n",
       "      <th>energy</th>\n",
       "      <th>key</th>\n",
       "      <th>loudness</th>\n",
       "      <th>mode</th>\n",
       "      <th>speechiness</th>\n",
       "      <th>acousticness</th>\n",
       "      <th>instrumentalness</th>\n",
       "      <th>liveness</th>\n",
       "      <th>...</th>\n",
       "      <th>uri</th>\n",
       "      <th>track_href</th>\n",
       "      <th>analysis_url</th>\n",
       "      <th>duration_ms</th>\n",
       "      <th>time_signature</th>\n",
       "      <th>song_name</th>\n",
       "      <th>artist_name</th>\n",
       "      <th>artist_genres</th>\n",
       "      <th>artist_pop</th>\n",
       "      <th>song_popularity</th>\n",
       "    </tr>\n",
       "  </thead>\n",
       "  <tbody>\n",
       "    <tr>\n",
       "      <th>0</th>\n",
       "      <td>0</td>\n",
       "      <td>0.482</td>\n",
       "      <td>0.721</td>\n",
       "      <td>0</td>\n",
       "      <td>-6.839</td>\n",
       "      <td>1</td>\n",
       "      <td>0.0321</td>\n",
       "      <td>0.731000</td>\n",
       "      <td>0.000000</td>\n",
       "      <td>0.1890</td>\n",
       "      <td>...</td>\n",
       "      <td>spotify:track:3AhXZa8sUQht0UEdBJgpGc</td>\n",
       "      <td>https://api.spotify.com/v1/tracks/3AhXZa8sUQht...</td>\n",
       "      <td>https://api.spotify.com/v1/audio-analysis/3AhX...</td>\n",
       "      <td>369600</td>\n",
       "      <td>4</td>\n",
       "      <td>Like a Rolling Stone</td>\n",
       "      <td>Bob Dylan</td>\n",
       "      <td>['classic rock', 'country rock', 'folk', 'folk...</td>\n",
       "      <td>72</td>\n",
       "      <td>68</td>\n",
       "    </tr>\n",
       "    <tr>\n",
       "      <th>1</th>\n",
       "      <td>1</td>\n",
       "      <td>0.485</td>\n",
       "      <td>0.863</td>\n",
       "      <td>1</td>\n",
       "      <td>-9.027</td>\n",
       "      <td>1</td>\n",
       "      <td>0.0495</td>\n",
       "      <td>0.000012</td>\n",
       "      <td>0.016200</td>\n",
       "      <td>0.1380</td>\n",
       "      <td>...</td>\n",
       "      <td>spotify:track:3oTlkzk1OtrhH8wBAduVEi</td>\n",
       "      <td>https://api.spotify.com/v1/tracks/3oTlkzk1Otrh...</td>\n",
       "      <td>https://api.spotify.com/v1/audio-analysis/3oTl...</td>\n",
       "      <td>300977</td>\n",
       "      <td>4</td>\n",
       "      <td>Smells Like Teen Spirit</td>\n",
       "      <td>Nirvana</td>\n",
       "      <td>['grunge', 'permanent wave', 'rock']</td>\n",
       "      <td>82</td>\n",
       "      <td>0</td>\n",
       "    </tr>\n",
       "    <tr>\n",
       "      <th>2</th>\n",
       "      <td>2</td>\n",
       "      <td>0.364</td>\n",
       "      <td>0.457</td>\n",
       "      <td>4</td>\n",
       "      <td>-14.162</td>\n",
       "      <td>0</td>\n",
       "      <td>0.0675</td>\n",
       "      <td>0.290000</td>\n",
       "      <td>0.000106</td>\n",
       "      <td>0.9220</td>\n",
       "      <td>...</td>\n",
       "      <td>spotify:track:3ZFBeIyP41HhnALjxWy1pR</td>\n",
       "      <td>https://api.spotify.com/v1/tracks/3ZFBeIyP41Hh...</td>\n",
       "      <td>https://api.spotify.com/v1/audio-analysis/3ZFB...</td>\n",
       "      <td>337413</td>\n",
       "      <td>4</td>\n",
       "      <td>A Day In The Life - Remastered</td>\n",
       "      <td>The Beatles</td>\n",
       "      <td>['beatlesque', 'british invasion', 'classic ro...</td>\n",
       "      <td>84</td>\n",
       "      <td>0</td>\n",
       "    </tr>\n",
       "    <tr>\n",
       "      <th>3</th>\n",
       "      <td>3</td>\n",
       "      <td>0.398</td>\n",
       "      <td>0.413</td>\n",
       "      <td>1</td>\n",
       "      <td>-10.934</td>\n",
       "      <td>1</td>\n",
       "      <td>0.0388</td>\n",
       "      <td>0.082200</td>\n",
       "      <td>0.000025</td>\n",
       "      <td>0.0891</td>\n",
       "      <td>...</td>\n",
       "      <td>spotify:track:5Qt4Cc66g24QWwGP3YYV9y</td>\n",
       "      <td>https://api.spotify.com/v1/tracks/5Qt4Cc66g24Q...</td>\n",
       "      <td>https://api.spotify.com/v1/audio-analysis/5Qt4...</td>\n",
       "      <td>219147</td>\n",
       "      <td>4</td>\n",
       "      <td>Good Vibrations (Mono)</td>\n",
       "      <td>The Beach Boys</td>\n",
       "      <td>['baroque pop', 'classic rock', 'psychedelic r...</td>\n",
       "      <td>78</td>\n",
       "      <td>20</td>\n",
       "    </tr>\n",
       "    <tr>\n",
       "      <th>4</th>\n",
       "      <td>4</td>\n",
       "      <td>0.518</td>\n",
       "      <td>0.756</td>\n",
       "      <td>10</td>\n",
       "      <td>-10.851</td>\n",
       "      <td>1</td>\n",
       "      <td>0.0915</td>\n",
       "      <td>0.735000</td>\n",
       "      <td>0.000062</td>\n",
       "      <td>0.3170</td>\n",
       "      <td>...</td>\n",
       "      <td>spotify:track:7MH2ZclofPlTrZOkPzZKhK</td>\n",
       "      <td>https://api.spotify.com/v1/tracks/7MH2ZclofPlT...</td>\n",
       "      <td>https://api.spotify.com/v1/audio-analysis/7MH2...</td>\n",
       "      <td>160893</td>\n",
       "      <td>4</td>\n",
       "      <td>Johnny B Goode</td>\n",
       "      <td>Chuck Berry</td>\n",
       "      <td>['classic rock', 'rock', 'rock-and-roll', 'roc...</td>\n",
       "      <td>75</td>\n",
       "      <td>0</td>\n",
       "    </tr>\n",
       "    <tr>\n",
       "      <th>...</th>\n",
       "      <td>...</td>\n",
       "      <td>...</td>\n",
       "      <td>...</td>\n",
       "      <td>...</td>\n",
       "      <td>...</td>\n",
       "      <td>...</td>\n",
       "      <td>...</td>\n",
       "      <td>...</td>\n",
       "      <td>...</td>\n",
       "      <td>...</td>\n",
       "      <td>...</td>\n",
       "      <td>...</td>\n",
       "      <td>...</td>\n",
       "      <td>...</td>\n",
       "      <td>...</td>\n",
       "      <td>...</td>\n",
       "      <td>...</td>\n",
       "      <td>...</td>\n",
       "      <td>...</td>\n",
       "      <td>...</td>\n",
       "      <td>...</td>\n",
       "    </tr>\n",
       "    <tr>\n",
       "      <th>1094</th>\n",
       "      <td>1094</td>\n",
       "      <td>0.509</td>\n",
       "      <td>0.680</td>\n",
       "      <td>5</td>\n",
       "      <td>-8.354</td>\n",
       "      <td>1</td>\n",
       "      <td>0.0372</td>\n",
       "      <td>0.360000</td>\n",
       "      <td>0.000000</td>\n",
       "      <td>0.0824</td>\n",
       "      <td>...</td>\n",
       "      <td>spotify:track:7tJQ4Ekp2vN3NlI3vJJW3v</td>\n",
       "      <td>https://api.spotify.com/v1/tracks/7tJQ4Ekp2vN3...</td>\n",
       "      <td>https://api.spotify.com/v1/audio-analysis/7tJQ...</td>\n",
       "      <td>185200</td>\n",
       "      <td>4</td>\n",
       "      <td>I Want You</td>\n",
       "      <td>Bob Dylan</td>\n",
       "      <td>['classic rock', 'country rock', 'folk', 'folk...</td>\n",
       "      <td>72</td>\n",
       "      <td>56</td>\n",
       "    </tr>\n",
       "    <tr>\n",
       "      <th>1095</th>\n",
       "      <td>1095</td>\n",
       "      <td>0.612</td>\n",
       "      <td>0.668</td>\n",
       "      <td>6</td>\n",
       "      <td>-6.143</td>\n",
       "      <td>0</td>\n",
       "      <td>0.0302</td>\n",
       "      <td>0.057900</td>\n",
       "      <td>0.044500</td>\n",
       "      <td>0.3410</td>\n",
       "      <td>...</td>\n",
       "      <td>spotify:track:6EaHDsTWNNJRkCMtptSE6n</td>\n",
       "      <td>https://api.spotify.com/v1/tracks/6EaHDsTWNNJR...</td>\n",
       "      <td>https://api.spotify.com/v1/audio-analysis/6EaH...</td>\n",
       "      <td>315200</td>\n",
       "      <td>4</td>\n",
       "      <td>The Suburbs</td>\n",
       "      <td>Arcade Fire</td>\n",
       "      <td>['baroque pop', 'canadian indie', 'indie rock'...</td>\n",
       "      <td>66</td>\n",
       "      <td>0</td>\n",
       "    </tr>\n",
       "    <tr>\n",
       "      <th>1096</th>\n",
       "      <td>1096</td>\n",
       "      <td>0.651</td>\n",
       "      <td>0.944</td>\n",
       "      <td>2</td>\n",
       "      <td>-5.480</td>\n",
       "      <td>1</td>\n",
       "      <td>0.0381</td>\n",
       "      <td>0.085500</td>\n",
       "      <td>0.145000</td>\n",
       "      <td>0.1160</td>\n",
       "      <td>...</td>\n",
       "      <td>spotify:track:5mWhSQfWEeBZD9YTd4yyFc</td>\n",
       "      <td>https://api.spotify.com/v1/tracks/5mWhSQfWEeBZ...</td>\n",
       "      <td>https://api.spotify.com/v1/audio-analysis/5mWh...</td>\n",
       "      <td>263440</td>\n",
       "      <td>4</td>\n",
       "      <td>Dum Surfer</td>\n",
       "      <td>King Krule</td>\n",
       "      <td>['uk alternative pop']</td>\n",
       "      <td>60</td>\n",
       "      <td>3</td>\n",
       "    </tr>\n",
       "    <tr>\n",
       "      <th>1097</th>\n",
       "      <td>1097</td>\n",
       "      <td>0.492</td>\n",
       "      <td>0.194</td>\n",
       "      <td>6</td>\n",
       "      <td>-14.073</td>\n",
       "      <td>1</td>\n",
       "      <td>0.0577</td>\n",
       "      <td>0.984000</td>\n",
       "      <td>0.104000</td>\n",
       "      <td>0.1820</td>\n",
       "      <td>...</td>\n",
       "      <td>spotify:track:5iltwljBW1H5ScLeeiB9ZB</td>\n",
       "      <td>https://api.spotify.com/v1/tracks/5iltwljBW1H5...</td>\n",
       "      <td>https://api.spotify.com/v1/audio-analysis/5ilt...</td>\n",
       "      <td>203373</td>\n",
       "      <td>4</td>\n",
       "      <td>Black and Tan Fantasy</td>\n",
       "      <td>Duke Ellington &amp; His Washingtonians</td>\n",
       "      <td>['hot jazz']</td>\n",
       "      <td>18</td>\n",
       "      <td>11</td>\n",
       "    </tr>\n",
       "    <tr>\n",
       "      <th>1098</th>\n",
       "      <td>1098</td>\n",
       "      <td>0.589</td>\n",
       "      <td>0.713</td>\n",
       "      <td>0</td>\n",
       "      <td>-6.064</td>\n",
       "      <td>1</td>\n",
       "      <td>0.0407</td>\n",
       "      <td>0.093700</td>\n",
       "      <td>0.001030</td>\n",
       "      <td>0.0568</td>\n",
       "      <td>...</td>\n",
       "      <td>spotify:track:52MN1t40XkISi6QtVzVDJO</td>\n",
       "      <td>https://api.spotify.com/v1/tracks/52MN1t40XkIS...</td>\n",
       "      <td>https://api.spotify.com/v1/audio-analysis/52MN...</td>\n",
       "      <td>203173</td>\n",
       "      <td>4</td>\n",
       "      <td>Our House (Remastered)</td>\n",
       "      <td>Madness</td>\n",
       "      <td>['ska', 'ska revival']</td>\n",
       "      <td>61</td>\n",
       "      <td>0</td>\n",
       "    </tr>\n",
       "  </tbody>\n",
       "</table>\n",
       "<p>1099 rows × 24 columns</p>\n",
       "</div>"
      ],
      "text/plain": [
       "      Unnamed: 0  danceability  energy  key  loudness  mode  speechiness  \\\n",
       "0              0         0.482   0.721    0    -6.839     1       0.0321   \n",
       "1              1         0.485   0.863    1    -9.027     1       0.0495   \n",
       "2              2         0.364   0.457    4   -14.162     0       0.0675   \n",
       "3              3         0.398   0.413    1   -10.934     1       0.0388   \n",
       "4              4         0.518   0.756   10   -10.851     1       0.0915   \n",
       "...          ...           ...     ...  ...       ...   ...          ...   \n",
       "1094        1094         0.509   0.680    5    -8.354     1       0.0372   \n",
       "1095        1095         0.612   0.668    6    -6.143     0       0.0302   \n",
       "1096        1096         0.651   0.944    2    -5.480     1       0.0381   \n",
       "1097        1097         0.492   0.194    6   -14.073     1       0.0577   \n",
       "1098        1098         0.589   0.713    0    -6.064     1       0.0407   \n",
       "\n",
       "      acousticness  instrumentalness  liveness  ...  \\\n",
       "0         0.731000          0.000000    0.1890  ...   \n",
       "1         0.000012          0.016200    0.1380  ...   \n",
       "2         0.290000          0.000106    0.9220  ...   \n",
       "3         0.082200          0.000025    0.0891  ...   \n",
       "4         0.735000          0.000062    0.3170  ...   \n",
       "...            ...               ...       ...  ...   \n",
       "1094      0.360000          0.000000    0.0824  ...   \n",
       "1095      0.057900          0.044500    0.3410  ...   \n",
       "1096      0.085500          0.145000    0.1160  ...   \n",
       "1097      0.984000          0.104000    0.1820  ...   \n",
       "1098      0.093700          0.001030    0.0568  ...   \n",
       "\n",
       "                                       uri  \\\n",
       "0     spotify:track:3AhXZa8sUQht0UEdBJgpGc   \n",
       "1     spotify:track:3oTlkzk1OtrhH8wBAduVEi   \n",
       "2     spotify:track:3ZFBeIyP41HhnALjxWy1pR   \n",
       "3     spotify:track:5Qt4Cc66g24QWwGP3YYV9y   \n",
       "4     spotify:track:7MH2ZclofPlTrZOkPzZKhK   \n",
       "...                                    ...   \n",
       "1094  spotify:track:7tJQ4Ekp2vN3NlI3vJJW3v   \n",
       "1095  spotify:track:6EaHDsTWNNJRkCMtptSE6n   \n",
       "1096  spotify:track:5mWhSQfWEeBZD9YTd4yyFc   \n",
       "1097  spotify:track:5iltwljBW1H5ScLeeiB9ZB   \n",
       "1098  spotify:track:52MN1t40XkISi6QtVzVDJO   \n",
       "\n",
       "                                             track_href  \\\n",
       "0     https://api.spotify.com/v1/tracks/3AhXZa8sUQht...   \n",
       "1     https://api.spotify.com/v1/tracks/3oTlkzk1Otrh...   \n",
       "2     https://api.spotify.com/v1/tracks/3ZFBeIyP41Hh...   \n",
       "3     https://api.spotify.com/v1/tracks/5Qt4Cc66g24Q...   \n",
       "4     https://api.spotify.com/v1/tracks/7MH2ZclofPlT...   \n",
       "...                                                 ...   \n",
       "1094  https://api.spotify.com/v1/tracks/7tJQ4Ekp2vN3...   \n",
       "1095  https://api.spotify.com/v1/tracks/6EaHDsTWNNJR...   \n",
       "1096  https://api.spotify.com/v1/tracks/5mWhSQfWEeBZ...   \n",
       "1097  https://api.spotify.com/v1/tracks/5iltwljBW1H5...   \n",
       "1098  https://api.spotify.com/v1/tracks/52MN1t40XkIS...   \n",
       "\n",
       "                                           analysis_url duration_ms  \\\n",
       "0     https://api.spotify.com/v1/audio-analysis/3AhX...      369600   \n",
       "1     https://api.spotify.com/v1/audio-analysis/3oTl...      300977   \n",
       "2     https://api.spotify.com/v1/audio-analysis/3ZFB...      337413   \n",
       "3     https://api.spotify.com/v1/audio-analysis/5Qt4...      219147   \n",
       "4     https://api.spotify.com/v1/audio-analysis/7MH2...      160893   \n",
       "...                                                 ...         ...   \n",
       "1094  https://api.spotify.com/v1/audio-analysis/7tJQ...      185200   \n",
       "1095  https://api.spotify.com/v1/audio-analysis/6EaH...      315200   \n",
       "1096  https://api.spotify.com/v1/audio-analysis/5mWh...      263440   \n",
       "1097  https://api.spotify.com/v1/audio-analysis/5ilt...      203373   \n",
       "1098  https://api.spotify.com/v1/audio-analysis/52MN...      203173   \n",
       "\n",
       "     time_signature                       song_name  \\\n",
       "0                 4            Like a Rolling Stone   \n",
       "1                 4         Smells Like Teen Spirit   \n",
       "2                 4  A Day In The Life - Remastered   \n",
       "3                 4          Good Vibrations (Mono)   \n",
       "4                 4                  Johnny B Goode   \n",
       "...             ...                             ...   \n",
       "1094              4                      I Want You   \n",
       "1095              4                     The Suburbs   \n",
       "1096              4                      Dum Surfer   \n",
       "1097              4           Black and Tan Fantasy   \n",
       "1098              4          Our House (Remastered)   \n",
       "\n",
       "                              artist_name  \\\n",
       "0                               Bob Dylan   \n",
       "1                                 Nirvana   \n",
       "2                             The Beatles   \n",
       "3                          The Beach Boys   \n",
       "4                             Chuck Berry   \n",
       "...                                   ...   \n",
       "1094                            Bob Dylan   \n",
       "1095                          Arcade Fire   \n",
       "1096                           King Krule   \n",
       "1097  Duke Ellington & His Washingtonians   \n",
       "1098                              Madness   \n",
       "\n",
       "                                          artist_genres  artist_pop  \\\n",
       "0     ['classic rock', 'country rock', 'folk', 'folk...          72   \n",
       "1                  ['grunge', 'permanent wave', 'rock']          82   \n",
       "2     ['beatlesque', 'british invasion', 'classic ro...          84   \n",
       "3     ['baroque pop', 'classic rock', 'psychedelic r...          78   \n",
       "4     ['classic rock', 'rock', 'rock-and-roll', 'roc...          75   \n",
       "...                                                 ...         ...   \n",
       "1094  ['classic rock', 'country rock', 'folk', 'folk...          72   \n",
       "1095  ['baroque pop', 'canadian indie', 'indie rock'...          66   \n",
       "1096                             ['uk alternative pop']          60   \n",
       "1097                                       ['hot jazz']          18   \n",
       "1098                             ['ska', 'ska revival']          61   \n",
       "\n",
       "     song_popularity  \n",
       "0                 68  \n",
       "1                  0  \n",
       "2                  0  \n",
       "3                 20  \n",
       "4                  0  \n",
       "...              ...  \n",
       "1094              56  \n",
       "1095               0  \n",
       "1096               3  \n",
       "1097              11  \n",
       "1098               0  \n",
       "\n",
       "[1099 rows x 24 columns]"
      ]
     },
     "execution_count": 2,
     "metadata": {},
     "output_type": "execute_result"
    }
   ],
   "source": [
    "sample_p = pd.read_csv('./data/sample_music')\n",
    "sample_p"
   ]
  },
  {
   "cell_type": "code",
   "execution_count": 3,
   "id": "728422a1",
   "metadata": {
    "scrolled": true
   },
   "outputs": [
    {
     "name": "stdout",
     "output_type": "stream",
     "text": [
      "<class 'pandas.core.frame.DataFrame'>\n",
      "RangeIndex: 1099 entries, 0 to 1098\n",
      "Data columns (total 18 columns):\n",
      " #   Column            Non-Null Count  Dtype  \n",
      "---  ------            --------------  -----  \n",
      " 0   danceability      1099 non-null   float64\n",
      " 1   energy            1099 non-null   float64\n",
      " 2   key               1099 non-null   int64  \n",
      " 3   loudness          1099 non-null   float64\n",
      " 4   mode              1099 non-null   int64  \n",
      " 5   speechiness       1099 non-null   float64\n",
      " 6   acousticness      1099 non-null   float64\n",
      " 7   instrumentalness  1099 non-null   float64\n",
      " 8   liveness          1099 non-null   float64\n",
      " 9   valence           1099 non-null   float64\n",
      " 10  tempo             1099 non-null   float64\n",
      " 11  duration_ms       1099 non-null   int64  \n",
      " 12  time_signature    1099 non-null   int64  \n",
      " 13  song_name         1099 non-null   object \n",
      " 14  artist_name       1099 non-null   object \n",
      " 15  artist_genres     1099 non-null   object \n",
      " 16  artist_pop        1099 non-null   int64  \n",
      " 17  song_popularity   1099 non-null   int64  \n",
      "dtypes: float64(9), int64(6), object(3)\n",
      "memory usage: 154.7+ KB\n"
     ]
    }
   ],
   "source": [
    "clean_data= sample_p.drop(columns=['Unnamed: 0','uri','track_href','analysis_url','type', 'id'])\n",
    "clean_data\n",
    "clean_data.info()"
   ]
  },
  {
   "cell_type": "code",
   "execution_count": 4,
   "id": "58e80599",
   "metadata": {},
   "outputs": [],
   "source": [
    "#Create genre list\n",
    "def genre_list(self):\n",
    "    split = self.strip().split(',')\n",
    "    clean = [x.strip(\" [']\") for x in split]\n",
    "    return clean"
   ]
  },
  {
   "cell_type": "code",
   "execution_count": 5,
   "id": "8a7e4671",
   "metadata": {},
   "outputs": [],
   "source": [
    "# convert the df to list\n",
    "clean_data['artist_genres'] = clean_data['artist_genres'].apply(lambda x: genre_list(x))"
   ]
  },
  {
   "cell_type": "code",
   "execution_count": 6,
   "id": "0d8dd816",
   "metadata": {},
   "outputs": [
    {
     "name": "stdout",
     "output_type": "stream",
     "text": [
      "['classic rock', 'country rock', 'folk', 'folk rock', 'rock', 'roots rock', 'singer-songwriter', 'grunge', 'permanent wave', 'beatlesque', 'british invasion', 'merseybeat', 'psychedelic rock', 'baroque pop', 'sunshine pop', 'rock-and-roll', 'rockabilly', 'classic soul', 'jazz blues', 'memphis soul', 'soul', 'southern soul', 'adult standards', 'brill building pop', 'classic girl group', 'funk', 'indie r&b', 'motown', 'northern soul', 'quiet storm', 'pop', 'r&b', 'heartland rock', 'mellow gold', 'album rock', 'art rock', 'blues rock', 'hard rock', 'alternative rock', 'madchester', 'new wave', 'post-punk', 'uk post-punk', 'soul blues', 'atl hip hop', 'dirty south rap', 'hip hop', 'old school atlanta hip hop', 'pop rap', 'rap', 'southern hip hop', 'punk', 'dance pop', 'indietronica', 'new rave', 'bronx hip hop', 'electro', 'old school hip hop', 'piano blues', 'vocal jazz', 'glam rock', 'funk rock', 'minneapolis sound', 'synth funk', 'britpop', 'indie rock', 'pop rock', 'sheffield indie', 'harlem renaissance', 'jazz', 'lounge', 'torch song', 'protopunk', 'detroit rock', 'garage rock', 'modern blues rock', 'modern rock', 'punk blues', 'athens indie', 'dance rock', 'new romantic', 'new wave pop', 'synthpop', 'acid rock', 'proto-metal', 'classic garage rock', 'neo soul', 'bubblegum pop', 'scottish rock', 'hip pop', 'urban contemporary', 'virginia hip hop', 'disco', 'hi-nrg', 'cosmic american', 'soft rock', 'shoegaze', 'blues', 'british blues', 'electric blues', 'symphonic rock', 'downtempo', 'electronica', 'trip hop', 'anti-folk', 'conscious hip hop', 'east coast hip hop', 'gangster rap', 'golden age hip hop', 'hardcore hip hop', 'political hip hop', 'rap rock', 'art punk', 'zolo', 'melancholia', 'oxford indie', 'west coast rap', 'yacht rock', 'art pop', 'electropop', 'europop', 'scandipop', 'swedish electropop', 'swedish pop', 'alternative dance', 'dance-punk', 'electronic rock', 'early us punk', 'canadian electropop', 'grave wave', 'metropopolis', 'lilith', 'glam metal', 'classic canadian rock', 'swamp rock', 'chicago rap', 'ska', 'ska revival', 'nz pop', 'filter house', 'piano rock', 'irish rock', 'post-disco', 'lgbtq+ hip hop', 'british soul', 'hip house', 'new jersey rap', 'southern rock', 'reggae', 'roots reggae', 'progressive rock', 'french shoegaze', 'french synthpop', 'neo-synthpop', 'honky tonk', 'traditional country', 'yodeling', 'big beat', 'instrumental funk', 'instrumental soul', 'barbadian pop', 'doo-wop', 'rhythm and blues', 'baltimore indie', 'chillwave', 'birmingham metal', 'metal', 'stoner rock', 'uk doom metal', 'candy pop', 'power pop', 'queens hip hop', 'experimental', 'no wave', 'canadian hip hop', 'canadian pop', 'toronto rap', '', 'american folk revival', 'appalachian folk', 'old-time', 'protest folk', 'traditional blues', 'traditional folk', 'australian psych', 'neo-psychedelic', 'afrofuturism', 'alternative r&b', 'escape room', 'indie soul', 'g funk', 'psychedelic soul', 'australian dance', 'australian pop', 'eurodance', 'brooklyn indie', 'indie pop', 'dusseldorf electronic', 'early synthpop', 'proto-techno', 'dream pop', 'experimental pop', 'freak folk', 'noise pop', 'electroclash', 'arkansas country', 'outlaw country', 'mod revival', 'northern irish punk', 'pub rock', 'louisiana blues', 'new orleans blues', 'nashville sound', 'chicago blues', 'chicago soul', 'sophisti-pop', 'experimental r&b', 'boston rock', 'pop soul', 'uk pop', 'alternative metal', 'spacegrunge', 'bossa nova', 'cool jazz', 'jazz saxophone', 'latin jazz', 'samba-jazz', 'freakbeat', 'classic country pop', 'supergroup', 'canadian indie', 'quebec indie', 'classic uk pop', 'detroit hip hop', 'trap queen', 'breakbeat', 'hardcore techno', 'rave', 'new weird america', 'stomp and holler', 'alternative pop', 'lo-fi', 'acoustic blues', 'delta blues', 'pre-war blues', 'australian rock', 'jazz funk', 'boogie-woogie', 'jump blues', 'canadian singer-songwriter', 'ambient', 'braindance', 'intelligent dance music', 'uk experimental electronic', 'gothenburg indie', 'swedish synthpop', 'chanson', 'vintage schlager', 'old school thrash', 'thrash metal', 'french rock', 'chicano punk', 'speed metal', 'noise rock', 'native american', 'surf music', 'nu disco', 'funk metal', 'nu metal', 'rap metal', 'swedish alternative rock', 'swedish indie pop', 'chamber pop', 'new jersey indie', 'double drumming', 'washington indie', 'easy listening', 'hot jazz', 'new orleans jazz', 'okc indie', 'bebop', 'big band', 'stride', 'swing', 'rock independant francais', 'classic dubstep', 'hauntology', 'microhouse', 'uk bass', 'wonky', 'british folk', 'palm desert scene', 'stoner metal', 'scottish indie', 'jazz piano', 'jazz trio', 'memphis blues', 'dark pop', 'laboratorio', 'p funk', 'post-teen pop', 'talent show', 'country', 'country dawn', 'acoustic punk', 'hardcore punk', 'contemporary post-bop', 'hard bop', 'jazz quartet', 'australian indie', 'melbourne indie', 'alternative hip hop', 'bboy', 'seattle indie', 'bow pop', 'experimental vocal', 'future garage', 'contemporary r&b', 'girl group', 'albuquerque indie', 'portland indie', 'gothic rock', 'eau claire indie', 'indie folk', 'post-hardcore', 'chamber psych', 'afrobeat', 'afropop', 'world', 'electro house', 'philly rap', 'jangle pop', 'harmonica blues', 'glam punk', 'indie garage rock', 'la indie', 'texas blues', 'cyberpunk', 'industrial', 'industrial metal', 'industrial rock', 'minnesota hip hop', 'jazz fusion', 'jazz trumpet', 'uk contemporary jazz', 'small room', 'post-grunge', 'dc hardcore', 'dub', 'belgian singer-songwriter', 'french pop', 'australian alternative rock', 'collage pop', 'psychedelic hip hop', 'rock drums', 'alternative americana', 'garage rock revival', 'swedish garage rock', 'swedish hard rock', 'swedish indie rock', 'r&b en espanol', 'folktronica', 'bedroom pop', 'jazz trombone', 'celtic punk', 'celtic rock', 'folk punk', 'slowcore', 'gospel', 'spirituals', 'modern alternative rock', 'vancouver indie', 'vancouver punk', 'dixieland', 'alternative country', 'chicago indie', 'brighton indie', 'etherpop', 'canterbury scene', 'experimental rock', 'uk alternative pop', 'olympia wa indie', '\"women\\'s music\"', 'bluegrass', 'bluegrass gospel', 'country gospel', 'lovers rock', 'turntablism', 'instrumental rock', 'jazz rock', 'jazz rap', 'dreamo', 'toronto indie', 'space age pop', 'solo wave', 'modern power pop', 'harlem hip hop', 'instrumental math rock', 'math rock', 'post-rock', 'icelandic pop', 'icelandic post-punk', 'bassline', 'grime', 'house', 'instrumental grime', 'south carolina hip hop', 'slam poetry', 'african-american classical', 'canadian contemporary r&b', 'skate punk', 'new orleans rap', 'trap', 'boy band', 'new jack swing', 'sacramento indie', 'deconstructed club', 'hyperpop', 'proto-hyperpop', 'transpop', 'icelandic experimental', 'icelandic singer-songwriter', 'rocksteady', 'dark wave', 'free jazz', 'philly soul', 'houston rap', 'disney', 'hollywood', 'movie tunes', 'philly indie', 'tin pan alley', 'jam band', 'slap house', 'synth punk', 'brazilian classical', 'brazilian jazz', 'latin classical', 'mpb', 'violao', 'jazz clarinet', 'vintage jazz', 'acid house', 'detroit techno', 'techno', 'flute rock', 'edm', 'uk dance', 'ambient pop', 'uk americana', 'deep adult standards', 'country blues', 'gospel blues', 'french jazz', 'gypsy jazz', 'jazz guitar', 'atmospheric dnb', 'drum and bass', 'drumfunk', 'jungle', 'popping', 'underground hip hop', 'mexican classic rock', 'scottish new wave', 'birmingham hip hop', 'uk garage', 'makossa', 'vocal harmony group', 'ambient house', 'melodic rap', 'mississippi hip hop', 'indie punk', 'riot grrrl', 'bakersfield sound', 'bubblegrunge', 'country boogie']\n"
     ]
    }
   ],
   "source": [
    "#finding all the genres in the data set\n",
    "all_genres = []\n",
    "for row in clean_data.artist_genres:\n",
    "    for x in row:\n",
    "        if x not in all_genres:\n",
    "            all_genres.append(x)\n",
    "        \n",
    "print(all_genres)\n",
    "    "
   ]
  },
  {
   "cell_type": "code",
   "execution_count": 35,
   "id": "c1e32874",
   "metadata": {},
   "outputs": [
    {
     "data": {
      "text/html": [
       "<div>\n",
       "<style scoped>\n",
       "    .dataframe tbody tr th:only-of-type {\n",
       "        vertical-align: middle;\n",
       "    }\n",
       "\n",
       "    .dataframe tbody tr th {\n",
       "        vertical-align: top;\n",
       "    }\n",
       "\n",
       "    .dataframe thead th {\n",
       "        text-align: right;\n",
       "    }\n",
       "</style>\n",
       "<table border=\"1\" class=\"dataframe\">\n",
       "  <thead>\n",
       "    <tr style=\"text-align: right;\">\n",
       "      <th></th>\n",
       "      <th>danceability</th>\n",
       "      <th>energy</th>\n",
       "      <th>key</th>\n",
       "      <th>loudness</th>\n",
       "      <th>mode</th>\n",
       "      <th>speechiness</th>\n",
       "      <th>acousticness</th>\n",
       "      <th>instrumentalness</th>\n",
       "      <th>liveness</th>\n",
       "      <th>valence</th>\n",
       "      <th>tempo</th>\n",
       "      <th>duration_ms</th>\n",
       "      <th>time_signature</th>\n",
       "      <th>song_name</th>\n",
       "      <th>artist_name</th>\n",
       "      <th>artist_genres</th>\n",
       "      <th>artist_pop</th>\n",
       "      <th>song_popularity</th>\n",
       "      <th>cluster_label</th>\n",
       "    </tr>\n",
       "  </thead>\n",
       "  <tbody>\n",
       "    <tr>\n",
       "      <th>0</th>\n",
       "      <td>0.482</td>\n",
       "      <td>0.721</td>\n",
       "      <td>0</td>\n",
       "      <td>-6.839</td>\n",
       "      <td>1</td>\n",
       "      <td>0.0321</td>\n",
       "      <td>0.731000</td>\n",
       "      <td>0.000000</td>\n",
       "      <td>0.1890</td>\n",
       "      <td>0.557</td>\n",
       "      <td>95.263</td>\n",
       "      <td>369600</td>\n",
       "      <td>4</td>\n",
       "      <td>Like a Rolling Stone</td>\n",
       "      <td>Bob Dylan</td>\n",
       "      <td>[classic rock, country rock, folk, folk rock, ...</td>\n",
       "      <td>72</td>\n",
       "      <td>68</td>\n",
       "      <td>6</td>\n",
       "    </tr>\n",
       "    <tr>\n",
       "      <th>1</th>\n",
       "      <td>0.485</td>\n",
       "      <td>0.863</td>\n",
       "      <td>1</td>\n",
       "      <td>-9.027</td>\n",
       "      <td>1</td>\n",
       "      <td>0.0495</td>\n",
       "      <td>0.000012</td>\n",
       "      <td>0.016200</td>\n",
       "      <td>0.1380</td>\n",
       "      <td>0.767</td>\n",
       "      <td>116.835</td>\n",
       "      <td>300977</td>\n",
       "      <td>4</td>\n",
       "      <td>Smells Like Teen Spirit</td>\n",
       "      <td>Nirvana</td>\n",
       "      <td>[grunge, permanent wave, rock]</td>\n",
       "      <td>82</td>\n",
       "      <td>0</td>\n",
       "      <td>3</td>\n",
       "    </tr>\n",
       "    <tr>\n",
       "      <th>2</th>\n",
       "      <td>0.364</td>\n",
       "      <td>0.457</td>\n",
       "      <td>4</td>\n",
       "      <td>-14.162</td>\n",
       "      <td>0</td>\n",
       "      <td>0.0675</td>\n",
       "      <td>0.290000</td>\n",
       "      <td>0.000106</td>\n",
       "      <td>0.9220</td>\n",
       "      <td>0.175</td>\n",
       "      <td>163.219</td>\n",
       "      <td>337413</td>\n",
       "      <td>4</td>\n",
       "      <td>A Day In The Life - Remastered</td>\n",
       "      <td>The Beatles</td>\n",
       "      <td>[beatlesque, british invasion, classic rock, m...</td>\n",
       "      <td>84</td>\n",
       "      <td>0</td>\n",
       "      <td>5</td>\n",
       "    </tr>\n",
       "    <tr>\n",
       "      <th>3</th>\n",
       "      <td>0.398</td>\n",
       "      <td>0.413</td>\n",
       "      <td>1</td>\n",
       "      <td>-10.934</td>\n",
       "      <td>1</td>\n",
       "      <td>0.0388</td>\n",
       "      <td>0.082200</td>\n",
       "      <td>0.000025</td>\n",
       "      <td>0.0891</td>\n",
       "      <td>0.331</td>\n",
       "      <td>133.574</td>\n",
       "      <td>219147</td>\n",
       "      <td>4</td>\n",
       "      <td>Good Vibrations (Mono)</td>\n",
       "      <td>The Beach Boys</td>\n",
       "      <td>[baroque pop, classic rock, psychedelic rock, ...</td>\n",
       "      <td>78</td>\n",
       "      <td>20</td>\n",
       "      <td>2</td>\n",
       "    </tr>\n",
       "    <tr>\n",
       "      <th>4</th>\n",
       "      <td>0.518</td>\n",
       "      <td>0.756</td>\n",
       "      <td>10</td>\n",
       "      <td>-10.851</td>\n",
       "      <td>1</td>\n",
       "      <td>0.0915</td>\n",
       "      <td>0.735000</td>\n",
       "      <td>0.000062</td>\n",
       "      <td>0.3170</td>\n",
       "      <td>0.968</td>\n",
       "      <td>166.429</td>\n",
       "      <td>160893</td>\n",
       "      <td>4</td>\n",
       "      <td>Johnny B Goode</td>\n",
       "      <td>Chuck Berry</td>\n",
       "      <td>[classic rock, rock, rock-and-roll, rockabilly]</td>\n",
       "      <td>75</td>\n",
       "      <td>0</td>\n",
       "      <td>9</td>\n",
       "    </tr>\n",
       "  </tbody>\n",
       "</table>\n",
       "</div>"
      ],
      "text/plain": [
       "   danceability  energy  key  loudness  mode  speechiness  acousticness  \\\n",
       "0         0.482   0.721    0    -6.839     1       0.0321      0.731000   \n",
       "1         0.485   0.863    1    -9.027     1       0.0495      0.000012   \n",
       "2         0.364   0.457    4   -14.162     0       0.0675      0.290000   \n",
       "3         0.398   0.413    1   -10.934     1       0.0388      0.082200   \n",
       "4         0.518   0.756   10   -10.851     1       0.0915      0.735000   \n",
       "\n",
       "   instrumentalness  liveness  valence    tempo  duration_ms  time_signature  \\\n",
       "0          0.000000    0.1890    0.557   95.263       369600               4   \n",
       "1          0.016200    0.1380    0.767  116.835       300977               4   \n",
       "2          0.000106    0.9220    0.175  163.219       337413               4   \n",
       "3          0.000025    0.0891    0.331  133.574       219147               4   \n",
       "4          0.000062    0.3170    0.968  166.429       160893               4   \n",
       "\n",
       "                        song_name     artist_name  \\\n",
       "0            Like a Rolling Stone       Bob Dylan   \n",
       "1         Smells Like Teen Spirit         Nirvana   \n",
       "2  A Day In The Life - Remastered     The Beatles   \n",
       "3          Good Vibrations (Mono)  The Beach Boys   \n",
       "4                  Johnny B Goode     Chuck Berry   \n",
       "\n",
       "                                       artist_genres  artist_pop  \\\n",
       "0  [classic rock, country rock, folk, folk rock, ...          72   \n",
       "1                     [grunge, permanent wave, rock]          82   \n",
       "2  [beatlesque, british invasion, classic rock, m...          84   \n",
       "3  [baroque pop, classic rock, psychedelic rock, ...          78   \n",
       "4    [classic rock, rock, rock-and-roll, rockabilly]          75   \n",
       "\n",
       "   song_popularity  cluster_label  \n",
       "0               68              6  \n",
       "1                0              3  \n",
       "2                0              5  \n",
       "3               20              2  \n",
       "4                0              9  "
      ]
     },
     "execution_count": 35,
     "metadata": {},
     "output_type": "execute_result"
    }
   ],
   "source": [
    "clean_data.head()"
   ]
  },
  {
   "cell_type": "code",
   "execution_count": 37,
   "id": "24cc9b24",
   "metadata": {},
   "outputs": [],
   "source": [
    "#combining genres with music feature data average into a new df\n",
    "genre_features_input = {}\n",
    "genre_features = {}\n",
    "#list of features were looking for\n",
    "features_input = ['danceability','energy','loudness','speechiness','acousticness','liveness','valence']\n",
    "\n",
    "\n",
    "#loop through df\n",
    "for i, r in clean_data.iterrows():\n",
    "\n",
    "    #loop through each genre\n",
    "    for genre in r['artist_genres']:\n",
    "\n",
    "        #create a dict for the genre if it isnt made\n",
    "        if genre not in genre_features_input.keys():\n",
    "            genre_features_input[genre] = []\n",
    "\n",
    "            #start adding the features\n",
    "            for feature in features_input:\n",
    "\n",
    "                #create dict for features\n",
    "                if feature not in genre_features.keys():\n",
    "                    genre_features[feature] = []\n",
    "                    genre_features[feature].append(r[feature])\n",
    "                \n",
    "            genre_features_input[genre].append(genre_features)\n",
    "        #else add onto the generated genre key\n",
    "        else:\n",
    "            for genre_info in genre_features_input.values():\n",
    "                for dicts in genre_info:\n",
    "                    for key,v in dicts.items():\n",
    "                        for feature in features_input:\n",
    "                            if key == feature:\n",
    "                                dicts[key].append(r[feature])\n",
    "                    \n",
    "                    \n",
    "                \n",
    "        genre_features = {}"
   ]
  },
  {
   "cell_type": "code",
   "execution_count": null,
   "id": "bc4207f5",
   "metadata": {},
   "outputs": [],
   "source": []
  },
  {
   "cell_type": "code",
   "execution_count": null,
   "id": "f2c5f19a",
   "metadata": {},
   "outputs": [],
   "source": []
  },
  {
   "cell_type": "code",
   "execution_count": null,
   "id": "b73dee80",
   "metadata": {},
   "outputs": [],
   "source": []
  },
  {
   "cell_type": "code",
   "execution_count": null,
   "id": "cdb87213",
   "metadata": {},
   "outputs": [],
   "source": []
  },
  {
   "cell_type": "code",
   "execution_count": null,
   "id": "e695ada7",
   "metadata": {},
   "outputs": [],
   "source": []
  },
  {
   "cell_type": "code",
   "execution_count": null,
   "id": "b6f60e5b",
   "metadata": {},
   "outputs": [],
   "source": []
  },
  {
   "cell_type": "code",
   "execution_count": null,
   "id": "ab7ad9c9",
   "metadata": {},
   "outputs": [],
   "source": []
  },
  {
   "cell_type": "code",
   "execution_count": null,
   "id": "6914e6b6",
   "metadata": {},
   "outputs": [],
   "source": []
  },
  {
   "cell_type": "code",
   "execution_count": null,
   "id": "f28f1365",
   "metadata": {},
   "outputs": [],
   "source": []
  },
  {
   "cell_type": "code",
   "execution_count": null,
   "id": "aaed0f42",
   "metadata": {},
   "outputs": [],
   "source": []
  },
  {
   "cell_type": "code",
   "execution_count": 7,
   "id": "422381d6",
   "metadata": {},
   "outputs": [
    {
     "data": {
      "text/html": [
       "<div>\n",
       "<style scoped>\n",
       "    .dataframe tbody tr th:only-of-type {\n",
       "        vertical-align: middle;\n",
       "    }\n",
       "\n",
       "    .dataframe tbody tr th {\n",
       "        vertical-align: top;\n",
       "    }\n",
       "\n",
       "    .dataframe thead th {\n",
       "        text-align: right;\n",
       "    }\n",
       "</style>\n",
       "<table border=\"1\" class=\"dataframe\">\n",
       "  <thead>\n",
       "    <tr style=\"text-align: right;\">\n",
       "      <th></th>\n",
       "      <th>artist_genres</th>\n",
       "      <th>danceability</th>\n",
       "      <th>energy</th>\n",
       "      <th>acousticness</th>\n",
       "      <th>valence</th>\n",
       "      <th>song_popularity</th>\n",
       "    </tr>\n",
       "  </thead>\n",
       "  <tbody>\n",
       "    <tr>\n",
       "      <th>0</th>\n",
       "      <td>[classic rock, country rock, folk, folk rock, ...</td>\n",
       "      <td>0.482</td>\n",
       "      <td>0.721</td>\n",
       "      <td>0.731000</td>\n",
       "      <td>0.557</td>\n",
       "      <td>68</td>\n",
       "    </tr>\n",
       "    <tr>\n",
       "      <th>1</th>\n",
       "      <td>[grunge, permanent wave, rock]</td>\n",
       "      <td>0.485</td>\n",
       "      <td>0.863</td>\n",
       "      <td>0.000012</td>\n",
       "      <td>0.767</td>\n",
       "      <td>0</td>\n",
       "    </tr>\n",
       "    <tr>\n",
       "      <th>2</th>\n",
       "      <td>[beatlesque, british invasion, classic rock, m...</td>\n",
       "      <td>0.364</td>\n",
       "      <td>0.457</td>\n",
       "      <td>0.290000</td>\n",
       "      <td>0.175</td>\n",
       "      <td>0</td>\n",
       "    </tr>\n",
       "    <tr>\n",
       "      <th>3</th>\n",
       "      <td>[baroque pop, classic rock, psychedelic rock, ...</td>\n",
       "      <td>0.398</td>\n",
       "      <td>0.413</td>\n",
       "      <td>0.082200</td>\n",
       "      <td>0.331</td>\n",
       "      <td>20</td>\n",
       "    </tr>\n",
       "    <tr>\n",
       "      <th>4</th>\n",
       "      <td>[classic rock, rock, rock-and-roll, rockabilly]</td>\n",
       "      <td>0.518</td>\n",
       "      <td>0.756</td>\n",
       "      <td>0.735000</td>\n",
       "      <td>0.968</td>\n",
       "      <td>0</td>\n",
       "    </tr>\n",
       "    <tr>\n",
       "      <th>...</th>\n",
       "      <td>...</td>\n",
       "      <td>...</td>\n",
       "      <td>...</td>\n",
       "      <td>...</td>\n",
       "      <td>...</td>\n",
       "      <td>...</td>\n",
       "    </tr>\n",
       "    <tr>\n",
       "      <th>1094</th>\n",
       "      <td>[classic rock, country rock, folk, folk rock, ...</td>\n",
       "      <td>0.509</td>\n",
       "      <td>0.680</td>\n",
       "      <td>0.360000</td>\n",
       "      <td>0.802</td>\n",
       "      <td>56</td>\n",
       "    </tr>\n",
       "    <tr>\n",
       "      <th>1095</th>\n",
       "      <td>[baroque pop, canadian indie, indie rock, mode...</td>\n",
       "      <td>0.612</td>\n",
       "      <td>0.668</td>\n",
       "      <td>0.057900</td>\n",
       "      <td>0.524</td>\n",
       "      <td>0</td>\n",
       "    </tr>\n",
       "    <tr>\n",
       "      <th>1096</th>\n",
       "      <td>[uk alternative pop]</td>\n",
       "      <td>0.651</td>\n",
       "      <td>0.944</td>\n",
       "      <td>0.085500</td>\n",
       "      <td>0.676</td>\n",
       "      <td>3</td>\n",
       "    </tr>\n",
       "    <tr>\n",
       "      <th>1097</th>\n",
       "      <td>[hot jazz]</td>\n",
       "      <td>0.492</td>\n",
       "      <td>0.194</td>\n",
       "      <td>0.984000</td>\n",
       "      <td>0.368</td>\n",
       "      <td>11</td>\n",
       "    </tr>\n",
       "    <tr>\n",
       "      <th>1098</th>\n",
       "      <td>[ska, ska revival]</td>\n",
       "      <td>0.589</td>\n",
       "      <td>0.713</td>\n",
       "      <td>0.093700</td>\n",
       "      <td>0.830</td>\n",
       "      <td>0</td>\n",
       "    </tr>\n",
       "  </tbody>\n",
       "</table>\n",
       "<p>1099 rows × 6 columns</p>\n",
       "</div>"
      ],
      "text/plain": [
       "                                          artist_genres  danceability  energy  \\\n",
       "0     [classic rock, country rock, folk, folk rock, ...         0.482   0.721   \n",
       "1                        [grunge, permanent wave, rock]         0.485   0.863   \n",
       "2     [beatlesque, british invasion, classic rock, m...         0.364   0.457   \n",
       "3     [baroque pop, classic rock, psychedelic rock, ...         0.398   0.413   \n",
       "4       [classic rock, rock, rock-and-roll, rockabilly]         0.518   0.756   \n",
       "...                                                 ...           ...     ...   \n",
       "1094  [classic rock, country rock, folk, folk rock, ...         0.509   0.680   \n",
       "1095  [baroque pop, canadian indie, indie rock, mode...         0.612   0.668   \n",
       "1096                               [uk alternative pop]         0.651   0.944   \n",
       "1097                                         [hot jazz]         0.492   0.194   \n",
       "1098                                 [ska, ska revival]         0.589   0.713   \n",
       "\n",
       "      acousticness  valence  song_popularity  \n",
       "0         0.731000    0.557               68  \n",
       "1         0.000012    0.767                0  \n",
       "2         0.290000    0.175                0  \n",
       "3         0.082200    0.331               20  \n",
       "4         0.735000    0.968                0  \n",
       "...            ...      ...              ...  \n",
       "1094      0.360000    0.802               56  \n",
       "1095      0.057900    0.524                0  \n",
       "1096      0.085500    0.676                3  \n",
       "1097      0.984000    0.368               11  \n",
       "1098      0.093700    0.830                0  \n",
       "\n",
       "[1099 rows x 6 columns]"
      ]
     },
     "execution_count": 7,
     "metadata": {},
     "output_type": "execute_result"
    }
   ],
   "source": [
    "genre_df =clean_data[['artist_genres', 'danceability','energy','acousticness','valence','song_popularity']].copy()\n",
    "genre_df"
   ]
  },
  {
   "cell_type": "code",
   "execution_count": 65,
   "id": "7c525b07",
   "metadata": {},
   "outputs": [
    {
     "data": {
      "text/plain": [
       "<bound method DataFrame.info of                                                    danceability    energy  \\\n",
       "artist_genres                                                               \n",
       "['']                                                   0.572286  0.384957   \n",
       "['acid house', 'detroit techno', 'techno']             0.714000  0.873000   \n",
       "['acid rock', 'album rock', 'blues rock', 'cla...      0.438000  0.710000   \n",
       "['acid rock', 'album rock', 'blues rock', 'cla...      0.421333  0.813667   \n",
       "['acid rock', 'album rock', 'classic rock', 'p...      0.416750  0.620000   \n",
       "...                                                         ...       ...   \n",
       "['ska']                                                0.805000  0.472000   \n",
       "['soul', 'southern soul']                              0.516000  0.150000   \n",
       "['space age pop']                                      0.699000  0.503000   \n",
       "['surf music']                                         0.461000  0.955000   \n",
       "['uk alternative pop']                                 0.651000  0.944000   \n",
       "\n",
       "                                                   acousticness   valence  \\\n",
       "artist_genres                                                               \n",
       "['']                                                   0.644897  0.527571   \n",
       "['acid house', 'detroit techno', 'techno']             0.152000  0.516000   \n",
       "['acid rock', 'album rock', 'blues rock', 'cla...      0.262000  0.530000   \n",
       "['acid rock', 'album rock', 'blues rock', 'cla...      0.154890  0.500000   \n",
       "['acid rock', 'album rock', 'classic rock', 'p...      0.215925  0.471800   \n",
       "...                                                         ...       ...   \n",
       "['ska']                                                0.092200  0.975000   \n",
       "['soul', 'southern soul']                              0.130000  0.205000   \n",
       "['space age pop']                                      0.775000  0.846000   \n",
       "['surf music']                                         0.111000  0.725000   \n",
       "['uk alternative pop']                                 0.085500  0.676000   \n",
       "\n",
       "                                                   song_popularity  \n",
       "artist_genres                                                       \n",
       "['']                                                     28.714286  \n",
       "['acid house', 'detroit techno', 'techno']                0.000000  \n",
       "['acid rock', 'album rock', 'blues rock', 'cla...        73.000000  \n",
       "['acid rock', 'album rock', 'blues rock', 'cla...        64.500000  \n",
       "['acid rock', 'album rock', 'classic rock', 'p...        39.000000  \n",
       "...                                                            ...  \n",
       "['ska']                                                   0.000000  \n",
       "['soul', 'southern soul']                                66.000000  \n",
       "['space age pop']                                        17.000000  \n",
       "['surf music']                                           45.000000  \n",
       "['uk alternative pop']                                    3.000000  \n",
       "\n",
       "[580 rows x 5 columns]>"
      ]
     },
     "execution_count": 65,
     "metadata": {},
     "output_type": "execute_result"
    }
   ],
   "source": [
    "genre_df['artist_genres']  = (genre_df['artist_genres'].astype('string'))\n",
    "newframe=genre_df.groupby('artist_genres')['danceability','energy','acousticness','valence','song_popularity'].mean()\n",
    "newframe.info\n"
   ]
  },
  {
   "cell_type": "code",
   "execution_count": 73,
   "id": "2dc1eecb",
   "metadata": {},
   "outputs": [
    {
     "name": "stdout",
     "output_type": "stream",
     "text": [
      "<class 'pandas.core.frame.DataFrame'>\n",
      "Index: 10 entries, ['permanent wave', 'pop'] to ['dance pop', 'europop', 'girl group']\n",
      "Data columns (total 5 columns):\n",
      " #   Column           Non-Null Count  Dtype  \n",
      "---  ------           --------------  -----  \n",
      " 0   danceability     10 non-null     float64\n",
      " 1   energy           10 non-null     float64\n",
      " 2   acousticness     10 non-null     float64\n",
      " 3   valence          10 non-null     float64\n",
      " 4   song_popularity  10 non-null     float64\n",
      "dtypes: float64(5)\n",
      "memory usage: 480.0 bytes\n"
     ]
    }
   ],
   "source": [
    "df = pd.DataFrame(newframe)\n",
    "new_genre= df.nlargest(10, 'song_popularity',keep='last')\n",
    "#new_genre.drop_duplicates('artist_genres')\n",
    "new_genre.info()\n",
    "new_genre.reset_index(inplace=True)\n"
   ]
  },
  {
   "cell_type": "code",
   "execution_count": 74,
   "id": "f5e880db",
   "metadata": {},
   "outputs": [
    {
     "data": {
      "text/html": [
       "<div>\n",
       "<style scoped>\n",
       "    .dataframe tbody tr th:only-of-type {\n",
       "        vertical-align: middle;\n",
       "    }\n",
       "\n",
       "    .dataframe tbody tr th {\n",
       "        vertical-align: top;\n",
       "    }\n",
       "\n",
       "    .dataframe thead th {\n",
       "        text-align: right;\n",
       "    }\n",
       "</style>\n",
       "<table border=\"1\" class=\"dataframe\">\n",
       "  <thead>\n",
       "    <tr style=\"text-align: right;\">\n",
       "      <th></th>\n",
       "      <th>artist_genres</th>\n",
       "      <th>danceability</th>\n",
       "      <th>energy</th>\n",
       "      <th>acousticness</th>\n",
       "      <th>valence</th>\n",
       "      <th>song_popularity</th>\n",
       "    </tr>\n",
       "  </thead>\n",
       "  <tbody>\n",
       "    <tr>\n",
       "      <th>0</th>\n",
       "      <td>['permanent wave', 'pop']</td>\n",
       "      <td>0.51225</td>\n",
       "      <td>0.61725</td>\n",
       "      <td>0.356947</td>\n",
       "      <td>0.2925</td>\n",
       "      <td>84.0</td>\n",
       "    </tr>\n",
       "    <tr>\n",
       "      <th>1</th>\n",
       "      <td>['new romantic', 'new wave', 'new wave pop', '...</td>\n",
       "      <td>0.57300</td>\n",
       "      <td>0.90200</td>\n",
       "      <td>0.018000</td>\n",
       "      <td>0.8760</td>\n",
       "      <td>84.0</td>\n",
       "    </tr>\n",
       "    <tr>\n",
       "      <th>2</th>\n",
       "      <td>['east coast hip hop', 'gangster rap', 'hip ho...</td>\n",
       "      <td>0.89900</td>\n",
       "      <td>0.71300</td>\n",
       "      <td>0.255000</td>\n",
       "      <td>0.7770</td>\n",
       "      <td>82.0</td>\n",
       "    </tr>\n",
       "    <tr>\n",
       "      <th>3</th>\n",
       "      <td>['art pop', 'electropop', 'pop']</td>\n",
       "      <td>0.70100</td>\n",
       "      <td>0.42500</td>\n",
       "      <td>0.328000</td>\n",
       "      <td>0.5620</td>\n",
       "      <td>82.0</td>\n",
       "    </tr>\n",
       "    <tr>\n",
       "      <th>4</th>\n",
       "      <td>['rap', 'slap house']</td>\n",
       "      <td>0.83400</td>\n",
       "      <td>0.73000</td>\n",
       "      <td>0.005130</td>\n",
       "      <td>0.4460</td>\n",
       "      <td>81.0</td>\n",
       "    </tr>\n",
       "    <tr>\n",
       "      <th>5</th>\n",
       "      <td>['art rock', 'dance rock', 'europop', 'mellow ...</td>\n",
       "      <td>0.69200</td>\n",
       "      <td>0.71100</td>\n",
       "      <td>0.225000</td>\n",
       "      <td>0.8750</td>\n",
       "      <td>81.0</td>\n",
       "    </tr>\n",
       "    <tr>\n",
       "      <th>6</th>\n",
       "      <td>['modern rock', 'rock']</td>\n",
       "      <td>0.54200</td>\n",
       "      <td>0.90500</td>\n",
       "      <td>0.001720</td>\n",
       "      <td>0.3740</td>\n",
       "      <td>80.0</td>\n",
       "    </tr>\n",
       "    <tr>\n",
       "      <th>7</th>\n",
       "      <td>['album rock', 'classic rock', 'hard rock', 'm...</td>\n",
       "      <td>0.48850</td>\n",
       "      <td>0.60950</td>\n",
       "      <td>0.160000</td>\n",
       "      <td>0.4685</td>\n",
       "      <td>79.5</td>\n",
       "    </tr>\n",
       "    <tr>\n",
       "      <th>8</th>\n",
       "      <td>['funk', 'quiet storm', 'soul']</td>\n",
       "      <td>0.52700</td>\n",
       "      <td>0.41500</td>\n",
       "      <td>0.457000</td>\n",
       "      <td>0.5150</td>\n",
       "      <td>79.0</td>\n",
       "    </tr>\n",
       "    <tr>\n",
       "      <th>9</th>\n",
       "      <td>['dance pop', 'europop', 'girl group']</td>\n",
       "      <td>0.76800</td>\n",
       "      <td>0.86400</td>\n",
       "      <td>0.101000</td>\n",
       "      <td>0.8910</td>\n",
       "      <td>79.0</td>\n",
       "    </tr>\n",
       "  </tbody>\n",
       "</table>\n",
       "</div>"
      ],
      "text/plain": [
       "                                       artist_genres  danceability   energy  \\\n",
       "0                          ['permanent wave', 'pop']       0.51225  0.61725   \n",
       "1  ['new romantic', 'new wave', 'new wave pop', '...       0.57300  0.90200   \n",
       "2  ['east coast hip hop', 'gangster rap', 'hip ho...       0.89900  0.71300   \n",
       "3                   ['art pop', 'electropop', 'pop']       0.70100  0.42500   \n",
       "4                              ['rap', 'slap house']       0.83400  0.73000   \n",
       "5  ['art rock', 'dance rock', 'europop', 'mellow ...       0.69200  0.71100   \n",
       "6                            ['modern rock', 'rock']       0.54200  0.90500   \n",
       "7  ['album rock', 'classic rock', 'hard rock', 'm...       0.48850  0.60950   \n",
       "8                    ['funk', 'quiet storm', 'soul']       0.52700  0.41500   \n",
       "9             ['dance pop', 'europop', 'girl group']       0.76800  0.86400   \n",
       "\n",
       "   acousticness  valence  song_popularity  \n",
       "0      0.356947   0.2925             84.0  \n",
       "1      0.018000   0.8760             84.0  \n",
       "2      0.255000   0.7770             82.0  \n",
       "3      0.328000   0.5620             82.0  \n",
       "4      0.005130   0.4460             81.0  \n",
       "5      0.225000   0.8750             81.0  \n",
       "6      0.001720   0.3740             80.0  \n",
       "7      0.160000   0.4685             79.5  \n",
       "8      0.457000   0.5150             79.0  \n",
       "9      0.101000   0.8910             79.0  "
      ]
     },
     "execution_count": 74,
     "metadata": {},
     "output_type": "execute_result"
    }
   ],
   "source": [
    "new_genre"
   ]
  },
  {
   "cell_type": "code",
   "execution_count": 75,
   "id": "9fe874cd",
   "metadata": {},
   "outputs": [
    {
     "data": {
      "application/vnd.plotly.v1+json": {
       "config": {
        "plotlyServerURL": "https://plot.ly"
       },
       "data": [
        {
         "alignmentgroup": "True",
         "hovertemplate": "variable=valence<br>artist_genres=%{x}<br>value=%{y}<extra></extra>",
         "legendgroup": "valence",
         "marker": {
          "color": "#636efa",
          "pattern": {
           "shape": ""
          }
         },
         "name": "valence",
         "offsetgroup": "valence",
         "orientation": "v",
         "showlegend": true,
         "textposition": "auto",
         "type": "bar",
         "x": [
          "['permanent wave', 'pop']",
          "['new romantic', 'new wave', 'new wave pop', 'permanent wave', 'pop rock', 'soft rock', 'synthpop']",
          "['east coast hip hop', 'gangster rap', 'hip hop', 'pop rap', 'queens hip hop', 'rap']",
          "['art pop', 'electropop', 'pop']",
          "['rap', 'slap house']",
          "['art rock', 'dance rock', 'europop', 'mellow gold', 'new romantic', 'new wave', 'new wave pop', 'rock', 'soft rock', 'sophisti-pop', 'synthpop']",
          "['modern rock', 'rock']",
          "['album rock', 'classic rock', 'hard rock', 'mellow gold', 'rock', 'soft rock']",
          "['funk', 'quiet storm', 'soul']",
          "['dance pop', 'europop', 'girl group']"
         ],
         "xaxis": "x",
         "y": [
          0.2925,
          0.876,
          0.777,
          0.562,
          0.446,
          0.875,
          0.374,
          0.4685,
          0.515,
          0.891
         ],
         "yaxis": "y"
        },
        {
         "alignmentgroup": "True",
         "hovertemplate": "variable=energy<br>artist_genres=%{x}<br>value=%{y}<extra></extra>",
         "legendgroup": "energy",
         "marker": {
          "color": "#EF553B",
          "pattern": {
           "shape": ""
          }
         },
         "name": "energy",
         "offsetgroup": "energy",
         "orientation": "v",
         "showlegend": true,
         "textposition": "auto",
         "type": "bar",
         "x": [
          "['permanent wave', 'pop']",
          "['new romantic', 'new wave', 'new wave pop', 'permanent wave', 'pop rock', 'soft rock', 'synthpop']",
          "['east coast hip hop', 'gangster rap', 'hip hop', 'pop rap', 'queens hip hop', 'rap']",
          "['art pop', 'electropop', 'pop']",
          "['rap', 'slap house']",
          "['art rock', 'dance rock', 'europop', 'mellow gold', 'new romantic', 'new wave', 'new wave pop', 'rock', 'soft rock', 'sophisti-pop', 'synthpop']",
          "['modern rock', 'rock']",
          "['album rock', 'classic rock', 'hard rock', 'mellow gold', 'rock', 'soft rock']",
          "['funk', 'quiet storm', 'soul']",
          "['dance pop', 'europop', 'girl group']"
         ],
         "xaxis": "x",
         "y": [
          0.61725,
          0.902,
          0.713,
          0.425,
          0.73,
          0.711,
          0.905,
          0.6094999999999999,
          0.415,
          0.864
         ],
         "yaxis": "y"
        },
        {
         "alignmentgroup": "True",
         "hovertemplate": "variable=danceability<br>artist_genres=%{x}<br>value=%{y}<extra></extra>",
         "legendgroup": "danceability",
         "marker": {
          "color": "#00cc96",
          "pattern": {
           "shape": ""
          }
         },
         "name": "danceability",
         "offsetgroup": "danceability",
         "orientation": "v",
         "showlegend": true,
         "textposition": "auto",
         "type": "bar",
         "x": [
          "['permanent wave', 'pop']",
          "['new romantic', 'new wave', 'new wave pop', 'permanent wave', 'pop rock', 'soft rock', 'synthpop']",
          "['east coast hip hop', 'gangster rap', 'hip hop', 'pop rap', 'queens hip hop', 'rap']",
          "['art pop', 'electropop', 'pop']",
          "['rap', 'slap house']",
          "['art rock', 'dance rock', 'europop', 'mellow gold', 'new romantic', 'new wave', 'new wave pop', 'rock', 'soft rock', 'sophisti-pop', 'synthpop']",
          "['modern rock', 'rock']",
          "['album rock', 'classic rock', 'hard rock', 'mellow gold', 'rock', 'soft rock']",
          "['funk', 'quiet storm', 'soul']",
          "['dance pop', 'europop', 'girl group']"
         ],
         "xaxis": "x",
         "y": [
          0.51225,
          0.573,
          0.899,
          0.701,
          0.834,
          0.692,
          0.542,
          0.4885,
          0.527,
          0.768
         ],
         "yaxis": "y"
        },
        {
         "alignmentgroup": "True",
         "hovertemplate": "variable=acousticness<br>artist_genres=%{x}<br>value=%{y}<extra></extra>",
         "legendgroup": "acousticness",
         "marker": {
          "color": "#ab63fa",
          "pattern": {
           "shape": ""
          }
         },
         "name": "acousticness",
         "offsetgroup": "acousticness",
         "orientation": "v",
         "showlegend": true,
         "textposition": "auto",
         "type": "bar",
         "x": [
          "['permanent wave', 'pop']",
          "['new romantic', 'new wave', 'new wave pop', 'permanent wave', 'pop rock', 'soft rock', 'synthpop']",
          "['east coast hip hop', 'gangster rap', 'hip hop', 'pop rap', 'queens hip hop', 'rap']",
          "['art pop', 'electropop', 'pop']",
          "['rap', 'slap house']",
          "['art rock', 'dance rock', 'europop', 'mellow gold', 'new romantic', 'new wave', 'new wave pop', 'rock', 'soft rock', 'sophisti-pop', 'synthpop']",
          "['modern rock', 'rock']",
          "['album rock', 'classic rock', 'hard rock', 'mellow gold', 'rock', 'soft rock']",
          "['funk', 'quiet storm', 'soul']",
          "['dance pop', 'europop', 'girl group']"
         ],
         "xaxis": "x",
         "y": [
          0.3569475,
          0.018,
          0.255,
          0.328,
          0.00513,
          0.225,
          0.00172,
          0.16,
          0.457,
          0.101
         ],
         "yaxis": "y"
        }
       ],
       "layout": {
        "barmode": "group",
        "legend": {
         "title": {
          "text": "variable"
         },
         "tracegroupgap": 0
        },
        "margin": {
         "t": 60
        },
        "template": {
         "data": {
          "bar": [
           {
            "error_x": {
             "color": "#2a3f5f"
            },
            "error_y": {
             "color": "#2a3f5f"
            },
            "marker": {
             "line": {
              "color": "#E5ECF6",
              "width": 0.5
             },
             "pattern": {
              "fillmode": "overlay",
              "size": 10,
              "solidity": 0.2
             }
            },
            "type": "bar"
           }
          ],
          "barpolar": [
           {
            "marker": {
             "line": {
              "color": "#E5ECF6",
              "width": 0.5
             },
             "pattern": {
              "fillmode": "overlay",
              "size": 10,
              "solidity": 0.2
             }
            },
            "type": "barpolar"
           }
          ],
          "carpet": [
           {
            "aaxis": {
             "endlinecolor": "#2a3f5f",
             "gridcolor": "white",
             "linecolor": "white",
             "minorgridcolor": "white",
             "startlinecolor": "#2a3f5f"
            },
            "baxis": {
             "endlinecolor": "#2a3f5f",
             "gridcolor": "white",
             "linecolor": "white",
             "minorgridcolor": "white",
             "startlinecolor": "#2a3f5f"
            },
            "type": "carpet"
           }
          ],
          "choropleth": [
           {
            "colorbar": {
             "outlinewidth": 0,
             "ticks": ""
            },
            "type": "choropleth"
           }
          ],
          "contour": [
           {
            "colorbar": {
             "outlinewidth": 0,
             "ticks": ""
            },
            "colorscale": [
             [
              0,
              "#0d0887"
             ],
             [
              0.1111111111111111,
              "#46039f"
             ],
             [
              0.2222222222222222,
              "#7201a8"
             ],
             [
              0.3333333333333333,
              "#9c179e"
             ],
             [
              0.4444444444444444,
              "#bd3786"
             ],
             [
              0.5555555555555556,
              "#d8576b"
             ],
             [
              0.6666666666666666,
              "#ed7953"
             ],
             [
              0.7777777777777778,
              "#fb9f3a"
             ],
             [
              0.8888888888888888,
              "#fdca26"
             ],
             [
              1,
              "#f0f921"
             ]
            ],
            "type": "contour"
           }
          ],
          "contourcarpet": [
           {
            "colorbar": {
             "outlinewidth": 0,
             "ticks": ""
            },
            "type": "contourcarpet"
           }
          ],
          "heatmap": [
           {
            "colorbar": {
             "outlinewidth": 0,
             "ticks": ""
            },
            "colorscale": [
             [
              0,
              "#0d0887"
             ],
             [
              0.1111111111111111,
              "#46039f"
             ],
             [
              0.2222222222222222,
              "#7201a8"
             ],
             [
              0.3333333333333333,
              "#9c179e"
             ],
             [
              0.4444444444444444,
              "#bd3786"
             ],
             [
              0.5555555555555556,
              "#d8576b"
             ],
             [
              0.6666666666666666,
              "#ed7953"
             ],
             [
              0.7777777777777778,
              "#fb9f3a"
             ],
             [
              0.8888888888888888,
              "#fdca26"
             ],
             [
              1,
              "#f0f921"
             ]
            ],
            "type": "heatmap"
           }
          ],
          "heatmapgl": [
           {
            "colorbar": {
             "outlinewidth": 0,
             "ticks": ""
            },
            "colorscale": [
             [
              0,
              "#0d0887"
             ],
             [
              0.1111111111111111,
              "#46039f"
             ],
             [
              0.2222222222222222,
              "#7201a8"
             ],
             [
              0.3333333333333333,
              "#9c179e"
             ],
             [
              0.4444444444444444,
              "#bd3786"
             ],
             [
              0.5555555555555556,
              "#d8576b"
             ],
             [
              0.6666666666666666,
              "#ed7953"
             ],
             [
              0.7777777777777778,
              "#fb9f3a"
             ],
             [
              0.8888888888888888,
              "#fdca26"
             ],
             [
              1,
              "#f0f921"
             ]
            ],
            "type": "heatmapgl"
           }
          ],
          "histogram": [
           {
            "marker": {
             "pattern": {
              "fillmode": "overlay",
              "size": 10,
              "solidity": 0.2
             }
            },
            "type": "histogram"
           }
          ],
          "histogram2d": [
           {
            "colorbar": {
             "outlinewidth": 0,
             "ticks": ""
            },
            "colorscale": [
             [
              0,
              "#0d0887"
             ],
             [
              0.1111111111111111,
              "#46039f"
             ],
             [
              0.2222222222222222,
              "#7201a8"
             ],
             [
              0.3333333333333333,
              "#9c179e"
             ],
             [
              0.4444444444444444,
              "#bd3786"
             ],
             [
              0.5555555555555556,
              "#d8576b"
             ],
             [
              0.6666666666666666,
              "#ed7953"
             ],
             [
              0.7777777777777778,
              "#fb9f3a"
             ],
             [
              0.8888888888888888,
              "#fdca26"
             ],
             [
              1,
              "#f0f921"
             ]
            ],
            "type": "histogram2d"
           }
          ],
          "histogram2dcontour": [
           {
            "colorbar": {
             "outlinewidth": 0,
             "ticks": ""
            },
            "colorscale": [
             [
              0,
              "#0d0887"
             ],
             [
              0.1111111111111111,
              "#46039f"
             ],
             [
              0.2222222222222222,
              "#7201a8"
             ],
             [
              0.3333333333333333,
              "#9c179e"
             ],
             [
              0.4444444444444444,
              "#bd3786"
             ],
             [
              0.5555555555555556,
              "#d8576b"
             ],
             [
              0.6666666666666666,
              "#ed7953"
             ],
             [
              0.7777777777777778,
              "#fb9f3a"
             ],
             [
              0.8888888888888888,
              "#fdca26"
             ],
             [
              1,
              "#f0f921"
             ]
            ],
            "type": "histogram2dcontour"
           }
          ],
          "mesh3d": [
           {
            "colorbar": {
             "outlinewidth": 0,
             "ticks": ""
            },
            "type": "mesh3d"
           }
          ],
          "parcoords": [
           {
            "line": {
             "colorbar": {
              "outlinewidth": 0,
              "ticks": ""
             }
            },
            "type": "parcoords"
           }
          ],
          "pie": [
           {
            "automargin": true,
            "type": "pie"
           }
          ],
          "scatter": [
           {
            "marker": {
             "colorbar": {
              "outlinewidth": 0,
              "ticks": ""
             }
            },
            "type": "scatter"
           }
          ],
          "scatter3d": [
           {
            "line": {
             "colorbar": {
              "outlinewidth": 0,
              "ticks": ""
             }
            },
            "marker": {
             "colorbar": {
              "outlinewidth": 0,
              "ticks": ""
             }
            },
            "type": "scatter3d"
           }
          ],
          "scattercarpet": [
           {
            "marker": {
             "colorbar": {
              "outlinewidth": 0,
              "ticks": ""
             }
            },
            "type": "scattercarpet"
           }
          ],
          "scattergeo": [
           {
            "marker": {
             "colorbar": {
              "outlinewidth": 0,
              "ticks": ""
             }
            },
            "type": "scattergeo"
           }
          ],
          "scattergl": [
           {
            "marker": {
             "colorbar": {
              "outlinewidth": 0,
              "ticks": ""
             }
            },
            "type": "scattergl"
           }
          ],
          "scattermapbox": [
           {
            "marker": {
             "colorbar": {
              "outlinewidth": 0,
              "ticks": ""
             }
            },
            "type": "scattermapbox"
           }
          ],
          "scatterpolar": [
           {
            "marker": {
             "colorbar": {
              "outlinewidth": 0,
              "ticks": ""
             }
            },
            "type": "scatterpolar"
           }
          ],
          "scatterpolargl": [
           {
            "marker": {
             "colorbar": {
              "outlinewidth": 0,
              "ticks": ""
             }
            },
            "type": "scatterpolargl"
           }
          ],
          "scatterternary": [
           {
            "marker": {
             "colorbar": {
              "outlinewidth": 0,
              "ticks": ""
             }
            },
            "type": "scatterternary"
           }
          ],
          "surface": [
           {
            "colorbar": {
             "outlinewidth": 0,
             "ticks": ""
            },
            "colorscale": [
             [
              0,
              "#0d0887"
             ],
             [
              0.1111111111111111,
              "#46039f"
             ],
             [
              0.2222222222222222,
              "#7201a8"
             ],
             [
              0.3333333333333333,
              "#9c179e"
             ],
             [
              0.4444444444444444,
              "#bd3786"
             ],
             [
              0.5555555555555556,
              "#d8576b"
             ],
             [
              0.6666666666666666,
              "#ed7953"
             ],
             [
              0.7777777777777778,
              "#fb9f3a"
             ],
             [
              0.8888888888888888,
              "#fdca26"
             ],
             [
              1,
              "#f0f921"
             ]
            ],
            "type": "surface"
           }
          ],
          "table": [
           {
            "cells": {
             "fill": {
              "color": "#EBF0F8"
             },
             "line": {
              "color": "white"
             }
            },
            "header": {
             "fill": {
              "color": "#C8D4E3"
             },
             "line": {
              "color": "white"
             }
            },
            "type": "table"
           }
          ]
         },
         "layout": {
          "annotationdefaults": {
           "arrowcolor": "#2a3f5f",
           "arrowhead": 0,
           "arrowwidth": 1
          },
          "autotypenumbers": "strict",
          "coloraxis": {
           "colorbar": {
            "outlinewidth": 0,
            "ticks": ""
           }
          },
          "colorscale": {
           "diverging": [
            [
             0,
             "#8e0152"
            ],
            [
             0.1,
             "#c51b7d"
            ],
            [
             0.2,
             "#de77ae"
            ],
            [
             0.3,
             "#f1b6da"
            ],
            [
             0.4,
             "#fde0ef"
            ],
            [
             0.5,
             "#f7f7f7"
            ],
            [
             0.6,
             "#e6f5d0"
            ],
            [
             0.7,
             "#b8e186"
            ],
            [
             0.8,
             "#7fbc41"
            ],
            [
             0.9,
             "#4d9221"
            ],
            [
             1,
             "#276419"
            ]
           ],
           "sequential": [
            [
             0,
             "#0d0887"
            ],
            [
             0.1111111111111111,
             "#46039f"
            ],
            [
             0.2222222222222222,
             "#7201a8"
            ],
            [
             0.3333333333333333,
             "#9c179e"
            ],
            [
             0.4444444444444444,
             "#bd3786"
            ],
            [
             0.5555555555555556,
             "#d8576b"
            ],
            [
             0.6666666666666666,
             "#ed7953"
            ],
            [
             0.7777777777777778,
             "#fb9f3a"
            ],
            [
             0.8888888888888888,
             "#fdca26"
            ],
            [
             1,
             "#f0f921"
            ]
           ],
           "sequentialminus": [
            [
             0,
             "#0d0887"
            ],
            [
             0.1111111111111111,
             "#46039f"
            ],
            [
             0.2222222222222222,
             "#7201a8"
            ],
            [
             0.3333333333333333,
             "#9c179e"
            ],
            [
             0.4444444444444444,
             "#bd3786"
            ],
            [
             0.5555555555555556,
             "#d8576b"
            ],
            [
             0.6666666666666666,
             "#ed7953"
            ],
            [
             0.7777777777777778,
             "#fb9f3a"
            ],
            [
             0.8888888888888888,
             "#fdca26"
            ],
            [
             1,
             "#f0f921"
            ]
           ]
          },
          "colorway": [
           "#636efa",
           "#EF553B",
           "#00cc96",
           "#ab63fa",
           "#FFA15A",
           "#19d3f3",
           "#FF6692",
           "#B6E880",
           "#FF97FF",
           "#FECB52"
          ],
          "font": {
           "color": "#2a3f5f"
          },
          "geo": {
           "bgcolor": "white",
           "lakecolor": "white",
           "landcolor": "#E5ECF6",
           "showlakes": true,
           "showland": true,
           "subunitcolor": "white"
          },
          "hoverlabel": {
           "align": "left"
          },
          "hovermode": "closest",
          "mapbox": {
           "style": "light"
          },
          "paper_bgcolor": "white",
          "plot_bgcolor": "#E5ECF6",
          "polar": {
           "angularaxis": {
            "gridcolor": "white",
            "linecolor": "white",
            "ticks": ""
           },
           "bgcolor": "#E5ECF6",
           "radialaxis": {
            "gridcolor": "white",
            "linecolor": "white",
            "ticks": ""
           }
          },
          "scene": {
           "xaxis": {
            "backgroundcolor": "#E5ECF6",
            "gridcolor": "white",
            "gridwidth": 2,
            "linecolor": "white",
            "showbackground": true,
            "ticks": "",
            "zerolinecolor": "white"
           },
           "yaxis": {
            "backgroundcolor": "#E5ECF6",
            "gridcolor": "white",
            "gridwidth": 2,
            "linecolor": "white",
            "showbackground": true,
            "ticks": "",
            "zerolinecolor": "white"
           },
           "zaxis": {
            "backgroundcolor": "#E5ECF6",
            "gridcolor": "white",
            "gridwidth": 2,
            "linecolor": "white",
            "showbackground": true,
            "ticks": "",
            "zerolinecolor": "white"
           }
          },
          "shapedefaults": {
           "line": {
            "color": "#2a3f5f"
           }
          },
          "ternary": {
           "aaxis": {
            "gridcolor": "white",
            "linecolor": "white",
            "ticks": ""
           },
           "baxis": {
            "gridcolor": "white",
            "linecolor": "white",
            "ticks": ""
           },
           "bgcolor": "#E5ECF6",
           "caxis": {
            "gridcolor": "white",
            "linecolor": "white",
            "ticks": ""
           }
          },
          "title": {
           "x": 0.05
          },
          "xaxis": {
           "automargin": true,
           "gridcolor": "white",
           "linecolor": "white",
           "ticks": "",
           "title": {
            "standoff": 15
           },
           "zerolinecolor": "white",
           "zerolinewidth": 2
          },
          "yaxis": {
           "automargin": true,
           "gridcolor": "white",
           "linecolor": "white",
           "ticks": "",
           "title": {
            "standoff": 15
           },
           "zerolinecolor": "white",
           "zerolinewidth": 2
          }
         }
        },
        "xaxis": {
         "anchor": "y",
         "domain": [
          0,
          1
         ],
         "title": {
          "text": "artist_genres"
         }
        },
        "yaxis": {
         "anchor": "x",
         "domain": [
          0,
          1
         ],
         "title": {
          "text": "value"
         }
        }
       }
      },
      "text/html": [
       "<div>                            <div id=\"eb891e60-20fc-4c18-9ac6-e13a4e9f4212\" class=\"plotly-graph-div\" style=\"height:525px; width:100%;\"></div>            <script type=\"text/javascript\">                require([\"plotly\"], function(Plotly) {                    window.PLOTLYENV=window.PLOTLYENV || {};                                    if (document.getElementById(\"eb891e60-20fc-4c18-9ac6-e13a4e9f4212\")) {                    Plotly.newPlot(                        \"eb891e60-20fc-4c18-9ac6-e13a4e9f4212\",                        [{\"alignmentgroup\":\"True\",\"hovertemplate\":\"variable=valence<br>artist_genres=%{x}<br>value=%{y}<extra></extra>\",\"legendgroup\":\"valence\",\"marker\":{\"color\":\"#636efa\",\"pattern\":{\"shape\":\"\"}},\"name\":\"valence\",\"offsetgroup\":\"valence\",\"orientation\":\"v\",\"showlegend\":true,\"textposition\":\"auto\",\"x\":[\"['permanent wave', 'pop']\",\"['new romantic', 'new wave', 'new wave pop', 'permanent wave', 'pop rock', 'soft rock', 'synthpop']\",\"['east coast hip hop', 'gangster rap', 'hip hop', 'pop rap', 'queens hip hop', 'rap']\",\"['art pop', 'electropop', 'pop']\",\"['rap', 'slap house']\",\"['art rock', 'dance rock', 'europop', 'mellow gold', 'new romantic', 'new wave', 'new wave pop', 'rock', 'soft rock', 'sophisti-pop', 'synthpop']\",\"['modern rock', 'rock']\",\"['album rock', 'classic rock', 'hard rock', 'mellow gold', 'rock', 'soft rock']\",\"['funk', 'quiet storm', 'soul']\",\"['dance pop', 'europop', 'girl group']\"],\"xaxis\":\"x\",\"y\":[0.2925,0.876,0.777,0.562,0.446,0.875,0.374,0.4685,0.515,0.891],\"yaxis\":\"y\",\"type\":\"bar\"},{\"alignmentgroup\":\"True\",\"hovertemplate\":\"variable=energy<br>artist_genres=%{x}<br>value=%{y}<extra></extra>\",\"legendgroup\":\"energy\",\"marker\":{\"color\":\"#EF553B\",\"pattern\":{\"shape\":\"\"}},\"name\":\"energy\",\"offsetgroup\":\"energy\",\"orientation\":\"v\",\"showlegend\":true,\"textposition\":\"auto\",\"x\":[\"['permanent wave', 'pop']\",\"['new romantic', 'new wave', 'new wave pop', 'permanent wave', 'pop rock', 'soft rock', 'synthpop']\",\"['east coast hip hop', 'gangster rap', 'hip hop', 'pop rap', 'queens hip hop', 'rap']\",\"['art pop', 'electropop', 'pop']\",\"['rap', 'slap house']\",\"['art rock', 'dance rock', 'europop', 'mellow gold', 'new romantic', 'new wave', 'new wave pop', 'rock', 'soft rock', 'sophisti-pop', 'synthpop']\",\"['modern rock', 'rock']\",\"['album rock', 'classic rock', 'hard rock', 'mellow gold', 'rock', 'soft rock']\",\"['funk', 'quiet storm', 'soul']\",\"['dance pop', 'europop', 'girl group']\"],\"xaxis\":\"x\",\"y\":[0.61725,0.902,0.713,0.425,0.73,0.711,0.905,0.6094999999999999,0.415,0.864],\"yaxis\":\"y\",\"type\":\"bar\"},{\"alignmentgroup\":\"True\",\"hovertemplate\":\"variable=danceability<br>artist_genres=%{x}<br>value=%{y}<extra></extra>\",\"legendgroup\":\"danceability\",\"marker\":{\"color\":\"#00cc96\",\"pattern\":{\"shape\":\"\"}},\"name\":\"danceability\",\"offsetgroup\":\"danceability\",\"orientation\":\"v\",\"showlegend\":true,\"textposition\":\"auto\",\"x\":[\"['permanent wave', 'pop']\",\"['new romantic', 'new wave', 'new wave pop', 'permanent wave', 'pop rock', 'soft rock', 'synthpop']\",\"['east coast hip hop', 'gangster rap', 'hip hop', 'pop rap', 'queens hip hop', 'rap']\",\"['art pop', 'electropop', 'pop']\",\"['rap', 'slap house']\",\"['art rock', 'dance rock', 'europop', 'mellow gold', 'new romantic', 'new wave', 'new wave pop', 'rock', 'soft rock', 'sophisti-pop', 'synthpop']\",\"['modern rock', 'rock']\",\"['album rock', 'classic rock', 'hard rock', 'mellow gold', 'rock', 'soft rock']\",\"['funk', 'quiet storm', 'soul']\",\"['dance pop', 'europop', 'girl group']\"],\"xaxis\":\"x\",\"y\":[0.51225,0.573,0.899,0.701,0.834,0.692,0.542,0.4885,0.527,0.768],\"yaxis\":\"y\",\"type\":\"bar\"},{\"alignmentgroup\":\"True\",\"hovertemplate\":\"variable=acousticness<br>artist_genres=%{x}<br>value=%{y}<extra></extra>\",\"legendgroup\":\"acousticness\",\"marker\":{\"color\":\"#ab63fa\",\"pattern\":{\"shape\":\"\"}},\"name\":\"acousticness\",\"offsetgroup\":\"acousticness\",\"orientation\":\"v\",\"showlegend\":true,\"textposition\":\"auto\",\"x\":[\"['permanent wave', 'pop']\",\"['new romantic', 'new wave', 'new wave pop', 'permanent wave', 'pop rock', 'soft rock', 'synthpop']\",\"['east coast hip hop', 'gangster rap', 'hip hop', 'pop rap', 'queens hip hop', 'rap']\",\"['art pop', 'electropop', 'pop']\",\"['rap', 'slap house']\",\"['art rock', 'dance rock', 'europop', 'mellow gold', 'new romantic', 'new wave', 'new wave pop', 'rock', 'soft rock', 'sophisti-pop', 'synthpop']\",\"['modern rock', 'rock']\",\"['album rock', 'classic rock', 'hard rock', 'mellow gold', 'rock', 'soft rock']\",\"['funk', 'quiet storm', 'soul']\",\"['dance pop', 'europop', 'girl group']\"],\"xaxis\":\"x\",\"y\":[0.3569475,0.018,0.255,0.328,0.00513,0.225,0.00172,0.16,0.457,0.101],\"yaxis\":\"y\",\"type\":\"bar\"}],                        {\"template\":{\"data\":{\"bar\":[{\"error_x\":{\"color\":\"#2a3f5f\"},\"error_y\":{\"color\":\"#2a3f5f\"},\"marker\":{\"line\":{\"color\":\"#E5ECF6\",\"width\":0.5},\"pattern\":{\"fillmode\":\"overlay\",\"size\":10,\"solidity\":0.2}},\"type\":\"bar\"}],\"barpolar\":[{\"marker\":{\"line\":{\"color\":\"#E5ECF6\",\"width\":0.5},\"pattern\":{\"fillmode\":\"overlay\",\"size\":10,\"solidity\":0.2}},\"type\":\"barpolar\"}],\"carpet\":[{\"aaxis\":{\"endlinecolor\":\"#2a3f5f\",\"gridcolor\":\"white\",\"linecolor\":\"white\",\"minorgridcolor\":\"white\",\"startlinecolor\":\"#2a3f5f\"},\"baxis\":{\"endlinecolor\":\"#2a3f5f\",\"gridcolor\":\"white\",\"linecolor\":\"white\",\"minorgridcolor\":\"white\",\"startlinecolor\":\"#2a3f5f\"},\"type\":\"carpet\"}],\"choropleth\":[{\"colorbar\":{\"outlinewidth\":0,\"ticks\":\"\"},\"type\":\"choropleth\"}],\"contour\":[{\"colorbar\":{\"outlinewidth\":0,\"ticks\":\"\"},\"colorscale\":[[0.0,\"#0d0887\"],[0.1111111111111111,\"#46039f\"],[0.2222222222222222,\"#7201a8\"],[0.3333333333333333,\"#9c179e\"],[0.4444444444444444,\"#bd3786\"],[0.5555555555555556,\"#d8576b\"],[0.6666666666666666,\"#ed7953\"],[0.7777777777777778,\"#fb9f3a\"],[0.8888888888888888,\"#fdca26\"],[1.0,\"#f0f921\"]],\"type\":\"contour\"}],\"contourcarpet\":[{\"colorbar\":{\"outlinewidth\":0,\"ticks\":\"\"},\"type\":\"contourcarpet\"}],\"heatmap\":[{\"colorbar\":{\"outlinewidth\":0,\"ticks\":\"\"},\"colorscale\":[[0.0,\"#0d0887\"],[0.1111111111111111,\"#46039f\"],[0.2222222222222222,\"#7201a8\"],[0.3333333333333333,\"#9c179e\"],[0.4444444444444444,\"#bd3786\"],[0.5555555555555556,\"#d8576b\"],[0.6666666666666666,\"#ed7953\"],[0.7777777777777778,\"#fb9f3a\"],[0.8888888888888888,\"#fdca26\"],[1.0,\"#f0f921\"]],\"type\":\"heatmap\"}],\"heatmapgl\":[{\"colorbar\":{\"outlinewidth\":0,\"ticks\":\"\"},\"colorscale\":[[0.0,\"#0d0887\"],[0.1111111111111111,\"#46039f\"],[0.2222222222222222,\"#7201a8\"],[0.3333333333333333,\"#9c179e\"],[0.4444444444444444,\"#bd3786\"],[0.5555555555555556,\"#d8576b\"],[0.6666666666666666,\"#ed7953\"],[0.7777777777777778,\"#fb9f3a\"],[0.8888888888888888,\"#fdca26\"],[1.0,\"#f0f921\"]],\"type\":\"heatmapgl\"}],\"histogram\":[{\"marker\":{\"pattern\":{\"fillmode\":\"overlay\",\"size\":10,\"solidity\":0.2}},\"type\":\"histogram\"}],\"histogram2d\":[{\"colorbar\":{\"outlinewidth\":0,\"ticks\":\"\"},\"colorscale\":[[0.0,\"#0d0887\"],[0.1111111111111111,\"#46039f\"],[0.2222222222222222,\"#7201a8\"],[0.3333333333333333,\"#9c179e\"],[0.4444444444444444,\"#bd3786\"],[0.5555555555555556,\"#d8576b\"],[0.6666666666666666,\"#ed7953\"],[0.7777777777777778,\"#fb9f3a\"],[0.8888888888888888,\"#fdca26\"],[1.0,\"#f0f921\"]],\"type\":\"histogram2d\"}],\"histogram2dcontour\":[{\"colorbar\":{\"outlinewidth\":0,\"ticks\":\"\"},\"colorscale\":[[0.0,\"#0d0887\"],[0.1111111111111111,\"#46039f\"],[0.2222222222222222,\"#7201a8\"],[0.3333333333333333,\"#9c179e\"],[0.4444444444444444,\"#bd3786\"],[0.5555555555555556,\"#d8576b\"],[0.6666666666666666,\"#ed7953\"],[0.7777777777777778,\"#fb9f3a\"],[0.8888888888888888,\"#fdca26\"],[1.0,\"#f0f921\"]],\"type\":\"histogram2dcontour\"}],\"mesh3d\":[{\"colorbar\":{\"outlinewidth\":0,\"ticks\":\"\"},\"type\":\"mesh3d\"}],\"parcoords\":[{\"line\":{\"colorbar\":{\"outlinewidth\":0,\"ticks\":\"\"}},\"type\":\"parcoords\"}],\"pie\":[{\"automargin\":true,\"type\":\"pie\"}],\"scatter\":[{\"marker\":{\"colorbar\":{\"outlinewidth\":0,\"ticks\":\"\"}},\"type\":\"scatter\"}],\"scatter3d\":[{\"line\":{\"colorbar\":{\"outlinewidth\":0,\"ticks\":\"\"}},\"marker\":{\"colorbar\":{\"outlinewidth\":0,\"ticks\":\"\"}},\"type\":\"scatter3d\"}],\"scattercarpet\":[{\"marker\":{\"colorbar\":{\"outlinewidth\":0,\"ticks\":\"\"}},\"type\":\"scattercarpet\"}],\"scattergeo\":[{\"marker\":{\"colorbar\":{\"outlinewidth\":0,\"ticks\":\"\"}},\"type\":\"scattergeo\"}],\"scattergl\":[{\"marker\":{\"colorbar\":{\"outlinewidth\":0,\"ticks\":\"\"}},\"type\":\"scattergl\"}],\"scattermapbox\":[{\"marker\":{\"colorbar\":{\"outlinewidth\":0,\"ticks\":\"\"}},\"type\":\"scattermapbox\"}],\"scatterpolar\":[{\"marker\":{\"colorbar\":{\"outlinewidth\":0,\"ticks\":\"\"}},\"type\":\"scatterpolar\"}],\"scatterpolargl\":[{\"marker\":{\"colorbar\":{\"outlinewidth\":0,\"ticks\":\"\"}},\"type\":\"scatterpolargl\"}],\"scatterternary\":[{\"marker\":{\"colorbar\":{\"outlinewidth\":0,\"ticks\":\"\"}},\"type\":\"scatterternary\"}],\"surface\":[{\"colorbar\":{\"outlinewidth\":0,\"ticks\":\"\"},\"colorscale\":[[0.0,\"#0d0887\"],[0.1111111111111111,\"#46039f\"],[0.2222222222222222,\"#7201a8\"],[0.3333333333333333,\"#9c179e\"],[0.4444444444444444,\"#bd3786\"],[0.5555555555555556,\"#d8576b\"],[0.6666666666666666,\"#ed7953\"],[0.7777777777777778,\"#fb9f3a\"],[0.8888888888888888,\"#fdca26\"],[1.0,\"#f0f921\"]],\"type\":\"surface\"}],\"table\":[{\"cells\":{\"fill\":{\"color\":\"#EBF0F8\"},\"line\":{\"color\":\"white\"}},\"header\":{\"fill\":{\"color\":\"#C8D4E3\"},\"line\":{\"color\":\"white\"}},\"type\":\"table\"}]},\"layout\":{\"annotationdefaults\":{\"arrowcolor\":\"#2a3f5f\",\"arrowhead\":0,\"arrowwidth\":1},\"autotypenumbers\":\"strict\",\"coloraxis\":{\"colorbar\":{\"outlinewidth\":0,\"ticks\":\"\"}},\"colorscale\":{\"diverging\":[[0,\"#8e0152\"],[0.1,\"#c51b7d\"],[0.2,\"#de77ae\"],[0.3,\"#f1b6da\"],[0.4,\"#fde0ef\"],[0.5,\"#f7f7f7\"],[0.6,\"#e6f5d0\"],[0.7,\"#b8e186\"],[0.8,\"#7fbc41\"],[0.9,\"#4d9221\"],[1,\"#276419\"]],\"sequential\":[[0.0,\"#0d0887\"],[0.1111111111111111,\"#46039f\"],[0.2222222222222222,\"#7201a8\"],[0.3333333333333333,\"#9c179e\"],[0.4444444444444444,\"#bd3786\"],[0.5555555555555556,\"#d8576b\"],[0.6666666666666666,\"#ed7953\"],[0.7777777777777778,\"#fb9f3a\"],[0.8888888888888888,\"#fdca26\"],[1.0,\"#f0f921\"]],\"sequentialminus\":[[0.0,\"#0d0887\"],[0.1111111111111111,\"#46039f\"],[0.2222222222222222,\"#7201a8\"],[0.3333333333333333,\"#9c179e\"],[0.4444444444444444,\"#bd3786\"],[0.5555555555555556,\"#d8576b\"],[0.6666666666666666,\"#ed7953\"],[0.7777777777777778,\"#fb9f3a\"],[0.8888888888888888,\"#fdca26\"],[1.0,\"#f0f921\"]]},\"colorway\":[\"#636efa\",\"#EF553B\",\"#00cc96\",\"#ab63fa\",\"#FFA15A\",\"#19d3f3\",\"#FF6692\",\"#B6E880\",\"#FF97FF\",\"#FECB52\"],\"font\":{\"color\":\"#2a3f5f\"},\"geo\":{\"bgcolor\":\"white\",\"lakecolor\":\"white\",\"landcolor\":\"#E5ECF6\",\"showlakes\":true,\"showland\":true,\"subunitcolor\":\"white\"},\"hoverlabel\":{\"align\":\"left\"},\"hovermode\":\"closest\",\"mapbox\":{\"style\":\"light\"},\"paper_bgcolor\":\"white\",\"plot_bgcolor\":\"#E5ECF6\",\"polar\":{\"angularaxis\":{\"gridcolor\":\"white\",\"linecolor\":\"white\",\"ticks\":\"\"},\"bgcolor\":\"#E5ECF6\",\"radialaxis\":{\"gridcolor\":\"white\",\"linecolor\":\"white\",\"ticks\":\"\"}},\"scene\":{\"xaxis\":{\"backgroundcolor\":\"#E5ECF6\",\"gridcolor\":\"white\",\"gridwidth\":2,\"linecolor\":\"white\",\"showbackground\":true,\"ticks\":\"\",\"zerolinecolor\":\"white\"},\"yaxis\":{\"backgroundcolor\":\"#E5ECF6\",\"gridcolor\":\"white\",\"gridwidth\":2,\"linecolor\":\"white\",\"showbackground\":true,\"ticks\":\"\",\"zerolinecolor\":\"white\"},\"zaxis\":{\"backgroundcolor\":\"#E5ECF6\",\"gridcolor\":\"white\",\"gridwidth\":2,\"linecolor\":\"white\",\"showbackground\":true,\"ticks\":\"\",\"zerolinecolor\":\"white\"}},\"shapedefaults\":{\"line\":{\"color\":\"#2a3f5f\"}},\"ternary\":{\"aaxis\":{\"gridcolor\":\"white\",\"linecolor\":\"white\",\"ticks\":\"\"},\"baxis\":{\"gridcolor\":\"white\",\"linecolor\":\"white\",\"ticks\":\"\"},\"bgcolor\":\"#E5ECF6\",\"caxis\":{\"gridcolor\":\"white\",\"linecolor\":\"white\",\"ticks\":\"\"}},\"title\":{\"x\":0.05},\"xaxis\":{\"automargin\":true,\"gridcolor\":\"white\",\"linecolor\":\"white\",\"ticks\":\"\",\"title\":{\"standoff\":15},\"zerolinecolor\":\"white\",\"zerolinewidth\":2},\"yaxis\":{\"automargin\":true,\"gridcolor\":\"white\",\"linecolor\":\"white\",\"ticks\":\"\",\"title\":{\"standoff\":15},\"zerolinecolor\":\"white\",\"zerolinewidth\":2}}},\"xaxis\":{\"anchor\":\"y\",\"domain\":[0.0,1.0],\"title\":{\"text\":\"artist_genres\"}},\"yaxis\":{\"anchor\":\"x\",\"domain\":[0.0,1.0],\"title\":{\"text\":\"value\"}},\"legend\":{\"title\":{\"text\":\"variable\"},\"tracegroupgap\":0},\"margin\":{\"t\":60},\"barmode\":\"group\"},                        {\"responsive\": true}                    ).then(function(){\n",
       "                            \n",
       "var gd = document.getElementById('eb891e60-20fc-4c18-9ac6-e13a4e9f4212');\n",
       "var x = new MutationObserver(function (mutations, observer) {{\n",
       "        var display = window.getComputedStyle(gd).display;\n",
       "        if (!display || display === 'none') {{\n",
       "            console.log([gd, 'removed!']);\n",
       "            Plotly.purge(gd);\n",
       "            observer.disconnect();\n",
       "        }}\n",
       "}});\n",
       "\n",
       "// Listen for the removal of the full notebook cells\n",
       "var notebookContainer = gd.closest('#notebook-container');\n",
       "if (notebookContainer) {{\n",
       "    x.observe(notebookContainer, {childList: true});\n",
       "}}\n",
       "\n",
       "// Listen for the clearing of the current output cell\n",
       "var outputEl = gd.closest('.output');\n",
       "if (outputEl) {{\n",
       "    x.observe(outputEl, {childList: true});\n",
       "}}\n",
       "\n",
       "                        })                };                });            </script>        </div>"
      ]
     },
     "metadata": {},
     "output_type": "display_data"
    }
   ],
   "source": [
    "#top10_genres= genre_df.nlargest(10, 'song_popularity')\n",
    "\n",
    "fig = px.bar(new_genre, x='artist_genres', y=['valence', 'energy', 'danceability', 'acousticness'], barmode='group')\n",
    "\n",
    "\n",
    "fig.update_layout(\n",
    "    #yaxis = dict(\n",
    "        #tickmode = 'linear',\n",
    "        #tick0 = 0,\n",
    "        #dtick = 0.2\n",
    "    )\n",
    " )\n",
    "fig.show()\n",
    "        "
   ]
  },
  {
   "cell_type": "code",
   "execution_count": 80,
   "id": "70bd604f",
   "metadata": {},
   "outputs": [],
   "source": [
    "cluster_pipeline = Pipeline([('scaler', StandardScaler()), ('kmeans', KMeans(n_clusters=9, random_state=0))])\n",
    "X = genre_df.select_dtypes(np.number)\n",
    "cluster_pipeline.fit(X)\n",
    "genre_df['cluster'] = cluster_pipeline.predict(X)"
   ]
  },
  {
   "cell_type": "code",
   "execution_count": 81,
   "id": "0d77bd26",
   "metadata": {},
   "outputs": [
    {
     "name": "stdout",
     "output_type": "stream",
     "text": [
      "[t-SNE] Computing 91 nearest neighbors...\n",
      "[t-SNE] Indexed 1099 samples in 0.003s...\n",
      "[t-SNE] Computed neighbors for 1099 samples in 0.061s...\n",
      "[t-SNE] Computed conditional probabilities for sample 1000 / 1099\n",
      "[t-SNE] Computed conditional probabilities for sample 1099 / 1099\n",
      "[t-SNE] Mean sigma: 0.624392\n",
      "[t-SNE] KL divergence after 250 iterations with early exaggeration: 54.980080\n",
      "[t-SNE] KL divergence after 1000 iterations: 0.589347\n"
     ]
    },
    {
     "data": {
      "application/vnd.plotly.v1+json": {
       "config": {
        "plotlyServerURL": "https://plot.ly"
       },
       "data": [
        {
         "customdata": [
          [
           "['classic rock', 'country rock', 'folk', 'folk rock', 'rock', 'roots rock', 'singer-songwriter']"
          ],
          [
           "['grunge', 'permanent wave', 'rock']"
          ],
          [
           "['beatlesque', 'british invasion', 'classic rock', 'merseybeat', 'psychedelic rock', 'rock']"
          ],
          [
           "['baroque pop', 'classic rock', 'psychedelic rock', 'rock', 'sunshine pop']"
          ],
          [
           "['classic rock', 'rock', 'rock-and-roll', 'rockabilly']"
          ],
          [
           "['classic soul', 'jazz blues', 'memphis soul', 'soul', 'southern soul']"
          ],
          [
           "['adult standards', 'brill building pop', 'classic girl group', 'soul']"
          ],
          [
           "['classic soul', 'funk', 'indie r&b', 'motown', 'northern soul', 'quiet storm', 'soul']"
          ],
          [
           "['classic soul', 'funk', 'indie r&b', 'motown', 'northern soul', 'quiet storm', 'soul']"
          ],
          [
           "['british invasion', 'classic rock', 'rock']"
          ],
          [
           "['pop', 'r&b', 'soul']"
          ],
          [
           "['rock-and-roll', 'rockabilly']"
          ],
          [
           "['classic rock', 'heartland rock', 'mellow gold', 'permanent wave', 'rock', 'singer-songwriter']"
          ],
          [
           "['album rock', 'art rock', 'blues rock', 'british invasion', 'classic rock', 'hard rock', 'mellow gold', 'psychedelic rock', 'rock']"
          ],
          [
           "['alternative rock', 'art rock', 'madchester', 'new wave', 'post-punk', 'rock', 'uk post-punk']"
          ],
          [
           "['baroque pop', 'classic rock', 'psychedelic rock', 'rock', 'sunshine pop']"
          ],
          [
           "['classic soul', 'memphis soul', 'soul', 'soul blues', 'southern soul']"
          ],
          [
           "['atl hip hop', 'dirty south rap', 'hip hop', 'old school atlanta hip hop', 'pop rap', 'rap', 'southern hip hop']"
          ],
          [
           "['punk', 'rock']"
          ],
          [
           "['dance pop', 'indietronica', 'new rave']"
          ],
          [
           "['classic rock', 'permanent wave', 'punk', 'rock']"
          ],
          [
           "['british invasion', 'classic rock', 'rock']"
          ],
          [
           "['beatlesque', 'british invasion', 'classic rock', 'merseybeat', 'psychedelic rock', 'rock']"
          ],
          [
           "['rock-and-roll', 'rockabilly', 'soul']"
          ],
          [
           "['album rock', 'classic rock', 'hard rock', 'rock']"
          ],
          [
           "['bronx hip hop', 'electro', 'old school hip hop']"
          ],
          [
           "['adult standards', 'classic soul', 'jazz blues', 'piano blues', 'soul', 'soul blues', 'vocal jazz']"
          ],
          [
           "['album rock', 'beatlesque', 'classic rock', 'mellow gold', 'rock']"
          ],
          [
           "['adult standards', 'classic soul', 'rock-and-roll', 'soul']"
          ],
          [
           "['art rock', 'classic rock', 'glam rock', 'permanent wave', 'rock']"
          ],
          [
           "['funk', 'funk rock', 'minneapolis sound', 'synth funk']"
          ],
          [
           "['adult standards', 'motown', 'soul']"
          ],
          [
           "['alternative rock', 'art rock', 'britpop', 'indie rock', 'new wave', 'permanent wave', 'pop rock', 'rock', 'sheffield indie']"
          ],
          [
           "['british invasion', 'classic rock', 'rock']"
          ],
          [
           "['adult standards', 'harlem renaissance', 'jazz', 'jazz blues', 'lounge', 'torch song', 'vocal jazz']"
          ],
          [
           "['album rock', 'art rock', 'british invasion', 'classic rock', 'folk rock', 'glam rock', 'mellow gold', 'protopunk', 'psychedelic rock', 'rock']"
          ],
          [
           "['dance pop', 'pop', 'r&b']"
          ],
          [
           "['alternative rock', 'blues rock', 'detroit rock', 'garage rock', 'modern blues rock', 'modern rock', 'permanent wave', 'punk blues', 'rock']"
          ],
          [
           "['alternative rock', 'athens indie', 'permanent wave', 'pop rock', 'rock']"
          ],
          [
           "['punk', 'rock']"
          ],
          [
           "['classic rock', 'glam rock', 'rock']"
          ],
          [
           "['alternative rock', 'art rock', 'dance rock', 'madchester', 'new romantic', 'new wave', 'new wave pop', 'permanent wave', 'pop rock', 'post-punk', 'rock', 'synthpop', 'uk post-punk']"
          ],
          [
           "['acid rock', 'album rock', 'blues rock', 'classic rock', 'hard rock', 'proto-metal', 'psychedelic rock', 'rock']"
          ],
          [
           "['classic garage rock']"
          ],
          [
           "['adult standards', 'motown']"
          ],
          [
           "['atl hip hop', 'neo soul']"
          ],
          [
           "['adult standards', 'brill building pop', 'bubblegum pop', 'rock-and-roll', 'rockabilly']"
          ],
          [
           "['beatlesque', 'british invasion', 'classic rock', 'merseybeat', 'psychedelic rock', 'rock']"
          ],
          [
           "['album rock', 'art rock', 'british invasion', 'classic rock', 'folk rock', 'glam rock', 'mellow gold', 'protopunk', 'psychedelic rock', 'rock']"
          ],
          [
           "['alternative rock', 'dance rock', 'indie rock', 'modern rock', 'rock', 'scottish rock']"
          ],
          [
           "['dance pop', 'hip hop', 'hip pop', 'pop rap', 'r&b', 'rap', 'urban contemporary', 'virginia hip hop']"
          ],
          [
           "['rock-and-roll', 'rockabilly']"
          ],
          [
           "['acid rock', 'album rock', 'classic rock', 'psychedelic rock', 'rock']"
          ],
          [
           "['dance pop', 'disco', 'hi-nrg', 'new wave pop']"
          ],
          [
           "['madchester', 'new wave', 'permanent wave', 'rock', 'uk post-punk']"
          ],
          [
           "['art rock', 'classic rock', 'glam rock', 'permanent wave', 'rock']"
          ],
          [
           "['adult standards', 'rock-and-roll', 'soul']"
          ],
          [
           "['art rock', 'beatlesque', 'blues rock', 'classic rock', 'cosmic american', 'country rock', 'folk', 'folk rock', 'mellow gold', 'psychedelic rock', 'rock', 'roots rock', 'soft rock']"
          ],
          [
           "['alternative rock', 'britpop', 'permanent wave', 'pop rock', 'rock', 'shoegaze']"
          ],
          [
           "['adult standards', 'rock-and-roll', 'rockabilly']"
          ],
          [
           "['album rock', 'art rock', 'blues', 'blues rock', 'british blues', 'classic rock', 'country rock', 'electric blues', 'folk rock', 'hard rock', 'mellow gold', 'psychedelic rock', 'rock', 'roots rock', 'soft rock', 'symphonic rock']"
          ],
          [
           "['classic soul', 'funk', 'soul', 'southern soul']"
          ],
          [
           "['downtempo', 'electronica', 'trip hop']"
          ],
          [
           "['alternative rock', 'anti-folk', 'indie rock', 'modern rock', 'permanent wave', 'rock']"
          ],
          [
           "['conscious hip hop', 'east coast hip hop', 'gangster rap', 'golden age hip hop', 'hardcore hip hop', 'hip hop', 'old school hip hop', 'political hip hop', 'rap', 'rap rock']"
          ],
          [
           "['art punk', 'art rock', 'dance rock', 'funk rock', 'new wave', 'permanent wave', 'post-punk', 'rock', 'zolo']"
          ],
          [
           "['alternative rock', 'art rock', 'melancholia', 'oxford indie', 'permanent wave', 'rock']"
          ],
          [
           "['album rock', 'classic rock', 'hard rock', 'rock']"
          ],
          [
           "['conscious hip hop', 'hip hop', 'rap', 'west coast rap']"
          ],
          [
           "['album rock', 'blues rock', 'british invasion', 'classic rock', 'folk rock', 'protopunk', 'psychedelic rock', 'rock']"
          ],
          [
           "['art rock', 'classic rock', 'glam rock', 'permanent wave', 'psychedelic rock', 'rock', 'singer-songwriter']"
          ],
          [
           "['album rock', 'classic rock', 'folk rock', 'heartland rock', 'mellow gold', 'rock', 'soft rock', 'yacht rock']"
          ],
          [
           "['east coast hip hop', 'hip hop', 'rap']"
          ],
          [
           "['art pop', 'dance pop', 'electropop', 'europop', 'pop', 'scandipop', 'swedish electropop', 'swedish pop']"
          ],
          [
           "['dance pop', 'pop', 'r&b']"
          ],
          [
           "['classic soul', 'funk', 'memphis soul', 'quiet storm', 'soul', 'soul blues', 'southern soul']"
          ],
          [
           "['british invasion', 'classic rock', 'rock']"
          ],
          [
           "['alternative dance', 'alternative rock', 'dance rock', 'dance-punk', 'electronic rock', 'electronica', 'indie rock', 'indietronica', 'modern rock', 'new rave', 'rock']"
          ],
          [
           "['bubblegum pop', 'classic rock', 'folk rock', 'mellow gold', 'psychedelic rock', 'rock', 'sunshine pop']"
          ],
          [
           "['classic rock', 'early us punk', 'permanent wave', 'punk', 'rock']"
          ],
          [
           "['classic girl group', 'classic soul', 'disco', 'funk', 'motown', 'quiet storm', 'rock-and-roll', 'soul']"
          ],
          [
           "['rock-and-roll', 'rockabilly']"
          ],
          [
           "['art pop', 'canadian electropop', 'dance pop', 'grave wave', 'indietronica', 'metropopolis', 'pop']"
          ],
          [
           "['beatlesque', 'british invasion', 'classic rock', 'merseybeat', 'psychedelic rock', 'rock']"
          ],
          [
           "['acid rock', 'album rock', 'blues rock', 'classic rock', 'hard rock', 'proto-metal', 'psychedelic rock', 'rock']"
          ],
          [
           "['lilith', 'new wave pop', 'pop rock']"
          ],
          [
           "['madchester', 'new wave', 'permanent wave', 'rock', 'uk post-punk']"
          ],
          [
           "['glam metal', 'hard rock', 'rock']"
          ],
          [
           "['blues rock', 'classic rock', 'country rock', 'folk', 'folk rock', 'mellow gold', 'psychedelic rock', 'rock', 'roots rock', 'soft rock']"
          ],
          [
           "['album rock', 'blues rock', 'classic canadian rock', 'classic rock', 'cosmic american', 'country rock', 'folk', 'folk rock', 'heartland rock', 'mellow gold', 'rock', 'roots rock', 'soft rock', 'swamp rock']"
          ],
          [
           "['chicago rap', 'rap']"
          ],
          [
           "['punk', 'ska', 'ska revival']"
          ],
          [
           "['art pop', 'metropopolis', 'nz pop', 'pop']"
          ],
          [
           "['electro', 'filter house']"
          ],
          [
           "['rock-and-roll', 'rockabilly']"
          ],
          [
           "['art rock', 'classic rock', 'glam rock', 'permanent wave', 'rock']"
          ],
          [
           "['adult standards', 'classic soul', 'disco', 'funk', 'mellow gold', 'motown', 'quiet storm', 'soul']"
          ],
          [
           "['rock-and-roll', 'rockabilly']"
          ],
          [
           "['funk', 'soul']"
          ],
          [
           "['beatlesque', 'britpop', 'madchester', 'permanent wave', 'pop rock', 'rock']"
          ],
          [
           "['alternative rock', 'art rock', 'classic rock', 'folk rock', 'melancholia', 'permanent wave', 'protopunk', 'psychedelic rock', 'rock']"
          ],
          [
           "['piano rock', 'rock-and-roll', 'rockabilly']"
          ],
          [
           "['classic rock', 'heartland rock', 'mellow gold', 'permanent wave', 'rock', 'singer-songwriter']"
          ],
          [
           "['irish rock', 'permanent wave', 'rock']"
          ],
          [
           "['alternative rock', 'art rock', 'classic rock', 'folk rock', 'melancholia', 'permanent wave', 'protopunk', 'psychedelic rock', 'rock']"
          ],
          [
           "['classic soul', 'funk', 'motown', 'quiet storm', 'soul', 'southern soul']"
          ],
          [
           "['beatlesque', 'british invasion', 'classic rock', 'merseybeat', 'psychedelic rock', 'rock']"
          ],
          [
           "['europop', 'swedish pop']"
          ],
          [
           "['adult standards', 'rock-and-roll', 'rockabilly']"
          ],
          [
           "['madchester', 'new wave', 'permanent wave', 'rock', 'uk post-punk']"
          ],
          [
           "['rock-and-roll', 'rockabilly']"
          ],
          [
           "['disco', 'funk', 'post-disco', 'quiet storm', 'soul']"
          ],
          [
           "['hip hop', 'lgbtq+ hip hop', 'neo soul']"
          ],
          [
           "['classic soul', 'funk', 'memphis soul', 'motown', 'soul']"
          ],
          [
           "['british invasion', 'classic rock', 'rock']"
          ],
          [
           "['art pop', 'pop']"
          ],
          [
           "['british soul', 'neo soul']"
          ],
          [
           "['east coast hip hop', 'electro', 'funk', 'hip hop', 'hip house', 'new jersey rap', 'old school hip hop', 'rap']"
          ],
          [
           "['classic rock', 'folk', 'folk rock', 'melancholia', 'mellow gold', 'rock']"
          ],
          [
           "['classic rock', 'country rock', 'rock', 'southern rock', 'swamp rock']"
          ],
          [
           "['funk', 'soul']"
          ],
          [
           "['classic rock', 'folk', 'folk rock', 'melancholia', 'mellow gold', 'rock']"
          ],
          [
           "['reggae', 'roots reggae']"
          ],
          [
           "['classic rock', 'country rock', 'rock', 'southern rock', 'swamp rock']"
          ],
          [
           "['album rock', 'classic rock', 'mellow gold', 'permanent wave', 'rock']"
          ],
          [
           "['classic rock', 'rock', 'rock-and-roll', 'rockabilly']"
          ],
          [
           "['album rock', 'art rock', 'blues rock', 'british invasion', 'classic rock', 'folk rock', 'progressive rock', 'psychedelic rock', 'symphonic rock']"
          ],
          [
           "['french shoegaze', 'french synthpop', 'indietronica', 'metropopolis', 'neo-synthpop']"
          ],
          [
           "['alternative dance', 'alternative rock', 'dance rock', 'dance-punk', 'electronic rock', 'electronica', 'indie rock', 'indietronica', 'modern rock', 'new rave', 'rock']"
          ],
          [
           "['honky tonk', 'traditional country', 'yodeling']"
          ],
          [
           "['art rock', 'beatlesque', 'blues rock', 'classic rock', 'cosmic american', 'country rock', 'folk', 'folk rock', 'mellow gold', 'psychedelic rock', 'rock', 'roots rock', 'soft rock']"
          ],
          [
           "['alternative dance', 'big beat', 'electronica']"
          ],
          [
           "['piano rock', 'rock-and-roll', 'rockabilly']"
          ],
          [
           "['classic soul', 'funk', 'instrumental funk', 'instrumental soul', 'memphis soul', 'soul', 'southern soul']"
          ],
          [
           "['alternative dance', 'alternative rock', 'dance-punk', 'garage rock', 'indie rock', 'modern rock', 'new rave', 'rock']"
          ],
          [
           "['barbadian pop', 'dance pop', 'pop', 'urban contemporary']"
          ],
          [
           "['beatlesque', 'british invasion', 'classic rock', 'merseybeat', 'psychedelic rock', 'rock']"
          ],
          [
           "['disco', 'mellow gold', 'soft rock']"
          ],
          [
           "['classic rock', 'country rock', 'folk', 'folk rock', 'rock', 'roots rock', 'singer-songwriter']"
          ],
          [
           "['mellow gold', 'soft rock']"
          ],
          [
           "['adult standards', 'classic girl group', 'doo-wop', 'rhythm and blues', 'rock-and-roll', 'rockabilly', 'soul']"
          ],
          [
           "['alternative dance', 'baltimore indie', 'chillwave', 'indie rock', 'modern rock', 'new rave']"
          ],
          [
           "['alternative rock', 'art rock', 'melancholia', 'oxford indie', 'permanent wave', 'rock']"
          ],
          [
           "['rock-and-roll', 'rockabilly']"
          ],
          [
           "['album rock', 'birmingham metal', 'classic rock', 'hard rock', 'metal', 'rock', 'stoner rock', 'uk doom metal']"
          ],
          [
           "['candy pop', 'new wave', 'new wave pop', 'permanent wave', 'power pop', 'rock']"
          ],
          [
           "['album rock', 'classic rock', 'hard rock', 'rock']"
          ],
          [
           "['east coast hip hop', 'golden age hip hop', 'hardcore hip hop', 'hip hop', 'old school hip hop', 'queens hip hop', 'rap']"
          ],
          [
           "['dance pop']"
          ],
          [
           "['alternative rock', 'art punk', 'art rock', 'experimental', 'indie rock', 'new wave', 'no wave', 'post-punk', 'protopunk', 'psychedelic rock', 'punk', 'punk blues']"
          ],
          [
           "['canadian hip hop', 'canadian pop', 'hip hop', 'rap', 'toronto rap']"
          ],
          [
           "['beatlesque', 'britpop', 'madchester', 'permanent wave', 'pop rock', 'rock']"
          ],
          [
           "['alternative dance', 'indietronica', 'modern rock', 'rock']"
          ],
          [
           "['soul', 'southern soul']"
          ],
          [
           "['british invasion', 'classic rock', 'rock']"
          ],
          [
           "['']"
          ],
          [
           "['beatlesque', 'british invasion', 'classic rock', 'merseybeat', 'psychedelic rock', 'rock']"
          ],
          [
           "['american folk revival', 'appalachian folk', 'folk', 'old-time', 'protest folk', 'singer-songwriter', 'traditional blues', 'traditional folk']"
          ],
          [
           "['adult standards', 'bubblegum pop', 'mellow gold', 'rock-and-roll', 'rockabilly']"
          ],
          [
           "['rock-and-roll', 'rockabilly']"
          ],
          [
           "['east coast hip hop', 'hip hop', 'rap']"
          ],
          [
           "['garage rock', 'modern rock', 'permanent wave', 'rock', 'sheffield indie']"
          ],
          [
           "['dance pop']"
          ],
          [
           "['dance pop']"
          ],
          [
           "['australian psych', 'neo-psychedelic']"
          ],
          [
           "['afrofuturism', 'alternative r&b', 'dance pop', 'escape room', 'hip pop', 'indie soul', 'neo soul', 'r&b', 'urban contemporary']"
          ],
          [
           "['alternative rock', 'britpop', 'madchester', 'modern rock', 'permanent wave', 'pop rock', 'rock']"
          ],
          [
           "['funk', 'funk rock', 'minneapolis sound', 'synth funk']"
          ],
          [
           "['art pop', 'art rock', 'baroque pop', 'new wave pop', 'permanent wave', 'piano rock', 'singer-songwriter']"
          ],
          [
           "['classic rock', 'heartland rock', 'mellow gold', 'permanent wave', 'rock', 'singer-songwriter']"
          ],
          [
           "['alternative dance', 'indietronica', 'modern rock', 'rock']"
          ],
          [
           "['g funk', 'gangster rap', 'hip hop', 'rap', 'west coast rap']"
          ],
          [
           "['adult standards', 'bubblegum pop', 'classic rock', 'folk rock', 'lounge', 'rock-and-roll', 'rockabilly']"
          ],
          [
           "['acid rock', 'blues rock', 'classic rock', 'folk rock', 'psychedelic rock', 'rock']"
          ],
          [
           "['funk', 'funk rock', 'minneapolis sound', 'synth funk']"
          ],
          [
           "['irish rock', 'permanent wave', 'rock']"
          ],
          [
           "['art punk', 'art rock', 'dance rock', 'funk rock', 'new wave', 'permanent wave', 'post-punk', 'rock', 'zolo']"
          ],
          [
           "['new romantic', 'new wave', 'new wave pop', 'synthpop']"
          ],
          [
           "['funk', 'funk rock', 'minneapolis sound', 'synth funk']"
          ],
          [
           "['classic rock', 'classic soul', 'disco', 'funk', 'funk rock', 'psychedelic soul', 'rock', 'soul']"
          ],
          [
           "['australian dance', 'australian pop', 'dance pop', 'electropop', 'eurodance', 'europop', 'new wave pop', 'pop']"
          ],
          [
           "['british invasion', 'classic rock', 'rock']"
          ],
          [
           "['brooklyn indie', 'indie pop']"
          ],
          [
           "['dusseldorf electronic', 'early synthpop', 'electro', 'new romantic', 'new wave', 'proto-techno', 'synthpop']"
          ],
          [
           "['alternative rock', 'art pop', 'baltimore indie', 'chillwave', 'dream pop', 'experimental pop', 'freak folk', 'indie rock', 'modern rock', 'new rave', 'noise pop']"
          ],
          [
           "['beatlesque', 'british invasion', 'classic rock', 'merseybeat', 'psychedelic rock', 'rock']"
          ],
          [
           "['album rock', 'art rock', 'blues rock', 'classic rock', 'folk rock', 'glam rock', 'protopunk', 'psychedelic rock', 'rock']"
          ],
          [
           "['britpop', 'pop rock', 'rock']"
          ],
          [
           "['beatlesque', 'british invasion', 'classic rock', 'merseybeat', 'psychedelic rock', 'rock']"
          ],
          [
           "['alternative dance', 'dance-punk', 'electroclash', 'electronica', 'indie rock', 'modern rock', 'new rave']"
          ],
          [
           "['alternative rock', 'garage rock', 'modern rock', 'permanent wave', 'rock']"
          ],
          [
           "['disco', 'funk', 'post-disco', 'quiet storm', 'soul']"
          ],
          [
           "['album rock', 'art rock', 'blues rock', 'british invasion', 'classic rock', 'hard rock', 'mellow gold', 'psychedelic rock', 'rock']"
          ],
          [
           "['beatlesque', 'british invasion', 'classic rock', 'merseybeat', 'psychedelic rock', 'rock']"
          ],
          [
           "['arkansas country', 'outlaw country']"
          ],
          [
           "['atl hip hop', 'dirty south rap', 'hip hop', 'old school atlanta hip hop', 'pop rap', 'rap', 'southern hip hop']"
          ],
          [
           "['adult standards', 'brill building pop', 'disco', 'lounge', 'mellow gold', 'quiet storm', 'soft rock']"
          ],
          [
           "['arkansas country', 'outlaw country']"
          ],
          [
           "['funk', 'funk rock', 'minneapolis sound', 'synth funk']"
          ],
          [
           "['art pop', 'electropop', 'pop']"
          ],
          [
           "['mod revival', 'new wave', 'new wave pop', 'northern irish punk', 'post-punk', 'pub rock', 'punk', 'ska']"
          ],
          [
           "['atl hip hop', 'hip hop', 'rap']"
          ],
          [
           "['classic rock', 'country rock', 'folk', 'folk rock', 'rock', 'roots rock', 'singer-songwriter']"
          ],
          [
           "['arkansas country', 'outlaw country']"
          ],
          [
           "['classic rock', 'folk', 'folk rock', 'mellow gold', 'rock', 'roots rock', 'singer-songwriter', 'soft rock']"
          ],
          [
           "['adult standards', 'louisiana blues', 'lounge', 'new orleans blues', 'piano blues', 'rock-and-roll', 'rockabilly', 'soul']"
          ],
          [
           "['bronx hip hop', 'east coast hip hop', 'electro', 'hip hop', 'old school hip hop']"
          ],
          [
           "['adult standards', 'nashville sound']"
          ],
          [
           "['blues', 'blues rock', 'chicago blues', 'electric blues', 'rhythm and blues', 'rock-and-roll', 'rockabilly', 'soul', 'traditional blues']"
          ],
          [
           "['classic rock', 'country rock', 'folk', 'folk rock', 'rock', 'roots rock', 'singer-songwriter']"
          ],
          [
           "['alternative rock', 'dance rock', 'permanent wave', 'rock']"
          ],
          [
           "['chicago soul', 'classic soul', 'funk', 'quiet storm', 'rhythm and blues', 'soul']"
          ],
          [
           "['art rock', 'classic rock', 'glam rock', 'melancholia', 'mellow gold', 'new romantic', 'new wave', 'new wave pop', 'rock', 'soft rock', 'sophisti-pop']"
          ],
          [
           "['adult standards', 'bubblegum pop', 'merseybeat', 'rock-and-roll', 'rockabilly']"
          ],
          [
           "['album rock', 'art rock', 'blues rock', 'british invasion', 'classic rock', 'hard rock', 'mellow gold', 'psychedelic rock', 'rock']"
          ],
          [
           "['album rock', 'classic rock', 'rock', 'soft rock', 'yacht rock']"
          ],
          [
           "['afrofuturism', 'alternative r&b', 'art pop', 'escape room', 'experimental r&b', 'pop', 'trip hop']"
          ],
          [
           "['classic rock', 'permanent wave', 'punk', 'rock']"
          ],
          [
           "['album rock', 'art rock', 'blues rock', 'classic rock', 'hard rock', 'metal', 'rock']"
          ],
          [
           "['beatlesque', 'british invasion', 'classic rock', 'merseybeat', 'psychedelic rock', 'rock']"
          ],
          [
           "['album rock', 'blues rock', 'classic rock', 'hard rock', 'metal', 'psychedelic rock', 'rock']"
          ],
          [
           "['dance pop', 'pop']"
          ],
          [
           "['boston rock']"
          ],
          [
           "['art rock', 'new romantic', 'new wave', 'new wave pop', 'permanent wave', 'rock', 'soft rock', 'sophisti-pop', 'synthpop']"
          ],
          [
           "['dance pop', 'indietronica', 'new rave']"
          ],
          [
           "['art rock', 'classic rock', 'glam rock', 'permanent wave', 'rock']"
          ],
          [
           "['pop', 'r&b', 'soul']"
          ],
          [
           "['beatlesque', 'british invasion', 'classic rock', 'merseybeat', 'psychedelic rock', 'rock']"
          ],
          [
           "['rock-and-roll', 'rockabilly']"
          ],
          [
           "['classic soul', 'funk', 'memphis soul', 'motown', 'soul']"
          ],
          [
           "['british soul', 'pop', 'pop soul', 'uk pop']"
          ],
          [
           "['adult standards', 'motown', 'soul']"
          ],
          [
           "['british blues', 'british invasion', 'classic rock', 'folk rock', 'protopunk', 'psychedelic rock', 'rock', 'roots rock']"
          ],
          [
           "['classic soul', 'memphis soul', 'soul', 'soul blues', 'southern soul']"
          ],
          [
           "['alternative rock', 'blues rock', 'classic rock', 'detroit rock', 'garage rock', 'new wave', 'permanent wave', 'post-punk', 'protopunk', 'punk', 'punk blues', 'rock']"
          ],
          [
           "['alternative metal', 'alternative rock', 'grunge', 'permanent wave', 'pop rock', 'rock', 'spacegrunge']"
          ],
          [
           "['bossa nova', 'cool jazz', 'jazz', 'jazz saxophone', 'latin jazz', 'lounge', 'samba-jazz']"
          ],
          [
           "['adult standards', 'classic soul', 'rock-and-roll', 'soul']"
          ],
          [
           "['british invasion', 'bubblegum pop', 'classic garage rock', 'classic rock', 'folk rock', 'freakbeat', 'merseybeat', 'psychedelic rock', 'rock-and-roll']"
          ],
          [
           "['art rock', 'classic rock', 'glam rock', 'permanent wave', 'rock']"
          ],
          [
           "['classic soul', 'funk', 'memphis soul', 'rock-and-roll', 'soul', 'southern soul']"
          ],
          [
           "['adult standards', 'arkansas country', 'classic country pop', 'classic rock', 'folk rock', 'lounge', 'mellow gold', 'nashville sound', 'soft rock']"
          ],
          [
           "['funk', 'soul']"
          ],
          [
           "['alternative rock', 'art rock', 'melancholia', 'oxford indie', 'permanent wave', 'rock']"
          ],
          [
           "['album rock', 'art rock', 'blues rock', 'classic rock', 'folk rock', 'hard rock', 'psychedelic rock', 'rock', 'roots rock', 'supergroup', 'symphonic rock']"
          ],
          [
           "['alternative rock', 'blues rock', 'classic rock', 'detroit rock', 'garage rock', 'new wave', 'permanent wave', 'post-punk', 'protopunk', 'punk', 'punk blues', 'rock']"
          ],
          [
           "['beatlesque', 'british invasion', 'classic rock', 'merseybeat', 'psychedelic rock', 'rock']"
          ],
          [
           "['alternative rock', 'madchester', 'new wave', 'post-punk', 'pub rock', 'punk']"
          ],
          [
           "['classic rock', 'country rock', 'folk', 'folk rock', 'rock', 'roots rock', 'singer-songwriter']"
          ],
          [
           "['irish rock', 'permanent wave', 'rock']"
          ],
          [
           "['rock-and-roll', 'rockabilly']"
          ],
          [
           "['brill building pop', 'classic girl group']"
          ],
          [
           "['classic soul', 'funk', 'indie r&b', 'motown', 'northern soul', 'quiet storm', 'soul']"
          ],
          [
           "['adult standards', 'rock-and-roll', 'rockabilly']"
          ],
          [
           "['alternative dance', 'alternative rock', 'dance rock', 'dance-punk', 'electronic rock', 'electronica', 'indie rock', 'indietronica', 'modern rock', 'new rave', 'rock']"
          ],
          [
           "['art rock', 'dance rock', 'hi-nrg', 'new romantic', 'new wave', 'new wave pop', 'synthpop']"
          ],
          [
           "['dusseldorf electronic', 'early synthpop', 'electro', 'new romantic', 'new wave', 'proto-techno', 'synthpop']"
          ],
          [
           "['baroque pop', 'canadian indie', 'indie rock', 'modern rock', 'permanent wave', 'quebec indie', 'rock']"
          ],
          [
           "['baroque pop', 'classic rock', 'psychedelic rock', 'rock', 'sunshine pop']"
          ],
          [
           "['alternative rock', 'boston rock', 'modern rock', 'permanent wave', 'rock']"
          ],
          [
           "['alternative rock', 'art rock', 'classic rock', 'folk rock', 'melancholia', 'permanent wave', 'protopunk', 'psychedelic rock', 'rock']"
          ],
          [
           "['doo-wop', 'rhythm and blues', 'rock-and-roll']"
          ],
          [
           "['art pop', 'art rock', 'baroque pop', 'new wave pop', 'permanent wave', 'piano rock', 'singer-songwriter']"
          ],
          [
           "['pop', 'r&b', 'soul']"
          ],
          [
           "['album rock', 'art rock', 'classic rock', 'progressive rock', 'psychedelic rock', 'rock', 'symphonic rock']"
          ],
          [
           "['alternative rock', 'east coast hip hop', 'golden age hip hop', 'hip hop', 'old school hip hop', 'rap', 'rap rock', 'rock']"
          ],
          [
           "['acid rock', 'art rock', 'classic rock', 'country rock', 'experimental', 'folk rock', 'psychedelic rock', 'rock', 'roots rock']"
          ],
          [
           "['electro', 'filter house']"
          ],
          [
           "['art pop', 'metropopolis', 'nz pop', 'pop']"
          ],
          [
           "['alternative dance', 'art pop', 'dance rock', 'electronica', 'electropop', 'indie rock', 'indietronica', 'modern rock', 'neo-synthpop', 'new rave']"
          ],
          [
           "['album rock', 'art rock', 'blues rock', 'classic rock', 'classic uk pop', 'folk rock', 'glam rock', 'hard rock', 'power pop', 'protopunk', 'psychedelic rock', 'pub rock']"
          ],
          [
           "['album rock', 'art rock', 'blues rock', 'classic rock', 'hard rock', 'irish rock', 'metal', 'rock']"
          ],
          [
           "['detroit hip hop', 'hip hop', 'rap']"
          ],
          [
           "['alternative r&b', 'dance pop', 'escape room', 'hip house', 'lgbtq+ hip hop', 'pop', 'rap', 'trap queen']"
          ],
          [
           "['big beat', 'breakbeat', 'dance rock', 'hardcore techno', 'rave']"
          ],
          [
           "['classic garage rock', 'detroit rock', 'garage rock', 'proto-metal', 'protopunk', 'pub rock', 'punk', 'punk blues']"
          ],
          [
           "['album rock', 'art rock', 'classic rock', 'progressive rock', 'psychedelic rock', 'rock', 'symphonic rock']"
          ],
          [
           "['alternative dance', 'art pop', 'baroque pop', 'brooklyn indie', 'chillwave', 'dream pop', 'indie rock', 'modern rock', 'new weird america', 'stomp and holler']"
          ],
          [
           "['alternative rock', 'britpop', 'madchester', 'modern rock', 'permanent wave', 'pop rock', 'rock']"
          ],
          [
           "['adult standards', 'british invasion', 'classic rock', 'folk', 'folk rock', 'mellow gold', 'rock', 'soul']"
          ],
          [
           "['alternative pop', 'alternative rock', 'anti-folk', 'boston rock', 'dream pop', 'lo-fi', 'new wave', 'pop rock', 'post-punk']"
          ],
          [
           "['atl hip hop', 'dirty south rap', 'hip hop', 'old school atlanta hip hop', 'pop rap', 'rap', 'southern hip hop']"
          ],
          [
           "['hip hop', 'lgbtq+ hip hop', 'neo soul']"
          ],
          [
           "['reggae', 'roots reggae']"
          ],
          [
           "['chicago rap', 'rap']"
          ],
          [
           "['ska']"
          ],
          [
           "['beatlesque', 'british invasion', 'classic rock', 'merseybeat', 'psychedelic rock', 'rock']"
          ],
          [
           "['arkansas country', 'outlaw country']"
          ],
          [
           "['classic soul', 'funk', 'indie r&b', 'motown', 'northern soul', 'quiet storm', 'soul']"
          ],
          [
           "['acoustic blues', 'blues', 'delta blues', 'pre-war blues', 'traditional blues']"
          ],
          [
           "['australian rock', 'hard rock', 'rock']"
          ],
          [
           "['acid rock', 'album rock', 'blues rock', 'classic canadian rock', 'classic rock', 'country rock', 'folk rock', 'hard rock', 'mellow gold', 'proto-metal', 'psychedelic rock', 'rock', 'symphonic rock']"
          ],
          [
           "['electro', 'filter house']"
          ],
          [
           "['classic soul', 'disco', 'funk', 'jazz funk', 'memphis soul', 'quiet storm', 'soul', 'southern soul']"
          ],
          [
           "['album rock', 'art rock', 'classic rock', 'folk rock', 'mellow gold', 'new romantic', 'new wave', 'new wave pop', 'permanent wave', 'pop rock', 'rock', 'soft rock']"
          ],
          [
           "['blues', 'boogie-woogie', 'jump blues', 'rhythm and blues', 'rock-and-roll', 'rockabilly', 'traditional blues']"
          ],
          [
           "['blues', 'blues rock', 'chicago blues', 'classic rock', 'electric blues', 'soul', 'traditional blues']"
          ],
          [
           "['chicago rap', 'rap']"
          ],
          [
           "['canadian singer-songwriter', 'folk', 'folk rock', 'melancholia', 'permanent wave', 'singer-songwriter']"
          ],
          [
           "['adult standards', 'bubblegum pop', 'folk rock', 'lounge', 'mellow gold', 'rock-and-roll', 'rockabilly', 'sunshine pop']"
          ],
          [
           "['ambient', 'braindance', 'electronica', 'intelligent dance music', 'uk experimental electronic']"
          ],
          [
           "['alternative dance', 'art pop', 'dream pop', 'electroclash', 'electronica', 'electropop', 'gothenburg indie', 'neo-synthpop', 'new rave', 'swedish electropop', 'swedish synthpop']"
          ],
          [
           "['album rock', 'blues rock', 'classic rock', 'detroit rock', 'glam metal', 'glam rock', 'hard rock', 'metal', 'protopunk', 'rock']"
          ],
          [
           "['classic girl group', 'disco', 'funk', 'motown', 'quiet storm', 'soul']"
          ],
          [
           "['chanson', 'torch song', 'vintage schlager']"
          ],
          [
           "['alternative rock', 'blues rock', 'detroit rock', 'garage rock', 'modern blues rock', 'modern rock', 'permanent wave', 'punk blues', 'rock']"
          ],
          [
           "['hard rock', 'metal', 'old school thrash', 'rock', 'thrash metal']"
          ],
          [
           "['chanson', 'french rock']"
          ],
          [
           "['alternative rock', 'boston rock', 'modern rock', 'permanent wave', 'rock']"
          ],
          [
           "['bubblegum pop', 'chicano punk', 'classic garage rock', 'detroit rock', 'freakbeat', 'protopunk', 'psychedelic rock']"
          ],
          [
           "['detroit hip hop', 'hip hop', 'rap']"
          ],
          [
           "['alternative rock', 'athens indie', 'permanent wave', 'pop rock', 'rock']"
          ],
          [
           "['conscious hip hop', 'east coast hip hop', 'gangster rap', 'golden age hip hop', 'hardcore hip hop', 'hip hop', 'old school hip hop', 'political hip hop', 'rap', 'rap rock']"
          ],
          [
           "['album rock', 'hard rock', 'metal', 'rock', 'speed metal']"
          ],
          [
           "['classic girl group', 'disco', 'funk', 'motown', 'quiet storm', 'soul']"
          ],
          [
           "['alternative rock', 'art rock', 'indie rock', 'noise pop', 'noise rock', 'post-punk', 'rock']"
          ],
          [
           "['adult standards', 'chicago soul', 'classic soul', 'funk', 'quiet storm', 'rhythm and blues', 'rock-and-roll', 'rockabilly', 'soul']"
          ],
          [
           "['baroque pop', 'canadian indie', 'indie rock', 'modern rock', 'permanent wave', 'quebec indie', 'rock']"
          ],
          [
           "['cosmic american', 'native american', 'punk blues', 'rock-and-roll', 'rockabilly', 'surf music']"
          ],
          [
           "['blues rock', 'british blues', 'british invasion', 'bubblegum pop', 'classic rock', 'folk rock', 'merseybeat', 'protopunk', 'psychedelic rock', 'rock', 'rock-and-roll']"
          ],
          [
           "['art punk', 'art rock', 'permanent wave', 'protopunk', 'rock']"
          ],
          [
           "['australian rock', 'hard rock', 'rock']"
          ],
          [
           "['british invasion', 'classic rock', 'rock']"
          ],
          [
           "['art rock', 'bubblegum pop', 'classic rock', 'country rock', 'folk', 'folk rock', 'mellow gold', 'merseybeat', 'psychedelic rock', 'rock', 'rock-and-roll', 'roots rock', 'soft rock']"
          ],
          [
           "['alternative dance', 'art pop', 'dance pop', 'electroclash', 'electronica', 'new rave', 'nu disco']"
          ],
          [
           "['alternative metal', 'alternative rock', 'conscious hip hop', 'funk metal', 'nu metal', 'political hip hop', 'rap metal', 'rap rock', 'rock']"
          ],
          [
           "['adult standards', 'bubblegum pop', 'mellow gold', 'rock-and-roll', 'rockabilly']"
          ],
          [
           "['new wave', 'permanent wave', 'rock', 'uk post-punk']"
          ],
          [
           "['art rock', 'dance rock', 'europop', 'mellow gold', 'new romantic', 'new wave', 'new wave pop', 'rock', 'soft rock', 'sophisti-pop', 'synthpop']"
          ],
          [
           "['alternative dance', 'alternative rock', 'baroque pop', 'indie pop', 'indie rock', 'modern rock', 'new rave', 'stomp and holler', 'swedish alternative rock', 'swedish indie pop']"
          ],
          [
           "['art pop', 'chamber pop', 'dream pop', 'indie pop', 'indie rock', 'melancholia', 'new jersey indie']"
          ],
          [
           "['album rock', 'blues rock', 'classic rock', 'country rock', 'hard rock', 'mellow gold', 'rock', 'southern rock']"
          ],
          [
           "['album rock', 'art rock', 'blues rock', 'british invasion', 'classic rock', 'hard rock', 'mellow gold', 'psychedelic rock', 'rock']"
          ],
          [
           "['hip house']"
          ],
          [
           "['alternative rock', 'double drumming', 'indie rock', 'modern rock', 'rock', 'washington indie']"
          ],
          [
           "['adult standards', 'easy listening']"
          ],
          [
           "['british invasion', 'classic rock', 'rock']"
          ],
          [
           "['chicago soul', 'classic soul', 'funk', 'soul']"
          ],
          [
           "['afrofuturism', 'alternative r&b', 'art pop', 'escape room', 'experimental r&b', 'pop', 'trip hop']"
          ],
          [
           "['classic soul', 'funk', 'memphis soul', 'soul', 'soul blues', 'southern soul']"
          ],
          [
           "['album rock', 'blues rock', 'classic rock', 'country rock', 'hard rock', 'mellow gold', 'rock', 'southern rock']"
          ],
          [
           "['dance pop', 'pop', 'rap']"
          ],
          [
           "['classic rock', 'glam rock', 'new wave', 'permanent wave', 'protopunk', 'punk', 'rock']"
          ],
          [
           "['canadian singer-songwriter', 'classic canadian rock', 'classic rock', 'mellow gold', 'permanent wave', 'rock', 'roots rock', 'singer-songwriter']"
          ],
          [
           "['conscious hip hop', 'hip hop', 'rap', 'west coast rap']"
          ],
          [
           "['art rock', 'classic rock', 'glam rock', 'permanent wave', 'rock']"
          ],
          [
           "['conscious hip hop', 'hip hop', 'rap', 'west coast rap']"
          ],
          [
           "['classic soul', 'jazz blues', 'memphis soul', 'soul', 'southern soul']"
          ],
          [
           "['hot jazz', 'new orleans jazz']"
          ],
          [
           "['album rock', 'art rock', 'blues rock', 'british invasion', 'classic rock', 'hard rock', 'mellow gold', 'psychedelic rock', 'rock']"
          ],
          [
           "['baroque pop', 'classic rock', 'psychedelic rock', 'rock', 'sunshine pop']"
          ],
          [
           "['album rock', 'art rock', 'blues rock', 'classic rock', 'country rock', 'hard rock', 'mellow gold', 'rock', 'soft rock']"
          ],
          [
           "['beatlesque', 'british invasion', 'classic rock', 'merseybeat', 'psychedelic rock', 'rock']"
          ],
          [
           "['alternative rock', 'funk metal', 'funk rock', 'permanent wave']"
          ],
          [
           "['electro', 'filter house']"
          ],
          [
           "['album rock', 'art rock', 'british invasion', 'classic rock', 'folk rock', 'glam rock', 'mellow gold', 'protopunk', 'psychedelic rock', 'rock']"
          ],
          [
           "['adult standards', 'classic soul', 'jazz blues', 'piano blues', 'soul', 'soul blues', 'vocal jazz']"
          ],
          [
           "['alternative rock', 'art rock', 'indie rock', 'modern rock', 'noise pop', 'okc indie', 'rock']"
          ],
          [
           "['acid rock', 'album rock', 'blues rock', 'classic rock', 'hard rock', 'proto-metal', 'psychedelic rock', 'rock']"
          ],
          [
           "['alternative rock', 'athens indie', 'permanent wave', 'pop rock', 'rock']"
          ],
          [
           "['bebop', 'big band', 'jazz', 'jazz saxophone', 'stride', 'swing', 'vocal jazz']"
          ],
          [
           "['album rock', 'classic rock', 'hard rock', 'rock']"
          ],
          [
           "['alternative dance', 'indie rock', 'modern rock', 'new rave', 'rock independant francais']"
          ],
          [
           "['alternative rock', 'east coast hip hop', 'golden age hip hop', 'hip hop', 'old school hip hop', 'rap', 'rap rock', 'rock']"
          ],
          [
           "['classic dubstep', 'electronica', 'hauntology', 'intelligent dance music', 'microhouse', 'uk bass', 'wonky']"
          ],
          [
           "['beatlesque', 'british invasion', 'classic rock', 'merseybeat', 'psychedelic rock', 'rock']"
          ],
          [
           "['album rock', 'classic rock', 'mellow gold', 'rock', 'soft rock']"
          ],
          [
           "['alternative rock', 'britpop', 'dance rock', 'madchester', 'modern rock', 'rock']"
          ],
          [
           "['adult standards', 'bubblegum pop', 'mellow gold', 'rock-and-roll', 'rockabilly']"
          ],
          [
           "['art pop', 'dance rock', 'europop', 'new romantic', 'new wave', 'new wave pop', 'permanent wave', 'synthpop']"
          ],
          [
           "['rock-and-roll']"
          ],
          [
           "['baroque pop', 'chamber pop', 'singer-songwriter']"
          ],
          [
           "['blues', 'blues rock', 'chicago blues', 'classic rock', 'electric blues', 'soul', 'traditional blues']"
          ],
          [
           "['classic rock', 'rock', 'rock-and-roll', 'rockabilly']"
          ],
          [
           "['album rock', 'beatlesque', 'classic rock', 'mellow gold', 'rock']"
          ],
          [
           "['big band', 'harlem renaissance', 'jazz blues', 'swing']"
          ],
          [
           "['barbadian pop', 'dance pop', 'pop', 'urban contemporary']"
          ],
          [
           "['canadian pop', 'canadian singer-songwriter', 'pop rock', 'singer-songwriter']"
          ],
          [
           "['art rock', 'british folk', 'folk', 'folk rock', 'melancholia', 'rock', 'singer-songwriter']"
          ],
          [
           "['adult standards', 'classic rock', 'folk', 'folk rock', 'mellow gold', 'singer-songwriter', 'soft rock']"
          ],
          [
           "['alternative rock', 'art rock', 'melancholia', 'oxford indie', 'permanent wave', 'rock']"
          ],
          [
           "['classic soul', 'memphis soul', 'soul', 'soul blues', 'southern soul']"
          ],
          [
           "['alternative metal', 'alternative rock', 'blues rock', 'modern rock', 'nu metal', 'palm desert scene', 'rock', 'stoner metal', 'stoner rock']"
          ],
          [
           "['alternative rock', 'boston rock', 'modern rock', 'permanent wave', 'rock']"
          ],
          [
           "['acid rock', 'blues rock', 'classic rock', 'folk rock', 'psychedelic rock', 'rock']"
          ],
          [
           "['glam metal', 'hard rock', 'rock']"
          ],
          [
           "['alternative rock', 'big beat', 'britpop', 'dance rock', 'new wave', 'rock', 'scottish indie']"
          ],
          [
           "['mod revival', 'new wave', 'pub rock', 'punk', 'rock', 'ska']"
          ],
          [
           "['bebop', 'jazz', 'jazz piano', 'jazz trio']"
          ],
          [
           "['rock-and-roll', 'rockabilly', 'soul']"
          ],
          [
           "['blues', 'traditional blues']"
          ],
          [
           "['blues', 'blues rock', 'classic rock', 'delta blues', 'electric blues', 'memphis blues', 'soul', 'traditional blues']"
          ],
          [
           "['beatlesque', 'british invasion', 'classic rock', 'merseybeat', 'psychedelic rock', 'rock']"
          ],
          [
           "['hip house']"
          ],
          [
           "['album rock', 'art rock', 'blues rock', 'classic rock', 'country rock', 'folk', 'folk rock', 'mellow gold', 'psychedelic rock', 'rock', 'roots rock', 'soft rock', 'supergroup']"
          ],
          [
           "['funk', 'funk rock', 'minneapolis sound', 'synth funk']"
          ],
          [
           "['dark pop', 'electronica', 'laboratorio', 'trip hop']"
          ],
          [
           "['adult standards', 'easy listening', 'lounge', 'rock-and-roll', 'rockabilly', 'soul', 'swing', 'vocal jazz']"
          ],
          [
           "['funk', 'funk rock', 'p funk', 'psychedelic rock', 'psychedelic soul', 'soul']"
          ],
          [
           "['dance pop', 'pop', 'post-teen pop', 'talent show']"
          ],
          [
           "['classic country pop', 'country', 'country dawn']"
          ],
          [
           "['acoustic punk', 'alternative rock', 'anti-folk', 'pop rock', 'punk', 'rock']"
          ],
          [
           "['classic rock', 'folk', 'folk rock', 'mellow gold', 'rock', 'roots rock', 'singer-songwriter', 'soft rock']"
          ],
          [
           "['album rock', 'classic rock', 'hard rock', 'metal', 'rock']"
          ],
          [
           "['early us punk', 'hardcore punk', 'post-punk', 'protopunk', 'pub rock', 'punk', 'punk blues']"
          ],
          [
           "['british invasion', 'classic rock', 'rock']"
          ],
          [
           "['beatlesque', 'british invasion', 'classic rock', 'merseybeat', 'psychedelic rock', 'rock']"
          ],
          [
           "['new wave pop', 'permanent wave', 'soft rock']"
          ],
          [
           "['beatlesque', 'bubblegum pop', 'classic rock', 'country rock', 'folk rock', 'mellow gold', 'psychedelic rock', 'rock', 'sunshine pop']"
          ],
          [
           "['disco']"
          ],
          [
           "['album rock', 'art rock', 'classic rock', 'progressive rock', 'psychedelic rock', 'rock', 'symphonic rock']"
          ],
          [
           "['album rock', 'classic rock', 'mellow gold', 'permanent wave', 'rock']"
          ],
          [
           "['bebop', 'contemporary post-bop', 'hard bop', 'jazz', 'jazz quartet', 'jazz saxophone', 'vocal jazz']"
          ],
          [
           "['alternative rock', 'art rock', 'dream pop', 'new romantic', 'new wave', 'new wave pop', 'permanent wave', 'pop rock', 'post-punk', 'punk', 'rock']"
          ],
          [
           "['classic rock', 'glam rock', 'rock']"
          ],
          [
           "['doo-wop', 'rhythm and blues']"
          ],
          [
           "['irish rock', 'permanent wave', 'rock']"
          ],
          [
           "['bubblegum pop', 'classic girl group', 'rock-and-roll']"
          ],
          [
           "['detroit hip hop', 'hip hop', 'rap']"
          ],
          [
           "['adult standards', 'bubblegum pop', 'lounge', 'rock-and-roll', 'rockabilly', 'soul']"
          ],
          [
           "['alternative dance', 'alternative rock', 'brooklyn indie', 'indie rock', 'indietronica', 'modern rock', 'new rave', 'rock']"
          ],
          [
           "['alternative rock', 'art rock', 'new wave', 'noise pop', 'post-punk', 'punk', 'rock', 'scottish indie', 'shoegaze', 'uk post-punk']"
          ],
          [
           "['alternative rock', 'art rock', 'dance rock', 'madchester', 'new romantic', 'new wave', 'new wave pop', 'permanent wave', 'pop rock', 'post-punk', 'rock', 'synthpop', 'uk post-punk']"
          ],
          [
           "['classic rock', 'country rock', 'rock', 'southern rock', 'swamp rock']"
          ],
          [
           "['classic soul', 'motown', 'quiet storm', 'rhythm and blues', 'soul', 'southern soul']"
          ],
          [
           "['australian indie', 'indie pop', 'indie rock', 'melbourne indie']"
          ],
          [
           "['conscious hip hop', 'gangster rap', 'golden age hip hop', 'hardcore hip hop', 'hip hop', 'old school hip hop', 'rap', 'west coast rap']"
          ],
          [
           "['classic rock', 'classic soul', 'disco', 'funk', 'funk rock', 'psychedelic soul', 'rock', 'soul']"
          ],
          [
           "['acid rock', 'album rock', 'classic rock', 'psychedelic rock', 'rock']"
          ],
          [
           "['blues', 'harlem renaissance', 'jazz blues', 'traditional blues']"
          ],
          [
           "['brill building pop', 'bubblegum pop', 'doo-wop', 'rhythm and blues', 'rock-and-roll']"
          ],
          [
           "['baroque pop', 'indie rock', 'modern rock', 'rock']"
          ],
          [
           "['alternative hip hop', 'bboy', 'east coast hip hop', 'gangster rap', 'golden age hip hop', 'hardcore hip hop', 'hip hop', 'old school hip hop', 'rap']"
          ],
          [
           "['indie pop', 'indie rock', 'indietronica', 'modern rock', 'seattle indie']"
          ],
          [
           "['adult standards', 'classic soul', 'jazz blues', 'piano blues', 'soul', 'soul blues', 'vocal jazz']"
          ],
          [
           "['art pop', 'art rock', 'bow pop', 'experimental', 'experimental pop', 'experimental vocal', 'laboratorio']"
          ],
          [
           "['mod revival', 'power pop', 'protopunk', 'pub rock', 'punk']"
          ],
          [
           "['classic rock', 'early us punk', 'permanent wave', 'punk', 'rock']"
          ],
          [
           "['acid rock', 'album rock', 'blues rock', 'classic rock', 'hard rock', 'proto-metal', 'psychedelic rock', 'rock']"
          ],
          [
           "['classic soul', 'disco', 'funk', 'motown', 'quiet storm', 'soul', 'southern soul']"
          ],
          [
           "['electronica', 'future garage', 'new rave']"
          ],
          [
           "['art punk', 'art rock', 'permanent wave', 'protopunk', 'rock']"
          ],
          [
           "['atl hip hop', 'contemporary r&b', 'dance pop', 'girl group', 'hip hop', 'hip pop', 'r&b', 'urban contemporary']"
          ],
          [
           "['acid rock', 'classic garage rock', 'experimental', 'freakbeat', 'protopunk', 'psychedelic rock']"
          ],
          [
           "['adult standards', 'bubblegum pop', 'folk rock', 'lounge', 'mellow gold', 'rock-and-roll', 'rockabilly', 'sunshine pop']"
          ],
          [
           "['new romantic', 'new wave', 'new wave pop']"
          ],
          [
           "['album rock', 'beatlesque', 'classic rock', 'folk rock', 'mellow gold', 'rock', 'soft rock']"
          ],
          [
           "['classic rock', 'permanent wave', 'punk', 'rock']"
          ],
          [
           "['hip hop', 'rap']"
          ],
          [
           "['baroque pop', 'canadian indie', 'indie rock', 'modern rock', 'permanent wave', 'quebec indie', 'rock']"
          ],
          [
           "['dance rock', 'new romantic', 'new wave', 'permanent wave', 'synthpop']"
          ],
          [
           "['albuquerque indie', 'alternative rock', 'indie pop', 'indie rock', 'modern rock', 'portland indie', 'stomp and holler']"
          ],
          [
           "['chicago rap', 'rap']"
          ],
          [
           "['baroque pop', 'chamber pop', 'melancholia']"
          ],
          [
           "['alternative rock', 'gothic rock', 'hardcore punk', 'new wave', 'post-punk', 'pub rock', 'punk', 'punk blues']"
          ],
          [
           "['']"
          ],
          [
           "['new wave', 'permanent wave', 'rock', 'uk post-punk']"
          ],
          [
           "['british invasion', 'classic rock', 'rock']"
          ],
          [
           "['doo-wop', 'rhythm and blues']"
          ],
          [
           "['canadian pop', 'dance pop', 'electropop', 'pop', 'post-teen pop']"
          ],
          [
           "['alternative rock', 'art rock', 'madchester', 'new wave', 'post-punk', 'rock', 'uk post-punk']"
          ],
          [
           "['grunge', 'permanent wave', 'rock']"
          ],
          [
           "['beatlesque', 'british invasion', 'classic rock', 'merseybeat', 'psychedelic rock', 'rock']"
          ],
          [
           "['eau claire indie', 'indie folk', 'melancholia']"
          ],
          [
           "['blues rock', 'classic rock', 'psychedelic rock', 'rock']"
          ],
          [
           "['']"
          ],
          [
           "['alternative pop', 'alternative rock', 'blues rock', 'grunge', 'indie rock', 'lo-fi', 'noise pop', 'noise rock', 'permanent wave', 'post-hardcore', 'post-punk', 'power pop', 'punk', 'rock']"
          ],
          [
           "['art pop', 'chamber pop', 'chamber psych', 'chillwave', 'electronica', 'electropop', 'experimental pop', 'indie pop', 'indie rock', 'seattle indie']"
          ],
          [
           "['glam rock', 'mellow gold', 'piano rock']"
          ],
          [
           "['art rock', 'classic rock', 'glam rock', 'permanent wave', 'rock']"
          ],
          [
           "['afrofuturism', 'alternative r&b', 'atl hip hop', 'electropop', 'escape room', 'neo soul', 'pop', 'r&b']"
          ],
          [
           "['downtempo', 'dream pop', 'indietronica']"
          ],
          [
           "['bubblegum pop', 'classic rock', 'folk rock', 'merseybeat']"
          ],
          [
           "['dance pop', 'electropop', 'hip pop', 'neo soul', 'r&b', 'urban contemporary']"
          ],
          [
           "['afrobeat', 'afropop', 'world']"
          ],
          [
           "['alternative rock', 'anti-folk', 'indie rock', 'modern rock', 'permanent wave', 'rock']"
          ],
          [
           "['grunge', 'permanent wave', 'rock']"
          ],
          [
           "['alternative rock', 'athens indie', 'permanent wave', 'pop rock', 'rock']"
          ],
          [
           "['alternative dance', 'electro house', 'electronica', 'filter house', 'new rave']"
          ],
          [
           "['alternative rock', 'chamber pop', 'indie rock', 'modern rock', 'noise pop', 'stomp and holler']"
          ],
          [
           "['adult standards', 'classic rock', 'folk', 'folk rock', 'mellow gold', 'rock', 'singer-songwriter', 'soft rock']"
          ],
          [
           "['funk', 'soul']"
          ],
          [
           "['conscious hip hop', 'gangster rap', 'golden age hip hop', 'hardcore hip hop', 'hip hop', 'old school hip hop', 'rap', 'west coast rap']"
          ],
          [
           "['art rock', 'classic rock', 'glam rock', 'permanent wave', 'rock']"
          ],
          [
           "['alternative hip hop', 'conscious hip hop', 'east coast hip hop', 'hardcore hip hop', 'hip hop', 'philly rap', 'political hip hop', 'southern hip hop']"
          ],
          [
           "['alternative pop', 'alternative rock', 'art rock', 'baroque pop', 'beatlesque', 'country rock', 'folk rock', 'jangle pop', 'melancholia', 'power pop', 'pub rock', 'roots rock']"
          ],
          [
           "['adult standards', 'bubblegum pop', 'folk rock', 'lounge', 'mellow gold', 'rock-and-roll', 'rockabilly', 'sunshine pop']"
          ],
          [
           "['permanent wave', 'pop']"
          ],
          [
           "['blues', 'blues rock', 'chicago blues', 'classic rock', 'delta blues', 'harmonica blues', 'memphis blues', 'traditional blues']"
          ],
          [
           "['hip hop', 'lgbtq+ hip hop', 'neo soul']"
          ],
          [
           "['mod revival', 'new wave', 'pub rock', 'punk', 'rock', 'ska']"
          ],
          [
           "['glam punk', 'rock']"
          ],
          [
           "['classic soul', 'funk', 'memphis soul', 'quiet storm', 'soul', 'soul blues', 'southern soul']"
          ],
          [
           "['art rock', 'folk', 'folk rock', 'mellow gold', 'new wave pop', 'permanent wave', 'power pop', 'pub rock', 'rock', 'roots rock', 'singer-songwriter']"
          ],
          [
           "['dance pop', 'pop']"
          ],
          [
           "['alternative rock', 'art rock', 'classic rock', 'folk rock', 'melancholia', 'permanent wave', 'protopunk', 'psychedelic rock', 'rock']"
          ],
          [
           "['alternative rock', 'art pop', 'art rock', 'dream pop', 'indie rock', 'melancholia', 'permanent wave', 'piano rock', 'rock', 'singer-songwriter']"
          ],
          [
           "['folk rock', 'sunshine pop']"
          ],
          [
           "['classic rock', 'classic soul', 'disco', 'funk', 'funk rock', 'psychedelic soul', 'rock', 'soul']"
          ],
          [
           "['alternative metal', 'alternative rock', 'grunge', 'hard rock', 'nu metal', 'rock']"
          ],
          [
           "['classic girl group', 'disco', 'funk', 'motown', 'quiet storm', 'soul']"
          ],
          [
           "['art pop', 'chillwave', 'dream pop', 'experimental pop', 'indie garage rock', 'la indie', 'neo-psychedelic', 'new weird america']"
          ],
          [
           "['classic rock', 'country rock', 'folk', 'folk rock', 'rock', 'roots rock', 'singer-songwriter']"
          ],
          [
           "['alternative rock', 'art rock', 'classic rock', 'folk rock', 'melancholia', 'permanent wave', 'protopunk', 'psychedelic rock', 'rock']"
          ],
          [
           "['classic soul', 'disco', 'funk', 'motown', 'quiet storm', 'soul']"
          ],
          [
           "['dusseldorf electronic', 'early synthpop', 'electro', 'new romantic', 'new wave', 'proto-techno', 'synthpop']"
          ],
          [
           "['classic rock', 'permanent wave', 'punk', 'rock']"
          ],
          [
           "['blues', 'harmonica blues', 'rhythm and blues', 'texas blues', 'traditional blues']"
          ],
          [
           "['alternative hip hop']"
          ],
          [
           "['alternative metal', 'alternative rock', 'cyberpunk', 'electronic rock', 'industrial', 'industrial metal', 'industrial rock', 'nu metal', 'rock']"
          ],
          [
           "['funk', 'quiet storm', 'soul']"
          ],
          [
           "['dance pop', 'escape room', 'minnesota hip hop', 'pop', 'trap queen']"
          ],
          [
           "['art rock', 'classic rock', 'glam rock', 'permanent wave', 'rock']"
          ],
          [
           "['cool jazz', 'hard bop', 'jazz', 'jazz fusion', 'jazz trumpet', 'uk contemporary jazz']"
          ],
          [
           "['art pop', 'brooklyn indie', 'indie pop', 'indie rock', 'small room']"
          ],
          [
           "['new wave pop', 'permanent wave', 'soft rock']"
          ],
          [
           "['barbadian pop', 'dance pop', 'pop', 'urban contemporary']"
          ],
          [
           "['conscious hip hop', 'hip hop', 'rap', 'west coast rap']"
          ],
          [
           "['album rock', 'classic rock', 'hard rock', 'rock']"
          ],
          [
           "['adult standards', 'easy listening', 'lounge']"
          ],
          [
           "['alternative rock', 'art rock', 'melancholia', 'oxford indie', 'permanent wave', 'rock']"
          ],
          [
           "['alternative metal', 'alternative rock', 'modern rock', 'permanent wave', 'post-grunge', 'rock']"
          ],
          [
           "['adult standards', 'bubblegum pop', 'rock-and-roll', 'rockabilly']"
          ],
          [
           "['garage rock', 'modern rock', 'permanent wave', 'rock', 'sheffield indie']"
          ],
          [
           "['alternative dance', 'electro house', 'electronica', 'filter house', 'new rave']"
          ],
          [
           "['beatlesque', 'british invasion', 'classic rock', 'merseybeat', 'psychedelic rock', 'rock']"
          ],
          [
           "['dance pop', 'hip hop', 'hip pop', 'pop rap', 'r&b', 'rap', 'urban contemporary', 'virginia hip hop']"
          ],
          [
           "['rock-and-roll', 'rockabilly', 'soul']"
          ],
          [
           "['blues', 'blues rock', 'chicago blues', 'electric blues', 'rhythm and blues', 'rock-and-roll', 'rockabilly', 'soul', 'traditional blues']"
          ],
          [
           "['classic soul', 'motown', 'northern soul', 'soul', 'southern soul']"
          ],
          [
           "['indie rock', 'modern rock']"
          ],
          [
           "['album rock', 'art rock', 'classic rock', 'progressive rock', 'psychedelic rock', 'rock', 'symphonic rock']"
          ],
          [
           "['art rock', 'classic rock', 'glam rock', 'permanent wave', 'psychedelic rock', 'rock', 'singer-songwriter']"
          ],
          [
           "['dark pop', 'electronica', 'laboratorio', 'trip hop']"
          ],
          [
           "['permanent wave', 'pop']"
          ],
          [
           "['beatlesque', 'british invasion', 'classic rock', 'merseybeat', 'psychedelic rock', 'rock']"
          ],
          [
           "['canadian singer-songwriter', 'classic canadian rock', 'classic rock', 'mellow gold', 'permanent wave', 'rock', 'roots rock', 'singer-songwriter']"
          ],
          [
           "['canadian singer-songwriter', 'folk', 'folk rock', 'melancholia', 'permanent wave', 'singer-songwriter']"
          ],
          [
           "['reggae', 'roots reggae']"
          ],
          [
           "['alternative rock', 'dc hardcore', 'indie rock', 'noise rock', 'post-hardcore', 'post-punk', 'punk', 'rock']"
          ],
          [
           "['east coast hip hop', 'gangster rap', 'hardcore hip hop', 'hip hop', 'rap']"
          ],
          [
           "['dub', 'reggae', 'roots reggae', 'ska']"
          ],
          [
           "['belgian singer-songwriter', 'chanson', 'french pop']"
          ],
          [
           "['adult standards', 'brill building pop', 'classic rock', 'folk', 'folk rock', 'mellow gold', 'rock', 'singer-songwriter', 'soft rock']"
          ],
          [
           "['big beat']"
          ],
          [
           "['classic rock', 'country rock', 'folk', 'folk rock', 'rock', 'roots rock', 'singer-songwriter']"
          ],
          [
           "['alternative dance', 'australian alternative rock', 'australian dance', 'collage pop', 'electronica', 'indie rock', 'new rave', 'psychedelic hip hop']"
          ],
          [
           "['mellow gold', 'rock drums', 'soft rock']"
          ],
          [
           "['alternative americana', 'art pop', 'indie folk', 'indie pop', 'indie rock']"
          ],
          [
           "['alternative rock', 'garage rock', 'garage rock revival', 'modern rock', 'new rave', 'rock', 'swedish garage rock', 'swedish hard rock', 'swedish indie rock']"
          ],
          [
           "['classic soul', 'jazz blues', 'memphis soul', 'soul', 'southern soul']"
          ],
          [
           "['acid rock', 'album rock', 'classic rock', 'psychedelic rock', 'rock']"
          ],
          [
           "['album rock', 'art rock', 'blues rock', 'classic rock', 'classic uk pop', 'folk rock', 'glam rock', 'mellow gold', 'rock', 'soft rock', 'symphonic rock', 'yacht rock']"
          ],
          [
           "['country', 'country dawn', 'country rock', 'nashville sound']"
          ],
          [
           "['adult standards', 'bubblegum pop', 'folk rock', 'lounge', 'mellow gold', 'rock-and-roll', 'rockabilly', 'sunshine pop']"
          ],
          [
           "['adult standards', 'brill building pop', 'bubblegum pop', 'rock-and-roll', 'rockabilly']"
          ],
          [
           "['art rock', 'classic rock', 'glam rock', 'permanent wave', 'rock']"
          ],
          [
           "['alternative rock', 'athens indie', 'permanent wave', 'pop rock', 'rock']"
          ],
          [
           "['dance pop']"
          ],
          [
           "['adult standards', 'louisiana blues', 'lounge', 'new orleans blues', 'piano blues', 'rock-and-roll', 'rockabilly', 'soul']"
          ],
          [
           "['dance pop', 'pop']"
          ],
          [
           "['album rock', 'beatlesque', 'classic rock', 'mellow gold', 'rock']"
          ],
          [
           "['classic soul', 'jazz blues', 'memphis soul', 'soul', 'southern soul']"
          ],
          [
           "['album rock', 'blues rock', 'classic canadian rock', 'classic rock', 'cosmic american', 'country rock', 'folk', 'folk rock', 'heartland rock', 'mellow gold', 'rock', 'roots rock', 'soft rock', 'swamp rock']"
          ],
          [
           "['eau claire indie', 'indie folk', 'melancholia']"
          ],
          [
           "['alternative rock', 'anti-folk', 'art rock', 'dream pop', 'indie rock', 'lo-fi', 'modern rock', 'pop rock', 'rock']"
          ],
          [
           "['american folk revival', 'appalachian folk', 'folk', 'old-time', 'traditional country', 'traditional folk', 'yodeling']"
          ],
          [
           "['dance pop', 'pop']"
          ],
          [
           "['alternative rock', 'grunge', 'permanent wave', 'rock']"
          ],
          [
           "['dance pop']"
          ],
          [
           "['irish rock', 'permanent wave', 'rock']"
          ],
          [
           "['album rock', 'classic rock', 'rock', 'soft rock', 'yacht rock']"
          ],
          [
           "['lgbtq+ hip hop', 'pop']"
          ],
          [
           "['adult standards', 'motown', 'soul']"
          ],
          [
           "['classic rock', 'country rock', 'rock', 'southern rock', 'swamp rock']"
          ],
          [
           "['bubblegum pop', 'classic girl group', 'rock-and-roll']"
          ],
          [
           "['album rock', 'classic rock', 'hard rock', 'rock']"
          ],
          [
           "['australian rock', 'bubblegum pop', 'classic garage rock', 'folk rock', 'freakbeat', 'merseybeat', 'protopunk', 'psychedelic rock']"
          ],
          [
           "['g funk', 'gangster rap', 'hip hop', 'rap', 'west coast rap']"
          ],
          [
           "['classic rock', 'heartland rock', 'mellow gold', 'permanent wave', 'rock', 'singer-songwriter']"
          ],
          [
           "['reggae', 'roots reggae']"
          ],
          [
           "['r&b en espanol']"
          ],
          [
           "['classic rock', 'classic soul', 'disco', 'funk', 'funk rock', 'psychedelic soul', 'rock', 'soul']"
          ],
          [
           "['classic soul', 'funk', 'memphis soul', 'soul', 'southern soul']"
          ],
          [
           "['blues', 'blues rock', 'classic rock', 'electric blues', 'jazz blues', 'soul blues', 'traditional blues']"
          ],
          [
           "['atl hip hop', 'contemporary r&b', 'dance pop', 'girl group', 'hip hop', 'hip pop', 'r&b', 'urban contemporary']"
          ],
          [
           "['new romantic', 'new wave', 'new wave pop', 'permanent wave', 'pop rock', 'soft rock', 'synthpop']"
          ],
          [
           "['chamber pop', 'folk', 'indie folk', 'indie pop', 'indie rock', 'seattle indie', 'stomp and holler']"
          ],
          [
           "['classic rock', 'glam rock', 'new wave', 'permanent wave', 'protopunk', 'punk', 'rock']"
          ],
          [
           "['alternative dance', 'chillwave', 'electronica', 'electropop', 'folktronica', 'indie rock', 'indietronica', 'intelligent dance music', 'new rave']"
          ],
          [
           "['art pop', 'candy pop', 'dance pop', 'electropop', 'escape room', 'indie pop', 'la indie', 'metropopolis', 'neo-synthpop', 'pop']"
          ],
          [
           "['bedroom pop', 'indie pop', 'pop']"
          ],
          [
           "['adult standards', 'big band', 'easy listening', 'jazz trombone', 'lounge', 'swing', 'vocal jazz']"
          ],
          [
           "['art rock', 'bubblegum pop', 'classic rock', 'country rock', 'folk', 'folk rock', 'mellow gold', 'merseybeat', 'psychedelic rock', 'rock', 'rock-and-roll', 'roots rock', 'soft rock']"
          ],
          [
           "['doo-wop', 'rhythm and blues']"
          ],
          [
           "['alternative dance', 'chillwave', 'electronica', 'electropop', 'folktronica', 'indie rock', 'indietronica', 'intelligent dance music', 'new rave']"
          ],
          [
           "['celtic punk', 'celtic rock', 'folk punk', 'punk']"
          ],
          [
           "['baroque pop', 'canadian indie', 'indie rock', 'modern rock', 'permanent wave', 'quebec indie', 'rock']"
          ],
          [
           "['alternative dance', 'indie rock', 'modern rock', 'new rave', 'rock independant francais']"
          ],
          [
           "['adult standards', 'classic soul', 'disco', 'funk', 'mellow gold', 'quiet storm', 'soft rock', 'soul', 'vocal jazz']"
          ],
          [
           "['adult standards', 'cool jazz', 'jazz', 'jazz trumpet', 'lounge', 'vocal jazz']"
          ],
          [
           "['album rock', 'classic rock', 'mellow gold', 'permanent wave', 'rock']"
          ],
          [
           "['bebop', 'big band', 'cool jazz', 'jazz', 'jazz saxophone']"
          ],
          [
           "['alternative dance', 'alternative rock', 'dance rock', 'dance-punk', 'electronic rock', 'electronica', 'indie rock', 'indietronica', 'modern rock', 'new rave', 'rock']"
          ],
          [
           "['classic rock', 'folk', 'folk rock', 'melancholia', 'mellow gold', 'rock']"
          ],
          [
           "['downtempo', 'electronica', 'trip hop']"
          ],
          [
           "['alternative rock', 'art pop', 'dream pop', 'melancholia', 'rock', 'shoegaze', 'slowcore']"
          ],
          [
           "['dance rock', 'new romantic', 'new wave', 'permanent wave', 'synthpop']"
          ],
          [
           "['alternative pop', 'alternative rock', 'art rock', 'baroque pop', 'beatlesque', 'country rock', 'folk rock', 'jangle pop', 'melancholia', 'power pop', 'pub rock', 'roots rock']"
          ],
          [
           "['irish rock', 'permanent wave', 'rock']"
          ],
          [
           "['british soul', 'funk', 'post-disco', 'quiet storm', 'urban contemporary']"
          ],
          [
           "['beatlesque', 'british invasion', 'classic rock', 'merseybeat', 'psychedelic rock', 'rock']"
          ],
          [
           "['adult standards', 'bubblegum pop', 'doo-wop', 'rhythm and blues', 'rock-and-roll', 'rockabilly', 'soul']"
          ],
          [
           "['afrofuturism', 'alternative r&b', 'atl hip hop', 'electropop', 'escape room', 'neo soul', 'pop', 'r&b']"
          ],
          [
           "['bubblegum pop', 'classic garage rock', 'merseybeat']"
          ],
          [
           "['dance pop', 'girl group', 'golden age hip hop', 'hip hop', 'hip pop', 'old school hip hop', 'pop rap', 'queens hip hop']"
          ],
          [
           "['art rock', 'classic rock', 'glam rock', 'melancholia', 'mellow gold', 'new romantic', 'new wave', 'new wave pop', 'rock', 'soft rock', 'sophisti-pop']"
          ],
          [
           "['gospel', 'spirituals']"
          ],
          [
           "['canadian indie', 'indie rock', 'modern alternative rock', 'modern rock', 'noise pop', 'noise rock', 'vancouver indie', 'vancouver punk']"
          ],
          [
           "['adult standards', 'dixieland', 'harlem renaissance', 'jazz trumpet', 'new orleans jazz', 'swing', 'vocal jazz']"
          ],
          [
           "['alternative country', 'alternative rock', 'chicago indie', 'indie rock', 'pop rock', 'roots rock']"
          ],
          [
           "['adult standards', 'easy listening', 'lounge', 'torch song', 'vocal jazz']"
          ],
          [
           "['britpop']"
          ],
          [
           "['album rock', 'art rock', 'blues rock', 'british blues', 'classic rock', 'country rock', 'electric blues', 'hard rock', 'mellow gold', 'psychedelic rock', 'rock', 'symphonic rock']"
          ],
          [
           "['alternative dance', 'art pop', 'brighton indie', 'chamber psych', 'dark pop', 'dream pop', 'electronica', 'electropop', 'etherpop', 'metropopolis', 'neo-synthpop', 'new rave']"
          ],
          [
           "['art rock', 'british folk', 'canterbury scene', 'experimental', 'experimental rock', 'psychedelic rock', 'zolo']"
          ],
          [
           "['australian dance', 'australian pop', 'dance pop', 'pop']"
          ],
          [
           "['electronica', 'indie soul', 'uk alternative pop']"
          ],
          [
           "['beatlesque', 'british invasion', 'classic rock', 'merseybeat', 'psychedelic rock', 'rock']"
          ],
          [
           "['alternative dance', 'electropop', 'new rave', 'olympia wa indie']"
          ],
          [
           "['canadian singer-songwriter', 'classic canadian rock', 'classic rock', 'mellow gold', 'permanent wave', 'rock', 'roots rock', 'singer-songwriter']"
          ],
          [
           "['art rock', 'classic rock', 'glam rock', 'permanent wave', 'rock']"
          ],
          [
           "['britpop', 'pop rock']"
          ],
          [
           "['australian rock', 'hard rock', 'rock']"
          ],
          [
           "['adult standards', 'british invasion', 'merseybeat', 'rock-and-roll', 'rockabilly']"
          ],
          [
           "['beatlesque', 'british invasion', 'classic rock', 'merseybeat', 'psychedelic rock', 'rock']"
          ],
          [
           "['british invasion', 'merseybeat', 'rock-and-roll', 'surf music']"
          ],
          [
           "['adult standards', 'jazz blues', 'soul', 'soul blues', 'torch song', 'vocal jazz']"
          ],
          [
           "['alternative rock', 'garage rock', 'modern rock', 'permanent wave', 'rock']"
          ],
          [
           "['art rock', 'classic rock', 'glam rock', 'permanent wave', 'rock']"
          ],
          [
           "['folk', 'lilith', 'singer-songwriter', '\"women\\'s music\"']"
          ],
          [
           "['album rock', 'art rock', 'classic rock', 'progressive rock', 'psychedelic rock', 'rock', 'symphonic rock']"
          ],
          [
           "['art rock', 'classic rock', 'glam rock', 'melancholia', 'mellow gold', 'new romantic', 'new wave', 'new wave pop', 'rock', 'soft rock', 'sophisti-pop']"
          ],
          [
           "['blues', 'blues rock', 'chicago blues', 'delta blues', 'electric blues', 'rock-and-roll', 'traditional blues']"
          ],
          [
           "['afrofuturism', 'alternative r&b', 'dance pop', 'escape room', 'hip pop', 'indie soul', 'neo soul', 'r&b', 'urban contemporary']"
          ],
          [
           "['art rock', 'melancholia', 'permanent wave', 'rock', 'singer-songwriter']"
          ],
          [
           "['bluegrass', 'bluegrass gospel', 'country gospel', 'traditional country']"
          ],
          [
           "['canadian singer-songwriter', 'folk', 'folk rock', 'melancholia', 'permanent wave', 'singer-songwriter']"
          ],
          [
           "['blues rock', 'classic rock', 'psychedelic rock', 'rock']"
          ],
          [
           "['dub', 'lovers rock', 'reggae', 'roots reggae', 'ska']"
          ],
          [
           "['canadian hip hop', 'canadian pop', 'hip hop', 'rap', 'toronto rap']"
          ],
          [
           "['album rock', 'beatlesque', 'classic rock', 'folk rock', 'mellow gold', 'rock', 'soft rock']"
          ],
          [
           "['alternative rock', 'art rock', 'dance rock', 'madchester', 'new romantic', 'new wave', 'new wave pop', 'permanent wave', 'pop rock', 'post-punk', 'rock', 'synthpop', 'uk post-punk']"
          ],
          [
           "['baroque pop', 'indie rock', 'modern rock', 'rock']"
          ],
          [
           "['bronx hip hop', 'conscious hip hop', 'east coast hip hop', 'electro', 'hip hop', 'hip house', 'old school hip hop', 'rap', 'turntablism']"
          ],
          [
           "['alternative dance', 'big beat', 'breakbeat', 'electronica', 'new rave', 'rave']"
          ],
          [
           "['dance pop', 'disco', 'hi-nrg', 'new wave pop']"
          ],
          [
           "['electro', 'filter house']"
          ],
          [
           "['early synthpop', 'new romantic', 'new wave', 'new wave pop', 'synthpop', 'zolo']"
          ],
          [
           "['alternative r&b', 'conscious hip hop', 'neo soul', 'new jersey rap', 'r&b', 'urban contemporary']"
          ],
          [
           "['album rock', 'classic rock', 'hard rock', 'rock']"
          ],
          [
           "['album rock', 'art rock', 'classic rock', 'instrumental rock', 'jazz fusion', 'jazz rock', 'progressive rock', 'psychedelic rock', 'rock', 'symphonic rock', 'zolo']"
          ],
          [
           "['british invasion', 'classic rock', 'rock']"
          ],
          [
           "['classic rock', 'country rock', 'folk', 'folk rock', 'rock', 'roots rock', 'singer-songwriter']"
          ],
          [
           "['beatlesque', 'british invasion', 'classic rock', 'merseybeat', 'psychedelic rock', 'rock']"
          ],
          [
           "['art rock', 'melancholia', 'permanent wave', 'rock', 'singer-songwriter']"
          ],
          [
           "['art pop', 'candy pop', 'dance pop', 'electropop', 'metropopolis', 'pop', 'post-teen pop', 'uk pop']"
          ],
          [
           "['art pop', 'dance pop', 'pop']"
          ],
          [
           "['alternative hip hop', 'east coast hip hop', 'golden age hip hop', 'hardcore hip hop', 'hip hop', 'jazz rap', 'rap']"
          ],
          [
           "['punk', 'rock']"
          ],
          [
           "['alternative rock', 'art punk', 'art rock', 'experimental', 'madchester', 'new romantic', 'new wave', 'post-punk', 'pub rock', 'punk', 'synthpop', 'uk post-punk']"
          ],
          [
           "['blues', 'blues rock', 'classic rock', 'delta blues', 'electric blues', 'memphis blues', 'soul', 'traditional blues']"
          ],
          [
           "['classic rock', 'country rock', 'folk', 'folk rock', 'rock', 'roots rock', 'singer-songwriter']"
          ],
          [
           "['rock-and-roll']"
          ],
          [
           "['classic girl group', 'classic soul', 'motown', 'rhythm and blues', 'soul', 'southern soul']"
          ],
          [
           "['dance pop', 'pop', 'r&b']"
          ],
          [
           "['classic rock', 'country rock', 'folk', 'folk rock', 'rock', 'roots rock', 'singer-songwriter']"
          ],
          [
           "['album rock', 'art rock', 'classic rock', 'country rock', 'folk rock', 'heartland rock', 'mellow gold', 'new wave pop', 'pop rock', 'rock', 'singer-songwriter', 'soft rock', 'yacht rock']"
          ],
          [
           "['art rock', 'glam rock', 'new romantic', 'new wave', 'new wave pop', 'post-punk', 'synthpop', 'zolo']"
          ],
          [
           "['classic soul', 'funk', 'memphis soul', 'soul', 'southern soul']"
          ],
          [
           "['alternative rock', 'grunge', 'permanent wave', 'rock']"
          ],
          [
           "['early us punk', 'glam punk', 'glam rock', 'post-punk', 'protopunk', 'pub rock', 'punk', 'punk blues']"
          ],
          [
           "['classic rock', 'early us punk', 'permanent wave', 'punk', 'rock']"
          ],
          [
           "['irish rock', 'permanent wave', 'rock']"
          ],
          [
           "['dreamo', 'indie pop', 'indie rock', 'shoegaze', 'toronto indie']"
          ],
          [
           "['grunge', 'permanent wave', 'rock']"
          ],
          [
           "['modern alternative rock', 'modern rock', 'pop', 'rock']"
          ],
          [
           "['art rock', 'beatlesque', 'blues rock', 'classic rock', 'cosmic american', 'country rock', 'folk', 'folk rock', 'mellow gold', 'psychedelic rock', 'rock', 'roots rock', 'soft rock']"
          ],
          [
           "['alternative rock', 'art rock', 'experimental', 'new romantic', 'new wave', 'post-punk', 'punk', 'uk post-punk']"
          ],
          [
           "['art rock', 'dance rock', 'new romantic', 'new wave', 'new wave pop', 'permanent wave', 'post-punk', 'rock', 'zolo']"
          ],
          [
           "['space age pop']"
          ],
          [
           "['classic soul', 'funk', 'indie r&b', 'motown', 'northern soul', 'quiet storm', 'soul']"
          ],
          [
           "['album rock', 'art rock', 'beatlesque', 'classic rock', 'glam metal', 'glam rock', 'hard rock', 'heartland rock', 'mellow gold', 'new wave pop', 'pop rock', 'power pop', 'rock', 'soft rock']"
          ],
          [
           "['bebop', 'jazz', 'jazz quartet']"
          ],
          [
           "['canadian pop', 'dance pop', 'electropop', 'pop', 'post-teen pop']"
          ],
          [
           "['australian psych', 'neo-psychedelic']"
          ],
          [
           "['dance pop', 'pop']"
          ],
          [
           "['adult standards', 'brill building pop', 'doo-wop', 'rhythm and blues', 'rock-and-roll', 'rockabilly']"
          ],
          [
           "['british invasion', 'classic rock', 'rock']"
          ],
          [
           "['classic soul']"
          ],
          [
           "['blues', 'blues rock', 'chicago blues', 'electric blues', 'rhythm and blues', 'rock-and-roll', 'rockabilly', 'soul', 'traditional blues']"
          ],
          [
           "['alternative rock', 'britpop', 'madchester', 'new wave', 'permanent wave', 'pop rock', 'rock', 'solo wave']"
          ],
          [
           "['alternative r&b', 'contemporary r&b', 'dance pop', 'hip hop', 'hip pop', 'neo soul', 'r&b', 'urban contemporary']"
          ],
          [
           "['glam metal', 'rock']"
          ],
          [
           "['alternative rock', 'art punk', 'art rock', 'dance rock', 'experimental', 'funk rock', 'new wave', 'post-punk', 'punk', 'uk post-punk']"
          ],
          [
           "['grunge', 'permanent wave', 'rock']"
          ],
          [
           "['alternative rock', 'modern power pop', 'modern rock', 'permanent wave', 'rock']"
          ],
          [
           "['east coast hip hop', 'hip hop', 'rap']"
          ],
          [
           "['electro', 'harlem hip hop', 'hip house']"
          ],
          [
           "['canadian singer-songwriter', 'classic canadian rock', 'classic rock', 'mellow gold', 'permanent wave', 'rock', 'roots rock', 'singer-songwriter']"
          ],
          [
           "['classic rock', 'country rock', 'folk', 'folk rock', 'rock', 'roots rock', 'singer-songwriter']"
          ],
          [
           "['beatlesque', 'britpop', 'madchester', 'permanent wave', 'pop rock', 'rock']"
          ],
          [
           "['dance pop', 'urban contemporary']"
          ],
          [
           "['funk', 'soul']"
          ],
          [
           "['g funk', 'gangster rap', 'hip hop', 'pop rap', 'rap', 'west coast rap']"
          ],
          [
           "['alternative dance', 'art pop', 'electropop', 'escape room', 'new rave']"
          ],
          [
           "['alternative rock', 'britpop', 'garage rock', 'garage rock revival', 'indie rock', 'modern rock', 'rock']"
          ],
          [
           "['experimental rock', 'instrumental math rock', 'math rock', 'post-rock']"
          ],
          [
           "['album rock', 'art rock', 'blues rock', 'classic rock', 'country rock', 'folk', 'folk rock', 'heartland rock', 'mellow gold', 'psychedelic rock', 'rock', 'roots rock', 'soft rock']"
          ],
          [
           "['album rock', 'art rock', 'blues rock', 'british invasion', 'classic rock', 'hard rock', 'mellow gold', 'psychedelic rock', 'rock']"
          ],
          [
           "['alternative rock', 'art pop', 'art rock', 'dream pop', 'icelandic pop', 'icelandic post-punk', 'new wave', 'new wave pop', 'post-punk']"
          ],
          [
           "['adult standards', 'big band', 'harlem renaissance', 'jazz', 'jazz piano', 'lounge', 'stride', 'swing', 'vocal jazz']"
          ],
          [
           "['alternative dance', 'indie rock', 'modern rock', 'new rave', 'rock']"
          ],
          [
           "['classic girl group', 'classic soul', 'disco', 'funk', 'motown', 'quiet storm', 'rock-and-roll', 'soul']"
          ],
          [
           "['art rock', 'new romantic', 'new wave', 'new wave pop', 'permanent wave', 'post-punk', 'synthpop']"
          ],
          [
           "['adult standards', 'nashville sound']"
          ],
          [
           "['contemporary r&b', 'dance pop', 'hip pop', 'neo soul', 'r&b', 'urban contemporary']"
          ],
          [
           "['conscious hip hop', 'east coast hip hop', 'gangster rap', 'golden age hip hop', 'hardcore hip hop', 'hip hop', 'old school hip hop', 'political hip hop', 'rap', 'rap rock']"
          ],
          [
           "['classic rock', 'permanent wave', 'punk', 'rock']"
          ],
          [
           "['conscious hip hop', 'east coast hip hop', 'gangster rap', 'golden age hip hop', 'hardcore hip hop', 'hip hop', 'old school hip hop', 'political hip hop', 'rap', 'rap rock']"
          ],
          [
           "['album rock', 'beatlesque', 'classic rock', 'mellow gold', 'rock']"
          ],
          [
           "['alternative rock', 'art rock', 'indie rock', 'modern rock', 'noise pop', 'okc indie', 'rock']"
          ],
          [
           "['beatlesque', 'british invasion', 'classic rock', 'merseybeat', 'psychedelic rock', 'rock']"
          ],
          [
           "['bassline', 'grime', 'house', 'instrumental grime', 'pop rap']"
          ],
          [
           "['permanent wave', 'pop']"
          ],
          [
           "['british invasion', 'classic rock', 'rock']"
          ],
          [
           "['classic soul', 'funk', 'memphis soul', 'motown', 'soul']"
          ],
          [
           "['album rock', 'classic rock', 'country rock', 'detroit rock', 'folk rock', 'hard rock', 'heartland rock', 'mellow gold', 'rock', 'soft rock']"
          ],
          [
           "['pub rock', 'punk']"
          ],
          [
           "['album rock', 'birmingham metal', 'classic rock', 'hard rock', 'metal', 'rock', 'stoner rock', 'uk doom metal']"
          ],
          [
           "['bubblegum pop', 'classic garage rock', 'rock-and-roll', 'surf music']"
          ],
          [
           "['atl hip hop', 'contemporary r&b', 'dance pop', 'r&b', 'south carolina hip hop', 'urban contemporary']"
          ],
          [
           "['album rock', 'classic rock', 'folk rock', 'heartland rock', 'mellow gold', 'pop rock', 'rock', 'soft rock']"
          ],
          [
           "['album rock', 'art rock', 'classic rock', 'progressive rock', 'psychedelic rock', 'rock', 'symphonic rock']"
          ],
          [
           "['acid rock', 'album rock', 'blues rock', 'classic rock', 'hard rock', 'proto-metal', 'psychedelic rock', 'rock']"
          ],
          [
           "['art rock', 'british folk', 'folk', 'folk rock', 'melancholia', 'rock', 'singer-songwriter']"
          ],
          [
           "['alternative rock', 'art rock', 'melancholia', 'oxford indie', 'permanent wave', 'rock']"
          ],
          [
           "['classic uk pop', 'country rock', 'folk', 'folk rock']"
          ],
          [
           "['alternative rock', 'anti-folk', 'art rock', 'dream pop', 'indie rock', 'lo-fi', 'modern rock', 'pop rock', 'rock']"
          ],
          [
           "['alternative rock', 'art punk', 'art rock', 'beatlesque', 'new romantic', 'new wave', 'new wave pop', 'post-punk', 'power pop', 'pub rock', 'zolo']"
          ],
          [
           "['dance pop', 'new wave pop']"
          ],
          [
           "['baroque pop', 'classic rock', 'psychedelic rock', 'rock', 'sunshine pop']"
          ],
          [
           "['classic rock', 'folk', 'folk rock', 'melancholia', 'mellow gold', 'rock']"
          ],
          [
           "['baroque pop', 'classic rock', 'psychedelic rock', 'rock', 'sunshine pop']"
          ],
          [
           "['dub', 'lovers rock', 'reggae', 'roots reggae']"
          ],
          [
           "['conscious hip hop', 'funk', 'jazz funk', 'political hip hop', 'slam poetry', 'soul']"
          ],
          [
           "['pop', 'r&b', 'soul']"
          ],
          [
           "['acoustic blues', 'blues', 'delta blues', 'pre-war blues', 'traditional blues']"
          ],
          [
           "['african-american classical', 'big band', 'harlem renaissance', 'jazz', 'jazz piano', 'swing']"
          ],
          [
           "['album rock', 'classic rock', 'new wave pop', 'power pop']"
          ],
          [
           "['folk rock', 'sunshine pop']"
          ],
          [
           "['art rock', 'folk', 'folk rock', 'mellow gold', 'new wave pop', 'permanent wave', 'power pop', 'pub rock', 'rock', 'roots rock', 'singer-songwriter']"
          ],
          [
           "['electronica', 'new wave pop', 'pop rock', 'sophisti-pop', 'trip hop']"
          ],
          [
           "['classic soul', 'funk', 'motown', 'quiet storm', 'soul', 'southern soul']"
          ],
          [
           "['classic rock', 'heartland rock', 'mellow gold', 'permanent wave', 'rock', 'singer-songwriter']"
          ],
          [
           "['album rock', 'classic rock', 'country rock', 'folk rock', 'heartland rock', 'mellow gold', 'pop rock', 'rock', 'singer-songwriter', 'soft rock']"
          ],
          [
           "['canadian singer-songwriter', 'folk', 'folk rock', 'singer-songwriter']"
          ],
          [
           "['adult standards', 'bubblegum pop', 'folk rock', 'mellow gold', 'merseybeat', 'rock-and-roll']"
          ],
          [
           "['hip hop', 'rap']"
          ],
          [
           "['adult standards', 'harlem renaissance', 'jazz', 'jazz blues', 'lounge', 'torch song', 'vocal jazz']"
          ],
          [
           "['baroque pop', 'bubblegum pop', 'classic garage rock', 'country rock', 'folk rock', 'freakbeat', 'psychedelic rock']"
          ],
          [
           "['art rock', 'permanent wave']"
          ],
          [
           "['alternative rock', 'art rock', 'melancholia', 'oxford indie', 'permanent wave', 'rock']"
          ],
          [
           "['canadian contemporary r&b', 'canadian pop', 'pop']"
          ],
          [
           "['early us punk', 'hardcore punk', 'punk', 'skate punk']"
          ],
          [
           "['album rock', 'art rock', 'classic rock', 'mellow gold', 'new wave', 'new wave pop', 'permanent wave', 'rock', 'soft rock', 'symphonic rock']"
          ],
          [
           "['dance pop']"
          ],
          [
           "['glam rock', 'mellow gold', 'piano rock']"
          ],
          [
           "['dance rock', 'new romantic', 'new wave', 'no wave', 'post-punk', 'synthpop']"
          ],
          [
           "['hip hop', 'new orleans rap', 'pop rap', 'rap', 'trap']"
          ],
          [
           "['classic rock', 'country rock', 'folk', 'folk rock', 'rock', 'roots rock', 'singer-songwriter']"
          ],
          [
           "['boy band', 'contemporary r&b', 'dance pop', 'hip hop', 'hip pop', 'neo soul', 'new jack swing', 'pop rap', 'quiet storm', 'r&b', 'urban contemporary']"
          ],
          [
           "['alternative dance', 'dance rock', 'dance-punk', 'electroclash', 'electronica', 'modern rock', 'new rave', 'sacramento indie']"
          ],
          [
           "['art rock', 'mellow gold', 'new wave', 'new wave pop', 'power pop', 'pub rock', 'rock', 'roots rock']"
          ],
          [
           "['classic rock', 'folk', 'folk rock', 'melancholia', 'mellow gold', 'rock']"
          ],
          [
           "['hard rock', 'metal', 'old school thrash', 'rock', 'thrash metal']"
          ],
          [
           "['chicago rap', 'rap']"
          ],
          [
           "['art pop', 'deconstructed club', 'electropop', 'escape room', 'hyperpop', 'proto-hyperpop', 'transpop']"
          ],
          [
           "['bubblegum pop', 'classic garage rock', 'freakbeat', 'protopunk', 'psychedelic rock']"
          ],
          [
           "['east coast hip hop', 'gangster rap', 'hip hop', 'pop rap', 'queens hip hop', 'rap']"
          ],
          [
           "['disco', 'funk', 'post-disco', 'quiet storm', 'soul', 'synth funk']"
          ],
          [
           "['alternative rock', 'funk metal', 'funk rock', 'permanent wave']"
          ],
          [
           "['glam rock', 'mellow gold', 'piano rock']"
          ],
          [
           "['classic rock', 'country rock', 'folk', 'folk rock', 'rock', 'roots rock', 'singer-songwriter']"
          ],
          [
           "['rock-and-roll', 'rockabilly']"
          ],
          [
           "['art rock', 'classic rock', 'glam rock', 'permanent wave', 'rock']"
          ],
          [
           "['dance pop', 'pop']"
          ],
          [
           "['irish rock', 'permanent wave', 'rock']"
          ],
          [
           "['pop', 'r&b', 'soul']"
          ],
          [
           "['album rock', 'blues rock', 'classic rock', 'country rock', 'hard rock', 'rock']"
          ],
          [
           "['new wave', 'permanent wave', 'rock', 'uk post-punk']"
          ],
          [
           "['atl hip hop', 'rap', 'southern hip hop', 'trap']"
          ],
          [
           "['adult standards', 'rock-and-roll', 'soul']"
          ],
          [
           "['new wave', 'permanent wave', 'rock', 'uk post-punk']"
          ],
          [
           "['dance pop', 'indietronica', 'new rave']"
          ],
          [
           "['alternative rock', 'dream pop', 'noise pop', 'rock', 'shoegaze']"
          ],
          [
           "['art pop', 'experimental pop', 'experimental vocal', 'icelandic experimental', 'icelandic pop', 'icelandic singer-songwriter', 'metropopolis', 'permanent wave']"
          ],
          [
           "['canadian singer-songwriter', 'classic canadian rock', 'classic rock', 'mellow gold', 'permanent wave', 'rock', 'roots rock', 'singer-songwriter']"
          ],
          [
           "['art rock', 'baroque pop', 'british invasion', 'bubblegum pop', 'classic rock', 'folk rock', 'psychedelic rock', 'rock']"
          ],
          [
           "['art pop', 'brooklyn indie', 'experimental pop', 'indie pop', 'indie rock']"
          ],
          [
           "['reggae', 'rocksteady', 'ska']"
          ],
          [
           "['classic rock', 'heartland rock', 'mellow gold', 'permanent wave', 'rock', 'singer-songwriter']"
          ],
          [
           "['detroit hip hop', 'hip hop', 'rap']"
          ],
          [
           "['baroque pop', 'classic rock', 'psychedelic rock', 'rock', 'sunshine pop']"
          ],
          [
           "['bubblegum pop', 'classic garage rock', 'classic rock', 'country rock', 'folk rock', 'mellow gold', 'psychedelic rock', 'rock', 'rock-and-roll', 'soft rock']"
          ],
          [
           "['beatlesque', 'british invasion', 'classic rock', 'merseybeat', 'psychedelic rock', 'rock']"
          ],
          [
           "['classic rock', 'country rock', 'folk', 'folk rock', 'rock', 'roots rock', 'singer-songwriter']"
          ],
          [
           "['alternative rock', 'modern power pop', 'modern rock', 'permanent wave', 'rock']"
          ],
          [
           "['british invasion', 'folk rock', 'merseybeat', 'rock-and-roll']"
          ],
          [
           "['permanent wave', 'punk']"
          ],
          [
           "['canadian singer-songwriter', 'classic canadian rock', 'classic rock', 'mellow gold', 'permanent wave', 'rock', 'roots rock', 'singer-songwriter']"
          ],
          [
           "['art rock', 'classic rock', 'classic uk pop', 'country rock', 'folk', 'folk rock', 'mellow gold', 'rock', 'roots rock', 'singer-songwriter', 'soft rock']"
          ],
          [
           "['candy pop', 'new wave', 'new wave pop', 'permanent wave', 'power pop', 'rock']"
          ],
          [
           "['adult standards', 'classic rock', 'country rock', 'folk', 'folk rock', 'mellow gold', 'singer-songwriter', 'soft rock']"
          ],
          [
           "['alternative hip hop']"
          ],
          [
           "['alternative rock', 'dark wave', 'gothic rock', 'new wave', 'post-punk']"
          ],
          [
           "['beatlesque', 'britpop', 'madchester', 'permanent wave', 'pop rock', 'rock']"
          ],
          [
           "['east coast hip hop', 'gangster rap', 'hardcore hip hop', 'hip hop', 'rap']"
          ],
          [
           "['bebop', 'free jazz', 'jazz', 'jazz saxophone']"
          ],
          [
           "['grunge', 'permanent wave', 'rock']"
          ],
          [
           "['disco', 'quiet storm']"
          ],
          [
           "['dance pop', 'electropop', 'hip pop', 'neo soul', 'r&b', 'urban contemporary']"
          ],
          [
           "['modern rock', 'rock']"
          ],
          [
           "['conscious hip hop', 'dirty south rap', 'g funk', 'gangster rap', 'golden age hip hop', 'hardcore hip hop', 'hip hop', 'old school hip hop', 'rap', 'southern hip hop']"
          ],
          [
           "['adult standards', 'bubblegum pop', 'mellow gold', 'rock-and-roll', 'rockabilly']"
          ],
          [
           "['blues', 'blues rock', 'chicago blues', 'electric blues', 'jazz blues', 'texas blues', 'traditional blues']"
          ],
          [
           "['permanent wave', 'punk']"
          ],
          [
           "['classic rock', 'permanent wave', 'punk', 'rock']"
          ],
          [
           "['alternative rock', 'anti-folk', 'art rock', 'dream pop', 'indie rock', 'lo-fi', 'modern rock', 'pop rock', 'rock']"
          ],
          [
           "['classic soul', 'disco', 'funk', 'philly soul', 'quiet storm', 'soul', 'southern soul', 'urban contemporary']"
          ],
          [
           "['brooklyn indie', 'indie pop']"
          ],
          [
           "['album rock', 'art rock', 'classic rock', 'mellow gold', 'new wave', 'new wave pop', 'permanent wave', 'rock', 'soft rock', 'symphonic rock']"
          ],
          [
           "['australian rock', 'mellow gold', 'permanent wave', 'pop rock', 'rock', 'soft rock']"
          ],
          [
           "['canadian indie', 'canadian pop', 'chamber pop', 'indie pop']"
          ],
          [
           "['dance pop', 'hip pop', 'pop', 'queens hip hop', 'rap']"
          ],
          [
           "['classic rock', 'glam rock', 'rock']"
          ],
          [
           "['pop']"
          ],
          [
           "['motown']"
          ],
          [
           "['classic rock', 'mellow gold', 'piano rock', 'rock', 'singer-songwriter', 'soft rock']"
          ],
          [
           "['east coast hip hop', 'golden age hip hop', 'hardcore hip hop', 'hip hop', 'old school hip hop', 'queens hip hop', 'rap']"
          ],
          [
           "['rock-and-roll', 'rockabilly', 'surf music']"
          ],
          [
           "['funk', 'p funk', 'soul']"
          ],
          [
           "['pop rock']"
          ],
          [
           "['atl hip hop', 'dance pop', 'dirty south rap', 'gangster rap', 'hip hop', 'pop rap', 'rap', 'southern hip hop', 'trap']"
          ],
          [
           "['alternative rock', 'dream pop', 'noise pop', 'rock', 'shoegaze']"
          ],
          [
           "['alternative rock', 'dream pop', 'noise pop', 'rock', 'shoegaze']"
          ],
          [
           "['new romantic', 'new wave', 'new wave pop', 'permanent wave', 'rock', 'sophisti-pop', 'synthpop']"
          ],
          [
           "['alternative rock', 'grunge', 'punk', 'rock']"
          ],
          [
           "['country', 'country rock', 'honky tonk']"
          ],
          [
           "['beatlesque', 'british invasion', 'classic rock', 'merseybeat', 'psychedelic rock', 'rock']"
          ],
          [
           "['british folk', 'classic uk pop', 'country rock', 'folk', 'folk rock', 'psychedelic rock', 'roots rock']"
          ],
          [
           "['harlem renaissance']"
          ],
          [
           "['classic girl group', 'disco', 'funk', 'motown', 'quiet storm', 'soul']"
          ],
          [
           "['adult standards', 'doo-wop', 'lounge', 'rock-and-roll', 'rockabilly']"
          ],
          [
           "['classic uk pop', 'merseybeat', 'rock-and-roll']"
          ],
          [
           "['classic soul', 'funk', 'indie r&b', 'motown', 'northern soul', 'quiet storm', 'soul']"
          ],
          [
           "['alternative rock', 'art rock', 'madchester', 'new wave', 'post-punk', 'rock', 'uk post-punk']"
          ],
          [
           "['classic rock', 'country rock', 'folk', 'folk rock', 'rock', 'roots rock', 'singer-songwriter']"
          ],
          [
           "['album rock', 'classic rock', 'hard rock', 'rock']"
          ],
          [
           "['classic rock', 'country rock', 'folk', 'folk rock', 'rock', 'roots rock', 'singer-songwriter']"
          ],
          [
           "['dub', 'reggae', 'roots reggae', 'ska']"
          ],
          [
           "['dark pop', 'electronica', 'laboratorio', 'trip hop']"
          ],
          [
           "['blues', 'blues rock', 'chicago blues', 'classic rock', 'electric blues', 'soul', 'traditional blues']"
          ],
          [
           "['dirty south rap', 'gangster rap', 'hip hop', 'houston rap', 'rap', 'southern hip hop', 'trap']"
          ],
          [
           "['electronica', 'future garage', 'new rave']"
          ],
          [
           "['disney', 'hollywood', 'movie tunes', 'singer-songwriter']"
          ],
          [
           "['acid rock', 'album rock', 'classic rock', 'psychedelic rock', 'rock']"
          ],
          [
           "['art rock', 'classic rock', 'glam rock', 'permanent wave', 'rock']"
          ],
          [
           "['indie rock', 'philly indie']"
          ],
          [
           "['adult standards', 'easy listening', 'lounge']"
          ],
          [
           "['alternative rock', 'blues rock', 'garage rock', 'modern blues rock', 'modern rock', 'punk blues', 'rock', 'roots rock']"
          ],
          [
           "['adult standards', 'dixieland', 'harlem renaissance', 'jazz', 'jazz piano', 'lounge', 'stride', 'swing', 'tin pan alley', 'vocal jazz']"
          ],
          [
           "['beatlesque', 'britpop', 'madchester', 'permanent wave', 'pop rock', 'rock']"
          ],
          [
           "['classic soul', 'motown', 'soul']"
          ],
          [
           "['alternative dance', 'art pop', 'dance rock', 'electronica', 'electropop', 'indie rock', 'indietronica', 'modern rock', 'neo-synthpop', 'new rave']"
          ],
          [
           "['album rock', 'beatlesque', 'classic rock', 'folk rock', 'mellow gold', 'rock', 'soft rock']"
          ],
          [
           "['permanent wave', 'pop']"
          ],
          [
           "['big beat']"
          ],
          [
           "['new wave pop', 'urban contemporary']"
          ],
          [
           "['country', 'country rock', 'nashville sound']"
          ],
          [
           "['classic soul', 'funk', 'indie r&b', 'motown', 'northern soul', 'quiet storm', 'soul']"
          ],
          [
           "['jazz blues', 'rhythm and blues', 'swing']"
          ],
          [
           "['alternative rock', 'art rock', 'classic rock', 'folk rock', 'melancholia', 'permanent wave', 'protopunk', 'psychedelic rock', 'rock']"
          ],
          [
           "['rock-and-roll', 'rockabilly', 'soul']"
          ],
          [
           "['adult standards', 'classic soul', 'jazz blues', 'piano blues', 'soul', 'soul blues', 'vocal jazz']"
          ],
          [
           "['canadian singer-songwriter', 'folk', 'folk rock', 'singer-songwriter']"
          ],
          [
           "['classic rock', 'heartland rock', 'mellow gold', 'permanent wave', 'rock', 'singer-songwriter']"
          ],
          [
           "['canadian singer-songwriter', 'folk', 'folk rock', 'melancholia', 'permanent wave', 'singer-songwriter']"
          ],
          [
           "['classic rock', 'cosmic american', 'country rock', 'double drumming', 'jam band', 'psychedelic rock', 'rock']"
          ],
          [
           "['classic rock', 'permanent wave', 'punk', 'rock']"
          ],
          [
           "['rap', 'slap house']"
          ],
          [
           "['art rock', 'new romantic', 'new wave', 'new wave pop', 'permanent wave', 'post-punk', 'synthpop']"
          ],
          [
           "['east coast hip hop', 'hip hop', 'rap']"
          ],
          [
           "['classic rock', 'glam rock', 'rock']"
          ],
          [
           "['classic soul', 'funk', 'memphis soul', 'soul', 'southern soul']"
          ],
          [
           "['g funk', 'gangster rap', 'hip hop', 'pop rap', 'rap', 'west coast rap']"
          ],
          [
           "['alternative rock', 'art punk', 'art rock', 'dance rock', 'new romantic', 'new wave', 'post-punk', 'punk', 'rock', 'synth punk', 'synthpop', 'zolo']"
          ],
          [
           "['acoustic blues', 'blues', 'delta blues', 'pre-war blues', 'traditional blues']"
          ],
          [
           "['glam metal', 'hard rock', 'rock']"
          ],
          [
           "['album rock', 'art rock', 'classic rock', 'progressive rock', 'psychedelic rock', 'rock', 'symphonic rock']"
          ],
          [
           "['british invasion', 'classic rock', 'rock']"
          ],
          [
           "['dance pop', 'pop', 'rap']"
          ],
          [
           "['alternative dance', 'alternative rock', 'art pop', 'chamber pop', 'chamber psych', 'chillwave', 'collage pop', 'dream pop', 'electronica', 'experimental pop', 'indie rock', 'neo-psychedelic', 'new rave', 'noise pop']"
          ],
          [
           "['bossa nova', 'brazilian classical', 'brazilian jazz', 'latin classical', 'mpb', 'violao']"
          ],
          [
           "['adult standards', 'big band', 'jazz', 'jazz clarinet', 'lounge', 'stride', 'swing', 'vintage jazz', 'vocal jazz']"
          ],
          [
           "['electronica', 'indie soul', 'uk alternative pop']"
          ],
          [
           "['acid house', 'detroit techno', 'techno']"
          ],
          [
           "['british invasion', 'classic rock', 'rock']"
          ],
          [
           "['alternative rock', 'britpop', 'madchester', 'modern rock', 'permanent wave', 'pop rock', 'rock']"
          ],
          [
           "['alternative rock', 'art pop', 'art rock', 'dream pop', 'indie rock', 'melancholia', 'permanent wave', 'piano rock', 'rock', 'singer-songwriter']"
          ],
          [
           "['britpop', 'pop rock', 'rock']"
          ],
          [
           "['disco', 'europop', 'mellow gold', 'new romantic', 'new wave', 'new wave pop', 'soft rock', 'synthpop']"
          ],
          [
           "['conscious hip hop', 'g funk', 'gangster rap', 'hip hop', 'rap', 'west coast rap']"
          ],
          [
           "['beatlesque', 'british invasion', 'classic rock', 'merseybeat', 'psychedelic rock', 'rock']"
          ],
          [
           "['album rock', 'art rock', 'blues rock', 'classic rock', 'flute rock', 'folk rock', 'hard rock', 'progressive rock', 'psychedelic rock', 'rock', 'symphonic rock']"
          ],
          [
           "['album rock', 'classic rock', 'hard rock', 'rock']"
          ],
          [
           "['atl hip hop', 'hip hop', 'rap']"
          ],
          [
           "['edm', 'house', 'pop', 'uk dance']"
          ],
          [
           "['big beat', 'britpop', 'dance rock', 'madchester', 'new wave']"
          ],
          [
           "['ambient pop', 'downtempo', 'electronica', 'trip hop']"
          ],
          [
           "['art rock', 'baroque pop', 'british invasion', 'bubblegum pop', 'classic rock', 'folk rock', 'psychedelic rock', 'rock']"
          ],
          [
           "['classic soul', 'disco', 'funk', 'philly soul', 'quiet storm', 'soul', 'southern soul']"
          ],
          [
           "['alternative metal', 'alternative rock', 'cyberpunk', 'electronic rock', 'industrial', 'industrial metal', 'industrial rock', 'nu metal', 'rock']"
          ],
          [
           "['']"
          ],
          [
           "['rock-and-roll', 'rockabilly']"
          ],
          [
           "['adult standards', 'brill building pop', 'doo-wop', 'rhythm and blues', 'rock-and-roll', 'rockabilly']"
          ],
          [
           "['adult standards', 'mellow gold', 'soft rock']"
          ],
          [
           "['alternative rock', 'indie rock', 'melancholia', 'pop rock', 'rock', 'singer-songwriter']"
          ],
          [
           "['blues', 'blues rock', 'chicago blues', 'classic rock', 'electric blues', 'soul', 'traditional blues']"
          ],
          [
           "['adult standards', 'classic soul', 'rock-and-roll', 'soul']"
          ],
          [
           "['east coast hip hop', 'gangster rap', 'hardcore hip hop', 'hip hop', 'rap']"
          ],
          [
           "['dance pop']"
          ],
          [
           "['classic rock', 'country rock', 'rock', 'southern rock', 'swamp rock']"
          ],
          [
           "['alternative rock', 'britpop', 'dance rock', 'madchester', 'modern rock', 'rock']"
          ],
          [
           "['anti-folk', 'folk', 'folk punk', 'folk rock', 'permanent wave', 'roots rock', 'singer-songwriter', 'uk americana']"
          ],
          [
           "['art rock', 'classic rock', 'glam rock', 'permanent wave', 'rock']"
          ],
          [
           "['adult standards', 'deep adult standards', 'easy listening', 'lounge', 'rock-and-roll', 'rockabilly', 'vocal jazz']"
          ],
          [
           "['mod revival', 'new wave', 'pub rock', 'punk', 'rock', 'ska']"
          ],
          [
           "['album rock', 'birmingham metal', 'classic rock', 'hard rock', 'metal', 'rock', 'stoner rock', 'uk doom metal']"
          ],
          [
           "['album rock', 'classic rock', 'hard rock', 'mellow gold', 'rock', 'soft rock']"
          ],
          [
           "['classic soul', 'jazz blues', 'memphis soul', 'soul', 'southern soul']"
          ],
          [
           "['adult standards', 'bebop', 'big band', 'jazz', 'lounge', 'stride', 'swing', 'vocal jazz']"
          ],
          [
           "['glam rock', 'mellow gold', 'piano rock']"
          ],
          [
           "['bronx hip hop', 'electro', 'old school hip hop']"
          ],
          [
           "['classic rock', 'heartland rock', 'mellow gold', 'permanent wave', 'rock', 'singer-songwriter']"
          ],
          [
           "['alternative dance', 'alternative rock', 'brooklyn indie', 'indie rock', 'indietronica', 'modern rock', 'new rave', 'rock']"
          ],
          [
           "['east coast hip hop', 'gangster rap', 'hardcore hip hop', 'hip hop', 'hip pop', 'new jersey rap', 'pop rap', 'rap']"
          ],
          [
           "['adult standards', 'rock-and-roll', 'rockabilly']"
          ],
          [
           "['alternative dance', 'alternative rock', 'dance-punk', 'garage rock', 'indie rock', 'modern rock', 'new rave', 'rock']"
          ],
          [
           "['classic soul', 'rhythm and blues', 'rock-and-roll', 'soul', 'southern soul']"
          ],
          [
           "['art rock', 'permanent wave']"
          ],
          [
           "['classic rock', 'country rock', 'folk', 'folk rock', 'rock', 'roots rock', 'singer-songwriter']"
          ],
          [
           "['alternative dance', 'dance-punk', 'indie rock', 'modern rock', 'new rave', 'rock']"
          ],
          [
           "['baroque pop', 'classic rock', 'psychedelic rock', 'rock', 'sunshine pop']"
          ],
          [
           "['motown', 'northern soul', 'soul']"
          ],
          [
           "['dance pop', 'disco', 'philly soul', 'post-disco', 'quiet storm', 'soul']"
          ],
          [
           "['dance pop', 'europop', 'girl group']"
          ],
          [
           "['adult standards', 'motown', 'soul']"
          ],
          [
           "['british invasion', 'classic rock', 'rock']"
          ],
          [
           "['candy pop', 'new wave', 'new wave pop', 'permanent wave', 'power pop', 'rock']"
          ],
          [
           "['east coast hip hop', 'electro', 'harlem hip hop', 'hip hop', 'hip house', 'old school hip hop', 'rap']"
          ],
          [
           "['baroque pop', 'indie rock', 'modern rock', 'rock']"
          ],
          [
           "['beatlesque', 'british invasion', 'classic rock', 'merseybeat', 'psychedelic rock', 'rock']"
          ],
          [
           "['disco', 'hi-nrg', 'post-disco']"
          ],
          [
           "['permanent wave', 'punk']"
          ],
          [
           "['lilith', 'new wave pop', 'permanent wave', 'pop rock', 'singer-songwriter']"
          ],
          [
           "['art rock', 'british folk', 'canterbury scene', 'experimental', 'experimental rock', 'psychedelic rock', 'zolo']"
          ],
          [
           "['bubblegum pop', 'classic girl group', 'rock-and-roll']"
          ],
          [
           "['canadian singer-songwriter', 'folk', 'folk rock', 'singer-songwriter']"
          ],
          [
           "['album rock', 'art rock', 'blues rock', 'classic rock', 'folk rock', 'hard rock', 'psychedelic rock', 'rock', 'roots rock', 'supergroup', 'symphonic rock']"
          ],
          [
           "['disco', 'new wave pop', 'soft rock']"
          ],
          [
           "['europop', 'swedish pop']"
          ],
          [
           "['classic girl group', 'disco', 'funk', 'motown', 'quiet storm', 'soul']"
          ],
          [
           "['album rock', 'art rock', 'blues rock', 'british blues', 'british invasion', 'classic rock', 'country rock', 'folk rock', 'freakbeat', 'hard rock', 'psychedelic rock', 'rock', 'roots rock', 'symphonic rock']"
          ],
          [
           "['album rock', 'art rock', 'blues rock', 'classic rock', 'country rock', 'folk rock', 'glam rock', 'hard rock', 'mellow gold', 'protopunk', 'psychedelic rock', 'rock', 'roots rock', 'soft rock']"
          ],
          [
           "['classic soul', 'funk', 'memphis soul', 'quiet storm', 'soul', 'soul blues', 'southern soul']"
          ],
          [
           "['beatlesque', 'british invasion', 'classic rock', 'merseybeat', 'psychedelic rock', 'rock']"
          ],
          [
           "['acoustic blues', 'blues', 'country blues', 'gospel blues', 'texas blues', 'traditional blues']"
          ],
          [
           "['album rock', 'classic rock', 'mellow gold', 'rock', 'soft rock', 'yacht rock']"
          ],
          [
           "['beatlesque', 'british invasion', 'classic rock', 'merseybeat', 'psychedelic rock', 'rock']"
          ],
          [
           "['adult standards', 'doo-wop', 'lounge', 'rock-and-roll', 'rockabilly']"
          ],
          [
           "['album rock', 'glam rock', 'hard rock', 'metal', 'rock']"
          ],
          [
           "['french jazz', 'gypsy jazz', 'jazz', 'jazz guitar', 'swing']"
          ],
          [
           "['contemporary post-bop', 'funk', 'instrumental funk', 'jazz', 'jazz funk', 'jazz fusion', 'jazz piano', 'uk contemporary jazz']"
          ],
          [
           "['alternative rock', 'indie pop', 'indie rock', 'rock']"
          ],
          [
           "['album rock', 'art rock', 'blues rock', 'british invasion', 'classic rock', 'hard rock', 'mellow gold', 'psychedelic rock', 'rock']"
          ],
          [
           "['adult standards', 'bubblegum pop', 'lounge', 'rock-and-roll', 'rockabilly', 'soul']"
          ],
          [
           "['art punk', 'art rock', 'dance rock', 'funk rock', 'new wave', 'permanent wave', 'post-punk', 'rock', 'zolo']"
          ],
          [
           "['bubblegum pop', 'classic rock', 'country rock', 'folk rock', 'mellow gold', 'merseybeat', 'psychedelic rock']"
          ],
          [
           "['funk', 'soul']"
          ],
          [
           "['adult standards', 'motown', 'soul']"
          ],
          [
           "['alternative rock', 'art rock', 'dream pop', 'gothic rock', 'new romantic', 'new wave', 'new wave pop', 'post-punk', 'uk post-punk']"
          ],
          [
           "['album rock', 'art rock', 'blues rock', 'classic rock', 'folk rock', 'glam rock', 'protopunk', 'psychedelic rock', 'rock']"
          ],
          [
           "['dance pop', 'girl group', 'hip pop', 'pop', 'r&b', 'urban contemporary']"
          ],
          [
           "['alternative rock', 'art rock', 'melancholia', 'oxford indie', 'permanent wave', 'rock']"
          ],
          [
           "['acoustic blues', 'appalachian folk', 'blues', 'country blues', 'delta blues', 'folk', 'texas blues', 'traditional blues', 'traditional folk']"
          ],
          [
           "['atmospheric dnb', 'big beat', 'drum and bass', 'drumfunk', 'hardcore techno', 'jungle']"
          ],
          [
           "['canadian singer-songwriter', 'classic canadian rock', 'classic rock', 'mellow gold', 'permanent wave', 'rock', 'roots rock', 'singer-songwriter']"
          ],
          [
           "['east coast hip hop', 'gangster rap', 'hip hop', 'new jersey rap']"
          ],
          [
           "['album rock', 'blues rock', 'classic rock', 'country rock', 'double drumming', 'folk rock', 'hard rock', 'jam band', 'mellow gold', 'rock', 'roots rock', 'soft rock', 'southern rock']"
          ],
          [
           "['adult standards', 'doo-wop', 'louisiana blues', 'memphis blues', 'new orleans blues', 'rhythm and blues', 'rock-and-roll', 'rockabilly', 'soul']"
          ],
          [
           "['adult standards', 'chicago soul', 'classic soul', 'funk', 'quiet storm', 'rhythm and blues', 'rock-and-roll', 'rockabilly', 'soul']"
          ],
          [
           "['disco', 'funk', 'popping', 'post-disco', 'quiet storm', 'soul', 'urban contemporary']"
          ],
          [
           "['alternative rock', 'boston rock', 'modern rock', 'permanent wave', 'rock']"
          ],
          [
           "['gangster rap', 'hardcore hip hop', 'hip hop', 'rap', 'rap rock', 'west coast rap']"
          ],
          [
           "['adult standards', 'bubblegum pop', 'lounge', 'rock-and-roll', 'rockabilly', 'soul']"
          ],
          [
           "['']"
          ],
          [
           "['alternative rock', 'art rock', 'dance rock', 'madchester', 'new romantic', 'new wave', 'new wave pop', 'permanent wave', 'pop rock', 'post-punk', 'rock', 'synthpop', 'uk post-punk']"
          ],
          [
           "['art pop', 'dance pop', 'electropop', 'europop', 'pop', 'scandipop', 'swedish electropop', 'swedish pop']"
          ],
          [
           "['']"
          ],
          [
           "['album rock', 'art rock', 'beatlesque', 'classic rock', 'folk rock', 'mellow gold', 'rock', 'soft rock']"
          ],
          [
           "['adult standards', 'classic soul', 'jazz blues', 'piano blues', 'soul', 'soul blues', 'vocal jazz']"
          ],
          [
           "['classic rock', 'country rock', 'folk', 'folk rock', 'rock', 'roots rock', 'singer-songwriter']"
          ],
          [
           "['dance pop']"
          ],
          [
           "['bubblegum pop', 'classic rock', 'folk rock', 'psychedelic rock']"
          ],
          [
           "['art pop', 'dance pop', 'electropop', 'europop', 'pop', 'scandipop', 'swedish electropop', 'swedish pop']"
          ],
          [
           "['rock-and-roll', 'rockabilly']"
          ],
          [
           "['dance pop', 'pop']"
          ],
          [
           "['adult standards', 'doo-wop', 'rhythm and blues', 'rock-and-roll', 'rockabilly']"
          ],
          [
           "['honky tonk', 'traditional country', 'yodeling']"
          ],
          [
           "['chicago rap', 'rap']"
          ],
          [
           "['adult standards', 'classic soul', 'rock-and-roll', 'soul']"
          ],
          [
           "['dance pop', 'disco', 'funk', 'neo soul', 'post-disco', 'quiet storm', 'soul', 'urban contemporary']"
          ],
          [
           "['album rock', 'blues rock', 'classic rock', 'country rock', 'double drumming', 'folk rock', 'hard rock', 'jam band', 'mellow gold', 'rock', 'roots rock', 'soft rock', 'southern rock']"
          ],
          [
           "['album rock', 'art rock', 'classic rock', 'hard rock', 'mellow gold', 'new romantic', 'new wave', 'new wave pop', 'permanent wave', 'pop rock', 'power pop', 'rock', 'soft rock']"
          ],
          [
           "['british invasion', 'classic rock', 'rock']"
          ],
          [
           "['alternative hip hop', 'conscious hip hop', 'east coast hip hop', 'gangster rap', 'golden age hip hop', 'hardcore hip hop', 'hip hop', 'jazz rap', 'queens hip hop', 'rap']"
          ],
          [
           "['afrofuturism', 'funk', 'funk rock', 'p funk', 'soul']"
          ],
          [
           "['conscious hip hop', 'hip hop', 'rap', 'underground hip hop']"
          ],
          [
           "['classic rock', 'glam rock', 'rock']"
          ],
          [
           "['alternative rock', 'art rock', 'madchester', 'new wave', 'post-punk', 'rock', 'uk post-punk']"
          ],
          [
           "['album rock', 'art rock', 'classic rock', 'country rock', 'folk rock', 'mellow gold', 'psychedelic rock', 'rock', 'soft rock', 'yacht rock']"
          ],
          [
           "['chamber pop', 'folk', 'indie folk', 'indie pop', 'indie rock', 'seattle indie', 'stomp and holler']"
          ],
          [
           "['alternative rock', 'anti-folk', 'indie rock', 'modern rock', 'permanent wave', 'rock']"
          ],
          [
           "['blues rock', 'classic rock', 'mexican classic rock']"
          ],
          [
           "['britpop', 'scottish new wave', 'solo wave']"
          ],
          [
           "['chicago soul', 'classic soul', 'funk', 'soul']"
          ],
          [
           "['classic rock', 'rock', 'rock-and-roll', 'rockabilly']"
          ],
          [
           "['mellow gold']"
          ],
          [
           "['punk', 'ska', 'ska revival']"
          ],
          [
           "['birmingham hip hop', 'uk garage']"
          ],
          [
           "['alternative dance', 'indietronica', 'modern rock', 'rock']"
          ],
          [
           "['album rock', 'classic rock', 'hard rock', 'metal', 'rock']"
          ],
          [
           "['dance pop']"
          ],
          [
           "['alternative hip hop', 'gangster rap', 'hardcore hip hop', 'hip hop', 'rap', 'southern hip hop', 'trap', 'virginia hip hop']"
          ],
          [
           "['alternative rock', 'art rock', 'classic rock', 'folk rock', 'melancholia', 'permanent wave', 'protopunk', 'psychedelic rock', 'rock']"
          ],
          [
           "['alternative pop', 'alternative rock', 'anti-folk', 'indie rock', 'new wave', 'permanent wave', 'pop rock', 'post-punk', 'power pop', 'punk', 'roots rock']"
          ],
          [
           "['big band', 'tin pan alley']"
          ],
          [
           "['art rock', 'dance rock', 'mellow gold', 'new romantic', 'new wave', 'new wave pop', 'rock', 'scottish new wave', 'soft rock', 'synthpop']"
          ],
          [
           "['beatlesque', 'british invasion', 'classic rock', 'merseybeat', 'psychedelic rock', 'rock']"
          ],
          [
           "['classic country pop', 'nashville sound', 'traditional country']"
          ],
          [
           "['bassline', 'grime', 'house', 'instrumental grime', 'pop rap']"
          ],
          [
           "['afrobeat', 'afropop', 'makossa', 'world']"
          ],
          [
           "['alternative rock', 'art rock', 'dance rock', 'madchester', 'new romantic', 'new wave', 'new wave pop', 'permanent wave', 'pop rock', 'post-punk', 'rock', 'synthpop', 'uk post-punk']"
          ],
          [
           "['african-american classical', 'big band', 'harlem renaissance', 'jazz', 'jazz piano', 'swing']"
          ],
          [
           "['appalachian folk', 'bluegrass', 'country gospel', 'folk', 'old-time', 'traditional country', 'traditional folk', 'vocal harmony group']"
          ],
          [
           "['ambient house', 'electronica', 'intelligent dance music', 'trip hop']"
          ],
          [
           "['rhythm and blues', 'rock-and-roll']"
          ],
          [
           "['chicago rap', 'rap']"
          ],
          [
           "['album rock', 'art rock', 'british invasion', 'classic rock', 'folk rock', 'glam rock', 'mellow gold', 'protopunk', 'psychedelic rock', 'rock']"
          ],
          [
           "['acid rock', 'album rock', 'blues rock', 'classic rock', 'hard rock', 'proto-metal', 'psychedelic rock', 'rock']"
          ],
          [
           "['acoustic blues', 'appalachian folk', 'blues', 'country blues', 'delta blues', 'pre-war blues', 'traditional blues', 'traditional folk']"
          ],
          [
           "['art pop', 'dance rock', 'europop', 'new romantic', 'new wave', 'new wave pop', 'permanent wave', 'synthpop']"
          ],
          [
           "['adult standards', 'easy listening', 'lounge']"
          ],
          [
           "['dark pop', 'electronica', 'laboratorio', 'trip hop']"
          ],
          [
           "['hip hop', 'melodic rap', 'mississippi hip hop', 'pop rap', 'rap', 'southern hip hop', 'trap']"
          ],
          [
           "['bebop', 'big band', 'jazz', 'jazz trumpet', 'swing']"
          ],
          [
           "['chicago soul', 'classic soul', 'motown', 'northern soul', 'rhythm and blues', 'soul', 'southern soul']"
          ],
          [
           "['adult standards', 'classic soul', 'disco', 'funk', 'mellow gold', 'motown', 'quiet storm', 'soul']"
          ],
          [
           "['baroque pop', 'classic rock', 'psychedelic rock', 'rock', 'sunshine pop']"
          ],
          [
           "['indie punk', 'olympia wa indie', 'riot grrrl']"
          ],
          [
           "['bakersfield sound', 'country rock']"
          ],
          [
           "['art pop', 'baltimore indie', 'bubblegrunge', 'indie pop', 'indie rock']"
          ],
          [
           "['classic soul', 'funk', 'memphis soul', 'motown', 'soul']"
          ],
          [
           "['']"
          ],
          [
           "['bluegrass gospel', 'country boogie', 'country gospel', 'yodeling']"
          ],
          [
           "['adult standards', 'bubblegum pop', 'lounge', 'rock-and-roll', 'rockabilly', 'soul']"
          ],
          [
           "['surf music']"
          ],
          [
           "['alternative pop', 'alternative rock', 'britpop', 'candy pop']"
          ],
          [
           "['disco', 'philly soul', 'post-disco', 'quiet storm']"
          ],
          [
           "['harlem renaissance', 'traditional blues']"
          ],
          [
           "['atl hip hop']"
          ],
          [
           "['alternative dance', 'big beat', 'breakbeat', 'electronica', 'new rave', 'rave']"
          ],
          [
           "['album rock', 'classic rock', 'hard rock', 'mellow gold', 'rock', 'soft rock']"
          ],
          [
           "['classic rock', 'country rock', 'folk', 'folk rock', 'rock', 'roots rock', 'singer-songwriter']"
          ],
          [
           "['baroque pop', 'canadian indie', 'indie rock', 'modern rock', 'permanent wave', 'quebec indie', 'rock']"
          ],
          [
           "['uk alternative pop']"
          ],
          [
           "['hot jazz']"
          ],
          [
           "['ska', 'ska revival']"
          ]
         ],
         "hovertemplate": "x=%{x}<br>y=%{y}<br>genres=%{customdata[0]}<br>cluster=%{marker.color}<extra></extra>",
         "legendgroup": "",
         "marker": {
          "color": [
           5,
           4,
           0,
           0,
           3,
           2,
           6,
           4,
           1,
           7,
           2,
           3,
           4,
           4,
           6,
           5,
           5,
           7,
           0,
           4,
           7,
           3,
           0,
           3,
           8,
           2,
           3,
           5,
           8,
           0,
           2,
           7,
           4,
           1,
           8,
           3,
           2,
           1,
           7,
           6,
           0,
           7,
           6,
           2,
           7,
           2,
           5,
           4,
           1,
           4,
           2,
           3,
           6,
           7,
           6,
           1,
           5,
           5,
           4,
           7,
           4,
           0,
           4,
           7,
           1,
           2,
           0,
           6,
           2,
           6,
           8,
           1,
           4,
           0,
           2,
           1,
           4,
           2,
           5,
           2,
           4,
           3,
           1,
           3,
           6,
           0,
           6,
           4,
           2,
           1,
           0,
           7,
           5,
           2,
           1,
           1,
           2,
           3,
           7,
           4,
           0,
           3,
           3,
           1,
           7,
           3,
           8,
           4,
           7,
           2,
           3,
           2,
           0,
           3,
           4,
           5,
           4,
           2,
           6,
           7,
           3,
           8,
           1,
           7,
           3,
           3,
           8,
           0,
           2,
           3,
           0,
           0,
           3,
           3,
           0,
           4,
           4,
           7,
           6,
           1,
           3,
           4,
           0,
           3,
           0,
           2,
           1,
           2,
           5,
           6,
           7,
           0,
           6,
           5,
           7,
           8,
           0,
           8,
           3,
           3,
           4,
           4,
           2,
           2,
           6,
           5,
           2,
           0,
           5,
           4,
           6,
           7,
           3,
           5,
           2,
           4,
           2,
           5,
           2,
           3,
           2,
           3,
           0,
           0,
           4,
           3,
           7,
           2,
           4,
           7,
           2,
           7,
           0,
           1,
           8,
           2,
           3,
           3,
           1,
           5,
           4,
           2,
           5,
           3,
           4,
           3,
           7,
           8,
           7,
           3,
           0,
           8,
           6,
           3,
           0,
           7,
           0,
           7,
           4,
           1,
           7,
           7,
           4,
           2,
           0,
           1,
           2,
           8,
           3,
           3,
           7,
           1,
           6,
           5,
           6,
           7,
           8,
           8,
           3,
           1,
           2,
           5,
           1,
           4,
           3,
           6,
           4,
           4,
           5,
           0,
           1,
           8,
           1,
           3,
           2,
           7,
           2,
           4,
           1,
           4,
           7,
           3,
           5,
           2,
           8,
           4,
           8,
           6,
           0,
           7,
           6,
           4,
           0,
           7,
           0,
           6,
           0,
           6,
           2,
           1,
           4,
           2,
           5,
           8,
           7,
           7,
           1,
           1,
           2,
           3,
           4,
           6,
           2,
           1,
           3,
           3,
           3,
           3,
           8,
           3,
           6,
           1,
           6,
           3,
           5,
           0,
           4,
           1,
           1,
           7,
           7,
           4,
           7,
           0,
           3,
           4,
           7,
           0,
           4,
           4,
           6,
           4,
           3,
           6,
           2,
           4,
           3,
           4,
           2,
           2,
           0,
           7,
           1,
           2,
           6,
           8,
           8,
           2,
           8,
           7,
           4,
           2,
           4,
           1,
           2,
           7,
           2,
           5,
           8,
           0,
           6,
           0,
           4,
           1,
           2,
           3,
           8,
           6,
           6,
           6,
           3,
           6,
           4,
           7,
           4,
           4,
           7,
           6,
           8,
           4,
           3,
           1,
           8,
           3,
           0,
           3,
           1,
           6,
           8,
           5,
           8,
           5,
           6,
           1,
           1,
           0,
           7,
           4,
           8,
           3,
           3,
           8,
           1,
           1,
           1,
           2,
           1,
           3,
           7,
           1,
           2,
           1,
           1,
           4,
           4,
           5,
           1,
           7,
           3,
           2,
           1,
           7,
           1,
           6,
           1,
           8,
           6,
           6,
           7,
           6,
           0,
           0,
           2,
           7,
           3,
           4,
           2,
           2,
           5,
           8,
           3,
           8,
           2,
           0,
           5,
           8,
           6,
           4,
           6,
           6,
           1,
           6,
           2,
           6,
           5,
           3,
           4,
           7,
           7,
           4,
           1,
           3,
           5,
           8,
           0,
           2,
           6,
           4,
           8,
           6,
           6,
           0,
           7,
           8,
           5,
           6,
           0,
           0,
           8,
           1,
           2,
           3,
           2,
           2,
           7,
           1,
           4,
           8,
           6,
           6,
           1,
           3,
           7,
           4,
           7,
           4,
           3,
           6,
           3,
           5,
           7,
           2,
           1,
           8,
           5,
           4,
           1,
           5,
           2,
           0,
           7,
           1,
           5,
           4,
           6,
           2,
           7,
           3,
           6,
           4,
           5,
           2,
           6,
           5,
           4,
           1,
           7,
           6,
           4,
           5,
           0,
           6,
           2,
           1,
           4,
           4,
           2,
           3,
           3,
           7,
           4,
           0,
           8,
           1,
           6,
           0,
           1,
           8,
           3,
           4,
           2,
           7,
           8,
           3,
           0,
           5,
           4,
           8,
           0,
           0,
           5,
           4,
           8,
           8,
           7,
           5,
           0,
           6,
           6,
           3,
           1,
           5,
           2,
           1,
           8,
           4,
           8,
           2,
           0,
           6,
           4,
           7,
           2,
           7,
           4,
           3,
           2,
           4,
           2,
           1,
           3,
           2,
           2,
           2,
           1,
           2,
           2,
           1,
           4,
           7,
           2,
           2,
           5,
           6,
           8,
           8,
           5,
           0,
           0,
           8,
           8,
           4,
           8,
           6,
           3,
           5,
           5,
           1,
           8,
           0,
           7,
           1,
           3,
           2,
           2,
           2,
           2,
           8,
           0,
           8,
           5,
           8,
           7,
           2,
           6,
           8,
           6,
           5,
           4,
           7,
           4,
           7,
           0,
           4,
           1,
           1,
           4,
           8,
           6,
           7,
           5,
           8,
           2,
           6,
           7,
           8,
           3,
           8,
           4,
           7,
           1,
           1,
           2,
           4,
           7,
           4,
           1,
           6,
           6,
           1,
           5,
           4,
           2,
           3,
           1,
           4,
           2,
           7,
           7,
           6,
           6,
           3,
           1,
           3,
           7,
           6,
           5,
           3,
           4,
           8,
           4,
           4,
           7,
           4,
           0,
           0,
           6,
           6,
           4,
           4,
           3,
           3,
           4,
           5,
           7,
           4,
           7,
           1,
           3,
           2,
           7,
           6,
           7,
           4,
           2,
           1,
           4,
           2,
           2,
           4,
           6,
           0,
           7,
           7,
           7,
           2,
           4,
           2,
           5,
           4,
           0,
           3,
           2,
           3,
           4,
           8,
           7,
           7,
           4,
           2,
           5,
           0,
           1,
           7,
           5,
           8,
           8,
           6,
           7,
           4,
           3,
           1,
           6,
           4,
           6,
           8,
           8,
           5,
           4,
           2,
           2,
           3,
           8,
           8,
           2,
           3,
           2,
           8,
           1,
           2,
           8,
           7,
           2,
           4,
           1,
           1,
           3,
           6,
           5,
           8,
           1,
           0,
           8,
           7,
           4,
           5,
           2,
           1,
           2,
           2,
           5,
           7,
           7,
           4,
           3,
           4,
           0,
           1,
           4,
           2,
           7,
           2,
           8,
           5,
           8,
           7,
           2,
           4,
           2,
           6,
           1,
           5,
           7,
           7,
           7,
           4,
           0,
           8,
           1,
           1,
           7,
           4,
           7,
           6,
           6,
           3,
           5,
           1,
           0,
           6,
           8,
           5,
           6,
           2,
           2,
           4,
           0,
           5,
           8,
           4,
           6,
           7,
           6,
           1,
           3,
           8,
           6,
           7,
           1,
           2,
           4,
           6,
           1,
           1,
           7,
           3,
           7,
           7,
           5,
           2,
           4,
           2,
           7,
           0,
           0,
           0,
           4,
           4,
           8,
           4,
           8,
           8,
           1,
           8,
           3,
           1,
           5,
           5,
           4,
           5,
           7,
           0,
           3,
           2,
           0,
           8,
           4,
           1,
           4,
           8,
           6,
           8,
           4,
           3,
           4,
           4,
           5,
           4,
           2,
           5,
           7,
           3,
           1,
           7,
           3,
           3,
           5,
           5,
           8,
           4,
           2,
           0,
           7,
           5,
           2,
           0,
           2,
           8,
           4,
           0,
           3,
           2,
           4,
           8,
           5,
           8,
           7,
           7,
           6,
           1,
           0,
           5,
           2,
           1,
           6,
           4,
           1,
           4,
           4,
           6,
           4,
           8,
           8,
           8,
           8,
           5,
           8,
           1,
           8,
           3,
           2,
           6,
           7,
           6,
           3,
           1,
           8,
           4,
           4,
           6,
           5,
           3,
           1,
           7,
           4,
           0,
           7,
           7,
           0,
           3,
           8,
           8,
           4,
           3,
           3,
           2,
           2,
           7,
           7,
           2,
           2,
           6,
           8,
           7,
           5,
           7,
           8,
           5,
           1,
           1,
           7,
           4,
           3,
           4,
           4,
           7,
           1,
           8,
           5,
           4,
           3,
           7,
           8,
           7,
           1,
           0,
           3,
           2,
           6,
           7,
           7,
           7,
           4,
           6,
           0,
           3,
           0,
           4,
           6,
           4,
           3,
           3,
           7,
           4,
           7,
           3,
           3,
           7,
           0,
           3,
           0,
           8,
           5,
           2,
           5,
           0,
           3,
           2,
           3,
           8,
           6,
           3,
           2,
           3,
           2,
           7,
           2,
           7,
           5,
           6,
           2,
           4,
           0,
           2,
           5,
           4,
           2,
           3,
           5,
           7,
           5,
           2,
           4,
           2,
           6,
           4,
           6,
           8,
           7,
           8,
           3,
           7,
           7,
           6,
           8,
           3,
           7,
           3,
           4,
           1,
           6,
           8,
           0,
           8,
           5,
           2,
           3,
           3,
           7,
           1,
           6,
           5,
           0,
           3,
           8,
           8,
           7,
           6,
           2,
           2,
           8,
           2,
           6,
           5,
           6,
           1,
           7,
           8,
           7
          ],
          "coloraxis": "coloraxis",
          "symbol": "circle"
         },
         "mode": "markers",
         "name": "",
         "showlegend": false,
         "type": "scattergl",
         "x": [
          8.678243637084961,
          8.7106351852417,
          -20.570486068725586,
          -19.99500846862793,
          -39.78510284423828,
          44.962432861328125,
          9.601024627685547,
          13.293169021606445,
          -6.715877532958984,
          13.30449104309082,
          42.49110794067383,
          -41.7530403137207,
          16.071802139282227,
          13.917451858520508,
          9.819928169250488,
          4.055587291717529,
          5.828949451446533,
          15.088894844055176,
          -23.30162239074707,
          9.424185752868652,
          8.71216106414795,
          -36.913753509521484,
          -20.303361892700195,
          -40.85819625854492,
          -26.47068977355957,
          40.437896728515625,
          -38.397789001464844,
          1.8770389556884766,
          -23.804414749145508,
          -24.813154220581055,
          47.488346099853516,
          10.136955261230469,
          15.858885765075684,
          -8.785812377929688,
          -29.636722564697266,
          -41.07943344116211,
          41.40562438964844,
          -2.435044765472412,
          11.628500938415527,
          5.14717960357666,
          -20.9659366607666,
          13.494579315185547,
          12.499358177185059,
          49.74666976928711,
          7.524648666381836,
          39.0841178894043,
          0.32198747992515564,
          0.37474524974823,
          -0.5152878761291504,
          17.565793991088867,
          36.5903434753418,
          -42.728370666503906,
          5.613993167877197,
          10.939362525939941,
          9.848448753356934,
          -6.355964660644531,
          7.277951240539551,
          6.197493076324463,
          14.141961097717285,
          17.00244140625,
          3.3837268352508545,
          -21.153627395629883,
          7.435454845428467,
          9.646909713745117,
          34.90841293334961,
          47.556983947753906,
          -21.661380767822266,
          4.659393787384033,
          38.43867874145508,
          1.7764933109283447,
          -35.673458099365234,
          -2.9128689765930176,
          10.117472648620605,
          -28.77241325378418,
          42.29934310913086,
          -6.3683061599731445,
          7.601120471954346,
          45.011409759521484,
          9.148842811584473,
          49.76292419433594,
          6.291993618011475,
          -38.16996765136719,
          -4.299674034118652,
          -39.643856048583984,
          6.901261806488037,
          -23.36409568786621,
          8.708120346069336,
          11.515931129455566,
          46.089962005615234,
          -5.500813007354736,
          -21.154644012451172,
          10.77506160736084,
          15.174235343933105,
          48.50463104248047,
          -4.504748344421387,
          -11.597555160522461,
          44.3103141784668,
          -39.291648864746094,
          16.609617233276367,
          13.380574226379395,
          -19.862096786499023,
          -33.99514389038086,
          -34.358177185058594,
          -8.095297813415527,
          10.594029426574707,
          -38.617366790771484,
          -29.39009666442871,
          3.809591293334961,
          17.0196533203125,
          45.87757873535156,
          -40.59585189819336,
          44.220481872558594,
          -22.375526428222656,
          -36.97397994995117,
          8.269389152526855,
          -0.6648207306861877,
          11.869903564453125,
          37.442596435546875,
          5.042205810546875,
          7.48150634765625,
          -44.99164962768555,
          -28.943588256835938,
          -4.408757209777832,
          5.880204677581787,
          -45.537635803222656,
          -44.41928482055664,
          -24.716567993164062,
          -25.561368942260742,
          46.51251220703125,
          -41.36370849609375,
          -21.749208450317383,
          -27.739595413208008,
          -40.71322250366211,
          -38.10594940185547,
          -28.12975311279297,
          7.079934120178223,
          10.808648109436035,
          13.326020240783691,
          6.4459614753723145,
          -9.176852226257324,
          -38.80590057373047,
          3.3922033309936523,
          -22.509479522705078,
          -36.33896255493164,
          -23.196889877319336,
          41.85203170776367,
          -10.267148971557617,
          46.18385696411133,
          12.337735176086426,
          10.577662467956543,
          2.1367380619049072,
          -20.498804092407227,
          5.324158191680908,
          -2.5592312812805176,
          13.569903373718262,
          -30.16249656677246,
          -23.079328536987305,
          -38.01863479614258,
          -36.6298942565918,
          -42.86069107055664,
          8.166071891784668,
          7.923068046569824,
          45.91952133178711,
          46.4167594909668,
          13.259425163269043,
          12.095693588256836,
          49.07929229736328,
          -21.47701072692871,
          4.675386905670166,
          13.812434196472168,
          2.574632167816162,
          3.756852865219116,
          -38.62675476074219,
          3.2758290767669678,
          42.03031539916992,
          3.7996091842651367,
          45.2902717590332,
          5.723480701446533,
          37.23401641845703,
          -39.1362190246582,
          44.53449630737305,
          -40.52965545654297,
          -21.14006996154785,
          -19.036008834838867,
          8.073394775390625,
          -41.9318733215332,
          15.06733226776123,
          49.7109375,
          3.949321985244751,
          11.176438331604004,
          46.19205093383789,
          13.634771347045898,
          -29.50334930419922,
          -11.049263954162598,
          -30.28127670288086,
          38.71086883544922,
          -38.93682861328125,
          -37.998497009277344,
          39.49726486206055,
          9.647701263427734,
          11.340235710144043,
          40.84489059448242,
          -0.09001296758651733,
          -45.69053649902344,
          -0.4773813486099243,
          -38.627967834472656,
          2.0592076778411865,
          -36.8698616027832,
          3.3907737731933594,
          -37.671329498291016,
          -23.306493759155273,
          -27.765512466430664,
          9.969217300415039,
          -38.18580627441406,
          -24.76578712463379,
          10.811355590820312,
          -24.610397338867188,
          9.006762504577637,
          15.034893989562988,
          -5.438094139099121,
          8.869828224182129,
          13.22311782836914,
          8.428163528442383,
          47.65361785888672,
          -28.1595516204834,
          -12.241958618164062,
          48.67716979980469,
          -27.468589782714844,
          -43.4115104675293,
          -44.485748291015625,
          4.990360736846924,
          -3.935866117477417,
          13.228604316711426,
          -2.794969081878662,
          2.2713334560394287,
          13.789729118347168,
          -40.93579864501953,
          -38.055686950683594,
          -36.08155059814453,
          -3.3586196899414062,
          44.43901443481445,
          0.1391531229019165,
          -7.260829448699951,
          7.567558765411377,
          -44.5953483581543,
          2.9115912914276123,
          1.684099793434143,
          15.514683723449707,
          4.7963409423828125,
          -22.86715316772461,
          -7.0711565017700195,
          -24.97081756591797,
          -2.6988072395324707,
          -40.93363571166992,
          42.889835357666016,
          8.752030372619629,
          36.764808654785156,
          13.030559539794922,
          -3.9957568645477295,
          10.104413986206055,
          10.34606647491455,
          -38.5515251159668,
          2.862872362136841,
          48.602638244628906,
          -29.241966247558594,
          16.118436813354492,
          -26.24945640563965,
          14.621919631958008,
          -27.001754760742188,
          5.404231071472168,
          4.867850303649902,
          13.732138633728027,
          -28.31571388244629,
          3.2388916015625,
          -26.81774139404297,
          7.227294445037842,
          -23.829116821289062,
          9.079742431640625,
          46.84299850463867,
          -3.9515318870544434,
          5.78858757019043,
          39.2807731628418,
          15.192638397216797,
          -26.918498992919922,
          7.110256195068359,
          2.2286157608032227,
          -7.747686862945557,
          -6.488574028015137,
          42.81217575073242,
          -39.89748764038086,
          8.789811134338379,
          5.88041877746582,
          45.43562698364258,
          -4.4896697998046875,
          -39.15007781982422,
          -37.26590347290039,
          -42.69879913330078,
          -42.654815673828125,
          -35.27264404296875,
          -36.7830810546875,
          14.619297981262207,
          -0.20372316241264343,
          3.241119861602783,
          -36.21742248535156,
          0.07198889553546906,
          -18.217668533325195,
          6.89362096786499,
          -3.859938859939575,
          -8.028604507446289,
          10.14977741241455,
          4.386520862579346,
          7.2679314613342285,
          11.592735290527344,
          -22.926513671875,
          -41.34821319580078,
          16.531618118286133,
          13.204240798950195,
          -20.74967384338379,
          3.734907627105713,
          3.0675714015960693,
          4.732631683349609,
          10.609124183654785,
          -42.08672332763672,
          6.6848883628845215,
          38.91773223876953,
          10.210563659667969,
          -41.00701904296875,
          12.27656364440918,
          48.014774322509766,
          40.28440856933594,
          -26.36622428894043,
          9.233633995056152,
          -1.3633025884628296,
          47.84275436401367,
          13.671103477478027,
          -29.578092575073242,
          -33.31203079223633,
          47.5225944519043,
          -31.802034378051758,
          2.834446668624878,
          17.254966735839844,
          37.23099899291992,
          16.608861923217773,
          -2.3296995162963867,
          36.73091125488281,
          12.221373558044434,
          37.26402282714844,
          5.726663589477539,
          -38.89076614379883,
          -22.60388946533203,
          5.942673206329346,
          -22.367218017578125,
          0.2837987542152405,
          -7.814718246459961,
          42.07365036010742,
          -40.11043167114258,
          -34.19577407836914,
          6.707686424255371,
          5.803478717803955,
          9.037623405456543,
          -40.03313064575195,
          1.7351891994476318,
          6.823957920074463,
          6.291090965270996,
          6.570605754852295,
          7.543837070465088,
          13.620360374450684,
          17.017305374145508,
          -27.473709106445312,
          7.032990455627441,
          -36.52256774902344,
          -11.415486335754395,
          -38.334346771240234,
          -44.06276321411133,
          -28.9206485748291,
          -42.03402328491211,
          -4.317001819610596,
          14.94538402557373,
          -37.93795394897461,
          6.462299823760986,
          -27.514339447021484,
          1.0880478620529175,
          8.609440803527832,
          -5.460876941680908,
          0.09954388439655304,
          -25.63688087463379,
          10.848374366760254,
          10.182670593261719,
          -31.796541213989258,
          -38.09991455078125,
          -37.34511947631836,
          -37.20124816894531,
          -8.394829750061035,
          -3.398714303970337,
          -2.661720037460327,
          38.71909713745117,
          -8.569840431213379,
          -36.4030647277832,
          4.076685905456543,
          -0.5455304384231567,
          46.16854476928711,
          -7.704197883605957,
          -8.029109001159668,
          6.595158576965332,
          11.380664825439453,
          0.5521698594093323,
          -4.678378105163574,
          8.891992568969727,
          -38.488433837890625,
          38.51612091064453,
          -6.153624534606934,
          7.7725934982299805,
          -11.549467086791992,
          10.052696228027344,
          -8.55998706817627,
          -30.917678833007812,
          8.77639389038086,
          9.55260944366455,
          2.7191693782806396,
          8.01034164428711,
          -22.40236473083496,
          -20.141263961791992,
          47.96586608886719,
          12.196236610412598,
          -38.35799026489258,
          10.759539604187012,
          37.02320098876953,
          42.651023864746094,
          -1.864575982093811,
          -36.23555374145508,
          -41.85358428955078,
          -27.022764205932617,
          35.531829833984375,
          -28.386640548706055,
          8.964756965637207,
          -41.48110580444336,
          4.221573829650879,
          8.833915710449219,
          1.50764799118042,
          4.4067792892456055,
          -3.687505006790161,
          5.967268943786621,
          39.28408432006836,
          7.763707160949707,
          5.8668212890625,
          -39.20985412597656,
          8.145899772644043,
          10.394063949584961,
          6.127556800842285,
          5.2429046630859375,
          -10.090563774108887,
          -40.16432571411133,
          4.188616752624512,
          -29.064966201782227,
          -20.16946029663086,
          43.792152404785156,
          8.31611156463623,
          4.7645344734191895,
          -28.071720123291016,
          16.073030471801758,
          5.566842079162598,
          -23.676172256469727,
          9.940164566040039,
          -32.23129653930664,
          5.384394645690918,
          16.215829849243164,
          -21.670536041259766,
          -21.37192726135254,
          -35.68260955810547,
          -4.869087219238281,
          41.794857025146484,
          -37.187801361083984,
          45.93726348876953,
          41.29825973510742,
          8.01072883605957,
          -3.571537971496582,
          9.832597732543945,
          -25.58736801147461,
          13.988425254821777,
          2.8235538005828857,
          -12.063401222229004,
          -37.45199203491211,
          12.955667495727539,
          8.171801567077637,
          14.927308082580566,
          14.61540699005127,
          -38.33920669555664,
          4.05694580078125,
          -39.16838073730469,
          3.7285492420196533,
          8.110372543334961,
          50.97225570678711,
          -6.830225467681885,
          -35.47626495361328,
          10.23784351348877,
          11.457048416137695,
          -7.0579681396484375,
          5.307526588439941,
          37.59391784667969,
          -22.403011322021484,
          7.900182247161865,
          -7.16253137588501,
          8.349519729614258,
          17.373371124267578,
          8.801324844360352,
          40.101932525634766,
          16.24785804748535,
          -42.760704040527344,
          14.622812271118164,
          3.994903326034546,
          5.144863605499268,
          47.96673583984375,
          14.541845321655273,
          1.3013207912445068,
          12.011147499084473,
          -11.479238510131836,
          5.10093879699707,
          15.115336418151855,
          7.743753433227539,
          6.824831008911133,
          -20.909988403320312,
          4.449507713317871,
          50.54693603515625,
          -5.972418785095215,
          7.926451206207275,
          11.112517356872559,
          38.23501205444336,
          -40.87842559814453,
          -43.79750442504883,
          8.332444190979004,
          12.204324722290039,
          -21.879343032836914,
          -27.80895233154297,
          -3.4750380516052246,
          3.291321277618408,
          -20.60591697692871,
          -5.796718597412109,
          -31.85922622680664,
          -41.0095329284668,
          4.517080783843994,
          48.52456283569336,
          4.067331314086914,
          -29.549026489257812,
          -44.74363708496094,
          -29.3250732421875,
          7.850543975830078,
          8.028023719787598,
          -35.79673385620117,
          -22.02810287475586,
          -25.55556869506836,
          8.139705657958984,
          4.348529815673828,
          -25.871658325195312,
          -37.816402435302734,
          5.627058982849121,
          0.14460784196853638,
          -19.954364776611328,
          10.259222030639648,
          10.299866676330566,
          -39.99370193481445,
          -2.5778300762176514,
          0.9979493021965027,
          45.756805419921875,
          -11.037116050720215,
          -28.574831008911133,
          3.5266215801239014,
          -39.11196517944336,
          44.691001892089844,
          -21.321949005126953,
          16.468242645263672,
          5.631418228149414,
          1.4992344379425049,
          38.93693542480469,
          12.162879943847656,
          6.394301414489746,
          -39.46833419799805,
          49.359840393066406,
          13.283184051513672,
          45.084102630615234,
          -6.263976097106934,
          -43.776485443115234,
          42.97663116455078,
          44.11130142211914,
          44.104339599609375,
          -6.1086225509643555,
          44.60890579223633,
          46.929195404052734,
          -8.22914981842041,
          8.110441207885742,
          6.761436462402344,
          40.0213508605957,
          45.062252044677734,
          6.457449436187744,
          9.39279556274414,
          -38.085731506347656,
          -34.01992416381836,
          1.1499946117401123,
          -26.479530334472656,
          -27.848039627075195,
          -28.739803314208984,
          -35.493446350097656,
          6.18250036239624,
          -27.11650848388672,
          15.876315116882324,
          -36.57688522338867,
          15.644684791564941,
          -1.4252891540527344,
          -0.9347251653671265,
          -27.74226188659668,
          -25.163400650024414,
          3.518829345703125,
          -3.1802189350128174,
          -44.60032653808594,
          41.659324645996094,
          49.142330169677734,
          43.60982894897461,
          38.55925750732422,
          -38.42215347290039,
          -23.068851470947266,
          -34.56935501098633,
          6.928217887878418,
          -31.82308578491211,
          15.868496894836426,
          44.3515510559082,
          15.15819263458252,
          -29.138059616088867,
          6.6648478507995605,
          1.577317476272583,
          3.8161072731018066,
          12.954614639282227,
          10.48302173614502,
          7.858456611633301,
          -22.89741325378418,
          5.9744367599487305,
          -2.4372365474700928,
          -11.45629596710205,
          14.073086738586426,
          -24.532512664794922,
          7.021795749664307,
          7.007669448852539,
          15.237136840820312,
          -26.754619598388672,
          42.781166076660156,
          10.817699432373047,
          4.655498027801514,
          -29.13298225402832,
          -39.14569854736328,
          -26.194154739379883,
          1.421783447265625,
          1.4504417181015015,
          -2.4752707481384277,
          -11.247900009155273,
          48.12888717651367,
          6.434327602386475,
          12.553526878356934,
          8.183565139770508,
          -5.380270957946777,
          14.496437072753906,
          16.61032485961914,
          -4.385758399963379,
          -0.5272679328918457,
          17.165735244750977,
          37.19363784790039,
          -41.66140365600586,
          -4.885045051574707,
          8.994133949279785,
          40.948429107666016,
          7.834793567657471,
          13.19898796081543,
          3.5412325859069824,
          3.9125969409942627,
          -39.3974609375,
          -8.31985855102539,
          -39.08631896972656,
          18.183589935302734,
          2.5345637798309326,
          5.2100396156311035,
          -40.16407775878906,
          1.6406118869781494,
          -34.72113800048828,
          16.279565811157227,
          12.197123527526855,
          15.256165504455566,
          9.105705261230469,
          -21.57499885559082,
          -25.70498275756836,
          2.279541015625,
          9.117057800292969,
          16.587257385253906,
          4.817944049835205,
          -43.455055236816406,
          -37.9169807434082,
          7.589510440826416,
          8.231314659118652,
          3.903730869293213,
          16.337827682495117,
          4.2480597496032715,
          -3.670948028564453,
          -36.400901794433594,
          44.94648361206055,
          8.178544044494629,
          12.5921630859375,
          15.05087661743164,
          7.4361701011657715,
          45.61579132080078,
          -0.9874564409255981,
          7.5388922691345215,
          48.128211975097656,
          38.48381423950195,
          7.693687915802002,
          9.416264533996582,
          -23.141407012939453,
          14.706751823425293,
          2.3049042224884033,
          2.3559443950653076,
          41.43540954589844,
          14.97249984741211,
          35.71329116821289,
          0.5259993672370911,
          14.089406967163086,
          -22.905900955200195,
          -41.51963806152344,
          46.93083953857422,
          -37.94984436035156,
          0.26246628165245056,
          -39.98496627807617,
          4.767583847045898,
          4.37238073348999,
          16.971065521240234,
          41.336875915527344,
          1.4260834455490112,
          -24.69032859802246,
          -5.680794715881348,
          3.1119022369384766,
          11.832426071166992,
          -25.6426944732666,
          -23.88088035583496,
          12.461514472961426,
          18.13431739807129,
          15.419898986816406,
          -36.81072235107422,
          -11.365856170654297,
          9.859210014343262,
          -0.3359813988208771,
          3.598597288131714,
          -32.22893142700195,
          -25.71272850036621,
          6.996568202972412,
          14.49099349975586,
          46.01592254638672,
          40.67836380004883,
          -40.46546936035156,
          -25.701831817626953,
          -34.43232727050781,
          41.66970443725586,
          -41.2101936340332,
          46.197303771972656,
          -38.2723274230957,
          -8.62355899810791,
          49.86921310424805,
          -24.551271438598633,
          1.503487229347229,
          39.42618942260742,
          7.552169322967529,
          -12.546571731567383,
          -2.2545487880706787,
          -41.77217102050781,
          13.36867618560791,
          3.5480868816375732,
          -30.765348434448242,
          -6.7096266746521,
          -22.265357971191406,
          -25.807886123657227,
          5.835150241851807,
          18.223861694335938,
          12.093687057495117,
          36.11164093017578,
          -11.78425407409668,
          40.47893524169922,
          43.01428985595703,
          7.696063995361328,
          3.144458293914795,
          12.642662048339844,
          5.148804187774658,
          -42.06947708129883,
          8.640843391418457,
          -27.68495750427246,
          -1.1906182765960693,
          12.719436645507812,
          48.03848648071289,
          12.360139846801758,
          45.2087516784668,
          -26.720048904418945,
          2.192654609680176,
          -28.23696517944336,
          10.765352249145508,
          43.39449691772461,
          9.260986328125,
          44.2478141784668,
          8.436129570007324,
          -8.843513488769531,
          15.586978912353516,
          7.575977325439453,
          2.523381471633911,
          16.906600952148438,
          11.104777336120605,
          -22.826805114746094,
          -36.667842864990234,
          -2.5596818923950195,
          -4.13275671005249,
          8.074816703796387,
          8.64766788482666,
          1.821743369102478,
          8.74910831451416,
          7.6453142166137695,
          -33.738914489746094,
          7.417805194854736,
          -3.5506155490875244,
          -21.39176368713379,
          9.275039672851562,
          -31.003328323364258,
          5.398653507232666,
          10.039398193359375,
          41.619205474853516,
          41.20063400268555,
          3.4838130474090576,
          -22.07088279724121,
          6.440715312957764,
          -34.32570266723633,
          12.71152400970459,
          10.918740272521973,
          12.585762977600098,
          12.72342300415039,
          -5.422598838806152,
          -38.316097259521484,
          -35.67218017578125,
          9.424041748046875,
          14.100691795349121,
          -2.500664234161377,
          46.66926956176758,
          4.3913092613220215,
          15.311373710632324,
          -5.014089584350586,
          -5.833890914916992,
          8.169119834899902,
          -37.49239730834961,
          4.4482855796813965,
          12.644432067871094,
          1.3762763738632202,
          35.338645935058594,
          9.632251739501953,
          38.60934829711914,
          9.811216354370117,
          -26.420604705810547,
          -19.56713104248047,
          -20.39325523376465,
          7.014388084411621,
          15.504638671875,
          -28.24286651611328,
          5.934892177581787,
          -36.92389678955078,
          -37.34563064575195,
          -5.881927967071533,
          -30.88422203063965,
          -37.756961822509766,
          -9.147988319396973,
          3.8420357704162598,
          6.178297996520996,
          14.536526679992676,
          3.670323133468628,
          3.643005609512329,
          -25.811941146850586,
          -40.671199798583984,
          44.103057861328125,
          -27.447914123535156,
          -33.40133285522461,
          12.76529598236084,
          -5.977344989776611,
          11.776754379272461,
          -25.777124404907227,
          6.390990257263184,
          -39.81617736816406,
          12.813937187194824,
          -43.92436218261719,
          7.051142692565918,
          0.927700936794281,
          2.5924391746520996,
          7.446587085723877,
          42.758445739746094,
          6.170802116394043,
          9.055424690246582,
          -40.84610366821289,
          -4.580048561096191,
          16.673952102661133,
          -41.12455749511719,
          -41.70423889160156,
          -0.7341171503067017,
          5.176569938659668,
          -35.3218994140625,
          18.07306480407715,
          37.18024444580078,
          -23.835195541381836,
          8.428170204162598,
          -0.5725843906402588,
          43.61077880859375,
          -26.73973846435547,
          45.23234176635742,
          -40.85091781616211,
          16.9657039642334,
          -19.56318473815918,
          -36.91340255737305,
          39.21708679199219,
          13.588404655456543,
          -38.05859375,
          10.91628360748291,
          -35.7108039855957,
          5.441750526428223,
          13.957956314086914,
          3.1479718685150146,
          -1.2629832029342651,
          -17.946897506713867,
          15.05932331085205,
          45.23695755004883,
          -7.775274753570557,
          5.772787570953369,
          15.40264892578125,
          -6.23691463470459,
          3.502554416656494,
          7.543650150299072,
          2.374526262283325,
          3.733234167098999,
          -33.99570846557617,
          -32.35556411743164,
          -39.02967834472656,
          -31.299226760864258,
          7.353353023529053,
          -27.281965255737305,
          -7.771007537841797,
          -41.412349700927734,
          -44.800045013427734,
          43.031742095947266,
          15.256852149963379,
          5.344351291656494,
          7.559972286224365,
          -36.34678268432617,
          -4.846680641174316,
          -35.774070739746094,
          16.69300651550293,
          3.046438694000244,
          5.808071613311768,
          4.0491790771484375,
          -44.55479049682617,
          -10.60252571105957,
          2.992338180541992,
          14.600934982299805,
          -21.649290084838867,
          12.180723190307617,
          8.169961929321289,
          -28.083148956298828,
          -38.57084655761719,
          -31.70220375061035,
          -37.46169662475586,
          9.977301597595215,
          -36.89769744873047,
          -42.14045333862305,
          47.408226013183594,
          48.43866729736328,
          8.939470291137695,
          3.7059919834136963,
          49.70100784301758,
          44.35419464111328,
          10.421599388122559,
          -27.637027740478516,
          11.967350959777832,
          5.235194206237793,
          9.58992862701416,
          -26.486169815063477,
          8.188982963562012,
          -8.473310470581055,
          -4.537790775299072,
          2.783440589904785,
          2.877880334854126,
          -37.485084533691406,
          0.6608931422233582,
          9.041292190551758,
          2.132789373397827,
          -3.565789222717285,
          -34.80445861816406,
          3.0649237632751465,
          17.175506591796875,
          -40.435062408447266,
          14.69382095336914,
          -39.44071960449219,
          2.533799409866333,
          -6.5184173583984375,
          -25.160053253173828,
          -41.82206726074219,
          38.43165588378906,
          6.974843978881836,
          1.663848876953125,
          9.30788516998291,
          7.688990592956543,
          13.104208946228027,
          9.210862159729004,
          -20.477115631103516,
          -40.81366729736328,
          -25.563982009887695,
          2.295380115509033,
          4.541721343994141,
          13.06595230102539,
          -42.999755859375,
          -41.48107147216797,
          13.071917533874512,
          11.646650314331055,
          2.8223278522491455,
          -36.568538665771484,
          -39.646141052246094,
          5.799487113952637,
          -26.074033737182617,
          -37.717533111572266,
          -24.859455108642578,
          -26.47276496887207,
          7.960968017578125,
          45.539405822753906,
          6.234636306762695,
          -26.054719924926758,
          -45.345909118652344,
          39.45831298828125,
          -39.34276580810547,
          -41.48112487792969,
          16.906129837036133,
          -36.30619430541992,
          46.187652587890625,
          -34.10304641723633,
          42.229759216308594,
          13.948019027709961,
          45.73111343383789,
          8.91568374633789,
          15.294510841369629,
          8.388123512268066,
          41.50693893432617,
          4.475074768066406,
          -20.819631576538086,
          44.332523345947266,
          6.812527179718018,
          5.587760925292969,
          37.00450134277344,
          -39.9312858581543,
          4.180744647979736,
          10.263764381408691,
          5.752571105957031,
          38.64397048950195,
          12.942805290222168,
          40.88127136230469,
          15.468165397644043,
          3.813770055770874,
          6.455297470092773,
          -40.12839889526367,
          6.662323474884033,
          -40.53590393066406,
          -40.838104248046875,
          16.21916961669922,
          12.099480628967285,
          8.572977066040039,
          -30.930383682250977,
          -39.52207946777344,
          5.606866836547852,
          -44.3125114440918,
          8.813109397888184,
          -5.227274417877197,
          5.922668933868408,
          -30.03466796875,
          -27.1020565032959,
          -30.835586547851562,
          0.9432974457740784,
          36.462825775146484,
          -35.19672775268555,
          -39.8413200378418,
          8.300894737243652,
          -7.458832740783691,
          6.630856513977051,
          10.003125190734863,
          -24.68122100830078,
          -44.68752670288086,
          -29.046945571899414,
          -37.6447868347168,
          5.220813274383545,
          8.24458122253418,
          44.543270111083984,
          44.92366409301758,
          -37.5378532409668,
          45.583702087402344,
          15.215349197387695,
          3.487358570098877,
          9.275500297546387,
          -2.298457384109497,
          7.628572940826416,
          -37.49178695678711,
          9.374696731567383
         ],
         "xaxis": "x",
         "y": [
          -38.093955993652344,
          0.598720371723175,
          -32.56793975830078,
          -30.95954132080078,
          0.11582068353891373,
          -5.96696662902832,
          -29.311962127685547,
          -3.5984580516815186,
          16.86583137512207,
          48.212074279785156,
          -7.251755237579346,
          13.770557403564453,
          0.19044172763824463,
          -1.5962313413619995,
          -25.57567596435547,
          -36.467464447021484,
          -42.2515983581543,
          49.612098693847656,
          -24.761085510253906,
          8.88151741027832,
          48.40829849243164,
          4.762958526611328,
          -32.02437210083008,
          5.131246566772461,
          20.257579803466797,
          -5.747575759887695,
          2.881598711013794,
          -43.39387130737305,
          20.038631439208984,
          -28.2957820892334,
          -13.3444185256958,
          52.37251663208008,
          4.202943801879883,
          12.539165496826172,
          23.447370529174805,
          -1.1952826976776123,
          -14.384727478027344,
          16.168437957763672,
          48.491180419921875,
          -25.109567642211914,
          -32.90938186645508,
          47.1019401550293,
          -27.12730598449707,
          -14.817760467529297,
          53.793190002441406,
          -8.21786880493164,
          -40.41181182861328,
          4.570743560791016,
          9.741392135620117,
          2.55082631111145,
          -5.398344993591309,
          5.835859775543213,
          -32.62250518798828,
          52.75400924682617,
          -28.51801872253418,
          5.692631721496582,
          -42.24149703979492,
          -38.828311920166016,
          5.593143939971924,
          47.13911056518555,
          11.893702507019043,
          -29.070283889770508,
          3.064863681793213,
          52.30757522583008,
          -13.191940307617188,
          -15.453442573547363,
          -26.716224670410156,
          -25.78679084777832,
          -11.389418601989746,
          -31.880891799926758,
          15.165435791015625,
          9.58699893951416,
          7.373451232910156,
          -29.44244384765625,
          -6.822108745574951,
          17.821866989135742,
          3.4344866275787354,
          -12.971394538879395,
          -37.696876525878906,
          -16.773563385009766,
          2.9075722694396973,
          0.6151199340820312,
          14.238818168640137,
          0.797170102596283,
          -27.94460678100586,
          -32.465877532958984,
          -26.035856246948242,
          1.9996167421340942,
          -2.8738813400268555,
          12.538836479187012,
          -32.21078872680664,
          52.65681076049805,
          -35.54265594482422,
          -11.143693923950195,
          5.63829231262207,
          8.926505088806152,
          -14.906472206115723,
          10.05911922454834,
          46.430145263671875,
          6.356960773468018,
          -25.4405517578125,
          6.856704235076904,
          6.424317359924316,
          9.825889587402344,
          52.553165435791016,
          8.532575607299805,
          21.1912899017334,
          -2.0516607761383057,
          47.947513580322266,
          -16.659975051879883,
          1.9266958236694336,
          -7.2530622482299805,
          -30.895301818847656,
          5.327486515045166,
          1.230403184890747,
          -42.50844192504883,
          0.23476356267929077,
          -4.456773281097412,
          -35.077144622802734,
          47.934078216552734,
          1.7982794046401978,
          21.7346248626709,
          13.207864761352539,
          49.226314544677734,
          5.4690117835998535,
          0.6459458470344543,
          18.432146072387695,
          -29.870574951171875,
          -13.93220043182373,
          14.1490478515625,
          -28.016921997070312,
          -28.00249481201172,
          3.283404588699341,
          -6.234802722930908,
          -27.302934646606445,
          7.02000617980957,
          -3.089944839477539,
          48.71738052368164,
          -33.47138595581055,
          12.923789024353027,
          9.098771095275879,
          5.995142459869385,
          -33.94208908081055,
          -4.968073844909668,
          -29.17055320739746,
          -12.707313537597656,
          9.632464408874512,
          -9.031705856323242,
          -38.05934143066406,
          -30.99724578857422,
          47.7215690612793,
          -24.419118881225586,
          -27.007661819458008,
          -39.47054672241211,
          50.17063903808594,
          23.295076370239258,
          -26.022611618041992,
          21.459800720214844,
          -5.884560585021973,
          3.1207127571105957,
          -0.5023400187492371,
          0.05571730434894562,
          -7.314540386199951,
          -13.083454132080078,
          -27.54618263244629,
          -37.73078918457031,
          -13.484073638916016,
          -31.50391960144043,
          -38.50343704223633,
          5.826374053955078,
          -28.63396644592285,
          47.090213775634766,
          10.53885555267334,
          -41.13262939453125,
          -3.281052589416504,
          -2.094491720199585,
          -5.393312454223633,
          -38.733131408691406,
          -6.269458293914795,
          -5.647732734680176,
          -8.676925659179688,
          1.247463345527649,
          -34.10747528076172,
          -33.59665298461914,
          11.602677345275879,
          12.554206848144531,
          48.2030143737793,
          -15.229131698608398,
          0.8408695459365845,
          42.862770080566406,
          -16.309553146362305,
          45.07815933227539,
          -29.439516067504883,
          12.97939395904541,
          16.888980865478516,
          -10.92573356628418,
          11.128718376159668,
          -5.598101615905762,
          -2.3085861206054688,
          -41.415771484375,
          4.968759536743164,
          -3.409524440765381,
          -43.90301513671875,
          6.574169158935547,
          1.5001208782196045,
          7.318939685821533,
          46.483673095703125,
          17.507545471191406,
          44.7365837097168,
          -3.2831315994262695,
          -24.950313568115234,
          16.20709991455078,
          -36.08359146118164,
          -2.4276247024536133,
          -31.58729362487793,
          49.91183090209961,
          -29.34937286376953,
          47.654083251953125,
          5.6826558113098145,
          12.822253227233887,
          51.4782600402832,
          47.00127410888672,
          -1.41630220413208,
          -8.883657455444336,
          -28.547183990478516,
          10.61406421661377,
          -10.088459968566895,
          17.30092430114746,
          5.322400093078613,
          3.7620174884796143,
          44.67366027832031,
          10.763456344604492,
          -29.13504981994629,
          -39.58390808105469,
          -28.933134078979492,
          46.7861442565918,
          16.695068359375,
          15.346776008605957,
          2.5418591499328613,
          8.653975486755371,
          -4.417273044586182,
          -37.94447326660156,
          13.719038963317871,
          8.840332984924316,
          4.773869514465332,
          -25.19498634338379,
          3.449836492538452,
          -0.5548565983772278,
          -41.3096923828125,
          -33.60252380371094,
          16.186017990112305,
          17.578853607177734,
          9.501276969909668,
          -0.19429253041744232,
          -10.943877220153809,
          46.328983306884766,
          -13.210197448730469,
          1.30238938331604,
          1.9778863191604614,
          6.752166748046875,
          53.795814514160156,
          1.7819311618804932,
          -42.2253303527832,
          -11.64792537689209,
          18.195756912231445,
          5.542553424835205,
          21.18543815612793,
          -32.07231903076172,
          -30.33966827392578,
          47.28499221801758,
          -31.996755599975586,
          -2.663079261779785,
          -31.015554428100586,
          46.296024322509766,
          -27.3924560546875,
          -23.99186897277832,
          -28.471351623535156,
          -32.96053695678711,
          -14.495619773864746,
          2.3444252014160156,
          1.6276159286499023,
          -15.130455017089844,
          -37.318092346191406,
          20.76824951171875,
          48.81768035888672,
          54.095943450927734,
          6.391112327575684,
          15.824379920959473,
          -5.822484493255615,
          20.74379539489746,
          9.689275741577148,
          -32.118873596191406,
          -8.801332473754883,
          6.375090599060059,
          -5.378389835357666,
          -4.047238826751709,
          13.1365327835083,
          -0.27015477418899536,
          23.866628646850586,
          -3.900865316390991,
          -29.779888153076172,
          13.212992668151855,
          -27.03483772277832,
          4.99757719039917,
          -43.250389099121094,
          -24.956552505493164,
          5.1984543800354,
          7.479769706726074,
          7.948025226593018,
          53.35606002807617,
          44.759361267089844,
          -23.772289276123047,
          43.0868034362793,
          -24.300966262817383,
          6.343807697296143,
          -0.3141838610172272,
          51.63343811035156,
          -25.722061157226562,
          8.206171035766602,
          6.916184425354004,
          -26.4601993560791,
          -0.5295344591140747,
          -0.8654513955116272,
          -29.292903900146484,
          -14.831128120422363,
          0.7660863995552063,
          3.093337297439575,
          6.298834323883057,
          -8.88621711730957,
          -13.51835823059082,
          -29.819486618041992,
          53.52553176879883,
          2.1276845932006836,
          -13.884114265441895,
          -27.68995475769043,
          22.152713775634766,
          7.088691711425781,
          -16.089494705200195,
          18.264467239379883,
          54.28566360473633,
          4.062135219573975,
          -9.785806655883789,
          -0.4531592130661011,
          2.4804508686065674,
          -9.638649940490723,
          48.500911712646484,
          -9.74075698852539,
          -41.056095123291016,
          18.22093391418457,
          -25.71523666381836,
          -33.18247604370117,
          -28.83257293701172,
          4.5040717124938965,
          3.0263679027557373,
          -8.160369873046875,
          -0.7940147519111633,
          24.83168601989746,
          -27.164474487304688,
          -27.853639602661133,
          -25.949323654174805,
          20.88845443725586,
          -31.931110382080078,
          3.6865878105163574,
          45.713985443115234,
          11.913527488708496,
          1.2600780725479126,
          48.012939453125,
          -29.033767700195312,
          21.49154281616211,
          8.252873420715332,
          -2.9651577472686768,
          11.568866729736328,
          13.45716381072998,
          0.5504141449928284,
          -28.50120735168457,
          14.46129035949707,
          14.785124778747559,
          -29.391002655029297,
          14.525218963623047,
          -39.68040466308594,
          14.514551162719727,
          -43.231685638427734,
          -30.89109992980957,
          16.02586555480957,
          9.923619270324707,
          -26.31418228149414,
          51.27822494506836,
          -4.671654224395752,
          18.718257904052734,
          1.071858286857605,
          -5.999326705932617,
          13.768302917480469,
          7.802896499633789,
          14.799515724182129,
          3.768854856491089,
          -9.690375328063965,
          7.90683650970459,
          -2.134290933609009,
          51.56076431274414,
          13.524003982543945,
          -2.579960823059082,
          17.04983139038086,
          14.392240524291992,
          1.1018115282058716,
          2.7318668365478516,
          -41.88896560668945,
          5.207366466522217,
          46.61312484741211,
          -1.8089653253555298,
          -13.871740341186523,
          16.209766387939453,
          48.9827995300293,
          9.447477340698242,
          -29.557615280151367,
          12.390687942504883,
          17.716083526611328,
          -27.102008819580078,
          -35.73350143432617,
          48.836158752441406,
          -36.45207214355469,
          -26.356595993041992,
          -29.539226531982422,
          -15.519665718078613,
          51.02405548095703,
          11.710784912109375,
          7.056140899658203,
          -11.716568946838379,
          -11.209964752197266,
          -38.66880416870117,
          17.504087448120117,
          -0.5815212726593018,
          21.349023818969727,
          -11.992734909057617,
          -29.921951293945312,
          -38.80229187011719,
          18.058448791503906,
          -25.826005935668945,
          -4.117793083190918,
          -26.16997718811035,
          -35.0358772277832,
          9.972655296325684,
          -28.66905403137207,
          -11.809952735900879,
          -25.1852970123291,
          -43.25160598754883,
          2.270249605178833,
          6.085363388061523,
          45.08380889892578,
          47.810302734375,
          3.9548449516296387,
          11.389993667602539,
          10.375860214233398,
          -42.48638153076172,
          23.264354705810547,
          -24.69569969177246,
          -5.37531852722168,
          -27.370935440063477,
          2.7713003158569336,
          20.160667419433594,
          -30.5438232421875,
          -25.746292114257812,
          -29.26771354675293,
          49.35894775390625,
          18.526504516601562,
          -37.39225387573242,
          -31.75096893310547,
          -24.24861717224121,
          -32.3873291015625,
          16.651748657226562,
          7.285028457641602,
          -3.7571959495544434,
          12.10027027130127,
          -3.7749457359313965,
          -8.742194175720215,
          45.23234558105469,
          13.42687702178955,
          7.029497146606445,
          21.31273651123047,
          -27.834501266479492,
          -25.2423095703125,
          11.941429138183594,
          8.331396102905273,
          44.785701751708984,
          -1.5233128070831299,
          49.25833511352539,
          5.273090839385986,
          -0.8010175228118896,
          -31.264554977416992,
          12.61278247833252,
          -37.8262825012207,
          51.74325942993164,
          -15.021538734436035,
          17.820106506347656,
          15.582256317138672,
          -37.83692932128906,
          4.17581844329834,
          18.329050064086914,
          -44.54380416870117,
          -4.357143878936768,
          -26.973228454589844,
          46.099674224853516,
          13.182581901550293,
          -41.31547164916992,
          2.0766777992248535,
          -36.19853973388672,
          -5.829899787902832,
          46.711647033691406,
          7.227763652801514,
          -32.061668395996094,
          8.141087532043457,
          -39.592403411865234,
          -12.264066696166992,
          -30.950620651245117,
          -43.932518005371094,
          5.503295421600342,
          12.908462524414062,
          45.49970245361328,
          -33.54937744140625,
          7.50708532333374,
          -41.91605758666992,
          -30.6215763092041,
          -26.612112045288086,
          -16.033706665039062,
          9.785238265991211,
          8.90538501739502,
          1.3874619007110596,
          -9.372579574584961,
          -0.9108133912086487,
          -0.4887738823890686,
          50.59198760986328,
          1.026558756828308,
          -33.471839904785156,
          22.11707878112793,
          14.077455520629883,
          -30.725357055664062,
          -24.439620971679688,
          7.142852783203125,
          21.455669403076172,
          11.069008827209473,
          8.753607749938965,
          -6.753041744232178,
          52.68067169189453,
          19.71491813659668,
          4.917903900146484,
          -28.507156372070312,
          -37.71953201293945,
          11.54072380065918,
          15.083580017089844,
          -29.42032241821289,
          -26.880908966064453,
          -42.04302978515625,
          -5.117982864379883,
          18.687570571899414,
          20.60190200805664,
          54.019065856933594,
          -40.15447998046875,
          -32.84889602661133,
          -30.869029998779297,
          -27.126562118530273,
          5.546346664428711,
          13.793298721313477,
          -43.66358947753906,
          -5.255242347717285,
          10.073405265808105,
          22.01566505432129,
          4.6705780029296875,
          15.836852073669434,
          -10.346652030944824,
          -26.062002182006836,
          -29.021299362182617,
          3.289401054382324,
          53.5943717956543,
          -8.4794340133667,
          47.90822219848633,
          4.274777889251709,
          -4.618271350860596,
          -13.868638038635254,
          -1.9367752075195312,
          -14.942578315734863,
          11.177899360656738,
          4.198092937469482,
          -1.7552801370620728,
          -3.1547603607177734,
          -3.5797061920166016,
          11.723922729492188,
          -3.2320821285247803,
          -17.05556297302246,
          13.617798805236816,
          1.3224211931228638,
          43.60176086425781,
          -14.207551956176758,
          -4.974494934082031,
          -43.579002380371094,
          -32.04950714111328,
          16.491788864135742,
          13.741666793823242,
          -38.206851959228516,
          -29.6334285736084,
          -29.51784324645996,
          17.574493408203125,
          23.571693420410156,
          -0.0036708773113787174,
          17.06330108642578,
          -28.858427047729492,
          7.7455220222473145,
          -35.36841583251953,
          -38.86503219604492,
          13.918858528137207,
          16.974990844726562,
          -30.069686889648438,
          47.41121292114258,
          4.5781331062316895,
          2.1728460788726807,
          -12.945658683776855,
          -15.755941390991211,
          -8.743964195251465,
          -10.213220596313477,
          16.343769073486328,
          -23.98259735107422,
          24.651365280151367,
          -44.66381072998047,
          21.908077239990234,
          49.28017807006836,
          -4.044546604156494,
          -30.980459213256836,
          15.910049438476562,
          -28.109241485595703,
          -43.508121490478516,
          0.675377368927002,
          49.34391403198242,
          7.6795854568481445,
          49.639888763427734,
          -29.463159561157227,
          0.7333254814147949,
          1.7609502077102661,
          9.124582290649414,
          0.608947217464447,
          20.753528594970703,
          -29.29076385498047,
          43.48385238647461,
          -37.12298583984375,
          22.789236068725586,
          -13.23781681060791,
          -30.897336959838867,
          44.07624816894531,
          23.553525924682617,
          6.231052398681641,
          20.739112854003906,
          10.419190406799316,
          53.175071716308594,
          16.27813720703125,
          9.655948638916016,
          -16.383058547973633,
          -0.003985052928328514,
          42.451141357421875,
          3.1525747776031494,
          9.980422973632812,
          -31.670473098754883,
          -31.462400436401367,
          8.810322761535645,
          -38.48893356323242,
          2.710451126098633,
          -5.076849460601807,
          12.273980140686035,
          9.514467239379883,
          7.9064555168151855,
          -4.251382827758789,
          43.42659378051758,
          43.03872299194336,
          -25.697696685791016,
          -25.223012924194336,
          2.0085251331329346,
          8.16164493560791,
          -1.9122883081436157,
          46.90331268310547,
          -31.090543746948242,
          -42.83991241455078,
          2.931068181991577,
          10.596179962158203,
          15.455175399780273,
          3.8590235710144043,
          1.8789680004119873,
          51.04112243652344,
          6.729952812194824,
          -25.271892547607422,
          -29.268360137939453,
          -29.42534828186035,
          -27.963064193725586,
          2.5499558448791504,
          8.899246215820312,
          5.853579044342041,
          9.531692504882812,
          -0.8425177335739136,
          -43.64275360107422,
          47.76629638671875,
          4.988301753997803,
          51.374244689941406,
          3.6819746494293213,
          3.9917242527008057,
          -9.811924934387207,
          52.16761779785156,
          -30.5609188079834,
          50.89122009277344,
          0.24130411446094513,
          -9.787081718444824,
          13.661961555480957,
          0.5607826709747314,
          -11.165185928344727,
          -13.490693092346191,
          11.79217529296875,
          -27.68291664123535,
          -25.091230392456055,
          48.15640640258789,
          53.87270736694336,
          49.7008171081543,
          -9.24699878692627,
          5.3452606201171875,
          -12.989104270935059,
          -40.662601470947266,
          0.06477116793394089,
          -32.437049865722656,
          12.329916954040527,
          -15.813618659973145,
          4.142679691314697,
          1.8111977577209473,
          14.8456449508667,
          48.5503044128418,
          46.927669525146484,
          -0.04253996163606644,
          -5.082428932189941,
          -42.68013000488281,
          -25.652236938476562,
          5.126566410064697,
          43.24814987182617,
          -39.29639434814453,
          17.073226928710938,
          20.226158142089844,
          -37.83573913574219,
          46.77512741088867,
          4.193263053894043,
          6.124427318572998,
          12.359149932861328,
          -33.93963623046875,
          2.5601682662963867,
          -35.83775329589844,
          20.68207359313965,
          22.009668350219727,
          -44.057559967041016,
          4.606845378875732,
          -15.454644203186035,
          -3.724407196044922,
          -0.4796385169029236,
          20.055559158325195,
          25.309837341308594,
          -5.278651237487793,
          5.011707305908203,
          -12.605785369873047,
          16.568265914916992,
          4.052810192108154,
          -14.67536735534668,
          19.457725524902344,
          53.89339828491211,
          -13.784073829650879,
          -0.1976717710494995,
          10.420910835266113,
          9.580564498901367,
          14.254212379455566,
          -29.832304000854492,
          -36.591880798339844,
          21.268835067749023,
          2.705517530441284,
          -24.331682205200195,
          23.144136428833008,
          45.379783630371094,
          4.533558368682861,
          -37.669803619384766,
          -12.355635643005371,
          11.517468452453613,
          -5.63183069229126,
          -12.987385749816895,
          -38.82465744018555,
          50.72100067138672,
          47.11042022705078,
          -0.7263121008872986,
          6.247767448425293,
          7.017486572265625,
          -31.40916633605957,
          14.213386535644531,
          -0.5732993483543396,
          -6.571710109710693,
          42.917816162109375,
          -15.091684341430664,
          16.10447120666504,
          -44.17936325073242,
          18.29741668701172,
          50.960079193115234,
          -6.856210231781006,
          9.210417747497559,
          -5.015814781188965,
          -30.605690002441406,
          11.177892684936523,
          -35.55894088745117,
          52.64004135131836,
          55.075504302978516,
          46.3889274597168,
          0.9012808203697205,
          -33.79466247558594,
          16.494718551635742,
          3.434995651245117,
          10.107636451721191,
          54.44097137451172,
          6.49802303314209,
          48.73503875732422,
          -34.98262023925781,
          -32.061126708984375,
          3.4930505752563477,
          -43.2888298034668,
          11.683533668518066,
          -29.21371078491211,
          -25.744306564331055,
          20.18865394592285,
          -37.78261184692383,
          -31.00625228881836,
          -13.920157432556152,
          -7.922743320465088,
          4.766517162322998,
          -25.148115158081055,
          -38.87123489379883,
          25.115135192871094,
          1.9214407205581665,
          -31.37066650390625,
          42.4785041809082,
          -26.701435089111328,
          17.86980628967285,
          7.679803371429443,
          14.34377384185791,
          -26.2327938079834,
          46.856651306152344,
          7.868110179901123,
          -7.818037986755371,
          6.0553507804870605,
          -31.54511070251465,
          6.4519243240356445,
          15.021885871887207,
          45.56218338012695,
          11.649438858032227,
          46.170650482177734,
          50.452484130859375,
          -38.24839401245117,
          -11.01869010925293,
          -4.040777206420898,
          -5.348319053649902,
          47.243900299072266,
          -28.661361694335938,
          -28.055038452148438,
          -23.897062301635742,
          11.155394554138184,
          5.229334831237793,
          19.325712203979492,
          -2.011965751647949,
          19.684850692749023,
          18.20783805847168,
          15.1907958984375,
          19.53119468688965,
          2.462595224380493,
          10.302467346191406,
          -34.990028381347656,
          -44.538360595703125,
          -0.48305606842041016,
          -44.07072830200195,
          51.2799186706543,
          -34.27284622192383,
          -0.06799342483282089,
          -11.845453262329102,
          -31.410070419311523,
          24.037830352783203,
          -0.8886286020278931,
          13.332342147827148,
          7.148156642913818,
          20.926389694213867,
          -25.100656509399414,
          14.632099151611328,
          2.1051273345947266,
          3.9863319396972656,
          9.974313735961914,
          3.6139190196990967,
          -42.39813995361328,
          9.199662208557129,
          -11.654205322265625,
          -43.35891342163086,
          46.9022331237793,
          5.8677496910095215,
          7.713786602020264,
          48.411895751953125,
          4.437275409698486,
          4.146411895751953,
          -37.51026916503906,
          -44.00048065185547,
          23.985013961791992,
          4.692104339599609,
          -10.707165718078613,
          -28.421527862548828,
          43.633209228515625,
          -38.247283935546875,
          -3.782400369644165,
          -28.294776916503906,
          -9.614546775817871,
          17.48091697692871,
          5.32965612411499,
          -32.14337158203125,
          8.688125610351562,
          -10.486126899719238,
          4.956410884857178,
          13.220484733581543,
          -40.07542419433594,
          15.9141845703125,
          44.027008056640625,
          49.21794509887695,
          -34.37867736816406,
          12.972962379455566,
          -24.950881958007812,
          -35.620521545410156,
          -11.020249366760254,
          6.455053329467773,
          -34.96338653564453,
          -1.2230991125106812,
          16.859411239624023,
          7.168239116668701,
          7.999878883361816,
          -30.530012130737305,
          1.685213327407837,
          13.83477783203125,
          19.737794876098633,
          17.52666473388672,
          21.43246078491211,
          -43.39912796020508,
          21.742589950561523,
          14.071268081665039,
          17.851167678833008,
          3.6653828620910645,
          -5.618622779846191,
          -31.120370864868164,
          48.631248474121094,
          -26.975290298461914,
          -3.0570974349975586,
          6.9005937576293945,
          23.55877113342285,
          1.6629374027252197,
          6.277310848236084,
          -29.823272705078125,
          -43.36812210083008,
          0.6820383071899414,
          11.68448543548584,
          44.77910232543945,
          -1.0952649116516113,
          -30.892593383789062,
          44.8529052734375,
          53.05289077758789,
          -27.06966209411621,
          12.33138370513916,
          20.964807510375977,
          21.296894073486328,
          1.2067584991455078,
          -2.3407344818115234,
          0.8385173082351685,
          -10.997939109802246,
          -11.540887832641602,
          52.59992980957031,
          53.05483627319336,
          -16.34719467163086,
          -9.22258472442627,
          -36.33559036254883,
          14.91906452178955,
          51.90375518798828,
          -36.88744354248047,
          48.35551452636719,
          22.926876068115234,
          -37.56254577636719,
          13.615822792053223,
          10.29387092590332,
          51.07099533081055,
          11.543173789978027,
          4.059770107269287,
          5.773439884185791,
          -4.057316303253174,
          54.10512924194336,
          3.7458763122558594,
          23.684091567993164,
          -39.44963455200195,
          1.8462064266204834,
          12.587077140808105,
          50.40000915527344,
          17.820215225219727,
          45.86567687988281,
          8.953347206115723,
          -29.228870391845703,
          8.195255279541016,
          -14.031868934631348,
          -30.906391143798828,
          50.13497543334961,
          54.05261993408203,
          49.729461669921875,
          1.621802806854248,
          -32.73760223388672,
          -33.69269561767578,
          6.583485126495361,
          -34.047061920166016,
          5.81099271774292,
          -34.92299270629883,
          -3.739656925201416,
          1.1374123096466064,
          3.762704610824585,
          44.917240142822266,
          -1.0610097646713257,
          48.6784553527832,
          -4.043140888214111,
          9.139090538024902,
          44.33278274536133,
          -27.55914878845215,
          -5.082982540130615,
          -33.86214828491211,
          19.513051986694336,
          -41.94366455078125,
          -11.917906761169434,
          -41.297645568847656,
          -34.38075637817383,
          5.936459541320801,
          -12.98317813873291,
          -0.1397855281829834,
          15.033799171447754,
          -29.567283630371094,
          5.73467493057251,
          -14.413298606872559,
          6.429561614990234,
          -13.411696434020996,
          51.45225524902344,
          -12.078689575195312,
          45.88518142700195,
          -37.99427032470703,
          -34.34150695800781,
          -11.006324768066406,
          1.1811754703521729,
          -31.62128257751465,
          -12.631394386291504,
          -39.751304626464844,
          8.81396198272705,
          -5.429553031921387,
          1.7715487480163574,
          -43.89369583129883,
          51.467796325683594,
          -45.55083084106445,
          -12.080618858337402,
          6.146454811096191,
          -9.269932746887207,
          -30.154329299926758,
          12.245511054992676,
          -25.973901748657227,
          15.37233829498291,
          49.033931732177734,
          17.146032333374023,
          13.780902862548828,
          47.87623596191406,
          44.98215866088867,
          -24.231586456298828,
          22.02121353149414,
          20.66380500793457,
          46.321903228759766,
          1.3959097862243652,
          7.800980567932129,
          10.389930725097656,
          -23.59349250793457,
          19.215002059936523,
          -28.754276275634766,
          22.48386573791504,
          -42.33458709716797,
          -10.624985694885254,
          5.192586898803711,
          11.484381675720215,
          54.471397399902344,
          3.070802688598633,
          -25.78413963317871,
          -38.7193603515625,
          -29.896324157714844,
          2.999666213989258,
          22.23736572265625,
          13.222317695617676,
          53.3795051574707,
          -24.427570343017578,
          -11.477301597595215,
          -8.645720481872559,
          21.54507827758789,
          -13.669419288635254,
          -28.52187728881836,
          -36.564842224121094,
          -33.35869598388672,
          11.373141288757324,
          43.58949661254883,
          17.4517822265625,
          51.252315521240234
         ],
         "yaxis": "y"
        }
       ],
       "layout": {
        "coloraxis": {
         "colorbar": {
          "title": {
           "text": "cluster"
          }
         },
         "colorscale": [
          [
           0,
           "#0d0887"
          ],
          [
           0.1111111111111111,
           "#46039f"
          ],
          [
           0.2222222222222222,
           "#7201a8"
          ],
          [
           0.3333333333333333,
           "#9c179e"
          ],
          [
           0.4444444444444444,
           "#bd3786"
          ],
          [
           0.5555555555555556,
           "#d8576b"
          ],
          [
           0.6666666666666666,
           "#ed7953"
          ],
          [
           0.7777777777777778,
           "#fb9f3a"
          ],
          [
           0.8888888888888888,
           "#fdca26"
          ],
          [
           1,
           "#f0f921"
          ]
         ]
        },
        "legend": {
         "tracegroupgap": 0
        },
        "margin": {
         "t": 60
        },
        "template": {
         "data": {
          "bar": [
           {
            "error_x": {
             "color": "#2a3f5f"
            },
            "error_y": {
             "color": "#2a3f5f"
            },
            "marker": {
             "line": {
              "color": "#E5ECF6",
              "width": 0.5
             },
             "pattern": {
              "fillmode": "overlay",
              "size": 10,
              "solidity": 0.2
             }
            },
            "type": "bar"
           }
          ],
          "barpolar": [
           {
            "marker": {
             "line": {
              "color": "#E5ECF6",
              "width": 0.5
             },
             "pattern": {
              "fillmode": "overlay",
              "size": 10,
              "solidity": 0.2
             }
            },
            "type": "barpolar"
           }
          ],
          "carpet": [
           {
            "aaxis": {
             "endlinecolor": "#2a3f5f",
             "gridcolor": "white",
             "linecolor": "white",
             "minorgridcolor": "white",
             "startlinecolor": "#2a3f5f"
            },
            "baxis": {
             "endlinecolor": "#2a3f5f",
             "gridcolor": "white",
             "linecolor": "white",
             "minorgridcolor": "white",
             "startlinecolor": "#2a3f5f"
            },
            "type": "carpet"
           }
          ],
          "choropleth": [
           {
            "colorbar": {
             "outlinewidth": 0,
             "ticks": ""
            },
            "type": "choropleth"
           }
          ],
          "contour": [
           {
            "colorbar": {
             "outlinewidth": 0,
             "ticks": ""
            },
            "colorscale": [
             [
              0,
              "#0d0887"
             ],
             [
              0.1111111111111111,
              "#46039f"
             ],
             [
              0.2222222222222222,
              "#7201a8"
             ],
             [
              0.3333333333333333,
              "#9c179e"
             ],
             [
              0.4444444444444444,
              "#bd3786"
             ],
             [
              0.5555555555555556,
              "#d8576b"
             ],
             [
              0.6666666666666666,
              "#ed7953"
             ],
             [
              0.7777777777777778,
              "#fb9f3a"
             ],
             [
              0.8888888888888888,
              "#fdca26"
             ],
             [
              1,
              "#f0f921"
             ]
            ],
            "type": "contour"
           }
          ],
          "contourcarpet": [
           {
            "colorbar": {
             "outlinewidth": 0,
             "ticks": ""
            },
            "type": "contourcarpet"
           }
          ],
          "heatmap": [
           {
            "colorbar": {
             "outlinewidth": 0,
             "ticks": ""
            },
            "colorscale": [
             [
              0,
              "#0d0887"
             ],
             [
              0.1111111111111111,
              "#46039f"
             ],
             [
              0.2222222222222222,
              "#7201a8"
             ],
             [
              0.3333333333333333,
              "#9c179e"
             ],
             [
              0.4444444444444444,
              "#bd3786"
             ],
             [
              0.5555555555555556,
              "#d8576b"
             ],
             [
              0.6666666666666666,
              "#ed7953"
             ],
             [
              0.7777777777777778,
              "#fb9f3a"
             ],
             [
              0.8888888888888888,
              "#fdca26"
             ],
             [
              1,
              "#f0f921"
             ]
            ],
            "type": "heatmap"
           }
          ],
          "heatmapgl": [
           {
            "colorbar": {
             "outlinewidth": 0,
             "ticks": ""
            },
            "colorscale": [
             [
              0,
              "#0d0887"
             ],
             [
              0.1111111111111111,
              "#46039f"
             ],
             [
              0.2222222222222222,
              "#7201a8"
             ],
             [
              0.3333333333333333,
              "#9c179e"
             ],
             [
              0.4444444444444444,
              "#bd3786"
             ],
             [
              0.5555555555555556,
              "#d8576b"
             ],
             [
              0.6666666666666666,
              "#ed7953"
             ],
             [
              0.7777777777777778,
              "#fb9f3a"
             ],
             [
              0.8888888888888888,
              "#fdca26"
             ],
             [
              1,
              "#f0f921"
             ]
            ],
            "type": "heatmapgl"
           }
          ],
          "histogram": [
           {
            "marker": {
             "pattern": {
              "fillmode": "overlay",
              "size": 10,
              "solidity": 0.2
             }
            },
            "type": "histogram"
           }
          ],
          "histogram2d": [
           {
            "colorbar": {
             "outlinewidth": 0,
             "ticks": ""
            },
            "colorscale": [
             [
              0,
              "#0d0887"
             ],
             [
              0.1111111111111111,
              "#46039f"
             ],
             [
              0.2222222222222222,
              "#7201a8"
             ],
             [
              0.3333333333333333,
              "#9c179e"
             ],
             [
              0.4444444444444444,
              "#bd3786"
             ],
             [
              0.5555555555555556,
              "#d8576b"
             ],
             [
              0.6666666666666666,
              "#ed7953"
             ],
             [
              0.7777777777777778,
              "#fb9f3a"
             ],
             [
              0.8888888888888888,
              "#fdca26"
             ],
             [
              1,
              "#f0f921"
             ]
            ],
            "type": "histogram2d"
           }
          ],
          "histogram2dcontour": [
           {
            "colorbar": {
             "outlinewidth": 0,
             "ticks": ""
            },
            "colorscale": [
             [
              0,
              "#0d0887"
             ],
             [
              0.1111111111111111,
              "#46039f"
             ],
             [
              0.2222222222222222,
              "#7201a8"
             ],
             [
              0.3333333333333333,
              "#9c179e"
             ],
             [
              0.4444444444444444,
              "#bd3786"
             ],
             [
              0.5555555555555556,
              "#d8576b"
             ],
             [
              0.6666666666666666,
              "#ed7953"
             ],
             [
              0.7777777777777778,
              "#fb9f3a"
             ],
             [
              0.8888888888888888,
              "#fdca26"
             ],
             [
              1,
              "#f0f921"
             ]
            ],
            "type": "histogram2dcontour"
           }
          ],
          "mesh3d": [
           {
            "colorbar": {
             "outlinewidth": 0,
             "ticks": ""
            },
            "type": "mesh3d"
           }
          ],
          "parcoords": [
           {
            "line": {
             "colorbar": {
              "outlinewidth": 0,
              "ticks": ""
             }
            },
            "type": "parcoords"
           }
          ],
          "pie": [
           {
            "automargin": true,
            "type": "pie"
           }
          ],
          "scatter": [
           {
            "marker": {
             "colorbar": {
              "outlinewidth": 0,
              "ticks": ""
             }
            },
            "type": "scatter"
           }
          ],
          "scatter3d": [
           {
            "line": {
             "colorbar": {
              "outlinewidth": 0,
              "ticks": ""
             }
            },
            "marker": {
             "colorbar": {
              "outlinewidth": 0,
              "ticks": ""
             }
            },
            "type": "scatter3d"
           }
          ],
          "scattercarpet": [
           {
            "marker": {
             "colorbar": {
              "outlinewidth": 0,
              "ticks": ""
             }
            },
            "type": "scattercarpet"
           }
          ],
          "scattergeo": [
           {
            "marker": {
             "colorbar": {
              "outlinewidth": 0,
              "ticks": ""
             }
            },
            "type": "scattergeo"
           }
          ],
          "scattergl": [
           {
            "marker": {
             "colorbar": {
              "outlinewidth": 0,
              "ticks": ""
             }
            },
            "type": "scattergl"
           }
          ],
          "scattermapbox": [
           {
            "marker": {
             "colorbar": {
              "outlinewidth": 0,
              "ticks": ""
             }
            },
            "type": "scattermapbox"
           }
          ],
          "scatterpolar": [
           {
            "marker": {
             "colorbar": {
              "outlinewidth": 0,
              "ticks": ""
             }
            },
            "type": "scatterpolar"
           }
          ],
          "scatterpolargl": [
           {
            "marker": {
             "colorbar": {
              "outlinewidth": 0,
              "ticks": ""
             }
            },
            "type": "scatterpolargl"
           }
          ],
          "scatterternary": [
           {
            "marker": {
             "colorbar": {
              "outlinewidth": 0,
              "ticks": ""
             }
            },
            "type": "scatterternary"
           }
          ],
          "surface": [
           {
            "colorbar": {
             "outlinewidth": 0,
             "ticks": ""
            },
            "colorscale": [
             [
              0,
              "#0d0887"
             ],
             [
              0.1111111111111111,
              "#46039f"
             ],
             [
              0.2222222222222222,
              "#7201a8"
             ],
             [
              0.3333333333333333,
              "#9c179e"
             ],
             [
              0.4444444444444444,
              "#bd3786"
             ],
             [
              0.5555555555555556,
              "#d8576b"
             ],
             [
              0.6666666666666666,
              "#ed7953"
             ],
             [
              0.7777777777777778,
              "#fb9f3a"
             ],
             [
              0.8888888888888888,
              "#fdca26"
             ],
             [
              1,
              "#f0f921"
             ]
            ],
            "type": "surface"
           }
          ],
          "table": [
           {
            "cells": {
             "fill": {
              "color": "#EBF0F8"
             },
             "line": {
              "color": "white"
             }
            },
            "header": {
             "fill": {
              "color": "#C8D4E3"
             },
             "line": {
              "color": "white"
             }
            },
            "type": "table"
           }
          ]
         },
         "layout": {
          "annotationdefaults": {
           "arrowcolor": "#2a3f5f",
           "arrowhead": 0,
           "arrowwidth": 1
          },
          "autotypenumbers": "strict",
          "coloraxis": {
           "colorbar": {
            "outlinewidth": 0,
            "ticks": ""
           }
          },
          "colorscale": {
           "diverging": [
            [
             0,
             "#8e0152"
            ],
            [
             0.1,
             "#c51b7d"
            ],
            [
             0.2,
             "#de77ae"
            ],
            [
             0.3,
             "#f1b6da"
            ],
            [
             0.4,
             "#fde0ef"
            ],
            [
             0.5,
             "#f7f7f7"
            ],
            [
             0.6,
             "#e6f5d0"
            ],
            [
             0.7,
             "#b8e186"
            ],
            [
             0.8,
             "#7fbc41"
            ],
            [
             0.9,
             "#4d9221"
            ],
            [
             1,
             "#276419"
            ]
           ],
           "sequential": [
            [
             0,
             "#0d0887"
            ],
            [
             0.1111111111111111,
             "#46039f"
            ],
            [
             0.2222222222222222,
             "#7201a8"
            ],
            [
             0.3333333333333333,
             "#9c179e"
            ],
            [
             0.4444444444444444,
             "#bd3786"
            ],
            [
             0.5555555555555556,
             "#d8576b"
            ],
            [
             0.6666666666666666,
             "#ed7953"
            ],
            [
             0.7777777777777778,
             "#fb9f3a"
            ],
            [
             0.8888888888888888,
             "#fdca26"
            ],
            [
             1,
             "#f0f921"
            ]
           ],
           "sequentialminus": [
            [
             0,
             "#0d0887"
            ],
            [
             0.1111111111111111,
             "#46039f"
            ],
            [
             0.2222222222222222,
             "#7201a8"
            ],
            [
             0.3333333333333333,
             "#9c179e"
            ],
            [
             0.4444444444444444,
             "#bd3786"
            ],
            [
             0.5555555555555556,
             "#d8576b"
            ],
            [
             0.6666666666666666,
             "#ed7953"
            ],
            [
             0.7777777777777778,
             "#fb9f3a"
            ],
            [
             0.8888888888888888,
             "#fdca26"
            ],
            [
             1,
             "#f0f921"
            ]
           ]
          },
          "colorway": [
           "#636efa",
           "#EF553B",
           "#00cc96",
           "#ab63fa",
           "#FFA15A",
           "#19d3f3",
           "#FF6692",
           "#B6E880",
           "#FF97FF",
           "#FECB52"
          ],
          "font": {
           "color": "#2a3f5f"
          },
          "geo": {
           "bgcolor": "white",
           "lakecolor": "white",
           "landcolor": "#E5ECF6",
           "showlakes": true,
           "showland": true,
           "subunitcolor": "white"
          },
          "hoverlabel": {
           "align": "left"
          },
          "hovermode": "closest",
          "mapbox": {
           "style": "light"
          },
          "paper_bgcolor": "white",
          "plot_bgcolor": "#E5ECF6",
          "polar": {
           "angularaxis": {
            "gridcolor": "white",
            "linecolor": "white",
            "ticks": ""
           },
           "bgcolor": "#E5ECF6",
           "radialaxis": {
            "gridcolor": "white",
            "linecolor": "white",
            "ticks": ""
           }
          },
          "scene": {
           "xaxis": {
            "backgroundcolor": "#E5ECF6",
            "gridcolor": "white",
            "gridwidth": 2,
            "linecolor": "white",
            "showbackground": true,
            "ticks": "",
            "zerolinecolor": "white"
           },
           "yaxis": {
            "backgroundcolor": "#E5ECF6",
            "gridcolor": "white",
            "gridwidth": 2,
            "linecolor": "white",
            "showbackground": true,
            "ticks": "",
            "zerolinecolor": "white"
           },
           "zaxis": {
            "backgroundcolor": "#E5ECF6",
            "gridcolor": "white",
            "gridwidth": 2,
            "linecolor": "white",
            "showbackground": true,
            "ticks": "",
            "zerolinecolor": "white"
           }
          },
          "shapedefaults": {
           "line": {
            "color": "#2a3f5f"
           }
          },
          "ternary": {
           "aaxis": {
            "gridcolor": "white",
            "linecolor": "white",
            "ticks": ""
           },
           "baxis": {
            "gridcolor": "white",
            "linecolor": "white",
            "ticks": ""
           },
           "bgcolor": "#E5ECF6",
           "caxis": {
            "gridcolor": "white",
            "linecolor": "white",
            "ticks": ""
           }
          },
          "title": {
           "x": 0.05
          },
          "xaxis": {
           "automargin": true,
           "gridcolor": "white",
           "linecolor": "white",
           "ticks": "",
           "title": {
            "standoff": 15
           },
           "zerolinecolor": "white",
           "zerolinewidth": 2
          },
          "yaxis": {
           "automargin": true,
           "gridcolor": "white",
           "linecolor": "white",
           "ticks": "",
           "title": {
            "standoff": 15
           },
           "zerolinecolor": "white",
           "zerolinewidth": 2
          }
         }
        },
        "xaxis": {
         "anchor": "y",
         "domain": [
          0,
          1
         ],
         "title": {
          "text": "x"
         }
        },
        "yaxis": {
         "anchor": "x",
         "domain": [
          0,
          1
         ],
         "title": {
          "text": "y"
         }
        }
       }
      },
      "text/html": [
       "<div>                            <div id=\"cb2e30e5-5e78-4ec6-ae4d-d746d680e02b\" class=\"plotly-graph-div\" style=\"height:525px; width:100%;\"></div>            <script type=\"text/javascript\">                require([\"plotly\"], function(Plotly) {                    window.PLOTLYENV=window.PLOTLYENV || {};                                    if (document.getElementById(\"cb2e30e5-5e78-4ec6-ae4d-d746d680e02b\")) {                    Plotly.newPlot(                        \"cb2e30e5-5e78-4ec6-ae4d-d746d680e02b\",                        [{\"customdata\":[[\"['classic rock', 'country rock', 'folk', 'folk rock', 'rock', 'roots rock', 'singer-songwriter']\"],[\"['grunge', 'permanent wave', 'rock']\"],[\"['beatlesque', 'british invasion', 'classic rock', 'merseybeat', 'psychedelic rock', 'rock']\"],[\"['baroque pop', 'classic rock', 'psychedelic rock', 'rock', 'sunshine pop']\"],[\"['classic rock', 'rock', 'rock-and-roll', 'rockabilly']\"],[\"['classic soul', 'jazz blues', 'memphis soul', 'soul', 'southern soul']\"],[\"['adult standards', 'brill building pop', 'classic girl group', 'soul']\"],[\"['classic soul', 'funk', 'indie r&b', 'motown', 'northern soul', 'quiet storm', 'soul']\"],[\"['classic soul', 'funk', 'indie r&b', 'motown', 'northern soul', 'quiet storm', 'soul']\"],[\"['british invasion', 'classic rock', 'rock']\"],[\"['pop', 'r&b', 'soul']\"],[\"['rock-and-roll', 'rockabilly']\"],[\"['classic rock', 'heartland rock', 'mellow gold', 'permanent wave', 'rock', 'singer-songwriter']\"],[\"['album rock', 'art rock', 'blues rock', 'british invasion', 'classic rock', 'hard rock', 'mellow gold', 'psychedelic rock', 'rock']\"],[\"['alternative rock', 'art rock', 'madchester', 'new wave', 'post-punk', 'rock', 'uk post-punk']\"],[\"['baroque pop', 'classic rock', 'psychedelic rock', 'rock', 'sunshine pop']\"],[\"['classic soul', 'memphis soul', 'soul', 'soul blues', 'southern soul']\"],[\"['atl hip hop', 'dirty south rap', 'hip hop', 'old school atlanta hip hop', 'pop rap', 'rap', 'southern hip hop']\"],[\"['punk', 'rock']\"],[\"['dance pop', 'indietronica', 'new rave']\"],[\"['classic rock', 'permanent wave', 'punk', 'rock']\"],[\"['british invasion', 'classic rock', 'rock']\"],[\"['beatlesque', 'british invasion', 'classic rock', 'merseybeat', 'psychedelic rock', 'rock']\"],[\"['rock-and-roll', 'rockabilly', 'soul']\"],[\"['album rock', 'classic rock', 'hard rock', 'rock']\"],[\"['bronx hip hop', 'electro', 'old school hip hop']\"],[\"['adult standards', 'classic soul', 'jazz blues', 'piano blues', 'soul', 'soul blues', 'vocal jazz']\"],[\"['album rock', 'beatlesque', 'classic rock', 'mellow gold', 'rock']\"],[\"['adult standards', 'classic soul', 'rock-and-roll', 'soul']\"],[\"['art rock', 'classic rock', 'glam rock', 'permanent wave', 'rock']\"],[\"['funk', 'funk rock', 'minneapolis sound', 'synth funk']\"],[\"['adult standards', 'motown', 'soul']\"],[\"['alternative rock', 'art rock', 'britpop', 'indie rock', 'new wave', 'permanent wave', 'pop rock', 'rock', 'sheffield indie']\"],[\"['british invasion', 'classic rock', 'rock']\"],[\"['adult standards', 'harlem renaissance', 'jazz', 'jazz blues', 'lounge', 'torch song', 'vocal jazz']\"],[\"['album rock', 'art rock', 'british invasion', 'classic rock', 'folk rock', 'glam rock', 'mellow gold', 'protopunk', 'psychedelic rock', 'rock']\"],[\"['dance pop', 'pop', 'r&b']\"],[\"['alternative rock', 'blues rock', 'detroit rock', 'garage rock', 'modern blues rock', 'modern rock', 'permanent wave', 'punk blues', 'rock']\"],[\"['alternative rock', 'athens indie', 'permanent wave', 'pop rock', 'rock']\"],[\"['punk', 'rock']\"],[\"['classic rock', 'glam rock', 'rock']\"],[\"['alternative rock', 'art rock', 'dance rock', 'madchester', 'new romantic', 'new wave', 'new wave pop', 'permanent wave', 'pop rock', 'post-punk', 'rock', 'synthpop', 'uk post-punk']\"],[\"['acid rock', 'album rock', 'blues rock', 'classic rock', 'hard rock', 'proto-metal', 'psychedelic rock', 'rock']\"],[\"['classic garage rock']\"],[\"['adult standards', 'motown']\"],[\"['atl hip hop', 'neo soul']\"],[\"['adult standards', 'brill building pop', 'bubblegum pop', 'rock-and-roll', 'rockabilly']\"],[\"['beatlesque', 'british invasion', 'classic rock', 'merseybeat', 'psychedelic rock', 'rock']\"],[\"['album rock', 'art rock', 'british invasion', 'classic rock', 'folk rock', 'glam rock', 'mellow gold', 'protopunk', 'psychedelic rock', 'rock']\"],[\"['alternative rock', 'dance rock', 'indie rock', 'modern rock', 'rock', 'scottish rock']\"],[\"['dance pop', 'hip hop', 'hip pop', 'pop rap', 'r&b', 'rap', 'urban contemporary', 'virginia hip hop']\"],[\"['rock-and-roll', 'rockabilly']\"],[\"['acid rock', 'album rock', 'classic rock', 'psychedelic rock', 'rock']\"],[\"['dance pop', 'disco', 'hi-nrg', 'new wave pop']\"],[\"['madchester', 'new wave', 'permanent wave', 'rock', 'uk post-punk']\"],[\"['art rock', 'classic rock', 'glam rock', 'permanent wave', 'rock']\"],[\"['adult standards', 'rock-and-roll', 'soul']\"],[\"['art rock', 'beatlesque', 'blues rock', 'classic rock', 'cosmic american', 'country rock', 'folk', 'folk rock', 'mellow gold', 'psychedelic rock', 'rock', 'roots rock', 'soft rock']\"],[\"['alternative rock', 'britpop', 'permanent wave', 'pop rock', 'rock', 'shoegaze']\"],[\"['adult standards', 'rock-and-roll', 'rockabilly']\"],[\"['album rock', 'art rock', 'blues', 'blues rock', 'british blues', 'classic rock', 'country rock', 'electric blues', 'folk rock', 'hard rock', 'mellow gold', 'psychedelic rock', 'rock', 'roots rock', 'soft rock', 'symphonic rock']\"],[\"['classic soul', 'funk', 'soul', 'southern soul']\"],[\"['downtempo', 'electronica', 'trip hop']\"],[\"['alternative rock', 'anti-folk', 'indie rock', 'modern rock', 'permanent wave', 'rock']\"],[\"['conscious hip hop', 'east coast hip hop', 'gangster rap', 'golden age hip hop', 'hardcore hip hop', 'hip hop', 'old school hip hop', 'political hip hop', 'rap', 'rap rock']\"],[\"['art punk', 'art rock', 'dance rock', 'funk rock', 'new wave', 'permanent wave', 'post-punk', 'rock', 'zolo']\"],[\"['alternative rock', 'art rock', 'melancholia', 'oxford indie', 'permanent wave', 'rock']\"],[\"['album rock', 'classic rock', 'hard rock', 'rock']\"],[\"['conscious hip hop', 'hip hop', 'rap', 'west coast rap']\"],[\"['album rock', 'blues rock', 'british invasion', 'classic rock', 'folk rock', 'protopunk', 'psychedelic rock', 'rock']\"],[\"['art rock', 'classic rock', 'glam rock', 'permanent wave', 'psychedelic rock', 'rock', 'singer-songwriter']\"],[\"['album rock', 'classic rock', 'folk rock', 'heartland rock', 'mellow gold', 'rock', 'soft rock', 'yacht rock']\"],[\"['east coast hip hop', 'hip hop', 'rap']\"],[\"['art pop', 'dance pop', 'electropop', 'europop', 'pop', 'scandipop', 'swedish electropop', 'swedish pop']\"],[\"['dance pop', 'pop', 'r&b']\"],[\"['classic soul', 'funk', 'memphis soul', 'quiet storm', 'soul', 'soul blues', 'southern soul']\"],[\"['british invasion', 'classic rock', 'rock']\"],[\"['alternative dance', 'alternative rock', 'dance rock', 'dance-punk', 'electronic rock', 'electronica', 'indie rock', 'indietronica', 'modern rock', 'new rave', 'rock']\"],[\"['bubblegum pop', 'classic rock', 'folk rock', 'mellow gold', 'psychedelic rock', 'rock', 'sunshine pop']\"],[\"['classic rock', 'early us punk', 'permanent wave', 'punk', 'rock']\"],[\"['classic girl group', 'classic soul', 'disco', 'funk', 'motown', 'quiet storm', 'rock-and-roll', 'soul']\"],[\"['rock-and-roll', 'rockabilly']\"],[\"['art pop', 'canadian electropop', 'dance pop', 'grave wave', 'indietronica', 'metropopolis', 'pop']\"],[\"['beatlesque', 'british invasion', 'classic rock', 'merseybeat', 'psychedelic rock', 'rock']\"],[\"['acid rock', 'album rock', 'blues rock', 'classic rock', 'hard rock', 'proto-metal', 'psychedelic rock', 'rock']\"],[\"['lilith', 'new wave pop', 'pop rock']\"],[\"['madchester', 'new wave', 'permanent wave', 'rock', 'uk post-punk']\"],[\"['glam metal', 'hard rock', 'rock']\"],[\"['blues rock', 'classic rock', 'country rock', 'folk', 'folk rock', 'mellow gold', 'psychedelic rock', 'rock', 'roots rock', 'soft rock']\"],[\"['album rock', 'blues rock', 'classic canadian rock', 'classic rock', 'cosmic american', 'country rock', 'folk', 'folk rock', 'heartland rock', 'mellow gold', 'rock', 'roots rock', 'soft rock', 'swamp rock']\"],[\"['chicago rap', 'rap']\"],[\"['punk', 'ska', 'ska revival']\"],[\"['art pop', 'metropopolis', 'nz pop', 'pop']\"],[\"['electro', 'filter house']\"],[\"['rock-and-roll', 'rockabilly']\"],[\"['art rock', 'classic rock', 'glam rock', 'permanent wave', 'rock']\"],[\"['adult standards', 'classic soul', 'disco', 'funk', 'mellow gold', 'motown', 'quiet storm', 'soul']\"],[\"['rock-and-roll', 'rockabilly']\"],[\"['funk', 'soul']\"],[\"['beatlesque', 'britpop', 'madchester', 'permanent wave', 'pop rock', 'rock']\"],[\"['alternative rock', 'art rock', 'classic rock', 'folk rock', 'melancholia', 'permanent wave', 'protopunk', 'psychedelic rock', 'rock']\"],[\"['piano rock', 'rock-and-roll', 'rockabilly']\"],[\"['classic rock', 'heartland rock', 'mellow gold', 'permanent wave', 'rock', 'singer-songwriter']\"],[\"['irish rock', 'permanent wave', 'rock']\"],[\"['alternative rock', 'art rock', 'classic rock', 'folk rock', 'melancholia', 'permanent wave', 'protopunk', 'psychedelic rock', 'rock']\"],[\"['classic soul', 'funk', 'motown', 'quiet storm', 'soul', 'southern soul']\"],[\"['beatlesque', 'british invasion', 'classic rock', 'merseybeat', 'psychedelic rock', 'rock']\"],[\"['europop', 'swedish pop']\"],[\"['adult standards', 'rock-and-roll', 'rockabilly']\"],[\"['madchester', 'new wave', 'permanent wave', 'rock', 'uk post-punk']\"],[\"['rock-and-roll', 'rockabilly']\"],[\"['disco', 'funk', 'post-disco', 'quiet storm', 'soul']\"],[\"['hip hop', 'lgbtq+ hip hop', 'neo soul']\"],[\"['classic soul', 'funk', 'memphis soul', 'motown', 'soul']\"],[\"['british invasion', 'classic rock', 'rock']\"],[\"['art pop', 'pop']\"],[\"['british soul', 'neo soul']\"],[\"['east coast hip hop', 'electro', 'funk', 'hip hop', 'hip house', 'new jersey rap', 'old school hip hop', 'rap']\"],[\"['classic rock', 'folk', 'folk rock', 'melancholia', 'mellow gold', 'rock']\"],[\"['classic rock', 'country rock', 'rock', 'southern rock', 'swamp rock']\"],[\"['funk', 'soul']\"],[\"['classic rock', 'folk', 'folk rock', 'melancholia', 'mellow gold', 'rock']\"],[\"['reggae', 'roots reggae']\"],[\"['classic rock', 'country rock', 'rock', 'southern rock', 'swamp rock']\"],[\"['album rock', 'classic rock', 'mellow gold', 'permanent wave', 'rock']\"],[\"['classic rock', 'rock', 'rock-and-roll', 'rockabilly']\"],[\"['album rock', 'art rock', 'blues rock', 'british invasion', 'classic rock', 'folk rock', 'progressive rock', 'psychedelic rock', 'symphonic rock']\"],[\"['french shoegaze', 'french synthpop', 'indietronica', 'metropopolis', 'neo-synthpop']\"],[\"['alternative dance', 'alternative rock', 'dance rock', 'dance-punk', 'electronic rock', 'electronica', 'indie rock', 'indietronica', 'modern rock', 'new rave', 'rock']\"],[\"['honky tonk', 'traditional country', 'yodeling']\"],[\"['art rock', 'beatlesque', 'blues rock', 'classic rock', 'cosmic american', 'country rock', 'folk', 'folk rock', 'mellow gold', 'psychedelic rock', 'rock', 'roots rock', 'soft rock']\"],[\"['alternative dance', 'big beat', 'electronica']\"],[\"['piano rock', 'rock-and-roll', 'rockabilly']\"],[\"['classic soul', 'funk', 'instrumental funk', 'instrumental soul', 'memphis soul', 'soul', 'southern soul']\"],[\"['alternative dance', 'alternative rock', 'dance-punk', 'garage rock', 'indie rock', 'modern rock', 'new rave', 'rock']\"],[\"['barbadian pop', 'dance pop', 'pop', 'urban contemporary']\"],[\"['beatlesque', 'british invasion', 'classic rock', 'merseybeat', 'psychedelic rock', 'rock']\"],[\"['disco', 'mellow gold', 'soft rock']\"],[\"['classic rock', 'country rock', 'folk', 'folk rock', 'rock', 'roots rock', 'singer-songwriter']\"],[\"['mellow gold', 'soft rock']\"],[\"['adult standards', 'classic girl group', 'doo-wop', 'rhythm and blues', 'rock-and-roll', 'rockabilly', 'soul']\"],[\"['alternative dance', 'baltimore indie', 'chillwave', 'indie rock', 'modern rock', 'new rave']\"],[\"['alternative rock', 'art rock', 'melancholia', 'oxford indie', 'permanent wave', 'rock']\"],[\"['rock-and-roll', 'rockabilly']\"],[\"['album rock', 'birmingham metal', 'classic rock', 'hard rock', 'metal', 'rock', 'stoner rock', 'uk doom metal']\"],[\"['candy pop', 'new wave', 'new wave pop', 'permanent wave', 'power pop', 'rock']\"],[\"['album rock', 'classic rock', 'hard rock', 'rock']\"],[\"['east coast hip hop', 'golden age hip hop', 'hardcore hip hop', 'hip hop', 'old school hip hop', 'queens hip hop', 'rap']\"],[\"['dance pop']\"],[\"['alternative rock', 'art punk', 'art rock', 'experimental', 'indie rock', 'new wave', 'no wave', 'post-punk', 'protopunk', 'psychedelic rock', 'punk', 'punk blues']\"],[\"['canadian hip hop', 'canadian pop', 'hip hop', 'rap', 'toronto rap']\"],[\"['beatlesque', 'britpop', 'madchester', 'permanent wave', 'pop rock', 'rock']\"],[\"['alternative dance', 'indietronica', 'modern rock', 'rock']\"],[\"['soul', 'southern soul']\"],[\"['british invasion', 'classic rock', 'rock']\"],[\"['']\"],[\"['beatlesque', 'british invasion', 'classic rock', 'merseybeat', 'psychedelic rock', 'rock']\"],[\"['american folk revival', 'appalachian folk', 'folk', 'old-time', 'protest folk', 'singer-songwriter', 'traditional blues', 'traditional folk']\"],[\"['adult standards', 'bubblegum pop', 'mellow gold', 'rock-and-roll', 'rockabilly']\"],[\"['rock-and-roll', 'rockabilly']\"],[\"['east coast hip hop', 'hip hop', 'rap']\"],[\"['garage rock', 'modern rock', 'permanent wave', 'rock', 'sheffield indie']\"],[\"['dance pop']\"],[\"['dance pop']\"],[\"['australian psych', 'neo-psychedelic']\"],[\"['afrofuturism', 'alternative r&b', 'dance pop', 'escape room', 'hip pop', 'indie soul', 'neo soul', 'r&b', 'urban contemporary']\"],[\"['alternative rock', 'britpop', 'madchester', 'modern rock', 'permanent wave', 'pop rock', 'rock']\"],[\"['funk', 'funk rock', 'minneapolis sound', 'synth funk']\"],[\"['art pop', 'art rock', 'baroque pop', 'new wave pop', 'permanent wave', 'piano rock', 'singer-songwriter']\"],[\"['classic rock', 'heartland rock', 'mellow gold', 'permanent wave', 'rock', 'singer-songwriter']\"],[\"['alternative dance', 'indietronica', 'modern rock', 'rock']\"],[\"['g funk', 'gangster rap', 'hip hop', 'rap', 'west coast rap']\"],[\"['adult standards', 'bubblegum pop', 'classic rock', 'folk rock', 'lounge', 'rock-and-roll', 'rockabilly']\"],[\"['acid rock', 'blues rock', 'classic rock', 'folk rock', 'psychedelic rock', 'rock']\"],[\"['funk', 'funk rock', 'minneapolis sound', 'synth funk']\"],[\"['irish rock', 'permanent wave', 'rock']\"],[\"['art punk', 'art rock', 'dance rock', 'funk rock', 'new wave', 'permanent wave', 'post-punk', 'rock', 'zolo']\"],[\"['new romantic', 'new wave', 'new wave pop', 'synthpop']\"],[\"['funk', 'funk rock', 'minneapolis sound', 'synth funk']\"],[\"['classic rock', 'classic soul', 'disco', 'funk', 'funk rock', 'psychedelic soul', 'rock', 'soul']\"],[\"['australian dance', 'australian pop', 'dance pop', 'electropop', 'eurodance', 'europop', 'new wave pop', 'pop']\"],[\"['british invasion', 'classic rock', 'rock']\"],[\"['brooklyn indie', 'indie pop']\"],[\"['dusseldorf electronic', 'early synthpop', 'electro', 'new romantic', 'new wave', 'proto-techno', 'synthpop']\"],[\"['alternative rock', 'art pop', 'baltimore indie', 'chillwave', 'dream pop', 'experimental pop', 'freak folk', 'indie rock', 'modern rock', 'new rave', 'noise pop']\"],[\"['beatlesque', 'british invasion', 'classic rock', 'merseybeat', 'psychedelic rock', 'rock']\"],[\"['album rock', 'art rock', 'blues rock', 'classic rock', 'folk rock', 'glam rock', 'protopunk', 'psychedelic rock', 'rock']\"],[\"['britpop', 'pop rock', 'rock']\"],[\"['beatlesque', 'british invasion', 'classic rock', 'merseybeat', 'psychedelic rock', 'rock']\"],[\"['alternative dance', 'dance-punk', 'electroclash', 'electronica', 'indie rock', 'modern rock', 'new rave']\"],[\"['alternative rock', 'garage rock', 'modern rock', 'permanent wave', 'rock']\"],[\"['disco', 'funk', 'post-disco', 'quiet storm', 'soul']\"],[\"['album rock', 'art rock', 'blues rock', 'british invasion', 'classic rock', 'hard rock', 'mellow gold', 'psychedelic rock', 'rock']\"],[\"['beatlesque', 'british invasion', 'classic rock', 'merseybeat', 'psychedelic rock', 'rock']\"],[\"['arkansas country', 'outlaw country']\"],[\"['atl hip hop', 'dirty south rap', 'hip hop', 'old school atlanta hip hop', 'pop rap', 'rap', 'southern hip hop']\"],[\"['adult standards', 'brill building pop', 'disco', 'lounge', 'mellow gold', 'quiet storm', 'soft rock']\"],[\"['arkansas country', 'outlaw country']\"],[\"['funk', 'funk rock', 'minneapolis sound', 'synth funk']\"],[\"['art pop', 'electropop', 'pop']\"],[\"['mod revival', 'new wave', 'new wave pop', 'northern irish punk', 'post-punk', 'pub rock', 'punk', 'ska']\"],[\"['atl hip hop', 'hip hop', 'rap']\"],[\"['classic rock', 'country rock', 'folk', 'folk rock', 'rock', 'roots rock', 'singer-songwriter']\"],[\"['arkansas country', 'outlaw country']\"],[\"['classic rock', 'folk', 'folk rock', 'mellow gold', 'rock', 'roots rock', 'singer-songwriter', 'soft rock']\"],[\"['adult standards', 'louisiana blues', 'lounge', 'new orleans blues', 'piano blues', 'rock-and-roll', 'rockabilly', 'soul']\"],[\"['bronx hip hop', 'east coast hip hop', 'electro', 'hip hop', 'old school hip hop']\"],[\"['adult standards', 'nashville sound']\"],[\"['blues', 'blues rock', 'chicago blues', 'electric blues', 'rhythm and blues', 'rock-and-roll', 'rockabilly', 'soul', 'traditional blues']\"],[\"['classic rock', 'country rock', 'folk', 'folk rock', 'rock', 'roots rock', 'singer-songwriter']\"],[\"['alternative rock', 'dance rock', 'permanent wave', 'rock']\"],[\"['chicago soul', 'classic soul', 'funk', 'quiet storm', 'rhythm and blues', 'soul']\"],[\"['art rock', 'classic rock', 'glam rock', 'melancholia', 'mellow gold', 'new romantic', 'new wave', 'new wave pop', 'rock', 'soft rock', 'sophisti-pop']\"],[\"['adult standards', 'bubblegum pop', 'merseybeat', 'rock-and-roll', 'rockabilly']\"],[\"['album rock', 'art rock', 'blues rock', 'british invasion', 'classic rock', 'hard rock', 'mellow gold', 'psychedelic rock', 'rock']\"],[\"['album rock', 'classic rock', 'rock', 'soft rock', 'yacht rock']\"],[\"['afrofuturism', 'alternative r&b', 'art pop', 'escape room', 'experimental r&b', 'pop', 'trip hop']\"],[\"['classic rock', 'permanent wave', 'punk', 'rock']\"],[\"['album rock', 'art rock', 'blues rock', 'classic rock', 'hard rock', 'metal', 'rock']\"],[\"['beatlesque', 'british invasion', 'classic rock', 'merseybeat', 'psychedelic rock', 'rock']\"],[\"['album rock', 'blues rock', 'classic rock', 'hard rock', 'metal', 'psychedelic rock', 'rock']\"],[\"['dance pop', 'pop']\"],[\"['boston rock']\"],[\"['art rock', 'new romantic', 'new wave', 'new wave pop', 'permanent wave', 'rock', 'soft rock', 'sophisti-pop', 'synthpop']\"],[\"['dance pop', 'indietronica', 'new rave']\"],[\"['art rock', 'classic rock', 'glam rock', 'permanent wave', 'rock']\"],[\"['pop', 'r&b', 'soul']\"],[\"['beatlesque', 'british invasion', 'classic rock', 'merseybeat', 'psychedelic rock', 'rock']\"],[\"['rock-and-roll', 'rockabilly']\"],[\"['classic soul', 'funk', 'memphis soul', 'motown', 'soul']\"],[\"['british soul', 'pop', 'pop soul', 'uk pop']\"],[\"['adult standards', 'motown', 'soul']\"],[\"['british blues', 'british invasion', 'classic rock', 'folk rock', 'protopunk', 'psychedelic rock', 'rock', 'roots rock']\"],[\"['classic soul', 'memphis soul', 'soul', 'soul blues', 'southern soul']\"],[\"['alternative rock', 'blues rock', 'classic rock', 'detroit rock', 'garage rock', 'new wave', 'permanent wave', 'post-punk', 'protopunk', 'punk', 'punk blues', 'rock']\"],[\"['alternative metal', 'alternative rock', 'grunge', 'permanent wave', 'pop rock', 'rock', 'spacegrunge']\"],[\"['bossa nova', 'cool jazz', 'jazz', 'jazz saxophone', 'latin jazz', 'lounge', 'samba-jazz']\"],[\"['adult standards', 'classic soul', 'rock-and-roll', 'soul']\"],[\"['british invasion', 'bubblegum pop', 'classic garage rock', 'classic rock', 'folk rock', 'freakbeat', 'merseybeat', 'psychedelic rock', 'rock-and-roll']\"],[\"['art rock', 'classic rock', 'glam rock', 'permanent wave', 'rock']\"],[\"['classic soul', 'funk', 'memphis soul', 'rock-and-roll', 'soul', 'southern soul']\"],[\"['adult standards', 'arkansas country', 'classic country pop', 'classic rock', 'folk rock', 'lounge', 'mellow gold', 'nashville sound', 'soft rock']\"],[\"['funk', 'soul']\"],[\"['alternative rock', 'art rock', 'melancholia', 'oxford indie', 'permanent wave', 'rock']\"],[\"['album rock', 'art rock', 'blues rock', 'classic rock', 'folk rock', 'hard rock', 'psychedelic rock', 'rock', 'roots rock', 'supergroup', 'symphonic rock']\"],[\"['alternative rock', 'blues rock', 'classic rock', 'detroit rock', 'garage rock', 'new wave', 'permanent wave', 'post-punk', 'protopunk', 'punk', 'punk blues', 'rock']\"],[\"['beatlesque', 'british invasion', 'classic rock', 'merseybeat', 'psychedelic rock', 'rock']\"],[\"['alternative rock', 'madchester', 'new wave', 'post-punk', 'pub rock', 'punk']\"],[\"['classic rock', 'country rock', 'folk', 'folk rock', 'rock', 'roots rock', 'singer-songwriter']\"],[\"['irish rock', 'permanent wave', 'rock']\"],[\"['rock-and-roll', 'rockabilly']\"],[\"['brill building pop', 'classic girl group']\"],[\"['classic soul', 'funk', 'indie r&b', 'motown', 'northern soul', 'quiet storm', 'soul']\"],[\"['adult standards', 'rock-and-roll', 'rockabilly']\"],[\"['alternative dance', 'alternative rock', 'dance rock', 'dance-punk', 'electronic rock', 'electronica', 'indie rock', 'indietronica', 'modern rock', 'new rave', 'rock']\"],[\"['art rock', 'dance rock', 'hi-nrg', 'new romantic', 'new wave', 'new wave pop', 'synthpop']\"],[\"['dusseldorf electronic', 'early synthpop', 'electro', 'new romantic', 'new wave', 'proto-techno', 'synthpop']\"],[\"['baroque pop', 'canadian indie', 'indie rock', 'modern rock', 'permanent wave', 'quebec indie', 'rock']\"],[\"['baroque pop', 'classic rock', 'psychedelic rock', 'rock', 'sunshine pop']\"],[\"['alternative rock', 'boston rock', 'modern rock', 'permanent wave', 'rock']\"],[\"['alternative rock', 'art rock', 'classic rock', 'folk rock', 'melancholia', 'permanent wave', 'protopunk', 'psychedelic rock', 'rock']\"],[\"['doo-wop', 'rhythm and blues', 'rock-and-roll']\"],[\"['art pop', 'art rock', 'baroque pop', 'new wave pop', 'permanent wave', 'piano rock', 'singer-songwriter']\"],[\"['pop', 'r&b', 'soul']\"],[\"['album rock', 'art rock', 'classic rock', 'progressive rock', 'psychedelic rock', 'rock', 'symphonic rock']\"],[\"['alternative rock', 'east coast hip hop', 'golden age hip hop', 'hip hop', 'old school hip hop', 'rap', 'rap rock', 'rock']\"],[\"['acid rock', 'art rock', 'classic rock', 'country rock', 'experimental', 'folk rock', 'psychedelic rock', 'rock', 'roots rock']\"],[\"['electro', 'filter house']\"],[\"['art pop', 'metropopolis', 'nz pop', 'pop']\"],[\"['alternative dance', 'art pop', 'dance rock', 'electronica', 'electropop', 'indie rock', 'indietronica', 'modern rock', 'neo-synthpop', 'new rave']\"],[\"['album rock', 'art rock', 'blues rock', 'classic rock', 'classic uk pop', 'folk rock', 'glam rock', 'hard rock', 'power pop', 'protopunk', 'psychedelic rock', 'pub rock']\"],[\"['album rock', 'art rock', 'blues rock', 'classic rock', 'hard rock', 'irish rock', 'metal', 'rock']\"],[\"['detroit hip hop', 'hip hop', 'rap']\"],[\"['alternative r&b', 'dance pop', 'escape room', 'hip house', 'lgbtq+ hip hop', 'pop', 'rap', 'trap queen']\"],[\"['big beat', 'breakbeat', 'dance rock', 'hardcore techno', 'rave']\"],[\"['classic garage rock', 'detroit rock', 'garage rock', 'proto-metal', 'protopunk', 'pub rock', 'punk', 'punk blues']\"],[\"['album rock', 'art rock', 'classic rock', 'progressive rock', 'psychedelic rock', 'rock', 'symphonic rock']\"],[\"['alternative dance', 'art pop', 'baroque pop', 'brooklyn indie', 'chillwave', 'dream pop', 'indie rock', 'modern rock', 'new weird america', 'stomp and holler']\"],[\"['alternative rock', 'britpop', 'madchester', 'modern rock', 'permanent wave', 'pop rock', 'rock']\"],[\"['adult standards', 'british invasion', 'classic rock', 'folk', 'folk rock', 'mellow gold', 'rock', 'soul']\"],[\"['alternative pop', 'alternative rock', 'anti-folk', 'boston rock', 'dream pop', 'lo-fi', 'new wave', 'pop rock', 'post-punk']\"],[\"['atl hip hop', 'dirty south rap', 'hip hop', 'old school atlanta hip hop', 'pop rap', 'rap', 'southern hip hop']\"],[\"['hip hop', 'lgbtq+ hip hop', 'neo soul']\"],[\"['reggae', 'roots reggae']\"],[\"['chicago rap', 'rap']\"],[\"['ska']\"],[\"['beatlesque', 'british invasion', 'classic rock', 'merseybeat', 'psychedelic rock', 'rock']\"],[\"['arkansas country', 'outlaw country']\"],[\"['classic soul', 'funk', 'indie r&b', 'motown', 'northern soul', 'quiet storm', 'soul']\"],[\"['acoustic blues', 'blues', 'delta blues', 'pre-war blues', 'traditional blues']\"],[\"['australian rock', 'hard rock', 'rock']\"],[\"['acid rock', 'album rock', 'blues rock', 'classic canadian rock', 'classic rock', 'country rock', 'folk rock', 'hard rock', 'mellow gold', 'proto-metal', 'psychedelic rock', 'rock', 'symphonic rock']\"],[\"['electro', 'filter house']\"],[\"['classic soul', 'disco', 'funk', 'jazz funk', 'memphis soul', 'quiet storm', 'soul', 'southern soul']\"],[\"['album rock', 'art rock', 'classic rock', 'folk rock', 'mellow gold', 'new romantic', 'new wave', 'new wave pop', 'permanent wave', 'pop rock', 'rock', 'soft rock']\"],[\"['blues', 'boogie-woogie', 'jump blues', 'rhythm and blues', 'rock-and-roll', 'rockabilly', 'traditional blues']\"],[\"['blues', 'blues rock', 'chicago blues', 'classic rock', 'electric blues', 'soul', 'traditional blues']\"],[\"['chicago rap', 'rap']\"],[\"['canadian singer-songwriter', 'folk', 'folk rock', 'melancholia', 'permanent wave', 'singer-songwriter']\"],[\"['adult standards', 'bubblegum pop', 'folk rock', 'lounge', 'mellow gold', 'rock-and-roll', 'rockabilly', 'sunshine pop']\"],[\"['ambient', 'braindance', 'electronica', 'intelligent dance music', 'uk experimental electronic']\"],[\"['alternative dance', 'art pop', 'dream pop', 'electroclash', 'electronica', 'electropop', 'gothenburg indie', 'neo-synthpop', 'new rave', 'swedish electropop', 'swedish synthpop']\"],[\"['album rock', 'blues rock', 'classic rock', 'detroit rock', 'glam metal', 'glam rock', 'hard rock', 'metal', 'protopunk', 'rock']\"],[\"['classic girl group', 'disco', 'funk', 'motown', 'quiet storm', 'soul']\"],[\"['chanson', 'torch song', 'vintage schlager']\"],[\"['alternative rock', 'blues rock', 'detroit rock', 'garage rock', 'modern blues rock', 'modern rock', 'permanent wave', 'punk blues', 'rock']\"],[\"['hard rock', 'metal', 'old school thrash', 'rock', 'thrash metal']\"],[\"['chanson', 'french rock']\"],[\"['alternative rock', 'boston rock', 'modern rock', 'permanent wave', 'rock']\"],[\"['bubblegum pop', 'chicano punk', 'classic garage rock', 'detroit rock', 'freakbeat', 'protopunk', 'psychedelic rock']\"],[\"['detroit hip hop', 'hip hop', 'rap']\"],[\"['alternative rock', 'athens indie', 'permanent wave', 'pop rock', 'rock']\"],[\"['conscious hip hop', 'east coast hip hop', 'gangster rap', 'golden age hip hop', 'hardcore hip hop', 'hip hop', 'old school hip hop', 'political hip hop', 'rap', 'rap rock']\"],[\"['album rock', 'hard rock', 'metal', 'rock', 'speed metal']\"],[\"['classic girl group', 'disco', 'funk', 'motown', 'quiet storm', 'soul']\"],[\"['alternative rock', 'art rock', 'indie rock', 'noise pop', 'noise rock', 'post-punk', 'rock']\"],[\"['adult standards', 'chicago soul', 'classic soul', 'funk', 'quiet storm', 'rhythm and blues', 'rock-and-roll', 'rockabilly', 'soul']\"],[\"['baroque pop', 'canadian indie', 'indie rock', 'modern rock', 'permanent wave', 'quebec indie', 'rock']\"],[\"['cosmic american', 'native american', 'punk blues', 'rock-and-roll', 'rockabilly', 'surf music']\"],[\"['blues rock', 'british blues', 'british invasion', 'bubblegum pop', 'classic rock', 'folk rock', 'merseybeat', 'protopunk', 'psychedelic rock', 'rock', 'rock-and-roll']\"],[\"['art punk', 'art rock', 'permanent wave', 'protopunk', 'rock']\"],[\"['australian rock', 'hard rock', 'rock']\"],[\"['british invasion', 'classic rock', 'rock']\"],[\"['art rock', 'bubblegum pop', 'classic rock', 'country rock', 'folk', 'folk rock', 'mellow gold', 'merseybeat', 'psychedelic rock', 'rock', 'rock-and-roll', 'roots rock', 'soft rock']\"],[\"['alternative dance', 'art pop', 'dance pop', 'electroclash', 'electronica', 'new rave', 'nu disco']\"],[\"['alternative metal', 'alternative rock', 'conscious hip hop', 'funk metal', 'nu metal', 'political hip hop', 'rap metal', 'rap rock', 'rock']\"],[\"['adult standards', 'bubblegum pop', 'mellow gold', 'rock-and-roll', 'rockabilly']\"],[\"['new wave', 'permanent wave', 'rock', 'uk post-punk']\"],[\"['art rock', 'dance rock', 'europop', 'mellow gold', 'new romantic', 'new wave', 'new wave pop', 'rock', 'soft rock', 'sophisti-pop', 'synthpop']\"],[\"['alternative dance', 'alternative rock', 'baroque pop', 'indie pop', 'indie rock', 'modern rock', 'new rave', 'stomp and holler', 'swedish alternative rock', 'swedish indie pop']\"],[\"['art pop', 'chamber pop', 'dream pop', 'indie pop', 'indie rock', 'melancholia', 'new jersey indie']\"],[\"['album rock', 'blues rock', 'classic rock', 'country rock', 'hard rock', 'mellow gold', 'rock', 'southern rock']\"],[\"['album rock', 'art rock', 'blues rock', 'british invasion', 'classic rock', 'hard rock', 'mellow gold', 'psychedelic rock', 'rock']\"],[\"['hip house']\"],[\"['alternative rock', 'double drumming', 'indie rock', 'modern rock', 'rock', 'washington indie']\"],[\"['adult standards', 'easy listening']\"],[\"['british invasion', 'classic rock', 'rock']\"],[\"['chicago soul', 'classic soul', 'funk', 'soul']\"],[\"['afrofuturism', 'alternative r&b', 'art pop', 'escape room', 'experimental r&b', 'pop', 'trip hop']\"],[\"['classic soul', 'funk', 'memphis soul', 'soul', 'soul blues', 'southern soul']\"],[\"['album rock', 'blues rock', 'classic rock', 'country rock', 'hard rock', 'mellow gold', 'rock', 'southern rock']\"],[\"['dance pop', 'pop', 'rap']\"],[\"['classic rock', 'glam rock', 'new wave', 'permanent wave', 'protopunk', 'punk', 'rock']\"],[\"['canadian singer-songwriter', 'classic canadian rock', 'classic rock', 'mellow gold', 'permanent wave', 'rock', 'roots rock', 'singer-songwriter']\"],[\"['conscious hip hop', 'hip hop', 'rap', 'west coast rap']\"],[\"['art rock', 'classic rock', 'glam rock', 'permanent wave', 'rock']\"],[\"['conscious hip hop', 'hip hop', 'rap', 'west coast rap']\"],[\"['classic soul', 'jazz blues', 'memphis soul', 'soul', 'southern soul']\"],[\"['hot jazz', 'new orleans jazz']\"],[\"['album rock', 'art rock', 'blues rock', 'british invasion', 'classic rock', 'hard rock', 'mellow gold', 'psychedelic rock', 'rock']\"],[\"['baroque pop', 'classic rock', 'psychedelic rock', 'rock', 'sunshine pop']\"],[\"['album rock', 'art rock', 'blues rock', 'classic rock', 'country rock', 'hard rock', 'mellow gold', 'rock', 'soft rock']\"],[\"['beatlesque', 'british invasion', 'classic rock', 'merseybeat', 'psychedelic rock', 'rock']\"],[\"['alternative rock', 'funk metal', 'funk rock', 'permanent wave']\"],[\"['electro', 'filter house']\"],[\"['album rock', 'art rock', 'british invasion', 'classic rock', 'folk rock', 'glam rock', 'mellow gold', 'protopunk', 'psychedelic rock', 'rock']\"],[\"['adult standards', 'classic soul', 'jazz blues', 'piano blues', 'soul', 'soul blues', 'vocal jazz']\"],[\"['alternative rock', 'art rock', 'indie rock', 'modern rock', 'noise pop', 'okc indie', 'rock']\"],[\"['acid rock', 'album rock', 'blues rock', 'classic rock', 'hard rock', 'proto-metal', 'psychedelic rock', 'rock']\"],[\"['alternative rock', 'athens indie', 'permanent wave', 'pop rock', 'rock']\"],[\"['bebop', 'big band', 'jazz', 'jazz saxophone', 'stride', 'swing', 'vocal jazz']\"],[\"['album rock', 'classic rock', 'hard rock', 'rock']\"],[\"['alternative dance', 'indie rock', 'modern rock', 'new rave', 'rock independant francais']\"],[\"['alternative rock', 'east coast hip hop', 'golden age hip hop', 'hip hop', 'old school hip hop', 'rap', 'rap rock', 'rock']\"],[\"['classic dubstep', 'electronica', 'hauntology', 'intelligent dance music', 'microhouse', 'uk bass', 'wonky']\"],[\"['beatlesque', 'british invasion', 'classic rock', 'merseybeat', 'psychedelic rock', 'rock']\"],[\"['album rock', 'classic rock', 'mellow gold', 'rock', 'soft rock']\"],[\"['alternative rock', 'britpop', 'dance rock', 'madchester', 'modern rock', 'rock']\"],[\"['adult standards', 'bubblegum pop', 'mellow gold', 'rock-and-roll', 'rockabilly']\"],[\"['art pop', 'dance rock', 'europop', 'new romantic', 'new wave', 'new wave pop', 'permanent wave', 'synthpop']\"],[\"['rock-and-roll']\"],[\"['baroque pop', 'chamber pop', 'singer-songwriter']\"],[\"['blues', 'blues rock', 'chicago blues', 'classic rock', 'electric blues', 'soul', 'traditional blues']\"],[\"['classic rock', 'rock', 'rock-and-roll', 'rockabilly']\"],[\"['album rock', 'beatlesque', 'classic rock', 'mellow gold', 'rock']\"],[\"['big band', 'harlem renaissance', 'jazz blues', 'swing']\"],[\"['barbadian pop', 'dance pop', 'pop', 'urban contemporary']\"],[\"['canadian pop', 'canadian singer-songwriter', 'pop rock', 'singer-songwriter']\"],[\"['art rock', 'british folk', 'folk', 'folk rock', 'melancholia', 'rock', 'singer-songwriter']\"],[\"['adult standards', 'classic rock', 'folk', 'folk rock', 'mellow gold', 'singer-songwriter', 'soft rock']\"],[\"['alternative rock', 'art rock', 'melancholia', 'oxford indie', 'permanent wave', 'rock']\"],[\"['classic soul', 'memphis soul', 'soul', 'soul blues', 'southern soul']\"],[\"['alternative metal', 'alternative rock', 'blues rock', 'modern rock', 'nu metal', 'palm desert scene', 'rock', 'stoner metal', 'stoner rock']\"],[\"['alternative rock', 'boston rock', 'modern rock', 'permanent wave', 'rock']\"],[\"['acid rock', 'blues rock', 'classic rock', 'folk rock', 'psychedelic rock', 'rock']\"],[\"['glam metal', 'hard rock', 'rock']\"],[\"['alternative rock', 'big beat', 'britpop', 'dance rock', 'new wave', 'rock', 'scottish indie']\"],[\"['mod revival', 'new wave', 'pub rock', 'punk', 'rock', 'ska']\"],[\"['bebop', 'jazz', 'jazz piano', 'jazz trio']\"],[\"['rock-and-roll', 'rockabilly', 'soul']\"],[\"['blues', 'traditional blues']\"],[\"['blues', 'blues rock', 'classic rock', 'delta blues', 'electric blues', 'memphis blues', 'soul', 'traditional blues']\"],[\"['beatlesque', 'british invasion', 'classic rock', 'merseybeat', 'psychedelic rock', 'rock']\"],[\"['hip house']\"],[\"['album rock', 'art rock', 'blues rock', 'classic rock', 'country rock', 'folk', 'folk rock', 'mellow gold', 'psychedelic rock', 'rock', 'roots rock', 'soft rock', 'supergroup']\"],[\"['funk', 'funk rock', 'minneapolis sound', 'synth funk']\"],[\"['dark pop', 'electronica', 'laboratorio', 'trip hop']\"],[\"['adult standards', 'easy listening', 'lounge', 'rock-and-roll', 'rockabilly', 'soul', 'swing', 'vocal jazz']\"],[\"['funk', 'funk rock', 'p funk', 'psychedelic rock', 'psychedelic soul', 'soul']\"],[\"['dance pop', 'pop', 'post-teen pop', 'talent show']\"],[\"['classic country pop', 'country', 'country dawn']\"],[\"['acoustic punk', 'alternative rock', 'anti-folk', 'pop rock', 'punk', 'rock']\"],[\"['classic rock', 'folk', 'folk rock', 'mellow gold', 'rock', 'roots rock', 'singer-songwriter', 'soft rock']\"],[\"['album rock', 'classic rock', 'hard rock', 'metal', 'rock']\"],[\"['early us punk', 'hardcore punk', 'post-punk', 'protopunk', 'pub rock', 'punk', 'punk blues']\"],[\"['british invasion', 'classic rock', 'rock']\"],[\"['beatlesque', 'british invasion', 'classic rock', 'merseybeat', 'psychedelic rock', 'rock']\"],[\"['new wave pop', 'permanent wave', 'soft rock']\"],[\"['beatlesque', 'bubblegum pop', 'classic rock', 'country rock', 'folk rock', 'mellow gold', 'psychedelic rock', 'rock', 'sunshine pop']\"],[\"['disco']\"],[\"['album rock', 'art rock', 'classic rock', 'progressive rock', 'psychedelic rock', 'rock', 'symphonic rock']\"],[\"['album rock', 'classic rock', 'mellow gold', 'permanent wave', 'rock']\"],[\"['bebop', 'contemporary post-bop', 'hard bop', 'jazz', 'jazz quartet', 'jazz saxophone', 'vocal jazz']\"],[\"['alternative rock', 'art rock', 'dream pop', 'new romantic', 'new wave', 'new wave pop', 'permanent wave', 'pop rock', 'post-punk', 'punk', 'rock']\"],[\"['classic rock', 'glam rock', 'rock']\"],[\"['doo-wop', 'rhythm and blues']\"],[\"['irish rock', 'permanent wave', 'rock']\"],[\"['bubblegum pop', 'classic girl group', 'rock-and-roll']\"],[\"['detroit hip hop', 'hip hop', 'rap']\"],[\"['adult standards', 'bubblegum pop', 'lounge', 'rock-and-roll', 'rockabilly', 'soul']\"],[\"['alternative dance', 'alternative rock', 'brooklyn indie', 'indie rock', 'indietronica', 'modern rock', 'new rave', 'rock']\"],[\"['alternative rock', 'art rock', 'new wave', 'noise pop', 'post-punk', 'punk', 'rock', 'scottish indie', 'shoegaze', 'uk post-punk']\"],[\"['alternative rock', 'art rock', 'dance rock', 'madchester', 'new romantic', 'new wave', 'new wave pop', 'permanent wave', 'pop rock', 'post-punk', 'rock', 'synthpop', 'uk post-punk']\"],[\"['classic rock', 'country rock', 'rock', 'southern rock', 'swamp rock']\"],[\"['classic soul', 'motown', 'quiet storm', 'rhythm and blues', 'soul', 'southern soul']\"],[\"['australian indie', 'indie pop', 'indie rock', 'melbourne indie']\"],[\"['conscious hip hop', 'gangster rap', 'golden age hip hop', 'hardcore hip hop', 'hip hop', 'old school hip hop', 'rap', 'west coast rap']\"],[\"['classic rock', 'classic soul', 'disco', 'funk', 'funk rock', 'psychedelic soul', 'rock', 'soul']\"],[\"['acid rock', 'album rock', 'classic rock', 'psychedelic rock', 'rock']\"],[\"['blues', 'harlem renaissance', 'jazz blues', 'traditional blues']\"],[\"['brill building pop', 'bubblegum pop', 'doo-wop', 'rhythm and blues', 'rock-and-roll']\"],[\"['baroque pop', 'indie rock', 'modern rock', 'rock']\"],[\"['alternative hip hop', 'bboy', 'east coast hip hop', 'gangster rap', 'golden age hip hop', 'hardcore hip hop', 'hip hop', 'old school hip hop', 'rap']\"],[\"['indie pop', 'indie rock', 'indietronica', 'modern rock', 'seattle indie']\"],[\"['adult standards', 'classic soul', 'jazz blues', 'piano blues', 'soul', 'soul blues', 'vocal jazz']\"],[\"['art pop', 'art rock', 'bow pop', 'experimental', 'experimental pop', 'experimental vocal', 'laboratorio']\"],[\"['mod revival', 'power pop', 'protopunk', 'pub rock', 'punk']\"],[\"['classic rock', 'early us punk', 'permanent wave', 'punk', 'rock']\"],[\"['acid rock', 'album rock', 'blues rock', 'classic rock', 'hard rock', 'proto-metal', 'psychedelic rock', 'rock']\"],[\"['classic soul', 'disco', 'funk', 'motown', 'quiet storm', 'soul', 'southern soul']\"],[\"['electronica', 'future garage', 'new rave']\"],[\"['art punk', 'art rock', 'permanent wave', 'protopunk', 'rock']\"],[\"['atl hip hop', 'contemporary r&b', 'dance pop', 'girl group', 'hip hop', 'hip pop', 'r&b', 'urban contemporary']\"],[\"['acid rock', 'classic garage rock', 'experimental', 'freakbeat', 'protopunk', 'psychedelic rock']\"],[\"['adult standards', 'bubblegum pop', 'folk rock', 'lounge', 'mellow gold', 'rock-and-roll', 'rockabilly', 'sunshine pop']\"],[\"['new romantic', 'new wave', 'new wave pop']\"],[\"['album rock', 'beatlesque', 'classic rock', 'folk rock', 'mellow gold', 'rock', 'soft rock']\"],[\"['classic rock', 'permanent wave', 'punk', 'rock']\"],[\"['hip hop', 'rap']\"],[\"['baroque pop', 'canadian indie', 'indie rock', 'modern rock', 'permanent wave', 'quebec indie', 'rock']\"],[\"['dance rock', 'new romantic', 'new wave', 'permanent wave', 'synthpop']\"],[\"['albuquerque indie', 'alternative rock', 'indie pop', 'indie rock', 'modern rock', 'portland indie', 'stomp and holler']\"],[\"['chicago rap', 'rap']\"],[\"['baroque pop', 'chamber pop', 'melancholia']\"],[\"['alternative rock', 'gothic rock', 'hardcore punk', 'new wave', 'post-punk', 'pub rock', 'punk', 'punk blues']\"],[\"['']\"],[\"['new wave', 'permanent wave', 'rock', 'uk post-punk']\"],[\"['british invasion', 'classic rock', 'rock']\"],[\"['doo-wop', 'rhythm and blues']\"],[\"['canadian pop', 'dance pop', 'electropop', 'pop', 'post-teen pop']\"],[\"['alternative rock', 'art rock', 'madchester', 'new wave', 'post-punk', 'rock', 'uk post-punk']\"],[\"['grunge', 'permanent wave', 'rock']\"],[\"['beatlesque', 'british invasion', 'classic rock', 'merseybeat', 'psychedelic rock', 'rock']\"],[\"['eau claire indie', 'indie folk', 'melancholia']\"],[\"['blues rock', 'classic rock', 'psychedelic rock', 'rock']\"],[\"['']\"],[\"['alternative pop', 'alternative rock', 'blues rock', 'grunge', 'indie rock', 'lo-fi', 'noise pop', 'noise rock', 'permanent wave', 'post-hardcore', 'post-punk', 'power pop', 'punk', 'rock']\"],[\"['art pop', 'chamber pop', 'chamber psych', 'chillwave', 'electronica', 'electropop', 'experimental pop', 'indie pop', 'indie rock', 'seattle indie']\"],[\"['glam rock', 'mellow gold', 'piano rock']\"],[\"['art rock', 'classic rock', 'glam rock', 'permanent wave', 'rock']\"],[\"['afrofuturism', 'alternative r&b', 'atl hip hop', 'electropop', 'escape room', 'neo soul', 'pop', 'r&b']\"],[\"['downtempo', 'dream pop', 'indietronica']\"],[\"['bubblegum pop', 'classic rock', 'folk rock', 'merseybeat']\"],[\"['dance pop', 'electropop', 'hip pop', 'neo soul', 'r&b', 'urban contemporary']\"],[\"['afrobeat', 'afropop', 'world']\"],[\"['alternative rock', 'anti-folk', 'indie rock', 'modern rock', 'permanent wave', 'rock']\"],[\"['grunge', 'permanent wave', 'rock']\"],[\"['alternative rock', 'athens indie', 'permanent wave', 'pop rock', 'rock']\"],[\"['alternative dance', 'electro house', 'electronica', 'filter house', 'new rave']\"],[\"['alternative rock', 'chamber pop', 'indie rock', 'modern rock', 'noise pop', 'stomp and holler']\"],[\"['adult standards', 'classic rock', 'folk', 'folk rock', 'mellow gold', 'rock', 'singer-songwriter', 'soft rock']\"],[\"['funk', 'soul']\"],[\"['conscious hip hop', 'gangster rap', 'golden age hip hop', 'hardcore hip hop', 'hip hop', 'old school hip hop', 'rap', 'west coast rap']\"],[\"['art rock', 'classic rock', 'glam rock', 'permanent wave', 'rock']\"],[\"['alternative hip hop', 'conscious hip hop', 'east coast hip hop', 'hardcore hip hop', 'hip hop', 'philly rap', 'political hip hop', 'southern hip hop']\"],[\"['alternative pop', 'alternative rock', 'art rock', 'baroque pop', 'beatlesque', 'country rock', 'folk rock', 'jangle pop', 'melancholia', 'power pop', 'pub rock', 'roots rock']\"],[\"['adult standards', 'bubblegum pop', 'folk rock', 'lounge', 'mellow gold', 'rock-and-roll', 'rockabilly', 'sunshine pop']\"],[\"['permanent wave', 'pop']\"],[\"['blues', 'blues rock', 'chicago blues', 'classic rock', 'delta blues', 'harmonica blues', 'memphis blues', 'traditional blues']\"],[\"['hip hop', 'lgbtq+ hip hop', 'neo soul']\"],[\"['mod revival', 'new wave', 'pub rock', 'punk', 'rock', 'ska']\"],[\"['glam punk', 'rock']\"],[\"['classic soul', 'funk', 'memphis soul', 'quiet storm', 'soul', 'soul blues', 'southern soul']\"],[\"['art rock', 'folk', 'folk rock', 'mellow gold', 'new wave pop', 'permanent wave', 'power pop', 'pub rock', 'rock', 'roots rock', 'singer-songwriter']\"],[\"['dance pop', 'pop']\"],[\"['alternative rock', 'art rock', 'classic rock', 'folk rock', 'melancholia', 'permanent wave', 'protopunk', 'psychedelic rock', 'rock']\"],[\"['alternative rock', 'art pop', 'art rock', 'dream pop', 'indie rock', 'melancholia', 'permanent wave', 'piano rock', 'rock', 'singer-songwriter']\"],[\"['folk rock', 'sunshine pop']\"],[\"['classic rock', 'classic soul', 'disco', 'funk', 'funk rock', 'psychedelic soul', 'rock', 'soul']\"],[\"['alternative metal', 'alternative rock', 'grunge', 'hard rock', 'nu metal', 'rock']\"],[\"['classic girl group', 'disco', 'funk', 'motown', 'quiet storm', 'soul']\"],[\"['art pop', 'chillwave', 'dream pop', 'experimental pop', 'indie garage rock', 'la indie', 'neo-psychedelic', 'new weird america']\"],[\"['classic rock', 'country rock', 'folk', 'folk rock', 'rock', 'roots rock', 'singer-songwriter']\"],[\"['alternative rock', 'art rock', 'classic rock', 'folk rock', 'melancholia', 'permanent wave', 'protopunk', 'psychedelic rock', 'rock']\"],[\"['classic soul', 'disco', 'funk', 'motown', 'quiet storm', 'soul']\"],[\"['dusseldorf electronic', 'early synthpop', 'electro', 'new romantic', 'new wave', 'proto-techno', 'synthpop']\"],[\"['classic rock', 'permanent wave', 'punk', 'rock']\"],[\"['blues', 'harmonica blues', 'rhythm and blues', 'texas blues', 'traditional blues']\"],[\"['alternative hip hop']\"],[\"['alternative metal', 'alternative rock', 'cyberpunk', 'electronic rock', 'industrial', 'industrial metal', 'industrial rock', 'nu metal', 'rock']\"],[\"['funk', 'quiet storm', 'soul']\"],[\"['dance pop', 'escape room', 'minnesota hip hop', 'pop', 'trap queen']\"],[\"['art rock', 'classic rock', 'glam rock', 'permanent wave', 'rock']\"],[\"['cool jazz', 'hard bop', 'jazz', 'jazz fusion', 'jazz trumpet', 'uk contemporary jazz']\"],[\"['art pop', 'brooklyn indie', 'indie pop', 'indie rock', 'small room']\"],[\"['new wave pop', 'permanent wave', 'soft rock']\"],[\"['barbadian pop', 'dance pop', 'pop', 'urban contemporary']\"],[\"['conscious hip hop', 'hip hop', 'rap', 'west coast rap']\"],[\"['album rock', 'classic rock', 'hard rock', 'rock']\"],[\"['adult standards', 'easy listening', 'lounge']\"],[\"['alternative rock', 'art rock', 'melancholia', 'oxford indie', 'permanent wave', 'rock']\"],[\"['alternative metal', 'alternative rock', 'modern rock', 'permanent wave', 'post-grunge', 'rock']\"],[\"['adult standards', 'bubblegum pop', 'rock-and-roll', 'rockabilly']\"],[\"['garage rock', 'modern rock', 'permanent wave', 'rock', 'sheffield indie']\"],[\"['alternative dance', 'electro house', 'electronica', 'filter house', 'new rave']\"],[\"['beatlesque', 'british invasion', 'classic rock', 'merseybeat', 'psychedelic rock', 'rock']\"],[\"['dance pop', 'hip hop', 'hip pop', 'pop rap', 'r&b', 'rap', 'urban contemporary', 'virginia hip hop']\"],[\"['rock-and-roll', 'rockabilly', 'soul']\"],[\"['blues', 'blues rock', 'chicago blues', 'electric blues', 'rhythm and blues', 'rock-and-roll', 'rockabilly', 'soul', 'traditional blues']\"],[\"['classic soul', 'motown', 'northern soul', 'soul', 'southern soul']\"],[\"['indie rock', 'modern rock']\"],[\"['album rock', 'art rock', 'classic rock', 'progressive rock', 'psychedelic rock', 'rock', 'symphonic rock']\"],[\"['art rock', 'classic rock', 'glam rock', 'permanent wave', 'psychedelic rock', 'rock', 'singer-songwriter']\"],[\"['dark pop', 'electronica', 'laboratorio', 'trip hop']\"],[\"['permanent wave', 'pop']\"],[\"['beatlesque', 'british invasion', 'classic rock', 'merseybeat', 'psychedelic rock', 'rock']\"],[\"['canadian singer-songwriter', 'classic canadian rock', 'classic rock', 'mellow gold', 'permanent wave', 'rock', 'roots rock', 'singer-songwriter']\"],[\"['canadian singer-songwriter', 'folk', 'folk rock', 'melancholia', 'permanent wave', 'singer-songwriter']\"],[\"['reggae', 'roots reggae']\"],[\"['alternative rock', 'dc hardcore', 'indie rock', 'noise rock', 'post-hardcore', 'post-punk', 'punk', 'rock']\"],[\"['east coast hip hop', 'gangster rap', 'hardcore hip hop', 'hip hop', 'rap']\"],[\"['dub', 'reggae', 'roots reggae', 'ska']\"],[\"['belgian singer-songwriter', 'chanson', 'french pop']\"],[\"['adult standards', 'brill building pop', 'classic rock', 'folk', 'folk rock', 'mellow gold', 'rock', 'singer-songwriter', 'soft rock']\"],[\"['big beat']\"],[\"['classic rock', 'country rock', 'folk', 'folk rock', 'rock', 'roots rock', 'singer-songwriter']\"],[\"['alternative dance', 'australian alternative rock', 'australian dance', 'collage pop', 'electronica', 'indie rock', 'new rave', 'psychedelic hip hop']\"],[\"['mellow gold', 'rock drums', 'soft rock']\"],[\"['alternative americana', 'art pop', 'indie folk', 'indie pop', 'indie rock']\"],[\"['alternative rock', 'garage rock', 'garage rock revival', 'modern rock', 'new rave', 'rock', 'swedish garage rock', 'swedish hard rock', 'swedish indie rock']\"],[\"['classic soul', 'jazz blues', 'memphis soul', 'soul', 'southern soul']\"],[\"['acid rock', 'album rock', 'classic rock', 'psychedelic rock', 'rock']\"],[\"['album rock', 'art rock', 'blues rock', 'classic rock', 'classic uk pop', 'folk rock', 'glam rock', 'mellow gold', 'rock', 'soft rock', 'symphonic rock', 'yacht rock']\"],[\"['country', 'country dawn', 'country rock', 'nashville sound']\"],[\"['adult standards', 'bubblegum pop', 'folk rock', 'lounge', 'mellow gold', 'rock-and-roll', 'rockabilly', 'sunshine pop']\"],[\"['adult standards', 'brill building pop', 'bubblegum pop', 'rock-and-roll', 'rockabilly']\"],[\"['art rock', 'classic rock', 'glam rock', 'permanent wave', 'rock']\"],[\"['alternative rock', 'athens indie', 'permanent wave', 'pop rock', 'rock']\"],[\"['dance pop']\"],[\"['adult standards', 'louisiana blues', 'lounge', 'new orleans blues', 'piano blues', 'rock-and-roll', 'rockabilly', 'soul']\"],[\"['dance pop', 'pop']\"],[\"['album rock', 'beatlesque', 'classic rock', 'mellow gold', 'rock']\"],[\"['classic soul', 'jazz blues', 'memphis soul', 'soul', 'southern soul']\"],[\"['album rock', 'blues rock', 'classic canadian rock', 'classic rock', 'cosmic american', 'country rock', 'folk', 'folk rock', 'heartland rock', 'mellow gold', 'rock', 'roots rock', 'soft rock', 'swamp rock']\"],[\"['eau claire indie', 'indie folk', 'melancholia']\"],[\"['alternative rock', 'anti-folk', 'art rock', 'dream pop', 'indie rock', 'lo-fi', 'modern rock', 'pop rock', 'rock']\"],[\"['american folk revival', 'appalachian folk', 'folk', 'old-time', 'traditional country', 'traditional folk', 'yodeling']\"],[\"['dance pop', 'pop']\"],[\"['alternative rock', 'grunge', 'permanent wave', 'rock']\"],[\"['dance pop']\"],[\"['irish rock', 'permanent wave', 'rock']\"],[\"['album rock', 'classic rock', 'rock', 'soft rock', 'yacht rock']\"],[\"['lgbtq+ hip hop', 'pop']\"],[\"['adult standards', 'motown', 'soul']\"],[\"['classic rock', 'country rock', 'rock', 'southern rock', 'swamp rock']\"],[\"['bubblegum pop', 'classic girl group', 'rock-and-roll']\"],[\"['album rock', 'classic rock', 'hard rock', 'rock']\"],[\"['australian rock', 'bubblegum pop', 'classic garage rock', 'folk rock', 'freakbeat', 'merseybeat', 'protopunk', 'psychedelic rock']\"],[\"['g funk', 'gangster rap', 'hip hop', 'rap', 'west coast rap']\"],[\"['classic rock', 'heartland rock', 'mellow gold', 'permanent wave', 'rock', 'singer-songwriter']\"],[\"['reggae', 'roots reggae']\"],[\"['r&b en espanol']\"],[\"['classic rock', 'classic soul', 'disco', 'funk', 'funk rock', 'psychedelic soul', 'rock', 'soul']\"],[\"['classic soul', 'funk', 'memphis soul', 'soul', 'southern soul']\"],[\"['blues', 'blues rock', 'classic rock', 'electric blues', 'jazz blues', 'soul blues', 'traditional blues']\"],[\"['atl hip hop', 'contemporary r&b', 'dance pop', 'girl group', 'hip hop', 'hip pop', 'r&b', 'urban contemporary']\"],[\"['new romantic', 'new wave', 'new wave pop', 'permanent wave', 'pop rock', 'soft rock', 'synthpop']\"],[\"['chamber pop', 'folk', 'indie folk', 'indie pop', 'indie rock', 'seattle indie', 'stomp and holler']\"],[\"['classic rock', 'glam rock', 'new wave', 'permanent wave', 'protopunk', 'punk', 'rock']\"],[\"['alternative dance', 'chillwave', 'electronica', 'electropop', 'folktronica', 'indie rock', 'indietronica', 'intelligent dance music', 'new rave']\"],[\"['art pop', 'candy pop', 'dance pop', 'electropop', 'escape room', 'indie pop', 'la indie', 'metropopolis', 'neo-synthpop', 'pop']\"],[\"['bedroom pop', 'indie pop', 'pop']\"],[\"['adult standards', 'big band', 'easy listening', 'jazz trombone', 'lounge', 'swing', 'vocal jazz']\"],[\"['art rock', 'bubblegum pop', 'classic rock', 'country rock', 'folk', 'folk rock', 'mellow gold', 'merseybeat', 'psychedelic rock', 'rock', 'rock-and-roll', 'roots rock', 'soft rock']\"],[\"['doo-wop', 'rhythm and blues']\"],[\"['alternative dance', 'chillwave', 'electronica', 'electropop', 'folktronica', 'indie rock', 'indietronica', 'intelligent dance music', 'new rave']\"],[\"['celtic punk', 'celtic rock', 'folk punk', 'punk']\"],[\"['baroque pop', 'canadian indie', 'indie rock', 'modern rock', 'permanent wave', 'quebec indie', 'rock']\"],[\"['alternative dance', 'indie rock', 'modern rock', 'new rave', 'rock independant francais']\"],[\"['adult standards', 'classic soul', 'disco', 'funk', 'mellow gold', 'quiet storm', 'soft rock', 'soul', 'vocal jazz']\"],[\"['adult standards', 'cool jazz', 'jazz', 'jazz trumpet', 'lounge', 'vocal jazz']\"],[\"['album rock', 'classic rock', 'mellow gold', 'permanent wave', 'rock']\"],[\"['bebop', 'big band', 'cool jazz', 'jazz', 'jazz saxophone']\"],[\"['alternative dance', 'alternative rock', 'dance rock', 'dance-punk', 'electronic rock', 'electronica', 'indie rock', 'indietronica', 'modern rock', 'new rave', 'rock']\"],[\"['classic rock', 'folk', 'folk rock', 'melancholia', 'mellow gold', 'rock']\"],[\"['downtempo', 'electronica', 'trip hop']\"],[\"['alternative rock', 'art pop', 'dream pop', 'melancholia', 'rock', 'shoegaze', 'slowcore']\"],[\"['dance rock', 'new romantic', 'new wave', 'permanent wave', 'synthpop']\"],[\"['alternative pop', 'alternative rock', 'art rock', 'baroque pop', 'beatlesque', 'country rock', 'folk rock', 'jangle pop', 'melancholia', 'power pop', 'pub rock', 'roots rock']\"],[\"['irish rock', 'permanent wave', 'rock']\"],[\"['british soul', 'funk', 'post-disco', 'quiet storm', 'urban contemporary']\"],[\"['beatlesque', 'british invasion', 'classic rock', 'merseybeat', 'psychedelic rock', 'rock']\"],[\"['adult standards', 'bubblegum pop', 'doo-wop', 'rhythm and blues', 'rock-and-roll', 'rockabilly', 'soul']\"],[\"['afrofuturism', 'alternative r&b', 'atl hip hop', 'electropop', 'escape room', 'neo soul', 'pop', 'r&b']\"],[\"['bubblegum pop', 'classic garage rock', 'merseybeat']\"],[\"['dance pop', 'girl group', 'golden age hip hop', 'hip hop', 'hip pop', 'old school hip hop', 'pop rap', 'queens hip hop']\"],[\"['art rock', 'classic rock', 'glam rock', 'melancholia', 'mellow gold', 'new romantic', 'new wave', 'new wave pop', 'rock', 'soft rock', 'sophisti-pop']\"],[\"['gospel', 'spirituals']\"],[\"['canadian indie', 'indie rock', 'modern alternative rock', 'modern rock', 'noise pop', 'noise rock', 'vancouver indie', 'vancouver punk']\"],[\"['adult standards', 'dixieland', 'harlem renaissance', 'jazz trumpet', 'new orleans jazz', 'swing', 'vocal jazz']\"],[\"['alternative country', 'alternative rock', 'chicago indie', 'indie rock', 'pop rock', 'roots rock']\"],[\"['adult standards', 'easy listening', 'lounge', 'torch song', 'vocal jazz']\"],[\"['britpop']\"],[\"['album rock', 'art rock', 'blues rock', 'british blues', 'classic rock', 'country rock', 'electric blues', 'hard rock', 'mellow gold', 'psychedelic rock', 'rock', 'symphonic rock']\"],[\"['alternative dance', 'art pop', 'brighton indie', 'chamber psych', 'dark pop', 'dream pop', 'electronica', 'electropop', 'etherpop', 'metropopolis', 'neo-synthpop', 'new rave']\"],[\"['art rock', 'british folk', 'canterbury scene', 'experimental', 'experimental rock', 'psychedelic rock', 'zolo']\"],[\"['australian dance', 'australian pop', 'dance pop', 'pop']\"],[\"['electronica', 'indie soul', 'uk alternative pop']\"],[\"['beatlesque', 'british invasion', 'classic rock', 'merseybeat', 'psychedelic rock', 'rock']\"],[\"['alternative dance', 'electropop', 'new rave', 'olympia wa indie']\"],[\"['canadian singer-songwriter', 'classic canadian rock', 'classic rock', 'mellow gold', 'permanent wave', 'rock', 'roots rock', 'singer-songwriter']\"],[\"['art rock', 'classic rock', 'glam rock', 'permanent wave', 'rock']\"],[\"['britpop', 'pop rock']\"],[\"['australian rock', 'hard rock', 'rock']\"],[\"['adult standards', 'british invasion', 'merseybeat', 'rock-and-roll', 'rockabilly']\"],[\"['beatlesque', 'british invasion', 'classic rock', 'merseybeat', 'psychedelic rock', 'rock']\"],[\"['british invasion', 'merseybeat', 'rock-and-roll', 'surf music']\"],[\"['adult standards', 'jazz blues', 'soul', 'soul blues', 'torch song', 'vocal jazz']\"],[\"['alternative rock', 'garage rock', 'modern rock', 'permanent wave', 'rock']\"],[\"['art rock', 'classic rock', 'glam rock', 'permanent wave', 'rock']\"],[\"['folk', 'lilith', 'singer-songwriter', '\\\"women\\\\'s music\\\"']\"],[\"['album rock', 'art rock', 'classic rock', 'progressive rock', 'psychedelic rock', 'rock', 'symphonic rock']\"],[\"['art rock', 'classic rock', 'glam rock', 'melancholia', 'mellow gold', 'new romantic', 'new wave', 'new wave pop', 'rock', 'soft rock', 'sophisti-pop']\"],[\"['blues', 'blues rock', 'chicago blues', 'delta blues', 'electric blues', 'rock-and-roll', 'traditional blues']\"],[\"['afrofuturism', 'alternative r&b', 'dance pop', 'escape room', 'hip pop', 'indie soul', 'neo soul', 'r&b', 'urban contemporary']\"],[\"['art rock', 'melancholia', 'permanent wave', 'rock', 'singer-songwriter']\"],[\"['bluegrass', 'bluegrass gospel', 'country gospel', 'traditional country']\"],[\"['canadian singer-songwriter', 'folk', 'folk rock', 'melancholia', 'permanent wave', 'singer-songwriter']\"],[\"['blues rock', 'classic rock', 'psychedelic rock', 'rock']\"],[\"['dub', 'lovers rock', 'reggae', 'roots reggae', 'ska']\"],[\"['canadian hip hop', 'canadian pop', 'hip hop', 'rap', 'toronto rap']\"],[\"['album rock', 'beatlesque', 'classic rock', 'folk rock', 'mellow gold', 'rock', 'soft rock']\"],[\"['alternative rock', 'art rock', 'dance rock', 'madchester', 'new romantic', 'new wave', 'new wave pop', 'permanent wave', 'pop rock', 'post-punk', 'rock', 'synthpop', 'uk post-punk']\"],[\"['baroque pop', 'indie rock', 'modern rock', 'rock']\"],[\"['bronx hip hop', 'conscious hip hop', 'east coast hip hop', 'electro', 'hip hop', 'hip house', 'old school hip hop', 'rap', 'turntablism']\"],[\"['alternative dance', 'big beat', 'breakbeat', 'electronica', 'new rave', 'rave']\"],[\"['dance pop', 'disco', 'hi-nrg', 'new wave pop']\"],[\"['electro', 'filter house']\"],[\"['early synthpop', 'new romantic', 'new wave', 'new wave pop', 'synthpop', 'zolo']\"],[\"['alternative r&b', 'conscious hip hop', 'neo soul', 'new jersey rap', 'r&b', 'urban contemporary']\"],[\"['album rock', 'classic rock', 'hard rock', 'rock']\"],[\"['album rock', 'art rock', 'classic rock', 'instrumental rock', 'jazz fusion', 'jazz rock', 'progressive rock', 'psychedelic rock', 'rock', 'symphonic rock', 'zolo']\"],[\"['british invasion', 'classic rock', 'rock']\"],[\"['classic rock', 'country rock', 'folk', 'folk rock', 'rock', 'roots rock', 'singer-songwriter']\"],[\"['beatlesque', 'british invasion', 'classic rock', 'merseybeat', 'psychedelic rock', 'rock']\"],[\"['art rock', 'melancholia', 'permanent wave', 'rock', 'singer-songwriter']\"],[\"['art pop', 'candy pop', 'dance pop', 'electropop', 'metropopolis', 'pop', 'post-teen pop', 'uk pop']\"],[\"['art pop', 'dance pop', 'pop']\"],[\"['alternative hip hop', 'east coast hip hop', 'golden age hip hop', 'hardcore hip hop', 'hip hop', 'jazz rap', 'rap']\"],[\"['punk', 'rock']\"],[\"['alternative rock', 'art punk', 'art rock', 'experimental', 'madchester', 'new romantic', 'new wave', 'post-punk', 'pub rock', 'punk', 'synthpop', 'uk post-punk']\"],[\"['blues', 'blues rock', 'classic rock', 'delta blues', 'electric blues', 'memphis blues', 'soul', 'traditional blues']\"],[\"['classic rock', 'country rock', 'folk', 'folk rock', 'rock', 'roots rock', 'singer-songwriter']\"],[\"['rock-and-roll']\"],[\"['classic girl group', 'classic soul', 'motown', 'rhythm and blues', 'soul', 'southern soul']\"],[\"['dance pop', 'pop', 'r&b']\"],[\"['classic rock', 'country rock', 'folk', 'folk rock', 'rock', 'roots rock', 'singer-songwriter']\"],[\"['album rock', 'art rock', 'classic rock', 'country rock', 'folk rock', 'heartland rock', 'mellow gold', 'new wave pop', 'pop rock', 'rock', 'singer-songwriter', 'soft rock', 'yacht rock']\"],[\"['art rock', 'glam rock', 'new romantic', 'new wave', 'new wave pop', 'post-punk', 'synthpop', 'zolo']\"],[\"['classic soul', 'funk', 'memphis soul', 'soul', 'southern soul']\"],[\"['alternative rock', 'grunge', 'permanent wave', 'rock']\"],[\"['early us punk', 'glam punk', 'glam rock', 'post-punk', 'protopunk', 'pub rock', 'punk', 'punk blues']\"],[\"['classic rock', 'early us punk', 'permanent wave', 'punk', 'rock']\"],[\"['irish rock', 'permanent wave', 'rock']\"],[\"['dreamo', 'indie pop', 'indie rock', 'shoegaze', 'toronto indie']\"],[\"['grunge', 'permanent wave', 'rock']\"],[\"['modern alternative rock', 'modern rock', 'pop', 'rock']\"],[\"['art rock', 'beatlesque', 'blues rock', 'classic rock', 'cosmic american', 'country rock', 'folk', 'folk rock', 'mellow gold', 'psychedelic rock', 'rock', 'roots rock', 'soft rock']\"],[\"['alternative rock', 'art rock', 'experimental', 'new romantic', 'new wave', 'post-punk', 'punk', 'uk post-punk']\"],[\"['art rock', 'dance rock', 'new romantic', 'new wave', 'new wave pop', 'permanent wave', 'post-punk', 'rock', 'zolo']\"],[\"['space age pop']\"],[\"['classic soul', 'funk', 'indie r&b', 'motown', 'northern soul', 'quiet storm', 'soul']\"],[\"['album rock', 'art rock', 'beatlesque', 'classic rock', 'glam metal', 'glam rock', 'hard rock', 'heartland rock', 'mellow gold', 'new wave pop', 'pop rock', 'power pop', 'rock', 'soft rock']\"],[\"['bebop', 'jazz', 'jazz quartet']\"],[\"['canadian pop', 'dance pop', 'electropop', 'pop', 'post-teen pop']\"],[\"['australian psych', 'neo-psychedelic']\"],[\"['dance pop', 'pop']\"],[\"['adult standards', 'brill building pop', 'doo-wop', 'rhythm and blues', 'rock-and-roll', 'rockabilly']\"],[\"['british invasion', 'classic rock', 'rock']\"],[\"['classic soul']\"],[\"['blues', 'blues rock', 'chicago blues', 'electric blues', 'rhythm and blues', 'rock-and-roll', 'rockabilly', 'soul', 'traditional blues']\"],[\"['alternative rock', 'britpop', 'madchester', 'new wave', 'permanent wave', 'pop rock', 'rock', 'solo wave']\"],[\"['alternative r&b', 'contemporary r&b', 'dance pop', 'hip hop', 'hip pop', 'neo soul', 'r&b', 'urban contemporary']\"],[\"['glam metal', 'rock']\"],[\"['alternative rock', 'art punk', 'art rock', 'dance rock', 'experimental', 'funk rock', 'new wave', 'post-punk', 'punk', 'uk post-punk']\"],[\"['grunge', 'permanent wave', 'rock']\"],[\"['alternative rock', 'modern power pop', 'modern rock', 'permanent wave', 'rock']\"],[\"['east coast hip hop', 'hip hop', 'rap']\"],[\"['electro', 'harlem hip hop', 'hip house']\"],[\"['canadian singer-songwriter', 'classic canadian rock', 'classic rock', 'mellow gold', 'permanent wave', 'rock', 'roots rock', 'singer-songwriter']\"],[\"['classic rock', 'country rock', 'folk', 'folk rock', 'rock', 'roots rock', 'singer-songwriter']\"],[\"['beatlesque', 'britpop', 'madchester', 'permanent wave', 'pop rock', 'rock']\"],[\"['dance pop', 'urban contemporary']\"],[\"['funk', 'soul']\"],[\"['g funk', 'gangster rap', 'hip hop', 'pop rap', 'rap', 'west coast rap']\"],[\"['alternative dance', 'art pop', 'electropop', 'escape room', 'new rave']\"],[\"['alternative rock', 'britpop', 'garage rock', 'garage rock revival', 'indie rock', 'modern rock', 'rock']\"],[\"['experimental rock', 'instrumental math rock', 'math rock', 'post-rock']\"],[\"['album rock', 'art rock', 'blues rock', 'classic rock', 'country rock', 'folk', 'folk rock', 'heartland rock', 'mellow gold', 'psychedelic rock', 'rock', 'roots rock', 'soft rock']\"],[\"['album rock', 'art rock', 'blues rock', 'british invasion', 'classic rock', 'hard rock', 'mellow gold', 'psychedelic rock', 'rock']\"],[\"['alternative rock', 'art pop', 'art rock', 'dream pop', 'icelandic pop', 'icelandic post-punk', 'new wave', 'new wave pop', 'post-punk']\"],[\"['adult standards', 'big band', 'harlem renaissance', 'jazz', 'jazz piano', 'lounge', 'stride', 'swing', 'vocal jazz']\"],[\"['alternative dance', 'indie rock', 'modern rock', 'new rave', 'rock']\"],[\"['classic girl group', 'classic soul', 'disco', 'funk', 'motown', 'quiet storm', 'rock-and-roll', 'soul']\"],[\"['art rock', 'new romantic', 'new wave', 'new wave pop', 'permanent wave', 'post-punk', 'synthpop']\"],[\"['adult standards', 'nashville sound']\"],[\"['contemporary r&b', 'dance pop', 'hip pop', 'neo soul', 'r&b', 'urban contemporary']\"],[\"['conscious hip hop', 'east coast hip hop', 'gangster rap', 'golden age hip hop', 'hardcore hip hop', 'hip hop', 'old school hip hop', 'political hip hop', 'rap', 'rap rock']\"],[\"['classic rock', 'permanent wave', 'punk', 'rock']\"],[\"['conscious hip hop', 'east coast hip hop', 'gangster rap', 'golden age hip hop', 'hardcore hip hop', 'hip hop', 'old school hip hop', 'political hip hop', 'rap', 'rap rock']\"],[\"['album rock', 'beatlesque', 'classic rock', 'mellow gold', 'rock']\"],[\"['alternative rock', 'art rock', 'indie rock', 'modern rock', 'noise pop', 'okc indie', 'rock']\"],[\"['beatlesque', 'british invasion', 'classic rock', 'merseybeat', 'psychedelic rock', 'rock']\"],[\"['bassline', 'grime', 'house', 'instrumental grime', 'pop rap']\"],[\"['permanent wave', 'pop']\"],[\"['british invasion', 'classic rock', 'rock']\"],[\"['classic soul', 'funk', 'memphis soul', 'motown', 'soul']\"],[\"['album rock', 'classic rock', 'country rock', 'detroit rock', 'folk rock', 'hard rock', 'heartland rock', 'mellow gold', 'rock', 'soft rock']\"],[\"['pub rock', 'punk']\"],[\"['album rock', 'birmingham metal', 'classic rock', 'hard rock', 'metal', 'rock', 'stoner rock', 'uk doom metal']\"],[\"['bubblegum pop', 'classic garage rock', 'rock-and-roll', 'surf music']\"],[\"['atl hip hop', 'contemporary r&b', 'dance pop', 'r&b', 'south carolina hip hop', 'urban contemporary']\"],[\"['album rock', 'classic rock', 'folk rock', 'heartland rock', 'mellow gold', 'pop rock', 'rock', 'soft rock']\"],[\"['album rock', 'art rock', 'classic rock', 'progressive rock', 'psychedelic rock', 'rock', 'symphonic rock']\"],[\"['acid rock', 'album rock', 'blues rock', 'classic rock', 'hard rock', 'proto-metal', 'psychedelic rock', 'rock']\"],[\"['art rock', 'british folk', 'folk', 'folk rock', 'melancholia', 'rock', 'singer-songwriter']\"],[\"['alternative rock', 'art rock', 'melancholia', 'oxford indie', 'permanent wave', 'rock']\"],[\"['classic uk pop', 'country rock', 'folk', 'folk rock']\"],[\"['alternative rock', 'anti-folk', 'art rock', 'dream pop', 'indie rock', 'lo-fi', 'modern rock', 'pop rock', 'rock']\"],[\"['alternative rock', 'art punk', 'art rock', 'beatlesque', 'new romantic', 'new wave', 'new wave pop', 'post-punk', 'power pop', 'pub rock', 'zolo']\"],[\"['dance pop', 'new wave pop']\"],[\"['baroque pop', 'classic rock', 'psychedelic rock', 'rock', 'sunshine pop']\"],[\"['classic rock', 'folk', 'folk rock', 'melancholia', 'mellow gold', 'rock']\"],[\"['baroque pop', 'classic rock', 'psychedelic rock', 'rock', 'sunshine pop']\"],[\"['dub', 'lovers rock', 'reggae', 'roots reggae']\"],[\"['conscious hip hop', 'funk', 'jazz funk', 'political hip hop', 'slam poetry', 'soul']\"],[\"['pop', 'r&b', 'soul']\"],[\"['acoustic blues', 'blues', 'delta blues', 'pre-war blues', 'traditional blues']\"],[\"['african-american classical', 'big band', 'harlem renaissance', 'jazz', 'jazz piano', 'swing']\"],[\"['album rock', 'classic rock', 'new wave pop', 'power pop']\"],[\"['folk rock', 'sunshine pop']\"],[\"['art rock', 'folk', 'folk rock', 'mellow gold', 'new wave pop', 'permanent wave', 'power pop', 'pub rock', 'rock', 'roots rock', 'singer-songwriter']\"],[\"['electronica', 'new wave pop', 'pop rock', 'sophisti-pop', 'trip hop']\"],[\"['classic soul', 'funk', 'motown', 'quiet storm', 'soul', 'southern soul']\"],[\"['classic rock', 'heartland rock', 'mellow gold', 'permanent wave', 'rock', 'singer-songwriter']\"],[\"['album rock', 'classic rock', 'country rock', 'folk rock', 'heartland rock', 'mellow gold', 'pop rock', 'rock', 'singer-songwriter', 'soft rock']\"],[\"['canadian singer-songwriter', 'folk', 'folk rock', 'singer-songwriter']\"],[\"['adult standards', 'bubblegum pop', 'folk rock', 'mellow gold', 'merseybeat', 'rock-and-roll']\"],[\"['hip hop', 'rap']\"],[\"['adult standards', 'harlem renaissance', 'jazz', 'jazz blues', 'lounge', 'torch song', 'vocal jazz']\"],[\"['baroque pop', 'bubblegum pop', 'classic garage rock', 'country rock', 'folk rock', 'freakbeat', 'psychedelic rock']\"],[\"['art rock', 'permanent wave']\"],[\"['alternative rock', 'art rock', 'melancholia', 'oxford indie', 'permanent wave', 'rock']\"],[\"['canadian contemporary r&b', 'canadian pop', 'pop']\"],[\"['early us punk', 'hardcore punk', 'punk', 'skate punk']\"],[\"['album rock', 'art rock', 'classic rock', 'mellow gold', 'new wave', 'new wave pop', 'permanent wave', 'rock', 'soft rock', 'symphonic rock']\"],[\"['dance pop']\"],[\"['glam rock', 'mellow gold', 'piano rock']\"],[\"['dance rock', 'new romantic', 'new wave', 'no wave', 'post-punk', 'synthpop']\"],[\"['hip hop', 'new orleans rap', 'pop rap', 'rap', 'trap']\"],[\"['classic rock', 'country rock', 'folk', 'folk rock', 'rock', 'roots rock', 'singer-songwriter']\"],[\"['boy band', 'contemporary r&b', 'dance pop', 'hip hop', 'hip pop', 'neo soul', 'new jack swing', 'pop rap', 'quiet storm', 'r&b', 'urban contemporary']\"],[\"['alternative dance', 'dance rock', 'dance-punk', 'electroclash', 'electronica', 'modern rock', 'new rave', 'sacramento indie']\"],[\"['art rock', 'mellow gold', 'new wave', 'new wave pop', 'power pop', 'pub rock', 'rock', 'roots rock']\"],[\"['classic rock', 'folk', 'folk rock', 'melancholia', 'mellow gold', 'rock']\"],[\"['hard rock', 'metal', 'old school thrash', 'rock', 'thrash metal']\"],[\"['chicago rap', 'rap']\"],[\"['art pop', 'deconstructed club', 'electropop', 'escape room', 'hyperpop', 'proto-hyperpop', 'transpop']\"],[\"['bubblegum pop', 'classic garage rock', 'freakbeat', 'protopunk', 'psychedelic rock']\"],[\"['east coast hip hop', 'gangster rap', 'hip hop', 'pop rap', 'queens hip hop', 'rap']\"],[\"['disco', 'funk', 'post-disco', 'quiet storm', 'soul', 'synth funk']\"],[\"['alternative rock', 'funk metal', 'funk rock', 'permanent wave']\"],[\"['glam rock', 'mellow gold', 'piano rock']\"],[\"['classic rock', 'country rock', 'folk', 'folk rock', 'rock', 'roots rock', 'singer-songwriter']\"],[\"['rock-and-roll', 'rockabilly']\"],[\"['art rock', 'classic rock', 'glam rock', 'permanent wave', 'rock']\"],[\"['dance pop', 'pop']\"],[\"['irish rock', 'permanent wave', 'rock']\"],[\"['pop', 'r&b', 'soul']\"],[\"['album rock', 'blues rock', 'classic rock', 'country rock', 'hard rock', 'rock']\"],[\"['new wave', 'permanent wave', 'rock', 'uk post-punk']\"],[\"['atl hip hop', 'rap', 'southern hip hop', 'trap']\"],[\"['adult standards', 'rock-and-roll', 'soul']\"],[\"['new wave', 'permanent wave', 'rock', 'uk post-punk']\"],[\"['dance pop', 'indietronica', 'new rave']\"],[\"['alternative rock', 'dream pop', 'noise pop', 'rock', 'shoegaze']\"],[\"['art pop', 'experimental pop', 'experimental vocal', 'icelandic experimental', 'icelandic pop', 'icelandic singer-songwriter', 'metropopolis', 'permanent wave']\"],[\"['canadian singer-songwriter', 'classic canadian rock', 'classic rock', 'mellow gold', 'permanent wave', 'rock', 'roots rock', 'singer-songwriter']\"],[\"['art rock', 'baroque pop', 'british invasion', 'bubblegum pop', 'classic rock', 'folk rock', 'psychedelic rock', 'rock']\"],[\"['art pop', 'brooklyn indie', 'experimental pop', 'indie pop', 'indie rock']\"],[\"['reggae', 'rocksteady', 'ska']\"],[\"['classic rock', 'heartland rock', 'mellow gold', 'permanent wave', 'rock', 'singer-songwriter']\"],[\"['detroit hip hop', 'hip hop', 'rap']\"],[\"['baroque pop', 'classic rock', 'psychedelic rock', 'rock', 'sunshine pop']\"],[\"['bubblegum pop', 'classic garage rock', 'classic rock', 'country rock', 'folk rock', 'mellow gold', 'psychedelic rock', 'rock', 'rock-and-roll', 'soft rock']\"],[\"['beatlesque', 'british invasion', 'classic rock', 'merseybeat', 'psychedelic rock', 'rock']\"],[\"['classic rock', 'country rock', 'folk', 'folk rock', 'rock', 'roots rock', 'singer-songwriter']\"],[\"['alternative rock', 'modern power pop', 'modern rock', 'permanent wave', 'rock']\"],[\"['british invasion', 'folk rock', 'merseybeat', 'rock-and-roll']\"],[\"['permanent wave', 'punk']\"],[\"['canadian singer-songwriter', 'classic canadian rock', 'classic rock', 'mellow gold', 'permanent wave', 'rock', 'roots rock', 'singer-songwriter']\"],[\"['art rock', 'classic rock', 'classic uk pop', 'country rock', 'folk', 'folk rock', 'mellow gold', 'rock', 'roots rock', 'singer-songwriter', 'soft rock']\"],[\"['candy pop', 'new wave', 'new wave pop', 'permanent wave', 'power pop', 'rock']\"],[\"['adult standards', 'classic rock', 'country rock', 'folk', 'folk rock', 'mellow gold', 'singer-songwriter', 'soft rock']\"],[\"['alternative hip hop']\"],[\"['alternative rock', 'dark wave', 'gothic rock', 'new wave', 'post-punk']\"],[\"['beatlesque', 'britpop', 'madchester', 'permanent wave', 'pop rock', 'rock']\"],[\"['east coast hip hop', 'gangster rap', 'hardcore hip hop', 'hip hop', 'rap']\"],[\"['bebop', 'free jazz', 'jazz', 'jazz saxophone']\"],[\"['grunge', 'permanent wave', 'rock']\"],[\"['disco', 'quiet storm']\"],[\"['dance pop', 'electropop', 'hip pop', 'neo soul', 'r&b', 'urban contemporary']\"],[\"['modern rock', 'rock']\"],[\"['conscious hip hop', 'dirty south rap', 'g funk', 'gangster rap', 'golden age hip hop', 'hardcore hip hop', 'hip hop', 'old school hip hop', 'rap', 'southern hip hop']\"],[\"['adult standards', 'bubblegum pop', 'mellow gold', 'rock-and-roll', 'rockabilly']\"],[\"['blues', 'blues rock', 'chicago blues', 'electric blues', 'jazz blues', 'texas blues', 'traditional blues']\"],[\"['permanent wave', 'punk']\"],[\"['classic rock', 'permanent wave', 'punk', 'rock']\"],[\"['alternative rock', 'anti-folk', 'art rock', 'dream pop', 'indie rock', 'lo-fi', 'modern rock', 'pop rock', 'rock']\"],[\"['classic soul', 'disco', 'funk', 'philly soul', 'quiet storm', 'soul', 'southern soul', 'urban contemporary']\"],[\"['brooklyn indie', 'indie pop']\"],[\"['album rock', 'art rock', 'classic rock', 'mellow gold', 'new wave', 'new wave pop', 'permanent wave', 'rock', 'soft rock', 'symphonic rock']\"],[\"['australian rock', 'mellow gold', 'permanent wave', 'pop rock', 'rock', 'soft rock']\"],[\"['canadian indie', 'canadian pop', 'chamber pop', 'indie pop']\"],[\"['dance pop', 'hip pop', 'pop', 'queens hip hop', 'rap']\"],[\"['classic rock', 'glam rock', 'rock']\"],[\"['pop']\"],[\"['motown']\"],[\"['classic rock', 'mellow gold', 'piano rock', 'rock', 'singer-songwriter', 'soft rock']\"],[\"['east coast hip hop', 'golden age hip hop', 'hardcore hip hop', 'hip hop', 'old school hip hop', 'queens hip hop', 'rap']\"],[\"['rock-and-roll', 'rockabilly', 'surf music']\"],[\"['funk', 'p funk', 'soul']\"],[\"['pop rock']\"],[\"['atl hip hop', 'dance pop', 'dirty south rap', 'gangster rap', 'hip hop', 'pop rap', 'rap', 'southern hip hop', 'trap']\"],[\"['alternative rock', 'dream pop', 'noise pop', 'rock', 'shoegaze']\"],[\"['alternative rock', 'dream pop', 'noise pop', 'rock', 'shoegaze']\"],[\"['new romantic', 'new wave', 'new wave pop', 'permanent wave', 'rock', 'sophisti-pop', 'synthpop']\"],[\"['alternative rock', 'grunge', 'punk', 'rock']\"],[\"['country', 'country rock', 'honky tonk']\"],[\"['beatlesque', 'british invasion', 'classic rock', 'merseybeat', 'psychedelic rock', 'rock']\"],[\"['british folk', 'classic uk pop', 'country rock', 'folk', 'folk rock', 'psychedelic rock', 'roots rock']\"],[\"['harlem renaissance']\"],[\"['classic girl group', 'disco', 'funk', 'motown', 'quiet storm', 'soul']\"],[\"['adult standards', 'doo-wop', 'lounge', 'rock-and-roll', 'rockabilly']\"],[\"['classic uk pop', 'merseybeat', 'rock-and-roll']\"],[\"['classic soul', 'funk', 'indie r&b', 'motown', 'northern soul', 'quiet storm', 'soul']\"],[\"['alternative rock', 'art rock', 'madchester', 'new wave', 'post-punk', 'rock', 'uk post-punk']\"],[\"['classic rock', 'country rock', 'folk', 'folk rock', 'rock', 'roots rock', 'singer-songwriter']\"],[\"['album rock', 'classic rock', 'hard rock', 'rock']\"],[\"['classic rock', 'country rock', 'folk', 'folk rock', 'rock', 'roots rock', 'singer-songwriter']\"],[\"['dub', 'reggae', 'roots reggae', 'ska']\"],[\"['dark pop', 'electronica', 'laboratorio', 'trip hop']\"],[\"['blues', 'blues rock', 'chicago blues', 'classic rock', 'electric blues', 'soul', 'traditional blues']\"],[\"['dirty south rap', 'gangster rap', 'hip hop', 'houston rap', 'rap', 'southern hip hop', 'trap']\"],[\"['electronica', 'future garage', 'new rave']\"],[\"['disney', 'hollywood', 'movie tunes', 'singer-songwriter']\"],[\"['acid rock', 'album rock', 'classic rock', 'psychedelic rock', 'rock']\"],[\"['art rock', 'classic rock', 'glam rock', 'permanent wave', 'rock']\"],[\"['indie rock', 'philly indie']\"],[\"['adult standards', 'easy listening', 'lounge']\"],[\"['alternative rock', 'blues rock', 'garage rock', 'modern blues rock', 'modern rock', 'punk blues', 'rock', 'roots rock']\"],[\"['adult standards', 'dixieland', 'harlem renaissance', 'jazz', 'jazz piano', 'lounge', 'stride', 'swing', 'tin pan alley', 'vocal jazz']\"],[\"['beatlesque', 'britpop', 'madchester', 'permanent wave', 'pop rock', 'rock']\"],[\"['classic soul', 'motown', 'soul']\"],[\"['alternative dance', 'art pop', 'dance rock', 'electronica', 'electropop', 'indie rock', 'indietronica', 'modern rock', 'neo-synthpop', 'new rave']\"],[\"['album rock', 'beatlesque', 'classic rock', 'folk rock', 'mellow gold', 'rock', 'soft rock']\"],[\"['permanent wave', 'pop']\"],[\"['big beat']\"],[\"['new wave pop', 'urban contemporary']\"],[\"['country', 'country rock', 'nashville sound']\"],[\"['classic soul', 'funk', 'indie r&b', 'motown', 'northern soul', 'quiet storm', 'soul']\"],[\"['jazz blues', 'rhythm and blues', 'swing']\"],[\"['alternative rock', 'art rock', 'classic rock', 'folk rock', 'melancholia', 'permanent wave', 'protopunk', 'psychedelic rock', 'rock']\"],[\"['rock-and-roll', 'rockabilly', 'soul']\"],[\"['adult standards', 'classic soul', 'jazz blues', 'piano blues', 'soul', 'soul blues', 'vocal jazz']\"],[\"['canadian singer-songwriter', 'folk', 'folk rock', 'singer-songwriter']\"],[\"['classic rock', 'heartland rock', 'mellow gold', 'permanent wave', 'rock', 'singer-songwriter']\"],[\"['canadian singer-songwriter', 'folk', 'folk rock', 'melancholia', 'permanent wave', 'singer-songwriter']\"],[\"['classic rock', 'cosmic american', 'country rock', 'double drumming', 'jam band', 'psychedelic rock', 'rock']\"],[\"['classic rock', 'permanent wave', 'punk', 'rock']\"],[\"['rap', 'slap house']\"],[\"['art rock', 'new romantic', 'new wave', 'new wave pop', 'permanent wave', 'post-punk', 'synthpop']\"],[\"['east coast hip hop', 'hip hop', 'rap']\"],[\"['classic rock', 'glam rock', 'rock']\"],[\"['classic soul', 'funk', 'memphis soul', 'soul', 'southern soul']\"],[\"['g funk', 'gangster rap', 'hip hop', 'pop rap', 'rap', 'west coast rap']\"],[\"['alternative rock', 'art punk', 'art rock', 'dance rock', 'new romantic', 'new wave', 'post-punk', 'punk', 'rock', 'synth punk', 'synthpop', 'zolo']\"],[\"['acoustic blues', 'blues', 'delta blues', 'pre-war blues', 'traditional blues']\"],[\"['glam metal', 'hard rock', 'rock']\"],[\"['album rock', 'art rock', 'classic rock', 'progressive rock', 'psychedelic rock', 'rock', 'symphonic rock']\"],[\"['british invasion', 'classic rock', 'rock']\"],[\"['dance pop', 'pop', 'rap']\"],[\"['alternative dance', 'alternative rock', 'art pop', 'chamber pop', 'chamber psych', 'chillwave', 'collage pop', 'dream pop', 'electronica', 'experimental pop', 'indie rock', 'neo-psychedelic', 'new rave', 'noise pop']\"],[\"['bossa nova', 'brazilian classical', 'brazilian jazz', 'latin classical', 'mpb', 'violao']\"],[\"['adult standards', 'big band', 'jazz', 'jazz clarinet', 'lounge', 'stride', 'swing', 'vintage jazz', 'vocal jazz']\"],[\"['electronica', 'indie soul', 'uk alternative pop']\"],[\"['acid house', 'detroit techno', 'techno']\"],[\"['british invasion', 'classic rock', 'rock']\"],[\"['alternative rock', 'britpop', 'madchester', 'modern rock', 'permanent wave', 'pop rock', 'rock']\"],[\"['alternative rock', 'art pop', 'art rock', 'dream pop', 'indie rock', 'melancholia', 'permanent wave', 'piano rock', 'rock', 'singer-songwriter']\"],[\"['britpop', 'pop rock', 'rock']\"],[\"['disco', 'europop', 'mellow gold', 'new romantic', 'new wave', 'new wave pop', 'soft rock', 'synthpop']\"],[\"['conscious hip hop', 'g funk', 'gangster rap', 'hip hop', 'rap', 'west coast rap']\"],[\"['beatlesque', 'british invasion', 'classic rock', 'merseybeat', 'psychedelic rock', 'rock']\"],[\"['album rock', 'art rock', 'blues rock', 'classic rock', 'flute rock', 'folk rock', 'hard rock', 'progressive rock', 'psychedelic rock', 'rock', 'symphonic rock']\"],[\"['album rock', 'classic rock', 'hard rock', 'rock']\"],[\"['atl hip hop', 'hip hop', 'rap']\"],[\"['edm', 'house', 'pop', 'uk dance']\"],[\"['big beat', 'britpop', 'dance rock', 'madchester', 'new wave']\"],[\"['ambient pop', 'downtempo', 'electronica', 'trip hop']\"],[\"['art rock', 'baroque pop', 'british invasion', 'bubblegum pop', 'classic rock', 'folk rock', 'psychedelic rock', 'rock']\"],[\"['classic soul', 'disco', 'funk', 'philly soul', 'quiet storm', 'soul', 'southern soul']\"],[\"['alternative metal', 'alternative rock', 'cyberpunk', 'electronic rock', 'industrial', 'industrial metal', 'industrial rock', 'nu metal', 'rock']\"],[\"['']\"],[\"['rock-and-roll', 'rockabilly']\"],[\"['adult standards', 'brill building pop', 'doo-wop', 'rhythm and blues', 'rock-and-roll', 'rockabilly']\"],[\"['adult standards', 'mellow gold', 'soft rock']\"],[\"['alternative rock', 'indie rock', 'melancholia', 'pop rock', 'rock', 'singer-songwriter']\"],[\"['blues', 'blues rock', 'chicago blues', 'classic rock', 'electric blues', 'soul', 'traditional blues']\"],[\"['adult standards', 'classic soul', 'rock-and-roll', 'soul']\"],[\"['east coast hip hop', 'gangster rap', 'hardcore hip hop', 'hip hop', 'rap']\"],[\"['dance pop']\"],[\"['classic rock', 'country rock', 'rock', 'southern rock', 'swamp rock']\"],[\"['alternative rock', 'britpop', 'dance rock', 'madchester', 'modern rock', 'rock']\"],[\"['anti-folk', 'folk', 'folk punk', 'folk rock', 'permanent wave', 'roots rock', 'singer-songwriter', 'uk americana']\"],[\"['art rock', 'classic rock', 'glam rock', 'permanent wave', 'rock']\"],[\"['adult standards', 'deep adult standards', 'easy listening', 'lounge', 'rock-and-roll', 'rockabilly', 'vocal jazz']\"],[\"['mod revival', 'new wave', 'pub rock', 'punk', 'rock', 'ska']\"],[\"['album rock', 'birmingham metal', 'classic rock', 'hard rock', 'metal', 'rock', 'stoner rock', 'uk doom metal']\"],[\"['album rock', 'classic rock', 'hard rock', 'mellow gold', 'rock', 'soft rock']\"],[\"['classic soul', 'jazz blues', 'memphis soul', 'soul', 'southern soul']\"],[\"['adult standards', 'bebop', 'big band', 'jazz', 'lounge', 'stride', 'swing', 'vocal jazz']\"],[\"['glam rock', 'mellow gold', 'piano rock']\"],[\"['bronx hip hop', 'electro', 'old school hip hop']\"],[\"['classic rock', 'heartland rock', 'mellow gold', 'permanent wave', 'rock', 'singer-songwriter']\"],[\"['alternative dance', 'alternative rock', 'brooklyn indie', 'indie rock', 'indietronica', 'modern rock', 'new rave', 'rock']\"],[\"['east coast hip hop', 'gangster rap', 'hardcore hip hop', 'hip hop', 'hip pop', 'new jersey rap', 'pop rap', 'rap']\"],[\"['adult standards', 'rock-and-roll', 'rockabilly']\"],[\"['alternative dance', 'alternative rock', 'dance-punk', 'garage rock', 'indie rock', 'modern rock', 'new rave', 'rock']\"],[\"['classic soul', 'rhythm and blues', 'rock-and-roll', 'soul', 'southern soul']\"],[\"['art rock', 'permanent wave']\"],[\"['classic rock', 'country rock', 'folk', 'folk rock', 'rock', 'roots rock', 'singer-songwriter']\"],[\"['alternative dance', 'dance-punk', 'indie rock', 'modern rock', 'new rave', 'rock']\"],[\"['baroque pop', 'classic rock', 'psychedelic rock', 'rock', 'sunshine pop']\"],[\"['motown', 'northern soul', 'soul']\"],[\"['dance pop', 'disco', 'philly soul', 'post-disco', 'quiet storm', 'soul']\"],[\"['dance pop', 'europop', 'girl group']\"],[\"['adult standards', 'motown', 'soul']\"],[\"['british invasion', 'classic rock', 'rock']\"],[\"['candy pop', 'new wave', 'new wave pop', 'permanent wave', 'power pop', 'rock']\"],[\"['east coast hip hop', 'electro', 'harlem hip hop', 'hip hop', 'hip house', 'old school hip hop', 'rap']\"],[\"['baroque pop', 'indie rock', 'modern rock', 'rock']\"],[\"['beatlesque', 'british invasion', 'classic rock', 'merseybeat', 'psychedelic rock', 'rock']\"],[\"['disco', 'hi-nrg', 'post-disco']\"],[\"['permanent wave', 'punk']\"],[\"['lilith', 'new wave pop', 'permanent wave', 'pop rock', 'singer-songwriter']\"],[\"['art rock', 'british folk', 'canterbury scene', 'experimental', 'experimental rock', 'psychedelic rock', 'zolo']\"],[\"['bubblegum pop', 'classic girl group', 'rock-and-roll']\"],[\"['canadian singer-songwriter', 'folk', 'folk rock', 'singer-songwriter']\"],[\"['album rock', 'art rock', 'blues rock', 'classic rock', 'folk rock', 'hard rock', 'psychedelic rock', 'rock', 'roots rock', 'supergroup', 'symphonic rock']\"],[\"['disco', 'new wave pop', 'soft rock']\"],[\"['europop', 'swedish pop']\"],[\"['classic girl group', 'disco', 'funk', 'motown', 'quiet storm', 'soul']\"],[\"['album rock', 'art rock', 'blues rock', 'british blues', 'british invasion', 'classic rock', 'country rock', 'folk rock', 'freakbeat', 'hard rock', 'psychedelic rock', 'rock', 'roots rock', 'symphonic rock']\"],[\"['album rock', 'art rock', 'blues rock', 'classic rock', 'country rock', 'folk rock', 'glam rock', 'hard rock', 'mellow gold', 'protopunk', 'psychedelic rock', 'rock', 'roots rock', 'soft rock']\"],[\"['classic soul', 'funk', 'memphis soul', 'quiet storm', 'soul', 'soul blues', 'southern soul']\"],[\"['beatlesque', 'british invasion', 'classic rock', 'merseybeat', 'psychedelic rock', 'rock']\"],[\"['acoustic blues', 'blues', 'country blues', 'gospel blues', 'texas blues', 'traditional blues']\"],[\"['album rock', 'classic rock', 'mellow gold', 'rock', 'soft rock', 'yacht rock']\"],[\"['beatlesque', 'british invasion', 'classic rock', 'merseybeat', 'psychedelic rock', 'rock']\"],[\"['adult standards', 'doo-wop', 'lounge', 'rock-and-roll', 'rockabilly']\"],[\"['album rock', 'glam rock', 'hard rock', 'metal', 'rock']\"],[\"['french jazz', 'gypsy jazz', 'jazz', 'jazz guitar', 'swing']\"],[\"['contemporary post-bop', 'funk', 'instrumental funk', 'jazz', 'jazz funk', 'jazz fusion', 'jazz piano', 'uk contemporary jazz']\"],[\"['alternative rock', 'indie pop', 'indie rock', 'rock']\"],[\"['album rock', 'art rock', 'blues rock', 'british invasion', 'classic rock', 'hard rock', 'mellow gold', 'psychedelic rock', 'rock']\"],[\"['adult standards', 'bubblegum pop', 'lounge', 'rock-and-roll', 'rockabilly', 'soul']\"],[\"['art punk', 'art rock', 'dance rock', 'funk rock', 'new wave', 'permanent wave', 'post-punk', 'rock', 'zolo']\"],[\"['bubblegum pop', 'classic rock', 'country rock', 'folk rock', 'mellow gold', 'merseybeat', 'psychedelic rock']\"],[\"['funk', 'soul']\"],[\"['adult standards', 'motown', 'soul']\"],[\"['alternative rock', 'art rock', 'dream pop', 'gothic rock', 'new romantic', 'new wave', 'new wave pop', 'post-punk', 'uk post-punk']\"],[\"['album rock', 'art rock', 'blues rock', 'classic rock', 'folk rock', 'glam rock', 'protopunk', 'psychedelic rock', 'rock']\"],[\"['dance pop', 'girl group', 'hip pop', 'pop', 'r&b', 'urban contemporary']\"],[\"['alternative rock', 'art rock', 'melancholia', 'oxford indie', 'permanent wave', 'rock']\"],[\"['acoustic blues', 'appalachian folk', 'blues', 'country blues', 'delta blues', 'folk', 'texas blues', 'traditional blues', 'traditional folk']\"],[\"['atmospheric dnb', 'big beat', 'drum and bass', 'drumfunk', 'hardcore techno', 'jungle']\"],[\"['canadian singer-songwriter', 'classic canadian rock', 'classic rock', 'mellow gold', 'permanent wave', 'rock', 'roots rock', 'singer-songwriter']\"],[\"['east coast hip hop', 'gangster rap', 'hip hop', 'new jersey rap']\"],[\"['album rock', 'blues rock', 'classic rock', 'country rock', 'double drumming', 'folk rock', 'hard rock', 'jam band', 'mellow gold', 'rock', 'roots rock', 'soft rock', 'southern rock']\"],[\"['adult standards', 'doo-wop', 'louisiana blues', 'memphis blues', 'new orleans blues', 'rhythm and blues', 'rock-and-roll', 'rockabilly', 'soul']\"],[\"['adult standards', 'chicago soul', 'classic soul', 'funk', 'quiet storm', 'rhythm and blues', 'rock-and-roll', 'rockabilly', 'soul']\"],[\"['disco', 'funk', 'popping', 'post-disco', 'quiet storm', 'soul', 'urban contemporary']\"],[\"['alternative rock', 'boston rock', 'modern rock', 'permanent wave', 'rock']\"],[\"['gangster rap', 'hardcore hip hop', 'hip hop', 'rap', 'rap rock', 'west coast rap']\"],[\"['adult standards', 'bubblegum pop', 'lounge', 'rock-and-roll', 'rockabilly', 'soul']\"],[\"['']\"],[\"['alternative rock', 'art rock', 'dance rock', 'madchester', 'new romantic', 'new wave', 'new wave pop', 'permanent wave', 'pop rock', 'post-punk', 'rock', 'synthpop', 'uk post-punk']\"],[\"['art pop', 'dance pop', 'electropop', 'europop', 'pop', 'scandipop', 'swedish electropop', 'swedish pop']\"],[\"['']\"],[\"['album rock', 'art rock', 'beatlesque', 'classic rock', 'folk rock', 'mellow gold', 'rock', 'soft rock']\"],[\"['adult standards', 'classic soul', 'jazz blues', 'piano blues', 'soul', 'soul blues', 'vocal jazz']\"],[\"['classic rock', 'country rock', 'folk', 'folk rock', 'rock', 'roots rock', 'singer-songwriter']\"],[\"['dance pop']\"],[\"['bubblegum pop', 'classic rock', 'folk rock', 'psychedelic rock']\"],[\"['art pop', 'dance pop', 'electropop', 'europop', 'pop', 'scandipop', 'swedish electropop', 'swedish pop']\"],[\"['rock-and-roll', 'rockabilly']\"],[\"['dance pop', 'pop']\"],[\"['adult standards', 'doo-wop', 'rhythm and blues', 'rock-and-roll', 'rockabilly']\"],[\"['honky tonk', 'traditional country', 'yodeling']\"],[\"['chicago rap', 'rap']\"],[\"['adult standards', 'classic soul', 'rock-and-roll', 'soul']\"],[\"['dance pop', 'disco', 'funk', 'neo soul', 'post-disco', 'quiet storm', 'soul', 'urban contemporary']\"],[\"['album rock', 'blues rock', 'classic rock', 'country rock', 'double drumming', 'folk rock', 'hard rock', 'jam band', 'mellow gold', 'rock', 'roots rock', 'soft rock', 'southern rock']\"],[\"['album rock', 'art rock', 'classic rock', 'hard rock', 'mellow gold', 'new romantic', 'new wave', 'new wave pop', 'permanent wave', 'pop rock', 'power pop', 'rock', 'soft rock']\"],[\"['british invasion', 'classic rock', 'rock']\"],[\"['alternative hip hop', 'conscious hip hop', 'east coast hip hop', 'gangster rap', 'golden age hip hop', 'hardcore hip hop', 'hip hop', 'jazz rap', 'queens hip hop', 'rap']\"],[\"['afrofuturism', 'funk', 'funk rock', 'p funk', 'soul']\"],[\"['conscious hip hop', 'hip hop', 'rap', 'underground hip hop']\"],[\"['classic rock', 'glam rock', 'rock']\"],[\"['alternative rock', 'art rock', 'madchester', 'new wave', 'post-punk', 'rock', 'uk post-punk']\"],[\"['album rock', 'art rock', 'classic rock', 'country rock', 'folk rock', 'mellow gold', 'psychedelic rock', 'rock', 'soft rock', 'yacht rock']\"],[\"['chamber pop', 'folk', 'indie folk', 'indie pop', 'indie rock', 'seattle indie', 'stomp and holler']\"],[\"['alternative rock', 'anti-folk', 'indie rock', 'modern rock', 'permanent wave', 'rock']\"],[\"['blues rock', 'classic rock', 'mexican classic rock']\"],[\"['britpop', 'scottish new wave', 'solo wave']\"],[\"['chicago soul', 'classic soul', 'funk', 'soul']\"],[\"['classic rock', 'rock', 'rock-and-roll', 'rockabilly']\"],[\"['mellow gold']\"],[\"['punk', 'ska', 'ska revival']\"],[\"['birmingham hip hop', 'uk garage']\"],[\"['alternative dance', 'indietronica', 'modern rock', 'rock']\"],[\"['album rock', 'classic rock', 'hard rock', 'metal', 'rock']\"],[\"['dance pop']\"],[\"['alternative hip hop', 'gangster rap', 'hardcore hip hop', 'hip hop', 'rap', 'southern hip hop', 'trap', 'virginia hip hop']\"],[\"['alternative rock', 'art rock', 'classic rock', 'folk rock', 'melancholia', 'permanent wave', 'protopunk', 'psychedelic rock', 'rock']\"],[\"['alternative pop', 'alternative rock', 'anti-folk', 'indie rock', 'new wave', 'permanent wave', 'pop rock', 'post-punk', 'power pop', 'punk', 'roots rock']\"],[\"['big band', 'tin pan alley']\"],[\"['art rock', 'dance rock', 'mellow gold', 'new romantic', 'new wave', 'new wave pop', 'rock', 'scottish new wave', 'soft rock', 'synthpop']\"],[\"['beatlesque', 'british invasion', 'classic rock', 'merseybeat', 'psychedelic rock', 'rock']\"],[\"['classic country pop', 'nashville sound', 'traditional country']\"],[\"['bassline', 'grime', 'house', 'instrumental grime', 'pop rap']\"],[\"['afrobeat', 'afropop', 'makossa', 'world']\"],[\"['alternative rock', 'art rock', 'dance rock', 'madchester', 'new romantic', 'new wave', 'new wave pop', 'permanent wave', 'pop rock', 'post-punk', 'rock', 'synthpop', 'uk post-punk']\"],[\"['african-american classical', 'big band', 'harlem renaissance', 'jazz', 'jazz piano', 'swing']\"],[\"['appalachian folk', 'bluegrass', 'country gospel', 'folk', 'old-time', 'traditional country', 'traditional folk', 'vocal harmony group']\"],[\"['ambient house', 'electronica', 'intelligent dance music', 'trip hop']\"],[\"['rhythm and blues', 'rock-and-roll']\"],[\"['chicago rap', 'rap']\"],[\"['album rock', 'art rock', 'british invasion', 'classic rock', 'folk rock', 'glam rock', 'mellow gold', 'protopunk', 'psychedelic rock', 'rock']\"],[\"['acid rock', 'album rock', 'blues rock', 'classic rock', 'hard rock', 'proto-metal', 'psychedelic rock', 'rock']\"],[\"['acoustic blues', 'appalachian folk', 'blues', 'country blues', 'delta blues', 'pre-war blues', 'traditional blues', 'traditional folk']\"],[\"['art pop', 'dance rock', 'europop', 'new romantic', 'new wave', 'new wave pop', 'permanent wave', 'synthpop']\"],[\"['adult standards', 'easy listening', 'lounge']\"],[\"['dark pop', 'electronica', 'laboratorio', 'trip hop']\"],[\"['hip hop', 'melodic rap', 'mississippi hip hop', 'pop rap', 'rap', 'southern hip hop', 'trap']\"],[\"['bebop', 'big band', 'jazz', 'jazz trumpet', 'swing']\"],[\"['chicago soul', 'classic soul', 'motown', 'northern soul', 'rhythm and blues', 'soul', 'southern soul']\"],[\"['adult standards', 'classic soul', 'disco', 'funk', 'mellow gold', 'motown', 'quiet storm', 'soul']\"],[\"['baroque pop', 'classic rock', 'psychedelic rock', 'rock', 'sunshine pop']\"],[\"['indie punk', 'olympia wa indie', 'riot grrrl']\"],[\"['bakersfield sound', 'country rock']\"],[\"['art pop', 'baltimore indie', 'bubblegrunge', 'indie pop', 'indie rock']\"],[\"['classic soul', 'funk', 'memphis soul', 'motown', 'soul']\"],[\"['']\"],[\"['bluegrass gospel', 'country boogie', 'country gospel', 'yodeling']\"],[\"['adult standards', 'bubblegum pop', 'lounge', 'rock-and-roll', 'rockabilly', 'soul']\"],[\"['surf music']\"],[\"['alternative pop', 'alternative rock', 'britpop', 'candy pop']\"],[\"['disco', 'philly soul', 'post-disco', 'quiet storm']\"],[\"['harlem renaissance', 'traditional blues']\"],[\"['atl hip hop']\"],[\"['alternative dance', 'big beat', 'breakbeat', 'electronica', 'new rave', 'rave']\"],[\"['album rock', 'classic rock', 'hard rock', 'mellow gold', 'rock', 'soft rock']\"],[\"['classic rock', 'country rock', 'folk', 'folk rock', 'rock', 'roots rock', 'singer-songwriter']\"],[\"['baroque pop', 'canadian indie', 'indie rock', 'modern rock', 'permanent wave', 'quebec indie', 'rock']\"],[\"['uk alternative pop']\"],[\"['hot jazz']\"],[\"['ska', 'ska revival']\"]],\"hovertemplate\":\"x=%{x}<br>y=%{y}<br>genres=%{customdata[0]}<br>cluster=%{marker.color}<extra></extra>\",\"legendgroup\":\"\",\"marker\":{\"color\":[5,4,0,0,3,2,6,4,1,7,2,3,4,4,6,5,5,7,0,4,7,3,0,3,8,2,3,5,8,0,2,7,4,1,8,3,2,1,7,6,0,7,6,2,7,2,5,4,1,4,2,3,6,7,6,1,5,5,4,7,4,0,4,7,1,2,0,6,2,6,8,1,4,0,2,1,4,2,5,2,4,3,1,3,6,0,6,4,2,1,0,7,5,2,1,1,2,3,7,4,0,3,3,1,7,3,8,4,7,2,3,2,0,3,4,5,4,2,6,7,3,8,1,7,3,3,8,0,2,3,0,0,3,3,0,4,4,7,6,1,3,4,0,3,0,2,1,2,5,6,7,0,6,5,7,8,0,8,3,3,4,4,2,2,6,5,2,0,5,4,6,7,3,5,2,4,2,5,2,3,2,3,0,0,4,3,7,2,4,7,2,7,0,1,8,2,3,3,1,5,4,2,5,3,4,3,7,8,7,3,0,8,6,3,0,7,0,7,4,1,7,7,4,2,0,1,2,8,3,3,7,1,6,5,6,7,8,8,3,1,2,5,1,4,3,6,4,4,5,0,1,8,1,3,2,7,2,4,1,4,7,3,5,2,8,4,8,6,0,7,6,4,0,7,0,6,0,6,2,1,4,2,5,8,7,7,1,1,2,3,4,6,2,1,3,3,3,3,8,3,6,1,6,3,5,0,4,1,1,7,7,4,7,0,3,4,7,0,4,4,6,4,3,6,2,4,3,4,2,2,0,7,1,2,6,8,8,2,8,7,4,2,4,1,2,7,2,5,8,0,6,0,4,1,2,3,8,6,6,6,3,6,4,7,4,4,7,6,8,4,3,1,8,3,0,3,1,6,8,5,8,5,6,1,1,0,7,4,8,3,3,8,1,1,1,2,1,3,7,1,2,1,1,4,4,5,1,7,3,2,1,7,1,6,1,8,6,6,7,6,0,0,2,7,3,4,2,2,5,8,3,8,2,0,5,8,6,4,6,6,1,6,2,6,5,3,4,7,7,4,1,3,5,8,0,2,6,4,8,6,6,0,7,8,5,6,0,0,8,1,2,3,2,2,7,1,4,8,6,6,1,3,7,4,7,4,3,6,3,5,7,2,1,8,5,4,1,5,2,0,7,1,5,4,6,2,7,3,6,4,5,2,6,5,4,1,7,6,4,5,0,6,2,1,4,4,2,3,3,7,4,0,8,1,6,0,1,8,3,4,2,7,8,3,0,5,4,8,0,0,5,4,8,8,7,5,0,6,6,3,1,5,2,1,8,4,8,2,0,6,4,7,2,7,4,3,2,4,2,1,3,2,2,2,1,2,2,1,4,7,2,2,5,6,8,8,5,0,0,8,8,4,8,6,3,5,5,1,8,0,7,1,3,2,2,2,2,8,0,8,5,8,7,2,6,8,6,5,4,7,4,7,0,4,1,1,4,8,6,7,5,8,2,6,7,8,3,8,4,7,1,1,2,4,7,4,1,6,6,1,5,4,2,3,1,4,2,7,7,6,6,3,1,3,7,6,5,3,4,8,4,4,7,4,0,0,6,6,4,4,3,3,4,5,7,4,7,1,3,2,7,6,7,4,2,1,4,2,2,4,6,0,7,7,7,2,4,2,5,4,0,3,2,3,4,8,7,7,4,2,5,0,1,7,5,8,8,6,7,4,3,1,6,4,6,8,8,5,4,2,2,3,8,8,2,3,2,8,1,2,8,7,2,4,1,1,3,6,5,8,1,0,8,7,4,5,2,1,2,2,5,7,7,4,3,4,0,1,4,2,7,2,8,5,8,7,2,4,2,6,1,5,7,7,7,4,0,8,1,1,7,4,7,6,6,3,5,1,0,6,8,5,6,2,2,4,0,5,8,4,6,7,6,1,3,8,6,7,1,2,4,6,1,1,7,3,7,7,5,2,4,2,7,0,0,0,4,4,8,4,8,8,1,8,3,1,5,5,4,5,7,0,3,2,0,8,4,1,4,8,6,8,4,3,4,4,5,4,2,5,7,3,1,7,3,3,5,5,8,4,2,0,7,5,2,0,2,8,4,0,3,2,4,8,5,8,7,7,6,1,0,5,2,1,6,4,1,4,4,6,4,8,8,8,8,5,8,1,8,3,2,6,7,6,3,1,8,4,4,6,5,3,1,7,4,0,7,7,0,3,8,8,4,3,3,2,2,7,7,2,2,6,8,7,5,7,8,5,1,1,7,4,3,4,4,7,1,8,5,4,3,7,8,7,1,0,3,2,6,7,7,7,4,6,0,3,0,4,6,4,3,3,7,4,7,3,3,7,0,3,0,8,5,2,5,0,3,2,3,8,6,3,2,3,2,7,2,7,5,6,2,4,0,2,5,4,2,3,5,7,5,2,4,2,6,4,6,8,7,8,3,7,7,6,8,3,7,3,4,1,6,8,0,8,5,2,3,3,7,1,6,5,0,3,8,8,7,6,2,2,8,2,6,5,6,1,7,8,7],\"coloraxis\":\"coloraxis\",\"symbol\":\"circle\"},\"mode\":\"markers\",\"name\":\"\",\"showlegend\":false,\"x\":[8.678243637084961,8.7106351852417,-20.570486068725586,-19.99500846862793,-39.78510284423828,44.962432861328125,9.601024627685547,13.293169021606445,-6.715877532958984,13.30449104309082,42.49110794067383,-41.7530403137207,16.071802139282227,13.917451858520508,9.819928169250488,4.055587291717529,5.828949451446533,15.088894844055176,-23.30162239074707,9.424185752868652,8.71216106414795,-36.913753509521484,-20.303361892700195,-40.85819625854492,-26.47068977355957,40.437896728515625,-38.397789001464844,1.8770389556884766,-23.804414749145508,-24.813154220581055,47.488346099853516,10.136955261230469,15.858885765075684,-8.785812377929688,-29.636722564697266,-41.07943344116211,41.40562438964844,-2.435044765472412,11.628500938415527,5.14717960357666,-20.9659366607666,13.494579315185547,12.499358177185059,49.74666976928711,7.524648666381836,39.0841178894043,0.32198747992515564,0.37474524974823,-0.5152878761291504,17.565793991088867,36.5903434753418,-42.728370666503906,5.613993167877197,10.939362525939941,9.848448753356934,-6.355964660644531,7.277951240539551,6.197493076324463,14.141961097717285,17.00244140625,3.3837268352508545,-21.153627395629883,7.435454845428467,9.646909713745117,34.90841293334961,47.556983947753906,-21.661380767822266,4.659393787384033,38.43867874145508,1.7764933109283447,-35.673458099365234,-2.9128689765930176,10.117472648620605,-28.77241325378418,42.29934310913086,-6.3683061599731445,7.601120471954346,45.011409759521484,9.148842811584473,49.76292419433594,6.291993618011475,-38.16996765136719,-4.299674034118652,-39.643856048583984,6.901261806488037,-23.36409568786621,8.708120346069336,11.515931129455566,46.089962005615234,-5.500813007354736,-21.154644012451172,10.77506160736084,15.174235343933105,48.50463104248047,-4.504748344421387,-11.597555160522461,44.3103141784668,-39.291648864746094,16.609617233276367,13.380574226379395,-19.862096786499023,-33.99514389038086,-34.358177185058594,-8.095297813415527,10.594029426574707,-38.617366790771484,-29.39009666442871,3.809591293334961,17.0196533203125,45.87757873535156,-40.59585189819336,44.220481872558594,-22.375526428222656,-36.97397994995117,8.269389152526855,-0.6648207306861877,11.869903564453125,37.442596435546875,5.042205810546875,7.48150634765625,-44.99164962768555,-28.943588256835938,-4.408757209777832,5.880204677581787,-45.537635803222656,-44.41928482055664,-24.716567993164062,-25.561368942260742,46.51251220703125,-41.36370849609375,-21.749208450317383,-27.739595413208008,-40.71322250366211,-38.10594940185547,-28.12975311279297,7.079934120178223,10.808648109436035,13.326020240783691,6.4459614753723145,-9.176852226257324,-38.80590057373047,3.3922033309936523,-22.509479522705078,-36.33896255493164,-23.196889877319336,41.85203170776367,-10.267148971557617,46.18385696411133,12.337735176086426,10.577662467956543,2.1367380619049072,-20.498804092407227,5.324158191680908,-2.5592312812805176,13.569903373718262,-30.16249656677246,-23.079328536987305,-38.01863479614258,-36.6298942565918,-42.86069107055664,8.166071891784668,7.923068046569824,45.91952133178711,46.4167594909668,13.259425163269043,12.095693588256836,49.07929229736328,-21.47701072692871,4.675386905670166,13.812434196472168,2.574632167816162,3.756852865219116,-38.62675476074219,3.2758290767669678,42.03031539916992,3.7996091842651367,45.2902717590332,5.723480701446533,37.23401641845703,-39.1362190246582,44.53449630737305,-40.52965545654297,-21.14006996154785,-19.036008834838867,8.073394775390625,-41.9318733215332,15.06733226776123,49.7109375,3.949321985244751,11.176438331604004,46.19205093383789,13.634771347045898,-29.50334930419922,-11.049263954162598,-30.28127670288086,38.71086883544922,-38.93682861328125,-37.998497009277344,39.49726486206055,9.647701263427734,11.340235710144043,40.84489059448242,-0.09001296758651733,-45.69053649902344,-0.4773813486099243,-38.627967834472656,2.0592076778411865,-36.8698616027832,3.3907737731933594,-37.671329498291016,-23.306493759155273,-27.765512466430664,9.969217300415039,-38.18580627441406,-24.76578712463379,10.811355590820312,-24.610397338867188,9.006762504577637,15.034893989562988,-5.438094139099121,8.869828224182129,13.22311782836914,8.428163528442383,47.65361785888672,-28.1595516204834,-12.241958618164062,48.67716979980469,-27.468589782714844,-43.4115104675293,-44.485748291015625,4.990360736846924,-3.935866117477417,13.228604316711426,-2.794969081878662,2.2713334560394287,13.789729118347168,-40.93579864501953,-38.055686950683594,-36.08155059814453,-3.3586196899414062,44.43901443481445,0.1391531229019165,-7.260829448699951,7.567558765411377,-44.5953483581543,2.9115912914276123,1.684099793434143,15.514683723449707,4.7963409423828125,-22.86715316772461,-7.0711565017700195,-24.97081756591797,-2.6988072395324707,-40.93363571166992,42.889835357666016,8.752030372619629,36.764808654785156,13.030559539794922,-3.9957568645477295,10.104413986206055,10.34606647491455,-38.5515251159668,2.862872362136841,48.602638244628906,-29.241966247558594,16.118436813354492,-26.24945640563965,14.621919631958008,-27.001754760742188,5.404231071472168,4.867850303649902,13.732138633728027,-28.31571388244629,3.2388916015625,-26.81774139404297,7.227294445037842,-23.829116821289062,9.079742431640625,46.84299850463867,-3.9515318870544434,5.78858757019043,39.2807731628418,15.192638397216797,-26.918498992919922,7.110256195068359,2.2286157608032227,-7.747686862945557,-6.488574028015137,42.81217575073242,-39.89748764038086,8.789811134338379,5.88041877746582,45.43562698364258,-4.4896697998046875,-39.15007781982422,-37.26590347290039,-42.69879913330078,-42.654815673828125,-35.27264404296875,-36.7830810546875,14.619297981262207,-0.20372316241264343,3.241119861602783,-36.21742248535156,0.07198889553546906,-18.217668533325195,6.89362096786499,-3.859938859939575,-8.028604507446289,10.14977741241455,4.386520862579346,7.2679314613342285,11.592735290527344,-22.926513671875,-41.34821319580078,16.531618118286133,13.204240798950195,-20.74967384338379,3.734907627105713,3.0675714015960693,4.732631683349609,10.609124183654785,-42.08672332763672,6.6848883628845215,38.91773223876953,10.210563659667969,-41.00701904296875,12.27656364440918,48.014774322509766,40.28440856933594,-26.36622428894043,9.233633995056152,-1.3633025884628296,47.84275436401367,13.671103477478027,-29.578092575073242,-33.31203079223633,47.5225944519043,-31.802034378051758,2.834446668624878,17.254966735839844,37.23099899291992,16.608861923217773,-2.3296995162963867,36.73091125488281,12.221373558044434,37.26402282714844,5.726663589477539,-38.89076614379883,-22.60388946533203,5.942673206329346,-22.367218017578125,0.2837987542152405,-7.814718246459961,42.07365036010742,-40.11043167114258,-34.19577407836914,6.707686424255371,5.803478717803955,9.037623405456543,-40.03313064575195,1.7351891994476318,6.823957920074463,6.291090965270996,6.570605754852295,7.543837070465088,13.620360374450684,17.017305374145508,-27.473709106445312,7.032990455627441,-36.52256774902344,-11.415486335754395,-38.334346771240234,-44.06276321411133,-28.9206485748291,-42.03402328491211,-4.317001819610596,14.94538402557373,-37.93795394897461,6.462299823760986,-27.514339447021484,1.0880478620529175,8.609440803527832,-5.460876941680908,0.09954388439655304,-25.63688087463379,10.848374366760254,10.182670593261719,-31.796541213989258,-38.09991455078125,-37.34511947631836,-37.20124816894531,-8.394829750061035,-3.398714303970337,-2.661720037460327,38.71909713745117,-8.569840431213379,-36.4030647277832,4.076685905456543,-0.5455304384231567,46.16854476928711,-7.704197883605957,-8.029109001159668,6.595158576965332,11.380664825439453,0.5521698594093323,-4.678378105163574,8.891992568969727,-38.488433837890625,38.51612091064453,-6.153624534606934,7.7725934982299805,-11.549467086791992,10.052696228027344,-8.55998706817627,-30.917678833007812,8.77639389038086,9.55260944366455,2.7191693782806396,8.01034164428711,-22.40236473083496,-20.141263961791992,47.96586608886719,12.196236610412598,-38.35799026489258,10.759539604187012,37.02320098876953,42.651023864746094,-1.864575982093811,-36.23555374145508,-41.85358428955078,-27.022764205932617,35.531829833984375,-28.386640548706055,8.964756965637207,-41.48110580444336,4.221573829650879,8.833915710449219,1.50764799118042,4.4067792892456055,-3.687505006790161,5.967268943786621,39.28408432006836,7.763707160949707,5.8668212890625,-39.20985412597656,8.145899772644043,10.394063949584961,6.127556800842285,5.2429046630859375,-10.090563774108887,-40.16432571411133,4.188616752624512,-29.064966201782227,-20.16946029663086,43.792152404785156,8.31611156463623,4.7645344734191895,-28.071720123291016,16.073030471801758,5.566842079162598,-23.676172256469727,9.940164566040039,-32.23129653930664,5.384394645690918,16.215829849243164,-21.670536041259766,-21.37192726135254,-35.68260955810547,-4.869087219238281,41.794857025146484,-37.187801361083984,45.93726348876953,41.29825973510742,8.01072883605957,-3.571537971496582,9.832597732543945,-25.58736801147461,13.988425254821777,2.8235538005828857,-12.063401222229004,-37.45199203491211,12.955667495727539,8.171801567077637,14.927308082580566,14.61540699005127,-38.33920669555664,4.05694580078125,-39.16838073730469,3.7285492420196533,8.110372543334961,50.97225570678711,-6.830225467681885,-35.47626495361328,10.23784351348877,11.457048416137695,-7.0579681396484375,5.307526588439941,37.59391784667969,-22.403011322021484,7.900182247161865,-7.16253137588501,8.349519729614258,17.373371124267578,8.801324844360352,40.101932525634766,16.24785804748535,-42.760704040527344,14.622812271118164,3.994903326034546,5.144863605499268,47.96673583984375,14.541845321655273,1.3013207912445068,12.011147499084473,-11.479238510131836,5.10093879699707,15.115336418151855,7.743753433227539,6.824831008911133,-20.909988403320312,4.449507713317871,50.54693603515625,-5.972418785095215,7.926451206207275,11.112517356872559,38.23501205444336,-40.87842559814453,-43.79750442504883,8.332444190979004,12.204324722290039,-21.879343032836914,-27.80895233154297,-3.4750380516052246,3.291321277618408,-20.60591697692871,-5.796718597412109,-31.85922622680664,-41.0095329284668,4.517080783843994,48.52456283569336,4.067331314086914,-29.549026489257812,-44.74363708496094,-29.3250732421875,7.850543975830078,8.028023719787598,-35.79673385620117,-22.02810287475586,-25.55556869506836,8.139705657958984,4.348529815673828,-25.871658325195312,-37.816402435302734,5.627058982849121,0.14460784196853638,-19.954364776611328,10.259222030639648,10.299866676330566,-39.99370193481445,-2.5778300762176514,0.9979493021965027,45.756805419921875,-11.037116050720215,-28.574831008911133,3.5266215801239014,-39.11196517944336,44.691001892089844,-21.321949005126953,16.468242645263672,5.631418228149414,1.4992344379425049,38.93693542480469,12.162879943847656,6.394301414489746,-39.46833419799805,49.359840393066406,13.283184051513672,45.084102630615234,-6.263976097106934,-43.776485443115234,42.97663116455078,44.11130142211914,44.104339599609375,-6.1086225509643555,44.60890579223633,46.929195404052734,-8.22914981842041,8.110441207885742,6.761436462402344,40.0213508605957,45.062252044677734,6.457449436187744,9.39279556274414,-38.085731506347656,-34.01992416381836,1.1499946117401123,-26.479530334472656,-27.848039627075195,-28.739803314208984,-35.493446350097656,6.18250036239624,-27.11650848388672,15.876315116882324,-36.57688522338867,15.644684791564941,-1.4252891540527344,-0.9347251653671265,-27.74226188659668,-25.163400650024414,3.518829345703125,-3.1802189350128174,-44.60032653808594,41.659324645996094,49.142330169677734,43.60982894897461,38.55925750732422,-38.42215347290039,-23.068851470947266,-34.56935501098633,6.928217887878418,-31.82308578491211,15.868496894836426,44.3515510559082,15.15819263458252,-29.138059616088867,6.6648478507995605,1.577317476272583,3.8161072731018066,12.954614639282227,10.48302173614502,7.858456611633301,-22.89741325378418,5.9744367599487305,-2.4372365474700928,-11.45629596710205,14.073086738586426,-24.532512664794922,7.021795749664307,7.007669448852539,15.237136840820312,-26.754619598388672,42.781166076660156,10.817699432373047,4.655498027801514,-29.13298225402832,-39.14569854736328,-26.194154739379883,1.421783447265625,1.4504417181015015,-2.4752707481384277,-11.247900009155273,48.12888717651367,6.434327602386475,12.553526878356934,8.183565139770508,-5.380270957946777,14.496437072753906,16.61032485961914,-4.385758399963379,-0.5272679328918457,17.165735244750977,37.19363784790039,-41.66140365600586,-4.885045051574707,8.994133949279785,40.948429107666016,7.834793567657471,13.19898796081543,3.5412325859069824,3.9125969409942627,-39.3974609375,-8.31985855102539,-39.08631896972656,18.183589935302734,2.5345637798309326,5.2100396156311035,-40.16407775878906,1.6406118869781494,-34.72113800048828,16.279565811157227,12.197123527526855,15.256165504455566,9.105705261230469,-21.57499885559082,-25.70498275756836,2.279541015625,9.117057800292969,16.587257385253906,4.817944049835205,-43.455055236816406,-37.9169807434082,7.589510440826416,8.231314659118652,3.903730869293213,16.337827682495117,4.2480597496032715,-3.670948028564453,-36.400901794433594,44.94648361206055,8.178544044494629,12.5921630859375,15.05087661743164,7.4361701011657715,45.61579132080078,-0.9874564409255981,7.5388922691345215,48.128211975097656,38.48381423950195,7.693687915802002,9.416264533996582,-23.141407012939453,14.706751823425293,2.3049042224884033,2.3559443950653076,41.43540954589844,14.97249984741211,35.71329116821289,0.5259993672370911,14.089406967163086,-22.905900955200195,-41.51963806152344,46.93083953857422,-37.94984436035156,0.26246628165245056,-39.98496627807617,4.767583847045898,4.37238073348999,16.971065521240234,41.336875915527344,1.4260834455490112,-24.69032859802246,-5.680794715881348,3.1119022369384766,11.832426071166992,-25.6426944732666,-23.88088035583496,12.461514472961426,18.13431739807129,15.419898986816406,-36.81072235107422,-11.365856170654297,9.859210014343262,-0.3359813988208771,3.598597288131714,-32.22893142700195,-25.71272850036621,6.996568202972412,14.49099349975586,46.01592254638672,40.67836380004883,-40.46546936035156,-25.701831817626953,-34.43232727050781,41.66970443725586,-41.2101936340332,46.197303771972656,-38.2723274230957,-8.62355899810791,49.86921310424805,-24.551271438598633,1.503487229347229,39.42618942260742,7.552169322967529,-12.546571731567383,-2.2545487880706787,-41.77217102050781,13.36867618560791,3.5480868816375732,-30.765348434448242,-6.7096266746521,-22.265357971191406,-25.807886123657227,5.835150241851807,18.223861694335938,12.093687057495117,36.11164093017578,-11.78425407409668,40.47893524169922,43.01428985595703,7.696063995361328,3.144458293914795,12.642662048339844,5.148804187774658,-42.06947708129883,8.640843391418457,-27.68495750427246,-1.1906182765960693,12.719436645507812,48.03848648071289,12.360139846801758,45.2087516784668,-26.720048904418945,2.192654609680176,-28.23696517944336,10.765352249145508,43.39449691772461,9.260986328125,44.2478141784668,8.436129570007324,-8.843513488769531,15.586978912353516,7.575977325439453,2.523381471633911,16.906600952148438,11.104777336120605,-22.826805114746094,-36.667842864990234,-2.5596818923950195,-4.13275671005249,8.074816703796387,8.64766788482666,1.821743369102478,8.74910831451416,7.6453142166137695,-33.738914489746094,7.417805194854736,-3.5506155490875244,-21.39176368713379,9.275039672851562,-31.003328323364258,5.398653507232666,10.039398193359375,41.619205474853516,41.20063400268555,3.4838130474090576,-22.07088279724121,6.440715312957764,-34.32570266723633,12.71152400970459,10.918740272521973,12.585762977600098,12.72342300415039,-5.422598838806152,-38.316097259521484,-35.67218017578125,9.424041748046875,14.100691795349121,-2.500664234161377,46.66926956176758,4.3913092613220215,15.311373710632324,-5.014089584350586,-5.833890914916992,8.169119834899902,-37.49239730834961,4.4482855796813965,12.644432067871094,1.3762763738632202,35.338645935058594,9.632251739501953,38.60934829711914,9.811216354370117,-26.420604705810547,-19.56713104248047,-20.39325523376465,7.014388084411621,15.504638671875,-28.24286651611328,5.934892177581787,-36.92389678955078,-37.34563064575195,-5.881927967071533,-30.88422203063965,-37.756961822509766,-9.147988319396973,3.8420357704162598,6.178297996520996,14.536526679992676,3.670323133468628,3.643005609512329,-25.811941146850586,-40.671199798583984,44.103057861328125,-27.447914123535156,-33.40133285522461,12.76529598236084,-5.977344989776611,11.776754379272461,-25.777124404907227,6.390990257263184,-39.81617736816406,12.813937187194824,-43.92436218261719,7.051142692565918,0.927700936794281,2.5924391746520996,7.446587085723877,42.758445739746094,6.170802116394043,9.055424690246582,-40.84610366821289,-4.580048561096191,16.673952102661133,-41.12455749511719,-41.70423889160156,-0.7341171503067017,5.176569938659668,-35.3218994140625,18.07306480407715,37.18024444580078,-23.835195541381836,8.428170204162598,-0.5725843906402588,43.61077880859375,-26.73973846435547,45.23234176635742,-40.85091781616211,16.9657039642334,-19.56318473815918,-36.91340255737305,39.21708679199219,13.588404655456543,-38.05859375,10.91628360748291,-35.7108039855957,5.441750526428223,13.957956314086914,3.1479718685150146,-1.2629832029342651,-17.946897506713867,15.05932331085205,45.23695755004883,-7.775274753570557,5.772787570953369,15.40264892578125,-6.23691463470459,3.502554416656494,7.543650150299072,2.374526262283325,3.733234167098999,-33.99570846557617,-32.35556411743164,-39.02967834472656,-31.299226760864258,7.353353023529053,-27.281965255737305,-7.771007537841797,-41.412349700927734,-44.800045013427734,43.031742095947266,15.256852149963379,5.344351291656494,7.559972286224365,-36.34678268432617,-4.846680641174316,-35.774070739746094,16.69300651550293,3.046438694000244,5.808071613311768,4.0491790771484375,-44.55479049682617,-10.60252571105957,2.992338180541992,14.600934982299805,-21.649290084838867,12.180723190307617,8.169961929321289,-28.083148956298828,-38.57084655761719,-31.70220375061035,-37.46169662475586,9.977301597595215,-36.89769744873047,-42.14045333862305,47.408226013183594,48.43866729736328,8.939470291137695,3.7059919834136963,49.70100784301758,44.35419464111328,10.421599388122559,-27.637027740478516,11.967350959777832,5.235194206237793,9.58992862701416,-26.486169815063477,8.188982963562012,-8.473310470581055,-4.537790775299072,2.783440589904785,2.877880334854126,-37.485084533691406,0.6608931422233582,9.041292190551758,2.132789373397827,-3.565789222717285,-34.80445861816406,3.0649237632751465,17.175506591796875,-40.435062408447266,14.69382095336914,-39.44071960449219,2.533799409866333,-6.5184173583984375,-25.160053253173828,-41.82206726074219,38.43165588378906,6.974843978881836,1.663848876953125,9.30788516998291,7.688990592956543,13.104208946228027,9.210862159729004,-20.477115631103516,-40.81366729736328,-25.563982009887695,2.295380115509033,4.541721343994141,13.06595230102539,-42.999755859375,-41.48107147216797,13.071917533874512,11.646650314331055,2.8223278522491455,-36.568538665771484,-39.646141052246094,5.799487113952637,-26.074033737182617,-37.717533111572266,-24.859455108642578,-26.47276496887207,7.960968017578125,45.539405822753906,6.234636306762695,-26.054719924926758,-45.345909118652344,39.45831298828125,-39.34276580810547,-41.48112487792969,16.906129837036133,-36.30619430541992,46.187652587890625,-34.10304641723633,42.229759216308594,13.948019027709961,45.73111343383789,8.91568374633789,15.294510841369629,8.388123512268066,41.50693893432617,4.475074768066406,-20.819631576538086,44.332523345947266,6.812527179718018,5.587760925292969,37.00450134277344,-39.9312858581543,4.180744647979736,10.263764381408691,5.752571105957031,38.64397048950195,12.942805290222168,40.88127136230469,15.468165397644043,3.813770055770874,6.455297470092773,-40.12839889526367,6.662323474884033,-40.53590393066406,-40.838104248046875,16.21916961669922,12.099480628967285,8.572977066040039,-30.930383682250977,-39.52207946777344,5.606866836547852,-44.3125114440918,8.813109397888184,-5.227274417877197,5.922668933868408,-30.03466796875,-27.1020565032959,-30.835586547851562,0.9432974457740784,36.462825775146484,-35.19672775268555,-39.8413200378418,8.300894737243652,-7.458832740783691,6.630856513977051,10.003125190734863,-24.68122100830078,-44.68752670288086,-29.046945571899414,-37.6447868347168,5.220813274383545,8.24458122253418,44.543270111083984,44.92366409301758,-37.5378532409668,45.583702087402344,15.215349197387695,3.487358570098877,9.275500297546387,-2.298457384109497,7.628572940826416,-37.49178695678711,9.374696731567383],\"xaxis\":\"x\",\"y\":[-38.093955993652344,0.598720371723175,-32.56793975830078,-30.95954132080078,0.11582068353891373,-5.96696662902832,-29.311962127685547,-3.5984580516815186,16.86583137512207,48.212074279785156,-7.251755237579346,13.770557403564453,0.19044172763824463,-1.5962313413619995,-25.57567596435547,-36.467464447021484,-42.2515983581543,49.612098693847656,-24.761085510253906,8.88151741027832,48.40829849243164,4.762958526611328,-32.02437210083008,5.131246566772461,20.257579803466797,-5.747575759887695,2.881598711013794,-43.39387130737305,20.038631439208984,-28.2957820892334,-13.3444185256958,52.37251663208008,4.202943801879883,12.539165496826172,23.447370529174805,-1.1952826976776123,-14.384727478027344,16.168437957763672,48.491180419921875,-25.109567642211914,-32.90938186645508,47.1019401550293,-27.12730598449707,-14.817760467529297,53.793190002441406,-8.21786880493164,-40.41181182861328,4.570743560791016,9.741392135620117,2.55082631111145,-5.398344993591309,5.835859775543213,-32.62250518798828,52.75400924682617,-28.51801872253418,5.692631721496582,-42.24149703979492,-38.828311920166016,5.593143939971924,47.13911056518555,11.893702507019043,-29.070283889770508,3.064863681793213,52.30757522583008,-13.191940307617188,-15.453442573547363,-26.716224670410156,-25.78679084777832,-11.389418601989746,-31.880891799926758,15.165435791015625,9.58699893951416,7.373451232910156,-29.44244384765625,-6.822108745574951,17.821866989135742,3.4344866275787354,-12.971394538879395,-37.696876525878906,-16.773563385009766,2.9075722694396973,0.6151199340820312,14.238818168640137,0.797170102596283,-27.94460678100586,-32.465877532958984,-26.035856246948242,1.9996167421340942,-2.8738813400268555,12.538836479187012,-32.21078872680664,52.65681076049805,-35.54265594482422,-11.143693923950195,5.63829231262207,8.926505088806152,-14.906472206115723,10.05911922454834,46.430145263671875,6.356960773468018,-25.4405517578125,6.856704235076904,6.424317359924316,9.825889587402344,52.553165435791016,8.532575607299805,21.1912899017334,-2.0516607761383057,47.947513580322266,-16.659975051879883,1.9266958236694336,-7.2530622482299805,-30.895301818847656,5.327486515045166,1.230403184890747,-42.50844192504883,0.23476356267929077,-4.456773281097412,-35.077144622802734,47.934078216552734,1.7982794046401978,21.7346248626709,13.207864761352539,49.226314544677734,5.4690117835998535,0.6459458470344543,18.432146072387695,-29.870574951171875,-13.93220043182373,14.1490478515625,-28.016921997070312,-28.00249481201172,3.283404588699341,-6.234802722930908,-27.302934646606445,7.02000617980957,-3.089944839477539,48.71738052368164,-33.47138595581055,12.923789024353027,9.098771095275879,5.995142459869385,-33.94208908081055,-4.968073844909668,-29.17055320739746,-12.707313537597656,9.632464408874512,-9.031705856323242,-38.05934143066406,-30.99724578857422,47.7215690612793,-24.419118881225586,-27.007661819458008,-39.47054672241211,50.17063903808594,23.295076370239258,-26.022611618041992,21.459800720214844,-5.884560585021973,3.1207127571105957,-0.5023400187492371,0.05571730434894562,-7.314540386199951,-13.083454132080078,-27.54618263244629,-37.73078918457031,-13.484073638916016,-31.50391960144043,-38.50343704223633,5.826374053955078,-28.63396644592285,47.090213775634766,10.53885555267334,-41.13262939453125,-3.281052589416504,-2.094491720199585,-5.393312454223633,-38.733131408691406,-6.269458293914795,-5.647732734680176,-8.676925659179688,1.247463345527649,-34.10747528076172,-33.59665298461914,11.602677345275879,12.554206848144531,48.2030143737793,-15.229131698608398,0.8408695459365845,42.862770080566406,-16.309553146362305,45.07815933227539,-29.439516067504883,12.97939395904541,16.888980865478516,-10.92573356628418,11.128718376159668,-5.598101615905762,-2.3085861206054688,-41.415771484375,4.968759536743164,-3.409524440765381,-43.90301513671875,6.574169158935547,1.5001208782196045,7.318939685821533,46.483673095703125,17.507545471191406,44.7365837097168,-3.2831315994262695,-24.950313568115234,16.20709991455078,-36.08359146118164,-2.4276247024536133,-31.58729362487793,49.91183090209961,-29.34937286376953,47.654083251953125,5.6826558113098145,12.822253227233887,51.4782600402832,47.00127410888672,-1.41630220413208,-8.883657455444336,-28.547183990478516,10.61406421661377,-10.088459968566895,17.30092430114746,5.322400093078613,3.7620174884796143,44.67366027832031,10.763456344604492,-29.13504981994629,-39.58390808105469,-28.933134078979492,46.7861442565918,16.695068359375,15.346776008605957,2.5418591499328613,8.653975486755371,-4.417273044586182,-37.94447326660156,13.719038963317871,8.840332984924316,4.773869514465332,-25.19498634338379,3.449836492538452,-0.5548565983772278,-41.3096923828125,-33.60252380371094,16.186017990112305,17.578853607177734,9.501276969909668,-0.19429253041744232,-10.943877220153809,46.328983306884766,-13.210197448730469,1.30238938331604,1.9778863191604614,6.752166748046875,53.795814514160156,1.7819311618804932,-42.2253303527832,-11.64792537689209,18.195756912231445,5.542553424835205,21.18543815612793,-32.07231903076172,-30.33966827392578,47.28499221801758,-31.996755599975586,-2.663079261779785,-31.015554428100586,46.296024322509766,-27.3924560546875,-23.99186897277832,-28.471351623535156,-32.96053695678711,-14.495619773864746,2.3444252014160156,1.6276159286499023,-15.130455017089844,-37.318092346191406,20.76824951171875,48.81768035888672,54.095943450927734,6.391112327575684,15.824379920959473,-5.822484493255615,20.74379539489746,9.689275741577148,-32.118873596191406,-8.801332473754883,6.375090599060059,-5.378389835357666,-4.047238826751709,13.1365327835083,-0.27015477418899536,23.866628646850586,-3.900865316390991,-29.779888153076172,13.212992668151855,-27.03483772277832,4.99757719039917,-43.250389099121094,-24.956552505493164,5.1984543800354,7.479769706726074,7.948025226593018,53.35606002807617,44.759361267089844,-23.772289276123047,43.0868034362793,-24.300966262817383,6.343807697296143,-0.3141838610172272,51.63343811035156,-25.722061157226562,8.206171035766602,6.916184425354004,-26.4601993560791,-0.5295344591140747,-0.8654513955116272,-29.292903900146484,-14.831128120422363,0.7660863995552063,3.093337297439575,6.298834323883057,-8.88621711730957,-13.51835823059082,-29.819486618041992,53.52553176879883,2.1276845932006836,-13.884114265441895,-27.68995475769043,22.152713775634766,7.088691711425781,-16.089494705200195,18.264467239379883,54.28566360473633,4.062135219573975,-9.785806655883789,-0.4531592130661011,2.4804508686065674,-9.638649940490723,48.500911712646484,-9.74075698852539,-41.056095123291016,18.22093391418457,-25.71523666381836,-33.18247604370117,-28.83257293701172,4.5040717124938965,3.0263679027557373,-8.160369873046875,-0.7940147519111633,24.83168601989746,-27.164474487304688,-27.853639602661133,-25.949323654174805,20.88845443725586,-31.931110382080078,3.6865878105163574,45.713985443115234,11.913527488708496,1.2600780725479126,48.012939453125,-29.033767700195312,21.49154281616211,8.252873420715332,-2.9651577472686768,11.568866729736328,13.45716381072998,0.5504141449928284,-28.50120735168457,14.46129035949707,14.785124778747559,-29.391002655029297,14.525218963623047,-39.68040466308594,14.514551162719727,-43.231685638427734,-30.89109992980957,16.02586555480957,9.923619270324707,-26.31418228149414,51.27822494506836,-4.671654224395752,18.718257904052734,1.071858286857605,-5.999326705932617,13.768302917480469,7.802896499633789,14.799515724182129,3.768854856491089,-9.690375328063965,7.90683650970459,-2.134290933609009,51.56076431274414,13.524003982543945,-2.579960823059082,17.04983139038086,14.392240524291992,1.1018115282058716,2.7318668365478516,-41.88896560668945,5.207366466522217,46.61312484741211,-1.8089653253555298,-13.871740341186523,16.209766387939453,48.9827995300293,9.447477340698242,-29.557615280151367,12.390687942504883,17.716083526611328,-27.102008819580078,-35.73350143432617,48.836158752441406,-36.45207214355469,-26.356595993041992,-29.539226531982422,-15.519665718078613,51.02405548095703,11.710784912109375,7.056140899658203,-11.716568946838379,-11.209964752197266,-38.66880416870117,17.504087448120117,-0.5815212726593018,21.349023818969727,-11.992734909057617,-29.921951293945312,-38.80229187011719,18.058448791503906,-25.826005935668945,-4.117793083190918,-26.16997718811035,-35.0358772277832,9.972655296325684,-28.66905403137207,-11.809952735900879,-25.1852970123291,-43.25160598754883,2.270249605178833,6.085363388061523,45.08380889892578,47.810302734375,3.9548449516296387,11.389993667602539,10.375860214233398,-42.48638153076172,23.264354705810547,-24.69569969177246,-5.37531852722168,-27.370935440063477,2.7713003158569336,20.160667419433594,-30.5438232421875,-25.746292114257812,-29.26771354675293,49.35894775390625,18.526504516601562,-37.39225387573242,-31.75096893310547,-24.24861717224121,-32.3873291015625,16.651748657226562,7.285028457641602,-3.7571959495544434,12.10027027130127,-3.7749457359313965,-8.742194175720215,45.23234558105469,13.42687702178955,7.029497146606445,21.31273651123047,-27.834501266479492,-25.2423095703125,11.941429138183594,8.331396102905273,44.785701751708984,-1.5233128070831299,49.25833511352539,5.273090839385986,-0.8010175228118896,-31.264554977416992,12.61278247833252,-37.8262825012207,51.74325942993164,-15.021538734436035,17.820106506347656,15.582256317138672,-37.83692932128906,4.17581844329834,18.329050064086914,-44.54380416870117,-4.357143878936768,-26.973228454589844,46.099674224853516,13.182581901550293,-41.31547164916992,2.0766777992248535,-36.19853973388672,-5.829899787902832,46.711647033691406,7.227763652801514,-32.061668395996094,8.141087532043457,-39.592403411865234,-12.264066696166992,-30.950620651245117,-43.932518005371094,5.503295421600342,12.908462524414062,45.49970245361328,-33.54937744140625,7.50708532333374,-41.91605758666992,-30.6215763092041,-26.612112045288086,-16.033706665039062,9.785238265991211,8.90538501739502,1.3874619007110596,-9.372579574584961,-0.9108133912086487,-0.4887738823890686,50.59198760986328,1.026558756828308,-33.471839904785156,22.11707878112793,14.077455520629883,-30.725357055664062,-24.439620971679688,7.142852783203125,21.455669403076172,11.069008827209473,8.753607749938965,-6.753041744232178,52.68067169189453,19.71491813659668,4.917903900146484,-28.507156372070312,-37.71953201293945,11.54072380065918,15.083580017089844,-29.42032241821289,-26.880908966064453,-42.04302978515625,-5.117982864379883,18.687570571899414,20.60190200805664,54.019065856933594,-40.15447998046875,-32.84889602661133,-30.869029998779297,-27.126562118530273,5.546346664428711,13.793298721313477,-43.66358947753906,-5.255242347717285,10.073405265808105,22.01566505432129,4.6705780029296875,15.836852073669434,-10.346652030944824,-26.062002182006836,-29.021299362182617,3.289401054382324,53.5943717956543,-8.4794340133667,47.90822219848633,4.274777889251709,-4.618271350860596,-13.868638038635254,-1.9367752075195312,-14.942578315734863,11.177899360656738,4.198092937469482,-1.7552801370620728,-3.1547603607177734,-3.5797061920166016,11.723922729492188,-3.2320821285247803,-17.05556297302246,13.617798805236816,1.3224211931228638,43.60176086425781,-14.207551956176758,-4.974494934082031,-43.579002380371094,-32.04950714111328,16.491788864135742,13.741666793823242,-38.206851959228516,-29.6334285736084,-29.51784324645996,17.574493408203125,23.571693420410156,-0.0036708773113787174,17.06330108642578,-28.858427047729492,7.7455220222473145,-35.36841583251953,-38.86503219604492,13.918858528137207,16.974990844726562,-30.069686889648438,47.41121292114258,4.5781331062316895,2.1728460788726807,-12.945658683776855,-15.755941390991211,-8.743964195251465,-10.213220596313477,16.343769073486328,-23.98259735107422,24.651365280151367,-44.66381072998047,21.908077239990234,49.28017807006836,-4.044546604156494,-30.980459213256836,15.910049438476562,-28.109241485595703,-43.508121490478516,0.675377368927002,49.34391403198242,7.6795854568481445,49.639888763427734,-29.463159561157227,0.7333254814147949,1.7609502077102661,9.124582290649414,0.608947217464447,20.753528594970703,-29.29076385498047,43.48385238647461,-37.12298583984375,22.789236068725586,-13.23781681060791,-30.897336959838867,44.07624816894531,23.553525924682617,6.231052398681641,20.739112854003906,10.419190406799316,53.175071716308594,16.27813720703125,9.655948638916016,-16.383058547973633,-0.003985052928328514,42.451141357421875,3.1525747776031494,9.980422973632812,-31.670473098754883,-31.462400436401367,8.810322761535645,-38.48893356323242,2.710451126098633,-5.076849460601807,12.273980140686035,9.514467239379883,7.9064555168151855,-4.251382827758789,43.42659378051758,43.03872299194336,-25.697696685791016,-25.223012924194336,2.0085251331329346,8.16164493560791,-1.9122883081436157,46.90331268310547,-31.090543746948242,-42.83991241455078,2.931068181991577,10.596179962158203,15.455175399780273,3.8590235710144043,1.8789680004119873,51.04112243652344,6.729952812194824,-25.271892547607422,-29.268360137939453,-29.42534828186035,-27.963064193725586,2.5499558448791504,8.899246215820312,5.853579044342041,9.531692504882812,-0.8425177335739136,-43.64275360107422,47.76629638671875,4.988301753997803,51.374244689941406,3.6819746494293213,3.9917242527008057,-9.811924934387207,52.16761779785156,-30.5609188079834,50.89122009277344,0.24130411446094513,-9.787081718444824,13.661961555480957,0.5607826709747314,-11.165185928344727,-13.490693092346191,11.79217529296875,-27.68291664123535,-25.091230392456055,48.15640640258789,53.87270736694336,49.7008171081543,-9.24699878692627,5.3452606201171875,-12.989104270935059,-40.662601470947266,0.06477116793394089,-32.437049865722656,12.329916954040527,-15.813618659973145,4.142679691314697,1.8111977577209473,14.8456449508667,48.5503044128418,46.927669525146484,-0.04253996163606644,-5.082428932189941,-42.68013000488281,-25.652236938476562,5.126566410064697,43.24814987182617,-39.29639434814453,17.073226928710938,20.226158142089844,-37.83573913574219,46.77512741088867,4.193263053894043,6.124427318572998,12.359149932861328,-33.93963623046875,2.5601682662963867,-35.83775329589844,20.68207359313965,22.009668350219727,-44.057559967041016,4.606845378875732,-15.454644203186035,-3.724407196044922,-0.4796385169029236,20.055559158325195,25.309837341308594,-5.278651237487793,5.011707305908203,-12.605785369873047,16.568265914916992,4.052810192108154,-14.67536735534668,19.457725524902344,53.89339828491211,-13.784073829650879,-0.1976717710494995,10.420910835266113,9.580564498901367,14.254212379455566,-29.832304000854492,-36.591880798339844,21.268835067749023,2.705517530441284,-24.331682205200195,23.144136428833008,45.379783630371094,4.533558368682861,-37.669803619384766,-12.355635643005371,11.517468452453613,-5.63183069229126,-12.987385749816895,-38.82465744018555,50.72100067138672,47.11042022705078,-0.7263121008872986,6.247767448425293,7.017486572265625,-31.40916633605957,14.213386535644531,-0.5732993483543396,-6.571710109710693,42.917816162109375,-15.091684341430664,16.10447120666504,-44.17936325073242,18.29741668701172,50.960079193115234,-6.856210231781006,9.210417747497559,-5.015814781188965,-30.605690002441406,11.177892684936523,-35.55894088745117,52.64004135131836,55.075504302978516,46.3889274597168,0.9012808203697205,-33.79466247558594,16.494718551635742,3.434995651245117,10.107636451721191,54.44097137451172,6.49802303314209,48.73503875732422,-34.98262023925781,-32.061126708984375,3.4930505752563477,-43.2888298034668,11.683533668518066,-29.21371078491211,-25.744306564331055,20.18865394592285,-37.78261184692383,-31.00625228881836,-13.920157432556152,-7.922743320465088,4.766517162322998,-25.148115158081055,-38.87123489379883,25.115135192871094,1.9214407205581665,-31.37066650390625,42.4785041809082,-26.701435089111328,17.86980628967285,7.679803371429443,14.34377384185791,-26.2327938079834,46.856651306152344,7.868110179901123,-7.818037986755371,6.0553507804870605,-31.54511070251465,6.4519243240356445,15.021885871887207,45.56218338012695,11.649438858032227,46.170650482177734,50.452484130859375,-38.24839401245117,-11.01869010925293,-4.040777206420898,-5.348319053649902,47.243900299072266,-28.661361694335938,-28.055038452148438,-23.897062301635742,11.155394554138184,5.229334831237793,19.325712203979492,-2.011965751647949,19.684850692749023,18.20783805847168,15.1907958984375,19.53119468688965,2.462595224380493,10.302467346191406,-34.990028381347656,-44.538360595703125,-0.48305606842041016,-44.07072830200195,51.2799186706543,-34.27284622192383,-0.06799342483282089,-11.845453262329102,-31.410070419311523,24.037830352783203,-0.8886286020278931,13.332342147827148,7.148156642913818,20.926389694213867,-25.100656509399414,14.632099151611328,2.1051273345947266,3.9863319396972656,9.974313735961914,3.6139190196990967,-42.39813995361328,9.199662208557129,-11.654205322265625,-43.35891342163086,46.9022331237793,5.8677496910095215,7.713786602020264,48.411895751953125,4.437275409698486,4.146411895751953,-37.51026916503906,-44.00048065185547,23.985013961791992,4.692104339599609,-10.707165718078613,-28.421527862548828,43.633209228515625,-38.247283935546875,-3.782400369644165,-28.294776916503906,-9.614546775817871,17.48091697692871,5.32965612411499,-32.14337158203125,8.688125610351562,-10.486126899719238,4.956410884857178,13.220484733581543,-40.07542419433594,15.9141845703125,44.027008056640625,49.21794509887695,-34.37867736816406,12.972962379455566,-24.950881958007812,-35.620521545410156,-11.020249366760254,6.455053329467773,-34.96338653564453,-1.2230991125106812,16.859411239624023,7.168239116668701,7.999878883361816,-30.530012130737305,1.685213327407837,13.83477783203125,19.737794876098633,17.52666473388672,21.43246078491211,-43.39912796020508,21.742589950561523,14.071268081665039,17.851167678833008,3.6653828620910645,-5.618622779846191,-31.120370864868164,48.631248474121094,-26.975290298461914,-3.0570974349975586,6.9005937576293945,23.55877113342285,1.6629374027252197,6.277310848236084,-29.823272705078125,-43.36812210083008,0.6820383071899414,11.68448543548584,44.77910232543945,-1.0952649116516113,-30.892593383789062,44.8529052734375,53.05289077758789,-27.06966209411621,12.33138370513916,20.964807510375977,21.296894073486328,1.2067584991455078,-2.3407344818115234,0.8385173082351685,-10.997939109802246,-11.540887832641602,52.59992980957031,53.05483627319336,-16.34719467163086,-9.22258472442627,-36.33559036254883,14.91906452178955,51.90375518798828,-36.88744354248047,48.35551452636719,22.926876068115234,-37.56254577636719,13.615822792053223,10.29387092590332,51.07099533081055,11.543173789978027,4.059770107269287,5.773439884185791,-4.057316303253174,54.10512924194336,3.7458763122558594,23.684091567993164,-39.44963455200195,1.8462064266204834,12.587077140808105,50.40000915527344,17.820215225219727,45.86567687988281,8.953347206115723,-29.228870391845703,8.195255279541016,-14.031868934631348,-30.906391143798828,50.13497543334961,54.05261993408203,49.729461669921875,1.621802806854248,-32.73760223388672,-33.69269561767578,6.583485126495361,-34.047061920166016,5.81099271774292,-34.92299270629883,-3.739656925201416,1.1374123096466064,3.762704610824585,44.917240142822266,-1.0610097646713257,48.6784553527832,-4.043140888214111,9.139090538024902,44.33278274536133,-27.55914878845215,-5.082982540130615,-33.86214828491211,19.513051986694336,-41.94366455078125,-11.917906761169434,-41.297645568847656,-34.38075637817383,5.936459541320801,-12.98317813873291,-0.1397855281829834,15.033799171447754,-29.567283630371094,5.73467493057251,-14.413298606872559,6.429561614990234,-13.411696434020996,51.45225524902344,-12.078689575195312,45.88518142700195,-37.99427032470703,-34.34150695800781,-11.006324768066406,1.1811754703521729,-31.62128257751465,-12.631394386291504,-39.751304626464844,8.81396198272705,-5.429553031921387,1.7715487480163574,-43.89369583129883,51.467796325683594,-45.55083084106445,-12.080618858337402,6.146454811096191,-9.269932746887207,-30.154329299926758,12.245511054992676,-25.973901748657227,15.37233829498291,49.033931732177734,17.146032333374023,13.780902862548828,47.87623596191406,44.98215866088867,-24.231586456298828,22.02121353149414,20.66380500793457,46.321903228759766,1.3959097862243652,7.800980567932129,10.389930725097656,-23.59349250793457,19.215002059936523,-28.754276275634766,22.48386573791504,-42.33458709716797,-10.624985694885254,5.192586898803711,11.484381675720215,54.471397399902344,3.070802688598633,-25.78413963317871,-38.7193603515625,-29.896324157714844,2.999666213989258,22.23736572265625,13.222317695617676,53.3795051574707,-24.427570343017578,-11.477301597595215,-8.645720481872559,21.54507827758789,-13.669419288635254,-28.52187728881836,-36.564842224121094,-33.35869598388672,11.373141288757324,43.58949661254883,17.4517822265625,51.252315521240234],\"yaxis\":\"y\",\"type\":\"scattergl\"}],                        {\"template\":{\"data\":{\"bar\":[{\"error_x\":{\"color\":\"#2a3f5f\"},\"error_y\":{\"color\":\"#2a3f5f\"},\"marker\":{\"line\":{\"color\":\"#E5ECF6\",\"width\":0.5},\"pattern\":{\"fillmode\":\"overlay\",\"size\":10,\"solidity\":0.2}},\"type\":\"bar\"}],\"barpolar\":[{\"marker\":{\"line\":{\"color\":\"#E5ECF6\",\"width\":0.5},\"pattern\":{\"fillmode\":\"overlay\",\"size\":10,\"solidity\":0.2}},\"type\":\"barpolar\"}],\"carpet\":[{\"aaxis\":{\"endlinecolor\":\"#2a3f5f\",\"gridcolor\":\"white\",\"linecolor\":\"white\",\"minorgridcolor\":\"white\",\"startlinecolor\":\"#2a3f5f\"},\"baxis\":{\"endlinecolor\":\"#2a3f5f\",\"gridcolor\":\"white\",\"linecolor\":\"white\",\"minorgridcolor\":\"white\",\"startlinecolor\":\"#2a3f5f\"},\"type\":\"carpet\"}],\"choropleth\":[{\"colorbar\":{\"outlinewidth\":0,\"ticks\":\"\"},\"type\":\"choropleth\"}],\"contour\":[{\"colorbar\":{\"outlinewidth\":0,\"ticks\":\"\"},\"colorscale\":[[0.0,\"#0d0887\"],[0.1111111111111111,\"#46039f\"],[0.2222222222222222,\"#7201a8\"],[0.3333333333333333,\"#9c179e\"],[0.4444444444444444,\"#bd3786\"],[0.5555555555555556,\"#d8576b\"],[0.6666666666666666,\"#ed7953\"],[0.7777777777777778,\"#fb9f3a\"],[0.8888888888888888,\"#fdca26\"],[1.0,\"#f0f921\"]],\"type\":\"contour\"}],\"contourcarpet\":[{\"colorbar\":{\"outlinewidth\":0,\"ticks\":\"\"},\"type\":\"contourcarpet\"}],\"heatmap\":[{\"colorbar\":{\"outlinewidth\":0,\"ticks\":\"\"},\"colorscale\":[[0.0,\"#0d0887\"],[0.1111111111111111,\"#46039f\"],[0.2222222222222222,\"#7201a8\"],[0.3333333333333333,\"#9c179e\"],[0.4444444444444444,\"#bd3786\"],[0.5555555555555556,\"#d8576b\"],[0.6666666666666666,\"#ed7953\"],[0.7777777777777778,\"#fb9f3a\"],[0.8888888888888888,\"#fdca26\"],[1.0,\"#f0f921\"]],\"type\":\"heatmap\"}],\"heatmapgl\":[{\"colorbar\":{\"outlinewidth\":0,\"ticks\":\"\"},\"colorscale\":[[0.0,\"#0d0887\"],[0.1111111111111111,\"#46039f\"],[0.2222222222222222,\"#7201a8\"],[0.3333333333333333,\"#9c179e\"],[0.4444444444444444,\"#bd3786\"],[0.5555555555555556,\"#d8576b\"],[0.6666666666666666,\"#ed7953\"],[0.7777777777777778,\"#fb9f3a\"],[0.8888888888888888,\"#fdca26\"],[1.0,\"#f0f921\"]],\"type\":\"heatmapgl\"}],\"histogram\":[{\"marker\":{\"pattern\":{\"fillmode\":\"overlay\",\"size\":10,\"solidity\":0.2}},\"type\":\"histogram\"}],\"histogram2d\":[{\"colorbar\":{\"outlinewidth\":0,\"ticks\":\"\"},\"colorscale\":[[0.0,\"#0d0887\"],[0.1111111111111111,\"#46039f\"],[0.2222222222222222,\"#7201a8\"],[0.3333333333333333,\"#9c179e\"],[0.4444444444444444,\"#bd3786\"],[0.5555555555555556,\"#d8576b\"],[0.6666666666666666,\"#ed7953\"],[0.7777777777777778,\"#fb9f3a\"],[0.8888888888888888,\"#fdca26\"],[1.0,\"#f0f921\"]],\"type\":\"histogram2d\"}],\"histogram2dcontour\":[{\"colorbar\":{\"outlinewidth\":0,\"ticks\":\"\"},\"colorscale\":[[0.0,\"#0d0887\"],[0.1111111111111111,\"#46039f\"],[0.2222222222222222,\"#7201a8\"],[0.3333333333333333,\"#9c179e\"],[0.4444444444444444,\"#bd3786\"],[0.5555555555555556,\"#d8576b\"],[0.6666666666666666,\"#ed7953\"],[0.7777777777777778,\"#fb9f3a\"],[0.8888888888888888,\"#fdca26\"],[1.0,\"#f0f921\"]],\"type\":\"histogram2dcontour\"}],\"mesh3d\":[{\"colorbar\":{\"outlinewidth\":0,\"ticks\":\"\"},\"type\":\"mesh3d\"}],\"parcoords\":[{\"line\":{\"colorbar\":{\"outlinewidth\":0,\"ticks\":\"\"}},\"type\":\"parcoords\"}],\"pie\":[{\"automargin\":true,\"type\":\"pie\"}],\"scatter\":[{\"marker\":{\"colorbar\":{\"outlinewidth\":0,\"ticks\":\"\"}},\"type\":\"scatter\"}],\"scatter3d\":[{\"line\":{\"colorbar\":{\"outlinewidth\":0,\"ticks\":\"\"}},\"marker\":{\"colorbar\":{\"outlinewidth\":0,\"ticks\":\"\"}},\"type\":\"scatter3d\"}],\"scattercarpet\":[{\"marker\":{\"colorbar\":{\"outlinewidth\":0,\"ticks\":\"\"}},\"type\":\"scattercarpet\"}],\"scattergeo\":[{\"marker\":{\"colorbar\":{\"outlinewidth\":0,\"ticks\":\"\"}},\"type\":\"scattergeo\"}],\"scattergl\":[{\"marker\":{\"colorbar\":{\"outlinewidth\":0,\"ticks\":\"\"}},\"type\":\"scattergl\"}],\"scattermapbox\":[{\"marker\":{\"colorbar\":{\"outlinewidth\":0,\"ticks\":\"\"}},\"type\":\"scattermapbox\"}],\"scatterpolar\":[{\"marker\":{\"colorbar\":{\"outlinewidth\":0,\"ticks\":\"\"}},\"type\":\"scatterpolar\"}],\"scatterpolargl\":[{\"marker\":{\"colorbar\":{\"outlinewidth\":0,\"ticks\":\"\"}},\"type\":\"scatterpolargl\"}],\"scatterternary\":[{\"marker\":{\"colorbar\":{\"outlinewidth\":0,\"ticks\":\"\"}},\"type\":\"scatterternary\"}],\"surface\":[{\"colorbar\":{\"outlinewidth\":0,\"ticks\":\"\"},\"colorscale\":[[0.0,\"#0d0887\"],[0.1111111111111111,\"#46039f\"],[0.2222222222222222,\"#7201a8\"],[0.3333333333333333,\"#9c179e\"],[0.4444444444444444,\"#bd3786\"],[0.5555555555555556,\"#d8576b\"],[0.6666666666666666,\"#ed7953\"],[0.7777777777777778,\"#fb9f3a\"],[0.8888888888888888,\"#fdca26\"],[1.0,\"#f0f921\"]],\"type\":\"surface\"}],\"table\":[{\"cells\":{\"fill\":{\"color\":\"#EBF0F8\"},\"line\":{\"color\":\"white\"}},\"header\":{\"fill\":{\"color\":\"#C8D4E3\"},\"line\":{\"color\":\"white\"}},\"type\":\"table\"}]},\"layout\":{\"annotationdefaults\":{\"arrowcolor\":\"#2a3f5f\",\"arrowhead\":0,\"arrowwidth\":1},\"autotypenumbers\":\"strict\",\"coloraxis\":{\"colorbar\":{\"outlinewidth\":0,\"ticks\":\"\"}},\"colorscale\":{\"diverging\":[[0,\"#8e0152\"],[0.1,\"#c51b7d\"],[0.2,\"#de77ae\"],[0.3,\"#f1b6da\"],[0.4,\"#fde0ef\"],[0.5,\"#f7f7f7\"],[0.6,\"#e6f5d0\"],[0.7,\"#b8e186\"],[0.8,\"#7fbc41\"],[0.9,\"#4d9221\"],[1,\"#276419\"]],\"sequential\":[[0.0,\"#0d0887\"],[0.1111111111111111,\"#46039f\"],[0.2222222222222222,\"#7201a8\"],[0.3333333333333333,\"#9c179e\"],[0.4444444444444444,\"#bd3786\"],[0.5555555555555556,\"#d8576b\"],[0.6666666666666666,\"#ed7953\"],[0.7777777777777778,\"#fb9f3a\"],[0.8888888888888888,\"#fdca26\"],[1.0,\"#f0f921\"]],\"sequentialminus\":[[0.0,\"#0d0887\"],[0.1111111111111111,\"#46039f\"],[0.2222222222222222,\"#7201a8\"],[0.3333333333333333,\"#9c179e\"],[0.4444444444444444,\"#bd3786\"],[0.5555555555555556,\"#d8576b\"],[0.6666666666666666,\"#ed7953\"],[0.7777777777777778,\"#fb9f3a\"],[0.8888888888888888,\"#fdca26\"],[1.0,\"#f0f921\"]]},\"colorway\":[\"#636efa\",\"#EF553B\",\"#00cc96\",\"#ab63fa\",\"#FFA15A\",\"#19d3f3\",\"#FF6692\",\"#B6E880\",\"#FF97FF\",\"#FECB52\"],\"font\":{\"color\":\"#2a3f5f\"},\"geo\":{\"bgcolor\":\"white\",\"lakecolor\":\"white\",\"landcolor\":\"#E5ECF6\",\"showlakes\":true,\"showland\":true,\"subunitcolor\":\"white\"},\"hoverlabel\":{\"align\":\"left\"},\"hovermode\":\"closest\",\"mapbox\":{\"style\":\"light\"},\"paper_bgcolor\":\"white\",\"plot_bgcolor\":\"#E5ECF6\",\"polar\":{\"angularaxis\":{\"gridcolor\":\"white\",\"linecolor\":\"white\",\"ticks\":\"\"},\"bgcolor\":\"#E5ECF6\",\"radialaxis\":{\"gridcolor\":\"white\",\"linecolor\":\"white\",\"ticks\":\"\"}},\"scene\":{\"xaxis\":{\"backgroundcolor\":\"#E5ECF6\",\"gridcolor\":\"white\",\"gridwidth\":2,\"linecolor\":\"white\",\"showbackground\":true,\"ticks\":\"\",\"zerolinecolor\":\"white\"},\"yaxis\":{\"backgroundcolor\":\"#E5ECF6\",\"gridcolor\":\"white\",\"gridwidth\":2,\"linecolor\":\"white\",\"showbackground\":true,\"ticks\":\"\",\"zerolinecolor\":\"white\"},\"zaxis\":{\"backgroundcolor\":\"#E5ECF6\",\"gridcolor\":\"white\",\"gridwidth\":2,\"linecolor\":\"white\",\"showbackground\":true,\"ticks\":\"\",\"zerolinecolor\":\"white\"}},\"shapedefaults\":{\"line\":{\"color\":\"#2a3f5f\"}},\"ternary\":{\"aaxis\":{\"gridcolor\":\"white\",\"linecolor\":\"white\",\"ticks\":\"\"},\"baxis\":{\"gridcolor\":\"white\",\"linecolor\":\"white\",\"ticks\":\"\"},\"bgcolor\":\"#E5ECF6\",\"caxis\":{\"gridcolor\":\"white\",\"linecolor\":\"white\",\"ticks\":\"\"}},\"title\":{\"x\":0.05},\"xaxis\":{\"automargin\":true,\"gridcolor\":\"white\",\"linecolor\":\"white\",\"ticks\":\"\",\"title\":{\"standoff\":15},\"zerolinecolor\":\"white\",\"zerolinewidth\":2},\"yaxis\":{\"automargin\":true,\"gridcolor\":\"white\",\"linecolor\":\"white\",\"ticks\":\"\",\"title\":{\"standoff\":15},\"zerolinecolor\":\"white\",\"zerolinewidth\":2}}},\"xaxis\":{\"anchor\":\"y\",\"domain\":[0.0,1.0],\"title\":{\"text\":\"x\"}},\"yaxis\":{\"anchor\":\"x\",\"domain\":[0.0,1.0],\"title\":{\"text\":\"y\"}},\"coloraxis\":{\"colorbar\":{\"title\":{\"text\":\"cluster\"}},\"colorscale\":[[0.0,\"#0d0887\"],[0.1111111111111111,\"#46039f\"],[0.2222222222222222,\"#7201a8\"],[0.3333333333333333,\"#9c179e\"],[0.4444444444444444,\"#bd3786\"],[0.5555555555555556,\"#d8576b\"],[0.6666666666666666,\"#ed7953\"],[0.7777777777777778,\"#fb9f3a\"],[0.8888888888888888,\"#fdca26\"],[1.0,\"#f0f921\"]]},\"legend\":{\"tracegroupgap\":0},\"margin\":{\"t\":60}},                        {\"responsive\": true}                    ).then(function(){\n",
       "                            \n",
       "var gd = document.getElementById('cb2e30e5-5e78-4ec6-ae4d-d746d680e02b');\n",
       "var x = new MutationObserver(function (mutations, observer) {{\n",
       "        var display = window.getComputedStyle(gd).display;\n",
       "        if (!display || display === 'none') {{\n",
       "            console.log([gd, 'removed!']);\n",
       "            Plotly.purge(gd);\n",
       "            observer.disconnect();\n",
       "        }}\n",
       "}});\n",
       "\n",
       "// Listen for the removal of the full notebook cells\n",
       "var notebookContainer = gd.closest('#notebook-container');\n",
       "if (notebookContainer) {{\n",
       "    x.observe(notebookContainer, {childList: true});\n",
       "}}\n",
       "\n",
       "// Listen for the clearing of the current output cell\n",
       "var outputEl = gd.closest('.output');\n",
       "if (outputEl) {{\n",
       "    x.observe(outputEl, {childList: true});\n",
       "}}\n",
       "\n",
       "                        })                };                });            </script>        </div>"
      ]
     },
     "metadata": {},
     "output_type": "display_data"
    }
   ],
   "source": [
    "tsne_pipeline = Pipeline([('scaler', StandardScaler()), ('tsne', TSNE(n_components=2, verbose=1))])\n",
    "genre_embedding = tsne_pipeline.fit_transform(X)\n",
    "projection = pd.DataFrame(columns=['x', 'y'], data=genre_embedding)\n",
    "projection['genres'] = genre_df['artist_genres']\n",
    "projection['cluster'] = genre_df['cluster']\n",
    "\n",
    "fig = px.scatter(\n",
    "    projection, x='x', y='y', color='cluster', hover_data=['x', 'y', 'genres'])\n",
    "fig.show()"
   ]
  },
  {
   "cell_type": "code",
   "execution_count": 78,
   "id": "df6f79f5",
   "metadata": {},
   "outputs": [],
   "source": [
    "song_cluster_pipeline = Pipeline([('scaler', StandardScaler()), \n",
    "                                  ('kmeans', KMeans(n_clusters=20, \n",
    "                                   verbose=False, random_state=0))\n",
    "                                 ], verbose=False)\n",
    "\n",
    "X = clean_data.select_dtypes(np.number)\n",
    "number_cols = list(X.columns)\n",
    "song_cluster_pipeline.fit(X)\n",
    "song_cluster_labels = song_cluster_pipeline.predict(X)\n",
    "clean_data['cluster_label'] = song_cluster_labels"
   ]
  },
  {
   "cell_type": "code",
   "execution_count": 79,
   "id": "e09fbdc2",
   "metadata": {},
   "outputs": [
    {
     "data": {
      "application/vnd.plotly.v1+json": {
       "config": {
        "plotlyServerURL": "https://plot.ly"
       },
       "data": [
        {
         "customdata": [
          [
           "Like a Rolling Stone"
          ],
          [
           "Smells Like Teen Spirit"
          ],
          [
           "A Day In The Life - Remastered"
          ],
          [
           "Good Vibrations (Mono)"
          ],
          [
           "Johnny B Goode"
          ],
          [
           "Respect"
          ],
          [
           "Be My Baby"
          ],
          [
           "What's Going On"
          ],
          [
           "I Heard It Through The Grapevine"
          ],
          [
           "(I Can't Get No) Satisfaction - Mono Version / Remastered 2002"
          ],
          [
           "Billie Jean"
          ],
          [
           "Heartbreak Hotel"
          ],
          [
           "Born to Run"
          ],
          [
           "My Generation - Original Mono Version"
          ],
          [
           "Love Will Tear Us Apart"
          ],
          [
           "God Only Knows - Mono / 1997 Remastered"
          ],
          [
           "(Sittin' On) the Dock of the Bay"
          ],
          [
           "Hey Ya! - Radio Mix / Club Mix"
          ],
          [
           "Anarchy In The UK - Remastered 2012"
          ],
          [
           "Paper Planes"
          ],
          [
           "London Calling"
          ],
          [
           "Sympathy For The Devil"
          ],
          [
           "Strawberry Fields Forever - Remastered"
          ],
          [
           "Tutti Frutti"
          ],
          [
           "Stairway To Heaven"
          ],
          [
           "The Message (feat. Melle Mel & Duke Bootee)"
          ],
          [
           "What'd I Say"
          ],
          [
           "Imagine - Remastered 2010"
          ],
          [
           "A Change Is Gonna Come"
          ],
          [
           "Heroes - 1999 Remaster"
          ],
          [
           "When Doves Cry"
          ],
          [
           "Superstition"
          ],
          [
           "Common People"
          ],
          [
           "Gimme Shelter"
          ],
          [
           "Strange Fruit"
          ],
          [
           "You Really Got Me"
          ],
          [
           "Crazy In Love (feat. Jay-Z)"
          ],
          [
           "Seven Nation Army"
          ],
          [
           "Losing My Religion"
          ],
          [
           "God Save The Queen"
          ],
          [
           "Bohemian Rhapsody - Remastered 2011"
          ],
          [
           "Blue Monday"
          ],
          [
           "Purple Haze"
          ],
          [
           "Louie Louie"
          ],
          [
           "I Want You Back"
          ],
          [
           "Crazy"
          ],
          [
           "You've Lost That Lovin' Feelin' - Single Version"
          ],
          [
           "Hey Jude - Remastered"
          ],
          [
           "Waterloo Sunset - Stereo"
          ],
          [
           "Take Me Out"
          ],
          [
           "Get Ur Freak On"
          ],
          [
           "That'll Be the Day"
          ],
          [
           "Light My Fire"
          ],
          [
           "I Feel Love"
          ],
          [
           "There Is a Light That Never Goes Out - 2011 Remaster"
          ],
          [
           "Space Oddity - 2009 Remastered Version"
          ],
          [
           "Stand by Me"
          ],
          [
           "Mr. Tambourine Man"
          ],
          [
           "Bitter Sweet Symphony"
          ],
          [
           "(We're Gonna) Rock Around The Clock"
          ],
          [
           "Layla - 40th Anniversary Version / 2010 Remastered"
          ],
          [
           "River Deep - Mountain High"
          ],
          [
           "Unfinished Sympathy - 2006 Digital Remaster"
          ],
          [
           "Loser"
          ],
          [
           "Fight The Power"
          ],
          [
           "Once in a Lifetime - 2005 Remaster"
          ],
          [
           "Paranoid Android"
          ],
          [
           "Whole Lotta Love - Remaster"
          ],
          [
           "Alright"
          ],
          [
           "House of the Rising Sun"
          ],
          [
           "Walk on the Wild Side"
          ],
          [
           "Hotel California"
          ],
          [
           "99 Problems"
          ],
          [
           "Dancing On My Own"
          ],
          [
           "Formation"
          ],
          [
           "Let's Stay Together"
          ],
          [
           "Jumpin' Jack Flash"
          ],
          [
           "All My Friends"
          ],
          [
           "California Dreamin'"
          ],
          [
           "Blitzkrieg Bop - 2001 Remaster"
          ],
          [
           "Dancing In The Street"
          ],
          [
           "Hound Dog"
          ],
          [
           "Oblivion"
          ],
          [
           "I Want To Hold Your Hand - Remastered"
          ],
          [
           "All Along the Watchtower"
          ],
          [
           "Nothing Compares 2 U"
          ],
          [
           "How Soon Is Now? - 2011 Remaster"
          ],
          [
           "Sweet Child O' Mine"
          ],
          [
           "For What It's Worth"
          ],
          [
           "The Weight - Remastered"
          ],
          [
           "Runaway"
          ],
          [
           "Ghost Town - Extended Version"
          ],
          [
           "Royals"
          ],
          [
           "Get Lucky (feat. Pharrell Williams & Nile Rodgers) - Radio Edit"
          ],
          [
           "Suspicious Minds"
          ],
          [
           "Life On Mars? - 1999 Remastered Version"
          ],
          [
           "Reach Out I'll Be There - Single Version / Mono"
          ],
          [
           "That's All Right Mama"
          ],
          [
           "Get Up (I Feel Like Being A) Sex Machine - Pt. 1 & 2"
          ],
          [
           "Wonderwall"
          ],
          [
           "Heroin"
          ],
          [
           "Whole Lotta Shakin' Goin' On"
          ],
          [
           "Thunder Road"
          ],
          [
           "One"
          ],
          [
           "I'm Waiting For The Man - Album Version (Stereo)"
          ],
          [
           "The Tracks Of My Tears - Single Version / Mono"
          ],
          [
           "Yesterday - Remastered"
          ],
          [
           "Dancing Queen"
          ],
          [
           "Summertime Blues"
          ],
          [
           "This Charming Man - 2011 Remaster"
          ],
          [
           "Blue Suede Shoes"
          ],
          [
           "Good Times"
          ],
          [
           "Pyramids"
          ],
          [
           "My Girl - Single Version/Mono"
          ],
          [
           "Paint It Black"
          ],
          [
           "Video Games"
          ],
          [
           "Rehab"
          ],
          [
           "Rapper's Delight - Long Version"
          ],
          [
           "The Sound of Silence - Electric Version"
          ],
          [
           "Fortunate Son"
          ],
          [
           "Papa's Got A Brand New Bag - Pt. 1"
          ],
          [
           "Bridge over Troubled Water"
          ],
          [
           "No Woman, No Cry - Live At The Lyceum, London/1975"
          ],
          [
           "Proud Mary"
          ],
          [
           "Every Breath You Take - Remastered 2003"
          ],
          [
           "Maybellene - Single Version"
          ],
          [
           "A Whiter Shade Of Pale"
          ],
          [
           "Midnight City"
          ],
          [
           "Losing My Edge"
          ],
          [
           "I'm So Lonesome I Could Cry - Single Version"
          ],
          [
           "Eight Miles High"
          ],
          [
           "Born Slippy (Nuxx)"
          ],
          [
           "Great Balls Of Fire"
          ],
          [
           "Green Onions"
          ],
          [
           "Maps"
          ],
          [
           "Umbrella"
          ],
          [
           "She Loves You - Remastered"
          ],
          [
           "Stayin' Alive - 2007 Remastered Version Saturday Night Fever"
          ],
          [
           "Tangled up in Blue"
          ],
          [
           "Maggie May"
          ],
          [
           "Will You Still Love Me Tomorrow"
          ],
          [
           "Seasons (Waiting On You)"
          ],
          [
           "Creep"
          ],
          [
           "Be-Bop-A-Lula"
          ],
          [
           "Paranoid"
          ],
          [
           "Heart Of Glass [24-Bit Digitally Remastered 01]"
          ],
          [
           "Kashmir - 1990 Remaster"
          ],
          [
           "Walk This Way (feat. Aerosmith)"
          ],
          [
           "Like a Prayer"
          ],
          [
           "Marquee Moon - 2003 Remaster"
          ],
          [
           "Hotline Bling"
          ],
          [
           "Live Forever"
          ],
          [
           "Time to Pretend"
          ],
          [
           "When a Man Loves a Woman"
          ],
          [
           "Brown Sugar"
          ],
          [
           "Over the Rainbow (From \"The Wizard of Oz\")"
          ],
          [
           "Tomorrow Never Knows - Remastered"
          ],
          [
           "This Land is Your Land"
          ],
          [
           "Oh, Pretty Woman"
          ],
          [
           "Jailhouse Rock"
          ],
          [
           "Empire State Of Mind [Jay-Z + Alicia Keys]"
          ],
          [
           "I Bet You Look Good On The Dancefloor"
          ],
          [
           "Like a Virgin"
          ],
          [
           "Into the Groove"
          ],
          [
           "Let It Happen"
          ],
          [
           "Cranes in the Sky"
          ],
          [
           "Song 2 - 2012 Remaster"
          ],
          [
           "Purple Rain"
          ],
          [
           "Wuthering Heights"
          ],
          [
           "Born In The U.S.A."
          ],
          [
           "Kids"
          ],
          [
           "Nuthin' But A \"G\" Thang"
          ],
          [
           "Peggy Sue - Single Version"
          ],
          [
           "White Rabbit"
          ],
          [
           "Kiss"
          ],
          [
           "Sunday Bloody Sunday"
          ],
          [
           "Psycho Killer - 2005 Remaster"
          ],
          [
           "Tainted Love"
          ],
          [
           "Little Red Corvette"
          ],
          [
           "Family Affair - Single Version"
          ],
          [
           "Can't Get You out of My Head"
          ],
          [
           "Honky Tonk Women - Mono Version"
          ],
          [
           "Your Best American Girl"
          ],
          [
           "Autobahn - 2009 Remaster"
          ],
          [
           "My Girls"
          ],
          [
           "Eleanor Rigby - Remastered"
          ],
          [
           "Get It On"
          ],
          [
           "There She Goes"
          ],
          [
           "Help! - Remastered"
          ],
          [
           "House Of Jealous Lovers"
          ],
          [
           "Last Nite"
          ],
          [
           "Le Freak"
          ],
          [
           "Won't Get Fooled Again - Original Album Version"
          ],
          [
           "In My Life - Remastered"
          ],
          [
           "Hurt"
          ],
          [
           "Ms. Jackson"
          ],
          [
           "Walk on By"
          ],
          [
           "Folsom Prison Blues"
          ],
          [
           "Sign 'O' the Times - Single Version"
          ],
          [
           "bad guy"
          ],
          [
           "Teenage Kicks"
          ],
          [
           "This Is America"
          ],
          [
           "Blowin' in the Wind"
          ],
          [
           "I Walk The Line - Single Version"
          ],
          [
           "Brown Eyed Girl"
          ],
          [
           "Blueberry Hill"
          ],
          [
           "Planet Rock"
          ],
          [
           "Crazy"
          ],
          [
           "Bo Diddley"
          ],
          [
           "Subterranean Homesick Blues"
          ],
          [
           "Mr. Brightside"
          ],
          [
           "People Get Ready - Single Version"
          ],
          [
           "Virginia Plain"
          ],
          [
           "Runaway"
          ],
          [
           "Baba O'Riley"
          ],
          [
           "Go Your Own Way"
          ],
          [
           "Two Weeks"
          ],
          [
           "(White Man) In Hammersmith Palais"
          ],
          [
           "(Don't Fear) The Reaper"
          ],
          [
           "Penny Lane - Remastered"
          ],
          [
           "Smoke On the Water"
          ],
          [
           "Toxic"
          ],
          [
           "Roadrunner (Twice)"
          ],
          [
           "Don't You Want Me"
          ],
          [
           "Bad Girls"
          ],
          [
           "Changes - 1999 Remastered Version"
          ],
          [
           "Don't Stop 'Til You Get Enough"
          ],
          [
           "Let It Be - Remastered"
          ],
          [
           "Don't Be Cruel"
          ],
          [
           "Papa Was A Rollin' Stone - Single Version"
          ],
          [
           "Rolling in the Deep"
          ],
          [
           "Living For The City"
          ],
          [
           "Gloria (feat. Van Morrison) - Mono Version"
          ],
          [
           "Try A Little Tenderness"
          ],
          [
           "I Wanna Be Your Dog"
          ],
          [
           "1979"
          ],
          [
           "The Girl From Ipanema"
          ],
          [
           "You Send Me"
          ],
          [
           "Wild Thing"
          ],
          [
           "Ziggy Stardust - 2012 Remastered Version"
          ],
          [
           "In the Midnight Hour"
          ],
          [
           "Wichita Lineman - Remastered 2001"
          ],
          [
           "I Got You (I Feel Good)"
          ],
          [
           "Idioteque"
          ],
          [
           "Sunshine Of Your Love"
          ],
          [
           "Search and Destroy - Iggy Pop Mix"
          ],
          [
           "While My Guitar Gently Weeps - Remastered"
          ],
          [
           "Ever Fallen in Love (With Someone You Shouldn't've?) - 1996 Remastered Version"
          ],
          [
           "The Times They Are A-Changin'"
          ],
          [
           "With Or Without You - Remastered"
          ],
          [
           "Mystery Train"
          ],
          [
           "Leader Of The Pack"
          ],
          [
           "Let's Get It On"
          ],
          [
           "La Bamba"
          ],
          [
           "Dance Yrself Clean"
          ],
          [
           "Relax"
          ],
          [
           "The Model - 2009 Remaster"
          ],
          [
           "Rebellion (Lies)"
          ],
          [
           "Don't Worry Baby (Mono) - Remastered"
          ],
          [
           "Debaser"
          ],
          [
           "Sweet Jane"
          ],
          [
           "Why Do Fools Fall In Love"
          ],
          [
           "Running Up That Hill (A Deal With God)"
          ],
          [
           "Beat It"
          ],
          [
           "Wish You Were Here - 2011 Remastered Version"
          ],
          [
           "Sabotage - 2009 Digital Remaster"
          ],
          [
           "Alone Again Or"
          ],
          [
           "One More Time"
          ],
          [
           "Green Light"
          ],
          [
           "Over And Over"
          ],
          [
           "All the Young Dudes"
          ],
          [
           "The Boys Are Back In Town"
          ],
          [
           "Lose Yourself - Soundtrack Version"
          ],
          [
           "212"
          ],
          [
           "Firestarter"
          ],
          [
           "Kick Out the Jams"
          ],
          [
           "See Emily Play - 2001 Remastered Version"
          ],
          [
           "Two Weeks"
          ],
          [
           "Girls & Boys - 2012 Remaster"
          ],
          [
           "Son Of A Preacher Man"
          ],
          [
           "Cannonball"
          ],
          [
           "B.O.B. - Bombs Over Baghdad"
          ],
          [
           "Thinkin Bout You"
          ],
          [
           "Many Rivers To Cross"
          ],
          [
           "Gold Digger"
          ],
          [
           "Israelites"
          ],
          [
           "Something - Remastered"
          ],
          [
           "Ring Of Fire - Single Version"
          ],
          [
           "Sexual Healing"
          ],
          [
           "Cross Road Blues"
          ],
          [
           "Highway To Hell"
          ],
          [
           "Born To Be Wild"
          ],
          [
           "Da Funk"
          ],
          [
           "Theme From Shaft"
          ],
          [
           "Brass in Pocket"
          ],
          [
           "Shake, Rattle and Roll"
          ],
          [
           "(I'm Your) Hoochie Coochie Man"
          ],
          [
           "Jesus Walks"
          ],
          [
           "Suzanne"
          ],
          [
           "Bye Bye Love"
          ],
          [
           "Windowlicker"
          ],
          [
           "Heartbeats"
          ],
          [
           "School's Out"
          ],
          [
           "Stop! In The Name Of Love"
          ],
          [
           "La Vie en rose"
          ],
          [
           "Fell In Love With a Girl"
          ],
          [
           "Enter Sandman"
          ],
          [
           "Je t'aime moi non plus"
          ],
          [
           "Where Is My Mind?"
          ],
          [
           "96 Tears"
          ],
          [
           "Stan"
          ],
          [
           "Radio Free Europe"
          ],
          [
           "Bring The Noise"
          ],
          [
           "Ace Of Spades"
          ],
          [
           "Where Did Our Love Go - Stereo Version"
          ],
          [
           "Teen Age Riot"
          ],
          [
           "(Your Love Keeps Lifting Me) Higher and Higher"
          ],
          [
           "Wake Up"
          ],
          [
           "Rumble"
          ],
          [
           "Gimme Some Lovin' - Single Mix"
          ],
          [
           "Gloria: In Excelsis Deo"
          ],
          [
           "Back In Black"
          ],
          [
           "Tumbling Dice"
          ],
          [
           "Summer in the City - Remastered"
          ],
          [
           "Blind"
          ],
          [
           "Killing In The Name"
          ],
          [
           "Only the Lonely (Know the Way I Feel)"
          ],
          [
           "Just Like Heaven"
          ],
          [
           "Sweet Dreams (Are Made of This) - Remastered"
          ],
          [
           "Young Folks"
          ],
          [
           "Seventeen"
          ],
          [
           "Sweet Home Alabama"
          ],
          [
           "I Can't Explain - Original Mono Version"
          ],
          [
           "Groove Is in the Heart"
          ],
          [
           "Float On"
          ],
          [
           "White Christmas"
          ],
          [
           "You Can't Always Get What You Want"
          ],
          [
           "Move on Up - Extended Version"
          ],
          [
           "cellophane"
          ],
          [
           "I Can't Stand The Rain"
          ],
          [
           "Free Bird"
          ],
          [
           "Bodak Yellow"
          ],
          [
           "Lust For Life"
          ],
          [
           "Heart of Gold"
          ],
          [
           "HUMBLE."
          ],
          [
           "Ashes to Ashes"
          ],
          [
           "King Kunta"
          ],
          [
           "I Say a Little Prayer"
          ],
          [
           "West End Blues"
          ],
          [
           "I Can See For Miles - Mono Version"
          ],
          [
           "I Get Around (Mono)"
          ],
          [
           "More Than a Feeling"
          ],
          [
           "I Am The Walrus - Remastered"
          ],
          [
           "Under the Bridge"
          ],
          [
           "Around the World"
          ],
          [
           "Lola"
          ],
          [
           "Georgia On My Mind"
          ],
          [
           "Do You Realize??"
          ],
          [
           "Hey Joe"
          ],
          [
           "It's The End Of The World As We Know It (And I Feel Fine)"
          ],
          [
           "Body and Soul"
          ],
          [
           "Dazed and Confused - 1990 Remaster"
          ],
          [
           "1901"
          ],
          [
           "Fight For Your Right"
          ],
          [
           "Archangel"
          ],
          [
           "Ticket To Ride - Remastered"
          ],
          [
           "Sultans Of Swing"
          ],
          [
           "Fools Gold - Remastered"
          ],
          [
           "Crying"
          ],
          [
           "West End Girls - 2001 Remaster"
          ],
          [
           "Rocket 88 - Single Version"
          ],
          [
           "Chicago"
          ],
          [
           "Mannish Boy"
          ],
          [
           "Roll Over Beethoven"
          ],
          [
           "Instant Karma! (We All Shine On) - Remastered 2010"
          ],
          [
           "Minnie The Moocher (03-03-31)"
          ],
          [
           "Work"
          ],
          [
           "You Oughta Know"
          ],
          [
           "Pink Moon"
          ],
          [
           "American Pie"
          ],
          [
           "Fake Plastic Trees"
          ],
          [
           "I've Been Loving You Too Long"
          ],
          [
           "No One Knows"
          ],
          [
           "Monkey Gone to Heaven"
          ],
          [
           "Somebody to Love"
          ],
          [
           "Welcome To The Jungle"
          ],
          [
           "Loaded"
          ],
          [
           "Going Underground"
          ],
          [
           "Round Midnight"
          ],
          [
           "Long Tall Sally"
          ],
          [
           "I Put a Spell on You"
          ],
          [
           "Boogie Chillen"
          ],
          [
           "Come Together - Remastered"
          ],
          [
           "Pump Up The Volume (UK 12\" Remix)"
          ],
          [
           "Ohio"
          ],
          [
           "1999"
          ],
          [
           "Glory Box"
          ],
          [
           "Mack the Knife - Edit; 2006 Remaster"
          ],
          [
           "One Nation Under A Groove"
          ],
          [
           "Since U Been Gone"
          ],
          [
           "Jolene"
          ],
          [
           "Blister in the Sun - 2002 Remastered Version"
          ],
          [
           "Moondance"
          ],
          [
           "Jump"
          ],
          [
           "Blank Generation"
          ],
          [
           "Wild Horses"
          ],
          [
           "Norwegian Wood (This Bird Has Flown) - Remastered"
          ],
          [
           "Girls Just Want to Have Fun"
          ],
          [
           "I'm a Believer"
          ],
          [
           "I Will Survive - Single Version"
          ],
          [
           "Another Brick In The Wall, Pt. 2 - 2011 Remastered Version"
          ],
          [
           "Roxanne - Remastered 2003"
          ],
          [
           "A Love Supreme Part I: Acknowledgement"
          ],
          [
           "The Killing Moon"
          ],
          [
           "Under Pressure"
          ],
          [
           "In The Still Of The Nite"
          ],
          [
           "Pride (In The Name Of Love) - Remastered 2009"
          ],
          [
           "Da Doo Ron Ron (When He Walked Me Home)"
          ],
          [
           "My Name Is"
          ],
          [
           "There Goes My Baby - Single Version; 2019 Remaster"
          ],
          [
           "Wolf Like Me"
          ],
          [
           "Just Like Honey"
          ],
          [
           "Bizarre Love Triangle"
          ],
          [
           "Bad Moon Rising"
          ],
          [
           "You Really Got A Hold On Me"
          ],
          [
           "Pedestrian at Best"
          ],
          [
           "Straight Outta Compton"
          ],
          [
           "Dance to the Music"
          ],
          [
           "The End"
          ],
          [
           "St Louis Blues"
          ],
          [
           "The Loco-Motion"
          ],
          [
           "Hannah Hunt"
          ],
          [
           "Paid In Full"
          ],
          [
           "Such Great Heights"
          ],
          [
           "I've Got a Woman"
          ],
          [
           "O Superman"
          ],
          [
           "Another Girl, Another Planet - 2008 re-mastered version"
          ],
          [
           "Sheena Is a Punk Rocker - 2009 Remaster"
          ],
          [
           "Voodoo Child (Slight Return)"
          ],
          [
           "Midnight Train to Georgia"
          ],
          [
           "I Know There's Gonna Be (Good Times)"
          ],
          [
           "Because the Night"
          ],
          [
           "No Scrubs"
          ],
          [
           "You're Gonna Miss Me (2008 Remastered Original Mono LP Version)"
          ],
          [
           "All I Have to Do Is Dream - Single Version; 2006 Remaster"
          ],
          [
           "Come On Eileen"
          ],
          [
           "My Sweet Lord - 2001 Digital Remaster"
          ],
          [
           "Should I Stay or Should I Go"
          ],
          [
           "Yonkers"
          ],
          [
           "Reflektor"
          ],
          [
           "Enjoy the Silence"
          ],
          [
           "New Slang"
          ],
          [
           "Ultralight Beam"
          ],
          [
           "Hope There's Someone"
          ],
          [
           "New Rose"
          ],
          [
           "Ignition - Remix"
          ],
          [
           "Boys Don't Cry"
          ],
          [
           "Street Fighting Man"
          ],
          [
           "I Only Have Eyes For You"
          ],
          [
           "Run Away With Me"
          ],
          [
           "Transmission"
          ],
          [
           "All Apologies"
          ],
          [
           "A Hard Day's Night - Remastered"
          ],
          [
           "Skinny Love"
          ],
          [
           "Me and Bobby McGee"
          ],
          [
           "Music Sounds Better With You - Radio Edit"
          ],
          [
           "Freak Scene"
          ],
          [
           "Queen"
          ],
          [
           "Your Song"
          ],
          [
           "Starman - 2012 Remastered Version"
          ],
          [
           "Make Me Feel"
          ],
          [
           "Crystalised"
          ],
          [
           "The Letter"
          ],
          [
           "Milkshake"
          ],
          [
           "Zombie"
          ],
          [
           "Where It's At"
          ],
          [
           "Come As You Are"
          ],
          [
           "Everybody Hurts"
          ],
          [
           "We Are Your Friends - Justice Vs Simian"
          ],
          [
           "The Rat"
          ],
          [
           "Fire and Rain"
          ],
          [
           "It's A Man's Man's Man's World"
          ],
          [
           "Fuck Tha Police"
          ],
          [
           "Young Americans - 2007 Remaster"
          ],
          [
           "The Seed (2.0)"
          ],
          [
           "September Gurls"
          ],
          [
           "Cathy's Clown - Single Version; 2006 Remaster"
          ],
          [
           "Viva La Vida"
          ],
          [
           "Smokestack Lightnin'"
          ],
          [
           "Nights"
          ],
          [
           "That's Entertainment"
          ],
          [
           "I Love Rock 'N Roll"
          ],
          [
           "Tired Of Being Alone"
          ],
          [
           "Alison"
          ],
          [
           "Cry Me a River"
          ],
          [
           "Rock & Roll"
          ],
          [
           "Rid Of Me"
          ],
          [
           "These Boots Are Made for Walkin'"
          ],
          [
           "Thank You (Falettinme Be Mice Elf Agin) - Single Version"
          ],
          [
           "Black Hole Sun"
          ],
          [
           "You Can't Hurry Love"
          ],
          [
           "Round And Round"
          ],
          [
           "Visions of Johanna"
          ],
          [
           "Venus In Furs"
          ],
          [
           "Shout, Pts. 1 & 2"
          ],
          [
           "Trans-Europe Express - 2009 Remaster"
          ],
          [
           "Rock the Casbah"
          ],
          [
           "Hound Dog"
          ],
          [
           "Clint Eastwood"
          ],
          [
           "Closer"
          ],
          [
           "Ain't No Sunshine"
          ],
          [
           "Juice"
          ],
          [
           "Lazarus"
          ],
          [
           "So What (feat. John Coltrane, Cannonball Adderley & Bill Evans)"
          ],
          [
           "Not"
          ],
          [
           "Time After Time"
          ],
          [
           "We Found Love"
          ],
          [
           "DNA."
          ],
          [
           "Immigrant Song"
          ],
          [
           "I've Got You Under My Skin - Remastered 1998"
          ],
          [
           "Karma Police"
          ],
          [
           "Everlong"
          ],
          [
           "The Twist"
          ],
          [
           "Do I Wanna Know?"
          ],
          [
           "D.A.N.C.E."
          ],
          [
           "Revolution - Remastered"
          ],
          [
           "Work It"
          ],
          [
           "Good Golly Miss Molly"
          ],
          [
           "Who Do You Love - Single Version"
          ],
          [
           "War"
          ],
          [
           "Bloodbuzz Ohio"
          ],
          [
           "Comfortably Numb - 2011 Remastered Version"
          ],
          [
           "Perfect Day"
          ],
          [
           "Sour Times"
          ],
          [
           "Yellow"
          ],
          [
           "Helter Skelter - Remastered"
          ],
          [
           "Cortez The Killer"
          ],
          [
           "Famous Blue Raincoat"
          ],
          [
           "Redemption Song"
          ],
          [
           "Waiting Room"
          ],
          [
           "Juicy - 2005 Remaster"
          ],
          [
           "Get Up, Stand Up"
          ],
          [
           "Ne me quitte pas"
          ],
          [
           "It's Too Late"
          ],
          [
           "The Rockafeller Skank - Full Version"
          ],
          [
           "Desolation Row"
          ],
          [
           "Since I Left You"
          ],
          [
           "In The Air Tonight"
          ],
          [
           "Shut Up Kiss Me"
          ],
          [
           "Hate To Say I Told You So"
          ],
          [
           "I Never Loved a Man (The Way I Love You)"
          ],
          [
           "Riders on the Storm"
          ],
          [
           "I'm Not In Love"
          ],
          [
           "Stand By Your Man"
          ],
          [
           "Wake up Little Susie - Single Version; 2006 Remaster"
          ],
          [
           "Unchained Melody"
          ],
          [
           "Blackstar"
          ],
          [
           "The One I Love"
          ],
          [
           "Ray of Light"
          ],
          [
           "Ain't That A Shame"
          ],
          [
           "thank u, next"
          ],
          [
           "Working Class Hero - Remastered 2010"
          ],
          [
           "Chain of Fools"
          ],
          [
           "The Night They Drove Old Dixie Down - Remastered 2000"
          ],
          [
           "Holocene"
          ],
          [
           "Cut Your Hair"
          ],
          [
           "Blue Yodel #1 (t For Texas)"
          ],
          [
           "...Baby One More Time"
          ],
          [
           "Jeremy"
          ],
          [
           "Vogue"
          ],
          [
           "I Still Haven't Found What I'm Looking For - Remastered 2007"
          ],
          [
           "Dreams"
          ],
          [
           "Old Town Road - Remix"
          ],
          [
           "Higher Ground"
          ],
          [
           "Who'll Stop The Rain"
          ],
          [
           "He's a Rebel"
          ],
          [
           "Walk This Way"
          ],
          [
           "Friday On My Mind"
          ],
          [
           "California Love"
          ],
          [
           "The River"
          ],
          [
           "The Harder They Come - From \"The Harder They Come\" Soundtrack"
          ],
          [
           "MALAMENTE - Cap.1: Augurio"
          ],
          [
           "Everyday People"
          ],
          [
           "Soul Man"
          ],
          [
           "The Thrill Is Gone"
          ],
          [
           "Waterfalls"
          ],
          [
           "Take on Me"
          ],
          [
           "White Winter Hymnal"
          ],
          [
           "The Passenger"
          ],
          [
           "Odessa"
          ],
          [
           "Everything Is Embarrassing"
          ],
          [
           "Bags"
          ],
          [
           "In the Mood"
          ],
          [
           "Do You Believe in Magic?"
          ],
          [
           "Earth Angel (Will You Be Mine)"
          ],
          [
           "Can't Do Without You"
          ],
          [
           "Fairytale of New York (feat. Kirsty MacColl)"
          ],
          [
           "Sprawl II (Mountains Beyond Mountains)"
          ],
          [
           "Lisztomania"
          ],
          [
           "Killing Me Softly With His Song"
          ],
          [
           "My Funny Valentine"
          ],
          [
           "Message In A Bottle"
          ],
          [
           "Koko"
          ],
          [
           "Someone Great"
          ],
          [
           "The Boxer"
          ],
          [
           "Teardrop"
          ],
          [
           "Fade Into You"
          ],
          [
           "Personal Jesus"
          ],
          [
           "Thirteen"
          ],
          [
           "Where The Streets Have No Name - Remastered 2007"
          ],
          [
           "Back To Life (However Do You Want Me) [feat. Caron Wheeler] - 2003 Remastered Version"
          ],
          [
           "All You Need Is Love - Remastered"
          ],
          [
           "Yakety Yak"
          ],
          [
           "Tightrope (feat. Big Boi) - Big Boi Vocal Edit"
          ],
          [
           "I Fought the Law - Single Version"
          ],
          [
           "Push It"
          ],
          [
           "Love Is The Drug"
          ],
          [
           "I Will Move On Up A Little Higher - Part 1"
          ],
          [
           "The House That Heaven Built"
          ],
          [
           "What A Wonderful World"
          ],
          [
           "Jesus, Etc."
          ],
          [
           "Cry Me A River"
          ],
          [
           "Brimful of Asha (Norman Cook Remix) (Single Version)"
          ],
          [
           "All Right Now"
          ],
          [
           "Daniel"
          ],
          [
           "Shipbuilding - Remastered in 1998"
          ],
          [
           "Chandelier"
          ],
          [
           "Retrograde"
          ],
          [
           "Paperback Writer - Remastered"
          ],
          [
           "Standing In The Way Of Control"
          ],
          [
           "Rockin' in the Free World"
          ],
          [
           "Let's Dance - 1999 Remaster"
          ],
          [
           "One Day Like This"
          ],
          [
           "You Shook Me All Night Long"
          ],
          [
           "Apache"
          ],
          [
           "Happiness Is A Warm Gun - Remastered"
          ],
          [
           "Telstar - Remastered"
          ],
          [
           "At Last - Single Version"
          ],
          [
           "Hard To Explain"
          ],
          [
           "Rebel Rebel - 1999 Remaster"
          ],
          [
           "Fast Car"
          ],
          [
           "Shine On You Crazy Diamond, Pts. 1-5 - 2011 Remastered Version"
          ],
          [
           "More Than This"
          ],
          [
           "Dust My Broom"
          ],
          [
           "Losing You"
          ],
          [
           "Hallelujah"
          ],
          [
           "Blue Moon Of Kentucky - Original"
          ],
          [
           "Hallelujah"
          ],
          [
           "Piece of My Heart"
          ],
          [
           "Police & Thieves"
          ],
          [
           "Hold On, We're Going Home"
          ],
          [
           "Maybe I’m Amazed - Remastered 2011"
          ],
          [
           "True Faith - 2015 Remaster"
          ],
          [
           "A-Punk"
          ],
          [
           "White Lines (Don't Don't Do It) - Long Version"
          ],
          [
           "Block Rockin' Beats"
          ],
          [
           "Love To Love You Baby"
          ],
          [
           "Digital Love"
          ],
          [
           "Video Killed The Radio Star"
          ],
          [
           "Doo Wop (That Thing)"
          ],
          [
           "Dream On"
          ],
          [
           "21st Century Schizoid Man"
          ],
          [
           "Miss You - Remastered"
          ],
          [
           "Positively 4th Street - Single Version"
          ],
          [
           "Here Comes The Sun - Remastered"
          ],
          [
           "Last Goodbye"
          ],
          [
           "Gone"
          ],
          [
           "Bad Romance"
          ],
          [
           "Me Myself And I"
          ],
          [
           "Pretty Vacant"
          ],
          [
           "Shot By Both Sides - Remastered"
          ],
          [
           "Boom Boom"
          ],
          [
           "Knockin' On Heaven's Door"
          ],
          [
           "Move It - 2000 Remaster"
          ],
          [
           "Please Mr. Postman - Single Version / Mono"
          ],
          [
           "Single Ladies (Put a Ring on It)"
          ],
          [
           "Just Like a Woman"
          ],
          [
           "The Boys Of Summer"
          ],
          [
           "This Town Ain't Big Enough For Both Of Us"
          ],
          [
           "The Dark End of the Street"
          ],
          [
           "Alive"
          ],
          [
           "Personality Crisis"
          ],
          [
           "I Wanna Be Sedated - Remastered"
          ],
          [
           "New Year's Day"
          ],
          [
           "Archie, Marry Me"
          ],
          [
           "Heart-Shaped Box"
          ],
          [
           "Love It If We Made It"
          ],
          [
           "Turn! Turn! Turn! (To Everything There Is a Season)"
          ],
          [
           "Public Image"
          ],
          [
           "Rock Lobster"
          ],
          [
           "How High The Moon"
          ],
          [
           "Inner City Blues (Make Me Wanna Holler)"
          ],
          [
           "Surrender"
          ],
          [
           "Take Five"
          ],
          [
           "Call Me Maybe"
          ],
          [
           "Feels Like We Only Go Backwards"
          ],
          [
           "My Love - Single Version"
          ],
          [
           "Runaround Sue"
          ],
          [
           "Let's Spend The Night Together - Stereo Version"
          ],
          [
           "Band Of Gold (Single Mix)"
          ],
          [
           "I'm A Man - Single Version"
          ],
          [
           "Everyday Is Like Sunday"
          ],
          [
           "1 Thing"
          ],
          [
           "Livin' On A Prayer"
          ],
          [
           "Damaged Goods"
          ],
          [
           "Lithium"
          ],
          [
           "Buddy Holly"
          ],
          [
           "Ni**as In Paris"
          ],
          [
           "It Takes Two"
          ],
          [
           "Hey Hey, My My (Into The Black)"
          ],
          [
           "Hurricane"
          ],
          [
           "Don't Look Back In Anger"
          ],
          [
           "I Wanna Dance with Somebody (Who Loves Me)"
          ],
          [
           "Say It Loud - I'm Black And I'm Proud"
          ],
          [
           "Drop It Like It's Hot"
          ],
          [
           "L.E.S Artistes"
          ],
          [
           "Can't Stand Me Now"
          ],
          [
           "Atlas"
          ],
          [
           "Suite: Judy Blue Eyes - 2005 Remaster"
          ],
          [
           "Substitute - Single Version"
          ],
          [
           "Birthday"
          ],
          [
           "One O'clock Jump"
          ],
          [
           "Banquet"
          ],
          [
           "(Love Is Like A) Heat Wave - Single Version"
          ],
          [
           "Cars - Remastered 2009"
          ],
          [
           "I Fall To Pieces - Single Version"
          ],
          [
           "Try Again"
          ],
          [
           "Rebel Without A Pause"
          ],
          [
           "Complete Control"
          ],
          [
           "Don't Believe The Hype"
          ],
          [
           "Jealous Guy - Remastered 2010"
          ],
          [
           "Race For The Prize"
          ],
          [
           "Lucy In The Sky With Diamonds - Remastered"
          ],
          [
           "Fix Up, Look Sharp"
          ],
          [
           "Clocks"
          ],
          [
           "Angie - Remastered 2009"
          ],
          [
           "Just My Imagination (Running Away With Me)"
          ],
          [
           "Night Moves"
          ],
          [
           "Sex & Drugs & Rock & Roll"
          ],
          [
           "Iron Man"
          ],
          [
           "Wooly Bully"
          ],
          [
           "Climax"
          ],
          [
           "American Girl"
          ],
          [
           "Money - 2011 Remastered Version"
          ],
          [
           "Little Wing"
          ],
          [
           "River Man"
          ],
          [
           "Everything in Its Right Place"
          ],
          [
           "Ode To Billie Joe"
          ],
          [
           "Summer Babe (Winter Version)"
          ],
          [
           "Making Plans For Nigel"
          ],
          [
           "Faith - Remastered"
          ],
          [
           "Surfin' Usa"
          ],
          [
           "America - Single Mix"
          ],
          [
           "Surf's Up - Remastered 2009"
          ],
          [
           "Uptown Top Ranking - Remastered 2001"
          ],
          [
           "The Revolution Will Not Be Televised"
          ],
          [
           "Thriller"
          ],
          [
           "Hellhound On My Trail"
          ],
          [
           "Take the \"A\" Train"
          ],
          [
           "My Sharona"
          ],
          [
           "Some Velvet Morning"
          ],
          [
           "Watching The Detectives"
          ],
          [
           "Missing - Todd Terry Remix / Radio Edit"
          ],
          [
           "The Tears Of A Clown - Single Version / Mono"
          ],
          [
           "Atlantic City"
          ],
          [
           "Free Fallin'"
          ],
          [
           "A Case of You"
          ],
          [
           "I Got You Babe"
          ],
          [
           "EARFQUAKE"
          ],
          [
           "God Bless The Child"
          ],
          [
           "Walk Away Renee"
          ],
          [
           "The Mercy Seat - 2010 Digital Remaster"
          ],
          [
           "Pyramid Song"
          ],
          [
           "Can't Feel My Face"
          ],
          [
           "Holiday In Cambodia"
          ],
          [
           "Solsbury Hill"
          ],
          [
           "Borderline"
          ],
          [
           "Goodbye Yellow Brick Road"
          ],
          [
           "Genius Of Love"
          ],
          [
           "A Milli"
          ],
          [
           "Ballad of a Thin Man"
          ],
          [
           "No Diggity"
          ],
          [
           "Me and Guiliani Down by the School Yard - A True Story"
          ],
          [
           "Oliver's Army"
          ],
          [
           "Mrs. Robinson"
          ],
          [
           "Master Of Puppets"
          ],
          [
           "Monster"
          ],
          [
           "Bipp"
          ],
          [
           "Psychotic Reaction"
          ],
          [
           "In Da Club"
          ],
          [
           "Super Freak"
          ],
          [
           "Give It Away"
          ],
          [
           "Tiny Dancer"
          ],
          [
           "A Hard Rain's A-Gonna Fall"
          ],
          [
           "In the Ghetto"
          ],
          [
           "Sound and Vision - 1999 Remaster"
          ],
          [
           "Uptown Funk (feat. Bruno Mars)"
          ],
          [
           "Beautiful Day"
          ],
          [
           "Rock with You - Single Version"
          ],
          [
           "La Grange - 2005 Remaster"
          ],
          [
           "A Forest"
          ],
          [
           "Mask Off (feat. Kendrick Lamar) - Remix"
          ],
          [
           "Spanish Harlem"
          ],
          [
           "Close To Me"
          ],
          [
           "Galang"
          ],
          [
           "Soon"
          ],
          [
           "Hyperballad"
          ],
          [
           "The Needle and the Damage Done - 2009 Remaster"
          ],
          [
           "She's Not There"
          ],
          [
           "Stillness Is The Move"
          ],
          [
           "Pressure Drop - Single Version"
          ],
          [
           "Dancing In The Dark"
          ],
          [
           "The Real Slim Shady"
          ],
          [
           "California Girls - Remix/Remastered 2001"
          ],
          [
           "Crimson & Clover"
          ],
          [
           "Across The Universe - Remastered"
          ],
          [
           "Masters of War"
          ],
          [
           "Say It Ain't So"
          ],
          [
           "The Sun Ain't Gonna Shine Anymore - Mono Version"
          ],
          [
           "American Idiot"
          ],
          [
           "After the Gold Rush"
          ],
          [
           "Everybody's Talkin' - From \"Midnight Cowboy\""
          ],
          [
           "Call Me"
          ],
          [
           "You're so Vain"
          ],
          [
           "Feel Good Inc."
          ],
          [
           "Bela Lugosi’s Dead"
          ],
          [
           "Champagne Supernova"
          ],
          [
           "C.R.E.A.M. (Cash Rules Everything Around Me) (feat. Method Man, Raekwon, Inspectah Deck & Buddha Monk)"
          ],
          [
           "My Favorite Things"
          ],
          [
           "About A Girl - Remastered"
          ],
          [
           "Lady Marmalade - Single Version"
          ],
          [
           "Caught Out There"
          ],
          [
           "Sex on Fire"
          ],
          [
           "Mind Playing Tricks On Me"
          ],
          [
           "In Dreams"
          ],
          [
           "Call It Stormy Monday (But Tuesday Is Just As Bad)"
          ],
          [
           "Basket Case"
          ],
          [
           "Train in Vain"
          ],
          [
           "Gold Soundz"
          ],
          [
           "Back Stabbers"
          ],
          [
           "Nobody"
          ],
          [
           "Sledgehammer"
          ],
          [
           "Don't Dream It's Over"
          ],
          [
           "1234"
          ],
          [
           "Super Bass"
          ],
          [
           "We Will Rock You"
          ],
          [
           "Blank Space"
          ],
          [
           "Money (That's What I Want) - Single Version / Mono"
          ],
          [
           "Piano Man"
          ],
          [
           "It's Like That"
          ],
          [
           "Walk, Don't Run"
          ],
          [
           "Atomic Dog"
          ],
          [
           "You Get What You Give"
          ],
          [
           "What You Know"
          ],
          [
           "Only Shallow"
          ],
          [
           "You Made Me Realise - Remastered Version"
          ],
          [
           "Everybody Wants To Rule The World"
          ],
          [
           "Touch Me I'm Sick"
          ],
          [
           "He Stopped Loving Her Today - Single Version"
          ],
          [
           "I Saw Her Standing There - Remastered"
          ],
          [
           "Who Knows Where The Time Goes?"
          ],
          [
           "Mood Indigo"
          ],
          [
           "You Keep Me Hangin' On - Album Version / Stereo"
          ],
          [
           "Only You - And You Alone"
          ],
          [
           "Rock Island Line - Mono Version"
          ],
          [
           "Mercy Mercy Me (The Ecology)"
          ],
          [
           "Atmosphere"
          ],
          [
           "It's Alright, Ma (I'm Only Bleeding)"
          ],
          [
           "Rock And Roll"
          ],
          [
           "Don't Think Twice, It's All Right"
          ],
          [
           "I Shot The Sheriff"
          ],
          [
           "Machine Gun"
          ],
          [
           "Got My Mojo Working"
          ],
          [
           "Int'l Players Anthem (I Choose You)"
          ],
          [
           "Loud Places"
          ],
          [
           "Sail Away - 2002 Remaster"
          ],
          [
           "L.A. Woman - Remaster"
          ],
          [
           "Fame - 2007 Remaster"
          ],
          [
           "Red Eyes"
          ],
          [
           "My Way"
          ],
          [
           "Lonely Boy"
          ],
          [
           "Ain't Misbehavin"
          ],
          [
           "Supersonic"
          ],
          [
           "My Guy - Single Version"
          ],
          [
           "Boy From School"
          ],
          [
           "Band On The Run - Remastered 2010"
          ],
          [
           "The Scientist"
          ],
          [
           "Praise You"
          ],
          [
           "Buffalo Stance"
          ],
          [
           "Coal Miner's Daughter - Single Version"
          ],
          [
           "Ain't No Mountain High Enough - Stereo Version"
          ],
          [
           "Caldonia"
          ],
          [
           "Sunday Morning"
          ],
          [
           "Lucille"
          ],
          [
           "Hit the Road Jack"
          ],
          [
           "Big Yellow Taxi"
          ],
          [
           "Jungleland"
          ],
          [
           "You Want It Darker"
          ],
          [
           "Dark Star - Single Version"
          ],
          [
           "White Riot"
          ],
          [
           "SICKO MODE"
          ],
          [
           "Are 'Friends' Electric?"
          ],
          [
           "Izzo (H.O.V.A.)"
          ],
          [
           "We Are The Champions - Remastered 2011"
          ],
          [
           "Hold On, I'm Comin'"
          ],
          [
           "Gin And Juice (feat. Dat Nigga Daz)"
          ],
          [
           "Whip It"
          ],
          [
           "Love In Vain"
          ],
          [
           "Paradise City"
          ],
          [
           "Astronomy Domine - 2011 Remastered Version"
          ],
          [
           "Ruby Tuesday - Stereo Version"
          ],
          [
           "I Like It"
          ],
          [
           "Bro's"
          ],
          [
           "Águas De Março"
          ],
          [
           "Sing, Sing, Sing"
          ],
          [
           "The Wilhelm Scream"
          ],
          [
           "Strings Of Life"
          ],
          [
           "Start Me Up - Remastered"
          ],
          [
           "Out of Time"
          ],
          [
           "Down By The Water"
          ],
          [
           "Animal Nitrate (Remastered)"
          ],
          [
           "Do You Really Want To Hurt Me"
          ],
          [
           "It Was A Good Day"
          ],
          [
           "You've Got To Hide Your Love Away - Remastered"
          ],
          [
           "Aqualung"
          ],
          [
           "When The Levee Breaks"
          ],
          [
           "Redbone"
          ],
          [
           "Latch"
          ],
          [
           "Step On"
          ],
          [
           "Sexy Boy"
          ],
          [
           "Time of the Season"
          ],
          [
           "If You Don't Know Me by Now (feat. Teddy Pendergrass)"
          ],
          [
           "Hurt"
          ],
          [
           "Wildwood Flower"
          ],
          [
           "Love Me Tender - From the 20th Century-Fox CinemaScope Production \"Love Me Tender\""
          ],
          [
           "A Teenager In Love"
          ],
          [
           "Superstar"
          ],
          [
           "Waltz #2 (XO)"
          ],
          [
           "Rollin' Stone"
          ],
          [
           "Wonderful World"
          ],
          [
           "Protect Ya Neck (feat. RZA, Method Man, Inspectah Deck, Raekwon, U-God, Ol' Dirty Bastard, Ghostface Killah & GZA)"
          ],
          [
           "Hung Up"
          ],
          [
           "Have You Ever Seen The Rain?"
          ],
          [
           "I Wanna Be Adored - Remastered"
          ],
          [
           "A New England"
          ],
          [
           "The Man Who Sold The World - 1999 Remastered Version"
          ],
          [
           "Cry"
          ],
          [
           "Down In The Tube Station At Midnight - Full Version"
          ],
          [
           "War Pigs"
          ],
          [
           "Don't Stop Believin'"
          ],
          [
           "(You Make Me Feel Like) A Natural Woman"
          ],
          [
           "Flying Home"
          ],
          [
           "Rocket Man (I Think It's Going To Be A Long Long Time)"
          ],
          [
           "The Adventures Of Grandmaster Flash On The Wheels Of Steel"
          ],
          [
           "Rosalita (Come out Tonight)"
          ],
          [
           "Staring At The Sun"
          ],
          [
           "O.P.P"
          ],
          [
           "C'mon Everybody"
          ],
          [
           "Zero"
          ],
          [
           "Fever"
          ],
          [
           "Into My Arms - 2011 - Remaster"
          ],
          [
           "Blind Willie McTell - Studio Outtake - 1983"
          ],
          [
           "Golden Skans"
          ],
          [
           "Wouldn't It Be Nice - Mono / Remastered"
          ],
          [
           "Do You Love Me - Mono Single"
          ],
          [
           "We Are Family - 1995 Remaster"
          ],
          [
           "Wannabe"
          ],
          [
           "Uptight (Everything's Alright) - Single Version"
          ],
          [
           "Under My Thumb"
          ],
          [
           "Atomic - Remastered/2001"
          ],
          [
           "The Breaks"
          ],
          [
           "Harmony Hall"
          ],
          [
           "Golden Slumbers - Remastered"
          ],
          [
           "You Make Me Feel (Mighty Real)"
          ],
          [
           "Good Riddance (Time of Your Life)"
          ],
          [
           "Luka"
          ],
          [
           "Sea Song"
          ],
          [
           "Then He Kissed Me"
          ],
          [
           "Help Me"
          ],
          [
           "White Room"
          ],
          [
           "What's Love Got To Do WIth It - 1997 Digital Remaster"
          ],
          [
           "The Winner Takes It All"
          ],
          [
           "Baby Love - Mono"
          ],
          [
           "For Your Love"
          ],
          [
           "Stay with Me - 2008 Remaster"
          ],
          [
           "Take Me To The River"
          ],
          [
           "Please Please Me - Remastered"
          ],
          [
           "Dark Was the Night, Cold Was the Ground"
          ],
          [
           "She's Gone"
          ],
          [
           "Rain - Remastered"
          ],
          [
           "The Great Pretender"
          ],
          [
           "Rock And Roll All Nite"
          ],
          [
           "Nuages - avec le Quintette Hot Club de France"
          ],
          [
           "Rockit"
          ],
          [
           "Drunk Drivers/Killer Whales"
          ],
          [
           "Pinball Wizard - Original Album Version"
          ],
          [
           "Up on the Roof - Single Version; 2017 Remaster"
          ],
          [
           "Burning Down the House - 2005 Remaster"
          ],
          [
           "Good Lovin' - Single Version"
          ],
          [
           "Cold Sweat"
          ],
          [
           "Sir Duke"
          ],
          [
           "Hong Kong Garden"
          ],
          [
           "20th Century Boy"
          ],
          [
           "Say My Name"
          ],
          [
           "No Surprises"
          ],
          [
           "Midnight Special"
          ],
          [
           "Timeless"
          ],
          [
           "Like a Hurricane"
          ],
          [
           "Ready or Not"
          ],
          [
           "Ramblin' Man"
          ],
          [
           "Lawdy Miss Clawdy - Single Version"
          ],
          [
           "Lonely Teardrops"
          ],
          [
           "Word Up"
          ],
          [
           "Gigantic"
          ],
          [
           "Jump Around"
          ],
          [
           "Save the Last Dance for Me - 2009 Remaster"
          ],
          [
           "Itchycoo Park"
          ],
          [
           "Temptation [7\" Version]"
          ],
          [
           "With Every Heartbeat - with Kleerup"
          ],
          [
           "Sh-Boom"
          ],
          [
           "Live and Let Die"
          ],
          [
           "I Can't Stop Loving You"
          ],
          [
           "All Along the Watchtower"
          ],
          [
           "Music"
          ],
          [
           "Happy Together"
          ],
          [
           "Honey"
          ],
          [
           "Not Fade Away"
          ],
          [
           "Teenage Dream"
          ],
          [
           "At The Hop"
          ],
          [
           "Your Cheatin' Heart - Single Version"
          ],
          [
           "Black Skinhead"
          ],
          [
           "Bring It On Home To Me"
          ],
          [
           "I Feel for You"
          ],
          [
           "Whipping Post"
          ],
          [
           "Just What I Needed"
          ],
          [
           "Get Off Of My Cloud - Mono Version / Remastered 2002"
          ],
          [
           "We The People...."
          ],
          [
           "Flash Light"
          ],
          [
           "Norf Norf"
          ],
          [
           "Killer Queen - Remastered 2011"
          ],
          [
           "She's Lost Control - 12\" Single Version"
          ],
          [
           "Reelin' In The Years"
          ],
          [
           "Helplessness Blues"
          ],
          [
           "Devils Haircut"
          ],
          [
           "Black Magic Woman / Gypsy Queen"
          ],
          [
           "A Girl Like You"
          ],
          [
           "Superfly"
          ],
          [
           "Sweet Little Sixteen"
          ],
          [
           "Wicked Game"
          ],
          [
           "Gangsters - 2015 Remaster"
          ],
          [
           "Dry Your Eyes"
          ],
          [
           "Electric Feel"
          ],
          [
           "Runnin' With The Devil"
          ],
          [
           "Holiday"
          ],
          [
           "Grindin'"
          ],
          [
           "Sister Ray"
          ],
          [
           "I Will Dare"
          ],
          [
           "Swanee"
          ],
          [
           "Don't You (Forget About Me)"
          ],
          [
           "Blackbird - Remastered"
          ],
          [
           "It Wasn't God Who Made Honky Tonk Angels"
          ],
          [
           "I Luv U"
          ],
          [
           "Soul Makossa"
          ],
          [
           "Regret"
          ],
          [
           "Black (First Movement Of Black, Brown And Beige) - Live"
          ],
          [
           "Can the Circle Be Unbroken"
          ],
          [
           "Little Fluffy Clouds"
          ],
          [
           "Kansas City"
          ],
          [
           "POWER"
          ],
          [
           "Sunny Afternoon"
          ],
          [
           "Crosstown Traffic"
          ],
          [
           "Pony Blues"
          ],
          [
           "It's a Sin - 2001 Remaster"
          ],
          [
           "One for My Baby - and One More for the Road"
          ],
          [
           "The Rip"
          ],
          [
           "Black Beatles"
          ],
          [
           "Manteca"
          ],
          [
           "Duke Of Earl"
          ],
          [
           "I Can’t Help Myself (Sugar Pie, Honey Bunch)"
          ],
          [
           "In My Room - Remastered"
          ],
          [
           "Rebel Girl"
          ],
          [
           "Mama Tried - Remastered 2001"
          ],
          [
           "Pristine"
          ],
          [
           "Ain't Too Proud To Beg"
          ],
          [
           "Rhapsody In Blue"
          ],
          [
           "Sixteen Tons"
          ],
          [
           "On Broadway - 2018 Remaster"
          ],
          [
           "Wipe Out"
          ],
          [
           "Connection"
          ],
          [
           "Disco Inferno"
          ],
          [
           "Crazy Blues"
          ],
          [
           "Fuck You"
          ],
          [
           "Hey Boy Hey Girl"
          ],
          [
           "I Want to Know What Love Is - 1999 Remaster"
          ],
          [
           "I Want You"
          ],
          [
           "The Suburbs"
          ],
          [
           "Dum Surfer"
          ],
          [
           "Black and Tan Fantasy"
          ],
          [
           "Our House (Remastered)"
          ]
         ],
         "hovertemplate": "x=%{x}<br>y=%{y}<br>title=%{customdata[0]}<br>cluster=%{marker.color}<extra></extra>",
         "legendgroup": "",
         "marker": {
          "color": [
           11,
           1,
           15,
           9,
           5,
           17,
           17,
           5,
           18,
           1,
           2,
           19,
           0,
           10,
           12,
           2,
           5,
           1,
           0,
           15,
           1,
           13,
           9,
           5,
           9,
           18,
           3,
           19,
           16,
           12,
           2,
           1,
           0,
           10,
           16,
           3,
           2,
           10,
           10,
           0,
           9,
           12,
           12,
           2,
           3,
           17,
           11,
           9,
           10,
           9,
           5,
           6,
           2,
           12,
           17,
           9,
           11,
           11,
           0,
           7,
           0,
           9,
           1,
           18,
           13,
           15,
           9,
           13,
           13,
           16,
           19,
           1,
           13,
           0,
           13,
           19,
           1,
           12,
           4,
           5,
           10,
           15,
           12,
           5,
           17,
           9,
           0,
           1,
           17,
           9,
           15,
           12,
           11,
           2,
           9,
           9,
           2,
           7,
           18,
           0,
           12,
           5,
           9,
           9,
           12,
           6,
           19,
           15,
           18,
           17,
           5,
           17,
           15,
           3,
           10,
           4,
           15,
           13,
           11,
           1,
           7,
           19,
           15,
           1,
           7,
           7,
           9,
           10,
           12,
           16,
           15,
           12,
           6,
           6,
           15,
           1,
           1,
           18,
           11,
           9,
           3,
           12,
           9,
           16,
           10,
           17,
           16,
           17,
           11,
           12,
           1,
           10,
           0,
           16,
           1,
           6,
           0,
           19,
           18,
           18,
           13,
           10,
           2,
           2,
           2,
           17,
           17,
           15,
           11,
           9,
           0,
           13,
           6,
           11,
           17,
           1,
           17,
           2,
           15,
           7,
           12,
           1,
           9,
           14,
           15,
           4,
           12,
           12,
           10,
           12,
           17,
           1,
           0,
           9,
           4,
           13,
           7,
           7,
           18,
           13,
           0,
           17,
           19,
           6,
           5,
           16,
           18,
           16,
           3,
           5,
           0,
           16,
           11,
           5,
           9,
           1,
           13,
           1,
           10,
           9,
           1,
           10,
           3,
           2,
           0,
           9,
           17,
           9,
           7,
           18,
           1,
           9,
           17,
           4,
           0,
           12,
           4,
           4,
           5,
           9,
           17,
           11,
           16,
           13,
           3,
           0,
           10,
           5,
           16,
           9,
           19,
           4,
           1,
           3,
           12,
           18,
           12,
           12,
           1,
           1,
           3,
           5,
           4,
           2,
           15,
           10,
           4,
           17,
           9,
           10,
           15,
           9,
           13,
           13,
           0,
           0,
           15,
           17,
           2,
           3,
           12,
           17,
           11,
           19,
           13,
           6,
           9,
           9,
           2,
           6,
           10,
           12,
           12,
           4,
           17,
           6,
           19,
           13,
           4,
           5,
           17,
           1,
           15,
           3,
           4,
           15,
           10,
           9,
           9,
           3,
           13,
           0,
           13,
           0,
           3,
           0,
           1,
           0,
           3,
           0,
           0,
           1,
           12,
           11,
           18,
           13,
           3,
           0,
           2,
           17,
           0,
           1,
           1,
           2,
           17,
           19,
           9,
           12,
           19,
           3,
           0,
           2,
           5,
           5,
           2,
           1,
           2,
           11,
           6,
           0,
           2,
           9,
           15,
           11,
           12,
           5,
           19,
           0,
           0,
           5,
           6,
           16,
           1,
           1,
           12,
           1,
           1,
           12,
           19,
           10,
           6,
           9,
           16,
           7,
           10,
           6,
           1,
           15,
           19,
           11,
           9,
           16,
           17,
           18,
           3,
           0,
           15,
           5,
           6,
           5,
           16,
           6,
           4,
           12,
           3,
           17,
           9,
           5,
           18,
           10,
           2,
           19,
           18,
           1,
           0,
           11,
           16,
           1,
           3,
           2,
           9,
           13,
           4,
           17,
           1,
           6,
           15,
           5,
           13,
           15,
           0,
           12,
           12,
           1,
           16,
           0,
           17,
           15,
           11,
           6,
           3,
           5,
           13,
           0,
           5,
           4,
           0,
           5,
           13,
           18,
           18,
           2,
           2,
           10,
           4,
           3,
           10,
           15,
           13,
           18,
           4,
           3,
           13,
           8,
           0,
           17,
           2,
           1,
           16,
           11,
           0,
           9,
           1,
           4,
           11,
           13,
           0,
           0,
           19,
           15,
           17,
           4,
           18,
           17,
           13,
           1,
           10,
           16,
           2,
           0,
           19,
           16,
           13,
           1,
           1,
           0,
           3,
           2,
           6,
           2,
           10,
           15,
           19,
           4,
           2,
           0,
           4,
           19,
           17,
           9,
           10,
           12,
           11,
           12,
           15,
           12,
           18,
           6,
           2,
           12,
           4,
           17,
           2,
           19,
           0,
           9,
           1,
           13,
           12,
           11,
           9,
           2,
           5,
           9,
           13,
           1,
           13,
           5,
           3,
           3,
           0,
           4,
           16,
           18,
           11,
           15,
           4,
           16,
           19,
           12,
           13,
           13,
           4,
           18,
           0,
           11,
           15,
           4,
           0,
           0,
           11,
           18,
           19,
           6,
           3,
           16,
           9,
           17,
           12,
           6,
           1,
           16,
           17,
           3,
           19,
           10,
           6,
           2,
           9,
           17,
           1,
           3,
           17,
           1,
           1,
           3,
           17,
           3,
           15,
           9,
           3,
           2,
           17,
           17,
           18,
           17,
           2,
           18,
           1,
           1,
           17,
           17,
           6,
           17,
           6,
           15,
           11,
           9,
           15,
           4,
           19,
           10,
           4,
           17,
           19,
           18,
           16,
           9,
           4,
           9,
           7,
           9,
           6,
           2,
           17,
           18,
           17,
           6,
           0,
           16,
           6,
           16,
           1,
           17,
           18,
           19,
           17,
           4,
           15,
           1,
           10,
           18,
           0,
           1,
           12,
           4,
           12,
           16,
           12,
           1,
           4,
           14,
           17,
           3,
           1,
           19,
           16,
           16,
           5,
           18,
           10,
           15,
           17,
           5,
           17,
           10,
           9,
           12,
           11,
           13,
           11,
           12,
           2,
           19,
           9,
           10,
           17,
           1,
           17,
           0,
           0,
           5,
           9,
           5,
           3,
           13,
           11,
           5,
           3,
           6,
           15,
           0,
           5,
           10,
           0,
           9,
           0,
           17,
           12,
           9,
           6,
           4,
           15,
           4,
           1,
           10,
           13,
           5,
           1,
           18,
           15,
           12,
           13,
           1,
           17,
           1,
           1,
           13,
           17,
           15,
           17,
           0,
           1,
           7,
           7,
           17,
           0,
           17,
           11,
           1,
           9,
           16,
           2,
           18,
           3,
           6,
           13,
           13,
           15,
           13,
           4,
           0,
           8,
           13,
           2,
           4,
           5,
           17,
           6,
           0,
           6,
           9,
           17,
           8,
           11,
           4,
           4,
           6,
           12,
           17,
           17,
           5,
           16,
           4,
           17,
           6,
           15,
           6,
           19,
           17,
           4,
           18,
           2,
           1,
           19,
           1,
           19,
           16,
           15,
           8,
           6,
           15,
           4,
           10,
           0,
           8,
           17,
           9,
           17,
           13,
           4,
           7,
           12,
           5,
           4,
           12,
           13,
           10,
           0,
           13,
           18,
           17,
           9,
           19,
           19,
           1,
           17,
           1,
           17,
           2,
           12,
           13,
           3,
           12,
           7,
           12,
           4,
           16,
           10,
           3,
           5,
           1,
           10,
           11,
           11,
           5,
           16,
           1,
           0,
           5,
           19,
           11,
           17,
           17,
           17,
           12,
           0,
           13,
           14,
           10,
           3,
           17,
           0,
           18,
           3,
           4,
           17,
           1,
           0,
           15,
           1,
           17,
           9,
           3,
           13,
           18,
           1,
           3,
           16,
           17,
           5,
           13,
           1,
           10,
           12,
           12,
           1,
           12,
           19,
           5,
           19,
           6,
           18,
           16,
           3,
           12,
           11,
           19,
           5,
           19,
           7,
           11,
           3,
           13,
           18,
           19,
           0,
           5,
           0,
           9,
           0,
           6,
           1,
           6,
           10,
           1,
           11,
           1,
           17,
           6,
           1,
           5,
           4,
           5,
           13,
           3,
           11,
           4,
           19,
           12,
           13,
           9,
           13,
           11,
           17,
           15,
           17,
           6,
           0,
           9,
           3,
           2,
           12,
           19,
           12,
           12,
           12,
           1,
           11,
           9,
           0,
           4,
           2,
           16,
           18,
           12,
           1,
           1,
           12,
           12,
           10,
           16,
           4,
           6,
           19,
           19,
           19,
           16,
           19,
           6,
           13,
           2,
           1,
           2,
           6,
           4,
           19,
           5,
           9,
           11,
           16,
           7,
           9,
           13,
           0,
           10,
           18,
           5,
           0,
           6,
           19,
           19,
           10,
           11,
           5,
           2,
           17,
           10,
           18,
           2,
           18,
           17,
           19,
           12,
           11,
           1,
           4,
           5,
           18,
           9,
           7,
           9,
           3,
           3,
           1,
           1,
           1,
           8,
           11,
           12,
           16,
           1,
           6,
           12,
           9,
           10,
           3,
           2,
           5,
           1,
           1,
           1,
           0,
           2,
           9,
           16,
           14,
           18,
           13,
           5,
           3,
           3,
           18,
           12,
           18,
           5,
           6,
           12,
           10,
           6,
           0,
           9,
           4,
           17,
           4,
           18,
           6,
           17,
           5,
           19,
           13,
           3,
           17,
           16,
           17,
           12,
           17,
           18,
           11,
           11,
           12,
           1,
           16,
           17,
           4,
           10,
           17,
           5,
           19,
           10,
           13,
           17,
           10,
           17,
           13,
           14,
           0,
           6,
           1,
           19,
           6,
           13,
           7,
           0,
           14,
           6,
           18,
           3,
           15,
           1,
           10,
           6,
           10,
           19,
           4,
           17,
           12,
           6,
           3,
           16,
           2,
           7,
           0,
           7,
           6,
           19,
           3,
           15,
           12,
           12,
           6,
           17,
           12,
           11,
           17,
           10,
           1,
           6,
           1
          ],
          "coloraxis": "coloraxis",
          "symbol": "circle"
         },
         "mode": "markers",
         "name": "",
         "showlegend": false,
         "type": "scattergl",
         "x": [
          0.2840539111407199,
          -1.0484898433104204,
          1.1698249795897633,
          0.98372436295778,
          -0.09170523717579425,
          -1.1702409138679937,
          -1.0575778479377598,
          -0.4303242044401835,
          0.7923917686508657,
          -1.5658021016866484,
          -2.324563820201896,
          1.9339161913534255,
          -0.8056642461014935,
          -0.9189686155056033,
          -2.1187600372207966,
          0.03233392853679294,
          1.6121183830561865,
          -2.344682653486713,
          -0.6544716282225832,
          -1.2902824775286672,
          -1.085923331216351,
          -0.31802371043760924,
          1.0920469580472933,
          -0.32456333175924434,
          2.496166551465002,
          -1.1384136184771958,
          0.7020313918763957,
          2.7665414601247327,
          2.3086010808564184,
          -0.8124823593754092,
          -2.779063138513444,
          -0.4056169276350757,
          -0.6964634831515734,
          0.13843923571008498,
          4.8284177667344785,
          -1.1387485671833468,
          -2.20540035230075,
          -0.35013123168165794,
          -1.642118066749179,
          -1.0382953832404496,
          1.2839007073131514,
          -1.5635064790754278,
          -1.6704621924462044,
          -0.9064471101223254,
          0.3177950896783009,
          -1.126901056052817,
          1.8973760909407196,
          -0.06683506899414467,
          -0.08172606332553224,
          0.19242700608372904,
          -1.4318838258532152,
          1.0006600185214103,
          -0.4908814939035766,
          -0.08281527256331772,
          -1.526662123975328,
          1.5230911701774468,
          1.4144744227377746,
          0.8915329218720626,
          -1.2532024607890042,
          -0.8789795683992491,
          -0.5488578889331138,
          1.2262930366102198,
          -1.4451373217802186,
          -0.6324591780406796,
          -0.5049085240584188,
          -1.884938920251914,
          -0.10215769415240565,
          -1.6376248016956265,
          -2.2529834837279585,
          0.9790117691984825,
          3.1197300556961634,
          -0.4158784422119286,
          -2.688546515983584,
          -0.9823283763526506,
          -2.422099978249923,
          2.283584007022668,
          -1.2932950091734043,
          -1.6556340454256968,
          0.5790238897280923,
          -1.8943911116419265,
          -1.1814483456202067,
          -0.1422669935191392,
          -0.18854294440058036,
          -0.5265732981330639,
          -1.1037484763496572,
          0.4154118818656839,
          -2.0039494024679447,
          -1.0637298452686645,
          0.3536811835882217,
          0.614650318788781,
          -0.27529564207005575,
          -0.6060424530729115,
          0.1864202989164401,
          -1.7570856514234097,
          0.5072069038021457,
          0.8331311008137783,
          -1.7341047512557144,
          0.7017698138963868,
          -1.7459645082832278,
          -1.2693185271837806,
          0.3001372931192713,
          1.4828186029558976,
          1.0183538039934226,
          0.7382459532955312,
          -0.7609942622575797,
          1.4305752022006197,
          3.063528375024984,
          -1.0307761310967827,
          -0.7433855768994787,
          -1.5871649487158854,
          -0.4274819359324134,
          -1.118952937640226,
          -0.4834635524395607,
          0.021415585337789762,
          -1.6685182156273148,
          1.8282171855123026,
          -1.6975246108822453,
          -2.00022562345395,
          0.5838230772503152,
          -0.5055120362413655,
          -1.1740532226245308,
          3.508074512113121,
          -0.27026968281861397,
          -0.5695896512473497,
          0.4620034605402716,
          -0.13163690373195286,
          1.8645054003287305,
          -0.6090409398746521,
          -2.1575174806600326,
          3.063054527738053,
          0.2509908566346158,
          -0.9864320288629215,
          1.2974357824813585,
          1.6221108179941919,
          -1.018984512941974,
          -1.9604304499351917,
          -1.0002436966773947,
          -1.6876878198241425,
          0.8375690280922351,
          0.8811556003313694,
          0.9001906927434994,
          -0.813839830242759,
          1.6100836185215348,
          0.876874669080847,
          -0.15077702276929897,
          -0.722889539882477,
          1.5523917357360528,
          -1.3272280030472956,
          0.7233351178299181,
          -0.6572555382576719,
          -1.067912186001391,
          -0.36664829863187615,
          -1.1576182197417473,
          3.575050728361971,
          -1.4399673429767113,
          5.700249681774323,
          -0.5675571258536612,
          3.1054597258653827,
          0.5095541809366183,
          -0.7145227412226787,
          -3.522512552020873,
          -2.1414210398170694,
          -0.9912263227216792,
          -2.200001077943347,
          -1.9167347479793362,
          -0.07842489069988635,
          -1.6973322692631505,
          0.4940291741636974,
          1.0598899999890221,
          -0.3178441285771793,
          -1.6264902115778814,
          -1.8449825370143798,
          1.0936576255127417,
          2.0236281197907737,
          0.1785806046701316,
          -0.5893975022911977,
          -0.874246819550955,
          0.18374680365737503,
          -0.973722454479707,
          0.3432235702911759,
          -1.3750808860890142,
          -0.376521674930566,
          1.6302282333592228,
          1.6416850892710237,
          -1.2263936145520578,
          1.3847727666844372,
          -1.5896534261407318,
          -0.9557723894190293,
          -0.7216818713484178,
          -1.683156833898487,
          -1.7099133507619695,
          -1.3108500843587851,
          -0.8014785155735564,
          1.2514455207852826,
          1.709332024096571,
          -2.3628825471432906,
          1.0725457188608867,
          0.9403271834753519,
          -0.033614359827663844,
          -0.8669032038910639,
          -0.3317552126974845,
          -1.0047848322733757,
          3.725758592998645,
          1.7548599913241434,
          -0.11906822994425652,
          1.5924793909073376,
          -1.4142283103009072,
          4.241534148124439,
          -1.2593340304140956,
          -0.15477362929564745,
          -1.3585380067722927,
          3.2889528764156397,
          -0.1214279298298874,
          -0.8341254915747295,
          0.5085736144389967,
          -0.6731638509278655,
          -0.9081699359922092,
          -0.8401808331917365,
          -1.0778295643392828,
          0.288030970641439,
          -0.33286943240728584,
          -2.6927344974819296,
          -0.8802136635688612,
          -1.3484521246295271,
          -1.9173402926069982,
          1.4961191593622791,
          -1.7309740138770877,
          1.333484476881434,
          0.5843329233177278,
          -0.0586208988916415,
          -0.9840254249717142,
          0.029118131145153665,
          -1.114249708728443,
          2.336935340923748,
          -0.41218854289458884,
          -1.0588781047990552,
          3.5358463843560783,
          2.2030143330616667,
          -1.0390946990826402,
          0.3578351433621958,
          -0.16406915016422718,
          1.4369935512265386,
          0.6913573327645088,
          -1.394557754259059,
          0.863985962879818,
          -1.9937290029294055,
          -0.5836124968431297,
          -0.64915309713245,
          1.7605985565915654,
          1.1686242073379027,
          1.3605380144491217,
          1.1122123538259945,
          -0.10888445604765827,
          -0.4615942156229027,
          -0.8420745916560062,
          -0.7287010973153198,
          -0.8315261697408688,
          -1.594203535392435,
          -0.06732584536650253,
          -0.4285610075649281,
          -0.6176857112561223,
          -0.2877421222225526,
          1.489885316538136,
          -2.7778022935220203,
          2.561330068261909,
          -1.6159540886390613,
          2.4042275550970227,
          -1.0855067710148112,
          -0.46622002301464444,
          -1.6657753743618358,
          0.02506276369771571,
          0.25716365213324227,
          -2.0105133150038643,
          -2.2079001562860103,
          -1.4976087912311136,
          -1.6917066690452764,
          -0.4591650141878343,
          -0.717543159703018,
          -2.133001329767397,
          0.8035156117431556,
          -0.5888695896893772,
          -2.2797305790524818,
          1.1250616139294376,
          2.162124596495023,
          -2.197571812482018,
          0.2501004287078784,
          1.3102235330330585,
          0.8396002659813168,
          -0.7597549093869381,
          2.3337606528966837,
          -1.8327039914522294,
          -0.0407119294523598,
          -2.2634071581436643,
          1.798314379008293,
          -0.042775418027298145,
          0.35948510730484057,
          2.3246337809557067,
          -1.8409498379048188,
          4.195902973292957,
          0.4632683165679477,
          -1.6079621316783834,
          -0.5838515143010222,
          -0.2920369131580114,
          0.08039146204266387,
          2.435781621262945,
          -0.8406628830696817,
          -1.1337736149068651,
          0.6182423486692628,
          1.5305244374387545,
          -0.6362969183794674,
          -2.35813009290007,
          -1.3731962551490895,
          -1.3670744889953113,
          -1.5501030611207252,
          0.678621273402108,
          -1.4762222957898294,
          -1.021697923127726,
          -0.4256323195082804,
          -0.20424889660126572,
          -0.40119179523865595,
          -1.1161811093993061,
          -0.8152852221564011,
          -1.2981204896373604,
          -0.01228842162194775,
          -1.6231846784062187,
          -1.667476767310694,
          0.34782065643919763,
          -0.29623649928884527,
          -1.215108716516208,
          -1.4640704055937939,
          -0.33978391352797843,
          0.014386389378462766,
          -0.10429069298510486,
          -2.325563877992028,
          -1.4527170447124431,
          3.5528276650764474,
          1.123079421157323,
          -2.114568520393492,
          2.739409261820373,
          0.3477757592398153,
          -0.5249025724494439,
          -1.7818799667865806,
          -1.2832397880131468,
          0.16348722742471736,
          -1.7017602271237802,
          -0.8420087260599632,
          -1.9051267761887747,
          1.5534003939510694,
          3.306329164715229,
          -0.5688690680310888,
          -0.15946573987089122,
          0.23700698899012895,
          0.16124408871600532,
          1.0740542220715483,
          -2.79555267253777,
          -1.1363827373365958,
          2.2637683698360935,
          -1.2109570251926884,
          -1.1796362552297646,
          -1.5510997279942125,
          3.1055987519404287,
          0.8365653813833416,
          -1.335575887960496,
          -0.289046675584231,
          -0.3551383216135516,
          -1.367073874655133,
          -1.2168304550892295,
          -1.3163263155367069,
          2.6531549106060983,
          -1.5003479382962077,
          1.1628891546041773,
          1.2421175161758136,
          2.627834455069765,
          -0.3496318159506491,
          -0.9009802595787275,
          2.7929744521034743,
          -0.6243510888964677,
          -0.8239225709366168,
          3.022036281497597,
          0.9326132967263904,
          2.1931724929509997,
          2.9352346893717822,
          -1.2216589857452456,
          0.4126087903838014,
          0.12280535429309757,
          -1.0620493698284754,
          -0.9772289156629275,
          -1.5353597362838682,
          3.332300706064131,
          0.17404266639459434,
          0.8995633763843858,
          1.438938165754034,
          0.8371844961688623,
          0.653650100690676,
          0.7572362034566916,
          -1.0757888940044908,
          1.279382617841336,
          0.2680185002852854,
          -0.11058573353592785,
          -1.2090163342134594,
          0.28097344905447613,
          1.8994764146970973,
          0.28729565224754566,
          -0.9972817778096789,
          -1.032186738603334,
          1.9051016761197819,
          1.2366358352480435,
          -1.2117743317997451,
          -0.4992236987054599,
          -1.6107660736932523,
          0.9854327360753076,
          -1.8462036320119355,
          1.8538572785386223,
          -0.9164250166024159,
          -0.05060447224245795,
          2.7177597300949228,
          -1.4666767653085937,
          -0.3538381385748843,
          -2.346541757557547,
          -0.20983256057916688,
          -0.626581074155689,
          0.4733668110592245,
          -1.7791945687571167,
          -1.2180708245908711,
          1.991053361233978,
          -1.0683762201362772,
          -1.3457227298817123,
          -0.6530873941161185,
          1.8292753166840063,
          2.7547095883075476,
          -0.6581660248413771,
          2.0280856438682506,
          -1.0393302843543613,
          -0.6161957470454151,
          -0.7436156288552458,
          4.123533284409674,
          -1.0871067792725202,
          -2.025616666048126,
          -1.6545369101577219,
          0.14910666853244933,
          -0.27369063162218726,
          -0.7144325646312347,
          -1.6162653606823025,
          -1.9164268324249853,
          1.815054726513876,
          0.14299084756084193,
          -0.9598844097673624,
          -0.7527928915095603,
          -2.420984073707865,
          -0.8200752003552033,
          1.0081239703318383,
          1.2819733022473765,
          -0.5719036332944435,
          5.297537457621923,
          0.1488136504630547,
          -0.9059638005035477,
          -1.9283274502215724,
          -0.38808895149781986,
          3.028058662959141,
          -0.7379765757801547,
          -1.2375081356470168,
          0.32443497077673544,
          -1.2010637330201115,
          3.072101326719278,
          0.8266040684285287,
          -1.8456177330751096,
          -1.0928881732719495,
          0.4882524988729427,
          2.511214071258141,
          0.5998129603990918,
          -0.820246155204616,
          1.669266217475717,
          0.18944661934397194,
          -1.625732596296622,
          -1.6495913149013173,
          -0.28429237411123826,
          -1.2117583307377753,
          2.1142181044411212,
          -2.952245130965028,
          -1.1507924179362061,
          2.2571362699010242,
          1.679595622905225,
          -2.7065348273526695,
          -1.4857085772411422,
          -2.3054821575652,
          -0.9480874156771356,
          -0.4878910117016055,
          -0.7457303504252559,
          2.551887552488304,
          0.032237892905171206,
          0.02093589722108305,
          -1.0769109725752595,
          2.3188404371557394,
          1.8467376794181254,
          -0.611514782490136,
          -0.9251021994511279,
          2.320553963974658,
          2.0718838620697775,
          -0.5484761502939464,
          0.3228957028409432,
          -0.5122279762934715,
          -0.13997626873261249,
          0.5681552371447119,
          -0.3537299676850381,
          -0.46815773978052105,
          -0.5708095531146401,
          -1.5519121161005938,
          1.2071374372838837,
          -1.6371248692301663,
          -0.5653064820003009,
          0.9340569240158051,
          -2.7213263030502084,
          -1.124989443907395,
          3.1459375799190754,
          -0.7636906011308681,
          1.1362075318607132,
          -1.511033983781255,
          -1.838214399691917,
          -1.086252660618723,
          1.3340811391340437,
          0.8549984038476252,
          -1.4493355670429475,
          -0.7400209893769774,
          0.3018891308079515,
          -2.6857750469883963,
          -1.1409997835275596,
          -2.094951088096573,
          -0.7114557737888498,
          -0.07903729091254025,
          -0.27815958413404085,
          -1.1092428077156886,
          1.4251273738420815,
          3.8626976353331117,
          -0.6302246601807558,
          -0.7927071889566896,
          -0.7743392223061132,
          1.6590271284382898,
          5.007112694717477,
          1.4466911469644212,
          -0.5880392157766019,
          -2.239080122830077,
          -1.0898581631187279,
          2.7138088858487213,
          1.0064310770167249,
          -1.7669410967060597,
          0.4098528450665978,
          -0.7222754508991838,
          1.9604532604344052,
          -0.09293414701426951,
          -1.0211362911082367,
          0.441452470545388,
          -0.15057604970659338,
          2.409779679970533,
          2.8478625073411434,
          -0.9196610922567062,
          2.337533243963377,
          0.8288030197625732,
          -0.2041769315276832,
          -1.6388346763668775,
          1.1283162782493836,
          -0.5852436490484397,
          3.708896054109338,
          -0.5130295039233508,
          0.8168319370600724,
          3.102978490231911,
          -0.31213323957754446,
          3.2380793776210335,
          -1.784934332917166,
          0.1912704562707825,
          -1.432679276603038,
          -0.5563319629426584,
          0.6110653263481451,
          -1.5934532906482346,
          -1.133291823214204,
          -1.0181357964090538,
          -0.7603722660977239,
          -0.9402175883799565,
          -0.14598262555134484,
          -2.415260632115192,
          1.4275766859408139,
          0.26112659755693424,
          -0.5251043827473131,
          0.3071819487272085,
          0.694182506733454,
          0.0918470799239222,
          -0.6519728630201619,
          -1.768949427015737,
          0.39701658311558324,
          -0.9022771288939013,
          -1.4707469480530742,
          -1.0082293283290387,
          -0.6793516565740401,
          1.726773482131227,
          -0.6977337565509394,
          3.2164400015906836,
          1.4888752039685,
          0.9590911337727743,
          -0.2934945223535929,
          -0.6967216032689219,
          2.003448832742311,
          5.067559767306108,
          -1.3390107036287942,
          1.8872504208945848,
          -1.2029143017357447,
          1.9607964512963911,
          0.3759891606667759,
          2.219996896131872,
          -0.44387127840844226,
          2.0521644924911917,
          0.03141448044860238,
          -1.1897848665779398,
          0.5788927470839537,
          0.15050683688485955,
          -0.9747605610051177,
          -1.3475030981871652,
          -1.4413621188398777,
          -1.4843762414473856,
          3.0401452371361852,
          -1.1501124478221934,
          3.696917788530459,
          1.7892632245824212,
          5.580351722860346,
          -1.6809613507938435,
          0.17978169968027966,
          -0.4052489558640977,
          2.6536450821979103,
          -2.189295559431951,
          2.6462796019451558,
          -0.9883207348761833,
          -1.1651767603466205,
          -1.4134791802155506,
          -0.9634828213527832,
          -0.1855861604351531,
          -1.5092386800227706,
          0.4058960692346427,
          0.7687065147772052,
          -1.4491743243838842,
          2.6633551392680057,
          -0.9279974572362604,
          -1.3874478601678513,
          1.8456636287958146,
          3.1831614867963274,
          -0.8290425862740186,
          -0.904631714529369,
          -1.1284941771421308,
          3.7170481424497184,
          2.8304022428022795,
          2.9745980557635163,
          -0.01757263312135136,
          0.09636076863270415,
          -0.3620654754281952,
          1.1385156562791243,
          -1.5655257810758285,
          -1.7931455332853046,
          -0.9858721223399891,
          -2.1949089065810896,
          1.2514457885211274,
          -0.9763209752490096,
          0.04635864941765597,
          -0.5676947872847807,
          1.0528507162763747,
          -0.10714985272229723,
          -1.370231832195305,
          3.0316294189026545,
          0.3112943465959898,
          -1.0317990506718917,
          -0.6505175128351328,
          -2.0574096373142323,
          -1.6517650100953472,
          -0.6603774480162574,
          -1.1690281057852099,
          -0.024229872598375685,
          1.309977934238154,
          -0.5746947683175369,
          -0.5691385047428271,
          -1.69946916779688,
          1.3252362566209233,
          0.7606091257237766,
          0.35964545334660314,
          2.3302986330242095,
          -0.4345488385780625,
          -0.8613633742197112,
          -2.044804807973134,
          -1.7983279989826961,
          -0.6012839460514364,
          -0.34692132229843603,
          -0.9628488037010705,
          -0.7104914582513521,
          -0.33599097783245446,
          0.2242155617423098,
          1.5370949000168719,
          1.8765727973927395,
          -1.7040407863802756,
          1.1749132348074112,
          -0.8117961185750255,
          -1.750908894660804,
          -1.8724485376252304,
          1.3154746325117315,
          0.01164863119410732,
          -1.0981630742825697,
          -0.439095205456522,
          -0.44930074273460147,
          -3.689641104898163,
          -1.8128663963843605,
          -1.5693440045846494,
          -0.7388564287269049,
          -1.6858275198332333,
          -3.1031448113864464,
          -1.1056888584842173,
          -0.4794590236844174,
          -1.4005525681344984,
          -1.3507652694087275,
          -0.9745228516731355,
          -0.20983551872964532,
          -1.8366298156475616,
          -2.02369683200268,
          -1.5956050738648604,
          -0.7684794114830183,
          1.7775674828647774,
          -1.0479805787172847,
          1.4466833199200335,
          2.450856264235732,
          -2.3027099859093676,
          0.2355269635075126,
          -0.4678915054556593,
          2.595271040586053,
          -1.9112479188393545,
          -1.158297524297253,
          -1.6468130222879818,
          -0.9403033729496993,
          2.00723574469972,
          -1.3792427270871699,
          2.6901324023410877,
          -2.0407098865557662,
          -0.21042755116640657,
          0.7020157774231439,
          2.1419066228806214,
          -0.2694867552602348,
          0.3083053700624213,
          -0.763380543039225,
          1.5974925463962,
          0.8558733062440228,
          -0.8458780139988294,
          1.3259057293182408,
          0.2394538485248746,
          3.7558532239568625,
          1.5810070214972114,
          2.0148810748010213,
          -0.8385208137410023,
          -1.6287335315512375,
          -0.23417296439623497,
          -0.8168852702199694,
          3.2486474730148776,
          3.06763890490403,
          -0.8882607110150426,
          1.1860926860697938,
          -2.3954797725487964,
          3.4167985278590747,
          1.2568979778671383,
          -0.7912864712104082,
          1.7629781803480986,
          0.08611265086465926,
          -1.5822493178150425,
          -1.6678314701768109,
          2.1843508903097963,
          -0.6100243499827086,
          2.1922944822257224,
          -0.3349425245987592,
          0.02788394533068732,
          5.486477201507368,
          1.3281966241879248,
          -1.0248500618952103,
          2.6097655673002453,
          -1.4458797514073554,
          -1.1685006345220654,
          1.868770755225706,
          -1.1463077383643943,
          1.0939333705138126,
          -0.3076218792742267,
          -2.2421506278501457,
          0.7789144289484435,
          -1.4310833486745196,
          -1.7253668419565236,
          -0.5343134797456599,
          1.5172948846990038,
          -1.3471228355882252,
          -2.1993645501696544,
          -1.6590208572546727,
          -0.9180337558265961,
          -2.983992421171848,
          -1.6704229848251155,
          -1.351360802660557,
          1.3880067357451573,
          3.538361118616268,
          2.7662394927229985,
          -0.7557466591552818,
          -1.5175683447686614,
          -1.2401900397117946,
          -0.19027793379452046,
          -1.0415699249008121,
          0.29070127955562086,
          -1.0182553955822078,
          0.03111403954074889,
          0.3555671866948684,
          -1.738117561404362,
          -0.5104254632442182,
          1.2543660877020097,
          3.857976697032811,
          0.023006621707686324,
          -0.2749679453871961,
          -0.39323245680745084,
          -0.45901263156082095,
          -1.9200862912911916,
          -0.19735358560618718,
          0.07115626668170835,
          0.9576296587712715,
          2.364510145299816,
          -0.3249657251351287,
          0.5238235606493701,
          -2.828512356912537,
          3.409979761010405,
          1.5761975044973837,
          -0.0012051294041159843,
          -0.4556661553077109,
          -2.2386684797996215,
          -0.33376221994389493,
          -0.9139099055908464,
          -0.6630608389978127,
          3.625108639340862,
          -1.4759839715843497,
          0.19035987568241544,
          -1.5578732215950724,
          -1.6377695050545198,
          0.9973356106318838,
          1.2758673768433006,
          2.101845290610825,
          -2.0353436073244175,
          -1.0364162124468936,
          0.2615726777964856,
          -0.530223417804187,
          -0.552019644485714,
          -0.7324336921423349,
          1.7705404787883023,
          -0.04790158355746503,
          -2.1602570583072516,
          0.5006268995781367,
          -1.1465313784335733,
          -0.7619426295210953,
          0.8610760550372399,
          -2.143338177896346,
          -1.125822182060569,
          -1.5532296326433992,
          -1.0268447068765083,
          -1.277857734525822,
          0.9140397840056188,
          -0.20815625589010125,
          -0.9714291344380233,
          -1.1038203139491995,
          3.030534563555585,
          -0.8017755795645458,
          3.714715501352054,
          5.917442560536303,
          -0.2875461662012664,
          3.6239608846681417,
          0.16912951914920793,
          0.7477971180295266,
          0.6071939307166199,
          1.8663883765343854,
          -1.4671671993504063,
          2.8579405561353664,
          -0.5247573061936585,
          0.1329877127074319,
          -0.5448602371047339,
          -2.37387260607528,
          0.2576433463317518,
          3.4552535184313142,
          -0.5888759758519276,
          -0.37388062681684364,
          -0.9423460907439197,
          1.6611970101749274,
          -1.282012283017336,
          2.865815203959958,
          -1.2793142249435276,
          0.4249801300196345,
          -1.2409271496089413,
          -0.13613739705622574,
          0.9359195057706616,
          -0.7062495351691379,
          -0.39144699762453833,
          2.171305647255105,
          -0.9447952261666378,
          0.9108416209259778,
          0.8018619619910655,
          -0.8102509255377586,
          0.01086444482972166,
          0.5267602098673986,
          0.41501427526985274,
          2.105967713274322,
          3.979808910851484,
          -1.859829839785763,
          -2.6794363469125524,
          0.2625443433708261,
          -3.6782939030889246,
          1.1093366374504896,
          0.7827540211973113,
          -1.7183315161127162,
          -0.6671952749984533,
          3.1610149658313214,
          -0.8067748642670399,
          1.2676400153909246,
          1.3339008677451252,
          -2.35639035072252,
          -1.2591219319230478,
          2.1380328006202705,
          1.1425530157306305,
          1.9232541172199182,
          -0.9646566036989045,
          -1.1885827945832055,
          0.2309738475751192,
          0.46972530608008417,
          0.07416201428453989,
          1.0582210270688976,
          -1.7599049493275378,
          1.1980378193194499,
          0.22243812049099412,
          -0.7484959240177826,
          0.1885952067618218,
          -1.1722245588195832,
          -0.9801206638617124,
          -0.29982158793754504,
          -0.6704276589651563,
          2.583588543992601,
          3.7824979683639888,
          3.4222639527730587,
          4.462902250173767,
          2.2039504390037297,
          2.847127793326443,
          0.8568351796704653,
          3.8677132754771426,
          0.2992170609629107,
          -2.0330416428164946,
          -0.869221044628198,
          -0.9632169001863252,
          -1.0032629664968435,
          1.2096645788577658,
          0.757565736729809,
          3.6509455008344034,
          -0.2026104431805604,
          -0.004360693122365223,
          -0.6110008907604724,
          2.2374120451525017,
          -0.1339435438020234,
          0.7255397255878528,
          -1.4707637011897254,
          -1.2063670464608793,
          0.5129596377179879,
          -0.9524621402517381,
          -0.03043967047537009,
          -1.4271453248253374,
          1.886376360306907,
          4.149965973345363,
          2.9690235360560453,
          -1.655677718309701,
          0.05427089889885228,
          0.29258297601014527,
          -1.979184582097624,
          -1.7668147367216325,
          -0.9834401745255305,
          0.29522915591390997,
          -1.3759213100394483,
          -0.5048640920459879,
          -0.3874147941787592,
          2.4086466106440096,
          -0.004740901117535573,
          0.16266220161064748,
          -0.5482121243132735,
          3.651190466000789,
          0.3728339852755487,
          0.8993706490833758,
          1.0589301399915332,
          -0.8066984250207595,
          -0.002230666701615008,
          -0.27315478126363313,
          0.6646261057448283,
          -0.876987878010418,
          0.26906138493480625,
          0.4951064573031277,
          7.097842661552868,
          1.5675326499831885,
          -0.532695975802924,
          1.8255905019710805,
          -2.0230075766118216,
          2.8298178476670817,
          -0.8151245886552061,
          0.752356779366183,
          -0.2702525533955688,
          0.8694853870798337,
          -1.0901208697683973,
          0.3251129758177281,
          -0.15350041641261944,
          -0.3024832196926983,
          -0.3169945611629702,
          -1.8741995667893006,
          -1.3838669159498853,
          1.5827888617937655,
          1.5919626814899466,
          0.01635441348648627,
          0.0786189042994092,
          -1.1084486733837124,
          -0.4539613606110296,
          0.3986710045173631,
          0.17685538124630412,
          -0.8841315077546487,
          -0.23031802740029012,
          -1.5365410144480147,
          0.19106985647675187,
          1.9927733095677302,
          -1.309379747364241,
          -0.6512985359360407,
          0.9136968148473438,
          -0.13611690295871376,
          2.2914224328689423,
          1.034050120610513,
          -1.5094716916648347,
          1.0639799174025728,
          -0.14462811889161806,
          1.7309898963682975,
          -1.7177123693248568,
          -0.28411946754132145,
          3.292894669844465,
          -2.377432159995499,
          0.4752624756673777,
          -1.5785324460734065,
          1.7067192106811846,
          -0.4226343950130039,
          -1.4777191637662335,
          -1.6780091846161105,
          -0.5572017701198956,
          0.18274150787194238,
          -0.5063130316573605,
          -1.2175018383246456,
          -0.33569928242069375,
          1.2636257789608945,
          -1.1833288097619936,
          1.5685940185187877,
          -0.9776354340672105,
          -0.39685665392997244,
          -0.26913954063900775,
          2.7831576867240755,
          -1.0852103704055527,
          0.1430159725203075,
          -1.0882786422872022,
          -1.1866208296664538,
          -1.0888265936275843,
          -2.2286249642082967,
          -0.16085948176797366,
          -1.4936013959484031,
          3.0566697392461455,
          0.3132507713804755,
          2.868788366824132,
          2.402647822520728,
          -2.593526931565651,
          -1.9424085430077542,
          -2.1574636470001574,
          4.065252411568076,
          2.2097403429365334,
          -0.1616692928285302,
          -0.3438868638489308,
          -2.338911225551793,
          0.29290729593222803,
          -1.5748042227907604,
          3.5626716628213972,
          -0.703794777356859,
          3.8997634024195493,
          2.072392857435561,
          -0.8465889325433014,
          -0.4247121864337108,
          2.280245306980916,
          -0.8293158511112324,
          1.5789465987423315,
          -1.8371552797070976,
          0.1291490004120155,
          -0.303356256629718,
          -0.49049352674586627,
          4.005437992019382,
          1.9689471800510672,
          -0.6871994491781249,
          -1.5843843099825357,
          -1.356412333523535,
          -0.7688102874121855,
          3.471920700933581,
          -1.7589475649752602,
          -1.4908109076978149,
          0.7486978420374945,
          -0.13907896452729895,
          -0.780374877686905,
          -1.4075866000292472,
          3.8130411902041796,
          -0.8387018084827514
         ],
         "xaxis": "x",
         "y": [
          -0.08164811674421743,
          0.3515930694168047,
          2.363662091140759,
          0.48211397229291103,
          -0.5340454844756325,
          -2.5791660256824085,
          -1.0585019181794493,
          1.283944624827167,
          -1.1314928582570365,
          -0.51712102888419,
          -1.880597639839539,
          -1.8895704822940402,
          1.544235342328185,
          0.46736287323263304,
          1.571913906212068,
          -0.5537173194557908,
          -0.5236410396637453,
          -1.0141807671989824,
          1.7713871554083809,
          0.5132715105580309,
          -0.48284005517308926,
          -0.09234617572554102,
          0.13131670087686456,
          -0.6077589313989016,
          1.2437813403589029,
          -1.5635233222077674,
          0.24760923867816592,
          -0.7418964381537618,
          1.694552163002664,
          2.5429223600834927,
          -0.22145311237893212,
          -0.827298288557621,
          1.8251482014126228,
          0.14087491003734062,
          0.7955236316735831,
          -0.5104476719118007,
          -1.1509819831343266,
          0.7321346098499919,
          -0.1630403228333432,
          0.8235591834971621,
          0.8789881604324286,
          1.6105583685178242,
          0.9408810118885389,
          -1.371586698593036,
          -0.8006612545407882,
          -2.116683306350982,
          0.02476064592694298,
          1.133431407681057,
          0.32188878195787696,
          0.8228940853849732,
          -0.7105192175322216,
          -1.5584364226765293,
          1.0397156842073974,
          0.4049766860324026,
          -0.7758985311878401,
          0.9639014426500416,
          -1.6968697256183627,
          -0.5687696853605871,
          2.171860690765304,
          -1.6675259409360792,
          2.1725927384634627,
          0.6372976624962425,
          0.6170671289575536,
          -0.43618927580364186,
          -0.4225433068607383,
          -0.28872734467670985,
          1.8995928319106474,
          0.41839123627807295,
          -1.4543506345611814,
          1.2685843912993673,
          -0.528322248732577,
          0.8270020566679294,
          0.02562875523474447,
          1.029156848202093,
          -2.0618256343661625,
          -1.5107939134005484,
          0.3562464398799329,
          1.2620875523935107,
          -1.1179235073582816,
          -0.2700492113999013,
          0.23327409785376893,
          0.641056611314775,
          1.8617570451331436,
          -0.3862012097583177,
          -0.2854226253924539,
          0.863131606891431,
          1.381121857844507,
          0.9303593985721739,
          -2.20555155526019,
          -0.21683310139148268,
          2.413650279401671,
          0.9227633655381747,
          -1.410139210056441,
          -1.5519130652262332,
          0.14470000555522147,
          0.3212342403293602,
          -0.4106902024878441,
          -0.8749839419223456,
          -0.7939823101876804,
          1.6044729512469789,
          4.223340464808285,
          0.5968263971188323,
          0.4909511377972014,
          0.14254429458532214,
          1.2003034570700717,
          -0.9540127065739857,
          -0.11718225051257034,
          0.31450163840658923,
          -1.1118896098121094,
          -1.479221963989203,
          -0.3130617658612628,
          -1.4026285116588613,
          3.1100586697281156,
          0.03852688251250346,
          0.7946899681508781,
          -0.10965034909931602,
          0.4192068676217264,
          0.5078626074378817,
          -0.4423044994714756,
          -0.673746705964572,
          -1.1130457721911198,
          0.5931033088118433,
          0.6544208000288178,
          -0.9557271555416508,
          -1.0750370534075628,
          -1.227009700801765,
          0.5113381181285834,
          0.8580255960124462,
          1.1289809190825806,
          -0.966154591283014,
          1.4684254527684322,
          3.0902672088553444,
          -1.4727363980043788,
          -1.0657715776977827,
          1.761356242336164,
          0.49456896086240926,
          -0.580887713815091,
          -0.5450202090848323,
          -0.11548718780479118,
          0.11667951992862911,
          -0.06939878905060629,
          1.909018849735342,
          0.17688691848724641,
          -0.6815901072186497,
          1.0068811902031476,
          -0.7249287664158496,
          1.260639574558768,
          -1.8706522064289501,
          -0.3356525912906959,
          2.103584889867606,
          -0.9979577074997757,
          2.438367757547731,
          1.1686905285162783,
          -0.04539467716956318,
          -0.7488210645618009,
          -0.2098827083702033,
          1.915446155820863,
          -0.7286654018203447,
          -1.775260560503832,
          -0.9157484520473814,
          0.8024599952122615,
          0.21376414286321263,
          -1.8531418133632696,
          -0.9178948593660263,
          0.6835329294275033,
          -1.180053104037036,
          -1.9811348202684034,
          2.6632609597697994,
          -0.31509647385055606,
          1.0502882545253673,
          1.3067686799343887,
          -1.1884769183979351,
          -1.0596758164714324,
          -1.1007417413655005,
          -2.74362784480545,
          -0.33910514421510396,
          -1.8488200010025406,
          -0.5091291300867824,
          -0.6068548376839245,
          -1.9453284365283685,
          -0.17663069086763755,
          -1.0858053240170251,
          0.670989832944957,
          6.344026181902545,
          1.5924557712534457,
          -1.195994245820148,
          1.0161850295042696,
          0.6825468522693344,
          -0.4790933251954141,
          0.6586852208280013,
          -1.2032719330272355,
          -1.276309173259215,
          1.9876518890927866,
          -1.1948336126572372,
          -0.03806479739138928,
          -1.7094827222553088,
          -1.0115382018797046,
          -1.7345979139088772,
          -1.5492843578997653,
          -1.543093120424262,
          0.7095237221192009,
          -1.6944555372786008,
          -0.601659048975693,
          -2.5640435685885676,
          -0.12035072613400094,
          -0.1926192916946573,
          -0.7352536791599168,
          -0.7324210643328495,
          -0.43751994099728875,
          -0.7360073067271683,
          1.8913546215091035,
          0.7900890423237206,
          -0.5941030972681459,
          -0.7766990836615264,
          1.466006500831967,
          -0.45564357076607587,
          0.7401989296885879,
          -0.794143123964978,
          1.6430623804020685,
          -0.6651066861633529,
          0.20336358273848387,
          -0.6529146386946822,
          0.20580067644497702,
          -1.528570821534738,
          0.7730486904477822,
          -0.19562918831715598,
          -1.8732700416021224,
          0.3576999210018299,
          -1.929218535376838,
          -0.5775838782411822,
          -0.624547966347738,
          0.5231549588188263,
          -0.7742640205951608,
          -0.1458908796599386,
          1.1627987541458782,
          0.4172423024611769,
          -1.5200127871867821,
          -0.9229574315625989,
          0.5812628331296297,
          -0.17620166507508794,
          -2.252035993750496,
          0.975676431356758,
          -0.664874067463911,
          0.7978826277777475,
          -0.716332000857925,
          1.9197357273692712,
          0.5698918040812425,
          1.0043016092950388,
          0.23456307617082978,
          1.2633564682520249,
          -1.2637667374823214,
          0.42134847590417346,
          0.38071736552376817,
          -0.6652816321524798,
          0.8484411946305759,
          -0.5088832983269281,
          0.7264975528658766,
          2.360099454695319,
          -0.9067556411980118,
          0.7910869572912753,
          -0.2348104924106371,
          -0.15253832059180764,
          -0.8323199578415412,
          -1.0883145485601429,
          0.8856784617801445,
          1.7343691274294128,
          1.0791075788784479,
          -0.2838376174047609,
          0.38225610281543504,
          -0.0988221833769684,
          0.35151040352122137,
          0.2123476068276212,
          1.5438491642899492,
          -1.0541670151946487,
          1.907390980224446,
          0.8791188978472033,
          0.964869149837118,
          -0.537146492695908,
          -0.7631267041645775,
          -0.8978570453986822,
          1.7928426475041077,
          -0.7902651941056033,
          -1.0448361007164217,
          0.826803175709371,
          -0.7195516533594025,
          -1.4567450118314265,
          0.41991854064274875,
          -0.967953748603307,
          -1.7379968852637382,
          -2.4189887483209,
          0.41434677177081547,
          1.1871689007281805,
          0.6333523389122364,
          -0.09700919059211757,
          -2.1618042458482307,
          -1.4476381561233878,
          -2.393352217653822,
          -0.8421165028995935,
          -0.5400064728929044,
          -1.2190870030229082,
          -0.222760371078527,
          -0.27174180607588355,
          1.540799788815794,
          0.057951110244065074,
          -0.5475211934830752,
          1.5420162781224864,
          0.5925531700442664,
          0.21891767281716448,
          -0.05831593083055827,
          -0.6162055026369369,
          0.261034102213547,
          0.7791313395914744,
          -1.4119353513672197,
          1.5833039157975455,
          -0.5246898870562258,
          2.346895637798324,
          -1.1179883101776644,
          2.4061400947254246,
          -0.058163625976736646,
          1.2141294752486216,
          0.9000401813147778,
          0.012820241210675676,
          0.8448867719719019,
          -0.46163789269685446,
          -0.050401667022178784,
          0.12941293147658128,
          -0.7024180513177183,
          0.8685253145061859,
          -1.3289403752265343,
          -0.817314934854443,
          1.3806994593988509,
          -0.813283734650569,
          -0.7920131393098316,
          -1.0469952587096965,
          -0.9752325342783549,
          0.3695407966301998,
          1.1541361494163076,
          1.4481732726582794,
          -0.2838562891628211,
          -1.1080654256202978,
          3.24016761067354,
          -1.3924316872452847,
          2.0785738280037425,
          -0.193285502491527,
          -1.3495140177715892,
          -0.7058212579890137,
          -1.3465507002628605,
          -1.217093718475268,
          -0.820519916877867,
          1.6448956300065574,
          -0.09551735544563061,
          1.0360103056851622,
          0.6547545066334208,
          -0.636005541678469,
          0.273194795465148,
          0.6891066382323363,
          0.059499244503247756,
          0.5934357625778257,
          1.3616584173614312,
          0.5511059892067288,
          -0.9971259076738102,
          1.5163352340618188,
          0.017316448719010287,
          -0.4822712032799644,
          1.0559200468618393,
          -0.11399097058555424,
          -0.23341564906364135,
          3.0664156889683114,
          0.464746479131542,
          0.22019339746110192,
          -1.7587014252015087,
          0.1035928595518051,
          -0.6080107912784712,
          -1.4984516512857946,
          0.609916474761915,
          -2.1375194077848008,
          -1.0796624287894683,
          0.07054511254494485,
          -1.2538404481706156,
          0.359117492846558,
          0.6560602913445363,
          0.27160020889931985,
          0.1519249496883461,
          -0.34579252894004997,
          0.6012245653544596,
          2.1104489302075184,
          1.612718753285604,
          0.22051149899943903,
          0.6372874463927476,
          -0.09734276921740684,
          -1.4038863863871038,
          -0.6710710407964948,
          1.2659851382481697,
          0.9722569290304766,
          -0.05902654004629144,
          -1.2833180164832756,
          1.5300599102190109,
          -0.373706481012993,
          -0.13842978781860515,
          0.39249370117944843,
          -1.762550709106087,
          -2.0245772817668324,
          0.08132637003620939,
          -0.05797095851983545,
          0.24815783990606707,
          0.5635915626140827,
          0.6807565975852251,
          -0.43646307519590505,
          -0.7892674896058737,
          -0.804138592321408,
          -1.049093972526704,
          -0.502280563578086,
          0.9669149523788078,
          -0.4873854523902228,
          -0.5075980519849272,
          -0.6699118744562572,
          0.3338956961480949,
          -0.5094957627345662,
          -1.5356934515482232,
          -0.253204092196674,
          2.2089957576009414,
          1.782378255148346,
          0.578021230278514,
          -1.3278727714621295,
          -0.09127296692916037,
          1.023117122605503,
          -1.2560551898117778,
          -0.8427999991216378,
          2.210636801769169,
          -1.0841270747164966,
          -0.6562255646863531,
          1.4752127991633277,
          -1.477771472179684,
          1.49740433797499,
          -0.7098583824823499,
          -0.2529678735739813,
          0.8682731418728437,
          0.19063213689938904,
          1.18187214290792,
          -0.572754352560564,
          0.14507798383231751,
          0.07553830185830518,
          -1.3810011163687914,
          0.8762673660125372,
          -1.4307198091721711,
          0.4382027216142209,
          0.6002699670344,
          -0.6421104336401093,
          -0.8208639655334978,
          1.0344338866751608,
          0.6870887069223293,
          -0.2216529060650682,
          -0.46701396790997257,
          1.9431566534075253,
          1.940732052418326,
          -2.0424053115145235,
          0.02576952134740145,
          -0.04362370499586773,
          1.3380979144964884,
          0.24582035627684554,
          0.8622974581456332,
          0.4822092235430292,
          -0.48439444119216746,
          -0.4704179992009881,
          -0.6075549450533443,
          -0.2243072819187831,
          2.4047427672401955,
          1.5534875080080504,
          -0.03804891503832643,
          0.5020420572586549,
          -2.1735239768647925,
          -0.47915737383842355,
          -1.8387747903928227,
          -1.9172880991699568,
          1.7819294908113215,
          -0.22604889841379322,
          0.5850801911145987,
          2.7797981076276006,
          0.8381922020421009,
          2.358855466419976,
          -0.7885101024519017,
          0.41048324325133034,
          -1.253432544523255,
          0.438485188985648,
          -0.927374127883076,
          0.9407586200678002,
          -0.36881277254525613,
          0.1928226462544845,
          -1.2581624003241498,
          -0.3085868725535602,
          -0.22112910857279508,
          -0.9301407377428197,
          -1.6342041675132146,
          0.16014943318282895,
          -1.2328409400998537,
          1.1133494510331534,
          -0.9542718886950856,
          -1.9865548198855787,
          -2.3217036402579465,
          1.4394053761609888,
          -0.579414489782927,
          1.6327446310787626,
          -0.4269249353152483,
          2.6789412251889453,
          0.8713596143671916,
          0.4434804248373765,
          -1.0101146074467189,
          -1.3495920126804286,
          -0.1894623181977372,
          1.802807653001166,
          -1.7109492515923872,
          -1.4773041822943362,
          0.41548500478257666,
          0.7445417413126496,
          1.3624883103444398,
          -0.43666250454647704,
          -0.43680118400870954,
          -0.8796854593259431,
          1.1054256899226487,
          -1.1942277686205778,
          0.6602366842293159,
          1.08782010980104,
          -0.8970161777932744,
          0.0689167609656394,
          0.6908237485215091,
          0.09337287657237829,
          -1.685000411464853,
          -0.3416197352635326,
          -0.5333734975102687,
          -0.26749952353038,
          1.4134886306746146,
          1.6348739617002075,
          1.211601423924348,
          0.2179772358982223,
          0.8368336261355266,
          4.517045800889189,
          0.5555460276170238,
          0.5846922099207824,
          -1.1485728927849939,
          1.455830693374826,
          -1.9873803389862816,
          -2.128587793395364,
          0.02019949785100831,
          -1.1248330869599246,
          1.5715863383976296,
          1.1672603844053644,
          1.042382884662354,
          -0.2004101767941867,
          0.9982139593453585,
          1.436779244669485,
          -1.3522303605514943,
          0.25772065146614803,
          1.4551119594356214,
          -1.4216056735491092,
          -1.4103722546348434,
          1.1765723274555933,
          2.2579395312220467,
          -0.7757595442977808,
          1.0522983776085963,
          -1.461086862056898,
          -0.8015709440865301,
          0.33074724607992145,
          -1.849125220891385,
          0.6082135966934923,
          1.7729505252926563,
          0.34003205398051306,
          0.5733546471613571,
          -1.022606270854184,
          1.605925770612082,
          -0.03586056193607252,
          -0.1396611880039549,
          -0.6951834883460472,
          -2.142985903938528,
          -0.8159675092695999,
          -0.5185607480673133,
          -0.9757176339517386,
          -1.7133218638584664,
          0.3469641432073702,
          -0.0770170253622673,
          -0.18742831041525412,
          -0.8109126073732381,
          -2.1349965405950027,
          -2.4846865302896295,
          -2.4186739960238532,
          0.5383656046474713,
          -1.4410970065088133,
          -1.1321653525367912,
          -0.3502194951543512,
          0.4781336057965417,
          0.2937045697910025,
          -0.7898319441847839,
          -1.2189133459008887,
          -1.8202425303408436,
          -0.932088156701831,
          -1.2585711469193377,
          2.0843026975867605,
          0.27406897618175824,
          0.928341823321053,
          0.6307038570908661,
          0.24655180222964618,
          -1.0299876401410075,
          0.4231831929310679,
          -0.5185768874913935,
          -0.11714173081699103,
          -0.1669501374154951,
          0.7003838682940791,
          1.0403987253800822,
          0.38922194992936876,
          -0.0706332683581224,
          1.163528926645993,
          -0.8958198714214549,
          -0.06308642799213555,
          -2.487423865947896,
          -0.11695403112576128,
          -1.4031817914811229,
          -1.820825883061235,
          -1.459938229129426,
          -1.1149286158602412,
          2.514080061491529,
          0.12267091324121684,
          -1.948336234428624,
          -0.1510121002073365,
          -0.9107490877266261,
          -1.8481230745505388,
          0.14732168900995224,
          0.4709078521703693,
          -0.37067848328312075,
          -0.7552951310193842,
          0.3353315642219344,
          -0.7000808896287564,
          1.2871715024193593,
          0.9418876679878826,
          1.800224170851667,
          0.035283790498172284,
          1.1198976437433115,
          0.20079880358416874,
          2.767340840459856,
          2.1732884763723206,
          1.48075488697762,
          -0.0263894619778191,
          -0.9386899583937551,
          4.9646287333627,
          -0.9826047881263298,
          0.6305514470557186,
          -0.06282120142227948,
          1.3675238237047183,
          -0.36002355709948347,
          1.9865005358282113,
          0.9548672942748688,
          -1.8806691156843687,
          -0.42651509797301207,
          0.6308896711783434,
          -0.7837334665914425,
          0.15828371034710081,
          -0.9561245515907926,
          1.2109677226953584,
          -0.4975924314145372,
          1.627479715347803,
          -0.2757064805487837,
          0.2178506228044481,
          1.042520988367672,
          2.822983295060047,
          -1.087103214274759,
          -1.049813056928823,
          0.01698099560876292,
          0.5243751028838523,
          -2.09422922124996,
          -0.13662039309030596,
          -1.8886038933272862,
          1.228871186708493,
          1.425133273878704,
          -0.29671551812134245,
          0.37428296496209307,
          -0.5342643990085042,
          -1.2397168709639192,
          0.8579535827900483,
          -0.39286744293206854,
          -0.006647963794628891,
          0.48965332945489004,
          -0.8445388821121789,
          1.3977257135900694,
          1.1117157291130664,
          -0.3764114719869428,
          1.1612385566723697,
          2.5196122888010883,
          0.7472283463920891,
          1.3817413942145997,
          -0.5161216817270355,
          3.5378581023039524,
          0.18989925931315055,
          -2.0322462958759258,
          -0.40849899351208846,
          0.7191322962989268,
          -0.23897729239002816,
          -1.0413702724822733,
          2.7083714776945085,
          -0.5260965525887652,
          -0.4897006044309915,
          -0.11874541176042515,
          -1.5781829203216036,
          -0.39135363147783453,
          0.7271548224312496,
          -0.9180623123523581,
          0.29565663108910195,
          -1.4458428112098232,
          0.00803280459367244,
          -0.33753145665760753,
          -1.298020479478734,
          -0.9516608510871061,
          1.5634313770111936,
          0.4733085486586656,
          2.2537817765118056,
          -0.7700605706762205,
          -1.441430519538635,
          -1.2485288773076373,
          -1.7581416337178661,
          1.3681045179900841,
          0.22364080133440425,
          0.9447664244111798,
          0.6137936595676016,
          0.27592031511696613,
          -0.25870638845561467,
          -0.47204017017098143,
          -0.7396564463831774,
          0.122070662265505,
          -1.2069544553613083,
          -1.0087061145816316,
          -0.5822248000134735,
          2.5311658039679714,
          -2.1968940748684225,
          0.30621120392267687,
          1.853687247983915,
          0.8620819189284571,
          -0.7180821806509271,
          0.30856073879534607,
          0.604513876840208,
          1.391439927241823,
          -0.5858593454419816,
          -2.2695189260868824,
          1.6108627199806633,
          -0.8747437924179661,
          -0.32381565294932874,
          -0.8166251008788065,
          1.2154457625763972,
          -1.1547294413270253,
          0.9055981614573085,
          1.06612688569131,
          -1.8112134524696843,
          2.458783074986655,
          -0.708233812682905,
          -2.6371346426760596,
          -0.5657658427476087,
          1.7128110856026666,
          -0.008410409682274916,
          -2.594322420823834,
          -1.4093926108758374,
          -0.20156987920144215,
          -1.3484954376692846,
          0.4434175301184061,
          -0.9326732649784395,
          0.8547817612605152,
          -1.1058837951569924,
          -0.8756187043940683,
          -0.2821110724630613,
          0.27999952367400555,
          0.4284115720639375,
          -1.2804809216972999,
          -0.1139091639582485,
          -0.4621060577429563,
          0.1939611971011662,
          -0.6420218329251602,
          2.8924275906495343,
          2.205053439367295,
          -0.33478021863034996,
          2.443555148421099,
          0.07368406831764371,
          -0.8647340780966976,
          -0.2245480832767599,
          -2.0852693179400634,
          -1.0046400632029922,
          0.06528842788978248,
          -1.1842888962544034,
          1.6871831485117115,
          -0.2002559435076005,
          -1.3991451055923179,
          2.4788301618648565,
          1.3792085802495881,
          -0.5021607627425642,
          0.968602873279818,
          -2.713353160217462,
          -1.301866031669446,
          -0.8153101885265618,
          1.2598914755928246,
          -0.46423508344863773,
          -0.06507171659549611,
          -0.2250051809156028,
          -2.3443215057932254,
          0.8873309256762623,
          -2.239595384286764,
          -0.8863186579086982,
          2.1976951224161105,
          -0.2127014073722446,
          -0.49324284233267457,
          -0.2475686361823135,
          -1.0283339094715438,
          2.8580019995539248,
          1.4307112074515682,
          -0.009279054903295574,
          -0.09904242067194184,
          0.32663627222702435,
          -0.9812720361034779,
          0.42418414576086366,
          -1.231885994749762,
          -0.9545642187668621,
          -0.5947698000599018,
          0.49236131273580064,
          -0.12000694014719239,
          0.1722942217029319,
          1.0713216955685438,
          0.7435346156781677,
          -0.35004172018102586,
          -0.7217749765407213,
          -0.8556786747482404,
          -1.2174132572578413,
          -1.484485956623653,
          3.981286774804117,
          3.2954456983652887,
          -0.47554772232907966,
          3.9671331446786513,
          0.7681911878385006,
          -0.5559712975703924,
          -1.9374479777777254,
          0.2768764629961788,
          -1.49310961216107,
          -0.3319201579262578,
          -0.8493054916390067,
          -0.8595156537486076,
          -1.4246448591186296,
          0.309316924042398,
          -1.5151697277245197,
          0.5749852753233471,
          -0.5625431030133629,
          -0.38730219478566,
          -0.5853785950101029,
          -0.15199904987610416,
          -1.0863808300607605,
          -0.8388328074025573,
          -0.8185455574777302,
          1.6612838903537968,
          -1.5924072067994288,
          0.014047542430210991,
          -1.550840717697419,
          -0.04688495416151413,
          1.1940039958213267,
          3.7898305637834686,
          3.709252146446747,
          -0.09831816977365518,
          2.548744997840055,
          0.353334879617571,
          -0.25078348073973655,
          0.16349370173318703,
          -1.5232494028862276,
          -0.8316119937457019,
          -0.05968402028089517,
          -0.22299030045370516,
          1.3150458488178842,
          0.11076585832381099,
          -0.617921746120943,
          0.8963818024495422,
          -1.2558425322408064,
          -1.147980045542254,
          0.5149233051469678,
          -0.04213747887413223,
          -0.4926861255947461,
          1.0757095727173223,
          0.3634958405860233,
          1.931088777458116,
          0.05473265192207459,
          1.738916617810238,
          1.3179640442152816,
          0.7560370312800584,
          0.3318163870554418,
          0.6510801364088249,
          -1.4848010353845453,
          0.6405428834606343,
          0.2869091673461822,
          -0.07623157554635562,
          0.9051504940874586,
          -0.8989410826850367,
          -1.7517221071807063,
          -0.8364388942463525,
          -0.6847727932223012,
          -0.24945998659432467,
          -1.018096487236825,
          -0.8578044374899901,
          -0.957539583473081,
          2.4320984802854526,
          -1.0811456703517999,
          -0.6384790093765937,
          4.112127696173327,
          -0.6310516580429376,
          1.1973740950848137,
          -0.20439884875080436,
          0.05819563705236211,
          -2.8132670763580303,
          0.6504884533014957,
          -1.9821701776116696,
          -1.0631697090249899,
          1.9978835732047266,
          2.349947412477392,
          -0.06465653687052386,
          -0.9249273514607699,
          4.4669759122044805,
          -0.9027062990608286,
          2.2676688363064317,
          1.575848205742697,
          2.097054893492798,
          -0.780424576709032,
          0.44347889416982056,
          0.4407376150383458,
          1.0215360284112094,
          -1.2883824710225216,
          -1.53602776281732,
          1.3123960505950705,
          0.2018843684664476,
          3.1303236112616544,
          -0.4365498502354125,
          0.24857625130423291,
          1.1826496733552527,
          2.2479934276121036,
          0.24488023646787763,
          0.7846930434584923,
          0.10295022805232257,
          -1.3745287693916093,
          -0.8110094871332568,
          -1.6085896947821205,
          0.5905009210278543,
          0.16876417395416746,
          -1.88878940520324,
          -1.9936323994706213,
          -1.3844410071614368,
          0.4397388771047247,
          -1.1080375767219544,
          0.7234031477129985,
          -1.7104778901518791,
          0.18029149629772592,
          -0.5403269757004107,
          1.3461028740843968,
          1.0075734881905574,
          0.07294874496589944,
          -0.7007530804614639,
          -0.031010502722171925,
          0.07805010922631574,
          -0.3783545374181266,
          1.9945138839316343,
          1.8938052449748408,
          -1.0077498104888882,
          -0.7716298445891482,
          2.1808079158137965,
          -1.6838164871295362,
          0.10092776787987834,
          0.1494769257680328,
          0.6531268637597035,
          -0.5547052149011806,
          -0.6587160751171601,
          -1.3687673651661432,
          -2.1023916982999284,
          -0.4513191755172201,
          -0.6768979229240887,
          -0.05066182588491025,
          -0.8252891887792915,
          -1.0742984333238152,
          -0.16787123600381113,
          0.8121949851181282,
          -1.1140891051427024,
          -0.6008990004485527,
          1.8088858457354735,
          -0.3269487772143951,
          -0.767066971668556,
          0.03350246784959048,
          -1.1279250407301797,
          0.528528891789192,
          -0.16133281666197033,
          0.414989520130891,
          0.011579644430338851,
          -1.8524230361692802,
          -0.7276596416755435,
          0.21815459646061058,
          -0.03148166904709498,
          3.051585445712782,
          -0.5863930654544202,
          -0.7900841931106511,
          0.19135658972483485,
          0.24835921482475065,
          0.4036667999379154,
          0.5344975414529348,
          -0.8595377934637443,
          -0.9453650038853156,
          0.6195300891532708,
          -0.7300434477230862,
          -1.1066980184904782,
          -0.2911137089703753,
          0.8316760934505166,
          -0.853198662155028,
          1.0707099859434646,
          -0.1598566106903604,
          5.0613529054290565,
          1.6599141038448417,
          -1.2127835956321893,
          1.0949175083913438,
          -0.6264049235270477,
          -0.7986078024824341,
          -1.2287114463178659,
          1.2330128618315914,
          -1.1566945912363882,
          -0.7793803747145656,
          -1.4014552584180404,
          1.2784115150276747,
          1.4652225617075052,
          -2.043476727215816,
          0.7538391686860256,
          0.4550569223387111,
          -1.3784205055544108,
          -1.3338206195856106,
          -1.4461635330573601,
          0.3669556732581787,
          -2.671427328989076,
          -1.1095494736485272,
          0.11843625847004864,
          -1.4007856837852313,
          -0.7205288261891801,
          -0.12831854213687582,
          -0.7225597922693927,
          2.1062084456141714,
          -1.155447209843295,
          0.9712316470360928,
          -1.7637782007710994,
          0.29987835114577666,
          -1.558056702488797,
          -0.9747531091154921,
          0.6570622106974434,
          0.07413213925347854,
          2.106358239850187,
          -1.33185557505508,
          0.6406707222564594,
          0.5752695586612935,
          -1.8675857164817051,
          -0.1914888018312436,
          -1.0611977889580055,
          -0.14215084890565105,
          -1.029021236485384,
          -0.2654469798697445,
          0.7556128351257579,
          -1.780806897277221,
          0.5022235512640515,
          5.069033167783715,
          0.7882057160942896,
          -1.8442572359308502,
          -0.508701765701235,
          -1.4420399700545548,
          -1.1790039410440754,
          -0.9545314321985845,
          -0.6571150621226298,
          0.5107840131267776,
          5.276713198624731,
          -1.7068089083338625,
          0.11894056619068173,
          -1.0222324122592124,
          1.4969590827560153,
          -0.04580824366167594,
          0.0991051409569477,
          1.007976802809053,
          1.2873790893792363,
          -0.2543134081915556,
          0.4987214352527271,
          -0.7503055809641533,
          1.6517171381194835,
          -1.3569445849812383,
          -0.8226709125200606,
          -0.1462082063166022,
          0.10658733216162236,
          -1.6963759624188925,
          1.307103656160647,
          -1.2518549792997324,
          2.955782765636368,
          -1.064918293511846,
          -1.1607719575786781,
          1.7131832201856383,
          -0.030260228291491567,
          0.5049531521743058,
          0.843726143718317,
          -1.120522348818083,
          1.3262030651548582,
          -0.39269317791788105,
          -1.283964754715661,
          0.7216672993307408,
          0.11088811195896456,
          -0.6791041763951818,
          -0.6026939706503049
         ],
         "yaxis": "y"
        }
       ],
       "layout": {
        "coloraxis": {
         "colorbar": {
          "title": {
           "text": "cluster"
          }
         },
         "colorscale": [
          [
           0,
           "#0d0887"
          ],
          [
           0.1111111111111111,
           "#46039f"
          ],
          [
           0.2222222222222222,
           "#7201a8"
          ],
          [
           0.3333333333333333,
           "#9c179e"
          ],
          [
           0.4444444444444444,
           "#bd3786"
          ],
          [
           0.5555555555555556,
           "#d8576b"
          ],
          [
           0.6666666666666666,
           "#ed7953"
          ],
          [
           0.7777777777777778,
           "#fb9f3a"
          ],
          [
           0.8888888888888888,
           "#fdca26"
          ],
          [
           1,
           "#f0f921"
          ]
         ]
        },
        "legend": {
         "tracegroupgap": 0
        },
        "margin": {
         "t": 60
        },
        "template": {
         "data": {
          "bar": [
           {
            "error_x": {
             "color": "#2a3f5f"
            },
            "error_y": {
             "color": "#2a3f5f"
            },
            "marker": {
             "line": {
              "color": "#E5ECF6",
              "width": 0.5
             },
             "pattern": {
              "fillmode": "overlay",
              "size": 10,
              "solidity": 0.2
             }
            },
            "type": "bar"
           }
          ],
          "barpolar": [
           {
            "marker": {
             "line": {
              "color": "#E5ECF6",
              "width": 0.5
             },
             "pattern": {
              "fillmode": "overlay",
              "size": 10,
              "solidity": 0.2
             }
            },
            "type": "barpolar"
           }
          ],
          "carpet": [
           {
            "aaxis": {
             "endlinecolor": "#2a3f5f",
             "gridcolor": "white",
             "linecolor": "white",
             "minorgridcolor": "white",
             "startlinecolor": "#2a3f5f"
            },
            "baxis": {
             "endlinecolor": "#2a3f5f",
             "gridcolor": "white",
             "linecolor": "white",
             "minorgridcolor": "white",
             "startlinecolor": "#2a3f5f"
            },
            "type": "carpet"
           }
          ],
          "choropleth": [
           {
            "colorbar": {
             "outlinewidth": 0,
             "ticks": ""
            },
            "type": "choropleth"
           }
          ],
          "contour": [
           {
            "colorbar": {
             "outlinewidth": 0,
             "ticks": ""
            },
            "colorscale": [
             [
              0,
              "#0d0887"
             ],
             [
              0.1111111111111111,
              "#46039f"
             ],
             [
              0.2222222222222222,
              "#7201a8"
             ],
             [
              0.3333333333333333,
              "#9c179e"
             ],
             [
              0.4444444444444444,
              "#bd3786"
             ],
             [
              0.5555555555555556,
              "#d8576b"
             ],
             [
              0.6666666666666666,
              "#ed7953"
             ],
             [
              0.7777777777777778,
              "#fb9f3a"
             ],
             [
              0.8888888888888888,
              "#fdca26"
             ],
             [
              1,
              "#f0f921"
             ]
            ],
            "type": "contour"
           }
          ],
          "contourcarpet": [
           {
            "colorbar": {
             "outlinewidth": 0,
             "ticks": ""
            },
            "type": "contourcarpet"
           }
          ],
          "heatmap": [
           {
            "colorbar": {
             "outlinewidth": 0,
             "ticks": ""
            },
            "colorscale": [
             [
              0,
              "#0d0887"
             ],
             [
              0.1111111111111111,
              "#46039f"
             ],
             [
              0.2222222222222222,
              "#7201a8"
             ],
             [
              0.3333333333333333,
              "#9c179e"
             ],
             [
              0.4444444444444444,
              "#bd3786"
             ],
             [
              0.5555555555555556,
              "#d8576b"
             ],
             [
              0.6666666666666666,
              "#ed7953"
             ],
             [
              0.7777777777777778,
              "#fb9f3a"
             ],
             [
              0.8888888888888888,
              "#fdca26"
             ],
             [
              1,
              "#f0f921"
             ]
            ],
            "type": "heatmap"
           }
          ],
          "heatmapgl": [
           {
            "colorbar": {
             "outlinewidth": 0,
             "ticks": ""
            },
            "colorscale": [
             [
              0,
              "#0d0887"
             ],
             [
              0.1111111111111111,
              "#46039f"
             ],
             [
              0.2222222222222222,
              "#7201a8"
             ],
             [
              0.3333333333333333,
              "#9c179e"
             ],
             [
              0.4444444444444444,
              "#bd3786"
             ],
             [
              0.5555555555555556,
              "#d8576b"
             ],
             [
              0.6666666666666666,
              "#ed7953"
             ],
             [
              0.7777777777777778,
              "#fb9f3a"
             ],
             [
              0.8888888888888888,
              "#fdca26"
             ],
             [
              1,
              "#f0f921"
             ]
            ],
            "type": "heatmapgl"
           }
          ],
          "histogram": [
           {
            "marker": {
             "pattern": {
              "fillmode": "overlay",
              "size": 10,
              "solidity": 0.2
             }
            },
            "type": "histogram"
           }
          ],
          "histogram2d": [
           {
            "colorbar": {
             "outlinewidth": 0,
             "ticks": ""
            },
            "colorscale": [
             [
              0,
              "#0d0887"
             ],
             [
              0.1111111111111111,
              "#46039f"
             ],
             [
              0.2222222222222222,
              "#7201a8"
             ],
             [
              0.3333333333333333,
              "#9c179e"
             ],
             [
              0.4444444444444444,
              "#bd3786"
             ],
             [
              0.5555555555555556,
              "#d8576b"
             ],
             [
              0.6666666666666666,
              "#ed7953"
             ],
             [
              0.7777777777777778,
              "#fb9f3a"
             ],
             [
              0.8888888888888888,
              "#fdca26"
             ],
             [
              1,
              "#f0f921"
             ]
            ],
            "type": "histogram2d"
           }
          ],
          "histogram2dcontour": [
           {
            "colorbar": {
             "outlinewidth": 0,
             "ticks": ""
            },
            "colorscale": [
             [
              0,
              "#0d0887"
             ],
             [
              0.1111111111111111,
              "#46039f"
             ],
             [
              0.2222222222222222,
              "#7201a8"
             ],
             [
              0.3333333333333333,
              "#9c179e"
             ],
             [
              0.4444444444444444,
              "#bd3786"
             ],
             [
              0.5555555555555556,
              "#d8576b"
             ],
             [
              0.6666666666666666,
              "#ed7953"
             ],
             [
              0.7777777777777778,
              "#fb9f3a"
             ],
             [
              0.8888888888888888,
              "#fdca26"
             ],
             [
              1,
              "#f0f921"
             ]
            ],
            "type": "histogram2dcontour"
           }
          ],
          "mesh3d": [
           {
            "colorbar": {
             "outlinewidth": 0,
             "ticks": ""
            },
            "type": "mesh3d"
           }
          ],
          "parcoords": [
           {
            "line": {
             "colorbar": {
              "outlinewidth": 0,
              "ticks": ""
             }
            },
            "type": "parcoords"
           }
          ],
          "pie": [
           {
            "automargin": true,
            "type": "pie"
           }
          ],
          "scatter": [
           {
            "marker": {
             "colorbar": {
              "outlinewidth": 0,
              "ticks": ""
             }
            },
            "type": "scatter"
           }
          ],
          "scatter3d": [
           {
            "line": {
             "colorbar": {
              "outlinewidth": 0,
              "ticks": ""
             }
            },
            "marker": {
             "colorbar": {
              "outlinewidth": 0,
              "ticks": ""
             }
            },
            "type": "scatter3d"
           }
          ],
          "scattercarpet": [
           {
            "marker": {
             "colorbar": {
              "outlinewidth": 0,
              "ticks": ""
             }
            },
            "type": "scattercarpet"
           }
          ],
          "scattergeo": [
           {
            "marker": {
             "colorbar": {
              "outlinewidth": 0,
              "ticks": ""
             }
            },
            "type": "scattergeo"
           }
          ],
          "scattergl": [
           {
            "marker": {
             "colorbar": {
              "outlinewidth": 0,
              "ticks": ""
             }
            },
            "type": "scattergl"
           }
          ],
          "scattermapbox": [
           {
            "marker": {
             "colorbar": {
              "outlinewidth": 0,
              "ticks": ""
             }
            },
            "type": "scattermapbox"
           }
          ],
          "scatterpolar": [
           {
            "marker": {
             "colorbar": {
              "outlinewidth": 0,
              "ticks": ""
             }
            },
            "type": "scatterpolar"
           }
          ],
          "scatterpolargl": [
           {
            "marker": {
             "colorbar": {
              "outlinewidth": 0,
              "ticks": ""
             }
            },
            "type": "scatterpolargl"
           }
          ],
          "scatterternary": [
           {
            "marker": {
             "colorbar": {
              "outlinewidth": 0,
              "ticks": ""
             }
            },
            "type": "scatterternary"
           }
          ],
          "surface": [
           {
            "colorbar": {
             "outlinewidth": 0,
             "ticks": ""
            },
            "colorscale": [
             [
              0,
              "#0d0887"
             ],
             [
              0.1111111111111111,
              "#46039f"
             ],
             [
              0.2222222222222222,
              "#7201a8"
             ],
             [
              0.3333333333333333,
              "#9c179e"
             ],
             [
              0.4444444444444444,
              "#bd3786"
             ],
             [
              0.5555555555555556,
              "#d8576b"
             ],
             [
              0.6666666666666666,
              "#ed7953"
             ],
             [
              0.7777777777777778,
              "#fb9f3a"
             ],
             [
              0.8888888888888888,
              "#fdca26"
             ],
             [
              1,
              "#f0f921"
             ]
            ],
            "type": "surface"
           }
          ],
          "table": [
           {
            "cells": {
             "fill": {
              "color": "#EBF0F8"
             },
             "line": {
              "color": "white"
             }
            },
            "header": {
             "fill": {
              "color": "#C8D4E3"
             },
             "line": {
              "color": "white"
             }
            },
            "type": "table"
           }
          ]
         },
         "layout": {
          "annotationdefaults": {
           "arrowcolor": "#2a3f5f",
           "arrowhead": 0,
           "arrowwidth": 1
          },
          "autotypenumbers": "strict",
          "coloraxis": {
           "colorbar": {
            "outlinewidth": 0,
            "ticks": ""
           }
          },
          "colorscale": {
           "diverging": [
            [
             0,
             "#8e0152"
            ],
            [
             0.1,
             "#c51b7d"
            ],
            [
             0.2,
             "#de77ae"
            ],
            [
             0.3,
             "#f1b6da"
            ],
            [
             0.4,
             "#fde0ef"
            ],
            [
             0.5,
             "#f7f7f7"
            ],
            [
             0.6,
             "#e6f5d0"
            ],
            [
             0.7,
             "#b8e186"
            ],
            [
             0.8,
             "#7fbc41"
            ],
            [
             0.9,
             "#4d9221"
            ],
            [
             1,
             "#276419"
            ]
           ],
           "sequential": [
            [
             0,
             "#0d0887"
            ],
            [
             0.1111111111111111,
             "#46039f"
            ],
            [
             0.2222222222222222,
             "#7201a8"
            ],
            [
             0.3333333333333333,
             "#9c179e"
            ],
            [
             0.4444444444444444,
             "#bd3786"
            ],
            [
             0.5555555555555556,
             "#d8576b"
            ],
            [
             0.6666666666666666,
             "#ed7953"
            ],
            [
             0.7777777777777778,
             "#fb9f3a"
            ],
            [
             0.8888888888888888,
             "#fdca26"
            ],
            [
             1,
             "#f0f921"
            ]
           ],
           "sequentialminus": [
            [
             0,
             "#0d0887"
            ],
            [
             0.1111111111111111,
             "#46039f"
            ],
            [
             0.2222222222222222,
             "#7201a8"
            ],
            [
             0.3333333333333333,
             "#9c179e"
            ],
            [
             0.4444444444444444,
             "#bd3786"
            ],
            [
             0.5555555555555556,
             "#d8576b"
            ],
            [
             0.6666666666666666,
             "#ed7953"
            ],
            [
             0.7777777777777778,
             "#fb9f3a"
            ],
            [
             0.8888888888888888,
             "#fdca26"
            ],
            [
             1,
             "#f0f921"
            ]
           ]
          },
          "colorway": [
           "#636efa",
           "#EF553B",
           "#00cc96",
           "#ab63fa",
           "#FFA15A",
           "#19d3f3",
           "#FF6692",
           "#B6E880",
           "#FF97FF",
           "#FECB52"
          ],
          "font": {
           "color": "#2a3f5f"
          },
          "geo": {
           "bgcolor": "white",
           "lakecolor": "white",
           "landcolor": "#E5ECF6",
           "showlakes": true,
           "showland": true,
           "subunitcolor": "white"
          },
          "hoverlabel": {
           "align": "left"
          },
          "hovermode": "closest",
          "mapbox": {
           "style": "light"
          },
          "paper_bgcolor": "white",
          "plot_bgcolor": "#E5ECF6",
          "polar": {
           "angularaxis": {
            "gridcolor": "white",
            "linecolor": "white",
            "ticks": ""
           },
           "bgcolor": "#E5ECF6",
           "radialaxis": {
            "gridcolor": "white",
            "linecolor": "white",
            "ticks": ""
           }
          },
          "scene": {
           "xaxis": {
            "backgroundcolor": "#E5ECF6",
            "gridcolor": "white",
            "gridwidth": 2,
            "linecolor": "white",
            "showbackground": true,
            "ticks": "",
            "zerolinecolor": "white"
           },
           "yaxis": {
            "backgroundcolor": "#E5ECF6",
            "gridcolor": "white",
            "gridwidth": 2,
            "linecolor": "white",
            "showbackground": true,
            "ticks": "",
            "zerolinecolor": "white"
           },
           "zaxis": {
            "backgroundcolor": "#E5ECF6",
            "gridcolor": "white",
            "gridwidth": 2,
            "linecolor": "white",
            "showbackground": true,
            "ticks": "",
            "zerolinecolor": "white"
           }
          },
          "shapedefaults": {
           "line": {
            "color": "#2a3f5f"
           }
          },
          "ternary": {
           "aaxis": {
            "gridcolor": "white",
            "linecolor": "white",
            "ticks": ""
           },
           "baxis": {
            "gridcolor": "white",
            "linecolor": "white",
            "ticks": ""
           },
           "bgcolor": "#E5ECF6",
           "caxis": {
            "gridcolor": "white",
            "linecolor": "white",
            "ticks": ""
           }
          },
          "title": {
           "x": 0.05
          },
          "xaxis": {
           "automargin": true,
           "gridcolor": "white",
           "linecolor": "white",
           "ticks": "",
           "title": {
            "standoff": 15
           },
           "zerolinecolor": "white",
           "zerolinewidth": 2
          },
          "yaxis": {
           "automargin": true,
           "gridcolor": "white",
           "linecolor": "white",
           "ticks": "",
           "title": {
            "standoff": 15
           },
           "zerolinecolor": "white",
           "zerolinewidth": 2
          }
         }
        },
        "xaxis": {
         "anchor": "y",
         "domain": [
          0,
          1
         ],
         "title": {
          "text": "x"
         }
        },
        "yaxis": {
         "anchor": "x",
         "domain": [
          0,
          1
         ],
         "title": {
          "text": "y"
         }
        }
       }
      },
      "text/html": [
       "<div>                            <div id=\"91040aad-4385-4566-b60c-597a6568526b\" class=\"plotly-graph-div\" style=\"height:525px; width:100%;\"></div>            <script type=\"text/javascript\">                require([\"plotly\"], function(Plotly) {                    window.PLOTLYENV=window.PLOTLYENV || {};                                    if (document.getElementById(\"91040aad-4385-4566-b60c-597a6568526b\")) {                    Plotly.newPlot(                        \"91040aad-4385-4566-b60c-597a6568526b\",                        [{\"customdata\":[[\"Like a Rolling Stone\"],[\"Smells Like Teen Spirit\"],[\"A Day In The Life - Remastered\"],[\"Good Vibrations (Mono)\"],[\"Johnny B Goode\"],[\"Respect\"],[\"Be My Baby\"],[\"What's Going On\"],[\"I Heard It Through The Grapevine\"],[\"(I Can't Get No) Satisfaction - Mono Version / Remastered 2002\"],[\"Billie Jean\"],[\"Heartbreak Hotel\"],[\"Born to Run\"],[\"My Generation - Original Mono Version\"],[\"Love Will Tear Us Apart\"],[\"God Only Knows - Mono / 1997 Remastered\"],[\"(Sittin' On) the Dock of the Bay\"],[\"Hey Ya! - Radio Mix / Club Mix\"],[\"Anarchy In The UK - Remastered 2012\"],[\"Paper Planes\"],[\"London Calling\"],[\"Sympathy For The Devil\"],[\"Strawberry Fields Forever - Remastered\"],[\"Tutti Frutti\"],[\"Stairway To Heaven\"],[\"The Message (feat. Melle Mel & Duke Bootee)\"],[\"What'd I Say\"],[\"Imagine - Remastered 2010\"],[\"A Change Is Gonna Come\"],[\"Heroes - 1999 Remaster\"],[\"When Doves Cry\"],[\"Superstition\"],[\"Common People\"],[\"Gimme Shelter\"],[\"Strange Fruit\"],[\"You Really Got Me\"],[\"Crazy In Love (feat. Jay-Z)\"],[\"Seven Nation Army\"],[\"Losing My Religion\"],[\"God Save The Queen\"],[\"Bohemian Rhapsody - Remastered 2011\"],[\"Blue Monday\"],[\"Purple Haze\"],[\"Louie Louie\"],[\"I Want You Back\"],[\"Crazy\"],[\"You've Lost That Lovin' Feelin' - Single Version\"],[\"Hey Jude - Remastered\"],[\"Waterloo Sunset - Stereo\"],[\"Take Me Out\"],[\"Get Ur Freak On\"],[\"That'll Be the Day\"],[\"Light My Fire\"],[\"I Feel Love\"],[\"There Is a Light That Never Goes Out - 2011 Remaster\"],[\"Space Oddity - 2009 Remastered Version\"],[\"Stand by Me\"],[\"Mr. Tambourine Man\"],[\"Bitter Sweet Symphony\"],[\"(We're Gonna) Rock Around The Clock\"],[\"Layla - 40th Anniversary Version / 2010 Remastered\"],[\"River Deep - Mountain High\"],[\"Unfinished Sympathy - 2006 Digital Remaster\"],[\"Loser\"],[\"Fight The Power\"],[\"Once in a Lifetime - 2005 Remaster\"],[\"Paranoid Android\"],[\"Whole Lotta Love - Remaster\"],[\"Alright\"],[\"House of the Rising Sun\"],[\"Walk on the Wild Side\"],[\"Hotel California\"],[\"99 Problems\"],[\"Dancing On My Own\"],[\"Formation\"],[\"Let's Stay Together\"],[\"Jumpin' Jack Flash\"],[\"All My Friends\"],[\"California Dreamin'\"],[\"Blitzkrieg Bop - 2001 Remaster\"],[\"Dancing In The Street\"],[\"Hound Dog\"],[\"Oblivion\"],[\"I Want To Hold Your Hand - Remastered\"],[\"All Along the Watchtower\"],[\"Nothing Compares 2 U\"],[\"How Soon Is Now? - 2011 Remaster\"],[\"Sweet Child O' Mine\"],[\"For What It's Worth\"],[\"The Weight - Remastered\"],[\"Runaway\"],[\"Ghost Town - Extended Version\"],[\"Royals\"],[\"Get Lucky (feat. Pharrell Williams & Nile Rodgers) - Radio Edit\"],[\"Suspicious Minds\"],[\"Life On Mars? - 1999 Remastered Version\"],[\"Reach Out I'll Be There - Single Version / Mono\"],[\"That's All Right Mama\"],[\"Get Up (I Feel Like Being A) Sex Machine - Pt. 1 & 2\"],[\"Wonderwall\"],[\"Heroin\"],[\"Whole Lotta Shakin' Goin' On\"],[\"Thunder Road\"],[\"One\"],[\"I'm Waiting For The Man - Album Version (Stereo)\"],[\"The Tracks Of My Tears - Single Version / Mono\"],[\"Yesterday - Remastered\"],[\"Dancing Queen\"],[\"Summertime Blues\"],[\"This Charming Man - 2011 Remaster\"],[\"Blue Suede Shoes\"],[\"Good Times\"],[\"Pyramids\"],[\"My Girl - Single Version/Mono\"],[\"Paint It Black\"],[\"Video Games\"],[\"Rehab\"],[\"Rapper's Delight - Long Version\"],[\"The Sound of Silence - Electric Version\"],[\"Fortunate Son\"],[\"Papa's Got A Brand New Bag - Pt. 1\"],[\"Bridge over Troubled Water\"],[\"No Woman, No Cry - Live At The Lyceum, London/1975\"],[\"Proud Mary\"],[\"Every Breath You Take - Remastered 2003\"],[\"Maybellene - Single Version\"],[\"A Whiter Shade Of Pale\"],[\"Midnight City\"],[\"Losing My Edge\"],[\"I'm So Lonesome I Could Cry - Single Version\"],[\"Eight Miles High\"],[\"Born Slippy (Nuxx)\"],[\"Great Balls Of Fire\"],[\"Green Onions\"],[\"Maps\"],[\"Umbrella\"],[\"She Loves You - Remastered\"],[\"Stayin' Alive - 2007 Remastered Version Saturday Night Fever\"],[\"Tangled up in Blue\"],[\"Maggie May\"],[\"Will You Still Love Me Tomorrow\"],[\"Seasons (Waiting On You)\"],[\"Creep\"],[\"Be-Bop-A-Lula\"],[\"Paranoid\"],[\"Heart Of Glass [24-Bit Digitally Remastered 01]\"],[\"Kashmir - 1990 Remaster\"],[\"Walk This Way (feat. Aerosmith)\"],[\"Like a Prayer\"],[\"Marquee Moon - 2003 Remaster\"],[\"Hotline Bling\"],[\"Live Forever\"],[\"Time to Pretend\"],[\"When a Man Loves a Woman\"],[\"Brown Sugar\"],[\"Over the Rainbow (From \\\"The Wizard of Oz\\\")\"],[\"Tomorrow Never Knows - Remastered\"],[\"This Land is Your Land\"],[\"Oh, Pretty Woman\"],[\"Jailhouse Rock\"],[\"Empire State Of Mind [Jay-Z + Alicia Keys]\"],[\"I Bet You Look Good On The Dancefloor\"],[\"Like a Virgin\"],[\"Into the Groove\"],[\"Let It Happen\"],[\"Cranes in the Sky\"],[\"Song 2 - 2012 Remaster\"],[\"Purple Rain\"],[\"Wuthering Heights\"],[\"Born In The U.S.A.\"],[\"Kids\"],[\"Nuthin' But A \\\"G\\\" Thang\"],[\"Peggy Sue - Single Version\"],[\"White Rabbit\"],[\"Kiss\"],[\"Sunday Bloody Sunday\"],[\"Psycho Killer - 2005 Remaster\"],[\"Tainted Love\"],[\"Little Red Corvette\"],[\"Family Affair - Single Version\"],[\"Can't Get You out of My Head\"],[\"Honky Tonk Women - Mono Version\"],[\"Your Best American Girl\"],[\"Autobahn - 2009 Remaster\"],[\"My Girls\"],[\"Eleanor Rigby - Remastered\"],[\"Get It On\"],[\"There She Goes\"],[\"Help! - Remastered\"],[\"House Of Jealous Lovers\"],[\"Last Nite\"],[\"Le Freak\"],[\"Won't Get Fooled Again - Original Album Version\"],[\"In My Life - Remastered\"],[\"Hurt\"],[\"Ms. Jackson\"],[\"Walk on By\"],[\"Folsom Prison Blues\"],[\"Sign 'O' the Times - Single Version\"],[\"bad guy\"],[\"Teenage Kicks\"],[\"This Is America\"],[\"Blowin' in the Wind\"],[\"I Walk The Line - Single Version\"],[\"Brown Eyed Girl\"],[\"Blueberry Hill\"],[\"Planet Rock\"],[\"Crazy\"],[\"Bo Diddley\"],[\"Subterranean Homesick Blues\"],[\"Mr. Brightside\"],[\"People Get Ready - Single Version\"],[\"Virginia Plain\"],[\"Runaway\"],[\"Baba O'Riley\"],[\"Go Your Own Way\"],[\"Two Weeks\"],[\"(White Man) In Hammersmith Palais\"],[\"(Don't Fear) The Reaper\"],[\"Penny Lane - Remastered\"],[\"Smoke On the Water\"],[\"Toxic\"],[\"Roadrunner (Twice)\"],[\"Don't You Want Me\"],[\"Bad Girls\"],[\"Changes - 1999 Remastered Version\"],[\"Don't Stop 'Til You Get Enough\"],[\"Let It Be - Remastered\"],[\"Don't Be Cruel\"],[\"Papa Was A Rollin' Stone - Single Version\"],[\"Rolling in the Deep\"],[\"Living For The City\"],[\"Gloria (feat. Van Morrison) - Mono Version\"],[\"Try A Little Tenderness\"],[\"I Wanna Be Your Dog\"],[\"1979\"],[\"The Girl From Ipanema\"],[\"You Send Me\"],[\"Wild Thing\"],[\"Ziggy Stardust - 2012 Remastered Version\"],[\"In the Midnight Hour\"],[\"Wichita Lineman - Remastered 2001\"],[\"I Got You (I Feel Good)\"],[\"Idioteque\"],[\"Sunshine Of Your Love\"],[\"Search and Destroy - Iggy Pop Mix\"],[\"While My Guitar Gently Weeps - Remastered\"],[\"Ever Fallen in Love (With Someone You Shouldn't've?) - 1996 Remastered Version\"],[\"The Times They Are A-Changin'\"],[\"With Or Without You - Remastered\"],[\"Mystery Train\"],[\"Leader Of The Pack\"],[\"Let's Get It On\"],[\"La Bamba\"],[\"Dance Yrself Clean\"],[\"Relax\"],[\"The Model - 2009 Remaster\"],[\"Rebellion (Lies)\"],[\"Don't Worry Baby (Mono) - Remastered\"],[\"Debaser\"],[\"Sweet Jane\"],[\"Why Do Fools Fall In Love\"],[\"Running Up That Hill (A Deal With God)\"],[\"Beat It\"],[\"Wish You Were Here - 2011 Remastered Version\"],[\"Sabotage - 2009 Digital Remaster\"],[\"Alone Again Or\"],[\"One More Time\"],[\"Green Light\"],[\"Over And Over\"],[\"All the Young Dudes\"],[\"The Boys Are Back In Town\"],[\"Lose Yourself - Soundtrack Version\"],[\"212\"],[\"Firestarter\"],[\"Kick Out the Jams\"],[\"See Emily Play - 2001 Remastered Version\"],[\"Two Weeks\"],[\"Girls & Boys - 2012 Remaster\"],[\"Son Of A Preacher Man\"],[\"Cannonball\"],[\"B.O.B. - Bombs Over Baghdad\"],[\"Thinkin Bout You\"],[\"Many Rivers To Cross\"],[\"Gold Digger\"],[\"Israelites\"],[\"Something - Remastered\"],[\"Ring Of Fire - Single Version\"],[\"Sexual Healing\"],[\"Cross Road Blues\"],[\"Highway To Hell\"],[\"Born To Be Wild\"],[\"Da Funk\"],[\"Theme From Shaft\"],[\"Brass in Pocket\"],[\"Shake, Rattle and Roll\"],[\"(I'm Your) Hoochie Coochie Man\"],[\"Jesus Walks\"],[\"Suzanne\"],[\"Bye Bye Love\"],[\"Windowlicker\"],[\"Heartbeats\"],[\"School's Out\"],[\"Stop! In The Name Of Love\"],[\"La Vie en rose\"],[\"Fell In Love With a Girl\"],[\"Enter Sandman\"],[\"Je t'aime moi non plus\"],[\"Where Is My Mind?\"],[\"96 Tears\"],[\"Stan\"],[\"Radio Free Europe\"],[\"Bring The Noise\"],[\"Ace Of Spades\"],[\"Where Did Our Love Go - Stereo Version\"],[\"Teen Age Riot\"],[\"(Your Love Keeps Lifting Me) Higher and Higher\"],[\"Wake Up\"],[\"Rumble\"],[\"Gimme Some Lovin' - Single Mix\"],[\"Gloria: In Excelsis Deo\"],[\"Back In Black\"],[\"Tumbling Dice\"],[\"Summer in the City - Remastered\"],[\"Blind\"],[\"Killing In The Name\"],[\"Only the Lonely (Know the Way I Feel)\"],[\"Just Like Heaven\"],[\"Sweet Dreams (Are Made of This) - Remastered\"],[\"Young Folks\"],[\"Seventeen\"],[\"Sweet Home Alabama\"],[\"I Can't Explain - Original Mono Version\"],[\"Groove Is in the Heart\"],[\"Float On\"],[\"White Christmas\"],[\"You Can't Always Get What You Want\"],[\"Move on Up - Extended Version\"],[\"cellophane\"],[\"I Can't Stand The Rain\"],[\"Free Bird\"],[\"Bodak Yellow\"],[\"Lust For Life\"],[\"Heart of Gold\"],[\"HUMBLE.\"],[\"Ashes to Ashes\"],[\"King Kunta\"],[\"I Say a Little Prayer\"],[\"West End Blues\"],[\"I Can See For Miles - Mono Version\"],[\"I Get Around (Mono)\"],[\"More Than a Feeling\"],[\"I Am The Walrus - Remastered\"],[\"Under the Bridge\"],[\"Around the World\"],[\"Lola\"],[\"Georgia On My Mind\"],[\"Do You Realize??\"],[\"Hey Joe\"],[\"It's The End Of The World As We Know It (And I Feel Fine)\"],[\"Body and Soul\"],[\"Dazed and Confused - 1990 Remaster\"],[\"1901\"],[\"Fight For Your Right\"],[\"Archangel\"],[\"Ticket To Ride - Remastered\"],[\"Sultans Of Swing\"],[\"Fools Gold - Remastered\"],[\"Crying\"],[\"West End Girls - 2001 Remaster\"],[\"Rocket 88 - Single Version\"],[\"Chicago\"],[\"Mannish Boy\"],[\"Roll Over Beethoven\"],[\"Instant Karma! (We All Shine On) - Remastered 2010\"],[\"Minnie The Moocher (03-03-31)\"],[\"Work\"],[\"You Oughta Know\"],[\"Pink Moon\"],[\"American Pie\"],[\"Fake Plastic Trees\"],[\"I've Been Loving You Too Long\"],[\"No One Knows\"],[\"Monkey Gone to Heaven\"],[\"Somebody to Love\"],[\"Welcome To The Jungle\"],[\"Loaded\"],[\"Going Underground\"],[\"Round Midnight\"],[\"Long Tall Sally\"],[\"I Put a Spell on You\"],[\"Boogie Chillen\"],[\"Come Together - Remastered\"],[\"Pump Up The Volume (UK 12\\\" Remix)\"],[\"Ohio\"],[\"1999\"],[\"Glory Box\"],[\"Mack the Knife - Edit; 2006 Remaster\"],[\"One Nation Under A Groove\"],[\"Since U Been Gone\"],[\"Jolene\"],[\"Blister in the Sun - 2002 Remastered Version\"],[\"Moondance\"],[\"Jump\"],[\"Blank Generation\"],[\"Wild Horses\"],[\"Norwegian Wood (This Bird Has Flown) - Remastered\"],[\"Girls Just Want to Have Fun\"],[\"I'm a Believer\"],[\"I Will Survive - Single Version\"],[\"Another Brick In The Wall, Pt. 2 - 2011 Remastered Version\"],[\"Roxanne - Remastered 2003\"],[\"A Love Supreme Part I: Acknowledgement\"],[\"The Killing Moon\"],[\"Under Pressure\"],[\"In The Still Of The Nite\"],[\"Pride (In The Name Of Love) - Remastered 2009\"],[\"Da Doo Ron Ron (When He Walked Me Home)\"],[\"My Name Is\"],[\"There Goes My Baby - Single Version; 2019 Remaster\"],[\"Wolf Like Me\"],[\"Just Like Honey\"],[\"Bizarre Love Triangle\"],[\"Bad Moon Rising\"],[\"You Really Got A Hold On Me\"],[\"Pedestrian at Best\"],[\"Straight Outta Compton\"],[\"Dance to the Music\"],[\"The End\"],[\"St Louis Blues\"],[\"The Loco-Motion\"],[\"Hannah Hunt\"],[\"Paid In Full\"],[\"Such Great Heights\"],[\"I've Got a Woman\"],[\"O Superman\"],[\"Another Girl, Another Planet - 2008 re-mastered version\"],[\"Sheena Is a Punk Rocker - 2009 Remaster\"],[\"Voodoo Child (Slight Return)\"],[\"Midnight Train to Georgia\"],[\"I Know There's Gonna Be (Good Times)\"],[\"Because the Night\"],[\"No Scrubs\"],[\"You're Gonna Miss Me (2008 Remastered Original Mono LP Version)\"],[\"All I Have to Do Is Dream - Single Version; 2006 Remaster\"],[\"Come On Eileen\"],[\"My Sweet Lord - 2001 Digital Remaster\"],[\"Should I Stay or Should I Go\"],[\"Yonkers\"],[\"Reflektor\"],[\"Enjoy the Silence\"],[\"New Slang\"],[\"Ultralight Beam\"],[\"Hope There's Someone\"],[\"New Rose\"],[\"Ignition - Remix\"],[\"Boys Don't Cry\"],[\"Street Fighting Man\"],[\"I Only Have Eyes For You\"],[\"Run Away With Me\"],[\"Transmission\"],[\"All Apologies\"],[\"A Hard Day's Night - Remastered\"],[\"Skinny Love\"],[\"Me and Bobby McGee\"],[\"Music Sounds Better With You - Radio Edit\"],[\"Freak Scene\"],[\"Queen\"],[\"Your Song\"],[\"Starman - 2012 Remastered Version\"],[\"Make Me Feel\"],[\"Crystalised\"],[\"The Letter\"],[\"Milkshake\"],[\"Zombie\"],[\"Where It's At\"],[\"Come As You Are\"],[\"Everybody Hurts\"],[\"We Are Your Friends - Justice Vs Simian\"],[\"The Rat\"],[\"Fire and Rain\"],[\"It's A Man's Man's Man's World\"],[\"Fuck Tha Police\"],[\"Young Americans - 2007 Remaster\"],[\"The Seed (2.0)\"],[\"September Gurls\"],[\"Cathy's Clown - Single Version; 2006 Remaster\"],[\"Viva La Vida\"],[\"Smokestack Lightnin'\"],[\"Nights\"],[\"That's Entertainment\"],[\"I Love Rock 'N Roll\"],[\"Tired Of Being Alone\"],[\"Alison\"],[\"Cry Me a River\"],[\"Rock & Roll\"],[\"Rid Of Me\"],[\"These Boots Are Made for Walkin'\"],[\"Thank You (Falettinme Be Mice Elf Agin) - Single Version\"],[\"Black Hole Sun\"],[\"You Can't Hurry Love\"],[\"Round And Round\"],[\"Visions of Johanna\"],[\"Venus In Furs\"],[\"Shout, Pts. 1 & 2\"],[\"Trans-Europe Express - 2009 Remaster\"],[\"Rock the Casbah\"],[\"Hound Dog\"],[\"Clint Eastwood\"],[\"Closer\"],[\"Ain't No Sunshine\"],[\"Juice\"],[\"Lazarus\"],[\"So What (feat. John Coltrane, Cannonball Adderley & Bill Evans)\"],[\"Not\"],[\"Time After Time\"],[\"We Found Love\"],[\"DNA.\"],[\"Immigrant Song\"],[\"I've Got You Under My Skin - Remastered 1998\"],[\"Karma Police\"],[\"Everlong\"],[\"The Twist\"],[\"Do I Wanna Know?\"],[\"D.A.N.C.E.\"],[\"Revolution - Remastered\"],[\"Work It\"],[\"Good Golly Miss Molly\"],[\"Who Do You Love - Single Version\"],[\"War\"],[\"Bloodbuzz Ohio\"],[\"Comfortably Numb - 2011 Remastered Version\"],[\"Perfect Day\"],[\"Sour Times\"],[\"Yellow\"],[\"Helter Skelter - Remastered\"],[\"Cortez The Killer\"],[\"Famous Blue Raincoat\"],[\"Redemption Song\"],[\"Waiting Room\"],[\"Juicy - 2005 Remaster\"],[\"Get Up, Stand Up\"],[\"Ne me quitte pas\"],[\"It's Too Late\"],[\"The Rockafeller Skank - Full Version\"],[\"Desolation Row\"],[\"Since I Left You\"],[\"In The Air Tonight\"],[\"Shut Up Kiss Me\"],[\"Hate To Say I Told You So\"],[\"I Never Loved a Man (The Way I Love You)\"],[\"Riders on the Storm\"],[\"I'm Not In Love\"],[\"Stand By Your Man\"],[\"Wake up Little Susie - Single Version; 2006 Remaster\"],[\"Unchained Melody\"],[\"Blackstar\"],[\"The One I Love\"],[\"Ray of Light\"],[\"Ain't That A Shame\"],[\"thank u, next\"],[\"Working Class Hero - Remastered 2010\"],[\"Chain of Fools\"],[\"The Night They Drove Old Dixie Down - Remastered 2000\"],[\"Holocene\"],[\"Cut Your Hair\"],[\"Blue Yodel #1 (t For Texas)\"],[\"...Baby One More Time\"],[\"Jeremy\"],[\"Vogue\"],[\"I Still Haven't Found What I'm Looking For - Remastered 2007\"],[\"Dreams\"],[\"Old Town Road - Remix\"],[\"Higher Ground\"],[\"Who'll Stop The Rain\"],[\"He's a Rebel\"],[\"Walk This Way\"],[\"Friday On My Mind\"],[\"California Love\"],[\"The River\"],[\"The Harder They Come - From \\\"The Harder They Come\\\" Soundtrack\"],[\"MALAMENTE - Cap.1: Augurio\"],[\"Everyday People\"],[\"Soul Man\"],[\"The Thrill Is Gone\"],[\"Waterfalls\"],[\"Take on Me\"],[\"White Winter Hymnal\"],[\"The Passenger\"],[\"Odessa\"],[\"Everything Is Embarrassing\"],[\"Bags\"],[\"In the Mood\"],[\"Do You Believe in Magic?\"],[\"Earth Angel (Will You Be Mine)\"],[\"Can't Do Without You\"],[\"Fairytale of New York (feat. Kirsty MacColl)\"],[\"Sprawl II (Mountains Beyond Mountains)\"],[\"Lisztomania\"],[\"Killing Me Softly With His Song\"],[\"My Funny Valentine\"],[\"Message In A Bottle\"],[\"Koko\"],[\"Someone Great\"],[\"The Boxer\"],[\"Teardrop\"],[\"Fade Into You\"],[\"Personal Jesus\"],[\"Thirteen\"],[\"Where The Streets Have No Name - Remastered 2007\"],[\"Back To Life (However Do You Want Me) [feat. Caron Wheeler] - 2003 Remastered Version\"],[\"All You Need Is Love - Remastered\"],[\"Yakety Yak\"],[\"Tightrope (feat. Big Boi) - Big Boi Vocal Edit\"],[\"I Fought the Law - Single Version\"],[\"Push It\"],[\"Love Is The Drug\"],[\"I Will Move On Up A Little Higher - Part 1\"],[\"The House That Heaven Built\"],[\"What A Wonderful World\"],[\"Jesus, Etc.\"],[\"Cry Me A River\"],[\"Brimful of Asha (Norman Cook Remix) (Single Version)\"],[\"All Right Now\"],[\"Daniel\"],[\"Shipbuilding - Remastered in 1998\"],[\"Chandelier\"],[\"Retrograde\"],[\"Paperback Writer - Remastered\"],[\"Standing In The Way Of Control\"],[\"Rockin' in the Free World\"],[\"Let's Dance - 1999 Remaster\"],[\"One Day Like This\"],[\"You Shook Me All Night Long\"],[\"Apache\"],[\"Happiness Is A Warm Gun - Remastered\"],[\"Telstar - Remastered\"],[\"At Last - Single Version\"],[\"Hard To Explain\"],[\"Rebel Rebel - 1999 Remaster\"],[\"Fast Car\"],[\"Shine On You Crazy Diamond, Pts. 1-5 - 2011 Remastered Version\"],[\"More Than This\"],[\"Dust My Broom\"],[\"Losing You\"],[\"Hallelujah\"],[\"Blue Moon Of Kentucky - Original\"],[\"Hallelujah\"],[\"Piece of My Heart\"],[\"Police & Thieves\"],[\"Hold On, We're Going Home\"],[\"Maybe I\\u2019m Amazed - Remastered 2011\"],[\"True Faith - 2015 Remaster\"],[\"A-Punk\"],[\"White Lines (Don't Don't Do It) - Long Version\"],[\"Block Rockin' Beats\"],[\"Love To Love You Baby\"],[\"Digital Love\"],[\"Video Killed The Radio Star\"],[\"Doo Wop (That Thing)\"],[\"Dream On\"],[\"21st Century Schizoid Man\"],[\"Miss You - Remastered\"],[\"Positively 4th Street - Single Version\"],[\"Here Comes The Sun - Remastered\"],[\"Last Goodbye\"],[\"Gone\"],[\"Bad Romance\"],[\"Me Myself And I\"],[\"Pretty Vacant\"],[\"Shot By Both Sides - Remastered\"],[\"Boom Boom\"],[\"Knockin' On Heaven's Door\"],[\"Move It - 2000 Remaster\"],[\"Please Mr. Postman - Single Version / Mono\"],[\"Single Ladies (Put a Ring on It)\"],[\"Just Like a Woman\"],[\"The Boys Of Summer\"],[\"This Town Ain't Big Enough For Both Of Us\"],[\"The Dark End of the Street\"],[\"Alive\"],[\"Personality Crisis\"],[\"I Wanna Be Sedated - Remastered\"],[\"New Year's Day\"],[\"Archie, Marry Me\"],[\"Heart-Shaped Box\"],[\"Love It If We Made It\"],[\"Turn! Turn! Turn! (To Everything There Is a Season)\"],[\"Public Image\"],[\"Rock Lobster\"],[\"How High The Moon\"],[\"Inner City Blues (Make Me Wanna Holler)\"],[\"Surrender\"],[\"Take Five\"],[\"Call Me Maybe\"],[\"Feels Like We Only Go Backwards\"],[\"My Love - Single Version\"],[\"Runaround Sue\"],[\"Let's Spend The Night Together - Stereo Version\"],[\"Band Of Gold (Single Mix)\"],[\"I'm A Man - Single Version\"],[\"Everyday Is Like Sunday\"],[\"1 Thing\"],[\"Livin' On A Prayer\"],[\"Damaged Goods\"],[\"Lithium\"],[\"Buddy Holly\"],[\"Ni**as In Paris\"],[\"It Takes Two\"],[\"Hey Hey, My My (Into The Black)\"],[\"Hurricane\"],[\"Don't Look Back In Anger\"],[\"I Wanna Dance with Somebody (Who Loves Me)\"],[\"Say It Loud - I'm Black And I'm Proud\"],[\"Drop It Like It's Hot\"],[\"L.E.S Artistes\"],[\"Can't Stand Me Now\"],[\"Atlas\"],[\"Suite: Judy Blue Eyes - 2005 Remaster\"],[\"Substitute - Single Version\"],[\"Birthday\"],[\"One O'clock Jump\"],[\"Banquet\"],[\"(Love Is Like A) Heat Wave - Single Version\"],[\"Cars - Remastered 2009\"],[\"I Fall To Pieces - Single Version\"],[\"Try Again\"],[\"Rebel Without A Pause\"],[\"Complete Control\"],[\"Don't Believe The Hype\"],[\"Jealous Guy - Remastered 2010\"],[\"Race For The Prize\"],[\"Lucy In The Sky With Diamonds - Remastered\"],[\"Fix Up, Look Sharp\"],[\"Clocks\"],[\"Angie - Remastered 2009\"],[\"Just My Imagination (Running Away With Me)\"],[\"Night Moves\"],[\"Sex & Drugs & Rock & Roll\"],[\"Iron Man\"],[\"Wooly Bully\"],[\"Climax\"],[\"American Girl\"],[\"Money - 2011 Remastered Version\"],[\"Little Wing\"],[\"River Man\"],[\"Everything in Its Right Place\"],[\"Ode To Billie Joe\"],[\"Summer Babe (Winter Version)\"],[\"Making Plans For Nigel\"],[\"Faith - Remastered\"],[\"Surfin' Usa\"],[\"America - Single Mix\"],[\"Surf's Up - Remastered 2009\"],[\"Uptown Top Ranking - Remastered 2001\"],[\"The Revolution Will Not Be Televised\"],[\"Thriller\"],[\"Hellhound On My Trail\"],[\"Take the \\\"A\\\" Train\"],[\"My Sharona\"],[\"Some Velvet Morning\"],[\"Watching The Detectives\"],[\"Missing - Todd Terry Remix / Radio Edit\"],[\"The Tears Of A Clown - Single Version / Mono\"],[\"Atlantic City\"],[\"Free Fallin'\"],[\"A Case of You\"],[\"I Got You Babe\"],[\"EARFQUAKE\"],[\"God Bless The Child\"],[\"Walk Away Renee\"],[\"The Mercy Seat - 2010 Digital Remaster\"],[\"Pyramid Song\"],[\"Can't Feel My Face\"],[\"Holiday In Cambodia\"],[\"Solsbury Hill\"],[\"Borderline\"],[\"Goodbye Yellow Brick Road\"],[\"Genius Of Love\"],[\"A Milli\"],[\"Ballad of a Thin Man\"],[\"No Diggity\"],[\"Me and Guiliani Down by the School Yard - A True Story\"],[\"Oliver's Army\"],[\"Mrs. Robinson\"],[\"Master Of Puppets\"],[\"Monster\"],[\"Bipp\"],[\"Psychotic Reaction\"],[\"In Da Club\"],[\"Super Freak\"],[\"Give It Away\"],[\"Tiny Dancer\"],[\"A Hard Rain's A-Gonna Fall\"],[\"In the Ghetto\"],[\"Sound and Vision - 1999 Remaster\"],[\"Uptown Funk (feat. Bruno Mars)\"],[\"Beautiful Day\"],[\"Rock with You - Single Version\"],[\"La Grange - 2005 Remaster\"],[\"A Forest\"],[\"Mask Off (feat. Kendrick Lamar) - Remix\"],[\"Spanish Harlem\"],[\"Close To Me\"],[\"Galang\"],[\"Soon\"],[\"Hyperballad\"],[\"The Needle and the Damage Done - 2009 Remaster\"],[\"She's Not There\"],[\"Stillness Is The Move\"],[\"Pressure Drop - Single Version\"],[\"Dancing In The Dark\"],[\"The Real Slim Shady\"],[\"California Girls - Remix/Remastered 2001\"],[\"Crimson & Clover\"],[\"Across The Universe - Remastered\"],[\"Masters of War\"],[\"Say It Ain't So\"],[\"The Sun Ain't Gonna Shine Anymore - Mono Version\"],[\"American Idiot\"],[\"After the Gold Rush\"],[\"Everybody's Talkin' - From \\\"Midnight Cowboy\\\"\"],[\"Call Me\"],[\"You're so Vain\"],[\"Feel Good Inc.\"],[\"Bela Lugosi\\u2019s Dead\"],[\"Champagne Supernova\"],[\"C.R.E.A.M. (Cash Rules Everything Around Me) (feat. Method Man, Raekwon, Inspectah Deck & Buddha Monk)\"],[\"My Favorite Things\"],[\"About A Girl - Remastered\"],[\"Lady Marmalade - Single Version\"],[\"Caught Out There\"],[\"Sex on Fire\"],[\"Mind Playing Tricks On Me\"],[\"In Dreams\"],[\"Call It Stormy Monday (But Tuesday Is Just As Bad)\"],[\"Basket Case\"],[\"Train in Vain\"],[\"Gold Soundz\"],[\"Back Stabbers\"],[\"Nobody\"],[\"Sledgehammer\"],[\"Don't Dream It's Over\"],[\"1234\"],[\"Super Bass\"],[\"We Will Rock You\"],[\"Blank Space\"],[\"Money (That's What I Want) - Single Version / Mono\"],[\"Piano Man\"],[\"It's Like That\"],[\"Walk, Don't Run\"],[\"Atomic Dog\"],[\"You Get What You Give\"],[\"What You Know\"],[\"Only Shallow\"],[\"You Made Me Realise - Remastered Version\"],[\"Everybody Wants To Rule The World\"],[\"Touch Me I'm Sick\"],[\"He Stopped Loving Her Today - Single Version\"],[\"I Saw Her Standing There - Remastered\"],[\"Who Knows Where The Time Goes?\"],[\"Mood Indigo\"],[\"You Keep Me Hangin' On - Album Version / Stereo\"],[\"Only You - And You Alone\"],[\"Rock Island Line - Mono Version\"],[\"Mercy Mercy Me (The Ecology)\"],[\"Atmosphere\"],[\"It's Alright, Ma (I'm Only Bleeding)\"],[\"Rock And Roll\"],[\"Don't Think Twice, It's All Right\"],[\"I Shot The Sheriff\"],[\"Machine Gun\"],[\"Got My Mojo Working\"],[\"Int'l Players Anthem (I Choose You)\"],[\"Loud Places\"],[\"Sail Away - 2002 Remaster\"],[\"L.A. Woman - Remaster\"],[\"Fame - 2007 Remaster\"],[\"Red Eyes\"],[\"My Way\"],[\"Lonely Boy\"],[\"Ain't Misbehavin\"],[\"Supersonic\"],[\"My Guy - Single Version\"],[\"Boy From School\"],[\"Band On The Run - Remastered 2010\"],[\"The Scientist\"],[\"Praise You\"],[\"Buffalo Stance\"],[\"Coal Miner's Daughter - Single Version\"],[\"Ain't No Mountain High Enough - Stereo Version\"],[\"Caldonia\"],[\"Sunday Morning\"],[\"Lucille\"],[\"Hit the Road Jack\"],[\"Big Yellow Taxi\"],[\"Jungleland\"],[\"You Want It Darker\"],[\"Dark Star - Single Version\"],[\"White Riot\"],[\"SICKO MODE\"],[\"Are 'Friends' Electric?\"],[\"Izzo (H.O.V.A.)\"],[\"We Are The Champions - Remastered 2011\"],[\"Hold On, I'm Comin'\"],[\"Gin And Juice (feat. Dat Nigga Daz)\"],[\"Whip It\"],[\"Love In Vain\"],[\"Paradise City\"],[\"Astronomy Domine - 2011 Remastered Version\"],[\"Ruby Tuesday - Stereo Version\"],[\"I Like It\"],[\"Bro's\"],[\"\\u00c1guas De Mar\\u00e7o\"],[\"Sing, Sing, Sing\"],[\"The Wilhelm Scream\"],[\"Strings Of Life\"],[\"Start Me Up - Remastered\"],[\"Out of Time\"],[\"Down By The Water\"],[\"Animal Nitrate (Remastered)\"],[\"Do You Really Want To Hurt Me\"],[\"It Was A Good Day\"],[\"You've Got To Hide Your Love Away - Remastered\"],[\"Aqualung\"],[\"When The Levee Breaks\"],[\"Redbone\"],[\"Latch\"],[\"Step On\"],[\"Sexy Boy\"],[\"Time of the Season\"],[\"If You Don't Know Me by Now (feat. Teddy Pendergrass)\"],[\"Hurt\"],[\"Wildwood Flower\"],[\"Love Me Tender - From the 20th Century-Fox CinemaScope Production \\\"Love Me Tender\\\"\"],[\"A Teenager In Love\"],[\"Superstar\"],[\"Waltz #2 (XO)\"],[\"Rollin' Stone\"],[\"Wonderful World\"],[\"Protect Ya Neck (feat. RZA, Method Man, Inspectah Deck, Raekwon, U-God, Ol' Dirty Bastard, Ghostface Killah & GZA)\"],[\"Hung Up\"],[\"Have You Ever Seen The Rain?\"],[\"I Wanna Be Adored - Remastered\"],[\"A New England\"],[\"The Man Who Sold The World - 1999 Remastered Version\"],[\"Cry\"],[\"Down In The Tube Station At Midnight - Full Version\"],[\"War Pigs\"],[\"Don't Stop Believin'\"],[\"(You Make Me Feel Like) A Natural Woman\"],[\"Flying Home\"],[\"Rocket Man (I Think It's Going To Be A Long Long Time)\"],[\"The Adventures Of Grandmaster Flash On The Wheels Of Steel\"],[\"Rosalita (Come out Tonight)\"],[\"Staring At The Sun\"],[\"O.P.P\"],[\"C'mon Everybody\"],[\"Zero\"],[\"Fever\"],[\"Into My Arms - 2011 - Remaster\"],[\"Blind Willie McTell - Studio Outtake - 1983\"],[\"Golden Skans\"],[\"Wouldn't It Be Nice - Mono / Remastered\"],[\"Do You Love Me - Mono Single\"],[\"We Are Family - 1995 Remaster\"],[\"Wannabe\"],[\"Uptight (Everything's Alright) - Single Version\"],[\"Under My Thumb\"],[\"Atomic - Remastered/2001\"],[\"The Breaks\"],[\"Harmony Hall\"],[\"Golden Slumbers - Remastered\"],[\"You Make Me Feel (Mighty Real)\"],[\"Good Riddance (Time of Your Life)\"],[\"Luka\"],[\"Sea Song\"],[\"Then He Kissed Me\"],[\"Help Me\"],[\"White Room\"],[\"What's Love Got To Do WIth It - 1997 Digital Remaster\"],[\"The Winner Takes It All\"],[\"Baby Love - Mono\"],[\"For Your Love\"],[\"Stay with Me - 2008 Remaster\"],[\"Take Me To The River\"],[\"Please Please Me - Remastered\"],[\"Dark Was the Night, Cold Was the Ground\"],[\"She's Gone\"],[\"Rain - Remastered\"],[\"The Great Pretender\"],[\"Rock And Roll All Nite\"],[\"Nuages - avec le Quintette Hot Club de France\"],[\"Rockit\"],[\"Drunk Drivers/Killer Whales\"],[\"Pinball Wizard - Original Album Version\"],[\"Up on the Roof - Single Version; 2017 Remaster\"],[\"Burning Down the House - 2005 Remaster\"],[\"Good Lovin' - Single Version\"],[\"Cold Sweat\"],[\"Sir Duke\"],[\"Hong Kong Garden\"],[\"20th Century Boy\"],[\"Say My Name\"],[\"No Surprises\"],[\"Midnight Special\"],[\"Timeless\"],[\"Like a Hurricane\"],[\"Ready or Not\"],[\"Ramblin' Man\"],[\"Lawdy Miss Clawdy - Single Version\"],[\"Lonely Teardrops\"],[\"Word Up\"],[\"Gigantic\"],[\"Jump Around\"],[\"Save the Last Dance for Me - 2009 Remaster\"],[\"Itchycoo Park\"],[\"Temptation [7\\\" Version]\"],[\"With Every Heartbeat - with Kleerup\"],[\"Sh-Boom\"],[\"Live and Let Die\"],[\"I Can't Stop Loving You\"],[\"All Along the Watchtower\"],[\"Music\"],[\"Happy Together\"],[\"Honey\"],[\"Not Fade Away\"],[\"Teenage Dream\"],[\"At The Hop\"],[\"Your Cheatin' Heart - Single Version\"],[\"Black Skinhead\"],[\"Bring It On Home To Me\"],[\"I Feel for You\"],[\"Whipping Post\"],[\"Just What I Needed\"],[\"Get Off Of My Cloud - Mono Version / Remastered 2002\"],[\"We The People....\"],[\"Flash Light\"],[\"Norf Norf\"],[\"Killer Queen - Remastered 2011\"],[\"She's Lost Control - 12\\\" Single Version\"],[\"Reelin' In The Years\"],[\"Helplessness Blues\"],[\"Devils Haircut\"],[\"Black Magic Woman / Gypsy Queen\"],[\"A Girl Like You\"],[\"Superfly\"],[\"Sweet Little Sixteen\"],[\"Wicked Game\"],[\"Gangsters - 2015 Remaster\"],[\"Dry Your Eyes\"],[\"Electric Feel\"],[\"Runnin' With The Devil\"],[\"Holiday\"],[\"Grindin'\"],[\"Sister Ray\"],[\"I Will Dare\"],[\"Swanee\"],[\"Don't You (Forget About Me)\"],[\"Blackbird - Remastered\"],[\"It Wasn't God Who Made Honky Tonk Angels\"],[\"I Luv U\"],[\"Soul Makossa\"],[\"Regret\"],[\"Black (First Movement Of Black, Brown And Beige) - Live\"],[\"Can the Circle Be Unbroken\"],[\"Little Fluffy Clouds\"],[\"Kansas City\"],[\"POWER\"],[\"Sunny Afternoon\"],[\"Crosstown Traffic\"],[\"Pony Blues\"],[\"It's a Sin - 2001 Remaster\"],[\"One for My Baby - and One More for the Road\"],[\"The Rip\"],[\"Black Beatles\"],[\"Manteca\"],[\"Duke Of Earl\"],[\"I Can\\u2019t Help Myself (Sugar Pie, Honey Bunch)\"],[\"In My Room - Remastered\"],[\"Rebel Girl\"],[\"Mama Tried - Remastered 2001\"],[\"Pristine\"],[\"Ain't Too Proud To Beg\"],[\"Rhapsody In Blue\"],[\"Sixteen Tons\"],[\"On Broadway - 2018 Remaster\"],[\"Wipe Out\"],[\"Connection\"],[\"Disco Inferno\"],[\"Crazy Blues\"],[\"Fuck You\"],[\"Hey Boy Hey Girl\"],[\"I Want to Know What Love Is - 1999 Remaster\"],[\"I Want You\"],[\"The Suburbs\"],[\"Dum Surfer\"],[\"Black and Tan Fantasy\"],[\"Our House (Remastered)\"]],\"hovertemplate\":\"x=%{x}<br>y=%{y}<br>title=%{customdata[0]}<br>cluster=%{marker.color}<extra></extra>\",\"legendgroup\":\"\",\"marker\":{\"color\":[11,1,15,9,5,17,17,5,18,1,2,19,0,10,12,2,5,1,0,15,1,13,9,5,9,18,3,19,16,12,2,1,0,10,16,3,2,10,10,0,9,12,12,2,3,17,11,9,10,9,5,6,2,12,17,9,11,11,0,7,0,9,1,18,13,15,9,13,13,16,19,1,13,0,13,19,1,12,4,5,10,15,12,5,17,9,0,1,17,9,15,12,11,2,9,9,2,7,18,0,12,5,9,9,12,6,19,15,18,17,5,17,15,3,10,4,15,13,11,1,7,19,15,1,7,7,9,10,12,16,15,12,6,6,15,1,1,18,11,9,3,12,9,16,10,17,16,17,11,12,1,10,0,16,1,6,0,19,18,18,13,10,2,2,2,17,17,15,11,9,0,13,6,11,17,1,17,2,15,7,12,1,9,14,15,4,12,12,10,12,17,1,0,9,4,13,7,7,18,13,0,17,19,6,5,16,18,16,3,5,0,16,11,5,9,1,13,1,10,9,1,10,3,2,0,9,17,9,7,18,1,9,17,4,0,12,4,4,5,9,17,11,16,13,3,0,10,5,16,9,19,4,1,3,12,18,12,12,1,1,3,5,4,2,15,10,4,17,9,10,15,9,13,13,0,0,15,17,2,3,12,17,11,19,13,6,9,9,2,6,10,12,12,4,17,6,19,13,4,5,17,1,15,3,4,15,10,9,9,3,13,0,13,0,3,0,1,0,3,0,0,1,12,11,18,13,3,0,2,17,0,1,1,2,17,19,9,12,19,3,0,2,5,5,2,1,2,11,6,0,2,9,15,11,12,5,19,0,0,5,6,16,1,1,12,1,1,12,19,10,6,9,16,7,10,6,1,15,19,11,9,16,17,18,3,0,15,5,6,5,16,6,4,12,3,17,9,5,18,10,2,19,18,1,0,11,16,1,3,2,9,13,4,17,1,6,15,5,13,15,0,12,12,1,16,0,17,15,11,6,3,5,13,0,5,4,0,5,13,18,18,2,2,10,4,3,10,15,13,18,4,3,13,8,0,17,2,1,16,11,0,9,1,4,11,13,0,0,19,15,17,4,18,17,13,1,10,16,2,0,19,16,13,1,1,0,3,2,6,2,10,15,19,4,2,0,4,19,17,9,10,12,11,12,15,12,18,6,2,12,4,17,2,19,0,9,1,13,12,11,9,2,5,9,13,1,13,5,3,3,0,4,16,18,11,15,4,16,19,12,13,13,4,18,0,11,15,4,0,0,11,18,19,6,3,16,9,17,12,6,1,16,17,3,19,10,6,2,9,17,1,3,17,1,1,3,17,3,15,9,3,2,17,17,18,17,2,18,1,1,17,17,6,17,6,15,11,9,15,4,19,10,4,17,19,18,16,9,4,9,7,9,6,2,17,18,17,6,0,16,6,16,1,17,18,19,17,4,15,1,10,18,0,1,12,4,12,16,12,1,4,14,17,3,1,19,16,16,5,18,10,15,17,5,17,10,9,12,11,13,11,12,2,19,9,10,17,1,17,0,0,5,9,5,3,13,11,5,3,6,15,0,5,10,0,9,0,17,12,9,6,4,15,4,1,10,13,5,1,18,15,12,13,1,17,1,1,13,17,15,17,0,1,7,7,17,0,17,11,1,9,16,2,18,3,6,13,13,15,13,4,0,8,13,2,4,5,17,6,0,6,9,17,8,11,4,4,6,12,17,17,5,16,4,17,6,15,6,19,17,4,18,2,1,19,1,19,16,15,8,6,15,4,10,0,8,17,9,17,13,4,7,12,5,4,12,13,10,0,13,18,17,9,19,19,1,17,1,17,2,12,13,3,12,7,12,4,16,10,3,5,1,10,11,11,5,16,1,0,5,19,11,17,17,17,12,0,13,14,10,3,17,0,18,3,4,17,1,0,15,1,17,9,3,13,18,1,3,16,17,5,13,1,10,12,12,1,12,19,5,19,6,18,16,3,12,11,19,5,19,7,11,3,13,18,19,0,5,0,9,0,6,1,6,10,1,11,1,17,6,1,5,4,5,13,3,11,4,19,12,13,9,13,11,17,15,17,6,0,9,3,2,12,19,12,12,12,1,11,9,0,4,2,16,18,12,1,1,12,12,10,16,4,6,19,19,19,16,19,6,13,2,1,2,6,4,19,5,9,11,16,7,9,13,0,10,18,5,0,6,19,19,10,11,5,2,17,10,18,2,18,17,19,12,11,1,4,5,18,9,7,9,3,3,1,1,1,8,11,12,16,1,6,12,9,10,3,2,5,1,1,1,0,2,9,16,14,18,13,5,3,3,18,12,18,5,6,12,10,6,0,9,4,17,4,18,6,17,5,19,13,3,17,16,17,12,17,18,11,11,12,1,16,17,4,10,17,5,19,10,13,17,10,17,13,14,0,6,1,19,6,13,7,0,14,6,18,3,15,1,10,6,10,19,4,17,12,6,3,16,2,7,0,7,6,19,3,15,12,12,6,17,12,11,17,10,1,6,1],\"coloraxis\":\"coloraxis\",\"symbol\":\"circle\"},\"mode\":\"markers\",\"name\":\"\",\"showlegend\":false,\"x\":[0.2840539111407199,-1.0484898433104204,1.1698249795897633,0.98372436295778,-0.09170523717579425,-1.1702409138679937,-1.0575778479377598,-0.4303242044401835,0.7923917686508657,-1.5658021016866484,-2.324563820201896,1.9339161913534255,-0.8056642461014935,-0.9189686155056033,-2.1187600372207966,0.03233392853679294,1.6121183830561865,-2.344682653486713,-0.6544716282225832,-1.2902824775286672,-1.085923331216351,-0.31802371043760924,1.0920469580472933,-0.32456333175924434,2.496166551465002,-1.1384136184771958,0.7020313918763957,2.7665414601247327,2.3086010808564184,-0.8124823593754092,-2.779063138513444,-0.4056169276350757,-0.6964634831515734,0.13843923571008498,4.8284177667344785,-1.1387485671833468,-2.20540035230075,-0.35013123168165794,-1.642118066749179,-1.0382953832404496,1.2839007073131514,-1.5635064790754278,-1.6704621924462044,-0.9064471101223254,0.3177950896783009,-1.126901056052817,1.8973760909407196,-0.06683506899414467,-0.08172606332553224,0.19242700608372904,-1.4318838258532152,1.0006600185214103,-0.4908814939035766,-0.08281527256331772,-1.526662123975328,1.5230911701774468,1.4144744227377746,0.8915329218720626,-1.2532024607890042,-0.8789795683992491,-0.5488578889331138,1.2262930366102198,-1.4451373217802186,-0.6324591780406796,-0.5049085240584188,-1.884938920251914,-0.10215769415240565,-1.6376248016956265,-2.2529834837279585,0.9790117691984825,3.1197300556961634,-0.4158784422119286,-2.688546515983584,-0.9823283763526506,-2.422099978249923,2.283584007022668,-1.2932950091734043,-1.6556340454256968,0.5790238897280923,-1.8943911116419265,-1.1814483456202067,-0.1422669935191392,-0.18854294440058036,-0.5265732981330639,-1.1037484763496572,0.4154118818656839,-2.0039494024679447,-1.0637298452686645,0.3536811835882217,0.614650318788781,-0.27529564207005575,-0.6060424530729115,0.1864202989164401,-1.7570856514234097,0.5072069038021457,0.8331311008137783,-1.7341047512557144,0.7017698138963868,-1.7459645082832278,-1.2693185271837806,0.3001372931192713,1.4828186029558976,1.0183538039934226,0.7382459532955312,-0.7609942622575797,1.4305752022006197,3.063528375024984,-1.0307761310967827,-0.7433855768994787,-1.5871649487158854,-0.4274819359324134,-1.118952937640226,-0.4834635524395607,0.021415585337789762,-1.6685182156273148,1.8282171855123026,-1.6975246108822453,-2.00022562345395,0.5838230772503152,-0.5055120362413655,-1.1740532226245308,3.508074512113121,-0.27026968281861397,-0.5695896512473497,0.4620034605402716,-0.13163690373195286,1.8645054003287305,-0.6090409398746521,-2.1575174806600326,3.063054527738053,0.2509908566346158,-0.9864320288629215,1.2974357824813585,1.6221108179941919,-1.018984512941974,-1.9604304499351917,-1.0002436966773947,-1.6876878198241425,0.8375690280922351,0.8811556003313694,0.9001906927434994,-0.813839830242759,1.6100836185215348,0.876874669080847,-0.15077702276929897,-0.722889539882477,1.5523917357360528,-1.3272280030472956,0.7233351178299181,-0.6572555382576719,-1.067912186001391,-0.36664829863187615,-1.1576182197417473,3.575050728361971,-1.4399673429767113,5.700249681774323,-0.5675571258536612,3.1054597258653827,0.5095541809366183,-0.7145227412226787,-3.522512552020873,-2.1414210398170694,-0.9912263227216792,-2.200001077943347,-1.9167347479793362,-0.07842489069988635,-1.6973322692631505,0.4940291741636974,1.0598899999890221,-0.3178441285771793,-1.6264902115778814,-1.8449825370143798,1.0936576255127417,2.0236281197907737,0.1785806046701316,-0.5893975022911977,-0.874246819550955,0.18374680365737503,-0.973722454479707,0.3432235702911759,-1.3750808860890142,-0.376521674930566,1.6302282333592228,1.6416850892710237,-1.2263936145520578,1.3847727666844372,-1.5896534261407318,-0.9557723894190293,-0.7216818713484178,-1.683156833898487,-1.7099133507619695,-1.3108500843587851,-0.8014785155735564,1.2514455207852826,1.709332024096571,-2.3628825471432906,1.0725457188608867,0.9403271834753519,-0.033614359827663844,-0.8669032038910639,-0.3317552126974845,-1.0047848322733757,3.725758592998645,1.7548599913241434,-0.11906822994425652,1.5924793909073376,-1.4142283103009072,4.241534148124439,-1.2593340304140956,-0.15477362929564745,-1.3585380067722927,3.2889528764156397,-0.1214279298298874,-0.8341254915747295,0.5085736144389967,-0.6731638509278655,-0.9081699359922092,-0.8401808331917365,-1.0778295643392828,0.288030970641439,-0.33286943240728584,-2.6927344974819296,-0.8802136635688612,-1.3484521246295271,-1.9173402926069982,1.4961191593622791,-1.7309740138770877,1.333484476881434,0.5843329233177278,-0.0586208988916415,-0.9840254249717142,0.029118131145153665,-1.114249708728443,2.336935340923748,-0.41218854289458884,-1.0588781047990552,3.5358463843560783,2.2030143330616667,-1.0390946990826402,0.3578351433621958,-0.16406915016422718,1.4369935512265386,0.6913573327645088,-1.394557754259059,0.863985962879818,-1.9937290029294055,-0.5836124968431297,-0.64915309713245,1.7605985565915654,1.1686242073379027,1.3605380144491217,1.1122123538259945,-0.10888445604765827,-0.4615942156229027,-0.8420745916560062,-0.7287010973153198,-0.8315261697408688,-1.594203535392435,-0.06732584536650253,-0.4285610075649281,-0.6176857112561223,-0.2877421222225526,1.489885316538136,-2.7778022935220203,2.561330068261909,-1.6159540886390613,2.4042275550970227,-1.0855067710148112,-0.46622002301464444,-1.6657753743618358,0.02506276369771571,0.25716365213324227,-2.0105133150038643,-2.2079001562860103,-1.4976087912311136,-1.6917066690452764,-0.4591650141878343,-0.717543159703018,-2.133001329767397,0.8035156117431556,-0.5888695896893772,-2.2797305790524818,1.1250616139294376,2.162124596495023,-2.197571812482018,0.2501004287078784,1.3102235330330585,0.8396002659813168,-0.7597549093869381,2.3337606528966837,-1.8327039914522294,-0.0407119294523598,-2.2634071581436643,1.798314379008293,-0.042775418027298145,0.35948510730484057,2.3246337809557067,-1.8409498379048188,4.195902973292957,0.4632683165679477,-1.6079621316783834,-0.5838515143010222,-0.2920369131580114,0.08039146204266387,2.435781621262945,-0.8406628830696817,-1.1337736149068651,0.6182423486692628,1.5305244374387545,-0.6362969183794674,-2.35813009290007,-1.3731962551490895,-1.3670744889953113,-1.5501030611207252,0.678621273402108,-1.4762222957898294,-1.021697923127726,-0.4256323195082804,-0.20424889660126572,-0.40119179523865595,-1.1161811093993061,-0.8152852221564011,-1.2981204896373604,-0.01228842162194775,-1.6231846784062187,-1.667476767310694,0.34782065643919763,-0.29623649928884527,-1.215108716516208,-1.4640704055937939,-0.33978391352797843,0.014386389378462766,-0.10429069298510486,-2.325563877992028,-1.4527170447124431,3.5528276650764474,1.123079421157323,-2.114568520393492,2.739409261820373,0.3477757592398153,-0.5249025724494439,-1.7818799667865806,-1.2832397880131468,0.16348722742471736,-1.7017602271237802,-0.8420087260599632,-1.9051267761887747,1.5534003939510694,3.306329164715229,-0.5688690680310888,-0.15946573987089122,0.23700698899012895,0.16124408871600532,1.0740542220715483,-2.79555267253777,-1.1363827373365958,2.2637683698360935,-1.2109570251926884,-1.1796362552297646,-1.5510997279942125,3.1055987519404287,0.8365653813833416,-1.335575887960496,-0.289046675584231,-0.3551383216135516,-1.367073874655133,-1.2168304550892295,-1.3163263155367069,2.6531549106060983,-1.5003479382962077,1.1628891546041773,1.2421175161758136,2.627834455069765,-0.3496318159506491,-0.9009802595787275,2.7929744521034743,-0.6243510888964677,-0.8239225709366168,3.022036281497597,0.9326132967263904,2.1931724929509997,2.9352346893717822,-1.2216589857452456,0.4126087903838014,0.12280535429309757,-1.0620493698284754,-0.9772289156629275,-1.5353597362838682,3.332300706064131,0.17404266639459434,0.8995633763843858,1.438938165754034,0.8371844961688623,0.653650100690676,0.7572362034566916,-1.0757888940044908,1.279382617841336,0.2680185002852854,-0.11058573353592785,-1.2090163342134594,0.28097344905447613,1.8994764146970973,0.28729565224754566,-0.9972817778096789,-1.032186738603334,1.9051016761197819,1.2366358352480435,-1.2117743317997451,-0.4992236987054599,-1.6107660736932523,0.9854327360753076,-1.8462036320119355,1.8538572785386223,-0.9164250166024159,-0.05060447224245795,2.7177597300949228,-1.4666767653085937,-0.3538381385748843,-2.346541757557547,-0.20983256057916688,-0.626581074155689,0.4733668110592245,-1.7791945687571167,-1.2180708245908711,1.991053361233978,-1.0683762201362772,-1.3457227298817123,-0.6530873941161185,1.8292753166840063,2.7547095883075476,-0.6581660248413771,2.0280856438682506,-1.0393302843543613,-0.6161957470454151,-0.7436156288552458,4.123533284409674,-1.0871067792725202,-2.025616666048126,-1.6545369101577219,0.14910666853244933,-0.27369063162218726,-0.7144325646312347,-1.6162653606823025,-1.9164268324249853,1.815054726513876,0.14299084756084193,-0.9598844097673624,-0.7527928915095603,-2.420984073707865,-0.8200752003552033,1.0081239703318383,1.2819733022473765,-0.5719036332944435,5.297537457621923,0.1488136504630547,-0.9059638005035477,-1.9283274502215724,-0.38808895149781986,3.028058662959141,-0.7379765757801547,-1.2375081356470168,0.32443497077673544,-1.2010637330201115,3.072101326719278,0.8266040684285287,-1.8456177330751096,-1.0928881732719495,0.4882524988729427,2.511214071258141,0.5998129603990918,-0.820246155204616,1.669266217475717,0.18944661934397194,-1.625732596296622,-1.6495913149013173,-0.28429237411123826,-1.2117583307377753,2.1142181044411212,-2.952245130965028,-1.1507924179362061,2.2571362699010242,1.679595622905225,-2.7065348273526695,-1.4857085772411422,-2.3054821575652,-0.9480874156771356,-0.4878910117016055,-0.7457303504252559,2.551887552488304,0.032237892905171206,0.02093589722108305,-1.0769109725752595,2.3188404371557394,1.8467376794181254,-0.611514782490136,-0.9251021994511279,2.320553963974658,2.0718838620697775,-0.5484761502939464,0.3228957028409432,-0.5122279762934715,-0.13997626873261249,0.5681552371447119,-0.3537299676850381,-0.46815773978052105,-0.5708095531146401,-1.5519121161005938,1.2071374372838837,-1.6371248692301663,-0.5653064820003009,0.9340569240158051,-2.7213263030502084,-1.124989443907395,3.1459375799190754,-0.7636906011308681,1.1362075318607132,-1.511033983781255,-1.838214399691917,-1.086252660618723,1.3340811391340437,0.8549984038476252,-1.4493355670429475,-0.7400209893769774,0.3018891308079515,-2.6857750469883963,-1.1409997835275596,-2.094951088096573,-0.7114557737888498,-0.07903729091254025,-0.27815958413404085,-1.1092428077156886,1.4251273738420815,3.8626976353331117,-0.6302246601807558,-0.7927071889566896,-0.7743392223061132,1.6590271284382898,5.007112694717477,1.4466911469644212,-0.5880392157766019,-2.239080122830077,-1.0898581631187279,2.7138088858487213,1.0064310770167249,-1.7669410967060597,0.4098528450665978,-0.7222754508991838,1.9604532604344052,-0.09293414701426951,-1.0211362911082367,0.441452470545388,-0.15057604970659338,2.409779679970533,2.8478625073411434,-0.9196610922567062,2.337533243963377,0.8288030197625732,-0.2041769315276832,-1.6388346763668775,1.1283162782493836,-0.5852436490484397,3.708896054109338,-0.5130295039233508,0.8168319370600724,3.102978490231911,-0.31213323957754446,3.2380793776210335,-1.784934332917166,0.1912704562707825,-1.432679276603038,-0.5563319629426584,0.6110653263481451,-1.5934532906482346,-1.133291823214204,-1.0181357964090538,-0.7603722660977239,-0.9402175883799565,-0.14598262555134484,-2.415260632115192,1.4275766859408139,0.26112659755693424,-0.5251043827473131,0.3071819487272085,0.694182506733454,0.0918470799239222,-0.6519728630201619,-1.768949427015737,0.39701658311558324,-0.9022771288939013,-1.4707469480530742,-1.0082293283290387,-0.6793516565740401,1.726773482131227,-0.6977337565509394,3.2164400015906836,1.4888752039685,0.9590911337727743,-0.2934945223535929,-0.6967216032689219,2.003448832742311,5.067559767306108,-1.3390107036287942,1.8872504208945848,-1.2029143017357447,1.9607964512963911,0.3759891606667759,2.219996896131872,-0.44387127840844226,2.0521644924911917,0.03141448044860238,-1.1897848665779398,0.5788927470839537,0.15050683688485955,-0.9747605610051177,-1.3475030981871652,-1.4413621188398777,-1.4843762414473856,3.0401452371361852,-1.1501124478221934,3.696917788530459,1.7892632245824212,5.580351722860346,-1.6809613507938435,0.17978169968027966,-0.4052489558640977,2.6536450821979103,-2.189295559431951,2.6462796019451558,-0.9883207348761833,-1.1651767603466205,-1.4134791802155506,-0.9634828213527832,-0.1855861604351531,-1.5092386800227706,0.4058960692346427,0.7687065147772052,-1.4491743243838842,2.6633551392680057,-0.9279974572362604,-1.3874478601678513,1.8456636287958146,3.1831614867963274,-0.8290425862740186,-0.904631714529369,-1.1284941771421308,3.7170481424497184,2.8304022428022795,2.9745980557635163,-0.01757263312135136,0.09636076863270415,-0.3620654754281952,1.1385156562791243,-1.5655257810758285,-1.7931455332853046,-0.9858721223399891,-2.1949089065810896,1.2514457885211274,-0.9763209752490096,0.04635864941765597,-0.5676947872847807,1.0528507162763747,-0.10714985272229723,-1.370231832195305,3.0316294189026545,0.3112943465959898,-1.0317990506718917,-0.6505175128351328,-2.0574096373142323,-1.6517650100953472,-0.6603774480162574,-1.1690281057852099,-0.024229872598375685,1.309977934238154,-0.5746947683175369,-0.5691385047428271,-1.69946916779688,1.3252362566209233,0.7606091257237766,0.35964545334660314,2.3302986330242095,-0.4345488385780625,-0.8613633742197112,-2.044804807973134,-1.7983279989826961,-0.6012839460514364,-0.34692132229843603,-0.9628488037010705,-0.7104914582513521,-0.33599097783245446,0.2242155617423098,1.5370949000168719,1.8765727973927395,-1.7040407863802756,1.1749132348074112,-0.8117961185750255,-1.750908894660804,-1.8724485376252304,1.3154746325117315,0.01164863119410732,-1.0981630742825697,-0.439095205456522,-0.44930074273460147,-3.689641104898163,-1.8128663963843605,-1.5693440045846494,-0.7388564287269049,-1.6858275198332333,-3.1031448113864464,-1.1056888584842173,-0.4794590236844174,-1.4005525681344984,-1.3507652694087275,-0.9745228516731355,-0.20983551872964532,-1.8366298156475616,-2.02369683200268,-1.5956050738648604,-0.7684794114830183,1.7775674828647774,-1.0479805787172847,1.4466833199200335,2.450856264235732,-2.3027099859093676,0.2355269635075126,-0.4678915054556593,2.595271040586053,-1.9112479188393545,-1.158297524297253,-1.6468130222879818,-0.9403033729496993,2.00723574469972,-1.3792427270871699,2.6901324023410877,-2.0407098865557662,-0.21042755116640657,0.7020157774231439,2.1419066228806214,-0.2694867552602348,0.3083053700624213,-0.763380543039225,1.5974925463962,0.8558733062440228,-0.8458780139988294,1.3259057293182408,0.2394538485248746,3.7558532239568625,1.5810070214972114,2.0148810748010213,-0.8385208137410023,-1.6287335315512375,-0.23417296439623497,-0.8168852702199694,3.2486474730148776,3.06763890490403,-0.8882607110150426,1.1860926860697938,-2.3954797725487964,3.4167985278590747,1.2568979778671383,-0.7912864712104082,1.7629781803480986,0.08611265086465926,-1.5822493178150425,-1.6678314701768109,2.1843508903097963,-0.6100243499827086,2.1922944822257224,-0.3349425245987592,0.02788394533068732,5.486477201507368,1.3281966241879248,-1.0248500618952103,2.6097655673002453,-1.4458797514073554,-1.1685006345220654,1.868770755225706,-1.1463077383643943,1.0939333705138126,-0.3076218792742267,-2.2421506278501457,0.7789144289484435,-1.4310833486745196,-1.7253668419565236,-0.5343134797456599,1.5172948846990038,-1.3471228355882252,-2.1993645501696544,-1.6590208572546727,-0.9180337558265961,-2.983992421171848,-1.6704229848251155,-1.351360802660557,1.3880067357451573,3.538361118616268,2.7662394927229985,-0.7557466591552818,-1.5175683447686614,-1.2401900397117946,-0.19027793379452046,-1.0415699249008121,0.29070127955562086,-1.0182553955822078,0.03111403954074889,0.3555671866948684,-1.738117561404362,-0.5104254632442182,1.2543660877020097,3.857976697032811,0.023006621707686324,-0.2749679453871961,-0.39323245680745084,-0.45901263156082095,-1.9200862912911916,-0.19735358560618718,0.07115626668170835,0.9576296587712715,2.364510145299816,-0.3249657251351287,0.5238235606493701,-2.828512356912537,3.409979761010405,1.5761975044973837,-0.0012051294041159843,-0.4556661553077109,-2.2386684797996215,-0.33376221994389493,-0.9139099055908464,-0.6630608389978127,3.625108639340862,-1.4759839715843497,0.19035987568241544,-1.5578732215950724,-1.6377695050545198,0.9973356106318838,1.2758673768433006,2.101845290610825,-2.0353436073244175,-1.0364162124468936,0.2615726777964856,-0.530223417804187,-0.552019644485714,-0.7324336921423349,1.7705404787883023,-0.04790158355746503,-2.1602570583072516,0.5006268995781367,-1.1465313784335733,-0.7619426295210953,0.8610760550372399,-2.143338177896346,-1.125822182060569,-1.5532296326433992,-1.0268447068765083,-1.277857734525822,0.9140397840056188,-0.20815625589010125,-0.9714291344380233,-1.1038203139491995,3.030534563555585,-0.8017755795645458,3.714715501352054,5.917442560536303,-0.2875461662012664,3.6239608846681417,0.16912951914920793,0.7477971180295266,0.6071939307166199,1.8663883765343854,-1.4671671993504063,2.8579405561353664,-0.5247573061936585,0.1329877127074319,-0.5448602371047339,-2.37387260607528,0.2576433463317518,3.4552535184313142,-0.5888759758519276,-0.37388062681684364,-0.9423460907439197,1.6611970101749274,-1.282012283017336,2.865815203959958,-1.2793142249435276,0.4249801300196345,-1.2409271496089413,-0.13613739705622574,0.9359195057706616,-0.7062495351691379,-0.39144699762453833,2.171305647255105,-0.9447952261666378,0.9108416209259778,0.8018619619910655,-0.8102509255377586,0.01086444482972166,0.5267602098673986,0.41501427526985274,2.105967713274322,3.979808910851484,-1.859829839785763,-2.6794363469125524,0.2625443433708261,-3.6782939030889246,1.1093366374504896,0.7827540211973113,-1.7183315161127162,-0.6671952749984533,3.1610149658313214,-0.8067748642670399,1.2676400153909246,1.3339008677451252,-2.35639035072252,-1.2591219319230478,2.1380328006202705,1.1425530157306305,1.9232541172199182,-0.9646566036989045,-1.1885827945832055,0.2309738475751192,0.46972530608008417,0.07416201428453989,1.0582210270688976,-1.7599049493275378,1.1980378193194499,0.22243812049099412,-0.7484959240177826,0.1885952067618218,-1.1722245588195832,-0.9801206638617124,-0.29982158793754504,-0.6704276589651563,2.583588543992601,3.7824979683639888,3.4222639527730587,4.462902250173767,2.2039504390037297,2.847127793326443,0.8568351796704653,3.8677132754771426,0.2992170609629107,-2.0330416428164946,-0.869221044628198,-0.9632169001863252,-1.0032629664968435,1.2096645788577658,0.757565736729809,3.6509455008344034,-0.2026104431805604,-0.004360693122365223,-0.6110008907604724,2.2374120451525017,-0.1339435438020234,0.7255397255878528,-1.4707637011897254,-1.2063670464608793,0.5129596377179879,-0.9524621402517381,-0.03043967047537009,-1.4271453248253374,1.886376360306907,4.149965973345363,2.9690235360560453,-1.655677718309701,0.05427089889885228,0.29258297601014527,-1.979184582097624,-1.7668147367216325,-0.9834401745255305,0.29522915591390997,-1.3759213100394483,-0.5048640920459879,-0.3874147941787592,2.4086466106440096,-0.004740901117535573,0.16266220161064748,-0.5482121243132735,3.651190466000789,0.3728339852755487,0.8993706490833758,1.0589301399915332,-0.8066984250207595,-0.002230666701615008,-0.27315478126363313,0.6646261057448283,-0.876987878010418,0.26906138493480625,0.4951064573031277,7.097842661552868,1.5675326499831885,-0.532695975802924,1.8255905019710805,-2.0230075766118216,2.8298178476670817,-0.8151245886552061,0.752356779366183,-0.2702525533955688,0.8694853870798337,-1.0901208697683973,0.3251129758177281,-0.15350041641261944,-0.3024832196926983,-0.3169945611629702,-1.8741995667893006,-1.3838669159498853,1.5827888617937655,1.5919626814899466,0.01635441348648627,0.0786189042994092,-1.1084486733837124,-0.4539613606110296,0.3986710045173631,0.17685538124630412,-0.8841315077546487,-0.23031802740029012,-1.5365410144480147,0.19106985647675187,1.9927733095677302,-1.309379747364241,-0.6512985359360407,0.9136968148473438,-0.13611690295871376,2.2914224328689423,1.034050120610513,-1.5094716916648347,1.0639799174025728,-0.14462811889161806,1.7309898963682975,-1.7177123693248568,-0.28411946754132145,3.292894669844465,-2.377432159995499,0.4752624756673777,-1.5785324460734065,1.7067192106811846,-0.4226343950130039,-1.4777191637662335,-1.6780091846161105,-0.5572017701198956,0.18274150787194238,-0.5063130316573605,-1.2175018383246456,-0.33569928242069375,1.2636257789608945,-1.1833288097619936,1.5685940185187877,-0.9776354340672105,-0.39685665392997244,-0.26913954063900775,2.7831576867240755,-1.0852103704055527,0.1430159725203075,-1.0882786422872022,-1.1866208296664538,-1.0888265936275843,-2.2286249642082967,-0.16085948176797366,-1.4936013959484031,3.0566697392461455,0.3132507713804755,2.868788366824132,2.402647822520728,-2.593526931565651,-1.9424085430077542,-2.1574636470001574,4.065252411568076,2.2097403429365334,-0.1616692928285302,-0.3438868638489308,-2.338911225551793,0.29290729593222803,-1.5748042227907604,3.5626716628213972,-0.703794777356859,3.8997634024195493,2.072392857435561,-0.8465889325433014,-0.4247121864337108,2.280245306980916,-0.8293158511112324,1.5789465987423315,-1.8371552797070976,0.1291490004120155,-0.303356256629718,-0.49049352674586627,4.005437992019382,1.9689471800510672,-0.6871994491781249,-1.5843843099825357,-1.356412333523535,-0.7688102874121855,3.471920700933581,-1.7589475649752602,-1.4908109076978149,0.7486978420374945,-0.13907896452729895,-0.780374877686905,-1.4075866000292472,3.8130411902041796,-0.8387018084827514],\"xaxis\":\"x\",\"y\":[-0.08164811674421743,0.3515930694168047,2.363662091140759,0.48211397229291103,-0.5340454844756325,-2.5791660256824085,-1.0585019181794493,1.283944624827167,-1.1314928582570365,-0.51712102888419,-1.880597639839539,-1.8895704822940402,1.544235342328185,0.46736287323263304,1.571913906212068,-0.5537173194557908,-0.5236410396637453,-1.0141807671989824,1.7713871554083809,0.5132715105580309,-0.48284005517308926,-0.09234617572554102,0.13131670087686456,-0.6077589313989016,1.2437813403589029,-1.5635233222077674,0.24760923867816592,-0.7418964381537618,1.694552163002664,2.5429223600834927,-0.22145311237893212,-0.827298288557621,1.8251482014126228,0.14087491003734062,0.7955236316735831,-0.5104476719118007,-1.1509819831343266,0.7321346098499919,-0.1630403228333432,0.8235591834971621,0.8789881604324286,1.6105583685178242,0.9408810118885389,-1.371586698593036,-0.8006612545407882,-2.116683306350982,0.02476064592694298,1.133431407681057,0.32188878195787696,0.8228940853849732,-0.7105192175322216,-1.5584364226765293,1.0397156842073974,0.4049766860324026,-0.7758985311878401,0.9639014426500416,-1.6968697256183627,-0.5687696853605871,2.171860690765304,-1.6675259409360792,2.1725927384634627,0.6372976624962425,0.6170671289575536,-0.43618927580364186,-0.4225433068607383,-0.28872734467670985,1.8995928319106474,0.41839123627807295,-1.4543506345611814,1.2685843912993673,-0.528322248732577,0.8270020566679294,0.02562875523474447,1.029156848202093,-2.0618256343661625,-1.5107939134005484,0.3562464398799329,1.2620875523935107,-1.1179235073582816,-0.2700492113999013,0.23327409785376893,0.641056611314775,1.8617570451331436,-0.3862012097583177,-0.2854226253924539,0.863131606891431,1.381121857844507,0.9303593985721739,-2.20555155526019,-0.21683310139148268,2.413650279401671,0.9227633655381747,-1.410139210056441,-1.5519130652262332,0.14470000555522147,0.3212342403293602,-0.4106902024878441,-0.8749839419223456,-0.7939823101876804,1.6044729512469789,4.223340464808285,0.5968263971188323,0.4909511377972014,0.14254429458532214,1.2003034570700717,-0.9540127065739857,-0.11718225051257034,0.31450163840658923,-1.1118896098121094,-1.479221963989203,-0.3130617658612628,-1.4026285116588613,3.1100586697281156,0.03852688251250346,0.7946899681508781,-0.10965034909931602,0.4192068676217264,0.5078626074378817,-0.4423044994714756,-0.673746705964572,-1.1130457721911198,0.5931033088118433,0.6544208000288178,-0.9557271555416508,-1.0750370534075628,-1.227009700801765,0.5113381181285834,0.8580255960124462,1.1289809190825806,-0.966154591283014,1.4684254527684322,3.0902672088553444,-1.4727363980043788,-1.0657715776977827,1.761356242336164,0.49456896086240926,-0.580887713815091,-0.5450202090848323,-0.11548718780479118,0.11667951992862911,-0.06939878905060629,1.909018849735342,0.17688691848724641,-0.6815901072186497,1.0068811902031476,-0.7249287664158496,1.260639574558768,-1.8706522064289501,-0.3356525912906959,2.103584889867606,-0.9979577074997757,2.438367757547731,1.1686905285162783,-0.04539467716956318,-0.7488210645618009,-0.2098827083702033,1.915446155820863,-0.7286654018203447,-1.775260560503832,-0.9157484520473814,0.8024599952122615,0.21376414286321263,-1.8531418133632696,-0.9178948593660263,0.6835329294275033,-1.180053104037036,-1.9811348202684034,2.6632609597697994,-0.31509647385055606,1.0502882545253673,1.3067686799343887,-1.1884769183979351,-1.0596758164714324,-1.1007417413655005,-2.74362784480545,-0.33910514421510396,-1.8488200010025406,-0.5091291300867824,-0.6068548376839245,-1.9453284365283685,-0.17663069086763755,-1.0858053240170251,0.670989832944957,6.344026181902545,1.5924557712534457,-1.195994245820148,1.0161850295042696,0.6825468522693344,-0.4790933251954141,0.6586852208280013,-1.2032719330272355,-1.276309173259215,1.9876518890927866,-1.1948336126572372,-0.03806479739138928,-1.7094827222553088,-1.0115382018797046,-1.7345979139088772,-1.5492843578997653,-1.543093120424262,0.7095237221192009,-1.6944555372786008,-0.601659048975693,-2.5640435685885676,-0.12035072613400094,-0.1926192916946573,-0.7352536791599168,-0.7324210643328495,-0.43751994099728875,-0.7360073067271683,1.8913546215091035,0.7900890423237206,-0.5941030972681459,-0.7766990836615264,1.466006500831967,-0.45564357076607587,0.7401989296885879,-0.794143123964978,1.6430623804020685,-0.6651066861633529,0.20336358273848387,-0.6529146386946822,0.20580067644497702,-1.528570821534738,0.7730486904477822,-0.19562918831715598,-1.8732700416021224,0.3576999210018299,-1.929218535376838,-0.5775838782411822,-0.624547966347738,0.5231549588188263,-0.7742640205951608,-0.1458908796599386,1.1627987541458782,0.4172423024611769,-1.5200127871867821,-0.9229574315625989,0.5812628331296297,-0.17620166507508794,-2.252035993750496,0.975676431356758,-0.664874067463911,0.7978826277777475,-0.716332000857925,1.9197357273692712,0.5698918040812425,1.0043016092950388,0.23456307617082978,1.2633564682520249,-1.2637667374823214,0.42134847590417346,0.38071736552376817,-0.6652816321524798,0.8484411946305759,-0.5088832983269281,0.7264975528658766,2.360099454695319,-0.9067556411980118,0.7910869572912753,-0.2348104924106371,-0.15253832059180764,-0.8323199578415412,-1.0883145485601429,0.8856784617801445,1.7343691274294128,1.0791075788784479,-0.2838376174047609,0.38225610281543504,-0.0988221833769684,0.35151040352122137,0.2123476068276212,1.5438491642899492,-1.0541670151946487,1.907390980224446,0.8791188978472033,0.964869149837118,-0.537146492695908,-0.7631267041645775,-0.8978570453986822,1.7928426475041077,-0.7902651941056033,-1.0448361007164217,0.826803175709371,-0.7195516533594025,-1.4567450118314265,0.41991854064274875,-0.967953748603307,-1.7379968852637382,-2.4189887483209,0.41434677177081547,1.1871689007281805,0.6333523389122364,-0.09700919059211757,-2.1618042458482307,-1.4476381561233878,-2.393352217653822,-0.8421165028995935,-0.5400064728929044,-1.2190870030229082,-0.222760371078527,-0.27174180607588355,1.540799788815794,0.057951110244065074,-0.5475211934830752,1.5420162781224864,0.5925531700442664,0.21891767281716448,-0.05831593083055827,-0.6162055026369369,0.261034102213547,0.7791313395914744,-1.4119353513672197,1.5833039157975455,-0.5246898870562258,2.346895637798324,-1.1179883101776644,2.4061400947254246,-0.058163625976736646,1.2141294752486216,0.9000401813147778,0.012820241210675676,0.8448867719719019,-0.46163789269685446,-0.050401667022178784,0.12941293147658128,-0.7024180513177183,0.8685253145061859,-1.3289403752265343,-0.817314934854443,1.3806994593988509,-0.813283734650569,-0.7920131393098316,-1.0469952587096965,-0.9752325342783549,0.3695407966301998,1.1541361494163076,1.4481732726582794,-0.2838562891628211,-1.1080654256202978,3.24016761067354,-1.3924316872452847,2.0785738280037425,-0.193285502491527,-1.3495140177715892,-0.7058212579890137,-1.3465507002628605,-1.217093718475268,-0.820519916877867,1.6448956300065574,-0.09551735544563061,1.0360103056851622,0.6547545066334208,-0.636005541678469,0.273194795465148,0.6891066382323363,0.059499244503247756,0.5934357625778257,1.3616584173614312,0.5511059892067288,-0.9971259076738102,1.5163352340618188,0.017316448719010287,-0.4822712032799644,1.0559200468618393,-0.11399097058555424,-0.23341564906364135,3.0664156889683114,0.464746479131542,0.22019339746110192,-1.7587014252015087,0.1035928595518051,-0.6080107912784712,-1.4984516512857946,0.609916474761915,-2.1375194077848008,-1.0796624287894683,0.07054511254494485,-1.2538404481706156,0.359117492846558,0.6560602913445363,0.27160020889931985,0.1519249496883461,-0.34579252894004997,0.6012245653544596,2.1104489302075184,1.612718753285604,0.22051149899943903,0.6372874463927476,-0.09734276921740684,-1.4038863863871038,-0.6710710407964948,1.2659851382481697,0.9722569290304766,-0.05902654004629144,-1.2833180164832756,1.5300599102190109,-0.373706481012993,-0.13842978781860515,0.39249370117944843,-1.762550709106087,-2.0245772817668324,0.08132637003620939,-0.05797095851983545,0.24815783990606707,0.5635915626140827,0.6807565975852251,-0.43646307519590505,-0.7892674896058737,-0.804138592321408,-1.049093972526704,-0.502280563578086,0.9669149523788078,-0.4873854523902228,-0.5075980519849272,-0.6699118744562572,0.3338956961480949,-0.5094957627345662,-1.5356934515482232,-0.253204092196674,2.2089957576009414,1.782378255148346,0.578021230278514,-1.3278727714621295,-0.09127296692916037,1.023117122605503,-1.2560551898117778,-0.8427999991216378,2.210636801769169,-1.0841270747164966,-0.6562255646863531,1.4752127991633277,-1.477771472179684,1.49740433797499,-0.7098583824823499,-0.2529678735739813,0.8682731418728437,0.19063213689938904,1.18187214290792,-0.572754352560564,0.14507798383231751,0.07553830185830518,-1.3810011163687914,0.8762673660125372,-1.4307198091721711,0.4382027216142209,0.6002699670344,-0.6421104336401093,-0.8208639655334978,1.0344338866751608,0.6870887069223293,-0.2216529060650682,-0.46701396790997257,1.9431566534075253,1.940732052418326,-2.0424053115145235,0.02576952134740145,-0.04362370499586773,1.3380979144964884,0.24582035627684554,0.8622974581456332,0.4822092235430292,-0.48439444119216746,-0.4704179992009881,-0.6075549450533443,-0.2243072819187831,2.4047427672401955,1.5534875080080504,-0.03804891503832643,0.5020420572586549,-2.1735239768647925,-0.47915737383842355,-1.8387747903928227,-1.9172880991699568,1.7819294908113215,-0.22604889841379322,0.5850801911145987,2.7797981076276006,0.8381922020421009,2.358855466419976,-0.7885101024519017,0.41048324325133034,-1.253432544523255,0.438485188985648,-0.927374127883076,0.9407586200678002,-0.36881277254525613,0.1928226462544845,-1.2581624003241498,-0.3085868725535602,-0.22112910857279508,-0.9301407377428197,-1.6342041675132146,0.16014943318282895,-1.2328409400998537,1.1133494510331534,-0.9542718886950856,-1.9865548198855787,-2.3217036402579465,1.4394053761609888,-0.579414489782927,1.6327446310787626,-0.4269249353152483,2.6789412251889453,0.8713596143671916,0.4434804248373765,-1.0101146074467189,-1.3495920126804286,-0.1894623181977372,1.802807653001166,-1.7109492515923872,-1.4773041822943362,0.41548500478257666,0.7445417413126496,1.3624883103444398,-0.43666250454647704,-0.43680118400870954,-0.8796854593259431,1.1054256899226487,-1.1942277686205778,0.6602366842293159,1.08782010980104,-0.8970161777932744,0.0689167609656394,0.6908237485215091,0.09337287657237829,-1.685000411464853,-0.3416197352635326,-0.5333734975102687,-0.26749952353038,1.4134886306746146,1.6348739617002075,1.211601423924348,0.2179772358982223,0.8368336261355266,4.517045800889189,0.5555460276170238,0.5846922099207824,-1.1485728927849939,1.455830693374826,-1.9873803389862816,-2.128587793395364,0.02019949785100831,-1.1248330869599246,1.5715863383976296,1.1672603844053644,1.042382884662354,-0.2004101767941867,0.9982139593453585,1.436779244669485,-1.3522303605514943,0.25772065146614803,1.4551119594356214,-1.4216056735491092,-1.4103722546348434,1.1765723274555933,2.2579395312220467,-0.7757595442977808,1.0522983776085963,-1.461086862056898,-0.8015709440865301,0.33074724607992145,-1.849125220891385,0.6082135966934923,1.7729505252926563,0.34003205398051306,0.5733546471613571,-1.022606270854184,1.605925770612082,-0.03586056193607252,-0.1396611880039549,-0.6951834883460472,-2.142985903938528,-0.8159675092695999,-0.5185607480673133,-0.9757176339517386,-1.7133218638584664,0.3469641432073702,-0.0770170253622673,-0.18742831041525412,-0.8109126073732381,-2.1349965405950027,-2.4846865302896295,-2.4186739960238532,0.5383656046474713,-1.4410970065088133,-1.1321653525367912,-0.3502194951543512,0.4781336057965417,0.2937045697910025,-0.7898319441847839,-1.2189133459008887,-1.8202425303408436,-0.932088156701831,-1.2585711469193377,2.0843026975867605,0.27406897618175824,0.928341823321053,0.6307038570908661,0.24655180222964618,-1.0299876401410075,0.4231831929310679,-0.5185768874913935,-0.11714173081699103,-0.1669501374154951,0.7003838682940791,1.0403987253800822,0.38922194992936876,-0.0706332683581224,1.163528926645993,-0.8958198714214549,-0.06308642799213555,-2.487423865947896,-0.11695403112576128,-1.4031817914811229,-1.820825883061235,-1.459938229129426,-1.1149286158602412,2.514080061491529,0.12267091324121684,-1.948336234428624,-0.1510121002073365,-0.9107490877266261,-1.8481230745505388,0.14732168900995224,0.4709078521703693,-0.37067848328312075,-0.7552951310193842,0.3353315642219344,-0.7000808896287564,1.2871715024193593,0.9418876679878826,1.800224170851667,0.035283790498172284,1.1198976437433115,0.20079880358416874,2.767340840459856,2.1732884763723206,1.48075488697762,-0.0263894619778191,-0.9386899583937551,4.9646287333627,-0.9826047881263298,0.6305514470557186,-0.06282120142227948,1.3675238237047183,-0.36002355709948347,1.9865005358282113,0.9548672942748688,-1.8806691156843687,-0.42651509797301207,0.6308896711783434,-0.7837334665914425,0.15828371034710081,-0.9561245515907926,1.2109677226953584,-0.4975924314145372,1.627479715347803,-0.2757064805487837,0.2178506228044481,1.042520988367672,2.822983295060047,-1.087103214274759,-1.049813056928823,0.01698099560876292,0.5243751028838523,-2.09422922124996,-0.13662039309030596,-1.8886038933272862,1.228871186708493,1.425133273878704,-0.29671551812134245,0.37428296496209307,-0.5342643990085042,-1.2397168709639192,0.8579535827900483,-0.39286744293206854,-0.006647963794628891,0.48965332945489004,-0.8445388821121789,1.3977257135900694,1.1117157291130664,-0.3764114719869428,1.1612385566723697,2.5196122888010883,0.7472283463920891,1.3817413942145997,-0.5161216817270355,3.5378581023039524,0.18989925931315055,-2.0322462958759258,-0.40849899351208846,0.7191322962989268,-0.23897729239002816,-1.0413702724822733,2.7083714776945085,-0.5260965525887652,-0.4897006044309915,-0.11874541176042515,-1.5781829203216036,-0.39135363147783453,0.7271548224312496,-0.9180623123523581,0.29565663108910195,-1.4458428112098232,0.00803280459367244,-0.33753145665760753,-1.298020479478734,-0.9516608510871061,1.5634313770111936,0.4733085486586656,2.2537817765118056,-0.7700605706762205,-1.441430519538635,-1.2485288773076373,-1.7581416337178661,1.3681045179900841,0.22364080133440425,0.9447664244111798,0.6137936595676016,0.27592031511696613,-0.25870638845561467,-0.47204017017098143,-0.7396564463831774,0.122070662265505,-1.2069544553613083,-1.0087061145816316,-0.5822248000134735,2.5311658039679714,-2.1968940748684225,0.30621120392267687,1.853687247983915,0.8620819189284571,-0.7180821806509271,0.30856073879534607,0.604513876840208,1.391439927241823,-0.5858593454419816,-2.2695189260868824,1.6108627199806633,-0.8747437924179661,-0.32381565294932874,-0.8166251008788065,1.2154457625763972,-1.1547294413270253,0.9055981614573085,1.06612688569131,-1.8112134524696843,2.458783074986655,-0.708233812682905,-2.6371346426760596,-0.5657658427476087,1.7128110856026666,-0.008410409682274916,-2.594322420823834,-1.4093926108758374,-0.20156987920144215,-1.3484954376692846,0.4434175301184061,-0.9326732649784395,0.8547817612605152,-1.1058837951569924,-0.8756187043940683,-0.2821110724630613,0.27999952367400555,0.4284115720639375,-1.2804809216972999,-0.1139091639582485,-0.4621060577429563,0.1939611971011662,-0.6420218329251602,2.8924275906495343,2.205053439367295,-0.33478021863034996,2.443555148421099,0.07368406831764371,-0.8647340780966976,-0.2245480832767599,-2.0852693179400634,-1.0046400632029922,0.06528842788978248,-1.1842888962544034,1.6871831485117115,-0.2002559435076005,-1.3991451055923179,2.4788301618648565,1.3792085802495881,-0.5021607627425642,0.968602873279818,-2.713353160217462,-1.301866031669446,-0.8153101885265618,1.2598914755928246,-0.46423508344863773,-0.06507171659549611,-0.2250051809156028,-2.3443215057932254,0.8873309256762623,-2.239595384286764,-0.8863186579086982,2.1976951224161105,-0.2127014073722446,-0.49324284233267457,-0.2475686361823135,-1.0283339094715438,2.8580019995539248,1.4307112074515682,-0.009279054903295574,-0.09904242067194184,0.32663627222702435,-0.9812720361034779,0.42418414576086366,-1.231885994749762,-0.9545642187668621,-0.5947698000599018,0.49236131273580064,-0.12000694014719239,0.1722942217029319,1.0713216955685438,0.7435346156781677,-0.35004172018102586,-0.7217749765407213,-0.8556786747482404,-1.2174132572578413,-1.484485956623653,3.981286774804117,3.2954456983652887,-0.47554772232907966,3.9671331446786513,0.7681911878385006,-0.5559712975703924,-1.9374479777777254,0.2768764629961788,-1.49310961216107,-0.3319201579262578,-0.8493054916390067,-0.8595156537486076,-1.4246448591186296,0.309316924042398,-1.5151697277245197,0.5749852753233471,-0.5625431030133629,-0.38730219478566,-0.5853785950101029,-0.15199904987610416,-1.0863808300607605,-0.8388328074025573,-0.8185455574777302,1.6612838903537968,-1.5924072067994288,0.014047542430210991,-1.550840717697419,-0.04688495416151413,1.1940039958213267,3.7898305637834686,3.709252146446747,-0.09831816977365518,2.548744997840055,0.353334879617571,-0.25078348073973655,0.16349370173318703,-1.5232494028862276,-0.8316119937457019,-0.05968402028089517,-0.22299030045370516,1.3150458488178842,0.11076585832381099,-0.617921746120943,0.8963818024495422,-1.2558425322408064,-1.147980045542254,0.5149233051469678,-0.04213747887413223,-0.4926861255947461,1.0757095727173223,0.3634958405860233,1.931088777458116,0.05473265192207459,1.738916617810238,1.3179640442152816,0.7560370312800584,0.3318163870554418,0.6510801364088249,-1.4848010353845453,0.6405428834606343,0.2869091673461822,-0.07623157554635562,0.9051504940874586,-0.8989410826850367,-1.7517221071807063,-0.8364388942463525,-0.6847727932223012,-0.24945998659432467,-1.018096487236825,-0.8578044374899901,-0.957539583473081,2.4320984802854526,-1.0811456703517999,-0.6384790093765937,4.112127696173327,-0.6310516580429376,1.1973740950848137,-0.20439884875080436,0.05819563705236211,-2.8132670763580303,0.6504884533014957,-1.9821701776116696,-1.0631697090249899,1.9978835732047266,2.349947412477392,-0.06465653687052386,-0.9249273514607699,4.4669759122044805,-0.9027062990608286,2.2676688363064317,1.575848205742697,2.097054893492798,-0.780424576709032,0.44347889416982056,0.4407376150383458,1.0215360284112094,-1.2883824710225216,-1.53602776281732,1.3123960505950705,0.2018843684664476,3.1303236112616544,-0.4365498502354125,0.24857625130423291,1.1826496733552527,2.2479934276121036,0.24488023646787763,0.7846930434584923,0.10295022805232257,-1.3745287693916093,-0.8110094871332568,-1.6085896947821205,0.5905009210278543,0.16876417395416746,-1.88878940520324,-1.9936323994706213,-1.3844410071614368,0.4397388771047247,-1.1080375767219544,0.7234031477129985,-1.7104778901518791,0.18029149629772592,-0.5403269757004107,1.3461028740843968,1.0075734881905574,0.07294874496589944,-0.7007530804614639,-0.031010502722171925,0.07805010922631574,-0.3783545374181266,1.9945138839316343,1.8938052449748408,-1.0077498104888882,-0.7716298445891482,2.1808079158137965,-1.6838164871295362,0.10092776787987834,0.1494769257680328,0.6531268637597035,-0.5547052149011806,-0.6587160751171601,-1.3687673651661432,-2.1023916982999284,-0.4513191755172201,-0.6768979229240887,-0.05066182588491025,-0.8252891887792915,-1.0742984333238152,-0.16787123600381113,0.8121949851181282,-1.1140891051427024,-0.6008990004485527,1.8088858457354735,-0.3269487772143951,-0.767066971668556,0.03350246784959048,-1.1279250407301797,0.528528891789192,-0.16133281666197033,0.414989520130891,0.011579644430338851,-1.8524230361692802,-0.7276596416755435,0.21815459646061058,-0.03148166904709498,3.051585445712782,-0.5863930654544202,-0.7900841931106511,0.19135658972483485,0.24835921482475065,0.4036667999379154,0.5344975414529348,-0.8595377934637443,-0.9453650038853156,0.6195300891532708,-0.7300434477230862,-1.1066980184904782,-0.2911137089703753,0.8316760934505166,-0.853198662155028,1.0707099859434646,-0.1598566106903604,5.0613529054290565,1.6599141038448417,-1.2127835956321893,1.0949175083913438,-0.6264049235270477,-0.7986078024824341,-1.2287114463178659,1.2330128618315914,-1.1566945912363882,-0.7793803747145656,-1.4014552584180404,1.2784115150276747,1.4652225617075052,-2.043476727215816,0.7538391686860256,0.4550569223387111,-1.3784205055544108,-1.3338206195856106,-1.4461635330573601,0.3669556732581787,-2.671427328989076,-1.1095494736485272,0.11843625847004864,-1.4007856837852313,-0.7205288261891801,-0.12831854213687582,-0.7225597922693927,2.1062084456141714,-1.155447209843295,0.9712316470360928,-1.7637782007710994,0.29987835114577666,-1.558056702488797,-0.9747531091154921,0.6570622106974434,0.07413213925347854,2.106358239850187,-1.33185557505508,0.6406707222564594,0.5752695586612935,-1.8675857164817051,-0.1914888018312436,-1.0611977889580055,-0.14215084890565105,-1.029021236485384,-0.2654469798697445,0.7556128351257579,-1.780806897277221,0.5022235512640515,5.069033167783715,0.7882057160942896,-1.8442572359308502,-0.508701765701235,-1.4420399700545548,-1.1790039410440754,-0.9545314321985845,-0.6571150621226298,0.5107840131267776,5.276713198624731,-1.7068089083338625,0.11894056619068173,-1.0222324122592124,1.4969590827560153,-0.04580824366167594,0.0991051409569477,1.007976802809053,1.2873790893792363,-0.2543134081915556,0.4987214352527271,-0.7503055809641533,1.6517171381194835,-1.3569445849812383,-0.8226709125200606,-0.1462082063166022,0.10658733216162236,-1.6963759624188925,1.307103656160647,-1.2518549792997324,2.955782765636368,-1.064918293511846,-1.1607719575786781,1.7131832201856383,-0.030260228291491567,0.5049531521743058,0.843726143718317,-1.120522348818083,1.3262030651548582,-0.39269317791788105,-1.283964754715661,0.7216672993307408,0.11088811195896456,-0.6791041763951818,-0.6026939706503049],\"yaxis\":\"y\",\"type\":\"scattergl\"}],                        {\"template\":{\"data\":{\"bar\":[{\"error_x\":{\"color\":\"#2a3f5f\"},\"error_y\":{\"color\":\"#2a3f5f\"},\"marker\":{\"line\":{\"color\":\"#E5ECF6\",\"width\":0.5},\"pattern\":{\"fillmode\":\"overlay\",\"size\":10,\"solidity\":0.2}},\"type\":\"bar\"}],\"barpolar\":[{\"marker\":{\"line\":{\"color\":\"#E5ECF6\",\"width\":0.5},\"pattern\":{\"fillmode\":\"overlay\",\"size\":10,\"solidity\":0.2}},\"type\":\"barpolar\"}],\"carpet\":[{\"aaxis\":{\"endlinecolor\":\"#2a3f5f\",\"gridcolor\":\"white\",\"linecolor\":\"white\",\"minorgridcolor\":\"white\",\"startlinecolor\":\"#2a3f5f\"},\"baxis\":{\"endlinecolor\":\"#2a3f5f\",\"gridcolor\":\"white\",\"linecolor\":\"white\",\"minorgridcolor\":\"white\",\"startlinecolor\":\"#2a3f5f\"},\"type\":\"carpet\"}],\"choropleth\":[{\"colorbar\":{\"outlinewidth\":0,\"ticks\":\"\"},\"type\":\"choropleth\"}],\"contour\":[{\"colorbar\":{\"outlinewidth\":0,\"ticks\":\"\"},\"colorscale\":[[0.0,\"#0d0887\"],[0.1111111111111111,\"#46039f\"],[0.2222222222222222,\"#7201a8\"],[0.3333333333333333,\"#9c179e\"],[0.4444444444444444,\"#bd3786\"],[0.5555555555555556,\"#d8576b\"],[0.6666666666666666,\"#ed7953\"],[0.7777777777777778,\"#fb9f3a\"],[0.8888888888888888,\"#fdca26\"],[1.0,\"#f0f921\"]],\"type\":\"contour\"}],\"contourcarpet\":[{\"colorbar\":{\"outlinewidth\":0,\"ticks\":\"\"},\"type\":\"contourcarpet\"}],\"heatmap\":[{\"colorbar\":{\"outlinewidth\":0,\"ticks\":\"\"},\"colorscale\":[[0.0,\"#0d0887\"],[0.1111111111111111,\"#46039f\"],[0.2222222222222222,\"#7201a8\"],[0.3333333333333333,\"#9c179e\"],[0.4444444444444444,\"#bd3786\"],[0.5555555555555556,\"#d8576b\"],[0.6666666666666666,\"#ed7953\"],[0.7777777777777778,\"#fb9f3a\"],[0.8888888888888888,\"#fdca26\"],[1.0,\"#f0f921\"]],\"type\":\"heatmap\"}],\"heatmapgl\":[{\"colorbar\":{\"outlinewidth\":0,\"ticks\":\"\"},\"colorscale\":[[0.0,\"#0d0887\"],[0.1111111111111111,\"#46039f\"],[0.2222222222222222,\"#7201a8\"],[0.3333333333333333,\"#9c179e\"],[0.4444444444444444,\"#bd3786\"],[0.5555555555555556,\"#d8576b\"],[0.6666666666666666,\"#ed7953\"],[0.7777777777777778,\"#fb9f3a\"],[0.8888888888888888,\"#fdca26\"],[1.0,\"#f0f921\"]],\"type\":\"heatmapgl\"}],\"histogram\":[{\"marker\":{\"pattern\":{\"fillmode\":\"overlay\",\"size\":10,\"solidity\":0.2}},\"type\":\"histogram\"}],\"histogram2d\":[{\"colorbar\":{\"outlinewidth\":0,\"ticks\":\"\"},\"colorscale\":[[0.0,\"#0d0887\"],[0.1111111111111111,\"#46039f\"],[0.2222222222222222,\"#7201a8\"],[0.3333333333333333,\"#9c179e\"],[0.4444444444444444,\"#bd3786\"],[0.5555555555555556,\"#d8576b\"],[0.6666666666666666,\"#ed7953\"],[0.7777777777777778,\"#fb9f3a\"],[0.8888888888888888,\"#fdca26\"],[1.0,\"#f0f921\"]],\"type\":\"histogram2d\"}],\"histogram2dcontour\":[{\"colorbar\":{\"outlinewidth\":0,\"ticks\":\"\"},\"colorscale\":[[0.0,\"#0d0887\"],[0.1111111111111111,\"#46039f\"],[0.2222222222222222,\"#7201a8\"],[0.3333333333333333,\"#9c179e\"],[0.4444444444444444,\"#bd3786\"],[0.5555555555555556,\"#d8576b\"],[0.6666666666666666,\"#ed7953\"],[0.7777777777777778,\"#fb9f3a\"],[0.8888888888888888,\"#fdca26\"],[1.0,\"#f0f921\"]],\"type\":\"histogram2dcontour\"}],\"mesh3d\":[{\"colorbar\":{\"outlinewidth\":0,\"ticks\":\"\"},\"type\":\"mesh3d\"}],\"parcoords\":[{\"line\":{\"colorbar\":{\"outlinewidth\":0,\"ticks\":\"\"}},\"type\":\"parcoords\"}],\"pie\":[{\"automargin\":true,\"type\":\"pie\"}],\"scatter\":[{\"marker\":{\"colorbar\":{\"outlinewidth\":0,\"ticks\":\"\"}},\"type\":\"scatter\"}],\"scatter3d\":[{\"line\":{\"colorbar\":{\"outlinewidth\":0,\"ticks\":\"\"}},\"marker\":{\"colorbar\":{\"outlinewidth\":0,\"ticks\":\"\"}},\"type\":\"scatter3d\"}],\"scattercarpet\":[{\"marker\":{\"colorbar\":{\"outlinewidth\":0,\"ticks\":\"\"}},\"type\":\"scattercarpet\"}],\"scattergeo\":[{\"marker\":{\"colorbar\":{\"outlinewidth\":0,\"ticks\":\"\"}},\"type\":\"scattergeo\"}],\"scattergl\":[{\"marker\":{\"colorbar\":{\"outlinewidth\":0,\"ticks\":\"\"}},\"type\":\"scattergl\"}],\"scattermapbox\":[{\"marker\":{\"colorbar\":{\"outlinewidth\":0,\"ticks\":\"\"}},\"type\":\"scattermapbox\"}],\"scatterpolar\":[{\"marker\":{\"colorbar\":{\"outlinewidth\":0,\"ticks\":\"\"}},\"type\":\"scatterpolar\"}],\"scatterpolargl\":[{\"marker\":{\"colorbar\":{\"outlinewidth\":0,\"ticks\":\"\"}},\"type\":\"scatterpolargl\"}],\"scatterternary\":[{\"marker\":{\"colorbar\":{\"outlinewidth\":0,\"ticks\":\"\"}},\"type\":\"scatterternary\"}],\"surface\":[{\"colorbar\":{\"outlinewidth\":0,\"ticks\":\"\"},\"colorscale\":[[0.0,\"#0d0887\"],[0.1111111111111111,\"#46039f\"],[0.2222222222222222,\"#7201a8\"],[0.3333333333333333,\"#9c179e\"],[0.4444444444444444,\"#bd3786\"],[0.5555555555555556,\"#d8576b\"],[0.6666666666666666,\"#ed7953\"],[0.7777777777777778,\"#fb9f3a\"],[0.8888888888888888,\"#fdca26\"],[1.0,\"#f0f921\"]],\"type\":\"surface\"}],\"table\":[{\"cells\":{\"fill\":{\"color\":\"#EBF0F8\"},\"line\":{\"color\":\"white\"}},\"header\":{\"fill\":{\"color\":\"#C8D4E3\"},\"line\":{\"color\":\"white\"}},\"type\":\"table\"}]},\"layout\":{\"annotationdefaults\":{\"arrowcolor\":\"#2a3f5f\",\"arrowhead\":0,\"arrowwidth\":1},\"autotypenumbers\":\"strict\",\"coloraxis\":{\"colorbar\":{\"outlinewidth\":0,\"ticks\":\"\"}},\"colorscale\":{\"diverging\":[[0,\"#8e0152\"],[0.1,\"#c51b7d\"],[0.2,\"#de77ae\"],[0.3,\"#f1b6da\"],[0.4,\"#fde0ef\"],[0.5,\"#f7f7f7\"],[0.6,\"#e6f5d0\"],[0.7,\"#b8e186\"],[0.8,\"#7fbc41\"],[0.9,\"#4d9221\"],[1,\"#276419\"]],\"sequential\":[[0.0,\"#0d0887\"],[0.1111111111111111,\"#46039f\"],[0.2222222222222222,\"#7201a8\"],[0.3333333333333333,\"#9c179e\"],[0.4444444444444444,\"#bd3786\"],[0.5555555555555556,\"#d8576b\"],[0.6666666666666666,\"#ed7953\"],[0.7777777777777778,\"#fb9f3a\"],[0.8888888888888888,\"#fdca26\"],[1.0,\"#f0f921\"]],\"sequentialminus\":[[0.0,\"#0d0887\"],[0.1111111111111111,\"#46039f\"],[0.2222222222222222,\"#7201a8\"],[0.3333333333333333,\"#9c179e\"],[0.4444444444444444,\"#bd3786\"],[0.5555555555555556,\"#d8576b\"],[0.6666666666666666,\"#ed7953\"],[0.7777777777777778,\"#fb9f3a\"],[0.8888888888888888,\"#fdca26\"],[1.0,\"#f0f921\"]]},\"colorway\":[\"#636efa\",\"#EF553B\",\"#00cc96\",\"#ab63fa\",\"#FFA15A\",\"#19d3f3\",\"#FF6692\",\"#B6E880\",\"#FF97FF\",\"#FECB52\"],\"font\":{\"color\":\"#2a3f5f\"},\"geo\":{\"bgcolor\":\"white\",\"lakecolor\":\"white\",\"landcolor\":\"#E5ECF6\",\"showlakes\":true,\"showland\":true,\"subunitcolor\":\"white\"},\"hoverlabel\":{\"align\":\"left\"},\"hovermode\":\"closest\",\"mapbox\":{\"style\":\"light\"},\"paper_bgcolor\":\"white\",\"plot_bgcolor\":\"#E5ECF6\",\"polar\":{\"angularaxis\":{\"gridcolor\":\"white\",\"linecolor\":\"white\",\"ticks\":\"\"},\"bgcolor\":\"#E5ECF6\",\"radialaxis\":{\"gridcolor\":\"white\",\"linecolor\":\"white\",\"ticks\":\"\"}},\"scene\":{\"xaxis\":{\"backgroundcolor\":\"#E5ECF6\",\"gridcolor\":\"white\",\"gridwidth\":2,\"linecolor\":\"white\",\"showbackground\":true,\"ticks\":\"\",\"zerolinecolor\":\"white\"},\"yaxis\":{\"backgroundcolor\":\"#E5ECF6\",\"gridcolor\":\"white\",\"gridwidth\":2,\"linecolor\":\"white\",\"showbackground\":true,\"ticks\":\"\",\"zerolinecolor\":\"white\"},\"zaxis\":{\"backgroundcolor\":\"#E5ECF6\",\"gridcolor\":\"white\",\"gridwidth\":2,\"linecolor\":\"white\",\"showbackground\":true,\"ticks\":\"\",\"zerolinecolor\":\"white\"}},\"shapedefaults\":{\"line\":{\"color\":\"#2a3f5f\"}},\"ternary\":{\"aaxis\":{\"gridcolor\":\"white\",\"linecolor\":\"white\",\"ticks\":\"\"},\"baxis\":{\"gridcolor\":\"white\",\"linecolor\":\"white\",\"ticks\":\"\"},\"bgcolor\":\"#E5ECF6\",\"caxis\":{\"gridcolor\":\"white\",\"linecolor\":\"white\",\"ticks\":\"\"}},\"title\":{\"x\":0.05},\"xaxis\":{\"automargin\":true,\"gridcolor\":\"white\",\"linecolor\":\"white\",\"ticks\":\"\",\"title\":{\"standoff\":15},\"zerolinecolor\":\"white\",\"zerolinewidth\":2},\"yaxis\":{\"automargin\":true,\"gridcolor\":\"white\",\"linecolor\":\"white\",\"ticks\":\"\",\"title\":{\"standoff\":15},\"zerolinecolor\":\"white\",\"zerolinewidth\":2}}},\"xaxis\":{\"anchor\":\"y\",\"domain\":[0.0,1.0],\"title\":{\"text\":\"x\"}},\"yaxis\":{\"anchor\":\"x\",\"domain\":[0.0,1.0],\"title\":{\"text\":\"y\"}},\"coloraxis\":{\"colorbar\":{\"title\":{\"text\":\"cluster\"}},\"colorscale\":[[0.0,\"#0d0887\"],[0.1111111111111111,\"#46039f\"],[0.2222222222222222,\"#7201a8\"],[0.3333333333333333,\"#9c179e\"],[0.4444444444444444,\"#bd3786\"],[0.5555555555555556,\"#d8576b\"],[0.6666666666666666,\"#ed7953\"],[0.7777777777777778,\"#fb9f3a\"],[0.8888888888888888,\"#fdca26\"],[1.0,\"#f0f921\"]]},\"legend\":{\"tracegroupgap\":0},\"margin\":{\"t\":60}},                        {\"responsive\": true}                    ).then(function(){\n",
       "                            \n",
       "var gd = document.getElementById('91040aad-4385-4566-b60c-597a6568526b');\n",
       "var x = new MutationObserver(function (mutations, observer) {{\n",
       "        var display = window.getComputedStyle(gd).display;\n",
       "        if (!display || display === 'none') {{\n",
       "            console.log([gd, 'removed!']);\n",
       "            Plotly.purge(gd);\n",
       "            observer.disconnect();\n",
       "        }}\n",
       "}});\n",
       "\n",
       "// Listen for the removal of the full notebook cells\n",
       "var notebookContainer = gd.closest('#notebook-container');\n",
       "if (notebookContainer) {{\n",
       "    x.observe(notebookContainer, {childList: true});\n",
       "}}\n",
       "\n",
       "// Listen for the clearing of the current output cell\n",
       "var outputEl = gd.closest('.output');\n",
       "if (outputEl) {{\n",
       "    x.observe(outputEl, {childList: true});\n",
       "}}\n",
       "\n",
       "                        })                };                });            </script>        </div>"
      ]
     },
     "metadata": {},
     "output_type": "display_data"
    }
   ],
   "source": [
    "pca_pipeline = Pipeline([('scaler', StandardScaler()), ('PCA', PCA(n_components=2))])\n",
    "song_embedding = pca_pipeline.fit_transform(X)\n",
    "projection = pd.DataFrame(columns=['x', 'y'], data=song_embedding)\n",
    "projection['title'] = clean_data['song_name']\n",
    "projection['cluster'] = clean_data['cluster_label']\n",
    "\n",
    "fig = px.scatter(\n",
    "    projection, x='x', y='y', color='cluster', hover_data=['x', 'y', 'title'])\n",
    "fig.show()"
   ]
  },
  {
   "cell_type": "code",
   "execution_count": null,
   "id": "25858456",
   "metadata": {},
   "outputs": [],
   "source": []
  },
  {
   "cell_type": "code",
   "execution_count": null,
   "id": "347a6832",
   "metadata": {},
   "outputs": [],
   "source": []
  },
  {
   "cell_type": "code",
   "execution_count": null,
   "id": "cc79059d",
   "metadata": {},
   "outputs": [],
   "source": []
  }
 ],
 "metadata": {
  "kernelspec": {
   "display_name": "Python 3 (ipykernel)",
   "language": "python",
   "name": "python3"
  },
  "language_info": {
   "codemirror_mode": {
    "name": "ipython",
    "version": 3
   },
   "file_extension": ".py",
   "mimetype": "text/x-python",
   "name": "python",
   "nbconvert_exporter": "python",
   "pygments_lexer": "ipython3",
   "version": "3.9.12"
  }
 },
 "nbformat": 4,
 "nbformat_minor": 5
}
