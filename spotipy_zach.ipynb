{
 "cells": [
  {
   "cell_type": "code",
   "execution_count": 1,
   "id": "98fe7866",
   "metadata": {},
   "outputs": [],
   "source": [
    "import os\n",
    "import numpy as np\n",
    "import pandas as pd\n",
    "\n",
    "import seaborn as sns\n",
    "import plotly.express as px \n",
    "import matplotlib.pyplot as plt\n",
    "\n",
    "from sklearn.cluster import KMeans\n",
    "from sklearn.preprocessing import StandardScaler\n",
    "from sklearn.pipeline import Pipeline\n",
    "from sklearn.manifold import TSNE\n",
    "from sklearn.decomposition import PCA\n",
    "from sklearn.metrics import euclidean_distances\n",
    "from scipy.spatial.distance import cdist\n",
    "\n",
    "import warnings\n",
    "warnings.filterwarnings(\"ignore\")"
   ]
  },
  {
   "cell_type": "code",
   "execution_count": 3,
   "id": "a2340e1c",
   "metadata": {},
   "outputs": [
    {
     "data": {
      "text/html": [
       "<div>\n",
       "<style scoped>\n",
       "    .dataframe tbody tr th:only-of-type {\n",
       "        vertical-align: middle;\n",
       "    }\n",
       "\n",
       "    .dataframe tbody tr th {\n",
       "        vertical-align: top;\n",
       "    }\n",
       "\n",
       "    .dataframe thead th {\n",
       "        text-align: right;\n",
       "    }\n",
       "</style>\n",
       "<table border=\"1\" class=\"dataframe\">\n",
       "  <thead>\n",
       "    <tr style=\"text-align: right;\">\n",
       "      <th></th>\n",
       "      <th>Unnamed: 0</th>\n",
       "      <th>danceability</th>\n",
       "      <th>energy</th>\n",
       "      <th>key</th>\n",
       "      <th>loudness</th>\n",
       "      <th>mode</th>\n",
       "      <th>speechiness</th>\n",
       "      <th>acousticness</th>\n",
       "      <th>instrumentalness</th>\n",
       "      <th>liveness</th>\n",
       "      <th>...</th>\n",
       "      <th>uri</th>\n",
       "      <th>track_href</th>\n",
       "      <th>analysis_url</th>\n",
       "      <th>duration_ms</th>\n",
       "      <th>time_signature</th>\n",
       "      <th>song_name</th>\n",
       "      <th>artist_name</th>\n",
       "      <th>artist_genres</th>\n",
       "      <th>artist_pop</th>\n",
       "      <th>song_popularity</th>\n",
       "    </tr>\n",
       "  </thead>\n",
       "  <tbody>\n",
       "    <tr>\n",
       "      <th>0</th>\n",
       "      <td>0</td>\n",
       "      <td>0.482</td>\n",
       "      <td>0.721</td>\n",
       "      <td>0</td>\n",
       "      <td>-6.839</td>\n",
       "      <td>1</td>\n",
       "      <td>0.0321</td>\n",
       "      <td>0.731000</td>\n",
       "      <td>0.000000</td>\n",
       "      <td>0.1890</td>\n",
       "      <td>...</td>\n",
       "      <td>spotify:track:3AhXZa8sUQht0UEdBJgpGc</td>\n",
       "      <td>https://api.spotify.com/v1/tracks/3AhXZa8sUQht...</td>\n",
       "      <td>https://api.spotify.com/v1/audio-analysis/3AhX...</td>\n",
       "      <td>369600</td>\n",
       "      <td>4</td>\n",
       "      <td>Like a Rolling Stone</td>\n",
       "      <td>Bob Dylan</td>\n",
       "      <td>['classic rock', 'country rock', 'folk', 'folk...</td>\n",
       "      <td>72</td>\n",
       "      <td>68</td>\n",
       "    </tr>\n",
       "    <tr>\n",
       "      <th>1</th>\n",
       "      <td>1</td>\n",
       "      <td>0.485</td>\n",
       "      <td>0.863</td>\n",
       "      <td>1</td>\n",
       "      <td>-9.027</td>\n",
       "      <td>1</td>\n",
       "      <td>0.0495</td>\n",
       "      <td>0.000012</td>\n",
       "      <td>0.016200</td>\n",
       "      <td>0.1380</td>\n",
       "      <td>...</td>\n",
       "      <td>spotify:track:3oTlkzk1OtrhH8wBAduVEi</td>\n",
       "      <td>https://api.spotify.com/v1/tracks/3oTlkzk1Otrh...</td>\n",
       "      <td>https://api.spotify.com/v1/audio-analysis/3oTl...</td>\n",
       "      <td>300977</td>\n",
       "      <td>4</td>\n",
       "      <td>Smells Like Teen Spirit</td>\n",
       "      <td>Nirvana</td>\n",
       "      <td>['grunge', 'permanent wave', 'rock']</td>\n",
       "      <td>82</td>\n",
       "      <td>0</td>\n",
       "    </tr>\n",
       "    <tr>\n",
       "      <th>2</th>\n",
       "      <td>2</td>\n",
       "      <td>0.364</td>\n",
       "      <td>0.457</td>\n",
       "      <td>4</td>\n",
       "      <td>-14.162</td>\n",
       "      <td>0</td>\n",
       "      <td>0.0675</td>\n",
       "      <td>0.290000</td>\n",
       "      <td>0.000106</td>\n",
       "      <td>0.9220</td>\n",
       "      <td>...</td>\n",
       "      <td>spotify:track:3ZFBeIyP41HhnALjxWy1pR</td>\n",
       "      <td>https://api.spotify.com/v1/tracks/3ZFBeIyP41Hh...</td>\n",
       "      <td>https://api.spotify.com/v1/audio-analysis/3ZFB...</td>\n",
       "      <td>337413</td>\n",
       "      <td>4</td>\n",
       "      <td>A Day In The Life - Remastered</td>\n",
       "      <td>The Beatles</td>\n",
       "      <td>['beatlesque', 'british invasion', 'classic ro...</td>\n",
       "      <td>84</td>\n",
       "      <td>0</td>\n",
       "    </tr>\n",
       "    <tr>\n",
       "      <th>3</th>\n",
       "      <td>3</td>\n",
       "      <td>0.398</td>\n",
       "      <td>0.413</td>\n",
       "      <td>1</td>\n",
       "      <td>-10.934</td>\n",
       "      <td>1</td>\n",
       "      <td>0.0388</td>\n",
       "      <td>0.082200</td>\n",
       "      <td>0.000025</td>\n",
       "      <td>0.0891</td>\n",
       "      <td>...</td>\n",
       "      <td>spotify:track:5Qt4Cc66g24QWwGP3YYV9y</td>\n",
       "      <td>https://api.spotify.com/v1/tracks/5Qt4Cc66g24Q...</td>\n",
       "      <td>https://api.spotify.com/v1/audio-analysis/5Qt4...</td>\n",
       "      <td>219147</td>\n",
       "      <td>4</td>\n",
       "      <td>Good Vibrations (Mono)</td>\n",
       "      <td>The Beach Boys</td>\n",
       "      <td>['baroque pop', 'classic rock', 'psychedelic r...</td>\n",
       "      <td>78</td>\n",
       "      <td>20</td>\n",
       "    </tr>\n",
       "    <tr>\n",
       "      <th>4</th>\n",
       "      <td>4</td>\n",
       "      <td>0.518</td>\n",
       "      <td>0.756</td>\n",
       "      <td>10</td>\n",
       "      <td>-10.851</td>\n",
       "      <td>1</td>\n",
       "      <td>0.0915</td>\n",
       "      <td>0.735000</td>\n",
       "      <td>0.000062</td>\n",
       "      <td>0.3170</td>\n",
       "      <td>...</td>\n",
       "      <td>spotify:track:7MH2ZclofPlTrZOkPzZKhK</td>\n",
       "      <td>https://api.spotify.com/v1/tracks/7MH2ZclofPlT...</td>\n",
       "      <td>https://api.spotify.com/v1/audio-analysis/7MH2...</td>\n",
       "      <td>160893</td>\n",
       "      <td>4</td>\n",
       "      <td>Johnny B Goode</td>\n",
       "      <td>Chuck Berry</td>\n",
       "      <td>['classic rock', 'rock', 'rock-and-roll', 'roc...</td>\n",
       "      <td>75</td>\n",
       "      <td>0</td>\n",
       "    </tr>\n",
       "    <tr>\n",
       "      <th>...</th>\n",
       "      <td>...</td>\n",
       "      <td>...</td>\n",
       "      <td>...</td>\n",
       "      <td>...</td>\n",
       "      <td>...</td>\n",
       "      <td>...</td>\n",
       "      <td>...</td>\n",
       "      <td>...</td>\n",
       "      <td>...</td>\n",
       "      <td>...</td>\n",
       "      <td>...</td>\n",
       "      <td>...</td>\n",
       "      <td>...</td>\n",
       "      <td>...</td>\n",
       "      <td>...</td>\n",
       "      <td>...</td>\n",
       "      <td>...</td>\n",
       "      <td>...</td>\n",
       "      <td>...</td>\n",
       "      <td>...</td>\n",
       "      <td>...</td>\n",
       "    </tr>\n",
       "    <tr>\n",
       "      <th>1094</th>\n",
       "      <td>1094</td>\n",
       "      <td>0.509</td>\n",
       "      <td>0.680</td>\n",
       "      <td>5</td>\n",
       "      <td>-8.354</td>\n",
       "      <td>1</td>\n",
       "      <td>0.0372</td>\n",
       "      <td>0.360000</td>\n",
       "      <td>0.000000</td>\n",
       "      <td>0.0824</td>\n",
       "      <td>...</td>\n",
       "      <td>spotify:track:7tJQ4Ekp2vN3NlI3vJJW3v</td>\n",
       "      <td>https://api.spotify.com/v1/tracks/7tJQ4Ekp2vN3...</td>\n",
       "      <td>https://api.spotify.com/v1/audio-analysis/7tJQ...</td>\n",
       "      <td>185200</td>\n",
       "      <td>4</td>\n",
       "      <td>I Want You</td>\n",
       "      <td>Bob Dylan</td>\n",
       "      <td>['classic rock', 'country rock', 'folk', 'folk...</td>\n",
       "      <td>72</td>\n",
       "      <td>56</td>\n",
       "    </tr>\n",
       "    <tr>\n",
       "      <th>1095</th>\n",
       "      <td>1095</td>\n",
       "      <td>0.612</td>\n",
       "      <td>0.668</td>\n",
       "      <td>6</td>\n",
       "      <td>-6.143</td>\n",
       "      <td>0</td>\n",
       "      <td>0.0302</td>\n",
       "      <td>0.057900</td>\n",
       "      <td>0.044500</td>\n",
       "      <td>0.3410</td>\n",
       "      <td>...</td>\n",
       "      <td>spotify:track:6EaHDsTWNNJRkCMtptSE6n</td>\n",
       "      <td>https://api.spotify.com/v1/tracks/6EaHDsTWNNJR...</td>\n",
       "      <td>https://api.spotify.com/v1/audio-analysis/6EaH...</td>\n",
       "      <td>315200</td>\n",
       "      <td>4</td>\n",
       "      <td>The Suburbs</td>\n",
       "      <td>Arcade Fire</td>\n",
       "      <td>['baroque pop', 'canadian indie', 'indie rock'...</td>\n",
       "      <td>66</td>\n",
       "      <td>0</td>\n",
       "    </tr>\n",
       "    <tr>\n",
       "      <th>1096</th>\n",
       "      <td>1096</td>\n",
       "      <td>0.651</td>\n",
       "      <td>0.944</td>\n",
       "      <td>2</td>\n",
       "      <td>-5.480</td>\n",
       "      <td>1</td>\n",
       "      <td>0.0381</td>\n",
       "      <td>0.085500</td>\n",
       "      <td>0.145000</td>\n",
       "      <td>0.1160</td>\n",
       "      <td>...</td>\n",
       "      <td>spotify:track:5mWhSQfWEeBZD9YTd4yyFc</td>\n",
       "      <td>https://api.spotify.com/v1/tracks/5mWhSQfWEeBZ...</td>\n",
       "      <td>https://api.spotify.com/v1/audio-analysis/5mWh...</td>\n",
       "      <td>263440</td>\n",
       "      <td>4</td>\n",
       "      <td>Dum Surfer</td>\n",
       "      <td>King Krule</td>\n",
       "      <td>['uk alternative pop']</td>\n",
       "      <td>60</td>\n",
       "      <td>3</td>\n",
       "    </tr>\n",
       "    <tr>\n",
       "      <th>1097</th>\n",
       "      <td>1097</td>\n",
       "      <td>0.492</td>\n",
       "      <td>0.194</td>\n",
       "      <td>6</td>\n",
       "      <td>-14.073</td>\n",
       "      <td>1</td>\n",
       "      <td>0.0577</td>\n",
       "      <td>0.984000</td>\n",
       "      <td>0.104000</td>\n",
       "      <td>0.1820</td>\n",
       "      <td>...</td>\n",
       "      <td>spotify:track:5iltwljBW1H5ScLeeiB9ZB</td>\n",
       "      <td>https://api.spotify.com/v1/tracks/5iltwljBW1H5...</td>\n",
       "      <td>https://api.spotify.com/v1/audio-analysis/5ilt...</td>\n",
       "      <td>203373</td>\n",
       "      <td>4</td>\n",
       "      <td>Black and Tan Fantasy</td>\n",
       "      <td>Duke Ellington &amp; His Washingtonians</td>\n",
       "      <td>['hot jazz']</td>\n",
       "      <td>18</td>\n",
       "      <td>11</td>\n",
       "    </tr>\n",
       "    <tr>\n",
       "      <th>1098</th>\n",
       "      <td>1098</td>\n",
       "      <td>0.589</td>\n",
       "      <td>0.713</td>\n",
       "      <td>0</td>\n",
       "      <td>-6.064</td>\n",
       "      <td>1</td>\n",
       "      <td>0.0407</td>\n",
       "      <td>0.093700</td>\n",
       "      <td>0.001030</td>\n",
       "      <td>0.0568</td>\n",
       "      <td>...</td>\n",
       "      <td>spotify:track:52MN1t40XkISi6QtVzVDJO</td>\n",
       "      <td>https://api.spotify.com/v1/tracks/52MN1t40XkIS...</td>\n",
       "      <td>https://api.spotify.com/v1/audio-analysis/52MN...</td>\n",
       "      <td>203173</td>\n",
       "      <td>4</td>\n",
       "      <td>Our House (Remastered)</td>\n",
       "      <td>Madness</td>\n",
       "      <td>['ska', 'ska revival']</td>\n",
       "      <td>61</td>\n",
       "      <td>0</td>\n",
       "    </tr>\n",
       "  </tbody>\n",
       "</table>\n",
       "<p>1099 rows × 24 columns</p>\n",
       "</div>"
      ],
      "text/plain": [
       "      Unnamed: 0  danceability  energy  key  loudness  mode  speechiness  \\\n",
       "0              0         0.482   0.721    0    -6.839     1       0.0321   \n",
       "1              1         0.485   0.863    1    -9.027     1       0.0495   \n",
       "2              2         0.364   0.457    4   -14.162     0       0.0675   \n",
       "3              3         0.398   0.413    1   -10.934     1       0.0388   \n",
       "4              4         0.518   0.756   10   -10.851     1       0.0915   \n",
       "...          ...           ...     ...  ...       ...   ...          ...   \n",
       "1094        1094         0.509   0.680    5    -8.354     1       0.0372   \n",
       "1095        1095         0.612   0.668    6    -6.143     0       0.0302   \n",
       "1096        1096         0.651   0.944    2    -5.480     1       0.0381   \n",
       "1097        1097         0.492   0.194    6   -14.073     1       0.0577   \n",
       "1098        1098         0.589   0.713    0    -6.064     1       0.0407   \n",
       "\n",
       "      acousticness  instrumentalness  liveness  ...  \\\n",
       "0         0.731000          0.000000    0.1890  ...   \n",
       "1         0.000012          0.016200    0.1380  ...   \n",
       "2         0.290000          0.000106    0.9220  ...   \n",
       "3         0.082200          0.000025    0.0891  ...   \n",
       "4         0.735000          0.000062    0.3170  ...   \n",
       "...            ...               ...       ...  ...   \n",
       "1094      0.360000          0.000000    0.0824  ...   \n",
       "1095      0.057900          0.044500    0.3410  ...   \n",
       "1096      0.085500          0.145000    0.1160  ...   \n",
       "1097      0.984000          0.104000    0.1820  ...   \n",
       "1098      0.093700          0.001030    0.0568  ...   \n",
       "\n",
       "                                       uri  \\\n",
       "0     spotify:track:3AhXZa8sUQht0UEdBJgpGc   \n",
       "1     spotify:track:3oTlkzk1OtrhH8wBAduVEi   \n",
       "2     spotify:track:3ZFBeIyP41HhnALjxWy1pR   \n",
       "3     spotify:track:5Qt4Cc66g24QWwGP3YYV9y   \n",
       "4     spotify:track:7MH2ZclofPlTrZOkPzZKhK   \n",
       "...                                    ...   \n",
       "1094  spotify:track:7tJQ4Ekp2vN3NlI3vJJW3v   \n",
       "1095  spotify:track:6EaHDsTWNNJRkCMtptSE6n   \n",
       "1096  spotify:track:5mWhSQfWEeBZD9YTd4yyFc   \n",
       "1097  spotify:track:5iltwljBW1H5ScLeeiB9ZB   \n",
       "1098  spotify:track:52MN1t40XkISi6QtVzVDJO   \n",
       "\n",
       "                                             track_href  \\\n",
       "0     https://api.spotify.com/v1/tracks/3AhXZa8sUQht...   \n",
       "1     https://api.spotify.com/v1/tracks/3oTlkzk1Otrh...   \n",
       "2     https://api.spotify.com/v1/tracks/3ZFBeIyP41Hh...   \n",
       "3     https://api.spotify.com/v1/tracks/5Qt4Cc66g24Q...   \n",
       "4     https://api.spotify.com/v1/tracks/7MH2ZclofPlT...   \n",
       "...                                                 ...   \n",
       "1094  https://api.spotify.com/v1/tracks/7tJQ4Ekp2vN3...   \n",
       "1095  https://api.spotify.com/v1/tracks/6EaHDsTWNNJR...   \n",
       "1096  https://api.spotify.com/v1/tracks/5mWhSQfWEeBZ...   \n",
       "1097  https://api.spotify.com/v1/tracks/5iltwljBW1H5...   \n",
       "1098  https://api.spotify.com/v1/tracks/52MN1t40XkIS...   \n",
       "\n",
       "                                           analysis_url duration_ms  \\\n",
       "0     https://api.spotify.com/v1/audio-analysis/3AhX...      369600   \n",
       "1     https://api.spotify.com/v1/audio-analysis/3oTl...      300977   \n",
       "2     https://api.spotify.com/v1/audio-analysis/3ZFB...      337413   \n",
       "3     https://api.spotify.com/v1/audio-analysis/5Qt4...      219147   \n",
       "4     https://api.spotify.com/v1/audio-analysis/7MH2...      160893   \n",
       "...                                                 ...         ...   \n",
       "1094  https://api.spotify.com/v1/audio-analysis/7tJQ...      185200   \n",
       "1095  https://api.spotify.com/v1/audio-analysis/6EaH...      315200   \n",
       "1096  https://api.spotify.com/v1/audio-analysis/5mWh...      263440   \n",
       "1097  https://api.spotify.com/v1/audio-analysis/5ilt...      203373   \n",
       "1098  https://api.spotify.com/v1/audio-analysis/52MN...      203173   \n",
       "\n",
       "     time_signature                       song_name  \\\n",
       "0                 4            Like a Rolling Stone   \n",
       "1                 4         Smells Like Teen Spirit   \n",
       "2                 4  A Day In The Life - Remastered   \n",
       "3                 4          Good Vibrations (Mono)   \n",
       "4                 4                  Johnny B Goode   \n",
       "...             ...                             ...   \n",
       "1094              4                      I Want You   \n",
       "1095              4                     The Suburbs   \n",
       "1096              4                      Dum Surfer   \n",
       "1097              4           Black and Tan Fantasy   \n",
       "1098              4          Our House (Remastered)   \n",
       "\n",
       "                              artist_name  \\\n",
       "0                               Bob Dylan   \n",
       "1                                 Nirvana   \n",
       "2                             The Beatles   \n",
       "3                          The Beach Boys   \n",
       "4                             Chuck Berry   \n",
       "...                                   ...   \n",
       "1094                            Bob Dylan   \n",
       "1095                          Arcade Fire   \n",
       "1096                           King Krule   \n",
       "1097  Duke Ellington & His Washingtonians   \n",
       "1098                              Madness   \n",
       "\n",
       "                                          artist_genres  artist_pop  \\\n",
       "0     ['classic rock', 'country rock', 'folk', 'folk...          72   \n",
       "1                  ['grunge', 'permanent wave', 'rock']          82   \n",
       "2     ['beatlesque', 'british invasion', 'classic ro...          84   \n",
       "3     ['baroque pop', 'classic rock', 'psychedelic r...          78   \n",
       "4     ['classic rock', 'rock', 'rock-and-roll', 'roc...          75   \n",
       "...                                                 ...         ...   \n",
       "1094  ['classic rock', 'country rock', 'folk', 'folk...          72   \n",
       "1095  ['baroque pop', 'canadian indie', 'indie rock'...          66   \n",
       "1096                             ['uk alternative pop']          60   \n",
       "1097                                       ['hot jazz']          18   \n",
       "1098                             ['ska', 'ska revival']          61   \n",
       "\n",
       "     song_popularity  \n",
       "0                 68  \n",
       "1                  0  \n",
       "2                  0  \n",
       "3                 20  \n",
       "4                  0  \n",
       "...              ...  \n",
       "1094              56  \n",
       "1095               0  \n",
       "1096               3  \n",
       "1097              11  \n",
       "1098               0  \n",
       "\n",
       "[1099 rows x 24 columns]"
      ]
     },
     "execution_count": 3,
     "metadata": {},
     "output_type": "execute_result"
    }
   ],
   "source": [
    "sample_p = pd.read_csv('./data/sample_music')\n",
    "sample_p"
   ]
  },
  {
   "cell_type": "code",
   "execution_count": 32,
   "id": "91f1d674",
   "metadata": {
    "scrolled": true
   },
   "outputs": [
    {
     "name": "stdout",
     "output_type": "stream",
     "text": [
      "<class 'pandas.core.frame.DataFrame'>\n",
      "RangeIndex: 1099 entries, 0 to 1098\n",
      "Data columns (total 18 columns):\n",
      " #   Column            Non-Null Count  Dtype  \n",
      "---  ------            --------------  -----  \n",
      " 0   danceability      1099 non-null   float64\n",
      " 1   energy            1099 non-null   float64\n",
      " 2   key               1099 non-null   int64  \n",
      " 3   loudness          1099 non-null   float64\n",
      " 4   mode              1099 non-null   int64  \n",
      " 5   speechiness       1099 non-null   float64\n",
      " 6   acousticness      1099 non-null   float64\n",
      " 7   instrumentalness  1099 non-null   float64\n",
      " 8   liveness          1099 non-null   float64\n",
      " 9   valence           1099 non-null   float64\n",
      " 10  tempo             1099 non-null   float64\n",
      " 11  duration_ms       1099 non-null   int64  \n",
      " 12  time_signature    1099 non-null   int64  \n",
      " 13  song_name         1099 non-null   object \n",
      " 14  artist_name       1099 non-null   object \n",
      " 15  artist_genres     1099 non-null   object \n",
      " 16  artist_pop        1099 non-null   int64  \n",
      " 17  song_popularity   1099 non-null   int64  \n",
      "dtypes: float64(9), int64(6), object(3)\n",
      "memory usage: 154.7+ KB\n"
     ]
    }
   ],
   "source": [
    "clean_data= sample_p.drop(columns=['Unnamed: 0','uri','track_href','analysis_url','type', 'id'])\n",
    "clean_data\n",
    "clean_data.info()"
   ]
  },
  {
   "cell_type": "code",
   "execution_count": 14,
   "id": "8deb7fcc",
   "metadata": {},
   "outputs": [],
   "source": [
    "#Create genre list\n",
    "def genre_list(self):\n",
    "    split = self.strip().split(',')\n",
    "    clean = [x.strip(\" [']\") for x in split]\n",
    "    return clean"
   ]
  },
  {
   "cell_type": "code",
   "execution_count": 16,
   "id": "9b581a14",
   "metadata": {},
   "outputs": [],
   "source": [
    "# convert the df to list\n",
    "clean_data['artist_genres'] = clean_data['artist_genres'].apply(lambda x: genre_list(x))"
   ]
  },
  {
   "cell_type": "code",
   "execution_count": 18,
   "id": "d249e67b",
   "metadata": {},
   "outputs": [
    {
     "name": "stdout",
     "output_type": "stream",
     "text": [
      "['classic rock', 'country rock', 'folk', 'folk rock', 'rock', 'roots rock', 'singer-songwriter', 'grunge', 'permanent wave', 'beatlesque', 'british invasion', 'merseybeat', 'psychedelic rock', 'baroque pop', 'sunshine pop', 'rock-and-roll', 'rockabilly', 'classic soul', 'jazz blues', 'memphis soul', 'soul', 'southern soul', 'adult standards', 'brill building pop', 'classic girl group', 'funk', 'indie r&b', 'motown', 'northern soul', 'quiet storm', 'pop', 'r&b', 'heartland rock', 'mellow gold', 'album rock', 'art rock', 'blues rock', 'hard rock', 'alternative rock', 'madchester', 'new wave', 'post-punk', 'uk post-punk', 'soul blues', 'atl hip hop', 'dirty south rap', 'hip hop', 'old school atlanta hip hop', 'pop rap', 'rap', 'southern hip hop', 'punk', 'dance pop', 'indietronica', 'new rave', 'bronx hip hop', 'electro', 'old school hip hop', 'piano blues', 'vocal jazz', 'glam rock', 'funk rock', 'minneapolis sound', 'synth funk', 'britpop', 'indie rock', 'pop rock', 'sheffield indie', 'harlem renaissance', 'jazz', 'lounge', 'torch song', 'protopunk', 'detroit rock', 'garage rock', 'modern blues rock', 'modern rock', 'punk blues', 'athens indie', 'dance rock', 'new romantic', 'new wave pop', 'synthpop', 'acid rock', 'proto-metal', 'classic garage rock', 'neo soul', 'bubblegum pop', 'scottish rock', 'hip pop', 'urban contemporary', 'virginia hip hop', 'disco', 'hi-nrg', 'cosmic american', 'soft rock', 'shoegaze', 'blues', 'british blues', 'electric blues', 'symphonic rock', 'downtempo', 'electronica', 'trip hop', 'anti-folk', 'conscious hip hop', 'east coast hip hop', 'gangster rap', 'golden age hip hop', 'hardcore hip hop', 'political hip hop', 'rap rock', 'art punk', 'zolo', 'melancholia', 'oxford indie', 'west coast rap', 'yacht rock', 'art pop', 'electropop', 'europop', 'scandipop', 'swedish electropop', 'swedish pop', 'alternative dance', 'dance-punk', 'electronic rock', 'early us punk', 'canadian electropop', 'grave wave', 'metropopolis', 'lilith', 'glam metal', 'classic canadian rock', 'swamp rock', 'chicago rap', 'ska', 'ska revival', 'nz pop', 'filter house', 'piano rock', 'irish rock', 'post-disco', 'lgbtq+ hip hop', 'british soul', 'hip house', 'new jersey rap', 'southern rock', 'reggae', 'roots reggae', 'progressive rock', 'french shoegaze', 'french synthpop', 'neo-synthpop', 'honky tonk', 'traditional country', 'yodeling', 'big beat', 'instrumental funk', 'instrumental soul', 'barbadian pop', 'doo-wop', 'rhythm and blues', 'baltimore indie', 'chillwave', 'birmingham metal', 'metal', 'stoner rock', 'uk doom metal', 'candy pop', 'power pop', 'queens hip hop', 'experimental', 'no wave', 'canadian hip hop', 'canadian pop', 'toronto rap', '', 'american folk revival', 'appalachian folk', 'old-time', 'protest folk', 'traditional blues', 'traditional folk', 'australian psych', 'neo-psychedelic', 'afrofuturism', 'alternative r&b', 'escape room', 'indie soul', 'g funk', 'psychedelic soul', 'australian dance', 'australian pop', 'eurodance', 'brooklyn indie', 'indie pop', 'dusseldorf electronic', 'early synthpop', 'proto-techno', 'dream pop', 'experimental pop', 'freak folk', 'noise pop', 'electroclash', 'arkansas country', 'outlaw country', 'mod revival', 'northern irish punk', 'pub rock', 'louisiana blues', 'new orleans blues', 'nashville sound', 'chicago blues', 'chicago soul', 'sophisti-pop', 'experimental r&b', 'boston rock', 'pop soul', 'uk pop', 'alternative metal', 'spacegrunge', 'bossa nova', 'cool jazz', 'jazz saxophone', 'latin jazz', 'samba-jazz', 'freakbeat', 'classic country pop', 'supergroup', 'canadian indie', 'quebec indie', 'classic uk pop', 'detroit hip hop', 'trap queen', 'breakbeat', 'hardcore techno', 'rave', 'new weird america', 'stomp and holler', 'alternative pop', 'lo-fi', 'acoustic blues', 'delta blues', 'pre-war blues', 'australian rock', 'jazz funk', 'boogie-woogie', 'jump blues', 'canadian singer-songwriter', 'ambient', 'braindance', 'intelligent dance music', 'uk experimental electronic', 'gothenburg indie', 'swedish synthpop', 'chanson', 'vintage schlager', 'old school thrash', 'thrash metal', 'french rock', 'chicano punk', 'speed metal', 'noise rock', 'native american', 'surf music', 'nu disco', 'funk metal', 'nu metal', 'rap metal', 'swedish alternative rock', 'swedish indie pop', 'chamber pop', 'new jersey indie', 'double drumming', 'washington indie', 'easy listening', 'hot jazz', 'new orleans jazz', 'okc indie', 'bebop', 'big band', 'stride', 'swing', 'rock independant francais', 'classic dubstep', 'hauntology', 'microhouse', 'uk bass', 'wonky', 'british folk', 'palm desert scene', 'stoner metal', 'scottish indie', 'jazz piano', 'jazz trio', 'memphis blues', 'dark pop', 'laboratorio', 'p funk', 'post-teen pop', 'talent show', 'country', 'country dawn', 'acoustic punk', 'hardcore punk', 'contemporary post-bop', 'hard bop', 'jazz quartet', 'australian indie', 'melbourne indie', 'alternative hip hop', 'bboy', 'seattle indie', 'bow pop', 'experimental vocal', 'future garage', 'contemporary r&b', 'girl group', 'albuquerque indie', 'portland indie', 'gothic rock', 'eau claire indie', 'indie folk', 'post-hardcore', 'chamber psych', 'afrobeat', 'afropop', 'world', 'electro house', 'philly rap', 'jangle pop', 'harmonica blues', 'glam punk', 'indie garage rock', 'la indie', 'texas blues', 'cyberpunk', 'industrial', 'industrial metal', 'industrial rock', 'minnesota hip hop', 'jazz fusion', 'jazz trumpet', 'uk contemporary jazz', 'small room', 'post-grunge', 'dc hardcore', 'dub', 'belgian singer-songwriter', 'french pop', 'australian alternative rock', 'collage pop', 'psychedelic hip hop', 'rock drums', 'alternative americana', 'garage rock revival', 'swedish garage rock', 'swedish hard rock', 'swedish indie rock', 'r&b en espanol', 'folktronica', 'bedroom pop', 'jazz trombone', 'celtic punk', 'celtic rock', 'folk punk', 'slowcore', 'gospel', 'spirituals', 'modern alternative rock', 'vancouver indie', 'vancouver punk', 'dixieland', 'alternative country', 'chicago indie', 'brighton indie', 'etherpop', 'canterbury scene', 'experimental rock', 'uk alternative pop', 'olympia wa indie', '\"women\\'s music\"', 'bluegrass', 'bluegrass gospel', 'country gospel', 'lovers rock', 'turntablism', 'instrumental rock', 'jazz rock', 'jazz rap', 'dreamo', 'toronto indie', 'space age pop', 'solo wave', 'modern power pop', 'harlem hip hop', 'instrumental math rock', 'math rock', 'post-rock', 'icelandic pop', 'icelandic post-punk', 'bassline', 'grime', 'house', 'instrumental grime', 'south carolina hip hop', 'slam poetry', 'african-american classical', 'canadian contemporary r&b', 'skate punk', 'new orleans rap', 'trap', 'boy band', 'new jack swing', 'sacramento indie', 'deconstructed club', 'hyperpop', 'proto-hyperpop', 'transpop', 'icelandic experimental', 'icelandic singer-songwriter', 'rocksteady', 'dark wave', 'free jazz', 'philly soul', 'houston rap', 'disney', 'hollywood', 'movie tunes', 'philly indie', 'tin pan alley', 'jam band', 'slap house', 'synth punk', 'brazilian classical', 'brazilian jazz', 'latin classical', 'mpb', 'violao', 'jazz clarinet', 'vintage jazz', 'acid house', 'detroit techno', 'techno', 'flute rock', 'edm', 'uk dance', 'ambient pop', 'uk americana', 'deep adult standards', 'country blues', 'gospel blues', 'french jazz', 'gypsy jazz', 'jazz guitar', 'atmospheric dnb', 'drum and bass', 'drumfunk', 'jungle', 'popping', 'underground hip hop', 'mexican classic rock', 'scottish new wave', 'birmingham hip hop', 'uk garage', 'makossa', 'vocal harmony group', 'ambient house', 'melodic rap', 'mississippi hip hop', 'indie punk', 'riot grrrl', 'bakersfield sound', 'bubblegrunge', 'country boogie']\n"
     ]
    }
   ],
   "source": [
    "#finding all the genres in the data set\n",
    "all_genres = []\n",
    "for row in clean_data.artist_genres:\n",
    "    for x in row:\n",
    "        if x not in all_genres:\n",
    "            all_genres.append(x)\n",
    "        \n",
    "print(all_genres)\n",
    "    "
   ]
  },
  {
   "cell_type": "code",
   "execution_count": 41,
   "id": "d83b03f2",
   "metadata": {},
   "outputs": [
    {
     "data": {
      "text/html": [
       "<div>\n",
       "<style scoped>\n",
       "    .dataframe tbody tr th:only-of-type {\n",
       "        vertical-align: middle;\n",
       "    }\n",
       "\n",
       "    .dataframe tbody tr th {\n",
       "        vertical-align: top;\n",
       "    }\n",
       "\n",
       "    .dataframe thead th {\n",
       "        text-align: right;\n",
       "    }\n",
       "</style>\n",
       "<table border=\"1\" class=\"dataframe\">\n",
       "  <thead>\n",
       "    <tr style=\"text-align: right;\">\n",
       "      <th></th>\n",
       "      <th>artist_genres</th>\n",
       "      <th>danceability</th>\n",
       "      <th>energy</th>\n",
       "      <th>acousticness</th>\n",
       "      <th>valence</th>\n",
       "      <th>song_popularity</th>\n",
       "    </tr>\n",
       "  </thead>\n",
       "  <tbody>\n",
       "    <tr>\n",
       "      <th>0</th>\n",
       "      <td>['classic rock', 'country rock', 'folk', 'folk...</td>\n",
       "      <td>0.482</td>\n",
       "      <td>0.721</td>\n",
       "      <td>0.731000</td>\n",
       "      <td>0.557</td>\n",
       "      <td>68</td>\n",
       "    </tr>\n",
       "    <tr>\n",
       "      <th>1</th>\n",
       "      <td>['grunge', 'permanent wave', 'rock']</td>\n",
       "      <td>0.485</td>\n",
       "      <td>0.863</td>\n",
       "      <td>0.000012</td>\n",
       "      <td>0.767</td>\n",
       "      <td>0</td>\n",
       "    </tr>\n",
       "    <tr>\n",
       "      <th>2</th>\n",
       "      <td>['beatlesque', 'british invasion', 'classic ro...</td>\n",
       "      <td>0.364</td>\n",
       "      <td>0.457</td>\n",
       "      <td>0.290000</td>\n",
       "      <td>0.175</td>\n",
       "      <td>0</td>\n",
       "    </tr>\n",
       "    <tr>\n",
       "      <th>3</th>\n",
       "      <td>['baroque pop', 'classic rock', 'psychedelic r...</td>\n",
       "      <td>0.398</td>\n",
       "      <td>0.413</td>\n",
       "      <td>0.082200</td>\n",
       "      <td>0.331</td>\n",
       "      <td>20</td>\n",
       "    </tr>\n",
       "    <tr>\n",
       "      <th>4</th>\n",
       "      <td>['classic rock', 'rock', 'rock-and-roll', 'roc...</td>\n",
       "      <td>0.518</td>\n",
       "      <td>0.756</td>\n",
       "      <td>0.735000</td>\n",
       "      <td>0.968</td>\n",
       "      <td>0</td>\n",
       "    </tr>\n",
       "    <tr>\n",
       "      <th>...</th>\n",
       "      <td>...</td>\n",
       "      <td>...</td>\n",
       "      <td>...</td>\n",
       "      <td>...</td>\n",
       "      <td>...</td>\n",
       "      <td>...</td>\n",
       "    </tr>\n",
       "    <tr>\n",
       "      <th>1094</th>\n",
       "      <td>['classic rock', 'country rock', 'folk', 'folk...</td>\n",
       "      <td>0.509</td>\n",
       "      <td>0.680</td>\n",
       "      <td>0.360000</td>\n",
       "      <td>0.802</td>\n",
       "      <td>56</td>\n",
       "    </tr>\n",
       "    <tr>\n",
       "      <th>1095</th>\n",
       "      <td>['baroque pop', 'canadian indie', 'indie rock'...</td>\n",
       "      <td>0.612</td>\n",
       "      <td>0.668</td>\n",
       "      <td>0.057900</td>\n",
       "      <td>0.524</td>\n",
       "      <td>0</td>\n",
       "    </tr>\n",
       "    <tr>\n",
       "      <th>1096</th>\n",
       "      <td>['uk alternative pop']</td>\n",
       "      <td>0.651</td>\n",
       "      <td>0.944</td>\n",
       "      <td>0.085500</td>\n",
       "      <td>0.676</td>\n",
       "      <td>3</td>\n",
       "    </tr>\n",
       "    <tr>\n",
       "      <th>1097</th>\n",
       "      <td>['hot jazz']</td>\n",
       "      <td>0.492</td>\n",
       "      <td>0.194</td>\n",
       "      <td>0.984000</td>\n",
       "      <td>0.368</td>\n",
       "      <td>11</td>\n",
       "    </tr>\n",
       "    <tr>\n",
       "      <th>1098</th>\n",
       "      <td>['ska', 'ska revival']</td>\n",
       "      <td>0.589</td>\n",
       "      <td>0.713</td>\n",
       "      <td>0.093700</td>\n",
       "      <td>0.830</td>\n",
       "      <td>0</td>\n",
       "    </tr>\n",
       "  </tbody>\n",
       "</table>\n",
       "<p>1099 rows × 6 columns</p>\n",
       "</div>"
      ],
      "text/plain": [
       "                                          artist_genres  danceability  energy  \\\n",
       "0     ['classic rock', 'country rock', 'folk', 'folk...         0.482   0.721   \n",
       "1                  ['grunge', 'permanent wave', 'rock']         0.485   0.863   \n",
       "2     ['beatlesque', 'british invasion', 'classic ro...         0.364   0.457   \n",
       "3     ['baroque pop', 'classic rock', 'psychedelic r...         0.398   0.413   \n",
       "4     ['classic rock', 'rock', 'rock-and-roll', 'roc...         0.518   0.756   \n",
       "...                                                 ...           ...     ...   \n",
       "1094  ['classic rock', 'country rock', 'folk', 'folk...         0.509   0.680   \n",
       "1095  ['baroque pop', 'canadian indie', 'indie rock'...         0.612   0.668   \n",
       "1096                             ['uk alternative pop']         0.651   0.944   \n",
       "1097                                       ['hot jazz']         0.492   0.194   \n",
       "1098                             ['ska', 'ska revival']         0.589   0.713   \n",
       "\n",
       "      acousticness  valence  song_popularity  \n",
       "0         0.731000    0.557               68  \n",
       "1         0.000012    0.767                0  \n",
       "2         0.290000    0.175                0  \n",
       "3         0.082200    0.331               20  \n",
       "4         0.735000    0.968                0  \n",
       "...            ...      ...              ...  \n",
       "1094      0.360000    0.802               56  \n",
       "1095      0.057900    0.524                0  \n",
       "1096      0.085500    0.676                3  \n",
       "1097      0.984000    0.368               11  \n",
       "1098      0.093700    0.830                0  \n",
       "\n",
       "[1099 rows x 6 columns]"
      ]
     },
     "execution_count": 41,
     "metadata": {},
     "output_type": "execute_result"
    }
   ],
   "source": [
    "genre_df =clean_data[['artist_genres', 'danceability','energy','acousticness','valence','song_popularity']].copy()\n",
    "genre_df"
   ]
  },
  {
   "cell_type": "code",
   "execution_count": 59,
   "id": "16b2f7f2",
   "metadata": {},
   "outputs": [
    {
     "data": {
      "application/vnd.plotly.v1+json": {
       "config": {
        "plotlyServerURL": "https://plot.ly"
       },
       "data": [
        {
         "alignmentgroup": "True",
         "hovertemplate": "variable=valence<br>artist_genres=%{x}<br>value=%{y}<extra></extra>",
         "legendgroup": "valence",
         "marker": {
          "color": "#636efa",
          "pattern": {
           "shape": ""
          }
         },
         "name": "valence",
         "offsetgroup": "valence",
         "orientation": "v",
         "showlegend": true,
         "textposition": "auto",
         "type": "bar",
         "x": [
          "['permanent wave', 'pop']",
          "['album rock', 'classic rock', 'hard rock', 'rock']",
          "['art pop', 'art rock', 'baroque pop', 'new wave pop', 'permanent wave', 'piano rock', 'singer-songwriter']",
          "['permanent wave', 'pop']",
          "['new romantic', 'new wave', 'new wave pop', 'permanent wave', 'pop rock', 'soft rock', 'synthpop']",
          "['permanent wave', 'pop']",
          "['conscious hip hop', 'hip hop', 'rap', 'west coast rap']",
          "['east coast hip hop', 'hip hop', 'rap']",
          "['pop', 'r&b', 'soul']",
          "['art pop', 'electropop', 'pop']"
         ],
         "xaxis": "x",
         "y": [
          0.285,
          0.224,
          0.197,
          0.417,
          0.876,
          0.213,
          0.421,
          0.775,
          0.847,
          0.562
         ],
         "yaxis": "y"
        },
        {
         "alignmentgroup": "True",
         "hovertemplate": "variable=energy<br>artist_genres=%{x}<br>value=%{y}<extra></extra>",
         "legendgroup": "energy",
         "marker": {
          "color": "#EF553B",
          "pattern": {
           "shape": ""
          }
         },
         "name": "energy",
         "offsetgroup": "energy",
         "orientation": "v",
         "showlegend": true,
         "textposition": "auto",
         "type": "bar",
         "x": [
          "['permanent wave', 'pop']",
          "['album rock', 'classic rock', 'hard rock', 'rock']",
          "['art pop', 'art rock', 'baroque pop', 'new wave pop', 'permanent wave', 'piano rock', 'singer-songwriter']",
          "['permanent wave', 'pop']",
          "['new romantic', 'new wave', 'new wave pop', 'permanent wave', 'pop rock', 'soft rock', 'synthpop']",
          "['permanent wave', 'pop']",
          "['conscious hip hop', 'hip hop', 'rap', 'west coast rap']",
          "['east coast hip hop', 'hip hop', 'rap']",
          "['pop', 'r&b', 'soul']",
          "['art pop', 'electropop', 'pop']"
         ],
         "xaxis": "x",
         "y": [
          0.661,
          0.433,
          0.547,
          0.617,
          0.902,
          0.442,
          0.621,
          0.858,
          0.654,
          0.425
         ],
         "yaxis": "y"
        },
        {
         "alignmentgroup": "True",
         "hovertemplate": "variable=danceability<br>artist_genres=%{x}<br>value=%{y}<extra></extra>",
         "legendgroup": "danceability",
         "marker": {
          "color": "#00cc96",
          "pattern": {
           "shape": ""
          }
         },
         "name": "danceability",
         "offsetgroup": "danceability",
         "orientation": "v",
         "showlegend": true,
         "textposition": "auto",
         "type": "bar",
         "x": [
          "['permanent wave', 'pop']",
          "['album rock', 'classic rock', 'hard rock', 'rock']",
          "['art pop', 'art rock', 'baroque pop', 'new wave pop', 'permanent wave', 'piano rock', 'singer-songwriter']",
          "['permanent wave', 'pop']",
          "['new romantic', 'new wave', 'new wave pop', 'permanent wave', 'pop rock', 'soft rock', 'synthpop']",
          "['permanent wave', 'pop']",
          "['conscious hip hop', 'hip hop', 'rap', 'west coast rap']",
          "['east coast hip hop', 'hip hop', 'rap']",
          "['pop', 'r&b', 'soul']",
          "['art pop', 'electropop', 'pop']"
         ],
         "xaxis": "x",
         "y": [
          0.429,
          0.307,
          0.629,
          0.486,
          0.573,
          0.557,
          0.908,
          0.789,
          0.92,
          0.701
         ],
         "yaxis": "y"
        },
        {
         "alignmentgroup": "True",
         "hovertemplate": "variable=acousticness<br>artist_genres=%{x}<br>value=%{y}<extra></extra>",
         "legendgroup": "acousticness",
         "marker": {
          "color": "#ab63fa",
          "pattern": {
           "shape": ""
          }
         },
         "name": "acousticness",
         "offsetgroup": "acousticness",
         "orientation": "v",
         "showlegend": true,
         "textposition": "auto",
         "type": "bar",
         "x": [
          "['permanent wave', 'pop']",
          "['album rock', 'classic rock', 'hard rock', 'rock']",
          "['art pop', 'art rock', 'baroque pop', 'new wave pop', 'permanent wave', 'piano rock', 'singer-songwriter']",
          "['permanent wave', 'pop']",
          "['new romantic', 'new wave', 'new wave pop', 'permanent wave', 'pop rock', 'soft rock', 'synthpop']",
          "['permanent wave', 'pop']",
          "['conscious hip hop', 'hip hop', 'rap', 'west coast rap']",
          "['east coast hip hop', 'hip hop', 'rap']",
          "['pop', 'r&b', 'soul']",
          "['art pop', 'electropop', 'pop']"
         ],
         "xaxis": "x",
         "y": [
          0.00239,
          0.388,
          0.72,
          0.0954,
          0.018,
          0.731,
          0.000282,
          0.127,
          0.0236,
          0.328
         ],
         "yaxis": "y"
        }
       ],
       "layout": {
        "barmode": "group",
        "legend": {
         "title": {
          "text": "variable"
         },
         "tracegroupgap": 0
        },
        "margin": {
         "t": 60
        },
        "template": {
         "data": {
          "bar": [
           {
            "error_x": {
             "color": "#2a3f5f"
            },
            "error_y": {
             "color": "#2a3f5f"
            },
            "marker": {
             "line": {
              "color": "#E5ECF6",
              "width": 0.5
             },
             "pattern": {
              "fillmode": "overlay",
              "size": 10,
              "solidity": 0.2
             }
            },
            "type": "bar"
           }
          ],
          "barpolar": [
           {
            "marker": {
             "line": {
              "color": "#E5ECF6",
              "width": 0.5
             },
             "pattern": {
              "fillmode": "overlay",
              "size": 10,
              "solidity": 0.2
             }
            },
            "type": "barpolar"
           }
          ],
          "carpet": [
           {
            "aaxis": {
             "endlinecolor": "#2a3f5f",
             "gridcolor": "white",
             "linecolor": "white",
             "minorgridcolor": "white",
             "startlinecolor": "#2a3f5f"
            },
            "baxis": {
             "endlinecolor": "#2a3f5f",
             "gridcolor": "white",
             "linecolor": "white",
             "minorgridcolor": "white",
             "startlinecolor": "#2a3f5f"
            },
            "type": "carpet"
           }
          ],
          "choropleth": [
           {
            "colorbar": {
             "outlinewidth": 0,
             "ticks": ""
            },
            "type": "choropleth"
           }
          ],
          "contour": [
           {
            "colorbar": {
             "outlinewidth": 0,
             "ticks": ""
            },
            "colorscale": [
             [
              0,
              "#0d0887"
             ],
             [
              0.1111111111111111,
              "#46039f"
             ],
             [
              0.2222222222222222,
              "#7201a8"
             ],
             [
              0.3333333333333333,
              "#9c179e"
             ],
             [
              0.4444444444444444,
              "#bd3786"
             ],
             [
              0.5555555555555556,
              "#d8576b"
             ],
             [
              0.6666666666666666,
              "#ed7953"
             ],
             [
              0.7777777777777778,
              "#fb9f3a"
             ],
             [
              0.8888888888888888,
              "#fdca26"
             ],
             [
              1,
              "#f0f921"
             ]
            ],
            "type": "contour"
           }
          ],
          "contourcarpet": [
           {
            "colorbar": {
             "outlinewidth": 0,
             "ticks": ""
            },
            "type": "contourcarpet"
           }
          ],
          "heatmap": [
           {
            "colorbar": {
             "outlinewidth": 0,
             "ticks": ""
            },
            "colorscale": [
             [
              0,
              "#0d0887"
             ],
             [
              0.1111111111111111,
              "#46039f"
             ],
             [
              0.2222222222222222,
              "#7201a8"
             ],
             [
              0.3333333333333333,
              "#9c179e"
             ],
             [
              0.4444444444444444,
              "#bd3786"
             ],
             [
              0.5555555555555556,
              "#d8576b"
             ],
             [
              0.6666666666666666,
              "#ed7953"
             ],
             [
              0.7777777777777778,
              "#fb9f3a"
             ],
             [
              0.8888888888888888,
              "#fdca26"
             ],
             [
              1,
              "#f0f921"
             ]
            ],
            "type": "heatmap"
           }
          ],
          "heatmapgl": [
           {
            "colorbar": {
             "outlinewidth": 0,
             "ticks": ""
            },
            "colorscale": [
             [
              0,
              "#0d0887"
             ],
             [
              0.1111111111111111,
              "#46039f"
             ],
             [
              0.2222222222222222,
              "#7201a8"
             ],
             [
              0.3333333333333333,
              "#9c179e"
             ],
             [
              0.4444444444444444,
              "#bd3786"
             ],
             [
              0.5555555555555556,
              "#d8576b"
             ],
             [
              0.6666666666666666,
              "#ed7953"
             ],
             [
              0.7777777777777778,
              "#fb9f3a"
             ],
             [
              0.8888888888888888,
              "#fdca26"
             ],
             [
              1,
              "#f0f921"
             ]
            ],
            "type": "heatmapgl"
           }
          ],
          "histogram": [
           {
            "marker": {
             "pattern": {
              "fillmode": "overlay",
              "size": 10,
              "solidity": 0.2
             }
            },
            "type": "histogram"
           }
          ],
          "histogram2d": [
           {
            "colorbar": {
             "outlinewidth": 0,
             "ticks": ""
            },
            "colorscale": [
             [
              0,
              "#0d0887"
             ],
             [
              0.1111111111111111,
              "#46039f"
             ],
             [
              0.2222222222222222,
              "#7201a8"
             ],
             [
              0.3333333333333333,
              "#9c179e"
             ],
             [
              0.4444444444444444,
              "#bd3786"
             ],
             [
              0.5555555555555556,
              "#d8576b"
             ],
             [
              0.6666666666666666,
              "#ed7953"
             ],
             [
              0.7777777777777778,
              "#fb9f3a"
             ],
             [
              0.8888888888888888,
              "#fdca26"
             ],
             [
              1,
              "#f0f921"
             ]
            ],
            "type": "histogram2d"
           }
          ],
          "histogram2dcontour": [
           {
            "colorbar": {
             "outlinewidth": 0,
             "ticks": ""
            },
            "colorscale": [
             [
              0,
              "#0d0887"
             ],
             [
              0.1111111111111111,
              "#46039f"
             ],
             [
              0.2222222222222222,
              "#7201a8"
             ],
             [
              0.3333333333333333,
              "#9c179e"
             ],
             [
              0.4444444444444444,
              "#bd3786"
             ],
             [
              0.5555555555555556,
              "#d8576b"
             ],
             [
              0.6666666666666666,
              "#ed7953"
             ],
             [
              0.7777777777777778,
              "#fb9f3a"
             ],
             [
              0.8888888888888888,
              "#fdca26"
             ],
             [
              1,
              "#f0f921"
             ]
            ],
            "type": "histogram2dcontour"
           }
          ],
          "mesh3d": [
           {
            "colorbar": {
             "outlinewidth": 0,
             "ticks": ""
            },
            "type": "mesh3d"
           }
          ],
          "parcoords": [
           {
            "line": {
             "colorbar": {
              "outlinewidth": 0,
              "ticks": ""
             }
            },
            "type": "parcoords"
           }
          ],
          "pie": [
           {
            "automargin": true,
            "type": "pie"
           }
          ],
          "scatter": [
           {
            "marker": {
             "colorbar": {
              "outlinewidth": 0,
              "ticks": ""
             }
            },
            "type": "scatter"
           }
          ],
          "scatter3d": [
           {
            "line": {
             "colorbar": {
              "outlinewidth": 0,
              "ticks": ""
             }
            },
            "marker": {
             "colorbar": {
              "outlinewidth": 0,
              "ticks": ""
             }
            },
            "type": "scatter3d"
           }
          ],
          "scattercarpet": [
           {
            "marker": {
             "colorbar": {
              "outlinewidth": 0,
              "ticks": ""
             }
            },
            "type": "scattercarpet"
           }
          ],
          "scattergeo": [
           {
            "marker": {
             "colorbar": {
              "outlinewidth": 0,
              "ticks": ""
             }
            },
            "type": "scattergeo"
           }
          ],
          "scattergl": [
           {
            "marker": {
             "colorbar": {
              "outlinewidth": 0,
              "ticks": ""
             }
            },
            "type": "scattergl"
           }
          ],
          "scattermapbox": [
           {
            "marker": {
             "colorbar": {
              "outlinewidth": 0,
              "ticks": ""
             }
            },
            "type": "scattermapbox"
           }
          ],
          "scatterpolar": [
           {
            "marker": {
             "colorbar": {
              "outlinewidth": 0,
              "ticks": ""
             }
            },
            "type": "scatterpolar"
           }
          ],
          "scatterpolargl": [
           {
            "marker": {
             "colorbar": {
              "outlinewidth": 0,
              "ticks": ""
             }
            },
            "type": "scatterpolargl"
           }
          ],
          "scatterternary": [
           {
            "marker": {
             "colorbar": {
              "outlinewidth": 0,
              "ticks": ""
             }
            },
            "type": "scatterternary"
           }
          ],
          "surface": [
           {
            "colorbar": {
             "outlinewidth": 0,
             "ticks": ""
            },
            "colorscale": [
             [
              0,
              "#0d0887"
             ],
             [
              0.1111111111111111,
              "#46039f"
             ],
             [
              0.2222222222222222,
              "#7201a8"
             ],
             [
              0.3333333333333333,
              "#9c179e"
             ],
             [
              0.4444444444444444,
              "#bd3786"
             ],
             [
              0.5555555555555556,
              "#d8576b"
             ],
             [
              0.6666666666666666,
              "#ed7953"
             ],
             [
              0.7777777777777778,
              "#fb9f3a"
             ],
             [
              0.8888888888888888,
              "#fdca26"
             ],
             [
              1,
              "#f0f921"
             ]
            ],
            "type": "surface"
           }
          ],
          "table": [
           {
            "cells": {
             "fill": {
              "color": "#EBF0F8"
             },
             "line": {
              "color": "white"
             }
            },
            "header": {
             "fill": {
              "color": "#C8D4E3"
             },
             "line": {
              "color": "white"
             }
            },
            "type": "table"
           }
          ]
         },
         "layout": {
          "annotationdefaults": {
           "arrowcolor": "#2a3f5f",
           "arrowhead": 0,
           "arrowwidth": 1
          },
          "autotypenumbers": "strict",
          "coloraxis": {
           "colorbar": {
            "outlinewidth": 0,
            "ticks": ""
           }
          },
          "colorscale": {
           "diverging": [
            [
             0,
             "#8e0152"
            ],
            [
             0.1,
             "#c51b7d"
            ],
            [
             0.2,
             "#de77ae"
            ],
            [
             0.3,
             "#f1b6da"
            ],
            [
             0.4,
             "#fde0ef"
            ],
            [
             0.5,
             "#f7f7f7"
            ],
            [
             0.6,
             "#e6f5d0"
            ],
            [
             0.7,
             "#b8e186"
            ],
            [
             0.8,
             "#7fbc41"
            ],
            [
             0.9,
             "#4d9221"
            ],
            [
             1,
             "#276419"
            ]
           ],
           "sequential": [
            [
             0,
             "#0d0887"
            ],
            [
             0.1111111111111111,
             "#46039f"
            ],
            [
             0.2222222222222222,
             "#7201a8"
            ],
            [
             0.3333333333333333,
             "#9c179e"
            ],
            [
             0.4444444444444444,
             "#bd3786"
            ],
            [
             0.5555555555555556,
             "#d8576b"
            ],
            [
             0.6666666666666666,
             "#ed7953"
            ],
            [
             0.7777777777777778,
             "#fb9f3a"
            ],
            [
             0.8888888888888888,
             "#fdca26"
            ],
            [
             1,
             "#f0f921"
            ]
           ],
           "sequentialminus": [
            [
             0,
             "#0d0887"
            ],
            [
             0.1111111111111111,
             "#46039f"
            ],
            [
             0.2222222222222222,
             "#7201a8"
            ],
            [
             0.3333333333333333,
             "#9c179e"
            ],
            [
             0.4444444444444444,
             "#bd3786"
            ],
            [
             0.5555555555555556,
             "#d8576b"
            ],
            [
             0.6666666666666666,
             "#ed7953"
            ],
            [
             0.7777777777777778,
             "#fb9f3a"
            ],
            [
             0.8888888888888888,
             "#fdca26"
            ],
            [
             1,
             "#f0f921"
            ]
           ]
          },
          "colorway": [
           "#636efa",
           "#EF553B",
           "#00cc96",
           "#ab63fa",
           "#FFA15A",
           "#19d3f3",
           "#FF6692",
           "#B6E880",
           "#FF97FF",
           "#FECB52"
          ],
          "font": {
           "color": "#2a3f5f"
          },
          "geo": {
           "bgcolor": "white",
           "lakecolor": "white",
           "landcolor": "#E5ECF6",
           "showlakes": true,
           "showland": true,
           "subunitcolor": "white"
          },
          "hoverlabel": {
           "align": "left"
          },
          "hovermode": "closest",
          "mapbox": {
           "style": "light"
          },
          "paper_bgcolor": "white",
          "plot_bgcolor": "#E5ECF6",
          "polar": {
           "angularaxis": {
            "gridcolor": "white",
            "linecolor": "white",
            "ticks": ""
           },
           "bgcolor": "#E5ECF6",
           "radialaxis": {
            "gridcolor": "white",
            "linecolor": "white",
            "ticks": ""
           }
          },
          "scene": {
           "xaxis": {
            "backgroundcolor": "#E5ECF6",
            "gridcolor": "white",
            "gridwidth": 2,
            "linecolor": "white",
            "showbackground": true,
            "ticks": "",
            "zerolinecolor": "white"
           },
           "yaxis": {
            "backgroundcolor": "#E5ECF6",
            "gridcolor": "white",
            "gridwidth": 2,
            "linecolor": "white",
            "showbackground": true,
            "ticks": "",
            "zerolinecolor": "white"
           },
           "zaxis": {
            "backgroundcolor": "#E5ECF6",
            "gridcolor": "white",
            "gridwidth": 2,
            "linecolor": "white",
            "showbackground": true,
            "ticks": "",
            "zerolinecolor": "white"
           }
          },
          "shapedefaults": {
           "line": {
            "color": "#2a3f5f"
           }
          },
          "ternary": {
           "aaxis": {
            "gridcolor": "white",
            "linecolor": "white",
            "ticks": ""
           },
           "baxis": {
            "gridcolor": "white",
            "linecolor": "white",
            "ticks": ""
           },
           "bgcolor": "#E5ECF6",
           "caxis": {
            "gridcolor": "white",
            "linecolor": "white",
            "ticks": ""
           }
          },
          "title": {
           "x": 0.05
          },
          "xaxis": {
           "automargin": true,
           "gridcolor": "white",
           "linecolor": "white",
           "ticks": "",
           "title": {
            "standoff": 15
           },
           "zerolinecolor": "white",
           "zerolinewidth": 2
          },
          "yaxis": {
           "automargin": true,
           "gridcolor": "white",
           "linecolor": "white",
           "ticks": "",
           "title": {
            "standoff": 15
           },
           "zerolinecolor": "white",
           "zerolinewidth": 2
          }
         }
        },
        "xaxis": {
         "anchor": "y",
         "domain": [
          0,
          1
         ],
         "title": {
          "text": "artist_genres"
         }
        },
        "yaxis": {
         "anchor": "x",
         "domain": [
          0,
          1
         ],
         "dtick": 0.2,
         "tick0": 0,
         "tickmode": "linear",
         "title": {
          "text": "value"
         }
        }
       }
      },
      "text/html": [
       "<div>                            <div id=\"729337ed-274a-4730-a2a8-8e7451fe46c0\" class=\"plotly-graph-div\" style=\"height:525px; width:100%;\"></div>            <script type=\"text/javascript\">                require([\"plotly\"], function(Plotly) {                    window.PLOTLYENV=window.PLOTLYENV || {};                                    if (document.getElementById(\"729337ed-274a-4730-a2a8-8e7451fe46c0\")) {                    Plotly.newPlot(                        \"729337ed-274a-4730-a2a8-8e7451fe46c0\",                        [{\"alignmentgroup\":\"True\",\"hovertemplate\":\"variable=valence<br>artist_genres=%{x}<br>value=%{y}<extra></extra>\",\"legendgroup\":\"valence\",\"marker\":{\"color\":\"#636efa\",\"pattern\":{\"shape\":\"\"}},\"name\":\"valence\",\"offsetgroup\":\"valence\",\"orientation\":\"v\",\"showlegend\":true,\"textposition\":\"auto\",\"x\":[\"['permanent wave', 'pop']\",\"['album rock', 'classic rock', 'hard rock', 'rock']\",\"['art pop', 'art rock', 'baroque pop', 'new wave pop', 'permanent wave', 'piano rock', 'singer-songwriter']\",\"['permanent wave', 'pop']\",\"['new romantic', 'new wave', 'new wave pop', 'permanent wave', 'pop rock', 'soft rock', 'synthpop']\",\"['permanent wave', 'pop']\",\"['conscious hip hop', 'hip hop', 'rap', 'west coast rap']\",\"['east coast hip hop', 'hip hop', 'rap']\",\"['pop', 'r&b', 'soul']\",\"['art pop', 'electropop', 'pop']\"],\"xaxis\":\"x\",\"y\":[0.285,0.224,0.197,0.417,0.876,0.213,0.421,0.775,0.847,0.562],\"yaxis\":\"y\",\"type\":\"bar\"},{\"alignmentgroup\":\"True\",\"hovertemplate\":\"variable=energy<br>artist_genres=%{x}<br>value=%{y}<extra></extra>\",\"legendgroup\":\"energy\",\"marker\":{\"color\":\"#EF553B\",\"pattern\":{\"shape\":\"\"}},\"name\":\"energy\",\"offsetgroup\":\"energy\",\"orientation\":\"v\",\"showlegend\":true,\"textposition\":\"auto\",\"x\":[\"['permanent wave', 'pop']\",\"['album rock', 'classic rock', 'hard rock', 'rock']\",\"['art pop', 'art rock', 'baroque pop', 'new wave pop', 'permanent wave', 'piano rock', 'singer-songwriter']\",\"['permanent wave', 'pop']\",\"['new romantic', 'new wave', 'new wave pop', 'permanent wave', 'pop rock', 'soft rock', 'synthpop']\",\"['permanent wave', 'pop']\",\"['conscious hip hop', 'hip hop', 'rap', 'west coast rap']\",\"['east coast hip hop', 'hip hop', 'rap']\",\"['pop', 'r&b', 'soul']\",\"['art pop', 'electropop', 'pop']\"],\"xaxis\":\"x\",\"y\":[0.661,0.433,0.547,0.617,0.902,0.442,0.621,0.858,0.654,0.425],\"yaxis\":\"y\",\"type\":\"bar\"},{\"alignmentgroup\":\"True\",\"hovertemplate\":\"variable=danceability<br>artist_genres=%{x}<br>value=%{y}<extra></extra>\",\"legendgroup\":\"danceability\",\"marker\":{\"color\":\"#00cc96\",\"pattern\":{\"shape\":\"\"}},\"name\":\"danceability\",\"offsetgroup\":\"danceability\",\"orientation\":\"v\",\"showlegend\":true,\"textposition\":\"auto\",\"x\":[\"['permanent wave', 'pop']\",\"['album rock', 'classic rock', 'hard rock', 'rock']\",\"['art pop', 'art rock', 'baroque pop', 'new wave pop', 'permanent wave', 'piano rock', 'singer-songwriter']\",\"['permanent wave', 'pop']\",\"['new romantic', 'new wave', 'new wave pop', 'permanent wave', 'pop rock', 'soft rock', 'synthpop']\",\"['permanent wave', 'pop']\",\"['conscious hip hop', 'hip hop', 'rap', 'west coast rap']\",\"['east coast hip hop', 'hip hop', 'rap']\",\"['pop', 'r&b', 'soul']\",\"['art pop', 'electropop', 'pop']\"],\"xaxis\":\"x\",\"y\":[0.429,0.307,0.629,0.486,0.573,0.557,0.908,0.789,0.92,0.701],\"yaxis\":\"y\",\"type\":\"bar\"},{\"alignmentgroup\":\"True\",\"hovertemplate\":\"variable=acousticness<br>artist_genres=%{x}<br>value=%{y}<extra></extra>\",\"legendgroup\":\"acousticness\",\"marker\":{\"color\":\"#ab63fa\",\"pattern\":{\"shape\":\"\"}},\"name\":\"acousticness\",\"offsetgroup\":\"acousticness\",\"orientation\":\"v\",\"showlegend\":true,\"textposition\":\"auto\",\"x\":[\"['permanent wave', 'pop']\",\"['album rock', 'classic rock', 'hard rock', 'rock']\",\"['art pop', 'art rock', 'baroque pop', 'new wave pop', 'permanent wave', 'piano rock', 'singer-songwriter']\",\"['permanent wave', 'pop']\",\"['new romantic', 'new wave', 'new wave pop', 'permanent wave', 'pop rock', 'soft rock', 'synthpop']\",\"['permanent wave', 'pop']\",\"['conscious hip hop', 'hip hop', 'rap', 'west coast rap']\",\"['east coast hip hop', 'hip hop', 'rap']\",\"['pop', 'r&b', 'soul']\",\"['art pop', 'electropop', 'pop']\"],\"xaxis\":\"x\",\"y\":[0.00239,0.388,0.72,0.0954,0.018,0.731,0.000282,0.127,0.0236,0.328],\"yaxis\":\"y\",\"type\":\"bar\"}],                        {\"template\":{\"data\":{\"bar\":[{\"error_x\":{\"color\":\"#2a3f5f\"},\"error_y\":{\"color\":\"#2a3f5f\"},\"marker\":{\"line\":{\"color\":\"#E5ECF6\",\"width\":0.5},\"pattern\":{\"fillmode\":\"overlay\",\"size\":10,\"solidity\":0.2}},\"type\":\"bar\"}],\"barpolar\":[{\"marker\":{\"line\":{\"color\":\"#E5ECF6\",\"width\":0.5},\"pattern\":{\"fillmode\":\"overlay\",\"size\":10,\"solidity\":0.2}},\"type\":\"barpolar\"}],\"carpet\":[{\"aaxis\":{\"endlinecolor\":\"#2a3f5f\",\"gridcolor\":\"white\",\"linecolor\":\"white\",\"minorgridcolor\":\"white\",\"startlinecolor\":\"#2a3f5f\"},\"baxis\":{\"endlinecolor\":\"#2a3f5f\",\"gridcolor\":\"white\",\"linecolor\":\"white\",\"minorgridcolor\":\"white\",\"startlinecolor\":\"#2a3f5f\"},\"type\":\"carpet\"}],\"choropleth\":[{\"colorbar\":{\"outlinewidth\":0,\"ticks\":\"\"},\"type\":\"choropleth\"}],\"contour\":[{\"colorbar\":{\"outlinewidth\":0,\"ticks\":\"\"},\"colorscale\":[[0.0,\"#0d0887\"],[0.1111111111111111,\"#46039f\"],[0.2222222222222222,\"#7201a8\"],[0.3333333333333333,\"#9c179e\"],[0.4444444444444444,\"#bd3786\"],[0.5555555555555556,\"#d8576b\"],[0.6666666666666666,\"#ed7953\"],[0.7777777777777778,\"#fb9f3a\"],[0.8888888888888888,\"#fdca26\"],[1.0,\"#f0f921\"]],\"type\":\"contour\"}],\"contourcarpet\":[{\"colorbar\":{\"outlinewidth\":0,\"ticks\":\"\"},\"type\":\"contourcarpet\"}],\"heatmap\":[{\"colorbar\":{\"outlinewidth\":0,\"ticks\":\"\"},\"colorscale\":[[0.0,\"#0d0887\"],[0.1111111111111111,\"#46039f\"],[0.2222222222222222,\"#7201a8\"],[0.3333333333333333,\"#9c179e\"],[0.4444444444444444,\"#bd3786\"],[0.5555555555555556,\"#d8576b\"],[0.6666666666666666,\"#ed7953\"],[0.7777777777777778,\"#fb9f3a\"],[0.8888888888888888,\"#fdca26\"],[1.0,\"#f0f921\"]],\"type\":\"heatmap\"}],\"heatmapgl\":[{\"colorbar\":{\"outlinewidth\":0,\"ticks\":\"\"},\"colorscale\":[[0.0,\"#0d0887\"],[0.1111111111111111,\"#46039f\"],[0.2222222222222222,\"#7201a8\"],[0.3333333333333333,\"#9c179e\"],[0.4444444444444444,\"#bd3786\"],[0.5555555555555556,\"#d8576b\"],[0.6666666666666666,\"#ed7953\"],[0.7777777777777778,\"#fb9f3a\"],[0.8888888888888888,\"#fdca26\"],[1.0,\"#f0f921\"]],\"type\":\"heatmapgl\"}],\"histogram\":[{\"marker\":{\"pattern\":{\"fillmode\":\"overlay\",\"size\":10,\"solidity\":0.2}},\"type\":\"histogram\"}],\"histogram2d\":[{\"colorbar\":{\"outlinewidth\":0,\"ticks\":\"\"},\"colorscale\":[[0.0,\"#0d0887\"],[0.1111111111111111,\"#46039f\"],[0.2222222222222222,\"#7201a8\"],[0.3333333333333333,\"#9c179e\"],[0.4444444444444444,\"#bd3786\"],[0.5555555555555556,\"#d8576b\"],[0.6666666666666666,\"#ed7953\"],[0.7777777777777778,\"#fb9f3a\"],[0.8888888888888888,\"#fdca26\"],[1.0,\"#f0f921\"]],\"type\":\"histogram2d\"}],\"histogram2dcontour\":[{\"colorbar\":{\"outlinewidth\":0,\"ticks\":\"\"},\"colorscale\":[[0.0,\"#0d0887\"],[0.1111111111111111,\"#46039f\"],[0.2222222222222222,\"#7201a8\"],[0.3333333333333333,\"#9c179e\"],[0.4444444444444444,\"#bd3786\"],[0.5555555555555556,\"#d8576b\"],[0.6666666666666666,\"#ed7953\"],[0.7777777777777778,\"#fb9f3a\"],[0.8888888888888888,\"#fdca26\"],[1.0,\"#f0f921\"]],\"type\":\"histogram2dcontour\"}],\"mesh3d\":[{\"colorbar\":{\"outlinewidth\":0,\"ticks\":\"\"},\"type\":\"mesh3d\"}],\"parcoords\":[{\"line\":{\"colorbar\":{\"outlinewidth\":0,\"ticks\":\"\"}},\"type\":\"parcoords\"}],\"pie\":[{\"automargin\":true,\"type\":\"pie\"}],\"scatter\":[{\"marker\":{\"colorbar\":{\"outlinewidth\":0,\"ticks\":\"\"}},\"type\":\"scatter\"}],\"scatter3d\":[{\"line\":{\"colorbar\":{\"outlinewidth\":0,\"ticks\":\"\"}},\"marker\":{\"colorbar\":{\"outlinewidth\":0,\"ticks\":\"\"}},\"type\":\"scatter3d\"}],\"scattercarpet\":[{\"marker\":{\"colorbar\":{\"outlinewidth\":0,\"ticks\":\"\"}},\"type\":\"scattercarpet\"}],\"scattergeo\":[{\"marker\":{\"colorbar\":{\"outlinewidth\":0,\"ticks\":\"\"}},\"type\":\"scattergeo\"}],\"scattergl\":[{\"marker\":{\"colorbar\":{\"outlinewidth\":0,\"ticks\":\"\"}},\"type\":\"scattergl\"}],\"scattermapbox\":[{\"marker\":{\"colorbar\":{\"outlinewidth\":0,\"ticks\":\"\"}},\"type\":\"scattermapbox\"}],\"scatterpolar\":[{\"marker\":{\"colorbar\":{\"outlinewidth\":0,\"ticks\":\"\"}},\"type\":\"scatterpolar\"}],\"scatterpolargl\":[{\"marker\":{\"colorbar\":{\"outlinewidth\":0,\"ticks\":\"\"}},\"type\":\"scatterpolargl\"}],\"scatterternary\":[{\"marker\":{\"colorbar\":{\"outlinewidth\":0,\"ticks\":\"\"}},\"type\":\"scatterternary\"}],\"surface\":[{\"colorbar\":{\"outlinewidth\":0,\"ticks\":\"\"},\"colorscale\":[[0.0,\"#0d0887\"],[0.1111111111111111,\"#46039f\"],[0.2222222222222222,\"#7201a8\"],[0.3333333333333333,\"#9c179e\"],[0.4444444444444444,\"#bd3786\"],[0.5555555555555556,\"#d8576b\"],[0.6666666666666666,\"#ed7953\"],[0.7777777777777778,\"#fb9f3a\"],[0.8888888888888888,\"#fdca26\"],[1.0,\"#f0f921\"]],\"type\":\"surface\"}],\"table\":[{\"cells\":{\"fill\":{\"color\":\"#EBF0F8\"},\"line\":{\"color\":\"white\"}},\"header\":{\"fill\":{\"color\":\"#C8D4E3\"},\"line\":{\"color\":\"white\"}},\"type\":\"table\"}]},\"layout\":{\"annotationdefaults\":{\"arrowcolor\":\"#2a3f5f\",\"arrowhead\":0,\"arrowwidth\":1},\"autotypenumbers\":\"strict\",\"coloraxis\":{\"colorbar\":{\"outlinewidth\":0,\"ticks\":\"\"}},\"colorscale\":{\"diverging\":[[0,\"#8e0152\"],[0.1,\"#c51b7d\"],[0.2,\"#de77ae\"],[0.3,\"#f1b6da\"],[0.4,\"#fde0ef\"],[0.5,\"#f7f7f7\"],[0.6,\"#e6f5d0\"],[0.7,\"#b8e186\"],[0.8,\"#7fbc41\"],[0.9,\"#4d9221\"],[1,\"#276419\"]],\"sequential\":[[0.0,\"#0d0887\"],[0.1111111111111111,\"#46039f\"],[0.2222222222222222,\"#7201a8\"],[0.3333333333333333,\"#9c179e\"],[0.4444444444444444,\"#bd3786\"],[0.5555555555555556,\"#d8576b\"],[0.6666666666666666,\"#ed7953\"],[0.7777777777777778,\"#fb9f3a\"],[0.8888888888888888,\"#fdca26\"],[1.0,\"#f0f921\"]],\"sequentialminus\":[[0.0,\"#0d0887\"],[0.1111111111111111,\"#46039f\"],[0.2222222222222222,\"#7201a8\"],[0.3333333333333333,\"#9c179e\"],[0.4444444444444444,\"#bd3786\"],[0.5555555555555556,\"#d8576b\"],[0.6666666666666666,\"#ed7953\"],[0.7777777777777778,\"#fb9f3a\"],[0.8888888888888888,\"#fdca26\"],[1.0,\"#f0f921\"]]},\"colorway\":[\"#636efa\",\"#EF553B\",\"#00cc96\",\"#ab63fa\",\"#FFA15A\",\"#19d3f3\",\"#FF6692\",\"#B6E880\",\"#FF97FF\",\"#FECB52\"],\"font\":{\"color\":\"#2a3f5f\"},\"geo\":{\"bgcolor\":\"white\",\"lakecolor\":\"white\",\"landcolor\":\"#E5ECF6\",\"showlakes\":true,\"showland\":true,\"subunitcolor\":\"white\"},\"hoverlabel\":{\"align\":\"left\"},\"hovermode\":\"closest\",\"mapbox\":{\"style\":\"light\"},\"paper_bgcolor\":\"white\",\"plot_bgcolor\":\"#E5ECF6\",\"polar\":{\"angularaxis\":{\"gridcolor\":\"white\",\"linecolor\":\"white\",\"ticks\":\"\"},\"bgcolor\":\"#E5ECF6\",\"radialaxis\":{\"gridcolor\":\"white\",\"linecolor\":\"white\",\"ticks\":\"\"}},\"scene\":{\"xaxis\":{\"backgroundcolor\":\"#E5ECF6\",\"gridcolor\":\"white\",\"gridwidth\":2,\"linecolor\":\"white\",\"showbackground\":true,\"ticks\":\"\",\"zerolinecolor\":\"white\"},\"yaxis\":{\"backgroundcolor\":\"#E5ECF6\",\"gridcolor\":\"white\",\"gridwidth\":2,\"linecolor\":\"white\",\"showbackground\":true,\"ticks\":\"\",\"zerolinecolor\":\"white\"},\"zaxis\":{\"backgroundcolor\":\"#E5ECF6\",\"gridcolor\":\"white\",\"gridwidth\":2,\"linecolor\":\"white\",\"showbackground\":true,\"ticks\":\"\",\"zerolinecolor\":\"white\"}},\"shapedefaults\":{\"line\":{\"color\":\"#2a3f5f\"}},\"ternary\":{\"aaxis\":{\"gridcolor\":\"white\",\"linecolor\":\"white\",\"ticks\":\"\"},\"baxis\":{\"gridcolor\":\"white\",\"linecolor\":\"white\",\"ticks\":\"\"},\"bgcolor\":\"#E5ECF6\",\"caxis\":{\"gridcolor\":\"white\",\"linecolor\":\"white\",\"ticks\":\"\"}},\"title\":{\"x\":0.05},\"xaxis\":{\"automargin\":true,\"gridcolor\":\"white\",\"linecolor\":\"white\",\"ticks\":\"\",\"title\":{\"standoff\":15},\"zerolinecolor\":\"white\",\"zerolinewidth\":2},\"yaxis\":{\"automargin\":true,\"gridcolor\":\"white\",\"linecolor\":\"white\",\"ticks\":\"\",\"title\":{\"standoff\":15},\"zerolinecolor\":\"white\",\"zerolinewidth\":2}}},\"xaxis\":{\"anchor\":\"y\",\"domain\":[0.0,1.0],\"title\":{\"text\":\"artist_genres\"}},\"yaxis\":{\"anchor\":\"x\",\"domain\":[0.0,1.0],\"title\":{\"text\":\"value\"},\"tickmode\":\"linear\",\"tick0\":0,\"dtick\":0.2},\"legend\":{\"title\":{\"text\":\"variable\"},\"tracegroupgap\":0},\"margin\":{\"t\":60},\"barmode\":\"group\"},                        {\"responsive\": true}                    ).then(function(){\n",
       "                            \n",
       "var gd = document.getElementById('729337ed-274a-4730-a2a8-8e7451fe46c0');\n",
       "var x = new MutationObserver(function (mutations, observer) {{\n",
       "        var display = window.getComputedStyle(gd).display;\n",
       "        if (!display || display === 'none') {{\n",
       "            console.log([gd, 'removed!']);\n",
       "            Plotly.purge(gd);\n",
       "            observer.disconnect();\n",
       "        }}\n",
       "}});\n",
       "\n",
       "// Listen for the removal of the full notebook cells\n",
       "var notebookContainer = gd.closest('#notebook-container');\n",
       "if (notebookContainer) {{\n",
       "    x.observe(notebookContainer, {childList: true});\n",
       "}}\n",
       "\n",
       "// Listen for the clearing of the current output cell\n",
       "var outputEl = gd.closest('.output');\n",
       "if (outputEl) {{\n",
       "    x.observe(outputEl, {childList: true});\n",
       "}}\n",
       "\n",
       "                        })                };                });            </script>        </div>"
      ]
     },
     "metadata": {},
     "output_type": "display_data"
    }
   ],
   "source": [
    "top10_genres = genre_df.nlargest(10, 'song_popularity')\n",
    "\n",
    "fig = px.bar(top10_genres, x='artist_genres', y=['valence', 'energy', 'danceability', 'acousticness'], barmode='group')\n",
    "\n",
    "\n",
    "fig.update_layout(\n",
    "    yaxis = dict(\n",
    "        tickmode = 'linear',\n",
    "        tick0 = 0,\n",
    "        dtick = 0.2\n",
    "    )\n",
    ")\n",
    "fig.show()\n",
    "        "
   ]
  },
  {
   "cell_type": "code",
   "execution_count": 61,
   "id": "734e7e6f",
   "metadata": {},
   "outputs": [],
   "source": [
    "cluster_pipeline = Pipeline([('scaler', StandardScaler()), ('kmeans', KMeans(n_clusters=10, random_state=0))])\n",
    "X = genre_df.select_dtypes(np.number)\n",
    "cluster_pipeline.fit(X)\n",
    "genre_df['cluster'] = cluster_pipeline.predict(X)"
   ]
  },
  {
   "cell_type": "code",
   "execution_count": 64,
   "id": "27c7ac59",
   "metadata": {},
   "outputs": [
    {
     "name": "stdout",
     "output_type": "stream",
     "text": [
      "[t-SNE] Computing 91 nearest neighbors...\n",
      "[t-SNE] Indexed 1099 samples in 0.001s...\n",
      "[t-SNE] Computed neighbors for 1099 samples in 0.026s...\n",
      "[t-SNE] Computed conditional probabilities for sample 1000 / 1099\n",
      "[t-SNE] Computed conditional probabilities for sample 1099 / 1099\n",
      "[t-SNE] Mean sigma: 0.572963\n",
      "[t-SNE] KL divergence after 250 iterations with early exaggeration: 65.670944\n",
      "[t-SNE] KL divergence after 1000 iterations: 0.876161\n"
     ]
    },
    {
     "data": {
      "application/vnd.plotly.v1+json": {
       "config": {
        "plotlyServerURL": "https://plot.ly"
       },
       "data": [
        {
         "customdata": [
          [
           "['classic rock', 'country rock', 'folk', 'folk rock', 'rock', 'roots rock', 'singer-songwriter']"
          ],
          [
           "['grunge', 'permanent wave', 'rock']"
          ],
          [
           "['beatlesque', 'british invasion', 'classic rock', 'merseybeat', 'psychedelic rock', 'rock']"
          ],
          [
           "['baroque pop', 'classic rock', 'psychedelic rock', 'rock', 'sunshine pop']"
          ],
          [
           "['classic rock', 'rock', 'rock-and-roll', 'rockabilly']"
          ],
          [
           "['classic soul', 'jazz blues', 'memphis soul', 'soul', 'southern soul']"
          ],
          [
           "['adult standards', 'brill building pop', 'classic girl group', 'soul']"
          ],
          [
           "['classic soul', 'funk', 'indie r&b', 'motown', 'northern soul', 'quiet storm', 'soul']"
          ],
          [
           "['classic soul', 'funk', 'indie r&b', 'motown', 'northern soul', 'quiet storm', 'soul']"
          ],
          [
           "['british invasion', 'classic rock', 'rock']"
          ],
          [
           "['pop', 'r&b', 'soul']"
          ],
          [
           "['rock-and-roll', 'rockabilly']"
          ],
          [
           "['classic rock', 'heartland rock', 'mellow gold', 'permanent wave', 'rock', 'singer-songwriter']"
          ],
          [
           "['album rock', 'art rock', 'blues rock', 'british invasion', 'classic rock', 'hard rock', 'mellow gold', 'psychedelic rock', 'rock']"
          ],
          [
           "['alternative rock', 'art rock', 'madchester', 'new wave', 'post-punk', 'rock', 'uk post-punk']"
          ],
          [
           "['baroque pop', 'classic rock', 'psychedelic rock', 'rock', 'sunshine pop']"
          ],
          [
           "['classic soul', 'memphis soul', 'soul', 'soul blues', 'southern soul']"
          ],
          [
           "['atl hip hop', 'dirty south rap', 'hip hop', 'old school atlanta hip hop', 'pop rap', 'rap', 'southern hip hop']"
          ],
          [
           "['punk', 'rock']"
          ],
          [
           "['dance pop', 'indietronica', 'new rave']"
          ],
          [
           "['classic rock', 'permanent wave', 'punk', 'rock']"
          ],
          [
           "['british invasion', 'classic rock', 'rock']"
          ],
          [
           "['beatlesque', 'british invasion', 'classic rock', 'merseybeat', 'psychedelic rock', 'rock']"
          ],
          [
           "['rock-and-roll', 'rockabilly', 'soul']"
          ],
          [
           "['album rock', 'classic rock', 'hard rock', 'rock']"
          ],
          [
           "['bronx hip hop', 'electro', 'old school hip hop']"
          ],
          [
           "['adult standards', 'classic soul', 'jazz blues', 'piano blues', 'soul', 'soul blues', 'vocal jazz']"
          ],
          [
           "['album rock', 'beatlesque', 'classic rock', 'mellow gold', 'rock']"
          ],
          [
           "['adult standards', 'classic soul', 'rock-and-roll', 'soul']"
          ],
          [
           "['art rock', 'classic rock', 'glam rock', 'permanent wave', 'rock']"
          ],
          [
           "['funk', 'funk rock', 'minneapolis sound', 'synth funk']"
          ],
          [
           "['adult standards', 'motown', 'soul']"
          ],
          [
           "['alternative rock', 'art rock', 'britpop', 'indie rock', 'new wave', 'permanent wave', 'pop rock', 'rock', 'sheffield indie']"
          ],
          [
           "['british invasion', 'classic rock', 'rock']"
          ],
          [
           "['adult standards', 'harlem renaissance', 'jazz', 'jazz blues', 'lounge', 'torch song', 'vocal jazz']"
          ],
          [
           "['album rock', 'art rock', 'british invasion', 'classic rock', 'folk rock', 'glam rock', 'mellow gold', 'protopunk', 'psychedelic rock', 'rock']"
          ],
          [
           "['dance pop', 'pop', 'r&b']"
          ],
          [
           "['alternative rock', 'blues rock', 'detroit rock', 'garage rock', 'modern blues rock', 'modern rock', 'permanent wave', 'punk blues', 'rock']"
          ],
          [
           "['alternative rock', 'athens indie', 'permanent wave', 'pop rock', 'rock']"
          ],
          [
           "['punk', 'rock']"
          ],
          [
           "['classic rock', 'glam rock', 'rock']"
          ],
          [
           "['alternative rock', 'art rock', 'dance rock', 'madchester', 'new romantic', 'new wave', 'new wave pop', 'permanent wave', 'pop rock', 'post-punk', 'rock', 'synthpop', 'uk post-punk']"
          ],
          [
           "['acid rock', 'album rock', 'blues rock', 'classic rock', 'hard rock', 'proto-metal', 'psychedelic rock', 'rock']"
          ],
          [
           "['classic garage rock']"
          ],
          [
           "['adult standards', 'motown']"
          ],
          [
           "['atl hip hop', 'neo soul']"
          ],
          [
           "['adult standards', 'brill building pop', 'bubblegum pop', 'rock-and-roll', 'rockabilly']"
          ],
          [
           "['beatlesque', 'british invasion', 'classic rock', 'merseybeat', 'psychedelic rock', 'rock']"
          ],
          [
           "['album rock', 'art rock', 'british invasion', 'classic rock', 'folk rock', 'glam rock', 'mellow gold', 'protopunk', 'psychedelic rock', 'rock']"
          ],
          [
           "['alternative rock', 'dance rock', 'indie rock', 'modern rock', 'rock', 'scottish rock']"
          ],
          [
           "['dance pop', 'hip hop', 'hip pop', 'pop rap', 'r&b', 'rap', 'urban contemporary', 'virginia hip hop']"
          ],
          [
           "['rock-and-roll', 'rockabilly']"
          ],
          [
           "['acid rock', 'album rock', 'classic rock', 'psychedelic rock', 'rock']"
          ],
          [
           "['dance pop', 'disco', 'hi-nrg', 'new wave pop']"
          ],
          [
           "['madchester', 'new wave', 'permanent wave', 'rock', 'uk post-punk']"
          ],
          [
           "['art rock', 'classic rock', 'glam rock', 'permanent wave', 'rock']"
          ],
          [
           "['adult standards', 'rock-and-roll', 'soul']"
          ],
          [
           "['art rock', 'beatlesque', 'blues rock', 'classic rock', 'cosmic american', 'country rock', 'folk', 'folk rock', 'mellow gold', 'psychedelic rock', 'rock', 'roots rock', 'soft rock']"
          ],
          [
           "['alternative rock', 'britpop', 'permanent wave', 'pop rock', 'rock', 'shoegaze']"
          ],
          [
           "['adult standards', 'rock-and-roll', 'rockabilly']"
          ],
          [
           "['album rock', 'art rock', 'blues', 'blues rock', 'british blues', 'classic rock', 'country rock', 'electric blues', 'folk rock', 'hard rock', 'mellow gold', 'psychedelic rock', 'rock', 'roots rock', 'soft rock', 'symphonic rock']"
          ],
          [
           "['classic soul', 'funk', 'soul', 'southern soul']"
          ],
          [
           "['downtempo', 'electronica', 'trip hop']"
          ],
          [
           "['alternative rock', 'anti-folk', 'indie rock', 'modern rock', 'permanent wave', 'rock']"
          ],
          [
           "['conscious hip hop', 'east coast hip hop', 'gangster rap', 'golden age hip hop', 'hardcore hip hop', 'hip hop', 'old school hip hop', 'political hip hop', 'rap', 'rap rock']"
          ],
          [
           "['art punk', 'art rock', 'dance rock', 'funk rock', 'new wave', 'permanent wave', 'post-punk', 'rock', 'zolo']"
          ],
          [
           "['alternative rock', 'art rock', 'melancholia', 'oxford indie', 'permanent wave', 'rock']"
          ],
          [
           "['album rock', 'classic rock', 'hard rock', 'rock']"
          ],
          [
           "['conscious hip hop', 'hip hop', 'rap', 'west coast rap']"
          ],
          [
           "['album rock', 'blues rock', 'british invasion', 'classic rock', 'folk rock', 'protopunk', 'psychedelic rock', 'rock']"
          ],
          [
           "['art rock', 'classic rock', 'glam rock', 'permanent wave', 'psychedelic rock', 'rock', 'singer-songwriter']"
          ],
          [
           "['album rock', 'classic rock', 'folk rock', 'heartland rock', 'mellow gold', 'rock', 'soft rock', 'yacht rock']"
          ],
          [
           "['east coast hip hop', 'hip hop', 'rap']"
          ],
          [
           "['art pop', 'dance pop', 'electropop', 'europop', 'pop', 'scandipop', 'swedish electropop', 'swedish pop']"
          ],
          [
           "['dance pop', 'pop', 'r&b']"
          ],
          [
           "['classic soul', 'funk', 'memphis soul', 'quiet storm', 'soul', 'soul blues', 'southern soul']"
          ],
          [
           "['british invasion', 'classic rock', 'rock']"
          ],
          [
           "['alternative dance', 'alternative rock', 'dance rock', 'dance-punk', 'electronic rock', 'electronica', 'indie rock', 'indietronica', 'modern rock', 'new rave', 'rock']"
          ],
          [
           "['bubblegum pop', 'classic rock', 'folk rock', 'mellow gold', 'psychedelic rock', 'rock', 'sunshine pop']"
          ],
          [
           "['classic rock', 'early us punk', 'permanent wave', 'punk', 'rock']"
          ],
          [
           "['classic girl group', 'classic soul', 'disco', 'funk', 'motown', 'quiet storm', 'rock-and-roll', 'soul']"
          ],
          [
           "['rock-and-roll', 'rockabilly']"
          ],
          [
           "['art pop', 'canadian electropop', 'dance pop', 'grave wave', 'indietronica', 'metropopolis', 'pop']"
          ],
          [
           "['beatlesque', 'british invasion', 'classic rock', 'merseybeat', 'psychedelic rock', 'rock']"
          ],
          [
           "['acid rock', 'album rock', 'blues rock', 'classic rock', 'hard rock', 'proto-metal', 'psychedelic rock', 'rock']"
          ],
          [
           "['lilith', 'new wave pop', 'pop rock']"
          ],
          [
           "['madchester', 'new wave', 'permanent wave', 'rock', 'uk post-punk']"
          ],
          [
           "['glam metal', 'hard rock', 'rock']"
          ],
          [
           "['blues rock', 'classic rock', 'country rock', 'folk', 'folk rock', 'mellow gold', 'psychedelic rock', 'rock', 'roots rock', 'soft rock']"
          ],
          [
           "['album rock', 'blues rock', 'classic canadian rock', 'classic rock', 'cosmic american', 'country rock', 'folk', 'folk rock', 'heartland rock', 'mellow gold', 'rock', 'roots rock', 'soft rock', 'swamp rock']"
          ],
          [
           "['chicago rap', 'rap']"
          ],
          [
           "['punk', 'ska', 'ska revival']"
          ],
          [
           "['art pop', 'metropopolis', 'nz pop', 'pop']"
          ],
          [
           "['electro', 'filter house']"
          ],
          [
           "['rock-and-roll', 'rockabilly']"
          ],
          [
           "['art rock', 'classic rock', 'glam rock', 'permanent wave', 'rock']"
          ],
          [
           "['adult standards', 'classic soul', 'disco', 'funk', 'mellow gold', 'motown', 'quiet storm', 'soul']"
          ],
          [
           "['rock-and-roll', 'rockabilly']"
          ],
          [
           "['funk', 'soul']"
          ],
          [
           "['beatlesque', 'britpop', 'madchester', 'permanent wave', 'pop rock', 'rock']"
          ],
          [
           "['alternative rock', 'art rock', 'classic rock', 'folk rock', 'melancholia', 'permanent wave', 'protopunk', 'psychedelic rock', 'rock']"
          ],
          [
           "['piano rock', 'rock-and-roll', 'rockabilly']"
          ],
          [
           "['classic rock', 'heartland rock', 'mellow gold', 'permanent wave', 'rock', 'singer-songwriter']"
          ],
          [
           "['irish rock', 'permanent wave', 'rock']"
          ],
          [
           "['alternative rock', 'art rock', 'classic rock', 'folk rock', 'melancholia', 'permanent wave', 'protopunk', 'psychedelic rock', 'rock']"
          ],
          [
           "['classic soul', 'funk', 'motown', 'quiet storm', 'soul', 'southern soul']"
          ],
          [
           "['beatlesque', 'british invasion', 'classic rock', 'merseybeat', 'psychedelic rock', 'rock']"
          ],
          [
           "['europop', 'swedish pop']"
          ],
          [
           "['adult standards', 'rock-and-roll', 'rockabilly']"
          ],
          [
           "['madchester', 'new wave', 'permanent wave', 'rock', 'uk post-punk']"
          ],
          [
           "['rock-and-roll', 'rockabilly']"
          ],
          [
           "['disco', 'funk', 'post-disco', 'quiet storm', 'soul']"
          ],
          [
           "['hip hop', 'lgbtq+ hip hop', 'neo soul']"
          ],
          [
           "['classic soul', 'funk', 'memphis soul', 'motown', 'soul']"
          ],
          [
           "['british invasion', 'classic rock', 'rock']"
          ],
          [
           "['art pop', 'pop']"
          ],
          [
           "['british soul', 'neo soul']"
          ],
          [
           "['east coast hip hop', 'electro', 'funk', 'hip hop', 'hip house', 'new jersey rap', 'old school hip hop', 'rap']"
          ],
          [
           "['classic rock', 'folk', 'folk rock', 'melancholia', 'mellow gold', 'rock']"
          ],
          [
           "['classic rock', 'country rock', 'rock', 'southern rock', 'swamp rock']"
          ],
          [
           "['funk', 'soul']"
          ],
          [
           "['classic rock', 'folk', 'folk rock', 'melancholia', 'mellow gold', 'rock']"
          ],
          [
           "['reggae', 'roots reggae']"
          ],
          [
           "['classic rock', 'country rock', 'rock', 'southern rock', 'swamp rock']"
          ],
          [
           "['album rock', 'classic rock', 'mellow gold', 'permanent wave', 'rock']"
          ],
          [
           "['classic rock', 'rock', 'rock-and-roll', 'rockabilly']"
          ],
          [
           "['album rock', 'art rock', 'blues rock', 'british invasion', 'classic rock', 'folk rock', 'progressive rock', 'psychedelic rock', 'symphonic rock']"
          ],
          [
           "['french shoegaze', 'french synthpop', 'indietronica', 'metropopolis', 'neo-synthpop']"
          ],
          [
           "['alternative dance', 'alternative rock', 'dance rock', 'dance-punk', 'electronic rock', 'electronica', 'indie rock', 'indietronica', 'modern rock', 'new rave', 'rock']"
          ],
          [
           "['honky tonk', 'traditional country', 'yodeling']"
          ],
          [
           "['art rock', 'beatlesque', 'blues rock', 'classic rock', 'cosmic american', 'country rock', 'folk', 'folk rock', 'mellow gold', 'psychedelic rock', 'rock', 'roots rock', 'soft rock']"
          ],
          [
           "['alternative dance', 'big beat', 'electronica']"
          ],
          [
           "['piano rock', 'rock-and-roll', 'rockabilly']"
          ],
          [
           "['classic soul', 'funk', 'instrumental funk', 'instrumental soul', 'memphis soul', 'soul', 'southern soul']"
          ],
          [
           "['alternative dance', 'alternative rock', 'dance-punk', 'garage rock', 'indie rock', 'modern rock', 'new rave', 'rock']"
          ],
          [
           "['barbadian pop', 'dance pop', 'pop', 'urban contemporary']"
          ],
          [
           "['beatlesque', 'british invasion', 'classic rock', 'merseybeat', 'psychedelic rock', 'rock']"
          ],
          [
           "['disco', 'mellow gold', 'soft rock']"
          ],
          [
           "['classic rock', 'country rock', 'folk', 'folk rock', 'rock', 'roots rock', 'singer-songwriter']"
          ],
          [
           "['mellow gold', 'soft rock']"
          ],
          [
           "['adult standards', 'classic girl group', 'doo-wop', 'rhythm and blues', 'rock-and-roll', 'rockabilly', 'soul']"
          ],
          [
           "['alternative dance', 'baltimore indie', 'chillwave', 'indie rock', 'modern rock', 'new rave']"
          ],
          [
           "['alternative rock', 'art rock', 'melancholia', 'oxford indie', 'permanent wave', 'rock']"
          ],
          [
           "['rock-and-roll', 'rockabilly']"
          ],
          [
           "['album rock', 'birmingham metal', 'classic rock', 'hard rock', 'metal', 'rock', 'stoner rock', 'uk doom metal']"
          ],
          [
           "['candy pop', 'new wave', 'new wave pop', 'permanent wave', 'power pop', 'rock']"
          ],
          [
           "['album rock', 'classic rock', 'hard rock', 'rock']"
          ],
          [
           "['east coast hip hop', 'golden age hip hop', 'hardcore hip hop', 'hip hop', 'old school hip hop', 'queens hip hop', 'rap']"
          ],
          [
           "['dance pop']"
          ],
          [
           "['alternative rock', 'art punk', 'art rock', 'experimental', 'indie rock', 'new wave', 'no wave', 'post-punk', 'protopunk', 'psychedelic rock', 'punk', 'punk blues']"
          ],
          [
           "['canadian hip hop', 'canadian pop', 'hip hop', 'rap', 'toronto rap']"
          ],
          [
           "['beatlesque', 'britpop', 'madchester', 'permanent wave', 'pop rock', 'rock']"
          ],
          [
           "['alternative dance', 'indietronica', 'modern rock', 'rock']"
          ],
          [
           "['soul', 'southern soul']"
          ],
          [
           "['british invasion', 'classic rock', 'rock']"
          ],
          [
           "[]"
          ],
          [
           "['beatlesque', 'british invasion', 'classic rock', 'merseybeat', 'psychedelic rock', 'rock']"
          ],
          [
           "['american folk revival', 'appalachian folk', 'folk', 'old-time', 'protest folk', 'singer-songwriter', 'traditional blues', 'traditional folk']"
          ],
          [
           "['adult standards', 'bubblegum pop', 'mellow gold', 'rock-and-roll', 'rockabilly']"
          ],
          [
           "['rock-and-roll', 'rockabilly']"
          ],
          [
           "['east coast hip hop', 'hip hop', 'rap']"
          ],
          [
           "['garage rock', 'modern rock', 'permanent wave', 'rock', 'sheffield indie']"
          ],
          [
           "['dance pop']"
          ],
          [
           "['dance pop']"
          ],
          [
           "['australian psych', 'neo-psychedelic']"
          ],
          [
           "['afrofuturism', 'alternative r&b', 'dance pop', 'escape room', 'hip pop', 'indie soul', 'neo soul', 'r&b', 'urban contemporary']"
          ],
          [
           "['alternative rock', 'britpop', 'madchester', 'modern rock', 'permanent wave', 'pop rock', 'rock']"
          ],
          [
           "['funk', 'funk rock', 'minneapolis sound', 'synth funk']"
          ],
          [
           "['art pop', 'art rock', 'baroque pop', 'new wave pop', 'permanent wave', 'piano rock', 'singer-songwriter']"
          ],
          [
           "['classic rock', 'heartland rock', 'mellow gold', 'permanent wave', 'rock', 'singer-songwriter']"
          ],
          [
           "['alternative dance', 'indietronica', 'modern rock', 'rock']"
          ],
          [
           "['g funk', 'gangster rap', 'hip hop', 'rap', 'west coast rap']"
          ],
          [
           "['adult standards', 'bubblegum pop', 'classic rock', 'folk rock', 'lounge', 'rock-and-roll', 'rockabilly']"
          ],
          [
           "['acid rock', 'blues rock', 'classic rock', 'folk rock', 'psychedelic rock', 'rock']"
          ],
          [
           "['funk', 'funk rock', 'minneapolis sound', 'synth funk']"
          ],
          [
           "['irish rock', 'permanent wave', 'rock']"
          ],
          [
           "['art punk', 'art rock', 'dance rock', 'funk rock', 'new wave', 'permanent wave', 'post-punk', 'rock', 'zolo']"
          ],
          [
           "['new romantic', 'new wave', 'new wave pop', 'synthpop']"
          ],
          [
           "['funk', 'funk rock', 'minneapolis sound', 'synth funk']"
          ],
          [
           "['classic rock', 'classic soul', 'disco', 'funk', 'funk rock', 'psychedelic soul', 'rock', 'soul']"
          ],
          [
           "['australian dance', 'australian pop', 'dance pop', 'electropop', 'eurodance', 'europop', 'new wave pop', 'pop']"
          ],
          [
           "['british invasion', 'classic rock', 'rock']"
          ],
          [
           "['brooklyn indie', 'indie pop']"
          ],
          [
           "['dusseldorf electronic', 'early synthpop', 'electro', 'new romantic', 'new wave', 'proto-techno', 'synthpop']"
          ],
          [
           "['alternative rock', 'art pop', 'baltimore indie', 'chillwave', 'dream pop', 'experimental pop', 'freak folk', 'indie rock', 'modern rock', 'new rave', 'noise pop']"
          ],
          [
           "['beatlesque', 'british invasion', 'classic rock', 'merseybeat', 'psychedelic rock', 'rock']"
          ],
          [
           "['album rock', 'art rock', 'blues rock', 'classic rock', 'folk rock', 'glam rock', 'protopunk', 'psychedelic rock', 'rock']"
          ],
          [
           "['britpop', 'pop rock', 'rock']"
          ],
          [
           "['beatlesque', 'british invasion', 'classic rock', 'merseybeat', 'psychedelic rock', 'rock']"
          ],
          [
           "['alternative dance', 'dance-punk', 'electroclash', 'electronica', 'indie rock', 'modern rock', 'new rave']"
          ],
          [
           "['alternative rock', 'garage rock', 'modern rock', 'permanent wave', 'rock']"
          ],
          [
           "['disco', 'funk', 'post-disco', 'quiet storm', 'soul']"
          ],
          [
           "['album rock', 'art rock', 'blues rock', 'british invasion', 'classic rock', 'hard rock', 'mellow gold', 'psychedelic rock', 'rock']"
          ],
          [
           "['beatlesque', 'british invasion', 'classic rock', 'merseybeat', 'psychedelic rock', 'rock']"
          ],
          [
           "['arkansas country', 'outlaw country']"
          ],
          [
           "['atl hip hop', 'dirty south rap', 'hip hop', 'old school atlanta hip hop', 'pop rap', 'rap', 'southern hip hop']"
          ],
          [
           "['adult standards', 'brill building pop', 'disco', 'lounge', 'mellow gold', 'quiet storm', 'soft rock']"
          ],
          [
           "['arkansas country', 'outlaw country']"
          ],
          [
           "['funk', 'funk rock', 'minneapolis sound', 'synth funk']"
          ],
          [
           "['art pop', 'electropop', 'pop']"
          ],
          [
           "['mod revival', 'new wave', 'new wave pop', 'northern irish punk', 'post-punk', 'pub rock', 'punk', 'ska']"
          ],
          [
           "['atl hip hop', 'hip hop', 'rap']"
          ],
          [
           "['classic rock', 'country rock', 'folk', 'folk rock', 'rock', 'roots rock', 'singer-songwriter']"
          ],
          [
           "['arkansas country', 'outlaw country']"
          ],
          [
           "['classic rock', 'folk', 'folk rock', 'mellow gold', 'rock', 'roots rock', 'singer-songwriter', 'soft rock']"
          ],
          [
           "['adult standards', 'louisiana blues', 'lounge', 'new orleans blues', 'piano blues', 'rock-and-roll', 'rockabilly', 'soul']"
          ],
          [
           "['bronx hip hop', 'east coast hip hop', 'electro', 'hip hop', 'old school hip hop']"
          ],
          [
           "['adult standards', 'nashville sound']"
          ],
          [
           "['blues', 'blues rock', 'chicago blues', 'electric blues', 'rhythm and blues', 'rock-and-roll', 'rockabilly', 'soul', 'traditional blues']"
          ],
          [
           "['classic rock', 'country rock', 'folk', 'folk rock', 'rock', 'roots rock', 'singer-songwriter']"
          ],
          [
           "['alternative rock', 'dance rock', 'permanent wave', 'rock']"
          ],
          [
           "['chicago soul', 'classic soul', 'funk', 'quiet storm', 'rhythm and blues', 'soul']"
          ],
          [
           "['art rock', 'classic rock', 'glam rock', 'melancholia', 'mellow gold', 'new romantic', 'new wave', 'new wave pop', 'rock', 'soft rock', 'sophisti-pop']"
          ],
          [
           "['adult standards', 'bubblegum pop', 'merseybeat', 'rock-and-roll', 'rockabilly']"
          ],
          [
           "['album rock', 'art rock', 'blues rock', 'british invasion', 'classic rock', 'hard rock', 'mellow gold', 'psychedelic rock', 'rock']"
          ],
          [
           "['album rock', 'classic rock', 'rock', 'soft rock', 'yacht rock']"
          ],
          [
           "['afrofuturism', 'alternative r&b', 'art pop', 'escape room', 'experimental r&b', 'pop', 'trip hop']"
          ],
          [
           "['classic rock', 'permanent wave', 'punk', 'rock']"
          ],
          [
           "['album rock', 'art rock', 'blues rock', 'classic rock', 'hard rock', 'metal', 'rock']"
          ],
          [
           "['beatlesque', 'british invasion', 'classic rock', 'merseybeat', 'psychedelic rock', 'rock']"
          ],
          [
           "['album rock', 'blues rock', 'classic rock', 'hard rock', 'metal', 'psychedelic rock', 'rock']"
          ],
          [
           "['dance pop', 'pop']"
          ],
          [
           "['boston rock']"
          ],
          [
           "['art rock', 'new romantic', 'new wave', 'new wave pop', 'permanent wave', 'rock', 'soft rock', 'sophisti-pop', 'synthpop']"
          ],
          [
           "['dance pop', 'indietronica', 'new rave']"
          ],
          [
           "['art rock', 'classic rock', 'glam rock', 'permanent wave', 'rock']"
          ],
          [
           "['pop', 'r&b', 'soul']"
          ],
          [
           "['beatlesque', 'british invasion', 'classic rock', 'merseybeat', 'psychedelic rock', 'rock']"
          ],
          [
           "['rock-and-roll', 'rockabilly']"
          ],
          [
           "['classic soul', 'funk', 'memphis soul', 'motown', 'soul']"
          ],
          [
           "['british soul', 'pop', 'pop soul', 'uk pop']"
          ],
          [
           "['adult standards', 'motown', 'soul']"
          ],
          [
           "['british blues', 'british invasion', 'classic rock', 'folk rock', 'protopunk', 'psychedelic rock', 'rock', 'roots rock']"
          ],
          [
           "['classic soul', 'memphis soul', 'soul', 'soul blues', 'southern soul']"
          ],
          [
           "['alternative rock', 'blues rock', 'classic rock', 'detroit rock', 'garage rock', 'new wave', 'permanent wave', 'post-punk', 'protopunk', 'punk', 'punk blues', 'rock']"
          ],
          [
           "['alternative metal', 'alternative rock', 'grunge', 'permanent wave', 'pop rock', 'rock', 'spacegrunge']"
          ],
          [
           "['bossa nova', 'cool jazz', 'jazz', 'jazz saxophone', 'latin jazz', 'lounge', 'samba-jazz']"
          ],
          [
           "['adult standards', 'classic soul', 'rock-and-roll', 'soul']"
          ],
          [
           "['british invasion', 'bubblegum pop', 'classic garage rock', 'classic rock', 'folk rock', 'freakbeat', 'merseybeat', 'psychedelic rock', 'rock-and-roll']"
          ],
          [
           "['art rock', 'classic rock', 'glam rock', 'permanent wave', 'rock']"
          ],
          [
           "['classic soul', 'funk', 'memphis soul', 'rock-and-roll', 'soul', 'southern soul']"
          ],
          [
           "['adult standards', 'arkansas country', 'classic country pop', 'classic rock', 'folk rock', 'lounge', 'mellow gold', 'nashville sound', 'soft rock']"
          ],
          [
           "['funk', 'soul']"
          ],
          [
           "['alternative rock', 'art rock', 'melancholia', 'oxford indie', 'permanent wave', 'rock']"
          ],
          [
           "['album rock', 'art rock', 'blues rock', 'classic rock', 'folk rock', 'hard rock', 'psychedelic rock', 'rock', 'roots rock', 'supergroup', 'symphonic rock']"
          ],
          [
           "['alternative rock', 'blues rock', 'classic rock', 'detroit rock', 'garage rock', 'new wave', 'permanent wave', 'post-punk', 'protopunk', 'punk', 'punk blues', 'rock']"
          ],
          [
           "['beatlesque', 'british invasion', 'classic rock', 'merseybeat', 'psychedelic rock', 'rock']"
          ],
          [
           "['alternative rock', 'madchester', 'new wave', 'post-punk', 'pub rock', 'punk']"
          ],
          [
           "['classic rock', 'country rock', 'folk', 'folk rock', 'rock', 'roots rock', 'singer-songwriter']"
          ],
          [
           "['irish rock', 'permanent wave', 'rock']"
          ],
          [
           "['rock-and-roll', 'rockabilly']"
          ],
          [
           "['brill building pop', 'classic girl group']"
          ],
          [
           "['classic soul', 'funk', 'indie r&b', 'motown', 'northern soul', 'quiet storm', 'soul']"
          ],
          [
           "['adult standards', 'rock-and-roll', 'rockabilly']"
          ],
          [
           "['alternative dance', 'alternative rock', 'dance rock', 'dance-punk', 'electronic rock', 'electronica', 'indie rock', 'indietronica', 'modern rock', 'new rave', 'rock']"
          ],
          [
           "['art rock', 'dance rock', 'hi-nrg', 'new romantic', 'new wave', 'new wave pop', 'synthpop']"
          ],
          [
           "['dusseldorf electronic', 'early synthpop', 'electro', 'new romantic', 'new wave', 'proto-techno', 'synthpop']"
          ],
          [
           "['baroque pop', 'canadian indie', 'indie rock', 'modern rock', 'permanent wave', 'quebec indie', 'rock']"
          ],
          [
           "['baroque pop', 'classic rock', 'psychedelic rock', 'rock', 'sunshine pop']"
          ],
          [
           "['alternative rock', 'boston rock', 'modern rock', 'permanent wave', 'rock']"
          ],
          [
           "['alternative rock', 'art rock', 'classic rock', 'folk rock', 'melancholia', 'permanent wave', 'protopunk', 'psychedelic rock', 'rock']"
          ],
          [
           "['doo-wop', 'rhythm and blues', 'rock-and-roll']"
          ],
          [
           "['art pop', 'art rock', 'baroque pop', 'new wave pop', 'permanent wave', 'piano rock', 'singer-songwriter']"
          ],
          [
           "['pop', 'r&b', 'soul']"
          ],
          [
           "['album rock', 'art rock', 'classic rock', 'progressive rock', 'psychedelic rock', 'rock', 'symphonic rock']"
          ],
          [
           "['alternative rock', 'east coast hip hop', 'golden age hip hop', 'hip hop', 'old school hip hop', 'rap', 'rap rock', 'rock']"
          ],
          [
           "['acid rock', 'art rock', 'classic rock', 'country rock', 'experimental', 'folk rock', 'psychedelic rock', 'rock', 'roots rock']"
          ],
          [
           "['electro', 'filter house']"
          ],
          [
           "['art pop', 'metropopolis', 'nz pop', 'pop']"
          ],
          [
           "['alternative dance', 'art pop', 'dance rock', 'electronica', 'electropop', 'indie rock', 'indietronica', 'modern rock', 'neo-synthpop', 'new rave']"
          ],
          [
           "['album rock', 'art rock', 'blues rock', 'classic rock', 'classic uk pop', 'folk rock', 'glam rock', 'hard rock', 'power pop', 'protopunk', 'psychedelic rock', 'pub rock']"
          ],
          [
           "['album rock', 'art rock', 'blues rock', 'classic rock', 'hard rock', 'irish rock', 'metal', 'rock']"
          ],
          [
           "['detroit hip hop', 'hip hop', 'rap']"
          ],
          [
           "['alternative r&b', 'dance pop', 'escape room', 'hip house', 'lgbtq+ hip hop', 'pop', 'rap', 'trap queen']"
          ],
          [
           "['big beat', 'breakbeat', 'dance rock', 'hardcore techno', 'rave']"
          ],
          [
           "['classic garage rock', 'detroit rock', 'garage rock', 'proto-metal', 'protopunk', 'pub rock', 'punk', 'punk blues']"
          ],
          [
           "['album rock', 'art rock', 'classic rock', 'progressive rock', 'psychedelic rock', 'rock', 'symphonic rock']"
          ],
          [
           "['alternative dance', 'art pop', 'baroque pop', 'brooklyn indie', 'chillwave', 'dream pop', 'indie rock', 'modern rock', 'new weird america', 'stomp and holler']"
          ],
          [
           "['alternative rock', 'britpop', 'madchester', 'modern rock', 'permanent wave', 'pop rock', 'rock']"
          ],
          [
           "['adult standards', 'british invasion', 'classic rock', 'folk', 'folk rock', 'mellow gold', 'rock', 'soul']"
          ],
          [
           "['alternative pop', 'alternative rock', 'anti-folk', 'boston rock', 'dream pop', 'lo-fi', 'new wave', 'pop rock', 'post-punk']"
          ],
          [
           "['atl hip hop', 'dirty south rap', 'hip hop', 'old school atlanta hip hop', 'pop rap', 'rap', 'southern hip hop']"
          ],
          [
           "['hip hop', 'lgbtq+ hip hop', 'neo soul']"
          ],
          [
           "['reggae', 'roots reggae']"
          ],
          [
           "['chicago rap', 'rap']"
          ],
          [
           "['ska']"
          ],
          [
           "['beatlesque', 'british invasion', 'classic rock', 'merseybeat', 'psychedelic rock', 'rock']"
          ],
          [
           "['arkansas country', 'outlaw country']"
          ],
          [
           "['classic soul', 'funk', 'indie r&b', 'motown', 'northern soul', 'quiet storm', 'soul']"
          ],
          [
           "['acoustic blues', 'blues', 'delta blues', 'pre-war blues', 'traditional blues']"
          ],
          [
           "['australian rock', 'hard rock', 'rock']"
          ],
          [
           "['acid rock', 'album rock', 'blues rock', 'classic canadian rock', 'classic rock', 'country rock', 'folk rock', 'hard rock', 'mellow gold', 'proto-metal', 'psychedelic rock', 'rock', 'symphonic rock']"
          ],
          [
           "['electro', 'filter house']"
          ],
          [
           "['classic soul', 'disco', 'funk', 'jazz funk', 'memphis soul', 'quiet storm', 'soul', 'southern soul']"
          ],
          [
           "['album rock', 'art rock', 'classic rock', 'folk rock', 'mellow gold', 'new romantic', 'new wave', 'new wave pop', 'permanent wave', 'pop rock', 'rock', 'soft rock']"
          ],
          [
           "['blues', 'boogie-woogie', 'jump blues', 'rhythm and blues', 'rock-and-roll', 'rockabilly', 'traditional blues']"
          ],
          [
           "['blues', 'blues rock', 'chicago blues', 'classic rock', 'electric blues', 'soul', 'traditional blues']"
          ],
          [
           "['chicago rap', 'rap']"
          ],
          [
           "['canadian singer-songwriter', 'folk', 'folk rock', 'melancholia', 'permanent wave', 'singer-songwriter']"
          ],
          [
           "['adult standards', 'bubblegum pop', 'folk rock', 'lounge', 'mellow gold', 'rock-and-roll', 'rockabilly', 'sunshine pop']"
          ],
          [
           "['ambient', 'braindance', 'electronica', 'intelligent dance music', 'uk experimental electronic']"
          ],
          [
           "['alternative dance', 'art pop', 'dream pop', 'electroclash', 'electronica', 'electropop', 'gothenburg indie', 'neo-synthpop', 'new rave', 'swedish electropop', 'swedish synthpop']"
          ],
          [
           "['album rock', 'blues rock', 'classic rock', 'detroit rock', 'glam metal', 'glam rock', 'hard rock', 'metal', 'protopunk', 'rock']"
          ],
          [
           "['classic girl group', 'disco', 'funk', 'motown', 'quiet storm', 'soul']"
          ],
          [
           "['chanson', 'torch song', 'vintage schlager']"
          ],
          [
           "['alternative rock', 'blues rock', 'detroit rock', 'garage rock', 'modern blues rock', 'modern rock', 'permanent wave', 'punk blues', 'rock']"
          ],
          [
           "['hard rock', 'metal', 'old school thrash', 'rock', 'thrash metal']"
          ],
          [
           "['chanson', 'french rock']"
          ],
          [
           "['alternative rock', 'boston rock', 'modern rock', 'permanent wave', 'rock']"
          ],
          [
           "['bubblegum pop', 'chicano punk', 'classic garage rock', 'detroit rock', 'freakbeat', 'protopunk', 'psychedelic rock']"
          ],
          [
           "['detroit hip hop', 'hip hop', 'rap']"
          ],
          [
           "['alternative rock', 'athens indie', 'permanent wave', 'pop rock', 'rock']"
          ],
          [
           "['conscious hip hop', 'east coast hip hop', 'gangster rap', 'golden age hip hop', 'hardcore hip hop', 'hip hop', 'old school hip hop', 'political hip hop', 'rap', 'rap rock']"
          ],
          [
           "['album rock', 'hard rock', 'metal', 'rock', 'speed metal']"
          ],
          [
           "['classic girl group', 'disco', 'funk', 'motown', 'quiet storm', 'soul']"
          ],
          [
           "['alternative rock', 'art rock', 'indie rock', 'noise pop', 'noise rock', 'post-punk', 'rock']"
          ],
          [
           "['adult standards', 'chicago soul', 'classic soul', 'funk', 'quiet storm', 'rhythm and blues', 'rock-and-roll', 'rockabilly', 'soul']"
          ],
          [
           "['baroque pop', 'canadian indie', 'indie rock', 'modern rock', 'permanent wave', 'quebec indie', 'rock']"
          ],
          [
           "['cosmic american', 'native american', 'punk blues', 'rock-and-roll', 'rockabilly', 'surf music']"
          ],
          [
           "['blues rock', 'british blues', 'british invasion', 'bubblegum pop', 'classic rock', 'folk rock', 'merseybeat', 'protopunk', 'psychedelic rock', 'rock', 'rock-and-roll']"
          ],
          [
           "['art punk', 'art rock', 'permanent wave', 'protopunk', 'rock']"
          ],
          [
           "['australian rock', 'hard rock', 'rock']"
          ],
          [
           "['british invasion', 'classic rock', 'rock']"
          ],
          [
           "['art rock', 'bubblegum pop', 'classic rock', 'country rock', 'folk', 'folk rock', 'mellow gold', 'merseybeat', 'psychedelic rock', 'rock', 'rock-and-roll', 'roots rock', 'soft rock']"
          ],
          [
           "['alternative dance', 'art pop', 'dance pop', 'electroclash', 'electronica', 'new rave', 'nu disco']"
          ],
          [
           "['alternative metal', 'alternative rock', 'conscious hip hop', 'funk metal', 'nu metal', 'political hip hop', 'rap metal', 'rap rock', 'rock']"
          ],
          [
           "['adult standards', 'bubblegum pop', 'mellow gold', 'rock-and-roll', 'rockabilly']"
          ],
          [
           "['new wave', 'permanent wave', 'rock', 'uk post-punk']"
          ],
          [
           "['art rock', 'dance rock', 'europop', 'mellow gold', 'new romantic', 'new wave', 'new wave pop', 'rock', 'soft rock', 'sophisti-pop', 'synthpop']"
          ],
          [
           "['alternative dance', 'alternative rock', 'baroque pop', 'indie pop', 'indie rock', 'modern rock', 'new rave', 'stomp and holler', 'swedish alternative rock', 'swedish indie pop']"
          ],
          [
           "['art pop', 'chamber pop', 'dream pop', 'indie pop', 'indie rock', 'melancholia', 'new jersey indie']"
          ],
          [
           "['album rock', 'blues rock', 'classic rock', 'country rock', 'hard rock', 'mellow gold', 'rock', 'southern rock']"
          ],
          [
           "['album rock', 'art rock', 'blues rock', 'british invasion', 'classic rock', 'hard rock', 'mellow gold', 'psychedelic rock', 'rock']"
          ],
          [
           "['hip house']"
          ],
          [
           "['alternative rock', 'double drumming', 'indie rock', 'modern rock', 'rock', 'washington indie']"
          ],
          [
           "['adult standards', 'easy listening']"
          ],
          [
           "['british invasion', 'classic rock', 'rock']"
          ],
          [
           "['chicago soul', 'classic soul', 'funk', 'soul']"
          ],
          [
           "['afrofuturism', 'alternative r&b', 'art pop', 'escape room', 'experimental r&b', 'pop', 'trip hop']"
          ],
          [
           "['classic soul', 'funk', 'memphis soul', 'soul', 'soul blues', 'southern soul']"
          ],
          [
           "['album rock', 'blues rock', 'classic rock', 'country rock', 'hard rock', 'mellow gold', 'rock', 'southern rock']"
          ],
          [
           "['dance pop', 'pop', 'rap']"
          ],
          [
           "['classic rock', 'glam rock', 'new wave', 'permanent wave', 'protopunk', 'punk', 'rock']"
          ],
          [
           "['canadian singer-songwriter', 'classic canadian rock', 'classic rock', 'mellow gold', 'permanent wave', 'rock', 'roots rock', 'singer-songwriter']"
          ],
          [
           "['conscious hip hop', 'hip hop', 'rap', 'west coast rap']"
          ],
          [
           "['art rock', 'classic rock', 'glam rock', 'permanent wave', 'rock']"
          ],
          [
           "['conscious hip hop', 'hip hop', 'rap', 'west coast rap']"
          ],
          [
           "['classic soul', 'jazz blues', 'memphis soul', 'soul', 'southern soul']"
          ],
          [
           "['hot jazz', 'new orleans jazz']"
          ],
          [
           "['album rock', 'art rock', 'blues rock', 'british invasion', 'classic rock', 'hard rock', 'mellow gold', 'psychedelic rock', 'rock']"
          ],
          [
           "['baroque pop', 'classic rock', 'psychedelic rock', 'rock', 'sunshine pop']"
          ],
          [
           "['album rock', 'art rock', 'blues rock', 'classic rock', 'country rock', 'hard rock', 'mellow gold', 'rock', 'soft rock']"
          ],
          [
           "['beatlesque', 'british invasion', 'classic rock', 'merseybeat', 'psychedelic rock', 'rock']"
          ],
          [
           "['alternative rock', 'funk metal', 'funk rock', 'permanent wave']"
          ],
          [
           "['electro', 'filter house']"
          ],
          [
           "['album rock', 'art rock', 'british invasion', 'classic rock', 'folk rock', 'glam rock', 'mellow gold', 'protopunk', 'psychedelic rock', 'rock']"
          ],
          [
           "['adult standards', 'classic soul', 'jazz blues', 'piano blues', 'soul', 'soul blues', 'vocal jazz']"
          ],
          [
           "['alternative rock', 'art rock', 'indie rock', 'modern rock', 'noise pop', 'okc indie', 'rock']"
          ],
          [
           "['acid rock', 'album rock', 'blues rock', 'classic rock', 'hard rock', 'proto-metal', 'psychedelic rock', 'rock']"
          ],
          [
           "['alternative rock', 'athens indie', 'permanent wave', 'pop rock', 'rock']"
          ],
          [
           "['bebop', 'big band', 'jazz', 'jazz saxophone', 'stride', 'swing', 'vocal jazz']"
          ],
          [
           "['album rock', 'classic rock', 'hard rock', 'rock']"
          ],
          [
           "['alternative dance', 'indie rock', 'modern rock', 'new rave', 'rock independant francais']"
          ],
          [
           "['alternative rock', 'east coast hip hop', 'golden age hip hop', 'hip hop', 'old school hip hop', 'rap', 'rap rock', 'rock']"
          ],
          [
           "['classic dubstep', 'electronica', 'hauntology', 'intelligent dance music', 'microhouse', 'uk bass', 'wonky']"
          ],
          [
           "['beatlesque', 'british invasion', 'classic rock', 'merseybeat', 'psychedelic rock', 'rock']"
          ],
          [
           "['album rock', 'classic rock', 'mellow gold', 'rock', 'soft rock']"
          ],
          [
           "['alternative rock', 'britpop', 'dance rock', 'madchester', 'modern rock', 'rock']"
          ],
          [
           "['adult standards', 'bubblegum pop', 'mellow gold', 'rock-and-roll', 'rockabilly']"
          ],
          [
           "['art pop', 'dance rock', 'europop', 'new romantic', 'new wave', 'new wave pop', 'permanent wave', 'synthpop']"
          ],
          [
           "['rock-and-roll']"
          ],
          [
           "['baroque pop', 'chamber pop', 'singer-songwriter']"
          ],
          [
           "['blues', 'blues rock', 'chicago blues', 'classic rock', 'electric blues', 'soul', 'traditional blues']"
          ],
          [
           "['classic rock', 'rock', 'rock-and-roll', 'rockabilly']"
          ],
          [
           "['album rock', 'beatlesque', 'classic rock', 'mellow gold', 'rock']"
          ],
          [
           "['big band', 'harlem renaissance', 'jazz blues', 'swing']"
          ],
          [
           "['barbadian pop', 'dance pop', 'pop', 'urban contemporary']"
          ],
          [
           "['canadian pop', 'canadian singer-songwriter', 'pop rock', 'singer-songwriter']"
          ],
          [
           "['art rock', 'british folk', 'folk', 'folk rock', 'melancholia', 'rock', 'singer-songwriter']"
          ],
          [
           "['adult standards', 'classic rock', 'folk', 'folk rock', 'mellow gold', 'singer-songwriter', 'soft rock']"
          ],
          [
           "['alternative rock', 'art rock', 'melancholia', 'oxford indie', 'permanent wave', 'rock']"
          ],
          [
           "['classic soul', 'memphis soul', 'soul', 'soul blues', 'southern soul']"
          ],
          [
           "['alternative metal', 'alternative rock', 'blues rock', 'modern rock', 'nu metal', 'palm desert scene', 'rock', 'stoner metal', 'stoner rock']"
          ],
          [
           "['alternative rock', 'boston rock', 'modern rock', 'permanent wave', 'rock']"
          ],
          [
           "['acid rock', 'blues rock', 'classic rock', 'folk rock', 'psychedelic rock', 'rock']"
          ],
          [
           "['glam metal', 'hard rock', 'rock']"
          ],
          [
           "['alternative rock', 'big beat', 'britpop', 'dance rock', 'new wave', 'rock', 'scottish indie']"
          ],
          [
           "['mod revival', 'new wave', 'pub rock', 'punk', 'rock', 'ska']"
          ],
          [
           "['bebop', 'jazz', 'jazz piano', 'jazz trio']"
          ],
          [
           "['rock-and-roll', 'rockabilly', 'soul']"
          ],
          [
           "['blues', 'traditional blues']"
          ],
          [
           "['blues', 'blues rock', 'classic rock', 'delta blues', 'electric blues', 'memphis blues', 'soul', 'traditional blues']"
          ],
          [
           "['beatlesque', 'british invasion', 'classic rock', 'merseybeat', 'psychedelic rock', 'rock']"
          ],
          [
           "['hip house']"
          ],
          [
           "['album rock', 'art rock', 'blues rock', 'classic rock', 'country rock', 'folk', 'folk rock', 'mellow gold', 'psychedelic rock', 'rock', 'roots rock', 'soft rock', 'supergroup']"
          ],
          [
           "['funk', 'funk rock', 'minneapolis sound', 'synth funk']"
          ],
          [
           "['dark pop', 'electronica', 'laboratorio', 'trip hop']"
          ],
          [
           "['adult standards', 'easy listening', 'lounge', 'rock-and-roll', 'rockabilly', 'soul', 'swing', 'vocal jazz']"
          ],
          [
           "['funk', 'funk rock', 'p funk', 'psychedelic rock', 'psychedelic soul', 'soul']"
          ],
          [
           "['dance pop', 'pop', 'post-teen pop', 'talent show']"
          ],
          [
           "['classic country pop', 'country', 'country dawn']"
          ],
          [
           "['acoustic punk', 'alternative rock', 'anti-folk', 'pop rock', 'punk', 'rock']"
          ],
          [
           "['classic rock', 'folk', 'folk rock', 'mellow gold', 'rock', 'roots rock', 'singer-songwriter', 'soft rock']"
          ],
          [
           "['album rock', 'classic rock', 'hard rock', 'metal', 'rock']"
          ],
          [
           "['early us punk', 'hardcore punk', 'post-punk', 'protopunk', 'pub rock', 'punk', 'punk blues']"
          ],
          [
           "['british invasion', 'classic rock', 'rock']"
          ],
          [
           "['beatlesque', 'british invasion', 'classic rock', 'merseybeat', 'psychedelic rock', 'rock']"
          ],
          [
           "['new wave pop', 'permanent wave', 'soft rock']"
          ],
          [
           "['beatlesque', 'bubblegum pop', 'classic rock', 'country rock', 'folk rock', 'mellow gold', 'psychedelic rock', 'rock', 'sunshine pop']"
          ],
          [
           "['disco']"
          ],
          [
           "['album rock', 'art rock', 'classic rock', 'progressive rock', 'psychedelic rock', 'rock', 'symphonic rock']"
          ],
          [
           "['album rock', 'classic rock', 'mellow gold', 'permanent wave', 'rock']"
          ],
          [
           "['bebop', 'contemporary post-bop', 'hard bop', 'jazz', 'jazz quartet', 'jazz saxophone', 'vocal jazz']"
          ],
          [
           "['alternative rock', 'art rock', 'dream pop', 'new romantic', 'new wave', 'new wave pop', 'permanent wave', 'pop rock', 'post-punk', 'punk', 'rock']"
          ],
          [
           "['classic rock', 'glam rock', 'rock']"
          ],
          [
           "['doo-wop', 'rhythm and blues']"
          ],
          [
           "['irish rock', 'permanent wave', 'rock']"
          ],
          [
           "['bubblegum pop', 'classic girl group', 'rock-and-roll']"
          ],
          [
           "['detroit hip hop', 'hip hop', 'rap']"
          ],
          [
           "['adult standards', 'bubblegum pop', 'lounge', 'rock-and-roll', 'rockabilly', 'soul']"
          ],
          [
           "['alternative dance', 'alternative rock', 'brooklyn indie', 'indie rock', 'indietronica', 'modern rock', 'new rave', 'rock']"
          ],
          [
           "['alternative rock', 'art rock', 'new wave', 'noise pop', 'post-punk', 'punk', 'rock', 'scottish indie', 'shoegaze', 'uk post-punk']"
          ],
          [
           "['alternative rock', 'art rock', 'dance rock', 'madchester', 'new romantic', 'new wave', 'new wave pop', 'permanent wave', 'pop rock', 'post-punk', 'rock', 'synthpop', 'uk post-punk']"
          ],
          [
           "['classic rock', 'country rock', 'rock', 'southern rock', 'swamp rock']"
          ],
          [
           "['classic soul', 'motown', 'quiet storm', 'rhythm and blues', 'soul', 'southern soul']"
          ],
          [
           "['australian indie', 'indie pop', 'indie rock', 'melbourne indie']"
          ],
          [
           "['conscious hip hop', 'gangster rap', 'golden age hip hop', 'hardcore hip hop', 'hip hop', 'old school hip hop', 'rap', 'west coast rap']"
          ],
          [
           "['classic rock', 'classic soul', 'disco', 'funk', 'funk rock', 'psychedelic soul', 'rock', 'soul']"
          ],
          [
           "['acid rock', 'album rock', 'classic rock', 'psychedelic rock', 'rock']"
          ],
          [
           "['blues', 'harlem renaissance', 'jazz blues', 'traditional blues']"
          ],
          [
           "['brill building pop', 'bubblegum pop', 'doo-wop', 'rhythm and blues', 'rock-and-roll']"
          ],
          [
           "['baroque pop', 'indie rock', 'modern rock', 'rock']"
          ],
          [
           "['alternative hip hop', 'bboy', 'east coast hip hop', 'gangster rap', 'golden age hip hop', 'hardcore hip hop', 'hip hop', 'old school hip hop', 'rap']"
          ],
          [
           "['indie pop', 'indie rock', 'indietronica', 'modern rock', 'seattle indie']"
          ],
          [
           "['adult standards', 'classic soul', 'jazz blues', 'piano blues', 'soul', 'soul blues', 'vocal jazz']"
          ],
          [
           "['art pop', 'art rock', 'bow pop', 'experimental', 'experimental pop', 'experimental vocal', 'laboratorio']"
          ],
          [
           "['mod revival', 'power pop', 'protopunk', 'pub rock', 'punk']"
          ],
          [
           "['classic rock', 'early us punk', 'permanent wave', 'punk', 'rock']"
          ],
          [
           "['acid rock', 'album rock', 'blues rock', 'classic rock', 'hard rock', 'proto-metal', 'psychedelic rock', 'rock']"
          ],
          [
           "['classic soul', 'disco', 'funk', 'motown', 'quiet storm', 'soul', 'southern soul']"
          ],
          [
           "['electronica', 'future garage', 'new rave']"
          ],
          [
           "['art punk', 'art rock', 'permanent wave', 'protopunk', 'rock']"
          ],
          [
           "['atl hip hop', 'contemporary r&b', 'dance pop', 'girl group', 'hip hop', 'hip pop', 'r&b', 'urban contemporary']"
          ],
          [
           "['acid rock', 'classic garage rock', 'experimental', 'freakbeat', 'protopunk', 'psychedelic rock']"
          ],
          [
           "['adult standards', 'bubblegum pop', 'folk rock', 'lounge', 'mellow gold', 'rock-and-roll', 'rockabilly', 'sunshine pop']"
          ],
          [
           "['new romantic', 'new wave', 'new wave pop']"
          ],
          [
           "['album rock', 'beatlesque', 'classic rock', 'folk rock', 'mellow gold', 'rock', 'soft rock']"
          ],
          [
           "['classic rock', 'permanent wave', 'punk', 'rock']"
          ],
          [
           "['hip hop', 'rap']"
          ],
          [
           "['baroque pop', 'canadian indie', 'indie rock', 'modern rock', 'permanent wave', 'quebec indie', 'rock']"
          ],
          [
           "['dance rock', 'new romantic', 'new wave', 'permanent wave', 'synthpop']"
          ],
          [
           "['albuquerque indie', 'alternative rock', 'indie pop', 'indie rock', 'modern rock', 'portland indie', 'stomp and holler']"
          ],
          [
           "['chicago rap', 'rap']"
          ],
          [
           "['baroque pop', 'chamber pop', 'melancholia']"
          ],
          [
           "['alternative rock', 'gothic rock', 'hardcore punk', 'new wave', 'post-punk', 'pub rock', 'punk', 'punk blues']"
          ],
          [
           "[]"
          ],
          [
           "['new wave', 'permanent wave', 'rock', 'uk post-punk']"
          ],
          [
           "['british invasion', 'classic rock', 'rock']"
          ],
          [
           "['doo-wop', 'rhythm and blues']"
          ],
          [
           "['canadian pop', 'dance pop', 'electropop', 'pop', 'post-teen pop']"
          ],
          [
           "['alternative rock', 'art rock', 'madchester', 'new wave', 'post-punk', 'rock', 'uk post-punk']"
          ],
          [
           "['grunge', 'permanent wave', 'rock']"
          ],
          [
           "['beatlesque', 'british invasion', 'classic rock', 'merseybeat', 'psychedelic rock', 'rock']"
          ],
          [
           "['eau claire indie', 'indie folk', 'melancholia']"
          ],
          [
           "['blues rock', 'classic rock', 'psychedelic rock', 'rock']"
          ],
          [
           "[]"
          ],
          [
           "['alternative pop', 'alternative rock', 'blues rock', 'grunge', 'indie rock', 'lo-fi', 'noise pop', 'noise rock', 'permanent wave', 'post-hardcore', 'post-punk', 'power pop', 'punk', 'rock']"
          ],
          [
           "['art pop', 'chamber pop', 'chamber psych', 'chillwave', 'electronica', 'electropop', 'experimental pop', 'indie pop', 'indie rock', 'seattle indie']"
          ],
          [
           "['glam rock', 'mellow gold', 'piano rock']"
          ],
          [
           "['art rock', 'classic rock', 'glam rock', 'permanent wave', 'rock']"
          ],
          [
           "['afrofuturism', 'alternative r&b', 'atl hip hop', 'electropop', 'escape room', 'neo soul', 'pop', 'r&b']"
          ],
          [
           "['downtempo', 'dream pop', 'indietronica']"
          ],
          [
           "['bubblegum pop', 'classic rock', 'folk rock', 'merseybeat']"
          ],
          [
           "['dance pop', 'electropop', 'hip pop', 'neo soul', 'r&b', 'urban contemporary']"
          ],
          [
           "['afrobeat', 'afropop', 'world']"
          ],
          [
           "['alternative rock', 'anti-folk', 'indie rock', 'modern rock', 'permanent wave', 'rock']"
          ],
          [
           "['grunge', 'permanent wave', 'rock']"
          ],
          [
           "['alternative rock', 'athens indie', 'permanent wave', 'pop rock', 'rock']"
          ],
          [
           "['alternative dance', 'electro house', 'electronica', 'filter house', 'new rave']"
          ],
          [
           "['alternative rock', 'chamber pop', 'indie rock', 'modern rock', 'noise pop', 'stomp and holler']"
          ],
          [
           "['adult standards', 'classic rock', 'folk', 'folk rock', 'mellow gold', 'rock', 'singer-songwriter', 'soft rock']"
          ],
          [
           "['funk', 'soul']"
          ],
          [
           "['conscious hip hop', 'gangster rap', 'golden age hip hop', 'hardcore hip hop', 'hip hop', 'old school hip hop', 'rap', 'west coast rap']"
          ],
          [
           "['art rock', 'classic rock', 'glam rock', 'permanent wave', 'rock']"
          ],
          [
           "['alternative hip hop', 'conscious hip hop', 'east coast hip hop', 'hardcore hip hop', 'hip hop', 'philly rap', 'political hip hop', 'southern hip hop']"
          ],
          [
           "['alternative pop', 'alternative rock', 'art rock', 'baroque pop', 'beatlesque', 'country rock', 'folk rock', 'jangle pop', 'melancholia', 'power pop', 'pub rock', 'roots rock']"
          ],
          [
           "['adult standards', 'bubblegum pop', 'folk rock', 'lounge', 'mellow gold', 'rock-and-roll', 'rockabilly', 'sunshine pop']"
          ],
          [
           "['permanent wave', 'pop']"
          ],
          [
           "['blues', 'blues rock', 'chicago blues', 'classic rock', 'delta blues', 'harmonica blues', 'memphis blues', 'traditional blues']"
          ],
          [
           "['hip hop', 'lgbtq+ hip hop', 'neo soul']"
          ],
          [
           "['mod revival', 'new wave', 'pub rock', 'punk', 'rock', 'ska']"
          ],
          [
           "['glam punk', 'rock']"
          ],
          [
           "['classic soul', 'funk', 'memphis soul', 'quiet storm', 'soul', 'soul blues', 'southern soul']"
          ],
          [
           "['art rock', 'folk', 'folk rock', 'mellow gold', 'new wave pop', 'permanent wave', 'power pop', 'pub rock', 'rock', 'roots rock', 'singer-songwriter']"
          ],
          [
           "['dance pop', 'pop']"
          ],
          [
           "['alternative rock', 'art rock', 'classic rock', 'folk rock', 'melancholia', 'permanent wave', 'protopunk', 'psychedelic rock', 'rock']"
          ],
          [
           "['alternative rock', 'art pop', 'art rock', 'dream pop', 'indie rock', 'melancholia', 'permanent wave', 'piano rock', 'rock', 'singer-songwriter']"
          ],
          [
           "['folk rock', 'sunshine pop']"
          ],
          [
           "['classic rock', 'classic soul', 'disco', 'funk', 'funk rock', 'psychedelic soul', 'rock', 'soul']"
          ],
          [
           "['alternative metal', 'alternative rock', 'grunge', 'hard rock', 'nu metal', 'rock']"
          ],
          [
           "['classic girl group', 'disco', 'funk', 'motown', 'quiet storm', 'soul']"
          ],
          [
           "['art pop', 'chillwave', 'dream pop', 'experimental pop', 'indie garage rock', 'la indie', 'neo-psychedelic', 'new weird america']"
          ],
          [
           "['classic rock', 'country rock', 'folk', 'folk rock', 'rock', 'roots rock', 'singer-songwriter']"
          ],
          [
           "['alternative rock', 'art rock', 'classic rock', 'folk rock', 'melancholia', 'permanent wave', 'protopunk', 'psychedelic rock', 'rock']"
          ],
          [
           "['classic soul', 'disco', 'funk', 'motown', 'quiet storm', 'soul']"
          ],
          [
           "['dusseldorf electronic', 'early synthpop', 'electro', 'new romantic', 'new wave', 'proto-techno', 'synthpop']"
          ],
          [
           "['classic rock', 'permanent wave', 'punk', 'rock']"
          ],
          [
           "['blues', 'harmonica blues', 'rhythm and blues', 'texas blues', 'traditional blues']"
          ],
          [
           "['alternative hip hop']"
          ],
          [
           "['alternative metal', 'alternative rock', 'cyberpunk', 'electronic rock', 'industrial', 'industrial metal', 'industrial rock', 'nu metal', 'rock']"
          ],
          [
           "['funk', 'quiet storm', 'soul']"
          ],
          [
           "['dance pop', 'escape room', 'minnesota hip hop', 'pop', 'trap queen']"
          ],
          [
           "['art rock', 'classic rock', 'glam rock', 'permanent wave', 'rock']"
          ],
          [
           "['cool jazz', 'hard bop', 'jazz', 'jazz fusion', 'jazz trumpet', 'uk contemporary jazz']"
          ],
          [
           "['art pop', 'brooklyn indie', 'indie pop', 'indie rock', 'small room']"
          ],
          [
           "['new wave pop', 'permanent wave', 'soft rock']"
          ],
          [
           "['barbadian pop', 'dance pop', 'pop', 'urban contemporary']"
          ],
          [
           "['conscious hip hop', 'hip hop', 'rap', 'west coast rap']"
          ],
          [
           "['album rock', 'classic rock', 'hard rock', 'rock']"
          ],
          [
           "['adult standards', 'easy listening', 'lounge']"
          ],
          [
           "['alternative rock', 'art rock', 'melancholia', 'oxford indie', 'permanent wave', 'rock']"
          ],
          [
           "['alternative metal', 'alternative rock', 'modern rock', 'permanent wave', 'post-grunge', 'rock']"
          ],
          [
           "['adult standards', 'bubblegum pop', 'rock-and-roll', 'rockabilly']"
          ],
          [
           "['garage rock', 'modern rock', 'permanent wave', 'rock', 'sheffield indie']"
          ],
          [
           "['alternative dance', 'electro house', 'electronica', 'filter house', 'new rave']"
          ],
          [
           "['beatlesque', 'british invasion', 'classic rock', 'merseybeat', 'psychedelic rock', 'rock']"
          ],
          [
           "['dance pop', 'hip hop', 'hip pop', 'pop rap', 'r&b', 'rap', 'urban contemporary', 'virginia hip hop']"
          ],
          [
           "['rock-and-roll', 'rockabilly', 'soul']"
          ],
          [
           "['blues', 'blues rock', 'chicago blues', 'electric blues', 'rhythm and blues', 'rock-and-roll', 'rockabilly', 'soul', 'traditional blues']"
          ],
          [
           "['classic soul', 'motown', 'northern soul', 'soul', 'southern soul']"
          ],
          [
           "['indie rock', 'modern rock']"
          ],
          [
           "['album rock', 'art rock', 'classic rock', 'progressive rock', 'psychedelic rock', 'rock', 'symphonic rock']"
          ],
          [
           "['art rock', 'classic rock', 'glam rock', 'permanent wave', 'psychedelic rock', 'rock', 'singer-songwriter']"
          ],
          [
           "['dark pop', 'electronica', 'laboratorio', 'trip hop']"
          ],
          [
           "['permanent wave', 'pop']"
          ],
          [
           "['beatlesque', 'british invasion', 'classic rock', 'merseybeat', 'psychedelic rock', 'rock']"
          ],
          [
           "['canadian singer-songwriter', 'classic canadian rock', 'classic rock', 'mellow gold', 'permanent wave', 'rock', 'roots rock', 'singer-songwriter']"
          ],
          [
           "['canadian singer-songwriter', 'folk', 'folk rock', 'melancholia', 'permanent wave', 'singer-songwriter']"
          ],
          [
           "['reggae', 'roots reggae']"
          ],
          [
           "['alternative rock', 'dc hardcore', 'indie rock', 'noise rock', 'post-hardcore', 'post-punk', 'punk', 'rock']"
          ],
          [
           "['east coast hip hop', 'gangster rap', 'hardcore hip hop', 'hip hop', 'rap']"
          ],
          [
           "['dub', 'reggae', 'roots reggae', 'ska']"
          ],
          [
           "['belgian singer-songwriter', 'chanson', 'french pop']"
          ],
          [
           "['adult standards', 'brill building pop', 'classic rock', 'folk', 'folk rock', 'mellow gold', 'rock', 'singer-songwriter', 'soft rock']"
          ],
          [
           "['big beat']"
          ],
          [
           "['classic rock', 'country rock', 'folk', 'folk rock', 'rock', 'roots rock', 'singer-songwriter']"
          ],
          [
           "['alternative dance', 'australian alternative rock', 'australian dance', 'collage pop', 'electronica', 'indie rock', 'new rave', 'psychedelic hip hop']"
          ],
          [
           "['mellow gold', 'rock drums', 'soft rock']"
          ],
          [
           "['alternative americana', 'art pop', 'indie folk', 'indie pop', 'indie rock']"
          ],
          [
           "['alternative rock', 'garage rock', 'garage rock revival', 'modern rock', 'new rave', 'rock', 'swedish garage rock', 'swedish hard rock', 'swedish indie rock']"
          ],
          [
           "['classic soul', 'jazz blues', 'memphis soul', 'soul', 'southern soul']"
          ],
          [
           "['acid rock', 'album rock', 'classic rock', 'psychedelic rock', 'rock']"
          ],
          [
           "['album rock', 'art rock', 'blues rock', 'classic rock', 'classic uk pop', 'folk rock', 'glam rock', 'mellow gold', 'rock', 'soft rock', 'symphonic rock', 'yacht rock']"
          ],
          [
           "['country', 'country dawn', 'country rock', 'nashville sound']"
          ],
          [
           "['adult standards', 'bubblegum pop', 'folk rock', 'lounge', 'mellow gold', 'rock-and-roll', 'rockabilly', 'sunshine pop']"
          ],
          [
           "['adult standards', 'brill building pop', 'bubblegum pop', 'rock-and-roll', 'rockabilly']"
          ],
          [
           "['art rock', 'classic rock', 'glam rock', 'permanent wave', 'rock']"
          ],
          [
           "['alternative rock', 'athens indie', 'permanent wave', 'pop rock', 'rock']"
          ],
          [
           "['dance pop']"
          ],
          [
           "['adult standards', 'louisiana blues', 'lounge', 'new orleans blues', 'piano blues', 'rock-and-roll', 'rockabilly', 'soul']"
          ],
          [
           "['dance pop', 'pop']"
          ],
          [
           "['album rock', 'beatlesque', 'classic rock', 'mellow gold', 'rock']"
          ],
          [
           "['classic soul', 'jazz blues', 'memphis soul', 'soul', 'southern soul']"
          ],
          [
           "['album rock', 'blues rock', 'classic canadian rock', 'classic rock', 'cosmic american', 'country rock', 'folk', 'folk rock', 'heartland rock', 'mellow gold', 'rock', 'roots rock', 'soft rock', 'swamp rock']"
          ],
          [
           "['eau claire indie', 'indie folk', 'melancholia']"
          ],
          [
           "['alternative rock', 'anti-folk', 'art rock', 'dream pop', 'indie rock', 'lo-fi', 'modern rock', 'pop rock', 'rock']"
          ],
          [
           "['american folk revival', 'appalachian folk', 'folk', 'old-time', 'traditional country', 'traditional folk', 'yodeling']"
          ],
          [
           "['dance pop', 'pop']"
          ],
          [
           "['alternative rock', 'grunge', 'permanent wave', 'rock']"
          ],
          [
           "['dance pop']"
          ],
          [
           "['irish rock', 'permanent wave', 'rock']"
          ],
          [
           "['album rock', 'classic rock', 'rock', 'soft rock', 'yacht rock']"
          ],
          [
           "['lgbtq+ hip hop', 'pop']"
          ],
          [
           "['adult standards', 'motown', 'soul']"
          ],
          [
           "['classic rock', 'country rock', 'rock', 'southern rock', 'swamp rock']"
          ],
          [
           "['bubblegum pop', 'classic girl group', 'rock-and-roll']"
          ],
          [
           "['album rock', 'classic rock', 'hard rock', 'rock']"
          ],
          [
           "['australian rock', 'bubblegum pop', 'classic garage rock', 'folk rock', 'freakbeat', 'merseybeat', 'protopunk', 'psychedelic rock']"
          ],
          [
           "['g funk', 'gangster rap', 'hip hop', 'rap', 'west coast rap']"
          ],
          [
           "['classic rock', 'heartland rock', 'mellow gold', 'permanent wave', 'rock', 'singer-songwriter']"
          ],
          [
           "['reggae', 'roots reggae']"
          ],
          [
           "['r&b en espanol']"
          ],
          [
           "['classic rock', 'classic soul', 'disco', 'funk', 'funk rock', 'psychedelic soul', 'rock', 'soul']"
          ],
          [
           "['classic soul', 'funk', 'memphis soul', 'soul', 'southern soul']"
          ],
          [
           "['blues', 'blues rock', 'classic rock', 'electric blues', 'jazz blues', 'soul blues', 'traditional blues']"
          ],
          [
           "['atl hip hop', 'contemporary r&b', 'dance pop', 'girl group', 'hip hop', 'hip pop', 'r&b', 'urban contemporary']"
          ],
          [
           "['new romantic', 'new wave', 'new wave pop', 'permanent wave', 'pop rock', 'soft rock', 'synthpop']"
          ],
          [
           "['chamber pop', 'folk', 'indie folk', 'indie pop', 'indie rock', 'seattle indie', 'stomp and holler']"
          ],
          [
           "['classic rock', 'glam rock', 'new wave', 'permanent wave', 'protopunk', 'punk', 'rock']"
          ],
          [
           "['alternative dance', 'chillwave', 'electronica', 'electropop', 'folktronica', 'indie rock', 'indietronica', 'intelligent dance music', 'new rave']"
          ],
          [
           "['art pop', 'candy pop', 'dance pop', 'electropop', 'escape room', 'indie pop', 'la indie', 'metropopolis', 'neo-synthpop', 'pop']"
          ],
          [
           "['bedroom pop', 'indie pop', 'pop']"
          ],
          [
           "['adult standards', 'big band', 'easy listening', 'jazz trombone', 'lounge', 'swing', 'vocal jazz']"
          ],
          [
           "['art rock', 'bubblegum pop', 'classic rock', 'country rock', 'folk', 'folk rock', 'mellow gold', 'merseybeat', 'psychedelic rock', 'rock', 'rock-and-roll', 'roots rock', 'soft rock']"
          ],
          [
           "['doo-wop', 'rhythm and blues']"
          ],
          [
           "['alternative dance', 'chillwave', 'electronica', 'electropop', 'folktronica', 'indie rock', 'indietronica', 'intelligent dance music', 'new rave']"
          ],
          [
           "['celtic punk', 'celtic rock', 'folk punk', 'punk']"
          ],
          [
           "['baroque pop', 'canadian indie', 'indie rock', 'modern rock', 'permanent wave', 'quebec indie', 'rock']"
          ],
          [
           "['alternative dance', 'indie rock', 'modern rock', 'new rave', 'rock independant francais']"
          ],
          [
           "['adult standards', 'classic soul', 'disco', 'funk', 'mellow gold', 'quiet storm', 'soft rock', 'soul', 'vocal jazz']"
          ],
          [
           "['adult standards', 'cool jazz', 'jazz', 'jazz trumpet', 'lounge', 'vocal jazz']"
          ],
          [
           "['album rock', 'classic rock', 'mellow gold', 'permanent wave', 'rock']"
          ],
          [
           "['bebop', 'big band', 'cool jazz', 'jazz', 'jazz saxophone']"
          ],
          [
           "['alternative dance', 'alternative rock', 'dance rock', 'dance-punk', 'electronic rock', 'electronica', 'indie rock', 'indietronica', 'modern rock', 'new rave', 'rock']"
          ],
          [
           "['classic rock', 'folk', 'folk rock', 'melancholia', 'mellow gold', 'rock']"
          ],
          [
           "['downtempo', 'electronica', 'trip hop']"
          ],
          [
           "['alternative rock', 'art pop', 'dream pop', 'melancholia', 'rock', 'shoegaze', 'slowcore']"
          ],
          [
           "['dance rock', 'new romantic', 'new wave', 'permanent wave', 'synthpop']"
          ],
          [
           "['alternative pop', 'alternative rock', 'art rock', 'baroque pop', 'beatlesque', 'country rock', 'folk rock', 'jangle pop', 'melancholia', 'power pop', 'pub rock', 'roots rock']"
          ],
          [
           "['irish rock', 'permanent wave', 'rock']"
          ],
          [
           "['british soul', 'funk', 'post-disco', 'quiet storm', 'urban contemporary']"
          ],
          [
           "['beatlesque', 'british invasion', 'classic rock', 'merseybeat', 'psychedelic rock', 'rock']"
          ],
          [
           "['adult standards', 'bubblegum pop', 'doo-wop', 'rhythm and blues', 'rock-and-roll', 'rockabilly', 'soul']"
          ],
          [
           "['afrofuturism', 'alternative r&b', 'atl hip hop', 'electropop', 'escape room', 'neo soul', 'pop', 'r&b']"
          ],
          [
           "['bubblegum pop', 'classic garage rock', 'merseybeat']"
          ],
          [
           "['dance pop', 'girl group', 'golden age hip hop', 'hip hop', 'hip pop', 'old school hip hop', 'pop rap', 'queens hip hop']"
          ],
          [
           "['art rock', 'classic rock', 'glam rock', 'melancholia', 'mellow gold', 'new romantic', 'new wave', 'new wave pop', 'rock', 'soft rock', 'sophisti-pop']"
          ],
          [
           "['gospel', 'spirituals']"
          ],
          [
           "['canadian indie', 'indie rock', 'modern alternative rock', 'modern rock', 'noise pop', 'noise rock', 'vancouver indie', 'vancouver punk']"
          ],
          [
           "['adult standards', 'dixieland', 'harlem renaissance', 'jazz trumpet', 'new orleans jazz', 'swing', 'vocal jazz']"
          ],
          [
           "['alternative country', 'alternative rock', 'chicago indie', 'indie rock', 'pop rock', 'roots rock']"
          ],
          [
           "['adult standards', 'easy listening', 'lounge', 'torch song', 'vocal jazz']"
          ],
          [
           "['britpop']"
          ],
          [
           "['album rock', 'art rock', 'blues rock', 'british blues', 'classic rock', 'country rock', 'electric blues', 'hard rock', 'mellow gold', 'psychedelic rock', 'rock', 'symphonic rock']"
          ],
          [
           "['alternative dance', 'art pop', 'brighton indie', 'chamber psych', 'dark pop', 'dream pop', 'electronica', 'electropop', 'etherpop', 'metropopolis', 'neo-synthpop', 'new rave']"
          ],
          [
           "['art rock', 'british folk', 'canterbury scene', 'experimental', 'experimental rock', 'psychedelic rock', 'zolo']"
          ],
          [
           "['australian dance', 'australian pop', 'dance pop', 'pop']"
          ],
          [
           "['electronica', 'indie soul', 'uk alternative pop']"
          ],
          [
           "['beatlesque', 'british invasion', 'classic rock', 'merseybeat', 'psychedelic rock', 'rock']"
          ],
          [
           "['alternative dance', 'electropop', 'new rave', 'olympia wa indie']"
          ],
          [
           "['canadian singer-songwriter', 'classic canadian rock', 'classic rock', 'mellow gold', 'permanent wave', 'rock', 'roots rock', 'singer-songwriter']"
          ],
          [
           "['art rock', 'classic rock', 'glam rock', 'permanent wave', 'rock']"
          ],
          [
           "['britpop', 'pop rock']"
          ],
          [
           "['australian rock', 'hard rock', 'rock']"
          ],
          [
           "['adult standards', 'british invasion', 'merseybeat', 'rock-and-roll', 'rockabilly']"
          ],
          [
           "['beatlesque', 'british invasion', 'classic rock', 'merseybeat', 'psychedelic rock', 'rock']"
          ],
          [
           "['british invasion', 'merseybeat', 'rock-and-roll', 'surf music']"
          ],
          [
           "['adult standards', 'jazz blues', 'soul', 'soul blues', 'torch song', 'vocal jazz']"
          ],
          [
           "['alternative rock', 'garage rock', 'modern rock', 'permanent wave', 'rock']"
          ],
          [
           "['art rock', 'classic rock', 'glam rock', 'permanent wave', 'rock']"
          ],
          [
           "['folk', 'lilith', 'singer-songwriter', \"women's music\"]"
          ],
          [
           "['album rock', 'art rock', 'classic rock', 'progressive rock', 'psychedelic rock', 'rock', 'symphonic rock']"
          ],
          [
           "['art rock', 'classic rock', 'glam rock', 'melancholia', 'mellow gold', 'new romantic', 'new wave', 'new wave pop', 'rock', 'soft rock', 'sophisti-pop']"
          ],
          [
           "['blues', 'blues rock', 'chicago blues', 'delta blues', 'electric blues', 'rock-and-roll', 'traditional blues']"
          ],
          [
           "['afrofuturism', 'alternative r&b', 'dance pop', 'escape room', 'hip pop', 'indie soul', 'neo soul', 'r&b', 'urban contemporary']"
          ],
          [
           "['art rock', 'melancholia', 'permanent wave', 'rock', 'singer-songwriter']"
          ],
          [
           "['bluegrass', 'bluegrass gospel', 'country gospel', 'traditional country']"
          ],
          [
           "['canadian singer-songwriter', 'folk', 'folk rock', 'melancholia', 'permanent wave', 'singer-songwriter']"
          ],
          [
           "['blues rock', 'classic rock', 'psychedelic rock', 'rock']"
          ],
          [
           "['dub', 'lovers rock', 'reggae', 'roots reggae', 'ska']"
          ],
          [
           "['canadian hip hop', 'canadian pop', 'hip hop', 'rap', 'toronto rap']"
          ],
          [
           "['album rock', 'beatlesque', 'classic rock', 'folk rock', 'mellow gold', 'rock', 'soft rock']"
          ],
          [
           "['alternative rock', 'art rock', 'dance rock', 'madchester', 'new romantic', 'new wave', 'new wave pop', 'permanent wave', 'pop rock', 'post-punk', 'rock', 'synthpop', 'uk post-punk']"
          ],
          [
           "['baroque pop', 'indie rock', 'modern rock', 'rock']"
          ],
          [
           "['bronx hip hop', 'conscious hip hop', 'east coast hip hop', 'electro', 'hip hop', 'hip house', 'old school hip hop', 'rap', 'turntablism']"
          ],
          [
           "['alternative dance', 'big beat', 'breakbeat', 'electronica', 'new rave', 'rave']"
          ],
          [
           "['dance pop', 'disco', 'hi-nrg', 'new wave pop']"
          ],
          [
           "['electro', 'filter house']"
          ],
          [
           "['early synthpop', 'new romantic', 'new wave', 'new wave pop', 'synthpop', 'zolo']"
          ],
          [
           "['alternative r&b', 'conscious hip hop', 'neo soul', 'new jersey rap', 'r&b', 'urban contemporary']"
          ],
          [
           "['album rock', 'classic rock', 'hard rock', 'rock']"
          ],
          [
           "['album rock', 'art rock', 'classic rock', 'instrumental rock', 'jazz fusion', 'jazz rock', 'progressive rock', 'psychedelic rock', 'rock', 'symphonic rock', 'zolo']"
          ],
          [
           "['british invasion', 'classic rock', 'rock']"
          ],
          [
           "['classic rock', 'country rock', 'folk', 'folk rock', 'rock', 'roots rock', 'singer-songwriter']"
          ],
          [
           "['beatlesque', 'british invasion', 'classic rock', 'merseybeat', 'psychedelic rock', 'rock']"
          ],
          [
           "['art rock', 'melancholia', 'permanent wave', 'rock', 'singer-songwriter']"
          ],
          [
           "['art pop', 'candy pop', 'dance pop', 'electropop', 'metropopolis', 'pop', 'post-teen pop', 'uk pop']"
          ],
          [
           "['art pop', 'dance pop', 'pop']"
          ],
          [
           "['alternative hip hop', 'east coast hip hop', 'golden age hip hop', 'hardcore hip hop', 'hip hop', 'jazz rap', 'rap']"
          ],
          [
           "['punk', 'rock']"
          ],
          [
           "['alternative rock', 'art punk', 'art rock', 'experimental', 'madchester', 'new romantic', 'new wave', 'post-punk', 'pub rock', 'punk', 'synthpop', 'uk post-punk']"
          ],
          [
           "['blues', 'blues rock', 'classic rock', 'delta blues', 'electric blues', 'memphis blues', 'soul', 'traditional blues']"
          ],
          [
           "['classic rock', 'country rock', 'folk', 'folk rock', 'rock', 'roots rock', 'singer-songwriter']"
          ],
          [
           "['rock-and-roll']"
          ],
          [
           "['classic girl group', 'classic soul', 'motown', 'rhythm and blues', 'soul', 'southern soul']"
          ],
          [
           "['dance pop', 'pop', 'r&b']"
          ],
          [
           "['classic rock', 'country rock', 'folk', 'folk rock', 'rock', 'roots rock', 'singer-songwriter']"
          ],
          [
           "['album rock', 'art rock', 'classic rock', 'country rock', 'folk rock', 'heartland rock', 'mellow gold', 'new wave pop', 'pop rock', 'rock', 'singer-songwriter', 'soft rock', 'yacht rock']"
          ],
          [
           "['art rock', 'glam rock', 'new romantic', 'new wave', 'new wave pop', 'post-punk', 'synthpop', 'zolo']"
          ],
          [
           "['classic soul', 'funk', 'memphis soul', 'soul', 'southern soul']"
          ],
          [
           "['alternative rock', 'grunge', 'permanent wave', 'rock']"
          ],
          [
           "['early us punk', 'glam punk', 'glam rock', 'post-punk', 'protopunk', 'pub rock', 'punk', 'punk blues']"
          ],
          [
           "['classic rock', 'early us punk', 'permanent wave', 'punk', 'rock']"
          ],
          [
           "['irish rock', 'permanent wave', 'rock']"
          ],
          [
           "['dreamo', 'indie pop', 'indie rock', 'shoegaze', 'toronto indie']"
          ],
          [
           "['grunge', 'permanent wave', 'rock']"
          ],
          [
           "['modern alternative rock', 'modern rock', 'pop', 'rock']"
          ],
          [
           "['art rock', 'beatlesque', 'blues rock', 'classic rock', 'cosmic american', 'country rock', 'folk', 'folk rock', 'mellow gold', 'psychedelic rock', 'rock', 'roots rock', 'soft rock']"
          ],
          [
           "['alternative rock', 'art rock', 'experimental', 'new romantic', 'new wave', 'post-punk', 'punk', 'uk post-punk']"
          ],
          [
           "['art rock', 'dance rock', 'new romantic', 'new wave', 'new wave pop', 'permanent wave', 'post-punk', 'rock', 'zolo']"
          ],
          [
           "['space age pop']"
          ],
          [
           "['classic soul', 'funk', 'indie r&b', 'motown', 'northern soul', 'quiet storm', 'soul']"
          ],
          [
           "['album rock', 'art rock', 'beatlesque', 'classic rock', 'glam metal', 'glam rock', 'hard rock', 'heartland rock', 'mellow gold', 'new wave pop', 'pop rock', 'power pop', 'rock', 'soft rock']"
          ],
          [
           "['bebop', 'jazz', 'jazz quartet']"
          ],
          [
           "['canadian pop', 'dance pop', 'electropop', 'pop', 'post-teen pop']"
          ],
          [
           "['australian psych', 'neo-psychedelic']"
          ],
          [
           "['dance pop', 'pop']"
          ],
          [
           "['adult standards', 'brill building pop', 'doo-wop', 'rhythm and blues', 'rock-and-roll', 'rockabilly']"
          ],
          [
           "['british invasion', 'classic rock', 'rock']"
          ],
          [
           "['classic soul']"
          ],
          [
           "['blues', 'blues rock', 'chicago blues', 'electric blues', 'rhythm and blues', 'rock-and-roll', 'rockabilly', 'soul', 'traditional blues']"
          ],
          [
           "['alternative rock', 'britpop', 'madchester', 'new wave', 'permanent wave', 'pop rock', 'rock', 'solo wave']"
          ],
          [
           "['alternative r&b', 'contemporary r&b', 'dance pop', 'hip hop', 'hip pop', 'neo soul', 'r&b', 'urban contemporary']"
          ],
          [
           "['glam metal', 'rock']"
          ],
          [
           "['alternative rock', 'art punk', 'art rock', 'dance rock', 'experimental', 'funk rock', 'new wave', 'post-punk', 'punk', 'uk post-punk']"
          ],
          [
           "['grunge', 'permanent wave', 'rock']"
          ],
          [
           "['alternative rock', 'modern power pop', 'modern rock', 'permanent wave', 'rock']"
          ],
          [
           "['east coast hip hop', 'hip hop', 'rap']"
          ],
          [
           "['electro', 'harlem hip hop', 'hip house']"
          ],
          [
           "['canadian singer-songwriter', 'classic canadian rock', 'classic rock', 'mellow gold', 'permanent wave', 'rock', 'roots rock', 'singer-songwriter']"
          ],
          [
           "['classic rock', 'country rock', 'folk', 'folk rock', 'rock', 'roots rock', 'singer-songwriter']"
          ],
          [
           "['beatlesque', 'britpop', 'madchester', 'permanent wave', 'pop rock', 'rock']"
          ],
          [
           "['dance pop', 'urban contemporary']"
          ],
          [
           "['funk', 'soul']"
          ],
          [
           "['g funk', 'gangster rap', 'hip hop', 'pop rap', 'rap', 'west coast rap']"
          ],
          [
           "['alternative dance', 'art pop', 'electropop', 'escape room', 'new rave']"
          ],
          [
           "['alternative rock', 'britpop', 'garage rock', 'garage rock revival', 'indie rock', 'modern rock', 'rock']"
          ],
          [
           "['experimental rock', 'instrumental math rock', 'math rock', 'post-rock']"
          ],
          [
           "['album rock', 'art rock', 'blues rock', 'classic rock', 'country rock', 'folk', 'folk rock', 'heartland rock', 'mellow gold', 'psychedelic rock', 'rock', 'roots rock', 'soft rock']"
          ],
          [
           "['album rock', 'art rock', 'blues rock', 'british invasion', 'classic rock', 'hard rock', 'mellow gold', 'psychedelic rock', 'rock']"
          ],
          [
           "['alternative rock', 'art pop', 'art rock', 'dream pop', 'icelandic pop', 'icelandic post-punk', 'new wave', 'new wave pop', 'post-punk']"
          ],
          [
           "['adult standards', 'big band', 'harlem renaissance', 'jazz', 'jazz piano', 'lounge', 'stride', 'swing', 'vocal jazz']"
          ],
          [
           "['alternative dance', 'indie rock', 'modern rock', 'new rave', 'rock']"
          ],
          [
           "['classic girl group', 'classic soul', 'disco', 'funk', 'motown', 'quiet storm', 'rock-and-roll', 'soul']"
          ],
          [
           "['art rock', 'new romantic', 'new wave', 'new wave pop', 'permanent wave', 'post-punk', 'synthpop']"
          ],
          [
           "['adult standards', 'nashville sound']"
          ],
          [
           "['contemporary r&b', 'dance pop', 'hip pop', 'neo soul', 'r&b', 'urban contemporary']"
          ],
          [
           "['conscious hip hop', 'east coast hip hop', 'gangster rap', 'golden age hip hop', 'hardcore hip hop', 'hip hop', 'old school hip hop', 'political hip hop', 'rap', 'rap rock']"
          ],
          [
           "['classic rock', 'permanent wave', 'punk', 'rock']"
          ],
          [
           "['conscious hip hop', 'east coast hip hop', 'gangster rap', 'golden age hip hop', 'hardcore hip hop', 'hip hop', 'old school hip hop', 'political hip hop', 'rap', 'rap rock']"
          ],
          [
           "['album rock', 'beatlesque', 'classic rock', 'mellow gold', 'rock']"
          ],
          [
           "['alternative rock', 'art rock', 'indie rock', 'modern rock', 'noise pop', 'okc indie', 'rock']"
          ],
          [
           "['beatlesque', 'british invasion', 'classic rock', 'merseybeat', 'psychedelic rock', 'rock']"
          ],
          [
           "['bassline', 'grime', 'house', 'instrumental grime', 'pop rap']"
          ],
          [
           "['permanent wave', 'pop']"
          ],
          [
           "['british invasion', 'classic rock', 'rock']"
          ],
          [
           "['classic soul', 'funk', 'memphis soul', 'motown', 'soul']"
          ],
          [
           "['album rock', 'classic rock', 'country rock', 'detroit rock', 'folk rock', 'hard rock', 'heartland rock', 'mellow gold', 'rock', 'soft rock']"
          ],
          [
           "['pub rock', 'punk']"
          ],
          [
           "['album rock', 'birmingham metal', 'classic rock', 'hard rock', 'metal', 'rock', 'stoner rock', 'uk doom metal']"
          ],
          [
           "['bubblegum pop', 'classic garage rock', 'rock-and-roll', 'surf music']"
          ],
          [
           "['atl hip hop', 'contemporary r&b', 'dance pop', 'r&b', 'south carolina hip hop', 'urban contemporary']"
          ],
          [
           "['album rock', 'classic rock', 'folk rock', 'heartland rock', 'mellow gold', 'pop rock', 'rock', 'soft rock']"
          ],
          [
           "['album rock', 'art rock', 'classic rock', 'progressive rock', 'psychedelic rock', 'rock', 'symphonic rock']"
          ],
          [
           "['acid rock', 'album rock', 'blues rock', 'classic rock', 'hard rock', 'proto-metal', 'psychedelic rock', 'rock']"
          ],
          [
           "['art rock', 'british folk', 'folk', 'folk rock', 'melancholia', 'rock', 'singer-songwriter']"
          ],
          [
           "['alternative rock', 'art rock', 'melancholia', 'oxford indie', 'permanent wave', 'rock']"
          ],
          [
           "['classic uk pop', 'country rock', 'folk', 'folk rock']"
          ],
          [
           "['alternative rock', 'anti-folk', 'art rock', 'dream pop', 'indie rock', 'lo-fi', 'modern rock', 'pop rock', 'rock']"
          ],
          [
           "['alternative rock', 'art punk', 'art rock', 'beatlesque', 'new romantic', 'new wave', 'new wave pop', 'post-punk', 'power pop', 'pub rock', 'zolo']"
          ],
          [
           "['dance pop', 'new wave pop']"
          ],
          [
           "['baroque pop', 'classic rock', 'psychedelic rock', 'rock', 'sunshine pop']"
          ],
          [
           "['classic rock', 'folk', 'folk rock', 'melancholia', 'mellow gold', 'rock']"
          ],
          [
           "['baroque pop', 'classic rock', 'psychedelic rock', 'rock', 'sunshine pop']"
          ],
          [
           "['dub', 'lovers rock', 'reggae', 'roots reggae']"
          ],
          [
           "['conscious hip hop', 'funk', 'jazz funk', 'political hip hop', 'slam poetry', 'soul']"
          ],
          [
           "['pop', 'r&b', 'soul']"
          ],
          [
           "['acoustic blues', 'blues', 'delta blues', 'pre-war blues', 'traditional blues']"
          ],
          [
           "['african-american classical', 'big band', 'harlem renaissance', 'jazz', 'jazz piano', 'swing']"
          ],
          [
           "['album rock', 'classic rock', 'new wave pop', 'power pop']"
          ],
          [
           "['folk rock', 'sunshine pop']"
          ],
          [
           "['art rock', 'folk', 'folk rock', 'mellow gold', 'new wave pop', 'permanent wave', 'power pop', 'pub rock', 'rock', 'roots rock', 'singer-songwriter']"
          ],
          [
           "['electronica', 'new wave pop', 'pop rock', 'sophisti-pop', 'trip hop']"
          ],
          [
           "['classic soul', 'funk', 'motown', 'quiet storm', 'soul', 'southern soul']"
          ],
          [
           "['classic rock', 'heartland rock', 'mellow gold', 'permanent wave', 'rock', 'singer-songwriter']"
          ],
          [
           "['album rock', 'classic rock', 'country rock', 'folk rock', 'heartland rock', 'mellow gold', 'pop rock', 'rock', 'singer-songwriter', 'soft rock']"
          ],
          [
           "['canadian singer-songwriter', 'folk', 'folk rock', 'singer-songwriter']"
          ],
          [
           "['adult standards', 'bubblegum pop', 'folk rock', 'mellow gold', 'merseybeat', 'rock-and-roll']"
          ],
          [
           "['hip hop', 'rap']"
          ],
          [
           "['adult standards', 'harlem renaissance', 'jazz', 'jazz blues', 'lounge', 'torch song', 'vocal jazz']"
          ],
          [
           "['baroque pop', 'bubblegum pop', 'classic garage rock', 'country rock', 'folk rock', 'freakbeat', 'psychedelic rock']"
          ],
          [
           "['art rock', 'permanent wave']"
          ],
          [
           "['alternative rock', 'art rock', 'melancholia', 'oxford indie', 'permanent wave', 'rock']"
          ],
          [
           "['canadian contemporary r&b', 'canadian pop', 'pop']"
          ],
          [
           "['early us punk', 'hardcore punk', 'punk', 'skate punk']"
          ],
          [
           "['album rock', 'art rock', 'classic rock', 'mellow gold', 'new wave', 'new wave pop', 'permanent wave', 'rock', 'soft rock', 'symphonic rock']"
          ],
          [
           "['dance pop']"
          ],
          [
           "['glam rock', 'mellow gold', 'piano rock']"
          ],
          [
           "['dance rock', 'new romantic', 'new wave', 'no wave', 'post-punk', 'synthpop']"
          ],
          [
           "['hip hop', 'new orleans rap', 'pop rap', 'rap', 'trap']"
          ],
          [
           "['classic rock', 'country rock', 'folk', 'folk rock', 'rock', 'roots rock', 'singer-songwriter']"
          ],
          [
           "['boy band', 'contemporary r&b', 'dance pop', 'hip hop', 'hip pop', 'neo soul', 'new jack swing', 'pop rap', 'quiet storm', 'r&b', 'urban contemporary']"
          ],
          [
           "['alternative dance', 'dance rock', 'dance-punk', 'electroclash', 'electronica', 'modern rock', 'new rave', 'sacramento indie']"
          ],
          [
           "['art rock', 'mellow gold', 'new wave', 'new wave pop', 'power pop', 'pub rock', 'rock', 'roots rock']"
          ],
          [
           "['classic rock', 'folk', 'folk rock', 'melancholia', 'mellow gold', 'rock']"
          ],
          [
           "['hard rock', 'metal', 'old school thrash', 'rock', 'thrash metal']"
          ],
          [
           "['chicago rap', 'rap']"
          ],
          [
           "['art pop', 'deconstructed club', 'electropop', 'escape room', 'hyperpop', 'proto-hyperpop', 'transpop']"
          ],
          [
           "['bubblegum pop', 'classic garage rock', 'freakbeat', 'protopunk', 'psychedelic rock']"
          ],
          [
           "['east coast hip hop', 'gangster rap', 'hip hop', 'pop rap', 'queens hip hop', 'rap']"
          ],
          [
           "['disco', 'funk', 'post-disco', 'quiet storm', 'soul', 'synth funk']"
          ],
          [
           "['alternative rock', 'funk metal', 'funk rock', 'permanent wave']"
          ],
          [
           "['glam rock', 'mellow gold', 'piano rock']"
          ],
          [
           "['classic rock', 'country rock', 'folk', 'folk rock', 'rock', 'roots rock', 'singer-songwriter']"
          ],
          [
           "['rock-and-roll', 'rockabilly']"
          ],
          [
           "['art rock', 'classic rock', 'glam rock', 'permanent wave', 'rock']"
          ],
          [
           "['dance pop', 'pop']"
          ],
          [
           "['irish rock', 'permanent wave', 'rock']"
          ],
          [
           "['pop', 'r&b', 'soul']"
          ],
          [
           "['album rock', 'blues rock', 'classic rock', 'country rock', 'hard rock', 'rock']"
          ],
          [
           "['new wave', 'permanent wave', 'rock', 'uk post-punk']"
          ],
          [
           "['atl hip hop', 'rap', 'southern hip hop', 'trap']"
          ],
          [
           "['adult standards', 'rock-and-roll', 'soul']"
          ],
          [
           "['new wave', 'permanent wave', 'rock', 'uk post-punk']"
          ],
          [
           "['dance pop', 'indietronica', 'new rave']"
          ],
          [
           "['alternative rock', 'dream pop', 'noise pop', 'rock', 'shoegaze']"
          ],
          [
           "['art pop', 'experimental pop', 'experimental vocal', 'icelandic experimental', 'icelandic pop', 'icelandic singer-songwriter', 'metropopolis', 'permanent wave']"
          ],
          [
           "['canadian singer-songwriter', 'classic canadian rock', 'classic rock', 'mellow gold', 'permanent wave', 'rock', 'roots rock', 'singer-songwriter']"
          ],
          [
           "['art rock', 'baroque pop', 'british invasion', 'bubblegum pop', 'classic rock', 'folk rock', 'psychedelic rock', 'rock']"
          ],
          [
           "['art pop', 'brooklyn indie', 'experimental pop', 'indie pop', 'indie rock']"
          ],
          [
           "['reggae', 'rocksteady', 'ska']"
          ],
          [
           "['classic rock', 'heartland rock', 'mellow gold', 'permanent wave', 'rock', 'singer-songwriter']"
          ],
          [
           "['detroit hip hop', 'hip hop', 'rap']"
          ],
          [
           "['baroque pop', 'classic rock', 'psychedelic rock', 'rock', 'sunshine pop']"
          ],
          [
           "['bubblegum pop', 'classic garage rock', 'classic rock', 'country rock', 'folk rock', 'mellow gold', 'psychedelic rock', 'rock', 'rock-and-roll', 'soft rock']"
          ],
          [
           "['beatlesque', 'british invasion', 'classic rock', 'merseybeat', 'psychedelic rock', 'rock']"
          ],
          [
           "['classic rock', 'country rock', 'folk', 'folk rock', 'rock', 'roots rock', 'singer-songwriter']"
          ],
          [
           "['alternative rock', 'modern power pop', 'modern rock', 'permanent wave', 'rock']"
          ],
          [
           "['british invasion', 'folk rock', 'merseybeat', 'rock-and-roll']"
          ],
          [
           "['permanent wave', 'punk']"
          ],
          [
           "['canadian singer-songwriter', 'classic canadian rock', 'classic rock', 'mellow gold', 'permanent wave', 'rock', 'roots rock', 'singer-songwriter']"
          ],
          [
           "['art rock', 'classic rock', 'classic uk pop', 'country rock', 'folk', 'folk rock', 'mellow gold', 'rock', 'roots rock', 'singer-songwriter', 'soft rock']"
          ],
          [
           "['candy pop', 'new wave', 'new wave pop', 'permanent wave', 'power pop', 'rock']"
          ],
          [
           "['adult standards', 'classic rock', 'country rock', 'folk', 'folk rock', 'mellow gold', 'singer-songwriter', 'soft rock']"
          ],
          [
           "['alternative hip hop']"
          ],
          [
           "['alternative rock', 'dark wave', 'gothic rock', 'new wave', 'post-punk']"
          ],
          [
           "['beatlesque', 'britpop', 'madchester', 'permanent wave', 'pop rock', 'rock']"
          ],
          [
           "['east coast hip hop', 'gangster rap', 'hardcore hip hop', 'hip hop', 'rap']"
          ],
          [
           "['bebop', 'free jazz', 'jazz', 'jazz saxophone']"
          ],
          [
           "['grunge', 'permanent wave', 'rock']"
          ],
          [
           "['disco', 'quiet storm']"
          ],
          [
           "['dance pop', 'electropop', 'hip pop', 'neo soul', 'r&b', 'urban contemporary']"
          ],
          [
           "['modern rock', 'rock']"
          ],
          [
           "['conscious hip hop', 'dirty south rap', 'g funk', 'gangster rap', 'golden age hip hop', 'hardcore hip hop', 'hip hop', 'old school hip hop', 'rap', 'southern hip hop']"
          ],
          [
           "['adult standards', 'bubblegum pop', 'mellow gold', 'rock-and-roll', 'rockabilly']"
          ],
          [
           "['blues', 'blues rock', 'chicago blues', 'electric blues', 'jazz blues', 'texas blues', 'traditional blues']"
          ],
          [
           "['permanent wave', 'punk']"
          ],
          [
           "['classic rock', 'permanent wave', 'punk', 'rock']"
          ],
          [
           "['alternative rock', 'anti-folk', 'art rock', 'dream pop', 'indie rock', 'lo-fi', 'modern rock', 'pop rock', 'rock']"
          ],
          [
           "['classic soul', 'disco', 'funk', 'philly soul', 'quiet storm', 'soul', 'southern soul', 'urban contemporary']"
          ],
          [
           "['brooklyn indie', 'indie pop']"
          ],
          [
           "['album rock', 'art rock', 'classic rock', 'mellow gold', 'new wave', 'new wave pop', 'permanent wave', 'rock', 'soft rock', 'symphonic rock']"
          ],
          [
           "['australian rock', 'mellow gold', 'permanent wave', 'pop rock', 'rock', 'soft rock']"
          ],
          [
           "['canadian indie', 'canadian pop', 'chamber pop', 'indie pop']"
          ],
          [
           "['dance pop', 'hip pop', 'pop', 'queens hip hop', 'rap']"
          ],
          [
           "['classic rock', 'glam rock', 'rock']"
          ],
          [
           "['pop']"
          ],
          [
           "['motown']"
          ],
          [
           "['classic rock', 'mellow gold', 'piano rock', 'rock', 'singer-songwriter', 'soft rock']"
          ],
          [
           "['east coast hip hop', 'golden age hip hop', 'hardcore hip hop', 'hip hop', 'old school hip hop', 'queens hip hop', 'rap']"
          ],
          [
           "['rock-and-roll', 'rockabilly', 'surf music']"
          ],
          [
           "['funk', 'p funk', 'soul']"
          ],
          [
           "['pop rock']"
          ],
          [
           "['atl hip hop', 'dance pop', 'dirty south rap', 'gangster rap', 'hip hop', 'pop rap', 'rap', 'southern hip hop', 'trap']"
          ],
          [
           "['alternative rock', 'dream pop', 'noise pop', 'rock', 'shoegaze']"
          ],
          [
           "['alternative rock', 'dream pop', 'noise pop', 'rock', 'shoegaze']"
          ],
          [
           "['new romantic', 'new wave', 'new wave pop', 'permanent wave', 'rock', 'sophisti-pop', 'synthpop']"
          ],
          [
           "['alternative rock', 'grunge', 'punk', 'rock']"
          ],
          [
           "['country', 'country rock', 'honky tonk']"
          ],
          [
           "['beatlesque', 'british invasion', 'classic rock', 'merseybeat', 'psychedelic rock', 'rock']"
          ],
          [
           "['british folk', 'classic uk pop', 'country rock', 'folk', 'folk rock', 'psychedelic rock', 'roots rock']"
          ],
          [
           "['harlem renaissance']"
          ],
          [
           "['classic girl group', 'disco', 'funk', 'motown', 'quiet storm', 'soul']"
          ],
          [
           "['adult standards', 'doo-wop', 'lounge', 'rock-and-roll', 'rockabilly']"
          ],
          [
           "['classic uk pop', 'merseybeat', 'rock-and-roll']"
          ],
          [
           "['classic soul', 'funk', 'indie r&b', 'motown', 'northern soul', 'quiet storm', 'soul']"
          ],
          [
           "['alternative rock', 'art rock', 'madchester', 'new wave', 'post-punk', 'rock', 'uk post-punk']"
          ],
          [
           "['classic rock', 'country rock', 'folk', 'folk rock', 'rock', 'roots rock', 'singer-songwriter']"
          ],
          [
           "['album rock', 'classic rock', 'hard rock', 'rock']"
          ],
          [
           "['classic rock', 'country rock', 'folk', 'folk rock', 'rock', 'roots rock', 'singer-songwriter']"
          ],
          [
           "['dub', 'reggae', 'roots reggae', 'ska']"
          ],
          [
           "['dark pop', 'electronica', 'laboratorio', 'trip hop']"
          ],
          [
           "['blues', 'blues rock', 'chicago blues', 'classic rock', 'electric blues', 'soul', 'traditional blues']"
          ],
          [
           "['dirty south rap', 'gangster rap', 'hip hop', 'houston rap', 'rap', 'southern hip hop', 'trap']"
          ],
          [
           "['electronica', 'future garage', 'new rave']"
          ],
          [
           "['disney', 'hollywood', 'movie tunes', 'singer-songwriter']"
          ],
          [
           "['acid rock', 'album rock', 'classic rock', 'psychedelic rock', 'rock']"
          ],
          [
           "['art rock', 'classic rock', 'glam rock', 'permanent wave', 'rock']"
          ],
          [
           "['indie rock', 'philly indie']"
          ],
          [
           "['adult standards', 'easy listening', 'lounge']"
          ],
          [
           "['alternative rock', 'blues rock', 'garage rock', 'modern blues rock', 'modern rock', 'punk blues', 'rock', 'roots rock']"
          ],
          [
           "['adult standards', 'dixieland', 'harlem renaissance', 'jazz', 'jazz piano', 'lounge', 'stride', 'swing', 'tin pan alley', 'vocal jazz']"
          ],
          [
           "['beatlesque', 'britpop', 'madchester', 'permanent wave', 'pop rock', 'rock']"
          ],
          [
           "['classic soul', 'motown', 'soul']"
          ],
          [
           "['alternative dance', 'art pop', 'dance rock', 'electronica', 'electropop', 'indie rock', 'indietronica', 'modern rock', 'neo-synthpop', 'new rave']"
          ],
          [
           "['album rock', 'beatlesque', 'classic rock', 'folk rock', 'mellow gold', 'rock', 'soft rock']"
          ],
          [
           "['permanent wave', 'pop']"
          ],
          [
           "['big beat']"
          ],
          [
           "['new wave pop', 'urban contemporary']"
          ],
          [
           "['country', 'country rock', 'nashville sound']"
          ],
          [
           "['classic soul', 'funk', 'indie r&b', 'motown', 'northern soul', 'quiet storm', 'soul']"
          ],
          [
           "['jazz blues', 'rhythm and blues', 'swing']"
          ],
          [
           "['alternative rock', 'art rock', 'classic rock', 'folk rock', 'melancholia', 'permanent wave', 'protopunk', 'psychedelic rock', 'rock']"
          ],
          [
           "['rock-and-roll', 'rockabilly', 'soul']"
          ],
          [
           "['adult standards', 'classic soul', 'jazz blues', 'piano blues', 'soul', 'soul blues', 'vocal jazz']"
          ],
          [
           "['canadian singer-songwriter', 'folk', 'folk rock', 'singer-songwriter']"
          ],
          [
           "['classic rock', 'heartland rock', 'mellow gold', 'permanent wave', 'rock', 'singer-songwriter']"
          ],
          [
           "['canadian singer-songwriter', 'folk', 'folk rock', 'melancholia', 'permanent wave', 'singer-songwriter']"
          ],
          [
           "['classic rock', 'cosmic american', 'country rock', 'double drumming', 'jam band', 'psychedelic rock', 'rock']"
          ],
          [
           "['classic rock', 'permanent wave', 'punk', 'rock']"
          ],
          [
           "['rap', 'slap house']"
          ],
          [
           "['art rock', 'new romantic', 'new wave', 'new wave pop', 'permanent wave', 'post-punk', 'synthpop']"
          ],
          [
           "['east coast hip hop', 'hip hop', 'rap']"
          ],
          [
           "['classic rock', 'glam rock', 'rock']"
          ],
          [
           "['classic soul', 'funk', 'memphis soul', 'soul', 'southern soul']"
          ],
          [
           "['g funk', 'gangster rap', 'hip hop', 'pop rap', 'rap', 'west coast rap']"
          ],
          [
           "['alternative rock', 'art punk', 'art rock', 'dance rock', 'new romantic', 'new wave', 'post-punk', 'punk', 'rock', 'synth punk', 'synthpop', 'zolo']"
          ],
          [
           "['acoustic blues', 'blues', 'delta blues', 'pre-war blues', 'traditional blues']"
          ],
          [
           "['glam metal', 'hard rock', 'rock']"
          ],
          [
           "['album rock', 'art rock', 'classic rock', 'progressive rock', 'psychedelic rock', 'rock', 'symphonic rock']"
          ],
          [
           "['british invasion', 'classic rock', 'rock']"
          ],
          [
           "['dance pop', 'pop', 'rap']"
          ],
          [
           "['alternative dance', 'alternative rock', 'art pop', 'chamber pop', 'chamber psych', 'chillwave', 'collage pop', 'dream pop', 'electronica', 'experimental pop', 'indie rock', 'neo-psychedelic', 'new rave', 'noise pop']"
          ],
          [
           "['bossa nova', 'brazilian classical', 'brazilian jazz', 'latin classical', 'mpb', 'violao']"
          ],
          [
           "['adult standards', 'big band', 'jazz', 'jazz clarinet', 'lounge', 'stride', 'swing', 'vintage jazz', 'vocal jazz']"
          ],
          [
           "['electronica', 'indie soul', 'uk alternative pop']"
          ],
          [
           "['acid house', 'detroit techno', 'techno']"
          ],
          [
           "['british invasion', 'classic rock', 'rock']"
          ],
          [
           "['alternative rock', 'britpop', 'madchester', 'modern rock', 'permanent wave', 'pop rock', 'rock']"
          ],
          [
           "['alternative rock', 'art pop', 'art rock', 'dream pop', 'indie rock', 'melancholia', 'permanent wave', 'piano rock', 'rock', 'singer-songwriter']"
          ],
          [
           "['britpop', 'pop rock', 'rock']"
          ],
          [
           "['disco', 'europop', 'mellow gold', 'new romantic', 'new wave', 'new wave pop', 'soft rock', 'synthpop']"
          ],
          [
           "['conscious hip hop', 'g funk', 'gangster rap', 'hip hop', 'rap', 'west coast rap']"
          ],
          [
           "['beatlesque', 'british invasion', 'classic rock', 'merseybeat', 'psychedelic rock', 'rock']"
          ],
          [
           "['album rock', 'art rock', 'blues rock', 'classic rock', 'flute rock', 'folk rock', 'hard rock', 'progressive rock', 'psychedelic rock', 'rock', 'symphonic rock']"
          ],
          [
           "['album rock', 'classic rock', 'hard rock', 'rock']"
          ],
          [
           "['atl hip hop', 'hip hop', 'rap']"
          ],
          [
           "['edm', 'house', 'pop', 'uk dance']"
          ],
          [
           "['big beat', 'britpop', 'dance rock', 'madchester', 'new wave']"
          ],
          [
           "['ambient pop', 'downtempo', 'electronica', 'trip hop']"
          ],
          [
           "['art rock', 'baroque pop', 'british invasion', 'bubblegum pop', 'classic rock', 'folk rock', 'psychedelic rock', 'rock']"
          ],
          [
           "['classic soul', 'disco', 'funk', 'philly soul', 'quiet storm', 'soul', 'southern soul']"
          ],
          [
           "['alternative metal', 'alternative rock', 'cyberpunk', 'electronic rock', 'industrial', 'industrial metal', 'industrial rock', 'nu metal', 'rock']"
          ],
          [
           "[]"
          ],
          [
           "['rock-and-roll', 'rockabilly']"
          ],
          [
           "['adult standards', 'brill building pop', 'doo-wop', 'rhythm and blues', 'rock-and-roll', 'rockabilly']"
          ],
          [
           "['adult standards', 'mellow gold', 'soft rock']"
          ],
          [
           "['alternative rock', 'indie rock', 'melancholia', 'pop rock', 'rock', 'singer-songwriter']"
          ],
          [
           "['blues', 'blues rock', 'chicago blues', 'classic rock', 'electric blues', 'soul', 'traditional blues']"
          ],
          [
           "['adult standards', 'classic soul', 'rock-and-roll', 'soul']"
          ],
          [
           "['east coast hip hop', 'gangster rap', 'hardcore hip hop', 'hip hop', 'rap']"
          ],
          [
           "['dance pop']"
          ],
          [
           "['classic rock', 'country rock', 'rock', 'southern rock', 'swamp rock']"
          ],
          [
           "['alternative rock', 'britpop', 'dance rock', 'madchester', 'modern rock', 'rock']"
          ],
          [
           "['anti-folk', 'folk', 'folk punk', 'folk rock', 'permanent wave', 'roots rock', 'singer-songwriter', 'uk americana']"
          ],
          [
           "['art rock', 'classic rock', 'glam rock', 'permanent wave', 'rock']"
          ],
          [
           "['adult standards', 'deep adult standards', 'easy listening', 'lounge', 'rock-and-roll', 'rockabilly', 'vocal jazz']"
          ],
          [
           "['mod revival', 'new wave', 'pub rock', 'punk', 'rock', 'ska']"
          ],
          [
           "['album rock', 'birmingham metal', 'classic rock', 'hard rock', 'metal', 'rock', 'stoner rock', 'uk doom metal']"
          ],
          [
           "['album rock', 'classic rock', 'hard rock', 'mellow gold', 'rock', 'soft rock']"
          ],
          [
           "['classic soul', 'jazz blues', 'memphis soul', 'soul', 'southern soul']"
          ],
          [
           "['adult standards', 'bebop', 'big band', 'jazz', 'lounge', 'stride', 'swing', 'vocal jazz']"
          ],
          [
           "['glam rock', 'mellow gold', 'piano rock']"
          ],
          [
           "['bronx hip hop', 'electro', 'old school hip hop']"
          ],
          [
           "['classic rock', 'heartland rock', 'mellow gold', 'permanent wave', 'rock', 'singer-songwriter']"
          ],
          [
           "['alternative dance', 'alternative rock', 'brooklyn indie', 'indie rock', 'indietronica', 'modern rock', 'new rave', 'rock']"
          ],
          [
           "['east coast hip hop', 'gangster rap', 'hardcore hip hop', 'hip hop', 'hip pop', 'new jersey rap', 'pop rap', 'rap']"
          ],
          [
           "['adult standards', 'rock-and-roll', 'rockabilly']"
          ],
          [
           "['alternative dance', 'alternative rock', 'dance-punk', 'garage rock', 'indie rock', 'modern rock', 'new rave', 'rock']"
          ],
          [
           "['classic soul', 'rhythm and blues', 'rock-and-roll', 'soul', 'southern soul']"
          ],
          [
           "['art rock', 'permanent wave']"
          ],
          [
           "['classic rock', 'country rock', 'folk', 'folk rock', 'rock', 'roots rock', 'singer-songwriter']"
          ],
          [
           "['alternative dance', 'dance-punk', 'indie rock', 'modern rock', 'new rave', 'rock']"
          ],
          [
           "['baroque pop', 'classic rock', 'psychedelic rock', 'rock', 'sunshine pop']"
          ],
          [
           "['motown', 'northern soul', 'soul']"
          ],
          [
           "['dance pop', 'disco', 'philly soul', 'post-disco', 'quiet storm', 'soul']"
          ],
          [
           "['dance pop', 'europop', 'girl group']"
          ],
          [
           "['adult standards', 'motown', 'soul']"
          ],
          [
           "['british invasion', 'classic rock', 'rock']"
          ],
          [
           "['candy pop', 'new wave', 'new wave pop', 'permanent wave', 'power pop', 'rock']"
          ],
          [
           "['east coast hip hop', 'electro', 'harlem hip hop', 'hip hop', 'hip house', 'old school hip hop', 'rap']"
          ],
          [
           "['baroque pop', 'indie rock', 'modern rock', 'rock']"
          ],
          [
           "['beatlesque', 'british invasion', 'classic rock', 'merseybeat', 'psychedelic rock', 'rock']"
          ],
          [
           "['disco', 'hi-nrg', 'post-disco']"
          ],
          [
           "['permanent wave', 'punk']"
          ],
          [
           "['lilith', 'new wave pop', 'permanent wave', 'pop rock', 'singer-songwriter']"
          ],
          [
           "['art rock', 'british folk', 'canterbury scene', 'experimental', 'experimental rock', 'psychedelic rock', 'zolo']"
          ],
          [
           "['bubblegum pop', 'classic girl group', 'rock-and-roll']"
          ],
          [
           "['canadian singer-songwriter', 'folk', 'folk rock', 'singer-songwriter']"
          ],
          [
           "['album rock', 'art rock', 'blues rock', 'classic rock', 'folk rock', 'hard rock', 'psychedelic rock', 'rock', 'roots rock', 'supergroup', 'symphonic rock']"
          ],
          [
           "['disco', 'new wave pop', 'soft rock']"
          ],
          [
           "['europop', 'swedish pop']"
          ],
          [
           "['classic girl group', 'disco', 'funk', 'motown', 'quiet storm', 'soul']"
          ],
          [
           "['album rock', 'art rock', 'blues rock', 'british blues', 'british invasion', 'classic rock', 'country rock', 'folk rock', 'freakbeat', 'hard rock', 'psychedelic rock', 'rock', 'roots rock', 'symphonic rock']"
          ],
          [
           "['album rock', 'art rock', 'blues rock', 'classic rock', 'country rock', 'folk rock', 'glam rock', 'hard rock', 'mellow gold', 'protopunk', 'psychedelic rock', 'rock', 'roots rock', 'soft rock']"
          ],
          [
           "['classic soul', 'funk', 'memphis soul', 'quiet storm', 'soul', 'soul blues', 'southern soul']"
          ],
          [
           "['beatlesque', 'british invasion', 'classic rock', 'merseybeat', 'psychedelic rock', 'rock']"
          ],
          [
           "['acoustic blues', 'blues', 'country blues', 'gospel blues', 'texas blues', 'traditional blues']"
          ],
          [
           "['album rock', 'classic rock', 'mellow gold', 'rock', 'soft rock', 'yacht rock']"
          ],
          [
           "['beatlesque', 'british invasion', 'classic rock', 'merseybeat', 'psychedelic rock', 'rock']"
          ],
          [
           "['adult standards', 'doo-wop', 'lounge', 'rock-and-roll', 'rockabilly']"
          ],
          [
           "['album rock', 'glam rock', 'hard rock', 'metal', 'rock']"
          ],
          [
           "['french jazz', 'gypsy jazz', 'jazz', 'jazz guitar', 'swing']"
          ],
          [
           "['contemporary post-bop', 'funk', 'instrumental funk', 'jazz', 'jazz funk', 'jazz fusion', 'jazz piano', 'uk contemporary jazz']"
          ],
          [
           "['alternative rock', 'indie pop', 'indie rock', 'rock']"
          ],
          [
           "['album rock', 'art rock', 'blues rock', 'british invasion', 'classic rock', 'hard rock', 'mellow gold', 'psychedelic rock', 'rock']"
          ],
          [
           "['adult standards', 'bubblegum pop', 'lounge', 'rock-and-roll', 'rockabilly', 'soul']"
          ],
          [
           "['art punk', 'art rock', 'dance rock', 'funk rock', 'new wave', 'permanent wave', 'post-punk', 'rock', 'zolo']"
          ],
          [
           "['bubblegum pop', 'classic rock', 'country rock', 'folk rock', 'mellow gold', 'merseybeat', 'psychedelic rock']"
          ],
          [
           "['funk', 'soul']"
          ],
          [
           "['adult standards', 'motown', 'soul']"
          ],
          [
           "['alternative rock', 'art rock', 'dream pop', 'gothic rock', 'new romantic', 'new wave', 'new wave pop', 'post-punk', 'uk post-punk']"
          ],
          [
           "['album rock', 'art rock', 'blues rock', 'classic rock', 'folk rock', 'glam rock', 'protopunk', 'psychedelic rock', 'rock']"
          ],
          [
           "['dance pop', 'girl group', 'hip pop', 'pop', 'r&b', 'urban contemporary']"
          ],
          [
           "['alternative rock', 'art rock', 'melancholia', 'oxford indie', 'permanent wave', 'rock']"
          ],
          [
           "['acoustic blues', 'appalachian folk', 'blues', 'country blues', 'delta blues', 'folk', 'texas blues', 'traditional blues', 'traditional folk']"
          ],
          [
           "['atmospheric dnb', 'big beat', 'drum and bass', 'drumfunk', 'hardcore techno', 'jungle']"
          ],
          [
           "['canadian singer-songwriter', 'classic canadian rock', 'classic rock', 'mellow gold', 'permanent wave', 'rock', 'roots rock', 'singer-songwriter']"
          ],
          [
           "['east coast hip hop', 'gangster rap', 'hip hop', 'new jersey rap']"
          ],
          [
           "['album rock', 'blues rock', 'classic rock', 'country rock', 'double drumming', 'folk rock', 'hard rock', 'jam band', 'mellow gold', 'rock', 'roots rock', 'soft rock', 'southern rock']"
          ],
          [
           "['adult standards', 'doo-wop', 'louisiana blues', 'memphis blues', 'new orleans blues', 'rhythm and blues', 'rock-and-roll', 'rockabilly', 'soul']"
          ],
          [
           "['adult standards', 'chicago soul', 'classic soul', 'funk', 'quiet storm', 'rhythm and blues', 'rock-and-roll', 'rockabilly', 'soul']"
          ],
          [
           "['disco', 'funk', 'popping', 'post-disco', 'quiet storm', 'soul', 'urban contemporary']"
          ],
          [
           "['alternative rock', 'boston rock', 'modern rock', 'permanent wave', 'rock']"
          ],
          [
           "['gangster rap', 'hardcore hip hop', 'hip hop', 'rap', 'rap rock', 'west coast rap']"
          ],
          [
           "['adult standards', 'bubblegum pop', 'lounge', 'rock-and-roll', 'rockabilly', 'soul']"
          ],
          [
           "[]"
          ],
          [
           "['alternative rock', 'art rock', 'dance rock', 'madchester', 'new romantic', 'new wave', 'new wave pop', 'permanent wave', 'pop rock', 'post-punk', 'rock', 'synthpop', 'uk post-punk']"
          ],
          [
           "['art pop', 'dance pop', 'electropop', 'europop', 'pop', 'scandipop', 'swedish electropop', 'swedish pop']"
          ],
          [
           "[]"
          ],
          [
           "['album rock', 'art rock', 'beatlesque', 'classic rock', 'folk rock', 'mellow gold', 'rock', 'soft rock']"
          ],
          [
           "['adult standards', 'classic soul', 'jazz blues', 'piano blues', 'soul', 'soul blues', 'vocal jazz']"
          ],
          [
           "['classic rock', 'country rock', 'folk', 'folk rock', 'rock', 'roots rock', 'singer-songwriter']"
          ],
          [
           "['dance pop']"
          ],
          [
           "['bubblegum pop', 'classic rock', 'folk rock', 'psychedelic rock']"
          ],
          [
           "['art pop', 'dance pop', 'electropop', 'europop', 'pop', 'scandipop', 'swedish electropop', 'swedish pop']"
          ],
          [
           "['rock-and-roll', 'rockabilly']"
          ],
          [
           "['dance pop', 'pop']"
          ],
          [
           "['adult standards', 'doo-wop', 'rhythm and blues', 'rock-and-roll', 'rockabilly']"
          ],
          [
           "['honky tonk', 'traditional country', 'yodeling']"
          ],
          [
           "['chicago rap', 'rap']"
          ],
          [
           "['adult standards', 'classic soul', 'rock-and-roll', 'soul']"
          ],
          [
           "['dance pop', 'disco', 'funk', 'neo soul', 'post-disco', 'quiet storm', 'soul', 'urban contemporary']"
          ],
          [
           "['album rock', 'blues rock', 'classic rock', 'country rock', 'double drumming', 'folk rock', 'hard rock', 'jam band', 'mellow gold', 'rock', 'roots rock', 'soft rock', 'southern rock']"
          ],
          [
           "['album rock', 'art rock', 'classic rock', 'hard rock', 'mellow gold', 'new romantic', 'new wave', 'new wave pop', 'permanent wave', 'pop rock', 'power pop', 'rock', 'soft rock']"
          ],
          [
           "['british invasion', 'classic rock', 'rock']"
          ],
          [
           "['alternative hip hop', 'conscious hip hop', 'east coast hip hop', 'gangster rap', 'golden age hip hop', 'hardcore hip hop', 'hip hop', 'jazz rap', 'queens hip hop', 'rap']"
          ],
          [
           "['afrofuturism', 'funk', 'funk rock', 'p funk', 'soul']"
          ],
          [
           "['conscious hip hop', 'hip hop', 'rap', 'underground hip hop']"
          ],
          [
           "['classic rock', 'glam rock', 'rock']"
          ],
          [
           "['alternative rock', 'art rock', 'madchester', 'new wave', 'post-punk', 'rock', 'uk post-punk']"
          ],
          [
           "['album rock', 'art rock', 'classic rock', 'country rock', 'folk rock', 'mellow gold', 'psychedelic rock', 'rock', 'soft rock', 'yacht rock']"
          ],
          [
           "['chamber pop', 'folk', 'indie folk', 'indie pop', 'indie rock', 'seattle indie', 'stomp and holler']"
          ],
          [
           "['alternative rock', 'anti-folk', 'indie rock', 'modern rock', 'permanent wave', 'rock']"
          ],
          [
           "['blues rock', 'classic rock', 'mexican classic rock']"
          ],
          [
           "['britpop', 'scottish new wave', 'solo wave']"
          ],
          [
           "['chicago soul', 'classic soul', 'funk', 'soul']"
          ],
          [
           "['classic rock', 'rock', 'rock-and-roll', 'rockabilly']"
          ],
          [
           "['mellow gold']"
          ],
          [
           "['punk', 'ska', 'ska revival']"
          ],
          [
           "['birmingham hip hop', 'uk garage']"
          ],
          [
           "['alternative dance', 'indietronica', 'modern rock', 'rock']"
          ],
          [
           "['album rock', 'classic rock', 'hard rock', 'metal', 'rock']"
          ],
          [
           "['dance pop']"
          ],
          [
           "['alternative hip hop', 'gangster rap', 'hardcore hip hop', 'hip hop', 'rap', 'southern hip hop', 'trap', 'virginia hip hop']"
          ],
          [
           "['alternative rock', 'art rock', 'classic rock', 'folk rock', 'melancholia', 'permanent wave', 'protopunk', 'psychedelic rock', 'rock']"
          ],
          [
           "['alternative pop', 'alternative rock', 'anti-folk', 'indie rock', 'new wave', 'permanent wave', 'pop rock', 'post-punk', 'power pop', 'punk', 'roots rock']"
          ],
          [
           "['big band', 'tin pan alley']"
          ],
          [
           "['art rock', 'dance rock', 'mellow gold', 'new romantic', 'new wave', 'new wave pop', 'rock', 'scottish new wave', 'soft rock', 'synthpop']"
          ],
          [
           "['beatlesque', 'british invasion', 'classic rock', 'merseybeat', 'psychedelic rock', 'rock']"
          ],
          [
           "['classic country pop', 'nashville sound', 'traditional country']"
          ],
          [
           "['bassline', 'grime', 'house', 'instrumental grime', 'pop rap']"
          ],
          [
           "['afrobeat', 'afropop', 'makossa', 'world']"
          ],
          [
           "['alternative rock', 'art rock', 'dance rock', 'madchester', 'new romantic', 'new wave', 'new wave pop', 'permanent wave', 'pop rock', 'post-punk', 'rock', 'synthpop', 'uk post-punk']"
          ],
          [
           "['african-american classical', 'big band', 'harlem renaissance', 'jazz', 'jazz piano', 'swing']"
          ],
          [
           "['appalachian folk', 'bluegrass', 'country gospel', 'folk', 'old-time', 'traditional country', 'traditional folk', 'vocal harmony group']"
          ],
          [
           "['ambient house', 'electronica', 'intelligent dance music', 'trip hop']"
          ],
          [
           "['rhythm and blues', 'rock-and-roll']"
          ],
          [
           "['chicago rap', 'rap']"
          ],
          [
           "['album rock', 'art rock', 'british invasion', 'classic rock', 'folk rock', 'glam rock', 'mellow gold', 'protopunk', 'psychedelic rock', 'rock']"
          ],
          [
           "['acid rock', 'album rock', 'blues rock', 'classic rock', 'hard rock', 'proto-metal', 'psychedelic rock', 'rock']"
          ],
          [
           "['acoustic blues', 'appalachian folk', 'blues', 'country blues', 'delta blues', 'pre-war blues', 'traditional blues', 'traditional folk']"
          ],
          [
           "['art pop', 'dance rock', 'europop', 'new romantic', 'new wave', 'new wave pop', 'permanent wave', 'synthpop']"
          ],
          [
           "['adult standards', 'easy listening', 'lounge']"
          ],
          [
           "['dark pop', 'electronica', 'laboratorio', 'trip hop']"
          ],
          [
           "['hip hop', 'melodic rap', 'mississippi hip hop', 'pop rap', 'rap', 'southern hip hop', 'trap']"
          ],
          [
           "['bebop', 'big band', 'jazz', 'jazz trumpet', 'swing']"
          ],
          [
           "['chicago soul', 'classic soul', 'motown', 'northern soul', 'rhythm and blues', 'soul', 'southern soul']"
          ],
          [
           "['adult standards', 'classic soul', 'disco', 'funk', 'mellow gold', 'motown', 'quiet storm', 'soul']"
          ],
          [
           "['baroque pop', 'classic rock', 'psychedelic rock', 'rock', 'sunshine pop']"
          ],
          [
           "['indie punk', 'olympia wa indie', 'riot grrrl']"
          ],
          [
           "['bakersfield sound', 'country rock']"
          ],
          [
           "['art pop', 'baltimore indie', 'bubblegrunge', 'indie pop', 'indie rock']"
          ],
          [
           "['classic soul', 'funk', 'memphis soul', 'motown', 'soul']"
          ],
          [
           "[]"
          ],
          [
           "['bluegrass gospel', 'country boogie', 'country gospel', 'yodeling']"
          ],
          [
           "['adult standards', 'bubblegum pop', 'lounge', 'rock-and-roll', 'rockabilly', 'soul']"
          ],
          [
           "['surf music']"
          ],
          [
           "['alternative pop', 'alternative rock', 'britpop', 'candy pop']"
          ],
          [
           "['disco', 'philly soul', 'post-disco', 'quiet storm']"
          ],
          [
           "['harlem renaissance', 'traditional blues']"
          ],
          [
           "['atl hip hop']"
          ],
          [
           "['alternative dance', 'big beat', 'breakbeat', 'electronica', 'new rave', 'rave']"
          ],
          [
           "['album rock', 'classic rock', 'hard rock', 'mellow gold', 'rock', 'soft rock']"
          ],
          [
           "['classic rock', 'country rock', 'folk', 'folk rock', 'rock', 'roots rock', 'singer-songwriter']"
          ],
          [
           "['baroque pop', 'canadian indie', 'indie rock', 'modern rock', 'permanent wave', 'quebec indie', 'rock']"
          ],
          [
           "['uk alternative pop']"
          ],
          [
           "['hot jazz']"
          ],
          [
           "['ska', 'ska revival']"
          ]
         ],
         "hovertemplate": "x=%{x}<br>y=%{y}<br>genres=%{customdata[0]}<br>cluster=%{marker.color}<extra></extra>",
         "legendgroup": "",
         "marker": {
          "color": [
           3,
           5,
           6,
           6,
           0,
           2,
           8,
           5,
           9,
           4,
           2,
           7,
           5,
           5,
           8,
           3,
           3,
           4,
           6,
           5,
           4,
           0,
           6,
           0,
           1,
           2,
           0,
           3,
           1,
           6,
           2,
           4,
           5,
           9,
           1,
           0,
           2,
           9,
           4,
           8,
           6,
           4,
           8,
           2,
           4,
           2,
           3,
           5,
           9,
           5,
           2,
           0,
           8,
           4,
           8,
           9,
           3,
           3,
           5,
           4,
           5,
           6,
           5,
           4,
           9,
           2,
           6,
           8,
           2,
           8,
           7,
           9,
           5,
           6,
           2,
           9,
           5,
           2,
           3,
           2,
           5,
           0,
           9,
           0,
           8,
           6,
           8,
           5,
           2,
           9,
           6,
           4,
           3,
           2,
           9,
           9,
           2,
           7,
           4,
           5,
           6,
           0,
           0,
           9,
           4,
           7,
           1,
           5,
           4,
           2,
           0,
           2,
           6,
           0,
           5,
           3,
           5,
           2,
           8,
           4,
           0,
           1,
           9,
           4,
           0,
           0,
           1,
           6,
           2,
           7,
           6,
           6,
           0,
           0,
           6,
           5,
           5,
           4,
           8,
           9,
           7,
           5,
           6,
           0,
           6,
           2,
           9,
           2,
           3,
           8,
           4,
           6,
           8,
           3,
           4,
           1,
           6,
           7,
           0,
           0,
           5,
           5,
           2,
           2,
           8,
           3,
           2,
           6,
           3,
           5,
           8,
           4,
           7,
           3,
           2,
           5,
           2,
           3,
           2,
           0,
           2,
           0,
           6,
           6,
           5,
           7,
           4,
           2,
           5,
           4,
           2,
           4,
           6,
           9,
           1,
           2,
           7,
           0,
           9,
           3,
           5,
           2,
           3,
           7,
           5,
           0,
           4,
           7,
           4,
           0,
           6,
           1,
           8,
           0,
           6,
           4,
           6,
           4,
           5,
           9,
           4,
           4,
           5,
           2,
           6,
           9,
           2,
           1,
           0,
           0,
           4,
           9,
           8,
           3,
           8,
           4,
           7,
           7,
           0,
           9,
           2,
           3,
           9,
           5,
           0,
           8,
           5,
           5,
           3,
           6,
           9,
           1,
           9,
           0,
           2,
           4,
           2,
           5,
           9,
           5,
           4,
           0,
           3,
           2,
           1,
           5,
           1,
           8,
           6,
           4,
           8,
           5,
           6,
           4,
           6,
           8,
           6,
           8,
           2,
           9,
           5,
           2,
           3,
           1,
           4,
           4,
           9,
           9,
           2,
           7,
           5,
           8,
           2,
           9,
           0,
           0,
           7,
           0,
           1,
           0,
           8,
           9,
           8,
           0,
           3,
           6,
           5,
           9,
           9,
           4,
           4,
           5,
           4,
           6,
           0,
           5,
           4,
           6,
           5,
           5,
           8,
           5,
           0,
           8,
           2,
           5,
           0,
           5,
           2,
           2,
           6,
           4,
           9,
           2,
           8,
           1,
           1,
           2,
           1,
           4,
           5,
           2,
           5,
           9,
           2,
           4,
           2,
           3,
           7,
           6,
           8,
           6,
           5,
           9,
           2,
           0,
           1,
           8,
           8,
           8,
           7,
           8,
           5,
           4,
           5,
           5,
           4,
           8,
           1,
           5,
           0,
           9,
           7,
           0,
           6,
           7,
           9,
           8,
           7,
           3,
           1,
           3,
           8,
           9,
           9,
           6,
           4,
           5,
           1,
           0,
           0,
           7,
           9,
           9,
           9,
           2,
           9,
           0,
           4,
           9,
           2,
           9,
           9,
           5,
           5,
           3,
           9,
           4,
           0,
           2,
           9,
           4,
           9,
           8,
           9,
           1,
           8,
           8,
           4,
           8,
           6,
           6,
           2,
           4,
           7,
           5,
           2,
           2,
           3,
           7,
           0,
           1,
           2,
           6,
           3,
           7,
           8,
           5,
           8,
           8,
           9,
           8,
           2,
           8,
           3,
           0,
           5,
           4,
           4,
           5,
           9,
           7,
           3,
           1,
           6,
           2,
           8,
           5,
           1,
           8,
           8,
           6,
           4,
           1,
           3,
           8,
           6,
           6,
           7,
           9,
           2,
           7,
           2,
           2,
           4,
           9,
           5,
           1,
           8,
           8,
           9,
           7,
           4,
           5,
           4,
           5,
           0,
           8,
           7,
           3,
           4,
           2,
           9,
           7,
           3,
           5,
           9,
           3,
           2,
           6,
           4,
           9,
           3,
           5,
           8,
           2,
           4,
           0,
           8,
           5,
           3,
           2,
           8,
           3,
           5,
           9,
           4,
           8,
           5,
           3,
           6,
           8,
           2,
           9,
           5,
           5,
           2,
           0,
           0,
           4,
           5,
           6,
           1,
           9,
           8,
           6,
           9,
           1,
           7,
           5,
           2,
           4,
           1,
           0,
           6,
           3,
           5,
           7,
           6,
           6,
           3,
           5,
           1,
           7,
           4,
           3,
           6,
           8,
           8,
           0,
           9,
           3,
           2,
           9,
           1,
           5,
           7,
           2,
           6,
           8,
           5,
           4,
           2,
           4,
           5,
           0,
           2,
           5,
           2,
           9,
           0,
           2,
           2,
           2,
           9,
           2,
           2,
           9,
           5,
           4,
           2,
           2,
           3,
           8,
           7,
           7,
           3,
           6,
           6,
           1,
           1,
           5,
           1,
           8,
           0,
           3,
           3,
           9,
           1,
           6,
           4,
           9,
           0,
           2,
           2,
           2,
           2,
           7,
           6,
           1,
           3,
           1,
           4,
           2,
           8,
           1,
           8,
           3,
           5,
           4,
           5,
           4,
           6,
           5,
           9,
           9,
           5,
           1,
           8,
           4,
           3,
           1,
           2,
           8,
           4,
           1,
           0,
           1,
           5,
           4,
           9,
           9,
           2,
           5,
           4,
           5,
           9,
           8,
           8,
           9,
           3,
           5,
           2,
           7,
           9,
           5,
           2,
           4,
           4,
           8,
           8,
           0,
           9,
           0,
           4,
           8,
           3,
           0,
           5,
           7,
           5,
           5,
           4,
           5,
           6,
           6,
           8,
           8,
           5,
           5,
           0,
           7,
           5,
           3,
           4,
           5,
           4,
           9,
           0,
           2,
           4,
           8,
           4,
           5,
           2,
           9,
           5,
           2,
           2,
           5,
           8,
           6,
           4,
           4,
           4,
           2,
           5,
           2,
           3,
           5,
           6,
           7,
           2,
           0,
           5,
           7,
           4,
           4,
           5,
           2,
           3,
           6,
           9,
           4,
           3,
           1,
           1,
           8,
           4,
           5,
           0,
           9,
           8,
           5,
           8,
           1,
           1,
           3,
           5,
           2,
           2,
           0,
           1,
           1,
           2,
           0,
           2,
           7,
           9,
           2,
           1,
           4,
           2,
           5,
           9,
           9,
           7,
           8,
           3,
           1,
           9,
           6,
           1,
           4,
           5,
           3,
           2,
           9,
           2,
           2,
           3,
           4,
           4,
           5,
           0,
           5,
           6,
           9,
           5,
           2,
           4,
           2,
           1,
           3,
           1,
           4,
           2,
           5,
           2,
           8,
           9,
           3,
           4,
           4,
           4,
           5,
           6,
           7,
           9,
           9,
           4,
           5,
           4,
           8,
           8,
           0,
           3,
           9,
           6,
           8,
           1,
           3,
           8,
           2,
           2,
           5,
           6,
           3,
           1,
           5,
           8,
           4,
           8,
           9,
           0,
           7,
           8,
           4,
           9,
           2,
           5,
           8,
           9,
           9,
           4,
           7,
           4,
           4,
           3,
           2,
           5,
           2,
           4,
           6,
           6,
           6,
           5,
           5,
           1,
           5,
           7,
           7,
           9,
           1,
           0,
           9,
           3,
           3,
           5,
           3,
           4,
           6,
           0,
           2,
           6,
           1,
           5,
           9,
           5,
           1,
           8,
           7,
           5,
           0,
           5,
           5,
           3,
           5,
           2,
           3,
           4,
           0,
           9,
           4,
           0,
           0,
           3,
           3,
           1,
           5,
           2,
           6,
           4,
           3,
           2,
           6,
           2,
           7,
           5,
           6,
           7,
           2,
           5,
           7,
           3,
           7,
           4,
           4,
           8,
           9,
           6,
           3,
           2,
           9,
           8,
           5,
           9,
           5,
           5,
           8,
           5,
           7,
           1,
           7,
           1,
           3,
           1,
           9,
           7,
           0,
           2,
           8,
           4,
           8,
           0,
           9,
           1,
           5,
           5,
           8,
           3,
           0,
           9,
           4,
           5,
           6,
           4,
           4,
           6,
           7,
           1,
           7,
           5,
           0,
           0,
           2,
           2,
           4,
           4,
           2,
           2,
           8,
           1,
           4,
           3,
           4,
           1,
           3,
           9,
           9,
           4,
           5,
           0,
           5,
           5,
           4,
           9,
           1,
           3,
           5,
           7,
           4,
           7,
           4,
           9,
           6,
           0,
           2,
           8,
           4,
           4,
           4,
           5,
           8,
           6,
           0,
           6,
           5,
           8,
           5,
           0,
           0,
           4,
           5,
           4,
           0,
           0,
           4,
           6,
           0,
           6,
           1,
           3,
           2,
           3,
           6,
           0,
           2,
           0,
           7,
           8,
           0,
           2,
           0,
           2,
           4,
           2,
           4,
           3,
           8,
           2,
           5,
           6,
           2,
           3,
           5,
           2,
           0,
           3,
           4,
           3,
           2,
           5,
           2,
           8,
           5,
           8,
           7,
           4,
           7,
           7,
           4,
           4,
           8,
           1,
           7,
           4,
           0,
           5,
           9,
           8,
           1,
           6,
           1,
           3,
           2,
           0,
           7,
           4,
           9,
           8,
           3,
           6,
           0,
           1,
           7,
           4,
           8,
           2,
           2,
           7,
           2,
           8,
           3,
           8,
           9,
           4,
           7,
           4
          ],
          "coloraxis": "coloraxis",
          "symbol": "circle"
         },
         "mode": "markers",
         "name": "",
         "showlegend": false,
         "type": "scattergl",
         "x": [
          -1.5167800188064575,
          -4.220883846282959,
          23.915008544921875,
          23.8011417388916,
          3.3811216354370117,
          -34.94748306274414,
          -18.605642318725586,
          5.080626010894775,
          2.7836971282958984,
          -15.237914085388184,
          -34.88372039794922,
          18.772132873535156,
          2.7743566036224365,
          1.5753225088119507,
          -19.600801467895508,
          -7.653381824493408,
          2.252194404602051,
          -15.944226264953613,
          20.106046676635742,
          7.983609199523926,
          -4.3345818519592285,
          15.119429588317871,
          23.845582962036133,
          9.920211791992188,
          35.444129943847656,
          -35.12279510498047,
          6.5501298904418945,
          6.390686988830566,
          36.29943084716797,
          13.934279441833496,
          -27.937227249145508,
          -8.128143310546875,
          8.291070938110352,
          14.924753189086914,
          36.37580871582031,
          0.6089594960212708,
          -27.022357940673828,
          7.905120372772217,
          -13.217458724975586,
          -13.294756889343262,
          24.9031982421875,
          -15.080830574035645,
          -17.684776306152344,
          -22.46718406677246,
          -5.781254291534424,
          -35.61575698852539,
          9.31115436553955,
          17.458011627197266,
          17.447113037109375,
          7.39008092880249,
          -25.325292587280273,
          10.115093231201172,
          -7.558614253997803,
          -8.876067161560059,
          -20.730281829833984,
          19.532115936279297,
          0.38000428676605225,
          -2.0950722694396973,
          8.15651798248291,
          -19.370874404907227,
          20.89033317565918,
          20.019577026367188,
          -2.9995038509368896,
          -7.3000383377075195,
          -18.973337173461914,
          -24.22412872314453,
          18.788387298583984,
          -13.16860294342041,
          -32.22732925415039,
          -11.605315208435059,
          26.691450119018555,
          12.689081192016602,
          5.6373724937438965,
          10.71531867980957,
          -35.274417877197266,
          1.7998604774475098,
          -2.6346166133880615,
          -27.541006088256836,
          -2.339372396469116,
          -21.135498046875,
          -2.547791004180908,
          4.581778049468994,
          6.08509635925293,
          4.209731578826904,
          -15.761228561401367,
          26.187299728393555,
          -17.97481346130371,
          -1.1286565065383911,
          -2.892998695373535,
          10.845602989196777,
          22.97462272644043,
          -9.219512939453125,
          -10.531115531921387,
          -30.982955932617188,
          17.678449630737305,
          28.80359649658203,
          -25.6053466796875,
          17.240047454833984,
          -19.25402069091797,
          8.707778930664062,
          16.85955810546875,
          20.076021194458008,
          19.327905654907227,
          24.288009643554688,
          -9.373345375061035,
          15.50081729888916,
          34.39853286743164,
          -0.9558770656585693,
          -19.13391876220703,
          -23.454343795776367,
          -4.587071895599365,
          -33.73060607910156,
          22.072046279907227,
          15.51577091217041,
          -3.867884397506714,
          11.677565574645996,
          -2.9140594005584717,
          -27.482698440551758,
          -6.237952709197998,
          1.7376995086669922,
          3.0017383098602295,
          35.1391487121582,
          2.649538516998291,
          -10.355151176452637,
          8.383563041687012,
          4.176844120025635,
          33.82766342163086,
          15.30942153930664,
          -26.604732513427734,
          19.567760467529297,
          17.80703353881836,
          10.516141891479492,
          9.00343132019043,
          4.026646137237549,
          12.433773040771484,
          2.974181890487671,
          -4.8620476722717285,
          -14.734265327453613,
          -6.429867744445801,
          15.10334587097168,
          16.258947372436523,
          13.750605583190918,
          28.079851150512695,
          1.3846358060836792,
          17.265623092651367,
          -24.02712059020996,
          17.547340393066406,
          -31.10950469970703,
          -1.672834873199463,
          -16.9326171875,
          -12.928400039672852,
          17.065567016601562,
          -16.741899490356445,
          -6.21532678604126,
          -13.828810691833496,
          35.84445571899414,
          21.021589279174805,
          9.822492599487305,
          2.5228161811828613,
          -5.849460601806641,
          -6.000643730163574,
          -6.063305854797363,
          -32.72047805786133,
          -28.049169540405273,
          -26.166601181030273,
          -2.4426989555358887,
          -24.496553421020508,
          23.021806716918945,
          -3.3565585613250732,
          8.42159366607666,
          -16.05189323425293,
          -13.328185081481934,
          18.267305374145508,
          0.7054803967475891,
          -38.369056701660156,
          -0.9278695583343506,
          -35.344810485839844,
          -2.9968581199645996,
          -26.02912712097168,
          -0.00903229508548975,
          -31.36014747619629,
          2.799584150314331,
          28.188053131103516,
          7.249516487121582,
          6.032567024230957,
          17.47736358642578,
          -16.914241790771484,
          -20.9984130859375,
          -4.771812438964844,
          -27.400146484375,
          -23.632356643676758,
          -17.91358757019043,
          10.050314903259277,
          23.1567325592041,
          30.5524959564209,
          -32.866268157958984,
          18.665874481201172,
          5.78659200668335,
          -21.779191970825195,
          -1.709177017211914,
          10.756773948669434,
          -37.097877502441406,
          9.789496421813965,
          9.212287902832031,
          -3.802558422088623,
          14.330077171325684,
          -15.798267364501953,
          27.70040512084961,
          -14.191046714782715,
          -1.1304930448532104,
          19.607213973999023,
          30.35660171508789,
          -3.8266215324401855,
          -0.3043025732040405,
          20.045209884643555,
          -6.6967549324035645,
          15.973873138427734,
          -7.950771808624268,
          9.124780654907227,
          10.396909713745117,
          -6.096680641174316,
          -16.101228713989258,
          -5.28657341003418,
          -31.337722778320312,
          9.919058799743652,
          26.50318145751953,
          -32.184871673583984,
          28.722110748291016,
          9.102081298828125,
          6.5425639152526855,
          4.65134859085083,
          11.878274917602539,
          -27.29636001586914,
          -6.197781562805176,
          -16.108884811401367,
          -15.146761894226074,
          24.81722068786621,
          23.429500579833984,
          20.737510681152344,
          14.197495460510254,
          -36.861366271972656,
          4.736923694610596,
          11.35499382019043,
          2.7822813987731934,
          7.755355358123779,
          -10.904720306396484,
          16.596403121948242,
          2.08577561378479,
          1.8306440114974976,
          27.711225509643555,
          3.627760887145996,
          32.41813659667969,
          12.627907752990723,
          2.3095755577087402,
          -33.029788970947266,
          -8.339787483215332,
          -26.05253791809082,
          -1.0106174945831299,
          7.395486354827881,
          4.983745098114014,
          -7.6609392166137695,
          6.837854385375977,
          2.384819269180298,
          -30.27988052368164,
          28.44060516357422,
          9.982293128967285,
          36.47897720336914,
          -23.712326049804688,
          13.985873222351074,
          -13.494571685791016,
          -9.044681549072266,
          2.5215442180633545,
          12.907055854797363,
          -14.221548080444336,
          9.928889274597168,
          -14.688494682312012,
          15.621040344238281,
          -17.164209365844727,
          -25.89080238342285,
          7.757922172546387,
          -3.310642957687378,
          -28.831893920898438,
          -8.599578857421875,
          35.286685943603516,
          0.047530993819236755,
          -4.07577657699585,
          24.9559326171875,
          4.020413875579834,
          -36.46537399291992,
          4.927164554595947,
          9.086856842041016,
          -8.1826171875,
          -31.46786117553711,
          17.02726936340332,
          -0.14925381541252136,
          2.542882204055786,
          17.487159729003906,
          2.4409193992614746,
          10.743188858032227,
          2.1433866024017334,
          -27.229228973388672,
          9.278796195983887,
          -11.79487419128418,
          15.813140869140625,
          9.983259201049805,
          22.392099380493164,
          0.2827303111553192,
          15.897814750671387,
          26.71601676940918,
          -8.17144775390625,
          5.06323766708374,
          -14.757345199584961,
          -28.160316467285156,
          19.97659683227539,
          11.15144157409668,
          1.8721776008605957,
          -11.653474807739258,
          17.574207305908203,
          11.195026397705078,
          13.222305297851562,
          -13.49933910369873,
          2.719931125640869,
          -0.004370708018541336,
          -13.729273796081543,
          -28.72199058532715,
          -0.1841776818037033,
          8.94010066986084,
          8.243928909301758,
          -31.144405364990234,
          -28.432769775390625,
          14.478719711303711,
          -6.222298622131348,
          -2.1600229740142822,
          -25.469253540039062,
          -26.770816802978516,
          35.19097137451172,
          20.65123176574707,
          -23.3489933013916,
          29.21841049194336,
          -3.5722484588623047,
          9.583610534667969,
          -34.908695220947266,
          1.9468127489089966,
          -2.3436436653137207,
          -35.81603240966797,
          -13.579093933105469,
          -35.321754455566406,
          -0.8147609829902649,
          23.574655532836914,
          19.987171173095703,
          -6.8478617668151855,
          19.189228057861328,
          17.550443649291992,
          -7.177061557769775,
          -33.75800704956055,
          1.9847321510314941,
          10.93421745300293,
          -15.488974571228027,
          -14.151618003845215,
          -18.417633056640625,
          5.651683330535889,
          -11.50770092010498,
          -3.058608055114746,
          3.219492197036743,
          3.8799867630004883,
          -4.226203441619873,
          -14.86960220336914,
          -29.37589454650879,
          35.74789047241211,
          1.041260004043579,
          2.0861570835113525,
          25.01512908935547,
          21.310422897338867,
          3.9780080318450928,
          11.850440979003906,
          19.247047424316406,
          5.015732765197754,
          -27.453691482543945,
          22.79582405090332,
          -1.181452989578247,
          27.619108200073242,
          7.873132228851318,
          -20.67683219909668,
          4.919245719909668,
          17.925310134887695,
          11.234740257263184,
          -9.439184188842773,
          -5.388848781585693,
          29.62430191040039,
          5.028134822845459,
          3.2514801025390625,
          22.882455825805664,
          27.46061897277832,
          4.765206813812256,
          8.491093635559082,
          -33.55381774902344,
          26.24100112915039,
          2.6947238445281982,
          -8.91629409790039,
          9.834684371948242,
          -2.551765203475952,
          -2.253704309463501,
          12.437451362609863,
          -4.804833889007568,
          1.1332569122314453,
          8.66822624206543,
          18.345252990722656,
          -8.845852851867676,
          -0.33697548508644104,
          -30.375818252563477,
          3.0175282955169678,
          -1.1197876930236816,
          27.798320770263672,
          -19.242095947265625,
          15.36062240600586,
          29.491413116455078,
          -17.640644073486328,
          -3.5146679878234863,
          -17.088848114013672,
          -0.7393550872802734,
          19.831151962280273,
          19.886369705200195,
          -23.695602416992188,
          -11.60677719116211,
          19.870948791503906,
          6.3171706199646,
          -31.50727653503418,
          -33.62498474121094,
          7.484161376953125,
          28.674894332885742,
          1.5410351753234863,
          35.95404052734375,
          -32.43973159790039,
          11.870329856872559,
          -0.6347970962524414,
          25.685964584350586,
          -12.51308536529541,
          -6.694077491760254,
          -8.332077980041504,
          -7.323710918426514,
          12.878129005432129,
          -15.226305961608887,
          -31.29107093811035,
          -16.051773071289062,
          4.3207550048828125,
          7.180394172668457,
          5.150667190551758,
          -26.940044403076172,
          -12.134965896606445,
          -1.6001267433166504,
          24.124052047729492,
          16.52280616760254,
          1.7559690475463867,
          36.72493362426758,
          15.944672584533691,
          -35.844688415527344,
          -17.71442985534668,
          -2.777649164199829,
          34.048580169677734,
          -23.605026245117188,
          -14.127528190612793,
          16.75335121154785,
          -6.266502380371094,
          30.322416305541992,
          -4.559360504150391,
          -26.984167098999023,
          18.406763076782227,
          23.59738540649414,
          28.44148063659668,
          15.91674518585205,
          -37.41341781616211,
          21.329973220825195,
          -39.4594612121582,
          -33.93669509887695,
          3.16058087348938,
          4.059685707092285,
          5.632978439331055,
          37.18809127807617,
          -26.911439895629883,
          -10.78296947479248,
          24.90702247619629,
          16.397436141967773,
          -17.132558822631836,
          -5.75079345703125,
          -15.968666076660156,
          8.252918243408203,
          5.016425609588623,
          -10.714139938354492,
          19.91925621032715,
          -5.09767484664917,
          -4.933161735534668,
          -18.289403915405273,
          2.3215219974517822,
          27.285017013549805,
          -3.6950130462646484,
          4.674483776092529,
          2.7839772701263428,
          2.027520179748535,
          -27.72316551208496,
          20.363012313842773,
          2.6888532638549805,
          13.702193260192871,
          -4.610541820526123,
          6.515913963317871,
          -2.811206102371216,
          -34.44059371948242,
          -18.766204833984375,
          12.580809593200684,
          -24.120738983154297,
          10.74841022491455,
          -2.2452518939971924,
          -29.315521240234375,
          -25.553874969482422,
          7.87660551071167,
          9.219404220581055,
          23.284666061401367,
          3.286749839782715,
          -11.225656509399414,
          1.9484202861785889,
          0.05061236768960953,
          22.018667221069336,
          -13.202099800109863,
          -19.508522033691406,
          13.147053718566895,
          3.1961936950683594,
          0.30317819118499756,
          -34.61167526245117,
          1.0814443826675415,
          3.2185962200164795,
          -3.3041000366210938,
          0.8110524415969849,
          26.927003860473633,
          35.054710388183594,
          4.267877578735352,
          -12.14232349395752,
          16.898574829101562,
          16.326526641845703,
          32.641597747802734,
          16.539560317993164,
          9.156888961791992,
          -31.900524139404297,
          -7.1059160232543945,
          32.50768280029297,
          7.839632987976074,
          11.451168060302734,
          -0.14696937799453735,
          6.163133144378662,
          26.280427932739258,
          18.835250854492188,
          10.603142738342285,
          -0.10797151178121567,
          -15.80605411529541,
          33.80630874633789,
          8.968302726745605,
          -29.47183609008789,
          9.529800415039062,
          22.950057983398438,
          -17.530302047729492,
          -21.986980438232422,
          11.392416000366211,
          5.8829827308654785,
          8.370124816894531,
          -34.587459564208984,
          26.71719741821289,
          36.064334869384766,
          14.821615219116211,
          22.89992332458496,
          -29.168922424316406,
          18.3121395111084,
          -29.418529510498047,
          -2.3184423446655273,
          -2.0889670848846436,
          -35.29436492919922,
          -14.099265098571777,
          -2.639647960662842,
          0.15865612030029297,
          -23.996973037719727,
          1.0119621753692627,
          -25.8714656829834,
          12.577066421508789,
          7.399355888366699,
          -3.8225417137145996,
          -37.92137908935547,
          -37.93903350830078,
          11.275261878967285,
          -37.840389251708984,
          -22.007892608642578,
          13.067281723022461,
          -3.423022747039795,
          0.4651859700679779,
          -26.348115921020508,
          -35.91307067871094,
          4.380183219909668,
          -18.001117706298828,
          25.146074295043945,
          28.444625854492188,
          3.1596102714538574,
          14.068093299865723,
          10.409035682678223,
          28.921894073486328,
          10.357535362243652,
          -6.506048679351807,
          28.440074920654297,
          -28.952550888061523,
          16.840970993041992,
          -9.755449295043945,
          6.962104797363281,
          9.215418815612793,
          29.231534957885742,
          15.764395713806152,
          -12.771485328674316,
          9.069174766540527,
          4.058106899261475,
          -24.488285064697266,
          -22.471092224121094,
          -30.49068260192871,
          -32.89632797241211,
          25.243789672851562,
          20.908903121948242,
          9.340879440307617,
          1.9137438535690308,
          33.21402359008789,
          -17.214664459228516,
          -37.23185348510742,
          -24.388999938964844,
          31.35556411743164,
          -15.216132164001465,
          7.130535125732422,
          -4.836997985839844,
          -14.00660514831543,
          6.588991165161133,
          -1.6097137928009033,
          17.951385498046875,
          -5.3674468994140625,
          -0.94061279296875,
          28.404911041259766,
          -1.2048929929733276,
          36.95193099975586,
          -13.57426929473877,
          0.4337102174758911,
          -8.652716636657715,
          37.495357513427734,
          -25.33637046813965,
          -16.770278930664062,
          5.846427917480469,
          36.98146057128906,
          12.740778923034668,
          36.07461929321289,
          18.437990188598633,
          -3.53231143951416,
          7.88339900970459,
          27.179256439208984,
          -22.878454208374023,
          -6.348364353179932,
          -29.94101905822754,
          -1.6187876462936401,
          11.726075172424316,
          -24.66810417175293,
          -26.624879837036133,
          14.18309497833252,
          5.8832688331604,
          7.349026679992676,
          -26.703731536865234,
          17.15772819519043,
          11.812846183776855,
          5.810113906860352,
          -36.83152389526367,
          -0.7354912161827087,
          -29.740798950195312,
          -11.751285552978516,
          -12.091333389282227,
          6.840175151824951,
          26.17034912109375,
          0.1350889354944229,
          4.209582328796387,
          -12.425002098083496,
          4.085698127746582,
          7.902804374694824,
          18.41377830505371,
          28.225656509399414,
          8.224973678588867,
          -0.8988778591156006,
          -14.98920726776123,
          4.26485013961792,
          18.594335556030273,
          14.701555252075195,
          -15.218067169189453,
          -17.956443786621094,
          6.646032810211182,
          9.357050895690918,
          6.287654876708984,
          17.479454040527344,
          -6.999636173248291,
          7.855225563049316,
          -12.070418357849121,
          9.631028175354004,
          -9.055685043334961,
          9.697381019592285,
          15.005425453186035,
          -29.953115463256836,
          -6.880589962005615,
          -25.0101318359375,
          -14.895906448364258,
          -5.372379302978516,
          -30.041223526000977,
          10.0173978805542,
          -5.816267013549805,
          -30.73236656188965,
          -30.679426193237305,
          6.032549858093262,
          -18.7764949798584,
          19.637561798095703,
          -16.573909759521484,
          -4.000618934631348,
          -11.67900562286377,
          -33.415985107421875,
          8.535683631896973,
          -29.852188110351562,
          8.799654960632324,
          -0.25142350792884827,
          26.22984504699707,
          17.64478874206543,
          -23.8460693359375,
          13.274632453918457,
          -2.6283974647521973,
          21.14849090576172,
          -11.365758895874023,
          -14.38774299621582,
          2.6864240169525146,
          -35.83929443359375,
          6.4821977615356445,
          11.2994966506958,
          19.240676879882812,
          6.864200115203857,
          0.30247431993484497,
          29.51211166381836,
          36.529205322265625,
          -1.7403600215911865,
          3.9571731090545654,
          7.773805141448975,
          16.205907821655273,
          23.937786102294922,
          -15.93370246887207,
          -1.3654757738113403,
          -8.65101432800293,
          32.34444046020508,
          37.640071868896484,
          3.1257359981536865,
          7.451994895935059,
          -24.700727462768555,
          -36.660545349121094,
          2.291430950164795,
          35.98782730102539,
          10.069711685180664,
          -35.87248992919922,
          9.963418960571289,
          -28.452198028564453,
          24.706378936767578,
          14.785978317260742,
          -21.52507209777832,
          35.020111083984375,
          -2.447310209274292,
          -29.404216766357422,
          -6.471146106719971,
          27.430635452270508,
          12.240336418151855,
          19.24810791015625,
          -26.370447158813477,
          -8.891802787780762,
          33.40971374511719,
          -5.739878177642822,
          19.149150848388672,
          38.721351623535156,
          3.437852144241333,
          11.725104331970215,
          -2.4069511890411377,
          -30.41156768798828,
          25.265792846679688,
          -34.97154998779297,
          -25.741731643676758,
          -0.3404275178909302,
          -10.270715713500977,
          -15.730901718139648,
          -5.01174259185791,
          10.924735069274902,
          3.6920166015625,
          13.687516212463379,
          8.556324005126953,
          3.4823179244995117,
          -32.89969253540039,
          -29.19123077392578,
          -26.018709182739258,
          24.263673782348633,
          7.563633441925049,
          29.848047256469727,
          -10.092368125915527,
          -34.87294006347656,
          8.58635139465332,
          -36.47738265991211,
          -21.09706687927246,
          16.386119842529297,
          -10.14978313446045,
          -4.973199844360352,
          -3.353177785873413,
          -19.79903793334961,
          -0.4487552344799042,
          28.224315643310547,
          27.279260635375977,
          8.129127502441406,
          13.003067970275879,
          -7.222866058349609,
          4.716032028198242,
          -16.403785705566406,
          -2.4430959224700928,
          -9.597417831420898,
          8.054828643798828,
          2.424771785736084,
          10.616716384887695,
          19.57072639465332,
          -18.827129364013672,
          30.016450881958008,
          -3.9791793823242188,
          -17.970565795898438,
          -23.570056915283203,
          -35.1501350402832,
          14.950262069702148,
          20.93251609802246,
          -2.299696207046509,
          10.623888969421387,
          -0.34861841797828674,
          -16.900501251220703,
          -29.888916015625,
          -17.74185562133789,
          1.1429084539413452,
          15.365867614746094,
          25.69805908203125,
          -19.110919952392578,
          -14.458720207214355,
          14.994348526000977,
          -28.2296142578125,
          14.735003471374512,
          -25.355642318725586,
          17.167234420776367,
          3.9817938804626465,
          -8.465087890625,
          21.037216186523438,
          3.6862282752990723,
          -12.380596160888672,
          2.888277769088745,
          -33.11411666870117,
          -5.736888885498047,
          -33.06660842895508,
          -3.9750404357910156,
          11.794693946838379,
          14.183335304260254,
          16.200191497802734,
          4.148365497589111,
          8.930459976196289,
          32.88932418823242,
          -4.037176132202148,
          29.110427856445312,
          27.42754364013672,
          3.357959747314453,
          29.607789993286133,
          5.623188018798828,
          17.55080223083496,
          -7.610555648803711,
          2.3905656337738037,
          -0.33449503779411316,
          4.994462013244629,
          -9.339191436767578,
          -8.429949760437012,
          1.0771008729934692,
          -27.339879989624023,
          13.519001007080078,
          12.60147476196289,
          3.284730911254883,
          10.295723915100098,
          8.885769844055176,
          36.58599090576172,
          -14.535911560058594,
          21.48822784423828,
          0.059055887162685394,
          7.122183799743652,
          4.115860939025879,
          16.678955078125,
          3.0870227813720703,
          3.621401309967041,
          -28.416284561157227,
          4.203190326690674,
          -8.310358047485352,
          10.90453815460205,
          15.465633392333984,
          -18.61321258544922,
          9.960464477539062,
          9.4454927444458,
          6.239673614501953,
          1.945033073425293,
          10.794079780578613,
          11.243471145629883,
          -34.6461067199707,
          15.3609037399292,
          -1.2828463315963745,
          5.901336669921875,
          -38.16748809814453,
          11.185647964477539,
          -30.247379302978516,
          25.523174285888672,
          10.80257511138916,
          22.096820831298828,
          17.276626586914062,
          -33.338497161865234,
          7.187450885772705,
          21.406496047973633,
          1.4519520998001099,
          27.533004760742188,
          4.386697292327881,
          -15.402626991271973,
          -8.4762544631958,
          11.633819580078125,
          -8.22905445098877,
          -10.933006286621094,
          -29.157222747802734,
          24.794103622436523,
          -6.299810409545898,
          3.3343849182128906,
          2.620527505874634,
          12.69774055480957,
          2.202589750289917,
          -13.225101470947266,
          -3.8428869247436523,
          28.389339447021484,
          31.661340713500977,
          23.348981857299805,
          32.64952087402344,
          2.7217304706573486,
          36.284366607666016,
          12.221269607543945,
          25.67039680480957,
          5.886226177215576,
          -35.561668395996094,
          -24.94564437866211,
          -11.487245559692383,
          -16.596149444580078,
          1.7432013750076294,
          16.439701080322266,
          9.757518768310547,
          5.430797100067139,
          14.40700626373291,
          -15.719930648803711,
          2.6951746940612793,
          4.587385654449463,
          24.205738067626953,
          -13.658452987670898,
          1.1595613956451416,
          22.532896041870117,
          -16.17866325378418,
          -5.852795600891113,
          12.571524620056152,
          20.242412567138672,
          31.918363571166992,
          9.69251537322998,
          -1.2244902849197388,
          -0.05201874300837517,
          4.84230375289917,
          -29.956205368041992,
          -30.235130310058594,
          -6.317644119262695,
          -6.192225456237793,
          -21.514957427978516,
          -30.358089447021484,
          -4.28317403793335,
          27.804943084716797,
          -10.775921821594238,
          -5.3156914710998535,
          -7.709351539611816,
          37.97657012939453,
          -0.8012888431549072,
          13.111451148986816,
          13.096542358398438,
          -10.15200424194336,
          20.028724670410156,
          13.903118133544922,
          18.99951934814453,
          -6.361717700958252,
          -3.45597505569458,
          10.088810920715332,
          11.542634010314941,
          -3.8999383449554443,
          6.004542350769043,
          18.811277389526367,
          -14.920903205871582,
          23.03947639465332,
          -15.008495330810547,
          14.367681503295898,
          16.18269157409668,
          6.606297492980957,
          -29.879581451416016,
          -11.089844703674316,
          -12.008584022521973,
          -6.168172359466553,
          -1.4737627506256104,
          -1.4357300996780396,
          -17.183523178100586,
          24.388612747192383,
          11.777142524719238,
          -8.076348304748535,
          15.127303123474121,
          -6.516335487365723,
          4.567060470581055,
          5.108850479125977,
          9.440635681152344,
          -17.162668228149414,
          2.9337542057037354,
          -17.142505645751953,
          1.6122697591781616,
          16.802806854248047,
          3.200796365737915,
          10.613689422607422,
          3.4930598735809326,
          -7.577802658081055,
          35.143707275390625,
          -0.1184869259595871,
          -28.08053207397461,
          -0.8310233354568481,
          -8.725894927978516,
          8.533941268920898,
          -29.597244262695312,
          3.128807544708252,
          20.249326705932617,
          -30.109956741333008,
          16.971961975097656,
          -26.660398483276367,
          19.521469116210938,
          -22.27741241455078,
          -7.329390048980713,
          -27.748699188232422,
          -9.339573860168457,
          -9.164804458618164,
          -4.409096717834473,
          -26.919151306152344,
          -4.493699073791504,
          23.597272872924805,
          -26.638898849487305,
          -0.11602155864238739,
          8.557205200195312,
          -26.010169982910156,
          6.285299777984619,
          3.071214437484741,
          -10.317776679992676,
          22.193958282470703,
          -31.225074768066406,
          7.569748878479004,
          -34.40635299682617,
          -24.540382385253906,
          21.566160202026367,
          -15.051962852478027,
          21.548437118530273,
          0.7163702249526978,
          25.788421630859375,
          19.635547637939453,
          -18.224828720092773,
          -15.969075202941895,
          -16.077402114868164,
          33.938140869140625,
          5.645749568939209,
          1.5878247022628784,
          3.3626203536987305,
          4.079934120178223,
          12.76013469696045,
          -13.105142593383789,
          25.912429809570312,
          12.861732482910156,
          34.531227111816406,
          6.584268569946289,
          -27.908649444580078,
          17.802581787109375,
          18.12457275390625,
          -7.807309627532959,
          -6.510618686676025,
          -15.491165161132812,
          -0.9054274559020996,
          16.31305694580078,
          4.980987071990967,
          35.91008377075195,
          21.933979034423828,
          -7.349156379699707,
          -15.931329727172852,
          -27.94293785095215,
          -31.26835060119629,
          10.31171703338623,
          -27.496437072753906,
          -27.992738723754883,
          -8.539791107177734,
          -16.79996109008789,
          9.736894607543945,
          -0.7270094156265259,
          28.8344669342041,
          -6.754225730895996
         ],
         "xaxis": "x",
         "y": [
          23.179838180541992,
          -34.35846710205078,
          -28.409082412719727,
          -25.153635025024414,
          1.5318995714187622,
          11.90794849395752,
          16.30572509765625,
          -2.731201410293579,
          -10.21403980255127,
          -19.348026275634766,
          14.763484954833984,
          11.056730270385742,
          -44.278900146484375,
          -42.12071990966797,
          20.12212371826172,
          31.50714683532715,
          29.407560348510742,
          -22.05289077758789,
          -39.80931091308594,
          -32.110267639160156,
          -25.9827880859375,
          -3.1528525352478027,
          -27.313701629638672,
          4.730299949645996,
          3.9662790298461914,
          6.418302536010742,
          2.260617733001709,
          36.3497428894043,
          0.6822152137756348,
          -33.40883255004883,
          16.59654426574707,
          -18.24384880065918,
          -41.554439544677734,
          -5.480296611785889,
          9.590293884277344,
          0.08747842907905579,
          20.808717727661133,
          -15.781861305236816,
          -19.959320068359375,
          21.78938102722168,
          -27.374361038208008,
          -17.534685134887695,
          25.27509880065918,
          13.258176803588867,
          -13.856561660766602,
          19.7970027923584,
          39.10502624511719,
          -19.62752342224121,
          -8.731951713562012,
          -44.142459869384766,
          6.689977169036865,
          7.432255268096924,
          26.76131820678711,
          -17.80874252319336,
          15.474973678588867,
          -17.35392951965332,
          31.941448211669922,
          28.68775749206543,
          -38.785037994384766,
          -19.350475311279297,
          -6.936389446258545,
          -33.567386627197266,
          -29.40985107421875,
          -18.09891128540039,
          2.979825258255005,
          15.833392143249512,
          -37.413570404052734,
          22.812482833862305,
          21.367393493652344,
          28.572805404663086,
          5.488911151885986,
          -18.07852554321289,
          -33.9936637878418,
          -27.384050369262695,
          14.335668563842773,
          -9.436187744140625,
          -29.649993896484375,
          13.463801383972168,
          23.794376373291016,
          11.796156883239746,
          -31.051694869995117,
          -0.7162099480628967,
          -15.317428588867188,
          0.6996356248855591,
          24.6943302154541,
          -30.244754791259766,
          21.204105377197266,
          -38.5962028503418,
          17.62607765197754,
          -13.233725547790527,
          -30.051183700561523,
          -17.285188674926758,
          35.872005462646484,
          15.350692749023438,
          -15.328374862670898,
          -1.666626214981079,
          18.88872528076172,
          5.8049211502075195,
          -18.190732955932617,
          -37.51166915893555,
          -39.39393615722656,
          -1.6750973463058472,
          -1.8823778629302979,
          -3.8035242557525635,
          -16.708860397338867,
          3.8772990703582764,
          8.150118827819824,
          1.0579142570495605,
          -20.353727340698242,
          18.636323928833008,
          -17.555267333984375,
          12.737381935119629,
          -33.47419738769531,
          -3.6443896293640137,
          -33.5013542175293,
          37.85865020751953,
          -39.9989013671875,
          5.9211883544921875,
          31.97170639038086,
          -19.345962524414062,
          8.996417999267578,
          7.878449440002441,
          -19.37582778930664,
          -13.648200988769531,
          9.936541557312012,
          6.501642227172852,
          0.5189725756645203,
          -30.37181854248047,
          14.772603034973145,
          11.008515357971191,
          -35.25308609008789,
          -30.369638442993164,
          0.5134409666061401,
          16.288679122924805,
          -29.766616821289062,
          -31.279342651367188,
          -37.9975471496582,
          -19.88184356689453,
          26.45111846923828,
          -4.137916088104248,
          4.4794793128967285,
          -21.96173095703125,
          -28.50203514099121,
          17.02114486694336,
          -33.235069274902344,
          24.74242401123047,
          -3.8657102584838867,
          11.456422805786133,
          38.4967041015625,
          12.274324417114258,
          -9.692339897155762,
          -41.272377014160156,
          25.21147918701172,
          37.375118255615234,
          -21.350353240966797,
          10.240707397460938,
          -37.889923095703125,
          32.58530807495117,
          15.369853019714355,
          -12.726256370544434,
          -34.052608489990234,
          -33.173980712890625,
          11.850934982299805,
          15.162400245666504,
          22.171663284301758,
          38.538780212402344,
          13.626394271850586,
          -31.590394973754883,
          30.86332893371582,
          -38.24868392944336,
          29.122819900512695,
          -11.12697982788086,
          5.466482162475586,
          35.13481903076172,
          8.257019996643066,
          1.1117966175079346,
          11.281294822692871,
          28.771203994750977,
          8.314188003540039,
          14.912890434265137,
          8.717574119567871,
          -0.8141199350357056,
          -26.937782287597656,
          24.24100112915039,
          -29.17068862915039,
          10.296538352966309,
          -20.065155029296875,
          14.797759056091309,
          -21.898216247558594,
          2.224337577819824,
          18.12359619140625,
          -13.965559959411621,
          -27.849878311157227,
          0.786991536617279,
          5.973400115966797,
          20.68775177001953,
          6.31431245803833,
          13.292155265808105,
          -0.346628338098526,
          34.016231536865234,
          -36.51002502441406,
          19.543153762817383,
          34.980499267578125,
          10.692702293395996,
          -16.6628475189209,
          1.889000415802002,
          -12.24704647064209,
          10.718856811523438,
          -13.088268280029297,
          21.2473087310791,
          -39.72327423095703,
          1.8314807415008545,
          23.669448852539062,
          6.049249172210693,
          -29.419458389282227,
          -29.579185485839844,
          -31.621564865112305,
          -23.198326110839844,
          -39.580833435058594,
          -13.34682846069336,
          -19.738813400268555,
          -17.86463737487793,
          -35.39876937866211,
          12.823578834533691,
          -29.676607131958008,
          0.7091487050056458,
          14.999859809875488,
          1.8399255275726318,
          8.272419929504395,
          8.698200225830078,
          -21.78177261352539,
          -16.376693725585938,
          24.515165328979492,
          37.60794448852539,
          29.837642669677734,
          -17.038467407226562,
          12.942341804504395,
          9.317489624023438,
          -5.5648908615112305,
          -18.039684295654297,
          10.269084930419922,
          25.551176071166992,
          -6.753545761108398,
          -29.385499954223633,
          6.6221418380737305,
          22.25190544128418,
          -21.59804344177246,
          -43.68620300292969,
          28.2590389251709,
          -29.332971572875977,
          -10.182132720947266,
          -0.022645996883511543,
          -18.461275100708008,
          2.0427329540252686,
          9.9293794631958,
          -24.524593353271484,
          27.97217559814453,
          -40.37261199951172,
          -9.012136459350586,
          -34.207611083984375,
          -16.822158813476562,
          -1.6183412075042725,
          37.76951599121094,
          15.128401756286621,
          6.090656280517578,
          -40.624534606933594,
          4.525920391082764,
          27.343461990356445,
          -28.140586853027344,
          -14.315526962280273,
          27.525245666503906,
          -41.94910430908203,
          -26.99120330810547,
          -11.587658882141113,
          -31.725278854370117,
          20.30651092529297,
          -33.860076904296875,
          16.277727127075195,
          15.622718811035156,
          -8.697175025939941,
          -32.047237396240234,
          22.765235900878906,
          38.2376594543457,
          4.80941104888916,
          -21.806392669677734,
          -8.318097114562988,
          -25.31833267211914,
          -11.041813850402832,
          13.056855201721191,
          30.792198181152344,
          -30.972070693969727,
          26.659151077270508,
          10.983513832092285,
          -15.833630561828613,
          14.96560001373291,
          18.321086883544922,
          11.562275886535645,
          3.8632161617279053,
          34.9725341796875,
          18.489540100097656,
          26.46004295349121,
          -23.242877960205078,
          24.56271743774414,
          -1.7115564346313477,
          36.221656799316406,
          -8.045080184936523,
          -30.645137786865234,
          -17.36533546447754,
          -29.030336380004883,
          -16.59480857849121,
          -22.31345558166504,
          20.23396110534668,
          1.3908590078353882,
          -40.56538772583008,
          6.022139549255371,
          -44.90644073486328,
          -21.927886962890625,
          -38.91279983520508,
          -21.13277816772461,
          -20.900131225585938,
          23.532737731933594,
          -38.80478286743164,
          1.9484368562698364,
          25.852500915527344,
          23.712419509887695,
          -36.85014724731445,
          1.0752482414245605,
          -36.371612548828125,
          13.118675231933594,
          21.106298446655273,
          -29.68584632873535,
          -17.03255271911621,
          -16.39132308959961,
          14.817740440368652,
          22.344423294067383,
          8.7587308883667,
          -2.170623779296875,
          16.304895401000977,
          8.203620910644531,
          -7.469156742095947,
          -42.882591247558594,
          22.500926971435547,
          -45.117042541503906,
          -15.195651054382324,
          22.772308349609375,
          -19.11707878112793,
          22.148908615112305,
          33.03591537475586,
          12.279641151428223,
          -38.39088821411133,
          26.87404441833496,
          -34.54573059082031,
          -19.613178253173828,
          34.28807830810547,
          15.330422401428223,
          0.6660136580467224,
          37.26979064941406,
          23.75774383544922,
          24.78369140625,
          20.56662368774414,
          30.016708374023438,
          27.938505172729492,
          -28.464393615722656,
          -20.905105590820312,
          -25.78096580505371,
          -32.80266571044922,
          -18.603485107421875,
          29.20078468322754,
          5.942045211791992,
          -28.811105728149414,
          19.650590896606445,
          0.17850233614444733,
          7.687034606933594,
          6.0511369705200195,
          -28.649110794067383,
          12.043747901916504,
          -15.392111778259277,
          27.08186149597168,
          8.163093566894531,
          28.01690101623535,
          -26.49913787841797,
          36.97957992553711,
          25.056072235107422,
          -11.602815628051758,
          -7.443185806274414,
          -33.981170654296875,
          -18.866056442260742,
          -40.50470733642578,
          8.806727409362793,
          -0.03823787346482277,
          15.209619522094727,
          6.867710590362549,
          -28.576881408691406,
          -16.627429962158203,
          -6.2138214111328125,
          21.95137596130371,
          -27.96941566467285,
          19.97634506225586,
          -10.237940788269043,
          -24.418249130249023,
          17.58397674560547,
          -7.38449239730835,
          -6.922999382019043,
          -31.153446197509766,
          -37.9551887512207,
          37.88892364501953,
          -15.754565238952637,
          -23.942594528198242,
          5.485495567321777,
          23.547847747802734,
          -11.492012023925781,
          -23.617958068847656,
          -0.8388130068778992,
          16.609561920166016,
          -5.144670486450195,
          6.807223320007324,
          20.45569610595703,
          23.11802864074707,
          -12.299080848693848,
          24.511066436767578,
          -37.55839538574219,
          -23.035476684570312,
          15.470290184020996,
          -19.78317642211914,
          6.031002044677734,
          -34.62495803833008,
          27.19390106201172,
          9.481406211853027,
          25.653932571411133,
          9.65434455871582,
          2.718144416809082,
          5.29873514175415,
          25.581939697265625,
          -27.426485061645508,
          22.006202697753906,
          14.421540260314941,
          23.080774307250977,
          -39.183006286621094,
          21.812381744384766,
          32.793827056884766,
          -16.85502052307129,
          25.701631546020508,
          20.890216827392578,
          20.8109130859375,
          31.759836196899414,
          -0.896932065486908,
          -31.462818145751953,
          -0.2141183465719223,
          -14.991222381591797,
          -23.58350944519043,
          -2.479067087173462,
          6.863636016845703,
          34.88516616821289,
          8.75680160522461,
          -40.5263557434082,
          10.392264366149902,
          22.3004150390625,
          -24.11402130126953,
          5.574294567108154,
          30.04848289489746,
          22.623327255249023,
          -32.755332946777344,
          -28.12200164794922,
          8.26685619354248,
          29.889467239379883,
          29.431236267089844,
          -40.535987854003906,
          -29.695148468017578,
          8.153950691223145,
          -15.789597511291504,
          8.540534973144531,
          5.2372941970825195,
          11.000598907470703,
          16.334789276123047,
          -26.181217193603516,
          -19.474088668823242,
          -33.38605880737305,
          3.7929461002349854,
          23.360668182373047,
          22.41792106628418,
          1.5064818859100342,
          2.6110270023345947,
          -13.942282676696777,
          -35.34635543823242,
          -21.579774856567383,
          -39.464317321777344,
          1.5517295598983765,
          30.572513580322266,
          7.7247185707092285,
          28.15038299560547,
          -20.410926818847656,
          15.099806785583496,
          -9.111770629882812,
          6.256685256958008,
          24.79170036315918,
          -36.98828125,
          -8.529245376586914,
          33.463157653808594,
          5.82814359664917,
          -36.66740036010742,
          -25.037439346313477,
          -6.828365802764893,
          32.482303619384766,
          -44.066043853759766,
          22.68558120727539,
          6.0445451736450195,
          -18.56868553161621,
          8.002959251403809,
          26.77647590637207,
          -20.950363159179688,
          31.158782958984375,
          15.665491104125977,
          27.195287704467773,
          36.04032516479492,
          -36.46914291381836,
          0.1475737988948822,
          -22.04509162902832,
          34.897823333740234,
          -30.8909912109375,
          32.3741340637207,
          -31.570051193237305,
          23.808496475219727,
          12.79669189453125,
          -14.546536445617676,
          -29.89900016784668,
          -38.17932891845703,
          21.314977645874023,
          0.3533256947994232,
          5.114825248718262,
          -21.143007278442383,
          -39.42174530029297,
          -27.648313522338867,
          6.5503668785095215,
          -18.037559509277344,
          30.32028579711914,
          -40.900123596191406,
          -14.485912322998047,
          10.367704391479492,
          8.03929615020752,
          -21.354116439819336,
          17.798128128051758,
          -9.161127090454102,
          7.2540459632873535,
          6.590367317199707,
          -28.566547393798828,
          24.209190368652344,
          -29.131019592285156,
          5.6884355545043945,
          -33.386077880859375,
          -34.0214729309082,
          30.97964859008789,
          10.544642448425293,
          3.0873749256134033,
          31.76857566833496,
          6.982365131378174,
          39.02775192260742,
          -29.516576766967773,
          12.587594032287598,
          19.122474670410156,
          3.3200087547302246,
          -19.200538635253906,
          36.410831451416016,
          10.899006843566895,
          -1.0575125217437744,
          7.448212623596191,
          -22.798612594604492,
          10.368510246276855,
          8.31515121459961,
          -38.266788482666016,
          28.23870277404785,
          -25.01148796081543,
          -8.886895179748535,
          20.112226486206055,
          -19.263099670410156,
          -26.523178100585938,
          13.53199291229248,
          13.174968719482422,
          -41.313758850097656,
          17.693424224853516,
          -12.473403930664062,
          7.928741931915283,
          40.22263717651367,
          11.419882774353027,
          10.60943603515625,
          -10.554693222045898,
          11.781800270080566,
          17.164352416992188,
          -5.727168083190918,
          -33.55577850341797,
          -27.487003326416016,
          25.170446395874023,
          11.318106651306152,
          30.424551010131836,
          16.212623596191406,
          10.140708923339844,
          3.3211066722869873,
          25.831270217895508,
          -30.000823974609375,
          -26.124834060668945,
          4.721202850341797,
          35.24302673339844,
          -30.19513511657715,
          0.7244711518287659,
          27.525033950805664,
          1.945599913597107,
          35.891387939453125,
          26.4351749420166,
          -24.990009307861328,
          1.8737655878067017,
          -30.674057006835938,
          -11.009485244750977,
          -5.538531303405762,
          10.464883804321289,
          24.826770782470703,
          14.046767234802246,
          3.476750373840332,
          22.56781768798828,
          9.5961275100708,
          -40.22449493408203,
          37.20195007324219,
          31.911489486694336,
          10.34376049041748,
          -21.43281364440918,
          11.030265808105469,
          28.866653442382812,
          5.417657375335693,
          24.891502380371094,
          36.33811569213867,
          -21.720430374145508,
          -20.387842178344727,
          -33.885093688964844,
          -22.51633644104004,
          -32.89342498779297,
          -30.659807205200195,
          -14.751753807067871,
          -1.2475829124450684,
          -41.83488082885742,
          2.013636589050293,
          25.78223991394043,
          -28.128149032592773,
          38.013771057128906,
          6.210411071777344,
          12.077177047729492,
          12.319459915161133,
          -22.877178192138672,
          9.269208908081055,
          3.0785176753997803,
          3.9561686515808105,
          -6.715932369232178,
          -9.323566436767578,
          -15.738402366638184,
          -1.7781591415405273,
          15.520075798034668,
          -30.82317352294922,
          2.7707016468048096,
          -29.3248291015625,
          -15.005792617797852,
          27.01249885559082,
          30.160030364990234,
          -16.352352142333984,
          26.11380958557129,
          -43.607486724853516,
          6.7439799308776855,
          9.717742919921875,
          -15.766070365905762,
          -32.16792297363281,
          7.321127891540527,
          -27.60280990600586,
          1.099001169204712,
          22.93992805480957,
          22.221101760864258,
          -0.48123714327812195,
          -28.416439056396484,
          5.1664228439331055,
          9.014886856079102,
          29.538206100463867,
          32.64980697631836,
          0.7541353702545166,
          -6.2317023277282715,
          5.344202041625977,
          -42.21063995361328,
          -39.243988037109375,
          -24.029150009155273,
          -33.192020416259766,
          -39.146793365478516,
          -31.01561737060547,
          29.868093490600586,
          19.045740127563477,
          -42.94883728027344,
          -22.206775665283203,
          12.457420349121094,
          4.033868312835693,
          -33.58514404296875,
          30.762584686279297,
          -11.352367401123047,
          -41.403900146484375,
          -10.430472373962402,
          -7.01468563079834,
          -2.041656255722046,
          9.612634658813477,
          -21.062929153442383,
          24.24361801147461,
          -23.668657302856445,
          -32.84700393676758,
          10.587118148803711,
          -24.68731689453125,
          -32.315799713134766,
          16.345821380615234,
          23.51288414001465,
          -28.683778762817383,
          18.951234817504883,
          -39.34189987182617,
          -19.86073112487793,
          -8.303181648254395,
          -9.638449668884277,
          16.466962814331055,
          -39.91441345214844,
          26.622270584106445,
          39.35481643676758,
          -42.113311767578125,
          -29.529226303100586,
          9.634711265563965,
          16.91859245300293,
          -3.4452497959136963,
          -17.4052791595459,
          10.4215726852417,
          -12.918684959411621,
          -9.665433883666992,
          -45.35763931274414,
          7.4938788414001465,
          37.40315628051758,
          -39.210418701171875,
          -16.646076202392578,
          -24.122888565063477,
          38.48189926147461,
          -0.8566622734069824,
          0.9145246148109436,
          38.8102912902832,
          9.03264045715332,
          -41.13947296142578,
          -0.8234748840332031,
          0.2205181121826172,
          15.96617317199707,
          -16.53119468688965,
          31.363540649414062,
          9.415376663208008,
          4.615790367126465,
          31.242244720458984,
          -39.898616790771484,
          17.5202579498291,
          19.45174217224121,
          1.605473518371582,
          2.7414934635162354,
          38.413169860839844,
          8.204231262207031,
          4.208243370056152,
          14.46973991394043,
          10.353540420532227,
          -11.557348251342773,
          13.977729797363281,
          1.0414894819259644,
          -8.679685592651367,
          22.166318893432617,
          -32.7886848449707,
          1.1665585041046143,
          -19.314895629882812,
          11.527990341186523,
          24.93022346496582,
          31.696123123168945,
          11.441829681396484,
          33.105567932128906,
          -40.48976135253906,
          5.504532337188721,
          -21.25679588317871,
          -43.06956481933594,
          38.37290954589844,
          27.23263168334961,
          0.5771300196647644,
          6.695563793182373,
          12.024724006652832,
          26.04361343383789,
          -9.645776748657227,
          -18.336584091186523,
          -18.84136199951172,
          6.804349899291992,
          -32.59062576293945,
          -26.866485595703125,
          -24.65805435180664,
          -40.816429138183594,
          17.86243438720703,
          1.9132417440414429,
          17.538192749023438,
          -26.81267738342285,
          34.84114456176758,
          3.453395128250122,
          -18.35272216796875,
          13.574027061462402,
          -31.825204849243164,
          11.698646545410156,
          25.39106559753418,
          -7.6166276931762695,
          36.55229187011719,
          -14.917045593261719,
          -6.28516960144043,
          -18.427783966064453,
          -37.97334289550781,
          -29.420324325561523,
          9.130426406860352,
          -6.761973857879639,
          -16.206928253173828,
          -14.104809761047363,
          -32.487083435058594,
          -11.079679489135742,
          25.087963104248047,
          25.346328735351562,
          -3.9959843158721924,
          30.59382438659668,
          -16.174089431762695,
          -33.325584411621094,
          21.362775802612305,
          10.7208251953125,
          30.13727378845215,
          12.719141960144043,
          23.019468307495117,
          16.14691734313965,
          -22.825162887573242,
          -38.95786666870117,
          27.756484985351562,
          37.898475646972656,
          -39.75857925415039,
          11.45862102508545,
          2.941920757293701,
          26.367115020751953,
          -10.294697761535645,
          3.1152358055114746,
          3.8470046520233154,
          20.968374252319336,
          -17.10796546936035,
          -19.483264923095703,
          8.087544441223145,
          -34.91995620727539,
          28.23457145690918,
          -16.594205856323242,
          -12.504897117614746,
          -25.3150634765625,
          4.3329668045043945,
          -18.407217025756836,
          -18.03063201904297,
          25.916475296020508,
          24.577301025390625,
          -39.22032165527344,
          5.608627796173096,
          -27.91236114501953,
          -31.352807998657227,
          -43.977176666259766,
          -41.61500549316406,
          -26.881256103515625,
          -40.50091552734375,
          4.505400657653809,
          -18.600194931030273,
          13.407915115356445,
          12.039152145385742,
          -12.60624885559082,
          9.925262451171875,
          2.7505862712860107,
          -7.752819061279297,
          33.366886138916016,
          32.42829132080078,
          -43.21172332763672,
          33.72184371948242,
          -9.608000755310059,
          14.599237442016602,
          1.1612722873687744,
          9.934540748596191,
          -26.309267044067383,
          35.96504592895508,
          -41.0695915222168,
          -11.3574800491333,
          -34.91177749633789,
          3.7220427989959717,
          21.539459228515625,
          9.996352195739746,
          -39.791358947753906,
          8.4755220413208,
          -27.90866470336914,
          -20.708297729492188,
          37.480201721191406,
          -29.20148277282715,
          10.246512413024902,
          31.033464431762695,
          -23.828887939453125,
          4.987751483917236,
          -16.266254425048828,
          -20.74464988708496,
          3.1896212100982666,
          2.934349536895752,
          24.537214279174805,
          33.51493835449219,
          34.45334243774414,
          -42.94230651855469,
          23.463973999023438,
          -33.92987823486328,
          -27.30682945251465,
          25.690322875976562,
          9.895892143249512,
          -31.393192291259766,
          9.846236228942871,
          13.29350471496582,
          -41.4332389831543,
          -29.35649871826172,
          1.1653509140014648,
          20.287097930908203,
          -38.62239456176758,
          7.1240763664245605,
          38.648521423339844,
          6.935753345489502,
          -23.66155433654785,
          -20.452856063842773,
          33.99747085571289,
          -24.995189666748047,
          21.64820098876953,
          36.470191955566406,
          12.96721363067627,
          -25.467668533325195,
          30.57854461669922,
          -42.9403076171875,
          -10.588920593261719,
          -21.37044906616211,
          -30.1769962310791,
          29.525386810302734,
          -22.225116729736328,
          2.603530168533325,
          8.658954620361328,
          11.599214553833008,
          11.27683162689209,
          30.593521118164062,
          5.95324182510376,
          -6.155979633331299,
          14.093772888183594,
          9.158882141113281,
          9.820905685424805,
          28.72141456604004,
          -14.114263534545898,
          23.319095611572266,
          20.092315673828125,
          -15.96059799194336,
          34.134971618652344,
          -43.3007926940918,
          -21.283573150634766,
          26.482608795166016,
          34.62232208251953,
          6.587211608886719,
          -1.3826887607574463,
          -12.812176704406738,
          -43.013187408447266,
          -32.504600524902344,
          -13.638471603393555,
          -15.356168746948242,
          -29.842763900756836,
          6.86383056640625,
          10.499661445617676,
          33.148590087890625,
          -36.921295166015625,
          23.43988037109375,
          3.8657565116882324,
          16.919330596923828,
          15.481412887573242,
          -18.562379837036133,
          -8.957511901855469,
          12.141886711120605,
          8.238502502441406,
          23.626728057861328,
          -25.18663787841797,
          -19.467981338500977,
          30.26938819885254,
          -22.889875411987305,
          5.998864650726318,
          23.75320816040039,
          -4.93637752532959,
          -15.505127906799316,
          -9.080802917480469,
          -6.649832725524902,
          -2.9494829177856445,
          -20.27398109436035,
          -39.39096450805664,
          -8.155410766601562,
          -6.90010404586792,
          35.257171630859375,
          34.43340301513672,
          -43.86103439331055,
          8.962056159973145,
          -22.742111206054688,
          12.220088958740234,
          -12.2217378616333,
          -13.779732704162598,
          -29.722179412841797,
          13.627907752990723,
          23.755268096923828,
          26.41994857788086,
          -8.751561164855957,
          -16.4207763671875,
          -22.165855407714844,
          -40.002323150634766,
          15.652046203613281,
          -31.450578689575195,
          5.407022476196289,
          14.93830680847168,
          -20.485580444335938,
          32.847633361816406,
          -2.3928098678588867,
          5.024320602416992,
          2.113111972808838,
          -14.562068939208984,
          -39.88618850708008,
          -12.696930885314941,
          17.9838809967041,
          5.40142822265625,
          -22.999507904052734,
          -32.685386657714844,
          17.20069694519043,
          15.766878128051758,
          2.936455011367798,
          30.512489318847656,
          12.051228523254395,
          32.19832992553711,
          14.385346412658691,
          10.54991340637207,
          21.528472900390625,
          0.7176259160041809,
          11.887804985046387,
          28.50058937072754,
          -2.7648775577545166,
          16.39986228942871,
          -2.1233975887298584,
          24.454208374023438,
          -31.091650009155273,
          12.321659088134766,
          -24.68931007385254,
          39.68946075439453,
          25.9998779296875,
          2.9251081943511963,
          -22.869220733642578,
          -31.23308753967285,
          10.531557083129883,
          27.659833908081055,
          -22.43634605407715,
          7.049246788024902,
          0.6456230282783508,
          34.449710845947266,
          -16.085668563842773,
          1.7547053098678589,
          21.7395076751709,
          -37.2410888671875,
          17.068870544433594,
          29.710721969604492,
          -7.769839286804199,
          22.63725471496582,
          11.123235702514648,
          -19.914588928222656,
          12.603239059448242,
          10.19601821899414,
          -19.929222106933594,
          -14.117345809936523,
          19.171634674072266,
          9.961825370788574,
          31.232744216918945,
          -21.776081085205078,
          7.328921318054199,
          -31.86577033996582,
          -14.780216217041016,
          19.42348861694336,
          9.469561576843262,
          -31.419584274291992,
          10.566969871520996,
          38.085655212402344,
          30.253253936767578,
          -0.8790031671524048,
          7.559300899505615,
          -14.487091064453125,
          34.61977005004883,
          22.267820358276367,
          16.332971572875977,
          -30.95195770263672,
          8.980245590209961,
          8.061114311218262,
          6.70344352722168,
          -10.855037689208984,
          19.6129093170166,
          11.020539283752441,
          9.643013954162598,
          33.04391098022461,
          15.650059700012207,
          27.841711044311523,
          30.931894302368164,
          15.211954116821289,
          -20.35675048828125,
          -28.592815399169922,
          10.828344345092773,
          -19.627290725708008
         ],
         "yaxis": "y"
        }
       ],
       "layout": {
        "coloraxis": {
         "colorbar": {
          "title": {
           "text": "cluster"
          }
         },
         "colorscale": [
          [
           0,
           "#0d0887"
          ],
          [
           0.1111111111111111,
           "#46039f"
          ],
          [
           0.2222222222222222,
           "#7201a8"
          ],
          [
           0.3333333333333333,
           "#9c179e"
          ],
          [
           0.4444444444444444,
           "#bd3786"
          ],
          [
           0.5555555555555556,
           "#d8576b"
          ],
          [
           0.6666666666666666,
           "#ed7953"
          ],
          [
           0.7777777777777778,
           "#fb9f3a"
          ],
          [
           0.8888888888888888,
           "#fdca26"
          ],
          [
           1,
           "#f0f921"
          ]
         ]
        },
        "legend": {
         "tracegroupgap": 0
        },
        "margin": {
         "t": 60
        },
        "template": {
         "data": {
          "bar": [
           {
            "error_x": {
             "color": "#2a3f5f"
            },
            "error_y": {
             "color": "#2a3f5f"
            },
            "marker": {
             "line": {
              "color": "#E5ECF6",
              "width": 0.5
             },
             "pattern": {
              "fillmode": "overlay",
              "size": 10,
              "solidity": 0.2
             }
            },
            "type": "bar"
           }
          ],
          "barpolar": [
           {
            "marker": {
             "line": {
              "color": "#E5ECF6",
              "width": 0.5
             },
             "pattern": {
              "fillmode": "overlay",
              "size": 10,
              "solidity": 0.2
             }
            },
            "type": "barpolar"
           }
          ],
          "carpet": [
           {
            "aaxis": {
             "endlinecolor": "#2a3f5f",
             "gridcolor": "white",
             "linecolor": "white",
             "minorgridcolor": "white",
             "startlinecolor": "#2a3f5f"
            },
            "baxis": {
             "endlinecolor": "#2a3f5f",
             "gridcolor": "white",
             "linecolor": "white",
             "minorgridcolor": "white",
             "startlinecolor": "#2a3f5f"
            },
            "type": "carpet"
           }
          ],
          "choropleth": [
           {
            "colorbar": {
             "outlinewidth": 0,
             "ticks": ""
            },
            "type": "choropleth"
           }
          ],
          "contour": [
           {
            "colorbar": {
             "outlinewidth": 0,
             "ticks": ""
            },
            "colorscale": [
             [
              0,
              "#0d0887"
             ],
             [
              0.1111111111111111,
              "#46039f"
             ],
             [
              0.2222222222222222,
              "#7201a8"
             ],
             [
              0.3333333333333333,
              "#9c179e"
             ],
             [
              0.4444444444444444,
              "#bd3786"
             ],
             [
              0.5555555555555556,
              "#d8576b"
             ],
             [
              0.6666666666666666,
              "#ed7953"
             ],
             [
              0.7777777777777778,
              "#fb9f3a"
             ],
             [
              0.8888888888888888,
              "#fdca26"
             ],
             [
              1,
              "#f0f921"
             ]
            ],
            "type": "contour"
           }
          ],
          "contourcarpet": [
           {
            "colorbar": {
             "outlinewidth": 0,
             "ticks": ""
            },
            "type": "contourcarpet"
           }
          ],
          "heatmap": [
           {
            "colorbar": {
             "outlinewidth": 0,
             "ticks": ""
            },
            "colorscale": [
             [
              0,
              "#0d0887"
             ],
             [
              0.1111111111111111,
              "#46039f"
             ],
             [
              0.2222222222222222,
              "#7201a8"
             ],
             [
              0.3333333333333333,
              "#9c179e"
             ],
             [
              0.4444444444444444,
              "#bd3786"
             ],
             [
              0.5555555555555556,
              "#d8576b"
             ],
             [
              0.6666666666666666,
              "#ed7953"
             ],
             [
              0.7777777777777778,
              "#fb9f3a"
             ],
             [
              0.8888888888888888,
              "#fdca26"
             ],
             [
              1,
              "#f0f921"
             ]
            ],
            "type": "heatmap"
           }
          ],
          "heatmapgl": [
           {
            "colorbar": {
             "outlinewidth": 0,
             "ticks": ""
            },
            "colorscale": [
             [
              0,
              "#0d0887"
             ],
             [
              0.1111111111111111,
              "#46039f"
             ],
             [
              0.2222222222222222,
              "#7201a8"
             ],
             [
              0.3333333333333333,
              "#9c179e"
             ],
             [
              0.4444444444444444,
              "#bd3786"
             ],
             [
              0.5555555555555556,
              "#d8576b"
             ],
             [
              0.6666666666666666,
              "#ed7953"
             ],
             [
              0.7777777777777778,
              "#fb9f3a"
             ],
             [
              0.8888888888888888,
              "#fdca26"
             ],
             [
              1,
              "#f0f921"
             ]
            ],
            "type": "heatmapgl"
           }
          ],
          "histogram": [
           {
            "marker": {
             "pattern": {
              "fillmode": "overlay",
              "size": 10,
              "solidity": 0.2
             }
            },
            "type": "histogram"
           }
          ],
          "histogram2d": [
           {
            "colorbar": {
             "outlinewidth": 0,
             "ticks": ""
            },
            "colorscale": [
             [
              0,
              "#0d0887"
             ],
             [
              0.1111111111111111,
              "#46039f"
             ],
             [
              0.2222222222222222,
              "#7201a8"
             ],
             [
              0.3333333333333333,
              "#9c179e"
             ],
             [
              0.4444444444444444,
              "#bd3786"
             ],
             [
              0.5555555555555556,
              "#d8576b"
             ],
             [
              0.6666666666666666,
              "#ed7953"
             ],
             [
              0.7777777777777778,
              "#fb9f3a"
             ],
             [
              0.8888888888888888,
              "#fdca26"
             ],
             [
              1,
              "#f0f921"
             ]
            ],
            "type": "histogram2d"
           }
          ],
          "histogram2dcontour": [
           {
            "colorbar": {
             "outlinewidth": 0,
             "ticks": ""
            },
            "colorscale": [
             [
              0,
              "#0d0887"
             ],
             [
              0.1111111111111111,
              "#46039f"
             ],
             [
              0.2222222222222222,
              "#7201a8"
             ],
             [
              0.3333333333333333,
              "#9c179e"
             ],
             [
              0.4444444444444444,
              "#bd3786"
             ],
             [
              0.5555555555555556,
              "#d8576b"
             ],
             [
              0.6666666666666666,
              "#ed7953"
             ],
             [
              0.7777777777777778,
              "#fb9f3a"
             ],
             [
              0.8888888888888888,
              "#fdca26"
             ],
             [
              1,
              "#f0f921"
             ]
            ],
            "type": "histogram2dcontour"
           }
          ],
          "mesh3d": [
           {
            "colorbar": {
             "outlinewidth": 0,
             "ticks": ""
            },
            "type": "mesh3d"
           }
          ],
          "parcoords": [
           {
            "line": {
             "colorbar": {
              "outlinewidth": 0,
              "ticks": ""
             }
            },
            "type": "parcoords"
           }
          ],
          "pie": [
           {
            "automargin": true,
            "type": "pie"
           }
          ],
          "scatter": [
           {
            "marker": {
             "colorbar": {
              "outlinewidth": 0,
              "ticks": ""
             }
            },
            "type": "scatter"
           }
          ],
          "scatter3d": [
           {
            "line": {
             "colorbar": {
              "outlinewidth": 0,
              "ticks": ""
             }
            },
            "marker": {
             "colorbar": {
              "outlinewidth": 0,
              "ticks": ""
             }
            },
            "type": "scatter3d"
           }
          ],
          "scattercarpet": [
           {
            "marker": {
             "colorbar": {
              "outlinewidth": 0,
              "ticks": ""
             }
            },
            "type": "scattercarpet"
           }
          ],
          "scattergeo": [
           {
            "marker": {
             "colorbar": {
              "outlinewidth": 0,
              "ticks": ""
             }
            },
            "type": "scattergeo"
           }
          ],
          "scattergl": [
           {
            "marker": {
             "colorbar": {
              "outlinewidth": 0,
              "ticks": ""
             }
            },
            "type": "scattergl"
           }
          ],
          "scattermapbox": [
           {
            "marker": {
             "colorbar": {
              "outlinewidth": 0,
              "ticks": ""
             }
            },
            "type": "scattermapbox"
           }
          ],
          "scatterpolar": [
           {
            "marker": {
             "colorbar": {
              "outlinewidth": 0,
              "ticks": ""
             }
            },
            "type": "scatterpolar"
           }
          ],
          "scatterpolargl": [
           {
            "marker": {
             "colorbar": {
              "outlinewidth": 0,
              "ticks": ""
             }
            },
            "type": "scatterpolargl"
           }
          ],
          "scatterternary": [
           {
            "marker": {
             "colorbar": {
              "outlinewidth": 0,
              "ticks": ""
             }
            },
            "type": "scatterternary"
           }
          ],
          "surface": [
           {
            "colorbar": {
             "outlinewidth": 0,
             "ticks": ""
            },
            "colorscale": [
             [
              0,
              "#0d0887"
             ],
             [
              0.1111111111111111,
              "#46039f"
             ],
             [
              0.2222222222222222,
              "#7201a8"
             ],
             [
              0.3333333333333333,
              "#9c179e"
             ],
             [
              0.4444444444444444,
              "#bd3786"
             ],
             [
              0.5555555555555556,
              "#d8576b"
             ],
             [
              0.6666666666666666,
              "#ed7953"
             ],
             [
              0.7777777777777778,
              "#fb9f3a"
             ],
             [
              0.8888888888888888,
              "#fdca26"
             ],
             [
              1,
              "#f0f921"
             ]
            ],
            "type": "surface"
           }
          ],
          "table": [
           {
            "cells": {
             "fill": {
              "color": "#EBF0F8"
             },
             "line": {
              "color": "white"
             }
            },
            "header": {
             "fill": {
              "color": "#C8D4E3"
             },
             "line": {
              "color": "white"
             }
            },
            "type": "table"
           }
          ]
         },
         "layout": {
          "annotationdefaults": {
           "arrowcolor": "#2a3f5f",
           "arrowhead": 0,
           "arrowwidth": 1
          },
          "autotypenumbers": "strict",
          "coloraxis": {
           "colorbar": {
            "outlinewidth": 0,
            "ticks": ""
           }
          },
          "colorscale": {
           "diverging": [
            [
             0,
             "#8e0152"
            ],
            [
             0.1,
             "#c51b7d"
            ],
            [
             0.2,
             "#de77ae"
            ],
            [
             0.3,
             "#f1b6da"
            ],
            [
             0.4,
             "#fde0ef"
            ],
            [
             0.5,
             "#f7f7f7"
            ],
            [
             0.6,
             "#e6f5d0"
            ],
            [
             0.7,
             "#b8e186"
            ],
            [
             0.8,
             "#7fbc41"
            ],
            [
             0.9,
             "#4d9221"
            ],
            [
             1,
             "#276419"
            ]
           ],
           "sequential": [
            [
             0,
             "#0d0887"
            ],
            [
             0.1111111111111111,
             "#46039f"
            ],
            [
             0.2222222222222222,
             "#7201a8"
            ],
            [
             0.3333333333333333,
             "#9c179e"
            ],
            [
             0.4444444444444444,
             "#bd3786"
            ],
            [
             0.5555555555555556,
             "#d8576b"
            ],
            [
             0.6666666666666666,
             "#ed7953"
            ],
            [
             0.7777777777777778,
             "#fb9f3a"
            ],
            [
             0.8888888888888888,
             "#fdca26"
            ],
            [
             1,
             "#f0f921"
            ]
           ],
           "sequentialminus": [
            [
             0,
             "#0d0887"
            ],
            [
             0.1111111111111111,
             "#46039f"
            ],
            [
             0.2222222222222222,
             "#7201a8"
            ],
            [
             0.3333333333333333,
             "#9c179e"
            ],
            [
             0.4444444444444444,
             "#bd3786"
            ],
            [
             0.5555555555555556,
             "#d8576b"
            ],
            [
             0.6666666666666666,
             "#ed7953"
            ],
            [
             0.7777777777777778,
             "#fb9f3a"
            ],
            [
             0.8888888888888888,
             "#fdca26"
            ],
            [
             1,
             "#f0f921"
            ]
           ]
          },
          "colorway": [
           "#636efa",
           "#EF553B",
           "#00cc96",
           "#ab63fa",
           "#FFA15A",
           "#19d3f3",
           "#FF6692",
           "#B6E880",
           "#FF97FF",
           "#FECB52"
          ],
          "font": {
           "color": "#2a3f5f"
          },
          "geo": {
           "bgcolor": "white",
           "lakecolor": "white",
           "landcolor": "#E5ECF6",
           "showlakes": true,
           "showland": true,
           "subunitcolor": "white"
          },
          "hoverlabel": {
           "align": "left"
          },
          "hovermode": "closest",
          "mapbox": {
           "style": "light"
          },
          "paper_bgcolor": "white",
          "plot_bgcolor": "#E5ECF6",
          "polar": {
           "angularaxis": {
            "gridcolor": "white",
            "linecolor": "white",
            "ticks": ""
           },
           "bgcolor": "#E5ECF6",
           "radialaxis": {
            "gridcolor": "white",
            "linecolor": "white",
            "ticks": ""
           }
          },
          "scene": {
           "xaxis": {
            "backgroundcolor": "#E5ECF6",
            "gridcolor": "white",
            "gridwidth": 2,
            "linecolor": "white",
            "showbackground": true,
            "ticks": "",
            "zerolinecolor": "white"
           },
           "yaxis": {
            "backgroundcolor": "#E5ECF6",
            "gridcolor": "white",
            "gridwidth": 2,
            "linecolor": "white",
            "showbackground": true,
            "ticks": "",
            "zerolinecolor": "white"
           },
           "zaxis": {
            "backgroundcolor": "#E5ECF6",
            "gridcolor": "white",
            "gridwidth": 2,
            "linecolor": "white",
            "showbackground": true,
            "ticks": "",
            "zerolinecolor": "white"
           }
          },
          "shapedefaults": {
           "line": {
            "color": "#2a3f5f"
           }
          },
          "ternary": {
           "aaxis": {
            "gridcolor": "white",
            "linecolor": "white",
            "ticks": ""
           },
           "baxis": {
            "gridcolor": "white",
            "linecolor": "white",
            "ticks": ""
           },
           "bgcolor": "#E5ECF6",
           "caxis": {
            "gridcolor": "white",
            "linecolor": "white",
            "ticks": ""
           }
          },
          "title": {
           "x": 0.05
          },
          "xaxis": {
           "automargin": true,
           "gridcolor": "white",
           "linecolor": "white",
           "ticks": "",
           "title": {
            "standoff": 15
           },
           "zerolinecolor": "white",
           "zerolinewidth": 2
          },
          "yaxis": {
           "automargin": true,
           "gridcolor": "white",
           "linecolor": "white",
           "ticks": "",
           "title": {
            "standoff": 15
           },
           "zerolinecolor": "white",
           "zerolinewidth": 2
          }
         }
        },
        "xaxis": {
         "anchor": "y",
         "domain": [
          0,
          1
         ],
         "title": {
          "text": "x"
         }
        },
        "yaxis": {
         "anchor": "x",
         "domain": [
          0,
          1
         ],
         "title": {
          "text": "y"
         }
        }
       }
      },
      "text/html": [
       "<div>                            <div id=\"05c5130e-1cdb-462a-847b-59a611820ff3\" class=\"plotly-graph-div\" style=\"height:525px; width:100%;\"></div>            <script type=\"text/javascript\">                require([\"plotly\"], function(Plotly) {                    window.PLOTLYENV=window.PLOTLYENV || {};                                    if (document.getElementById(\"05c5130e-1cdb-462a-847b-59a611820ff3\")) {                    Plotly.newPlot(                        \"05c5130e-1cdb-462a-847b-59a611820ff3\",                        [{\"customdata\":[[\"['classic rock', 'country rock', 'folk', 'folk rock', 'rock', 'roots rock', 'singer-songwriter']\"],[\"['grunge', 'permanent wave', 'rock']\"],[\"['beatlesque', 'british invasion', 'classic rock', 'merseybeat', 'psychedelic rock', 'rock']\"],[\"['baroque pop', 'classic rock', 'psychedelic rock', 'rock', 'sunshine pop']\"],[\"['classic rock', 'rock', 'rock-and-roll', 'rockabilly']\"],[\"['classic soul', 'jazz blues', 'memphis soul', 'soul', 'southern soul']\"],[\"['adult standards', 'brill building pop', 'classic girl group', 'soul']\"],[\"['classic soul', 'funk', 'indie r&b', 'motown', 'northern soul', 'quiet storm', 'soul']\"],[\"['classic soul', 'funk', 'indie r&b', 'motown', 'northern soul', 'quiet storm', 'soul']\"],[\"['british invasion', 'classic rock', 'rock']\"],[\"['pop', 'r&b', 'soul']\"],[\"['rock-and-roll', 'rockabilly']\"],[\"['classic rock', 'heartland rock', 'mellow gold', 'permanent wave', 'rock', 'singer-songwriter']\"],[\"['album rock', 'art rock', 'blues rock', 'british invasion', 'classic rock', 'hard rock', 'mellow gold', 'psychedelic rock', 'rock']\"],[\"['alternative rock', 'art rock', 'madchester', 'new wave', 'post-punk', 'rock', 'uk post-punk']\"],[\"['baroque pop', 'classic rock', 'psychedelic rock', 'rock', 'sunshine pop']\"],[\"['classic soul', 'memphis soul', 'soul', 'soul blues', 'southern soul']\"],[\"['atl hip hop', 'dirty south rap', 'hip hop', 'old school atlanta hip hop', 'pop rap', 'rap', 'southern hip hop']\"],[\"['punk', 'rock']\"],[\"['dance pop', 'indietronica', 'new rave']\"],[\"['classic rock', 'permanent wave', 'punk', 'rock']\"],[\"['british invasion', 'classic rock', 'rock']\"],[\"['beatlesque', 'british invasion', 'classic rock', 'merseybeat', 'psychedelic rock', 'rock']\"],[\"['rock-and-roll', 'rockabilly', 'soul']\"],[\"['album rock', 'classic rock', 'hard rock', 'rock']\"],[\"['bronx hip hop', 'electro', 'old school hip hop']\"],[\"['adult standards', 'classic soul', 'jazz blues', 'piano blues', 'soul', 'soul blues', 'vocal jazz']\"],[\"['album rock', 'beatlesque', 'classic rock', 'mellow gold', 'rock']\"],[\"['adult standards', 'classic soul', 'rock-and-roll', 'soul']\"],[\"['art rock', 'classic rock', 'glam rock', 'permanent wave', 'rock']\"],[\"['funk', 'funk rock', 'minneapolis sound', 'synth funk']\"],[\"['adult standards', 'motown', 'soul']\"],[\"['alternative rock', 'art rock', 'britpop', 'indie rock', 'new wave', 'permanent wave', 'pop rock', 'rock', 'sheffield indie']\"],[\"['british invasion', 'classic rock', 'rock']\"],[\"['adult standards', 'harlem renaissance', 'jazz', 'jazz blues', 'lounge', 'torch song', 'vocal jazz']\"],[\"['album rock', 'art rock', 'british invasion', 'classic rock', 'folk rock', 'glam rock', 'mellow gold', 'protopunk', 'psychedelic rock', 'rock']\"],[\"['dance pop', 'pop', 'r&b']\"],[\"['alternative rock', 'blues rock', 'detroit rock', 'garage rock', 'modern blues rock', 'modern rock', 'permanent wave', 'punk blues', 'rock']\"],[\"['alternative rock', 'athens indie', 'permanent wave', 'pop rock', 'rock']\"],[\"['punk', 'rock']\"],[\"['classic rock', 'glam rock', 'rock']\"],[\"['alternative rock', 'art rock', 'dance rock', 'madchester', 'new romantic', 'new wave', 'new wave pop', 'permanent wave', 'pop rock', 'post-punk', 'rock', 'synthpop', 'uk post-punk']\"],[\"['acid rock', 'album rock', 'blues rock', 'classic rock', 'hard rock', 'proto-metal', 'psychedelic rock', 'rock']\"],[\"['classic garage rock']\"],[\"['adult standards', 'motown']\"],[\"['atl hip hop', 'neo soul']\"],[\"['adult standards', 'brill building pop', 'bubblegum pop', 'rock-and-roll', 'rockabilly']\"],[\"['beatlesque', 'british invasion', 'classic rock', 'merseybeat', 'psychedelic rock', 'rock']\"],[\"['album rock', 'art rock', 'british invasion', 'classic rock', 'folk rock', 'glam rock', 'mellow gold', 'protopunk', 'psychedelic rock', 'rock']\"],[\"['alternative rock', 'dance rock', 'indie rock', 'modern rock', 'rock', 'scottish rock']\"],[\"['dance pop', 'hip hop', 'hip pop', 'pop rap', 'r&b', 'rap', 'urban contemporary', 'virginia hip hop']\"],[\"['rock-and-roll', 'rockabilly']\"],[\"['acid rock', 'album rock', 'classic rock', 'psychedelic rock', 'rock']\"],[\"['dance pop', 'disco', 'hi-nrg', 'new wave pop']\"],[\"['madchester', 'new wave', 'permanent wave', 'rock', 'uk post-punk']\"],[\"['art rock', 'classic rock', 'glam rock', 'permanent wave', 'rock']\"],[\"['adult standards', 'rock-and-roll', 'soul']\"],[\"['art rock', 'beatlesque', 'blues rock', 'classic rock', 'cosmic american', 'country rock', 'folk', 'folk rock', 'mellow gold', 'psychedelic rock', 'rock', 'roots rock', 'soft rock']\"],[\"['alternative rock', 'britpop', 'permanent wave', 'pop rock', 'rock', 'shoegaze']\"],[\"['adult standards', 'rock-and-roll', 'rockabilly']\"],[\"['album rock', 'art rock', 'blues', 'blues rock', 'british blues', 'classic rock', 'country rock', 'electric blues', 'folk rock', 'hard rock', 'mellow gold', 'psychedelic rock', 'rock', 'roots rock', 'soft rock', 'symphonic rock']\"],[\"['classic soul', 'funk', 'soul', 'southern soul']\"],[\"['downtempo', 'electronica', 'trip hop']\"],[\"['alternative rock', 'anti-folk', 'indie rock', 'modern rock', 'permanent wave', 'rock']\"],[\"['conscious hip hop', 'east coast hip hop', 'gangster rap', 'golden age hip hop', 'hardcore hip hop', 'hip hop', 'old school hip hop', 'political hip hop', 'rap', 'rap rock']\"],[\"['art punk', 'art rock', 'dance rock', 'funk rock', 'new wave', 'permanent wave', 'post-punk', 'rock', 'zolo']\"],[\"['alternative rock', 'art rock', 'melancholia', 'oxford indie', 'permanent wave', 'rock']\"],[\"['album rock', 'classic rock', 'hard rock', 'rock']\"],[\"['conscious hip hop', 'hip hop', 'rap', 'west coast rap']\"],[\"['album rock', 'blues rock', 'british invasion', 'classic rock', 'folk rock', 'protopunk', 'psychedelic rock', 'rock']\"],[\"['art rock', 'classic rock', 'glam rock', 'permanent wave', 'psychedelic rock', 'rock', 'singer-songwriter']\"],[\"['album rock', 'classic rock', 'folk rock', 'heartland rock', 'mellow gold', 'rock', 'soft rock', 'yacht rock']\"],[\"['east coast hip hop', 'hip hop', 'rap']\"],[\"['art pop', 'dance pop', 'electropop', 'europop', 'pop', 'scandipop', 'swedish electropop', 'swedish pop']\"],[\"['dance pop', 'pop', 'r&b']\"],[\"['classic soul', 'funk', 'memphis soul', 'quiet storm', 'soul', 'soul blues', 'southern soul']\"],[\"['british invasion', 'classic rock', 'rock']\"],[\"['alternative dance', 'alternative rock', 'dance rock', 'dance-punk', 'electronic rock', 'electronica', 'indie rock', 'indietronica', 'modern rock', 'new rave', 'rock']\"],[\"['bubblegum pop', 'classic rock', 'folk rock', 'mellow gold', 'psychedelic rock', 'rock', 'sunshine pop']\"],[\"['classic rock', 'early us punk', 'permanent wave', 'punk', 'rock']\"],[\"['classic girl group', 'classic soul', 'disco', 'funk', 'motown', 'quiet storm', 'rock-and-roll', 'soul']\"],[\"['rock-and-roll', 'rockabilly']\"],[\"['art pop', 'canadian electropop', 'dance pop', 'grave wave', 'indietronica', 'metropopolis', 'pop']\"],[\"['beatlesque', 'british invasion', 'classic rock', 'merseybeat', 'psychedelic rock', 'rock']\"],[\"['acid rock', 'album rock', 'blues rock', 'classic rock', 'hard rock', 'proto-metal', 'psychedelic rock', 'rock']\"],[\"['lilith', 'new wave pop', 'pop rock']\"],[\"['madchester', 'new wave', 'permanent wave', 'rock', 'uk post-punk']\"],[\"['glam metal', 'hard rock', 'rock']\"],[\"['blues rock', 'classic rock', 'country rock', 'folk', 'folk rock', 'mellow gold', 'psychedelic rock', 'rock', 'roots rock', 'soft rock']\"],[\"['album rock', 'blues rock', 'classic canadian rock', 'classic rock', 'cosmic american', 'country rock', 'folk', 'folk rock', 'heartland rock', 'mellow gold', 'rock', 'roots rock', 'soft rock', 'swamp rock']\"],[\"['chicago rap', 'rap']\"],[\"['punk', 'ska', 'ska revival']\"],[\"['art pop', 'metropopolis', 'nz pop', 'pop']\"],[\"['electro', 'filter house']\"],[\"['rock-and-roll', 'rockabilly']\"],[\"['art rock', 'classic rock', 'glam rock', 'permanent wave', 'rock']\"],[\"['adult standards', 'classic soul', 'disco', 'funk', 'mellow gold', 'motown', 'quiet storm', 'soul']\"],[\"['rock-and-roll', 'rockabilly']\"],[\"['funk', 'soul']\"],[\"['beatlesque', 'britpop', 'madchester', 'permanent wave', 'pop rock', 'rock']\"],[\"['alternative rock', 'art rock', 'classic rock', 'folk rock', 'melancholia', 'permanent wave', 'protopunk', 'psychedelic rock', 'rock']\"],[\"['piano rock', 'rock-and-roll', 'rockabilly']\"],[\"['classic rock', 'heartland rock', 'mellow gold', 'permanent wave', 'rock', 'singer-songwriter']\"],[\"['irish rock', 'permanent wave', 'rock']\"],[\"['alternative rock', 'art rock', 'classic rock', 'folk rock', 'melancholia', 'permanent wave', 'protopunk', 'psychedelic rock', 'rock']\"],[\"['classic soul', 'funk', 'motown', 'quiet storm', 'soul', 'southern soul']\"],[\"['beatlesque', 'british invasion', 'classic rock', 'merseybeat', 'psychedelic rock', 'rock']\"],[\"['europop', 'swedish pop']\"],[\"['adult standards', 'rock-and-roll', 'rockabilly']\"],[\"['madchester', 'new wave', 'permanent wave', 'rock', 'uk post-punk']\"],[\"['rock-and-roll', 'rockabilly']\"],[\"['disco', 'funk', 'post-disco', 'quiet storm', 'soul']\"],[\"['hip hop', 'lgbtq+ hip hop', 'neo soul']\"],[\"['classic soul', 'funk', 'memphis soul', 'motown', 'soul']\"],[\"['british invasion', 'classic rock', 'rock']\"],[\"['art pop', 'pop']\"],[\"['british soul', 'neo soul']\"],[\"['east coast hip hop', 'electro', 'funk', 'hip hop', 'hip house', 'new jersey rap', 'old school hip hop', 'rap']\"],[\"['classic rock', 'folk', 'folk rock', 'melancholia', 'mellow gold', 'rock']\"],[\"['classic rock', 'country rock', 'rock', 'southern rock', 'swamp rock']\"],[\"['funk', 'soul']\"],[\"['classic rock', 'folk', 'folk rock', 'melancholia', 'mellow gold', 'rock']\"],[\"['reggae', 'roots reggae']\"],[\"['classic rock', 'country rock', 'rock', 'southern rock', 'swamp rock']\"],[\"['album rock', 'classic rock', 'mellow gold', 'permanent wave', 'rock']\"],[\"['classic rock', 'rock', 'rock-and-roll', 'rockabilly']\"],[\"['album rock', 'art rock', 'blues rock', 'british invasion', 'classic rock', 'folk rock', 'progressive rock', 'psychedelic rock', 'symphonic rock']\"],[\"['french shoegaze', 'french synthpop', 'indietronica', 'metropopolis', 'neo-synthpop']\"],[\"['alternative dance', 'alternative rock', 'dance rock', 'dance-punk', 'electronic rock', 'electronica', 'indie rock', 'indietronica', 'modern rock', 'new rave', 'rock']\"],[\"['honky tonk', 'traditional country', 'yodeling']\"],[\"['art rock', 'beatlesque', 'blues rock', 'classic rock', 'cosmic american', 'country rock', 'folk', 'folk rock', 'mellow gold', 'psychedelic rock', 'rock', 'roots rock', 'soft rock']\"],[\"['alternative dance', 'big beat', 'electronica']\"],[\"['piano rock', 'rock-and-roll', 'rockabilly']\"],[\"['classic soul', 'funk', 'instrumental funk', 'instrumental soul', 'memphis soul', 'soul', 'southern soul']\"],[\"['alternative dance', 'alternative rock', 'dance-punk', 'garage rock', 'indie rock', 'modern rock', 'new rave', 'rock']\"],[\"['barbadian pop', 'dance pop', 'pop', 'urban contemporary']\"],[\"['beatlesque', 'british invasion', 'classic rock', 'merseybeat', 'psychedelic rock', 'rock']\"],[\"['disco', 'mellow gold', 'soft rock']\"],[\"['classic rock', 'country rock', 'folk', 'folk rock', 'rock', 'roots rock', 'singer-songwriter']\"],[\"['mellow gold', 'soft rock']\"],[\"['adult standards', 'classic girl group', 'doo-wop', 'rhythm and blues', 'rock-and-roll', 'rockabilly', 'soul']\"],[\"['alternative dance', 'baltimore indie', 'chillwave', 'indie rock', 'modern rock', 'new rave']\"],[\"['alternative rock', 'art rock', 'melancholia', 'oxford indie', 'permanent wave', 'rock']\"],[\"['rock-and-roll', 'rockabilly']\"],[\"['album rock', 'birmingham metal', 'classic rock', 'hard rock', 'metal', 'rock', 'stoner rock', 'uk doom metal']\"],[\"['candy pop', 'new wave', 'new wave pop', 'permanent wave', 'power pop', 'rock']\"],[\"['album rock', 'classic rock', 'hard rock', 'rock']\"],[\"['east coast hip hop', 'golden age hip hop', 'hardcore hip hop', 'hip hop', 'old school hip hop', 'queens hip hop', 'rap']\"],[\"['dance pop']\"],[\"['alternative rock', 'art punk', 'art rock', 'experimental', 'indie rock', 'new wave', 'no wave', 'post-punk', 'protopunk', 'psychedelic rock', 'punk', 'punk blues']\"],[\"['canadian hip hop', 'canadian pop', 'hip hop', 'rap', 'toronto rap']\"],[\"['beatlesque', 'britpop', 'madchester', 'permanent wave', 'pop rock', 'rock']\"],[\"['alternative dance', 'indietronica', 'modern rock', 'rock']\"],[\"['soul', 'southern soul']\"],[\"['british invasion', 'classic rock', 'rock']\"],[\"[]\"],[\"['beatlesque', 'british invasion', 'classic rock', 'merseybeat', 'psychedelic rock', 'rock']\"],[\"['american folk revival', 'appalachian folk', 'folk', 'old-time', 'protest folk', 'singer-songwriter', 'traditional blues', 'traditional folk']\"],[\"['adult standards', 'bubblegum pop', 'mellow gold', 'rock-and-roll', 'rockabilly']\"],[\"['rock-and-roll', 'rockabilly']\"],[\"['east coast hip hop', 'hip hop', 'rap']\"],[\"['garage rock', 'modern rock', 'permanent wave', 'rock', 'sheffield indie']\"],[\"['dance pop']\"],[\"['dance pop']\"],[\"['australian psych', 'neo-psychedelic']\"],[\"['afrofuturism', 'alternative r&b', 'dance pop', 'escape room', 'hip pop', 'indie soul', 'neo soul', 'r&b', 'urban contemporary']\"],[\"['alternative rock', 'britpop', 'madchester', 'modern rock', 'permanent wave', 'pop rock', 'rock']\"],[\"['funk', 'funk rock', 'minneapolis sound', 'synth funk']\"],[\"['art pop', 'art rock', 'baroque pop', 'new wave pop', 'permanent wave', 'piano rock', 'singer-songwriter']\"],[\"['classic rock', 'heartland rock', 'mellow gold', 'permanent wave', 'rock', 'singer-songwriter']\"],[\"['alternative dance', 'indietronica', 'modern rock', 'rock']\"],[\"['g funk', 'gangster rap', 'hip hop', 'rap', 'west coast rap']\"],[\"['adult standards', 'bubblegum pop', 'classic rock', 'folk rock', 'lounge', 'rock-and-roll', 'rockabilly']\"],[\"['acid rock', 'blues rock', 'classic rock', 'folk rock', 'psychedelic rock', 'rock']\"],[\"['funk', 'funk rock', 'minneapolis sound', 'synth funk']\"],[\"['irish rock', 'permanent wave', 'rock']\"],[\"['art punk', 'art rock', 'dance rock', 'funk rock', 'new wave', 'permanent wave', 'post-punk', 'rock', 'zolo']\"],[\"['new romantic', 'new wave', 'new wave pop', 'synthpop']\"],[\"['funk', 'funk rock', 'minneapolis sound', 'synth funk']\"],[\"['classic rock', 'classic soul', 'disco', 'funk', 'funk rock', 'psychedelic soul', 'rock', 'soul']\"],[\"['australian dance', 'australian pop', 'dance pop', 'electropop', 'eurodance', 'europop', 'new wave pop', 'pop']\"],[\"['british invasion', 'classic rock', 'rock']\"],[\"['brooklyn indie', 'indie pop']\"],[\"['dusseldorf electronic', 'early synthpop', 'electro', 'new romantic', 'new wave', 'proto-techno', 'synthpop']\"],[\"['alternative rock', 'art pop', 'baltimore indie', 'chillwave', 'dream pop', 'experimental pop', 'freak folk', 'indie rock', 'modern rock', 'new rave', 'noise pop']\"],[\"['beatlesque', 'british invasion', 'classic rock', 'merseybeat', 'psychedelic rock', 'rock']\"],[\"['album rock', 'art rock', 'blues rock', 'classic rock', 'folk rock', 'glam rock', 'protopunk', 'psychedelic rock', 'rock']\"],[\"['britpop', 'pop rock', 'rock']\"],[\"['beatlesque', 'british invasion', 'classic rock', 'merseybeat', 'psychedelic rock', 'rock']\"],[\"['alternative dance', 'dance-punk', 'electroclash', 'electronica', 'indie rock', 'modern rock', 'new rave']\"],[\"['alternative rock', 'garage rock', 'modern rock', 'permanent wave', 'rock']\"],[\"['disco', 'funk', 'post-disco', 'quiet storm', 'soul']\"],[\"['album rock', 'art rock', 'blues rock', 'british invasion', 'classic rock', 'hard rock', 'mellow gold', 'psychedelic rock', 'rock']\"],[\"['beatlesque', 'british invasion', 'classic rock', 'merseybeat', 'psychedelic rock', 'rock']\"],[\"['arkansas country', 'outlaw country']\"],[\"['atl hip hop', 'dirty south rap', 'hip hop', 'old school atlanta hip hop', 'pop rap', 'rap', 'southern hip hop']\"],[\"['adult standards', 'brill building pop', 'disco', 'lounge', 'mellow gold', 'quiet storm', 'soft rock']\"],[\"['arkansas country', 'outlaw country']\"],[\"['funk', 'funk rock', 'minneapolis sound', 'synth funk']\"],[\"['art pop', 'electropop', 'pop']\"],[\"['mod revival', 'new wave', 'new wave pop', 'northern irish punk', 'post-punk', 'pub rock', 'punk', 'ska']\"],[\"['atl hip hop', 'hip hop', 'rap']\"],[\"['classic rock', 'country rock', 'folk', 'folk rock', 'rock', 'roots rock', 'singer-songwriter']\"],[\"['arkansas country', 'outlaw country']\"],[\"['classic rock', 'folk', 'folk rock', 'mellow gold', 'rock', 'roots rock', 'singer-songwriter', 'soft rock']\"],[\"['adult standards', 'louisiana blues', 'lounge', 'new orleans blues', 'piano blues', 'rock-and-roll', 'rockabilly', 'soul']\"],[\"['bronx hip hop', 'east coast hip hop', 'electro', 'hip hop', 'old school hip hop']\"],[\"['adult standards', 'nashville sound']\"],[\"['blues', 'blues rock', 'chicago blues', 'electric blues', 'rhythm and blues', 'rock-and-roll', 'rockabilly', 'soul', 'traditional blues']\"],[\"['classic rock', 'country rock', 'folk', 'folk rock', 'rock', 'roots rock', 'singer-songwriter']\"],[\"['alternative rock', 'dance rock', 'permanent wave', 'rock']\"],[\"['chicago soul', 'classic soul', 'funk', 'quiet storm', 'rhythm and blues', 'soul']\"],[\"['art rock', 'classic rock', 'glam rock', 'melancholia', 'mellow gold', 'new romantic', 'new wave', 'new wave pop', 'rock', 'soft rock', 'sophisti-pop']\"],[\"['adult standards', 'bubblegum pop', 'merseybeat', 'rock-and-roll', 'rockabilly']\"],[\"['album rock', 'art rock', 'blues rock', 'british invasion', 'classic rock', 'hard rock', 'mellow gold', 'psychedelic rock', 'rock']\"],[\"['album rock', 'classic rock', 'rock', 'soft rock', 'yacht rock']\"],[\"['afrofuturism', 'alternative r&b', 'art pop', 'escape room', 'experimental r&b', 'pop', 'trip hop']\"],[\"['classic rock', 'permanent wave', 'punk', 'rock']\"],[\"['album rock', 'art rock', 'blues rock', 'classic rock', 'hard rock', 'metal', 'rock']\"],[\"['beatlesque', 'british invasion', 'classic rock', 'merseybeat', 'psychedelic rock', 'rock']\"],[\"['album rock', 'blues rock', 'classic rock', 'hard rock', 'metal', 'psychedelic rock', 'rock']\"],[\"['dance pop', 'pop']\"],[\"['boston rock']\"],[\"['art rock', 'new romantic', 'new wave', 'new wave pop', 'permanent wave', 'rock', 'soft rock', 'sophisti-pop', 'synthpop']\"],[\"['dance pop', 'indietronica', 'new rave']\"],[\"['art rock', 'classic rock', 'glam rock', 'permanent wave', 'rock']\"],[\"['pop', 'r&b', 'soul']\"],[\"['beatlesque', 'british invasion', 'classic rock', 'merseybeat', 'psychedelic rock', 'rock']\"],[\"['rock-and-roll', 'rockabilly']\"],[\"['classic soul', 'funk', 'memphis soul', 'motown', 'soul']\"],[\"['british soul', 'pop', 'pop soul', 'uk pop']\"],[\"['adult standards', 'motown', 'soul']\"],[\"['british blues', 'british invasion', 'classic rock', 'folk rock', 'protopunk', 'psychedelic rock', 'rock', 'roots rock']\"],[\"['classic soul', 'memphis soul', 'soul', 'soul blues', 'southern soul']\"],[\"['alternative rock', 'blues rock', 'classic rock', 'detroit rock', 'garage rock', 'new wave', 'permanent wave', 'post-punk', 'protopunk', 'punk', 'punk blues', 'rock']\"],[\"['alternative metal', 'alternative rock', 'grunge', 'permanent wave', 'pop rock', 'rock', 'spacegrunge']\"],[\"['bossa nova', 'cool jazz', 'jazz', 'jazz saxophone', 'latin jazz', 'lounge', 'samba-jazz']\"],[\"['adult standards', 'classic soul', 'rock-and-roll', 'soul']\"],[\"['british invasion', 'bubblegum pop', 'classic garage rock', 'classic rock', 'folk rock', 'freakbeat', 'merseybeat', 'psychedelic rock', 'rock-and-roll']\"],[\"['art rock', 'classic rock', 'glam rock', 'permanent wave', 'rock']\"],[\"['classic soul', 'funk', 'memphis soul', 'rock-and-roll', 'soul', 'southern soul']\"],[\"['adult standards', 'arkansas country', 'classic country pop', 'classic rock', 'folk rock', 'lounge', 'mellow gold', 'nashville sound', 'soft rock']\"],[\"['funk', 'soul']\"],[\"['alternative rock', 'art rock', 'melancholia', 'oxford indie', 'permanent wave', 'rock']\"],[\"['album rock', 'art rock', 'blues rock', 'classic rock', 'folk rock', 'hard rock', 'psychedelic rock', 'rock', 'roots rock', 'supergroup', 'symphonic rock']\"],[\"['alternative rock', 'blues rock', 'classic rock', 'detroit rock', 'garage rock', 'new wave', 'permanent wave', 'post-punk', 'protopunk', 'punk', 'punk blues', 'rock']\"],[\"['beatlesque', 'british invasion', 'classic rock', 'merseybeat', 'psychedelic rock', 'rock']\"],[\"['alternative rock', 'madchester', 'new wave', 'post-punk', 'pub rock', 'punk']\"],[\"['classic rock', 'country rock', 'folk', 'folk rock', 'rock', 'roots rock', 'singer-songwriter']\"],[\"['irish rock', 'permanent wave', 'rock']\"],[\"['rock-and-roll', 'rockabilly']\"],[\"['brill building pop', 'classic girl group']\"],[\"['classic soul', 'funk', 'indie r&b', 'motown', 'northern soul', 'quiet storm', 'soul']\"],[\"['adult standards', 'rock-and-roll', 'rockabilly']\"],[\"['alternative dance', 'alternative rock', 'dance rock', 'dance-punk', 'electronic rock', 'electronica', 'indie rock', 'indietronica', 'modern rock', 'new rave', 'rock']\"],[\"['art rock', 'dance rock', 'hi-nrg', 'new romantic', 'new wave', 'new wave pop', 'synthpop']\"],[\"['dusseldorf electronic', 'early synthpop', 'electro', 'new romantic', 'new wave', 'proto-techno', 'synthpop']\"],[\"['baroque pop', 'canadian indie', 'indie rock', 'modern rock', 'permanent wave', 'quebec indie', 'rock']\"],[\"['baroque pop', 'classic rock', 'psychedelic rock', 'rock', 'sunshine pop']\"],[\"['alternative rock', 'boston rock', 'modern rock', 'permanent wave', 'rock']\"],[\"['alternative rock', 'art rock', 'classic rock', 'folk rock', 'melancholia', 'permanent wave', 'protopunk', 'psychedelic rock', 'rock']\"],[\"['doo-wop', 'rhythm and blues', 'rock-and-roll']\"],[\"['art pop', 'art rock', 'baroque pop', 'new wave pop', 'permanent wave', 'piano rock', 'singer-songwriter']\"],[\"['pop', 'r&b', 'soul']\"],[\"['album rock', 'art rock', 'classic rock', 'progressive rock', 'psychedelic rock', 'rock', 'symphonic rock']\"],[\"['alternative rock', 'east coast hip hop', 'golden age hip hop', 'hip hop', 'old school hip hop', 'rap', 'rap rock', 'rock']\"],[\"['acid rock', 'art rock', 'classic rock', 'country rock', 'experimental', 'folk rock', 'psychedelic rock', 'rock', 'roots rock']\"],[\"['electro', 'filter house']\"],[\"['art pop', 'metropopolis', 'nz pop', 'pop']\"],[\"['alternative dance', 'art pop', 'dance rock', 'electronica', 'electropop', 'indie rock', 'indietronica', 'modern rock', 'neo-synthpop', 'new rave']\"],[\"['album rock', 'art rock', 'blues rock', 'classic rock', 'classic uk pop', 'folk rock', 'glam rock', 'hard rock', 'power pop', 'protopunk', 'psychedelic rock', 'pub rock']\"],[\"['album rock', 'art rock', 'blues rock', 'classic rock', 'hard rock', 'irish rock', 'metal', 'rock']\"],[\"['detroit hip hop', 'hip hop', 'rap']\"],[\"['alternative r&b', 'dance pop', 'escape room', 'hip house', 'lgbtq+ hip hop', 'pop', 'rap', 'trap queen']\"],[\"['big beat', 'breakbeat', 'dance rock', 'hardcore techno', 'rave']\"],[\"['classic garage rock', 'detroit rock', 'garage rock', 'proto-metal', 'protopunk', 'pub rock', 'punk', 'punk blues']\"],[\"['album rock', 'art rock', 'classic rock', 'progressive rock', 'psychedelic rock', 'rock', 'symphonic rock']\"],[\"['alternative dance', 'art pop', 'baroque pop', 'brooklyn indie', 'chillwave', 'dream pop', 'indie rock', 'modern rock', 'new weird america', 'stomp and holler']\"],[\"['alternative rock', 'britpop', 'madchester', 'modern rock', 'permanent wave', 'pop rock', 'rock']\"],[\"['adult standards', 'british invasion', 'classic rock', 'folk', 'folk rock', 'mellow gold', 'rock', 'soul']\"],[\"['alternative pop', 'alternative rock', 'anti-folk', 'boston rock', 'dream pop', 'lo-fi', 'new wave', 'pop rock', 'post-punk']\"],[\"['atl hip hop', 'dirty south rap', 'hip hop', 'old school atlanta hip hop', 'pop rap', 'rap', 'southern hip hop']\"],[\"['hip hop', 'lgbtq+ hip hop', 'neo soul']\"],[\"['reggae', 'roots reggae']\"],[\"['chicago rap', 'rap']\"],[\"['ska']\"],[\"['beatlesque', 'british invasion', 'classic rock', 'merseybeat', 'psychedelic rock', 'rock']\"],[\"['arkansas country', 'outlaw country']\"],[\"['classic soul', 'funk', 'indie r&b', 'motown', 'northern soul', 'quiet storm', 'soul']\"],[\"['acoustic blues', 'blues', 'delta blues', 'pre-war blues', 'traditional blues']\"],[\"['australian rock', 'hard rock', 'rock']\"],[\"['acid rock', 'album rock', 'blues rock', 'classic canadian rock', 'classic rock', 'country rock', 'folk rock', 'hard rock', 'mellow gold', 'proto-metal', 'psychedelic rock', 'rock', 'symphonic rock']\"],[\"['electro', 'filter house']\"],[\"['classic soul', 'disco', 'funk', 'jazz funk', 'memphis soul', 'quiet storm', 'soul', 'southern soul']\"],[\"['album rock', 'art rock', 'classic rock', 'folk rock', 'mellow gold', 'new romantic', 'new wave', 'new wave pop', 'permanent wave', 'pop rock', 'rock', 'soft rock']\"],[\"['blues', 'boogie-woogie', 'jump blues', 'rhythm and blues', 'rock-and-roll', 'rockabilly', 'traditional blues']\"],[\"['blues', 'blues rock', 'chicago blues', 'classic rock', 'electric blues', 'soul', 'traditional blues']\"],[\"['chicago rap', 'rap']\"],[\"['canadian singer-songwriter', 'folk', 'folk rock', 'melancholia', 'permanent wave', 'singer-songwriter']\"],[\"['adult standards', 'bubblegum pop', 'folk rock', 'lounge', 'mellow gold', 'rock-and-roll', 'rockabilly', 'sunshine pop']\"],[\"['ambient', 'braindance', 'electronica', 'intelligent dance music', 'uk experimental electronic']\"],[\"['alternative dance', 'art pop', 'dream pop', 'electroclash', 'electronica', 'electropop', 'gothenburg indie', 'neo-synthpop', 'new rave', 'swedish electropop', 'swedish synthpop']\"],[\"['album rock', 'blues rock', 'classic rock', 'detroit rock', 'glam metal', 'glam rock', 'hard rock', 'metal', 'protopunk', 'rock']\"],[\"['classic girl group', 'disco', 'funk', 'motown', 'quiet storm', 'soul']\"],[\"['chanson', 'torch song', 'vintage schlager']\"],[\"['alternative rock', 'blues rock', 'detroit rock', 'garage rock', 'modern blues rock', 'modern rock', 'permanent wave', 'punk blues', 'rock']\"],[\"['hard rock', 'metal', 'old school thrash', 'rock', 'thrash metal']\"],[\"['chanson', 'french rock']\"],[\"['alternative rock', 'boston rock', 'modern rock', 'permanent wave', 'rock']\"],[\"['bubblegum pop', 'chicano punk', 'classic garage rock', 'detroit rock', 'freakbeat', 'protopunk', 'psychedelic rock']\"],[\"['detroit hip hop', 'hip hop', 'rap']\"],[\"['alternative rock', 'athens indie', 'permanent wave', 'pop rock', 'rock']\"],[\"['conscious hip hop', 'east coast hip hop', 'gangster rap', 'golden age hip hop', 'hardcore hip hop', 'hip hop', 'old school hip hop', 'political hip hop', 'rap', 'rap rock']\"],[\"['album rock', 'hard rock', 'metal', 'rock', 'speed metal']\"],[\"['classic girl group', 'disco', 'funk', 'motown', 'quiet storm', 'soul']\"],[\"['alternative rock', 'art rock', 'indie rock', 'noise pop', 'noise rock', 'post-punk', 'rock']\"],[\"['adult standards', 'chicago soul', 'classic soul', 'funk', 'quiet storm', 'rhythm and blues', 'rock-and-roll', 'rockabilly', 'soul']\"],[\"['baroque pop', 'canadian indie', 'indie rock', 'modern rock', 'permanent wave', 'quebec indie', 'rock']\"],[\"['cosmic american', 'native american', 'punk blues', 'rock-and-roll', 'rockabilly', 'surf music']\"],[\"['blues rock', 'british blues', 'british invasion', 'bubblegum pop', 'classic rock', 'folk rock', 'merseybeat', 'protopunk', 'psychedelic rock', 'rock', 'rock-and-roll']\"],[\"['art punk', 'art rock', 'permanent wave', 'protopunk', 'rock']\"],[\"['australian rock', 'hard rock', 'rock']\"],[\"['british invasion', 'classic rock', 'rock']\"],[\"['art rock', 'bubblegum pop', 'classic rock', 'country rock', 'folk', 'folk rock', 'mellow gold', 'merseybeat', 'psychedelic rock', 'rock', 'rock-and-roll', 'roots rock', 'soft rock']\"],[\"['alternative dance', 'art pop', 'dance pop', 'electroclash', 'electronica', 'new rave', 'nu disco']\"],[\"['alternative metal', 'alternative rock', 'conscious hip hop', 'funk metal', 'nu metal', 'political hip hop', 'rap metal', 'rap rock', 'rock']\"],[\"['adult standards', 'bubblegum pop', 'mellow gold', 'rock-and-roll', 'rockabilly']\"],[\"['new wave', 'permanent wave', 'rock', 'uk post-punk']\"],[\"['art rock', 'dance rock', 'europop', 'mellow gold', 'new romantic', 'new wave', 'new wave pop', 'rock', 'soft rock', 'sophisti-pop', 'synthpop']\"],[\"['alternative dance', 'alternative rock', 'baroque pop', 'indie pop', 'indie rock', 'modern rock', 'new rave', 'stomp and holler', 'swedish alternative rock', 'swedish indie pop']\"],[\"['art pop', 'chamber pop', 'dream pop', 'indie pop', 'indie rock', 'melancholia', 'new jersey indie']\"],[\"['album rock', 'blues rock', 'classic rock', 'country rock', 'hard rock', 'mellow gold', 'rock', 'southern rock']\"],[\"['album rock', 'art rock', 'blues rock', 'british invasion', 'classic rock', 'hard rock', 'mellow gold', 'psychedelic rock', 'rock']\"],[\"['hip house']\"],[\"['alternative rock', 'double drumming', 'indie rock', 'modern rock', 'rock', 'washington indie']\"],[\"['adult standards', 'easy listening']\"],[\"['british invasion', 'classic rock', 'rock']\"],[\"['chicago soul', 'classic soul', 'funk', 'soul']\"],[\"['afrofuturism', 'alternative r&b', 'art pop', 'escape room', 'experimental r&b', 'pop', 'trip hop']\"],[\"['classic soul', 'funk', 'memphis soul', 'soul', 'soul blues', 'southern soul']\"],[\"['album rock', 'blues rock', 'classic rock', 'country rock', 'hard rock', 'mellow gold', 'rock', 'southern rock']\"],[\"['dance pop', 'pop', 'rap']\"],[\"['classic rock', 'glam rock', 'new wave', 'permanent wave', 'protopunk', 'punk', 'rock']\"],[\"['canadian singer-songwriter', 'classic canadian rock', 'classic rock', 'mellow gold', 'permanent wave', 'rock', 'roots rock', 'singer-songwriter']\"],[\"['conscious hip hop', 'hip hop', 'rap', 'west coast rap']\"],[\"['art rock', 'classic rock', 'glam rock', 'permanent wave', 'rock']\"],[\"['conscious hip hop', 'hip hop', 'rap', 'west coast rap']\"],[\"['classic soul', 'jazz blues', 'memphis soul', 'soul', 'southern soul']\"],[\"['hot jazz', 'new orleans jazz']\"],[\"['album rock', 'art rock', 'blues rock', 'british invasion', 'classic rock', 'hard rock', 'mellow gold', 'psychedelic rock', 'rock']\"],[\"['baroque pop', 'classic rock', 'psychedelic rock', 'rock', 'sunshine pop']\"],[\"['album rock', 'art rock', 'blues rock', 'classic rock', 'country rock', 'hard rock', 'mellow gold', 'rock', 'soft rock']\"],[\"['beatlesque', 'british invasion', 'classic rock', 'merseybeat', 'psychedelic rock', 'rock']\"],[\"['alternative rock', 'funk metal', 'funk rock', 'permanent wave']\"],[\"['electro', 'filter house']\"],[\"['album rock', 'art rock', 'british invasion', 'classic rock', 'folk rock', 'glam rock', 'mellow gold', 'protopunk', 'psychedelic rock', 'rock']\"],[\"['adult standards', 'classic soul', 'jazz blues', 'piano blues', 'soul', 'soul blues', 'vocal jazz']\"],[\"['alternative rock', 'art rock', 'indie rock', 'modern rock', 'noise pop', 'okc indie', 'rock']\"],[\"['acid rock', 'album rock', 'blues rock', 'classic rock', 'hard rock', 'proto-metal', 'psychedelic rock', 'rock']\"],[\"['alternative rock', 'athens indie', 'permanent wave', 'pop rock', 'rock']\"],[\"['bebop', 'big band', 'jazz', 'jazz saxophone', 'stride', 'swing', 'vocal jazz']\"],[\"['album rock', 'classic rock', 'hard rock', 'rock']\"],[\"['alternative dance', 'indie rock', 'modern rock', 'new rave', 'rock independant francais']\"],[\"['alternative rock', 'east coast hip hop', 'golden age hip hop', 'hip hop', 'old school hip hop', 'rap', 'rap rock', 'rock']\"],[\"['classic dubstep', 'electronica', 'hauntology', 'intelligent dance music', 'microhouse', 'uk bass', 'wonky']\"],[\"['beatlesque', 'british invasion', 'classic rock', 'merseybeat', 'psychedelic rock', 'rock']\"],[\"['album rock', 'classic rock', 'mellow gold', 'rock', 'soft rock']\"],[\"['alternative rock', 'britpop', 'dance rock', 'madchester', 'modern rock', 'rock']\"],[\"['adult standards', 'bubblegum pop', 'mellow gold', 'rock-and-roll', 'rockabilly']\"],[\"['art pop', 'dance rock', 'europop', 'new romantic', 'new wave', 'new wave pop', 'permanent wave', 'synthpop']\"],[\"['rock-and-roll']\"],[\"['baroque pop', 'chamber pop', 'singer-songwriter']\"],[\"['blues', 'blues rock', 'chicago blues', 'classic rock', 'electric blues', 'soul', 'traditional blues']\"],[\"['classic rock', 'rock', 'rock-and-roll', 'rockabilly']\"],[\"['album rock', 'beatlesque', 'classic rock', 'mellow gold', 'rock']\"],[\"['big band', 'harlem renaissance', 'jazz blues', 'swing']\"],[\"['barbadian pop', 'dance pop', 'pop', 'urban contemporary']\"],[\"['canadian pop', 'canadian singer-songwriter', 'pop rock', 'singer-songwriter']\"],[\"['art rock', 'british folk', 'folk', 'folk rock', 'melancholia', 'rock', 'singer-songwriter']\"],[\"['adult standards', 'classic rock', 'folk', 'folk rock', 'mellow gold', 'singer-songwriter', 'soft rock']\"],[\"['alternative rock', 'art rock', 'melancholia', 'oxford indie', 'permanent wave', 'rock']\"],[\"['classic soul', 'memphis soul', 'soul', 'soul blues', 'southern soul']\"],[\"['alternative metal', 'alternative rock', 'blues rock', 'modern rock', 'nu metal', 'palm desert scene', 'rock', 'stoner metal', 'stoner rock']\"],[\"['alternative rock', 'boston rock', 'modern rock', 'permanent wave', 'rock']\"],[\"['acid rock', 'blues rock', 'classic rock', 'folk rock', 'psychedelic rock', 'rock']\"],[\"['glam metal', 'hard rock', 'rock']\"],[\"['alternative rock', 'big beat', 'britpop', 'dance rock', 'new wave', 'rock', 'scottish indie']\"],[\"['mod revival', 'new wave', 'pub rock', 'punk', 'rock', 'ska']\"],[\"['bebop', 'jazz', 'jazz piano', 'jazz trio']\"],[\"['rock-and-roll', 'rockabilly', 'soul']\"],[\"['blues', 'traditional blues']\"],[\"['blues', 'blues rock', 'classic rock', 'delta blues', 'electric blues', 'memphis blues', 'soul', 'traditional blues']\"],[\"['beatlesque', 'british invasion', 'classic rock', 'merseybeat', 'psychedelic rock', 'rock']\"],[\"['hip house']\"],[\"['album rock', 'art rock', 'blues rock', 'classic rock', 'country rock', 'folk', 'folk rock', 'mellow gold', 'psychedelic rock', 'rock', 'roots rock', 'soft rock', 'supergroup']\"],[\"['funk', 'funk rock', 'minneapolis sound', 'synth funk']\"],[\"['dark pop', 'electronica', 'laboratorio', 'trip hop']\"],[\"['adult standards', 'easy listening', 'lounge', 'rock-and-roll', 'rockabilly', 'soul', 'swing', 'vocal jazz']\"],[\"['funk', 'funk rock', 'p funk', 'psychedelic rock', 'psychedelic soul', 'soul']\"],[\"['dance pop', 'pop', 'post-teen pop', 'talent show']\"],[\"['classic country pop', 'country', 'country dawn']\"],[\"['acoustic punk', 'alternative rock', 'anti-folk', 'pop rock', 'punk', 'rock']\"],[\"['classic rock', 'folk', 'folk rock', 'mellow gold', 'rock', 'roots rock', 'singer-songwriter', 'soft rock']\"],[\"['album rock', 'classic rock', 'hard rock', 'metal', 'rock']\"],[\"['early us punk', 'hardcore punk', 'post-punk', 'protopunk', 'pub rock', 'punk', 'punk blues']\"],[\"['british invasion', 'classic rock', 'rock']\"],[\"['beatlesque', 'british invasion', 'classic rock', 'merseybeat', 'psychedelic rock', 'rock']\"],[\"['new wave pop', 'permanent wave', 'soft rock']\"],[\"['beatlesque', 'bubblegum pop', 'classic rock', 'country rock', 'folk rock', 'mellow gold', 'psychedelic rock', 'rock', 'sunshine pop']\"],[\"['disco']\"],[\"['album rock', 'art rock', 'classic rock', 'progressive rock', 'psychedelic rock', 'rock', 'symphonic rock']\"],[\"['album rock', 'classic rock', 'mellow gold', 'permanent wave', 'rock']\"],[\"['bebop', 'contemporary post-bop', 'hard bop', 'jazz', 'jazz quartet', 'jazz saxophone', 'vocal jazz']\"],[\"['alternative rock', 'art rock', 'dream pop', 'new romantic', 'new wave', 'new wave pop', 'permanent wave', 'pop rock', 'post-punk', 'punk', 'rock']\"],[\"['classic rock', 'glam rock', 'rock']\"],[\"['doo-wop', 'rhythm and blues']\"],[\"['irish rock', 'permanent wave', 'rock']\"],[\"['bubblegum pop', 'classic girl group', 'rock-and-roll']\"],[\"['detroit hip hop', 'hip hop', 'rap']\"],[\"['adult standards', 'bubblegum pop', 'lounge', 'rock-and-roll', 'rockabilly', 'soul']\"],[\"['alternative dance', 'alternative rock', 'brooklyn indie', 'indie rock', 'indietronica', 'modern rock', 'new rave', 'rock']\"],[\"['alternative rock', 'art rock', 'new wave', 'noise pop', 'post-punk', 'punk', 'rock', 'scottish indie', 'shoegaze', 'uk post-punk']\"],[\"['alternative rock', 'art rock', 'dance rock', 'madchester', 'new romantic', 'new wave', 'new wave pop', 'permanent wave', 'pop rock', 'post-punk', 'rock', 'synthpop', 'uk post-punk']\"],[\"['classic rock', 'country rock', 'rock', 'southern rock', 'swamp rock']\"],[\"['classic soul', 'motown', 'quiet storm', 'rhythm and blues', 'soul', 'southern soul']\"],[\"['australian indie', 'indie pop', 'indie rock', 'melbourne indie']\"],[\"['conscious hip hop', 'gangster rap', 'golden age hip hop', 'hardcore hip hop', 'hip hop', 'old school hip hop', 'rap', 'west coast rap']\"],[\"['classic rock', 'classic soul', 'disco', 'funk', 'funk rock', 'psychedelic soul', 'rock', 'soul']\"],[\"['acid rock', 'album rock', 'classic rock', 'psychedelic rock', 'rock']\"],[\"['blues', 'harlem renaissance', 'jazz blues', 'traditional blues']\"],[\"['brill building pop', 'bubblegum pop', 'doo-wop', 'rhythm and blues', 'rock-and-roll']\"],[\"['baroque pop', 'indie rock', 'modern rock', 'rock']\"],[\"['alternative hip hop', 'bboy', 'east coast hip hop', 'gangster rap', 'golden age hip hop', 'hardcore hip hop', 'hip hop', 'old school hip hop', 'rap']\"],[\"['indie pop', 'indie rock', 'indietronica', 'modern rock', 'seattle indie']\"],[\"['adult standards', 'classic soul', 'jazz blues', 'piano blues', 'soul', 'soul blues', 'vocal jazz']\"],[\"['art pop', 'art rock', 'bow pop', 'experimental', 'experimental pop', 'experimental vocal', 'laboratorio']\"],[\"['mod revival', 'power pop', 'protopunk', 'pub rock', 'punk']\"],[\"['classic rock', 'early us punk', 'permanent wave', 'punk', 'rock']\"],[\"['acid rock', 'album rock', 'blues rock', 'classic rock', 'hard rock', 'proto-metal', 'psychedelic rock', 'rock']\"],[\"['classic soul', 'disco', 'funk', 'motown', 'quiet storm', 'soul', 'southern soul']\"],[\"['electronica', 'future garage', 'new rave']\"],[\"['art punk', 'art rock', 'permanent wave', 'protopunk', 'rock']\"],[\"['atl hip hop', 'contemporary r&b', 'dance pop', 'girl group', 'hip hop', 'hip pop', 'r&b', 'urban contemporary']\"],[\"['acid rock', 'classic garage rock', 'experimental', 'freakbeat', 'protopunk', 'psychedelic rock']\"],[\"['adult standards', 'bubblegum pop', 'folk rock', 'lounge', 'mellow gold', 'rock-and-roll', 'rockabilly', 'sunshine pop']\"],[\"['new romantic', 'new wave', 'new wave pop']\"],[\"['album rock', 'beatlesque', 'classic rock', 'folk rock', 'mellow gold', 'rock', 'soft rock']\"],[\"['classic rock', 'permanent wave', 'punk', 'rock']\"],[\"['hip hop', 'rap']\"],[\"['baroque pop', 'canadian indie', 'indie rock', 'modern rock', 'permanent wave', 'quebec indie', 'rock']\"],[\"['dance rock', 'new romantic', 'new wave', 'permanent wave', 'synthpop']\"],[\"['albuquerque indie', 'alternative rock', 'indie pop', 'indie rock', 'modern rock', 'portland indie', 'stomp and holler']\"],[\"['chicago rap', 'rap']\"],[\"['baroque pop', 'chamber pop', 'melancholia']\"],[\"['alternative rock', 'gothic rock', 'hardcore punk', 'new wave', 'post-punk', 'pub rock', 'punk', 'punk blues']\"],[\"[]\"],[\"['new wave', 'permanent wave', 'rock', 'uk post-punk']\"],[\"['british invasion', 'classic rock', 'rock']\"],[\"['doo-wop', 'rhythm and blues']\"],[\"['canadian pop', 'dance pop', 'electropop', 'pop', 'post-teen pop']\"],[\"['alternative rock', 'art rock', 'madchester', 'new wave', 'post-punk', 'rock', 'uk post-punk']\"],[\"['grunge', 'permanent wave', 'rock']\"],[\"['beatlesque', 'british invasion', 'classic rock', 'merseybeat', 'psychedelic rock', 'rock']\"],[\"['eau claire indie', 'indie folk', 'melancholia']\"],[\"['blues rock', 'classic rock', 'psychedelic rock', 'rock']\"],[\"[]\"],[\"['alternative pop', 'alternative rock', 'blues rock', 'grunge', 'indie rock', 'lo-fi', 'noise pop', 'noise rock', 'permanent wave', 'post-hardcore', 'post-punk', 'power pop', 'punk', 'rock']\"],[\"['art pop', 'chamber pop', 'chamber psych', 'chillwave', 'electronica', 'electropop', 'experimental pop', 'indie pop', 'indie rock', 'seattle indie']\"],[\"['glam rock', 'mellow gold', 'piano rock']\"],[\"['art rock', 'classic rock', 'glam rock', 'permanent wave', 'rock']\"],[\"['afrofuturism', 'alternative r&b', 'atl hip hop', 'electropop', 'escape room', 'neo soul', 'pop', 'r&b']\"],[\"['downtempo', 'dream pop', 'indietronica']\"],[\"['bubblegum pop', 'classic rock', 'folk rock', 'merseybeat']\"],[\"['dance pop', 'electropop', 'hip pop', 'neo soul', 'r&b', 'urban contemporary']\"],[\"['afrobeat', 'afropop', 'world']\"],[\"['alternative rock', 'anti-folk', 'indie rock', 'modern rock', 'permanent wave', 'rock']\"],[\"['grunge', 'permanent wave', 'rock']\"],[\"['alternative rock', 'athens indie', 'permanent wave', 'pop rock', 'rock']\"],[\"['alternative dance', 'electro house', 'electronica', 'filter house', 'new rave']\"],[\"['alternative rock', 'chamber pop', 'indie rock', 'modern rock', 'noise pop', 'stomp and holler']\"],[\"['adult standards', 'classic rock', 'folk', 'folk rock', 'mellow gold', 'rock', 'singer-songwriter', 'soft rock']\"],[\"['funk', 'soul']\"],[\"['conscious hip hop', 'gangster rap', 'golden age hip hop', 'hardcore hip hop', 'hip hop', 'old school hip hop', 'rap', 'west coast rap']\"],[\"['art rock', 'classic rock', 'glam rock', 'permanent wave', 'rock']\"],[\"['alternative hip hop', 'conscious hip hop', 'east coast hip hop', 'hardcore hip hop', 'hip hop', 'philly rap', 'political hip hop', 'southern hip hop']\"],[\"['alternative pop', 'alternative rock', 'art rock', 'baroque pop', 'beatlesque', 'country rock', 'folk rock', 'jangle pop', 'melancholia', 'power pop', 'pub rock', 'roots rock']\"],[\"['adult standards', 'bubblegum pop', 'folk rock', 'lounge', 'mellow gold', 'rock-and-roll', 'rockabilly', 'sunshine pop']\"],[\"['permanent wave', 'pop']\"],[\"['blues', 'blues rock', 'chicago blues', 'classic rock', 'delta blues', 'harmonica blues', 'memphis blues', 'traditional blues']\"],[\"['hip hop', 'lgbtq+ hip hop', 'neo soul']\"],[\"['mod revival', 'new wave', 'pub rock', 'punk', 'rock', 'ska']\"],[\"['glam punk', 'rock']\"],[\"['classic soul', 'funk', 'memphis soul', 'quiet storm', 'soul', 'soul blues', 'southern soul']\"],[\"['art rock', 'folk', 'folk rock', 'mellow gold', 'new wave pop', 'permanent wave', 'power pop', 'pub rock', 'rock', 'roots rock', 'singer-songwriter']\"],[\"['dance pop', 'pop']\"],[\"['alternative rock', 'art rock', 'classic rock', 'folk rock', 'melancholia', 'permanent wave', 'protopunk', 'psychedelic rock', 'rock']\"],[\"['alternative rock', 'art pop', 'art rock', 'dream pop', 'indie rock', 'melancholia', 'permanent wave', 'piano rock', 'rock', 'singer-songwriter']\"],[\"['folk rock', 'sunshine pop']\"],[\"['classic rock', 'classic soul', 'disco', 'funk', 'funk rock', 'psychedelic soul', 'rock', 'soul']\"],[\"['alternative metal', 'alternative rock', 'grunge', 'hard rock', 'nu metal', 'rock']\"],[\"['classic girl group', 'disco', 'funk', 'motown', 'quiet storm', 'soul']\"],[\"['art pop', 'chillwave', 'dream pop', 'experimental pop', 'indie garage rock', 'la indie', 'neo-psychedelic', 'new weird america']\"],[\"['classic rock', 'country rock', 'folk', 'folk rock', 'rock', 'roots rock', 'singer-songwriter']\"],[\"['alternative rock', 'art rock', 'classic rock', 'folk rock', 'melancholia', 'permanent wave', 'protopunk', 'psychedelic rock', 'rock']\"],[\"['classic soul', 'disco', 'funk', 'motown', 'quiet storm', 'soul']\"],[\"['dusseldorf electronic', 'early synthpop', 'electro', 'new romantic', 'new wave', 'proto-techno', 'synthpop']\"],[\"['classic rock', 'permanent wave', 'punk', 'rock']\"],[\"['blues', 'harmonica blues', 'rhythm and blues', 'texas blues', 'traditional blues']\"],[\"['alternative hip hop']\"],[\"['alternative metal', 'alternative rock', 'cyberpunk', 'electronic rock', 'industrial', 'industrial metal', 'industrial rock', 'nu metal', 'rock']\"],[\"['funk', 'quiet storm', 'soul']\"],[\"['dance pop', 'escape room', 'minnesota hip hop', 'pop', 'trap queen']\"],[\"['art rock', 'classic rock', 'glam rock', 'permanent wave', 'rock']\"],[\"['cool jazz', 'hard bop', 'jazz', 'jazz fusion', 'jazz trumpet', 'uk contemporary jazz']\"],[\"['art pop', 'brooklyn indie', 'indie pop', 'indie rock', 'small room']\"],[\"['new wave pop', 'permanent wave', 'soft rock']\"],[\"['barbadian pop', 'dance pop', 'pop', 'urban contemporary']\"],[\"['conscious hip hop', 'hip hop', 'rap', 'west coast rap']\"],[\"['album rock', 'classic rock', 'hard rock', 'rock']\"],[\"['adult standards', 'easy listening', 'lounge']\"],[\"['alternative rock', 'art rock', 'melancholia', 'oxford indie', 'permanent wave', 'rock']\"],[\"['alternative metal', 'alternative rock', 'modern rock', 'permanent wave', 'post-grunge', 'rock']\"],[\"['adult standards', 'bubblegum pop', 'rock-and-roll', 'rockabilly']\"],[\"['garage rock', 'modern rock', 'permanent wave', 'rock', 'sheffield indie']\"],[\"['alternative dance', 'electro house', 'electronica', 'filter house', 'new rave']\"],[\"['beatlesque', 'british invasion', 'classic rock', 'merseybeat', 'psychedelic rock', 'rock']\"],[\"['dance pop', 'hip hop', 'hip pop', 'pop rap', 'r&b', 'rap', 'urban contemporary', 'virginia hip hop']\"],[\"['rock-and-roll', 'rockabilly', 'soul']\"],[\"['blues', 'blues rock', 'chicago blues', 'electric blues', 'rhythm and blues', 'rock-and-roll', 'rockabilly', 'soul', 'traditional blues']\"],[\"['classic soul', 'motown', 'northern soul', 'soul', 'southern soul']\"],[\"['indie rock', 'modern rock']\"],[\"['album rock', 'art rock', 'classic rock', 'progressive rock', 'psychedelic rock', 'rock', 'symphonic rock']\"],[\"['art rock', 'classic rock', 'glam rock', 'permanent wave', 'psychedelic rock', 'rock', 'singer-songwriter']\"],[\"['dark pop', 'electronica', 'laboratorio', 'trip hop']\"],[\"['permanent wave', 'pop']\"],[\"['beatlesque', 'british invasion', 'classic rock', 'merseybeat', 'psychedelic rock', 'rock']\"],[\"['canadian singer-songwriter', 'classic canadian rock', 'classic rock', 'mellow gold', 'permanent wave', 'rock', 'roots rock', 'singer-songwriter']\"],[\"['canadian singer-songwriter', 'folk', 'folk rock', 'melancholia', 'permanent wave', 'singer-songwriter']\"],[\"['reggae', 'roots reggae']\"],[\"['alternative rock', 'dc hardcore', 'indie rock', 'noise rock', 'post-hardcore', 'post-punk', 'punk', 'rock']\"],[\"['east coast hip hop', 'gangster rap', 'hardcore hip hop', 'hip hop', 'rap']\"],[\"['dub', 'reggae', 'roots reggae', 'ska']\"],[\"['belgian singer-songwriter', 'chanson', 'french pop']\"],[\"['adult standards', 'brill building pop', 'classic rock', 'folk', 'folk rock', 'mellow gold', 'rock', 'singer-songwriter', 'soft rock']\"],[\"['big beat']\"],[\"['classic rock', 'country rock', 'folk', 'folk rock', 'rock', 'roots rock', 'singer-songwriter']\"],[\"['alternative dance', 'australian alternative rock', 'australian dance', 'collage pop', 'electronica', 'indie rock', 'new rave', 'psychedelic hip hop']\"],[\"['mellow gold', 'rock drums', 'soft rock']\"],[\"['alternative americana', 'art pop', 'indie folk', 'indie pop', 'indie rock']\"],[\"['alternative rock', 'garage rock', 'garage rock revival', 'modern rock', 'new rave', 'rock', 'swedish garage rock', 'swedish hard rock', 'swedish indie rock']\"],[\"['classic soul', 'jazz blues', 'memphis soul', 'soul', 'southern soul']\"],[\"['acid rock', 'album rock', 'classic rock', 'psychedelic rock', 'rock']\"],[\"['album rock', 'art rock', 'blues rock', 'classic rock', 'classic uk pop', 'folk rock', 'glam rock', 'mellow gold', 'rock', 'soft rock', 'symphonic rock', 'yacht rock']\"],[\"['country', 'country dawn', 'country rock', 'nashville sound']\"],[\"['adult standards', 'bubblegum pop', 'folk rock', 'lounge', 'mellow gold', 'rock-and-roll', 'rockabilly', 'sunshine pop']\"],[\"['adult standards', 'brill building pop', 'bubblegum pop', 'rock-and-roll', 'rockabilly']\"],[\"['art rock', 'classic rock', 'glam rock', 'permanent wave', 'rock']\"],[\"['alternative rock', 'athens indie', 'permanent wave', 'pop rock', 'rock']\"],[\"['dance pop']\"],[\"['adult standards', 'louisiana blues', 'lounge', 'new orleans blues', 'piano blues', 'rock-and-roll', 'rockabilly', 'soul']\"],[\"['dance pop', 'pop']\"],[\"['album rock', 'beatlesque', 'classic rock', 'mellow gold', 'rock']\"],[\"['classic soul', 'jazz blues', 'memphis soul', 'soul', 'southern soul']\"],[\"['album rock', 'blues rock', 'classic canadian rock', 'classic rock', 'cosmic american', 'country rock', 'folk', 'folk rock', 'heartland rock', 'mellow gold', 'rock', 'roots rock', 'soft rock', 'swamp rock']\"],[\"['eau claire indie', 'indie folk', 'melancholia']\"],[\"['alternative rock', 'anti-folk', 'art rock', 'dream pop', 'indie rock', 'lo-fi', 'modern rock', 'pop rock', 'rock']\"],[\"['american folk revival', 'appalachian folk', 'folk', 'old-time', 'traditional country', 'traditional folk', 'yodeling']\"],[\"['dance pop', 'pop']\"],[\"['alternative rock', 'grunge', 'permanent wave', 'rock']\"],[\"['dance pop']\"],[\"['irish rock', 'permanent wave', 'rock']\"],[\"['album rock', 'classic rock', 'rock', 'soft rock', 'yacht rock']\"],[\"['lgbtq+ hip hop', 'pop']\"],[\"['adult standards', 'motown', 'soul']\"],[\"['classic rock', 'country rock', 'rock', 'southern rock', 'swamp rock']\"],[\"['bubblegum pop', 'classic girl group', 'rock-and-roll']\"],[\"['album rock', 'classic rock', 'hard rock', 'rock']\"],[\"['australian rock', 'bubblegum pop', 'classic garage rock', 'folk rock', 'freakbeat', 'merseybeat', 'protopunk', 'psychedelic rock']\"],[\"['g funk', 'gangster rap', 'hip hop', 'rap', 'west coast rap']\"],[\"['classic rock', 'heartland rock', 'mellow gold', 'permanent wave', 'rock', 'singer-songwriter']\"],[\"['reggae', 'roots reggae']\"],[\"['r&b en espanol']\"],[\"['classic rock', 'classic soul', 'disco', 'funk', 'funk rock', 'psychedelic soul', 'rock', 'soul']\"],[\"['classic soul', 'funk', 'memphis soul', 'soul', 'southern soul']\"],[\"['blues', 'blues rock', 'classic rock', 'electric blues', 'jazz blues', 'soul blues', 'traditional blues']\"],[\"['atl hip hop', 'contemporary r&b', 'dance pop', 'girl group', 'hip hop', 'hip pop', 'r&b', 'urban contemporary']\"],[\"['new romantic', 'new wave', 'new wave pop', 'permanent wave', 'pop rock', 'soft rock', 'synthpop']\"],[\"['chamber pop', 'folk', 'indie folk', 'indie pop', 'indie rock', 'seattle indie', 'stomp and holler']\"],[\"['classic rock', 'glam rock', 'new wave', 'permanent wave', 'protopunk', 'punk', 'rock']\"],[\"['alternative dance', 'chillwave', 'electronica', 'electropop', 'folktronica', 'indie rock', 'indietronica', 'intelligent dance music', 'new rave']\"],[\"['art pop', 'candy pop', 'dance pop', 'electropop', 'escape room', 'indie pop', 'la indie', 'metropopolis', 'neo-synthpop', 'pop']\"],[\"['bedroom pop', 'indie pop', 'pop']\"],[\"['adult standards', 'big band', 'easy listening', 'jazz trombone', 'lounge', 'swing', 'vocal jazz']\"],[\"['art rock', 'bubblegum pop', 'classic rock', 'country rock', 'folk', 'folk rock', 'mellow gold', 'merseybeat', 'psychedelic rock', 'rock', 'rock-and-roll', 'roots rock', 'soft rock']\"],[\"['doo-wop', 'rhythm and blues']\"],[\"['alternative dance', 'chillwave', 'electronica', 'electropop', 'folktronica', 'indie rock', 'indietronica', 'intelligent dance music', 'new rave']\"],[\"['celtic punk', 'celtic rock', 'folk punk', 'punk']\"],[\"['baroque pop', 'canadian indie', 'indie rock', 'modern rock', 'permanent wave', 'quebec indie', 'rock']\"],[\"['alternative dance', 'indie rock', 'modern rock', 'new rave', 'rock independant francais']\"],[\"['adult standards', 'classic soul', 'disco', 'funk', 'mellow gold', 'quiet storm', 'soft rock', 'soul', 'vocal jazz']\"],[\"['adult standards', 'cool jazz', 'jazz', 'jazz trumpet', 'lounge', 'vocal jazz']\"],[\"['album rock', 'classic rock', 'mellow gold', 'permanent wave', 'rock']\"],[\"['bebop', 'big band', 'cool jazz', 'jazz', 'jazz saxophone']\"],[\"['alternative dance', 'alternative rock', 'dance rock', 'dance-punk', 'electronic rock', 'electronica', 'indie rock', 'indietronica', 'modern rock', 'new rave', 'rock']\"],[\"['classic rock', 'folk', 'folk rock', 'melancholia', 'mellow gold', 'rock']\"],[\"['downtempo', 'electronica', 'trip hop']\"],[\"['alternative rock', 'art pop', 'dream pop', 'melancholia', 'rock', 'shoegaze', 'slowcore']\"],[\"['dance rock', 'new romantic', 'new wave', 'permanent wave', 'synthpop']\"],[\"['alternative pop', 'alternative rock', 'art rock', 'baroque pop', 'beatlesque', 'country rock', 'folk rock', 'jangle pop', 'melancholia', 'power pop', 'pub rock', 'roots rock']\"],[\"['irish rock', 'permanent wave', 'rock']\"],[\"['british soul', 'funk', 'post-disco', 'quiet storm', 'urban contemporary']\"],[\"['beatlesque', 'british invasion', 'classic rock', 'merseybeat', 'psychedelic rock', 'rock']\"],[\"['adult standards', 'bubblegum pop', 'doo-wop', 'rhythm and blues', 'rock-and-roll', 'rockabilly', 'soul']\"],[\"['afrofuturism', 'alternative r&b', 'atl hip hop', 'electropop', 'escape room', 'neo soul', 'pop', 'r&b']\"],[\"['bubblegum pop', 'classic garage rock', 'merseybeat']\"],[\"['dance pop', 'girl group', 'golden age hip hop', 'hip hop', 'hip pop', 'old school hip hop', 'pop rap', 'queens hip hop']\"],[\"['art rock', 'classic rock', 'glam rock', 'melancholia', 'mellow gold', 'new romantic', 'new wave', 'new wave pop', 'rock', 'soft rock', 'sophisti-pop']\"],[\"['gospel', 'spirituals']\"],[\"['canadian indie', 'indie rock', 'modern alternative rock', 'modern rock', 'noise pop', 'noise rock', 'vancouver indie', 'vancouver punk']\"],[\"['adult standards', 'dixieland', 'harlem renaissance', 'jazz trumpet', 'new orleans jazz', 'swing', 'vocal jazz']\"],[\"['alternative country', 'alternative rock', 'chicago indie', 'indie rock', 'pop rock', 'roots rock']\"],[\"['adult standards', 'easy listening', 'lounge', 'torch song', 'vocal jazz']\"],[\"['britpop']\"],[\"['album rock', 'art rock', 'blues rock', 'british blues', 'classic rock', 'country rock', 'electric blues', 'hard rock', 'mellow gold', 'psychedelic rock', 'rock', 'symphonic rock']\"],[\"['alternative dance', 'art pop', 'brighton indie', 'chamber psych', 'dark pop', 'dream pop', 'electronica', 'electropop', 'etherpop', 'metropopolis', 'neo-synthpop', 'new rave']\"],[\"['art rock', 'british folk', 'canterbury scene', 'experimental', 'experimental rock', 'psychedelic rock', 'zolo']\"],[\"['australian dance', 'australian pop', 'dance pop', 'pop']\"],[\"['electronica', 'indie soul', 'uk alternative pop']\"],[\"['beatlesque', 'british invasion', 'classic rock', 'merseybeat', 'psychedelic rock', 'rock']\"],[\"['alternative dance', 'electropop', 'new rave', 'olympia wa indie']\"],[\"['canadian singer-songwriter', 'classic canadian rock', 'classic rock', 'mellow gold', 'permanent wave', 'rock', 'roots rock', 'singer-songwriter']\"],[\"['art rock', 'classic rock', 'glam rock', 'permanent wave', 'rock']\"],[\"['britpop', 'pop rock']\"],[\"['australian rock', 'hard rock', 'rock']\"],[\"['adult standards', 'british invasion', 'merseybeat', 'rock-and-roll', 'rockabilly']\"],[\"['beatlesque', 'british invasion', 'classic rock', 'merseybeat', 'psychedelic rock', 'rock']\"],[\"['british invasion', 'merseybeat', 'rock-and-roll', 'surf music']\"],[\"['adult standards', 'jazz blues', 'soul', 'soul blues', 'torch song', 'vocal jazz']\"],[\"['alternative rock', 'garage rock', 'modern rock', 'permanent wave', 'rock']\"],[\"['art rock', 'classic rock', 'glam rock', 'permanent wave', 'rock']\"],[\"['folk', 'lilith', 'singer-songwriter', \\\"women's music\\\"]\"],[\"['album rock', 'art rock', 'classic rock', 'progressive rock', 'psychedelic rock', 'rock', 'symphonic rock']\"],[\"['art rock', 'classic rock', 'glam rock', 'melancholia', 'mellow gold', 'new romantic', 'new wave', 'new wave pop', 'rock', 'soft rock', 'sophisti-pop']\"],[\"['blues', 'blues rock', 'chicago blues', 'delta blues', 'electric blues', 'rock-and-roll', 'traditional blues']\"],[\"['afrofuturism', 'alternative r&b', 'dance pop', 'escape room', 'hip pop', 'indie soul', 'neo soul', 'r&b', 'urban contemporary']\"],[\"['art rock', 'melancholia', 'permanent wave', 'rock', 'singer-songwriter']\"],[\"['bluegrass', 'bluegrass gospel', 'country gospel', 'traditional country']\"],[\"['canadian singer-songwriter', 'folk', 'folk rock', 'melancholia', 'permanent wave', 'singer-songwriter']\"],[\"['blues rock', 'classic rock', 'psychedelic rock', 'rock']\"],[\"['dub', 'lovers rock', 'reggae', 'roots reggae', 'ska']\"],[\"['canadian hip hop', 'canadian pop', 'hip hop', 'rap', 'toronto rap']\"],[\"['album rock', 'beatlesque', 'classic rock', 'folk rock', 'mellow gold', 'rock', 'soft rock']\"],[\"['alternative rock', 'art rock', 'dance rock', 'madchester', 'new romantic', 'new wave', 'new wave pop', 'permanent wave', 'pop rock', 'post-punk', 'rock', 'synthpop', 'uk post-punk']\"],[\"['baroque pop', 'indie rock', 'modern rock', 'rock']\"],[\"['bronx hip hop', 'conscious hip hop', 'east coast hip hop', 'electro', 'hip hop', 'hip house', 'old school hip hop', 'rap', 'turntablism']\"],[\"['alternative dance', 'big beat', 'breakbeat', 'electronica', 'new rave', 'rave']\"],[\"['dance pop', 'disco', 'hi-nrg', 'new wave pop']\"],[\"['electro', 'filter house']\"],[\"['early synthpop', 'new romantic', 'new wave', 'new wave pop', 'synthpop', 'zolo']\"],[\"['alternative r&b', 'conscious hip hop', 'neo soul', 'new jersey rap', 'r&b', 'urban contemporary']\"],[\"['album rock', 'classic rock', 'hard rock', 'rock']\"],[\"['album rock', 'art rock', 'classic rock', 'instrumental rock', 'jazz fusion', 'jazz rock', 'progressive rock', 'psychedelic rock', 'rock', 'symphonic rock', 'zolo']\"],[\"['british invasion', 'classic rock', 'rock']\"],[\"['classic rock', 'country rock', 'folk', 'folk rock', 'rock', 'roots rock', 'singer-songwriter']\"],[\"['beatlesque', 'british invasion', 'classic rock', 'merseybeat', 'psychedelic rock', 'rock']\"],[\"['art rock', 'melancholia', 'permanent wave', 'rock', 'singer-songwriter']\"],[\"['art pop', 'candy pop', 'dance pop', 'electropop', 'metropopolis', 'pop', 'post-teen pop', 'uk pop']\"],[\"['art pop', 'dance pop', 'pop']\"],[\"['alternative hip hop', 'east coast hip hop', 'golden age hip hop', 'hardcore hip hop', 'hip hop', 'jazz rap', 'rap']\"],[\"['punk', 'rock']\"],[\"['alternative rock', 'art punk', 'art rock', 'experimental', 'madchester', 'new romantic', 'new wave', 'post-punk', 'pub rock', 'punk', 'synthpop', 'uk post-punk']\"],[\"['blues', 'blues rock', 'classic rock', 'delta blues', 'electric blues', 'memphis blues', 'soul', 'traditional blues']\"],[\"['classic rock', 'country rock', 'folk', 'folk rock', 'rock', 'roots rock', 'singer-songwriter']\"],[\"['rock-and-roll']\"],[\"['classic girl group', 'classic soul', 'motown', 'rhythm and blues', 'soul', 'southern soul']\"],[\"['dance pop', 'pop', 'r&b']\"],[\"['classic rock', 'country rock', 'folk', 'folk rock', 'rock', 'roots rock', 'singer-songwriter']\"],[\"['album rock', 'art rock', 'classic rock', 'country rock', 'folk rock', 'heartland rock', 'mellow gold', 'new wave pop', 'pop rock', 'rock', 'singer-songwriter', 'soft rock', 'yacht rock']\"],[\"['art rock', 'glam rock', 'new romantic', 'new wave', 'new wave pop', 'post-punk', 'synthpop', 'zolo']\"],[\"['classic soul', 'funk', 'memphis soul', 'soul', 'southern soul']\"],[\"['alternative rock', 'grunge', 'permanent wave', 'rock']\"],[\"['early us punk', 'glam punk', 'glam rock', 'post-punk', 'protopunk', 'pub rock', 'punk', 'punk blues']\"],[\"['classic rock', 'early us punk', 'permanent wave', 'punk', 'rock']\"],[\"['irish rock', 'permanent wave', 'rock']\"],[\"['dreamo', 'indie pop', 'indie rock', 'shoegaze', 'toronto indie']\"],[\"['grunge', 'permanent wave', 'rock']\"],[\"['modern alternative rock', 'modern rock', 'pop', 'rock']\"],[\"['art rock', 'beatlesque', 'blues rock', 'classic rock', 'cosmic american', 'country rock', 'folk', 'folk rock', 'mellow gold', 'psychedelic rock', 'rock', 'roots rock', 'soft rock']\"],[\"['alternative rock', 'art rock', 'experimental', 'new romantic', 'new wave', 'post-punk', 'punk', 'uk post-punk']\"],[\"['art rock', 'dance rock', 'new romantic', 'new wave', 'new wave pop', 'permanent wave', 'post-punk', 'rock', 'zolo']\"],[\"['space age pop']\"],[\"['classic soul', 'funk', 'indie r&b', 'motown', 'northern soul', 'quiet storm', 'soul']\"],[\"['album rock', 'art rock', 'beatlesque', 'classic rock', 'glam metal', 'glam rock', 'hard rock', 'heartland rock', 'mellow gold', 'new wave pop', 'pop rock', 'power pop', 'rock', 'soft rock']\"],[\"['bebop', 'jazz', 'jazz quartet']\"],[\"['canadian pop', 'dance pop', 'electropop', 'pop', 'post-teen pop']\"],[\"['australian psych', 'neo-psychedelic']\"],[\"['dance pop', 'pop']\"],[\"['adult standards', 'brill building pop', 'doo-wop', 'rhythm and blues', 'rock-and-roll', 'rockabilly']\"],[\"['british invasion', 'classic rock', 'rock']\"],[\"['classic soul']\"],[\"['blues', 'blues rock', 'chicago blues', 'electric blues', 'rhythm and blues', 'rock-and-roll', 'rockabilly', 'soul', 'traditional blues']\"],[\"['alternative rock', 'britpop', 'madchester', 'new wave', 'permanent wave', 'pop rock', 'rock', 'solo wave']\"],[\"['alternative r&b', 'contemporary r&b', 'dance pop', 'hip hop', 'hip pop', 'neo soul', 'r&b', 'urban contemporary']\"],[\"['glam metal', 'rock']\"],[\"['alternative rock', 'art punk', 'art rock', 'dance rock', 'experimental', 'funk rock', 'new wave', 'post-punk', 'punk', 'uk post-punk']\"],[\"['grunge', 'permanent wave', 'rock']\"],[\"['alternative rock', 'modern power pop', 'modern rock', 'permanent wave', 'rock']\"],[\"['east coast hip hop', 'hip hop', 'rap']\"],[\"['electro', 'harlem hip hop', 'hip house']\"],[\"['canadian singer-songwriter', 'classic canadian rock', 'classic rock', 'mellow gold', 'permanent wave', 'rock', 'roots rock', 'singer-songwriter']\"],[\"['classic rock', 'country rock', 'folk', 'folk rock', 'rock', 'roots rock', 'singer-songwriter']\"],[\"['beatlesque', 'britpop', 'madchester', 'permanent wave', 'pop rock', 'rock']\"],[\"['dance pop', 'urban contemporary']\"],[\"['funk', 'soul']\"],[\"['g funk', 'gangster rap', 'hip hop', 'pop rap', 'rap', 'west coast rap']\"],[\"['alternative dance', 'art pop', 'electropop', 'escape room', 'new rave']\"],[\"['alternative rock', 'britpop', 'garage rock', 'garage rock revival', 'indie rock', 'modern rock', 'rock']\"],[\"['experimental rock', 'instrumental math rock', 'math rock', 'post-rock']\"],[\"['album rock', 'art rock', 'blues rock', 'classic rock', 'country rock', 'folk', 'folk rock', 'heartland rock', 'mellow gold', 'psychedelic rock', 'rock', 'roots rock', 'soft rock']\"],[\"['album rock', 'art rock', 'blues rock', 'british invasion', 'classic rock', 'hard rock', 'mellow gold', 'psychedelic rock', 'rock']\"],[\"['alternative rock', 'art pop', 'art rock', 'dream pop', 'icelandic pop', 'icelandic post-punk', 'new wave', 'new wave pop', 'post-punk']\"],[\"['adult standards', 'big band', 'harlem renaissance', 'jazz', 'jazz piano', 'lounge', 'stride', 'swing', 'vocal jazz']\"],[\"['alternative dance', 'indie rock', 'modern rock', 'new rave', 'rock']\"],[\"['classic girl group', 'classic soul', 'disco', 'funk', 'motown', 'quiet storm', 'rock-and-roll', 'soul']\"],[\"['art rock', 'new romantic', 'new wave', 'new wave pop', 'permanent wave', 'post-punk', 'synthpop']\"],[\"['adult standards', 'nashville sound']\"],[\"['contemporary r&b', 'dance pop', 'hip pop', 'neo soul', 'r&b', 'urban contemporary']\"],[\"['conscious hip hop', 'east coast hip hop', 'gangster rap', 'golden age hip hop', 'hardcore hip hop', 'hip hop', 'old school hip hop', 'political hip hop', 'rap', 'rap rock']\"],[\"['classic rock', 'permanent wave', 'punk', 'rock']\"],[\"['conscious hip hop', 'east coast hip hop', 'gangster rap', 'golden age hip hop', 'hardcore hip hop', 'hip hop', 'old school hip hop', 'political hip hop', 'rap', 'rap rock']\"],[\"['album rock', 'beatlesque', 'classic rock', 'mellow gold', 'rock']\"],[\"['alternative rock', 'art rock', 'indie rock', 'modern rock', 'noise pop', 'okc indie', 'rock']\"],[\"['beatlesque', 'british invasion', 'classic rock', 'merseybeat', 'psychedelic rock', 'rock']\"],[\"['bassline', 'grime', 'house', 'instrumental grime', 'pop rap']\"],[\"['permanent wave', 'pop']\"],[\"['british invasion', 'classic rock', 'rock']\"],[\"['classic soul', 'funk', 'memphis soul', 'motown', 'soul']\"],[\"['album rock', 'classic rock', 'country rock', 'detroit rock', 'folk rock', 'hard rock', 'heartland rock', 'mellow gold', 'rock', 'soft rock']\"],[\"['pub rock', 'punk']\"],[\"['album rock', 'birmingham metal', 'classic rock', 'hard rock', 'metal', 'rock', 'stoner rock', 'uk doom metal']\"],[\"['bubblegum pop', 'classic garage rock', 'rock-and-roll', 'surf music']\"],[\"['atl hip hop', 'contemporary r&b', 'dance pop', 'r&b', 'south carolina hip hop', 'urban contemporary']\"],[\"['album rock', 'classic rock', 'folk rock', 'heartland rock', 'mellow gold', 'pop rock', 'rock', 'soft rock']\"],[\"['album rock', 'art rock', 'classic rock', 'progressive rock', 'psychedelic rock', 'rock', 'symphonic rock']\"],[\"['acid rock', 'album rock', 'blues rock', 'classic rock', 'hard rock', 'proto-metal', 'psychedelic rock', 'rock']\"],[\"['art rock', 'british folk', 'folk', 'folk rock', 'melancholia', 'rock', 'singer-songwriter']\"],[\"['alternative rock', 'art rock', 'melancholia', 'oxford indie', 'permanent wave', 'rock']\"],[\"['classic uk pop', 'country rock', 'folk', 'folk rock']\"],[\"['alternative rock', 'anti-folk', 'art rock', 'dream pop', 'indie rock', 'lo-fi', 'modern rock', 'pop rock', 'rock']\"],[\"['alternative rock', 'art punk', 'art rock', 'beatlesque', 'new romantic', 'new wave', 'new wave pop', 'post-punk', 'power pop', 'pub rock', 'zolo']\"],[\"['dance pop', 'new wave pop']\"],[\"['baroque pop', 'classic rock', 'psychedelic rock', 'rock', 'sunshine pop']\"],[\"['classic rock', 'folk', 'folk rock', 'melancholia', 'mellow gold', 'rock']\"],[\"['baroque pop', 'classic rock', 'psychedelic rock', 'rock', 'sunshine pop']\"],[\"['dub', 'lovers rock', 'reggae', 'roots reggae']\"],[\"['conscious hip hop', 'funk', 'jazz funk', 'political hip hop', 'slam poetry', 'soul']\"],[\"['pop', 'r&b', 'soul']\"],[\"['acoustic blues', 'blues', 'delta blues', 'pre-war blues', 'traditional blues']\"],[\"['african-american classical', 'big band', 'harlem renaissance', 'jazz', 'jazz piano', 'swing']\"],[\"['album rock', 'classic rock', 'new wave pop', 'power pop']\"],[\"['folk rock', 'sunshine pop']\"],[\"['art rock', 'folk', 'folk rock', 'mellow gold', 'new wave pop', 'permanent wave', 'power pop', 'pub rock', 'rock', 'roots rock', 'singer-songwriter']\"],[\"['electronica', 'new wave pop', 'pop rock', 'sophisti-pop', 'trip hop']\"],[\"['classic soul', 'funk', 'motown', 'quiet storm', 'soul', 'southern soul']\"],[\"['classic rock', 'heartland rock', 'mellow gold', 'permanent wave', 'rock', 'singer-songwriter']\"],[\"['album rock', 'classic rock', 'country rock', 'folk rock', 'heartland rock', 'mellow gold', 'pop rock', 'rock', 'singer-songwriter', 'soft rock']\"],[\"['canadian singer-songwriter', 'folk', 'folk rock', 'singer-songwriter']\"],[\"['adult standards', 'bubblegum pop', 'folk rock', 'mellow gold', 'merseybeat', 'rock-and-roll']\"],[\"['hip hop', 'rap']\"],[\"['adult standards', 'harlem renaissance', 'jazz', 'jazz blues', 'lounge', 'torch song', 'vocal jazz']\"],[\"['baroque pop', 'bubblegum pop', 'classic garage rock', 'country rock', 'folk rock', 'freakbeat', 'psychedelic rock']\"],[\"['art rock', 'permanent wave']\"],[\"['alternative rock', 'art rock', 'melancholia', 'oxford indie', 'permanent wave', 'rock']\"],[\"['canadian contemporary r&b', 'canadian pop', 'pop']\"],[\"['early us punk', 'hardcore punk', 'punk', 'skate punk']\"],[\"['album rock', 'art rock', 'classic rock', 'mellow gold', 'new wave', 'new wave pop', 'permanent wave', 'rock', 'soft rock', 'symphonic rock']\"],[\"['dance pop']\"],[\"['glam rock', 'mellow gold', 'piano rock']\"],[\"['dance rock', 'new romantic', 'new wave', 'no wave', 'post-punk', 'synthpop']\"],[\"['hip hop', 'new orleans rap', 'pop rap', 'rap', 'trap']\"],[\"['classic rock', 'country rock', 'folk', 'folk rock', 'rock', 'roots rock', 'singer-songwriter']\"],[\"['boy band', 'contemporary r&b', 'dance pop', 'hip hop', 'hip pop', 'neo soul', 'new jack swing', 'pop rap', 'quiet storm', 'r&b', 'urban contemporary']\"],[\"['alternative dance', 'dance rock', 'dance-punk', 'electroclash', 'electronica', 'modern rock', 'new rave', 'sacramento indie']\"],[\"['art rock', 'mellow gold', 'new wave', 'new wave pop', 'power pop', 'pub rock', 'rock', 'roots rock']\"],[\"['classic rock', 'folk', 'folk rock', 'melancholia', 'mellow gold', 'rock']\"],[\"['hard rock', 'metal', 'old school thrash', 'rock', 'thrash metal']\"],[\"['chicago rap', 'rap']\"],[\"['art pop', 'deconstructed club', 'electropop', 'escape room', 'hyperpop', 'proto-hyperpop', 'transpop']\"],[\"['bubblegum pop', 'classic garage rock', 'freakbeat', 'protopunk', 'psychedelic rock']\"],[\"['east coast hip hop', 'gangster rap', 'hip hop', 'pop rap', 'queens hip hop', 'rap']\"],[\"['disco', 'funk', 'post-disco', 'quiet storm', 'soul', 'synth funk']\"],[\"['alternative rock', 'funk metal', 'funk rock', 'permanent wave']\"],[\"['glam rock', 'mellow gold', 'piano rock']\"],[\"['classic rock', 'country rock', 'folk', 'folk rock', 'rock', 'roots rock', 'singer-songwriter']\"],[\"['rock-and-roll', 'rockabilly']\"],[\"['art rock', 'classic rock', 'glam rock', 'permanent wave', 'rock']\"],[\"['dance pop', 'pop']\"],[\"['irish rock', 'permanent wave', 'rock']\"],[\"['pop', 'r&b', 'soul']\"],[\"['album rock', 'blues rock', 'classic rock', 'country rock', 'hard rock', 'rock']\"],[\"['new wave', 'permanent wave', 'rock', 'uk post-punk']\"],[\"['atl hip hop', 'rap', 'southern hip hop', 'trap']\"],[\"['adult standards', 'rock-and-roll', 'soul']\"],[\"['new wave', 'permanent wave', 'rock', 'uk post-punk']\"],[\"['dance pop', 'indietronica', 'new rave']\"],[\"['alternative rock', 'dream pop', 'noise pop', 'rock', 'shoegaze']\"],[\"['art pop', 'experimental pop', 'experimental vocal', 'icelandic experimental', 'icelandic pop', 'icelandic singer-songwriter', 'metropopolis', 'permanent wave']\"],[\"['canadian singer-songwriter', 'classic canadian rock', 'classic rock', 'mellow gold', 'permanent wave', 'rock', 'roots rock', 'singer-songwriter']\"],[\"['art rock', 'baroque pop', 'british invasion', 'bubblegum pop', 'classic rock', 'folk rock', 'psychedelic rock', 'rock']\"],[\"['art pop', 'brooklyn indie', 'experimental pop', 'indie pop', 'indie rock']\"],[\"['reggae', 'rocksteady', 'ska']\"],[\"['classic rock', 'heartland rock', 'mellow gold', 'permanent wave', 'rock', 'singer-songwriter']\"],[\"['detroit hip hop', 'hip hop', 'rap']\"],[\"['baroque pop', 'classic rock', 'psychedelic rock', 'rock', 'sunshine pop']\"],[\"['bubblegum pop', 'classic garage rock', 'classic rock', 'country rock', 'folk rock', 'mellow gold', 'psychedelic rock', 'rock', 'rock-and-roll', 'soft rock']\"],[\"['beatlesque', 'british invasion', 'classic rock', 'merseybeat', 'psychedelic rock', 'rock']\"],[\"['classic rock', 'country rock', 'folk', 'folk rock', 'rock', 'roots rock', 'singer-songwriter']\"],[\"['alternative rock', 'modern power pop', 'modern rock', 'permanent wave', 'rock']\"],[\"['british invasion', 'folk rock', 'merseybeat', 'rock-and-roll']\"],[\"['permanent wave', 'punk']\"],[\"['canadian singer-songwriter', 'classic canadian rock', 'classic rock', 'mellow gold', 'permanent wave', 'rock', 'roots rock', 'singer-songwriter']\"],[\"['art rock', 'classic rock', 'classic uk pop', 'country rock', 'folk', 'folk rock', 'mellow gold', 'rock', 'roots rock', 'singer-songwriter', 'soft rock']\"],[\"['candy pop', 'new wave', 'new wave pop', 'permanent wave', 'power pop', 'rock']\"],[\"['adult standards', 'classic rock', 'country rock', 'folk', 'folk rock', 'mellow gold', 'singer-songwriter', 'soft rock']\"],[\"['alternative hip hop']\"],[\"['alternative rock', 'dark wave', 'gothic rock', 'new wave', 'post-punk']\"],[\"['beatlesque', 'britpop', 'madchester', 'permanent wave', 'pop rock', 'rock']\"],[\"['east coast hip hop', 'gangster rap', 'hardcore hip hop', 'hip hop', 'rap']\"],[\"['bebop', 'free jazz', 'jazz', 'jazz saxophone']\"],[\"['grunge', 'permanent wave', 'rock']\"],[\"['disco', 'quiet storm']\"],[\"['dance pop', 'electropop', 'hip pop', 'neo soul', 'r&b', 'urban contemporary']\"],[\"['modern rock', 'rock']\"],[\"['conscious hip hop', 'dirty south rap', 'g funk', 'gangster rap', 'golden age hip hop', 'hardcore hip hop', 'hip hop', 'old school hip hop', 'rap', 'southern hip hop']\"],[\"['adult standards', 'bubblegum pop', 'mellow gold', 'rock-and-roll', 'rockabilly']\"],[\"['blues', 'blues rock', 'chicago blues', 'electric blues', 'jazz blues', 'texas blues', 'traditional blues']\"],[\"['permanent wave', 'punk']\"],[\"['classic rock', 'permanent wave', 'punk', 'rock']\"],[\"['alternative rock', 'anti-folk', 'art rock', 'dream pop', 'indie rock', 'lo-fi', 'modern rock', 'pop rock', 'rock']\"],[\"['classic soul', 'disco', 'funk', 'philly soul', 'quiet storm', 'soul', 'southern soul', 'urban contemporary']\"],[\"['brooklyn indie', 'indie pop']\"],[\"['album rock', 'art rock', 'classic rock', 'mellow gold', 'new wave', 'new wave pop', 'permanent wave', 'rock', 'soft rock', 'symphonic rock']\"],[\"['australian rock', 'mellow gold', 'permanent wave', 'pop rock', 'rock', 'soft rock']\"],[\"['canadian indie', 'canadian pop', 'chamber pop', 'indie pop']\"],[\"['dance pop', 'hip pop', 'pop', 'queens hip hop', 'rap']\"],[\"['classic rock', 'glam rock', 'rock']\"],[\"['pop']\"],[\"['motown']\"],[\"['classic rock', 'mellow gold', 'piano rock', 'rock', 'singer-songwriter', 'soft rock']\"],[\"['east coast hip hop', 'golden age hip hop', 'hardcore hip hop', 'hip hop', 'old school hip hop', 'queens hip hop', 'rap']\"],[\"['rock-and-roll', 'rockabilly', 'surf music']\"],[\"['funk', 'p funk', 'soul']\"],[\"['pop rock']\"],[\"['atl hip hop', 'dance pop', 'dirty south rap', 'gangster rap', 'hip hop', 'pop rap', 'rap', 'southern hip hop', 'trap']\"],[\"['alternative rock', 'dream pop', 'noise pop', 'rock', 'shoegaze']\"],[\"['alternative rock', 'dream pop', 'noise pop', 'rock', 'shoegaze']\"],[\"['new romantic', 'new wave', 'new wave pop', 'permanent wave', 'rock', 'sophisti-pop', 'synthpop']\"],[\"['alternative rock', 'grunge', 'punk', 'rock']\"],[\"['country', 'country rock', 'honky tonk']\"],[\"['beatlesque', 'british invasion', 'classic rock', 'merseybeat', 'psychedelic rock', 'rock']\"],[\"['british folk', 'classic uk pop', 'country rock', 'folk', 'folk rock', 'psychedelic rock', 'roots rock']\"],[\"['harlem renaissance']\"],[\"['classic girl group', 'disco', 'funk', 'motown', 'quiet storm', 'soul']\"],[\"['adult standards', 'doo-wop', 'lounge', 'rock-and-roll', 'rockabilly']\"],[\"['classic uk pop', 'merseybeat', 'rock-and-roll']\"],[\"['classic soul', 'funk', 'indie r&b', 'motown', 'northern soul', 'quiet storm', 'soul']\"],[\"['alternative rock', 'art rock', 'madchester', 'new wave', 'post-punk', 'rock', 'uk post-punk']\"],[\"['classic rock', 'country rock', 'folk', 'folk rock', 'rock', 'roots rock', 'singer-songwriter']\"],[\"['album rock', 'classic rock', 'hard rock', 'rock']\"],[\"['classic rock', 'country rock', 'folk', 'folk rock', 'rock', 'roots rock', 'singer-songwriter']\"],[\"['dub', 'reggae', 'roots reggae', 'ska']\"],[\"['dark pop', 'electronica', 'laboratorio', 'trip hop']\"],[\"['blues', 'blues rock', 'chicago blues', 'classic rock', 'electric blues', 'soul', 'traditional blues']\"],[\"['dirty south rap', 'gangster rap', 'hip hop', 'houston rap', 'rap', 'southern hip hop', 'trap']\"],[\"['electronica', 'future garage', 'new rave']\"],[\"['disney', 'hollywood', 'movie tunes', 'singer-songwriter']\"],[\"['acid rock', 'album rock', 'classic rock', 'psychedelic rock', 'rock']\"],[\"['art rock', 'classic rock', 'glam rock', 'permanent wave', 'rock']\"],[\"['indie rock', 'philly indie']\"],[\"['adult standards', 'easy listening', 'lounge']\"],[\"['alternative rock', 'blues rock', 'garage rock', 'modern blues rock', 'modern rock', 'punk blues', 'rock', 'roots rock']\"],[\"['adult standards', 'dixieland', 'harlem renaissance', 'jazz', 'jazz piano', 'lounge', 'stride', 'swing', 'tin pan alley', 'vocal jazz']\"],[\"['beatlesque', 'britpop', 'madchester', 'permanent wave', 'pop rock', 'rock']\"],[\"['classic soul', 'motown', 'soul']\"],[\"['alternative dance', 'art pop', 'dance rock', 'electronica', 'electropop', 'indie rock', 'indietronica', 'modern rock', 'neo-synthpop', 'new rave']\"],[\"['album rock', 'beatlesque', 'classic rock', 'folk rock', 'mellow gold', 'rock', 'soft rock']\"],[\"['permanent wave', 'pop']\"],[\"['big beat']\"],[\"['new wave pop', 'urban contemporary']\"],[\"['country', 'country rock', 'nashville sound']\"],[\"['classic soul', 'funk', 'indie r&b', 'motown', 'northern soul', 'quiet storm', 'soul']\"],[\"['jazz blues', 'rhythm and blues', 'swing']\"],[\"['alternative rock', 'art rock', 'classic rock', 'folk rock', 'melancholia', 'permanent wave', 'protopunk', 'psychedelic rock', 'rock']\"],[\"['rock-and-roll', 'rockabilly', 'soul']\"],[\"['adult standards', 'classic soul', 'jazz blues', 'piano blues', 'soul', 'soul blues', 'vocal jazz']\"],[\"['canadian singer-songwriter', 'folk', 'folk rock', 'singer-songwriter']\"],[\"['classic rock', 'heartland rock', 'mellow gold', 'permanent wave', 'rock', 'singer-songwriter']\"],[\"['canadian singer-songwriter', 'folk', 'folk rock', 'melancholia', 'permanent wave', 'singer-songwriter']\"],[\"['classic rock', 'cosmic american', 'country rock', 'double drumming', 'jam band', 'psychedelic rock', 'rock']\"],[\"['classic rock', 'permanent wave', 'punk', 'rock']\"],[\"['rap', 'slap house']\"],[\"['art rock', 'new romantic', 'new wave', 'new wave pop', 'permanent wave', 'post-punk', 'synthpop']\"],[\"['east coast hip hop', 'hip hop', 'rap']\"],[\"['classic rock', 'glam rock', 'rock']\"],[\"['classic soul', 'funk', 'memphis soul', 'soul', 'southern soul']\"],[\"['g funk', 'gangster rap', 'hip hop', 'pop rap', 'rap', 'west coast rap']\"],[\"['alternative rock', 'art punk', 'art rock', 'dance rock', 'new romantic', 'new wave', 'post-punk', 'punk', 'rock', 'synth punk', 'synthpop', 'zolo']\"],[\"['acoustic blues', 'blues', 'delta blues', 'pre-war blues', 'traditional blues']\"],[\"['glam metal', 'hard rock', 'rock']\"],[\"['album rock', 'art rock', 'classic rock', 'progressive rock', 'psychedelic rock', 'rock', 'symphonic rock']\"],[\"['british invasion', 'classic rock', 'rock']\"],[\"['dance pop', 'pop', 'rap']\"],[\"['alternative dance', 'alternative rock', 'art pop', 'chamber pop', 'chamber psych', 'chillwave', 'collage pop', 'dream pop', 'electronica', 'experimental pop', 'indie rock', 'neo-psychedelic', 'new rave', 'noise pop']\"],[\"['bossa nova', 'brazilian classical', 'brazilian jazz', 'latin classical', 'mpb', 'violao']\"],[\"['adult standards', 'big band', 'jazz', 'jazz clarinet', 'lounge', 'stride', 'swing', 'vintage jazz', 'vocal jazz']\"],[\"['electronica', 'indie soul', 'uk alternative pop']\"],[\"['acid house', 'detroit techno', 'techno']\"],[\"['british invasion', 'classic rock', 'rock']\"],[\"['alternative rock', 'britpop', 'madchester', 'modern rock', 'permanent wave', 'pop rock', 'rock']\"],[\"['alternative rock', 'art pop', 'art rock', 'dream pop', 'indie rock', 'melancholia', 'permanent wave', 'piano rock', 'rock', 'singer-songwriter']\"],[\"['britpop', 'pop rock', 'rock']\"],[\"['disco', 'europop', 'mellow gold', 'new romantic', 'new wave', 'new wave pop', 'soft rock', 'synthpop']\"],[\"['conscious hip hop', 'g funk', 'gangster rap', 'hip hop', 'rap', 'west coast rap']\"],[\"['beatlesque', 'british invasion', 'classic rock', 'merseybeat', 'psychedelic rock', 'rock']\"],[\"['album rock', 'art rock', 'blues rock', 'classic rock', 'flute rock', 'folk rock', 'hard rock', 'progressive rock', 'psychedelic rock', 'rock', 'symphonic rock']\"],[\"['album rock', 'classic rock', 'hard rock', 'rock']\"],[\"['atl hip hop', 'hip hop', 'rap']\"],[\"['edm', 'house', 'pop', 'uk dance']\"],[\"['big beat', 'britpop', 'dance rock', 'madchester', 'new wave']\"],[\"['ambient pop', 'downtempo', 'electronica', 'trip hop']\"],[\"['art rock', 'baroque pop', 'british invasion', 'bubblegum pop', 'classic rock', 'folk rock', 'psychedelic rock', 'rock']\"],[\"['classic soul', 'disco', 'funk', 'philly soul', 'quiet storm', 'soul', 'southern soul']\"],[\"['alternative metal', 'alternative rock', 'cyberpunk', 'electronic rock', 'industrial', 'industrial metal', 'industrial rock', 'nu metal', 'rock']\"],[\"[]\"],[\"['rock-and-roll', 'rockabilly']\"],[\"['adult standards', 'brill building pop', 'doo-wop', 'rhythm and blues', 'rock-and-roll', 'rockabilly']\"],[\"['adult standards', 'mellow gold', 'soft rock']\"],[\"['alternative rock', 'indie rock', 'melancholia', 'pop rock', 'rock', 'singer-songwriter']\"],[\"['blues', 'blues rock', 'chicago blues', 'classic rock', 'electric blues', 'soul', 'traditional blues']\"],[\"['adult standards', 'classic soul', 'rock-and-roll', 'soul']\"],[\"['east coast hip hop', 'gangster rap', 'hardcore hip hop', 'hip hop', 'rap']\"],[\"['dance pop']\"],[\"['classic rock', 'country rock', 'rock', 'southern rock', 'swamp rock']\"],[\"['alternative rock', 'britpop', 'dance rock', 'madchester', 'modern rock', 'rock']\"],[\"['anti-folk', 'folk', 'folk punk', 'folk rock', 'permanent wave', 'roots rock', 'singer-songwriter', 'uk americana']\"],[\"['art rock', 'classic rock', 'glam rock', 'permanent wave', 'rock']\"],[\"['adult standards', 'deep adult standards', 'easy listening', 'lounge', 'rock-and-roll', 'rockabilly', 'vocal jazz']\"],[\"['mod revival', 'new wave', 'pub rock', 'punk', 'rock', 'ska']\"],[\"['album rock', 'birmingham metal', 'classic rock', 'hard rock', 'metal', 'rock', 'stoner rock', 'uk doom metal']\"],[\"['album rock', 'classic rock', 'hard rock', 'mellow gold', 'rock', 'soft rock']\"],[\"['classic soul', 'jazz blues', 'memphis soul', 'soul', 'southern soul']\"],[\"['adult standards', 'bebop', 'big band', 'jazz', 'lounge', 'stride', 'swing', 'vocal jazz']\"],[\"['glam rock', 'mellow gold', 'piano rock']\"],[\"['bronx hip hop', 'electro', 'old school hip hop']\"],[\"['classic rock', 'heartland rock', 'mellow gold', 'permanent wave', 'rock', 'singer-songwriter']\"],[\"['alternative dance', 'alternative rock', 'brooklyn indie', 'indie rock', 'indietronica', 'modern rock', 'new rave', 'rock']\"],[\"['east coast hip hop', 'gangster rap', 'hardcore hip hop', 'hip hop', 'hip pop', 'new jersey rap', 'pop rap', 'rap']\"],[\"['adult standards', 'rock-and-roll', 'rockabilly']\"],[\"['alternative dance', 'alternative rock', 'dance-punk', 'garage rock', 'indie rock', 'modern rock', 'new rave', 'rock']\"],[\"['classic soul', 'rhythm and blues', 'rock-and-roll', 'soul', 'southern soul']\"],[\"['art rock', 'permanent wave']\"],[\"['classic rock', 'country rock', 'folk', 'folk rock', 'rock', 'roots rock', 'singer-songwriter']\"],[\"['alternative dance', 'dance-punk', 'indie rock', 'modern rock', 'new rave', 'rock']\"],[\"['baroque pop', 'classic rock', 'psychedelic rock', 'rock', 'sunshine pop']\"],[\"['motown', 'northern soul', 'soul']\"],[\"['dance pop', 'disco', 'philly soul', 'post-disco', 'quiet storm', 'soul']\"],[\"['dance pop', 'europop', 'girl group']\"],[\"['adult standards', 'motown', 'soul']\"],[\"['british invasion', 'classic rock', 'rock']\"],[\"['candy pop', 'new wave', 'new wave pop', 'permanent wave', 'power pop', 'rock']\"],[\"['east coast hip hop', 'electro', 'harlem hip hop', 'hip hop', 'hip house', 'old school hip hop', 'rap']\"],[\"['baroque pop', 'indie rock', 'modern rock', 'rock']\"],[\"['beatlesque', 'british invasion', 'classic rock', 'merseybeat', 'psychedelic rock', 'rock']\"],[\"['disco', 'hi-nrg', 'post-disco']\"],[\"['permanent wave', 'punk']\"],[\"['lilith', 'new wave pop', 'permanent wave', 'pop rock', 'singer-songwriter']\"],[\"['art rock', 'british folk', 'canterbury scene', 'experimental', 'experimental rock', 'psychedelic rock', 'zolo']\"],[\"['bubblegum pop', 'classic girl group', 'rock-and-roll']\"],[\"['canadian singer-songwriter', 'folk', 'folk rock', 'singer-songwriter']\"],[\"['album rock', 'art rock', 'blues rock', 'classic rock', 'folk rock', 'hard rock', 'psychedelic rock', 'rock', 'roots rock', 'supergroup', 'symphonic rock']\"],[\"['disco', 'new wave pop', 'soft rock']\"],[\"['europop', 'swedish pop']\"],[\"['classic girl group', 'disco', 'funk', 'motown', 'quiet storm', 'soul']\"],[\"['album rock', 'art rock', 'blues rock', 'british blues', 'british invasion', 'classic rock', 'country rock', 'folk rock', 'freakbeat', 'hard rock', 'psychedelic rock', 'rock', 'roots rock', 'symphonic rock']\"],[\"['album rock', 'art rock', 'blues rock', 'classic rock', 'country rock', 'folk rock', 'glam rock', 'hard rock', 'mellow gold', 'protopunk', 'psychedelic rock', 'rock', 'roots rock', 'soft rock']\"],[\"['classic soul', 'funk', 'memphis soul', 'quiet storm', 'soul', 'soul blues', 'southern soul']\"],[\"['beatlesque', 'british invasion', 'classic rock', 'merseybeat', 'psychedelic rock', 'rock']\"],[\"['acoustic blues', 'blues', 'country blues', 'gospel blues', 'texas blues', 'traditional blues']\"],[\"['album rock', 'classic rock', 'mellow gold', 'rock', 'soft rock', 'yacht rock']\"],[\"['beatlesque', 'british invasion', 'classic rock', 'merseybeat', 'psychedelic rock', 'rock']\"],[\"['adult standards', 'doo-wop', 'lounge', 'rock-and-roll', 'rockabilly']\"],[\"['album rock', 'glam rock', 'hard rock', 'metal', 'rock']\"],[\"['french jazz', 'gypsy jazz', 'jazz', 'jazz guitar', 'swing']\"],[\"['contemporary post-bop', 'funk', 'instrumental funk', 'jazz', 'jazz funk', 'jazz fusion', 'jazz piano', 'uk contemporary jazz']\"],[\"['alternative rock', 'indie pop', 'indie rock', 'rock']\"],[\"['album rock', 'art rock', 'blues rock', 'british invasion', 'classic rock', 'hard rock', 'mellow gold', 'psychedelic rock', 'rock']\"],[\"['adult standards', 'bubblegum pop', 'lounge', 'rock-and-roll', 'rockabilly', 'soul']\"],[\"['art punk', 'art rock', 'dance rock', 'funk rock', 'new wave', 'permanent wave', 'post-punk', 'rock', 'zolo']\"],[\"['bubblegum pop', 'classic rock', 'country rock', 'folk rock', 'mellow gold', 'merseybeat', 'psychedelic rock']\"],[\"['funk', 'soul']\"],[\"['adult standards', 'motown', 'soul']\"],[\"['alternative rock', 'art rock', 'dream pop', 'gothic rock', 'new romantic', 'new wave', 'new wave pop', 'post-punk', 'uk post-punk']\"],[\"['album rock', 'art rock', 'blues rock', 'classic rock', 'folk rock', 'glam rock', 'protopunk', 'psychedelic rock', 'rock']\"],[\"['dance pop', 'girl group', 'hip pop', 'pop', 'r&b', 'urban contemporary']\"],[\"['alternative rock', 'art rock', 'melancholia', 'oxford indie', 'permanent wave', 'rock']\"],[\"['acoustic blues', 'appalachian folk', 'blues', 'country blues', 'delta blues', 'folk', 'texas blues', 'traditional blues', 'traditional folk']\"],[\"['atmospheric dnb', 'big beat', 'drum and bass', 'drumfunk', 'hardcore techno', 'jungle']\"],[\"['canadian singer-songwriter', 'classic canadian rock', 'classic rock', 'mellow gold', 'permanent wave', 'rock', 'roots rock', 'singer-songwriter']\"],[\"['east coast hip hop', 'gangster rap', 'hip hop', 'new jersey rap']\"],[\"['album rock', 'blues rock', 'classic rock', 'country rock', 'double drumming', 'folk rock', 'hard rock', 'jam band', 'mellow gold', 'rock', 'roots rock', 'soft rock', 'southern rock']\"],[\"['adult standards', 'doo-wop', 'louisiana blues', 'memphis blues', 'new orleans blues', 'rhythm and blues', 'rock-and-roll', 'rockabilly', 'soul']\"],[\"['adult standards', 'chicago soul', 'classic soul', 'funk', 'quiet storm', 'rhythm and blues', 'rock-and-roll', 'rockabilly', 'soul']\"],[\"['disco', 'funk', 'popping', 'post-disco', 'quiet storm', 'soul', 'urban contemporary']\"],[\"['alternative rock', 'boston rock', 'modern rock', 'permanent wave', 'rock']\"],[\"['gangster rap', 'hardcore hip hop', 'hip hop', 'rap', 'rap rock', 'west coast rap']\"],[\"['adult standards', 'bubblegum pop', 'lounge', 'rock-and-roll', 'rockabilly', 'soul']\"],[\"[]\"],[\"['alternative rock', 'art rock', 'dance rock', 'madchester', 'new romantic', 'new wave', 'new wave pop', 'permanent wave', 'pop rock', 'post-punk', 'rock', 'synthpop', 'uk post-punk']\"],[\"['art pop', 'dance pop', 'electropop', 'europop', 'pop', 'scandipop', 'swedish electropop', 'swedish pop']\"],[\"[]\"],[\"['album rock', 'art rock', 'beatlesque', 'classic rock', 'folk rock', 'mellow gold', 'rock', 'soft rock']\"],[\"['adult standards', 'classic soul', 'jazz blues', 'piano blues', 'soul', 'soul blues', 'vocal jazz']\"],[\"['classic rock', 'country rock', 'folk', 'folk rock', 'rock', 'roots rock', 'singer-songwriter']\"],[\"['dance pop']\"],[\"['bubblegum pop', 'classic rock', 'folk rock', 'psychedelic rock']\"],[\"['art pop', 'dance pop', 'electropop', 'europop', 'pop', 'scandipop', 'swedish electropop', 'swedish pop']\"],[\"['rock-and-roll', 'rockabilly']\"],[\"['dance pop', 'pop']\"],[\"['adult standards', 'doo-wop', 'rhythm and blues', 'rock-and-roll', 'rockabilly']\"],[\"['honky tonk', 'traditional country', 'yodeling']\"],[\"['chicago rap', 'rap']\"],[\"['adult standards', 'classic soul', 'rock-and-roll', 'soul']\"],[\"['dance pop', 'disco', 'funk', 'neo soul', 'post-disco', 'quiet storm', 'soul', 'urban contemporary']\"],[\"['album rock', 'blues rock', 'classic rock', 'country rock', 'double drumming', 'folk rock', 'hard rock', 'jam band', 'mellow gold', 'rock', 'roots rock', 'soft rock', 'southern rock']\"],[\"['album rock', 'art rock', 'classic rock', 'hard rock', 'mellow gold', 'new romantic', 'new wave', 'new wave pop', 'permanent wave', 'pop rock', 'power pop', 'rock', 'soft rock']\"],[\"['british invasion', 'classic rock', 'rock']\"],[\"['alternative hip hop', 'conscious hip hop', 'east coast hip hop', 'gangster rap', 'golden age hip hop', 'hardcore hip hop', 'hip hop', 'jazz rap', 'queens hip hop', 'rap']\"],[\"['afrofuturism', 'funk', 'funk rock', 'p funk', 'soul']\"],[\"['conscious hip hop', 'hip hop', 'rap', 'underground hip hop']\"],[\"['classic rock', 'glam rock', 'rock']\"],[\"['alternative rock', 'art rock', 'madchester', 'new wave', 'post-punk', 'rock', 'uk post-punk']\"],[\"['album rock', 'art rock', 'classic rock', 'country rock', 'folk rock', 'mellow gold', 'psychedelic rock', 'rock', 'soft rock', 'yacht rock']\"],[\"['chamber pop', 'folk', 'indie folk', 'indie pop', 'indie rock', 'seattle indie', 'stomp and holler']\"],[\"['alternative rock', 'anti-folk', 'indie rock', 'modern rock', 'permanent wave', 'rock']\"],[\"['blues rock', 'classic rock', 'mexican classic rock']\"],[\"['britpop', 'scottish new wave', 'solo wave']\"],[\"['chicago soul', 'classic soul', 'funk', 'soul']\"],[\"['classic rock', 'rock', 'rock-and-roll', 'rockabilly']\"],[\"['mellow gold']\"],[\"['punk', 'ska', 'ska revival']\"],[\"['birmingham hip hop', 'uk garage']\"],[\"['alternative dance', 'indietronica', 'modern rock', 'rock']\"],[\"['album rock', 'classic rock', 'hard rock', 'metal', 'rock']\"],[\"['dance pop']\"],[\"['alternative hip hop', 'gangster rap', 'hardcore hip hop', 'hip hop', 'rap', 'southern hip hop', 'trap', 'virginia hip hop']\"],[\"['alternative rock', 'art rock', 'classic rock', 'folk rock', 'melancholia', 'permanent wave', 'protopunk', 'psychedelic rock', 'rock']\"],[\"['alternative pop', 'alternative rock', 'anti-folk', 'indie rock', 'new wave', 'permanent wave', 'pop rock', 'post-punk', 'power pop', 'punk', 'roots rock']\"],[\"['big band', 'tin pan alley']\"],[\"['art rock', 'dance rock', 'mellow gold', 'new romantic', 'new wave', 'new wave pop', 'rock', 'scottish new wave', 'soft rock', 'synthpop']\"],[\"['beatlesque', 'british invasion', 'classic rock', 'merseybeat', 'psychedelic rock', 'rock']\"],[\"['classic country pop', 'nashville sound', 'traditional country']\"],[\"['bassline', 'grime', 'house', 'instrumental grime', 'pop rap']\"],[\"['afrobeat', 'afropop', 'makossa', 'world']\"],[\"['alternative rock', 'art rock', 'dance rock', 'madchester', 'new romantic', 'new wave', 'new wave pop', 'permanent wave', 'pop rock', 'post-punk', 'rock', 'synthpop', 'uk post-punk']\"],[\"['african-american classical', 'big band', 'harlem renaissance', 'jazz', 'jazz piano', 'swing']\"],[\"['appalachian folk', 'bluegrass', 'country gospel', 'folk', 'old-time', 'traditional country', 'traditional folk', 'vocal harmony group']\"],[\"['ambient house', 'electronica', 'intelligent dance music', 'trip hop']\"],[\"['rhythm and blues', 'rock-and-roll']\"],[\"['chicago rap', 'rap']\"],[\"['album rock', 'art rock', 'british invasion', 'classic rock', 'folk rock', 'glam rock', 'mellow gold', 'protopunk', 'psychedelic rock', 'rock']\"],[\"['acid rock', 'album rock', 'blues rock', 'classic rock', 'hard rock', 'proto-metal', 'psychedelic rock', 'rock']\"],[\"['acoustic blues', 'appalachian folk', 'blues', 'country blues', 'delta blues', 'pre-war blues', 'traditional blues', 'traditional folk']\"],[\"['art pop', 'dance rock', 'europop', 'new romantic', 'new wave', 'new wave pop', 'permanent wave', 'synthpop']\"],[\"['adult standards', 'easy listening', 'lounge']\"],[\"['dark pop', 'electronica', 'laboratorio', 'trip hop']\"],[\"['hip hop', 'melodic rap', 'mississippi hip hop', 'pop rap', 'rap', 'southern hip hop', 'trap']\"],[\"['bebop', 'big band', 'jazz', 'jazz trumpet', 'swing']\"],[\"['chicago soul', 'classic soul', 'motown', 'northern soul', 'rhythm and blues', 'soul', 'southern soul']\"],[\"['adult standards', 'classic soul', 'disco', 'funk', 'mellow gold', 'motown', 'quiet storm', 'soul']\"],[\"['baroque pop', 'classic rock', 'psychedelic rock', 'rock', 'sunshine pop']\"],[\"['indie punk', 'olympia wa indie', 'riot grrrl']\"],[\"['bakersfield sound', 'country rock']\"],[\"['art pop', 'baltimore indie', 'bubblegrunge', 'indie pop', 'indie rock']\"],[\"['classic soul', 'funk', 'memphis soul', 'motown', 'soul']\"],[\"[]\"],[\"['bluegrass gospel', 'country boogie', 'country gospel', 'yodeling']\"],[\"['adult standards', 'bubblegum pop', 'lounge', 'rock-and-roll', 'rockabilly', 'soul']\"],[\"['surf music']\"],[\"['alternative pop', 'alternative rock', 'britpop', 'candy pop']\"],[\"['disco', 'philly soul', 'post-disco', 'quiet storm']\"],[\"['harlem renaissance', 'traditional blues']\"],[\"['atl hip hop']\"],[\"['alternative dance', 'big beat', 'breakbeat', 'electronica', 'new rave', 'rave']\"],[\"['album rock', 'classic rock', 'hard rock', 'mellow gold', 'rock', 'soft rock']\"],[\"['classic rock', 'country rock', 'folk', 'folk rock', 'rock', 'roots rock', 'singer-songwriter']\"],[\"['baroque pop', 'canadian indie', 'indie rock', 'modern rock', 'permanent wave', 'quebec indie', 'rock']\"],[\"['uk alternative pop']\"],[\"['hot jazz']\"],[\"['ska', 'ska revival']\"]],\"hovertemplate\":\"x=%{x}<br>y=%{y}<br>genres=%{customdata[0]}<br>cluster=%{marker.color}<extra></extra>\",\"legendgroup\":\"\",\"marker\":{\"color\":[3,5,6,6,0,2,8,5,9,4,2,7,5,5,8,3,3,4,6,5,4,0,6,0,1,2,0,3,1,6,2,4,5,9,1,0,2,9,4,8,6,4,8,2,4,2,3,5,9,5,2,0,8,4,8,9,3,3,5,4,5,6,5,4,9,2,6,8,2,8,7,9,5,6,2,9,5,2,3,2,5,0,9,0,8,6,8,5,2,9,6,4,3,2,9,9,2,7,4,5,6,0,0,9,4,7,1,5,4,2,0,2,6,0,5,3,5,2,8,4,0,1,9,4,0,0,1,6,2,7,6,6,0,0,6,5,5,4,8,9,7,5,6,0,6,2,9,2,3,8,4,6,8,3,4,1,6,7,0,0,5,5,2,2,8,3,2,6,3,5,8,4,7,3,2,5,2,3,2,0,2,0,6,6,5,7,4,2,5,4,2,4,6,9,1,2,7,0,9,3,5,2,3,7,5,0,4,7,4,0,6,1,8,0,6,4,6,4,5,9,4,4,5,2,6,9,2,1,0,0,4,9,8,3,8,4,7,7,0,9,2,3,9,5,0,8,5,5,3,6,9,1,9,0,2,4,2,5,9,5,4,0,3,2,1,5,1,8,6,4,8,5,6,4,6,8,6,8,2,9,5,2,3,1,4,4,9,9,2,7,5,8,2,9,0,0,7,0,1,0,8,9,8,0,3,6,5,9,9,4,4,5,4,6,0,5,4,6,5,5,8,5,0,8,2,5,0,5,2,2,6,4,9,2,8,1,1,2,1,4,5,2,5,9,2,4,2,3,7,6,8,6,5,9,2,0,1,8,8,8,7,8,5,4,5,5,4,8,1,5,0,9,7,0,6,7,9,8,7,3,1,3,8,9,9,6,4,5,1,0,0,7,9,9,9,2,9,0,4,9,2,9,9,5,5,3,9,4,0,2,9,4,9,8,9,1,8,8,4,8,6,6,2,4,7,5,2,2,3,7,0,1,2,6,3,7,8,5,8,8,9,8,2,8,3,0,5,4,4,5,9,7,3,1,6,2,8,5,1,8,8,6,4,1,3,8,6,6,7,9,2,7,2,2,4,9,5,1,8,8,9,7,4,5,4,5,0,8,7,3,4,2,9,7,3,5,9,3,2,6,4,9,3,5,8,2,4,0,8,5,3,2,8,3,5,9,4,8,5,3,6,8,2,9,5,5,2,0,0,4,5,6,1,9,8,6,9,1,7,5,2,4,1,0,6,3,5,7,6,6,3,5,1,7,4,3,6,8,8,0,9,3,2,9,1,5,7,2,6,8,5,4,2,4,5,0,2,5,2,9,0,2,2,2,9,2,2,9,5,4,2,2,3,8,7,7,3,6,6,1,1,5,1,8,0,3,3,9,1,6,4,9,0,2,2,2,2,7,6,1,3,1,4,2,8,1,8,3,5,4,5,4,6,5,9,9,5,1,8,4,3,1,2,8,4,1,0,1,5,4,9,9,2,5,4,5,9,8,8,9,3,5,2,7,9,5,2,4,4,8,8,0,9,0,4,8,3,0,5,7,5,5,4,5,6,6,8,8,5,5,0,7,5,3,4,5,4,9,0,2,4,8,4,5,2,9,5,2,2,5,8,6,4,4,4,2,5,2,3,5,6,7,2,0,5,7,4,4,5,2,3,6,9,4,3,1,1,8,4,5,0,9,8,5,8,1,1,3,5,2,2,0,1,1,2,0,2,7,9,2,1,4,2,5,9,9,7,8,3,1,9,6,1,4,5,3,2,9,2,2,3,4,4,5,0,5,6,9,5,2,4,2,1,3,1,4,2,5,2,8,9,3,4,4,4,5,6,7,9,9,4,5,4,8,8,0,3,9,6,8,1,3,8,2,2,5,6,3,1,5,8,4,8,9,0,7,8,4,9,2,5,8,9,9,4,7,4,4,3,2,5,2,4,6,6,6,5,5,1,5,7,7,9,1,0,9,3,3,5,3,4,6,0,2,6,1,5,9,5,1,8,7,5,0,5,5,3,5,2,3,4,0,9,4,0,0,3,3,1,5,2,6,4,3,2,6,2,7,5,6,7,2,5,7,3,7,4,4,8,9,6,3,2,9,8,5,9,5,5,8,5,7,1,7,1,3,1,9,7,0,2,8,4,8,0,9,1,5,5,8,3,0,9,4,5,6,4,4,6,7,1,7,5,0,0,2,2,4,4,2,2,8,1,4,3,4,1,3,9,9,4,5,0,5,5,4,9,1,3,5,7,4,7,4,9,6,0,2,8,4,4,4,5,8,6,0,6,5,8,5,0,0,4,5,4,0,0,4,6,0,6,1,3,2,3,6,0,2,0,7,8,0,2,0,2,4,2,4,3,8,2,5,6,2,3,5,2,0,3,4,3,2,5,2,8,5,8,7,4,7,7,4,4,8,1,7,4,0,5,9,8,1,6,1,3,2,0,7,4,9,8,3,6,0,1,7,4,8,2,2,7,2,8,3,8,9,4,7,4],\"coloraxis\":\"coloraxis\",\"symbol\":\"circle\"},\"mode\":\"markers\",\"name\":\"\",\"showlegend\":false,\"x\":[-1.5167800188064575,-4.220883846282959,23.915008544921875,23.8011417388916,3.3811216354370117,-34.94748306274414,-18.605642318725586,5.080626010894775,2.7836971282958984,-15.237914085388184,-34.88372039794922,18.772132873535156,2.7743566036224365,1.5753225088119507,-19.600801467895508,-7.653381824493408,2.252194404602051,-15.944226264953613,20.106046676635742,7.983609199523926,-4.3345818519592285,15.119429588317871,23.845582962036133,9.920211791992188,35.444129943847656,-35.12279510498047,6.5501298904418945,6.390686988830566,36.29943084716797,13.934279441833496,-27.937227249145508,-8.128143310546875,8.291070938110352,14.924753189086914,36.37580871582031,0.6089594960212708,-27.022357940673828,7.905120372772217,-13.217458724975586,-13.294756889343262,24.9031982421875,-15.080830574035645,-17.684776306152344,-22.46718406677246,-5.781254291534424,-35.61575698852539,9.31115436553955,17.458011627197266,17.447113037109375,7.39008092880249,-25.325292587280273,10.115093231201172,-7.558614253997803,-8.876067161560059,-20.730281829833984,19.532115936279297,0.38000428676605225,-2.0950722694396973,8.15651798248291,-19.370874404907227,20.89033317565918,20.019577026367188,-2.9995038509368896,-7.3000383377075195,-18.973337173461914,-24.22412872314453,18.788387298583984,-13.16860294342041,-32.22732925415039,-11.605315208435059,26.691450119018555,12.689081192016602,5.6373724937438965,10.71531867980957,-35.274417877197266,1.7998604774475098,-2.6346166133880615,-27.541006088256836,-2.339372396469116,-21.135498046875,-2.547791004180908,4.581778049468994,6.08509635925293,4.209731578826904,-15.761228561401367,26.187299728393555,-17.97481346130371,-1.1286565065383911,-2.892998695373535,10.845602989196777,22.97462272644043,-9.219512939453125,-10.531115531921387,-30.982955932617188,17.678449630737305,28.80359649658203,-25.6053466796875,17.240047454833984,-19.25402069091797,8.707778930664062,16.85955810546875,20.076021194458008,19.327905654907227,24.288009643554688,-9.373345375061035,15.50081729888916,34.39853286743164,-0.9558770656585693,-19.13391876220703,-23.454343795776367,-4.587071895599365,-33.73060607910156,22.072046279907227,15.51577091217041,-3.867884397506714,11.677565574645996,-2.9140594005584717,-27.482698440551758,-6.237952709197998,1.7376995086669922,3.0017383098602295,35.1391487121582,2.649538516998291,-10.355151176452637,8.383563041687012,4.176844120025635,33.82766342163086,15.30942153930664,-26.604732513427734,19.567760467529297,17.80703353881836,10.516141891479492,9.00343132019043,4.026646137237549,12.433773040771484,2.974181890487671,-4.8620476722717285,-14.734265327453613,-6.429867744445801,15.10334587097168,16.258947372436523,13.750605583190918,28.079851150512695,1.3846358060836792,17.265623092651367,-24.02712059020996,17.547340393066406,-31.10950469970703,-1.672834873199463,-16.9326171875,-12.928400039672852,17.065567016601562,-16.741899490356445,-6.21532678604126,-13.828810691833496,35.84445571899414,21.021589279174805,9.822492599487305,2.5228161811828613,-5.849460601806641,-6.000643730163574,-6.063305854797363,-32.72047805786133,-28.049169540405273,-26.166601181030273,-2.4426989555358887,-24.496553421020508,23.021806716918945,-3.3565585613250732,8.42159366607666,-16.05189323425293,-13.328185081481934,18.267305374145508,0.7054803967475891,-38.369056701660156,-0.9278695583343506,-35.344810485839844,-2.9968581199645996,-26.02912712097168,-0.00903229508548975,-31.36014747619629,2.799584150314331,28.188053131103516,7.249516487121582,6.032567024230957,17.47736358642578,-16.914241790771484,-20.9984130859375,-4.771812438964844,-27.400146484375,-23.632356643676758,-17.91358757019043,10.050314903259277,23.1567325592041,30.5524959564209,-32.866268157958984,18.665874481201172,5.78659200668335,-21.779191970825195,-1.709177017211914,10.756773948669434,-37.097877502441406,9.789496421813965,9.212287902832031,-3.802558422088623,14.330077171325684,-15.798267364501953,27.70040512084961,-14.191046714782715,-1.1304930448532104,19.607213973999023,30.35660171508789,-3.8266215324401855,-0.3043025732040405,20.045209884643555,-6.6967549324035645,15.973873138427734,-7.950771808624268,9.124780654907227,10.396909713745117,-6.096680641174316,-16.101228713989258,-5.28657341003418,-31.337722778320312,9.919058799743652,26.50318145751953,-32.184871673583984,28.722110748291016,9.102081298828125,6.5425639152526855,4.65134859085083,11.878274917602539,-27.29636001586914,-6.197781562805176,-16.108884811401367,-15.146761894226074,24.81722068786621,23.429500579833984,20.737510681152344,14.197495460510254,-36.861366271972656,4.736923694610596,11.35499382019043,2.7822813987731934,7.755355358123779,-10.904720306396484,16.596403121948242,2.08577561378479,1.8306440114974976,27.711225509643555,3.627760887145996,32.41813659667969,12.627907752990723,2.3095755577087402,-33.029788970947266,-8.339787483215332,-26.05253791809082,-1.0106174945831299,7.395486354827881,4.983745098114014,-7.6609392166137695,6.837854385375977,2.384819269180298,-30.27988052368164,28.44060516357422,9.982293128967285,36.47897720336914,-23.712326049804688,13.985873222351074,-13.494571685791016,-9.044681549072266,2.5215442180633545,12.907055854797363,-14.221548080444336,9.928889274597168,-14.688494682312012,15.621040344238281,-17.164209365844727,-25.89080238342285,7.757922172546387,-3.310642957687378,-28.831893920898438,-8.599578857421875,35.286685943603516,0.047530993819236755,-4.07577657699585,24.9559326171875,4.020413875579834,-36.46537399291992,4.927164554595947,9.086856842041016,-8.1826171875,-31.46786117553711,17.02726936340332,-0.14925381541252136,2.542882204055786,17.487159729003906,2.4409193992614746,10.743188858032227,2.1433866024017334,-27.229228973388672,9.278796195983887,-11.79487419128418,15.813140869140625,9.983259201049805,22.392099380493164,0.2827303111553192,15.897814750671387,26.71601676940918,-8.17144775390625,5.06323766708374,-14.757345199584961,-28.160316467285156,19.97659683227539,11.15144157409668,1.8721776008605957,-11.653474807739258,17.574207305908203,11.195026397705078,13.222305297851562,-13.49933910369873,2.719931125640869,-0.004370708018541336,-13.729273796081543,-28.72199058532715,-0.1841776818037033,8.94010066986084,8.243928909301758,-31.144405364990234,-28.432769775390625,14.478719711303711,-6.222298622131348,-2.1600229740142822,-25.469253540039062,-26.770816802978516,35.19097137451172,20.65123176574707,-23.3489933013916,29.21841049194336,-3.5722484588623047,9.583610534667969,-34.908695220947266,1.9468127489089966,-2.3436436653137207,-35.81603240966797,-13.579093933105469,-35.321754455566406,-0.8147609829902649,23.574655532836914,19.987171173095703,-6.8478617668151855,19.189228057861328,17.550443649291992,-7.177061557769775,-33.75800704956055,1.9847321510314941,10.93421745300293,-15.488974571228027,-14.151618003845215,-18.417633056640625,5.651683330535889,-11.50770092010498,-3.058608055114746,3.219492197036743,3.8799867630004883,-4.226203441619873,-14.86960220336914,-29.37589454650879,35.74789047241211,1.041260004043579,2.0861570835113525,25.01512908935547,21.310422897338867,3.9780080318450928,11.850440979003906,19.247047424316406,5.015732765197754,-27.453691482543945,22.79582405090332,-1.181452989578247,27.619108200073242,7.873132228851318,-20.67683219909668,4.919245719909668,17.925310134887695,11.234740257263184,-9.439184188842773,-5.388848781585693,29.62430191040039,5.028134822845459,3.2514801025390625,22.882455825805664,27.46061897277832,4.765206813812256,8.491093635559082,-33.55381774902344,26.24100112915039,2.6947238445281982,-8.91629409790039,9.834684371948242,-2.551765203475952,-2.253704309463501,12.437451362609863,-4.804833889007568,1.1332569122314453,8.66822624206543,18.345252990722656,-8.845852851867676,-0.33697548508644104,-30.375818252563477,3.0175282955169678,-1.1197876930236816,27.798320770263672,-19.242095947265625,15.36062240600586,29.491413116455078,-17.640644073486328,-3.5146679878234863,-17.088848114013672,-0.7393550872802734,19.831151962280273,19.886369705200195,-23.695602416992188,-11.60677719116211,19.870948791503906,6.3171706199646,-31.50727653503418,-33.62498474121094,7.484161376953125,28.674894332885742,1.5410351753234863,35.95404052734375,-32.43973159790039,11.870329856872559,-0.6347970962524414,25.685964584350586,-12.51308536529541,-6.694077491760254,-8.332077980041504,-7.323710918426514,12.878129005432129,-15.226305961608887,-31.29107093811035,-16.051773071289062,4.3207550048828125,7.180394172668457,5.150667190551758,-26.940044403076172,-12.134965896606445,-1.6001267433166504,24.124052047729492,16.52280616760254,1.7559690475463867,36.72493362426758,15.944672584533691,-35.844688415527344,-17.71442985534668,-2.777649164199829,34.048580169677734,-23.605026245117188,-14.127528190612793,16.75335121154785,-6.266502380371094,30.322416305541992,-4.559360504150391,-26.984167098999023,18.406763076782227,23.59738540649414,28.44148063659668,15.91674518585205,-37.41341781616211,21.329973220825195,-39.4594612121582,-33.93669509887695,3.16058087348938,4.059685707092285,5.632978439331055,37.18809127807617,-26.911439895629883,-10.78296947479248,24.90702247619629,16.397436141967773,-17.132558822631836,-5.75079345703125,-15.968666076660156,8.252918243408203,5.016425609588623,-10.714139938354492,19.91925621032715,-5.09767484664917,-4.933161735534668,-18.289403915405273,2.3215219974517822,27.285017013549805,-3.6950130462646484,4.674483776092529,2.7839772701263428,2.027520179748535,-27.72316551208496,20.363012313842773,2.6888532638549805,13.702193260192871,-4.610541820526123,6.515913963317871,-2.811206102371216,-34.44059371948242,-18.766204833984375,12.580809593200684,-24.120738983154297,10.74841022491455,-2.2452518939971924,-29.315521240234375,-25.553874969482422,7.87660551071167,9.219404220581055,23.284666061401367,3.286749839782715,-11.225656509399414,1.9484202861785889,0.05061236768960953,22.018667221069336,-13.202099800109863,-19.508522033691406,13.147053718566895,3.1961936950683594,0.30317819118499756,-34.61167526245117,1.0814443826675415,3.2185962200164795,-3.3041000366210938,0.8110524415969849,26.927003860473633,35.054710388183594,4.267877578735352,-12.14232349395752,16.898574829101562,16.326526641845703,32.641597747802734,16.539560317993164,9.156888961791992,-31.900524139404297,-7.1059160232543945,32.50768280029297,7.839632987976074,11.451168060302734,-0.14696937799453735,6.163133144378662,26.280427932739258,18.835250854492188,10.603142738342285,-0.10797151178121567,-15.80605411529541,33.80630874633789,8.968302726745605,-29.47183609008789,9.529800415039062,22.950057983398438,-17.530302047729492,-21.986980438232422,11.392416000366211,5.8829827308654785,8.370124816894531,-34.587459564208984,26.71719741821289,36.064334869384766,14.821615219116211,22.89992332458496,-29.168922424316406,18.3121395111084,-29.418529510498047,-2.3184423446655273,-2.0889670848846436,-35.29436492919922,-14.099265098571777,-2.639647960662842,0.15865612030029297,-23.996973037719727,1.0119621753692627,-25.8714656829834,12.577066421508789,7.399355888366699,-3.8225417137145996,-37.92137908935547,-37.93903350830078,11.275261878967285,-37.840389251708984,-22.007892608642578,13.067281723022461,-3.423022747039795,0.4651859700679779,-26.348115921020508,-35.91307067871094,4.380183219909668,-18.001117706298828,25.146074295043945,28.444625854492188,3.1596102714538574,14.068093299865723,10.409035682678223,28.921894073486328,10.357535362243652,-6.506048679351807,28.440074920654297,-28.952550888061523,16.840970993041992,-9.755449295043945,6.962104797363281,9.215418815612793,29.231534957885742,15.764395713806152,-12.771485328674316,9.069174766540527,4.058106899261475,-24.488285064697266,-22.471092224121094,-30.49068260192871,-32.89632797241211,25.243789672851562,20.908903121948242,9.340879440307617,1.9137438535690308,33.21402359008789,-17.214664459228516,-37.23185348510742,-24.388999938964844,31.35556411743164,-15.216132164001465,7.130535125732422,-4.836997985839844,-14.00660514831543,6.588991165161133,-1.6097137928009033,17.951385498046875,-5.3674468994140625,-0.94061279296875,28.404911041259766,-1.2048929929733276,36.95193099975586,-13.57426929473877,0.4337102174758911,-8.652716636657715,37.495357513427734,-25.33637046813965,-16.770278930664062,5.846427917480469,36.98146057128906,12.740778923034668,36.07461929321289,18.437990188598633,-3.53231143951416,7.88339900970459,27.179256439208984,-22.878454208374023,-6.348364353179932,-29.94101905822754,-1.6187876462936401,11.726075172424316,-24.66810417175293,-26.624879837036133,14.18309497833252,5.8832688331604,7.349026679992676,-26.703731536865234,17.15772819519043,11.812846183776855,5.810113906860352,-36.83152389526367,-0.7354912161827087,-29.740798950195312,-11.751285552978516,-12.091333389282227,6.840175151824951,26.17034912109375,0.1350889354944229,4.209582328796387,-12.425002098083496,4.085698127746582,7.902804374694824,18.41377830505371,28.225656509399414,8.224973678588867,-0.8988778591156006,-14.98920726776123,4.26485013961792,18.594335556030273,14.701555252075195,-15.218067169189453,-17.956443786621094,6.646032810211182,9.357050895690918,6.287654876708984,17.479454040527344,-6.999636173248291,7.855225563049316,-12.070418357849121,9.631028175354004,-9.055685043334961,9.697381019592285,15.005425453186035,-29.953115463256836,-6.880589962005615,-25.0101318359375,-14.895906448364258,-5.372379302978516,-30.041223526000977,10.0173978805542,-5.816267013549805,-30.73236656188965,-30.679426193237305,6.032549858093262,-18.7764949798584,19.637561798095703,-16.573909759521484,-4.000618934631348,-11.67900562286377,-33.415985107421875,8.535683631896973,-29.852188110351562,8.799654960632324,-0.25142350792884827,26.22984504699707,17.64478874206543,-23.8460693359375,13.274632453918457,-2.6283974647521973,21.14849090576172,-11.365758895874023,-14.38774299621582,2.6864240169525146,-35.83929443359375,6.4821977615356445,11.2994966506958,19.240676879882812,6.864200115203857,0.30247431993484497,29.51211166381836,36.529205322265625,-1.7403600215911865,3.9571731090545654,7.773805141448975,16.205907821655273,23.937786102294922,-15.93370246887207,-1.3654757738113403,-8.65101432800293,32.34444046020508,37.640071868896484,3.1257359981536865,7.451994895935059,-24.700727462768555,-36.660545349121094,2.291430950164795,35.98782730102539,10.069711685180664,-35.87248992919922,9.963418960571289,-28.452198028564453,24.706378936767578,14.785978317260742,-21.52507209777832,35.020111083984375,-2.447310209274292,-29.404216766357422,-6.471146106719971,27.430635452270508,12.240336418151855,19.24810791015625,-26.370447158813477,-8.891802787780762,33.40971374511719,-5.739878177642822,19.149150848388672,38.721351623535156,3.437852144241333,11.725104331970215,-2.4069511890411377,-30.41156768798828,25.265792846679688,-34.97154998779297,-25.741731643676758,-0.3404275178909302,-10.270715713500977,-15.730901718139648,-5.01174259185791,10.924735069274902,3.6920166015625,13.687516212463379,8.556324005126953,3.4823179244995117,-32.89969253540039,-29.19123077392578,-26.018709182739258,24.263673782348633,7.563633441925049,29.848047256469727,-10.092368125915527,-34.87294006347656,8.58635139465332,-36.47738265991211,-21.09706687927246,16.386119842529297,-10.14978313446045,-4.973199844360352,-3.353177785873413,-19.79903793334961,-0.4487552344799042,28.224315643310547,27.279260635375977,8.129127502441406,13.003067970275879,-7.222866058349609,4.716032028198242,-16.403785705566406,-2.4430959224700928,-9.597417831420898,8.054828643798828,2.424771785736084,10.616716384887695,19.57072639465332,-18.827129364013672,30.016450881958008,-3.9791793823242188,-17.970565795898438,-23.570056915283203,-35.1501350402832,14.950262069702148,20.93251609802246,-2.299696207046509,10.623888969421387,-0.34861841797828674,-16.900501251220703,-29.888916015625,-17.74185562133789,1.1429084539413452,15.365867614746094,25.69805908203125,-19.110919952392578,-14.458720207214355,14.994348526000977,-28.2296142578125,14.735003471374512,-25.355642318725586,17.167234420776367,3.9817938804626465,-8.465087890625,21.037216186523438,3.6862282752990723,-12.380596160888672,2.888277769088745,-33.11411666870117,-5.736888885498047,-33.06660842895508,-3.9750404357910156,11.794693946838379,14.183335304260254,16.200191497802734,4.148365497589111,8.930459976196289,32.88932418823242,-4.037176132202148,29.110427856445312,27.42754364013672,3.357959747314453,29.607789993286133,5.623188018798828,17.55080223083496,-7.610555648803711,2.3905656337738037,-0.33449503779411316,4.994462013244629,-9.339191436767578,-8.429949760437012,1.0771008729934692,-27.339879989624023,13.519001007080078,12.60147476196289,3.284730911254883,10.295723915100098,8.885769844055176,36.58599090576172,-14.535911560058594,21.48822784423828,0.059055887162685394,7.122183799743652,4.115860939025879,16.678955078125,3.0870227813720703,3.621401309967041,-28.416284561157227,4.203190326690674,-8.310358047485352,10.90453815460205,15.465633392333984,-18.61321258544922,9.960464477539062,9.4454927444458,6.239673614501953,1.945033073425293,10.794079780578613,11.243471145629883,-34.6461067199707,15.3609037399292,-1.2828463315963745,5.901336669921875,-38.16748809814453,11.185647964477539,-30.247379302978516,25.523174285888672,10.80257511138916,22.096820831298828,17.276626586914062,-33.338497161865234,7.187450885772705,21.406496047973633,1.4519520998001099,27.533004760742188,4.386697292327881,-15.402626991271973,-8.4762544631958,11.633819580078125,-8.22905445098877,-10.933006286621094,-29.157222747802734,24.794103622436523,-6.299810409545898,3.3343849182128906,2.620527505874634,12.69774055480957,2.202589750289917,-13.225101470947266,-3.8428869247436523,28.389339447021484,31.661340713500977,23.348981857299805,32.64952087402344,2.7217304706573486,36.284366607666016,12.221269607543945,25.67039680480957,5.886226177215576,-35.561668395996094,-24.94564437866211,-11.487245559692383,-16.596149444580078,1.7432013750076294,16.439701080322266,9.757518768310547,5.430797100067139,14.40700626373291,-15.719930648803711,2.6951746940612793,4.587385654449463,24.205738067626953,-13.658452987670898,1.1595613956451416,22.532896041870117,-16.17866325378418,-5.852795600891113,12.571524620056152,20.242412567138672,31.918363571166992,9.69251537322998,-1.2244902849197388,-0.05201874300837517,4.84230375289917,-29.956205368041992,-30.235130310058594,-6.317644119262695,-6.192225456237793,-21.514957427978516,-30.358089447021484,-4.28317403793335,27.804943084716797,-10.775921821594238,-5.3156914710998535,-7.709351539611816,37.97657012939453,-0.8012888431549072,13.111451148986816,13.096542358398438,-10.15200424194336,20.028724670410156,13.903118133544922,18.99951934814453,-6.361717700958252,-3.45597505569458,10.088810920715332,11.542634010314941,-3.8999383449554443,6.004542350769043,18.811277389526367,-14.920903205871582,23.03947639465332,-15.008495330810547,14.367681503295898,16.18269157409668,6.606297492980957,-29.879581451416016,-11.089844703674316,-12.008584022521973,-6.168172359466553,-1.4737627506256104,-1.4357300996780396,-17.183523178100586,24.388612747192383,11.777142524719238,-8.076348304748535,15.127303123474121,-6.516335487365723,4.567060470581055,5.108850479125977,9.440635681152344,-17.162668228149414,2.9337542057037354,-17.142505645751953,1.6122697591781616,16.802806854248047,3.200796365737915,10.613689422607422,3.4930598735809326,-7.577802658081055,35.143707275390625,-0.1184869259595871,-28.08053207397461,-0.8310233354568481,-8.725894927978516,8.533941268920898,-29.597244262695312,3.128807544708252,20.249326705932617,-30.109956741333008,16.971961975097656,-26.660398483276367,19.521469116210938,-22.27741241455078,-7.329390048980713,-27.748699188232422,-9.339573860168457,-9.164804458618164,-4.409096717834473,-26.919151306152344,-4.493699073791504,23.597272872924805,-26.638898849487305,-0.11602155864238739,8.557205200195312,-26.010169982910156,6.285299777984619,3.071214437484741,-10.317776679992676,22.193958282470703,-31.225074768066406,7.569748878479004,-34.40635299682617,-24.540382385253906,21.566160202026367,-15.051962852478027,21.548437118530273,0.7163702249526978,25.788421630859375,19.635547637939453,-18.224828720092773,-15.969075202941895,-16.077402114868164,33.938140869140625,5.645749568939209,1.5878247022628784,3.3626203536987305,4.079934120178223,12.76013469696045,-13.105142593383789,25.912429809570312,12.861732482910156,34.531227111816406,6.584268569946289,-27.908649444580078,17.802581787109375,18.12457275390625,-7.807309627532959,-6.510618686676025,-15.491165161132812,-0.9054274559020996,16.31305694580078,4.980987071990967,35.91008377075195,21.933979034423828,-7.349156379699707,-15.931329727172852,-27.94293785095215,-31.26835060119629,10.31171703338623,-27.496437072753906,-27.992738723754883,-8.539791107177734,-16.79996109008789,9.736894607543945,-0.7270094156265259,28.8344669342041,-6.754225730895996],\"xaxis\":\"x\",\"y\":[23.179838180541992,-34.35846710205078,-28.409082412719727,-25.153635025024414,1.5318995714187622,11.90794849395752,16.30572509765625,-2.731201410293579,-10.21403980255127,-19.348026275634766,14.763484954833984,11.056730270385742,-44.278900146484375,-42.12071990966797,20.12212371826172,31.50714683532715,29.407560348510742,-22.05289077758789,-39.80931091308594,-32.110267639160156,-25.9827880859375,-3.1528525352478027,-27.313701629638672,4.730299949645996,3.9662790298461914,6.418302536010742,2.260617733001709,36.3497428894043,0.6822152137756348,-33.40883255004883,16.59654426574707,-18.24384880065918,-41.554439544677734,-5.480296611785889,9.590293884277344,0.08747842907905579,20.808717727661133,-15.781861305236816,-19.959320068359375,21.78938102722168,-27.374361038208008,-17.534685134887695,25.27509880065918,13.258176803588867,-13.856561660766602,19.7970027923584,39.10502624511719,-19.62752342224121,-8.731951713562012,-44.142459869384766,6.689977169036865,7.432255268096924,26.76131820678711,-17.80874252319336,15.474973678588867,-17.35392951965332,31.941448211669922,28.68775749206543,-38.785037994384766,-19.350475311279297,-6.936389446258545,-33.567386627197266,-29.40985107421875,-18.09891128540039,2.979825258255005,15.833392143249512,-37.413570404052734,22.812482833862305,21.367393493652344,28.572805404663086,5.488911151885986,-18.07852554321289,-33.9936637878418,-27.384050369262695,14.335668563842773,-9.436187744140625,-29.649993896484375,13.463801383972168,23.794376373291016,11.796156883239746,-31.051694869995117,-0.7162099480628967,-15.317428588867188,0.6996356248855591,24.6943302154541,-30.244754791259766,21.204105377197266,-38.5962028503418,17.62607765197754,-13.233725547790527,-30.051183700561523,-17.285188674926758,35.872005462646484,15.350692749023438,-15.328374862670898,-1.666626214981079,18.88872528076172,5.8049211502075195,-18.190732955932617,-37.51166915893555,-39.39393615722656,-1.6750973463058472,-1.8823778629302979,-3.8035242557525635,-16.708860397338867,3.8772990703582764,8.150118827819824,1.0579142570495605,-20.353727340698242,18.636323928833008,-17.555267333984375,12.737381935119629,-33.47419738769531,-3.6443896293640137,-33.5013542175293,37.85865020751953,-39.9989013671875,5.9211883544921875,31.97170639038086,-19.345962524414062,8.996417999267578,7.878449440002441,-19.37582778930664,-13.648200988769531,9.936541557312012,6.501642227172852,0.5189725756645203,-30.37181854248047,14.772603034973145,11.008515357971191,-35.25308609008789,-30.369638442993164,0.5134409666061401,16.288679122924805,-29.766616821289062,-31.279342651367188,-37.9975471496582,-19.88184356689453,26.45111846923828,-4.137916088104248,4.4794793128967285,-21.96173095703125,-28.50203514099121,17.02114486694336,-33.235069274902344,24.74242401123047,-3.8657102584838867,11.456422805786133,38.4967041015625,12.274324417114258,-9.692339897155762,-41.272377014160156,25.21147918701172,37.375118255615234,-21.350353240966797,10.240707397460938,-37.889923095703125,32.58530807495117,15.369853019714355,-12.726256370544434,-34.052608489990234,-33.173980712890625,11.850934982299805,15.162400245666504,22.171663284301758,38.538780212402344,13.626394271850586,-31.590394973754883,30.86332893371582,-38.24868392944336,29.122819900512695,-11.12697982788086,5.466482162475586,35.13481903076172,8.257019996643066,1.1117966175079346,11.281294822692871,28.771203994750977,8.314188003540039,14.912890434265137,8.717574119567871,-0.8141199350357056,-26.937782287597656,24.24100112915039,-29.17068862915039,10.296538352966309,-20.065155029296875,14.797759056091309,-21.898216247558594,2.224337577819824,18.12359619140625,-13.965559959411621,-27.849878311157227,0.786991536617279,5.973400115966797,20.68775177001953,6.31431245803833,13.292155265808105,-0.346628338098526,34.016231536865234,-36.51002502441406,19.543153762817383,34.980499267578125,10.692702293395996,-16.6628475189209,1.889000415802002,-12.24704647064209,10.718856811523438,-13.088268280029297,21.2473087310791,-39.72327423095703,1.8314807415008545,23.669448852539062,6.049249172210693,-29.419458389282227,-29.579185485839844,-31.621564865112305,-23.198326110839844,-39.580833435058594,-13.34682846069336,-19.738813400268555,-17.86463737487793,-35.39876937866211,12.823578834533691,-29.676607131958008,0.7091487050056458,14.999859809875488,1.8399255275726318,8.272419929504395,8.698200225830078,-21.78177261352539,-16.376693725585938,24.515165328979492,37.60794448852539,29.837642669677734,-17.038467407226562,12.942341804504395,9.317489624023438,-5.5648908615112305,-18.039684295654297,10.269084930419922,25.551176071166992,-6.753545761108398,-29.385499954223633,6.6221418380737305,22.25190544128418,-21.59804344177246,-43.68620300292969,28.2590389251709,-29.332971572875977,-10.182132720947266,-0.022645996883511543,-18.461275100708008,2.0427329540252686,9.9293794631958,-24.524593353271484,27.97217559814453,-40.37261199951172,-9.012136459350586,-34.207611083984375,-16.822158813476562,-1.6183412075042725,37.76951599121094,15.128401756286621,6.090656280517578,-40.624534606933594,4.525920391082764,27.343461990356445,-28.140586853027344,-14.315526962280273,27.525245666503906,-41.94910430908203,-26.99120330810547,-11.587658882141113,-31.725278854370117,20.30651092529297,-33.860076904296875,16.277727127075195,15.622718811035156,-8.697175025939941,-32.047237396240234,22.765235900878906,38.2376594543457,4.80941104888916,-21.806392669677734,-8.318097114562988,-25.31833267211914,-11.041813850402832,13.056855201721191,30.792198181152344,-30.972070693969727,26.659151077270508,10.983513832092285,-15.833630561828613,14.96560001373291,18.321086883544922,11.562275886535645,3.8632161617279053,34.9725341796875,18.489540100097656,26.46004295349121,-23.242877960205078,24.56271743774414,-1.7115564346313477,36.221656799316406,-8.045080184936523,-30.645137786865234,-17.36533546447754,-29.030336380004883,-16.59480857849121,-22.31345558166504,20.23396110534668,1.3908590078353882,-40.56538772583008,6.022139549255371,-44.90644073486328,-21.927886962890625,-38.91279983520508,-21.13277816772461,-20.900131225585938,23.532737731933594,-38.80478286743164,1.9484368562698364,25.852500915527344,23.712419509887695,-36.85014724731445,1.0752482414245605,-36.371612548828125,13.118675231933594,21.106298446655273,-29.68584632873535,-17.03255271911621,-16.39132308959961,14.817740440368652,22.344423294067383,8.7587308883667,-2.170623779296875,16.304895401000977,8.203620910644531,-7.469156742095947,-42.882591247558594,22.500926971435547,-45.117042541503906,-15.195651054382324,22.772308349609375,-19.11707878112793,22.148908615112305,33.03591537475586,12.279641151428223,-38.39088821411133,26.87404441833496,-34.54573059082031,-19.613178253173828,34.28807830810547,15.330422401428223,0.6660136580467224,37.26979064941406,23.75774383544922,24.78369140625,20.56662368774414,30.016708374023438,27.938505172729492,-28.464393615722656,-20.905105590820312,-25.78096580505371,-32.80266571044922,-18.603485107421875,29.20078468322754,5.942045211791992,-28.811105728149414,19.650590896606445,0.17850233614444733,7.687034606933594,6.0511369705200195,-28.649110794067383,12.043747901916504,-15.392111778259277,27.08186149597168,8.163093566894531,28.01690101623535,-26.49913787841797,36.97957992553711,25.056072235107422,-11.602815628051758,-7.443185806274414,-33.981170654296875,-18.866056442260742,-40.50470733642578,8.806727409362793,-0.03823787346482277,15.209619522094727,6.867710590362549,-28.576881408691406,-16.627429962158203,-6.2138214111328125,21.95137596130371,-27.96941566467285,19.97634506225586,-10.237940788269043,-24.418249130249023,17.58397674560547,-7.38449239730835,-6.922999382019043,-31.153446197509766,-37.9551887512207,37.88892364501953,-15.754565238952637,-23.942594528198242,5.485495567321777,23.547847747802734,-11.492012023925781,-23.617958068847656,-0.8388130068778992,16.609561920166016,-5.144670486450195,6.807223320007324,20.45569610595703,23.11802864074707,-12.299080848693848,24.511066436767578,-37.55839538574219,-23.035476684570312,15.470290184020996,-19.78317642211914,6.031002044677734,-34.62495803833008,27.19390106201172,9.481406211853027,25.653932571411133,9.65434455871582,2.718144416809082,5.29873514175415,25.581939697265625,-27.426485061645508,22.006202697753906,14.421540260314941,23.080774307250977,-39.183006286621094,21.812381744384766,32.793827056884766,-16.85502052307129,25.701631546020508,20.890216827392578,20.8109130859375,31.759836196899414,-0.896932065486908,-31.462818145751953,-0.2141183465719223,-14.991222381591797,-23.58350944519043,-2.479067087173462,6.863636016845703,34.88516616821289,8.75680160522461,-40.5263557434082,10.392264366149902,22.3004150390625,-24.11402130126953,5.574294567108154,30.04848289489746,22.623327255249023,-32.755332946777344,-28.12200164794922,8.26685619354248,29.889467239379883,29.431236267089844,-40.535987854003906,-29.695148468017578,8.153950691223145,-15.789597511291504,8.540534973144531,5.2372941970825195,11.000598907470703,16.334789276123047,-26.181217193603516,-19.474088668823242,-33.38605880737305,3.7929461002349854,23.360668182373047,22.41792106628418,1.5064818859100342,2.6110270023345947,-13.942282676696777,-35.34635543823242,-21.579774856567383,-39.464317321777344,1.5517295598983765,30.572513580322266,7.7247185707092285,28.15038299560547,-20.410926818847656,15.099806785583496,-9.111770629882812,6.256685256958008,24.79170036315918,-36.98828125,-8.529245376586914,33.463157653808594,5.82814359664917,-36.66740036010742,-25.037439346313477,-6.828365802764893,32.482303619384766,-44.066043853759766,22.68558120727539,6.0445451736450195,-18.56868553161621,8.002959251403809,26.77647590637207,-20.950363159179688,31.158782958984375,15.665491104125977,27.195287704467773,36.04032516479492,-36.46914291381836,0.1475737988948822,-22.04509162902832,34.897823333740234,-30.8909912109375,32.3741340637207,-31.570051193237305,23.808496475219727,12.79669189453125,-14.546536445617676,-29.89900016784668,-38.17932891845703,21.314977645874023,0.3533256947994232,5.114825248718262,-21.143007278442383,-39.42174530029297,-27.648313522338867,6.5503668785095215,-18.037559509277344,30.32028579711914,-40.900123596191406,-14.485912322998047,10.367704391479492,8.03929615020752,-21.354116439819336,17.798128128051758,-9.161127090454102,7.2540459632873535,6.590367317199707,-28.566547393798828,24.209190368652344,-29.131019592285156,5.6884355545043945,-33.386077880859375,-34.0214729309082,30.97964859008789,10.544642448425293,3.0873749256134033,31.76857566833496,6.982365131378174,39.02775192260742,-29.516576766967773,12.587594032287598,19.122474670410156,3.3200087547302246,-19.200538635253906,36.410831451416016,10.899006843566895,-1.0575125217437744,7.448212623596191,-22.798612594604492,10.368510246276855,8.31515121459961,-38.266788482666016,28.23870277404785,-25.01148796081543,-8.886895179748535,20.112226486206055,-19.263099670410156,-26.523178100585938,13.53199291229248,13.174968719482422,-41.313758850097656,17.693424224853516,-12.473403930664062,7.928741931915283,40.22263717651367,11.419882774353027,10.60943603515625,-10.554693222045898,11.781800270080566,17.164352416992188,-5.727168083190918,-33.55577850341797,-27.487003326416016,25.170446395874023,11.318106651306152,30.424551010131836,16.212623596191406,10.140708923339844,3.3211066722869873,25.831270217895508,-30.000823974609375,-26.124834060668945,4.721202850341797,35.24302673339844,-30.19513511657715,0.7244711518287659,27.525033950805664,1.945599913597107,35.891387939453125,26.4351749420166,-24.990009307861328,1.8737655878067017,-30.674057006835938,-11.009485244750977,-5.538531303405762,10.464883804321289,24.826770782470703,14.046767234802246,3.476750373840332,22.56781768798828,9.5961275100708,-40.22449493408203,37.20195007324219,31.911489486694336,10.34376049041748,-21.43281364440918,11.030265808105469,28.866653442382812,5.417657375335693,24.891502380371094,36.33811569213867,-21.720430374145508,-20.387842178344727,-33.885093688964844,-22.51633644104004,-32.89342498779297,-30.659807205200195,-14.751753807067871,-1.2475829124450684,-41.83488082885742,2.013636589050293,25.78223991394043,-28.128149032592773,38.013771057128906,6.210411071777344,12.077177047729492,12.319459915161133,-22.877178192138672,9.269208908081055,3.0785176753997803,3.9561686515808105,-6.715932369232178,-9.323566436767578,-15.738402366638184,-1.7781591415405273,15.520075798034668,-30.82317352294922,2.7707016468048096,-29.3248291015625,-15.005792617797852,27.01249885559082,30.160030364990234,-16.352352142333984,26.11380958557129,-43.607486724853516,6.7439799308776855,9.717742919921875,-15.766070365905762,-32.16792297363281,7.321127891540527,-27.60280990600586,1.099001169204712,22.93992805480957,22.221101760864258,-0.48123714327812195,-28.416439056396484,5.1664228439331055,9.014886856079102,29.538206100463867,32.64980697631836,0.7541353702545166,-6.2317023277282715,5.344202041625977,-42.21063995361328,-39.243988037109375,-24.029150009155273,-33.192020416259766,-39.146793365478516,-31.01561737060547,29.868093490600586,19.045740127563477,-42.94883728027344,-22.206775665283203,12.457420349121094,4.033868312835693,-33.58514404296875,30.762584686279297,-11.352367401123047,-41.403900146484375,-10.430472373962402,-7.01468563079834,-2.041656255722046,9.612634658813477,-21.062929153442383,24.24361801147461,-23.668657302856445,-32.84700393676758,10.587118148803711,-24.68731689453125,-32.315799713134766,16.345821380615234,23.51288414001465,-28.683778762817383,18.951234817504883,-39.34189987182617,-19.86073112487793,-8.303181648254395,-9.638449668884277,16.466962814331055,-39.91441345214844,26.622270584106445,39.35481643676758,-42.113311767578125,-29.529226303100586,9.634711265563965,16.91859245300293,-3.4452497959136963,-17.4052791595459,10.4215726852417,-12.918684959411621,-9.665433883666992,-45.35763931274414,7.4938788414001465,37.40315628051758,-39.210418701171875,-16.646076202392578,-24.122888565063477,38.48189926147461,-0.8566622734069824,0.9145246148109436,38.8102912902832,9.03264045715332,-41.13947296142578,-0.8234748840332031,0.2205181121826172,15.96617317199707,-16.53119468688965,31.363540649414062,9.415376663208008,4.615790367126465,31.242244720458984,-39.898616790771484,17.5202579498291,19.45174217224121,1.605473518371582,2.7414934635162354,38.413169860839844,8.204231262207031,4.208243370056152,14.46973991394043,10.353540420532227,-11.557348251342773,13.977729797363281,1.0414894819259644,-8.679685592651367,22.166318893432617,-32.7886848449707,1.1665585041046143,-19.314895629882812,11.527990341186523,24.93022346496582,31.696123123168945,11.441829681396484,33.105567932128906,-40.48976135253906,5.504532337188721,-21.25679588317871,-43.06956481933594,38.37290954589844,27.23263168334961,0.5771300196647644,6.695563793182373,12.024724006652832,26.04361343383789,-9.645776748657227,-18.336584091186523,-18.84136199951172,6.804349899291992,-32.59062576293945,-26.866485595703125,-24.65805435180664,-40.816429138183594,17.86243438720703,1.9132417440414429,17.538192749023438,-26.81267738342285,34.84114456176758,3.453395128250122,-18.35272216796875,13.574027061462402,-31.825204849243164,11.698646545410156,25.39106559753418,-7.6166276931762695,36.55229187011719,-14.917045593261719,-6.28516960144043,-18.427783966064453,-37.97334289550781,-29.420324325561523,9.130426406860352,-6.761973857879639,-16.206928253173828,-14.104809761047363,-32.487083435058594,-11.079679489135742,25.087963104248047,25.346328735351562,-3.9959843158721924,30.59382438659668,-16.174089431762695,-33.325584411621094,21.362775802612305,10.7208251953125,30.13727378845215,12.719141960144043,23.019468307495117,16.14691734313965,-22.825162887573242,-38.95786666870117,27.756484985351562,37.898475646972656,-39.75857925415039,11.45862102508545,2.941920757293701,26.367115020751953,-10.294697761535645,3.1152358055114746,3.8470046520233154,20.968374252319336,-17.10796546936035,-19.483264923095703,8.087544441223145,-34.91995620727539,28.23457145690918,-16.594205856323242,-12.504897117614746,-25.3150634765625,4.3329668045043945,-18.407217025756836,-18.03063201904297,25.916475296020508,24.577301025390625,-39.22032165527344,5.608627796173096,-27.91236114501953,-31.352807998657227,-43.977176666259766,-41.61500549316406,-26.881256103515625,-40.50091552734375,4.505400657653809,-18.600194931030273,13.407915115356445,12.039152145385742,-12.60624885559082,9.925262451171875,2.7505862712860107,-7.752819061279297,33.366886138916016,32.42829132080078,-43.21172332763672,33.72184371948242,-9.608000755310059,14.599237442016602,1.1612722873687744,9.934540748596191,-26.309267044067383,35.96504592895508,-41.0695915222168,-11.3574800491333,-34.91177749633789,3.7220427989959717,21.539459228515625,9.996352195739746,-39.791358947753906,8.4755220413208,-27.90866470336914,-20.708297729492188,37.480201721191406,-29.20148277282715,10.246512413024902,31.033464431762695,-23.828887939453125,4.987751483917236,-16.266254425048828,-20.74464988708496,3.1896212100982666,2.934349536895752,24.537214279174805,33.51493835449219,34.45334243774414,-42.94230651855469,23.463973999023438,-33.92987823486328,-27.30682945251465,25.690322875976562,9.895892143249512,-31.393192291259766,9.846236228942871,13.29350471496582,-41.4332389831543,-29.35649871826172,1.1653509140014648,20.287097930908203,-38.62239456176758,7.1240763664245605,38.648521423339844,6.935753345489502,-23.66155433654785,-20.452856063842773,33.99747085571289,-24.995189666748047,21.64820098876953,36.470191955566406,12.96721363067627,-25.467668533325195,30.57854461669922,-42.9403076171875,-10.588920593261719,-21.37044906616211,-30.1769962310791,29.525386810302734,-22.225116729736328,2.603530168533325,8.658954620361328,11.599214553833008,11.27683162689209,30.593521118164062,5.95324182510376,-6.155979633331299,14.093772888183594,9.158882141113281,9.820905685424805,28.72141456604004,-14.114263534545898,23.319095611572266,20.092315673828125,-15.96059799194336,34.134971618652344,-43.3007926940918,-21.283573150634766,26.482608795166016,34.62232208251953,6.587211608886719,-1.3826887607574463,-12.812176704406738,-43.013187408447266,-32.504600524902344,-13.638471603393555,-15.356168746948242,-29.842763900756836,6.86383056640625,10.499661445617676,33.148590087890625,-36.921295166015625,23.43988037109375,3.8657565116882324,16.919330596923828,15.481412887573242,-18.562379837036133,-8.957511901855469,12.141886711120605,8.238502502441406,23.626728057861328,-25.18663787841797,-19.467981338500977,30.26938819885254,-22.889875411987305,5.998864650726318,23.75320816040039,-4.93637752532959,-15.505127906799316,-9.080802917480469,-6.649832725524902,-2.9494829177856445,-20.27398109436035,-39.39096450805664,-8.155410766601562,-6.90010404586792,35.257171630859375,34.43340301513672,-43.86103439331055,8.962056159973145,-22.742111206054688,12.220088958740234,-12.2217378616333,-13.779732704162598,-29.722179412841797,13.627907752990723,23.755268096923828,26.41994857788086,-8.751561164855957,-16.4207763671875,-22.165855407714844,-40.002323150634766,15.652046203613281,-31.450578689575195,5.407022476196289,14.93830680847168,-20.485580444335938,32.847633361816406,-2.3928098678588867,5.024320602416992,2.113111972808838,-14.562068939208984,-39.88618850708008,-12.696930885314941,17.9838809967041,5.40142822265625,-22.999507904052734,-32.685386657714844,17.20069694519043,15.766878128051758,2.936455011367798,30.512489318847656,12.051228523254395,32.19832992553711,14.385346412658691,10.54991340637207,21.528472900390625,0.7176259160041809,11.887804985046387,28.50058937072754,-2.7648775577545166,16.39986228942871,-2.1233975887298584,24.454208374023438,-31.091650009155273,12.321659088134766,-24.68931007385254,39.68946075439453,25.9998779296875,2.9251081943511963,-22.869220733642578,-31.23308753967285,10.531557083129883,27.659833908081055,-22.43634605407715,7.049246788024902,0.6456230282783508,34.449710845947266,-16.085668563842773,1.7547053098678589,21.7395076751709,-37.2410888671875,17.068870544433594,29.710721969604492,-7.769839286804199,22.63725471496582,11.123235702514648,-19.914588928222656,12.603239059448242,10.19601821899414,-19.929222106933594,-14.117345809936523,19.171634674072266,9.961825370788574,31.232744216918945,-21.776081085205078,7.328921318054199,-31.86577033996582,-14.780216217041016,19.42348861694336,9.469561576843262,-31.419584274291992,10.566969871520996,38.085655212402344,30.253253936767578,-0.8790031671524048,7.559300899505615,-14.487091064453125,34.61977005004883,22.267820358276367,16.332971572875977,-30.95195770263672,8.980245590209961,8.061114311218262,6.70344352722168,-10.855037689208984,19.6129093170166,11.020539283752441,9.643013954162598,33.04391098022461,15.650059700012207,27.841711044311523,30.931894302368164,15.211954116821289,-20.35675048828125,-28.592815399169922,10.828344345092773,-19.627290725708008],\"yaxis\":\"y\",\"type\":\"scattergl\"}],                        {\"template\":{\"data\":{\"bar\":[{\"error_x\":{\"color\":\"#2a3f5f\"},\"error_y\":{\"color\":\"#2a3f5f\"},\"marker\":{\"line\":{\"color\":\"#E5ECF6\",\"width\":0.5},\"pattern\":{\"fillmode\":\"overlay\",\"size\":10,\"solidity\":0.2}},\"type\":\"bar\"}],\"barpolar\":[{\"marker\":{\"line\":{\"color\":\"#E5ECF6\",\"width\":0.5},\"pattern\":{\"fillmode\":\"overlay\",\"size\":10,\"solidity\":0.2}},\"type\":\"barpolar\"}],\"carpet\":[{\"aaxis\":{\"endlinecolor\":\"#2a3f5f\",\"gridcolor\":\"white\",\"linecolor\":\"white\",\"minorgridcolor\":\"white\",\"startlinecolor\":\"#2a3f5f\"},\"baxis\":{\"endlinecolor\":\"#2a3f5f\",\"gridcolor\":\"white\",\"linecolor\":\"white\",\"minorgridcolor\":\"white\",\"startlinecolor\":\"#2a3f5f\"},\"type\":\"carpet\"}],\"choropleth\":[{\"colorbar\":{\"outlinewidth\":0,\"ticks\":\"\"},\"type\":\"choropleth\"}],\"contour\":[{\"colorbar\":{\"outlinewidth\":0,\"ticks\":\"\"},\"colorscale\":[[0.0,\"#0d0887\"],[0.1111111111111111,\"#46039f\"],[0.2222222222222222,\"#7201a8\"],[0.3333333333333333,\"#9c179e\"],[0.4444444444444444,\"#bd3786\"],[0.5555555555555556,\"#d8576b\"],[0.6666666666666666,\"#ed7953\"],[0.7777777777777778,\"#fb9f3a\"],[0.8888888888888888,\"#fdca26\"],[1.0,\"#f0f921\"]],\"type\":\"contour\"}],\"contourcarpet\":[{\"colorbar\":{\"outlinewidth\":0,\"ticks\":\"\"},\"type\":\"contourcarpet\"}],\"heatmap\":[{\"colorbar\":{\"outlinewidth\":0,\"ticks\":\"\"},\"colorscale\":[[0.0,\"#0d0887\"],[0.1111111111111111,\"#46039f\"],[0.2222222222222222,\"#7201a8\"],[0.3333333333333333,\"#9c179e\"],[0.4444444444444444,\"#bd3786\"],[0.5555555555555556,\"#d8576b\"],[0.6666666666666666,\"#ed7953\"],[0.7777777777777778,\"#fb9f3a\"],[0.8888888888888888,\"#fdca26\"],[1.0,\"#f0f921\"]],\"type\":\"heatmap\"}],\"heatmapgl\":[{\"colorbar\":{\"outlinewidth\":0,\"ticks\":\"\"},\"colorscale\":[[0.0,\"#0d0887\"],[0.1111111111111111,\"#46039f\"],[0.2222222222222222,\"#7201a8\"],[0.3333333333333333,\"#9c179e\"],[0.4444444444444444,\"#bd3786\"],[0.5555555555555556,\"#d8576b\"],[0.6666666666666666,\"#ed7953\"],[0.7777777777777778,\"#fb9f3a\"],[0.8888888888888888,\"#fdca26\"],[1.0,\"#f0f921\"]],\"type\":\"heatmapgl\"}],\"histogram\":[{\"marker\":{\"pattern\":{\"fillmode\":\"overlay\",\"size\":10,\"solidity\":0.2}},\"type\":\"histogram\"}],\"histogram2d\":[{\"colorbar\":{\"outlinewidth\":0,\"ticks\":\"\"},\"colorscale\":[[0.0,\"#0d0887\"],[0.1111111111111111,\"#46039f\"],[0.2222222222222222,\"#7201a8\"],[0.3333333333333333,\"#9c179e\"],[0.4444444444444444,\"#bd3786\"],[0.5555555555555556,\"#d8576b\"],[0.6666666666666666,\"#ed7953\"],[0.7777777777777778,\"#fb9f3a\"],[0.8888888888888888,\"#fdca26\"],[1.0,\"#f0f921\"]],\"type\":\"histogram2d\"}],\"histogram2dcontour\":[{\"colorbar\":{\"outlinewidth\":0,\"ticks\":\"\"},\"colorscale\":[[0.0,\"#0d0887\"],[0.1111111111111111,\"#46039f\"],[0.2222222222222222,\"#7201a8\"],[0.3333333333333333,\"#9c179e\"],[0.4444444444444444,\"#bd3786\"],[0.5555555555555556,\"#d8576b\"],[0.6666666666666666,\"#ed7953\"],[0.7777777777777778,\"#fb9f3a\"],[0.8888888888888888,\"#fdca26\"],[1.0,\"#f0f921\"]],\"type\":\"histogram2dcontour\"}],\"mesh3d\":[{\"colorbar\":{\"outlinewidth\":0,\"ticks\":\"\"},\"type\":\"mesh3d\"}],\"parcoords\":[{\"line\":{\"colorbar\":{\"outlinewidth\":0,\"ticks\":\"\"}},\"type\":\"parcoords\"}],\"pie\":[{\"automargin\":true,\"type\":\"pie\"}],\"scatter\":[{\"marker\":{\"colorbar\":{\"outlinewidth\":0,\"ticks\":\"\"}},\"type\":\"scatter\"}],\"scatter3d\":[{\"line\":{\"colorbar\":{\"outlinewidth\":0,\"ticks\":\"\"}},\"marker\":{\"colorbar\":{\"outlinewidth\":0,\"ticks\":\"\"}},\"type\":\"scatter3d\"}],\"scattercarpet\":[{\"marker\":{\"colorbar\":{\"outlinewidth\":0,\"ticks\":\"\"}},\"type\":\"scattercarpet\"}],\"scattergeo\":[{\"marker\":{\"colorbar\":{\"outlinewidth\":0,\"ticks\":\"\"}},\"type\":\"scattergeo\"}],\"scattergl\":[{\"marker\":{\"colorbar\":{\"outlinewidth\":0,\"ticks\":\"\"}},\"type\":\"scattergl\"}],\"scattermapbox\":[{\"marker\":{\"colorbar\":{\"outlinewidth\":0,\"ticks\":\"\"}},\"type\":\"scattermapbox\"}],\"scatterpolar\":[{\"marker\":{\"colorbar\":{\"outlinewidth\":0,\"ticks\":\"\"}},\"type\":\"scatterpolar\"}],\"scatterpolargl\":[{\"marker\":{\"colorbar\":{\"outlinewidth\":0,\"ticks\":\"\"}},\"type\":\"scatterpolargl\"}],\"scatterternary\":[{\"marker\":{\"colorbar\":{\"outlinewidth\":0,\"ticks\":\"\"}},\"type\":\"scatterternary\"}],\"surface\":[{\"colorbar\":{\"outlinewidth\":0,\"ticks\":\"\"},\"colorscale\":[[0.0,\"#0d0887\"],[0.1111111111111111,\"#46039f\"],[0.2222222222222222,\"#7201a8\"],[0.3333333333333333,\"#9c179e\"],[0.4444444444444444,\"#bd3786\"],[0.5555555555555556,\"#d8576b\"],[0.6666666666666666,\"#ed7953\"],[0.7777777777777778,\"#fb9f3a\"],[0.8888888888888888,\"#fdca26\"],[1.0,\"#f0f921\"]],\"type\":\"surface\"}],\"table\":[{\"cells\":{\"fill\":{\"color\":\"#EBF0F8\"},\"line\":{\"color\":\"white\"}},\"header\":{\"fill\":{\"color\":\"#C8D4E3\"},\"line\":{\"color\":\"white\"}},\"type\":\"table\"}]},\"layout\":{\"annotationdefaults\":{\"arrowcolor\":\"#2a3f5f\",\"arrowhead\":0,\"arrowwidth\":1},\"autotypenumbers\":\"strict\",\"coloraxis\":{\"colorbar\":{\"outlinewidth\":0,\"ticks\":\"\"}},\"colorscale\":{\"diverging\":[[0,\"#8e0152\"],[0.1,\"#c51b7d\"],[0.2,\"#de77ae\"],[0.3,\"#f1b6da\"],[0.4,\"#fde0ef\"],[0.5,\"#f7f7f7\"],[0.6,\"#e6f5d0\"],[0.7,\"#b8e186\"],[0.8,\"#7fbc41\"],[0.9,\"#4d9221\"],[1,\"#276419\"]],\"sequential\":[[0.0,\"#0d0887\"],[0.1111111111111111,\"#46039f\"],[0.2222222222222222,\"#7201a8\"],[0.3333333333333333,\"#9c179e\"],[0.4444444444444444,\"#bd3786\"],[0.5555555555555556,\"#d8576b\"],[0.6666666666666666,\"#ed7953\"],[0.7777777777777778,\"#fb9f3a\"],[0.8888888888888888,\"#fdca26\"],[1.0,\"#f0f921\"]],\"sequentialminus\":[[0.0,\"#0d0887\"],[0.1111111111111111,\"#46039f\"],[0.2222222222222222,\"#7201a8\"],[0.3333333333333333,\"#9c179e\"],[0.4444444444444444,\"#bd3786\"],[0.5555555555555556,\"#d8576b\"],[0.6666666666666666,\"#ed7953\"],[0.7777777777777778,\"#fb9f3a\"],[0.8888888888888888,\"#fdca26\"],[1.0,\"#f0f921\"]]},\"colorway\":[\"#636efa\",\"#EF553B\",\"#00cc96\",\"#ab63fa\",\"#FFA15A\",\"#19d3f3\",\"#FF6692\",\"#B6E880\",\"#FF97FF\",\"#FECB52\"],\"font\":{\"color\":\"#2a3f5f\"},\"geo\":{\"bgcolor\":\"white\",\"lakecolor\":\"white\",\"landcolor\":\"#E5ECF6\",\"showlakes\":true,\"showland\":true,\"subunitcolor\":\"white\"},\"hoverlabel\":{\"align\":\"left\"},\"hovermode\":\"closest\",\"mapbox\":{\"style\":\"light\"},\"paper_bgcolor\":\"white\",\"plot_bgcolor\":\"#E5ECF6\",\"polar\":{\"angularaxis\":{\"gridcolor\":\"white\",\"linecolor\":\"white\",\"ticks\":\"\"},\"bgcolor\":\"#E5ECF6\",\"radialaxis\":{\"gridcolor\":\"white\",\"linecolor\":\"white\",\"ticks\":\"\"}},\"scene\":{\"xaxis\":{\"backgroundcolor\":\"#E5ECF6\",\"gridcolor\":\"white\",\"gridwidth\":2,\"linecolor\":\"white\",\"showbackground\":true,\"ticks\":\"\",\"zerolinecolor\":\"white\"},\"yaxis\":{\"backgroundcolor\":\"#E5ECF6\",\"gridcolor\":\"white\",\"gridwidth\":2,\"linecolor\":\"white\",\"showbackground\":true,\"ticks\":\"\",\"zerolinecolor\":\"white\"},\"zaxis\":{\"backgroundcolor\":\"#E5ECF6\",\"gridcolor\":\"white\",\"gridwidth\":2,\"linecolor\":\"white\",\"showbackground\":true,\"ticks\":\"\",\"zerolinecolor\":\"white\"}},\"shapedefaults\":{\"line\":{\"color\":\"#2a3f5f\"}},\"ternary\":{\"aaxis\":{\"gridcolor\":\"white\",\"linecolor\":\"white\",\"ticks\":\"\"},\"baxis\":{\"gridcolor\":\"white\",\"linecolor\":\"white\",\"ticks\":\"\"},\"bgcolor\":\"#E5ECF6\",\"caxis\":{\"gridcolor\":\"white\",\"linecolor\":\"white\",\"ticks\":\"\"}},\"title\":{\"x\":0.05},\"xaxis\":{\"automargin\":true,\"gridcolor\":\"white\",\"linecolor\":\"white\",\"ticks\":\"\",\"title\":{\"standoff\":15},\"zerolinecolor\":\"white\",\"zerolinewidth\":2},\"yaxis\":{\"automargin\":true,\"gridcolor\":\"white\",\"linecolor\":\"white\",\"ticks\":\"\",\"title\":{\"standoff\":15},\"zerolinecolor\":\"white\",\"zerolinewidth\":2}}},\"xaxis\":{\"anchor\":\"y\",\"domain\":[0.0,1.0],\"title\":{\"text\":\"x\"}},\"yaxis\":{\"anchor\":\"x\",\"domain\":[0.0,1.0],\"title\":{\"text\":\"y\"}},\"coloraxis\":{\"colorbar\":{\"title\":{\"text\":\"cluster\"}},\"colorscale\":[[0.0,\"#0d0887\"],[0.1111111111111111,\"#46039f\"],[0.2222222222222222,\"#7201a8\"],[0.3333333333333333,\"#9c179e\"],[0.4444444444444444,\"#bd3786\"],[0.5555555555555556,\"#d8576b\"],[0.6666666666666666,\"#ed7953\"],[0.7777777777777778,\"#fb9f3a\"],[0.8888888888888888,\"#fdca26\"],[1.0,\"#f0f921\"]]},\"legend\":{\"tracegroupgap\":0},\"margin\":{\"t\":60}},                        {\"responsive\": true}                    ).then(function(){\n",
       "                            \n",
       "var gd = document.getElementById('05c5130e-1cdb-462a-847b-59a611820ff3');\n",
       "var x = new MutationObserver(function (mutations, observer) {{\n",
       "        var display = window.getComputedStyle(gd).display;\n",
       "        if (!display || display === 'none') {{\n",
       "            console.log([gd, 'removed!']);\n",
       "            Plotly.purge(gd);\n",
       "            observer.disconnect();\n",
       "        }}\n",
       "}});\n",
       "\n",
       "// Listen for the removal of the full notebook cells\n",
       "var notebookContainer = gd.closest('#notebook-container');\n",
       "if (notebookContainer) {{\n",
       "    x.observe(notebookContainer, {childList: true});\n",
       "}}\n",
       "\n",
       "// Listen for the clearing of the current output cell\n",
       "var outputEl = gd.closest('.output');\n",
       "if (outputEl) {{\n",
       "    x.observe(outputEl, {childList: true});\n",
       "}}\n",
       "\n",
       "                        })                };                });            </script>        </div>"
      ]
     },
     "metadata": {},
     "output_type": "display_data"
    }
   ],
   "source": [
    "tsne_pipeline = Pipeline([('scaler', StandardScaler()), ('tsne', TSNE(n_components=2, verbose=1))])\n",
    "genre_embedding = tsne_pipeline.fit_transform(X)\n",
    "projection = pd.DataFrame(columns=['x', 'y'], data=genre_embedding)\n",
    "projection['genres'] = genre_df['artist_genres']\n",
    "projection['cluster'] = genre_df['cluster']\n",
    "\n",
    "fig = px.scatter(\n",
    "    projection, x='x', y='y', color='cluster', hover_data=['x', 'y', 'genres'])\n",
    "fig.show()"
   ]
  },
  {
   "cell_type": "code",
   "execution_count": 66,
   "id": "f273835d",
   "metadata": {},
   "outputs": [],
   "source": [
    "song_cluster_pipeline = Pipeline([('scaler', StandardScaler()), \n",
    "                                  ('kmeans', KMeans(n_clusters=20, \n",
    "                                   verbose=False, random_state=0))\n",
    "                                 ], verbose=False)\n",
    "\n",
    "X = clean_data.select_dtypes(np.number)\n",
    "number_cols = list(X.columns)\n",
    "song_cluster_pipeline.fit(X)\n",
    "song_cluster_labels = song_cluster_pipeline.predict(X)\n",
    "clean_data['cluster_label'] = song_cluster_labels"
   ]
  },
  {
   "cell_type": "code",
   "execution_count": 69,
   "id": "cbe2e72c",
   "metadata": {},
   "outputs": [
    {
     "data": {
      "application/vnd.plotly.v1+json": {
       "config": {
        "plotlyServerURL": "https://plot.ly"
       },
       "data": [
        {
         "customdata": [
          [
           "Like a Rolling Stone"
          ],
          [
           "Smells Like Teen Spirit"
          ],
          [
           "A Day In The Life - Remastered"
          ],
          [
           "Good Vibrations (Mono)"
          ],
          [
           "Johnny B Goode"
          ],
          [
           "Respect"
          ],
          [
           "Be My Baby"
          ],
          [
           "What's Going On"
          ],
          [
           "I Heard It Through The Grapevine"
          ],
          [
           "(I Can't Get No) Satisfaction - Mono Version / Remastered 2002"
          ],
          [
           "Billie Jean"
          ],
          [
           "Heartbreak Hotel"
          ],
          [
           "Born to Run"
          ],
          [
           "My Generation - Original Mono Version"
          ],
          [
           "Love Will Tear Us Apart"
          ],
          [
           "God Only Knows - Mono / 1997 Remastered"
          ],
          [
           "(Sittin' On) the Dock of the Bay"
          ],
          [
           "Hey Ya! - Radio Mix / Club Mix"
          ],
          [
           "Anarchy In The UK - Remastered 2012"
          ],
          [
           "Paper Planes"
          ],
          [
           "London Calling"
          ],
          [
           "Sympathy For The Devil"
          ],
          [
           "Strawberry Fields Forever - Remastered"
          ],
          [
           "Tutti Frutti"
          ],
          [
           "Stairway To Heaven"
          ],
          [
           "The Message (feat. Melle Mel & Duke Bootee)"
          ],
          [
           "What'd I Say"
          ],
          [
           "Imagine - Remastered 2010"
          ],
          [
           "A Change Is Gonna Come"
          ],
          [
           "Heroes - 1999 Remaster"
          ],
          [
           "When Doves Cry"
          ],
          [
           "Superstition"
          ],
          [
           "Common People"
          ],
          [
           "Gimme Shelter"
          ],
          [
           "Strange Fruit"
          ],
          [
           "You Really Got Me"
          ],
          [
           "Crazy In Love (feat. Jay-Z)"
          ],
          [
           "Seven Nation Army"
          ],
          [
           "Losing My Religion"
          ],
          [
           "God Save The Queen"
          ],
          [
           "Bohemian Rhapsody - Remastered 2011"
          ],
          [
           "Blue Monday"
          ],
          [
           "Purple Haze"
          ],
          [
           "Louie Louie"
          ],
          [
           "I Want You Back"
          ],
          [
           "Crazy"
          ],
          [
           "You've Lost That Lovin' Feelin' - Single Version"
          ],
          [
           "Hey Jude - Remastered"
          ],
          [
           "Waterloo Sunset - Stereo"
          ],
          [
           "Take Me Out"
          ],
          [
           "Get Ur Freak On"
          ],
          [
           "That'll Be the Day"
          ],
          [
           "Light My Fire"
          ],
          [
           "I Feel Love"
          ],
          [
           "There Is a Light That Never Goes Out - 2011 Remaster"
          ],
          [
           "Space Oddity - 2009 Remastered Version"
          ],
          [
           "Stand by Me"
          ],
          [
           "Mr. Tambourine Man"
          ],
          [
           "Bitter Sweet Symphony"
          ],
          [
           "(We're Gonna) Rock Around The Clock"
          ],
          [
           "Layla - 40th Anniversary Version / 2010 Remastered"
          ],
          [
           "River Deep - Mountain High"
          ],
          [
           "Unfinished Sympathy - 2006 Digital Remaster"
          ],
          [
           "Loser"
          ],
          [
           "Fight The Power"
          ],
          [
           "Once in a Lifetime - 2005 Remaster"
          ],
          [
           "Paranoid Android"
          ],
          [
           "Whole Lotta Love - Remaster"
          ],
          [
           "Alright"
          ],
          [
           "House of the Rising Sun"
          ],
          [
           "Walk on the Wild Side"
          ],
          [
           "Hotel California"
          ],
          [
           "99 Problems"
          ],
          [
           "Dancing On My Own"
          ],
          [
           "Formation"
          ],
          [
           "Let's Stay Together"
          ],
          [
           "Jumpin' Jack Flash"
          ],
          [
           "All My Friends"
          ],
          [
           "California Dreamin'"
          ],
          [
           "Blitzkrieg Bop - 2001 Remaster"
          ],
          [
           "Dancing In The Street"
          ],
          [
           "Hound Dog"
          ],
          [
           "Oblivion"
          ],
          [
           "I Want To Hold Your Hand - Remastered"
          ],
          [
           "All Along the Watchtower"
          ],
          [
           "Nothing Compares 2 U"
          ],
          [
           "How Soon Is Now? - 2011 Remaster"
          ],
          [
           "Sweet Child O' Mine"
          ],
          [
           "For What It's Worth"
          ],
          [
           "The Weight - Remastered"
          ],
          [
           "Runaway"
          ],
          [
           "Ghost Town - Extended Version"
          ],
          [
           "Royals"
          ],
          [
           "Get Lucky (feat. Pharrell Williams & Nile Rodgers) - Radio Edit"
          ],
          [
           "Suspicious Minds"
          ],
          [
           "Life On Mars? - 1999 Remastered Version"
          ],
          [
           "Reach Out I'll Be There - Single Version / Mono"
          ],
          [
           "That's All Right Mama"
          ],
          [
           "Get Up (I Feel Like Being A) Sex Machine - Pt. 1 & 2"
          ],
          [
           "Wonderwall"
          ],
          [
           "Heroin"
          ],
          [
           "Whole Lotta Shakin' Goin' On"
          ],
          [
           "Thunder Road"
          ],
          [
           "One"
          ],
          [
           "I'm Waiting For The Man - Album Version (Stereo)"
          ],
          [
           "The Tracks Of My Tears - Single Version / Mono"
          ],
          [
           "Yesterday - Remastered"
          ],
          [
           "Dancing Queen"
          ],
          [
           "Summertime Blues"
          ],
          [
           "This Charming Man - 2011 Remaster"
          ],
          [
           "Blue Suede Shoes"
          ],
          [
           "Good Times"
          ],
          [
           "Pyramids"
          ],
          [
           "My Girl - Single Version/Mono"
          ],
          [
           "Paint It Black"
          ],
          [
           "Video Games"
          ],
          [
           "Rehab"
          ],
          [
           "Rapper's Delight - Long Version"
          ],
          [
           "The Sound of Silence - Electric Version"
          ],
          [
           "Fortunate Son"
          ],
          [
           "Papa's Got A Brand New Bag - Pt. 1"
          ],
          [
           "Bridge over Troubled Water"
          ],
          [
           "No Woman, No Cry - Live At The Lyceum, London/1975"
          ],
          [
           "Proud Mary"
          ],
          [
           "Every Breath You Take - Remastered 2003"
          ],
          [
           "Maybellene - Single Version"
          ],
          [
           "A Whiter Shade Of Pale"
          ],
          [
           "Midnight City"
          ],
          [
           "Losing My Edge"
          ],
          [
           "I'm So Lonesome I Could Cry - Single Version"
          ],
          [
           "Eight Miles High"
          ],
          [
           "Born Slippy (Nuxx)"
          ],
          [
           "Great Balls Of Fire"
          ],
          [
           "Green Onions"
          ],
          [
           "Maps"
          ],
          [
           "Umbrella"
          ],
          [
           "She Loves You - Remastered"
          ],
          [
           "Stayin' Alive - 2007 Remastered Version Saturday Night Fever"
          ],
          [
           "Tangled up in Blue"
          ],
          [
           "Maggie May"
          ],
          [
           "Will You Still Love Me Tomorrow"
          ],
          [
           "Seasons (Waiting On You)"
          ],
          [
           "Creep"
          ],
          [
           "Be-Bop-A-Lula"
          ],
          [
           "Paranoid"
          ],
          [
           "Heart Of Glass [24-Bit Digitally Remastered 01]"
          ],
          [
           "Kashmir - 1990 Remaster"
          ],
          [
           "Walk This Way (feat. Aerosmith)"
          ],
          [
           "Like a Prayer"
          ],
          [
           "Marquee Moon - 2003 Remaster"
          ],
          [
           "Hotline Bling"
          ],
          [
           "Live Forever"
          ],
          [
           "Time to Pretend"
          ],
          [
           "When a Man Loves a Woman"
          ],
          [
           "Brown Sugar"
          ],
          [
           "Over the Rainbow (From \"The Wizard of Oz\")"
          ],
          [
           "Tomorrow Never Knows - Remastered"
          ],
          [
           "This Land is Your Land"
          ],
          [
           "Oh, Pretty Woman"
          ],
          [
           "Jailhouse Rock"
          ],
          [
           "Empire State Of Mind [Jay-Z + Alicia Keys]"
          ],
          [
           "I Bet You Look Good On The Dancefloor"
          ],
          [
           "Like a Virgin"
          ],
          [
           "Into the Groove"
          ],
          [
           "Let It Happen"
          ],
          [
           "Cranes in the Sky"
          ],
          [
           "Song 2 - 2012 Remaster"
          ],
          [
           "Purple Rain"
          ],
          [
           "Wuthering Heights"
          ],
          [
           "Born In The U.S.A."
          ],
          [
           "Kids"
          ],
          [
           "Nuthin' But A \"G\" Thang"
          ],
          [
           "Peggy Sue - Single Version"
          ],
          [
           "White Rabbit"
          ],
          [
           "Kiss"
          ],
          [
           "Sunday Bloody Sunday"
          ],
          [
           "Psycho Killer - 2005 Remaster"
          ],
          [
           "Tainted Love"
          ],
          [
           "Little Red Corvette"
          ],
          [
           "Family Affair - Single Version"
          ],
          [
           "Can't Get You out of My Head"
          ],
          [
           "Honky Tonk Women - Mono Version"
          ],
          [
           "Your Best American Girl"
          ],
          [
           "Autobahn - 2009 Remaster"
          ],
          [
           "My Girls"
          ],
          [
           "Eleanor Rigby - Remastered"
          ],
          [
           "Get It On"
          ],
          [
           "There She Goes"
          ],
          [
           "Help! - Remastered"
          ],
          [
           "House Of Jealous Lovers"
          ],
          [
           "Last Nite"
          ],
          [
           "Le Freak"
          ],
          [
           "Won't Get Fooled Again - Original Album Version"
          ],
          [
           "In My Life - Remastered"
          ],
          [
           "Hurt"
          ],
          [
           "Ms. Jackson"
          ],
          [
           "Walk on By"
          ],
          [
           "Folsom Prison Blues"
          ],
          [
           "Sign 'O' the Times - Single Version"
          ],
          [
           "bad guy"
          ],
          [
           "Teenage Kicks"
          ],
          [
           "This Is America"
          ],
          [
           "Blowin' in the Wind"
          ],
          [
           "I Walk The Line - Single Version"
          ],
          [
           "Brown Eyed Girl"
          ],
          [
           "Blueberry Hill"
          ],
          [
           "Planet Rock"
          ],
          [
           "Crazy"
          ],
          [
           "Bo Diddley"
          ],
          [
           "Subterranean Homesick Blues"
          ],
          [
           "Mr. Brightside"
          ],
          [
           "People Get Ready - Single Version"
          ],
          [
           "Virginia Plain"
          ],
          [
           "Runaway"
          ],
          [
           "Baba O'Riley"
          ],
          [
           "Go Your Own Way"
          ],
          [
           "Two Weeks"
          ],
          [
           "(White Man) In Hammersmith Palais"
          ],
          [
           "(Don't Fear) The Reaper"
          ],
          [
           "Penny Lane - Remastered"
          ],
          [
           "Smoke On the Water"
          ],
          [
           "Toxic"
          ],
          [
           "Roadrunner (Twice)"
          ],
          [
           "Don't You Want Me"
          ],
          [
           "Bad Girls"
          ],
          [
           "Changes - 1999 Remastered Version"
          ],
          [
           "Don't Stop 'Til You Get Enough"
          ],
          [
           "Let It Be - Remastered"
          ],
          [
           "Don't Be Cruel"
          ],
          [
           "Papa Was A Rollin' Stone - Single Version"
          ],
          [
           "Rolling in the Deep"
          ],
          [
           "Living For The City"
          ],
          [
           "Gloria (feat. Van Morrison) - Mono Version"
          ],
          [
           "Try A Little Tenderness"
          ],
          [
           "I Wanna Be Your Dog"
          ],
          [
           "1979"
          ],
          [
           "The Girl From Ipanema"
          ],
          [
           "You Send Me"
          ],
          [
           "Wild Thing"
          ],
          [
           "Ziggy Stardust - 2012 Remastered Version"
          ],
          [
           "In the Midnight Hour"
          ],
          [
           "Wichita Lineman - Remastered 2001"
          ],
          [
           "I Got You (I Feel Good)"
          ],
          [
           "Idioteque"
          ],
          [
           "Sunshine Of Your Love"
          ],
          [
           "Search and Destroy - Iggy Pop Mix"
          ],
          [
           "While My Guitar Gently Weeps - Remastered"
          ],
          [
           "Ever Fallen in Love (With Someone You Shouldn't've?) - 1996 Remastered Version"
          ],
          [
           "The Times They Are A-Changin'"
          ],
          [
           "With Or Without You - Remastered"
          ],
          [
           "Mystery Train"
          ],
          [
           "Leader Of The Pack"
          ],
          [
           "Let's Get It On"
          ],
          [
           "La Bamba"
          ],
          [
           "Dance Yrself Clean"
          ],
          [
           "Relax"
          ],
          [
           "The Model - 2009 Remaster"
          ],
          [
           "Rebellion (Lies)"
          ],
          [
           "Don't Worry Baby (Mono) - Remastered"
          ],
          [
           "Debaser"
          ],
          [
           "Sweet Jane"
          ],
          [
           "Why Do Fools Fall In Love"
          ],
          [
           "Running Up That Hill (A Deal With God)"
          ],
          [
           "Beat It"
          ],
          [
           "Wish You Were Here - 2011 Remastered Version"
          ],
          [
           "Sabotage - 2009 Digital Remaster"
          ],
          [
           "Alone Again Or"
          ],
          [
           "One More Time"
          ],
          [
           "Green Light"
          ],
          [
           "Over And Over"
          ],
          [
           "All the Young Dudes"
          ],
          [
           "The Boys Are Back In Town"
          ],
          [
           "Lose Yourself - Soundtrack Version"
          ],
          [
           "212"
          ],
          [
           "Firestarter"
          ],
          [
           "Kick Out the Jams"
          ],
          [
           "See Emily Play - 2001 Remastered Version"
          ],
          [
           "Two Weeks"
          ],
          [
           "Girls & Boys - 2012 Remaster"
          ],
          [
           "Son Of A Preacher Man"
          ],
          [
           "Cannonball"
          ],
          [
           "B.O.B. - Bombs Over Baghdad"
          ],
          [
           "Thinkin Bout You"
          ],
          [
           "Many Rivers To Cross"
          ],
          [
           "Gold Digger"
          ],
          [
           "Israelites"
          ],
          [
           "Something - Remastered"
          ],
          [
           "Ring Of Fire - Single Version"
          ],
          [
           "Sexual Healing"
          ],
          [
           "Cross Road Blues"
          ],
          [
           "Highway To Hell"
          ],
          [
           "Born To Be Wild"
          ],
          [
           "Da Funk"
          ],
          [
           "Theme From Shaft"
          ],
          [
           "Brass in Pocket"
          ],
          [
           "Shake, Rattle and Roll"
          ],
          [
           "(I'm Your) Hoochie Coochie Man"
          ],
          [
           "Jesus Walks"
          ],
          [
           "Suzanne"
          ],
          [
           "Bye Bye Love"
          ],
          [
           "Windowlicker"
          ],
          [
           "Heartbeats"
          ],
          [
           "School's Out"
          ],
          [
           "Stop! In The Name Of Love"
          ],
          [
           "La Vie en rose"
          ],
          [
           "Fell In Love With a Girl"
          ],
          [
           "Enter Sandman"
          ],
          [
           "Je t'aime moi non plus"
          ],
          [
           "Where Is My Mind?"
          ],
          [
           "96 Tears"
          ],
          [
           "Stan"
          ],
          [
           "Radio Free Europe"
          ],
          [
           "Bring The Noise"
          ],
          [
           "Ace Of Spades"
          ],
          [
           "Where Did Our Love Go - Stereo Version"
          ],
          [
           "Teen Age Riot"
          ],
          [
           "(Your Love Keeps Lifting Me) Higher and Higher"
          ],
          [
           "Wake Up"
          ],
          [
           "Rumble"
          ],
          [
           "Gimme Some Lovin' - Single Mix"
          ],
          [
           "Gloria: In Excelsis Deo"
          ],
          [
           "Back In Black"
          ],
          [
           "Tumbling Dice"
          ],
          [
           "Summer in the City - Remastered"
          ],
          [
           "Blind"
          ],
          [
           "Killing In The Name"
          ],
          [
           "Only the Lonely (Know the Way I Feel)"
          ],
          [
           "Just Like Heaven"
          ],
          [
           "Sweet Dreams (Are Made of This) - Remastered"
          ],
          [
           "Young Folks"
          ],
          [
           "Seventeen"
          ],
          [
           "Sweet Home Alabama"
          ],
          [
           "I Can't Explain - Original Mono Version"
          ],
          [
           "Groove Is in the Heart"
          ],
          [
           "Float On"
          ],
          [
           "White Christmas"
          ],
          [
           "You Can't Always Get What You Want"
          ],
          [
           "Move on Up - Extended Version"
          ],
          [
           "cellophane"
          ],
          [
           "I Can't Stand The Rain"
          ],
          [
           "Free Bird"
          ],
          [
           "Bodak Yellow"
          ],
          [
           "Lust For Life"
          ],
          [
           "Heart of Gold"
          ],
          [
           "HUMBLE."
          ],
          [
           "Ashes to Ashes"
          ],
          [
           "King Kunta"
          ],
          [
           "I Say a Little Prayer"
          ],
          [
           "West End Blues"
          ],
          [
           "I Can See For Miles - Mono Version"
          ],
          [
           "I Get Around (Mono)"
          ],
          [
           "More Than a Feeling"
          ],
          [
           "I Am The Walrus - Remastered"
          ],
          [
           "Under the Bridge"
          ],
          [
           "Around the World"
          ],
          [
           "Lola"
          ],
          [
           "Georgia On My Mind"
          ],
          [
           "Do You Realize??"
          ],
          [
           "Hey Joe"
          ],
          [
           "It's The End Of The World As We Know It (And I Feel Fine)"
          ],
          [
           "Body and Soul"
          ],
          [
           "Dazed and Confused - 1990 Remaster"
          ],
          [
           "1901"
          ],
          [
           "Fight For Your Right"
          ],
          [
           "Archangel"
          ],
          [
           "Ticket To Ride - Remastered"
          ],
          [
           "Sultans Of Swing"
          ],
          [
           "Fools Gold - Remastered"
          ],
          [
           "Crying"
          ],
          [
           "West End Girls - 2001 Remaster"
          ],
          [
           "Rocket 88 - Single Version"
          ],
          [
           "Chicago"
          ],
          [
           "Mannish Boy"
          ],
          [
           "Roll Over Beethoven"
          ],
          [
           "Instant Karma! (We All Shine On) - Remastered 2010"
          ],
          [
           "Minnie The Moocher (03-03-31)"
          ],
          [
           "Work"
          ],
          [
           "You Oughta Know"
          ],
          [
           "Pink Moon"
          ],
          [
           "American Pie"
          ],
          [
           "Fake Plastic Trees"
          ],
          [
           "I've Been Loving You Too Long"
          ],
          [
           "No One Knows"
          ],
          [
           "Monkey Gone to Heaven"
          ],
          [
           "Somebody to Love"
          ],
          [
           "Welcome To The Jungle"
          ],
          [
           "Loaded"
          ],
          [
           "Going Underground"
          ],
          [
           "Round Midnight"
          ],
          [
           "Long Tall Sally"
          ],
          [
           "I Put a Spell on You"
          ],
          [
           "Boogie Chillen"
          ],
          [
           "Come Together - Remastered"
          ],
          [
           "Pump Up The Volume (UK 12\" Remix)"
          ],
          [
           "Ohio"
          ],
          [
           "1999"
          ],
          [
           "Glory Box"
          ],
          [
           "Mack the Knife - Edit; 2006 Remaster"
          ],
          [
           "One Nation Under A Groove"
          ],
          [
           "Since U Been Gone"
          ],
          [
           "Jolene"
          ],
          [
           "Blister in the Sun - 2002 Remastered Version"
          ],
          [
           "Moondance"
          ],
          [
           "Jump"
          ],
          [
           "Blank Generation"
          ],
          [
           "Wild Horses"
          ],
          [
           "Norwegian Wood (This Bird Has Flown) - Remastered"
          ],
          [
           "Girls Just Want to Have Fun"
          ],
          [
           "I'm a Believer"
          ],
          [
           "I Will Survive - Single Version"
          ],
          [
           "Another Brick In The Wall, Pt. 2 - 2011 Remastered Version"
          ],
          [
           "Roxanne - Remastered 2003"
          ],
          [
           "A Love Supreme Part I: Acknowledgement"
          ],
          [
           "The Killing Moon"
          ],
          [
           "Under Pressure"
          ],
          [
           "In The Still Of The Nite"
          ],
          [
           "Pride (In The Name Of Love) - Remastered 2009"
          ],
          [
           "Da Doo Ron Ron (When He Walked Me Home)"
          ],
          [
           "My Name Is"
          ],
          [
           "There Goes My Baby - Single Version; 2019 Remaster"
          ],
          [
           "Wolf Like Me"
          ],
          [
           "Just Like Honey"
          ],
          [
           "Bizarre Love Triangle"
          ],
          [
           "Bad Moon Rising"
          ],
          [
           "You Really Got A Hold On Me"
          ],
          [
           "Pedestrian at Best"
          ],
          [
           "Straight Outta Compton"
          ],
          [
           "Dance to the Music"
          ],
          [
           "The End"
          ],
          [
           "St Louis Blues"
          ],
          [
           "The Loco-Motion"
          ],
          [
           "Hannah Hunt"
          ],
          [
           "Paid In Full"
          ],
          [
           "Such Great Heights"
          ],
          [
           "I've Got a Woman"
          ],
          [
           "O Superman"
          ],
          [
           "Another Girl, Another Planet - 2008 re-mastered version"
          ],
          [
           "Sheena Is a Punk Rocker - 2009 Remaster"
          ],
          [
           "Voodoo Child (Slight Return)"
          ],
          [
           "Midnight Train to Georgia"
          ],
          [
           "I Know There's Gonna Be (Good Times)"
          ],
          [
           "Because the Night"
          ],
          [
           "No Scrubs"
          ],
          [
           "You're Gonna Miss Me (2008 Remastered Original Mono LP Version)"
          ],
          [
           "All I Have to Do Is Dream - Single Version; 2006 Remaster"
          ],
          [
           "Come On Eileen"
          ],
          [
           "My Sweet Lord - 2001 Digital Remaster"
          ],
          [
           "Should I Stay or Should I Go"
          ],
          [
           "Yonkers"
          ],
          [
           "Reflektor"
          ],
          [
           "Enjoy the Silence"
          ],
          [
           "New Slang"
          ],
          [
           "Ultralight Beam"
          ],
          [
           "Hope There's Someone"
          ],
          [
           "New Rose"
          ],
          [
           "Ignition - Remix"
          ],
          [
           "Boys Don't Cry"
          ],
          [
           "Street Fighting Man"
          ],
          [
           "I Only Have Eyes For You"
          ],
          [
           "Run Away With Me"
          ],
          [
           "Transmission"
          ],
          [
           "All Apologies"
          ],
          [
           "A Hard Day's Night - Remastered"
          ],
          [
           "Skinny Love"
          ],
          [
           "Me and Bobby McGee"
          ],
          [
           "Music Sounds Better With You - Radio Edit"
          ],
          [
           "Freak Scene"
          ],
          [
           "Queen"
          ],
          [
           "Your Song"
          ],
          [
           "Starman - 2012 Remastered Version"
          ],
          [
           "Make Me Feel"
          ],
          [
           "Crystalised"
          ],
          [
           "The Letter"
          ],
          [
           "Milkshake"
          ],
          [
           "Zombie"
          ],
          [
           "Where It's At"
          ],
          [
           "Come As You Are"
          ],
          [
           "Everybody Hurts"
          ],
          [
           "We Are Your Friends - Justice Vs Simian"
          ],
          [
           "The Rat"
          ],
          [
           "Fire and Rain"
          ],
          [
           "It's A Man's Man's Man's World"
          ],
          [
           "Fuck Tha Police"
          ],
          [
           "Young Americans - 2007 Remaster"
          ],
          [
           "The Seed (2.0)"
          ],
          [
           "September Gurls"
          ],
          [
           "Cathy's Clown - Single Version; 2006 Remaster"
          ],
          [
           "Viva La Vida"
          ],
          [
           "Smokestack Lightnin'"
          ],
          [
           "Nights"
          ],
          [
           "That's Entertainment"
          ],
          [
           "I Love Rock 'N Roll"
          ],
          [
           "Tired Of Being Alone"
          ],
          [
           "Alison"
          ],
          [
           "Cry Me a River"
          ],
          [
           "Rock & Roll"
          ],
          [
           "Rid Of Me"
          ],
          [
           "These Boots Are Made for Walkin'"
          ],
          [
           "Thank You (Falettinme Be Mice Elf Agin) - Single Version"
          ],
          [
           "Black Hole Sun"
          ],
          [
           "You Can't Hurry Love"
          ],
          [
           "Round And Round"
          ],
          [
           "Visions of Johanna"
          ],
          [
           "Venus In Furs"
          ],
          [
           "Shout, Pts. 1 & 2"
          ],
          [
           "Trans-Europe Express - 2009 Remaster"
          ],
          [
           "Rock the Casbah"
          ],
          [
           "Hound Dog"
          ],
          [
           "Clint Eastwood"
          ],
          [
           "Closer"
          ],
          [
           "Ain't No Sunshine"
          ],
          [
           "Juice"
          ],
          [
           "Lazarus"
          ],
          [
           "So What (feat. John Coltrane, Cannonball Adderley & Bill Evans)"
          ],
          [
           "Not"
          ],
          [
           "Time After Time"
          ],
          [
           "We Found Love"
          ],
          [
           "DNA."
          ],
          [
           "Immigrant Song"
          ],
          [
           "I've Got You Under My Skin - Remastered 1998"
          ],
          [
           "Karma Police"
          ],
          [
           "Everlong"
          ],
          [
           "The Twist"
          ],
          [
           "Do I Wanna Know?"
          ],
          [
           "D.A.N.C.E."
          ],
          [
           "Revolution - Remastered"
          ],
          [
           "Work It"
          ],
          [
           "Good Golly Miss Molly"
          ],
          [
           "Who Do You Love - Single Version"
          ],
          [
           "War"
          ],
          [
           "Bloodbuzz Ohio"
          ],
          [
           "Comfortably Numb - 2011 Remastered Version"
          ],
          [
           "Perfect Day"
          ],
          [
           "Sour Times"
          ],
          [
           "Yellow"
          ],
          [
           "Helter Skelter - Remastered"
          ],
          [
           "Cortez The Killer"
          ],
          [
           "Famous Blue Raincoat"
          ],
          [
           "Redemption Song"
          ],
          [
           "Waiting Room"
          ],
          [
           "Juicy - 2005 Remaster"
          ],
          [
           "Get Up, Stand Up"
          ],
          [
           "Ne me quitte pas"
          ],
          [
           "It's Too Late"
          ],
          [
           "The Rockafeller Skank - Full Version"
          ],
          [
           "Desolation Row"
          ],
          [
           "Since I Left You"
          ],
          [
           "In The Air Tonight"
          ],
          [
           "Shut Up Kiss Me"
          ],
          [
           "Hate To Say I Told You So"
          ],
          [
           "I Never Loved a Man (The Way I Love You)"
          ],
          [
           "Riders on the Storm"
          ],
          [
           "I'm Not In Love"
          ],
          [
           "Stand By Your Man"
          ],
          [
           "Wake up Little Susie - Single Version; 2006 Remaster"
          ],
          [
           "Unchained Melody"
          ],
          [
           "Blackstar"
          ],
          [
           "The One I Love"
          ],
          [
           "Ray of Light"
          ],
          [
           "Ain't That A Shame"
          ],
          [
           "thank u, next"
          ],
          [
           "Working Class Hero - Remastered 2010"
          ],
          [
           "Chain of Fools"
          ],
          [
           "The Night They Drove Old Dixie Down - Remastered 2000"
          ],
          [
           "Holocene"
          ],
          [
           "Cut Your Hair"
          ],
          [
           "Blue Yodel #1 (t For Texas)"
          ],
          [
           "...Baby One More Time"
          ],
          [
           "Jeremy"
          ],
          [
           "Vogue"
          ],
          [
           "I Still Haven't Found What I'm Looking For - Remastered 2007"
          ],
          [
           "Dreams"
          ],
          [
           "Old Town Road - Remix"
          ],
          [
           "Higher Ground"
          ],
          [
           "Who'll Stop The Rain"
          ],
          [
           "He's a Rebel"
          ],
          [
           "Walk This Way"
          ],
          [
           "Friday On My Mind"
          ],
          [
           "California Love"
          ],
          [
           "The River"
          ],
          [
           "The Harder They Come - From \"The Harder They Come\" Soundtrack"
          ],
          [
           "MALAMENTE - Cap.1: Augurio"
          ],
          [
           "Everyday People"
          ],
          [
           "Soul Man"
          ],
          [
           "The Thrill Is Gone"
          ],
          [
           "Waterfalls"
          ],
          [
           "Take on Me"
          ],
          [
           "White Winter Hymnal"
          ],
          [
           "The Passenger"
          ],
          [
           "Odessa"
          ],
          [
           "Everything Is Embarrassing"
          ],
          [
           "Bags"
          ],
          [
           "In the Mood"
          ],
          [
           "Do You Believe in Magic?"
          ],
          [
           "Earth Angel (Will You Be Mine)"
          ],
          [
           "Can't Do Without You"
          ],
          [
           "Fairytale of New York (feat. Kirsty MacColl)"
          ],
          [
           "Sprawl II (Mountains Beyond Mountains)"
          ],
          [
           "Lisztomania"
          ],
          [
           "Killing Me Softly With His Song"
          ],
          [
           "My Funny Valentine"
          ],
          [
           "Message In A Bottle"
          ],
          [
           "Koko"
          ],
          [
           "Someone Great"
          ],
          [
           "The Boxer"
          ],
          [
           "Teardrop"
          ],
          [
           "Fade Into You"
          ],
          [
           "Personal Jesus"
          ],
          [
           "Thirteen"
          ],
          [
           "Where The Streets Have No Name - Remastered 2007"
          ],
          [
           "Back To Life (However Do You Want Me) [feat. Caron Wheeler] - 2003 Remastered Version"
          ],
          [
           "All You Need Is Love - Remastered"
          ],
          [
           "Yakety Yak"
          ],
          [
           "Tightrope (feat. Big Boi) - Big Boi Vocal Edit"
          ],
          [
           "I Fought the Law - Single Version"
          ],
          [
           "Push It"
          ],
          [
           "Love Is The Drug"
          ],
          [
           "I Will Move On Up A Little Higher - Part 1"
          ],
          [
           "The House That Heaven Built"
          ],
          [
           "What A Wonderful World"
          ],
          [
           "Jesus, Etc."
          ],
          [
           "Cry Me A River"
          ],
          [
           "Brimful of Asha (Norman Cook Remix) (Single Version)"
          ],
          [
           "All Right Now"
          ],
          [
           "Daniel"
          ],
          [
           "Shipbuilding - Remastered in 1998"
          ],
          [
           "Chandelier"
          ],
          [
           "Retrograde"
          ],
          [
           "Paperback Writer - Remastered"
          ],
          [
           "Standing In The Way Of Control"
          ],
          [
           "Rockin' in the Free World"
          ],
          [
           "Let's Dance - 1999 Remaster"
          ],
          [
           "One Day Like This"
          ],
          [
           "You Shook Me All Night Long"
          ],
          [
           "Apache"
          ],
          [
           "Happiness Is A Warm Gun - Remastered"
          ],
          [
           "Telstar - Remastered"
          ],
          [
           "At Last - Single Version"
          ],
          [
           "Hard To Explain"
          ],
          [
           "Rebel Rebel - 1999 Remaster"
          ],
          [
           "Fast Car"
          ],
          [
           "Shine On You Crazy Diamond, Pts. 1-5 - 2011 Remastered Version"
          ],
          [
           "More Than This"
          ],
          [
           "Dust My Broom"
          ],
          [
           "Losing You"
          ],
          [
           "Hallelujah"
          ],
          [
           "Blue Moon Of Kentucky - Original"
          ],
          [
           "Hallelujah"
          ],
          [
           "Piece of My Heart"
          ],
          [
           "Police & Thieves"
          ],
          [
           "Hold On, We're Going Home"
          ],
          [
           "Maybe I’m Amazed - Remastered 2011"
          ],
          [
           "True Faith - 2015 Remaster"
          ],
          [
           "A-Punk"
          ],
          [
           "White Lines (Don't Don't Do It) - Long Version"
          ],
          [
           "Block Rockin' Beats"
          ],
          [
           "Love To Love You Baby"
          ],
          [
           "Digital Love"
          ],
          [
           "Video Killed The Radio Star"
          ],
          [
           "Doo Wop (That Thing)"
          ],
          [
           "Dream On"
          ],
          [
           "21st Century Schizoid Man"
          ],
          [
           "Miss You - Remastered"
          ],
          [
           "Positively 4th Street - Single Version"
          ],
          [
           "Here Comes The Sun - Remastered"
          ],
          [
           "Last Goodbye"
          ],
          [
           "Gone"
          ],
          [
           "Bad Romance"
          ],
          [
           "Me Myself And I"
          ],
          [
           "Pretty Vacant"
          ],
          [
           "Shot By Both Sides - Remastered"
          ],
          [
           "Boom Boom"
          ],
          [
           "Knockin' On Heaven's Door"
          ],
          [
           "Move It - 2000 Remaster"
          ],
          [
           "Please Mr. Postman - Single Version / Mono"
          ],
          [
           "Single Ladies (Put a Ring on It)"
          ],
          [
           "Just Like a Woman"
          ],
          [
           "The Boys Of Summer"
          ],
          [
           "This Town Ain't Big Enough For Both Of Us"
          ],
          [
           "The Dark End of the Street"
          ],
          [
           "Alive"
          ],
          [
           "Personality Crisis"
          ],
          [
           "I Wanna Be Sedated - Remastered"
          ],
          [
           "New Year's Day"
          ],
          [
           "Archie, Marry Me"
          ],
          [
           "Heart-Shaped Box"
          ],
          [
           "Love It If We Made It"
          ],
          [
           "Turn! Turn! Turn! (To Everything There Is a Season)"
          ],
          [
           "Public Image"
          ],
          [
           "Rock Lobster"
          ],
          [
           "How High The Moon"
          ],
          [
           "Inner City Blues (Make Me Wanna Holler)"
          ],
          [
           "Surrender"
          ],
          [
           "Take Five"
          ],
          [
           "Call Me Maybe"
          ],
          [
           "Feels Like We Only Go Backwards"
          ],
          [
           "My Love - Single Version"
          ],
          [
           "Runaround Sue"
          ],
          [
           "Let's Spend The Night Together - Stereo Version"
          ],
          [
           "Band Of Gold (Single Mix)"
          ],
          [
           "I'm A Man - Single Version"
          ],
          [
           "Everyday Is Like Sunday"
          ],
          [
           "1 Thing"
          ],
          [
           "Livin' On A Prayer"
          ],
          [
           "Damaged Goods"
          ],
          [
           "Lithium"
          ],
          [
           "Buddy Holly"
          ],
          [
           "Ni**as In Paris"
          ],
          [
           "It Takes Two"
          ],
          [
           "Hey Hey, My My (Into The Black)"
          ],
          [
           "Hurricane"
          ],
          [
           "Don't Look Back In Anger"
          ],
          [
           "I Wanna Dance with Somebody (Who Loves Me)"
          ],
          [
           "Say It Loud - I'm Black And I'm Proud"
          ],
          [
           "Drop It Like It's Hot"
          ],
          [
           "L.E.S Artistes"
          ],
          [
           "Can't Stand Me Now"
          ],
          [
           "Atlas"
          ],
          [
           "Suite: Judy Blue Eyes - 2005 Remaster"
          ],
          [
           "Substitute - Single Version"
          ],
          [
           "Birthday"
          ],
          [
           "One O'clock Jump"
          ],
          [
           "Banquet"
          ],
          [
           "(Love Is Like A) Heat Wave - Single Version"
          ],
          [
           "Cars - Remastered 2009"
          ],
          [
           "I Fall To Pieces - Single Version"
          ],
          [
           "Try Again"
          ],
          [
           "Rebel Without A Pause"
          ],
          [
           "Complete Control"
          ],
          [
           "Don't Believe The Hype"
          ],
          [
           "Jealous Guy - Remastered 2010"
          ],
          [
           "Race For The Prize"
          ],
          [
           "Lucy In The Sky With Diamonds - Remastered"
          ],
          [
           "Fix Up, Look Sharp"
          ],
          [
           "Clocks"
          ],
          [
           "Angie - Remastered 2009"
          ],
          [
           "Just My Imagination (Running Away With Me)"
          ],
          [
           "Night Moves"
          ],
          [
           "Sex & Drugs & Rock & Roll"
          ],
          [
           "Iron Man"
          ],
          [
           "Wooly Bully"
          ],
          [
           "Climax"
          ],
          [
           "American Girl"
          ],
          [
           "Money - 2011 Remastered Version"
          ],
          [
           "Little Wing"
          ],
          [
           "River Man"
          ],
          [
           "Everything in Its Right Place"
          ],
          [
           "Ode To Billie Joe"
          ],
          [
           "Summer Babe (Winter Version)"
          ],
          [
           "Making Plans For Nigel"
          ],
          [
           "Faith - Remastered"
          ],
          [
           "Surfin' Usa"
          ],
          [
           "America - Single Mix"
          ],
          [
           "Surf's Up - Remastered 2009"
          ],
          [
           "Uptown Top Ranking - Remastered 2001"
          ],
          [
           "The Revolution Will Not Be Televised"
          ],
          [
           "Thriller"
          ],
          [
           "Hellhound On My Trail"
          ],
          [
           "Take the \"A\" Train"
          ],
          [
           "My Sharona"
          ],
          [
           "Some Velvet Morning"
          ],
          [
           "Watching The Detectives"
          ],
          [
           "Missing - Todd Terry Remix / Radio Edit"
          ],
          [
           "The Tears Of A Clown - Single Version / Mono"
          ],
          [
           "Atlantic City"
          ],
          [
           "Free Fallin'"
          ],
          [
           "A Case of You"
          ],
          [
           "I Got You Babe"
          ],
          [
           "EARFQUAKE"
          ],
          [
           "God Bless The Child"
          ],
          [
           "Walk Away Renee"
          ],
          [
           "The Mercy Seat - 2010 Digital Remaster"
          ],
          [
           "Pyramid Song"
          ],
          [
           "Can't Feel My Face"
          ],
          [
           "Holiday In Cambodia"
          ],
          [
           "Solsbury Hill"
          ],
          [
           "Borderline"
          ],
          [
           "Goodbye Yellow Brick Road"
          ],
          [
           "Genius Of Love"
          ],
          [
           "A Milli"
          ],
          [
           "Ballad of a Thin Man"
          ],
          [
           "No Diggity"
          ],
          [
           "Me and Guiliani Down by the School Yard - A True Story"
          ],
          [
           "Oliver's Army"
          ],
          [
           "Mrs. Robinson"
          ],
          [
           "Master Of Puppets"
          ],
          [
           "Monster"
          ],
          [
           "Bipp"
          ],
          [
           "Psychotic Reaction"
          ],
          [
           "In Da Club"
          ],
          [
           "Super Freak"
          ],
          [
           "Give It Away"
          ],
          [
           "Tiny Dancer"
          ],
          [
           "A Hard Rain's A-Gonna Fall"
          ],
          [
           "In the Ghetto"
          ],
          [
           "Sound and Vision - 1999 Remaster"
          ],
          [
           "Uptown Funk (feat. Bruno Mars)"
          ],
          [
           "Beautiful Day"
          ],
          [
           "Rock with You - Single Version"
          ],
          [
           "La Grange - 2005 Remaster"
          ],
          [
           "A Forest"
          ],
          [
           "Mask Off (feat. Kendrick Lamar) - Remix"
          ],
          [
           "Spanish Harlem"
          ],
          [
           "Close To Me"
          ],
          [
           "Galang"
          ],
          [
           "Soon"
          ],
          [
           "Hyperballad"
          ],
          [
           "The Needle and the Damage Done - 2009 Remaster"
          ],
          [
           "She's Not There"
          ],
          [
           "Stillness Is The Move"
          ],
          [
           "Pressure Drop - Single Version"
          ],
          [
           "Dancing In The Dark"
          ],
          [
           "The Real Slim Shady"
          ],
          [
           "California Girls - Remix/Remastered 2001"
          ],
          [
           "Crimson & Clover"
          ],
          [
           "Across The Universe - Remastered"
          ],
          [
           "Masters of War"
          ],
          [
           "Say It Ain't So"
          ],
          [
           "The Sun Ain't Gonna Shine Anymore - Mono Version"
          ],
          [
           "American Idiot"
          ],
          [
           "After the Gold Rush"
          ],
          [
           "Everybody's Talkin' - From \"Midnight Cowboy\""
          ],
          [
           "Call Me"
          ],
          [
           "You're so Vain"
          ],
          [
           "Feel Good Inc."
          ],
          [
           "Bela Lugosi’s Dead"
          ],
          [
           "Champagne Supernova"
          ],
          [
           "C.R.E.A.M. (Cash Rules Everything Around Me) (feat. Method Man, Raekwon, Inspectah Deck & Buddha Monk)"
          ],
          [
           "My Favorite Things"
          ],
          [
           "About A Girl - Remastered"
          ],
          [
           "Lady Marmalade - Single Version"
          ],
          [
           "Caught Out There"
          ],
          [
           "Sex on Fire"
          ],
          [
           "Mind Playing Tricks On Me"
          ],
          [
           "In Dreams"
          ],
          [
           "Call It Stormy Monday (But Tuesday Is Just As Bad)"
          ],
          [
           "Basket Case"
          ],
          [
           "Train in Vain"
          ],
          [
           "Gold Soundz"
          ],
          [
           "Back Stabbers"
          ],
          [
           "Nobody"
          ],
          [
           "Sledgehammer"
          ],
          [
           "Don't Dream It's Over"
          ],
          [
           "1234"
          ],
          [
           "Super Bass"
          ],
          [
           "We Will Rock You"
          ],
          [
           "Blank Space"
          ],
          [
           "Money (That's What I Want) - Single Version / Mono"
          ],
          [
           "Piano Man"
          ],
          [
           "It's Like That"
          ],
          [
           "Walk, Don't Run"
          ],
          [
           "Atomic Dog"
          ],
          [
           "You Get What You Give"
          ],
          [
           "What You Know"
          ],
          [
           "Only Shallow"
          ],
          [
           "You Made Me Realise - Remastered Version"
          ],
          [
           "Everybody Wants To Rule The World"
          ],
          [
           "Touch Me I'm Sick"
          ],
          [
           "He Stopped Loving Her Today - Single Version"
          ],
          [
           "I Saw Her Standing There - Remastered"
          ],
          [
           "Who Knows Where The Time Goes?"
          ],
          [
           "Mood Indigo"
          ],
          [
           "You Keep Me Hangin' On - Album Version / Stereo"
          ],
          [
           "Only You - And You Alone"
          ],
          [
           "Rock Island Line - Mono Version"
          ],
          [
           "Mercy Mercy Me (The Ecology)"
          ],
          [
           "Atmosphere"
          ],
          [
           "It's Alright, Ma (I'm Only Bleeding)"
          ],
          [
           "Rock And Roll"
          ],
          [
           "Don't Think Twice, It's All Right"
          ],
          [
           "I Shot The Sheriff"
          ],
          [
           "Machine Gun"
          ],
          [
           "Got My Mojo Working"
          ],
          [
           "Int'l Players Anthem (I Choose You)"
          ],
          [
           "Loud Places"
          ],
          [
           "Sail Away - 2002 Remaster"
          ],
          [
           "L.A. Woman - Remaster"
          ],
          [
           "Fame - 2007 Remaster"
          ],
          [
           "Red Eyes"
          ],
          [
           "My Way"
          ],
          [
           "Lonely Boy"
          ],
          [
           "Ain't Misbehavin"
          ],
          [
           "Supersonic"
          ],
          [
           "My Guy - Single Version"
          ],
          [
           "Boy From School"
          ],
          [
           "Band On The Run - Remastered 2010"
          ],
          [
           "The Scientist"
          ],
          [
           "Praise You"
          ],
          [
           "Buffalo Stance"
          ],
          [
           "Coal Miner's Daughter - Single Version"
          ],
          [
           "Ain't No Mountain High Enough - Stereo Version"
          ],
          [
           "Caldonia"
          ],
          [
           "Sunday Morning"
          ],
          [
           "Lucille"
          ],
          [
           "Hit the Road Jack"
          ],
          [
           "Big Yellow Taxi"
          ],
          [
           "Jungleland"
          ],
          [
           "You Want It Darker"
          ],
          [
           "Dark Star - Single Version"
          ],
          [
           "White Riot"
          ],
          [
           "SICKO MODE"
          ],
          [
           "Are 'Friends' Electric?"
          ],
          [
           "Izzo (H.O.V.A.)"
          ],
          [
           "We Are The Champions - Remastered 2011"
          ],
          [
           "Hold On, I'm Comin'"
          ],
          [
           "Gin And Juice (feat. Dat Nigga Daz)"
          ],
          [
           "Whip It"
          ],
          [
           "Love In Vain"
          ],
          [
           "Paradise City"
          ],
          [
           "Astronomy Domine - 2011 Remastered Version"
          ],
          [
           "Ruby Tuesday - Stereo Version"
          ],
          [
           "I Like It"
          ],
          [
           "Bro's"
          ],
          [
           "Águas De Março"
          ],
          [
           "Sing, Sing, Sing"
          ],
          [
           "The Wilhelm Scream"
          ],
          [
           "Strings Of Life"
          ],
          [
           "Start Me Up - Remastered"
          ],
          [
           "Out of Time"
          ],
          [
           "Down By The Water"
          ],
          [
           "Animal Nitrate (Remastered)"
          ],
          [
           "Do You Really Want To Hurt Me"
          ],
          [
           "It Was A Good Day"
          ],
          [
           "You've Got To Hide Your Love Away - Remastered"
          ],
          [
           "Aqualung"
          ],
          [
           "When The Levee Breaks"
          ],
          [
           "Redbone"
          ],
          [
           "Latch"
          ],
          [
           "Step On"
          ],
          [
           "Sexy Boy"
          ],
          [
           "Time of the Season"
          ],
          [
           "If You Don't Know Me by Now (feat. Teddy Pendergrass)"
          ],
          [
           "Hurt"
          ],
          [
           "Wildwood Flower"
          ],
          [
           "Love Me Tender - From the 20th Century-Fox CinemaScope Production \"Love Me Tender\""
          ],
          [
           "A Teenager In Love"
          ],
          [
           "Superstar"
          ],
          [
           "Waltz #2 (XO)"
          ],
          [
           "Rollin' Stone"
          ],
          [
           "Wonderful World"
          ],
          [
           "Protect Ya Neck (feat. RZA, Method Man, Inspectah Deck, Raekwon, U-God, Ol' Dirty Bastard, Ghostface Killah & GZA)"
          ],
          [
           "Hung Up"
          ],
          [
           "Have You Ever Seen The Rain?"
          ],
          [
           "I Wanna Be Adored - Remastered"
          ],
          [
           "A New England"
          ],
          [
           "The Man Who Sold The World - 1999 Remastered Version"
          ],
          [
           "Cry"
          ],
          [
           "Down In The Tube Station At Midnight - Full Version"
          ],
          [
           "War Pigs"
          ],
          [
           "Don't Stop Believin'"
          ],
          [
           "(You Make Me Feel Like) A Natural Woman"
          ],
          [
           "Flying Home"
          ],
          [
           "Rocket Man (I Think It's Going To Be A Long Long Time)"
          ],
          [
           "The Adventures Of Grandmaster Flash On The Wheels Of Steel"
          ],
          [
           "Rosalita (Come out Tonight)"
          ],
          [
           "Staring At The Sun"
          ],
          [
           "O.P.P"
          ],
          [
           "C'mon Everybody"
          ],
          [
           "Zero"
          ],
          [
           "Fever"
          ],
          [
           "Into My Arms - 2011 - Remaster"
          ],
          [
           "Blind Willie McTell - Studio Outtake - 1983"
          ],
          [
           "Golden Skans"
          ],
          [
           "Wouldn't It Be Nice - Mono / Remastered"
          ],
          [
           "Do You Love Me - Mono Single"
          ],
          [
           "We Are Family - 1995 Remaster"
          ],
          [
           "Wannabe"
          ],
          [
           "Uptight (Everything's Alright) - Single Version"
          ],
          [
           "Under My Thumb"
          ],
          [
           "Atomic - Remastered/2001"
          ],
          [
           "The Breaks"
          ],
          [
           "Harmony Hall"
          ],
          [
           "Golden Slumbers - Remastered"
          ],
          [
           "You Make Me Feel (Mighty Real)"
          ],
          [
           "Good Riddance (Time of Your Life)"
          ],
          [
           "Luka"
          ],
          [
           "Sea Song"
          ],
          [
           "Then He Kissed Me"
          ],
          [
           "Help Me"
          ],
          [
           "White Room"
          ],
          [
           "What's Love Got To Do WIth It - 1997 Digital Remaster"
          ],
          [
           "The Winner Takes It All"
          ],
          [
           "Baby Love - Mono"
          ],
          [
           "For Your Love"
          ],
          [
           "Stay with Me - 2008 Remaster"
          ],
          [
           "Take Me To The River"
          ],
          [
           "Please Please Me - Remastered"
          ],
          [
           "Dark Was the Night, Cold Was the Ground"
          ],
          [
           "She's Gone"
          ],
          [
           "Rain - Remastered"
          ],
          [
           "The Great Pretender"
          ],
          [
           "Rock And Roll All Nite"
          ],
          [
           "Nuages - avec le Quintette Hot Club de France"
          ],
          [
           "Rockit"
          ],
          [
           "Drunk Drivers/Killer Whales"
          ],
          [
           "Pinball Wizard - Original Album Version"
          ],
          [
           "Up on the Roof - Single Version; 2017 Remaster"
          ],
          [
           "Burning Down the House - 2005 Remaster"
          ],
          [
           "Good Lovin' - Single Version"
          ],
          [
           "Cold Sweat"
          ],
          [
           "Sir Duke"
          ],
          [
           "Hong Kong Garden"
          ],
          [
           "20th Century Boy"
          ],
          [
           "Say My Name"
          ],
          [
           "No Surprises"
          ],
          [
           "Midnight Special"
          ],
          [
           "Timeless"
          ],
          [
           "Like a Hurricane"
          ],
          [
           "Ready or Not"
          ],
          [
           "Ramblin' Man"
          ],
          [
           "Lawdy Miss Clawdy - Single Version"
          ],
          [
           "Lonely Teardrops"
          ],
          [
           "Word Up"
          ],
          [
           "Gigantic"
          ],
          [
           "Jump Around"
          ],
          [
           "Save the Last Dance for Me - 2009 Remaster"
          ],
          [
           "Itchycoo Park"
          ],
          [
           "Temptation [7\" Version]"
          ],
          [
           "With Every Heartbeat - with Kleerup"
          ],
          [
           "Sh-Boom"
          ],
          [
           "Live and Let Die"
          ],
          [
           "I Can't Stop Loving You"
          ],
          [
           "All Along the Watchtower"
          ],
          [
           "Music"
          ],
          [
           "Happy Together"
          ],
          [
           "Honey"
          ],
          [
           "Not Fade Away"
          ],
          [
           "Teenage Dream"
          ],
          [
           "At The Hop"
          ],
          [
           "Your Cheatin' Heart - Single Version"
          ],
          [
           "Black Skinhead"
          ],
          [
           "Bring It On Home To Me"
          ],
          [
           "I Feel for You"
          ],
          [
           "Whipping Post"
          ],
          [
           "Just What I Needed"
          ],
          [
           "Get Off Of My Cloud - Mono Version / Remastered 2002"
          ],
          [
           "We The People...."
          ],
          [
           "Flash Light"
          ],
          [
           "Norf Norf"
          ],
          [
           "Killer Queen - Remastered 2011"
          ],
          [
           "She's Lost Control - 12\" Single Version"
          ],
          [
           "Reelin' In The Years"
          ],
          [
           "Helplessness Blues"
          ],
          [
           "Devils Haircut"
          ],
          [
           "Black Magic Woman / Gypsy Queen"
          ],
          [
           "A Girl Like You"
          ],
          [
           "Superfly"
          ],
          [
           "Sweet Little Sixteen"
          ],
          [
           "Wicked Game"
          ],
          [
           "Gangsters - 2015 Remaster"
          ],
          [
           "Dry Your Eyes"
          ],
          [
           "Electric Feel"
          ],
          [
           "Runnin' With The Devil"
          ],
          [
           "Holiday"
          ],
          [
           "Grindin'"
          ],
          [
           "Sister Ray"
          ],
          [
           "I Will Dare"
          ],
          [
           "Swanee"
          ],
          [
           "Don't You (Forget About Me)"
          ],
          [
           "Blackbird - Remastered"
          ],
          [
           "It Wasn't God Who Made Honky Tonk Angels"
          ],
          [
           "I Luv U"
          ],
          [
           "Soul Makossa"
          ],
          [
           "Regret"
          ],
          [
           "Black (First Movement Of Black, Brown And Beige) - Live"
          ],
          [
           "Can the Circle Be Unbroken"
          ],
          [
           "Little Fluffy Clouds"
          ],
          [
           "Kansas City"
          ],
          [
           "POWER"
          ],
          [
           "Sunny Afternoon"
          ],
          [
           "Crosstown Traffic"
          ],
          [
           "Pony Blues"
          ],
          [
           "It's a Sin - 2001 Remaster"
          ],
          [
           "One for My Baby - and One More for the Road"
          ],
          [
           "The Rip"
          ],
          [
           "Black Beatles"
          ],
          [
           "Manteca"
          ],
          [
           "Duke Of Earl"
          ],
          [
           "I Can’t Help Myself (Sugar Pie, Honey Bunch)"
          ],
          [
           "In My Room - Remastered"
          ],
          [
           "Rebel Girl"
          ],
          [
           "Mama Tried - Remastered 2001"
          ],
          [
           "Pristine"
          ],
          [
           "Ain't Too Proud To Beg"
          ],
          [
           "Rhapsody In Blue"
          ],
          [
           "Sixteen Tons"
          ],
          [
           "On Broadway - 2018 Remaster"
          ],
          [
           "Wipe Out"
          ],
          [
           "Connection"
          ],
          [
           "Disco Inferno"
          ],
          [
           "Crazy Blues"
          ],
          [
           "Fuck You"
          ],
          [
           "Hey Boy Hey Girl"
          ],
          [
           "I Want to Know What Love Is - 1999 Remaster"
          ],
          [
           "I Want You"
          ],
          [
           "The Suburbs"
          ],
          [
           "Dum Surfer"
          ],
          [
           "Black and Tan Fantasy"
          ],
          [
           "Our House (Remastered)"
          ]
         ],
         "hovertemplate": "x=%{x}<br>y=%{y}<br>title=%{customdata[0]}<br>cluster=%{marker.color}<extra></extra>",
         "legendgroup": "",
         "marker": {
          "color": [
           6,
           3,
           5,
           2,
           9,
           1,
           1,
           9,
           15,
           3,
           14,
           10,
           11,
           12,
           17,
           14,
           9,
           3,
           11,
           5,
           3,
           16,
           2,
           9,
           2,
           15,
           19,
           10,
           18,
           17,
           14,
           3,
           11,
           12,
           18,
           19,
           14,
           15,
           15,
           11,
           2,
           17,
           17,
           14,
           19,
           1,
           6,
           2,
           12,
           2,
           9,
           0,
           14,
           17,
           1,
           2,
           6,
           6,
           11,
           19,
           11,
           2,
           3,
           15,
           16,
           5,
           2,
           16,
           16,
           18,
           10,
           3,
           16,
           11,
           16,
           10,
           3,
           17,
           7,
           9,
           15,
           5,
           17,
           9,
           1,
           2,
           11,
           3,
           1,
           2,
           2,
           17,
           6,
           14,
           2,
           2,
           12,
           19,
           15,
           11,
           17,
           9,
           2,
           2,
           17,
           0,
           10,
           5,
           15,
           1,
           9,
           1,
           5,
           19,
           12,
           7,
           5,
           16,
           6,
           3,
           19,
           10,
           5,
           3,
           19,
           19,
           2,
           15,
           17,
           18,
           5,
           17,
           0,
           4,
           5,
           3,
           3,
           15,
           6,
           2,
           19,
           17,
           2,
           18,
           12,
           1,
           18,
           1,
           6,
           17,
           3,
           12,
           11,
           18,
           3,
           4,
           11,
           10,
           15,
           15,
           16,
           12,
           14,
           14,
           14,
           1,
           1,
           5,
           6,
           2,
           11,
           16,
           0,
           6,
           1,
           3,
           1,
           14,
           5,
           19,
           17,
           3,
           2,
           13,
           5,
           7,
           17,
           17,
           15,
           17,
           1,
           3,
           11,
           2,
           7,
           16,
           19,
           19,
           15,
           16,
           11,
           1,
           10,
           0,
           9,
           18,
           15,
           18,
           19,
           9,
           11,
           18,
           6,
           9,
           2,
           3,
           16,
           3,
           12,
           2,
           3,
           15,
           19,
           14,
           11,
           2,
           1,
           2,
           19,
           15,
           3,
           2,
           1,
           7,
           11,
           17,
           7,
           7,
           9,
           2,
           1,
           6,
           18,
           16,
           19,
           11,
           12,
           9,
           18,
           2,
           10,
           7,
           3,
           19,
           17,
           15,
           17,
           17,
           3,
           3,
           19,
           9,
           7,
           14,
           5,
           12,
           7,
           1,
           2,
           15,
           12,
           2,
           16,
           16,
           11,
           11,
           5,
           1,
           14,
           19,
           17,
           1,
           6,
           10,
           16,
           0,
           2,
           2,
           14,
           0,
           12,
           17,
           17,
           7,
           1,
           0,
           10,
           16,
           7,
           9,
           1,
           3,
           5,
           19,
           7,
           5,
           15,
           2,
           2,
           19,
           16,
           11,
           16,
           11,
           19,
           11,
           3,
           11,
           19,
           11,
           11,
           3,
           17,
           6,
           14,
           16,
           19,
           11,
           14,
           1,
           11,
           3,
           3,
           14,
           1,
           10,
           2,
           17,
           10,
           19,
           11,
           14,
           9,
           9,
           14,
           3,
           14,
           6,
           4,
           11,
           14,
           2,
           5,
           6,
           17,
           9,
           10,
           11,
           11,
           9,
           4,
           18,
           3,
           3,
           17,
           3,
           3,
           17,
           10,
           12,
           0,
           2,
           18,
           19,
           15,
           0,
           3,
           5,
           10,
           6,
           2,
           18,
           1,
           15,
           19,
           11,
           5,
           9,
           4,
           9,
           18,
           0,
           7,
           17,
           19,
           1,
           2,
           9,
           15,
           15,
           14,
           10,
           15,
           3,
           11,
           6,
           18,
           3,
           19,
           14,
           2,
           16,
           7,
           1,
           3,
           0,
           5,
           9,
           16,
           5,
           11,
           17,
           17,
           3,
           18,
           11,
           1,
           5,
           2,
           0,
           19,
           9,
           16,
           11,
           9,
           4,
           12,
           9,
           16,
           14,
           15,
           14,
           14,
           12,
           7,
           19,
           12,
           5,
           16,
           15,
           7,
           19,
           16,
           8,
           12,
           1,
           14,
           3,
           18,
           6,
           11,
           2,
           3,
           7,
           6,
           16,
           11,
           11,
           10,
           5,
           1,
           7,
           14,
           1,
           11,
           3,
           12,
           18,
           14,
           11,
           10,
           18,
           16,
           3,
           3,
           11,
           19,
           14,
           0,
           14,
           12,
           5,
           10,
           7,
           14,
           11,
           7,
           10,
           1,
           2,
           15,
           17,
           6,
           17,
           5,
           17,
           15,
           0,
           14,
           17,
           7,
           1,
           14,
           10,
           11,
           2,
           3,
           16,
           17,
           6,
           2,
           14,
           9,
           2,
           16,
           3,
           16,
           9,
           19,
           19,
           11,
           7,
           18,
           15,
           6,
           5,
           7,
           18,
           10,
           17,
           16,
           16,
           7,
           15,
           11,
           6,
           5,
           7,
           11,
           11,
           6,
           15,
           10,
           0,
           19,
           18,
           2,
           1,
           17,
           0,
           3,
           18,
           1,
           19,
           10,
           12,
           4,
           14,
           2,
           1,
           3,
           19,
           1,
           3,
           3,
           19,
           1,
           19,
           5,
           2,
           19,
           14,
           1,
           1,
           15,
           1,
           14,
           15,
           3,
           3,
           1,
           1,
           0,
           1,
           0,
           5,
           6,
           2,
           5,
           7,
           10,
           12,
           7,
           1,
           10,
           14,
           18,
           3,
           7,
           2,
           19,
           2,
           0,
           14,
           1,
           15,
           1,
           0,
           11,
           18,
           0,
           18,
           3,
           1,
           14,
           10,
           1,
           7,
           5,
           3,
           12,
           15,
           11,
           3,
           17,
           7,
           17,
           18,
           17,
           3,
           7,
           13,
           1,
           19,
           3,
           10,
           18,
           18,
           9,
           15,
           15,
           5,
           1,
           9,
           1,
           15,
           2,
           17,
           6,
           16,
           6,
           17,
           14,
           10,
           2,
           12,
           1,
           3,
           1,
           11,
           11,
           9,
           2,
           9,
           19,
           16,
           6,
           9,
           19,
           0,
           2,
           11,
           9,
           12,
           11,
           2,
           11,
           1,
           17,
           2,
           0,
           7,
           5,
           7,
           3,
           12,
           16,
           9,
           3,
           15,
           5,
           17,
           16,
           3,
           1,
           3,
           3,
           16,
           1,
           5,
           1,
           11,
           3,
           19,
           16,
           1,
           11,
           1,
           6,
           3,
           2,
           18,
           14,
           15,
           19,
           0,
           16,
           16,
           5,
           16,
           7,
           11,
           8,
           16,
           14,
           7,
           9,
           1,
           0,
           11,
           0,
           2,
           1,
           8,
           6,
           4,
           7,
           0,
           17,
           1,
           1,
           9,
           18,
           7,
           1,
           0,
           5,
           0,
           10,
           1,
           7,
           15,
           14,
           3,
           10,
           3,
           10,
           18,
           5,
           8,
           0,
           11,
           7,
           15,
           11,
           8,
           1,
           2,
           1,
           16,
           7,
           16,
           17,
           9,
           7,
           17,
           16,
           12,
           11,
           16,
           15,
           1,
           2,
           10,
           10,
           3,
           1,
           3,
           1,
           14,
           17,
           16,
           19,
           17,
           19,
           17,
           7,
           18,
           12,
           19,
           9,
           3,
           15,
           6,
           6,
           9,
           18,
           3,
           11,
           9,
           10,
           6,
           1,
           1,
           1,
           17,
           11,
           16,
           13,
           12,
           19,
           1,
           11,
           16,
           19,
           7,
           1,
           3,
           11,
           5,
           3,
           1,
           2,
           19,
           16,
           15,
           3,
           19,
           18,
           1,
           9,
           16,
           3,
           12,
           17,
           17,
           3,
           17,
           10,
           9,
           10,
           4,
           15,
           18,
           19,
           17,
           6,
           10,
           9,
           10,
           19,
           6,
           19,
           16,
           15,
           10,
           11,
           9,
           11,
           2,
           11,
           4,
           3,
           0,
           15,
           3,
           6,
           3,
           1,
           0,
           3,
           9,
           7,
           9,
           16,
           19,
           6,
           7,
           10,
           17,
           16,
           2,
           16,
           6,
           1,
           5,
           1,
           4,
           11,
           2,
           19,
           14,
           17,
           10,
           17,
           4,
           17,
           3,
           6,
           2,
           11,
           7,
           14,
           18,
           14,
           17,
           3,
           3,
           17,
           17,
           12,
           18,
           7,
           0,
           10,
           10,
           10,
           18,
           10,
           0,
           16,
           14,
           3,
           14,
           0,
           7,
           10,
           9,
           2,
           6,
           18,
           19,
           2,
           16,
           11,
           12,
           15,
           9,
           11,
           0,
           10,
           10,
           12,
           6,
           9,
           14,
           1,
           15,
           15,
           14,
           15,
           1,
           10,
           17,
           6,
           3,
           7,
           9,
           15,
           2,
           19,
           3,
           19,
           19,
           3,
           3,
           3,
           8,
           6,
           17,
           18,
           3,
           4,
           17,
           2,
           15,
           19,
           14,
           9,
           3,
           3,
           3,
           11,
           14,
           2,
           18,
           13,
           15,
           16,
           9,
           19,
           19,
           15,
           17,
           15,
           9,
           0,
           17,
           12,
           0,
           11,
           2,
           7,
           1,
           7,
           14,
           0,
           1,
           9,
           10,
           16,
           19,
           1,
           18,
           1,
           17,
           1,
           15,
           6,
           6,
           17,
           3,
           18,
           1,
           7,
           12,
           1,
           9,
           10,
           15,
           16,
           1,
           12,
           1,
           16,
           13,
           11,
           0,
           3,
           10,
           0,
           16,
           19,
           11,
           13,
           0,
           15,
           19,
           5,
           3,
           12,
           4,
           12,
           10,
           7,
           1,
           17,
           0,
           19,
           18,
           12,
           19,
           11,
           19,
           4,
           10,
           19,
           5,
           17,
           17,
           4,
           1,
           17,
           6,
           1,
           12,
           3,
           4,
           3
          ],
          "coloraxis": "coloraxis",
          "symbol": "circle"
         },
         "mode": "markers",
         "name": "",
         "showlegend": false,
         "type": "scattergl",
         "x": [
          0.21205630282529492,
          -1.1479053431310635,
          1.1374363557077163,
          0.8742672113061816,
          -0.10638093269107977,
          -1.3088490736959695,
          -1.192828013708412,
          -0.412664000462641,
          0.874367835129852,
          -1.6623887053172026,
          -2.27508966882636,
          1.9202500195333587,
          -0.8021688597611595,
          -0.8722717288521229,
          -2.011884047393092,
          0.08646786674100014,
          1.5891123297576968,
          -2.452353973856954,
          -0.6410724454512948,
          -1.3514968350946632,
          -1.18420088120968,
          -0.2160668323796444,
          1.0077107607060973,
          -0.3125396220059212,
          2.397691682981723,
          -1.0277239234411903,
          0.8050190683253879,
          2.751136443051909,
          2.429310457283867,
          -0.7098959857303875,
          -2.7233437276318244,
          -0.5025824823577354,
          -0.6909346231109595,
          0.1796355526491621,
          4.9841652754799615,
          -1.0396247670558054,
          -2.133844424715409,
          -0.2446548021019978,
          -1.5661860773322234,
          -1.0363662084066247,
          1.2055151912601685,
          -1.443913458658765,
          -1.5772011778461503,
          -0.8408684252559748,
          0.41017606352806374,
          -1.2590983319317106,
          1.8348499205569844,
          -0.17176786009967768,
          -0.041430179824607616,
          0.08916579152589446,
          -1.430369277830097,
          0.8803800318254132,
          -0.4320892359279662,
          0.062170758223732234,
          -1.6643416900024603,
          1.4185146547773537,
          1.3504416620219384,
          0.8244390352338868,
          -1.2459881305986384,
          -0.7657992495215977,
          -0.5246716111190851,
          1.128194889002876,
          -1.533648396403019,
          -0.5431352410803594,
          -0.4127679721565212,
          -1.963486349005757,
          -0.20561487011956145,
          -1.523256072442788,
          -2.1860256170396073,
          1.1205293784388566,
          3.1290486033786062,
          -0.512601896431531,
          -2.5554226037672163,
          -0.9662036784304687,
          -2.3237439015142254,
          2.2833241775063486,
          -1.3763095656376616,
          -1.5527538878203513,
          0.5542935741533022,
          -1.913512940643227,
          -1.098384667568634,
          -0.22157853735832292,
          -0.0651085309966264,
          -0.5591071496842046,
          -1.2306193381421098,
          0.3138638282144888,
          -1.998296270983442,
          -1.1536630186916914,
          0.22576547897238736,
          0.5203173062007987,
          -0.34790925435786807,
          -0.4567491970178478,
          0.1259531863279109,
          -1.7076337678594473,
          0.39559274814019024,
          0.7278931374200074,
          -1.70228641095806,
          0.7870536576498397,
          -1.6567181425864512,
          -1.2714014996382454,
          0.43482095380989005,
          1.465435587361662,
          0.912360056758555,
          0.6265040653730404,
          -0.636665016367033,
          1.3015900251657038,
          3.0505083232621395,
          -1.1100187961358303,
          -0.6547546773406655,
          -1.7214358153190596,
          -0.44567113328656516,
          -1.2408627024401526,
          -0.5225353882935805,
          0.1123834620328701,
          -1.6188642370137374,
          1.771514676561518,
          -1.7820077210622152,
          -1.8928700691441565,
          0.5162114471292718,
          -0.6083365977588927,
          -1.0665200577083893,
          3.5022663220176855,
          -0.3419949556161764,
          -0.6730988653351518,
          0.5544361329351724,
          -0.027496515421463218,
          1.7627074330678418,
          -0.5266160673372223,
          -2.018083362954439,
          3.1816727236625852,
          0.20166467541651012,
          -0.8749140897854856,
          1.1740420311503619,
          1.5923457324107773,
          -1.0749801936181105,
          -2.050332463706279,
          -1.1070398530228207,
          -1.6126126107245857,
          0.7770511276000086,
          0.7835273935610059,
          0.9990187972164576,
          -0.7005128786008669,
          1.5055637080247246,
          0.9945533111306881,
          -0.09700806419256827,
          -0.8442568749988915,
          1.66644207240697,
          -1.4516300818788606,
          0.6587606374094066,
          -0.5500461127080195,
          -1.1715218606800668,
          -0.3248022884591129,
          -1.1423149015690057,
          3.6928838626007505,
          -1.5456638612560352,
          5.656157052406393,
          -0.5721348632315579,
          3.1137104396172,
          0.5861011239901274,
          -0.6316203318180421,
          -3.417637036772777,
          -2.1128400552310094,
          -0.9391280752643189,
          -2.1463772353445654,
          -1.861195496682576,
          -0.20386119539042116,
          -1.8266489256289264,
          0.43063016666748527,
          0.9935699539788065,
          -0.4234246937014704,
          -1.6329891060498556,
          -1.7235405897824083,
          0.9697407379601725,
          1.9587421972658534,
          0.05864859976475615,
          -0.6858564968083909,
          -1.0038081287433638,
          0.24038372002154418,
          -1.0457021469649088,
          0.4815046112724564,
          -1.244307224407613,
          -0.47232606850443526,
          1.5220717508592285,
          1.7417987901554919,
          -1.2533124258096797,
          1.3632591388328275,
          -1.4745365630697818,
          -0.8460157774202716,
          -0.6524289608866256,
          -1.592473027350365,
          -1.8509384260526007,
          -1.4020608917244974,
          -0.7774834157987618,
          1.1419513736172138,
          1.695180566161354,
          -2.2564267003383933,
          1.1686235052648766,
          1.0279390346238775,
          0.0496911707279757,
          -0.7675407540480057,
          -0.3252688658024546,
          -1.1263695434127656,
          3.7191321501205077,
          1.6284023633481914,
          -0.14288885886324948,
          1.7121890711349992,
          -1.3108209003640057,
          4.3647038862321645,
          -1.162928246313324,
          -0.15316900118580115,
          -1.3576003114896935,
          3.4148566280834496,
          -0.18620211856942695,
          -0.8583817432317576,
          0.4162653990679507,
          -0.7723603311370129,
          -0.8215106934430974,
          -0.9386560968946178,
          -1.0243552893965115,
          0.17792148010819545,
          -0.41725598133034,
          -2.612156393512802,
          -0.7800590867982498,
          -1.2905827581343705,
          -1.9133163990962385,
          1.3875258339587895,
          -1.8535851686533733,
          1.2229955366579628,
          0.6850243167664595,
          0.030048934393410904,
          -1.0879269538521494,
          -0.06952380230688353,
          -1.226647663320773,
          2.3247929144321327,
          -0.40528261585691167,
          -0.9480925180466481,
          3.5343622441251954,
          2.188958924393102,
          -1.029130681598208,
          0.2567223055405301,
          -0.2906519206103106,
          1.3785203786223597,
          0.8091299763942219,
          -1.281365420511333,
          0.9636332102646675,
          -1.9862097986174596,
          -0.5461597005770018,
          -0.6631832134394599,
          1.867293854478766,
          1.0798656497344246,
          1.3467131990056602,
          1.1188936613175862,
          -0.19933122244453447,
          -0.3724023808983155,
          -0.7246630386847316,
          -0.6442769392844866,
          -0.6955417916734057,
          -1.4939125493520902,
          -0.17284846081966274,
          -0.5024846479087282,
          -0.5267359020179682,
          -0.2590038179252154,
          1.4735563921598518,
          -2.7320917705581267,
          2.4965215487663075,
          -1.5474671625887286,
          2.4086228821545186,
          -1.2064273641518148,
          -0.5668493030510533,
          -1.5832200657352753,
          0.0652070028171695,
          0.1547163902214023,
          -1.9249107243579062,
          -2.0818326090252786,
          -1.4607170435762244,
          -1.6882392380063798,
          -0.5372679251560811,
          -0.8416858286011569,
          -2.0748062747425826,
          0.8994596592790571,
          -0.469807549187694,
          -2.3992089957485443,
          1.0544436217543358,
          2.1645276795291006,
          -2.0774033213201597,
          0.15892452375244073,
          1.1988826717137127,
          0.7293684520766278,
          -0.7050300547986412,
          2.2114029327769735,
          -1.7794026705217127,
          0.06356235799595458,
          -2.125674637459273,
          1.8026577456375226,
          -0.1720353573741744,
          0.23904453388171118,
          2.3315604356725625,
          -1.7245423741395682,
          4.190560961692292,
          0.44341625504679893,
          -1.7136516288303918,
          -0.6745949907713568,
          -0.3625341192511533,
          0.1717405666725255,
          2.4160919478648153,
          -0.9068463768153152,
          -1.0578002701487208,
          0.5134447841248734,
          1.4265670779357233,
          -0.5333439315464409,
          -2.250542546369891,
          -1.374879346378692,
          -1.2750884331398273,
          -1.525024660436414,
          0.7732489570423511,
          -1.460889263669249,
          -1.113523744962026,
          -0.4207377325227232,
          -0.10192873979100676,
          -0.3805703016937173,
          -1.0898533293767914,
          -0.9161501953327643,
          -1.2043879011415914,
          -0.07312555418894892,
          -1.5524359414955695,
          -1.5754745623763045,
          0.44203645477867676,
          -0.2928305306909021,
          -1.1648886424249048,
          -1.593596605089125,
          -0.31892347520125547,
          -0.08596847237843132,
          -0.19625556255557455,
          -2.2633206200102967,
          -1.5852211935132487,
          3.5440875377355208,
          1.019477366690375,
          -1.9781407330185543,
          2.7345797760477972,
          0.4509123279931385,
          -0.504574252729057,
          -1.7195188374570005,
          -1.2951811187794315,
          0.1474738529590918,
          -1.6470563156113687,
          -0.941680391899623,
          -1.8505905178552602,
          1.4912366269527353,
          3.261373142536543,
          -0.5545605866704831,
          -0.09897267508927661,
          0.13454464465963747,
          0.08320851949207857,
          1.007451888257889,
          -2.673965075784493,
          -1.1463869066146881,
          2.226014400310902,
          -1.220936126080597,
          -1.1652431773939937,
          -1.5809421714805734,
          3.113348955833702,
          0.940497557919389,
          -1.4339408558515785,
          -0.3806930216195799,
          -0.22875910936449714,
          -1.4651062522872251,
          -1.3132150211713796,
          -1.194180853786346,
          2.6442018572527783,
          -1.4553665752153233,
          1.0821298226635658,
          1.1404885856446332,
          2.7534141917699517,
          -0.23218267771999468,
          -0.8079192771257439,
          2.7157708658662396,
          -0.7190922797267801,
          -0.9033556353407194,
          3.0241097319905332,
          0.881299531916622,
          2.0911564531786784,
          3.0477334343866507,
          -1.3510780884663047,
          0.49136316318364076,
          0.2205128463259595,
          -1.037963542563573,
          -1.0074275084248834,
          -1.5460039477764576,
          3.3031897908133394,
          0.16256152927531967,
          1.0568606210217433,
          1.320198845041229,
          0.841389909274084,
          0.7829528156323173,
          0.851956861422141,
          -1.1966684620318533,
          1.207330982543002,
          0.24994589669524717,
          -0.020100739296006313,
          -1.1322964798327833,
          0.33343952199323007,
          1.9022016594898092,
          0.3685239940108788,
          -1.0977600891643204,
          -1.001992285121686,
          1.8448907870319506,
          1.3469401823690017,
          -1.312177069319417,
          -0.41654796515958836,
          -1.5451683672377,
          0.8763488338321427,
          -1.7452059585404076,
          1.861495633715893,
          -1.0385980084461455,
          -0.15192850157234045,
          2.600782554167105,
          -1.558699900737256,
          -0.38145640498556516,
          -2.2619515810122857,
          -0.2632477757623718,
          -0.6147791520161485,
          0.5879287958369839,
          -1.6730632239767564,
          -1.3272173031478496,
          2.1075222530273887,
          -1.061005578160968,
          -1.4572320890898014,
          -0.7228126167685164,
          1.724887089690379,
          2.6389416399636216,
          -0.5574263535461883,
          2.022763530657763,
          -0.950691207724862,
          -0.5903238188553591,
          -0.7475272459286229,
          4.1118866027250816,
          -1.0248688248223246,
          -2.0595844632563187,
          -1.546946515724742,
          0.21540610791744477,
          -0.17278026914418904,
          -0.6490355587093679,
          -1.5548216569171143,
          -1.8380873866922076,
          1.7943022967237738,
          0.2400288753846971,
          -0.9181853574588704,
          -0.829393284223015,
          -2.323871015932644,
          -0.7344359942292303,
          0.9964434171638801,
          1.3895318136383576,
          -0.4455085308559877,
          5.367408065929048,
          0.20781974542428688,
          -1.038280756779834,
          -1.8697982537376199,
          -0.48823155048190753,
          3.1578254003605455,
          -0.8066576333259943,
          -1.2368779570094928,
          0.21427868835878627,
          -1.3075196295504063,
          3.0627527022709,
          0.7609189676115549,
          -1.7050514595123605,
          -1.0795289269476533,
          0.49576700266130436,
          2.4999069822221753,
          0.52353334809184,
          -0.9318767241674933,
          1.6840589480001347,
          0.2605923084634274,
          -1.7569441187439687,
          -1.6125720234675438,
          -0.3752336830694654,
          -1.1752315790582104,
          2.2338209280621353,
          -2.8614371544271,
          -1.1081288824653863,
          2.24972096247099,
          1.829228673844038,
          -2.579042826168956,
          -1.5753099982612624,
          -2.403898117501664,
          -0.943089945743689,
          -0.3961607604210875,
          -0.6972930176119035,
          2.470691541626055,
          0.10413164959920604,
          0.06831467343543961,
          -1.1659618121713433,
          2.321752521982974,
          1.843007747703569,
          -0.5380141482454408,
          -0.9237353316676574,
          2.324196023405887,
          2.0635124353017753,
          -0.6649291331010603,
          0.2219052111359607,
          -0.430893167780098,
          0.0002540976612619877,
          0.507668907346331,
          -0.21282756129154307,
          -0.538430283748443,
          -0.4386377959535451,
          -1.4717371803692958,
          1.1284712486898367,
          -1.5578692825338836,
          -0.4197143523317128,
          0.9172058684023408,
          -2.8541353354911747,
          -1.0570865589853715,
          3.144368028321018,
          -0.7527357059857128,
          1.029705819353779,
          -1.6191307111572788,
          -1.7536618902389622,
          -0.988049281876636,
          1.2610587813560925,
          0.7446596754284471,
          -1.3880084189945843,
          -0.7685861727895167,
          0.18685289823053872,
          -2.5547548596145284,
          -1.2207108779455833,
          -2.015560343044611,
          -0.7309592905257881,
          0.020649140434739397,
          -0.15934009727064327,
          -1.0934976943383619,
          1.4353521692906852,
          3.991305256586292,
          -0.5304850937914549,
          -0.8662146092863813,
          -0.7918448217646631,
          1.656412207694852,
          5.170488341492277,
          1.435945912536974,
          -0.43736098891153063,
          -2.1657703573043023,
          -0.9478560676958142,
          2.712361804078192,
          1.0917861609312394,
          -1.729865438188833,
          0.3500833474398942,
          -0.7890766857646834,
          1.945951652573239,
          -0.0861913639534403,
          -1.0156600014369828,
          0.37615959152660833,
          -0.06938812843471331,
          2.416888088518691,
          2.723951468429967,
          -0.8351942209962946,
          2.4418335270034186,
          0.7288744349914155,
          -0.3335378492135861,
          -1.5546601928385477,
          1.0031013627679302,
          -0.6918727656759635,
          3.8260202281218265,
          -0.6431789789299895,
          0.9141223986041013,
          3.1179104908767594,
          -0.2664287429635492,
          3.2215823012275866,
          -1.7411247813246995,
          0.08475732291182103,
          -1.5631130485635851,
          -0.6570244331611865,
          0.7026612386840211,
          -1.722715136331092,
          -1.2321250803861792,
          -1.119727117937718,
          -0.6692356397846682,
          -1.0738907226703671,
          -0.044462908456994764,
          -2.4967599734342834,
          1.3241576583958747,
          0.36165576713729014,
          -0.4722346231391755,
          0.1837731529258222,
          0.5674727028746661,
          0.1907559379086902,
          -0.7736656300050414,
          -1.7167172120501348,
          0.47600973077817677,
          -0.9966679125416726,
          -1.5630616639175443,
          -1.132243127170247,
          -0.7957285963236971,
          1.6240029729331655,
          -0.8262482764034125,
          3.098077862194683,
          1.4680272380865063,
          0.8885181904803722,
          -0.397017519959243,
          -0.7721515172859813,
          1.997865973296447,
          5.095851833265628,
          -1.2990561448612215,
          1.886142420372078,
          -1.3244787469601271,
          1.9605297012125849,
          0.4691181778356559,
          2.333951861027743,
          -0.5238419351529574,
          2.045859171800515,
          -0.07491196901070568,
          -1.0772112357080796,
          0.46597177355007996,
          0.036303339327194886,
          -0.9019047418699389,
          -1.4691584312546733,
          -1.357277677354262,
          -1.6038408126287584,
          2.919660777235423,
          -1.1203865770046872,
          3.806552119603482,
          1.6556716072313862,
          5.74491849170779,
          -1.767741668178928,
          0.06350091355664168,
          -0.3313276690114327,
          2.6576380284129164,
          -2.3590086550038234,
          2.6344415988614607,
          -1.0628599457832208,
          -1.2543121777355914,
          -1.370545560546332,
          -0.8684204527494757,
          -0.1725663659772004,
          -1.6092468224536742,
          0.5719798696482878,
          0.7558291585649156,
          -1.3158978332029476,
          2.782226976077744,
          -0.8201873596135515,
          -1.484123187523159,
          1.827410021025524,
          3.3239175459400148,
          -0.9543979866953064,
          -0.7962350570808686,
          -1.204859337353432,
          3.7152502298210193,
          2.9621070299241934,
          3.096378576216746,
          -0.0208232502384774,
          0.19921802233680488,
          -0.28399270605495175,
          1.0688701638586513,
          -1.6983624021617256,
          -1.8153203332751509,
          -1.0970909048411448,
          -2.0844611673690423,
          1.1658803308243681,
          -0.868470314932835,
          -0.010197864900489665,
          -0.4468878048261715,
          0.9824187153428054,
          0.04353352859926345,
          -1.3144174193786748,
          3.0268136303396416,
          0.20301628381079423,
          -0.9890263811615346,
          -0.7761385258930565,
          -2.1654203014952897,
          -1.7706256693131939,
          -0.6602562401857489,
          -1.1557542311677789,
          -0.03927739833717176,
          1.2183902160861297,
          -0.5921478729251699,
          -0.47405455297523924,
          -1.6177107088265708,
          1.261593868728871,
          0.7473508459440678,
          0.4668686390725871,
          2.211089515642333,
          -0.5463628008989111,
          -0.8486923869208061,
          -2.069142538869305,
          -1.7596525258230222,
          -0.568221260880081,
          -0.45665954830176686,
          -0.9733907891478751,
          -0.8348424502853187,
          -0.20479292955943548,
          0.12942699870228097,
          1.454049630560816,
          1.870793784323386,
          -1.7794528395927331,
          1.1444059746046487,
          -0.9102366467653096,
          -1.6766291019555335,
          -1.7620821763589445,
          1.3126247021440507,
          -0.08333032774987859,
          -1.0163589554799364,
          -0.5118104543651363,
          -0.3564520983595455,
          -3.5802458396550216,
          -1.9199015073090977,
          -1.6834811042251883,
          -0.8374827835042699,
          -1.787017958768006,
          -3.029002423540903,
          -1.2099381513428598,
          -0.5009246589966582,
          -1.522406894918905,
          -1.349090941972431,
          -1.074584692417949,
          -0.09757058546233618,
          -1.764264975665282,
          -2.1545172375061274,
          -1.5888715332974852,
          -0.874160068227461,
          1.7314170798356656,
          -1.1426957796584787,
          1.349931288024872,
          2.576653310167796,
          -2.2387796855805777,
          0.320477111699244,
          -0.3658252352937169,
          2.472878962628753,
          -1.7864040972540929,
          -1.05350943942946,
          -1.7054496688420446,
          -0.8335024683355022,
          2.003136617987079,
          -1.3718645298095016,
          2.7282567044557045,
          -1.9475341989376442,
          -0.15874441894854135,
          0.6872435780375796,
          2.1245152827644262,
          -0.39587052590438004,
          0.18812199405733407,
          -0.7488727280661526,
          1.485170491879136,
          0.7565122643138683,
          -0.9811091825971965,
          1.3922957987113362,
          0.17288182213731254,
          3.7284951001320796,
          1.54617253297414,
          1.8922832683292379,
          -0.7199680611898844,
          -1.7485320824282606,
          -0.3508501470018561,
          -0.8472924129265909,
          3.371508934218357,
          3.0503695185014643,
          -0.9922722441371448,
          1.1172774519241284,
          -2.47934214196257,
          3.301642153335108,
          1.2768315232011085,
          -0.9167224347013048,
          1.7491669072516065,
          0.17704715739107837,
          -1.5203291706950453,
          -1.757031682695959,
          2.1749495695798666,
          -0.7036118406383849,
          2.185200335266454,
          -0.22750728196215914,
          -0.05894419858916948,
          5.576463934623806,
          1.2071582208164355,
          -1.0216274447798883,
          2.6224331973635255,
          -1.376588446442184,
          -1.1532464505203954,
          1.9108346855347909,
          -1.2800153408292925,
          0.9813574857226647,
          -0.4172724340304684,
          -2.132009269416632,
          0.7575261027520185,
          -1.3193795184731092,
          -1.6027707609819972,
          -0.5550614856418182,
          1.5044450479572868,
          -1.2141844994191013,
          -2.1095604874599894,
          -1.6189644171884927,
          -0.8948742568495438,
          -2.870594260690075,
          -1.5879853304918814,
          -1.476514230780868,
          1.2804370214422214,
          3.530688717926422,
          2.7683410599111804,
          -0.835175051981173,
          -1.649811550183192,
          -1.3387321623190687,
          -0.32757565024917834,
          -0.9589582222516335,
          0.4050766103243897,
          -0.9210684498373045,
          0.12605313756489317,
          0.4808626495968198,
          -1.6194273018418646,
          -0.35268403144427996,
          1.2502302135504926,
          3.979440908530272,
          0.0674738799204526,
          -0.16024270399633025,
          -0.41026709455552574,
          -0.5518427012630172,
          -1.8510903670498338,
          -0.26910088305826174,
          0.01584383552298863,
          0.9300064881505508,
          2.477640143878243,
          -0.4202551945315898,
          0.5330013326020726,
          -2.870173409185138,
          3.4090010293102115,
          1.514137719368122,
          -0.12672664003724912,
          -0.587126866863782,
          -2.3582143059521723,
          -0.19593648001651248,
          -0.9134899767156783,
          -0.5224954136807609,
          3.7237410039497814,
          -1.4382683613993124,
          0.2921868283963837,
          -1.6749200624238256,
          -1.646071096862054,
          1.1343328266631552,
          1.369487847265577,
          2.0992865651813477,
          -2.175645019312596,
          -1.1361841935410661,
          0.2682521102221599,
          -0.6073944576251047,
          -0.6550684470577984,
          -0.8619282180846111,
          1.672438425153035,
          0.04928482714214339,
          -2.0871378790297497,
          0.5804628691357626,
          -1.2530097270924638,
          -0.661486454172486,
          0.9620349312952555,
          -2.2520746192805503,
          -1.1488005980167635,
          -1.4375951965463667,
          -1.1221362692804624,
          -1.235807652456993,
          1.0449547740305125,
          -0.08176028562044578,
          -1.063835528145122,
          -0.9858053771672597,
          3.032295264285232,
          -0.8315214550841008,
          3.732862450760178,
          5.880157450090499,
          -0.20189795078130401,
          3.7406935306931968,
          0.2809446528784875,
          0.8936875446635006,
          0.5612434807435243,
          1.8617079474685923,
          -1.4909928975986197,
          2.8434860658794197,
          -0.4045700852489353,
          0.07723166905098953,
          -0.4451984945132553,
          -2.256822346269564,
          0.3613916394940885,
          3.4523278129704074,
          -0.5838221708537655,
          -0.37586427121560134,
          -0.9224317630608672,
          1.5521812670432613,
          -1.285410308355495,
          2.874020629835336,
          -1.378453471042263,
          0.30179173954976096,
          -1.156311961554388,
          -0.23197424520648022,
          0.86174035934256,
          -0.7805546057221772,
          -0.5096013999538483,
          2.043985243854177,
          -1.0431904112916248,
          0.8981224759234756,
          0.7887308283928861,
          -0.830167004453501,
          0.14970907608380454,
          0.6195196706344117,
          0.36171669902982023,
          2.1049451405723603,
          3.9734881044404995,
          -1.7331786289655526,
          -2.6120891330318883,
          0.17766901054612896,
          -3.5494994053309497,
          1.0346253974881874,
          0.6608507214268605,
          -1.7787056776290846,
          -0.7847059877462828,
          3.1261955101079857,
          -0.7980586071349315,
          1.1900730563147104,
          1.4239398493027726,
          -2.2961347523388076,
          -1.1271783534513227,
          2.153469519488869,
          1.3070966527473398,
          1.9193081418017122,
          -0.8256921671567414,
          -1.2817234423872013,
          0.1631197602379011,
          0.37627394769408407,
          0.077121445344673,
          1.0401511728845891,
          -1.6985965380065866,
          1.3090134195117824,
          0.2950457966116553,
          -0.6349696629973076,
          0.10214345361965646,
          -1.2530714724233714,
          -0.8801869135268687,
          -0.20039568683751988,
          -0.6269876149532349,
          2.703832635023081,
          3.785735605119133,
          3.3182732555332066,
          4.458657172226379,
          2.1934068343651507,
          2.839664105015547,
          0.9728584102636636,
          3.872385241680718,
          0.17004512390894871,
          -1.9034992990834168,
          -0.7962629503539702,
          -1.0701848501364066,
          -0.9316090912479229,
          1.0769822559774016,
          0.7397801902400395,
          3.64249299480284,
          -0.20730296358970765,
          -0.10233858554208056,
          -0.6850425044847805,
          2.340065758776385,
          -0.004235314838469943,
          0.6185295632106098,
          -1.3687486915289901,
          -1.2000970439592533,
          0.5821217994873442,
          -0.8647362228159691,
          -0.042936487498957815,
          -1.3963658262127403,
          1.7980762504479983,
          4.158537363260735,
          2.962372778859016,
          -1.6119499555791015,
          -0.018782003133244157,
          0.27519218417136626,
          -1.9148766423966466,
          -1.9017762106154625,
          -0.9119886478666422,
          0.38803906597342447,
          -1.3045390573457278,
          -0.4093474593650634,
          -0.5095216351956033,
          2.390188124935846,
          0.11060954114883385,
          0.08566955407739459,
          -0.6397628532022306,
          3.661380249367455,
          0.3454197993780098,
          0.9861097240781952,
          0.9578722592240798,
          -0.7158123908297466,
          -0.09844753017607574,
          -0.1783553176314531,
          0.7664081152085712,
          -0.9646735445122826,
          0.17993311614646768,
          0.39325423356237027,
          7.175173884371719,
          1.4996271193727633,
          -0.4233070295957769,
          1.9380995323835328,
          -2.1171569351654473,
          2.810013395202167,
          -0.7037812897891937,
          0.6517951491665627,
          -0.18640152079191522,
          0.9590615296229911,
          -1.0273380632780988,
          0.3067842212083986,
          -0.23739247711414532,
          -0.3987840202393681,
          -0.40933771508625916,
          -1.870976380833527,
          -1.315059717521401,
          1.4744947420262589,
          1.7209213498158111,
          0.1306548650683177,
          0.16992643565321272,
          -0.9566151576196937,
          -0.4744686104907877,
          0.5029266038458706,
          0.280486724165089,
          -0.7932134079458837,
          -0.13365033947948884,
          -1.453119585257446,
          0.16091804723524114,
          1.9306247795045581,
          -1.2103279086049723,
          -0.5786304744766984,
          0.7844500095733626,
          -0.1334314910600897,
          2.1873303190528874,
          1.0095804446537495,
          -1.6309122531734783,
          1.0432821875447205,
          -0.06318977372199315,
          1.6098104380201896,
          -1.8543917076170975,
          -0.29338282103705415,
          3.2905610963378558,
          -2.3059192764049503,
          0.5641480905164623,
          -1.6956015254938148,
          1.891909914683637,
          -0.5485788006374412,
          -1.3728041620766829,
          -1.809624211859616,
          -0.4613834823685785,
          0.11940050432852274,
          -0.579950519672613,
          -1.0680629556796521,
          -0.4292870286027437,
          1.3824521398607532,
          -1.3126758226818254,
          1.580818054312933,
          -0.9283718364335336,
          -0.5106575633135398,
          -0.29715791715292766,
          2.7776460091689135,
          -1.0015943844498443,
          0.23552175391252816,
          -1.1848326155807132,
          -1.1453336766640108,
          -1.2181207878082436,
          -2.1301033693644267,
          -0.08401883746131215,
          -1.4850827032203553,
          2.965482465143608,
          0.22084966151342883,
          2.857363334252317,
          2.2856599861418885,
          -2.498974768210394,
          -1.8294635982407934,
          -2.1639054279396848,
          4.175994657182437,
          2.0867050250306254,
          -0.05888966812101436,
          -0.244094177748207,
          -2.379403452046784,
          0.19617031472855048,
          -1.5318675295786044,
          3.556483039132714,
          -0.6588858879760541,
          3.8654023513985085,
          2.0827453446904127,
          -0.9741412145559618,
          -0.22164099698182171,
          2.1608287492996805,
          -0.7390449946863776,
          1.7132763600779466,
          -1.784538891655189,
          0.22054338270088372,
          -0.2978687486658759,
          -0.40074732536802304,
          4.04068763613285,
          1.9905907171256139,
          -0.5999171648606132,
          -1.6236552305385317,
          -1.2513819734106715,
          -0.6683548443478552,
          3.459629847676687,
          -1.8902207827789377,
          -1.3967321109816222,
          0.6796206246073574,
          -0.2696716022075752,
          -0.7340236255724633,
          -1.4955143287845285,
          3.764191273078394,
          -0.9358079481053543
         ],
         "xaxis": "x",
         "y": [
          0.2461456354464624,
          0.8293398784888225,
          2.401728704520472,
          1.0271553167793699,
          -0.40494147622216387,
          -2.0228187783983618,
          -0.4683523406657008,
          1.3380977977440471,
          -1.5634315711963196,
          -0.08076710099471336,
          -2.286303163464984,
          -1.7932125107990482,
          1.8016357136592773,
          0.37341366975863627,
          1.3682171814721444,
          -0.7529757086048562,
          -0.22003792747786227,
          -0.5303911801637653,
          2.0243644126796063,
          0.7997396989100038,
          0.027773712286693533,
          -0.6428979157575003,
          0.2600711903467117,
          -0.5539965048436326,
          1.4395169826509313,
          -2.475595564021401,
          -0.028155290587458817,
          -0.6235835153266752,
          1.548806133500258,
          2.23421606541618,
          -0.5616960493483478,
          -0.44922998790578905,
          2.097645935244931,
          -0.021158930262434917,
          0.11871967503329352,
          -0.5222589053777826,
          -1.5544943076729005,
          0.2217023314298775,
          -0.49867809484991193,
          1.0090221158653268,
          0.988192989491269,
          1.15527113747194,
          0.7796070473407909,
          -1.6064007792667818,
          -0.9824296558110404,
          -1.734075675849345,
          0.3745920213329989,
          1.4651957462069207,
          0.24422431155845795,
          1.2313787793073963,
          -0.6798378164484462,
          -1.2180407336504442,
          0.7983306952979429,
          -0.29203585448371305,
          -0.19398519372968095,
          1.4607646059146042,
          -1.5275566963822684,
          -0.16948302892060027,
          2.3239314895650653,
          -2.044028282653623,
          2.180105554648378,
          1.051597760538646,
          0.9174341424824524,
          -0.8977378855606346,
          -0.8122095566329112,
          0.061962691604858955,
          2.3307325850666003,
          -0.2257747473515056,
          -1.7239653563270199,
          0.7541406754812616,
          -0.5607759513023715,
          1.2621255547369556,
          -0.7030343780544149,
          1.033497116249904,
          -2.6309493742897407,
          -1.5628120073951548,
          0.7220135286497387,
          0.8946829684848717,
          -1.0849343774419251,
          -0.039030997766559224,
          -0.08567891555069948,
          1.2648639553598018,
          1.4893211163790285,
          -0.08028560176466197,
          0.159361105356398,
          1.2727950340218002,
          1.4334897678206133,
          1.2692342186311223,
          -1.769426772305788,
          0.029665023917381617,
          2.4443406889979777,
          0.12151018901339473,
          -1.2937403738221067,
          -1.838609312767937,
          0.5585736863011308,
          0.692223045356712,
          -0.4792649371559699,
          -0.8781010962922461,
          -1.3610547907450077,
          1.9677775632016958,
          3.8290413224496285,
          0.9568029288190153,
          0.9326741078960109,
          0.6178781372322669,
          0.6852630126739488,
          -0.5451378930812126,
          0.09000577396885656,
          0.6438413385019633,
          -1.5113022403135812,
          -1.055765287937482,
          0.02490955998504326,
          -1.1693687444091396,
          3.0396539537019605,
          0.05647370637414053,
          0.6406591401008253,
          -0.07604832454091759,
          0.927049473136959,
          -0.39307534077655315,
          -0.11038730849925874,
          -0.11595385167872607,
          -1.3118475482957328,
          0.6892802047633978,
          0.8751319177391121,
          -0.4761917083733371,
          -1.21264271383841,
          -1.390591472581612,
          0.9642785709233126,
          0.4924436331534865,
          0.31417631830400106,
          -1.2526158077401586,
          1.6704364681566968,
          2.6653301887867364,
          -1.177412857854569,
          -1.3240125555706281,
          2.0271502283543272,
          0.9637008843588604,
          -0.10134953346896187,
          -0.9495314010523108,
          0.018876536207768826,
          0.4330206326083859,
          -0.07857137413638725,
          1.5667934587820693,
          0.5063105378689066,
          -0.9751041829612105,
          0.8545848127146458,
          -0.44558343698874997,
          0.9344932508255603,
          -1.6196355067440347,
          -0.15479459611786173,
          1.5820790562593359,
          -0.595608911684243,
          2.3108342352844393,
          1.3479084154779315,
          -0.3010628595832359,
          -0.2104068667092938,
          -0.20206085790498338,
          2.243410643894612,
          -0.6149421539834005,
          -2.1545413592386176,
          -1.262505018873191,
          0.39447563842813005,
          0.166530796953442,
          -2.1074056078254566,
          -1.2512583501591914,
          0.4346252499855085,
          -0.8305221671333042,
          -1.5336793510329536,
          2.808106571244644,
          0.019424179669802536,
          1.5162049464637664,
          1.4460833166470104,
          -1.9884677486156772,
          -0.6624949561727023,
          -0.7910833645878077,
          -2.541799498992101,
          0.0025249007000517974,
          -1.4186620608678704,
          -0.6036601162736728,
          -0.3502060411092679,
          -2.5773464794548384,
          -0.8910472572045943,
          -0.7258315032735511,
          1.0778110580776077,
          5.36890551755706,
          1.5373032760478633,
          -1.182564800055213,
          0.6534548750333424,
          0.31608567374696994,
          -0.6899889144669854,
          0.4895789647793759,
          -0.5729540194044893,
          -1.0733265758461215,
          1.8999396410084755,
          -0.8687409936679035,
          -0.19413272857619068,
          -2.375745306834898,
          -1.1783804595977536,
          -1.8970491113235768,
          -2.098711095313527,
          -2.074411506732435,
          0.9890768809007999,
          -1.3899871547455152,
          -0.424469654764767,
          -2.3443164050244416,
          0.12513091991128197,
          -0.4619315491968092,
          -1.350382661158658,
          -1.1788923303167211,
          -0.48126139509075744,
          -0.7412449420948801,
          2.254264648872633,
          0.6373256822943763,
          -0.27622902037615965,
          -0.5606867408585525,
          1.7909129547270648,
          -0.021737958884969925,
          0.5933746655611474,
          -0.4095020586329139,
          1.4040077588672615,
          -0.29955941146583814,
          0.5173782779400821,
          -0.9588768484256024,
          0.11290142411240255,
          -1.8948633526644358,
          1.0217364316238329,
          0.28969799880187913,
          -1.7271273095521749,
          0.9164824815173568,
          -2.156401087617282,
          -1.1080421072352296,
          -0.2571746939431757,
          0.6533254260624779,
          -0.41956557505519015,
          -0.36576717044018114,
          1.3136887135640962,
          -0.03332577172958308,
          -1.7664175767298123,
          -1.016982637670385,
          0.6504116299281939,
          0.13006243158291345,
          -1.8359620606956941,
          1.4044462790896781,
          -0.9889512143084821,
          0.4829580890182743,
          -0.8885861276130902,
          2.184437706498994,
          0.44063360391603906,
          1.3726525263693814,
          0.12240967022001528,
          1.5594367980370072,
          -1.1164327475839295,
          0.2904368407310292,
          0.8056008855064275,
          -0.6606858618252119,
          0.09666045922613631,
          -0.9566288979671587,
          0.0911384616733534,
          2.132541235107835,
          -0.4230470935872844,
          1.102719945743982,
          -0.2982294483960678,
          -0.2773930384051562,
          -1.1259003572962245,
          -1.2461303059910653,
          1.066108730936901,
          1.5236059292587922,
          0.9420972030843691,
          0.10081063253437672,
          0.8164108557770476,
          -0.4853462899188333,
          0.16023416981425878,
          0.5423927085331107,
          1.3816300235698489,
          -1.8088265379051018,
          1.7545424778650116,
          1.2023020432636011,
          1.4952527744138153,
          -0.03229092915957673,
          -1.0649743969179515,
          -1.037364251270675,
          1.460586487336993,
          -0.4659480198165335,
          -0.7042026458486325,
          0.9975483477024161,
          -1.3141782232898105,
          -1.368073326393305,
          1.0183633203381683,
          -0.5934876141735657,
          -2.015644127268336,
          -2.2001328228189876,
          0.14899007035682016,
          0.9520022196926238,
          -0.08257927461021788,
          -0.397660840285082,
          -1.8279797626115133,
          -1.0922963497964744,
          -2.5033365173403506,
          -1.4449832809236658,
          -0.757787254801085,
          -1.0663451949694294,
          -0.05374871990690763,
          0.01667858880861755,
          1.9496840509802182,
          0.09547812900427835,
          -0.6632127558395161,
          2.0439461732132616,
          0.2908872280981786,
          0.6693204519415907,
          0.2942789477659337,
          -0.7767611125468449,
          -0.4065090517800825,
          0.9747510913890093,
          -1.8232098227360456,
          1.6858760818679654,
          -0.5133145036436613,
          2.4624908231852416,
          -0.7943431888812257,
          2.713471102284256,
          -0.2398010463224893,
          1.2971947589188169,
          0.7668001919370483,
          0.39044073382903377,
          0.5474247877284579,
          -0.21017751830397885,
          -0.49520956848025166,
          -0.2456696013716043,
          -0.7746982063490687,
          1.0377239363276807,
          -1.4785911104335128,
          -0.28211527956169863,
          1.4154668018112755,
          -0.3931419550531528,
          -0.41379354380867406,
          -1.2751443940977791,
          -0.4990315309977952,
          0.4534688953791256,
          1.5202409201445914,
          0.6117967357141132,
          -0.16596462734785775,
          -1.195642245898429,
          3.265462787949177,
          -1.8521265696498115,
          2.356260286163348,
          0.01368279109562852,
          -1.5577634274886754,
          -0.28348996471353854,
          -1.6904848744691003,
          -1.0529416266266087,
          -0.8464061230211867,
          1.7335666725890566,
          -0.2927121035630308,
          1.4389709795219177,
          1.0489888142600532,
          -0.40376989741827174,
          -0.4471907427728949,
          0.8177311584663619,
          0.2910769568383845,
          0.9396803421250574,
          1.4584751866009475,
          0.903251595930329,
          -1.6691643220009325,
          1.3670782309954936,
          0.5813346825249286,
          -0.15634300246620997,
          0.6442684499603617,
          0.28773221645430386,
          0.1073791516711872,
          2.4065080839455164,
          0.7003061039519691,
          0.027768450523837612,
          -1.8798486392358553,
          0.3765023069307238,
          -0.9146392755004288,
          -1.8570433736219454,
          0.14583974140952433,
          -2.2540687713749943,
          -0.876112613667125,
          0.4009192409729069,
          -1.2549340785186252,
          0.3888270464425051,
          1.001842935897057,
          0.028133689816077088,
          0.7767572024196004,
          -0.6629307432420984,
          0.5703921392790081,
          2.0906739851834493,
          1.45962727292255,
          0.3933180587416338,
          0.507872694604351,
          0.16935824030620586,
          -2.0168409652572326,
          -0.2604776708624147,
          1.0648054373731624,
          0.32126695425003965,
          -0.09088901615832387,
          -1.0301119254414635,
          1.7334540276341033,
          -0.20830651658518598,
          -0.6695605312135603,
          0.10995745659370906,
          -1.9664781165569323,
          -2.0101304571281853,
          -0.3059567558002532,
          0.479917849628509,
          0.23950892160949394,
          0.7878278306460786,
          0.676961567127921,
          -0.04056732562691665,
          -0.7662207656012456,
          -1.1764921338483416,
          -0.6504992253897321,
          -0.7978770460944525,
          0.6408139876306802,
          -0.12353687324068958,
          -0.0784967528343518,
          -0.4200749149766158,
          0.8218253052016056,
          -0.1950984193389914,
          -1.8959284304019777,
          -0.14814429694538322,
          2.4215955788538466,
          1.4611199391259801,
          0.1297361974323903,
          -0.8072085615295337,
          -0.2560079165862119,
          1.1265596648784022,
          -1.084075275780453,
          -0.6240317287324909,
          2.4596054325325456,
          -0.8712447063937186,
          -0.7275055690439471,
          1.718238486073478,
          -1.9284536694752223,
          1.5358336301631628,
          -0.6805886529821519,
          -0.7022192193202762,
          0.7115092973379743,
          0.6936166443740622,
          0.7889668222282388,
          -1.0134592258937616,
          -0.44485800358844774,
          -0.23926200237071824,
          -1.7780102839470056,
          0.5657485834397955,
          -1.4549703193609638,
          0.38500543576942425,
          0.49624937233978833,
          -0.2877042147881633,
          -1.3647298591069328,
          0.5163808789874003,
          0.5937958283267794,
          -0.389821480041496,
          -1.2295188284123209,
          1.7582997493786954,
          1.929307581861483,
          -1.5290689328021354,
          -0.1622964759294539,
          0.4938331553323442,
          1.1528210534518368,
          0.6541183805275312,
          1.0760334570356749,
          1.0136147701192653,
          0.12831170722341514,
          -0.680305991112642,
          -0.32170317548375355,
          -1.073721100952457,
          2.6169036602990516,
          1.8083069602650934,
          0.11895192114946357,
          0.854112694607695,
          -1.8977548057929705,
          -0.9263407321279379,
          -2.2264750675590985,
          -1.4348202097206835,
          1.4045694814306757,
          0.0746218171224274,
          0.5141343529677977,
          2.74430354449509,
          0.3276627528865369,
          2.2825415078767963,
          -0.7531407217490022,
          -0.005049518828848956,
          -2.106716440292907,
          0.8190328600237504,
          -0.5847126905174711,
          1.2016932195689347,
          -0.4260871468627818,
          0.06381697528201634,
          -1.3284171677356647,
          -0.764615988081955,
          -0.3440904727496004,
          -0.5107497120141657,
          -1.7360357639095623,
          0.14343252230696568,
          -1.8033208853143652,
          1.3199009829960828,
          -1.3298737010771957,
          -2.0734697401123614,
          -2.1573473563403054,
          1.8371344484047627,
          -0.9292659763717951,
          1.0057220455251756,
          -0.3876789159864767,
          2.115979959140206,
          1.133891017806491,
          -0.23918256839370777,
          -1.4085219136089542,
          -1.4213984786295413,
          -0.7071597999523905,
          0.9738453689766248,
          -1.8652740673838235,
          -1.037954038544666,
          -0.011097586808855161,
          0.6867810970037391,
          1.3787966829969824,
          0.006123111864044875,
          0.10556277930426726,
          -1.1283869766004664,
          0.8265942721282961,
          -0.845146943285377,
          1.0652633973668026,
          0.8762174350140287,
          -0.5864234934914002,
          0.4896114615278994,
          0.03415830204156954,
          0.3744619722207801,
          -2.0183865943544768,
          -0.08240268108490018,
          -0.5937524178484208,
          -0.5224622611788922,
          1.4975516243781473,
          1.2629656117902497,
          0.885301286582175,
          -0.33567605298641806,
          1.207272997808874,
          4.583917730636268,
          0.2935611159382386,
          -0.20779208187750853,
          -1.1030657096450158,
          0.8023753687769503,
          -2.4327853880193397,
          -3.1141786606828172,
          -0.20457524519938716,
          -1.620046626448563,
          1.3675093945829602,
          1.2528713275144137,
          1.325451461863633,
          -0.34055671237837143,
          1.1669445309462918,
          1.6683211007415342,
          -1.0677839560338152,
          -0.2768655839650902,
          1.480644210762453,
          -1.1157726656406024,
          -1.442207417545049,
          1.1160932866823836,
          2.475780950035066,
          -0.21886621503385076,
          0.8973388556534451,
          -1.098992119239066,
          -0.33861537257847474,
          0.045345668634514114,
          -1.4821080206996189,
          0.6062715952593409,
          1.8015073647035824,
          0.19498046878034317,
          0.3765436067167332,
          -1.1367342891876,
          2.1190294417891877,
          0.38315937432836716,
          0.31009379761635875,
          -0.8197813343266322,
          -1.7411266952493643,
          -0.4729692940434088,
          -0.05693560442833764,
          -1.1012444582381853,
          -1.268471489778616,
          0.3138002432407154,
          0.19922109443426908,
          0.09418419654269687,
          -0.9683979832848677,
          -2.3867986725209325,
          -2.152494797920661,
          -1.9805592122142857,
          -0.06268369533268889,
          -1.008443745811075,
          -1.4040091446643763,
          -0.62985841770521,
          0.9729648965630419,
          0.6880421086967128,
          -0.2846109677344088,
          -0.8970552243718665,
          -1.7952648321727975,
          -0.3095343230022494,
          -0.9957366922566896,
          2.1236753511042408,
          0.635366436772077,
          1.2674275130003683,
          1.0561332118332605,
          0.09912292188116525,
          -1.2424706397166148,
          0.345137547419959,
          -0.699004010240275,
          0.19617290755835132,
          -0.26512435249537714,
          -0.010908318415919343,
          0.7775343905305376,
          0.5480941436091376,
          -0.07047919389132608,
          1.629885649657205,
          -1.2447249746475748,
          0.3801525938468078,
          -2.228421008805096,
          -0.43603686743118886,
          -0.9164431964902858,
          -2.385805540597184,
          -1.0829604357736058,
          -0.8268382271435114,
          2.68307705132199,
          -0.06129432280154651,
          -1.626759791313676,
          -0.9783253157812888,
          -0.6807579695982099,
          -1.5920816193157912,
          -0.21264913185953258,
          0.6022161187672725,
          0.424764023670812,
          -1.0107991636888956,
          0.7726789952282958,
          -0.4122796152499833,
          1.1811789474388434,
          0.33700845295268794,
          1.841945777324238,
          0.479872668960695,
          0.2561245490812656,
          0.14649628849986995,
          2.3744291536637205,
          2.1452870386289113,
          1.0962244310495777,
          0.3043531256836763,
          -1.150734362981974,
          3.9966806150099043,
          -0.5796484004381973,
          0.49627671003917234,
          0.19980551258036378,
          1.4336504882277739,
          -0.7610237112817317,
          1.9173761688422866,
          1.0840457178199325,
          -2.583921425148932,
          -0.8189908804341421,
          0.8828684114572293,
          -0.20807842826161996,
          0.55302058768383,
          -0.7058389932038419,
          0.5955342710283607,
          -0.38190278315232057,
          1.170018249330312,
          -0.020998842382501992,
          -0.39028293927829416,
          1.5223920416301424,
          2.04104457697908,
          -1.4632771803600435,
          -1.0373403410666533,
          0.42483524328565936,
          0.3301136856350352,
          -1.7884755190110853,
          0.39311669328850013,
          -1.5549405711116928,
          1.5476276542058265,
          1.6048535205205952,
          -0.11737412172782698,
          0.7195557183016551,
          -0.2618772488939861,
          -1.3189993629698722,
          0.8144120673746204,
          -0.1589518703345958,
          0.13464803399605013,
          0.405524438878332,
          -0.5176084096351172,
          1.8938609869041996,
          1.2656435889896602,
          -0.13361277573795047,
          1.0299154059157254,
          2.5384958249347003,
          1.2453149288167646,
          1.7192562025270295,
          0.016096936535435702,
          3.2551171948089235,
          0.34655292991446984,
          -2.1421786498065596,
          -0.7103233760972023,
          1.2142505591563686,
          -0.33796071140873046,
          -0.6893407342020332,
          2.509691281717594,
          -1.097571020195193,
          -0.3497624505807021,
          0.2700971748531595,
          -2.05737410881573,
          0.001804076214725518,
          0.5758126367264632,
          -1.6067248090375301,
          0.8930234153732567,
          -0.997145660902412,
          0.3823837949512763,
          0.1258071708168524,
          -1.5073908870342898,
          -0.7172087592060662,
          1.4618000014386625,
          0.8799303787239333,
          2.6207881498473813,
          -0.36016497054959756,
          -1.8085332324256496,
          -1.475355063685066,
          -1.2898999407809553,
          1.6705295349522158,
          0.5067248553447123,
          1.008020497733672,
          1.1515292103355455,
          0.6797559508973465,
          -0.5288024657265742,
          -0.7451929143187405,
          -1.1171357983901675,
          0.04382066652154375,
          -0.9060840056492943,
          -1.764472003223922,
          -1.1688414274081287,
          2.9611648644399433,
          -2.9605059810692445,
          0.11322396039803435,
          2.141138154901586,
          0.8997770239056274,
          -1.1365570568223222,
          0.08753340760823479,
          0.5316760652354571,
          1.781951489256308,
          -0.15247574253989998,
          -2.0370935996695936,
          1.6601749181142536,
          -0.5272192877274895,
          -0.033993369156754195,
          -0.24702105932858384,
          0.8752572337981027,
          -0.9074267520314373,
          0.6555312859496805,
          1.1083632140491817,
          -1.5611075720781646,
          2.1967008131348833,
          -0.2873674649605818,
          -2.511560924098876,
          -0.19275476326699245,
          1.6350746681884742,
          -0.04731882357990403,
          -2.52242730291652,
          -1.551237616891866,
          -0.00876429671065778,
          -1.1020399323640624,
          0.4802027556630661,
          -0.4223379304928707,
          0.9106977807435954,
          -1.6108251233960542,
          -1.2194997272355916,
          0.17747410817582965,
          0.41313563454142044,
          0.8962985483691324,
          -1.2186217475104582,
          -0.2847170674505118,
          -0.18666222796323384,
          -0.3630480503504015,
          -0.27746604050707324,
          3.112419191898958,
          1.874492832473625,
          -0.6395156047749094,
          2.7362684837688334,
          -0.16265795619958992,
          -0.3457704175779409,
          0.2390812740622264,
          -1.909259372157811,
          -1.5822342158235558,
          -0.17677021193886278,
          -1.7983952328829507,
          1.0818303032238326,
          0.07576233509886776,
          -1.6087397161129464,
          1.8063866868468472,
          0.7957221863476691,
          -0.8114368091055573,
          1.0222630934702752,
          -3.4870520921934824,
          -1.7296457589580858,
          -0.47103532107313084,
          1.7555652510522208,
          -0.5557075174823343,
          -0.10416396099369642,
          0.059535500304115876,
          -1.9226208620779086,
          1.4120840124016425,
          -1.7712860975289972,
          -1.4068108034093436,
          1.902975390698135,
          -0.6172802275085986,
          -0.5426654346912442,
          -0.8383824918471939,
          -1.3807797945731168,
          2.037308116033356,
          1.2754480786362115,
          -0.32842873554058494,
          -0.2233014819702081,
          0.060320152349785744,
          -0.8671763356523562,
          0.766942892170299,
          -1.592748445348885,
          -0.6622569598492256,
          -0.4713626735334681,
          0.8820077478987629,
          -0.36148590802381275,
          0.6228106235694788,
          1.2955071380353218,
          1.2999373453933192,
          -0.3495696681854242,
          -0.41722317950520443,
          -0.33814313475104874,
          -0.7189669243087824,
          -1.1798234338056233,
          3.290149533808004,
          3.5798324125082086,
          -1.3290653140576794,
          3.4076905494810856,
          0.6564439303467555,
          -0.6600343978337562,
          -1.711268692815924,
          0.4706304624059257,
          -2.4977238834978612,
          -0.3440268677213195,
          -0.9980286958162184,
          -0.25190428712447754,
          -0.9992388956950692,
          0.43724070013257527,
          -1.3078850222294585,
          1.186238434316216,
          -0.0950753828605744,
          -0.13810301918829432,
          -0.6857611364227627,
          -0.3773493404190483,
          -1.5436131312244126,
          -0.4490613505300171,
          -0.9314054009375178,
          1.6854641046914831,
          -1.4834566723620282,
          0.357372317664114,
          -2.2790367064176382,
          0.3657078460109143,
          1.11514792199877,
          3.563371939437429,
          3.4622151803862034,
          0.22236762727157244,
          2.3845478983689863,
          0.4454700696162079,
          0.10716467267785885,
          0.053342393549608555,
          -1.7375088957428053,
          -1.2165581390743518,
          -0.28812914954656715,
          -0.39655953170022296,
          0.6074888711548836,
          0.2364317525003729,
          -0.7300302723631364,
          1.2120092131956606,
          -1.198619723325555,
          -1.6429545505939502,
          0.6613302203666969,
          -0.12423513217702865,
          -1.0523620461446441,
          0.5199620949148156,
          0.5132519254062098,
          2.119278097430645,
          0.05642263444082342,
          1.767655601657865,
          1.8840638705689947,
          1.0938960480322755,
          -0.11637186813265483,
          1.0528005345532614,
          -1.161301428105567,
          0.2696850129658198,
          0.6481250889198354,
          0.2499548677230823,
          1.1549468653403094,
          -0.5578999099219769,
          -1.4375456341100208,
          -0.32850049425464395,
          -0.42308689893347773,
          -0.2996200121103149,
          -0.8166644352336864,
          -1.5892774636656175,
          -1.0683751597724827,
          2.60395951839432,
          -1.4233564608090932,
          -0.5499444371643283,
          4.047542480244459,
          -0.8866609643288463,
          1.4382032954841828,
          -0.825776418711135,
          0.36324012380027915,
          -2.5226301241677462,
          0.8610804556069354,
          -1.541102723241534,
          -1.219378535760891,
          1.9977147775664257,
          2.6558365351321327,
          -0.0750272949570308,
          -1.252168551375463,
          3.8969409299044,
          -1.0761922125045424,
          1.2781917831468343,
          1.2886703169801803,
          1.5472075711039863,
          -0.43606199256255107,
          0.8897071755830446,
          0.8253574681329788,
          1.2131377105961985,
          -1.4810618224842753,
          -1.9331492343189491,
          1.3033890737156277,
          -0.23956129348459224,
          2.8146449701474965,
          -0.13125942968136,
          0.5943778478870583,
          0.8782637265421537,
          2.066510197683181,
          0.09702976688964579,
          0.4418447369982307,
          -0.35638281658167714,
          -1.1638537844485402,
          -0.8526279210419588,
          -1.5038855469660888,
          0.6768060878978804,
          -0.13784358444135453,
          -2.0144356234045038,
          -1.6491287918817201,
          -2.31334861316721,
          -0.007684252858789908,
          -0.5718294582035333,
          0.40580149873920696,
          -1.2808422595425721,
          0.19602939663745403,
          -0.43493842941525823,
          1.606564574202341,
          1.183276819343227,
          0.4522933952084408,
          -0.8926659101842088,
          -0.40935085888561984,
          0.4057326442906097,
          -0.9664678436714431,
          2.1457322250034436,
          1.6086183009536117,
          -1.4799795487293586,
          -0.539858430144435,
          2.076020707004189,
          -1.7801094453024788,
          0.09195489538477099,
          0.2678431954948275,
          0.6445523066316314,
          -0.11712032654510585,
          -0.4620451330981739,
          -1.7432791572542718,
          -1.721734631794298,
          -0.6491744524125894,
          -1.1630688865517287,
          -0.36670837107389326,
          -1.5777088893501108,
          -0.8296903852765829,
          0.14658374240870659,
          0.27544559875230634,
          -0.7678781354553141,
          -0.25543183337963943,
          1.5666255200929797,
          -0.03633596403672661,
          -1.2386330297893677,
          0.4272784608361304,
          -1.2436744005041023,
          0.9302579702819664,
          -0.19331352813431185,
          0.3812669949313425,
          0.2511736414979609,
          -1.6749367913687296,
          -0.2104049214099866,
          -0.2101044316788502,
          0.17728327140238098,
          2.9173038325736234,
          -0.8263812226957928,
          -0.3053192185681071,
          -0.0351011713087151,
          -0.26023407558505707,
          0.7578268031037546,
          0.18761918063153563,
          -0.8864294297108812,
          -1.294706345032933,
          1.0095823976389706,
          -0.6631343922809991,
          -0.7843502558506934,
          0.20814054839486498,
          1.0178785870386382,
          -1.2759638896103005,
          1.5328822048948465,
          -0.4882082520855628,
          3.9139598102298905,
          1.1439197411350905,
          -2.2621792146591075,
          1.4697069604498425,
          -0.8303015605551173,
          -0.9761774448465916,
          -1.7340770366635059,
          1.015931208084834,
          -1.5481251613951246,
          -0.49591626934576016,
          -1.54508940907247,
          1.0598972651489011,
          1.2474328410732394,
          -1.630905534017922,
          0.9199505165502485,
          0.828730471529398,
          -1.3492590360287204,
          -0.9852929537740036,
          -1.5486087940221058,
          -0.162451188541573,
          -2.4567515890648233,
          -0.6763392751993175,
          0.34347232880701756,
          -1.2987699145175755,
          -0.871975516057948,
          -0.1205579457688851,
          -0.4960631274902446,
          1.293770636316537,
          -0.7062407035845519,
          0.7336227387550398,
          -1.2494872010944493,
          -0.25542018625378743,
          -1.4199868010362888,
          -0.688988318378661,
          -0.19690876244741323,
          0.5128558927274579,
          1.9100228042171874,
          -0.8720775083972027,
          0.32137611340558564,
          0.37478323216196235,
          -1.5555301489726965,
          0.20507191854473775,
          -1.1719483293612551,
          -0.4310417286247224,
          -1.5316232903903297,
          0.07391929073131193,
          0.679977927500926,
          -1.4142189480585738,
          0.2762122975967127,
          4.478287969483092,
          0.9549401682465235,
          -1.7504537872317734,
          -0.15877512471784866,
          -1.4025697590900812,
          -0.8647994689074202,
          -1.3275705104981637,
          -0.900901599855582,
          0.7479992357793266,
          4.175358730997754,
          -1.4200958950011464,
          -0.4292364853195649,
          -1.0988148932658557,
          1.650108073720229,
          0.4555721768934988,
          0.020011241466696618,
          0.7120704106595861,
          1.1854034163214977,
          -0.11760039940252269,
          0.08068061340441396,
          -0.26965247029601336,
          0.591896968580029,
          -0.9980142227639992,
          -0.8051008793062551,
          -0.5173491549850682,
          -0.12098907341153897,
          -1.8244749934199593,
          1.5434532174554025,
          -1.2749923841577004,
          2.131921348420882,
          -1.1813722018863957,
          -1.195068643037585,
          1.8410203462320225,
          -0.3098220844343988,
          -0.12986522684226737,
          0.6130924029666706,
          -0.5598104396021386,
          1.1214179061426752,
          -0.17346569474640852,
          -0.8024523331393645,
          0.4682059509103116,
          0.48702775723791286,
          -0.6704188481488411,
          -0.10517317796014752
         ],
         "yaxis": "y"
        }
       ],
       "layout": {
        "coloraxis": {
         "colorbar": {
          "title": {
           "text": "cluster"
          }
         },
         "colorscale": [
          [
           0,
           "#0d0887"
          ],
          [
           0.1111111111111111,
           "#46039f"
          ],
          [
           0.2222222222222222,
           "#7201a8"
          ],
          [
           0.3333333333333333,
           "#9c179e"
          ],
          [
           0.4444444444444444,
           "#bd3786"
          ],
          [
           0.5555555555555556,
           "#d8576b"
          ],
          [
           0.6666666666666666,
           "#ed7953"
          ],
          [
           0.7777777777777778,
           "#fb9f3a"
          ],
          [
           0.8888888888888888,
           "#fdca26"
          ],
          [
           1,
           "#f0f921"
          ]
         ]
        },
        "legend": {
         "tracegroupgap": 0
        },
        "margin": {
         "t": 60
        },
        "template": {
         "data": {
          "bar": [
           {
            "error_x": {
             "color": "#2a3f5f"
            },
            "error_y": {
             "color": "#2a3f5f"
            },
            "marker": {
             "line": {
              "color": "#E5ECF6",
              "width": 0.5
             },
             "pattern": {
              "fillmode": "overlay",
              "size": 10,
              "solidity": 0.2
             }
            },
            "type": "bar"
           }
          ],
          "barpolar": [
           {
            "marker": {
             "line": {
              "color": "#E5ECF6",
              "width": 0.5
             },
             "pattern": {
              "fillmode": "overlay",
              "size": 10,
              "solidity": 0.2
             }
            },
            "type": "barpolar"
           }
          ],
          "carpet": [
           {
            "aaxis": {
             "endlinecolor": "#2a3f5f",
             "gridcolor": "white",
             "linecolor": "white",
             "minorgridcolor": "white",
             "startlinecolor": "#2a3f5f"
            },
            "baxis": {
             "endlinecolor": "#2a3f5f",
             "gridcolor": "white",
             "linecolor": "white",
             "minorgridcolor": "white",
             "startlinecolor": "#2a3f5f"
            },
            "type": "carpet"
           }
          ],
          "choropleth": [
           {
            "colorbar": {
             "outlinewidth": 0,
             "ticks": ""
            },
            "type": "choropleth"
           }
          ],
          "contour": [
           {
            "colorbar": {
             "outlinewidth": 0,
             "ticks": ""
            },
            "colorscale": [
             [
              0,
              "#0d0887"
             ],
             [
              0.1111111111111111,
              "#46039f"
             ],
             [
              0.2222222222222222,
              "#7201a8"
             ],
             [
              0.3333333333333333,
              "#9c179e"
             ],
             [
              0.4444444444444444,
              "#bd3786"
             ],
             [
              0.5555555555555556,
              "#d8576b"
             ],
             [
              0.6666666666666666,
              "#ed7953"
             ],
             [
              0.7777777777777778,
              "#fb9f3a"
             ],
             [
              0.8888888888888888,
              "#fdca26"
             ],
             [
              1,
              "#f0f921"
             ]
            ],
            "type": "contour"
           }
          ],
          "contourcarpet": [
           {
            "colorbar": {
             "outlinewidth": 0,
             "ticks": ""
            },
            "type": "contourcarpet"
           }
          ],
          "heatmap": [
           {
            "colorbar": {
             "outlinewidth": 0,
             "ticks": ""
            },
            "colorscale": [
             [
              0,
              "#0d0887"
             ],
             [
              0.1111111111111111,
              "#46039f"
             ],
             [
              0.2222222222222222,
              "#7201a8"
             ],
             [
              0.3333333333333333,
              "#9c179e"
             ],
             [
              0.4444444444444444,
              "#bd3786"
             ],
             [
              0.5555555555555556,
              "#d8576b"
             ],
             [
              0.6666666666666666,
              "#ed7953"
             ],
             [
              0.7777777777777778,
              "#fb9f3a"
             ],
             [
              0.8888888888888888,
              "#fdca26"
             ],
             [
              1,
              "#f0f921"
             ]
            ],
            "type": "heatmap"
           }
          ],
          "heatmapgl": [
           {
            "colorbar": {
             "outlinewidth": 0,
             "ticks": ""
            },
            "colorscale": [
             [
              0,
              "#0d0887"
             ],
             [
              0.1111111111111111,
              "#46039f"
             ],
             [
              0.2222222222222222,
              "#7201a8"
             ],
             [
              0.3333333333333333,
              "#9c179e"
             ],
             [
              0.4444444444444444,
              "#bd3786"
             ],
             [
              0.5555555555555556,
              "#d8576b"
             ],
             [
              0.6666666666666666,
              "#ed7953"
             ],
             [
              0.7777777777777778,
              "#fb9f3a"
             ],
             [
              0.8888888888888888,
              "#fdca26"
             ],
             [
              1,
              "#f0f921"
             ]
            ],
            "type": "heatmapgl"
           }
          ],
          "histogram": [
           {
            "marker": {
             "pattern": {
              "fillmode": "overlay",
              "size": 10,
              "solidity": 0.2
             }
            },
            "type": "histogram"
           }
          ],
          "histogram2d": [
           {
            "colorbar": {
             "outlinewidth": 0,
             "ticks": ""
            },
            "colorscale": [
             [
              0,
              "#0d0887"
             ],
             [
              0.1111111111111111,
              "#46039f"
             ],
             [
              0.2222222222222222,
              "#7201a8"
             ],
             [
              0.3333333333333333,
              "#9c179e"
             ],
             [
              0.4444444444444444,
              "#bd3786"
             ],
             [
              0.5555555555555556,
              "#d8576b"
             ],
             [
              0.6666666666666666,
              "#ed7953"
             ],
             [
              0.7777777777777778,
              "#fb9f3a"
             ],
             [
              0.8888888888888888,
              "#fdca26"
             ],
             [
              1,
              "#f0f921"
             ]
            ],
            "type": "histogram2d"
           }
          ],
          "histogram2dcontour": [
           {
            "colorbar": {
             "outlinewidth": 0,
             "ticks": ""
            },
            "colorscale": [
             [
              0,
              "#0d0887"
             ],
             [
              0.1111111111111111,
              "#46039f"
             ],
             [
              0.2222222222222222,
              "#7201a8"
             ],
             [
              0.3333333333333333,
              "#9c179e"
             ],
             [
              0.4444444444444444,
              "#bd3786"
             ],
             [
              0.5555555555555556,
              "#d8576b"
             ],
             [
              0.6666666666666666,
              "#ed7953"
             ],
             [
              0.7777777777777778,
              "#fb9f3a"
             ],
             [
              0.8888888888888888,
              "#fdca26"
             ],
             [
              1,
              "#f0f921"
             ]
            ],
            "type": "histogram2dcontour"
           }
          ],
          "mesh3d": [
           {
            "colorbar": {
             "outlinewidth": 0,
             "ticks": ""
            },
            "type": "mesh3d"
           }
          ],
          "parcoords": [
           {
            "line": {
             "colorbar": {
              "outlinewidth": 0,
              "ticks": ""
             }
            },
            "type": "parcoords"
           }
          ],
          "pie": [
           {
            "automargin": true,
            "type": "pie"
           }
          ],
          "scatter": [
           {
            "marker": {
             "colorbar": {
              "outlinewidth": 0,
              "ticks": ""
             }
            },
            "type": "scatter"
           }
          ],
          "scatter3d": [
           {
            "line": {
             "colorbar": {
              "outlinewidth": 0,
              "ticks": ""
             }
            },
            "marker": {
             "colorbar": {
              "outlinewidth": 0,
              "ticks": ""
             }
            },
            "type": "scatter3d"
           }
          ],
          "scattercarpet": [
           {
            "marker": {
             "colorbar": {
              "outlinewidth": 0,
              "ticks": ""
             }
            },
            "type": "scattercarpet"
           }
          ],
          "scattergeo": [
           {
            "marker": {
             "colorbar": {
              "outlinewidth": 0,
              "ticks": ""
             }
            },
            "type": "scattergeo"
           }
          ],
          "scattergl": [
           {
            "marker": {
             "colorbar": {
              "outlinewidth": 0,
              "ticks": ""
             }
            },
            "type": "scattergl"
           }
          ],
          "scattermapbox": [
           {
            "marker": {
             "colorbar": {
              "outlinewidth": 0,
              "ticks": ""
             }
            },
            "type": "scattermapbox"
           }
          ],
          "scatterpolar": [
           {
            "marker": {
             "colorbar": {
              "outlinewidth": 0,
              "ticks": ""
             }
            },
            "type": "scatterpolar"
           }
          ],
          "scatterpolargl": [
           {
            "marker": {
             "colorbar": {
              "outlinewidth": 0,
              "ticks": ""
             }
            },
            "type": "scatterpolargl"
           }
          ],
          "scatterternary": [
           {
            "marker": {
             "colorbar": {
              "outlinewidth": 0,
              "ticks": ""
             }
            },
            "type": "scatterternary"
           }
          ],
          "surface": [
           {
            "colorbar": {
             "outlinewidth": 0,
             "ticks": ""
            },
            "colorscale": [
             [
              0,
              "#0d0887"
             ],
             [
              0.1111111111111111,
              "#46039f"
             ],
             [
              0.2222222222222222,
              "#7201a8"
             ],
             [
              0.3333333333333333,
              "#9c179e"
             ],
             [
              0.4444444444444444,
              "#bd3786"
             ],
             [
              0.5555555555555556,
              "#d8576b"
             ],
             [
              0.6666666666666666,
              "#ed7953"
             ],
             [
              0.7777777777777778,
              "#fb9f3a"
             ],
             [
              0.8888888888888888,
              "#fdca26"
             ],
             [
              1,
              "#f0f921"
             ]
            ],
            "type": "surface"
           }
          ],
          "table": [
           {
            "cells": {
             "fill": {
              "color": "#EBF0F8"
             },
             "line": {
              "color": "white"
             }
            },
            "header": {
             "fill": {
              "color": "#C8D4E3"
             },
             "line": {
              "color": "white"
             }
            },
            "type": "table"
           }
          ]
         },
         "layout": {
          "annotationdefaults": {
           "arrowcolor": "#2a3f5f",
           "arrowhead": 0,
           "arrowwidth": 1
          },
          "autotypenumbers": "strict",
          "coloraxis": {
           "colorbar": {
            "outlinewidth": 0,
            "ticks": ""
           }
          },
          "colorscale": {
           "diverging": [
            [
             0,
             "#8e0152"
            ],
            [
             0.1,
             "#c51b7d"
            ],
            [
             0.2,
             "#de77ae"
            ],
            [
             0.3,
             "#f1b6da"
            ],
            [
             0.4,
             "#fde0ef"
            ],
            [
             0.5,
             "#f7f7f7"
            ],
            [
             0.6,
             "#e6f5d0"
            ],
            [
             0.7,
             "#b8e186"
            ],
            [
             0.8,
             "#7fbc41"
            ],
            [
             0.9,
             "#4d9221"
            ],
            [
             1,
             "#276419"
            ]
           ],
           "sequential": [
            [
             0,
             "#0d0887"
            ],
            [
             0.1111111111111111,
             "#46039f"
            ],
            [
             0.2222222222222222,
             "#7201a8"
            ],
            [
             0.3333333333333333,
             "#9c179e"
            ],
            [
             0.4444444444444444,
             "#bd3786"
            ],
            [
             0.5555555555555556,
             "#d8576b"
            ],
            [
             0.6666666666666666,
             "#ed7953"
            ],
            [
             0.7777777777777778,
             "#fb9f3a"
            ],
            [
             0.8888888888888888,
             "#fdca26"
            ],
            [
             1,
             "#f0f921"
            ]
           ],
           "sequentialminus": [
            [
             0,
             "#0d0887"
            ],
            [
             0.1111111111111111,
             "#46039f"
            ],
            [
             0.2222222222222222,
             "#7201a8"
            ],
            [
             0.3333333333333333,
             "#9c179e"
            ],
            [
             0.4444444444444444,
             "#bd3786"
            ],
            [
             0.5555555555555556,
             "#d8576b"
            ],
            [
             0.6666666666666666,
             "#ed7953"
            ],
            [
             0.7777777777777778,
             "#fb9f3a"
            ],
            [
             0.8888888888888888,
             "#fdca26"
            ],
            [
             1,
             "#f0f921"
            ]
           ]
          },
          "colorway": [
           "#636efa",
           "#EF553B",
           "#00cc96",
           "#ab63fa",
           "#FFA15A",
           "#19d3f3",
           "#FF6692",
           "#B6E880",
           "#FF97FF",
           "#FECB52"
          ],
          "font": {
           "color": "#2a3f5f"
          },
          "geo": {
           "bgcolor": "white",
           "lakecolor": "white",
           "landcolor": "#E5ECF6",
           "showlakes": true,
           "showland": true,
           "subunitcolor": "white"
          },
          "hoverlabel": {
           "align": "left"
          },
          "hovermode": "closest",
          "mapbox": {
           "style": "light"
          },
          "paper_bgcolor": "white",
          "plot_bgcolor": "#E5ECF6",
          "polar": {
           "angularaxis": {
            "gridcolor": "white",
            "linecolor": "white",
            "ticks": ""
           },
           "bgcolor": "#E5ECF6",
           "radialaxis": {
            "gridcolor": "white",
            "linecolor": "white",
            "ticks": ""
           }
          },
          "scene": {
           "xaxis": {
            "backgroundcolor": "#E5ECF6",
            "gridcolor": "white",
            "gridwidth": 2,
            "linecolor": "white",
            "showbackground": true,
            "ticks": "",
            "zerolinecolor": "white"
           },
           "yaxis": {
            "backgroundcolor": "#E5ECF6",
            "gridcolor": "white",
            "gridwidth": 2,
            "linecolor": "white",
            "showbackground": true,
            "ticks": "",
            "zerolinecolor": "white"
           },
           "zaxis": {
            "backgroundcolor": "#E5ECF6",
            "gridcolor": "white",
            "gridwidth": 2,
            "linecolor": "white",
            "showbackground": true,
            "ticks": "",
            "zerolinecolor": "white"
           }
          },
          "shapedefaults": {
           "line": {
            "color": "#2a3f5f"
           }
          },
          "ternary": {
           "aaxis": {
            "gridcolor": "white",
            "linecolor": "white",
            "ticks": ""
           },
           "baxis": {
            "gridcolor": "white",
            "linecolor": "white",
            "ticks": ""
           },
           "bgcolor": "#E5ECF6",
           "caxis": {
            "gridcolor": "white",
            "linecolor": "white",
            "ticks": ""
           }
          },
          "title": {
           "x": 0.05
          },
          "xaxis": {
           "automargin": true,
           "gridcolor": "white",
           "linecolor": "white",
           "ticks": "",
           "title": {
            "standoff": 15
           },
           "zerolinecolor": "white",
           "zerolinewidth": 2
          },
          "yaxis": {
           "automargin": true,
           "gridcolor": "white",
           "linecolor": "white",
           "ticks": "",
           "title": {
            "standoff": 15
           },
           "zerolinecolor": "white",
           "zerolinewidth": 2
          }
         }
        },
        "xaxis": {
         "anchor": "y",
         "domain": [
          0,
          1
         ],
         "title": {
          "text": "x"
         }
        },
        "yaxis": {
         "anchor": "x",
         "domain": [
          0,
          1
         ],
         "title": {
          "text": "y"
         }
        }
       }
      },
      "text/html": [
       "<div>                            <div id=\"d5a0aa4e-f762-4058-b469-99db7f93a06e\" class=\"plotly-graph-div\" style=\"height:525px; width:100%;\"></div>            <script type=\"text/javascript\">                require([\"plotly\"], function(Plotly) {                    window.PLOTLYENV=window.PLOTLYENV || {};                                    if (document.getElementById(\"d5a0aa4e-f762-4058-b469-99db7f93a06e\")) {                    Plotly.newPlot(                        \"d5a0aa4e-f762-4058-b469-99db7f93a06e\",                        [{\"customdata\":[[\"Like a Rolling Stone\"],[\"Smells Like Teen Spirit\"],[\"A Day In The Life - Remastered\"],[\"Good Vibrations (Mono)\"],[\"Johnny B Goode\"],[\"Respect\"],[\"Be My Baby\"],[\"What's Going On\"],[\"I Heard It Through The Grapevine\"],[\"(I Can't Get No) Satisfaction - Mono Version / Remastered 2002\"],[\"Billie Jean\"],[\"Heartbreak Hotel\"],[\"Born to Run\"],[\"My Generation - Original Mono Version\"],[\"Love Will Tear Us Apart\"],[\"God Only Knows - Mono / 1997 Remastered\"],[\"(Sittin' On) the Dock of the Bay\"],[\"Hey Ya! - Radio Mix / Club Mix\"],[\"Anarchy In The UK - Remastered 2012\"],[\"Paper Planes\"],[\"London Calling\"],[\"Sympathy For The Devil\"],[\"Strawberry Fields Forever - Remastered\"],[\"Tutti Frutti\"],[\"Stairway To Heaven\"],[\"The Message (feat. Melle Mel & Duke Bootee)\"],[\"What'd I Say\"],[\"Imagine - Remastered 2010\"],[\"A Change Is Gonna Come\"],[\"Heroes - 1999 Remaster\"],[\"When Doves Cry\"],[\"Superstition\"],[\"Common People\"],[\"Gimme Shelter\"],[\"Strange Fruit\"],[\"You Really Got Me\"],[\"Crazy In Love (feat. Jay-Z)\"],[\"Seven Nation Army\"],[\"Losing My Religion\"],[\"God Save The Queen\"],[\"Bohemian Rhapsody - Remastered 2011\"],[\"Blue Monday\"],[\"Purple Haze\"],[\"Louie Louie\"],[\"I Want You Back\"],[\"Crazy\"],[\"You've Lost That Lovin' Feelin' - Single Version\"],[\"Hey Jude - Remastered\"],[\"Waterloo Sunset - Stereo\"],[\"Take Me Out\"],[\"Get Ur Freak On\"],[\"That'll Be the Day\"],[\"Light My Fire\"],[\"I Feel Love\"],[\"There Is a Light That Never Goes Out - 2011 Remaster\"],[\"Space Oddity - 2009 Remastered Version\"],[\"Stand by Me\"],[\"Mr. Tambourine Man\"],[\"Bitter Sweet Symphony\"],[\"(We're Gonna) Rock Around The Clock\"],[\"Layla - 40th Anniversary Version / 2010 Remastered\"],[\"River Deep - Mountain High\"],[\"Unfinished Sympathy - 2006 Digital Remaster\"],[\"Loser\"],[\"Fight The Power\"],[\"Once in a Lifetime - 2005 Remaster\"],[\"Paranoid Android\"],[\"Whole Lotta Love - Remaster\"],[\"Alright\"],[\"House of the Rising Sun\"],[\"Walk on the Wild Side\"],[\"Hotel California\"],[\"99 Problems\"],[\"Dancing On My Own\"],[\"Formation\"],[\"Let's Stay Together\"],[\"Jumpin' Jack Flash\"],[\"All My Friends\"],[\"California Dreamin'\"],[\"Blitzkrieg Bop - 2001 Remaster\"],[\"Dancing In The Street\"],[\"Hound Dog\"],[\"Oblivion\"],[\"I Want To Hold Your Hand - Remastered\"],[\"All Along the Watchtower\"],[\"Nothing Compares 2 U\"],[\"How Soon Is Now? - 2011 Remaster\"],[\"Sweet Child O' Mine\"],[\"For What It's Worth\"],[\"The Weight - Remastered\"],[\"Runaway\"],[\"Ghost Town - Extended Version\"],[\"Royals\"],[\"Get Lucky (feat. Pharrell Williams & Nile Rodgers) - Radio Edit\"],[\"Suspicious Minds\"],[\"Life On Mars? - 1999 Remastered Version\"],[\"Reach Out I'll Be There - Single Version / Mono\"],[\"That's All Right Mama\"],[\"Get Up (I Feel Like Being A) Sex Machine - Pt. 1 & 2\"],[\"Wonderwall\"],[\"Heroin\"],[\"Whole Lotta Shakin' Goin' On\"],[\"Thunder Road\"],[\"One\"],[\"I'm Waiting For The Man - Album Version (Stereo)\"],[\"The Tracks Of My Tears - Single Version / Mono\"],[\"Yesterday - Remastered\"],[\"Dancing Queen\"],[\"Summertime Blues\"],[\"This Charming Man - 2011 Remaster\"],[\"Blue Suede Shoes\"],[\"Good Times\"],[\"Pyramids\"],[\"My Girl - Single Version/Mono\"],[\"Paint It Black\"],[\"Video Games\"],[\"Rehab\"],[\"Rapper's Delight - Long Version\"],[\"The Sound of Silence - Electric Version\"],[\"Fortunate Son\"],[\"Papa's Got A Brand New Bag - Pt. 1\"],[\"Bridge over Troubled Water\"],[\"No Woman, No Cry - Live At The Lyceum, London/1975\"],[\"Proud Mary\"],[\"Every Breath You Take - Remastered 2003\"],[\"Maybellene - Single Version\"],[\"A Whiter Shade Of Pale\"],[\"Midnight City\"],[\"Losing My Edge\"],[\"I'm So Lonesome I Could Cry - Single Version\"],[\"Eight Miles High\"],[\"Born Slippy (Nuxx)\"],[\"Great Balls Of Fire\"],[\"Green Onions\"],[\"Maps\"],[\"Umbrella\"],[\"She Loves You - Remastered\"],[\"Stayin' Alive - 2007 Remastered Version Saturday Night Fever\"],[\"Tangled up in Blue\"],[\"Maggie May\"],[\"Will You Still Love Me Tomorrow\"],[\"Seasons (Waiting On You)\"],[\"Creep\"],[\"Be-Bop-A-Lula\"],[\"Paranoid\"],[\"Heart Of Glass [24-Bit Digitally Remastered 01]\"],[\"Kashmir - 1990 Remaster\"],[\"Walk This Way (feat. Aerosmith)\"],[\"Like a Prayer\"],[\"Marquee Moon - 2003 Remaster\"],[\"Hotline Bling\"],[\"Live Forever\"],[\"Time to Pretend\"],[\"When a Man Loves a Woman\"],[\"Brown Sugar\"],[\"Over the Rainbow (From \\\"The Wizard of Oz\\\")\"],[\"Tomorrow Never Knows - Remastered\"],[\"This Land is Your Land\"],[\"Oh, Pretty Woman\"],[\"Jailhouse Rock\"],[\"Empire State Of Mind [Jay-Z + Alicia Keys]\"],[\"I Bet You Look Good On The Dancefloor\"],[\"Like a Virgin\"],[\"Into the Groove\"],[\"Let It Happen\"],[\"Cranes in the Sky\"],[\"Song 2 - 2012 Remaster\"],[\"Purple Rain\"],[\"Wuthering Heights\"],[\"Born In The U.S.A.\"],[\"Kids\"],[\"Nuthin' But A \\\"G\\\" Thang\"],[\"Peggy Sue - Single Version\"],[\"White Rabbit\"],[\"Kiss\"],[\"Sunday Bloody Sunday\"],[\"Psycho Killer - 2005 Remaster\"],[\"Tainted Love\"],[\"Little Red Corvette\"],[\"Family Affair - Single Version\"],[\"Can't Get You out of My Head\"],[\"Honky Tonk Women - Mono Version\"],[\"Your Best American Girl\"],[\"Autobahn - 2009 Remaster\"],[\"My Girls\"],[\"Eleanor Rigby - Remastered\"],[\"Get It On\"],[\"There She Goes\"],[\"Help! - Remastered\"],[\"House Of Jealous Lovers\"],[\"Last Nite\"],[\"Le Freak\"],[\"Won't Get Fooled Again - Original Album Version\"],[\"In My Life - Remastered\"],[\"Hurt\"],[\"Ms. Jackson\"],[\"Walk on By\"],[\"Folsom Prison Blues\"],[\"Sign 'O' the Times - Single Version\"],[\"bad guy\"],[\"Teenage Kicks\"],[\"This Is America\"],[\"Blowin' in the Wind\"],[\"I Walk The Line - Single Version\"],[\"Brown Eyed Girl\"],[\"Blueberry Hill\"],[\"Planet Rock\"],[\"Crazy\"],[\"Bo Diddley\"],[\"Subterranean Homesick Blues\"],[\"Mr. Brightside\"],[\"People Get Ready - Single Version\"],[\"Virginia Plain\"],[\"Runaway\"],[\"Baba O'Riley\"],[\"Go Your Own Way\"],[\"Two Weeks\"],[\"(White Man) In Hammersmith Palais\"],[\"(Don't Fear) The Reaper\"],[\"Penny Lane - Remastered\"],[\"Smoke On the Water\"],[\"Toxic\"],[\"Roadrunner (Twice)\"],[\"Don't You Want Me\"],[\"Bad Girls\"],[\"Changes - 1999 Remastered Version\"],[\"Don't Stop 'Til You Get Enough\"],[\"Let It Be - Remastered\"],[\"Don't Be Cruel\"],[\"Papa Was A Rollin' Stone - Single Version\"],[\"Rolling in the Deep\"],[\"Living For The City\"],[\"Gloria (feat. Van Morrison) - Mono Version\"],[\"Try A Little Tenderness\"],[\"I Wanna Be Your Dog\"],[\"1979\"],[\"The Girl From Ipanema\"],[\"You Send Me\"],[\"Wild Thing\"],[\"Ziggy Stardust - 2012 Remastered Version\"],[\"In the Midnight Hour\"],[\"Wichita Lineman - Remastered 2001\"],[\"I Got You (I Feel Good)\"],[\"Idioteque\"],[\"Sunshine Of Your Love\"],[\"Search and Destroy - Iggy Pop Mix\"],[\"While My Guitar Gently Weeps - Remastered\"],[\"Ever Fallen in Love (With Someone You Shouldn't've?) - 1996 Remastered Version\"],[\"The Times They Are A-Changin'\"],[\"With Or Without You - Remastered\"],[\"Mystery Train\"],[\"Leader Of The Pack\"],[\"Let's Get It On\"],[\"La Bamba\"],[\"Dance Yrself Clean\"],[\"Relax\"],[\"The Model - 2009 Remaster\"],[\"Rebellion (Lies)\"],[\"Don't Worry Baby (Mono) - Remastered\"],[\"Debaser\"],[\"Sweet Jane\"],[\"Why Do Fools Fall In Love\"],[\"Running Up That Hill (A Deal With God)\"],[\"Beat It\"],[\"Wish You Were Here - 2011 Remastered Version\"],[\"Sabotage - 2009 Digital Remaster\"],[\"Alone Again Or\"],[\"One More Time\"],[\"Green Light\"],[\"Over And Over\"],[\"All the Young Dudes\"],[\"The Boys Are Back In Town\"],[\"Lose Yourself - Soundtrack Version\"],[\"212\"],[\"Firestarter\"],[\"Kick Out the Jams\"],[\"See Emily Play - 2001 Remastered Version\"],[\"Two Weeks\"],[\"Girls & Boys - 2012 Remaster\"],[\"Son Of A Preacher Man\"],[\"Cannonball\"],[\"B.O.B. - Bombs Over Baghdad\"],[\"Thinkin Bout You\"],[\"Many Rivers To Cross\"],[\"Gold Digger\"],[\"Israelites\"],[\"Something - Remastered\"],[\"Ring Of Fire - Single Version\"],[\"Sexual Healing\"],[\"Cross Road Blues\"],[\"Highway To Hell\"],[\"Born To Be Wild\"],[\"Da Funk\"],[\"Theme From Shaft\"],[\"Brass in Pocket\"],[\"Shake, Rattle and Roll\"],[\"(I'm Your) Hoochie Coochie Man\"],[\"Jesus Walks\"],[\"Suzanne\"],[\"Bye Bye Love\"],[\"Windowlicker\"],[\"Heartbeats\"],[\"School's Out\"],[\"Stop! In The Name Of Love\"],[\"La Vie en rose\"],[\"Fell In Love With a Girl\"],[\"Enter Sandman\"],[\"Je t'aime moi non plus\"],[\"Where Is My Mind?\"],[\"96 Tears\"],[\"Stan\"],[\"Radio Free Europe\"],[\"Bring The Noise\"],[\"Ace Of Spades\"],[\"Where Did Our Love Go - Stereo Version\"],[\"Teen Age Riot\"],[\"(Your Love Keeps Lifting Me) Higher and Higher\"],[\"Wake Up\"],[\"Rumble\"],[\"Gimme Some Lovin' - Single Mix\"],[\"Gloria: In Excelsis Deo\"],[\"Back In Black\"],[\"Tumbling Dice\"],[\"Summer in the City - Remastered\"],[\"Blind\"],[\"Killing In The Name\"],[\"Only the Lonely (Know the Way I Feel)\"],[\"Just Like Heaven\"],[\"Sweet Dreams (Are Made of This) - Remastered\"],[\"Young Folks\"],[\"Seventeen\"],[\"Sweet Home Alabama\"],[\"I Can't Explain - Original Mono Version\"],[\"Groove Is in the Heart\"],[\"Float On\"],[\"White Christmas\"],[\"You Can't Always Get What You Want\"],[\"Move on Up - Extended Version\"],[\"cellophane\"],[\"I Can't Stand The Rain\"],[\"Free Bird\"],[\"Bodak Yellow\"],[\"Lust For Life\"],[\"Heart of Gold\"],[\"HUMBLE.\"],[\"Ashes to Ashes\"],[\"King Kunta\"],[\"I Say a Little Prayer\"],[\"West End Blues\"],[\"I Can See For Miles - Mono Version\"],[\"I Get Around (Mono)\"],[\"More Than a Feeling\"],[\"I Am The Walrus - Remastered\"],[\"Under the Bridge\"],[\"Around the World\"],[\"Lola\"],[\"Georgia On My Mind\"],[\"Do You Realize??\"],[\"Hey Joe\"],[\"It's The End Of The World As We Know It (And I Feel Fine)\"],[\"Body and Soul\"],[\"Dazed and Confused - 1990 Remaster\"],[\"1901\"],[\"Fight For Your Right\"],[\"Archangel\"],[\"Ticket To Ride - Remastered\"],[\"Sultans Of Swing\"],[\"Fools Gold - Remastered\"],[\"Crying\"],[\"West End Girls - 2001 Remaster\"],[\"Rocket 88 - Single Version\"],[\"Chicago\"],[\"Mannish Boy\"],[\"Roll Over Beethoven\"],[\"Instant Karma! (We All Shine On) - Remastered 2010\"],[\"Minnie The Moocher (03-03-31)\"],[\"Work\"],[\"You Oughta Know\"],[\"Pink Moon\"],[\"American Pie\"],[\"Fake Plastic Trees\"],[\"I've Been Loving You Too Long\"],[\"No One Knows\"],[\"Monkey Gone to Heaven\"],[\"Somebody to Love\"],[\"Welcome To The Jungle\"],[\"Loaded\"],[\"Going Underground\"],[\"Round Midnight\"],[\"Long Tall Sally\"],[\"I Put a Spell on You\"],[\"Boogie Chillen\"],[\"Come Together - Remastered\"],[\"Pump Up The Volume (UK 12\\\" Remix)\"],[\"Ohio\"],[\"1999\"],[\"Glory Box\"],[\"Mack the Knife - Edit; 2006 Remaster\"],[\"One Nation Under A Groove\"],[\"Since U Been Gone\"],[\"Jolene\"],[\"Blister in the Sun - 2002 Remastered Version\"],[\"Moondance\"],[\"Jump\"],[\"Blank Generation\"],[\"Wild Horses\"],[\"Norwegian Wood (This Bird Has Flown) - Remastered\"],[\"Girls Just Want to Have Fun\"],[\"I'm a Believer\"],[\"I Will Survive - Single Version\"],[\"Another Brick In The Wall, Pt. 2 - 2011 Remastered Version\"],[\"Roxanne - Remastered 2003\"],[\"A Love Supreme Part I: Acknowledgement\"],[\"The Killing Moon\"],[\"Under Pressure\"],[\"In The Still Of The Nite\"],[\"Pride (In The Name Of Love) - Remastered 2009\"],[\"Da Doo Ron Ron (When He Walked Me Home)\"],[\"My Name Is\"],[\"There Goes My Baby - Single Version; 2019 Remaster\"],[\"Wolf Like Me\"],[\"Just Like Honey\"],[\"Bizarre Love Triangle\"],[\"Bad Moon Rising\"],[\"You Really Got A Hold On Me\"],[\"Pedestrian at Best\"],[\"Straight Outta Compton\"],[\"Dance to the Music\"],[\"The End\"],[\"St Louis Blues\"],[\"The Loco-Motion\"],[\"Hannah Hunt\"],[\"Paid In Full\"],[\"Such Great Heights\"],[\"I've Got a Woman\"],[\"O Superman\"],[\"Another Girl, Another Planet - 2008 re-mastered version\"],[\"Sheena Is a Punk Rocker - 2009 Remaster\"],[\"Voodoo Child (Slight Return)\"],[\"Midnight Train to Georgia\"],[\"I Know There's Gonna Be (Good Times)\"],[\"Because the Night\"],[\"No Scrubs\"],[\"You're Gonna Miss Me (2008 Remastered Original Mono LP Version)\"],[\"All I Have to Do Is Dream - Single Version; 2006 Remaster\"],[\"Come On Eileen\"],[\"My Sweet Lord - 2001 Digital Remaster\"],[\"Should I Stay or Should I Go\"],[\"Yonkers\"],[\"Reflektor\"],[\"Enjoy the Silence\"],[\"New Slang\"],[\"Ultralight Beam\"],[\"Hope There's Someone\"],[\"New Rose\"],[\"Ignition - Remix\"],[\"Boys Don't Cry\"],[\"Street Fighting Man\"],[\"I Only Have Eyes For You\"],[\"Run Away With Me\"],[\"Transmission\"],[\"All Apologies\"],[\"A Hard Day's Night - Remastered\"],[\"Skinny Love\"],[\"Me and Bobby McGee\"],[\"Music Sounds Better With You - Radio Edit\"],[\"Freak Scene\"],[\"Queen\"],[\"Your Song\"],[\"Starman - 2012 Remastered Version\"],[\"Make Me Feel\"],[\"Crystalised\"],[\"The Letter\"],[\"Milkshake\"],[\"Zombie\"],[\"Where It's At\"],[\"Come As You Are\"],[\"Everybody Hurts\"],[\"We Are Your Friends - Justice Vs Simian\"],[\"The Rat\"],[\"Fire and Rain\"],[\"It's A Man's Man's Man's World\"],[\"Fuck Tha Police\"],[\"Young Americans - 2007 Remaster\"],[\"The Seed (2.0)\"],[\"September Gurls\"],[\"Cathy's Clown - Single Version; 2006 Remaster\"],[\"Viva La Vida\"],[\"Smokestack Lightnin'\"],[\"Nights\"],[\"That's Entertainment\"],[\"I Love Rock 'N Roll\"],[\"Tired Of Being Alone\"],[\"Alison\"],[\"Cry Me a River\"],[\"Rock & Roll\"],[\"Rid Of Me\"],[\"These Boots Are Made for Walkin'\"],[\"Thank You (Falettinme Be Mice Elf Agin) - Single Version\"],[\"Black Hole Sun\"],[\"You Can't Hurry Love\"],[\"Round And Round\"],[\"Visions of Johanna\"],[\"Venus In Furs\"],[\"Shout, Pts. 1 & 2\"],[\"Trans-Europe Express - 2009 Remaster\"],[\"Rock the Casbah\"],[\"Hound Dog\"],[\"Clint Eastwood\"],[\"Closer\"],[\"Ain't No Sunshine\"],[\"Juice\"],[\"Lazarus\"],[\"So What (feat. John Coltrane, Cannonball Adderley & Bill Evans)\"],[\"Not\"],[\"Time After Time\"],[\"We Found Love\"],[\"DNA.\"],[\"Immigrant Song\"],[\"I've Got You Under My Skin - Remastered 1998\"],[\"Karma Police\"],[\"Everlong\"],[\"The Twist\"],[\"Do I Wanna Know?\"],[\"D.A.N.C.E.\"],[\"Revolution - Remastered\"],[\"Work It\"],[\"Good Golly Miss Molly\"],[\"Who Do You Love - Single Version\"],[\"War\"],[\"Bloodbuzz Ohio\"],[\"Comfortably Numb - 2011 Remastered Version\"],[\"Perfect Day\"],[\"Sour Times\"],[\"Yellow\"],[\"Helter Skelter - Remastered\"],[\"Cortez The Killer\"],[\"Famous Blue Raincoat\"],[\"Redemption Song\"],[\"Waiting Room\"],[\"Juicy - 2005 Remaster\"],[\"Get Up, Stand Up\"],[\"Ne me quitte pas\"],[\"It's Too Late\"],[\"The Rockafeller Skank - Full Version\"],[\"Desolation Row\"],[\"Since I Left You\"],[\"In The Air Tonight\"],[\"Shut Up Kiss Me\"],[\"Hate To Say I Told You So\"],[\"I Never Loved a Man (The Way I Love You)\"],[\"Riders on the Storm\"],[\"I'm Not In Love\"],[\"Stand By Your Man\"],[\"Wake up Little Susie - Single Version; 2006 Remaster\"],[\"Unchained Melody\"],[\"Blackstar\"],[\"The One I Love\"],[\"Ray of Light\"],[\"Ain't That A Shame\"],[\"thank u, next\"],[\"Working Class Hero - Remastered 2010\"],[\"Chain of Fools\"],[\"The Night They Drove Old Dixie Down - Remastered 2000\"],[\"Holocene\"],[\"Cut Your Hair\"],[\"Blue Yodel #1 (t For Texas)\"],[\"...Baby One More Time\"],[\"Jeremy\"],[\"Vogue\"],[\"I Still Haven't Found What I'm Looking For - Remastered 2007\"],[\"Dreams\"],[\"Old Town Road - Remix\"],[\"Higher Ground\"],[\"Who'll Stop The Rain\"],[\"He's a Rebel\"],[\"Walk This Way\"],[\"Friday On My Mind\"],[\"California Love\"],[\"The River\"],[\"The Harder They Come - From \\\"The Harder They Come\\\" Soundtrack\"],[\"MALAMENTE - Cap.1: Augurio\"],[\"Everyday People\"],[\"Soul Man\"],[\"The Thrill Is Gone\"],[\"Waterfalls\"],[\"Take on Me\"],[\"White Winter Hymnal\"],[\"The Passenger\"],[\"Odessa\"],[\"Everything Is Embarrassing\"],[\"Bags\"],[\"In the Mood\"],[\"Do You Believe in Magic?\"],[\"Earth Angel (Will You Be Mine)\"],[\"Can't Do Without You\"],[\"Fairytale of New York (feat. Kirsty MacColl)\"],[\"Sprawl II (Mountains Beyond Mountains)\"],[\"Lisztomania\"],[\"Killing Me Softly With His Song\"],[\"My Funny Valentine\"],[\"Message In A Bottle\"],[\"Koko\"],[\"Someone Great\"],[\"The Boxer\"],[\"Teardrop\"],[\"Fade Into You\"],[\"Personal Jesus\"],[\"Thirteen\"],[\"Where The Streets Have No Name - Remastered 2007\"],[\"Back To Life (However Do You Want Me) [feat. Caron Wheeler] - 2003 Remastered Version\"],[\"All You Need Is Love - Remastered\"],[\"Yakety Yak\"],[\"Tightrope (feat. Big Boi) - Big Boi Vocal Edit\"],[\"I Fought the Law - Single Version\"],[\"Push It\"],[\"Love Is The Drug\"],[\"I Will Move On Up A Little Higher - Part 1\"],[\"The House That Heaven Built\"],[\"What A Wonderful World\"],[\"Jesus, Etc.\"],[\"Cry Me A River\"],[\"Brimful of Asha (Norman Cook Remix) (Single Version)\"],[\"All Right Now\"],[\"Daniel\"],[\"Shipbuilding - Remastered in 1998\"],[\"Chandelier\"],[\"Retrograde\"],[\"Paperback Writer - Remastered\"],[\"Standing In The Way Of Control\"],[\"Rockin' in the Free World\"],[\"Let's Dance - 1999 Remaster\"],[\"One Day Like This\"],[\"You Shook Me All Night Long\"],[\"Apache\"],[\"Happiness Is A Warm Gun - Remastered\"],[\"Telstar - Remastered\"],[\"At Last - Single Version\"],[\"Hard To Explain\"],[\"Rebel Rebel - 1999 Remaster\"],[\"Fast Car\"],[\"Shine On You Crazy Diamond, Pts. 1-5 - 2011 Remastered Version\"],[\"More Than This\"],[\"Dust My Broom\"],[\"Losing You\"],[\"Hallelujah\"],[\"Blue Moon Of Kentucky - Original\"],[\"Hallelujah\"],[\"Piece of My Heart\"],[\"Police & Thieves\"],[\"Hold On, We're Going Home\"],[\"Maybe I\\u2019m Amazed - Remastered 2011\"],[\"True Faith - 2015 Remaster\"],[\"A-Punk\"],[\"White Lines (Don't Don't Do It) - Long Version\"],[\"Block Rockin' Beats\"],[\"Love To Love You Baby\"],[\"Digital Love\"],[\"Video Killed The Radio Star\"],[\"Doo Wop (That Thing)\"],[\"Dream On\"],[\"21st Century Schizoid Man\"],[\"Miss You - Remastered\"],[\"Positively 4th Street - Single Version\"],[\"Here Comes The Sun - Remastered\"],[\"Last Goodbye\"],[\"Gone\"],[\"Bad Romance\"],[\"Me Myself And I\"],[\"Pretty Vacant\"],[\"Shot By Both Sides - Remastered\"],[\"Boom Boom\"],[\"Knockin' On Heaven's Door\"],[\"Move It - 2000 Remaster\"],[\"Please Mr. Postman - Single Version / Mono\"],[\"Single Ladies (Put a Ring on It)\"],[\"Just Like a Woman\"],[\"The Boys Of Summer\"],[\"This Town Ain't Big Enough For Both Of Us\"],[\"The Dark End of the Street\"],[\"Alive\"],[\"Personality Crisis\"],[\"I Wanna Be Sedated - Remastered\"],[\"New Year's Day\"],[\"Archie, Marry Me\"],[\"Heart-Shaped Box\"],[\"Love It If We Made It\"],[\"Turn! Turn! Turn! (To Everything There Is a Season)\"],[\"Public Image\"],[\"Rock Lobster\"],[\"How High The Moon\"],[\"Inner City Blues (Make Me Wanna Holler)\"],[\"Surrender\"],[\"Take Five\"],[\"Call Me Maybe\"],[\"Feels Like We Only Go Backwards\"],[\"My Love - Single Version\"],[\"Runaround Sue\"],[\"Let's Spend The Night Together - Stereo Version\"],[\"Band Of Gold (Single Mix)\"],[\"I'm A Man - Single Version\"],[\"Everyday Is Like Sunday\"],[\"1 Thing\"],[\"Livin' On A Prayer\"],[\"Damaged Goods\"],[\"Lithium\"],[\"Buddy Holly\"],[\"Ni**as In Paris\"],[\"It Takes Two\"],[\"Hey Hey, My My (Into The Black)\"],[\"Hurricane\"],[\"Don't Look Back In Anger\"],[\"I Wanna Dance with Somebody (Who Loves Me)\"],[\"Say It Loud - I'm Black And I'm Proud\"],[\"Drop It Like It's Hot\"],[\"L.E.S Artistes\"],[\"Can't Stand Me Now\"],[\"Atlas\"],[\"Suite: Judy Blue Eyes - 2005 Remaster\"],[\"Substitute - Single Version\"],[\"Birthday\"],[\"One O'clock Jump\"],[\"Banquet\"],[\"(Love Is Like A) Heat Wave - Single Version\"],[\"Cars - Remastered 2009\"],[\"I Fall To Pieces - Single Version\"],[\"Try Again\"],[\"Rebel Without A Pause\"],[\"Complete Control\"],[\"Don't Believe The Hype\"],[\"Jealous Guy - Remastered 2010\"],[\"Race For The Prize\"],[\"Lucy In The Sky With Diamonds - Remastered\"],[\"Fix Up, Look Sharp\"],[\"Clocks\"],[\"Angie - Remastered 2009\"],[\"Just My Imagination (Running Away With Me)\"],[\"Night Moves\"],[\"Sex & Drugs & Rock & Roll\"],[\"Iron Man\"],[\"Wooly Bully\"],[\"Climax\"],[\"American Girl\"],[\"Money - 2011 Remastered Version\"],[\"Little Wing\"],[\"River Man\"],[\"Everything in Its Right Place\"],[\"Ode To Billie Joe\"],[\"Summer Babe (Winter Version)\"],[\"Making Plans For Nigel\"],[\"Faith - Remastered\"],[\"Surfin' Usa\"],[\"America - Single Mix\"],[\"Surf's Up - Remastered 2009\"],[\"Uptown Top Ranking - Remastered 2001\"],[\"The Revolution Will Not Be Televised\"],[\"Thriller\"],[\"Hellhound On My Trail\"],[\"Take the \\\"A\\\" Train\"],[\"My Sharona\"],[\"Some Velvet Morning\"],[\"Watching The Detectives\"],[\"Missing - Todd Terry Remix / Radio Edit\"],[\"The Tears Of A Clown - Single Version / Mono\"],[\"Atlantic City\"],[\"Free Fallin'\"],[\"A Case of You\"],[\"I Got You Babe\"],[\"EARFQUAKE\"],[\"God Bless The Child\"],[\"Walk Away Renee\"],[\"The Mercy Seat - 2010 Digital Remaster\"],[\"Pyramid Song\"],[\"Can't Feel My Face\"],[\"Holiday In Cambodia\"],[\"Solsbury Hill\"],[\"Borderline\"],[\"Goodbye Yellow Brick Road\"],[\"Genius Of Love\"],[\"A Milli\"],[\"Ballad of a Thin Man\"],[\"No Diggity\"],[\"Me and Guiliani Down by the School Yard - A True Story\"],[\"Oliver's Army\"],[\"Mrs. Robinson\"],[\"Master Of Puppets\"],[\"Monster\"],[\"Bipp\"],[\"Psychotic Reaction\"],[\"In Da Club\"],[\"Super Freak\"],[\"Give It Away\"],[\"Tiny Dancer\"],[\"A Hard Rain's A-Gonna Fall\"],[\"In the Ghetto\"],[\"Sound and Vision - 1999 Remaster\"],[\"Uptown Funk (feat. Bruno Mars)\"],[\"Beautiful Day\"],[\"Rock with You - Single Version\"],[\"La Grange - 2005 Remaster\"],[\"A Forest\"],[\"Mask Off (feat. Kendrick Lamar) - Remix\"],[\"Spanish Harlem\"],[\"Close To Me\"],[\"Galang\"],[\"Soon\"],[\"Hyperballad\"],[\"The Needle and the Damage Done - 2009 Remaster\"],[\"She's Not There\"],[\"Stillness Is The Move\"],[\"Pressure Drop - Single Version\"],[\"Dancing In The Dark\"],[\"The Real Slim Shady\"],[\"California Girls - Remix/Remastered 2001\"],[\"Crimson & Clover\"],[\"Across The Universe - Remastered\"],[\"Masters of War\"],[\"Say It Ain't So\"],[\"The Sun Ain't Gonna Shine Anymore - Mono Version\"],[\"American Idiot\"],[\"After the Gold Rush\"],[\"Everybody's Talkin' - From \\\"Midnight Cowboy\\\"\"],[\"Call Me\"],[\"You're so Vain\"],[\"Feel Good Inc.\"],[\"Bela Lugosi\\u2019s Dead\"],[\"Champagne Supernova\"],[\"C.R.E.A.M. (Cash Rules Everything Around Me) (feat. Method Man, Raekwon, Inspectah Deck & Buddha Monk)\"],[\"My Favorite Things\"],[\"About A Girl - Remastered\"],[\"Lady Marmalade - Single Version\"],[\"Caught Out There\"],[\"Sex on Fire\"],[\"Mind Playing Tricks On Me\"],[\"In Dreams\"],[\"Call It Stormy Monday (But Tuesday Is Just As Bad)\"],[\"Basket Case\"],[\"Train in Vain\"],[\"Gold Soundz\"],[\"Back Stabbers\"],[\"Nobody\"],[\"Sledgehammer\"],[\"Don't Dream It's Over\"],[\"1234\"],[\"Super Bass\"],[\"We Will Rock You\"],[\"Blank Space\"],[\"Money (That's What I Want) - Single Version / Mono\"],[\"Piano Man\"],[\"It's Like That\"],[\"Walk, Don't Run\"],[\"Atomic Dog\"],[\"You Get What You Give\"],[\"What You Know\"],[\"Only Shallow\"],[\"You Made Me Realise - Remastered Version\"],[\"Everybody Wants To Rule The World\"],[\"Touch Me I'm Sick\"],[\"He Stopped Loving Her Today - Single Version\"],[\"I Saw Her Standing There - Remastered\"],[\"Who Knows Where The Time Goes?\"],[\"Mood Indigo\"],[\"You Keep Me Hangin' On - Album Version / Stereo\"],[\"Only You - And You Alone\"],[\"Rock Island Line - Mono Version\"],[\"Mercy Mercy Me (The Ecology)\"],[\"Atmosphere\"],[\"It's Alright, Ma (I'm Only Bleeding)\"],[\"Rock And Roll\"],[\"Don't Think Twice, It's All Right\"],[\"I Shot The Sheriff\"],[\"Machine Gun\"],[\"Got My Mojo Working\"],[\"Int'l Players Anthem (I Choose You)\"],[\"Loud Places\"],[\"Sail Away - 2002 Remaster\"],[\"L.A. Woman - Remaster\"],[\"Fame - 2007 Remaster\"],[\"Red Eyes\"],[\"My Way\"],[\"Lonely Boy\"],[\"Ain't Misbehavin\"],[\"Supersonic\"],[\"My Guy - Single Version\"],[\"Boy From School\"],[\"Band On The Run - Remastered 2010\"],[\"The Scientist\"],[\"Praise You\"],[\"Buffalo Stance\"],[\"Coal Miner's Daughter - Single Version\"],[\"Ain't No Mountain High Enough - Stereo Version\"],[\"Caldonia\"],[\"Sunday Morning\"],[\"Lucille\"],[\"Hit the Road Jack\"],[\"Big Yellow Taxi\"],[\"Jungleland\"],[\"You Want It Darker\"],[\"Dark Star - Single Version\"],[\"White Riot\"],[\"SICKO MODE\"],[\"Are 'Friends' Electric?\"],[\"Izzo (H.O.V.A.)\"],[\"We Are The Champions - Remastered 2011\"],[\"Hold On, I'm Comin'\"],[\"Gin And Juice (feat. Dat Nigga Daz)\"],[\"Whip It\"],[\"Love In Vain\"],[\"Paradise City\"],[\"Astronomy Domine - 2011 Remastered Version\"],[\"Ruby Tuesday - Stereo Version\"],[\"I Like It\"],[\"Bro's\"],[\"\\u00c1guas De Mar\\u00e7o\"],[\"Sing, Sing, Sing\"],[\"The Wilhelm Scream\"],[\"Strings Of Life\"],[\"Start Me Up - Remastered\"],[\"Out of Time\"],[\"Down By The Water\"],[\"Animal Nitrate (Remastered)\"],[\"Do You Really Want To Hurt Me\"],[\"It Was A Good Day\"],[\"You've Got To Hide Your Love Away - Remastered\"],[\"Aqualung\"],[\"When The Levee Breaks\"],[\"Redbone\"],[\"Latch\"],[\"Step On\"],[\"Sexy Boy\"],[\"Time of the Season\"],[\"If You Don't Know Me by Now (feat. Teddy Pendergrass)\"],[\"Hurt\"],[\"Wildwood Flower\"],[\"Love Me Tender - From the 20th Century-Fox CinemaScope Production \\\"Love Me Tender\\\"\"],[\"A Teenager In Love\"],[\"Superstar\"],[\"Waltz #2 (XO)\"],[\"Rollin' Stone\"],[\"Wonderful World\"],[\"Protect Ya Neck (feat. RZA, Method Man, Inspectah Deck, Raekwon, U-God, Ol' Dirty Bastard, Ghostface Killah & GZA)\"],[\"Hung Up\"],[\"Have You Ever Seen The Rain?\"],[\"I Wanna Be Adored - Remastered\"],[\"A New England\"],[\"The Man Who Sold The World - 1999 Remastered Version\"],[\"Cry\"],[\"Down In The Tube Station At Midnight - Full Version\"],[\"War Pigs\"],[\"Don't Stop Believin'\"],[\"(You Make Me Feel Like) A Natural Woman\"],[\"Flying Home\"],[\"Rocket Man (I Think It's Going To Be A Long Long Time)\"],[\"The Adventures Of Grandmaster Flash On The Wheels Of Steel\"],[\"Rosalita (Come out Tonight)\"],[\"Staring At The Sun\"],[\"O.P.P\"],[\"C'mon Everybody\"],[\"Zero\"],[\"Fever\"],[\"Into My Arms - 2011 - Remaster\"],[\"Blind Willie McTell - Studio Outtake - 1983\"],[\"Golden Skans\"],[\"Wouldn't It Be Nice - Mono / Remastered\"],[\"Do You Love Me - Mono Single\"],[\"We Are Family - 1995 Remaster\"],[\"Wannabe\"],[\"Uptight (Everything's Alright) - Single Version\"],[\"Under My Thumb\"],[\"Atomic - Remastered/2001\"],[\"The Breaks\"],[\"Harmony Hall\"],[\"Golden Slumbers - Remastered\"],[\"You Make Me Feel (Mighty Real)\"],[\"Good Riddance (Time of Your Life)\"],[\"Luka\"],[\"Sea Song\"],[\"Then He Kissed Me\"],[\"Help Me\"],[\"White Room\"],[\"What's Love Got To Do WIth It - 1997 Digital Remaster\"],[\"The Winner Takes It All\"],[\"Baby Love - Mono\"],[\"For Your Love\"],[\"Stay with Me - 2008 Remaster\"],[\"Take Me To The River\"],[\"Please Please Me - Remastered\"],[\"Dark Was the Night, Cold Was the Ground\"],[\"She's Gone\"],[\"Rain - Remastered\"],[\"The Great Pretender\"],[\"Rock And Roll All Nite\"],[\"Nuages - avec le Quintette Hot Club de France\"],[\"Rockit\"],[\"Drunk Drivers/Killer Whales\"],[\"Pinball Wizard - Original Album Version\"],[\"Up on the Roof - Single Version; 2017 Remaster\"],[\"Burning Down the House - 2005 Remaster\"],[\"Good Lovin' - Single Version\"],[\"Cold Sweat\"],[\"Sir Duke\"],[\"Hong Kong Garden\"],[\"20th Century Boy\"],[\"Say My Name\"],[\"No Surprises\"],[\"Midnight Special\"],[\"Timeless\"],[\"Like a Hurricane\"],[\"Ready or Not\"],[\"Ramblin' Man\"],[\"Lawdy Miss Clawdy - Single Version\"],[\"Lonely Teardrops\"],[\"Word Up\"],[\"Gigantic\"],[\"Jump Around\"],[\"Save the Last Dance for Me - 2009 Remaster\"],[\"Itchycoo Park\"],[\"Temptation [7\\\" Version]\"],[\"With Every Heartbeat - with Kleerup\"],[\"Sh-Boom\"],[\"Live and Let Die\"],[\"I Can't Stop Loving You\"],[\"All Along the Watchtower\"],[\"Music\"],[\"Happy Together\"],[\"Honey\"],[\"Not Fade Away\"],[\"Teenage Dream\"],[\"At The Hop\"],[\"Your Cheatin' Heart - Single Version\"],[\"Black Skinhead\"],[\"Bring It On Home To Me\"],[\"I Feel for You\"],[\"Whipping Post\"],[\"Just What I Needed\"],[\"Get Off Of My Cloud - Mono Version / Remastered 2002\"],[\"We The People....\"],[\"Flash Light\"],[\"Norf Norf\"],[\"Killer Queen - Remastered 2011\"],[\"She's Lost Control - 12\\\" Single Version\"],[\"Reelin' In The Years\"],[\"Helplessness Blues\"],[\"Devils Haircut\"],[\"Black Magic Woman / Gypsy Queen\"],[\"A Girl Like You\"],[\"Superfly\"],[\"Sweet Little Sixteen\"],[\"Wicked Game\"],[\"Gangsters - 2015 Remaster\"],[\"Dry Your Eyes\"],[\"Electric Feel\"],[\"Runnin' With The Devil\"],[\"Holiday\"],[\"Grindin'\"],[\"Sister Ray\"],[\"I Will Dare\"],[\"Swanee\"],[\"Don't You (Forget About Me)\"],[\"Blackbird - Remastered\"],[\"It Wasn't God Who Made Honky Tonk Angels\"],[\"I Luv U\"],[\"Soul Makossa\"],[\"Regret\"],[\"Black (First Movement Of Black, Brown And Beige) - Live\"],[\"Can the Circle Be Unbroken\"],[\"Little Fluffy Clouds\"],[\"Kansas City\"],[\"POWER\"],[\"Sunny Afternoon\"],[\"Crosstown Traffic\"],[\"Pony Blues\"],[\"It's a Sin - 2001 Remaster\"],[\"One for My Baby - and One More for the Road\"],[\"The Rip\"],[\"Black Beatles\"],[\"Manteca\"],[\"Duke Of Earl\"],[\"I Can\\u2019t Help Myself (Sugar Pie, Honey Bunch)\"],[\"In My Room - Remastered\"],[\"Rebel Girl\"],[\"Mama Tried - Remastered 2001\"],[\"Pristine\"],[\"Ain't Too Proud To Beg\"],[\"Rhapsody In Blue\"],[\"Sixteen Tons\"],[\"On Broadway - 2018 Remaster\"],[\"Wipe Out\"],[\"Connection\"],[\"Disco Inferno\"],[\"Crazy Blues\"],[\"Fuck You\"],[\"Hey Boy Hey Girl\"],[\"I Want to Know What Love Is - 1999 Remaster\"],[\"I Want You\"],[\"The Suburbs\"],[\"Dum Surfer\"],[\"Black and Tan Fantasy\"],[\"Our House (Remastered)\"]],\"hovertemplate\":\"x=%{x}<br>y=%{y}<br>title=%{customdata[0]}<br>cluster=%{marker.color}<extra></extra>\",\"legendgroup\":\"\",\"marker\":{\"color\":[6,3,5,2,9,1,1,9,15,3,14,10,11,12,17,14,9,3,11,5,3,16,2,9,2,15,19,10,18,17,14,3,11,12,18,19,14,15,15,11,2,17,17,14,19,1,6,2,12,2,9,0,14,17,1,2,6,6,11,19,11,2,3,15,16,5,2,16,16,18,10,3,16,11,16,10,3,17,7,9,15,5,17,9,1,2,11,3,1,2,2,17,6,14,2,2,12,19,15,11,17,9,2,2,17,0,10,5,15,1,9,1,5,19,12,7,5,16,6,3,19,10,5,3,19,19,2,15,17,18,5,17,0,4,5,3,3,15,6,2,19,17,2,18,12,1,18,1,6,17,3,12,11,18,3,4,11,10,15,15,16,12,14,14,14,1,1,5,6,2,11,16,0,6,1,3,1,14,5,19,17,3,2,13,5,7,17,17,15,17,1,3,11,2,7,16,19,19,15,16,11,1,10,0,9,18,15,18,19,9,11,18,6,9,2,3,16,3,12,2,3,15,19,14,11,2,1,2,19,15,3,2,1,7,11,17,7,7,9,2,1,6,18,16,19,11,12,9,18,2,10,7,3,19,17,15,17,17,3,3,19,9,7,14,5,12,7,1,2,15,12,2,16,16,11,11,5,1,14,19,17,1,6,10,16,0,2,2,14,0,12,17,17,7,1,0,10,16,7,9,1,3,5,19,7,5,15,2,2,19,16,11,16,11,19,11,3,11,19,11,11,3,17,6,14,16,19,11,14,1,11,3,3,14,1,10,2,17,10,19,11,14,9,9,14,3,14,6,4,11,14,2,5,6,17,9,10,11,11,9,4,18,3,3,17,3,3,17,10,12,0,2,18,19,15,0,3,5,10,6,2,18,1,15,19,11,5,9,4,9,18,0,7,17,19,1,2,9,15,15,14,10,15,3,11,6,18,3,19,14,2,16,7,1,3,0,5,9,16,5,11,17,17,3,18,11,1,5,2,0,19,9,16,11,9,4,12,9,16,14,15,14,14,12,7,19,12,5,16,15,7,19,16,8,12,1,14,3,18,6,11,2,3,7,6,16,11,11,10,5,1,7,14,1,11,3,12,18,14,11,10,18,16,3,3,11,19,14,0,14,12,5,10,7,14,11,7,10,1,2,15,17,6,17,5,17,15,0,14,17,7,1,14,10,11,2,3,16,17,6,2,14,9,2,16,3,16,9,19,19,11,7,18,15,6,5,7,18,10,17,16,16,7,15,11,6,5,7,11,11,6,15,10,0,19,18,2,1,17,0,3,18,1,19,10,12,4,14,2,1,3,19,1,3,3,19,1,19,5,2,19,14,1,1,15,1,14,15,3,3,1,1,0,1,0,5,6,2,5,7,10,12,7,1,10,14,18,3,7,2,19,2,0,14,1,15,1,0,11,18,0,18,3,1,14,10,1,7,5,3,12,15,11,3,17,7,17,18,17,3,7,13,1,19,3,10,18,18,9,15,15,5,1,9,1,15,2,17,6,16,6,17,14,10,2,12,1,3,1,11,11,9,2,9,19,16,6,9,19,0,2,11,9,12,11,2,11,1,17,2,0,7,5,7,3,12,16,9,3,15,5,17,16,3,1,3,3,16,1,5,1,11,3,19,16,1,11,1,6,3,2,18,14,15,19,0,16,16,5,16,7,11,8,16,14,7,9,1,0,11,0,2,1,8,6,4,7,0,17,1,1,9,18,7,1,0,5,0,10,1,7,15,14,3,10,3,10,18,5,8,0,11,7,15,11,8,1,2,1,16,7,16,17,9,7,17,16,12,11,16,15,1,2,10,10,3,1,3,1,14,17,16,19,17,19,17,7,18,12,19,9,3,15,6,6,9,18,3,11,9,10,6,1,1,1,17,11,16,13,12,19,1,11,16,19,7,1,3,11,5,3,1,2,19,16,15,3,19,18,1,9,16,3,12,17,17,3,17,10,9,10,4,15,18,19,17,6,10,9,10,19,6,19,16,15,10,11,9,11,2,11,4,3,0,15,3,6,3,1,0,3,9,7,9,16,19,6,7,10,17,16,2,16,6,1,5,1,4,11,2,19,14,17,10,17,4,17,3,6,2,11,7,14,18,14,17,3,3,17,17,12,18,7,0,10,10,10,18,10,0,16,14,3,14,0,7,10,9,2,6,18,19,2,16,11,12,15,9,11,0,10,10,12,6,9,14,1,15,15,14,15,1,10,17,6,3,7,9,15,2,19,3,19,19,3,3,3,8,6,17,18,3,4,17,2,15,19,14,9,3,3,3,11,14,2,18,13,15,16,9,19,19,15,17,15,9,0,17,12,0,11,2,7,1,7,14,0,1,9,10,16,19,1,18,1,17,1,15,6,6,17,3,18,1,7,12,1,9,10,15,16,1,12,1,16,13,11,0,3,10,0,16,19,11,13,0,15,19,5,3,12,4,12,10,7,1,17,0,19,18,12,19,11,19,4,10,19,5,17,17,4,1,17,6,1,12,3,4,3],\"coloraxis\":\"coloraxis\",\"symbol\":\"circle\"},\"mode\":\"markers\",\"name\":\"\",\"showlegend\":false,\"x\":[0.21205630282529492,-1.1479053431310635,1.1374363557077163,0.8742672113061816,-0.10638093269107977,-1.3088490736959695,-1.192828013708412,-0.412664000462641,0.874367835129852,-1.6623887053172026,-2.27508966882636,1.9202500195333587,-0.8021688597611595,-0.8722717288521229,-2.011884047393092,0.08646786674100014,1.5891123297576968,-2.452353973856954,-0.6410724454512948,-1.3514968350946632,-1.18420088120968,-0.2160668323796444,1.0077107607060973,-0.3125396220059212,2.397691682981723,-1.0277239234411903,0.8050190683253879,2.751136443051909,2.429310457283867,-0.7098959857303875,-2.7233437276318244,-0.5025824823577354,-0.6909346231109595,0.1796355526491621,4.9841652754799615,-1.0396247670558054,-2.133844424715409,-0.2446548021019978,-1.5661860773322234,-1.0363662084066247,1.2055151912601685,-1.443913458658765,-1.5772011778461503,-0.8408684252559748,0.41017606352806374,-1.2590983319317106,1.8348499205569844,-0.17176786009967768,-0.041430179824607616,0.08916579152589446,-1.430369277830097,0.8803800318254132,-0.4320892359279662,0.062170758223732234,-1.6643416900024603,1.4185146547773537,1.3504416620219384,0.8244390352338868,-1.2459881305986384,-0.7657992495215977,-0.5246716111190851,1.128194889002876,-1.533648396403019,-0.5431352410803594,-0.4127679721565212,-1.963486349005757,-0.20561487011956145,-1.523256072442788,-2.1860256170396073,1.1205293784388566,3.1290486033786062,-0.512601896431531,-2.5554226037672163,-0.9662036784304687,-2.3237439015142254,2.2833241775063486,-1.3763095656376616,-1.5527538878203513,0.5542935741533022,-1.913512940643227,-1.098384667568634,-0.22157853735832292,-0.0651085309966264,-0.5591071496842046,-1.2306193381421098,0.3138638282144888,-1.998296270983442,-1.1536630186916914,0.22576547897238736,0.5203173062007987,-0.34790925435786807,-0.4567491970178478,0.1259531863279109,-1.7076337678594473,0.39559274814019024,0.7278931374200074,-1.70228641095806,0.7870536576498397,-1.6567181425864512,-1.2714014996382454,0.43482095380989005,1.465435587361662,0.912360056758555,0.6265040653730404,-0.636665016367033,1.3015900251657038,3.0505083232621395,-1.1100187961358303,-0.6547546773406655,-1.7214358153190596,-0.44567113328656516,-1.2408627024401526,-0.5225353882935805,0.1123834620328701,-1.6188642370137374,1.771514676561518,-1.7820077210622152,-1.8928700691441565,0.5162114471292718,-0.6083365977588927,-1.0665200577083893,3.5022663220176855,-0.3419949556161764,-0.6730988653351518,0.5544361329351724,-0.027496515421463218,1.7627074330678418,-0.5266160673372223,-2.018083362954439,3.1816727236625852,0.20166467541651012,-0.8749140897854856,1.1740420311503619,1.5923457324107773,-1.0749801936181105,-2.050332463706279,-1.1070398530228207,-1.6126126107245857,0.7770511276000086,0.7835273935610059,0.9990187972164576,-0.7005128786008669,1.5055637080247246,0.9945533111306881,-0.09700806419256827,-0.8442568749988915,1.66644207240697,-1.4516300818788606,0.6587606374094066,-0.5500461127080195,-1.1715218606800668,-0.3248022884591129,-1.1423149015690057,3.6928838626007505,-1.5456638612560352,5.656157052406393,-0.5721348632315579,3.1137104396172,0.5861011239901274,-0.6316203318180421,-3.417637036772777,-2.1128400552310094,-0.9391280752643189,-2.1463772353445654,-1.861195496682576,-0.20386119539042116,-1.8266489256289264,0.43063016666748527,0.9935699539788065,-0.4234246937014704,-1.6329891060498556,-1.7235405897824083,0.9697407379601725,1.9587421972658534,0.05864859976475615,-0.6858564968083909,-1.0038081287433638,0.24038372002154418,-1.0457021469649088,0.4815046112724564,-1.244307224407613,-0.47232606850443526,1.5220717508592285,1.7417987901554919,-1.2533124258096797,1.3632591388328275,-1.4745365630697818,-0.8460157774202716,-0.6524289608866256,-1.592473027350365,-1.8509384260526007,-1.4020608917244974,-0.7774834157987618,1.1419513736172138,1.695180566161354,-2.2564267003383933,1.1686235052648766,1.0279390346238775,0.0496911707279757,-0.7675407540480057,-0.3252688658024546,-1.1263695434127656,3.7191321501205077,1.6284023633481914,-0.14288885886324948,1.7121890711349992,-1.3108209003640057,4.3647038862321645,-1.162928246313324,-0.15316900118580115,-1.3576003114896935,3.4148566280834496,-0.18620211856942695,-0.8583817432317576,0.4162653990679507,-0.7723603311370129,-0.8215106934430974,-0.9386560968946178,-1.0243552893965115,0.17792148010819545,-0.41725598133034,-2.612156393512802,-0.7800590867982498,-1.2905827581343705,-1.9133163990962385,1.3875258339587895,-1.8535851686533733,1.2229955366579628,0.6850243167664595,0.030048934393410904,-1.0879269538521494,-0.06952380230688353,-1.226647663320773,2.3247929144321327,-0.40528261585691167,-0.9480925180466481,3.5343622441251954,2.188958924393102,-1.029130681598208,0.2567223055405301,-0.2906519206103106,1.3785203786223597,0.8091299763942219,-1.281365420511333,0.9636332102646675,-1.9862097986174596,-0.5461597005770018,-0.6631832134394599,1.867293854478766,1.0798656497344246,1.3467131990056602,1.1188936613175862,-0.19933122244453447,-0.3724023808983155,-0.7246630386847316,-0.6442769392844866,-0.6955417916734057,-1.4939125493520902,-0.17284846081966274,-0.5024846479087282,-0.5267359020179682,-0.2590038179252154,1.4735563921598518,-2.7320917705581267,2.4965215487663075,-1.5474671625887286,2.4086228821545186,-1.2064273641518148,-0.5668493030510533,-1.5832200657352753,0.0652070028171695,0.1547163902214023,-1.9249107243579062,-2.0818326090252786,-1.4607170435762244,-1.6882392380063798,-0.5372679251560811,-0.8416858286011569,-2.0748062747425826,0.8994596592790571,-0.469807549187694,-2.3992089957485443,1.0544436217543358,2.1645276795291006,-2.0774033213201597,0.15892452375244073,1.1988826717137127,0.7293684520766278,-0.7050300547986412,2.2114029327769735,-1.7794026705217127,0.06356235799595458,-2.125674637459273,1.8026577456375226,-0.1720353573741744,0.23904453388171118,2.3315604356725625,-1.7245423741395682,4.190560961692292,0.44341625504679893,-1.7136516288303918,-0.6745949907713568,-0.3625341192511533,0.1717405666725255,2.4160919478648153,-0.9068463768153152,-1.0578002701487208,0.5134447841248734,1.4265670779357233,-0.5333439315464409,-2.250542546369891,-1.374879346378692,-1.2750884331398273,-1.525024660436414,0.7732489570423511,-1.460889263669249,-1.113523744962026,-0.4207377325227232,-0.10192873979100676,-0.3805703016937173,-1.0898533293767914,-0.9161501953327643,-1.2043879011415914,-0.07312555418894892,-1.5524359414955695,-1.5754745623763045,0.44203645477867676,-0.2928305306909021,-1.1648886424249048,-1.593596605089125,-0.31892347520125547,-0.08596847237843132,-0.19625556255557455,-2.2633206200102967,-1.5852211935132487,3.5440875377355208,1.019477366690375,-1.9781407330185543,2.7345797760477972,0.4509123279931385,-0.504574252729057,-1.7195188374570005,-1.2951811187794315,0.1474738529590918,-1.6470563156113687,-0.941680391899623,-1.8505905178552602,1.4912366269527353,3.261373142536543,-0.5545605866704831,-0.09897267508927661,0.13454464465963747,0.08320851949207857,1.007451888257889,-2.673965075784493,-1.1463869066146881,2.226014400310902,-1.220936126080597,-1.1652431773939937,-1.5809421714805734,3.113348955833702,0.940497557919389,-1.4339408558515785,-0.3806930216195799,-0.22875910936449714,-1.4651062522872251,-1.3132150211713796,-1.194180853786346,2.6442018572527783,-1.4553665752153233,1.0821298226635658,1.1404885856446332,2.7534141917699517,-0.23218267771999468,-0.8079192771257439,2.7157708658662396,-0.7190922797267801,-0.9033556353407194,3.0241097319905332,0.881299531916622,2.0911564531786784,3.0477334343866507,-1.3510780884663047,0.49136316318364076,0.2205128463259595,-1.037963542563573,-1.0074275084248834,-1.5460039477764576,3.3031897908133394,0.16256152927531967,1.0568606210217433,1.320198845041229,0.841389909274084,0.7829528156323173,0.851956861422141,-1.1966684620318533,1.207330982543002,0.24994589669524717,-0.020100739296006313,-1.1322964798327833,0.33343952199323007,1.9022016594898092,0.3685239940108788,-1.0977600891643204,-1.001992285121686,1.8448907870319506,1.3469401823690017,-1.312177069319417,-0.41654796515958836,-1.5451683672377,0.8763488338321427,-1.7452059585404076,1.861495633715893,-1.0385980084461455,-0.15192850157234045,2.600782554167105,-1.558699900737256,-0.38145640498556516,-2.2619515810122857,-0.2632477757623718,-0.6147791520161485,0.5879287958369839,-1.6730632239767564,-1.3272173031478496,2.1075222530273887,-1.061005578160968,-1.4572320890898014,-0.7228126167685164,1.724887089690379,2.6389416399636216,-0.5574263535461883,2.022763530657763,-0.950691207724862,-0.5903238188553591,-0.7475272459286229,4.1118866027250816,-1.0248688248223246,-2.0595844632563187,-1.546946515724742,0.21540610791744477,-0.17278026914418904,-0.6490355587093679,-1.5548216569171143,-1.8380873866922076,1.7943022967237738,0.2400288753846971,-0.9181853574588704,-0.829393284223015,-2.323871015932644,-0.7344359942292303,0.9964434171638801,1.3895318136383576,-0.4455085308559877,5.367408065929048,0.20781974542428688,-1.038280756779834,-1.8697982537376199,-0.48823155048190753,3.1578254003605455,-0.8066576333259943,-1.2368779570094928,0.21427868835878627,-1.3075196295504063,3.0627527022709,0.7609189676115549,-1.7050514595123605,-1.0795289269476533,0.49576700266130436,2.4999069822221753,0.52353334809184,-0.9318767241674933,1.6840589480001347,0.2605923084634274,-1.7569441187439687,-1.6125720234675438,-0.3752336830694654,-1.1752315790582104,2.2338209280621353,-2.8614371544271,-1.1081288824653863,2.24972096247099,1.829228673844038,-2.579042826168956,-1.5753099982612624,-2.403898117501664,-0.943089945743689,-0.3961607604210875,-0.6972930176119035,2.470691541626055,0.10413164959920604,0.06831467343543961,-1.1659618121713433,2.321752521982974,1.843007747703569,-0.5380141482454408,-0.9237353316676574,2.324196023405887,2.0635124353017753,-0.6649291331010603,0.2219052111359607,-0.430893167780098,0.0002540976612619877,0.507668907346331,-0.21282756129154307,-0.538430283748443,-0.4386377959535451,-1.4717371803692958,1.1284712486898367,-1.5578692825338836,-0.4197143523317128,0.9172058684023408,-2.8541353354911747,-1.0570865589853715,3.144368028321018,-0.7527357059857128,1.029705819353779,-1.6191307111572788,-1.7536618902389622,-0.988049281876636,1.2610587813560925,0.7446596754284471,-1.3880084189945843,-0.7685861727895167,0.18685289823053872,-2.5547548596145284,-1.2207108779455833,-2.015560343044611,-0.7309592905257881,0.020649140434739397,-0.15934009727064327,-1.0934976943383619,1.4353521692906852,3.991305256586292,-0.5304850937914549,-0.8662146092863813,-0.7918448217646631,1.656412207694852,5.170488341492277,1.435945912536974,-0.43736098891153063,-2.1657703573043023,-0.9478560676958142,2.712361804078192,1.0917861609312394,-1.729865438188833,0.3500833474398942,-0.7890766857646834,1.945951652573239,-0.0861913639534403,-1.0156600014369828,0.37615959152660833,-0.06938812843471331,2.416888088518691,2.723951468429967,-0.8351942209962946,2.4418335270034186,0.7288744349914155,-0.3335378492135861,-1.5546601928385477,1.0031013627679302,-0.6918727656759635,3.8260202281218265,-0.6431789789299895,0.9141223986041013,3.1179104908767594,-0.2664287429635492,3.2215823012275866,-1.7411247813246995,0.08475732291182103,-1.5631130485635851,-0.6570244331611865,0.7026612386840211,-1.722715136331092,-1.2321250803861792,-1.119727117937718,-0.6692356397846682,-1.0738907226703671,-0.044462908456994764,-2.4967599734342834,1.3241576583958747,0.36165576713729014,-0.4722346231391755,0.1837731529258222,0.5674727028746661,0.1907559379086902,-0.7736656300050414,-1.7167172120501348,0.47600973077817677,-0.9966679125416726,-1.5630616639175443,-1.132243127170247,-0.7957285963236971,1.6240029729331655,-0.8262482764034125,3.098077862194683,1.4680272380865063,0.8885181904803722,-0.397017519959243,-0.7721515172859813,1.997865973296447,5.095851833265628,-1.2990561448612215,1.886142420372078,-1.3244787469601271,1.9605297012125849,0.4691181778356559,2.333951861027743,-0.5238419351529574,2.045859171800515,-0.07491196901070568,-1.0772112357080796,0.46597177355007996,0.036303339327194886,-0.9019047418699389,-1.4691584312546733,-1.357277677354262,-1.6038408126287584,2.919660777235423,-1.1203865770046872,3.806552119603482,1.6556716072313862,5.74491849170779,-1.767741668178928,0.06350091355664168,-0.3313276690114327,2.6576380284129164,-2.3590086550038234,2.6344415988614607,-1.0628599457832208,-1.2543121777355914,-1.370545560546332,-0.8684204527494757,-0.1725663659772004,-1.6092468224536742,0.5719798696482878,0.7558291585649156,-1.3158978332029476,2.782226976077744,-0.8201873596135515,-1.484123187523159,1.827410021025524,3.3239175459400148,-0.9543979866953064,-0.7962350570808686,-1.204859337353432,3.7152502298210193,2.9621070299241934,3.096378576216746,-0.0208232502384774,0.19921802233680488,-0.28399270605495175,1.0688701638586513,-1.6983624021617256,-1.8153203332751509,-1.0970909048411448,-2.0844611673690423,1.1658803308243681,-0.868470314932835,-0.010197864900489665,-0.4468878048261715,0.9824187153428054,0.04353352859926345,-1.3144174193786748,3.0268136303396416,0.20301628381079423,-0.9890263811615346,-0.7761385258930565,-2.1654203014952897,-1.7706256693131939,-0.6602562401857489,-1.1557542311677789,-0.03927739833717176,1.2183902160861297,-0.5921478729251699,-0.47405455297523924,-1.6177107088265708,1.261593868728871,0.7473508459440678,0.4668686390725871,2.211089515642333,-0.5463628008989111,-0.8486923869208061,-2.069142538869305,-1.7596525258230222,-0.568221260880081,-0.45665954830176686,-0.9733907891478751,-0.8348424502853187,-0.20479292955943548,0.12942699870228097,1.454049630560816,1.870793784323386,-1.7794528395927331,1.1444059746046487,-0.9102366467653096,-1.6766291019555335,-1.7620821763589445,1.3126247021440507,-0.08333032774987859,-1.0163589554799364,-0.5118104543651363,-0.3564520983595455,-3.5802458396550216,-1.9199015073090977,-1.6834811042251883,-0.8374827835042699,-1.787017958768006,-3.029002423540903,-1.2099381513428598,-0.5009246589966582,-1.522406894918905,-1.349090941972431,-1.074584692417949,-0.09757058546233618,-1.764264975665282,-2.1545172375061274,-1.5888715332974852,-0.874160068227461,1.7314170798356656,-1.1426957796584787,1.349931288024872,2.576653310167796,-2.2387796855805777,0.320477111699244,-0.3658252352937169,2.472878962628753,-1.7864040972540929,-1.05350943942946,-1.7054496688420446,-0.8335024683355022,2.003136617987079,-1.3718645298095016,2.7282567044557045,-1.9475341989376442,-0.15874441894854135,0.6872435780375796,2.1245152827644262,-0.39587052590438004,0.18812199405733407,-0.7488727280661526,1.485170491879136,0.7565122643138683,-0.9811091825971965,1.3922957987113362,0.17288182213731254,3.7284951001320796,1.54617253297414,1.8922832683292379,-0.7199680611898844,-1.7485320824282606,-0.3508501470018561,-0.8472924129265909,3.371508934218357,3.0503695185014643,-0.9922722441371448,1.1172774519241284,-2.47934214196257,3.301642153335108,1.2768315232011085,-0.9167224347013048,1.7491669072516065,0.17704715739107837,-1.5203291706950453,-1.757031682695959,2.1749495695798666,-0.7036118406383849,2.185200335266454,-0.22750728196215914,-0.05894419858916948,5.576463934623806,1.2071582208164355,-1.0216274447798883,2.6224331973635255,-1.376588446442184,-1.1532464505203954,1.9108346855347909,-1.2800153408292925,0.9813574857226647,-0.4172724340304684,-2.132009269416632,0.7575261027520185,-1.3193795184731092,-1.6027707609819972,-0.5550614856418182,1.5044450479572868,-1.2141844994191013,-2.1095604874599894,-1.6189644171884927,-0.8948742568495438,-2.870594260690075,-1.5879853304918814,-1.476514230780868,1.2804370214422214,3.530688717926422,2.7683410599111804,-0.835175051981173,-1.649811550183192,-1.3387321623190687,-0.32757565024917834,-0.9589582222516335,0.4050766103243897,-0.9210684498373045,0.12605313756489317,0.4808626495968198,-1.6194273018418646,-0.35268403144427996,1.2502302135504926,3.979440908530272,0.0674738799204526,-0.16024270399633025,-0.41026709455552574,-0.5518427012630172,-1.8510903670498338,-0.26910088305826174,0.01584383552298863,0.9300064881505508,2.477640143878243,-0.4202551945315898,0.5330013326020726,-2.870173409185138,3.4090010293102115,1.514137719368122,-0.12672664003724912,-0.587126866863782,-2.3582143059521723,-0.19593648001651248,-0.9134899767156783,-0.5224954136807609,3.7237410039497814,-1.4382683613993124,0.2921868283963837,-1.6749200624238256,-1.646071096862054,1.1343328266631552,1.369487847265577,2.0992865651813477,-2.175645019312596,-1.1361841935410661,0.2682521102221599,-0.6073944576251047,-0.6550684470577984,-0.8619282180846111,1.672438425153035,0.04928482714214339,-2.0871378790297497,0.5804628691357626,-1.2530097270924638,-0.661486454172486,0.9620349312952555,-2.2520746192805503,-1.1488005980167635,-1.4375951965463667,-1.1221362692804624,-1.235807652456993,1.0449547740305125,-0.08176028562044578,-1.063835528145122,-0.9858053771672597,3.032295264285232,-0.8315214550841008,3.732862450760178,5.880157450090499,-0.20189795078130401,3.7406935306931968,0.2809446528784875,0.8936875446635006,0.5612434807435243,1.8617079474685923,-1.4909928975986197,2.8434860658794197,-0.4045700852489353,0.07723166905098953,-0.4451984945132553,-2.256822346269564,0.3613916394940885,3.4523278129704074,-0.5838221708537655,-0.37586427121560134,-0.9224317630608672,1.5521812670432613,-1.285410308355495,2.874020629835336,-1.378453471042263,0.30179173954976096,-1.156311961554388,-0.23197424520648022,0.86174035934256,-0.7805546057221772,-0.5096013999538483,2.043985243854177,-1.0431904112916248,0.8981224759234756,0.7887308283928861,-0.830167004453501,0.14970907608380454,0.6195196706344117,0.36171669902982023,2.1049451405723603,3.9734881044404995,-1.7331786289655526,-2.6120891330318883,0.17766901054612896,-3.5494994053309497,1.0346253974881874,0.6608507214268605,-1.7787056776290846,-0.7847059877462828,3.1261955101079857,-0.7980586071349315,1.1900730563147104,1.4239398493027726,-2.2961347523388076,-1.1271783534513227,2.153469519488869,1.3070966527473398,1.9193081418017122,-0.8256921671567414,-1.2817234423872013,0.1631197602379011,0.37627394769408407,0.077121445344673,1.0401511728845891,-1.6985965380065866,1.3090134195117824,0.2950457966116553,-0.6349696629973076,0.10214345361965646,-1.2530714724233714,-0.8801869135268687,-0.20039568683751988,-0.6269876149532349,2.703832635023081,3.785735605119133,3.3182732555332066,4.458657172226379,2.1934068343651507,2.839664105015547,0.9728584102636636,3.872385241680718,0.17004512390894871,-1.9034992990834168,-0.7962629503539702,-1.0701848501364066,-0.9316090912479229,1.0769822559774016,0.7397801902400395,3.64249299480284,-0.20730296358970765,-0.10233858554208056,-0.6850425044847805,2.340065758776385,-0.004235314838469943,0.6185295632106098,-1.3687486915289901,-1.2000970439592533,0.5821217994873442,-0.8647362228159691,-0.042936487498957815,-1.3963658262127403,1.7980762504479983,4.158537363260735,2.962372778859016,-1.6119499555791015,-0.018782003133244157,0.27519218417136626,-1.9148766423966466,-1.9017762106154625,-0.9119886478666422,0.38803906597342447,-1.3045390573457278,-0.4093474593650634,-0.5095216351956033,2.390188124935846,0.11060954114883385,0.08566955407739459,-0.6397628532022306,3.661380249367455,0.3454197993780098,0.9861097240781952,0.9578722592240798,-0.7158123908297466,-0.09844753017607574,-0.1783553176314531,0.7664081152085712,-0.9646735445122826,0.17993311614646768,0.39325423356237027,7.175173884371719,1.4996271193727633,-0.4233070295957769,1.9380995323835328,-2.1171569351654473,2.810013395202167,-0.7037812897891937,0.6517951491665627,-0.18640152079191522,0.9590615296229911,-1.0273380632780988,0.3067842212083986,-0.23739247711414532,-0.3987840202393681,-0.40933771508625916,-1.870976380833527,-1.315059717521401,1.4744947420262589,1.7209213498158111,0.1306548650683177,0.16992643565321272,-0.9566151576196937,-0.4744686104907877,0.5029266038458706,0.280486724165089,-0.7932134079458837,-0.13365033947948884,-1.453119585257446,0.16091804723524114,1.9306247795045581,-1.2103279086049723,-0.5786304744766984,0.7844500095733626,-0.1334314910600897,2.1873303190528874,1.0095804446537495,-1.6309122531734783,1.0432821875447205,-0.06318977372199315,1.6098104380201896,-1.8543917076170975,-0.29338282103705415,3.2905610963378558,-2.3059192764049503,0.5641480905164623,-1.6956015254938148,1.891909914683637,-0.5485788006374412,-1.3728041620766829,-1.809624211859616,-0.4613834823685785,0.11940050432852274,-0.579950519672613,-1.0680629556796521,-0.4292870286027437,1.3824521398607532,-1.3126758226818254,1.580818054312933,-0.9283718364335336,-0.5106575633135398,-0.29715791715292766,2.7776460091689135,-1.0015943844498443,0.23552175391252816,-1.1848326155807132,-1.1453336766640108,-1.2181207878082436,-2.1301033693644267,-0.08401883746131215,-1.4850827032203553,2.965482465143608,0.22084966151342883,2.857363334252317,2.2856599861418885,-2.498974768210394,-1.8294635982407934,-2.1639054279396848,4.175994657182437,2.0867050250306254,-0.05888966812101436,-0.244094177748207,-2.379403452046784,0.19617031472855048,-1.5318675295786044,3.556483039132714,-0.6588858879760541,3.8654023513985085,2.0827453446904127,-0.9741412145559618,-0.22164099698182171,2.1608287492996805,-0.7390449946863776,1.7132763600779466,-1.784538891655189,0.22054338270088372,-0.2978687486658759,-0.40074732536802304,4.04068763613285,1.9905907171256139,-0.5999171648606132,-1.6236552305385317,-1.2513819734106715,-0.6683548443478552,3.459629847676687,-1.8902207827789377,-1.3967321109816222,0.6796206246073574,-0.2696716022075752,-0.7340236255724633,-1.4955143287845285,3.764191273078394,-0.9358079481053543],\"xaxis\":\"x\",\"y\":[0.2461456354464624,0.8293398784888225,2.401728704520472,1.0271553167793699,-0.40494147622216387,-2.0228187783983618,-0.4683523406657008,1.3380977977440471,-1.5634315711963196,-0.08076710099471336,-2.286303163464984,-1.7932125107990482,1.8016357136592773,0.37341366975863627,1.3682171814721444,-0.7529757086048562,-0.22003792747786227,-0.5303911801637653,2.0243644126796063,0.7997396989100038,0.027773712286693533,-0.6428979157575003,0.2600711903467117,-0.5539965048436326,1.4395169826509313,-2.475595564021401,-0.028155290587458817,-0.6235835153266752,1.548806133500258,2.23421606541618,-0.5616960493483478,-0.44922998790578905,2.097645935244931,-0.021158930262434917,0.11871967503329352,-0.5222589053777826,-1.5544943076729005,0.2217023314298775,-0.49867809484991193,1.0090221158653268,0.988192989491269,1.15527113747194,0.7796070473407909,-1.6064007792667818,-0.9824296558110404,-1.734075675849345,0.3745920213329989,1.4651957462069207,0.24422431155845795,1.2313787793073963,-0.6798378164484462,-1.2180407336504442,0.7983306952979429,-0.29203585448371305,-0.19398519372968095,1.4607646059146042,-1.5275566963822684,-0.16948302892060027,2.3239314895650653,-2.044028282653623,2.180105554648378,1.051597760538646,0.9174341424824524,-0.8977378855606346,-0.8122095566329112,0.061962691604858955,2.3307325850666003,-0.2257747473515056,-1.7239653563270199,0.7541406754812616,-0.5607759513023715,1.2621255547369556,-0.7030343780544149,1.033497116249904,-2.6309493742897407,-1.5628120073951548,0.7220135286497387,0.8946829684848717,-1.0849343774419251,-0.039030997766559224,-0.08567891555069948,1.2648639553598018,1.4893211163790285,-0.08028560176466197,0.159361105356398,1.2727950340218002,1.4334897678206133,1.2692342186311223,-1.769426772305788,0.029665023917381617,2.4443406889979777,0.12151018901339473,-1.2937403738221067,-1.838609312767937,0.5585736863011308,0.692223045356712,-0.4792649371559699,-0.8781010962922461,-1.3610547907450077,1.9677775632016958,3.8290413224496285,0.9568029288190153,0.9326741078960109,0.6178781372322669,0.6852630126739488,-0.5451378930812126,0.09000577396885656,0.6438413385019633,-1.5113022403135812,-1.055765287937482,0.02490955998504326,-1.1693687444091396,3.0396539537019605,0.05647370637414053,0.6406591401008253,-0.07604832454091759,0.927049473136959,-0.39307534077655315,-0.11038730849925874,-0.11595385167872607,-1.3118475482957328,0.6892802047633978,0.8751319177391121,-0.4761917083733371,-1.21264271383841,-1.390591472581612,0.9642785709233126,0.4924436331534865,0.31417631830400106,-1.2526158077401586,1.6704364681566968,2.6653301887867364,-1.177412857854569,-1.3240125555706281,2.0271502283543272,0.9637008843588604,-0.10134953346896187,-0.9495314010523108,0.018876536207768826,0.4330206326083859,-0.07857137413638725,1.5667934587820693,0.5063105378689066,-0.9751041829612105,0.8545848127146458,-0.44558343698874997,0.9344932508255603,-1.6196355067440347,-0.15479459611786173,1.5820790562593359,-0.595608911684243,2.3108342352844393,1.3479084154779315,-0.3010628595832359,-0.2104068667092938,-0.20206085790498338,2.243410643894612,-0.6149421539834005,-2.1545413592386176,-1.262505018873191,0.39447563842813005,0.166530796953442,-2.1074056078254566,-1.2512583501591914,0.4346252499855085,-0.8305221671333042,-1.5336793510329536,2.808106571244644,0.019424179669802536,1.5162049464637664,1.4460833166470104,-1.9884677486156772,-0.6624949561727023,-0.7910833645878077,-2.541799498992101,0.0025249007000517974,-1.4186620608678704,-0.6036601162736728,-0.3502060411092679,-2.5773464794548384,-0.8910472572045943,-0.7258315032735511,1.0778110580776077,5.36890551755706,1.5373032760478633,-1.182564800055213,0.6534548750333424,0.31608567374696994,-0.6899889144669854,0.4895789647793759,-0.5729540194044893,-1.0733265758461215,1.8999396410084755,-0.8687409936679035,-0.19413272857619068,-2.375745306834898,-1.1783804595977536,-1.8970491113235768,-2.098711095313527,-2.074411506732435,0.9890768809007999,-1.3899871547455152,-0.424469654764767,-2.3443164050244416,0.12513091991128197,-0.4619315491968092,-1.350382661158658,-1.1788923303167211,-0.48126139509075744,-0.7412449420948801,2.254264648872633,0.6373256822943763,-0.27622902037615965,-0.5606867408585525,1.7909129547270648,-0.021737958884969925,0.5933746655611474,-0.4095020586329139,1.4040077588672615,-0.29955941146583814,0.5173782779400821,-0.9588768484256024,0.11290142411240255,-1.8948633526644358,1.0217364316238329,0.28969799880187913,-1.7271273095521749,0.9164824815173568,-2.156401087617282,-1.1080421072352296,-0.2571746939431757,0.6533254260624779,-0.41956557505519015,-0.36576717044018114,1.3136887135640962,-0.03332577172958308,-1.7664175767298123,-1.016982637670385,0.6504116299281939,0.13006243158291345,-1.8359620606956941,1.4044462790896781,-0.9889512143084821,0.4829580890182743,-0.8885861276130902,2.184437706498994,0.44063360391603906,1.3726525263693814,0.12240967022001528,1.5594367980370072,-1.1164327475839295,0.2904368407310292,0.8056008855064275,-0.6606858618252119,0.09666045922613631,-0.9566288979671587,0.0911384616733534,2.132541235107835,-0.4230470935872844,1.102719945743982,-0.2982294483960678,-0.2773930384051562,-1.1259003572962245,-1.2461303059910653,1.066108730936901,1.5236059292587922,0.9420972030843691,0.10081063253437672,0.8164108557770476,-0.4853462899188333,0.16023416981425878,0.5423927085331107,1.3816300235698489,-1.8088265379051018,1.7545424778650116,1.2023020432636011,1.4952527744138153,-0.03229092915957673,-1.0649743969179515,-1.037364251270675,1.460586487336993,-0.4659480198165335,-0.7042026458486325,0.9975483477024161,-1.3141782232898105,-1.368073326393305,1.0183633203381683,-0.5934876141735657,-2.015644127268336,-2.2001328228189876,0.14899007035682016,0.9520022196926238,-0.08257927461021788,-0.397660840285082,-1.8279797626115133,-1.0922963497964744,-2.5033365173403506,-1.4449832809236658,-0.757787254801085,-1.0663451949694294,-0.05374871990690763,0.01667858880861755,1.9496840509802182,0.09547812900427835,-0.6632127558395161,2.0439461732132616,0.2908872280981786,0.6693204519415907,0.2942789477659337,-0.7767611125468449,-0.4065090517800825,0.9747510913890093,-1.8232098227360456,1.6858760818679654,-0.5133145036436613,2.4624908231852416,-0.7943431888812257,2.713471102284256,-0.2398010463224893,1.2971947589188169,0.7668001919370483,0.39044073382903377,0.5474247877284579,-0.21017751830397885,-0.49520956848025166,-0.2456696013716043,-0.7746982063490687,1.0377239363276807,-1.4785911104335128,-0.28211527956169863,1.4154668018112755,-0.3931419550531528,-0.41379354380867406,-1.2751443940977791,-0.4990315309977952,0.4534688953791256,1.5202409201445914,0.6117967357141132,-0.16596462734785775,-1.195642245898429,3.265462787949177,-1.8521265696498115,2.356260286163348,0.01368279109562852,-1.5577634274886754,-0.28348996471353854,-1.6904848744691003,-1.0529416266266087,-0.8464061230211867,1.7335666725890566,-0.2927121035630308,1.4389709795219177,1.0489888142600532,-0.40376989741827174,-0.4471907427728949,0.8177311584663619,0.2910769568383845,0.9396803421250574,1.4584751866009475,0.903251595930329,-1.6691643220009325,1.3670782309954936,0.5813346825249286,-0.15634300246620997,0.6442684499603617,0.28773221645430386,0.1073791516711872,2.4065080839455164,0.7003061039519691,0.027768450523837612,-1.8798486392358553,0.3765023069307238,-0.9146392755004288,-1.8570433736219454,0.14583974140952433,-2.2540687713749943,-0.876112613667125,0.4009192409729069,-1.2549340785186252,0.3888270464425051,1.001842935897057,0.028133689816077088,0.7767572024196004,-0.6629307432420984,0.5703921392790081,2.0906739851834493,1.45962727292255,0.3933180587416338,0.507872694604351,0.16935824030620586,-2.0168409652572326,-0.2604776708624147,1.0648054373731624,0.32126695425003965,-0.09088901615832387,-1.0301119254414635,1.7334540276341033,-0.20830651658518598,-0.6695605312135603,0.10995745659370906,-1.9664781165569323,-2.0101304571281853,-0.3059567558002532,0.479917849628509,0.23950892160949394,0.7878278306460786,0.676961567127921,-0.04056732562691665,-0.7662207656012456,-1.1764921338483416,-0.6504992253897321,-0.7978770460944525,0.6408139876306802,-0.12353687324068958,-0.0784967528343518,-0.4200749149766158,0.8218253052016056,-0.1950984193389914,-1.8959284304019777,-0.14814429694538322,2.4215955788538466,1.4611199391259801,0.1297361974323903,-0.8072085615295337,-0.2560079165862119,1.1265596648784022,-1.084075275780453,-0.6240317287324909,2.4596054325325456,-0.8712447063937186,-0.7275055690439471,1.718238486073478,-1.9284536694752223,1.5358336301631628,-0.6805886529821519,-0.7022192193202762,0.7115092973379743,0.6936166443740622,0.7889668222282388,-1.0134592258937616,-0.44485800358844774,-0.23926200237071824,-1.7780102839470056,0.5657485834397955,-1.4549703193609638,0.38500543576942425,0.49624937233978833,-0.2877042147881633,-1.3647298591069328,0.5163808789874003,0.5937958283267794,-0.389821480041496,-1.2295188284123209,1.7582997493786954,1.929307581861483,-1.5290689328021354,-0.1622964759294539,0.4938331553323442,1.1528210534518368,0.6541183805275312,1.0760334570356749,1.0136147701192653,0.12831170722341514,-0.680305991112642,-0.32170317548375355,-1.073721100952457,2.6169036602990516,1.8083069602650934,0.11895192114946357,0.854112694607695,-1.8977548057929705,-0.9263407321279379,-2.2264750675590985,-1.4348202097206835,1.4045694814306757,0.0746218171224274,0.5141343529677977,2.74430354449509,0.3276627528865369,2.2825415078767963,-0.7531407217490022,-0.005049518828848956,-2.106716440292907,0.8190328600237504,-0.5847126905174711,1.2016932195689347,-0.4260871468627818,0.06381697528201634,-1.3284171677356647,-0.764615988081955,-0.3440904727496004,-0.5107497120141657,-1.7360357639095623,0.14343252230696568,-1.8033208853143652,1.3199009829960828,-1.3298737010771957,-2.0734697401123614,-2.1573473563403054,1.8371344484047627,-0.9292659763717951,1.0057220455251756,-0.3876789159864767,2.115979959140206,1.133891017806491,-0.23918256839370777,-1.4085219136089542,-1.4213984786295413,-0.7071597999523905,0.9738453689766248,-1.8652740673838235,-1.037954038544666,-0.011097586808855161,0.6867810970037391,1.3787966829969824,0.006123111864044875,0.10556277930426726,-1.1283869766004664,0.8265942721282961,-0.845146943285377,1.0652633973668026,0.8762174350140287,-0.5864234934914002,0.4896114615278994,0.03415830204156954,0.3744619722207801,-2.0183865943544768,-0.08240268108490018,-0.5937524178484208,-0.5224622611788922,1.4975516243781473,1.2629656117902497,0.885301286582175,-0.33567605298641806,1.207272997808874,4.583917730636268,0.2935611159382386,-0.20779208187750853,-1.1030657096450158,0.8023753687769503,-2.4327853880193397,-3.1141786606828172,-0.20457524519938716,-1.620046626448563,1.3675093945829602,1.2528713275144137,1.325451461863633,-0.34055671237837143,1.1669445309462918,1.6683211007415342,-1.0677839560338152,-0.2768655839650902,1.480644210762453,-1.1157726656406024,-1.442207417545049,1.1160932866823836,2.475780950035066,-0.21886621503385076,0.8973388556534451,-1.098992119239066,-0.33861537257847474,0.045345668634514114,-1.4821080206996189,0.6062715952593409,1.8015073647035824,0.19498046878034317,0.3765436067167332,-1.1367342891876,2.1190294417891877,0.38315937432836716,0.31009379761635875,-0.8197813343266322,-1.7411266952493643,-0.4729692940434088,-0.05693560442833764,-1.1012444582381853,-1.268471489778616,0.3138002432407154,0.19922109443426908,0.09418419654269687,-0.9683979832848677,-2.3867986725209325,-2.152494797920661,-1.9805592122142857,-0.06268369533268889,-1.008443745811075,-1.4040091446643763,-0.62985841770521,0.9729648965630419,0.6880421086967128,-0.2846109677344088,-0.8970552243718665,-1.7952648321727975,-0.3095343230022494,-0.9957366922566896,2.1236753511042408,0.635366436772077,1.2674275130003683,1.0561332118332605,0.09912292188116525,-1.2424706397166148,0.345137547419959,-0.699004010240275,0.19617290755835132,-0.26512435249537714,-0.010908318415919343,0.7775343905305376,0.5480941436091376,-0.07047919389132608,1.629885649657205,-1.2447249746475748,0.3801525938468078,-2.228421008805096,-0.43603686743118886,-0.9164431964902858,-2.385805540597184,-1.0829604357736058,-0.8268382271435114,2.68307705132199,-0.06129432280154651,-1.626759791313676,-0.9783253157812888,-0.6807579695982099,-1.5920816193157912,-0.21264913185953258,0.6022161187672725,0.424764023670812,-1.0107991636888956,0.7726789952282958,-0.4122796152499833,1.1811789474388434,0.33700845295268794,1.841945777324238,0.479872668960695,0.2561245490812656,0.14649628849986995,2.3744291536637205,2.1452870386289113,1.0962244310495777,0.3043531256836763,-1.150734362981974,3.9966806150099043,-0.5796484004381973,0.49627671003917234,0.19980551258036378,1.4336504882277739,-0.7610237112817317,1.9173761688422866,1.0840457178199325,-2.583921425148932,-0.8189908804341421,0.8828684114572293,-0.20807842826161996,0.55302058768383,-0.7058389932038419,0.5955342710283607,-0.38190278315232057,1.170018249330312,-0.020998842382501992,-0.39028293927829416,1.5223920416301424,2.04104457697908,-1.4632771803600435,-1.0373403410666533,0.42483524328565936,0.3301136856350352,-1.7884755190110853,0.39311669328850013,-1.5549405711116928,1.5476276542058265,1.6048535205205952,-0.11737412172782698,0.7195557183016551,-0.2618772488939861,-1.3189993629698722,0.8144120673746204,-0.1589518703345958,0.13464803399605013,0.405524438878332,-0.5176084096351172,1.8938609869041996,1.2656435889896602,-0.13361277573795047,1.0299154059157254,2.5384958249347003,1.2453149288167646,1.7192562025270295,0.016096936535435702,3.2551171948089235,0.34655292991446984,-2.1421786498065596,-0.7103233760972023,1.2142505591563686,-0.33796071140873046,-0.6893407342020332,2.509691281717594,-1.097571020195193,-0.3497624505807021,0.2700971748531595,-2.05737410881573,0.001804076214725518,0.5758126367264632,-1.6067248090375301,0.8930234153732567,-0.997145660902412,0.3823837949512763,0.1258071708168524,-1.5073908870342898,-0.7172087592060662,1.4618000014386625,0.8799303787239333,2.6207881498473813,-0.36016497054959756,-1.8085332324256496,-1.475355063685066,-1.2898999407809553,1.6705295349522158,0.5067248553447123,1.008020497733672,1.1515292103355455,0.6797559508973465,-0.5288024657265742,-0.7451929143187405,-1.1171357983901675,0.04382066652154375,-0.9060840056492943,-1.764472003223922,-1.1688414274081287,2.9611648644399433,-2.9605059810692445,0.11322396039803435,2.141138154901586,0.8997770239056274,-1.1365570568223222,0.08753340760823479,0.5316760652354571,1.781951489256308,-0.15247574253989998,-2.0370935996695936,1.6601749181142536,-0.5272192877274895,-0.033993369156754195,-0.24702105932858384,0.8752572337981027,-0.9074267520314373,0.6555312859496805,1.1083632140491817,-1.5611075720781646,2.1967008131348833,-0.2873674649605818,-2.511560924098876,-0.19275476326699245,1.6350746681884742,-0.04731882357990403,-2.52242730291652,-1.551237616891866,-0.00876429671065778,-1.1020399323640624,0.4802027556630661,-0.4223379304928707,0.9106977807435954,-1.6108251233960542,-1.2194997272355916,0.17747410817582965,0.41313563454142044,0.8962985483691324,-1.2186217475104582,-0.2847170674505118,-0.18666222796323384,-0.3630480503504015,-0.27746604050707324,3.112419191898958,1.874492832473625,-0.6395156047749094,2.7362684837688334,-0.16265795619958992,-0.3457704175779409,0.2390812740622264,-1.909259372157811,-1.5822342158235558,-0.17677021193886278,-1.7983952328829507,1.0818303032238326,0.07576233509886776,-1.6087397161129464,1.8063866868468472,0.7957221863476691,-0.8114368091055573,1.0222630934702752,-3.4870520921934824,-1.7296457589580858,-0.47103532107313084,1.7555652510522208,-0.5557075174823343,-0.10416396099369642,0.059535500304115876,-1.9226208620779086,1.4120840124016425,-1.7712860975289972,-1.4068108034093436,1.902975390698135,-0.6172802275085986,-0.5426654346912442,-0.8383824918471939,-1.3807797945731168,2.037308116033356,1.2754480786362115,-0.32842873554058494,-0.2233014819702081,0.060320152349785744,-0.8671763356523562,0.766942892170299,-1.592748445348885,-0.6622569598492256,-0.4713626735334681,0.8820077478987629,-0.36148590802381275,0.6228106235694788,1.2955071380353218,1.2999373453933192,-0.3495696681854242,-0.41722317950520443,-0.33814313475104874,-0.7189669243087824,-1.1798234338056233,3.290149533808004,3.5798324125082086,-1.3290653140576794,3.4076905494810856,0.6564439303467555,-0.6600343978337562,-1.711268692815924,0.4706304624059257,-2.4977238834978612,-0.3440268677213195,-0.9980286958162184,-0.25190428712447754,-0.9992388956950692,0.43724070013257527,-1.3078850222294585,1.186238434316216,-0.0950753828605744,-0.13810301918829432,-0.6857611364227627,-0.3773493404190483,-1.5436131312244126,-0.4490613505300171,-0.9314054009375178,1.6854641046914831,-1.4834566723620282,0.357372317664114,-2.2790367064176382,0.3657078460109143,1.11514792199877,3.563371939437429,3.4622151803862034,0.22236762727157244,2.3845478983689863,0.4454700696162079,0.10716467267785885,0.053342393549608555,-1.7375088957428053,-1.2165581390743518,-0.28812914954656715,-0.39655953170022296,0.6074888711548836,0.2364317525003729,-0.7300302723631364,1.2120092131956606,-1.198619723325555,-1.6429545505939502,0.6613302203666969,-0.12423513217702865,-1.0523620461446441,0.5199620949148156,0.5132519254062098,2.119278097430645,0.05642263444082342,1.767655601657865,1.8840638705689947,1.0938960480322755,-0.11637186813265483,1.0528005345532614,-1.161301428105567,0.2696850129658198,0.6481250889198354,0.2499548677230823,1.1549468653403094,-0.5578999099219769,-1.4375456341100208,-0.32850049425464395,-0.42308689893347773,-0.2996200121103149,-0.8166644352336864,-1.5892774636656175,-1.0683751597724827,2.60395951839432,-1.4233564608090932,-0.5499444371643283,4.047542480244459,-0.8866609643288463,1.4382032954841828,-0.825776418711135,0.36324012380027915,-2.5226301241677462,0.8610804556069354,-1.541102723241534,-1.219378535760891,1.9977147775664257,2.6558365351321327,-0.0750272949570308,-1.252168551375463,3.8969409299044,-1.0761922125045424,1.2781917831468343,1.2886703169801803,1.5472075711039863,-0.43606199256255107,0.8897071755830446,0.8253574681329788,1.2131377105961985,-1.4810618224842753,-1.9331492343189491,1.3033890737156277,-0.23956129348459224,2.8146449701474965,-0.13125942968136,0.5943778478870583,0.8782637265421537,2.066510197683181,0.09702976688964579,0.4418447369982307,-0.35638281658167714,-1.1638537844485402,-0.8526279210419588,-1.5038855469660888,0.6768060878978804,-0.13784358444135453,-2.0144356234045038,-1.6491287918817201,-2.31334861316721,-0.007684252858789908,-0.5718294582035333,0.40580149873920696,-1.2808422595425721,0.19602939663745403,-0.43493842941525823,1.606564574202341,1.183276819343227,0.4522933952084408,-0.8926659101842088,-0.40935085888561984,0.4057326442906097,-0.9664678436714431,2.1457322250034436,1.6086183009536117,-1.4799795487293586,-0.539858430144435,2.076020707004189,-1.7801094453024788,0.09195489538477099,0.2678431954948275,0.6445523066316314,-0.11712032654510585,-0.4620451330981739,-1.7432791572542718,-1.721734631794298,-0.6491744524125894,-1.1630688865517287,-0.36670837107389326,-1.5777088893501108,-0.8296903852765829,0.14658374240870659,0.27544559875230634,-0.7678781354553141,-0.25543183337963943,1.5666255200929797,-0.03633596403672661,-1.2386330297893677,0.4272784608361304,-1.2436744005041023,0.9302579702819664,-0.19331352813431185,0.3812669949313425,0.2511736414979609,-1.6749367913687296,-0.2104049214099866,-0.2101044316788502,0.17728327140238098,2.9173038325736234,-0.8263812226957928,-0.3053192185681071,-0.0351011713087151,-0.26023407558505707,0.7578268031037546,0.18761918063153563,-0.8864294297108812,-1.294706345032933,1.0095823976389706,-0.6631343922809991,-0.7843502558506934,0.20814054839486498,1.0178785870386382,-1.2759638896103005,1.5328822048948465,-0.4882082520855628,3.9139598102298905,1.1439197411350905,-2.2621792146591075,1.4697069604498425,-0.8303015605551173,-0.9761774448465916,-1.7340770366635059,1.015931208084834,-1.5481251613951246,-0.49591626934576016,-1.54508940907247,1.0598972651489011,1.2474328410732394,-1.630905534017922,0.9199505165502485,0.828730471529398,-1.3492590360287204,-0.9852929537740036,-1.5486087940221058,-0.162451188541573,-2.4567515890648233,-0.6763392751993175,0.34347232880701756,-1.2987699145175755,-0.871975516057948,-0.1205579457688851,-0.4960631274902446,1.293770636316537,-0.7062407035845519,0.7336227387550398,-1.2494872010944493,-0.25542018625378743,-1.4199868010362888,-0.688988318378661,-0.19690876244741323,0.5128558927274579,1.9100228042171874,-0.8720775083972027,0.32137611340558564,0.37478323216196235,-1.5555301489726965,0.20507191854473775,-1.1719483293612551,-0.4310417286247224,-1.5316232903903297,0.07391929073131193,0.679977927500926,-1.4142189480585738,0.2762122975967127,4.478287969483092,0.9549401682465235,-1.7504537872317734,-0.15877512471784866,-1.4025697590900812,-0.8647994689074202,-1.3275705104981637,-0.900901599855582,0.7479992357793266,4.175358730997754,-1.4200958950011464,-0.4292364853195649,-1.0988148932658557,1.650108073720229,0.4555721768934988,0.020011241466696618,0.7120704106595861,1.1854034163214977,-0.11760039940252269,0.08068061340441396,-0.26965247029601336,0.591896968580029,-0.9980142227639992,-0.8051008793062551,-0.5173491549850682,-0.12098907341153897,-1.8244749934199593,1.5434532174554025,-1.2749923841577004,2.131921348420882,-1.1813722018863957,-1.195068643037585,1.8410203462320225,-0.3098220844343988,-0.12986522684226737,0.6130924029666706,-0.5598104396021386,1.1214179061426752,-0.17346569474640852,-0.8024523331393645,0.4682059509103116,0.48702775723791286,-0.6704188481488411,-0.10517317796014752],\"yaxis\":\"y\",\"type\":\"scattergl\"}],                        {\"template\":{\"data\":{\"bar\":[{\"error_x\":{\"color\":\"#2a3f5f\"},\"error_y\":{\"color\":\"#2a3f5f\"},\"marker\":{\"line\":{\"color\":\"#E5ECF6\",\"width\":0.5},\"pattern\":{\"fillmode\":\"overlay\",\"size\":10,\"solidity\":0.2}},\"type\":\"bar\"}],\"barpolar\":[{\"marker\":{\"line\":{\"color\":\"#E5ECF6\",\"width\":0.5},\"pattern\":{\"fillmode\":\"overlay\",\"size\":10,\"solidity\":0.2}},\"type\":\"barpolar\"}],\"carpet\":[{\"aaxis\":{\"endlinecolor\":\"#2a3f5f\",\"gridcolor\":\"white\",\"linecolor\":\"white\",\"minorgridcolor\":\"white\",\"startlinecolor\":\"#2a3f5f\"},\"baxis\":{\"endlinecolor\":\"#2a3f5f\",\"gridcolor\":\"white\",\"linecolor\":\"white\",\"minorgridcolor\":\"white\",\"startlinecolor\":\"#2a3f5f\"},\"type\":\"carpet\"}],\"choropleth\":[{\"colorbar\":{\"outlinewidth\":0,\"ticks\":\"\"},\"type\":\"choropleth\"}],\"contour\":[{\"colorbar\":{\"outlinewidth\":0,\"ticks\":\"\"},\"colorscale\":[[0.0,\"#0d0887\"],[0.1111111111111111,\"#46039f\"],[0.2222222222222222,\"#7201a8\"],[0.3333333333333333,\"#9c179e\"],[0.4444444444444444,\"#bd3786\"],[0.5555555555555556,\"#d8576b\"],[0.6666666666666666,\"#ed7953\"],[0.7777777777777778,\"#fb9f3a\"],[0.8888888888888888,\"#fdca26\"],[1.0,\"#f0f921\"]],\"type\":\"contour\"}],\"contourcarpet\":[{\"colorbar\":{\"outlinewidth\":0,\"ticks\":\"\"},\"type\":\"contourcarpet\"}],\"heatmap\":[{\"colorbar\":{\"outlinewidth\":0,\"ticks\":\"\"},\"colorscale\":[[0.0,\"#0d0887\"],[0.1111111111111111,\"#46039f\"],[0.2222222222222222,\"#7201a8\"],[0.3333333333333333,\"#9c179e\"],[0.4444444444444444,\"#bd3786\"],[0.5555555555555556,\"#d8576b\"],[0.6666666666666666,\"#ed7953\"],[0.7777777777777778,\"#fb9f3a\"],[0.8888888888888888,\"#fdca26\"],[1.0,\"#f0f921\"]],\"type\":\"heatmap\"}],\"heatmapgl\":[{\"colorbar\":{\"outlinewidth\":0,\"ticks\":\"\"},\"colorscale\":[[0.0,\"#0d0887\"],[0.1111111111111111,\"#46039f\"],[0.2222222222222222,\"#7201a8\"],[0.3333333333333333,\"#9c179e\"],[0.4444444444444444,\"#bd3786\"],[0.5555555555555556,\"#d8576b\"],[0.6666666666666666,\"#ed7953\"],[0.7777777777777778,\"#fb9f3a\"],[0.8888888888888888,\"#fdca26\"],[1.0,\"#f0f921\"]],\"type\":\"heatmapgl\"}],\"histogram\":[{\"marker\":{\"pattern\":{\"fillmode\":\"overlay\",\"size\":10,\"solidity\":0.2}},\"type\":\"histogram\"}],\"histogram2d\":[{\"colorbar\":{\"outlinewidth\":0,\"ticks\":\"\"},\"colorscale\":[[0.0,\"#0d0887\"],[0.1111111111111111,\"#46039f\"],[0.2222222222222222,\"#7201a8\"],[0.3333333333333333,\"#9c179e\"],[0.4444444444444444,\"#bd3786\"],[0.5555555555555556,\"#d8576b\"],[0.6666666666666666,\"#ed7953\"],[0.7777777777777778,\"#fb9f3a\"],[0.8888888888888888,\"#fdca26\"],[1.0,\"#f0f921\"]],\"type\":\"histogram2d\"}],\"histogram2dcontour\":[{\"colorbar\":{\"outlinewidth\":0,\"ticks\":\"\"},\"colorscale\":[[0.0,\"#0d0887\"],[0.1111111111111111,\"#46039f\"],[0.2222222222222222,\"#7201a8\"],[0.3333333333333333,\"#9c179e\"],[0.4444444444444444,\"#bd3786\"],[0.5555555555555556,\"#d8576b\"],[0.6666666666666666,\"#ed7953\"],[0.7777777777777778,\"#fb9f3a\"],[0.8888888888888888,\"#fdca26\"],[1.0,\"#f0f921\"]],\"type\":\"histogram2dcontour\"}],\"mesh3d\":[{\"colorbar\":{\"outlinewidth\":0,\"ticks\":\"\"},\"type\":\"mesh3d\"}],\"parcoords\":[{\"line\":{\"colorbar\":{\"outlinewidth\":0,\"ticks\":\"\"}},\"type\":\"parcoords\"}],\"pie\":[{\"automargin\":true,\"type\":\"pie\"}],\"scatter\":[{\"marker\":{\"colorbar\":{\"outlinewidth\":0,\"ticks\":\"\"}},\"type\":\"scatter\"}],\"scatter3d\":[{\"line\":{\"colorbar\":{\"outlinewidth\":0,\"ticks\":\"\"}},\"marker\":{\"colorbar\":{\"outlinewidth\":0,\"ticks\":\"\"}},\"type\":\"scatter3d\"}],\"scattercarpet\":[{\"marker\":{\"colorbar\":{\"outlinewidth\":0,\"ticks\":\"\"}},\"type\":\"scattercarpet\"}],\"scattergeo\":[{\"marker\":{\"colorbar\":{\"outlinewidth\":0,\"ticks\":\"\"}},\"type\":\"scattergeo\"}],\"scattergl\":[{\"marker\":{\"colorbar\":{\"outlinewidth\":0,\"ticks\":\"\"}},\"type\":\"scattergl\"}],\"scattermapbox\":[{\"marker\":{\"colorbar\":{\"outlinewidth\":0,\"ticks\":\"\"}},\"type\":\"scattermapbox\"}],\"scatterpolar\":[{\"marker\":{\"colorbar\":{\"outlinewidth\":0,\"ticks\":\"\"}},\"type\":\"scatterpolar\"}],\"scatterpolargl\":[{\"marker\":{\"colorbar\":{\"outlinewidth\":0,\"ticks\":\"\"}},\"type\":\"scatterpolargl\"}],\"scatterternary\":[{\"marker\":{\"colorbar\":{\"outlinewidth\":0,\"ticks\":\"\"}},\"type\":\"scatterternary\"}],\"surface\":[{\"colorbar\":{\"outlinewidth\":0,\"ticks\":\"\"},\"colorscale\":[[0.0,\"#0d0887\"],[0.1111111111111111,\"#46039f\"],[0.2222222222222222,\"#7201a8\"],[0.3333333333333333,\"#9c179e\"],[0.4444444444444444,\"#bd3786\"],[0.5555555555555556,\"#d8576b\"],[0.6666666666666666,\"#ed7953\"],[0.7777777777777778,\"#fb9f3a\"],[0.8888888888888888,\"#fdca26\"],[1.0,\"#f0f921\"]],\"type\":\"surface\"}],\"table\":[{\"cells\":{\"fill\":{\"color\":\"#EBF0F8\"},\"line\":{\"color\":\"white\"}},\"header\":{\"fill\":{\"color\":\"#C8D4E3\"},\"line\":{\"color\":\"white\"}},\"type\":\"table\"}]},\"layout\":{\"annotationdefaults\":{\"arrowcolor\":\"#2a3f5f\",\"arrowhead\":0,\"arrowwidth\":1},\"autotypenumbers\":\"strict\",\"coloraxis\":{\"colorbar\":{\"outlinewidth\":0,\"ticks\":\"\"}},\"colorscale\":{\"diverging\":[[0,\"#8e0152\"],[0.1,\"#c51b7d\"],[0.2,\"#de77ae\"],[0.3,\"#f1b6da\"],[0.4,\"#fde0ef\"],[0.5,\"#f7f7f7\"],[0.6,\"#e6f5d0\"],[0.7,\"#b8e186\"],[0.8,\"#7fbc41\"],[0.9,\"#4d9221\"],[1,\"#276419\"]],\"sequential\":[[0.0,\"#0d0887\"],[0.1111111111111111,\"#46039f\"],[0.2222222222222222,\"#7201a8\"],[0.3333333333333333,\"#9c179e\"],[0.4444444444444444,\"#bd3786\"],[0.5555555555555556,\"#d8576b\"],[0.6666666666666666,\"#ed7953\"],[0.7777777777777778,\"#fb9f3a\"],[0.8888888888888888,\"#fdca26\"],[1.0,\"#f0f921\"]],\"sequentialminus\":[[0.0,\"#0d0887\"],[0.1111111111111111,\"#46039f\"],[0.2222222222222222,\"#7201a8\"],[0.3333333333333333,\"#9c179e\"],[0.4444444444444444,\"#bd3786\"],[0.5555555555555556,\"#d8576b\"],[0.6666666666666666,\"#ed7953\"],[0.7777777777777778,\"#fb9f3a\"],[0.8888888888888888,\"#fdca26\"],[1.0,\"#f0f921\"]]},\"colorway\":[\"#636efa\",\"#EF553B\",\"#00cc96\",\"#ab63fa\",\"#FFA15A\",\"#19d3f3\",\"#FF6692\",\"#B6E880\",\"#FF97FF\",\"#FECB52\"],\"font\":{\"color\":\"#2a3f5f\"},\"geo\":{\"bgcolor\":\"white\",\"lakecolor\":\"white\",\"landcolor\":\"#E5ECF6\",\"showlakes\":true,\"showland\":true,\"subunitcolor\":\"white\"},\"hoverlabel\":{\"align\":\"left\"},\"hovermode\":\"closest\",\"mapbox\":{\"style\":\"light\"},\"paper_bgcolor\":\"white\",\"plot_bgcolor\":\"#E5ECF6\",\"polar\":{\"angularaxis\":{\"gridcolor\":\"white\",\"linecolor\":\"white\",\"ticks\":\"\"},\"bgcolor\":\"#E5ECF6\",\"radialaxis\":{\"gridcolor\":\"white\",\"linecolor\":\"white\",\"ticks\":\"\"}},\"scene\":{\"xaxis\":{\"backgroundcolor\":\"#E5ECF6\",\"gridcolor\":\"white\",\"gridwidth\":2,\"linecolor\":\"white\",\"showbackground\":true,\"ticks\":\"\",\"zerolinecolor\":\"white\"},\"yaxis\":{\"backgroundcolor\":\"#E5ECF6\",\"gridcolor\":\"white\",\"gridwidth\":2,\"linecolor\":\"white\",\"showbackground\":true,\"ticks\":\"\",\"zerolinecolor\":\"white\"},\"zaxis\":{\"backgroundcolor\":\"#E5ECF6\",\"gridcolor\":\"white\",\"gridwidth\":2,\"linecolor\":\"white\",\"showbackground\":true,\"ticks\":\"\",\"zerolinecolor\":\"white\"}},\"shapedefaults\":{\"line\":{\"color\":\"#2a3f5f\"}},\"ternary\":{\"aaxis\":{\"gridcolor\":\"white\",\"linecolor\":\"white\",\"ticks\":\"\"},\"baxis\":{\"gridcolor\":\"white\",\"linecolor\":\"white\",\"ticks\":\"\"},\"bgcolor\":\"#E5ECF6\",\"caxis\":{\"gridcolor\":\"white\",\"linecolor\":\"white\",\"ticks\":\"\"}},\"title\":{\"x\":0.05},\"xaxis\":{\"automargin\":true,\"gridcolor\":\"white\",\"linecolor\":\"white\",\"ticks\":\"\",\"title\":{\"standoff\":15},\"zerolinecolor\":\"white\",\"zerolinewidth\":2},\"yaxis\":{\"automargin\":true,\"gridcolor\":\"white\",\"linecolor\":\"white\",\"ticks\":\"\",\"title\":{\"standoff\":15},\"zerolinecolor\":\"white\",\"zerolinewidth\":2}}},\"xaxis\":{\"anchor\":\"y\",\"domain\":[0.0,1.0],\"title\":{\"text\":\"x\"}},\"yaxis\":{\"anchor\":\"x\",\"domain\":[0.0,1.0],\"title\":{\"text\":\"y\"}},\"coloraxis\":{\"colorbar\":{\"title\":{\"text\":\"cluster\"}},\"colorscale\":[[0.0,\"#0d0887\"],[0.1111111111111111,\"#46039f\"],[0.2222222222222222,\"#7201a8\"],[0.3333333333333333,\"#9c179e\"],[0.4444444444444444,\"#bd3786\"],[0.5555555555555556,\"#d8576b\"],[0.6666666666666666,\"#ed7953\"],[0.7777777777777778,\"#fb9f3a\"],[0.8888888888888888,\"#fdca26\"],[1.0,\"#f0f921\"]]},\"legend\":{\"tracegroupgap\":0},\"margin\":{\"t\":60}},                        {\"responsive\": true}                    ).then(function(){\n",
       "                            \n",
       "var gd = document.getElementById('d5a0aa4e-f762-4058-b469-99db7f93a06e');\n",
       "var x = new MutationObserver(function (mutations, observer) {{\n",
       "        var display = window.getComputedStyle(gd).display;\n",
       "        if (!display || display === 'none') {{\n",
       "            console.log([gd, 'removed!']);\n",
       "            Plotly.purge(gd);\n",
       "            observer.disconnect();\n",
       "        }}\n",
       "}});\n",
       "\n",
       "// Listen for the removal of the full notebook cells\n",
       "var notebookContainer = gd.closest('#notebook-container');\n",
       "if (notebookContainer) {{\n",
       "    x.observe(notebookContainer, {childList: true});\n",
       "}}\n",
       "\n",
       "// Listen for the clearing of the current output cell\n",
       "var outputEl = gd.closest('.output');\n",
       "if (outputEl) {{\n",
       "    x.observe(outputEl, {childList: true});\n",
       "}}\n",
       "\n",
       "                        })                };                });            </script>        </div>"
      ]
     },
     "metadata": {},
     "output_type": "display_data"
    }
   ],
   "source": [
    "pca_pipeline = Pipeline([('scaler', StandardScaler()), ('PCA', PCA(n_components=2))])\n",
    "song_embedding = pca_pipeline.fit_transform(X)\n",
    "projection = pd.DataFrame(columns=['x', 'y'], data=song_embedding)\n",
    "projection['title'] = clean_data['song_name']\n",
    "projection['cluster'] = clean_data['cluster_label']\n",
    "\n",
    "fig = px.scatter(\n",
    "    projection, x='x', y='y', color='cluster', hover_data=['x', 'y', 'title'])\n",
    "fig.show()"
   ]
  },
  {
   "cell_type": "code",
   "execution_count": null,
   "id": "8e6d1b59",
   "metadata": {},
   "outputs": [],
   "source": []
  },
  {
   "cell_type": "code",
   "execution_count": 82,
   "id": "c019c48f",
   "metadata": {},
   "outputs": [],
   "source": []
  },
  {
   "cell_type": "code",
   "execution_count": null,
   "id": "b727e243",
   "metadata": {},
   "outputs": [],
   "source": []
  }
 ],
 "metadata": {
  "kernelspec": {
   "display_name": "Python 3 (ipykernel)",
   "language": "python",
   "name": "python3"
  },
  "language_info": {
   "codemirror_mode": {
    "name": "ipython",
    "version": 3
   },
   "file_extension": ".py",
   "mimetype": "text/x-python",
   "name": "python",
   "nbconvert_exporter": "python",
   "pygments_lexer": "ipython3",
   "version": "3.9.12"
  }
 },
 "nbformat": 4,
 "nbformat_minor": 5
}
