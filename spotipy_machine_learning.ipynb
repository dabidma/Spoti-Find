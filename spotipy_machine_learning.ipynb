{
 "cells": [
  {
   "cell_type": "code",
   "execution_count": 1,
   "metadata": {},
   "outputs": [],
   "source": [
    "import os\n",
    "import numpy as np\n",
    "import pandas as pd\n",
    "\n",
    "import seaborn as sns\n",
    "import plotly.express as px \n",
    "import matplotlib.pyplot as plt\n",
    "\n",
    "from sklearn.cluster import KMeans\n",
    "from sklearn.preprocessing import StandardScaler\n",
    "from sklearn.pipeline import Pipeline\n",
    "from sklearn.manifold import TSNE\n",
    "from sklearn.decomposition import PCA\n",
    "from sklearn.metrics import euclidean_distances\n",
    "from scipy.spatial.distance import cdist\n",
    "\n",
    "import warnings\n",
    "warnings.filterwarnings(\"ignore\")"
   ]
  },
  {
   "cell_type": "code",
   "execution_count": 41,
   "metadata": {},
   "outputs": [
    {
     "data": {
      "text/html": [
       "<div>\n",
       "<style scoped>\n",
       "    .dataframe tbody tr th:only-of-type {\n",
       "        vertical-align: middle;\n",
       "    }\n",
       "\n",
       "    .dataframe tbody tr th {\n",
       "        vertical-align: top;\n",
       "    }\n",
       "\n",
       "    .dataframe thead th {\n",
       "        text-align: right;\n",
       "    }\n",
       "</style>\n",
       "<table border=\"1\" class=\"dataframe\">\n",
       "  <thead>\n",
       "    <tr style=\"text-align: right;\">\n",
       "      <th></th>\n",
       "      <th>Unnamed: 0</th>\n",
       "      <th>danceability</th>\n",
       "      <th>energy</th>\n",
       "      <th>key</th>\n",
       "      <th>loudness</th>\n",
       "      <th>mode</th>\n",
       "      <th>speechiness</th>\n",
       "      <th>acousticness</th>\n",
       "      <th>instrumentalness</th>\n",
       "      <th>liveness</th>\n",
       "      <th>...</th>\n",
       "      <th>uri</th>\n",
       "      <th>track_href</th>\n",
       "      <th>analysis_url</th>\n",
       "      <th>duration_ms</th>\n",
       "      <th>time_signature</th>\n",
       "      <th>song_name</th>\n",
       "      <th>artist_name</th>\n",
       "      <th>artist_genres</th>\n",
       "      <th>artist_pop</th>\n",
       "      <th>song_popularity</th>\n",
       "    </tr>\n",
       "  </thead>\n",
       "  <tbody>\n",
       "    <tr>\n",
       "      <th>0</th>\n",
       "      <td>0</td>\n",
       "      <td>0.482</td>\n",
       "      <td>0.721</td>\n",
       "      <td>0</td>\n",
       "      <td>-6.839</td>\n",
       "      <td>1</td>\n",
       "      <td>0.0321</td>\n",
       "      <td>0.731000</td>\n",
       "      <td>0.000000</td>\n",
       "      <td>0.1890</td>\n",
       "      <td>...</td>\n",
       "      <td>spotify:track:3AhXZa8sUQht0UEdBJgpGc</td>\n",
       "      <td>https://api.spotify.com/v1/tracks/3AhXZa8sUQht...</td>\n",
       "      <td>https://api.spotify.com/v1/audio-analysis/3AhX...</td>\n",
       "      <td>369600</td>\n",
       "      <td>4</td>\n",
       "      <td>Like a Rolling Stone</td>\n",
       "      <td>Bob Dylan</td>\n",
       "      <td>['classic rock', 'country rock', 'folk', 'folk...</td>\n",
       "      <td>72</td>\n",
       "      <td>68</td>\n",
       "    </tr>\n",
       "    <tr>\n",
       "      <th>1</th>\n",
       "      <td>1</td>\n",
       "      <td>0.485</td>\n",
       "      <td>0.863</td>\n",
       "      <td>1</td>\n",
       "      <td>-9.027</td>\n",
       "      <td>1</td>\n",
       "      <td>0.0495</td>\n",
       "      <td>0.000012</td>\n",
       "      <td>0.016200</td>\n",
       "      <td>0.1380</td>\n",
       "      <td>...</td>\n",
       "      <td>spotify:track:3oTlkzk1OtrhH8wBAduVEi</td>\n",
       "      <td>https://api.spotify.com/v1/tracks/3oTlkzk1Otrh...</td>\n",
       "      <td>https://api.spotify.com/v1/audio-analysis/3oTl...</td>\n",
       "      <td>300977</td>\n",
       "      <td>4</td>\n",
       "      <td>Smells Like Teen Spirit</td>\n",
       "      <td>Nirvana</td>\n",
       "      <td>['grunge', 'permanent wave', 'rock']</td>\n",
       "      <td>82</td>\n",
       "      <td>0</td>\n",
       "    </tr>\n",
       "    <tr>\n",
       "      <th>2</th>\n",
       "      <td>2</td>\n",
       "      <td>0.364</td>\n",
       "      <td>0.457</td>\n",
       "      <td>4</td>\n",
       "      <td>-14.162</td>\n",
       "      <td>0</td>\n",
       "      <td>0.0675</td>\n",
       "      <td>0.290000</td>\n",
       "      <td>0.000106</td>\n",
       "      <td>0.9220</td>\n",
       "      <td>...</td>\n",
       "      <td>spotify:track:3ZFBeIyP41HhnALjxWy1pR</td>\n",
       "      <td>https://api.spotify.com/v1/tracks/3ZFBeIyP41Hh...</td>\n",
       "      <td>https://api.spotify.com/v1/audio-analysis/3ZFB...</td>\n",
       "      <td>337413</td>\n",
       "      <td>4</td>\n",
       "      <td>A Day In The Life - Remastered</td>\n",
       "      <td>The Beatles</td>\n",
       "      <td>['beatlesque', 'british invasion', 'classic ro...</td>\n",
       "      <td>84</td>\n",
       "      <td>0</td>\n",
       "    </tr>\n",
       "    <tr>\n",
       "      <th>3</th>\n",
       "      <td>3</td>\n",
       "      <td>0.398</td>\n",
       "      <td>0.413</td>\n",
       "      <td>1</td>\n",
       "      <td>-10.934</td>\n",
       "      <td>1</td>\n",
       "      <td>0.0388</td>\n",
       "      <td>0.082200</td>\n",
       "      <td>0.000025</td>\n",
       "      <td>0.0891</td>\n",
       "      <td>...</td>\n",
       "      <td>spotify:track:5Qt4Cc66g24QWwGP3YYV9y</td>\n",
       "      <td>https://api.spotify.com/v1/tracks/5Qt4Cc66g24Q...</td>\n",
       "      <td>https://api.spotify.com/v1/audio-analysis/5Qt4...</td>\n",
       "      <td>219147</td>\n",
       "      <td>4</td>\n",
       "      <td>Good Vibrations (Mono)</td>\n",
       "      <td>The Beach Boys</td>\n",
       "      <td>['baroque pop', 'classic rock', 'psychedelic r...</td>\n",
       "      <td>78</td>\n",
       "      <td>20</td>\n",
       "    </tr>\n",
       "    <tr>\n",
       "      <th>4</th>\n",
       "      <td>4</td>\n",
       "      <td>0.518</td>\n",
       "      <td>0.756</td>\n",
       "      <td>10</td>\n",
       "      <td>-10.851</td>\n",
       "      <td>1</td>\n",
       "      <td>0.0915</td>\n",
       "      <td>0.735000</td>\n",
       "      <td>0.000062</td>\n",
       "      <td>0.3170</td>\n",
       "      <td>...</td>\n",
       "      <td>spotify:track:7MH2ZclofPlTrZOkPzZKhK</td>\n",
       "      <td>https://api.spotify.com/v1/tracks/7MH2ZclofPlT...</td>\n",
       "      <td>https://api.spotify.com/v1/audio-analysis/7MH2...</td>\n",
       "      <td>160893</td>\n",
       "      <td>4</td>\n",
       "      <td>Johnny B Goode</td>\n",
       "      <td>Chuck Berry</td>\n",
       "      <td>['classic rock', 'rock', 'rock-and-roll', 'roc...</td>\n",
       "      <td>75</td>\n",
       "      <td>0</td>\n",
       "    </tr>\n",
       "  </tbody>\n",
       "</table>\n",
       "<p>5 rows × 24 columns</p>\n",
       "</div>"
      ],
      "text/plain": [
       "   Unnamed: 0  danceability  energy  key  loudness  mode  speechiness  \\\n",
       "0           0         0.482   0.721    0    -6.839     1       0.0321   \n",
       "1           1         0.485   0.863    1    -9.027     1       0.0495   \n",
       "2           2         0.364   0.457    4   -14.162     0       0.0675   \n",
       "3           3         0.398   0.413    1   -10.934     1       0.0388   \n",
       "4           4         0.518   0.756   10   -10.851     1       0.0915   \n",
       "\n",
       "   acousticness  instrumentalness  liveness  ...  \\\n",
       "0      0.731000          0.000000    0.1890  ...   \n",
       "1      0.000012          0.016200    0.1380  ...   \n",
       "2      0.290000          0.000106    0.9220  ...   \n",
       "3      0.082200          0.000025    0.0891  ...   \n",
       "4      0.735000          0.000062    0.3170  ...   \n",
       "\n",
       "                                    uri  \\\n",
       "0  spotify:track:3AhXZa8sUQht0UEdBJgpGc   \n",
       "1  spotify:track:3oTlkzk1OtrhH8wBAduVEi   \n",
       "2  spotify:track:3ZFBeIyP41HhnALjxWy1pR   \n",
       "3  spotify:track:5Qt4Cc66g24QWwGP3YYV9y   \n",
       "4  spotify:track:7MH2ZclofPlTrZOkPzZKhK   \n",
       "\n",
       "                                          track_href  \\\n",
       "0  https://api.spotify.com/v1/tracks/3AhXZa8sUQht...   \n",
       "1  https://api.spotify.com/v1/tracks/3oTlkzk1Otrh...   \n",
       "2  https://api.spotify.com/v1/tracks/3ZFBeIyP41Hh...   \n",
       "3  https://api.spotify.com/v1/tracks/5Qt4Cc66g24Q...   \n",
       "4  https://api.spotify.com/v1/tracks/7MH2ZclofPlT...   \n",
       "\n",
       "                                        analysis_url duration_ms  \\\n",
       "0  https://api.spotify.com/v1/audio-analysis/3AhX...      369600   \n",
       "1  https://api.spotify.com/v1/audio-analysis/3oTl...      300977   \n",
       "2  https://api.spotify.com/v1/audio-analysis/3ZFB...      337413   \n",
       "3  https://api.spotify.com/v1/audio-analysis/5Qt4...      219147   \n",
       "4  https://api.spotify.com/v1/audio-analysis/7MH2...      160893   \n",
       "\n",
       "  time_signature                       song_name     artist_name  \\\n",
       "0              4            Like a Rolling Stone       Bob Dylan   \n",
       "1              4         Smells Like Teen Spirit         Nirvana   \n",
       "2              4  A Day In The Life - Remastered     The Beatles   \n",
       "3              4          Good Vibrations (Mono)  The Beach Boys   \n",
       "4              4                  Johnny B Goode     Chuck Berry   \n",
       "\n",
       "                                       artist_genres  artist_pop  \\\n",
       "0  ['classic rock', 'country rock', 'folk', 'folk...          72   \n",
       "1               ['grunge', 'permanent wave', 'rock']          82   \n",
       "2  ['beatlesque', 'british invasion', 'classic ro...          84   \n",
       "3  ['baroque pop', 'classic rock', 'psychedelic r...          78   \n",
       "4  ['classic rock', 'rock', 'rock-and-roll', 'roc...          75   \n",
       "\n",
       "  song_popularity  \n",
       "0              68  \n",
       "1               0  \n",
       "2               0  \n",
       "3              20  \n",
       "4               0  \n",
       "\n",
       "[5 rows x 24 columns]"
      ]
     },
     "execution_count": 41,
     "metadata": {},
     "output_type": "execute_result"
    }
   ],
   "source": [
    "data = pd.read_csv('./data/sample_music')\n",
    "data.head()"
   ]
  },
  {
   "cell_type": "code",
   "execution_count": 42,
   "metadata": {},
   "outputs": [],
   "source": [
    "data.drop(columns='Unnamed: 0',inplace=True)"
   ]
  },
  {
   "cell_type": "code",
   "execution_count": 43,
   "metadata": {},
   "outputs": [],
   "source": [
    "#function to turn artist genres string to list\n",
    "def genre_list(self):\n",
    "    split = self.strip().split(',')\n",
    "    clean = [x.strip(\" [']\") for x in split]\n",
    "    return clean"
   ]
  },
  {
   "cell_type": "code",
   "execution_count": 44,
   "metadata": {},
   "outputs": [],
   "source": [
    "# convert the df to list\n",
    "data['artist_genres'] = data['artist_genres'].apply(lambda x: genre_list(x))"
   ]
  },
  {
   "cell_type": "code",
   "execution_count": 60,
   "metadata": {},
   "outputs": [
    {
     "name": "stdout",
     "output_type": "stream",
     "text": [
      "{'classic rock': 301, 'country rock': 65, 'folk': 63, 'folk rock': 121, 'rock': 455, 'roots rock': 58, 'singer-songwriter': 71, 'grunge': 12, 'permanent wave': 185, 'beatlesque': 54, 'british invasion': 74, 'merseybeat': 47, 'psychedelic rock': 129, 'baroque pop': 28, 'sunshine pop': 17, 'rock-and-roll': 94, 'rockabilly': 65, 'classic soul': 66, 'jazz blues': 18, 'memphis soul': 22, 'soul': 127, 'southern soul': 30, 'adult standards': 83, 'brill building pop': 9, 'classic girl group': 14, 'funk': 72, 'indie r&b': 7, 'motown': 37, 'northern soul': 10, 'quiet storm': 43, 'pop': 55, 'r&b': 24, 'heartland rock': 17, 'mellow gold': 123, 'album rock': 102, 'art rock': 145, 'blues rock': 71, 'hard rock': 62, 'alternative rock': 122, 'madchester': 26, 'new wave': 79, 'post-punk': 40, 'uk post-punk': 21, 'soul blues': 14, 'atl hip hop': 14, 'dirty south rap': 6, 'hip hop': 68, 'old school atlanta hip hop': 3, 'pop rap': 16, 'rap': 70, 'southern hip hop': 10, 'punk': 47, 'dance pop': 65, 'indietronica': 20, 'new rave': 38, 'bronx hip hop': 4, 'electro': 15, 'old school hip hop': 19, 'piano blues': 7, 'vocal jazz': 21, 'glam rock': 45, 'funk rock': 18, 'minneapolis sound': 6, 'synth funk': 7, 'britpop': 22, 'indie rock': 69, 'pop rock': 47, 'sheffield indie': 3, 'harlem renaissance': 11, 'jazz': 20, 'lounge': 30, 'torch song': 5, 'protopunk': 34, 'detroit rock': 8, 'garage rock': 14, 'modern blues rock': 3, 'modern rock': 70, 'punk blues': 11, 'athens indie': 5, 'dance rock': 33, 'new romantic': 38, 'new wave pop': 55, 'synthpop': 27, 'acid rock': 15, 'proto-metal': 8, 'classic garage rock': 11, 'neo soul': 16, 'bubblegum pop': 41, 'scottish rock': 1, 'hip pop': 15, 'urban contemporary': 23, 'virginia hip hop': 3, 'disco': 35, 'hi-nrg': 4, 'cosmic american': 7, 'soft rock': 65, 'shoegaze': 7, 'blues': 24, 'british blues': 5, 'electric blues': 14, 'symphonic rock': 19, 'downtempo': 4, 'electronica': 36, 'trip hop': 11, 'anti-folk': 10, 'conscious hip hop': 19, 'east coast hip hop': 26, 'gangster rap': 24, 'golden age hip hop': 15, 'hardcore hip hop': 19, 'political hip hop': 7, 'rap rock': 8, 'art punk': 10, 'zolo': 11, 'melancholia': 41, 'oxford indie': 8, 'west coast rap': 12, 'yacht rock': 7, 'art pop': 40, 'electropop': 23, 'europop': 11, 'scandipop': 3, 'swedish electropop': 4, 'swedish pop': 5, 'alternative dance': 36, 'dance-punk': 9, 'electronic rock': 6, 'early us punk': 6, 'canadian electropop': 1, 'grave wave': 1, 'metropopolis': 8, 'lilith': 3, 'glam metal': 6, 'classic canadian rock': 10, 'swamp rock': 7, 'chicago rap': 7, 'ska': 12, 'ska revival': 3, 'nz pop': 2, 'filter house': 7, 'piano rock': 11, 'irish rock': 9, 'post-disco': 9, 'lgbtq+ hip hop': 5, 'british soul': 3, 'hip house': 7, 'new jersey rap': 4, 'southern rock': 9, 'reggae': 9, 'roots reggae': 8, 'progressive rock': 10, 'french shoegaze': 1, 'french synthpop': 1, 'neo-synthpop': 6, 'honky tonk': 3, 'traditional country': 6, 'yodeling': 4, 'big beat': 9, 'instrumental funk': 2, 'instrumental soul': 1, 'barbadian pop': 3, 'doo-wop': 13, 'rhythm and blues': 25, 'baltimore indie': 3, 'chillwave': 8, 'birmingham metal': 3, 'metal': 13, 'stoner rock': 4, 'uk doom metal': 3, 'candy pop': 6, 'power pop': 16, 'queens hip hop': 6, 'experimental': 9, 'no wave': 2, 'canadian hip hop': 2, 'canadian pop': 7, 'toronto rap': 2, '': 7, 'american folk revival': 2, 'appalachian folk': 5, 'old-time': 3, 'protest folk': 1, 'traditional blues': 25, 'traditional folk': 5, 'australian psych': 2, 'neo-psychedelic': 4, 'afrofuturism': 7, 'alternative r&b': 9, 'escape room': 11, 'indie soul': 4, 'g funk': 6, 'psychedelic soul': 5, 'australian dance': 3, 'australian pop': 2, 'eurodance': 1, 'brooklyn indie': 7, 'indie pop': 19, 'dusseldorf electronic': 3, 'early synthpop': 4, 'proto-techno': 3, 'dream pop': 21, 'experimental pop': 7, 'freak folk': 1, 'noise pop': 12, 'electroclash': 4, 'arkansas country': 5, 'outlaw country': 4, 'mod revival': 5, 'northern irish punk': 1, 'pub rock': 19, 'louisiana blues': 3, 'new orleans blues': 3, 'nashville sound': 6, 'chicago blues': 10, 'chicago soul': 6, 'sophisti-pop': 7, 'experimental r&b': 2, 'boston rock': 6, 'pop soul': 1, 'uk pop': 2, 'alternative metal': 7, 'spacegrunge': 1, 'bossa nova': 2, 'cool jazz': 4, 'jazz saxophone': 5, 'latin jazz': 1, 'samba-jazz': 1, 'freakbeat': 7, 'classic country pop': 3, 'supergroup': 3, 'canadian indie': 7, 'quebec indie': 5, 'classic uk pop': 6, 'detroit hip hop': 4, 'trap queen': 2, 'breakbeat': 3, 'hardcore techno': 2, 'rave': 3, 'new weird america': 2, 'stomp and holler': 6, 'alternative pop': 6, 'lo-fi': 5, 'acoustic blues': 6, 'delta blues': 9, 'pre-war blues': 4, 'australian rock': 5, 'jazz funk': 3, 'boogie-woogie': 1, 'jump blues': 1, 'canadian singer-songwriter': 15, 'ambient': 1, 'braindance': 1, 'intelligent dance music': 5, 'uk experimental electronic': 1, 'gothenburg indie': 1, 'swedish synthpop': 1, 'chanson': 3, 'vintage schlager': 1, 'old school thrash': 2, 'thrash metal': 2, 'french rock': 1, 'chicano punk': 1, 'speed metal': 1, 'noise rock': 4, 'native american': 1, 'surf music': 5, 'nu disco': 1, 'funk metal': 3, 'nu metal': 5, 'rap metal': 1, 'swedish alternative rock': 1, 'swedish indie pop': 1, 'chamber pop': 9, 'new jersey indie': 1, 'double drumming': 4, 'washington indie': 1, 'easy listening': 8, 'hot jazz': 2, 'new orleans jazz': 2, 'okc indie': 2, 'bebop': 8, 'big band': 11, 'stride': 5, 'swing': 14, 'rock independant francais': 2, 'classic dubstep': 1, 'hauntology': 1, 'microhouse': 1, 'uk bass': 1, 'wonky': 1, 'british folk': 5, 'palm desert scene': 1, 'stoner metal': 1, 'scottish indie': 2, 'jazz piano': 6, 'jazz trio': 1, 'memphis blues': 4, 'dark pop': 5, 'laboratorio': 5, 'p funk': 3, 'post-teen pop': 4, 'talent show': 1, 'country': 4, 'country dawn': 2, 'acoustic punk': 1, 'hardcore punk': 3, 'contemporary post-bop': 2, 'hard bop': 2, 'jazz quartet': 2, 'australian indie': 1, 'melbourne indie': 1, 'alternative hip hop': 7, 'bboy': 1, 'seattle indie': 4, 'bow pop': 1, 'experimental vocal': 2, 'future garage': 2, 'contemporary r&b': 6, 'girl group': 5, 'albuquerque indie': 1, 'portland indie': 1, 'gothic rock': 3, 'eau claire indie': 2, 'indie folk': 5, 'post-hardcore': 2, 'chamber psych': 3, 'afrobeat': 2, 'afropop': 2, 'world': 2, 'electro house': 2, 'philly rap': 1, 'jangle pop': 2, 'harmonica blues': 2, 'glam punk': 2, 'indie garage rock': 1, 'la indie': 2, 'texas blues': 4, 'cyberpunk': 2, 'industrial': 2, 'industrial metal': 2, 'industrial rock': 2, 'minnesota hip hop': 1, 'jazz fusion': 3, 'jazz trumpet': 4, 'uk contemporary jazz': 2, 'small room': 1, 'post-grunge': 1, 'dc hardcore': 1, 'dub': 4, 'belgian singer-songwriter': 1, 'french pop': 1, 'australian alternative rock': 1, 'collage pop': 2, 'psychedelic hip hop': 1, 'rock drums': 1, 'alternative americana': 1, 'garage rock revival': 2, 'swedish garage rock': 1, 'swedish hard rock': 1, 'swedish indie rock': 1, 'r&b en espanol': 1, 'folktronica': 2, 'bedroom pop': 1, 'jazz trombone': 1, 'celtic punk': 1, 'celtic rock': 1, 'folk punk': 2, 'slowcore': 1, 'gospel': 1, 'spirituals': 1, 'modern alternative rock': 2, 'vancouver indie': 1, 'vancouver punk': 1, 'dixieland': 2, 'alternative country': 1, 'chicago indie': 1, 'brighton indie': 1, 'etherpop': 1, 'canterbury scene': 2, 'experimental rock': 3, 'uk alternative pop': 3, 'olympia wa indie': 2, '\"women\\'s music\"': 1, 'bluegrass': 2, 'bluegrass gospel': 2, 'country gospel': 3, 'lovers rock': 2, 'turntablism': 1, 'instrumental rock': 1, 'jazz rock': 1, 'jazz rap': 2, 'dreamo': 1, 'toronto indie': 1, 'space age pop': 1, 'solo wave': 2, 'modern power pop': 2, 'harlem hip hop': 2, 'instrumental math rock': 1, 'math rock': 1, 'post-rock': 1, 'icelandic pop': 2, 'icelandic post-punk': 1, 'bassline': 2, 'grime': 2, 'house': 3, 'instrumental grime': 2, 'south carolina hip hop': 1, 'slam poetry': 1, 'african-american classical': 2, 'canadian contemporary r&b': 1, 'skate punk': 1, 'new orleans rap': 1, 'trap': 6, 'boy band': 1, 'new jack swing': 1, 'sacramento indie': 1, 'deconstructed club': 1, 'hyperpop': 1, 'proto-hyperpop': 1, 'transpop': 1, 'icelandic experimental': 1, 'icelandic singer-songwriter': 1, 'rocksteady': 1, 'dark wave': 1, 'free jazz': 1, 'philly soul': 4, 'houston rap': 1, 'disney': 1, 'hollywood': 1, 'movie tunes': 1, 'philly indie': 1, 'tin pan alley': 2, 'jam band': 3, 'slap house': 1, 'synth punk': 1, 'brazilian classical': 1, 'brazilian jazz': 1, 'latin classical': 1, 'mpb': 1, 'violao': 1, 'jazz clarinet': 1, 'vintage jazz': 1, 'acid house': 1, 'detroit techno': 1, 'techno': 1, 'flute rock': 1, 'edm': 1, 'uk dance': 1, 'ambient pop': 1, 'uk americana': 1, 'deep adult standards': 1, 'country blues': 3, 'gospel blues': 1, 'french jazz': 1, 'gypsy jazz': 1, 'jazz guitar': 1, 'atmospheric dnb': 1, 'drum and bass': 1, 'drumfunk': 1, 'jungle': 1, 'popping': 1, 'underground hip hop': 1, 'mexican classic rock': 1, 'scottish new wave': 2, 'birmingham hip hop': 1, 'uk garage': 1, 'makossa': 1, 'vocal harmony group': 1, 'ambient house': 1, 'melodic rap': 1, 'mississippi hip hop': 1, 'indie punk': 1, 'riot grrrl': 1, 'bakersfield sound': 1, 'bubblegrunge': 1, 'country boogie': 1}\n"
     ]
    }
   ],
   "source": [
    "#finding all the genres in the data set\n",
    "all_genres_counts = {}\n",
    "for row in data.artist_genres:\n",
    "    for x in row:\n",
    "        if x not in all_genres_counts:\n",
    "            all_genres_counts[x] = 1\n",
    "        else:\n",
    "            all_genres_counts[x] += 1\n",
    "        \n",
    "print(all_genres_counts)\n",
    "    "
   ]
  },
  {
   "cell_type": "code",
   "execution_count": 46,
   "metadata": {},
   "outputs": [
    {
     "data": {
      "text/html": [
       "<div>\n",
       "<style scoped>\n",
       "    .dataframe tbody tr th:only-of-type {\n",
       "        vertical-align: middle;\n",
       "    }\n",
       "\n",
       "    .dataframe tbody tr th {\n",
       "        vertical-align: top;\n",
       "    }\n",
       "\n",
       "    .dataframe thead th {\n",
       "        text-align: right;\n",
       "    }\n",
       "</style>\n",
       "<table border=\"1\" class=\"dataframe\">\n",
       "  <thead>\n",
       "    <tr style=\"text-align: right;\">\n",
       "      <th></th>\n",
       "      <th>danceability</th>\n",
       "      <th>energy</th>\n",
       "      <th>key</th>\n",
       "      <th>loudness</th>\n",
       "      <th>mode</th>\n",
       "      <th>speechiness</th>\n",
       "      <th>acousticness</th>\n",
       "      <th>instrumentalness</th>\n",
       "      <th>liveness</th>\n",
       "      <th>valence</th>\n",
       "      <th>...</th>\n",
       "      <th>uri</th>\n",
       "      <th>track_href</th>\n",
       "      <th>analysis_url</th>\n",
       "      <th>duration_ms</th>\n",
       "      <th>time_signature</th>\n",
       "      <th>song_name</th>\n",
       "      <th>artist_name</th>\n",
       "      <th>artist_genres</th>\n",
       "      <th>artist_pop</th>\n",
       "      <th>song_popularity</th>\n",
       "    </tr>\n",
       "  </thead>\n",
       "  <tbody>\n",
       "    <tr>\n",
       "      <th>0</th>\n",
       "      <td>0.482</td>\n",
       "      <td>0.721</td>\n",
       "      <td>0</td>\n",
       "      <td>-6.839</td>\n",
       "      <td>1</td>\n",
       "      <td>0.0321</td>\n",
       "      <td>0.731000</td>\n",
       "      <td>0.000000</td>\n",
       "      <td>0.1890</td>\n",
       "      <td>0.557</td>\n",
       "      <td>...</td>\n",
       "      <td>spotify:track:3AhXZa8sUQht0UEdBJgpGc</td>\n",
       "      <td>https://api.spotify.com/v1/tracks/3AhXZa8sUQht...</td>\n",
       "      <td>https://api.spotify.com/v1/audio-analysis/3AhX...</td>\n",
       "      <td>369600</td>\n",
       "      <td>4</td>\n",
       "      <td>Like a Rolling Stone</td>\n",
       "      <td>Bob Dylan</td>\n",
       "      <td>[classic rock, country rock, folk, folk rock, ...</td>\n",
       "      <td>72</td>\n",
       "      <td>68</td>\n",
       "    </tr>\n",
       "    <tr>\n",
       "      <th>1</th>\n",
       "      <td>0.485</td>\n",
       "      <td>0.863</td>\n",
       "      <td>1</td>\n",
       "      <td>-9.027</td>\n",
       "      <td>1</td>\n",
       "      <td>0.0495</td>\n",
       "      <td>0.000012</td>\n",
       "      <td>0.016200</td>\n",
       "      <td>0.1380</td>\n",
       "      <td>0.767</td>\n",
       "      <td>...</td>\n",
       "      <td>spotify:track:3oTlkzk1OtrhH8wBAduVEi</td>\n",
       "      <td>https://api.spotify.com/v1/tracks/3oTlkzk1Otrh...</td>\n",
       "      <td>https://api.spotify.com/v1/audio-analysis/3oTl...</td>\n",
       "      <td>300977</td>\n",
       "      <td>4</td>\n",
       "      <td>Smells Like Teen Spirit</td>\n",
       "      <td>Nirvana</td>\n",
       "      <td>[grunge, permanent wave, rock]</td>\n",
       "      <td>82</td>\n",
       "      <td>0</td>\n",
       "    </tr>\n",
       "    <tr>\n",
       "      <th>2</th>\n",
       "      <td>0.364</td>\n",
       "      <td>0.457</td>\n",
       "      <td>4</td>\n",
       "      <td>-14.162</td>\n",
       "      <td>0</td>\n",
       "      <td>0.0675</td>\n",
       "      <td>0.290000</td>\n",
       "      <td>0.000106</td>\n",
       "      <td>0.9220</td>\n",
       "      <td>0.175</td>\n",
       "      <td>...</td>\n",
       "      <td>spotify:track:3ZFBeIyP41HhnALjxWy1pR</td>\n",
       "      <td>https://api.spotify.com/v1/tracks/3ZFBeIyP41Hh...</td>\n",
       "      <td>https://api.spotify.com/v1/audio-analysis/3ZFB...</td>\n",
       "      <td>337413</td>\n",
       "      <td>4</td>\n",
       "      <td>A Day In The Life - Remastered</td>\n",
       "      <td>The Beatles</td>\n",
       "      <td>[beatlesque, british invasion, classic rock, m...</td>\n",
       "      <td>84</td>\n",
       "      <td>0</td>\n",
       "    </tr>\n",
       "    <tr>\n",
       "      <th>3</th>\n",
       "      <td>0.398</td>\n",
       "      <td>0.413</td>\n",
       "      <td>1</td>\n",
       "      <td>-10.934</td>\n",
       "      <td>1</td>\n",
       "      <td>0.0388</td>\n",
       "      <td>0.082200</td>\n",
       "      <td>0.000025</td>\n",
       "      <td>0.0891</td>\n",
       "      <td>0.331</td>\n",
       "      <td>...</td>\n",
       "      <td>spotify:track:5Qt4Cc66g24QWwGP3YYV9y</td>\n",
       "      <td>https://api.spotify.com/v1/tracks/5Qt4Cc66g24Q...</td>\n",
       "      <td>https://api.spotify.com/v1/audio-analysis/5Qt4...</td>\n",
       "      <td>219147</td>\n",
       "      <td>4</td>\n",
       "      <td>Good Vibrations (Mono)</td>\n",
       "      <td>The Beach Boys</td>\n",
       "      <td>[baroque pop, classic rock, psychedelic rock, ...</td>\n",
       "      <td>78</td>\n",
       "      <td>20</td>\n",
       "    </tr>\n",
       "    <tr>\n",
       "      <th>4</th>\n",
       "      <td>0.518</td>\n",
       "      <td>0.756</td>\n",
       "      <td>10</td>\n",
       "      <td>-10.851</td>\n",
       "      <td>1</td>\n",
       "      <td>0.0915</td>\n",
       "      <td>0.735000</td>\n",
       "      <td>0.000062</td>\n",
       "      <td>0.3170</td>\n",
       "      <td>0.968</td>\n",
       "      <td>...</td>\n",
       "      <td>spotify:track:7MH2ZclofPlTrZOkPzZKhK</td>\n",
       "      <td>https://api.spotify.com/v1/tracks/7MH2ZclofPlT...</td>\n",
       "      <td>https://api.spotify.com/v1/audio-analysis/7MH2...</td>\n",
       "      <td>160893</td>\n",
       "      <td>4</td>\n",
       "      <td>Johnny B Goode</td>\n",
       "      <td>Chuck Berry</td>\n",
       "      <td>[classic rock, rock, rock-and-roll, rockabilly]</td>\n",
       "      <td>75</td>\n",
       "      <td>0</td>\n",
       "    </tr>\n",
       "  </tbody>\n",
       "</table>\n",
       "<p>5 rows × 23 columns</p>\n",
       "</div>"
      ],
      "text/plain": [
       "   danceability  energy  key  loudness  mode  speechiness  acousticness  \\\n",
       "0         0.482   0.721    0    -6.839     1       0.0321      0.731000   \n",
       "1         0.485   0.863    1    -9.027     1       0.0495      0.000012   \n",
       "2         0.364   0.457    4   -14.162     0       0.0675      0.290000   \n",
       "3         0.398   0.413    1   -10.934     1       0.0388      0.082200   \n",
       "4         0.518   0.756   10   -10.851     1       0.0915      0.735000   \n",
       "\n",
       "   instrumentalness  liveness  valence  ...  \\\n",
       "0          0.000000    0.1890    0.557  ...   \n",
       "1          0.016200    0.1380    0.767  ...   \n",
       "2          0.000106    0.9220    0.175  ...   \n",
       "3          0.000025    0.0891    0.331  ...   \n",
       "4          0.000062    0.3170    0.968  ...   \n",
       "\n",
       "                                    uri  \\\n",
       "0  spotify:track:3AhXZa8sUQht0UEdBJgpGc   \n",
       "1  spotify:track:3oTlkzk1OtrhH8wBAduVEi   \n",
       "2  spotify:track:3ZFBeIyP41HhnALjxWy1pR   \n",
       "3  spotify:track:5Qt4Cc66g24QWwGP3YYV9y   \n",
       "4  spotify:track:7MH2ZclofPlTrZOkPzZKhK   \n",
       "\n",
       "                                          track_href  \\\n",
       "0  https://api.spotify.com/v1/tracks/3AhXZa8sUQht...   \n",
       "1  https://api.spotify.com/v1/tracks/3oTlkzk1Otrh...   \n",
       "2  https://api.spotify.com/v1/tracks/3ZFBeIyP41Hh...   \n",
       "3  https://api.spotify.com/v1/tracks/5Qt4Cc66g24Q...   \n",
       "4  https://api.spotify.com/v1/tracks/7MH2ZclofPlT...   \n",
       "\n",
       "                                        analysis_url duration_ms  \\\n",
       "0  https://api.spotify.com/v1/audio-analysis/3AhX...      369600   \n",
       "1  https://api.spotify.com/v1/audio-analysis/3oTl...      300977   \n",
       "2  https://api.spotify.com/v1/audio-analysis/3ZFB...      337413   \n",
       "3  https://api.spotify.com/v1/audio-analysis/5Qt4...      219147   \n",
       "4  https://api.spotify.com/v1/audio-analysis/7MH2...      160893   \n",
       "\n",
       "  time_signature                       song_name     artist_name  \\\n",
       "0              4            Like a Rolling Stone       Bob Dylan   \n",
       "1              4         Smells Like Teen Spirit         Nirvana   \n",
       "2              4  A Day In The Life - Remastered     The Beatles   \n",
       "3              4          Good Vibrations (Mono)  The Beach Boys   \n",
       "4              4                  Johnny B Goode     Chuck Berry   \n",
       "\n",
       "                                       artist_genres artist_pop  \\\n",
       "0  [classic rock, country rock, folk, folk rock, ...         72   \n",
       "1                     [grunge, permanent wave, rock]         82   \n",
       "2  [beatlesque, british invasion, classic rock, m...         84   \n",
       "3  [baroque pop, classic rock, psychedelic rock, ...         78   \n",
       "4    [classic rock, rock, rock-and-roll, rockabilly]         75   \n",
       "\n",
       "  song_popularity  \n",
       "0              68  \n",
       "1               0  \n",
       "2               0  \n",
       "3              20  \n",
       "4               0  \n",
       "\n",
       "[5 rows x 23 columns]"
      ]
     },
     "execution_count": 46,
     "metadata": {},
     "output_type": "execute_result"
    }
   ],
   "source": [
    "data.head()"
   ]
  },
  {
   "cell_type": "code",
   "execution_count": 49,
   "metadata": {},
   "outputs": [],
   "source": [
    "#combining genres with music feature data average into a new df\n",
    "genre_features_input = {}\n",
    "genre_features = {}\n",
    "#list of features were looking for\n",
    "features_input = ['danceability','energy','loudness','speechiness','acousticness','liveness','valence']\n",
    "\n",
    "\n",
    "#loop through df\n",
    "for i, r in data.iterrows():\n",
    "\n",
    "    #loop through each genre\n",
    "    for genre in r['artist_genres']:\n",
    "\n",
    "        #create a dict for the genre if it isnt made\n",
    "        if genre not in genre_features_input.keys():\n",
    "            genre_features_input[genre] = []\n",
    "\n",
    "            #start adding the features\n",
    "            for feature in features_input:\n",
    "\n",
    "                #create dict for features\n",
    "                if feature not in genre_features.keys():\n",
    "                    genre_features[feature] = []\n",
    "                    genre_features[feature].append(r[feature])\n",
    "                \n",
    "            genre_features_input[genre].append(genre_features)\n",
    "        #else add onto the generated genre key\n",
    "        else:\n",
    "            for genre_info in genre_features_input.values():\n",
    "                for dicts in genre_info:\n",
    "                    for key,v in dicts.items():\n",
    "                        for feature in features_input:\n",
    "                            if key == feature:\n",
    "                                dicts[key].append(r[feature])\n",
    "                    \n",
    "                    \n",
    "                \n",
    "        genre_features = {}\n",
    "        \n"
   ]
  },
  {
   "cell_type": "code",
   "execution_count": 50,
   "metadata": {},
   "outputs": [
    {
     "data": {
      "text/html": [
       "<div>\n",
       "<style scoped>\n",
       "    .dataframe tbody tr th:only-of-type {\n",
       "        vertical-align: middle;\n",
       "    }\n",
       "\n",
       "    .dataframe tbody tr th {\n",
       "        vertical-align: top;\n",
       "    }\n",
       "\n",
       "    .dataframe thead th {\n",
       "        text-align: right;\n",
       "    }\n",
       "</style>\n",
       "<table border=\"1\" class=\"dataframe\">\n",
       "  <thead>\n",
       "    <tr style=\"text-align: right;\">\n",
       "      <th></th>\n",
       "      <th>classic rock</th>\n",
       "      <th>country rock</th>\n",
       "      <th>folk</th>\n",
       "      <th>folk rock</th>\n",
       "      <th>rock</th>\n",
       "      <th>roots rock</th>\n",
       "      <th>singer-songwriter</th>\n",
       "      <th>grunge</th>\n",
       "      <th>permanent wave</th>\n",
       "      <th>beatlesque</th>\n",
       "      <th>...</th>\n",
       "      <th>makossa</th>\n",
       "      <th>vocal harmony group</th>\n",
       "      <th>ambient house</th>\n",
       "      <th>melodic rap</th>\n",
       "      <th>mississippi hip hop</th>\n",
       "      <th>indie punk</th>\n",
       "      <th>riot grrrl</th>\n",
       "      <th>bakersfield sound</th>\n",
       "      <th>bubblegrunge</th>\n",
       "      <th>country boogie</th>\n",
       "    </tr>\n",
       "  </thead>\n",
       "  <tbody>\n",
       "    <tr>\n",
       "      <th>0</th>\n",
       "      <td>{'danceability': [0.482, 0.485, 0.364, 0.364, ...</td>\n",
       "      <td>{'danceability': [0.482, 0.485, 0.364, 0.364, ...</td>\n",
       "      <td>{'danceability': [0.482, 0.485, 0.364, 0.364, ...</td>\n",
       "      <td>{'danceability': [0.482, 0.485, 0.364, 0.364, ...</td>\n",
       "      <td>{'danceability': [0.482, 0.485, 0.364, 0.364, ...</td>\n",
       "      <td>{'danceability': [0.482, 0.485, 0.364, 0.364, ...</td>\n",
       "      <td>{'danceability': [0.482, 0.485, 0.364, 0.364, ...</td>\n",
       "      <td>{'danceability': [0.485, 0.485, 0.364, 0.364, ...</td>\n",
       "      <td>{'danceability': [0.485, 0.485, 0.364, 0.364, ...</td>\n",
       "      <td>{'danceability': [0.364, 0.364, 0.364, 0.398, ...</td>\n",
       "      <td>...</td>\n",
       "      <td>{'danceability': [0.831, 0.831, 0.504, 0.504, ...</td>\n",
       "      <td>{'danceability': [0.557, 0.682, 0.682, 0.682, ...</td>\n",
       "      <td>{'danceability': [0.682, 0.682, 0.682, 0.682, ...</td>\n",
       "      <td>{'danceability': [0.794, 0.794, 0.794, 0.794, ...</td>\n",
       "      <td>{'danceability': [0.794, 0.794, 0.794, 0.794, ...</td>\n",
       "      <td>{'danceability': [0.435, 0.435, 0.725, 0.483, ...</td>\n",
       "      <td>{'danceability': [0.435, 0.725, 0.483, 0.483, ...</td>\n",
       "      <td>{'danceability': [0.725, 0.725, 0.483, 0.483, ...</td>\n",
       "      <td>{'danceability': [0.483, 0.483, 0.483, 0.763, ...</td>\n",
       "      <td>{'danceability': [0.699, 0.699, 0.699, 0.747, ...</td>\n",
       "    </tr>\n",
       "  </tbody>\n",
       "</table>\n",
       "<p>1 rows × 476 columns</p>\n",
       "</div>"
      ],
      "text/plain": [
       "                                        classic rock  \\\n",
       "0  {'danceability': [0.482, 0.485, 0.364, 0.364, ...   \n",
       "\n",
       "                                        country rock  \\\n",
       "0  {'danceability': [0.482, 0.485, 0.364, 0.364, ...   \n",
       "\n",
       "                                                folk  \\\n",
       "0  {'danceability': [0.482, 0.485, 0.364, 0.364, ...   \n",
       "\n",
       "                                           folk rock  \\\n",
       "0  {'danceability': [0.482, 0.485, 0.364, 0.364, ...   \n",
       "\n",
       "                                                rock  \\\n",
       "0  {'danceability': [0.482, 0.485, 0.364, 0.364, ...   \n",
       "\n",
       "                                          roots rock  \\\n",
       "0  {'danceability': [0.482, 0.485, 0.364, 0.364, ...   \n",
       "\n",
       "                                   singer-songwriter  \\\n",
       "0  {'danceability': [0.482, 0.485, 0.364, 0.364, ...   \n",
       "\n",
       "                                              grunge  \\\n",
       "0  {'danceability': [0.485, 0.485, 0.364, 0.364, ...   \n",
       "\n",
       "                                      permanent wave  \\\n",
       "0  {'danceability': [0.485, 0.485, 0.364, 0.364, ...   \n",
       "\n",
       "                                          beatlesque  ...  \\\n",
       "0  {'danceability': [0.364, 0.364, 0.364, 0.398, ...  ...   \n",
       "\n",
       "                                             makossa  \\\n",
       "0  {'danceability': [0.831, 0.831, 0.504, 0.504, ...   \n",
       "\n",
       "                                 vocal harmony group  \\\n",
       "0  {'danceability': [0.557, 0.682, 0.682, 0.682, ...   \n",
       "\n",
       "                                       ambient house  \\\n",
       "0  {'danceability': [0.682, 0.682, 0.682, 0.682, ...   \n",
       "\n",
       "                                         melodic rap  \\\n",
       "0  {'danceability': [0.794, 0.794, 0.794, 0.794, ...   \n",
       "\n",
       "                                 mississippi hip hop  \\\n",
       "0  {'danceability': [0.794, 0.794, 0.794, 0.794, ...   \n",
       "\n",
       "                                          indie punk  \\\n",
       "0  {'danceability': [0.435, 0.435, 0.725, 0.483, ...   \n",
       "\n",
       "                                          riot grrrl  \\\n",
       "0  {'danceability': [0.435, 0.725, 0.483, 0.483, ...   \n",
       "\n",
       "                                   bakersfield sound  \\\n",
       "0  {'danceability': [0.725, 0.725, 0.483, 0.483, ...   \n",
       "\n",
       "                                        bubblegrunge  \\\n",
       "0  {'danceability': [0.483, 0.483, 0.483, 0.763, ...   \n",
       "\n",
       "                                      country boogie  \n",
       "0  {'danceability': [0.699, 0.699, 0.699, 0.747, ...  \n",
       "\n",
       "[1 rows x 476 columns]"
      ]
     },
     "execution_count": 50,
     "metadata": {},
     "output_type": "execute_result"
    }
   ],
   "source": [
    "genre_test = pd.DataFrame(genre_features_input)\n",
    "genre_test.head()"
   ]
  },
  {
   "cell_type": "code",
   "execution_count": 51,
   "metadata": {},
   "outputs": [],
   "source": [
    "#get the average of all the variables that was gathered from each artists songs associated with the genre\n",
    "for genre_key in genre_features_input.values():\n",
    "    for item in genre_key:\n",
    "        for k,v in item.items():\n",
    "            # print(v[:10])\n",
    "            new = np.mean(v)\n",
    "            item[k] = new\n",
    "            \n"
   ]
  },
  {
   "cell_type": "code",
   "execution_count": 52,
   "metadata": {},
   "outputs": [
    {
     "data": {
      "text/plain": [
       "[{'danceability': 0.5574073906758222,\n",
       "  'energy': 0.6312868305023491,\n",
       "  'loudness': -9.093789663895915,\n",
       "  'speechiness': 0.06562278641127575,\n",
       "  'acousticness': 0.27453364559269966,\n",
       "  'liveness': 0.19407294904228403,\n",
       "  'valence': 0.5901399710878208}]"
      ]
     },
     "execution_count": 52,
     "metadata": {},
     "output_type": "execute_result"
    }
   ],
   "source": [
    "genre_features_input['acid rock']"
   ]
  },
  {
   "cell_type": "code",
   "execution_count": 64,
   "metadata": {},
   "outputs": [],
   "source": [
    "genre_name = []\n",
    "danceability = []\n",
    "energy = []\n",
    "loudness = []\n",
    "speechiness = []\n",
    "acousticness = []\n",
    "liveness = []\n",
    "valence = []\n",
    "genres_counts = []\n",
    "\n",
    "for key, value in genre_features_input.items():\n",
    "    genre_name.append(key)\n",
    "    for k, v in value[0].items():\n",
    "        if k == 'danceability':\n",
    "            danceability.append(v)\n",
    "        elif k == 'energy':\n",
    "            energy.append(v)\n",
    "        elif k == 'loudness':\n",
    "            loudness.append(v)\n",
    "        elif k == 'speechiness':\n",
    "            speechiness.append(v)\n",
    "        elif k == 'acousticness':\n",
    "            acousticness.append(v)\n",
    "        elif k == 'liveness':\n",
    "            liveness.append(v)\n",
    "        else:\n",
    "            valence.append(v)\n",
    "for k, v in all_genres_counts.items():\n",
    "        genres_counts.append(v)"
   ]
  },
  {
   "cell_type": "code",
   "execution_count": 65,
   "metadata": {},
   "outputs": [],
   "source": [
    "test_dict = {'genre_name': genre_name,\n",
    "'danceability': danceability,\n",
    "'energy': energy,\n",
    "'loudness': loudness,\n",
    "'speechiness': speechiness,\n",
    "'acousticness': acousticness,\n",
    "'liveness': liveness,\n",
    "'valence': valence,\n",
    "'genre_counts': genres_counts}\n",
    "genre_test = pd.DataFrame(test_dict)"
   ]
  },
  {
   "cell_type": "code",
   "execution_count": 66,
   "metadata": {},
   "outputs": [
    {
     "data": {
      "text/html": [
       "<div>\n",
       "<style scoped>\n",
       "    .dataframe tbody tr th:only-of-type {\n",
       "        vertical-align: middle;\n",
       "    }\n",
       "\n",
       "    .dataframe tbody tr th {\n",
       "        vertical-align: top;\n",
       "    }\n",
       "\n",
       "    .dataframe thead th {\n",
       "        text-align: right;\n",
       "    }\n",
       "</style>\n",
       "<table border=\"1\" class=\"dataframe\">\n",
       "  <thead>\n",
       "    <tr style=\"text-align: right;\">\n",
       "      <th></th>\n",
       "      <th>genre_name</th>\n",
       "      <th>danceability</th>\n",
       "      <th>energy</th>\n",
       "      <th>loudness</th>\n",
       "      <th>speechiness</th>\n",
       "      <th>acousticness</th>\n",
       "      <th>liveness</th>\n",
       "      <th>valence</th>\n",
       "      <th>genre_counts</th>\n",
       "    </tr>\n",
       "  </thead>\n",
       "  <tbody>\n",
       "    <tr>\n",
       "      <th>0</th>\n",
       "      <td>classic rock</td>\n",
       "      <td>0.556515</td>\n",
       "      <td>0.631028</td>\n",
       "      <td>-9.100323</td>\n",
       "      <td>0.065706</td>\n",
       "      <td>0.275440</td>\n",
       "      <td>0.193187</td>\n",
       "      <td>0.590737</td>\n",
       "      <td>301</td>\n",
       "    </tr>\n",
       "    <tr>\n",
       "      <th>1</th>\n",
       "      <td>country rock</td>\n",
       "      <td>0.556515</td>\n",
       "      <td>0.631028</td>\n",
       "      <td>-9.100323</td>\n",
       "      <td>0.065706</td>\n",
       "      <td>0.275440</td>\n",
       "      <td>0.193187</td>\n",
       "      <td>0.590737</td>\n",
       "      <td>65</td>\n",
       "    </tr>\n",
       "    <tr>\n",
       "      <th>2</th>\n",
       "      <td>folk</td>\n",
       "      <td>0.556515</td>\n",
       "      <td>0.631028</td>\n",
       "      <td>-9.100323</td>\n",
       "      <td>0.065706</td>\n",
       "      <td>0.275440</td>\n",
       "      <td>0.193187</td>\n",
       "      <td>0.590737</td>\n",
       "      <td>63</td>\n",
       "    </tr>\n",
       "    <tr>\n",
       "      <th>3</th>\n",
       "      <td>folk rock</td>\n",
       "      <td>0.556515</td>\n",
       "      <td>0.631028</td>\n",
       "      <td>-9.100323</td>\n",
       "      <td>0.065706</td>\n",
       "      <td>0.275440</td>\n",
       "      <td>0.193187</td>\n",
       "      <td>0.590737</td>\n",
       "      <td>121</td>\n",
       "    </tr>\n",
       "    <tr>\n",
       "      <th>4</th>\n",
       "      <td>rock</td>\n",
       "      <td>0.556515</td>\n",
       "      <td>0.631028</td>\n",
       "      <td>-9.100323</td>\n",
       "      <td>0.065706</td>\n",
       "      <td>0.275440</td>\n",
       "      <td>0.193187</td>\n",
       "      <td>0.590737</td>\n",
       "      <td>455</td>\n",
       "    </tr>\n",
       "    <tr>\n",
       "      <th>...</th>\n",
       "      <td>...</td>\n",
       "      <td>...</td>\n",
       "      <td>...</td>\n",
       "      <td>...</td>\n",
       "      <td>...</td>\n",
       "      <td>...</td>\n",
       "      <td>...</td>\n",
       "      <td>...</td>\n",
       "      <td>...</td>\n",
       "    </tr>\n",
       "    <tr>\n",
       "      <th>471</th>\n",
       "      <td>indie punk</td>\n",
       "      <td>0.610125</td>\n",
       "      <td>0.647937</td>\n",
       "      <td>-7.843422</td>\n",
       "      <td>0.046425</td>\n",
       "      <td>0.271573</td>\n",
       "      <td>0.158836</td>\n",
       "      <td>0.642484</td>\n",
       "      <td>1</td>\n",
       "    </tr>\n",
       "    <tr>\n",
       "      <th>472</th>\n",
       "      <td>riot grrrl</td>\n",
       "      <td>0.612905</td>\n",
       "      <td>0.643317</td>\n",
       "      <td>-7.906889</td>\n",
       "      <td>0.045400</td>\n",
       "      <td>0.275690</td>\n",
       "      <td>0.160383</td>\n",
       "      <td>0.643810</td>\n",
       "      <td>1</td>\n",
       "    </tr>\n",
       "    <tr>\n",
       "      <th>473</th>\n",
       "      <td>bakersfield sound</td>\n",
       "      <td>0.617508</td>\n",
       "      <td>0.638794</td>\n",
       "      <td>-7.945587</td>\n",
       "      <td>0.044605</td>\n",
       "      <td>0.287845</td>\n",
       "      <td>0.160629</td>\n",
       "      <td>0.645397</td>\n",
       "      <td>1</td>\n",
       "    </tr>\n",
       "    <tr>\n",
       "      <th>474</th>\n",
       "      <td>bubblegrunge</td>\n",
       "      <td>0.616167</td>\n",
       "      <td>0.637350</td>\n",
       "      <td>-8.041883</td>\n",
       "      <td>0.044283</td>\n",
       "      <td>0.276227</td>\n",
       "      <td>0.164397</td>\n",
       "      <td>0.650800</td>\n",
       "      <td>1</td>\n",
       "    </tr>\n",
       "    <tr>\n",
       "      <th>475</th>\n",
       "      <td>country boogie</td>\n",
       "      <td>0.614882</td>\n",
       "      <td>0.639529</td>\n",
       "      <td>-8.168961</td>\n",
       "      <td>0.045320</td>\n",
       "      <td>0.251584</td>\n",
       "      <td>0.164467</td>\n",
       "      <td>0.653686</td>\n",
       "      <td>1</td>\n",
       "    </tr>\n",
       "  </tbody>\n",
       "</table>\n",
       "<p>476 rows × 9 columns</p>\n",
       "</div>"
      ],
      "text/plain": [
       "            genre_name  danceability    energy  loudness  speechiness  \\\n",
       "0         classic rock      0.556515  0.631028 -9.100323     0.065706   \n",
       "1         country rock      0.556515  0.631028 -9.100323     0.065706   \n",
       "2                 folk      0.556515  0.631028 -9.100323     0.065706   \n",
       "3            folk rock      0.556515  0.631028 -9.100323     0.065706   \n",
       "4                 rock      0.556515  0.631028 -9.100323     0.065706   \n",
       "..                 ...           ...       ...       ...          ...   \n",
       "471         indie punk      0.610125  0.647937 -7.843422     0.046425   \n",
       "472         riot grrrl      0.612905  0.643317 -7.906889     0.045400   \n",
       "473  bakersfield sound      0.617508  0.638794 -7.945587     0.044605   \n",
       "474       bubblegrunge      0.616167  0.637350 -8.041883     0.044283   \n",
       "475     country boogie      0.614882  0.639529 -8.168961     0.045320   \n",
       "\n",
       "     acousticness  liveness   valence  genre_counts  \n",
       "0        0.275440  0.193187  0.590737           301  \n",
       "1        0.275440  0.193187  0.590737            65  \n",
       "2        0.275440  0.193187  0.590737            63  \n",
       "3        0.275440  0.193187  0.590737           121  \n",
       "4        0.275440  0.193187  0.590737           455  \n",
       "..            ...       ...       ...           ...  \n",
       "471      0.271573  0.158836  0.642484             1  \n",
       "472      0.275690  0.160383  0.643810             1  \n",
       "473      0.287845  0.160629  0.645397             1  \n",
       "474      0.276227  0.164397  0.650800             1  \n",
       "475      0.251584  0.164467  0.653686             1  \n",
       "\n",
       "[476 rows x 9 columns]"
      ]
     },
     "execution_count": 66,
     "metadata": {},
     "output_type": "execute_result"
    }
   ],
   "source": [
    "genre_test"
   ]
  },
  {
   "cell_type": "code",
   "execution_count": 68,
   "metadata": {},
   "outputs": [
    {
     "data": {
      "application/vnd.plotly.v1+json": {
       "config": {
        "plotlyServerURL": "https://plot.ly"
       },
       "data": [
        {
         "alignmentgroup": "True",
         "hovertemplate": "variable=valence<br>genre_name=%{x}<br>value=%{y}<extra></extra>",
         "legendgroup": "valence",
         "marker": {
          "color": "#636efa",
          "pattern": {
           "shape": ""
          }
         },
         "name": "valence",
         "offsetgroup": "valence",
         "orientation": "v",
         "showlegend": true,
         "textposition": "auto",
         "type": "bar",
         "x": [
          "rock",
          "classic rock",
          "permanent wave",
          "art rock",
          "psychedelic rock",
          "soul",
          "mellow gold",
          "alternative rock",
          "folk rock",
          "album rock"
         ],
         "xaxis": "x",
         "y": [
          0.5907372043769855,
          0.5907372043769855,
          0.5907742675608896,
          0.5903417878680383,
          0.5907120409604519,
          0.5909294803817604,
          0.5903779471724871,
          0.590233623291319,
          0.5907372043769855,
          0.5903417878680383
         ],
         "yaxis": "y"
        },
        {
         "alignmentgroup": "True",
         "hovertemplate": "variable=energy<br>genre_name=%{x}<br>value=%{y}<extra></extra>",
         "legendgroup": "energy",
         "marker": {
          "color": "#EF553B",
          "pattern": {
           "shape": ""
          }
         },
         "name": "energy",
         "offsetgroup": "energy",
         "orientation": "v",
         "showlegend": true,
         "textposition": "auto",
         "type": "bar",
         "x": [
          "rock",
          "classic rock",
          "permanent wave",
          "art rock",
          "psychedelic rock",
          "soul",
          "mellow gold",
          "alternative rock",
          "folk rock",
          "album rock"
         ],
         "xaxis": "x",
         "y": [
          0.6310277656194846,
          0.6310277656194846,
          0.6310528273914578,
          0.6313189641716922,
          0.630970925141243,
          0.6310909013785789,
          0.6314529906045028,
          0.6311734990236109,
          0.6310277656194846,
          0.6313189641716922
         ],
         "yaxis": "y"
        },
        {
         "alignmentgroup": "True",
         "hovertemplate": "variable=danceability<br>genre_name=%{x}<br>value=%{y}<extra></extra>",
         "legendgroup": "danceability",
         "marker": {
          "color": "#00cc96",
          "pattern": {
           "shape": ""
          }
         },
         "name": "danceability",
         "offsetgroup": "danceability",
         "orientation": "v",
         "showlegend": true,
         "textposition": "auto",
         "type": "bar",
         "x": [
          "rock",
          "classic rock",
          "permanent wave",
          "art rock",
          "psychedelic rock",
          "soul",
          "mellow gold",
          "alternative rock",
          "folk rock",
          "album rock"
         ],
         "xaxis": "x",
         "y": [
          0.5565152665019415,
          0.5565152665019415,
          0.5565157959759972,
          0.5565735189783612,
          0.5565410487288136,
          0.5567507069635914,
          0.5563980677184895,
          0.5567925616900408,
          0.5565152665019415,
          0.5565735189783612
         ],
         "yaxis": "y"
        },
        {
         "alignmentgroup": "True",
         "hovertemplate": "variable=acousticness<br>genre_name=%{x}<br>value=%{y}<extra></extra>",
         "legendgroup": "acousticness",
         "marker": {
          "color": "#ab63fa",
          "pattern": {
           "shape": ""
          }
         },
         "name": "acousticness",
         "offsetgroup": "acousticness",
         "orientation": "v",
         "showlegend": true,
         "textposition": "auto",
         "type": "bar",
         "x": [
          "rock",
          "classic rock",
          "permanent wave",
          "art rock",
          "psychedelic rock",
          "soul",
          "mellow gold",
          "alternative rock",
          "folk rock",
          "album rock"
         ],
         "xaxis": "x",
         "y": [
          0.27544008854747615,
          0.27544008854747615,
          0.2753110755224144,
          0.27550594705746717,
          0.2754082855773305,
          0.27532342338458815,
          0.27536641189682676,
          0.2755747526912835,
          0.27544008854747615,
          0.27550594705746717
         ],
         "yaxis": "y"
        }
       ],
       "layout": {
        "barmode": "group",
        "legend": {
         "title": {
          "text": "variable"
         },
         "tracegroupgap": 0
        },
        "margin": {
         "t": 60
        },
        "template": {
         "data": {
          "bar": [
           {
            "error_x": {
             "color": "#2a3f5f"
            },
            "error_y": {
             "color": "#2a3f5f"
            },
            "marker": {
             "line": {
              "color": "#E5ECF6",
              "width": 0.5
             },
             "pattern": {
              "fillmode": "overlay",
              "size": 10,
              "solidity": 0.2
             }
            },
            "type": "bar"
           }
          ],
          "barpolar": [
           {
            "marker": {
             "line": {
              "color": "#E5ECF6",
              "width": 0.5
             },
             "pattern": {
              "fillmode": "overlay",
              "size": 10,
              "solidity": 0.2
             }
            },
            "type": "barpolar"
           }
          ],
          "carpet": [
           {
            "aaxis": {
             "endlinecolor": "#2a3f5f",
             "gridcolor": "white",
             "linecolor": "white",
             "minorgridcolor": "white",
             "startlinecolor": "#2a3f5f"
            },
            "baxis": {
             "endlinecolor": "#2a3f5f",
             "gridcolor": "white",
             "linecolor": "white",
             "minorgridcolor": "white",
             "startlinecolor": "#2a3f5f"
            },
            "type": "carpet"
           }
          ],
          "choropleth": [
           {
            "colorbar": {
             "outlinewidth": 0,
             "ticks": ""
            },
            "type": "choropleth"
           }
          ],
          "contour": [
           {
            "colorbar": {
             "outlinewidth": 0,
             "ticks": ""
            },
            "colorscale": [
             [
              0,
              "#0d0887"
             ],
             [
              0.1111111111111111,
              "#46039f"
             ],
             [
              0.2222222222222222,
              "#7201a8"
             ],
             [
              0.3333333333333333,
              "#9c179e"
             ],
             [
              0.4444444444444444,
              "#bd3786"
             ],
             [
              0.5555555555555556,
              "#d8576b"
             ],
             [
              0.6666666666666666,
              "#ed7953"
             ],
             [
              0.7777777777777778,
              "#fb9f3a"
             ],
             [
              0.8888888888888888,
              "#fdca26"
             ],
             [
              1,
              "#f0f921"
             ]
            ],
            "type": "contour"
           }
          ],
          "contourcarpet": [
           {
            "colorbar": {
             "outlinewidth": 0,
             "ticks": ""
            },
            "type": "contourcarpet"
           }
          ],
          "heatmap": [
           {
            "colorbar": {
             "outlinewidth": 0,
             "ticks": ""
            },
            "colorscale": [
             [
              0,
              "#0d0887"
             ],
             [
              0.1111111111111111,
              "#46039f"
             ],
             [
              0.2222222222222222,
              "#7201a8"
             ],
             [
              0.3333333333333333,
              "#9c179e"
             ],
             [
              0.4444444444444444,
              "#bd3786"
             ],
             [
              0.5555555555555556,
              "#d8576b"
             ],
             [
              0.6666666666666666,
              "#ed7953"
             ],
             [
              0.7777777777777778,
              "#fb9f3a"
             ],
             [
              0.8888888888888888,
              "#fdca26"
             ],
             [
              1,
              "#f0f921"
             ]
            ],
            "type": "heatmap"
           }
          ],
          "heatmapgl": [
           {
            "colorbar": {
             "outlinewidth": 0,
             "ticks": ""
            },
            "colorscale": [
             [
              0,
              "#0d0887"
             ],
             [
              0.1111111111111111,
              "#46039f"
             ],
             [
              0.2222222222222222,
              "#7201a8"
             ],
             [
              0.3333333333333333,
              "#9c179e"
             ],
             [
              0.4444444444444444,
              "#bd3786"
             ],
             [
              0.5555555555555556,
              "#d8576b"
             ],
             [
              0.6666666666666666,
              "#ed7953"
             ],
             [
              0.7777777777777778,
              "#fb9f3a"
             ],
             [
              0.8888888888888888,
              "#fdca26"
             ],
             [
              1,
              "#f0f921"
             ]
            ],
            "type": "heatmapgl"
           }
          ],
          "histogram": [
           {
            "marker": {
             "pattern": {
              "fillmode": "overlay",
              "size": 10,
              "solidity": 0.2
             }
            },
            "type": "histogram"
           }
          ],
          "histogram2d": [
           {
            "colorbar": {
             "outlinewidth": 0,
             "ticks": ""
            },
            "colorscale": [
             [
              0,
              "#0d0887"
             ],
             [
              0.1111111111111111,
              "#46039f"
             ],
             [
              0.2222222222222222,
              "#7201a8"
             ],
             [
              0.3333333333333333,
              "#9c179e"
             ],
             [
              0.4444444444444444,
              "#bd3786"
             ],
             [
              0.5555555555555556,
              "#d8576b"
             ],
             [
              0.6666666666666666,
              "#ed7953"
             ],
             [
              0.7777777777777778,
              "#fb9f3a"
             ],
             [
              0.8888888888888888,
              "#fdca26"
             ],
             [
              1,
              "#f0f921"
             ]
            ],
            "type": "histogram2d"
           }
          ],
          "histogram2dcontour": [
           {
            "colorbar": {
             "outlinewidth": 0,
             "ticks": ""
            },
            "colorscale": [
             [
              0,
              "#0d0887"
             ],
             [
              0.1111111111111111,
              "#46039f"
             ],
             [
              0.2222222222222222,
              "#7201a8"
             ],
             [
              0.3333333333333333,
              "#9c179e"
             ],
             [
              0.4444444444444444,
              "#bd3786"
             ],
             [
              0.5555555555555556,
              "#d8576b"
             ],
             [
              0.6666666666666666,
              "#ed7953"
             ],
             [
              0.7777777777777778,
              "#fb9f3a"
             ],
             [
              0.8888888888888888,
              "#fdca26"
             ],
             [
              1,
              "#f0f921"
             ]
            ],
            "type": "histogram2dcontour"
           }
          ],
          "mesh3d": [
           {
            "colorbar": {
             "outlinewidth": 0,
             "ticks": ""
            },
            "type": "mesh3d"
           }
          ],
          "parcoords": [
           {
            "line": {
             "colorbar": {
              "outlinewidth": 0,
              "ticks": ""
             }
            },
            "type": "parcoords"
           }
          ],
          "pie": [
           {
            "automargin": true,
            "type": "pie"
           }
          ],
          "scatter": [
           {
            "fillpattern": {
             "fillmode": "overlay",
             "size": 10,
             "solidity": 0.2
            },
            "type": "scatter"
           }
          ],
          "scatter3d": [
           {
            "line": {
             "colorbar": {
              "outlinewidth": 0,
              "ticks": ""
             }
            },
            "marker": {
             "colorbar": {
              "outlinewidth": 0,
              "ticks": ""
             }
            },
            "type": "scatter3d"
           }
          ],
          "scattercarpet": [
           {
            "marker": {
             "colorbar": {
              "outlinewidth": 0,
              "ticks": ""
             }
            },
            "type": "scattercarpet"
           }
          ],
          "scattergeo": [
           {
            "marker": {
             "colorbar": {
              "outlinewidth": 0,
              "ticks": ""
             }
            },
            "type": "scattergeo"
           }
          ],
          "scattergl": [
           {
            "marker": {
             "colorbar": {
              "outlinewidth": 0,
              "ticks": ""
             }
            },
            "type": "scattergl"
           }
          ],
          "scattermapbox": [
           {
            "marker": {
             "colorbar": {
              "outlinewidth": 0,
              "ticks": ""
             }
            },
            "type": "scattermapbox"
           }
          ],
          "scatterpolar": [
           {
            "marker": {
             "colorbar": {
              "outlinewidth": 0,
              "ticks": ""
             }
            },
            "type": "scatterpolar"
           }
          ],
          "scatterpolargl": [
           {
            "marker": {
             "colorbar": {
              "outlinewidth": 0,
              "ticks": ""
             }
            },
            "type": "scatterpolargl"
           }
          ],
          "scatterternary": [
           {
            "marker": {
             "colorbar": {
              "outlinewidth": 0,
              "ticks": ""
             }
            },
            "type": "scatterternary"
           }
          ],
          "surface": [
           {
            "colorbar": {
             "outlinewidth": 0,
             "ticks": ""
            },
            "colorscale": [
             [
              0,
              "#0d0887"
             ],
             [
              0.1111111111111111,
              "#46039f"
             ],
             [
              0.2222222222222222,
              "#7201a8"
             ],
             [
              0.3333333333333333,
              "#9c179e"
             ],
             [
              0.4444444444444444,
              "#bd3786"
             ],
             [
              0.5555555555555556,
              "#d8576b"
             ],
             [
              0.6666666666666666,
              "#ed7953"
             ],
             [
              0.7777777777777778,
              "#fb9f3a"
             ],
             [
              0.8888888888888888,
              "#fdca26"
             ],
             [
              1,
              "#f0f921"
             ]
            ],
            "type": "surface"
           }
          ],
          "table": [
           {
            "cells": {
             "fill": {
              "color": "#EBF0F8"
             },
             "line": {
              "color": "white"
             }
            },
            "header": {
             "fill": {
              "color": "#C8D4E3"
             },
             "line": {
              "color": "white"
             }
            },
            "type": "table"
           }
          ]
         },
         "layout": {
          "annotationdefaults": {
           "arrowcolor": "#2a3f5f",
           "arrowhead": 0,
           "arrowwidth": 1
          },
          "autotypenumbers": "strict",
          "coloraxis": {
           "colorbar": {
            "outlinewidth": 0,
            "ticks": ""
           }
          },
          "colorscale": {
           "diverging": [
            [
             0,
             "#8e0152"
            ],
            [
             0.1,
             "#c51b7d"
            ],
            [
             0.2,
             "#de77ae"
            ],
            [
             0.3,
             "#f1b6da"
            ],
            [
             0.4,
             "#fde0ef"
            ],
            [
             0.5,
             "#f7f7f7"
            ],
            [
             0.6,
             "#e6f5d0"
            ],
            [
             0.7,
             "#b8e186"
            ],
            [
             0.8,
             "#7fbc41"
            ],
            [
             0.9,
             "#4d9221"
            ],
            [
             1,
             "#276419"
            ]
           ],
           "sequential": [
            [
             0,
             "#0d0887"
            ],
            [
             0.1111111111111111,
             "#46039f"
            ],
            [
             0.2222222222222222,
             "#7201a8"
            ],
            [
             0.3333333333333333,
             "#9c179e"
            ],
            [
             0.4444444444444444,
             "#bd3786"
            ],
            [
             0.5555555555555556,
             "#d8576b"
            ],
            [
             0.6666666666666666,
             "#ed7953"
            ],
            [
             0.7777777777777778,
             "#fb9f3a"
            ],
            [
             0.8888888888888888,
             "#fdca26"
            ],
            [
             1,
             "#f0f921"
            ]
           ],
           "sequentialminus": [
            [
             0,
             "#0d0887"
            ],
            [
             0.1111111111111111,
             "#46039f"
            ],
            [
             0.2222222222222222,
             "#7201a8"
            ],
            [
             0.3333333333333333,
             "#9c179e"
            ],
            [
             0.4444444444444444,
             "#bd3786"
            ],
            [
             0.5555555555555556,
             "#d8576b"
            ],
            [
             0.6666666666666666,
             "#ed7953"
            ],
            [
             0.7777777777777778,
             "#fb9f3a"
            ],
            [
             0.8888888888888888,
             "#fdca26"
            ],
            [
             1,
             "#f0f921"
            ]
           ]
          },
          "colorway": [
           "#636efa",
           "#EF553B",
           "#00cc96",
           "#ab63fa",
           "#FFA15A",
           "#19d3f3",
           "#FF6692",
           "#B6E880",
           "#FF97FF",
           "#FECB52"
          ],
          "font": {
           "color": "#2a3f5f"
          },
          "geo": {
           "bgcolor": "white",
           "lakecolor": "white",
           "landcolor": "#E5ECF6",
           "showlakes": true,
           "showland": true,
           "subunitcolor": "white"
          },
          "hoverlabel": {
           "align": "left"
          },
          "hovermode": "closest",
          "mapbox": {
           "style": "light"
          },
          "paper_bgcolor": "white",
          "plot_bgcolor": "#E5ECF6",
          "polar": {
           "angularaxis": {
            "gridcolor": "white",
            "linecolor": "white",
            "ticks": ""
           },
           "bgcolor": "#E5ECF6",
           "radialaxis": {
            "gridcolor": "white",
            "linecolor": "white",
            "ticks": ""
           }
          },
          "scene": {
           "xaxis": {
            "backgroundcolor": "#E5ECF6",
            "gridcolor": "white",
            "gridwidth": 2,
            "linecolor": "white",
            "showbackground": true,
            "ticks": "",
            "zerolinecolor": "white"
           },
           "yaxis": {
            "backgroundcolor": "#E5ECF6",
            "gridcolor": "white",
            "gridwidth": 2,
            "linecolor": "white",
            "showbackground": true,
            "ticks": "",
            "zerolinecolor": "white"
           },
           "zaxis": {
            "backgroundcolor": "#E5ECF6",
            "gridcolor": "white",
            "gridwidth": 2,
            "linecolor": "white",
            "showbackground": true,
            "ticks": "",
            "zerolinecolor": "white"
           }
          },
          "shapedefaults": {
           "line": {
            "color": "#2a3f5f"
           }
          },
          "ternary": {
           "aaxis": {
            "gridcolor": "white",
            "linecolor": "white",
            "ticks": ""
           },
           "baxis": {
            "gridcolor": "white",
            "linecolor": "white",
            "ticks": ""
           },
           "bgcolor": "#E5ECF6",
           "caxis": {
            "gridcolor": "white",
            "linecolor": "white",
            "ticks": ""
           }
          },
          "title": {
           "x": 0.05
          },
          "xaxis": {
           "automargin": true,
           "gridcolor": "white",
           "linecolor": "white",
           "ticks": "",
           "title": {
            "standoff": 15
           },
           "zerolinecolor": "white",
           "zerolinewidth": 2
          },
          "yaxis": {
           "automargin": true,
           "gridcolor": "white",
           "linecolor": "white",
           "ticks": "",
           "title": {
            "standoff": 15
           },
           "zerolinecolor": "white",
           "zerolinewidth": 2
          }
         }
        },
        "xaxis": {
         "anchor": "y",
         "domain": [
          0,
          1
         ],
         "title": {
          "text": "genre_name"
         }
        },
        "yaxis": {
         "anchor": "x",
         "domain": [
          0,
          1
         ],
         "dtick": 0.2,
         "tick0": 0,
         "tickmode": "linear",
         "title": {
          "text": "value"
         }
        }
       }
      }
     },
     "metadata": {},
     "output_type": "display_data"
    }
   ],
   "source": [
    "top10_genres = genre_test.nlargest(10, 'genre_counts')\n",
    "\n",
    "fig = px.bar(top10_genres, x='genre_name', y=['valence', 'energy', 'danceability', 'acousticness'], barmode='group')\n",
    "\n",
    "\n",
    "fig.update_layout(\n",
    "    yaxis = dict(\n",
    "        tickmode = 'linear',\n",
    "        tick0 = 0,\n",
    "        dtick = 0.2\n",
    "    )\n",
    ")\n",
    "fig.show()"
   ]
  },
  {
   "cell_type": "code",
   "execution_count": null,
   "metadata": {},
   "outputs": [],
   "source": []
  }
 ],
 "metadata": {
  "kernelspec": {
   "display_name": "Python 3.11.0 64-bit",
   "language": "python",
   "name": "python3"
  },
  "language_info": {
   "codemirror_mode": {
    "name": "ipython",
    "version": 3
   },
   "file_extension": ".py",
   "mimetype": "text/x-python",
   "name": "python",
   "nbconvert_exporter": "python",
   "pygments_lexer": "ipython3",
   "version": "3.11.0"
  },
  "orig_nbformat": 4,
  "vscode": {
   "interpreter": {
    "hash": "c261aea317cc0286b3b3261fbba9abdec21eaa57589985bb7a274bf54d6cc0a7"
   }
  }
 },
 "nbformat": 4,
 "nbformat_minor": 2
}
