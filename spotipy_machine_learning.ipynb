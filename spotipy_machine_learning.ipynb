{
 "cells": [
  {
   "cell_type": "code",
   "execution_count": 1,
   "metadata": {},
   "outputs": [],
   "source": [
    "import os\n",
    "import numpy as np\n",
    "import pandas as pd\n",
    "\n",
    "import seaborn as sns\n",
    "import plotly.express as px \n",
    "import matplotlib.pyplot as plt\n",
    "\n",
    "from sklearn.cluster import KMeans\n",
    "from sklearn.preprocessing import StandardScaler\n",
    "from sklearn.pipeline import Pipeline\n",
    "from sklearn.manifold import TSNE\n",
    "from sklearn.decomposition import PCA\n",
    "from sklearn.metrics import euclidean_distances\n",
    "from scipy.spatial.distance import cdist\n",
    "\n",
    "import warnings\n",
    "warnings.filterwarnings(\"ignore\")"
   ]
  },
  {
   "cell_type": "code",
   "execution_count": 41,
   "metadata": {},
   "outputs": [
    {
     "data": {
      "text/html": [
       "<div>\n",
       "<style scoped>\n",
       "    .dataframe tbody tr th:only-of-type {\n",
       "        vertical-align: middle;\n",
       "    }\n",
       "\n",
       "    .dataframe tbody tr th {\n",
       "        vertical-align: top;\n",
       "    }\n",
       "\n",
       "    .dataframe thead th {\n",
       "        text-align: right;\n",
       "    }\n",
       "</style>\n",
       "<table border=\"1\" class=\"dataframe\">\n",
       "  <thead>\n",
       "    <tr style=\"text-align: right;\">\n",
       "      <th></th>\n",
       "      <th>Unnamed: 0</th>\n",
       "      <th>danceability</th>\n",
       "      <th>energy</th>\n",
       "      <th>key</th>\n",
       "      <th>loudness</th>\n",
       "      <th>mode</th>\n",
       "      <th>speechiness</th>\n",
       "      <th>acousticness</th>\n",
       "      <th>instrumentalness</th>\n",
       "      <th>liveness</th>\n",
       "      <th>...</th>\n",
       "      <th>uri</th>\n",
       "      <th>track_href</th>\n",
       "      <th>analysis_url</th>\n",
       "      <th>duration_ms</th>\n",
       "      <th>time_signature</th>\n",
       "      <th>song_name</th>\n",
       "      <th>artist_name</th>\n",
       "      <th>artist_genres</th>\n",
       "      <th>artist_pop</th>\n",
       "      <th>song_popularity</th>\n",
       "    </tr>\n",
       "  </thead>\n",
       "  <tbody>\n",
       "    <tr>\n",
       "      <th>0</th>\n",
       "      <td>0</td>\n",
       "      <td>0.482</td>\n",
       "      <td>0.721</td>\n",
       "      <td>0</td>\n",
       "      <td>-6.839</td>\n",
       "      <td>1</td>\n",
       "      <td>0.0321</td>\n",
       "      <td>0.731000</td>\n",
       "      <td>0.000000</td>\n",
       "      <td>0.1890</td>\n",
       "      <td>...</td>\n",
       "      <td>spotify:track:3AhXZa8sUQht0UEdBJgpGc</td>\n",
       "      <td>https://api.spotify.com/v1/tracks/3AhXZa8sUQht...</td>\n",
       "      <td>https://api.spotify.com/v1/audio-analysis/3AhX...</td>\n",
       "      <td>369600</td>\n",
       "      <td>4</td>\n",
       "      <td>Like a Rolling Stone</td>\n",
       "      <td>Bob Dylan</td>\n",
       "      <td>['classic rock', 'country rock', 'folk', 'folk...</td>\n",
       "      <td>72</td>\n",
       "      <td>68</td>\n",
       "    </tr>\n",
       "    <tr>\n",
       "      <th>1</th>\n",
       "      <td>1</td>\n",
       "      <td>0.485</td>\n",
       "      <td>0.863</td>\n",
       "      <td>1</td>\n",
       "      <td>-9.027</td>\n",
       "      <td>1</td>\n",
       "      <td>0.0495</td>\n",
       "      <td>0.000012</td>\n",
       "      <td>0.016200</td>\n",
       "      <td>0.1380</td>\n",
       "      <td>...</td>\n",
       "      <td>spotify:track:3oTlkzk1OtrhH8wBAduVEi</td>\n",
       "      <td>https://api.spotify.com/v1/tracks/3oTlkzk1Otrh...</td>\n",
       "      <td>https://api.spotify.com/v1/audio-analysis/3oTl...</td>\n",
       "      <td>300977</td>\n",
       "      <td>4</td>\n",
       "      <td>Smells Like Teen Spirit</td>\n",
       "      <td>Nirvana</td>\n",
       "      <td>['grunge', 'permanent wave', 'rock']</td>\n",
       "      <td>82</td>\n",
       "      <td>0</td>\n",
       "    </tr>\n",
       "    <tr>\n",
       "      <th>2</th>\n",
       "      <td>2</td>\n",
       "      <td>0.364</td>\n",
       "      <td>0.457</td>\n",
       "      <td>4</td>\n",
       "      <td>-14.162</td>\n",
       "      <td>0</td>\n",
       "      <td>0.0675</td>\n",
       "      <td>0.290000</td>\n",
       "      <td>0.000106</td>\n",
       "      <td>0.9220</td>\n",
       "      <td>...</td>\n",
       "      <td>spotify:track:3ZFBeIyP41HhnALjxWy1pR</td>\n",
       "      <td>https://api.spotify.com/v1/tracks/3ZFBeIyP41Hh...</td>\n",
       "      <td>https://api.spotify.com/v1/audio-analysis/3ZFB...</td>\n",
       "      <td>337413</td>\n",
       "      <td>4</td>\n",
       "      <td>A Day In The Life - Remastered</td>\n",
       "      <td>The Beatles</td>\n",
       "      <td>['beatlesque', 'british invasion', 'classic ro...</td>\n",
       "      <td>84</td>\n",
       "      <td>0</td>\n",
       "    </tr>\n",
       "    <tr>\n",
       "      <th>3</th>\n",
       "      <td>3</td>\n",
       "      <td>0.398</td>\n",
       "      <td>0.413</td>\n",
       "      <td>1</td>\n",
       "      <td>-10.934</td>\n",
       "      <td>1</td>\n",
       "      <td>0.0388</td>\n",
       "      <td>0.082200</td>\n",
       "      <td>0.000025</td>\n",
       "      <td>0.0891</td>\n",
       "      <td>...</td>\n",
       "      <td>spotify:track:5Qt4Cc66g24QWwGP3YYV9y</td>\n",
       "      <td>https://api.spotify.com/v1/tracks/5Qt4Cc66g24Q...</td>\n",
       "      <td>https://api.spotify.com/v1/audio-analysis/5Qt4...</td>\n",
       "      <td>219147</td>\n",
       "      <td>4</td>\n",
       "      <td>Good Vibrations (Mono)</td>\n",
       "      <td>The Beach Boys</td>\n",
       "      <td>['baroque pop', 'classic rock', 'psychedelic r...</td>\n",
       "      <td>78</td>\n",
       "      <td>20</td>\n",
       "    </tr>\n",
       "    <tr>\n",
       "      <th>4</th>\n",
       "      <td>4</td>\n",
       "      <td>0.518</td>\n",
       "      <td>0.756</td>\n",
       "      <td>10</td>\n",
       "      <td>-10.851</td>\n",
       "      <td>1</td>\n",
       "      <td>0.0915</td>\n",
       "      <td>0.735000</td>\n",
       "      <td>0.000062</td>\n",
       "      <td>0.3170</td>\n",
       "      <td>...</td>\n",
       "      <td>spotify:track:7MH2ZclofPlTrZOkPzZKhK</td>\n",
       "      <td>https://api.spotify.com/v1/tracks/7MH2ZclofPlT...</td>\n",
       "      <td>https://api.spotify.com/v1/audio-analysis/7MH2...</td>\n",
       "      <td>160893</td>\n",
       "      <td>4</td>\n",
       "      <td>Johnny B Goode</td>\n",
       "      <td>Chuck Berry</td>\n",
       "      <td>['classic rock', 'rock', 'rock-and-roll', 'roc...</td>\n",
       "      <td>75</td>\n",
       "      <td>0</td>\n",
       "    </tr>\n",
       "  </tbody>\n",
       "</table>\n",
       "<p>5 rows × 24 columns</p>\n",
       "</div>"
      ],
      "text/plain": [
       "   Unnamed: 0  danceability  energy  key  loudness  mode  speechiness  \\\n",
       "0           0         0.482   0.721    0    -6.839     1       0.0321   \n",
       "1           1         0.485   0.863    1    -9.027     1       0.0495   \n",
       "2           2         0.364   0.457    4   -14.162     0       0.0675   \n",
       "3           3         0.398   0.413    1   -10.934     1       0.0388   \n",
       "4           4         0.518   0.756   10   -10.851     1       0.0915   \n",
       "\n",
       "   acousticness  instrumentalness  liveness  ...  \\\n",
       "0      0.731000          0.000000    0.1890  ...   \n",
       "1      0.000012          0.016200    0.1380  ...   \n",
       "2      0.290000          0.000106    0.9220  ...   \n",
       "3      0.082200          0.000025    0.0891  ...   \n",
       "4      0.735000          0.000062    0.3170  ...   \n",
       "\n",
       "                                    uri  \\\n",
       "0  spotify:track:3AhXZa8sUQht0UEdBJgpGc   \n",
       "1  spotify:track:3oTlkzk1OtrhH8wBAduVEi   \n",
       "2  spotify:track:3ZFBeIyP41HhnALjxWy1pR   \n",
       "3  spotify:track:5Qt4Cc66g24QWwGP3YYV9y   \n",
       "4  spotify:track:7MH2ZclofPlTrZOkPzZKhK   \n",
       "\n",
       "                                          track_href  \\\n",
       "0  https://api.spotify.com/v1/tracks/3AhXZa8sUQht...   \n",
       "1  https://api.spotify.com/v1/tracks/3oTlkzk1Otrh...   \n",
       "2  https://api.spotify.com/v1/tracks/3ZFBeIyP41Hh...   \n",
       "3  https://api.spotify.com/v1/tracks/5Qt4Cc66g24Q...   \n",
       "4  https://api.spotify.com/v1/tracks/7MH2ZclofPlT...   \n",
       "\n",
       "                                        analysis_url duration_ms  \\\n",
       "0  https://api.spotify.com/v1/audio-analysis/3AhX...      369600   \n",
       "1  https://api.spotify.com/v1/audio-analysis/3oTl...      300977   \n",
       "2  https://api.spotify.com/v1/audio-analysis/3ZFB...      337413   \n",
       "3  https://api.spotify.com/v1/audio-analysis/5Qt4...      219147   \n",
       "4  https://api.spotify.com/v1/audio-analysis/7MH2...      160893   \n",
       "\n",
       "  time_signature                       song_name     artist_name  \\\n",
       "0              4            Like a Rolling Stone       Bob Dylan   \n",
       "1              4         Smells Like Teen Spirit         Nirvana   \n",
       "2              4  A Day In The Life - Remastered     The Beatles   \n",
       "3              4          Good Vibrations (Mono)  The Beach Boys   \n",
       "4              4                  Johnny B Goode     Chuck Berry   \n",
       "\n",
       "                                       artist_genres  artist_pop  \\\n",
       "0  ['classic rock', 'country rock', 'folk', 'folk...          72   \n",
       "1               ['grunge', 'permanent wave', 'rock']          82   \n",
       "2  ['beatlesque', 'british invasion', 'classic ro...          84   \n",
       "3  ['baroque pop', 'classic rock', 'psychedelic r...          78   \n",
       "4  ['classic rock', 'rock', 'rock-and-roll', 'roc...          75   \n",
       "\n",
       "  song_popularity  \n",
       "0              68  \n",
       "1               0  \n",
       "2               0  \n",
       "3              20  \n",
       "4               0  \n",
       "\n",
       "[5 rows x 24 columns]"
      ]
     },
     "execution_count": 41,
     "metadata": {},
     "output_type": "execute_result"
    }
   ],
   "source": [
    "data = pd.read_csv('./data/sample_music')\n",
    "data.head()"
   ]
  },
  {
   "cell_type": "code",
   "execution_count": 42,
   "metadata": {},
   "outputs": [],
   "source": [
    "data.drop(columns='Unnamed: 0',inplace=True)"
   ]
  },
  {
   "cell_type": "code",
   "execution_count": 43,
   "metadata": {},
   "outputs": [],
   "source": [
    "#function to turn artist genres string to list\n",
    "def genre_list(self):\n",
    "    split = self.strip().split(',')\n",
    "    clean = [x.strip(\" [']\") for x in split]\n",
    "    return clean"
   ]
  },
  {
   "cell_type": "code",
   "execution_count": 44,
   "metadata": {},
   "outputs": [],
   "source": [
    "# convert the df to list\n",
    "data['artist_genres'] = data['artist_genres'].apply(lambda x: genre_list(x))"
   ]
  },
  {
   "cell_type": "code",
   "execution_count": 60,
   "metadata": {},
   "outputs": [
    {
     "name": "stdout",
     "output_type": "stream",
     "text": [
      "{'classic rock': 301, 'country rock': 65, 'folk': 63, 'folk rock': 121, 'rock': 455, 'roots rock': 58, 'singer-songwriter': 71, 'grunge': 12, 'permanent wave': 185, 'beatlesque': 54, 'british invasion': 74, 'merseybeat': 47, 'psychedelic rock': 129, 'baroque pop': 28, 'sunshine pop': 17, 'rock-and-roll': 94, 'rockabilly': 65, 'classic soul': 66, 'jazz blues': 18, 'memphis soul': 22, 'soul': 127, 'southern soul': 30, 'adult standards': 83, 'brill building pop': 9, 'classic girl group': 14, 'funk': 72, 'indie r&b': 7, 'motown': 37, 'northern soul': 10, 'quiet storm': 43, 'pop': 55, 'r&b': 24, 'heartland rock': 17, 'mellow gold': 123, 'album rock': 102, 'art rock': 145, 'blues rock': 71, 'hard rock': 62, 'alternative rock': 122, 'madchester': 26, 'new wave': 79, 'post-punk': 40, 'uk post-punk': 21, 'soul blues': 14, 'atl hip hop': 14, 'dirty south rap': 6, 'hip hop': 68, 'old school atlanta hip hop': 3, 'pop rap': 16, 'rap': 70, 'southern hip hop': 10, 'punk': 47, 'dance pop': 65, 'indietronica': 20, 'new rave': 38, 'bronx hip hop': 4, 'electro': 15, 'old school hip hop': 19, 'piano blues': 7, 'vocal jazz': 21, 'glam rock': 45, 'funk rock': 18, 'minneapolis sound': 6, 'synth funk': 7, 'britpop': 22, 'indie rock': 69, 'pop rock': 47, 'sheffield indie': 3, 'harlem renaissance': 11, 'jazz': 20, 'lounge': 30, 'torch song': 5, 'protopunk': 34, 'detroit rock': 8, 'garage rock': 14, 'modern blues rock': 3, 'modern rock': 70, 'punk blues': 11, 'athens indie': 5, 'dance rock': 33, 'new romantic': 38, 'new wave pop': 55, 'synthpop': 27, 'acid rock': 15, 'proto-metal': 8, 'classic garage rock': 11, 'neo soul': 16, 'bubblegum pop': 41, 'scottish rock': 1, 'hip pop': 15, 'urban contemporary': 23, 'virginia hip hop': 3, 'disco': 35, 'hi-nrg': 4, 'cosmic american': 7, 'soft rock': 65, 'shoegaze': 7, 'blues': 24, 'british blues': 5, 'electric blues': 14, 'symphonic rock': 19, 'downtempo': 4, 'electronica': 36, 'trip hop': 11, 'anti-folk': 10, 'conscious hip hop': 19, 'east coast hip hop': 26, 'gangster rap': 24, 'golden age hip hop': 15, 'hardcore hip hop': 19, 'political hip hop': 7, 'rap rock': 8, 'art punk': 10, 'zolo': 11, 'melancholia': 41, 'oxford indie': 8, 'west coast rap': 12, 'yacht rock': 7, 'art pop': 40, 'electropop': 23, 'europop': 11, 'scandipop': 3, 'swedish electropop': 4, 'swedish pop': 5, 'alternative dance': 36, 'dance-punk': 9, 'electronic rock': 6, 'early us punk': 6, 'canadian electropop': 1, 'grave wave': 1, 'metropopolis': 8, 'lilith': 3, 'glam metal': 6, 'classic canadian rock': 10, 'swamp rock': 7, 'chicago rap': 7, 'ska': 12, 'ska revival': 3, 'nz pop': 2, 'filter house': 7, 'piano rock': 11, 'irish rock': 9, 'post-disco': 9, 'lgbtq+ hip hop': 5, 'british soul': 3, 'hip house': 7, 'new jersey rap': 4, 'southern rock': 9, 'reggae': 9, 'roots reggae': 8, 'progressive rock': 10, 'french shoegaze': 1, 'french synthpop': 1, 'neo-synthpop': 6, 'honky tonk': 3, 'traditional country': 6, 'yodeling': 4, 'big beat': 9, 'instrumental funk': 2, 'instrumental soul': 1, 'barbadian pop': 3, 'doo-wop': 13, 'rhythm and blues': 25, 'baltimore indie': 3, 'chillwave': 8, 'birmingham metal': 3, 'metal': 13, 'stoner rock': 4, 'uk doom metal': 3, 'candy pop': 6, 'power pop': 16, 'queens hip hop': 6, 'experimental': 9, 'no wave': 2, 'canadian hip hop': 2, 'canadian pop': 7, 'toronto rap': 2, '': 7, 'american folk revival': 2, 'appalachian folk': 5, 'old-time': 3, 'protest folk': 1, 'traditional blues': 25, 'traditional folk': 5, 'australian psych': 2, 'neo-psychedelic': 4, 'afrofuturism': 7, 'alternative r&b': 9, 'escape room': 11, 'indie soul': 4, 'g funk': 6, 'psychedelic soul': 5, 'australian dance': 3, 'australian pop': 2, 'eurodance': 1, 'brooklyn indie': 7, 'indie pop': 19, 'dusseldorf electronic': 3, 'early synthpop': 4, 'proto-techno': 3, 'dream pop': 21, 'experimental pop': 7, 'freak folk': 1, 'noise pop': 12, 'electroclash': 4, 'arkansas country': 5, 'outlaw country': 4, 'mod revival': 5, 'northern irish punk': 1, 'pub rock': 19, 'louisiana blues': 3, 'new orleans blues': 3, 'nashville sound': 6, 'chicago blues': 10, 'chicago soul': 6, 'sophisti-pop': 7, 'experimental r&b': 2, 'boston rock': 6, 'pop soul': 1, 'uk pop': 2, 'alternative metal': 7, 'spacegrunge': 1, 'bossa nova': 2, 'cool jazz': 4, 'jazz saxophone': 5, 'latin jazz': 1, 'samba-jazz': 1, 'freakbeat': 7, 'classic country pop': 3, 'supergroup': 3, 'canadian indie': 7, 'quebec indie': 5, 'classic uk pop': 6, 'detroit hip hop': 4, 'trap queen': 2, 'breakbeat': 3, 'hardcore techno': 2, 'rave': 3, 'new weird america': 2, 'stomp and holler': 6, 'alternative pop': 6, 'lo-fi': 5, 'acoustic blues': 6, 'delta blues': 9, 'pre-war blues': 4, 'australian rock': 5, 'jazz funk': 3, 'boogie-woogie': 1, 'jump blues': 1, 'canadian singer-songwriter': 15, 'ambient': 1, 'braindance': 1, 'intelligent dance music': 5, 'uk experimental electronic': 1, 'gothenburg indie': 1, 'swedish synthpop': 1, 'chanson': 3, 'vintage schlager': 1, 'old school thrash': 2, 'thrash metal': 2, 'french rock': 1, 'chicano punk': 1, 'speed metal': 1, 'noise rock': 4, 'native american': 1, 'surf music': 5, 'nu disco': 1, 'funk metal': 3, 'nu metal': 5, 'rap metal': 1, 'swedish alternative rock': 1, 'swedish indie pop': 1, 'chamber pop': 9, 'new jersey indie': 1, 'double drumming': 4, 'washington indie': 1, 'easy listening': 8, 'hot jazz': 2, 'new orleans jazz': 2, 'okc indie': 2, 'bebop': 8, 'big band': 11, 'stride': 5, 'swing': 14, 'rock independant francais': 2, 'classic dubstep': 1, 'hauntology': 1, 'microhouse': 1, 'uk bass': 1, 'wonky': 1, 'british folk': 5, 'palm desert scene': 1, 'stoner metal': 1, 'scottish indie': 2, 'jazz piano': 6, 'jazz trio': 1, 'memphis blues': 4, 'dark pop': 5, 'laboratorio': 5, 'p funk': 3, 'post-teen pop': 4, 'talent show': 1, 'country': 4, 'country dawn': 2, 'acoustic punk': 1, 'hardcore punk': 3, 'contemporary post-bop': 2, 'hard bop': 2, 'jazz quartet': 2, 'australian indie': 1, 'melbourne indie': 1, 'alternative hip hop': 7, 'bboy': 1, 'seattle indie': 4, 'bow pop': 1, 'experimental vocal': 2, 'future garage': 2, 'contemporary r&b': 6, 'girl group': 5, 'albuquerque indie': 1, 'portland indie': 1, 'gothic rock': 3, 'eau claire indie': 2, 'indie folk': 5, 'post-hardcore': 2, 'chamber psych': 3, 'afrobeat': 2, 'afropop': 2, 'world': 2, 'electro house': 2, 'philly rap': 1, 'jangle pop': 2, 'harmonica blues': 2, 'glam punk': 2, 'indie garage rock': 1, 'la indie': 2, 'texas blues': 4, 'cyberpunk': 2, 'industrial': 2, 'industrial metal': 2, 'industrial rock': 2, 'minnesota hip hop': 1, 'jazz fusion': 3, 'jazz trumpet': 4, 'uk contemporary jazz': 2, 'small room': 1, 'post-grunge': 1, 'dc hardcore': 1, 'dub': 4, 'belgian singer-songwriter': 1, 'french pop': 1, 'australian alternative rock': 1, 'collage pop': 2, 'psychedelic hip hop': 1, 'rock drums': 1, 'alternative americana': 1, 'garage rock revival': 2, 'swedish garage rock': 1, 'swedish hard rock': 1, 'swedish indie rock': 1, 'r&b en espanol': 1, 'folktronica': 2, 'bedroom pop': 1, 'jazz trombone': 1, 'celtic punk': 1, 'celtic rock': 1, 'folk punk': 2, 'slowcore': 1, 'gospel': 1, 'spirituals': 1, 'modern alternative rock': 2, 'vancouver indie': 1, 'vancouver punk': 1, 'dixieland': 2, 'alternative country': 1, 'chicago indie': 1, 'brighton indie': 1, 'etherpop': 1, 'canterbury scene': 2, 'experimental rock': 3, 'uk alternative pop': 3, 'olympia wa indie': 2, '\"women\\'s music\"': 1, 'bluegrass': 2, 'bluegrass gospel': 2, 'country gospel': 3, 'lovers rock': 2, 'turntablism': 1, 'instrumental rock': 1, 'jazz rock': 1, 'jazz rap': 2, 'dreamo': 1, 'toronto indie': 1, 'space age pop': 1, 'solo wave': 2, 'modern power pop': 2, 'harlem hip hop': 2, 'instrumental math rock': 1, 'math rock': 1, 'post-rock': 1, 'icelandic pop': 2, 'icelandic post-punk': 1, 'bassline': 2, 'grime': 2, 'house': 3, 'instrumental grime': 2, 'south carolina hip hop': 1, 'slam poetry': 1, 'african-american classical': 2, 'canadian contemporary r&b': 1, 'skate punk': 1, 'new orleans rap': 1, 'trap': 6, 'boy band': 1, 'new jack swing': 1, 'sacramento indie': 1, 'deconstructed club': 1, 'hyperpop': 1, 'proto-hyperpop': 1, 'transpop': 1, 'icelandic experimental': 1, 'icelandic singer-songwriter': 1, 'rocksteady': 1, 'dark wave': 1, 'free jazz': 1, 'philly soul': 4, 'houston rap': 1, 'disney': 1, 'hollywood': 1, 'movie tunes': 1, 'philly indie': 1, 'tin pan alley': 2, 'jam band': 3, 'slap house': 1, 'synth punk': 1, 'brazilian classical': 1, 'brazilian jazz': 1, 'latin classical': 1, 'mpb': 1, 'violao': 1, 'jazz clarinet': 1, 'vintage jazz': 1, 'acid house': 1, 'detroit techno': 1, 'techno': 1, 'flute rock': 1, 'edm': 1, 'uk dance': 1, 'ambient pop': 1, 'uk americana': 1, 'deep adult standards': 1, 'country blues': 3, 'gospel blues': 1, 'french jazz': 1, 'gypsy jazz': 1, 'jazz guitar': 1, 'atmospheric dnb': 1, 'drum and bass': 1, 'drumfunk': 1, 'jungle': 1, 'popping': 1, 'underground hip hop': 1, 'mexican classic rock': 1, 'scottish new wave': 2, 'birmingham hip hop': 1, 'uk garage': 1, 'makossa': 1, 'vocal harmony group': 1, 'ambient house': 1, 'melodic rap': 1, 'mississippi hip hop': 1, 'indie punk': 1, 'riot grrrl': 1, 'bakersfield sound': 1, 'bubblegrunge': 1, 'country boogie': 1}\n"
     ]
    }
   ],
   "source": [
    "#finding all the genres in the data set\n",
    "all_genres_counts = {}\n",
    "for row in data.artist_genres:\n",
    "    for x in row:\n",
    "        if x not in all_genres_counts:\n",
    "            all_genres_counts[x] = 1\n",
    "        else:\n",
    "            all_genres_counts[x] += 1\n",
    "        \n",
    "print(all_genres_counts)\n",
    "    "
   ]
  },
  {
   "cell_type": "code",
   "execution_count": 46,
   "metadata": {},
   "outputs": [
    {
     "data": {
      "text/html": [
       "<div>\n",
       "<style scoped>\n",
       "    .dataframe tbody tr th:only-of-type {\n",
       "        vertical-align: middle;\n",
       "    }\n",
       "\n",
       "    .dataframe tbody tr th {\n",
       "        vertical-align: top;\n",
       "    }\n",
       "\n",
       "    .dataframe thead th {\n",
       "        text-align: right;\n",
       "    }\n",
       "</style>\n",
       "<table border=\"1\" class=\"dataframe\">\n",
       "  <thead>\n",
       "    <tr style=\"text-align: right;\">\n",
       "      <th></th>\n",
       "      <th>danceability</th>\n",
       "      <th>energy</th>\n",
       "      <th>key</th>\n",
       "      <th>loudness</th>\n",
       "      <th>mode</th>\n",
       "      <th>speechiness</th>\n",
       "      <th>acousticness</th>\n",
       "      <th>instrumentalness</th>\n",
       "      <th>liveness</th>\n",
       "      <th>valence</th>\n",
       "      <th>...</th>\n",
       "      <th>uri</th>\n",
       "      <th>track_href</th>\n",
       "      <th>analysis_url</th>\n",
       "      <th>duration_ms</th>\n",
       "      <th>time_signature</th>\n",
       "      <th>song_name</th>\n",
       "      <th>artist_name</th>\n",
       "      <th>artist_genres</th>\n",
       "      <th>artist_pop</th>\n",
       "      <th>song_popularity</th>\n",
       "    </tr>\n",
       "  </thead>\n",
       "  <tbody>\n",
       "    <tr>\n",
       "      <th>0</th>\n",
       "      <td>0.482</td>\n",
       "      <td>0.721</td>\n",
       "      <td>0</td>\n",
       "      <td>-6.839</td>\n",
       "      <td>1</td>\n",
       "      <td>0.0321</td>\n",
       "      <td>0.731000</td>\n",
       "      <td>0.000000</td>\n",
       "      <td>0.1890</td>\n",
       "      <td>0.557</td>\n",
       "      <td>...</td>\n",
       "      <td>spotify:track:3AhXZa8sUQht0UEdBJgpGc</td>\n",
       "      <td>https://api.spotify.com/v1/tracks/3AhXZa8sUQht...</td>\n",
       "      <td>https://api.spotify.com/v1/audio-analysis/3AhX...</td>\n",
       "      <td>369600</td>\n",
       "      <td>4</td>\n",
       "      <td>Like a Rolling Stone</td>\n",
       "      <td>Bob Dylan</td>\n",
       "      <td>[classic rock, country rock, folk, folk rock, ...</td>\n",
       "      <td>72</td>\n",
       "      <td>68</td>\n",
       "    </tr>\n",
       "    <tr>\n",
       "      <th>1</th>\n",
       "      <td>0.485</td>\n",
       "      <td>0.863</td>\n",
       "      <td>1</td>\n",
       "      <td>-9.027</td>\n",
       "      <td>1</td>\n",
       "      <td>0.0495</td>\n",
       "      <td>0.000012</td>\n",
       "      <td>0.016200</td>\n",
       "      <td>0.1380</td>\n",
       "      <td>0.767</td>\n",
       "      <td>...</td>\n",
       "      <td>spotify:track:3oTlkzk1OtrhH8wBAduVEi</td>\n",
       "      <td>https://api.spotify.com/v1/tracks/3oTlkzk1Otrh...</td>\n",
       "      <td>https://api.spotify.com/v1/audio-analysis/3oTl...</td>\n",
       "      <td>300977</td>\n",
       "      <td>4</td>\n",
       "      <td>Smells Like Teen Spirit</td>\n",
       "      <td>Nirvana</td>\n",
       "      <td>[grunge, permanent wave, rock]</td>\n",
       "      <td>82</td>\n",
       "      <td>0</td>\n",
       "    </tr>\n",
       "    <tr>\n",
       "      <th>2</th>\n",
       "      <td>0.364</td>\n",
       "      <td>0.457</td>\n",
       "      <td>4</td>\n",
       "      <td>-14.162</td>\n",
       "      <td>0</td>\n",
       "      <td>0.0675</td>\n",
       "      <td>0.290000</td>\n",
       "      <td>0.000106</td>\n",
       "      <td>0.9220</td>\n",
       "      <td>0.175</td>\n",
       "      <td>...</td>\n",
       "      <td>spotify:track:3ZFBeIyP41HhnALjxWy1pR</td>\n",
       "      <td>https://api.spotify.com/v1/tracks/3ZFBeIyP41Hh...</td>\n",
       "      <td>https://api.spotify.com/v1/audio-analysis/3ZFB...</td>\n",
       "      <td>337413</td>\n",
       "      <td>4</td>\n",
       "      <td>A Day In The Life - Remastered</td>\n",
       "      <td>The Beatles</td>\n",
       "      <td>[beatlesque, british invasion, classic rock, m...</td>\n",
       "      <td>84</td>\n",
       "      <td>0</td>\n",
       "    </tr>\n",
       "    <tr>\n",
       "      <th>3</th>\n",
       "      <td>0.398</td>\n",
       "      <td>0.413</td>\n",
       "      <td>1</td>\n",
       "      <td>-10.934</td>\n",
       "      <td>1</td>\n",
       "      <td>0.0388</td>\n",
       "      <td>0.082200</td>\n",
       "      <td>0.000025</td>\n",
       "      <td>0.0891</td>\n",
       "      <td>0.331</td>\n",
       "      <td>...</td>\n",
       "      <td>spotify:track:5Qt4Cc66g24QWwGP3YYV9y</td>\n",
       "      <td>https://api.spotify.com/v1/tracks/5Qt4Cc66g24Q...</td>\n",
       "      <td>https://api.spotify.com/v1/audio-analysis/5Qt4...</td>\n",
       "      <td>219147</td>\n",
       "      <td>4</td>\n",
       "      <td>Good Vibrations (Mono)</td>\n",
       "      <td>The Beach Boys</td>\n",
       "      <td>[baroque pop, classic rock, psychedelic rock, ...</td>\n",
       "      <td>78</td>\n",
       "      <td>20</td>\n",
       "    </tr>\n",
       "    <tr>\n",
       "      <th>4</th>\n",
       "      <td>0.518</td>\n",
       "      <td>0.756</td>\n",
       "      <td>10</td>\n",
       "      <td>-10.851</td>\n",
       "      <td>1</td>\n",
       "      <td>0.0915</td>\n",
       "      <td>0.735000</td>\n",
       "      <td>0.000062</td>\n",
       "      <td>0.3170</td>\n",
       "      <td>0.968</td>\n",
       "      <td>...</td>\n",
       "      <td>spotify:track:7MH2ZclofPlTrZOkPzZKhK</td>\n",
       "      <td>https://api.spotify.com/v1/tracks/7MH2ZclofPlT...</td>\n",
       "      <td>https://api.spotify.com/v1/audio-analysis/7MH2...</td>\n",
       "      <td>160893</td>\n",
       "      <td>4</td>\n",
       "      <td>Johnny B Goode</td>\n",
       "      <td>Chuck Berry</td>\n",
       "      <td>[classic rock, rock, rock-and-roll, rockabilly]</td>\n",
       "      <td>75</td>\n",
       "      <td>0</td>\n",
       "    </tr>\n",
       "  </tbody>\n",
       "</table>\n",
       "<p>5 rows × 23 columns</p>\n",
       "</div>"
      ],
      "text/plain": [
       "   danceability  energy  key  loudness  mode  speechiness  acousticness  \\\n",
       "0         0.482   0.721    0    -6.839     1       0.0321      0.731000   \n",
       "1         0.485   0.863    1    -9.027     1       0.0495      0.000012   \n",
       "2         0.364   0.457    4   -14.162     0       0.0675      0.290000   \n",
       "3         0.398   0.413    1   -10.934     1       0.0388      0.082200   \n",
       "4         0.518   0.756   10   -10.851     1       0.0915      0.735000   \n",
       "\n",
       "   instrumentalness  liveness  valence  ...  \\\n",
       "0          0.000000    0.1890    0.557  ...   \n",
       "1          0.016200    0.1380    0.767  ...   \n",
       "2          0.000106    0.9220    0.175  ...   \n",
       "3          0.000025    0.0891    0.331  ...   \n",
       "4          0.000062    0.3170    0.968  ...   \n",
       "\n",
       "                                    uri  \\\n",
       "0  spotify:track:3AhXZa8sUQht0UEdBJgpGc   \n",
       "1  spotify:track:3oTlkzk1OtrhH8wBAduVEi   \n",
       "2  spotify:track:3ZFBeIyP41HhnALjxWy1pR   \n",
       "3  spotify:track:5Qt4Cc66g24QWwGP3YYV9y   \n",
       "4  spotify:track:7MH2ZclofPlTrZOkPzZKhK   \n",
       "\n",
       "                                          track_href  \\\n",
       "0  https://api.spotify.com/v1/tracks/3AhXZa8sUQht...   \n",
       "1  https://api.spotify.com/v1/tracks/3oTlkzk1Otrh...   \n",
       "2  https://api.spotify.com/v1/tracks/3ZFBeIyP41Hh...   \n",
       "3  https://api.spotify.com/v1/tracks/5Qt4Cc66g24Q...   \n",
       "4  https://api.spotify.com/v1/tracks/7MH2ZclofPlT...   \n",
       "\n",
       "                                        analysis_url duration_ms  \\\n",
       "0  https://api.spotify.com/v1/audio-analysis/3AhX...      369600   \n",
       "1  https://api.spotify.com/v1/audio-analysis/3oTl...      300977   \n",
       "2  https://api.spotify.com/v1/audio-analysis/3ZFB...      337413   \n",
       "3  https://api.spotify.com/v1/audio-analysis/5Qt4...      219147   \n",
       "4  https://api.spotify.com/v1/audio-analysis/7MH2...      160893   \n",
       "\n",
       "  time_signature                       song_name     artist_name  \\\n",
       "0              4            Like a Rolling Stone       Bob Dylan   \n",
       "1              4         Smells Like Teen Spirit         Nirvana   \n",
       "2              4  A Day In The Life - Remastered     The Beatles   \n",
       "3              4          Good Vibrations (Mono)  The Beach Boys   \n",
       "4              4                  Johnny B Goode     Chuck Berry   \n",
       "\n",
       "                                       artist_genres artist_pop  \\\n",
       "0  [classic rock, country rock, folk, folk rock, ...         72   \n",
       "1                     [grunge, permanent wave, rock]         82   \n",
       "2  [beatlesque, british invasion, classic rock, m...         84   \n",
       "3  [baroque pop, classic rock, psychedelic rock, ...         78   \n",
       "4    [classic rock, rock, rock-and-roll, rockabilly]         75   \n",
       "\n",
       "  song_popularity  \n",
       "0              68  \n",
       "1               0  \n",
       "2               0  \n",
       "3              20  \n",
       "4               0  \n",
       "\n",
       "[5 rows x 23 columns]"
      ]
     },
     "execution_count": 46,
     "metadata": {},
     "output_type": "execute_result"
    }
   ],
   "source": [
    "data.head()"
   ]
  },
  {
   "cell_type": "code",
   "execution_count": 98,
   "metadata": {},
   "outputs": [],
   "source": [
    "#combining genres with music feature data average into a new df\n",
    "genre_features_input = {}\n",
    "genre_features = {}\n",
    "#list of features were looking for\n",
    "features_input = ['danceability','energy','loudness','speechiness','acousticness','liveness','valence']\n",
    "\n",
    "\n",
    "#loop through df\n",
    "for i, r in data.iterrows():\n",
    "\n",
    "    #loop through each genre\n",
    "    for genre in r['artist_genres']:\n",
    "\n",
    "        #create a dict for the genre if it isnt made\n",
    "        if genre not in genre_features_input.keys():\n",
    "            genre_features_input[genre] = []\n",
    "\n",
    "            #start adding the features\n",
    "            for feature in features_input:\n",
    "\n",
    "                #create dict for features\n",
    "                if feature not in genre_features.keys():\n",
    "                    genre_features[feature] = []\n",
    "                    genre_features[feature].append(r[feature])\n",
    "                \n",
    "            genre_features_input[genre].append(genre_features)\n",
    "        #else add onto the generated genre key\n",
    "        else:\n",
    "            for genre_info in genre_features_input.values():\n",
    "                for dicts in genre_info:\n",
    "                    for key,v in dicts.items():\n",
    "                        for feature in features_input:\n",
    "                            if key == feature:\n",
    "                                dicts[key].append(r[feature])\n",
    "                    \n",
    "                    \n",
    "                \n",
    "        genre_features = {}\n",
    "        \n"
   ]
  },
  {
   "cell_type": "code",
   "execution_count": 99,
   "metadata": {},
   "outputs": [
    {
     "data": {
      "text/html": [
       "<div>\n",
       "<style scoped>\n",
       "    .dataframe tbody tr th:only-of-type {\n",
       "        vertical-align: middle;\n",
       "    }\n",
       "\n",
       "    .dataframe tbody tr th {\n",
       "        vertical-align: top;\n",
       "    }\n",
       "\n",
       "    .dataframe thead th {\n",
       "        text-align: right;\n",
       "    }\n",
       "</style>\n",
       "<table border=\"1\" class=\"dataframe\">\n",
       "  <thead>\n",
       "    <tr style=\"text-align: right;\">\n",
       "      <th></th>\n",
       "      <th>classic rock</th>\n",
       "      <th>country rock</th>\n",
       "      <th>folk</th>\n",
       "      <th>folk rock</th>\n",
       "      <th>rock</th>\n",
       "      <th>roots rock</th>\n",
       "      <th>singer-songwriter</th>\n",
       "      <th>grunge</th>\n",
       "      <th>permanent wave</th>\n",
       "      <th>beatlesque</th>\n",
       "      <th>...</th>\n",
       "      <th>makossa</th>\n",
       "      <th>vocal harmony group</th>\n",
       "      <th>ambient house</th>\n",
       "      <th>melodic rap</th>\n",
       "      <th>mississippi hip hop</th>\n",
       "      <th>indie punk</th>\n",
       "      <th>riot grrrl</th>\n",
       "      <th>bakersfield sound</th>\n",
       "      <th>bubblegrunge</th>\n",
       "      <th>country boogie</th>\n",
       "    </tr>\n",
       "  </thead>\n",
       "  <tbody>\n",
       "    <tr>\n",
       "      <th>0</th>\n",
       "      <td>{'danceability': [0.482, 0.485, 0.364, 0.364, ...</td>\n",
       "      <td>{'danceability': [0.482, 0.485, 0.364, 0.364, ...</td>\n",
       "      <td>{'danceability': [0.482, 0.485, 0.364, 0.364, ...</td>\n",
       "      <td>{'danceability': [0.482, 0.485, 0.364, 0.364, ...</td>\n",
       "      <td>{'danceability': [0.482, 0.485, 0.364, 0.364, ...</td>\n",
       "      <td>{'danceability': [0.482, 0.485, 0.364, 0.364, ...</td>\n",
       "      <td>{'danceability': [0.482, 0.485, 0.364, 0.364, ...</td>\n",
       "      <td>{'danceability': [0.485, 0.485, 0.364, 0.364, ...</td>\n",
       "      <td>{'danceability': [0.485, 0.485, 0.364, 0.364, ...</td>\n",
       "      <td>{'danceability': [0.364, 0.364, 0.364, 0.398, ...</td>\n",
       "      <td>...</td>\n",
       "      <td>{'danceability': [0.831, 0.831, 0.504, 0.504, ...</td>\n",
       "      <td>{'danceability': [0.557, 0.682, 0.682, 0.682, ...</td>\n",
       "      <td>{'danceability': [0.682, 0.682, 0.682, 0.682, ...</td>\n",
       "      <td>{'danceability': [0.794, 0.794, 0.794, 0.794, ...</td>\n",
       "      <td>{'danceability': [0.794, 0.794, 0.794, 0.794, ...</td>\n",
       "      <td>{'danceability': [0.435, 0.435, 0.725, 0.483, ...</td>\n",
       "      <td>{'danceability': [0.435, 0.725, 0.483, 0.483, ...</td>\n",
       "      <td>{'danceability': [0.725, 0.725, 0.483, 0.483, ...</td>\n",
       "      <td>{'danceability': [0.483, 0.483, 0.483, 0.763, ...</td>\n",
       "      <td>{'danceability': [0.699, 0.699, 0.699, 0.747, ...</td>\n",
       "    </tr>\n",
       "  </tbody>\n",
       "</table>\n",
       "<p>1 rows × 476 columns</p>\n",
       "</div>"
      ],
      "text/plain": [
       "                                        classic rock  \\\n",
       "0  {'danceability': [0.482, 0.485, 0.364, 0.364, ...   \n",
       "\n",
       "                                        country rock  \\\n",
       "0  {'danceability': [0.482, 0.485, 0.364, 0.364, ...   \n",
       "\n",
       "                                                folk  \\\n",
       "0  {'danceability': [0.482, 0.485, 0.364, 0.364, ...   \n",
       "\n",
       "                                           folk rock  \\\n",
       "0  {'danceability': [0.482, 0.485, 0.364, 0.364, ...   \n",
       "\n",
       "                                                rock  \\\n",
       "0  {'danceability': [0.482, 0.485, 0.364, 0.364, ...   \n",
       "\n",
       "                                          roots rock  \\\n",
       "0  {'danceability': [0.482, 0.485, 0.364, 0.364, ...   \n",
       "\n",
       "                                   singer-songwriter  \\\n",
       "0  {'danceability': [0.482, 0.485, 0.364, 0.364, ...   \n",
       "\n",
       "                                              grunge  \\\n",
       "0  {'danceability': [0.485, 0.485, 0.364, 0.364, ...   \n",
       "\n",
       "                                      permanent wave  \\\n",
       "0  {'danceability': [0.485, 0.485, 0.364, 0.364, ...   \n",
       "\n",
       "                                          beatlesque  ...  \\\n",
       "0  {'danceability': [0.364, 0.364, 0.364, 0.398, ...  ...   \n",
       "\n",
       "                                             makossa  \\\n",
       "0  {'danceability': [0.831, 0.831, 0.504, 0.504, ...   \n",
       "\n",
       "                                 vocal harmony group  \\\n",
       "0  {'danceability': [0.557, 0.682, 0.682, 0.682, ...   \n",
       "\n",
       "                                       ambient house  \\\n",
       "0  {'danceability': [0.682, 0.682, 0.682, 0.682, ...   \n",
       "\n",
       "                                         melodic rap  \\\n",
       "0  {'danceability': [0.794, 0.794, 0.794, 0.794, ...   \n",
       "\n",
       "                                 mississippi hip hop  \\\n",
       "0  {'danceability': [0.794, 0.794, 0.794, 0.794, ...   \n",
       "\n",
       "                                          indie punk  \\\n",
       "0  {'danceability': [0.435, 0.435, 0.725, 0.483, ...   \n",
       "\n",
       "                                          riot grrrl  \\\n",
       "0  {'danceability': [0.435, 0.725, 0.483, 0.483, ...   \n",
       "\n",
       "                                   bakersfield sound  \\\n",
       "0  {'danceability': [0.725, 0.725, 0.483, 0.483, ...   \n",
       "\n",
       "                                        bubblegrunge  \\\n",
       "0  {'danceability': [0.483, 0.483, 0.483, 0.763, ...   \n",
       "\n",
       "                                      country boogie  \n",
       "0  {'danceability': [0.699, 0.699, 0.699, 0.747, ...  \n",
       "\n",
       "[1 rows x 476 columns]"
      ]
     },
     "execution_count": 99,
     "metadata": {},
     "output_type": "execute_result"
    }
   ],
   "source": [
    "genre_test = pd.DataFrame(genre_features_input)\n",
    "genre_test.head()"
   ]
  },
  {
   "cell_type": "code",
   "execution_count": 100,
   "metadata": {},
   "outputs": [],
   "source": [
    "#get the average of all the variables that was gathered from each artists songs associated with the genre\n",
    "for genre_key in genre_features_input.values():\n",
    "    for item in genre_key:\n",
    "        for k,v in item.items():\n",
    "            for x, y in all_genres_counts.items(): \n",
    "                # print(v[:10])\n",
    "                new = sum(v)/y\n",
    "                item[k] = new\n",
    "            \n"
   ]
  },
  {
   "cell_type": "code",
   "execution_count": 101,
   "metadata": {},
   "outputs": [
    {
     "data": {
      "text/plain": [
       "[{'danceability': 3084.692500000005,\n",
       "  'energy': 3493.5413199999957,\n",
       "  'loudness': -50325.03200000025,\n",
       "  'speechiness': 363.15649999999806,\n",
       "  'acousticness': 1519.269194709998,\n",
       "  'liveness': 1073.999700000005,\n",
       "  'valence': 3265.834600000036}]"
      ]
     },
     "execution_count": 101,
     "metadata": {},
     "output_type": "execute_result"
    }
   ],
   "source": [
    "genre_features_input['acid rock']"
   ]
  },
  {
   "cell_type": "code",
   "execution_count": 102,
   "metadata": {},
   "outputs": [],
   "source": [
    "genre_name = []\n",
    "danceability = []\n",
    "energy = []\n",
    "loudness = []\n",
    "speechiness = []\n",
    "acousticness = []\n",
    "liveness = []\n",
    "valence = []\n",
    "genres_counts = []\n",
    "\n",
    "for key, value in genre_features_input.items():\n",
    "    genre_name.append(key)\n",
    "    for k, v in value[0].items():\n",
    "        if k == 'danceability':\n",
    "            danceability.append(v)\n",
    "        elif k == 'energy':\n",
    "            energy.append(v)\n",
    "        elif k == 'loudness':\n",
    "            loudness.append(v)\n",
    "        elif k == 'speechiness':\n",
    "            speechiness.append(v)\n",
    "        elif k == 'acousticness':\n",
    "            acousticness.append(v)\n",
    "        elif k == 'liveness':\n",
    "            liveness.append(v)\n",
    "        else:\n",
    "            valence.append(v)\n",
    "for k, v in all_genres_counts.items():\n",
    "        genres_counts.append(v)"
   ]
  },
  {
   "cell_type": "code",
   "execution_count": 103,
   "metadata": {},
   "outputs": [],
   "source": [
    "test_dict = {'genre_name': genre_name,\n",
    "'danceability': danceability,\n",
    "'energy': energy,\n",
    "'loudness': loudness,\n",
    "'speechiness': speechiness,\n",
    "'acousticness': acousticness,\n",
    "'liveness': liveness,\n",
    "'valence': valence,\n",
    "'genre_counts': genres_counts}\n",
    "genre_test = pd.DataFrame(test_dict)"
   ]
  },
  {
   "cell_type": "code",
   "execution_count": 104,
   "metadata": {},
   "outputs": [
    {
     "data": {
      "text/html": [
       "<div>\n",
       "<style scoped>\n",
       "    .dataframe tbody tr th:only-of-type {\n",
       "        vertical-align: middle;\n",
       "    }\n",
       "\n",
       "    .dataframe tbody tr th {\n",
       "        vertical-align: top;\n",
       "    }\n",
       "\n",
       "    .dataframe thead th {\n",
       "        text-align: right;\n",
       "    }\n",
       "</style>\n",
       "<table border=\"1\" class=\"dataframe\">\n",
       "  <thead>\n",
       "    <tr style=\"text-align: right;\">\n",
       "      <th></th>\n",
       "      <th>genre_name</th>\n",
       "      <th>danceability</th>\n",
       "      <th>energy</th>\n",
       "      <th>loudness</th>\n",
       "      <th>speechiness</th>\n",
       "      <th>acousticness</th>\n",
       "      <th>liveness</th>\n",
       "      <th>valence</th>\n",
       "      <th>genre_counts</th>\n",
       "    </tr>\n",
       "  </thead>\n",
       "  <tbody>\n",
       "    <tr>\n",
       "      <th>0</th>\n",
       "      <td>classic rock</td>\n",
       "      <td>3153.2155</td>\n",
       "      <td>3575.40332</td>\n",
       "      <td>-51562.430</td>\n",
       "      <td>372.2891</td>\n",
       "      <td>1560.643542</td>\n",
       "      <td>1094.5949</td>\n",
       "      <td>3347.117</td>\n",
       "      <td>301</td>\n",
       "    </tr>\n",
       "    <tr>\n",
       "      <th>1</th>\n",
       "      <td>country rock</td>\n",
       "      <td>3153.2155</td>\n",
       "      <td>3575.40332</td>\n",
       "      <td>-51562.430</td>\n",
       "      <td>372.2891</td>\n",
       "      <td>1560.643542</td>\n",
       "      <td>1094.5949</td>\n",
       "      <td>3347.117</td>\n",
       "      <td>65</td>\n",
       "    </tr>\n",
       "    <tr>\n",
       "      <th>2</th>\n",
       "      <td>folk</td>\n",
       "      <td>3153.2155</td>\n",
       "      <td>3575.40332</td>\n",
       "      <td>-51562.430</td>\n",
       "      <td>372.2891</td>\n",
       "      <td>1560.643542</td>\n",
       "      <td>1094.5949</td>\n",
       "      <td>3347.117</td>\n",
       "      <td>63</td>\n",
       "    </tr>\n",
       "    <tr>\n",
       "      <th>3</th>\n",
       "      <td>folk rock</td>\n",
       "      <td>3153.2155</td>\n",
       "      <td>3575.40332</td>\n",
       "      <td>-51562.430</td>\n",
       "      <td>372.2891</td>\n",
       "      <td>1560.643542</td>\n",
       "      <td>1094.5949</td>\n",
       "      <td>3347.117</td>\n",
       "      <td>121</td>\n",
       "    </tr>\n",
       "    <tr>\n",
       "      <th>4</th>\n",
       "      <td>rock</td>\n",
       "      <td>3153.2155</td>\n",
       "      <td>3575.40332</td>\n",
       "      <td>-51562.430</td>\n",
       "      <td>372.2891</td>\n",
       "      <td>1560.643542</td>\n",
       "      <td>1094.5949</td>\n",
       "      <td>3347.117</td>\n",
       "      <td>455</td>\n",
       "    </tr>\n",
       "    <tr>\n",
       "      <th>...</th>\n",
       "      <td>...</td>\n",
       "      <td>...</td>\n",
       "      <td>...</td>\n",
       "      <td>...</td>\n",
       "      <td>...</td>\n",
       "      <td>...</td>\n",
       "      <td>...</td>\n",
       "      <td>...</td>\n",
       "      <td>...</td>\n",
       "    </tr>\n",
       "    <tr>\n",
       "      <th>471</th>\n",
       "      <td>indie punk</td>\n",
       "      <td>39.0480</td>\n",
       "      <td>41.46800</td>\n",
       "      <td>-501.979</td>\n",
       "      <td>2.9712</td>\n",
       "      <td>17.380644</td>\n",
       "      <td>10.1655</td>\n",
       "      <td>41.119</td>\n",
       "      <td>1</td>\n",
       "    </tr>\n",
       "    <tr>\n",
       "      <th>472</th>\n",
       "      <td>riot grrrl</td>\n",
       "      <td>38.6130</td>\n",
       "      <td>40.52900</td>\n",
       "      <td>-498.134</td>\n",
       "      <td>2.8602</td>\n",
       "      <td>17.368444</td>\n",
       "      <td>10.1041</td>\n",
       "      <td>40.560</td>\n",
       "      <td>1</td>\n",
       "    </tr>\n",
       "    <tr>\n",
       "      <th>473</th>\n",
       "      <td>bakersfield sound</td>\n",
       "      <td>38.9030</td>\n",
       "      <td>40.24400</td>\n",
       "      <td>-500.572</td>\n",
       "      <td>2.8101</td>\n",
       "      <td>18.134244</td>\n",
       "      <td>10.1196</td>\n",
       "      <td>40.660</td>\n",
       "      <td>1</td>\n",
       "    </tr>\n",
       "    <tr>\n",
       "      <th>474</th>\n",
       "      <td>bubblegrunge</td>\n",
       "      <td>36.9700</td>\n",
       "      <td>38.24100</td>\n",
       "      <td>-482.513</td>\n",
       "      <td>2.6570</td>\n",
       "      <td>16.573634</td>\n",
       "      <td>9.8638</td>\n",
       "      <td>39.048</td>\n",
       "      <td>1</td>\n",
       "    </tr>\n",
       "    <tr>\n",
       "      <th>475</th>\n",
       "      <td>country boogie</td>\n",
       "      <td>31.3590</td>\n",
       "      <td>32.61600</td>\n",
       "      <td>-416.617</td>\n",
       "      <td>2.3113</td>\n",
       "      <td>12.830804</td>\n",
       "      <td>8.3878</td>\n",
       "      <td>33.338</td>\n",
       "      <td>1</td>\n",
       "    </tr>\n",
       "  </tbody>\n",
       "</table>\n",
       "<p>476 rows × 9 columns</p>\n",
       "</div>"
      ],
      "text/plain": [
       "            genre_name  danceability      energy   loudness  speechiness  \\\n",
       "0         classic rock     3153.2155  3575.40332 -51562.430     372.2891   \n",
       "1         country rock     3153.2155  3575.40332 -51562.430     372.2891   \n",
       "2                 folk     3153.2155  3575.40332 -51562.430     372.2891   \n",
       "3            folk rock     3153.2155  3575.40332 -51562.430     372.2891   \n",
       "4                 rock     3153.2155  3575.40332 -51562.430     372.2891   \n",
       "..                 ...           ...         ...        ...          ...   \n",
       "471         indie punk       39.0480    41.46800   -501.979       2.9712   \n",
       "472         riot grrrl       38.6130    40.52900   -498.134       2.8602   \n",
       "473  bakersfield sound       38.9030    40.24400   -500.572       2.8101   \n",
       "474       bubblegrunge       36.9700    38.24100   -482.513       2.6570   \n",
       "475     country boogie       31.3590    32.61600   -416.617       2.3113   \n",
       "\n",
       "     acousticness   liveness   valence  genre_counts  \n",
       "0     1560.643542  1094.5949  3347.117           301  \n",
       "1     1560.643542  1094.5949  3347.117            65  \n",
       "2     1560.643542  1094.5949  3347.117            63  \n",
       "3     1560.643542  1094.5949  3347.117           121  \n",
       "4     1560.643542  1094.5949  3347.117           455  \n",
       "..            ...        ...       ...           ...  \n",
       "471     17.380644    10.1655    41.119             1  \n",
       "472     17.368444    10.1041    40.560             1  \n",
       "473     18.134244    10.1196    40.660             1  \n",
       "474     16.573634     9.8638    39.048             1  \n",
       "475     12.830804     8.3878    33.338             1  \n",
       "\n",
       "[476 rows x 9 columns]"
      ]
     },
     "execution_count": 104,
     "metadata": {},
     "output_type": "execute_result"
    }
   ],
   "source": [
    "genre_test"
   ]
  },
  {
   "cell_type": "code",
   "execution_count": 105,
   "metadata": {},
   "outputs": [
    {
     "data": {
      "application/vnd.plotly.v1+json": {
       "config": {
        "plotlyServerURL": "https://plot.ly"
       },
       "data": [
        {
         "alignmentgroup": "True",
         "hovertemplate": "variable=valence<br>genre_name=%{x}<br>value=%{y}<extra></extra>",
         "legendgroup": "valence",
         "marker": {
          "color": "#636efa",
          "pattern": {
           "shape": ""
          }
         },
         "name": "valence",
         "offsetgroup": "valence",
         "orientation": "v",
         "showlegend": true,
         "textposition": "auto",
         "type": "bar",
         "x": [
          "rock",
          "classic rock",
          "permanent wave",
          "art rock",
          "psychedelic rock",
          "soul",
          "mellow gold",
          "alternative rock",
          "folk rock",
          "album rock"
         ],
         "xaxis": "x",
         "y": [
          3347.1170000000398,
          3347.1170000000398,
          3347.32700000004,
          3328.3470000000366,
          3345.7930000000397,
          3343.4790000000403,
          3330.3220000000374,
          3324.786000000035,
          3347.1170000000398,
          3328.3470000000366
         ],
         "yaxis": "y"
        },
        {
         "alignmentgroup": "True",
         "hovertemplate": "variable=energy<br>genre_name=%{x}<br>value=%{y}<extra></extra>",
         "legendgroup": "energy",
         "marker": {
          "color": "#EF553B",
          "pattern": {
           "shape": ""
          }
         },
         "name": "energy",
         "offsetgroup": "energy",
         "orientation": "v",
         "showlegend": true,
         "textposition": "auto",
         "type": "bar",
         "x": [
          "rock",
          "classic rock",
          "permanent wave",
          "art rock",
          "psychedelic rock",
          "soul",
          "mellow gold",
          "alternative rock",
          "folk rock",
          "album rock"
         ],
         "xaxis": "x",
         "y": [
          3575.4033199999844,
          3575.4033199999844,
          3575.5453199999847,
          3559.376319999986,
          3573.819319999985,
          3570.712319999986,
          3562.026319999987,
          3555.400319999985,
          3575.4033199999844,
          3559.376319999986
         ],
         "yaxis": "y"
        },
        {
         "alignmentgroup": "True",
         "hovertemplate": "variable=danceability<br>genre_name=%{x}<br>value=%{y}<extra></extra>",
         "legendgroup": "danceability",
         "marker": {
          "color": "#00cc96",
          "pattern": {
           "shape": ""
          }
         },
         "name": "danceability",
         "offsetgroup": "danceability",
         "orientation": "v",
         "showlegend": true,
         "textposition": "auto",
         "type": "bar",
         "x": [
          "rock",
          "classic rock",
          "permanent wave",
          "art rock",
          "psychedelic rock",
          "soul",
          "mellow gold",
          "alternative rock",
          "folk rock",
          "album rock"
         ],
         "xaxis": "x",
         "y": [
          3153.2155000000103,
          3153.2155000000103,
          3153.21850000001,
          3137.961500000011,
          3152.24850000001,
          3150.09550000001,
          3138.6415000000106,
          3136.412500000011,
          3153.2155000000103,
          3137.961500000011
         ],
         "yaxis": "y"
        },
        {
         "alignmentgroup": "True",
         "hovertemplate": "variable=acousticness<br>genre_name=%{x}<br>value=%{y}<extra></extra>",
         "legendgroup": "acousticness",
         "marker": {
          "color": "#ab63fa",
          "pattern": {
           "shape": ""
          }
         },
         "name": "acousticness",
         "offsetgroup": "acousticness",
         "orientation": "v",
         "showlegend": true,
         "textposition": "auto",
         "type": "bar",
         "x": [
          "rock",
          "classic rock",
          "permanent wave",
          "art rock",
          "psychedelic rock",
          "soul",
          "mellow gold",
          "alternative rock",
          "folk rock",
          "album rock"
         ],
         "xaxis": "x",
         "y": [
          1560.6435417100045,
          1560.6435417100045,
          1559.9125539100041,
          1553.302529510003,
          1559.912529510004,
          1557.7799295100035,
          1553.3419295100032,
          1552.3125819100028,
          1560.6435417100045,
          1553.302529510003
         ],
         "yaxis": "y"
        }
       ],
       "layout": {
        "barmode": "group",
        "legend": {
         "title": {
          "text": "variable"
         },
         "tracegroupgap": 0
        },
        "margin": {
         "t": 60
        },
        "template": {
         "data": {
          "bar": [
           {
            "error_x": {
             "color": "#2a3f5f"
            },
            "error_y": {
             "color": "#2a3f5f"
            },
            "marker": {
             "line": {
              "color": "#E5ECF6",
              "width": 0.5
             },
             "pattern": {
              "fillmode": "overlay",
              "size": 10,
              "solidity": 0.2
             }
            },
            "type": "bar"
           }
          ],
          "barpolar": [
           {
            "marker": {
             "line": {
              "color": "#E5ECF6",
              "width": 0.5
             },
             "pattern": {
              "fillmode": "overlay",
              "size": 10,
              "solidity": 0.2
             }
            },
            "type": "barpolar"
           }
          ],
          "carpet": [
           {
            "aaxis": {
             "endlinecolor": "#2a3f5f",
             "gridcolor": "white",
             "linecolor": "white",
             "minorgridcolor": "white",
             "startlinecolor": "#2a3f5f"
            },
            "baxis": {
             "endlinecolor": "#2a3f5f",
             "gridcolor": "white",
             "linecolor": "white",
             "minorgridcolor": "white",
             "startlinecolor": "#2a3f5f"
            },
            "type": "carpet"
           }
          ],
          "choropleth": [
           {
            "colorbar": {
             "outlinewidth": 0,
             "ticks": ""
            },
            "type": "choropleth"
           }
          ],
          "contour": [
           {
            "colorbar": {
             "outlinewidth": 0,
             "ticks": ""
            },
            "colorscale": [
             [
              0,
              "#0d0887"
             ],
             [
              0.1111111111111111,
              "#46039f"
             ],
             [
              0.2222222222222222,
              "#7201a8"
             ],
             [
              0.3333333333333333,
              "#9c179e"
             ],
             [
              0.4444444444444444,
              "#bd3786"
             ],
             [
              0.5555555555555556,
              "#d8576b"
             ],
             [
              0.6666666666666666,
              "#ed7953"
             ],
             [
              0.7777777777777778,
              "#fb9f3a"
             ],
             [
              0.8888888888888888,
              "#fdca26"
             ],
             [
              1,
              "#f0f921"
             ]
            ],
            "type": "contour"
           }
          ],
          "contourcarpet": [
           {
            "colorbar": {
             "outlinewidth": 0,
             "ticks": ""
            },
            "type": "contourcarpet"
           }
          ],
          "heatmap": [
           {
            "colorbar": {
             "outlinewidth": 0,
             "ticks": ""
            },
            "colorscale": [
             [
              0,
              "#0d0887"
             ],
             [
              0.1111111111111111,
              "#46039f"
             ],
             [
              0.2222222222222222,
              "#7201a8"
             ],
             [
              0.3333333333333333,
              "#9c179e"
             ],
             [
              0.4444444444444444,
              "#bd3786"
             ],
             [
              0.5555555555555556,
              "#d8576b"
             ],
             [
              0.6666666666666666,
              "#ed7953"
             ],
             [
              0.7777777777777778,
              "#fb9f3a"
             ],
             [
              0.8888888888888888,
              "#fdca26"
             ],
             [
              1,
              "#f0f921"
             ]
            ],
            "type": "heatmap"
           }
          ],
          "heatmapgl": [
           {
            "colorbar": {
             "outlinewidth": 0,
             "ticks": ""
            },
            "colorscale": [
             [
              0,
              "#0d0887"
             ],
             [
              0.1111111111111111,
              "#46039f"
             ],
             [
              0.2222222222222222,
              "#7201a8"
             ],
             [
              0.3333333333333333,
              "#9c179e"
             ],
             [
              0.4444444444444444,
              "#bd3786"
             ],
             [
              0.5555555555555556,
              "#d8576b"
             ],
             [
              0.6666666666666666,
              "#ed7953"
             ],
             [
              0.7777777777777778,
              "#fb9f3a"
             ],
             [
              0.8888888888888888,
              "#fdca26"
             ],
             [
              1,
              "#f0f921"
             ]
            ],
            "type": "heatmapgl"
           }
          ],
          "histogram": [
           {
            "marker": {
             "pattern": {
              "fillmode": "overlay",
              "size": 10,
              "solidity": 0.2
             }
            },
            "type": "histogram"
           }
          ],
          "histogram2d": [
           {
            "colorbar": {
             "outlinewidth": 0,
             "ticks": ""
            },
            "colorscale": [
             [
              0,
              "#0d0887"
             ],
             [
              0.1111111111111111,
              "#46039f"
             ],
             [
              0.2222222222222222,
              "#7201a8"
             ],
             [
              0.3333333333333333,
              "#9c179e"
             ],
             [
              0.4444444444444444,
              "#bd3786"
             ],
             [
              0.5555555555555556,
              "#d8576b"
             ],
             [
              0.6666666666666666,
              "#ed7953"
             ],
             [
              0.7777777777777778,
              "#fb9f3a"
             ],
             [
              0.8888888888888888,
              "#fdca26"
             ],
             [
              1,
              "#f0f921"
             ]
            ],
            "type": "histogram2d"
           }
          ],
          "histogram2dcontour": [
           {
            "colorbar": {
             "outlinewidth": 0,
             "ticks": ""
            },
            "colorscale": [
             [
              0,
              "#0d0887"
             ],
             [
              0.1111111111111111,
              "#46039f"
             ],
             [
              0.2222222222222222,
              "#7201a8"
             ],
             [
              0.3333333333333333,
              "#9c179e"
             ],
             [
              0.4444444444444444,
              "#bd3786"
             ],
             [
              0.5555555555555556,
              "#d8576b"
             ],
             [
              0.6666666666666666,
              "#ed7953"
             ],
             [
              0.7777777777777778,
              "#fb9f3a"
             ],
             [
              0.8888888888888888,
              "#fdca26"
             ],
             [
              1,
              "#f0f921"
             ]
            ],
            "type": "histogram2dcontour"
           }
          ],
          "mesh3d": [
           {
            "colorbar": {
             "outlinewidth": 0,
             "ticks": ""
            },
            "type": "mesh3d"
           }
          ],
          "parcoords": [
           {
            "line": {
             "colorbar": {
              "outlinewidth": 0,
              "ticks": ""
             }
            },
            "type": "parcoords"
           }
          ],
          "pie": [
           {
            "automargin": true,
            "type": "pie"
           }
          ],
          "scatter": [
           {
            "fillpattern": {
             "fillmode": "overlay",
             "size": 10,
             "solidity": 0.2
            },
            "type": "scatter"
           }
          ],
          "scatter3d": [
           {
            "line": {
             "colorbar": {
              "outlinewidth": 0,
              "ticks": ""
             }
            },
            "marker": {
             "colorbar": {
              "outlinewidth": 0,
              "ticks": ""
             }
            },
            "type": "scatter3d"
           }
          ],
          "scattercarpet": [
           {
            "marker": {
             "colorbar": {
              "outlinewidth": 0,
              "ticks": ""
             }
            },
            "type": "scattercarpet"
           }
          ],
          "scattergeo": [
           {
            "marker": {
             "colorbar": {
              "outlinewidth": 0,
              "ticks": ""
             }
            },
            "type": "scattergeo"
           }
          ],
          "scattergl": [
           {
            "marker": {
             "colorbar": {
              "outlinewidth": 0,
              "ticks": ""
             }
            },
            "type": "scattergl"
           }
          ],
          "scattermapbox": [
           {
            "marker": {
             "colorbar": {
              "outlinewidth": 0,
              "ticks": ""
             }
            },
            "type": "scattermapbox"
           }
          ],
          "scatterpolar": [
           {
            "marker": {
             "colorbar": {
              "outlinewidth": 0,
              "ticks": ""
             }
            },
            "type": "scatterpolar"
           }
          ],
          "scatterpolargl": [
           {
            "marker": {
             "colorbar": {
              "outlinewidth": 0,
              "ticks": ""
             }
            },
            "type": "scatterpolargl"
           }
          ],
          "scatterternary": [
           {
            "marker": {
             "colorbar": {
              "outlinewidth": 0,
              "ticks": ""
             }
            },
            "type": "scatterternary"
           }
          ],
          "surface": [
           {
            "colorbar": {
             "outlinewidth": 0,
             "ticks": ""
            },
            "colorscale": [
             [
              0,
              "#0d0887"
             ],
             [
              0.1111111111111111,
              "#46039f"
             ],
             [
              0.2222222222222222,
              "#7201a8"
             ],
             [
              0.3333333333333333,
              "#9c179e"
             ],
             [
              0.4444444444444444,
              "#bd3786"
             ],
             [
              0.5555555555555556,
              "#d8576b"
             ],
             [
              0.6666666666666666,
              "#ed7953"
             ],
             [
              0.7777777777777778,
              "#fb9f3a"
             ],
             [
              0.8888888888888888,
              "#fdca26"
             ],
             [
              1,
              "#f0f921"
             ]
            ],
            "type": "surface"
           }
          ],
          "table": [
           {
            "cells": {
             "fill": {
              "color": "#EBF0F8"
             },
             "line": {
              "color": "white"
             }
            },
            "header": {
             "fill": {
              "color": "#C8D4E3"
             },
             "line": {
              "color": "white"
             }
            },
            "type": "table"
           }
          ]
         },
         "layout": {
          "annotationdefaults": {
           "arrowcolor": "#2a3f5f",
           "arrowhead": 0,
           "arrowwidth": 1
          },
          "autotypenumbers": "strict",
          "coloraxis": {
           "colorbar": {
            "outlinewidth": 0,
            "ticks": ""
           }
          },
          "colorscale": {
           "diverging": [
            [
             0,
             "#8e0152"
            ],
            [
             0.1,
             "#c51b7d"
            ],
            [
             0.2,
             "#de77ae"
            ],
            [
             0.3,
             "#f1b6da"
            ],
            [
             0.4,
             "#fde0ef"
            ],
            [
             0.5,
             "#f7f7f7"
            ],
            [
             0.6,
             "#e6f5d0"
            ],
            [
             0.7,
             "#b8e186"
            ],
            [
             0.8,
             "#7fbc41"
            ],
            [
             0.9,
             "#4d9221"
            ],
            [
             1,
             "#276419"
            ]
           ],
           "sequential": [
            [
             0,
             "#0d0887"
            ],
            [
             0.1111111111111111,
             "#46039f"
            ],
            [
             0.2222222222222222,
             "#7201a8"
            ],
            [
             0.3333333333333333,
             "#9c179e"
            ],
            [
             0.4444444444444444,
             "#bd3786"
            ],
            [
             0.5555555555555556,
             "#d8576b"
            ],
            [
             0.6666666666666666,
             "#ed7953"
            ],
            [
             0.7777777777777778,
             "#fb9f3a"
            ],
            [
             0.8888888888888888,
             "#fdca26"
            ],
            [
             1,
             "#f0f921"
            ]
           ],
           "sequentialminus": [
            [
             0,
             "#0d0887"
            ],
            [
             0.1111111111111111,
             "#46039f"
            ],
            [
             0.2222222222222222,
             "#7201a8"
            ],
            [
             0.3333333333333333,
             "#9c179e"
            ],
            [
             0.4444444444444444,
             "#bd3786"
            ],
            [
             0.5555555555555556,
             "#d8576b"
            ],
            [
             0.6666666666666666,
             "#ed7953"
            ],
            [
             0.7777777777777778,
             "#fb9f3a"
            ],
            [
             0.8888888888888888,
             "#fdca26"
            ],
            [
             1,
             "#f0f921"
            ]
           ]
          },
          "colorway": [
           "#636efa",
           "#EF553B",
           "#00cc96",
           "#ab63fa",
           "#FFA15A",
           "#19d3f3",
           "#FF6692",
           "#B6E880",
           "#FF97FF",
           "#FECB52"
          ],
          "font": {
           "color": "#2a3f5f"
          },
          "geo": {
           "bgcolor": "white",
           "lakecolor": "white",
           "landcolor": "#E5ECF6",
           "showlakes": true,
           "showland": true,
           "subunitcolor": "white"
          },
          "hoverlabel": {
           "align": "left"
          },
          "hovermode": "closest",
          "mapbox": {
           "style": "light"
          },
          "paper_bgcolor": "white",
          "plot_bgcolor": "#E5ECF6",
          "polar": {
           "angularaxis": {
            "gridcolor": "white",
            "linecolor": "white",
            "ticks": ""
           },
           "bgcolor": "#E5ECF6",
           "radialaxis": {
            "gridcolor": "white",
            "linecolor": "white",
            "ticks": ""
           }
          },
          "scene": {
           "xaxis": {
            "backgroundcolor": "#E5ECF6",
            "gridcolor": "white",
            "gridwidth": 2,
            "linecolor": "white",
            "showbackground": true,
            "ticks": "",
            "zerolinecolor": "white"
           },
           "yaxis": {
            "backgroundcolor": "#E5ECF6",
            "gridcolor": "white",
            "gridwidth": 2,
            "linecolor": "white",
            "showbackground": true,
            "ticks": "",
            "zerolinecolor": "white"
           },
           "zaxis": {
            "backgroundcolor": "#E5ECF6",
            "gridcolor": "white",
            "gridwidth": 2,
            "linecolor": "white",
            "showbackground": true,
            "ticks": "",
            "zerolinecolor": "white"
           }
          },
          "shapedefaults": {
           "line": {
            "color": "#2a3f5f"
           }
          },
          "ternary": {
           "aaxis": {
            "gridcolor": "white",
            "linecolor": "white",
            "ticks": ""
           },
           "baxis": {
            "gridcolor": "white",
            "linecolor": "white",
            "ticks": ""
           },
           "bgcolor": "#E5ECF6",
           "caxis": {
            "gridcolor": "white",
            "linecolor": "white",
            "ticks": ""
           }
          },
          "title": {
           "x": 0.05
          },
          "xaxis": {
           "automargin": true,
           "gridcolor": "white",
           "linecolor": "white",
           "ticks": "",
           "title": {
            "standoff": 15
           },
           "zerolinecolor": "white",
           "zerolinewidth": 2
          },
          "yaxis": {
           "automargin": true,
           "gridcolor": "white",
           "linecolor": "white",
           "ticks": "",
           "title": {
            "standoff": 15
           },
           "zerolinecolor": "white",
           "zerolinewidth": 2
          }
         }
        },
        "xaxis": {
         "anchor": "y",
         "domain": [
          0,
          1
         ],
         "title": {
          "text": "genre_name"
         }
        },
        "yaxis": {
         "anchor": "x",
         "domain": [
          0,
          1
         ],
         "dtick": 0.2,
         "tick0": 0,
         "tickmode": "linear",
         "title": {
          "text": "value"
         }
        }
       }
      }
     },
     "metadata": {},
     "output_type": "display_data"
    }
   ],
   "source": [
    "top10_genres = genre_test.nlargest(10, 'genre_counts')\n",
    "\n",
    "fig = px.bar(top10_genres, x='genre_name', y=['valence', 'energy', 'danceability', 'acousticness'], barmode='group')\n",
    "\n",
    "\n",
    "fig.update_layout(\n",
    "    yaxis = dict(\n",
    "        tickmode = 'linear',\n",
    "        tick0 = 0,\n",
    "        dtick = 0.2\n",
    "    )\n",
    ")\n",
    "fig.show()"
   ]
  },
  {
   "cell_type": "code",
   "execution_count": 85,
   "metadata": {},
   "outputs": [
    {
     "data": {
      "image/png": "[encoded data removed]",
      "text/plain": [
       "<Figure size 640x480 with 1 Axes>"
      ]
     },
     "metadata": {},
     "output_type": "display_data"
    }
   ],
   "source": [
    "inertia = []\n",
    "k = list(range(1, 11))\n",
    "\n",
    "# Looking for the best k\n",
    "for i in k:\n",
    "    km = KMeans(n_clusters=i, random_state=0)\n",
    "    km.fit(genre_test.drop(columns='genre_name'))\n",
    "    inertia.append(km.inertia_)\n",
    "\n",
    "# Define a DataFrame to plot the Elbow Curve using hvPlot\n",
    "elbow_data = {\"k\": k, \"inertia\": inertia}\n",
    "df_elbow = pd.DataFrame(elbow_data)\n",
    "\n",
    "plt.plot(df_elbow['k'], df_elbow['inertia'])\n",
    "plt.xticks(range(1,11))\n",
    "plt.xlabel('Number of clusters')\n",
    "plt.ylabel('Inertia')\n",
    "plt.show()"
   ]
  },
  {
   "cell_type": "code",
   "execution_count": 81,
   "metadata": {},
   "outputs": [],
   "source": [
    "cluster_pipeline = Pipeline([('scaler', StandardScaler()), ('kmeans', KMeans(n_clusters=10, random_state=0))])\n",
    "X = genre_test.select_dtypes(np.number)\n",
    "cluster_pipeline.fit(X)\n",
    "genre_test['cluster'] = cluster_pipeline.predict(X)"
   ]
  },
  {
   "cell_type": "code",
   "execution_count": 82,
   "metadata": {},
   "outputs": [
    {
     "name": "stdout",
     "output_type": "stream",
     "text": [
      "[t-SNE] Computing 91 nearest neighbors...\n",
      "[t-SNE] Indexed 476 samples in 0.001s...\n",
      "[t-SNE] Computed neighbors for 476 samples in 0.008s...\n",
      "[t-SNE] Computed conditional probabilities for sample 476 / 476\n",
      "[t-SNE] Mean sigma: 0.242034\n",
      "[t-SNE] KL divergence after 250 iterations with early exaggeration: 47.515869\n",
      "[t-SNE] KL divergence after 1000 iterations: 0.159271\n"
     ]
    },
    {
     "data": {
      "application/vnd.plotly.v1+json": {
       "config": {
        "plotlyServerURL": "https://plot.ly"
       },
       "data": [
        {
         "customdata": [
          [
           "classic rock"
          ],
          [
           "country rock"
          ],
          [
           "folk"
          ],
          [
           "folk rock"
          ],
          [
           "rock"
          ],
          [
           "roots rock"
          ],
          [
           "singer-songwriter"
          ],
          [
           "grunge"
          ],
          [
           "permanent wave"
          ],
          [
           "beatlesque"
          ],
          [
           "british invasion"
          ],
          [
           "merseybeat"
          ],
          [
           "psychedelic rock"
          ],
          [
           "baroque pop"
          ],
          [
           "sunshine pop"
          ],
          [
           "rock-and-roll"
          ],
          [
           "rockabilly"
          ],
          [
           "classic soul"
          ],
          [
           "jazz blues"
          ],
          [
           "memphis soul"
          ],
          [
           "soul"
          ],
          [
           "southern soul"
          ],
          [
           "adult standards"
          ],
          [
           "brill building pop"
          ],
          [
           "classic girl group"
          ],
          [
           "funk"
          ],
          [
           "indie r&b"
          ],
          [
           "motown"
          ],
          [
           "northern soul"
          ],
          [
           "quiet storm"
          ],
          [
           "pop"
          ],
          [
           "r&b"
          ],
          [
           "heartland rock"
          ],
          [
           "mellow gold"
          ],
          [
           "album rock"
          ],
          [
           "art rock"
          ],
          [
           "blues rock"
          ],
          [
           "hard rock"
          ],
          [
           "alternative rock"
          ],
          [
           "madchester"
          ],
          [
           "new wave"
          ],
          [
           "post-punk"
          ],
          [
           "uk post-punk"
          ],
          [
           "soul blues"
          ],
          [
           "atl hip hop"
          ],
          [
           "dirty south rap"
          ],
          [
           "hip hop"
          ],
          [
           "old school atlanta hip hop"
          ],
          [
           "pop rap"
          ],
          [
           "rap"
          ],
          [
           "southern hip hop"
          ],
          [
           "punk"
          ],
          [
           "dance pop"
          ],
          [
           "indietronica"
          ],
          [
           "new rave"
          ],
          [
           "bronx hip hop"
          ],
          [
           "electro"
          ],
          [
           "old school hip hop"
          ],
          [
           "piano blues"
          ],
          [
           "vocal jazz"
          ],
          [
           "glam rock"
          ],
          [
           "funk rock"
          ],
          [
           "minneapolis sound"
          ],
          [
           "synth funk"
          ],
          [
           "britpop"
          ],
          [
           "indie rock"
          ],
          [
           "pop rock"
          ],
          [
           "sheffield indie"
          ],
          [
           "harlem renaissance"
          ],
          [
           "jazz"
          ],
          [
           "lounge"
          ],
          [
           "torch song"
          ],
          [
           "protopunk"
          ],
          [
           "detroit rock"
          ],
          [
           "garage rock"
          ],
          [
           "modern blues rock"
          ],
          [
           "modern rock"
          ],
          [
           "punk blues"
          ],
          [
           "athens indie"
          ],
          [
           "dance rock"
          ],
          [
           "new romantic"
          ],
          [
           "new wave pop"
          ],
          [
           "synthpop"
          ],
          [
           "acid rock"
          ],
          [
           "proto-metal"
          ],
          [
           "classic garage rock"
          ],
          [
           "neo soul"
          ],
          [
           "bubblegum pop"
          ],
          [
           "scottish rock"
          ],
          [
           "hip pop"
          ],
          [
           "urban contemporary"
          ],
          [
           "virginia hip hop"
          ],
          [
           "disco"
          ],
          [
           "hi-nrg"
          ],
          [
           "cosmic american"
          ],
          [
           "soft rock"
          ],
          [
           "shoegaze"
          ],
          [
           "blues"
          ],
          [
           "british blues"
          ],
          [
           "electric blues"
          ],
          [
           "symphonic rock"
          ],
          [
           "downtempo"
          ],
          [
           "electronica"
          ],
          [
           "trip hop"
          ],
          [
           "anti-folk"
          ],
          [
           "conscious hip hop"
          ],
          [
           "east coast hip hop"
          ],
          [
           "gangster rap"
          ],
          [
           "golden age hip hop"
          ],
          [
           "hardcore hip hop"
          ],
          [
           "political hip hop"
          ],
          [
           "rap rock"
          ],
          [
           "art punk"
          ],
          [
           "zolo"
          ],
          [
           "melancholia"
          ],
          [
           "oxford indie"
          ],
          [
           "west coast rap"
          ],
          [
           "yacht rock"
          ],
          [
           "art pop"
          ],
          [
           "electropop"
          ],
          [
           "europop"
          ],
          [
           "scandipop"
          ],
          [
           "swedish electropop"
          ],
          [
           "swedish pop"
          ],
          [
           "alternative dance"
          ],
          [
           "dance-punk"
          ],
          [
           "electronic rock"
          ],
          [
           "early us punk"
          ],
          [
           "canadian electropop"
          ],
          [
           "grave wave"
          ],
          [
           "metropopolis"
          ],
          [
           "lilith"
          ],
          [
           "glam metal"
          ],
          [
           "classic canadian rock"
          ],
          [
           "swamp rock"
          ],
          [
           "chicago rap"
          ],
          [
           "ska"
          ],
          [
           "ska revival"
          ],
          [
           "nz pop"
          ],
          [
           "filter house"
          ],
          [
           "piano rock"
          ],
          [
           "irish rock"
          ],
          [
           "post-disco"
          ],
          [
           "lgbtq+ hip hop"
          ],
          [
           "british soul"
          ],
          [
           "hip house"
          ],
          [
           "new jersey rap"
          ],
          [
           "southern rock"
          ],
          [
           "reggae"
          ],
          [
           "roots reggae"
          ],
          [
           "progressive rock"
          ],
          [
           "french shoegaze"
          ],
          [
           "french synthpop"
          ],
          [
           "neo-synthpop"
          ],
          [
           "honky tonk"
          ],
          [
           "traditional country"
          ],
          [
           "yodeling"
          ],
          [
           "big beat"
          ],
          [
           "instrumental funk"
          ],
          [
           "instrumental soul"
          ],
          [
           "barbadian pop"
          ],
          [
           "doo-wop"
          ],
          [
           "rhythm and blues"
          ],
          [
           "baltimore indie"
          ],
          [
           "chillwave"
          ],
          [
           "birmingham metal"
          ],
          [
           "metal"
          ],
          [
           "stoner rock"
          ],
          [
           "uk doom metal"
          ],
          [
           "candy pop"
          ],
          [
           "power pop"
          ],
          [
           "queens hip hop"
          ],
          [
           "experimental"
          ],
          [
           "no wave"
          ],
          [
           "canadian hip hop"
          ],
          [
           "canadian pop"
          ],
          [
           "toronto rap"
          ],
          [
           ""
          ],
          [
           "american folk revival"
          ],
          [
           "appalachian folk"
          ],
          [
           "old-time"
          ],
          [
           "protest folk"
          ],
          [
           "traditional blues"
          ],
          [
           "traditional folk"
          ],
          [
           "australian psych"
          ],
          [
           "neo-psychedelic"
          ],
          [
           "afrofuturism"
          ],
          [
           "alternative r&b"
          ],
          [
           "escape room"
          ],
          [
           "indie soul"
          ],
          [
           "g funk"
          ],
          [
           "psychedelic soul"
          ],
          [
           "australian dance"
          ],
          [
           "australian pop"
          ],
          [
           "eurodance"
          ],
          [
           "brooklyn indie"
          ],
          [
           "indie pop"
          ],
          [
           "dusseldorf electronic"
          ],
          [
           "early synthpop"
          ],
          [
           "proto-techno"
          ],
          [
           "dream pop"
          ],
          [
           "experimental pop"
          ],
          [
           "freak folk"
          ],
          [
           "noise pop"
          ],
          [
           "electroclash"
          ],
          [
           "arkansas country"
          ],
          [
           "outlaw country"
          ],
          [
           "mod revival"
          ],
          [
           "northern irish punk"
          ],
          [
           "pub rock"
          ],
          [
           "louisiana blues"
          ],
          [
           "new orleans blues"
          ],
          [
           "nashville sound"
          ],
          [
           "chicago blues"
          ],
          [
           "chicago soul"
          ],
          [
           "sophisti-pop"
          ],
          [
           "experimental r&b"
          ],
          [
           "boston rock"
          ],
          [
           "pop soul"
          ],
          [
           "uk pop"
          ],
          [
           "alternative metal"
          ],
          [
           "spacegrunge"
          ],
          [
           "bossa nova"
          ],
          [
           "cool jazz"
          ],
          [
           "jazz saxophone"
          ],
          [
           "latin jazz"
          ],
          [
           "samba-jazz"
          ],
          [
           "freakbeat"
          ],
          [
           "classic country pop"
          ],
          [
           "supergroup"
          ],
          [
           "canadian indie"
          ],
          [
           "quebec indie"
          ],
          [
           "classic uk pop"
          ],
          [
           "detroit hip hop"
          ],
          [
           "trap queen"
          ],
          [
           "breakbeat"
          ],
          [
           "hardcore techno"
          ],
          [
           "rave"
          ],
          [
           "new weird america"
          ],
          [
           "stomp and holler"
          ],
          [
           "alternative pop"
          ],
          [
           "lo-fi"
          ],
          [
           "acoustic blues"
          ],
          [
           "delta blues"
          ],
          [
           "pre-war blues"
          ],
          [
           "australian rock"
          ],
          [
           "jazz funk"
          ],
          [
           "boogie-woogie"
          ],
          [
           "jump blues"
          ],
          [
           "canadian singer-songwriter"
          ],
          [
           "ambient"
          ],
          [
           "braindance"
          ],
          [
           "intelligent dance music"
          ],
          [
           "uk experimental electronic"
          ],
          [
           "gothenburg indie"
          ],
          [
           "swedish synthpop"
          ],
          [
           "chanson"
          ],
          [
           "vintage schlager"
          ],
          [
           "old school thrash"
          ],
          [
           "thrash metal"
          ],
          [
           "french rock"
          ],
          [
           "chicano punk"
          ],
          [
           "speed metal"
          ],
          [
           "noise rock"
          ],
          [
           "native american"
          ],
          [
           "surf music"
          ],
          [
           "nu disco"
          ],
          [
           "funk metal"
          ],
          [
           "nu metal"
          ],
          [
           "rap metal"
          ],
          [
           "swedish alternative rock"
          ],
          [
           "swedish indie pop"
          ],
          [
           "chamber pop"
          ],
          [
           "new jersey indie"
          ],
          [
           "double drumming"
          ],
          [
           "washington indie"
          ],
          [
           "easy listening"
          ],
          [
           "hot jazz"
          ],
          [
           "new orleans jazz"
          ],
          [
           "okc indie"
          ],
          [
           "bebop"
          ],
          [
           "big band"
          ],
          [
           "stride"
          ],
          [
           "swing"
          ],
          [
           "rock independant francais"
          ],
          [
           "classic dubstep"
          ],
          [
           "hauntology"
          ],
          [
           "microhouse"
          ],
          [
           "uk bass"
          ],
          [
           "wonky"
          ],
          [
           "british folk"
          ],
          [
           "palm desert scene"
          ],
          [
           "stoner metal"
          ],
          [
           "scottish indie"
          ],
          [
           "jazz piano"
          ],
          [
           "jazz trio"
          ],
          [
           "memphis blues"
          ],
          [
           "dark pop"
          ],
          [
           "laboratorio"
          ],
          [
           "p funk"
          ],
          [
           "post-teen pop"
          ],
          [
           "talent show"
          ],
          [
           "country"
          ],
          [
           "country dawn"
          ],
          [
           "acoustic punk"
          ],
          [
           "hardcore punk"
          ],
          [
           "contemporary post-bop"
          ],
          [
           "hard bop"
          ],
          [
           "jazz quartet"
          ],
          [
           "australian indie"
          ],
          [
           "melbourne indie"
          ],
          [
           "alternative hip hop"
          ],
          [
           "bboy"
          ],
          [
           "seattle indie"
          ],
          [
           "bow pop"
          ],
          [
           "experimental vocal"
          ],
          [
           "future garage"
          ],
          [
           "contemporary r&b"
          ],
          [
           "girl group"
          ],
          [
           "albuquerque indie"
          ],
          [
           "portland indie"
          ],
          [
           "gothic rock"
          ],
          [
           "eau claire indie"
          ],
          [
           "indie folk"
          ],
          [
           "post-hardcore"
          ],
          [
           "chamber psych"
          ],
          [
           "afrobeat"
          ],
          [
           "afropop"
          ],
          [
           "world"
          ],
          [
           "electro house"
          ],
          [
           "philly rap"
          ],
          [
           "jangle pop"
          ],
          [
           "harmonica blues"
          ],
          [
           "glam punk"
          ],
          [
           "indie garage rock"
          ],
          [
           "la indie"
          ],
          [
           "texas blues"
          ],
          [
           "cyberpunk"
          ],
          [
           "industrial"
          ],
          [
           "industrial metal"
          ],
          [
           "industrial rock"
          ],
          [
           "minnesota hip hop"
          ],
          [
           "jazz fusion"
          ],
          [
           "jazz trumpet"
          ],
          [
           "uk contemporary jazz"
          ],
          [
           "small room"
          ],
          [
           "post-grunge"
          ],
          [
           "dc hardcore"
          ],
          [
           "dub"
          ],
          [
           "belgian singer-songwriter"
          ],
          [
           "french pop"
          ],
          [
           "australian alternative rock"
          ],
          [
           "collage pop"
          ],
          [
           "psychedelic hip hop"
          ],
          [
           "rock drums"
          ],
          [
           "alternative americana"
          ],
          [
           "garage rock revival"
          ],
          [
           "swedish garage rock"
          ],
          [
           "swedish hard rock"
          ],
          [
           "swedish indie rock"
          ],
          [
           "r&b en espanol"
          ],
          [
           "folktronica"
          ],
          [
           "bedroom pop"
          ],
          [
           "jazz trombone"
          ],
          [
           "celtic punk"
          ],
          [
           "celtic rock"
          ],
          [
           "folk punk"
          ],
          [
           "slowcore"
          ],
          [
           "gospel"
          ],
          [
           "spirituals"
          ],
          [
           "modern alternative rock"
          ],
          [
           "vancouver indie"
          ],
          [
           "vancouver punk"
          ],
          [
           "dixieland"
          ],
          [
           "alternative country"
          ],
          [
           "chicago indie"
          ],
          [
           "brighton indie"
          ],
          [
           "etherpop"
          ],
          [
           "canterbury scene"
          ],
          [
           "experimental rock"
          ],
          [
           "uk alternative pop"
          ],
          [
           "olympia wa indie"
          ],
          [
           "\"women's music\""
          ],
          [
           "bluegrass"
          ],
          [
           "bluegrass gospel"
          ],
          [
           "country gospel"
          ],
          [
           "lovers rock"
          ],
          [
           "turntablism"
          ],
          [
           "instrumental rock"
          ],
          [
           "jazz rock"
          ],
          [
           "jazz rap"
          ],
          [
           "dreamo"
          ],
          [
           "toronto indie"
          ],
          [
           "space age pop"
          ],
          [
           "solo wave"
          ],
          [
           "modern power pop"
          ],
          [
           "harlem hip hop"
          ],
          [
           "instrumental math rock"
          ],
          [
           "math rock"
          ],
          [
           "post-rock"
          ],
          [
           "icelandic pop"
          ],
          [
           "icelandic post-punk"
          ],
          [
           "bassline"
          ],
          [
           "grime"
          ],
          [
           "house"
          ],
          [
           "instrumental grime"
          ],
          [
           "south carolina hip hop"
          ],
          [
           "slam poetry"
          ],
          [
           "african-american classical"
          ],
          [
           "canadian contemporary r&b"
          ],
          [
           "skate punk"
          ],
          [
           "new orleans rap"
          ],
          [
           "trap"
          ],
          [
           "boy band"
          ],
          [
           "new jack swing"
          ],
          [
           "sacramento indie"
          ],
          [
           "deconstructed club"
          ],
          [
           "hyperpop"
          ],
          [
           "proto-hyperpop"
          ],
          [
           "transpop"
          ],
          [
           "icelandic experimental"
          ],
          [
           "icelandic singer-songwriter"
          ],
          [
           "rocksteady"
          ],
          [
           "dark wave"
          ],
          [
           "free jazz"
          ],
          [
           "philly soul"
          ],
          [
           "houston rap"
          ],
          [
           "disney"
          ],
          [
           "hollywood"
          ],
          [
           "movie tunes"
          ],
          [
           "philly indie"
          ],
          [
           "tin pan alley"
          ],
          [
           "jam band"
          ],
          [
           "slap house"
          ],
          [
           "synth punk"
          ],
          [
           "brazilian classical"
          ],
          [
           "brazilian jazz"
          ],
          [
           "latin classical"
          ],
          [
           "mpb"
          ],
          [
           "violao"
          ],
          [
           "jazz clarinet"
          ],
          [
           "vintage jazz"
          ],
          [
           "acid house"
          ],
          [
           "detroit techno"
          ],
          [
           "techno"
          ],
          [
           "flute rock"
          ],
          [
           "edm"
          ],
          [
           "uk dance"
          ],
          [
           "ambient pop"
          ],
          [
           "uk americana"
          ],
          [
           "deep adult standards"
          ],
          [
           "country blues"
          ],
          [
           "gospel blues"
          ],
          [
           "french jazz"
          ],
          [
           "gypsy jazz"
          ],
          [
           "jazz guitar"
          ],
          [
           "atmospheric dnb"
          ],
          [
           "drum and bass"
          ],
          [
           "drumfunk"
          ],
          [
           "jungle"
          ],
          [
           "popping"
          ],
          [
           "underground hip hop"
          ],
          [
           "mexican classic rock"
          ],
          [
           "scottish new wave"
          ],
          [
           "birmingham hip hop"
          ],
          [
           "uk garage"
          ],
          [
           "makossa"
          ],
          [
           "vocal harmony group"
          ],
          [
           "ambient house"
          ],
          [
           "melodic rap"
          ],
          [
           "mississippi hip hop"
          ],
          [
           "indie punk"
          ],
          [
           "riot grrrl"
          ],
          [
           "bakersfield sound"
          ],
          [
           "bubblegrunge"
          ],
          [
           "country boogie"
          ]
         ],
         "hovertemplate": "x=%{x}<br>y=%{y}<br>genres=%{customdata[0]}<br>cluster=%{marker.color}<extra></extra>",
         "legendgroup": "",
         "marker": {
          "color": [
           8,
           4,
           4,
           4,
           8,
           4,
           4,
           0,
           4,
           4,
           4,
           4,
           4,
           0,
           0,
           4,
           4,
           4,
           0,
           0,
           4,
           0,
           4,
           0,
           0,
           4,
           0,
           0,
           0,
           0,
           4,
           0,
           0,
           4,
           4,
           4,
           4,
           4,
           4,
           0,
           4,
           0,
           0,
           0,
           0,
           0,
           4,
           0,
           0,
           4,
           0,
           4,
           4,
           0,
           0,
           0,
           0,
           0,
           0,
           0,
           0,
           0,
           0,
           0,
           0,
           4,
           4,
           0,
           0,
           0,
           0,
           0,
           0,
           0,
           0,
           0,
           4,
           0,
           0,
           0,
           0,
           4,
           0,
           0,
           0,
           0,
           0,
           0,
           0,
           0,
           0,
           0,
           0,
           0,
           0,
           4,
           0,
           0,
           0,
           0,
           0,
           0,
           0,
           0,
           0,
           0,
           0,
           0,
           0,
           0,
           0,
           0,
           0,
           0,
           0,
           0,
           0,
           0,
           0,
           0,
           0,
           0,
           0,
           0,
           0,
           0,
           0,
           0,
           0,
           0,
           0,
           0,
           0,
           0,
           0,
           0,
           0,
           0,
           0,
           0,
           0,
           0,
           0,
           0,
           0,
           0,
           0,
           0,
           0,
           0,
           0,
           0,
           0,
           0,
           0,
           0,
           0,
           0,
           0,
           0,
           0,
           0,
           0,
           0,
           0,
           0,
           0,
           0,
           0,
           0,
           0,
           0,
           0,
           0,
           0,
           0,
           0,
           0,
           0,
           0,
           0,
           0,
           0,
           0,
           0,
           0,
           0,
           0,
           0,
           0,
           0,
           0,
           0,
           0,
           0,
           0,
           0,
           0,
           0,
           0,
           0,
           0,
           0,
           0,
           0,
           0,
           0,
           0,
           0,
           0,
           0,
           0,
           0,
           0,
           0,
           0,
           0,
           0,
           0,
           0,
           0,
           0,
           0,
           0,
           0,
           0,
           0,
           0,
           0,
           0,
           0,
           0,
           0,
           0,
           0,
           0,
           0,
           0,
           0,
           0,
           0,
           0,
           0,
           0,
           0,
           0,
           0,
           0,
           0,
           0,
           0,
           0,
           0,
           0,
           0,
           0,
           0,
           0,
           0,
           0,
           0,
           0,
           0,
           0,
           6,
           6,
           6,
           6,
           6,
           6,
           6,
           6,
           6,
           6,
           6,
           6,
           6,
           6,
           6,
           6,
           6,
           6,
           6,
           6,
           6,
           6,
           6,
           6,
           6,
           6,
           6,
           6,
           6,
           6,
           6,
           6,
           6,
           6,
           6,
           6,
           6,
           6,
           6,
           6,
           6,
           6,
           6,
           6,
           6,
           6,
           6,
           6,
           6,
           6,
           6,
           6,
           6,
           6,
           6,
           6,
           6,
           6,
           6,
           6,
           6,
           6,
           6,
           6,
           6,
           6,
           6,
           6,
           6,
           6,
           6,
           6,
           6,
           6,
           6,
           6,
           6,
           6,
           6,
           6,
           6,
           6,
           6,
           6,
           6,
           6,
           6,
           6,
           6,
           6,
           6,
           6,
           6,
           6,
           6,
           6,
           6,
           6,
           6,
           6,
           6,
           6,
           6,
           6,
           6,
           6,
           6,
           6,
           6,
           6,
           6,
           6,
           6,
           6,
           6,
           6,
           6,
           6,
           6,
           6,
           6,
           6,
           6,
           6,
           6,
           6,
           6,
           6,
           6,
           6,
           6,
           6,
           3,
           3,
           3,
           3,
           3,
           3,
           3,
           3,
           3,
           3,
           3,
           3,
           3,
           3,
           3,
           3,
           3,
           3,
           3,
           3,
           3,
           3,
           3,
           3,
           3,
           3,
           3,
           3,
           3,
           2,
           2,
           2,
           2,
           2,
           2,
           2,
           2,
           2,
           2,
           2,
           2,
           2,
           2,
           2,
           2,
           2,
           2,
           2,
           2,
           2,
           2,
           2,
           2,
           5,
           5,
           5,
           5,
           5,
           5,
           5,
           5,
           5,
           5,
           5,
           5,
           7,
           7,
           7,
           7,
           7,
           7,
           7,
           7,
           9,
           9,
           1,
           1,
           1,
           1,
           1
          ],
          "coloraxis": "coloraxis",
          "symbol": "circle"
         },
         "mode": "markers",
         "name": "",
         "orientation": "v",
         "showlegend": false,
         "type": "scatter",
         "x": [
          6.086057662963867,
          3.847663640975952,
          3.667060136795044,
          7.041059494018555,
          5.938969135284424,
          3.6895196437835693,
          3.525860548019409,
          5.67839241027832,
          6.549835681915283,
          3.7676219940185547,
          4.37877893447876,
          3.8950421810150146,
          6.939656734466553,
          4.192579746246338,
          5.301944732666016,
          7.264565467834473,
          3.4081289768218994,
          3.402721643447876,
          5.100400447845459,
          4.6673502922058105,
          7.0774006843566895,
          4.040956974029541,
          4.082254886627197,
          5.928942680358887,
          5.634247303009033,
          3.6638717651367188,
          5.923106670379639,
          3.9865028858184814,
          5.854135513305664,
          3.868471622467041,
          3.6148746013641357,
          4.448751449584961,
          5.17085599899292,
          7.13731050491333,
          7.22548770904541,
          6.831143379211426,
          3.899829864501953,
          4.198984146118164,
          7.023117542266846,
          4.156736850738525,
          4.507713794708252,
          3.8441786766052246,
          4.64271879196167,
          5.075277328491211,
          4.918779373168945,
          5.5860700607299805,
          4.2610626220703125,
          5.678426265716553,
          4.68768835067749,
          4.346909523010254,
          5.315276622772217,
          3.7808189392089844,
          4.420184135437012,
          4.346711158752441,
          3.7104554176330566,
          4.984294414520264,
          3.849238872528076,
          3.6537129878997803,
          4.650920867919922,
          3.521360397338867,
          3.2490484714508057,
          3.2597739696502686,
          4.448787689208984,
          4.316264629364014,
          3.1382455825805664,
          4.831614017486572,
          3.2829813957214355,
          4.56503438949585,
          3.657830238342285,
          3.0268478393554688,
          2.982241153717041,
          4.294447898864746,
          3.156067371368408,
          3.63503098487854,
          3.1221108436584473,
          4.191680908203125,
          4.951394557952881,
          3.387300729751587,
          4.053955554962158,
          3.0713746547698975,
          3.157647132873535,
          4.248006820678711,
          2.767335891723633,
          3.1828396320343018,
          3.315002679824829,
          3.0062267780303955,
          2.9876174926757812,
          3.218498468399048,
          3.3546130657196045,
          2.2721076011657715,
          2.27388072013855,
          3.2548577785491943,
          2.8572726249694824,
          3.1308770179748535,
          2.691293239593506,
          4.942101955413818,
          2.0486392974853516,
          1.8249220848083496,
          2.0386648178100586,
          1.2316768169403076,
          1.075310468673706,
          1.3086649179458618,
          2.5504961013793945,
          0.2605363130569458,
          0.30963265895843506,
          0.9496389031410217,
          1.3341271877288818,
          1.2542531490325928,
          0.7200835347175598,
          0.9496199488639832,
          0.5830448865890503,
          0.3509991466999054,
          0.13995397090911865,
          -0.6682232618331909,
          2.6728246212005615,
          -0.5670374035835266,
          -1.0470231771469116,
          0.6174905896186829,
          2.257803440093994,
          0.6954553127288818,
          0.07129984349012375,
          0.5573691725730896,
          0.5710946321487427,
          0.5685332417488098,
          2.2350125312805176,
          0.15252861380577087,
          0.2833858132362366,
          -0.14600041508674622,
          -0.5751186013221741,
          -0.5763969421386719,
          -0.9795367121696472,
          -1.2151274681091309,
          -1.917332410812378,
          -2.6311841011047363,
          -2.2045533657073975,
          -2.228442907333374,
          -2.498445987701416,
          -1.6901401281356812,
          -1.5169486999511719,
          -1.9191080331802368,
          -3.03037166595459,
          -3.2833762168884277,
          -3.8934707641601562,
          -3.776218891143799,
          -3.982626438140869,
          -4.238636016845703,
          -4.238404750823975,
          -4.15230131149292,
          -4.471217632293701,
          -4.4790143966674805,
          -4.862929344177246,
          -4.308225631713867,
          -4.308176040649414,
          -4.978341579437256,
          -4.855552673339844,
          -4.901735782623291,
          -4.867933750152588,
          -9.179526329040527,
          -8.946115493774414,
          -8.928062438964844,
          -8.973616600036621,
          -10.401867866516113,
          -11.038250923156738,
          -9.340704917907715,
          -9.761932373046875,
          -9.606199264526367,
          -10.312972068786621,
          -9.770331382751465,
          -9.711181640625,
          -9.755827903747559,
          -10.457606315612793,
          -10.019680976867676,
          -10.147335052490234,
          -10.036495208740234,
          -10.228021621704102,
          -10.455124855041504,
          -10.219457626342773,
          -11.687393188476562,
          -11.95703411102295,
          -11.86702823638916,
          -11.83524227142334,
          -11.874594688415527,
          -10.955676078796387,
          -11.709940910339355,
          -12.533072471618652,
          -12.416650772094727,
          -12.19541072845459,
          -12.122564315795898,
          -12.041632652282715,
          -12.445489883422852,
          -12.63439655303955,
          -14.180378913879395,
          -14.2733154296875,
          -14.27025032043457,
          -14.500458717346191,
          -14.995279312133789,
          -11.766956329345703,
          -15.127313613891602,
          -15.110369682312012,
          -14.794255256652832,
          -11.651250839233398,
          -14.550578117370605,
          -14.744534492492676,
          -14.145188331604004,
          -16.5303897857666,
          -20.388334274291992,
          -20.401241302490234,
          -21.525039672851562,
          -21.54498863220215,
          -20.335922241210938,
          -20.950422286987305,
          -20.93192481994629,
          -21.098722457885742,
          -21.005380630493164,
          -21.78268051147461,
          -21.677669525146484,
          -22.127859115600586,
          -22.38186264038086,
          -22.611289978027344,
          -22.602773666381836,
          -23.97587776184082,
          -23.888168334960938,
          -24.156814575195312,
          -24.181753158569336,
          -24.04564094543457,
          -23.90105438232422,
          -23.754297256469727,
          -23.605880737304688,
          -23.437076568603516,
          -23.072227478027344,
          -25.001983642578125,
          -25.197227478027344,
          -25.767841339111328,
          -26.519838333129883,
          -27.159088134765625,
          -27.190824508666992,
          -27.27155303955078,
          -27.260286331176758,
          -28.543428421020508,
          -28.709915161132812,
          -28.569576263427734,
          -28.717592239379883,
          -28.648733139038086,
          -28.893529891967773,
          -28.29747772216797,
          -28.21342658996582,
          -28.173526763916016,
          -27.684162139892578,
          -27.684162139892578,
          -28.009000778198242,
          -26.031286239624023,
          -26.031373977661133,
          -26.25773048400879,
          -26.098125457763672,
          -26.306812286376953,
          -26.36737823486328,
          -27.65266990661621,
          -27.61579132080078,
          -29.675390243530273,
          -29.657791137695312,
          -29.649219512939453,
          -29.41017723083496,
          -30.000940322875977,
          -30.01624298095703,
          -10.514981269836426,
          -10.543248176574707,
          -9.970013618469238,
          -10.02203369140625,
          -10.089071273803711,
          -9.863215446472168,
          -9.232633590698242,
          -9.232637405395508,
          -9.456013679504395,
          -9.101495742797852,
          -8.575932502746582,
          -8.37032699584961,
          -8.591238975524902,
          -7.731426239013672,
          -7.731423854827881,
          -5.286491870880127,
          -3.7503652572631836,
          -3.48454213142395,
          -4.1894211769104,
          -3.330296277999878,
          -4.605998516082764,
          -4.815140724182129,
          -4.72737455368042,
          -4.653677463531494,
          -4.652929782867432,
          -4.6554670333862305,
          -3.4728312492370605,
          -3.5085606575012207,
          -3.5280237197875977,
          -4.148014545440674,
          -4.366751670837402,
          -4.541778564453125,
          -4.770167827606201,
          -4.455190658569336,
          -4.330875873565674,
          -4.3994011878967285,
          -4.977284908294678,
          -4.799076080322266,
          -4.9102983474731445,
          -4.830364227294922,
          -4.533026695251465,
          -5.362733840942383,
          -6.106715202331543,
          -6.106715202331543,
          -6.0843729972839355,
          -5.668993949890137,
          -5.645284175872803,
          -6.1033616065979,
          -6.123245716094971,
          -5.984799861907959,
          -6.5605010986328125,
          -6.657558441162109,
          -0.7136600613594055,
          -0.7041684985160828,
          -0.6464219093322754,
          -0.0333283506333828,
          -0.19709281623363495,
          -0.3580937385559082,
          2.7053184509277344,
          2.6523962020874023,
          3.4388091564178467,
          3.7799339294433594,
          4.513643741607666,
          4.513643741607666,
          4.513643741607666,
          4.974255561828613,
          5.6870622634887695,
          5.619288921356201,
          5.2907185554504395,
          5.165836811065674,
          5.1165642738342285,
          5.102262020111084,
          3.8470888137817383,
          4.049872875213623,
          3.923710823059082,
          4.315983772277832,
          4.3156023025512695,
          4.622140884399414,
          4.341431617736816,
          4.18082332611084,
          4.543907165527344,
          4.791896343231201,
          5.584113121032715,
          7.840173244476318,
          7.799069404602051,
          8.35383415222168,
          8.335390090942383,
          7.8303704261779785,
          7.85228157043457,
          8.184944152832031,
          8.735368728637695,
          8.73521900177002,
          8.270475387573242,
          8.758771896362305,
          8.758771896362305,
          8.513323783874512,
          5.236461162567139,
          4.7375311851501465,
          4.739269256591797,
          4.720027446746826,
          4.092495441436768,
          4.092486381530762,
          4.0915679931640625,
          5.9690423011779785,
          4.872040271759033,
          4.872129917144775,
          4.9434051513671875,
          5.214559078216553,
          5.211324214935303,
          5.260846138000488,
          5.577640533447266,
          5.576972961425781,
          5.199466705322266,
          5.30607271194458,
          5.536004066467285,
          5.640892028808594,
          5.944762706756592,
          6.097585201263428,
          6.797316074371338,
          7.335594177246094,
          7.335594177246094,
          7.3431501388549805,
          7.468029022216797,
          7.500001907348633,
          7.925107479095459,
          7.942723274230957,
          8.127738952636719,
          8.153197288513184,
          8.23019027709961,
          8.585419654846191,
          8.889863014221191,
          8.940980911254883,
          29.185428619384766,
          29.633846282958984,
          29.633846282958984,
          29.633846282958984,
          29.521167755126953,
          29.520404815673828,
          28.87917709350586,
          28.87917709350586,
          28.57464599609375,
          28.87917709350586,
          28.73520851135254,
          28.49202537536621,
          28.42355728149414,
          27.823570251464844,
          28.08998680114746,
          28.12650489807129,
          27.91843605041504,
          27.567970275878906,
          27.449588775634766,
          27.426855087280273,
          28.05518913269043,
          27.815481185913086,
          27.815481185913086,
          27.815481185913086,
          27.295818328857422,
          27.284503936767578,
          26.572832107543945,
          26.046518325805664,
          25.883787155151367,
          25.402971267700195,
          25.013507843017578,
          24.65627098083496,
          24.65627098083496,
          24.65627098083496,
          24.237184524536133,
          24.309593200683594,
          24.742006301879883,
          24.613710403442383,
          24.188737869262695,
          23.323774337768555,
          23.323774337768555,
          23.323774337768555,
          23.323774337768555,
          23.323774337768555,
          23.741863250732422,
          23.842226028442383,
          23.443140029907227,
          23.443140029907227,
          23.443140029907227,
          22.546947479248047,
          22.331079483032227,
          22.283323287963867,
          22.2685546875,
          19.675310134887695,
          19.578256607055664,
          18.500762939453125,
          18.500789642333984,
          18.04859161376953,
          18.04859161376953,
          18.030242919921875,
          17.727294921875,
          17.745718002319336,
          17.745718002319336,
          17.76194953918457,
          17.26920509338379,
          16.658565521240234,
          16.495004653930664,
          16.489891052246094,
          16.433223724365234,
          16.433223724365234,
          19.82703971862793,
          19.847740173339844,
          19.845699310302734,
          19.52301025390625,
          19.52301025390625,
          18.67219352722168,
          18.709135055541992,
          18.77501678466797,
          18.729005813598633,
          18.650161743164062
         ],
         "xaxis": "x",
         "y": [
          32.62793731689453,
          28.342634201049805,
          28.06507110595703,
          31.08864402770996,
          32.81184005737305,
          27.528383255004883,
          29.181278228759766,
          16.226848602294922,
          31.995540618896484,
          26.89356803894043,
          29.38236427307129,
          25.762197494506836,
          31.287443161010742,
          21.092208862304688,
          17.991395950317383,
          30.658782958984375,
          28.414230346679688,
          28.581562042236328,
          18.368785858154297,
          19.554317474365234,
          31.294992446899414,
          21.62277603149414,
          29.991992950439453,
          15.254232406616211,
          16.976903915405273,
          29.346790313720703,
          14.702129364013672,
          23.85930633544922,
          15.575743675231934,
          25.00470542907715,
          27.10944175720215,
          20.074195861816406,
          17.925334930419922,
          31.19573974609375,
          30.763458251953125,
          31.57617950439453,
          29.16128921508789,
          27.864727020263672,
          31.11008644104004,
          20.542190551757812,
          29.69599151611328,
          24.512489318847656,
          19.19700050354004,
          16.862886428833008,
          16.837465286254883,
          13.947314262390137,
          28.64674949645996,
          13.291693687438965,
          17.4754581451416,
          28.92798614501953,
          15.356599807739258,
          25.73079490661621,
          28.160520553588867,
          18.765092849731445,
          24.058208465576172,
          12.765761375427246,
          16.926433563232422,
          18.29950523376465,
          13.608819007873535,
          18.956586837768555,
          25.326597213745117,
          18.049108505249023,
          13.016593933105469,
          13.286795616149902,
          19.159570693969727,
          28.72304916381836,
          25.667814254760742,
          12.253149032592773,
          14.715007781982422,
          18.591651916503906,
          22.052433013916016,
          12.640628814697266,
          22.954500198364258,
          13.490242958068848,
          15.928661346435547,
          12.046130180358887,
          28.87220573425293,
          14.679186820983887,
          12.597658157348633,
          22.774721145629883,
          23.802080154418945,
          26.928131103515625,
          20.902549743652344,
          16.566444396972656,
          13.582932472229004,
          14.848156929016113,
          16.834369659423828,
          24.459592819213867,
          11.084887504577637,
          16.410173416137695,
          19.71148681640625,
          11.264493942260742,
          23.225326538085938,
          11.342235565185547,
          12.140700340270996,
          28.135236740112305,
          12.237566947937012,
          19.6373291015625,
          11.894176483154297,
          16.21993064880371,
          18.140729904174805,
          11.577564239501953,
          23.47539520263672,
          13.029455184936523,
          12.752827644348145,
          18.14832878112793,
          19.810514450073242,
          19.3338565826416,
          16.749208450317383,
          18.148096084594727,
          11.950896263122559,
          12.064505577087402,
          12.396122932434082,
          12.033341407775879,
          24.629405975341797,
          11.906323432922363,
          11.305639266967773,
          8.983198165893555,
          24.270830154418945,
          19.448755264282227,
          9.610588073730469,
          7.8932671546936035,
          8.07779598236084,
          8.283260345458984,
          23.778362274169922,
          9.124649047851562,
          8.614232063293457,
          8.564070701599121,
          7.032350540161133,
          7.033153533935547,
          8.809480667114258,
          7.148576736450195,
          7.880122661590576,
          8.92908763885498,
          8.258487701416016,
          8.25113582611084,
          9.361595153808594,
          7.173153877258301,
          6.980428218841553,
          8.343972206115723,
          9.386911392211914,
          9.036657333374023,
          8.527875900268555,
          7.185837745666504,
          6.653571605682373,
          7.743806838989258,
          6.885156631469727,
          8.302277565002441,
          8.516018867492676,
          8.262866973876953,
          8.741486549377441,
          5.7163543701171875,
          5.716394424438477,
          7.6722917556762695,
          6.445479393005371,
          7.06613302230835,
          6.629942417144775,
          7.348794937133789,
          4.668871879577637,
          4.523685932159424,
          5.200183391571045,
          8.266868591308594,
          10.365129470825195,
          5.098712921142578,
          6.776812553405762,
          5.065428256988525,
          8.343107223510742,
          5.365111827850342,
          5.074075222015381,
          5.940229415893555,
          8.801966667175293,
          6.024476051330566,
          6.993905544281006,
          4.406557083129883,
          4.280578136444092,
          6.375980377197266,
          4.203497409820557,
          5.832541465759277,
          4.162919998168945,
          4.942509174346924,
          4.3892822265625,
          3.9846394062042236,
          10.44417953491211,
          4.928418159484863,
          4.448330402374268,
          5.004489898681641,
          5.889379978179932,
          6.392848014831543,
          6.815751075744629,
          4.991315841674805,
          5.575089454650879,
          5.3304877281188965,
          4.849093914031982,
          4.579654216766357,
          4.383370399475098,
          5.674076557159424,
          9.752748489379883,
          4.8975138664245605,
          5.112801551818848,
          4.912626266479492,
          9.865702629089355,
          5.85419225692749,
          4.367193222045898,
          7.0092668533325195,
          4.666600227355957,
          3.10675048828125,
          3.0969436168670654,
          3.8572142124176025,
          3.4849460124969482,
          5.944568634033203,
          4.206048011779785,
          4.227911949157715,
          4.613246440887451,
          5.058805465698242,
          4.376210689544678,
          4.686218738555908,
          3.7886147499084473,
          3.9951789379119873,
          2.933126926422119,
          3.0184037685394287,
          4.225312232971191,
          3.1401052474975586,
          3.3292622566223145,
          3.641390085220337,
          3.836496114730835,
          3.117608070373535,
          3.138144016265869,
          4.248940467834473,
          3.675412893295288,
          3.8073019981384277,
          1.6697688102722168,
          1.6976101398468018,
          1.1066296100616455,
          0.7683536410331726,
          0.9019321203231812,
          0.8842517137527466,
          0.8676648139953613,
          0.8507775068283081,
          0.9015799760818481,
          0.7324416041374207,
          0.33033907413482666,
          0.26232898235321045,
          -0.4287498891353607,
          -0.41838034987449646,
          -0.4232009947299957,
          -0.14657622575759888,
          -0.43679824471473694,
          -0.14362232387065887,
          -0.14362232387065887,
          3.0754103660583496,
          2.8124237060546875,
          2.812556743621826,
          2.954397201538086,
          2.8044846057891846,
          2.570150375366211,
          2.4713237285614014,
          1.7673436403274536,
          1.8023067712783813,
          1.953779697418213,
          1.9288222789764404,
          1.9236217737197876,
          1.8606698513031006,
          1.1777704954147339,
          1.1108394861221313,
          -22.367450714111328,
          -22.480836868286133,
          -22.477609634399414,
          -22.80936050415039,
          -22.940093994140625,
          -22.551305770874023,
          -22.994789123535156,
          -22.99479103088379,
          -23.612323760986328,
          -22.97121238708496,
          -23.509628295898438,
          -23.37067985534668,
          -23.829641342163086,
          -23.560157775878906,
          -23.560157775878906,
          -24.666671752929688,
          -25.945148468017578,
          -26.181941986083984,
          -25.50907325744629,
          -26.330482482910156,
          -25.463531494140625,
          -25.789161682128906,
          -25.795734405517578,
          -25.990633010864258,
          -25.99020004272461,
          -25.988855361938477,
          -25.262935638427734,
          -22.67572784423828,
          -22.71613311767578,
          -23.619789123535156,
          -23.998546600341797,
          -23.953948974609375,
          -23.595321655273438,
          -23.031539916992188,
          -22.953298568725586,
          -22.322956085205078,
          -22.739301681518555,
          -22.247940063476562,
          -22.745651245117188,
          -22.52114486694336,
          -22.262887954711914,
          -22.061283111572266,
          -22.485294342041016,
          -22.485294342041016,
          -22.4306583404541,
          -26.245834350585938,
          -26.245704650878906,
          -24.858617782592773,
          -24.82010841369629,
          -24.374460220336914,
          -24.195035934448242,
          -24.081113815307617,
          -26.342784881591797,
          -26.376415252685547,
          -26.390165328979492,
          -26.573162078857422,
          -26.520336151123047,
          -26.43666648864746,
          -27.485136032104492,
          -27.485227584838867,
          -27.315452575683594,
          -27.113374710083008,
          -26.970613479614258,
          -26.970613479614258,
          -26.970613479614258,
          -27.082122802734375,
          -29.131816864013672,
          -29.565135955810547,
          -29.838611602783203,
          -29.728302001953125,
          -28.077566146850586,
          -28.08031463623047,
          -28.455183029174805,
          -28.15401840209961,
          -28.43191909790039,
          -28.096588134765625,
          -28.09675407409668,
          -28.243677139282227,
          -28.895660400390625,
          -28.958419799804688,
          -28.77928352355957,
          -28.615615844726562,
          -28.536165237426758,
          -28.31330680847168,
          -28.615859985351562,
          -29.503215789794922,
          -29.46718406677246,
          -29.311716079711914,
          -29.173233032226562,
          -28.933795928955078,
          -29.076623916625977,
          -29.07944679260254,
          -28.48703956604004,
          -28.543533325195312,
          -28.543533325195312,
          -28.31574249267578,
          -20.89804458618164,
          -21.317211151123047,
          -21.503570556640625,
          -21.524858474731445,
          -21.056028366088867,
          -21.05604362487793,
          -21.056379318237305,
          -18.875885009765625,
          -17.699356079101562,
          -17.699291229248047,
          -17.652240753173828,
          -17.9395694732666,
          -17.938922882080078,
          -17.97772979736328,
          -17.530284881591797,
          -17.488067626953125,
          -16.56187629699707,
          -16.57480239868164,
          -16.528573989868164,
          -16.45323944091797,
          -16.413196563720703,
          -16.77532386779785,
          -17.514081954956055,
          -16.911930084228516,
          -16.911930084228516,
          -16.889068603515625,
          -16.424245834350586,
          -17.63165855407715,
          -17.384654998779297,
          -17.392364501953125,
          -17.157419204711914,
          -18.300661087036133,
          -18.34686279296875,
          -18.88283348083496,
          -19.726245880126953,
          -19.859901428222656,
          -6.69545316696167,
          -5.682333946228027,
          -5.682333946228027,
          -5.682333946228027,
          -6.253958702087402,
          -6.2519402503967285,
          -4.64334774017334,
          -4.64334774017334,
          -4.540436744689941,
          -4.64334774017334,
          -5.127181053161621,
          -5.903343200683594,
          -5.872228622436523,
          -6.85474967956543,
          -6.831901550292969,
          -6.65044641494751,
          -6.497079372406006,
          -6.540505886077881,
          -6.244481563568115,
          -5.803704261779785,
          -5.630788803100586,
          -5.439394950866699,
          -5.439394950866699,
          -5.439394950866699,
          -4.1672821044921875,
          -4.167236328125,
          -3.779653787612915,
          -3.6058576107025146,
          -3.371678352355957,
          -2.8650150299072266,
          -2.2097978591918945,
          -2.44742751121521,
          -2.44742751121521,
          -2.44742751121521,
          -2.396655321121216,
          -1.8984434604644775,
          -1.3779350519180298,
          -1.0833543539047241,
          -1.374459147453308,
          -1.5076885223388672,
          -1.5076885223388672,
          -1.5076885223388672,
          -1.5076885223388672,
          -1.5076885223388672,
          -0.9186050295829773,
          -0.6997243165969849,
          -0.4697038233280182,
          -0.4697038233280182,
          -0.4697038233280182,
          -0.4492878019809723,
          -0.7139601111412048,
          -0.8671512603759766,
          -1.1719032526016235,
          0.5343104600906372,
          0.5603836178779602,
          0.7991445064544678,
          0.7990025281906128,
          1.2176694869995117,
          1.2176694869995117,
          1.2392761707305908,
          0.6714147329330444,
          0.6611629128456116,
          0.6611629128456116,
          0.6493667364120483,
          1.1263437271118164,
          -1.5956847667694092,
          -2.06009578704834,
          -2.0452418327331543,
          -2.1590757369995117,
          -2.1590757369995117,
          -3.3994104862213135,
          -3.4155945777893066,
          -3.4111502170562744,
          3.872600555419922,
          3.872600555419922,
          4.32194185256958,
          4.316450595855713,
          4.2906718254089355,
          4.322455406188965,
          4.37241268157959
         ],
         "yaxis": "y"
        }
       ],
       "layout": {
        "coloraxis": {
         "colorbar": {
          "title": {
           "text": "cluster"
          }
         },
         "colorscale": [
          [
           0,
           "#0d0887"
          ],
          [
           0.1111111111111111,
           "#46039f"
          ],
          [
           0.2222222222222222,
           "#7201a8"
          ],
          [
           0.3333333333333333,
           "#9c179e"
          ],
          [
           0.4444444444444444,
           "#bd3786"
          ],
          [
           0.5555555555555556,
           "#d8576b"
          ],
          [
           0.6666666666666666,
           "#ed7953"
          ],
          [
           0.7777777777777778,
           "#fb9f3a"
          ],
          [
           0.8888888888888888,
           "#fdca26"
          ],
          [
           1,
           "#f0f921"
          ]
         ]
        },
        "legend": {
         "tracegroupgap": 0
        },
        "margin": {
         "t": 60
        },
        "template": {
         "data": {
          "bar": [
           {
            "error_x": {
             "color": "#2a3f5f"
            },
            "error_y": {
             "color": "#2a3f5f"
            },
            "marker": {
             "line": {
              "color": "#E5ECF6",
              "width": 0.5
             },
             "pattern": {
              "fillmode": "overlay",
              "size": 10,
              "solidity": 0.2
             }
            },
            "type": "bar"
           }
          ],
          "barpolar": [
           {
            "marker": {
             "line": {
              "color": "#E5ECF6",
              "width": 0.5
             },
             "pattern": {
              "fillmode": "overlay",
              "size": 10,
              "solidity": 0.2
             }
            },
            "type": "barpolar"
           }
          ],
          "carpet": [
           {
            "aaxis": {
             "endlinecolor": "#2a3f5f",
             "gridcolor": "white",
             "linecolor": "white",
             "minorgridcolor": "white",
             "startlinecolor": "#2a3f5f"
            },
            "baxis": {
             "endlinecolor": "#2a3f5f",
             "gridcolor": "white",
             "linecolor": "white",
             "minorgridcolor": "white",
             "startlinecolor": "#2a3f5f"
            },
            "type": "carpet"
           }
          ],
          "choropleth": [
           {
            "colorbar": {
             "outlinewidth": 0,
             "ticks": ""
            },
            "type": "choropleth"
           }
          ],
          "contour": [
           {
            "colorbar": {
             "outlinewidth": 0,
             "ticks": ""
            },
            "colorscale": [
             [
              0,
              "#0d0887"
             ],
             [
              0.1111111111111111,
              "#46039f"
             ],
             [
              0.2222222222222222,
              "#7201a8"
             ],
             [
              0.3333333333333333,
              "#9c179e"
             ],
             [
              0.4444444444444444,
              "#bd3786"
             ],
             [
              0.5555555555555556,
              "#d8576b"
             ],
             [
              0.6666666666666666,
              "#ed7953"
             ],
             [
              0.7777777777777778,
              "#fb9f3a"
             ],
             [
              0.8888888888888888,
              "#fdca26"
             ],
             [
              1,
              "#f0f921"
             ]
            ],
            "type": "contour"
           }
          ],
          "contourcarpet": [
           {
            "colorbar": {
             "outlinewidth": 0,
             "ticks": ""
            },
            "type": "contourcarpet"
           }
          ],
          "heatmap": [
           {
            "colorbar": {
             "outlinewidth": 0,
             "ticks": ""
            },
            "colorscale": [
             [
              0,
              "#0d0887"
             ],
             [
              0.1111111111111111,
              "#46039f"
             ],
             [
              0.2222222222222222,
              "#7201a8"
             ],
             [
              0.3333333333333333,
              "#9c179e"
             ],
             [
              0.4444444444444444,
              "#bd3786"
             ],
             [
              0.5555555555555556,
              "#d8576b"
             ],
             [
              0.6666666666666666,
              "#ed7953"
             ],
             [
              0.7777777777777778,
              "#fb9f3a"
             ],
             [
              0.8888888888888888,
              "#fdca26"
             ],
             [
              1,
              "#f0f921"
             ]
            ],
            "type": "heatmap"
           }
          ],
          "heatmapgl": [
           {
            "colorbar": {
             "outlinewidth": 0,
             "ticks": ""
            },
            "colorscale": [
             [
              0,
              "#0d0887"
             ],
             [
              0.1111111111111111,
              "#46039f"
             ],
             [
              0.2222222222222222,
              "#7201a8"
             ],
             [
              0.3333333333333333,
              "#9c179e"
             ],
             [
              0.4444444444444444,
              "#bd3786"
             ],
             [
              0.5555555555555556,
              "#d8576b"
             ],
             [
              0.6666666666666666,
              "#ed7953"
             ],
             [
              0.7777777777777778,
              "#fb9f3a"
             ],
             [
              0.8888888888888888,
              "#fdca26"
             ],
             [
              1,
              "#f0f921"
             ]
            ],
            "type": "heatmapgl"
           }
          ],
          "histogram": [
           {
            "marker": {
             "pattern": {
              "fillmode": "overlay",
              "size": 10,
              "solidity": 0.2
             }
            },
            "type": "histogram"
           }
          ],
          "histogram2d": [
           {
            "colorbar": {
             "outlinewidth": 0,
             "ticks": ""
            },
            "colorscale": [
             [
              0,
              "#0d0887"
             ],
             [
              0.1111111111111111,
              "#46039f"
             ],
             [
              0.2222222222222222,
              "#7201a8"
             ],
             [
              0.3333333333333333,
              "#9c179e"
             ],
             [
              0.4444444444444444,
              "#bd3786"
             ],
             [
              0.5555555555555556,
              "#d8576b"
             ],
             [
              0.6666666666666666,
              "#ed7953"
             ],
             [
              0.7777777777777778,
              "#fb9f3a"
             ],
             [
              0.8888888888888888,
              "#fdca26"
             ],
             [
              1,
              "#f0f921"
             ]
            ],
            "type": "histogram2d"
           }
          ],
          "histogram2dcontour": [
           {
            "colorbar": {
             "outlinewidth": 0,
             "ticks": ""
            },
            "colorscale": [
             [
              0,
              "#0d0887"
             ],
             [
              0.1111111111111111,
              "#46039f"
             ],
             [
              0.2222222222222222,
              "#7201a8"
             ],
             [
              0.3333333333333333,
              "#9c179e"
             ],
             [
              0.4444444444444444,
              "#bd3786"
             ],
             [
              0.5555555555555556,
              "#d8576b"
             ],
             [
              0.6666666666666666,
              "#ed7953"
             ],
             [
              0.7777777777777778,
              "#fb9f3a"
             ],
             [
              0.8888888888888888,
              "#fdca26"
             ],
             [
              1,
              "#f0f921"
             ]
            ],
            "type": "histogram2dcontour"
           }
          ],
          "mesh3d": [
           {
            "colorbar": {
             "outlinewidth": 0,
             "ticks": ""
            },
            "type": "mesh3d"
           }
          ],
          "parcoords": [
           {
            "line": {
             "colorbar": {
              "outlinewidth": 0,
              "ticks": ""
             }
            },
            "type": "parcoords"
           }
          ],
          "pie": [
           {
            "automargin": true,
            "type": "pie"
           }
          ],
          "scatter": [
           {
            "fillpattern": {
             "fillmode": "overlay",
             "size": 10,
             "solidity": 0.2
            },
            "type": "scatter"
           }
          ],
          "scatter3d": [
           {
            "line": {
             "colorbar": {
              "outlinewidth": 0,
              "ticks": ""
             }
            },
            "marker": {
             "colorbar": {
              "outlinewidth": 0,
              "ticks": ""
             }
            },
            "type": "scatter3d"
           }
          ],
          "scattercarpet": [
           {
            "marker": {
             "colorbar": {
              "outlinewidth": 0,
              "ticks": ""
             }
            },
            "type": "scattercarpet"
           }
          ],
          "scattergeo": [
           {
            "marker": {
             "colorbar": {
              "outlinewidth": 0,
              "ticks": ""
             }
            },
            "type": "scattergeo"
           }
          ],
          "scattergl": [
           {
            "marker": {
             "colorbar": {
              "outlinewidth": 0,
              "ticks": ""
             }
            },
            "type": "scattergl"
           }
          ],
          "scattermapbox": [
           {
            "marker": {
             "colorbar": {
              "outlinewidth": 0,
              "ticks": ""
             }
            },
            "type": "scattermapbox"
           }
          ],
          "scatterpolar": [
           {
            "marker": {
             "colorbar": {
              "outlinewidth": 0,
              "ticks": ""
             }
            },
            "type": "scatterpolar"
           }
          ],
          "scatterpolargl": [
           {
            "marker": {
             "colorbar": {
              "outlinewidth": 0,
              "ticks": ""
             }
            },
            "type": "scatterpolargl"
           }
          ],
          "scatterternary": [
           {
            "marker": {
             "colorbar": {
              "outlinewidth": 0,
              "ticks": ""
             }
            },
            "type": "scatterternary"
           }
          ],
          "surface": [
           {
            "colorbar": {
             "outlinewidth": 0,
             "ticks": ""
            },
            "colorscale": [
             [
              0,
              "#0d0887"
             ],
             [
              0.1111111111111111,
              "#46039f"
             ],
             [
              0.2222222222222222,
              "#7201a8"
             ],
             [
              0.3333333333333333,
              "#9c179e"
             ],
             [
              0.4444444444444444,
              "#bd3786"
             ],
             [
              0.5555555555555556,
              "#d8576b"
             ],
             [
              0.6666666666666666,
              "#ed7953"
             ],
             [
              0.7777777777777778,
              "#fb9f3a"
             ],
             [
              0.8888888888888888,
              "#fdca26"
             ],
             [
              1,
              "#f0f921"
             ]
            ],
            "type": "surface"
           }
          ],
          "table": [
           {
            "cells": {
             "fill": {
              "color": "#EBF0F8"
             },
             "line": {
              "color": "white"
             }
            },
            "header": {
             "fill": {
              "color": "#C8D4E3"
             },
             "line": {
              "color": "white"
             }
            },
            "type": "table"
           }
          ]
         },
         "layout": {
          "annotationdefaults": {
           "arrowcolor": "#2a3f5f",
           "arrowhead": 0,
           "arrowwidth": 1
          },
          "autotypenumbers": "strict",
          "coloraxis": {
           "colorbar": {
            "outlinewidth": 0,
            "ticks": ""
           }
          },
          "colorscale": {
           "diverging": [
            [
             0,
             "#8e0152"
            ],
            [
             0.1,
             "#c51b7d"
            ],
            [
             0.2,
             "#de77ae"
            ],
            [
             0.3,
             "#f1b6da"
            ],
            [
             0.4,
             "#fde0ef"
            ],
            [
             0.5,
             "#f7f7f7"
            ],
            [
             0.6,
             "#e6f5d0"
            ],
            [
             0.7,
             "#b8e186"
            ],
            [
             0.8,
             "#7fbc41"
            ],
            [
             0.9,
             "#4d9221"
            ],
            [
             1,
             "#276419"
            ]
           ],
           "sequential": [
            [
             0,
             "#0d0887"
            ],
            [
             0.1111111111111111,
             "#46039f"
            ],
            [
             0.2222222222222222,
             "#7201a8"
            ],
            [
             0.3333333333333333,
             "#9c179e"
            ],
            [
             0.4444444444444444,
             "#bd3786"
            ],
            [
             0.5555555555555556,
             "#d8576b"
            ],
            [
             0.6666666666666666,
             "#ed7953"
            ],
            [
             0.7777777777777778,
             "#fb9f3a"
            ],
            [
             0.8888888888888888,
             "#fdca26"
            ],
            [
             1,
             "#f0f921"
            ]
           ],
           "sequentialminus": [
            [
             0,
             "#0d0887"
            ],
            [
             0.1111111111111111,
             "#46039f"
            ],
            [
             0.2222222222222222,
             "#7201a8"
            ],
            [
             0.3333333333333333,
             "#9c179e"
            ],
            [
             0.4444444444444444,
             "#bd3786"
            ],
            [
             0.5555555555555556,
             "#d8576b"
            ],
            [
             0.6666666666666666,
             "#ed7953"
            ],
            [
             0.7777777777777778,
             "#fb9f3a"
            ],
            [
             0.8888888888888888,
             "#fdca26"
            ],
            [
             1,
             "#f0f921"
            ]
           ]
          },
          "colorway": [
           "#636efa",
           "#EF553B",
           "#00cc96",
           "#ab63fa",
           "#FFA15A",
           "#19d3f3",
           "#FF6692",
           "#B6E880",
           "#FF97FF",
           "#FECB52"
          ],
          "font": {
           "color": "#2a3f5f"
          },
          "geo": {
           "bgcolor": "white",
           "lakecolor": "white",
           "landcolor": "#E5ECF6",
           "showlakes": true,
           "showland": true,
           "subunitcolor": "white"
          },
          "hoverlabel": {
           "align": "left"
          },
          "hovermode": "closest",
          "mapbox": {
           "style": "light"
          },
          "paper_bgcolor": "white",
          "plot_bgcolor": "#E5ECF6",
          "polar": {
           "angularaxis": {
            "gridcolor": "white",
            "linecolor": "white",
            "ticks": ""
           },
           "bgcolor": "#E5ECF6",
           "radialaxis": {
            "gridcolor": "white",
            "linecolor": "white",
            "ticks": ""
           }
          },
          "scene": {
           "xaxis": {
            "backgroundcolor": "#E5ECF6",
            "gridcolor": "white",
            "gridwidth": 2,
            "linecolor": "white",
            "showbackground": true,
            "ticks": "",
            "zerolinecolor": "white"
           },
           "yaxis": {
            "backgroundcolor": "#E5ECF6",
            "gridcolor": "white",
            "gridwidth": 2,
            "linecolor": "white",
            "showbackground": true,
            "ticks": "",
            "zerolinecolor": "white"
           },
           "zaxis": {
            "backgroundcolor": "#E5ECF6",
            "gridcolor": "white",
            "gridwidth": 2,
            "linecolor": "white",
            "showbackground": true,
            "ticks": "",
            "zerolinecolor": "white"
           }
          },
          "shapedefaults": {
           "line": {
            "color": "#2a3f5f"
           }
          },
          "ternary": {
           "aaxis": {
            "gridcolor": "white",
            "linecolor": "white",
            "ticks": ""
           },
           "baxis": {
            "gridcolor": "white",
            "linecolor": "white",
            "ticks": ""
           },
           "bgcolor": "#E5ECF6",
           "caxis": {
            "gridcolor": "white",
            "linecolor": "white",
            "ticks": ""
           }
          },
          "title": {
           "x": 0.05
          },
          "xaxis": {
           "automargin": true,
           "gridcolor": "white",
           "linecolor": "white",
           "ticks": "",
           "title": {
            "standoff": 15
           },
           "zerolinecolor": "white",
           "zerolinewidth": 2
          },
          "yaxis": {
           "automargin": true,
           "gridcolor": "white",
           "linecolor": "white",
           "ticks": "",
           "title": {
            "standoff": 15
           },
           "zerolinecolor": "white",
           "zerolinewidth": 2
          }
         }
        },
        "xaxis": {
         "anchor": "y",
         "domain": [
          0,
          1
         ],
         "title": {
          "text": "x"
         }
        },
        "yaxis": {
         "anchor": "x",
         "domain": [
          0,
          1
         ],
         "title": {
          "text": "y"
         }
        }
       }
      }
     },
     "metadata": {},
     "output_type": "display_data"
    }
   ],
   "source": [
    "tsne_pipeline = Pipeline([('scaler', StandardScaler()), ('tsne', TSNE(n_components=2, verbose=1))])\n",
    "genre_embedding = tsne_pipeline.fit_transform(X)\n",
    "projection = pd.DataFrame(columns=['x', 'y'], data=genre_embedding)\n",
    "projection['genres'] = genre_test['genre_name']\n",
    "projection['cluster'] = genre_test['cluster']\n",
    "\n",
    "fig = px.scatter(\n",
    "    projection, x='x', y='y', color='cluster', hover_data=['x', 'y', 'genres'])\n",
    "fig.show()"
   ]
  },
  {
   "cell_type": "code",
   "execution_count": null,
   "metadata": {},
   "outputs": [],
   "source": []
  }
 ],
 "metadata": {
  "kernelspec": {
   "display_name": "Python 3.11.0 64-bit",
   "language": "python",
   "name": "python3"
  },
  "language_info": {
   "codemirror_mode": {
    "name": "ipython",
    "version": 3
   },
   "file_extension": ".py",
   "mimetype": "text/x-python",
   "name": "python",
   "nbconvert_exporter": "python",
   "pygments_lexer": "ipython3",
   "version": "3.11.0"
  },
  "orig_nbformat": 4,
  "vscode": {
   "interpreter": {
    "hash": "c261aea317cc0286b3b3261fbba9abdec21eaa57589985bb7a274bf54d6cc0a7"
   }
  }
 },
 "nbformat": 4,
 "nbformat_minor": 2
}
